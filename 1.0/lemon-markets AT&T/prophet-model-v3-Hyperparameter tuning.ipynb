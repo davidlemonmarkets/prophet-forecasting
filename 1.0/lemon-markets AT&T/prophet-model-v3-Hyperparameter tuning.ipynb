{
 "cells": [
  {
   "cell_type": "code",
   "execution_count": 1,
   "id": "2968028f",
   "metadata": {},
   "outputs": [
    {
     "name": "stderr",
     "output_type": "stream",
     "text": [
      "18:05:13 - cmdstanpy - INFO - Chain [1] start processing\n",
      "18:05:13 - cmdstanpy - INFO - Chain [1] done processing\n",
      "18:05:13 - cmdstanpy - ERROR - Chain [1] error: error during processing Stale NFS file handle\n",
      "Optimization terminated abnormally. Falling back to Newton.\n",
      "18:05:13 - cmdstanpy - INFO - Chain [1] start processing\n",
      "18:05:13 - cmdstanpy - INFO - Chain [1] done processing\n"
     ]
    },
    {
     "data": {
      "application/vnd.jupyter.widget-view+json": {
       "model_id": "df50d80c25c148069d7abec490514f18",
       "version_major": 2,
       "version_minor": 0
      },
      "text/plain": [
       "  0%|          | 0/4 [00:00<?, ?it/s]"
      ]
     },
     "metadata": {},
     "output_type": "display_data"
    },
    {
     "name": "stderr",
     "output_type": "stream",
     "text": [
      "18:05:13 - cmdstanpy - INFO - Chain [1] start processing\n",
      "18:05:13 - cmdstanpy - INFO - Chain [1] done processing\n",
      "18:05:13 - cmdstanpy - ERROR - Chain [1] error: error during processing Stale NFS file handle\n",
      "Optimization terminated abnormally. Falling back to Newton.\n",
      "18:05:13 - cmdstanpy - INFO - Chain [1] start processing\n",
      "18:05:13 - cmdstanpy - INFO - Chain [1] done processing\n",
      "18:05:14 - cmdstanpy - INFO - Chain [1] start processing\n",
      "18:05:14 - cmdstanpy - INFO - Chain [1] done processing\n",
      "18:05:14 - cmdstanpy - ERROR - Chain [1] error: error during processing Stale NFS file handle\n",
      "Optimization terminated abnormally. Falling back to Newton.\n",
      "18:05:14 - cmdstanpy - INFO - Chain [1] start processing\n",
      "18:05:14 - cmdstanpy - INFO - Chain [1] done processing\n",
      "18:05:15 - cmdstanpy - INFO - Chain [1] start processing\n",
      "18:05:15 - cmdstanpy - INFO - Chain [1] done processing\n",
      "18:05:16 - cmdstanpy - INFO - Chain [1] start processing\n",
      "18:05:16 - cmdstanpy - INFO - Chain [1] done processing\n",
      "18:05:16 - cmdstanpy - ERROR - Chain [1] error: error during processing Stale NFS file handle\n",
      "Optimization terminated abnormally. Falling back to Newton.\n",
      "18:05:16 - cmdstanpy - INFO - Chain [1] start processing\n",
      "18:05:16 - cmdstanpy - INFO - Chain [1] done processing\n",
      "18:05:17 - cmdstanpy - INFO - Chain [1] start processing\n",
      "18:05:17 - cmdstanpy - INFO - Chain [1] done processing\n",
      "18:05:17 - cmdstanpy - ERROR - Chain [1] error: error during processing Stale NFS file handle\n",
      "Optimization terminated abnormally. Falling back to Newton.\n",
      "18:05:17 - cmdstanpy - INFO - Chain [1] start processing\n",
      "18:05:17 - cmdstanpy - INFO - Chain [1] done processing\n"
     ]
    },
    {
     "data": {
      "application/vnd.jupyter.widget-view+json": {
       "model_id": "82e63139ce7f4dbfbc6e3c7f1f5e24fa",
       "version_major": 2,
       "version_minor": 0
      },
      "text/plain": [
       "  0%|          | 0/4 [00:00<?, ?it/s]"
      ]
     },
     "metadata": {},
     "output_type": "display_data"
    },
    {
     "name": "stderr",
     "output_type": "stream",
     "text": [
      "18:05:17 - cmdstanpy - INFO - Chain [1] start processing\n",
      "18:05:17 - cmdstanpy - INFO - Chain [1] done processing\n",
      "18:05:17 - cmdstanpy - ERROR - Chain [1] error: error during processing Stale NFS file handle\n",
      "Optimization terminated abnormally. Falling back to Newton.\n",
      "18:05:17 - cmdstanpy - INFO - Chain [1] start processing\n",
      "18:05:17 - cmdstanpy - INFO - Chain [1] done processing\n",
      "18:05:18 - cmdstanpy - INFO - Chain [1] start processing\n",
      "18:05:18 - cmdstanpy - INFO - Chain [1] done processing\n",
      "18:05:18 - cmdstanpy - ERROR - Chain [1] error: error during processing Stale NFS file handle\n",
      "Optimization terminated abnormally. Falling back to Newton.\n",
      "18:05:18 - cmdstanpy - INFO - Chain [1] start processing\n",
      "18:05:19 - cmdstanpy - INFO - Chain [1] done processing\n",
      "18:05:19 - cmdstanpy - INFO - Chain [1] start processing\n",
      "18:05:19 - cmdstanpy - INFO - Chain [1] done processing\n",
      "18:05:20 - cmdstanpy - INFO - Chain [1] start processing\n",
      "18:05:20 - cmdstanpy - INFO - Chain [1] done processing\n",
      "18:05:20 - cmdstanpy - ERROR - Chain [1] error: error during processing Stale NFS file handle\n",
      "Optimization terminated abnormally. Falling back to Newton.\n",
      "18:05:20 - cmdstanpy - INFO - Chain [1] start processing\n",
      "18:05:20 - cmdstanpy - INFO - Chain [1] done processing\n",
      "18:05:21 - cmdstanpy - INFO - Chain [1] start processing\n",
      "18:05:21 - cmdstanpy - INFO - Chain [1] done processing\n",
      "18:05:21 - cmdstanpy - ERROR - Chain [1] error: error during processing Stale NFS file handle\n",
      "Optimization terminated abnormally. Falling back to Newton.\n",
      "18:05:21 - cmdstanpy - INFO - Chain [1] start processing\n",
      "18:05:21 - cmdstanpy - INFO - Chain [1] done processing\n"
     ]
    },
    {
     "data": {
      "application/vnd.jupyter.widget-view+json": {
       "model_id": "688f55d88f504806819560a6d4074f5a",
       "version_major": 2,
       "version_minor": 0
      },
      "text/plain": [
       "  0%|          | 0/4 [00:00<?, ?it/s]"
      ]
     },
     "metadata": {},
     "output_type": "display_data"
    },
    {
     "name": "stderr",
     "output_type": "stream",
     "text": [
      "18:05:21 - cmdstanpy - INFO - Chain [1] start processing\n",
      "18:05:21 - cmdstanpy - INFO - Chain [1] done processing\n",
      "18:05:21 - cmdstanpy - ERROR - Chain [1] error: error during processing Stale NFS file handle\n",
      "Optimization terminated abnormally. Falling back to Newton.\n",
      "18:05:21 - cmdstanpy - INFO - Chain [1] start processing\n",
      "18:05:21 - cmdstanpy - INFO - Chain [1] done processing\n",
      "18:05:22 - cmdstanpy - INFO - Chain [1] start processing\n",
      "18:05:22 - cmdstanpy - INFO - Chain [1] done processing\n",
      "18:05:22 - cmdstanpy - ERROR - Chain [1] error: error during processing Stale NFS file handle\n",
      "Optimization terminated abnormally. Falling back to Newton.\n",
      "18:05:22 - cmdstanpy - INFO - Chain [1] start processing\n",
      "18:05:22 - cmdstanpy - INFO - Chain [1] done processing\n",
      "18:05:23 - cmdstanpy - INFO - Chain [1] start processing\n",
      "18:05:23 - cmdstanpy - INFO - Chain [1] done processing\n",
      "18:05:24 - cmdstanpy - INFO - Chain [1] start processing\n",
      "18:05:24 - cmdstanpy - INFO - Chain [1] done processing\n",
      "18:05:24 - cmdstanpy - ERROR - Chain [1] error: error during processing Stale NFS file handle\n",
      "Optimization terminated abnormally. Falling back to Newton.\n",
      "18:05:24 - cmdstanpy - INFO - Chain [1] start processing\n",
      "18:05:24 - cmdstanpy - INFO - Chain [1] done processing\n",
      "18:05:25 - cmdstanpy - INFO - Chain [1] start processing\n",
      "18:05:25 - cmdstanpy - INFO - Chain [1] done processing\n",
      "18:05:25 - cmdstanpy - ERROR - Chain [1] error: error during processing Stale NFS file handle\n",
      "Optimization terminated abnormally. Falling back to Newton.\n",
      "18:05:25 - cmdstanpy - INFO - Chain [1] start processing\n",
      "18:05:25 - cmdstanpy - INFO - Chain [1] done processing\n"
     ]
    },
    {
     "data": {
      "application/vnd.jupyter.widget-view+json": {
       "model_id": "861020e0766c4622bd42c7c4c4ccca24",
       "version_major": 2,
       "version_minor": 0
      },
      "text/plain": [
       "  0%|          | 0/4 [00:00<?, ?it/s]"
      ]
     },
     "metadata": {},
     "output_type": "display_data"
    },
    {
     "name": "stderr",
     "output_type": "stream",
     "text": [
      "18:05:25 - cmdstanpy - INFO - Chain [1] start processing\n",
      "18:05:25 - cmdstanpy - INFO - Chain [1] done processing\n",
      "18:05:25 - cmdstanpy - ERROR - Chain [1] error: error during processing Stale NFS file handle\n",
      "Optimization terminated abnormally. Falling back to Newton.\n",
      "18:05:25 - cmdstanpy - INFO - Chain [1] start processing\n",
      "18:05:25 - cmdstanpy - INFO - Chain [1] done processing\n",
      "18:05:26 - cmdstanpy - INFO - Chain [1] start processing\n",
      "18:05:26 - cmdstanpy - INFO - Chain [1] done processing\n",
      "18:05:26 - cmdstanpy - ERROR - Chain [1] error: error during processing Stale NFS file handle\n",
      "Optimization terminated abnormally. Falling back to Newton.\n",
      "18:05:26 - cmdstanpy - INFO - Chain [1] start processing\n",
      "18:05:26 - cmdstanpy - INFO - Chain [1] done processing\n",
      "18:05:27 - cmdstanpy - INFO - Chain [1] start processing\n",
      "18:05:27 - cmdstanpy - INFO - Chain [1] done processing\n",
      "18:05:27 - cmdstanpy - INFO - Chain [1] start processing\n",
      "18:05:27 - cmdstanpy - INFO - Chain [1] done processing\n",
      "18:05:27 - cmdstanpy - ERROR - Chain [1] error: error during processing Stale NFS file handle\n",
      "Optimization terminated abnormally. Falling back to Newton.\n",
      "18:05:27 - cmdstanpy - INFO - Chain [1] start processing\n",
      "18:05:28 - cmdstanpy - INFO - Chain [1] done processing\n",
      "18:05:28 - cmdstanpy - INFO - Chain [1] start processing\n",
      "18:05:28 - cmdstanpy - INFO - Chain [1] done processing\n",
      "18:05:28 - cmdstanpy - ERROR - Chain [1] error: error during processing Stale NFS file handle\n",
      "Optimization terminated abnormally. Falling back to Newton.\n",
      "18:05:28 - cmdstanpy - INFO - Chain [1] start processing\n",
      "18:05:29 - cmdstanpy - INFO - Chain [1] done processing\n"
     ]
    },
    {
     "data": {
      "application/vnd.jupyter.widget-view+json": {
       "model_id": "c296172fd9634a5dbbee0a94958955cc",
       "version_major": 2,
       "version_minor": 0
      },
      "text/plain": [
       "  0%|          | 0/4 [00:00<?, ?it/s]"
      ]
     },
     "metadata": {},
     "output_type": "display_data"
    },
    {
     "name": "stderr",
     "output_type": "stream",
     "text": [
      "18:05:29 - cmdstanpy - INFO - Chain [1] start processing\n",
      "18:05:29 - cmdstanpy - INFO - Chain [1] done processing\n",
      "18:05:29 - cmdstanpy - ERROR - Chain [1] error: error during processing Stale NFS file handle\n",
      "Optimization terminated abnormally. Falling back to Newton.\n",
      "18:05:29 - cmdstanpy - INFO - Chain [1] start processing\n",
      "18:05:29 - cmdstanpy - INFO - Chain [1] done processing\n",
      "18:05:30 - cmdstanpy - INFO - Chain [1] start processing\n",
      "18:05:30 - cmdstanpy - INFO - Chain [1] done processing\n",
      "18:05:30 - cmdstanpy - ERROR - Chain [1] error: error during processing Stale NFS file handle\n",
      "Optimization terminated abnormally. Falling back to Newton.\n",
      "18:05:30 - cmdstanpy - INFO - Chain [1] start processing\n",
      "18:05:30 - cmdstanpy - INFO - Chain [1] done processing\n",
      "18:05:31 - cmdstanpy - INFO - Chain [1] start processing\n",
      "18:05:31 - cmdstanpy - INFO - Chain [1] done processing\n",
      "18:05:31 - cmdstanpy - INFO - Chain [1] start processing\n",
      "18:05:31 - cmdstanpy - INFO - Chain [1] done processing\n",
      "18:05:31 - cmdstanpy - ERROR - Chain [1] error: error during processing Stale NFS file handle\n",
      "Optimization terminated abnormally. Falling back to Newton.\n",
      "18:05:31 - cmdstanpy - INFO - Chain [1] start processing\n",
      "18:05:32 - cmdstanpy - INFO - Chain [1] done processing\n",
      "18:05:32 - cmdstanpy - INFO - Chain [1] start processing\n",
      "18:05:32 - cmdstanpy - INFO - Chain [1] done processing\n",
      "18:05:32 - cmdstanpy - ERROR - Chain [1] error: error during processing Stale NFS file handle\n",
      "Optimization terminated abnormally. Falling back to Newton.\n",
      "18:05:32 - cmdstanpy - INFO - Chain [1] start processing\n",
      "18:05:33 - cmdstanpy - INFO - Chain [1] done processing\n"
     ]
    },
    {
     "data": {
      "application/vnd.jupyter.widget-view+json": {
       "model_id": "4089b0e2284d42299979b911e8f9d22a",
       "version_major": 2,
       "version_minor": 0
      },
      "text/plain": [
       "  0%|          | 0/4 [00:00<?, ?it/s]"
      ]
     },
     "metadata": {},
     "output_type": "display_data"
    },
    {
     "name": "stderr",
     "output_type": "stream",
     "text": [
      "18:05:33 - cmdstanpy - INFO - Chain [1] start processing\n",
      "18:05:33 - cmdstanpy - INFO - Chain [1] done processing\n",
      "18:05:33 - cmdstanpy - ERROR - Chain [1] error: error during processing Stale NFS file handle\n",
      "Optimization terminated abnormally. Falling back to Newton.\n",
      "18:05:33 - cmdstanpy - INFO - Chain [1] start processing\n",
      "18:05:33 - cmdstanpy - INFO - Chain [1] done processing\n",
      "18:05:34 - cmdstanpy - INFO - Chain [1] start processing\n",
      "18:05:34 - cmdstanpy - INFO - Chain [1] done processing\n",
      "18:05:34 - cmdstanpy - ERROR - Chain [1] error: error during processing Stale NFS file handle\n",
      "Optimization terminated abnormally. Falling back to Newton.\n",
      "18:05:34 - cmdstanpy - INFO - Chain [1] start processing\n",
      "18:05:34 - cmdstanpy - INFO - Chain [1] done processing\n",
      "18:05:35 - cmdstanpy - INFO - Chain [1] start processing\n",
      "18:05:35 - cmdstanpy - INFO - Chain [1] done processing\n",
      "18:05:35 - cmdstanpy - INFO - Chain [1] start processing\n",
      "18:05:35 - cmdstanpy - INFO - Chain [1] done processing\n",
      "18:05:35 - cmdstanpy - ERROR - Chain [1] error: error during processing Stale NFS file handle\n",
      "Optimization terminated abnormally. Falling back to Newton.\n",
      "18:05:35 - cmdstanpy - INFO - Chain [1] start processing\n",
      "18:05:36 - cmdstanpy - INFO - Chain [1] done processing\n",
      "18:05:36 - cmdstanpy - INFO - Chain [1] start processing\n",
      "18:05:36 - cmdstanpy - INFO - Chain [1] done processing\n",
      "18:05:36 - cmdstanpy - ERROR - Chain [1] error: error during processing Stale NFS file handle\n",
      "Optimization terminated abnormally. Falling back to Newton.\n",
      "18:05:36 - cmdstanpy - INFO - Chain [1] start processing\n",
      "18:05:37 - cmdstanpy - INFO - Chain [1] done processing\n"
     ]
    },
    {
     "data": {
      "application/vnd.jupyter.widget-view+json": {
       "model_id": "1c9e0c1e6bac42bd96f60c3596275dd8",
       "version_major": 2,
       "version_minor": 0
      },
      "text/plain": [
       "  0%|          | 0/4 [00:00<?, ?it/s]"
      ]
     },
     "metadata": {},
     "output_type": "display_data"
    },
    {
     "name": "stderr",
     "output_type": "stream",
     "text": [
      "18:05:37 - cmdstanpy - INFO - Chain [1] start processing\n",
      "18:05:37 - cmdstanpy - INFO - Chain [1] done processing\n",
      "18:05:37 - cmdstanpy - ERROR - Chain [1] error: error during processing Stale NFS file handle\n",
      "Optimization terminated abnormally. Falling back to Newton.\n",
      "18:05:37 - cmdstanpy - INFO - Chain [1] start processing\n",
      "18:05:37 - cmdstanpy - INFO - Chain [1] done processing\n",
      "18:05:38 - cmdstanpy - INFO - Chain [1] start processing\n",
      "18:05:38 - cmdstanpy - INFO - Chain [1] done processing\n",
      "18:05:38 - cmdstanpy - ERROR - Chain [1] error: error during processing Stale NFS file handle\n",
      "Optimization terminated abnormally. Falling back to Newton.\n",
      "18:05:38 - cmdstanpy - INFO - Chain [1] start processing\n",
      "18:05:38 - cmdstanpy - INFO - Chain [1] done processing\n",
      "18:05:39 - cmdstanpy - INFO - Chain [1] start processing\n",
      "18:05:39 - cmdstanpy - INFO - Chain [1] done processing\n",
      "18:05:40 - cmdstanpy - INFO - Chain [1] start processing\n",
      "18:05:40 - cmdstanpy - INFO - Chain [1] done processing\n",
      "18:05:40 - cmdstanpy - ERROR - Chain [1] error: error during processing Stale NFS file handle\n",
      "Optimization terminated abnormally. Falling back to Newton.\n",
      "18:05:40 - cmdstanpy - INFO - Chain [1] start processing\n",
      "18:05:40 - cmdstanpy - INFO - Chain [1] done processing\n",
      "18:05:41 - cmdstanpy - INFO - Chain [1] start processing\n",
      "18:05:41 - cmdstanpy - INFO - Chain [1] done processing\n",
      "18:05:41 - cmdstanpy - ERROR - Chain [1] error: error during processing Stale NFS file handle\n",
      "Optimization terminated abnormally. Falling back to Newton.\n",
      "18:05:41 - cmdstanpy - INFO - Chain [1] start processing\n",
      "18:05:41 - cmdstanpy - INFO - Chain [1] done processing\n"
     ]
    },
    {
     "data": {
      "application/vnd.jupyter.widget-view+json": {
       "model_id": "384bdba104cd489b84f787790b2dd1e5",
       "version_major": 2,
       "version_minor": 0
      },
      "text/plain": [
       "  0%|          | 0/4 [00:00<?, ?it/s]"
      ]
     },
     "metadata": {},
     "output_type": "display_data"
    },
    {
     "name": "stderr",
     "output_type": "stream",
     "text": [
      "18:05:41 - cmdstanpy - INFO - Chain [1] start processing\n",
      "18:05:41 - cmdstanpy - INFO - Chain [1] done processing\n",
      "18:05:41 - cmdstanpy - ERROR - Chain [1] error: error during processing Stale NFS file handle\n",
      "Optimization terminated abnormally. Falling back to Newton.\n",
      "18:05:41 - cmdstanpy - INFO - Chain [1] start processing\n",
      "18:05:41 - cmdstanpy - INFO - Chain [1] done processing\n",
      "18:05:42 - cmdstanpy - INFO - Chain [1] start processing\n",
      "18:05:42 - cmdstanpy - INFO - Chain [1] done processing\n",
      "18:05:42 - cmdstanpy - ERROR - Chain [1] error: error during processing Stale NFS file handle\n",
      "Optimization terminated abnormally. Falling back to Newton.\n",
      "18:05:42 - cmdstanpy - INFO - Chain [1] start processing\n",
      "18:05:42 - cmdstanpy - INFO - Chain [1] done processing\n",
      "18:05:43 - cmdstanpy - INFO - Chain [1] start processing\n",
      "18:05:43 - cmdstanpy - INFO - Chain [1] done processing\n",
      "18:05:44 - cmdstanpy - INFO - Chain [1] start processing\n",
      "18:05:44 - cmdstanpy - INFO - Chain [1] done processing\n",
      "18:05:44 - cmdstanpy - ERROR - Chain [1] error: error during processing Stale NFS file handle\n",
      "Optimization terminated abnormally. Falling back to Newton.\n",
      "18:05:44 - cmdstanpy - INFO - Chain [1] start processing\n",
      "18:05:44 - cmdstanpy - INFO - Chain [1] done processing\n",
      "18:05:45 - cmdstanpy - INFO - Chain [1] start processing\n",
      "18:05:45 - cmdstanpy - INFO - Chain [1] done processing\n",
      "18:05:45 - cmdstanpy - ERROR - Chain [1] error: error during processing Stale NFS file handle\n",
      "Optimization terminated abnormally. Falling back to Newton.\n",
      "18:05:45 - cmdstanpy - INFO - Chain [1] start processing\n",
      "18:05:45 - cmdstanpy - INFO - Chain [1] done processing\n"
     ]
    },
    {
     "data": {
      "application/vnd.jupyter.widget-view+json": {
       "model_id": "993b1038786c4f5b99f1fc3cfcf77f52",
       "version_major": 2,
       "version_minor": 0
      },
      "text/plain": [
       "  0%|          | 0/4 [00:00<?, ?it/s]"
      ]
     },
     "metadata": {},
     "output_type": "display_data"
    },
    {
     "name": "stderr",
     "output_type": "stream",
     "text": [
      "18:05:45 - cmdstanpy - INFO - Chain [1] start processing\n",
      "18:05:45 - cmdstanpy - INFO - Chain [1] done processing\n",
      "18:05:45 - cmdstanpy - ERROR - Chain [1] error: error during processing Stale NFS file handle\n",
      "Optimization terminated abnormally. Falling back to Newton.\n",
      "18:05:45 - cmdstanpy - INFO - Chain [1] start processing\n",
      "18:05:45 - cmdstanpy - INFO - Chain [1] done processing\n",
      "18:05:46 - cmdstanpy - INFO - Chain [1] start processing\n",
      "18:05:46 - cmdstanpy - INFO - Chain [1] done processing\n",
      "18:05:46 - cmdstanpy - ERROR - Chain [1] error: error during processing Stale NFS file handle\n",
      "Optimization terminated abnormally. Falling back to Newton.\n",
      "18:05:46 - cmdstanpy - INFO - Chain [1] start processing\n",
      "18:05:46 - cmdstanpy - INFO - Chain [1] done processing\n",
      "18:05:47 - cmdstanpy - INFO - Chain [1] start processing\n",
      "18:05:47 - cmdstanpy - INFO - Chain [1] done processing\n",
      "18:05:47 - cmdstanpy - INFO - Chain [1] start processing\n",
      "18:05:47 - cmdstanpy - INFO - Chain [1] done processing\n",
      "18:05:47 - cmdstanpy - ERROR - Chain [1] error: error during processing Stale NFS file handle\n",
      "Optimization terminated abnormally. Falling back to Newton.\n",
      "18:05:47 - cmdstanpy - INFO - Chain [1] start processing\n",
      "18:05:48 - cmdstanpy - INFO - Chain [1] done processing\n",
      "18:05:48 - cmdstanpy - INFO - Chain [1] start processing\n",
      "18:05:48 - cmdstanpy - INFO - Chain [1] done processing\n",
      "18:05:48 - cmdstanpy - ERROR - Chain [1] error: error during processing Stale NFS file handle\n",
      "Optimization terminated abnormally. Falling back to Newton.\n",
      "18:05:48 - cmdstanpy - INFO - Chain [1] start processing\n",
      "18:05:49 - cmdstanpy - INFO - Chain [1] done processing\n"
     ]
    },
    {
     "data": {
      "application/vnd.jupyter.widget-view+json": {
       "model_id": "3df76611d4274c4c82dfdb1a182bfd88",
       "version_major": 2,
       "version_minor": 0
      },
      "text/plain": [
       "  0%|          | 0/4 [00:00<?, ?it/s]"
      ]
     },
     "metadata": {},
     "output_type": "display_data"
    },
    {
     "name": "stderr",
     "output_type": "stream",
     "text": [
      "18:05:49 - cmdstanpy - INFO - Chain [1] start processing\n",
      "18:05:49 - cmdstanpy - INFO - Chain [1] done processing\n",
      "18:05:49 - cmdstanpy - ERROR - Chain [1] error: error during processing Stale NFS file handle\n",
      "Optimization terminated abnormally. Falling back to Newton.\n",
      "18:05:49 - cmdstanpy - INFO - Chain [1] start processing\n",
      "18:05:49 - cmdstanpy - INFO - Chain [1] done processing\n",
      "18:05:50 - cmdstanpy - INFO - Chain [1] start processing\n",
      "18:05:50 - cmdstanpy - INFO - Chain [1] done processing\n",
      "18:05:50 - cmdstanpy - ERROR - Chain [1] error: error during processing Stale NFS file handle\n",
      "Optimization terminated abnormally. Falling back to Newton.\n",
      "18:05:50 - cmdstanpy - INFO - Chain [1] start processing\n",
      "18:05:50 - cmdstanpy - INFO - Chain [1] done processing\n",
      "18:05:51 - cmdstanpy - INFO - Chain [1] start processing\n",
      "18:05:51 - cmdstanpy - INFO - Chain [1] done processing\n",
      "18:05:51 - cmdstanpy - INFO - Chain [1] start processing\n",
      "18:05:51 - cmdstanpy - INFO - Chain [1] done processing\n",
      "18:05:51 - cmdstanpy - ERROR - Chain [1] error: error during processing Stale NFS file handle\n",
      "Optimization terminated abnormally. Falling back to Newton.\n",
      "18:05:51 - cmdstanpy - INFO - Chain [1] start processing\n",
      "18:05:52 - cmdstanpy - INFO - Chain [1] done processing\n",
      "18:05:52 - cmdstanpy - INFO - Chain [1] start processing\n",
      "18:05:52 - cmdstanpy - INFO - Chain [1] done processing\n",
      "18:05:52 - cmdstanpy - ERROR - Chain [1] error: error during processing Stale NFS file handle\n",
      "Optimization terminated abnormally. Falling back to Newton.\n",
      "18:05:52 - cmdstanpy - INFO - Chain [1] start processing\n",
      "18:05:53 - cmdstanpy - INFO - Chain [1] done processing\n"
     ]
    },
    {
     "data": {
      "application/vnd.jupyter.widget-view+json": {
       "model_id": "0b62797b6bb74349a6511acb7a57f6b6",
       "version_major": 2,
       "version_minor": 0
      },
      "text/plain": [
       "  0%|          | 0/4 [00:00<?, ?it/s]"
      ]
     },
     "metadata": {},
     "output_type": "display_data"
    },
    {
     "name": "stderr",
     "output_type": "stream",
     "text": [
      "18:05:53 - cmdstanpy - INFO - Chain [1] start processing\n",
      "18:05:53 - cmdstanpy - INFO - Chain [1] done processing\n",
      "18:05:53 - cmdstanpy - ERROR - Chain [1] error: error during processing Stale NFS file handle\n",
      "Optimization terminated abnormally. Falling back to Newton.\n",
      "18:05:53 - cmdstanpy - INFO - Chain [1] start processing\n",
      "18:05:53 - cmdstanpy - INFO - Chain [1] done processing\n",
      "18:05:54 - cmdstanpy - INFO - Chain [1] start processing\n",
      "18:05:54 - cmdstanpy - INFO - Chain [1] done processing\n",
      "18:05:54 - cmdstanpy - ERROR - Chain [1] error: error during processing Stale NFS file handle\n",
      "Optimization terminated abnormally. Falling back to Newton.\n",
      "18:05:54 - cmdstanpy - INFO - Chain [1] start processing\n",
      "18:05:54 - cmdstanpy - INFO - Chain [1] done processing\n",
      "18:05:54 - cmdstanpy - INFO - Chain [1] start processing\n",
      "18:05:55 - cmdstanpy - INFO - Chain [1] done processing\n",
      "18:05:55 - cmdstanpy - INFO - Chain [1] start processing\n",
      "18:05:55 - cmdstanpy - INFO - Chain [1] done processing\n",
      "18:05:55 - cmdstanpy - ERROR - Chain [1] error: error during processing Stale NFS file handle\n",
      "Optimization terminated abnormally. Falling back to Newton.\n",
      "18:05:55 - cmdstanpy - INFO - Chain [1] start processing\n",
      "18:05:56 - cmdstanpy - INFO - Chain [1] done processing\n",
      "18:05:56 - cmdstanpy - INFO - Chain [1] start processing\n",
      "18:05:56 - cmdstanpy - INFO - Chain [1] done processing\n",
      "18:05:56 - cmdstanpy - ERROR - Chain [1] error: error during processing Stale NFS file handle\n",
      "Optimization terminated abnormally. Falling back to Newton.\n",
      "18:05:56 - cmdstanpy - INFO - Chain [1] start processing\n",
      "18:05:57 - cmdstanpy - INFO - Chain [1] done processing\n"
     ]
    },
    {
     "data": {
      "application/vnd.jupyter.widget-view+json": {
       "model_id": "5e7a03aab1d14875aedd5b67c3a62071",
       "version_major": 2,
       "version_minor": 0
      },
      "text/plain": [
       "  0%|          | 0/4 [00:00<?, ?it/s]"
      ]
     },
     "metadata": {},
     "output_type": "display_data"
    },
    {
     "name": "stderr",
     "output_type": "stream",
     "text": [
      "18:05:57 - cmdstanpy - INFO - Chain [1] start processing\n",
      "18:05:57 - cmdstanpy - INFO - Chain [1] done processing\n",
      "18:05:57 - cmdstanpy - ERROR - Chain [1] error: error during processing Stale NFS file handle\n",
      "Optimization terminated abnormally. Falling back to Newton.\n",
      "18:05:57 - cmdstanpy - INFO - Chain [1] start processing\n",
      "18:05:57 - cmdstanpy - INFO - Chain [1] done processing\n",
      "18:05:57 - cmdstanpy - INFO - Chain [1] start processing\n",
      "18:05:58 - cmdstanpy - INFO - Chain [1] done processing\n",
      "18:05:58 - cmdstanpy - ERROR - Chain [1] error: error during processing Stale NFS file handle\n",
      "Optimization terminated abnormally. Falling back to Newton.\n",
      "18:05:58 - cmdstanpy - INFO - Chain [1] start processing\n",
      "18:05:58 - cmdstanpy - INFO - Chain [1] done processing\n",
      "18:05:58 - cmdstanpy - INFO - Chain [1] start processing\n",
      "18:05:58 - cmdstanpy - INFO - Chain [1] done processing\n",
      "18:05:59 - cmdstanpy - INFO - Chain [1] start processing\n",
      "18:05:59 - cmdstanpy - INFO - Chain [1] done processing\n",
      "18:05:59 - cmdstanpy - ERROR - Chain [1] error: error during processing Stale NFS file handle\n",
      "Optimization terminated abnormally. Falling back to Newton.\n",
      "18:05:59 - cmdstanpy - INFO - Chain [1] start processing\n",
      "18:06:00 - cmdstanpy - INFO - Chain [1] done processing\n",
      "18:06:00 - cmdstanpy - INFO - Chain [1] start processing\n",
      "18:06:00 - cmdstanpy - INFO - Chain [1] done processing\n",
      "18:06:00 - cmdstanpy - ERROR - Chain [1] error: error during processing Stale NFS file handle\n",
      "Optimization terminated abnormally. Falling back to Newton.\n",
      "18:06:00 - cmdstanpy - INFO - Chain [1] start processing\n",
      "18:06:01 - cmdstanpy - INFO - Chain [1] done processing\n"
     ]
    },
    {
     "data": {
      "application/vnd.jupyter.widget-view+json": {
       "model_id": "1fd888838c4b46adbf42837e146aba78",
       "version_major": 2,
       "version_minor": 0
      },
      "text/plain": [
       "  0%|          | 0/4 [00:00<?, ?it/s]"
      ]
     },
     "metadata": {},
     "output_type": "display_data"
    },
    {
     "name": "stderr",
     "output_type": "stream",
     "text": [
      "18:06:01 - cmdstanpy - INFO - Chain [1] start processing\n",
      "18:06:01 - cmdstanpy - INFO - Chain [1] done processing\n",
      "18:06:01 - cmdstanpy - ERROR - Chain [1] error: error during processing Stale NFS file handle\n",
      "Optimization terminated abnormally. Falling back to Newton.\n",
      "18:06:01 - cmdstanpy - INFO - Chain [1] start processing\n",
      "18:06:01 - cmdstanpy - INFO - Chain [1] done processing\n",
      "18:06:02 - cmdstanpy - INFO - Chain [1] start processing\n",
      "18:06:02 - cmdstanpy - INFO - Chain [1] done processing\n",
      "18:06:02 - cmdstanpy - ERROR - Chain [1] error: error during processing Stale NFS file handle\n",
      "Optimization terminated abnormally. Falling back to Newton.\n",
      "18:06:02 - cmdstanpy - INFO - Chain [1] start processing\n",
      "18:06:02 - cmdstanpy - INFO - Chain [1] done processing\n",
      "18:06:03 - cmdstanpy - INFO - Chain [1] start processing\n",
      "18:06:03 - cmdstanpy - INFO - Chain [1] done processing\n",
      "18:06:05 - cmdstanpy - INFO - Chain [1] start processing\n",
      "18:06:05 - cmdstanpy - INFO - Chain [1] done processing\n",
      "18:06:05 - cmdstanpy - ERROR - Chain [1] error: error during processing Stale NFS file handle\n",
      "Optimization terminated abnormally. Falling back to Newton.\n",
      "18:06:05 - cmdstanpy - INFO - Chain [1] start processing\n",
      "18:06:06 - cmdstanpy - INFO - Chain [1] done processing\n",
      "18:06:06 - cmdstanpy - INFO - Chain [1] start processing\n",
      "18:06:06 - cmdstanpy - INFO - Chain [1] done processing\n",
      "18:06:06 - cmdstanpy - ERROR - Chain [1] error: error during processing Stale NFS file handle\n",
      "Optimization terminated abnormally. Falling back to Newton.\n",
      "18:06:07 - cmdstanpy - INFO - Chain [1] start processing\n",
      "18:06:07 - cmdstanpy - INFO - Chain [1] done processing\n"
     ]
    },
    {
     "data": {
      "application/vnd.jupyter.widget-view+json": {
       "model_id": "b3064778c7cb4e308b43238c6f11636e",
       "version_major": 2,
       "version_minor": 0
      },
      "text/plain": [
       "  0%|          | 0/4 [00:00<?, ?it/s]"
      ]
     },
     "metadata": {},
     "output_type": "display_data"
    },
    {
     "name": "stderr",
     "output_type": "stream",
     "text": [
      "18:06:07 - cmdstanpy - INFO - Chain [1] start processing\n",
      "18:06:07 - cmdstanpy - INFO - Chain [1] done processing\n",
      "18:06:07 - cmdstanpy - ERROR - Chain [1] error: error during processing Stale NFS file handle\n",
      "Optimization terminated abnormally. Falling back to Newton.\n",
      "18:06:07 - cmdstanpy - INFO - Chain [1] start processing\n",
      "18:06:07 - cmdstanpy - INFO - Chain [1] done processing\n",
      "18:06:08 - cmdstanpy - INFO - Chain [1] start processing\n",
      "18:06:08 - cmdstanpy - INFO - Chain [1] done processing\n",
      "18:06:08 - cmdstanpy - ERROR - Chain [1] error: error during processing Stale NFS file handle\n",
      "Optimization terminated abnormally. Falling back to Newton.\n",
      "18:06:08 - cmdstanpy - INFO - Chain [1] start processing\n",
      "18:06:08 - cmdstanpy - INFO - Chain [1] done processing\n",
      "18:06:09 - cmdstanpy - INFO - Chain [1] start processing\n",
      "18:06:09 - cmdstanpy - INFO - Chain [1] done processing\n",
      "18:06:10 - cmdstanpy - INFO - Chain [1] start processing\n",
      "18:06:10 - cmdstanpy - INFO - Chain [1] done processing\n",
      "18:06:10 - cmdstanpy - ERROR - Chain [1] error: error during processing Stale NFS file handle\n",
      "Optimization terminated abnormally. Falling back to Newton.\n",
      "18:06:10 - cmdstanpy - INFO - Chain [1] start processing\n",
      "18:06:11 - cmdstanpy - INFO - Chain [1] done processing\n",
      "18:06:12 - cmdstanpy - INFO - Chain [1] start processing\n",
      "18:06:12 - cmdstanpy - INFO - Chain [1] done processing\n",
      "18:06:12 - cmdstanpy - ERROR - Chain [1] error: error during processing Stale NFS file handle\n",
      "Optimization terminated abnormally. Falling back to Newton.\n",
      "18:06:12 - cmdstanpy - INFO - Chain [1] start processing\n",
      "18:06:12 - cmdstanpy - INFO - Chain [1] done processing\n"
     ]
    },
    {
     "data": {
      "application/vnd.jupyter.widget-view+json": {
       "model_id": "21546be5309d4172962d9e6a4ab3309d",
       "version_major": 2,
       "version_minor": 0
      },
      "text/plain": [
       "  0%|          | 0/4 [00:00<?, ?it/s]"
      ]
     },
     "metadata": {},
     "output_type": "display_data"
    },
    {
     "name": "stderr",
     "output_type": "stream",
     "text": [
      "18:06:12 - cmdstanpy - INFO - Chain [1] start processing\n",
      "18:06:12 - cmdstanpy - INFO - Chain [1] done processing\n",
      "18:06:12 - cmdstanpy - ERROR - Chain [1] error: error during processing Stale NFS file handle\n",
      "Optimization terminated abnormally. Falling back to Newton.\n",
      "18:06:12 - cmdstanpy - INFO - Chain [1] start processing\n",
      "18:06:12 - cmdstanpy - INFO - Chain [1] done processing\n",
      "18:06:13 - cmdstanpy - INFO - Chain [1] start processing\n",
      "18:06:13 - cmdstanpy - INFO - Chain [1] done processing\n",
      "18:06:13 - cmdstanpy - ERROR - Chain [1] error: error during processing Stale NFS file handle\n",
      "Optimization terminated abnormally. Falling back to Newton.\n",
      "18:06:13 - cmdstanpy - INFO - Chain [1] start processing\n",
      "18:06:13 - cmdstanpy - INFO - Chain [1] done processing\n",
      "18:06:14 - cmdstanpy - INFO - Chain [1] start processing\n",
      "18:06:14 - cmdstanpy - INFO - Chain [1] done processing\n",
      "18:06:15 - cmdstanpy - INFO - Chain [1] start processing\n",
      "18:06:15 - cmdstanpy - INFO - Chain [1] done processing\n",
      "18:06:15 - cmdstanpy - ERROR - Chain [1] error: error during processing Stale NFS file handle\n",
      "Optimization terminated abnormally. Falling back to Newton.\n",
      "18:06:15 - cmdstanpy - INFO - Chain [1] start processing\n",
      "18:06:15 - cmdstanpy - INFO - Chain [1] done processing\n",
      "18:06:16 - cmdstanpy - INFO - Chain [1] start processing\n",
      "18:06:16 - cmdstanpy - INFO - Chain [1] done processing\n",
      "18:06:16 - cmdstanpy - ERROR - Chain [1] error: error during processing Stale NFS file handle\n",
      "Optimization terminated abnormally. Falling back to Newton.\n",
      "18:06:16 - cmdstanpy - INFO - Chain [1] start processing\n",
      "18:06:16 - cmdstanpy - INFO - Chain [1] done processing\n"
     ]
    },
    {
     "data": {
      "application/vnd.jupyter.widget-view+json": {
       "model_id": "ea26a6a8081449328a62b37f28842a6e",
       "version_major": 2,
       "version_minor": 0
      },
      "text/plain": [
       "  0%|          | 0/4 [00:00<?, ?it/s]"
      ]
     },
     "metadata": {},
     "output_type": "display_data"
    },
    {
     "name": "stderr",
     "output_type": "stream",
     "text": [
      "18:06:16 - cmdstanpy - INFO - Chain [1] start processing\n",
      "18:06:17 - cmdstanpy - INFO - Chain [1] done processing\n",
      "18:06:17 - cmdstanpy - ERROR - Chain [1] error: error during processing Stale NFS file handle\n",
      "Optimization terminated abnormally. Falling back to Newton.\n",
      "18:06:17 - cmdstanpy - INFO - Chain [1] start processing\n",
      "18:06:17 - cmdstanpy - INFO - Chain [1] done processing\n",
      "18:06:17 - cmdstanpy - INFO - Chain [1] start processing\n",
      "18:06:17 - cmdstanpy - INFO - Chain [1] done processing\n",
      "18:06:17 - cmdstanpy - ERROR - Chain [1] error: error during processing Stale NFS file handle\n",
      "Optimization terminated abnormally. Falling back to Newton.\n",
      "18:06:18 - cmdstanpy - INFO - Chain [1] start processing\n",
      "18:06:18 - cmdstanpy - INFO - Chain [1] done processing\n",
      "18:06:18 - cmdstanpy - INFO - Chain [1] start processing\n",
      "18:06:18 - cmdstanpy - INFO - Chain [1] done processing\n",
      "18:06:19 - cmdstanpy - INFO - Chain [1] start processing\n",
      "18:06:19 - cmdstanpy - INFO - Chain [1] done processing\n",
      "18:06:19 - cmdstanpy - ERROR - Chain [1] error: error during processing Stale NFS file handle\n",
      "Optimization terminated abnormally. Falling back to Newton.\n",
      "18:06:19 - cmdstanpy - INFO - Chain [1] start processing\n",
      "18:06:20 - cmdstanpy - INFO - Chain [1] done processing\n",
      "18:06:21 - cmdstanpy - INFO - Chain [1] start processing\n",
      "18:06:21 - cmdstanpy - INFO - Chain [1] done processing\n"
     ]
    },
    {
     "data": {
      "application/vnd.jupyter.widget-view+json": {
       "model_id": "b73d33d48c87491391405a6bd4f2f5a4",
       "version_major": 2,
       "version_minor": 0
      },
      "text/plain": [
       "  0%|          | 0/4 [00:00<?, ?it/s]"
      ]
     },
     "metadata": {},
     "output_type": "display_data"
    },
    {
     "name": "stderr",
     "output_type": "stream",
     "text": [
      "18:06:21 - cmdstanpy - INFO - Chain [1] start processing\n",
      "18:06:21 - cmdstanpy - INFO - Chain [1] done processing\n",
      "18:06:21 - cmdstanpy - INFO - Chain [1] start processing\n",
      "18:06:21 - cmdstanpy - INFO - Chain [1] done processing\n",
      "18:06:22 - cmdstanpy - INFO - Chain [1] start processing\n",
      "18:06:22 - cmdstanpy - INFO - Chain [1] done processing\n",
      "18:06:23 - cmdstanpy - INFO - Chain [1] start processing\n",
      "18:06:23 - cmdstanpy - INFO - Chain [1] done processing\n",
      "18:06:23 - cmdstanpy - INFO - Chain [1] start processing\n",
      "18:06:24 - cmdstanpy - INFO - Chain [1] done processing\n"
     ]
    },
    {
     "data": {
      "application/vnd.jupyter.widget-view+json": {
       "model_id": "416f77368585466cb1f26320c59a2a97",
       "version_major": 2,
       "version_minor": 0
      },
      "text/plain": [
       "  0%|          | 0/4 [00:00<?, ?it/s]"
      ]
     },
     "metadata": {},
     "output_type": "display_data"
    },
    {
     "name": "stderr",
     "output_type": "stream",
     "text": [
      "18:06:24 - cmdstanpy - INFO - Chain [1] start processing\n",
      "18:06:24 - cmdstanpy - INFO - Chain [1] done processing\n",
      "18:06:24 - cmdstanpy - INFO - Chain [1] start processing\n",
      "18:06:24 - cmdstanpy - INFO - Chain [1] done processing\n",
      "18:06:25 - cmdstanpy - INFO - Chain [1] start processing\n",
      "18:06:25 - cmdstanpy - INFO - Chain [1] done processing\n",
      "18:06:26 - cmdstanpy - INFO - Chain [1] start processing\n",
      "18:06:26 - cmdstanpy - INFO - Chain [1] done processing\n",
      "18:06:26 - cmdstanpy - INFO - Chain [1] start processing\n",
      "18:06:26 - cmdstanpy - INFO - Chain [1] done processing\n"
     ]
    },
    {
     "data": {
      "application/vnd.jupyter.widget-view+json": {
       "model_id": "7212ec0479d743c6b07f94c82b10350e",
       "version_major": 2,
       "version_minor": 0
      },
      "text/plain": [
       "  0%|          | 0/4 [00:00<?, ?it/s]"
      ]
     },
     "metadata": {},
     "output_type": "display_data"
    },
    {
     "name": "stderr",
     "output_type": "stream",
     "text": [
      "18:06:26 - cmdstanpy - INFO - Chain [1] start processing\n",
      "18:06:26 - cmdstanpy - INFO - Chain [1] done processing\n",
      "18:06:27 - cmdstanpy - INFO - Chain [1] start processing\n",
      "18:06:27 - cmdstanpy - INFO - Chain [1] done processing\n",
      "18:06:28 - cmdstanpy - INFO - Chain [1] start processing\n",
      "18:06:28 - cmdstanpy - INFO - Chain [1] done processing\n",
      "18:06:29 - cmdstanpy - INFO - Chain [1] start processing\n",
      "18:06:29 - cmdstanpy - INFO - Chain [1] done processing\n",
      "18:06:29 - cmdstanpy - INFO - Chain [1] start processing\n",
      "18:06:29 - cmdstanpy - INFO - Chain [1] done processing\n"
     ]
    },
    {
     "data": {
      "application/vnd.jupyter.widget-view+json": {
       "model_id": "237e92dc95a845f5bcedf5da9ebb51d8",
       "version_major": 2,
       "version_minor": 0
      },
      "text/plain": [
       "  0%|          | 0/4 [00:00<?, ?it/s]"
      ]
     },
     "metadata": {},
     "output_type": "display_data"
    },
    {
     "name": "stderr",
     "output_type": "stream",
     "text": [
      "18:06:29 - cmdstanpy - INFO - Chain [1] start processing\n",
      "18:06:29 - cmdstanpy - INFO - Chain [1] done processing\n",
      "18:06:30 - cmdstanpy - INFO - Chain [1] start processing\n",
      "18:06:30 - cmdstanpy - INFO - Chain [1] done processing\n",
      "18:06:31 - cmdstanpy - INFO - Chain [1] start processing\n",
      "18:06:31 - cmdstanpy - INFO - Chain [1] done processing\n",
      "18:06:31 - cmdstanpy - INFO - Chain [1] start processing\n",
      "18:06:31 - cmdstanpy - INFO - Chain [1] done processing\n",
      "18:06:32 - cmdstanpy - INFO - Chain [1] start processing\n",
      "18:06:32 - cmdstanpy - INFO - Chain [1] done processing\n"
     ]
    },
    {
     "data": {
      "application/vnd.jupyter.widget-view+json": {
       "model_id": "6771294c926648cbacd9e1f39a81dc3b",
       "version_major": 2,
       "version_minor": 0
      },
      "text/plain": [
       "  0%|          | 0/4 [00:00<?, ?it/s]"
      ]
     },
     "metadata": {},
     "output_type": "display_data"
    },
    {
     "name": "stderr",
     "output_type": "stream",
     "text": [
      "18:06:32 - cmdstanpy - INFO - Chain [1] start processing\n",
      "18:06:32 - cmdstanpy - INFO - Chain [1] done processing\n",
      "18:06:33 - cmdstanpy - INFO - Chain [1] start processing\n",
      "18:06:33 - cmdstanpy - INFO - Chain [1] done processing\n",
      "18:06:34 - cmdstanpy - INFO - Chain [1] start processing\n",
      "18:06:34 - cmdstanpy - INFO - Chain [1] done processing\n",
      "18:06:34 - cmdstanpy - INFO - Chain [1] start processing\n",
      "18:06:34 - cmdstanpy - INFO - Chain [1] done processing\n",
      "18:06:35 - cmdstanpy - INFO - Chain [1] start processing\n",
      "18:06:35 - cmdstanpy - INFO - Chain [1] done processing\n"
     ]
    },
    {
     "data": {
      "application/vnd.jupyter.widget-view+json": {
       "model_id": "282604b803bf4e63be9a7573a64df1ed",
       "version_major": 2,
       "version_minor": 0
      },
      "text/plain": [
       "  0%|          | 0/4 [00:00<?, ?it/s]"
      ]
     },
     "metadata": {},
     "output_type": "display_data"
    },
    {
     "name": "stderr",
     "output_type": "stream",
     "text": [
      "18:06:35 - cmdstanpy - INFO - Chain [1] start processing\n",
      "18:06:35 - cmdstanpy - INFO - Chain [1] done processing\n",
      "18:06:36 - cmdstanpy - INFO - Chain [1] start processing\n",
      "18:06:36 - cmdstanpy - INFO - Chain [1] done processing\n",
      "18:06:36 - cmdstanpy - INFO - Chain [1] start processing\n",
      "18:06:36 - cmdstanpy - INFO - Chain [1] done processing\n",
      "18:06:37 - cmdstanpy - INFO - Chain [1] start processing\n",
      "18:06:37 - cmdstanpy - INFO - Chain [1] done processing\n",
      "18:06:38 - cmdstanpy - INFO - Chain [1] start processing\n",
      "18:06:38 - cmdstanpy - INFO - Chain [1] done processing\n"
     ]
    },
    {
     "data": {
      "application/vnd.jupyter.widget-view+json": {
       "model_id": "bbf7599ffd174200be60be3d5243a7b9",
       "version_major": 2,
       "version_minor": 0
      },
      "text/plain": [
       "  0%|          | 0/4 [00:00<?, ?it/s]"
      ]
     },
     "metadata": {},
     "output_type": "display_data"
    },
    {
     "name": "stderr",
     "output_type": "stream",
     "text": [
      "18:06:38 - cmdstanpy - INFO - Chain [1] start processing\n",
      "18:06:38 - cmdstanpy - INFO - Chain [1] done processing\n",
      "18:06:38 - cmdstanpy - INFO - Chain [1] start processing\n",
      "18:06:39 - cmdstanpy - INFO - Chain [1] done processing\n",
      "18:06:39 - cmdstanpy - INFO - Chain [1] start processing\n",
      "18:06:39 - cmdstanpy - INFO - Chain [1] done processing\n",
      "18:06:40 - cmdstanpy - INFO - Chain [1] start processing\n",
      "18:06:40 - cmdstanpy - INFO - Chain [1] done processing\n",
      "18:06:41 - cmdstanpy - INFO - Chain [1] start processing\n",
      "18:06:41 - cmdstanpy - INFO - Chain [1] done processing\n"
     ]
    },
    {
     "data": {
      "application/vnd.jupyter.widget-view+json": {
       "model_id": "8877fb3cb38c433eaeb685f2fb54339e",
       "version_major": 2,
       "version_minor": 0
      },
      "text/plain": [
       "  0%|          | 0/4 [00:00<?, ?it/s]"
      ]
     },
     "metadata": {},
     "output_type": "display_data"
    },
    {
     "name": "stderr",
     "output_type": "stream",
     "text": [
      "18:06:41 - cmdstanpy - INFO - Chain [1] start processing\n",
      "18:06:41 - cmdstanpy - INFO - Chain [1] done processing\n",
      "18:06:41 - cmdstanpy - INFO - Chain [1] start processing\n",
      "18:06:41 - cmdstanpy - INFO - Chain [1] done processing\n",
      "18:06:42 - cmdstanpy - INFO - Chain [1] start processing\n",
      "18:06:42 - cmdstanpy - INFO - Chain [1] done processing\n",
      "18:06:43 - cmdstanpy - INFO - Chain [1] start processing\n",
      "18:06:43 - cmdstanpy - INFO - Chain [1] done processing\n",
      "18:06:43 - cmdstanpy - INFO - Chain [1] start processing\n",
      "18:06:44 - cmdstanpy - INFO - Chain [1] done processing\n"
     ]
    },
    {
     "data": {
      "application/vnd.jupyter.widget-view+json": {
       "model_id": "0264baaa87654401b10bb9e0704dd287",
       "version_major": 2,
       "version_minor": 0
      },
      "text/plain": [
       "  0%|          | 0/4 [00:00<?, ?it/s]"
      ]
     },
     "metadata": {},
     "output_type": "display_data"
    },
    {
     "name": "stderr",
     "output_type": "stream",
     "text": [
      "18:06:44 - cmdstanpy - INFO - Chain [1] start processing\n",
      "18:06:44 - cmdstanpy - INFO - Chain [1] done processing\n",
      "18:06:44 - cmdstanpy - INFO - Chain [1] start processing\n",
      "18:06:44 - cmdstanpy - INFO - Chain [1] done processing\n",
      "18:06:45 - cmdstanpy - INFO - Chain [1] start processing\n",
      "18:06:45 - cmdstanpy - INFO - Chain [1] done processing\n",
      "18:06:46 - cmdstanpy - INFO - Chain [1] start processing\n",
      "18:06:46 - cmdstanpy - INFO - Chain [1] done processing\n",
      "18:06:46 - cmdstanpy - INFO - Chain [1] start processing\n",
      "18:06:46 - cmdstanpy - INFO - Chain [1] done processing\n"
     ]
    },
    {
     "data": {
      "application/vnd.jupyter.widget-view+json": {
       "model_id": "d7fa8790a98640d485e19e71a863a814",
       "version_major": 2,
       "version_minor": 0
      },
      "text/plain": [
       "  0%|          | 0/4 [00:00<?, ?it/s]"
      ]
     },
     "metadata": {},
     "output_type": "display_data"
    },
    {
     "name": "stderr",
     "output_type": "stream",
     "text": [
      "18:06:46 - cmdstanpy - INFO - Chain [1] start processing\n",
      "18:06:46 - cmdstanpy - INFO - Chain [1] done processing\n",
      "18:06:47 - cmdstanpy - INFO - Chain [1] start processing\n",
      "18:06:47 - cmdstanpy - INFO - Chain [1] done processing\n",
      "18:06:48 - cmdstanpy - INFO - Chain [1] start processing\n",
      "18:06:48 - cmdstanpy - INFO - Chain [1] done processing\n",
      "18:06:48 - cmdstanpy - INFO - Chain [1] start processing\n",
      "18:06:48 - cmdstanpy - INFO - Chain [1] done processing\n",
      "18:06:49 - cmdstanpy - INFO - Chain [1] start processing\n",
      "18:06:49 - cmdstanpy - INFO - Chain [1] done processing\n"
     ]
    },
    {
     "data": {
      "application/vnd.jupyter.widget-view+json": {
       "model_id": "7a71651f5bbc464a92ba7228b0249f0b",
       "version_major": 2,
       "version_minor": 0
      },
      "text/plain": [
       "  0%|          | 0/4 [00:00<?, ?it/s]"
      ]
     },
     "metadata": {},
     "output_type": "display_data"
    },
    {
     "name": "stderr",
     "output_type": "stream",
     "text": [
      "18:06:49 - cmdstanpy - INFO - Chain [1] start processing\n",
      "18:06:49 - cmdstanpy - INFO - Chain [1] done processing\n",
      "18:06:50 - cmdstanpy - INFO - Chain [1] start processing\n",
      "18:06:50 - cmdstanpy - INFO - Chain [1] done processing\n",
      "18:06:51 - cmdstanpy - INFO - Chain [1] start processing\n",
      "18:06:51 - cmdstanpy - INFO - Chain [1] done processing\n",
      "18:06:51 - cmdstanpy - INFO - Chain [1] start processing\n",
      "18:06:51 - cmdstanpy - INFO - Chain [1] done processing\n",
      "18:06:52 - cmdstanpy - INFO - Chain [1] start processing\n",
      "18:06:52 - cmdstanpy - INFO - Chain [1] done processing\n"
     ]
    },
    {
     "data": {
      "application/vnd.jupyter.widget-view+json": {
       "model_id": "5deef8d14e914a95b7fe9f7f1998608a",
       "version_major": 2,
       "version_minor": 0
      },
      "text/plain": [
       "  0%|          | 0/4 [00:00<?, ?it/s]"
      ]
     },
     "metadata": {},
     "output_type": "display_data"
    },
    {
     "name": "stderr",
     "output_type": "stream",
     "text": [
      "18:06:52 - cmdstanpy - INFO - Chain [1] start processing\n",
      "18:06:52 - cmdstanpy - INFO - Chain [1] done processing\n",
      "18:06:53 - cmdstanpy - INFO - Chain [1] start processing\n",
      "18:06:53 - cmdstanpy - INFO - Chain [1] done processing\n",
      "18:06:53 - cmdstanpy - INFO - Chain [1] start processing\n",
      "18:06:53 - cmdstanpy - INFO - Chain [1] done processing\n",
      "18:06:54 - cmdstanpy - INFO - Chain [1] start processing\n",
      "18:06:54 - cmdstanpy - INFO - Chain [1] done processing\n",
      "18:06:55 - cmdstanpy - INFO - Chain [1] start processing\n",
      "18:06:55 - cmdstanpy - INFO - Chain [1] done processing\n"
     ]
    },
    {
     "data": {
      "application/vnd.jupyter.widget-view+json": {
       "model_id": "b97c028de5644a758b7f35a66c419c11",
       "version_major": 2,
       "version_minor": 0
      },
      "text/plain": [
       "  0%|          | 0/4 [00:00<?, ?it/s]"
      ]
     },
     "metadata": {},
     "output_type": "display_data"
    },
    {
     "name": "stderr",
     "output_type": "stream",
     "text": [
      "18:06:55 - cmdstanpy - INFO - Chain [1] start processing\n",
      "18:06:55 - cmdstanpy - INFO - Chain [1] done processing\n",
      "18:06:56 - cmdstanpy - INFO - Chain [1] start processing\n",
      "18:06:56 - cmdstanpy - INFO - Chain [1] done processing\n",
      "18:06:56 - cmdstanpy - INFO - Chain [1] start processing\n",
      "18:06:56 - cmdstanpy - INFO - Chain [1] done processing\n",
      "18:06:57 - cmdstanpy - INFO - Chain [1] start processing\n",
      "18:06:57 - cmdstanpy - INFO - Chain [1] done processing\n",
      "18:06:58 - cmdstanpy - INFO - Chain [1] start processing\n",
      "18:06:58 - cmdstanpy - INFO - Chain [1] done processing\n"
     ]
    },
    {
     "data": {
      "application/vnd.jupyter.widget-view+json": {
       "model_id": "a40d089e77f642349a627541b41a32ae",
       "version_major": 2,
       "version_minor": 0
      },
      "text/plain": [
       "  0%|          | 0/4 [00:00<?, ?it/s]"
      ]
     },
     "metadata": {},
     "output_type": "display_data"
    },
    {
     "name": "stderr",
     "output_type": "stream",
     "text": [
      "18:06:58 - cmdstanpy - INFO - Chain [1] start processing\n",
      "18:06:58 - cmdstanpy - INFO - Chain [1] done processing\n",
      "18:06:59 - cmdstanpy - INFO - Chain [1] start processing\n",
      "18:06:59 - cmdstanpy - INFO - Chain [1] done processing\n",
      "18:07:00 - cmdstanpy - INFO - Chain [1] start processing\n",
      "18:07:00 - cmdstanpy - INFO - Chain [1] done processing\n",
      "18:07:00 - cmdstanpy - INFO - Chain [1] start processing\n",
      "18:07:00 - cmdstanpy - INFO - Chain [1] done processing\n",
      "18:07:01 - cmdstanpy - INFO - Chain [1] start processing\n",
      "18:07:01 - cmdstanpy - INFO - Chain [1] done processing\n"
     ]
    },
    {
     "data": {
      "application/vnd.jupyter.widget-view+json": {
       "model_id": "f17cfc0256d44e22aec7bdadddd4bef3",
       "version_major": 2,
       "version_minor": 0
      },
      "text/plain": [
       "  0%|          | 0/4 [00:00<?, ?it/s]"
      ]
     },
     "metadata": {},
     "output_type": "display_data"
    },
    {
     "name": "stderr",
     "output_type": "stream",
     "text": [
      "18:07:01 - cmdstanpy - INFO - Chain [1] start processing\n",
      "18:07:01 - cmdstanpy - INFO - Chain [1] done processing\n",
      "18:07:02 - cmdstanpy - INFO - Chain [1] start processing\n",
      "18:07:02 - cmdstanpy - INFO - Chain [1] done processing\n",
      "18:07:02 - cmdstanpy - INFO - Chain [1] start processing\n",
      "18:07:02 - cmdstanpy - INFO - Chain [1] done processing\n",
      "18:07:03 - cmdstanpy - INFO - Chain [1] start processing\n",
      "18:07:03 - cmdstanpy - INFO - Chain [1] done processing\n",
      "18:07:04 - cmdstanpy - INFO - Chain [1] start processing\n",
      "18:07:04 - cmdstanpy - INFO - Chain [1] done processing\n"
     ]
    },
    {
     "data": {
      "application/vnd.jupyter.widget-view+json": {
       "model_id": "8102291c22734be2ab35f1b769c752f9",
       "version_major": 2,
       "version_minor": 0
      },
      "text/plain": [
       "  0%|          | 0/4 [00:00<?, ?it/s]"
      ]
     },
     "metadata": {},
     "output_type": "display_data"
    },
    {
     "name": "stderr",
     "output_type": "stream",
     "text": [
      "18:07:04 - cmdstanpy - INFO - Chain [1] start processing\n",
      "18:07:04 - cmdstanpy - INFO - Chain [1] done processing\n",
      "18:07:05 - cmdstanpy - INFO - Chain [1] start processing\n",
      "18:07:05 - cmdstanpy - INFO - Chain [1] done processing\n",
      "18:07:06 - cmdstanpy - INFO - Chain [1] start processing\n",
      "18:07:06 - cmdstanpy - INFO - Chain [1] done processing\n",
      "18:07:06 - cmdstanpy - INFO - Chain [1] start processing\n",
      "18:07:06 - cmdstanpy - INFO - Chain [1] done processing\n",
      "18:07:07 - cmdstanpy - INFO - Chain [1] start processing\n",
      "18:07:07 - cmdstanpy - INFO - Chain [1] done processing\n"
     ]
    },
    {
     "data": {
      "application/vnd.jupyter.widget-view+json": {
       "model_id": "bf9ce303ea384470807f5c41160a8925",
       "version_major": 2,
       "version_minor": 0
      },
      "text/plain": [
       "  0%|          | 0/4 [00:00<?, ?it/s]"
      ]
     },
     "metadata": {},
     "output_type": "display_data"
    },
    {
     "name": "stderr",
     "output_type": "stream",
     "text": [
      "18:07:07 - cmdstanpy - INFO - Chain [1] start processing\n",
      "18:07:07 - cmdstanpy - INFO - Chain [1] done processing\n",
      "18:07:08 - cmdstanpy - INFO - Chain [1] start processing\n",
      "18:07:08 - cmdstanpy - INFO - Chain [1] done processing\n",
      "18:07:08 - cmdstanpy - INFO - Chain [1] start processing\n",
      "18:07:08 - cmdstanpy - INFO - Chain [1] done processing\n",
      "18:07:09 - cmdstanpy - INFO - Chain [1] start processing\n",
      "18:07:09 - cmdstanpy - INFO - Chain [1] done processing\n",
      "18:07:11 - cmdstanpy - INFO - Chain [1] start processing\n",
      "18:07:11 - cmdstanpy - INFO - Chain [1] done processing\n"
     ]
    },
    {
     "data": {
      "application/vnd.jupyter.widget-view+json": {
       "model_id": "32b2f32903d143a18c362e9fe41b9e4f",
       "version_major": 2,
       "version_minor": 0
      },
      "text/plain": [
       "  0%|          | 0/4 [00:00<?, ?it/s]"
      ]
     },
     "metadata": {},
     "output_type": "display_data"
    },
    {
     "name": "stderr",
     "output_type": "stream",
     "text": [
      "18:07:11 - cmdstanpy - INFO - Chain [1] start processing\n",
      "18:07:11 - cmdstanpy - INFO - Chain [1] done processing\n",
      "18:07:12 - cmdstanpy - INFO - Chain [1] start processing\n",
      "18:07:12 - cmdstanpy - INFO - Chain [1] done processing\n",
      "18:07:12 - cmdstanpy - INFO - Chain [1] start processing\n",
      "18:07:12 - cmdstanpy - INFO - Chain [1] done processing\n",
      "18:07:13 - cmdstanpy - INFO - Chain [1] start processing\n",
      "18:07:13 - cmdstanpy - INFO - Chain [1] done processing\n",
      "18:07:14 - cmdstanpy - INFO - Chain [1] start processing\n",
      "18:07:14 - cmdstanpy - INFO - Chain [1] done processing\n"
     ]
    },
    {
     "data": {
      "application/vnd.jupyter.widget-view+json": {
       "model_id": "7a5f3dede5134ce58b319905327af650",
       "version_major": 2,
       "version_minor": 0
      },
      "text/plain": [
       "  0%|          | 0/4 [00:00<?, ?it/s]"
      ]
     },
     "metadata": {},
     "output_type": "display_data"
    },
    {
     "name": "stderr",
     "output_type": "stream",
     "text": [
      "18:07:14 - cmdstanpy - INFO - Chain [1] start processing\n",
      "18:07:14 - cmdstanpy - INFO - Chain [1] done processing\n",
      "18:07:15 - cmdstanpy - INFO - Chain [1] start processing\n",
      "18:07:15 - cmdstanpy - INFO - Chain [1] done processing\n",
      "18:07:16 - cmdstanpy - INFO - Chain [1] start processing\n",
      "18:07:16 - cmdstanpy - INFO - Chain [1] done processing\n",
      "18:07:17 - cmdstanpy - INFO - Chain [1] start processing\n",
      "18:07:17 - cmdstanpy - INFO - Chain [1] done processing\n",
      "18:07:18 - cmdstanpy - INFO - Chain [1] start processing\n",
      "18:07:18 - cmdstanpy - INFO - Chain [1] done processing\n"
     ]
    },
    {
     "data": {
      "application/vnd.jupyter.widget-view+json": {
       "model_id": "6a6227cd829547eab2922ab7fd3c96da",
       "version_major": 2,
       "version_minor": 0
      },
      "text/plain": [
       "  0%|          | 0/4 [00:00<?, ?it/s]"
      ]
     },
     "metadata": {},
     "output_type": "display_data"
    },
    {
     "name": "stderr",
     "output_type": "stream",
     "text": [
      "18:07:18 - cmdstanpy - INFO - Chain [1] start processing\n",
      "18:07:18 - cmdstanpy - INFO - Chain [1] done processing\n",
      "18:07:19 - cmdstanpy - INFO - Chain [1] start processing\n",
      "18:07:19 - cmdstanpy - INFO - Chain [1] done processing\n",
      "18:07:19 - cmdstanpy - INFO - Chain [1] start processing\n",
      "18:07:19 - cmdstanpy - INFO - Chain [1] done processing\n",
      "18:07:20 - cmdstanpy - INFO - Chain [1] start processing\n",
      "18:07:20 - cmdstanpy - INFO - Chain [1] done processing\n",
      "18:07:21 - cmdstanpy - INFO - Chain [1] start processing\n",
      "18:07:21 - cmdstanpy - INFO - Chain [1] done processing\n"
     ]
    },
    {
     "data": {
      "application/vnd.jupyter.widget-view+json": {
       "model_id": "14490da6ff0c4ecea7683be392711c70",
       "version_major": 2,
       "version_minor": 0
      },
      "text/plain": [
       "  0%|          | 0/4 [00:00<?, ?it/s]"
      ]
     },
     "metadata": {},
     "output_type": "display_data"
    },
    {
     "name": "stderr",
     "output_type": "stream",
     "text": [
      "18:07:21 - cmdstanpy - INFO - Chain [1] start processing\n",
      "18:07:21 - cmdstanpy - INFO - Chain [1] done processing\n",
      "18:07:22 - cmdstanpy - INFO - Chain [1] start processing\n",
      "18:07:22 - cmdstanpy - INFO - Chain [1] done processing\n",
      "18:07:22 - cmdstanpy - INFO - Chain [1] start processing\n",
      "18:07:22 - cmdstanpy - INFO - Chain [1] done processing\n",
      "18:07:23 - cmdstanpy - INFO - Chain [1] start processing\n",
      "18:07:23 - cmdstanpy - INFO - Chain [1] done processing\n",
      "18:07:24 - cmdstanpy - INFO - Chain [1] start processing\n",
      "18:07:24 - cmdstanpy - INFO - Chain [1] done processing\n"
     ]
    },
    {
     "data": {
      "application/vnd.jupyter.widget-view+json": {
       "model_id": "020062131cc74501a8ad47f4559b2d87",
       "version_major": 2,
       "version_minor": 0
      },
      "text/plain": [
       "  0%|          | 0/4 [00:00<?, ?it/s]"
      ]
     },
     "metadata": {},
     "output_type": "display_data"
    },
    {
     "name": "stderr",
     "output_type": "stream",
     "text": [
      "18:07:24 - cmdstanpy - INFO - Chain [1] start processing\n",
      "18:07:24 - cmdstanpy - INFO - Chain [1] done processing\n",
      "18:07:24 - cmdstanpy - INFO - Chain [1] start processing\n",
      "18:07:24 - cmdstanpy - INFO - Chain [1] done processing\n",
      "18:07:25 - cmdstanpy - INFO - Chain [1] start processing\n",
      "18:07:25 - cmdstanpy - INFO - Chain [1] done processing\n",
      "18:07:26 - cmdstanpy - INFO - Chain [1] start processing\n",
      "18:07:26 - cmdstanpy - INFO - Chain [1] done processing\n",
      "18:07:26 - cmdstanpy - INFO - Chain [1] start processing\n",
      "18:07:26 - cmdstanpy - INFO - Chain [1] done processing\n"
     ]
    },
    {
     "data": {
      "application/vnd.jupyter.widget-view+json": {
       "model_id": "fe36c75d82984756bef6b0d4daf63965",
       "version_major": 2,
       "version_minor": 0
      },
      "text/plain": [
       "  0%|          | 0/4 [00:00<?, ?it/s]"
      ]
     },
     "metadata": {},
     "output_type": "display_data"
    },
    {
     "name": "stderr",
     "output_type": "stream",
     "text": [
      "18:07:27 - cmdstanpy - INFO - Chain [1] start processing\n",
      "18:07:27 - cmdstanpy - INFO - Chain [1] done processing\n",
      "18:07:27 - cmdstanpy - INFO - Chain [1] start processing\n",
      "18:07:27 - cmdstanpy - INFO - Chain [1] done processing\n",
      "18:07:28 - cmdstanpy - INFO - Chain [1] start processing\n",
      "18:07:28 - cmdstanpy - INFO - Chain [1] done processing\n",
      "18:07:29 - cmdstanpy - INFO - Chain [1] start processing\n",
      "18:07:29 - cmdstanpy - INFO - Chain [1] done processing\n",
      "18:07:29 - cmdstanpy - INFO - Chain [1] start processing\n",
      "18:07:29 - cmdstanpy - INFO - Chain [1] done processing\n"
     ]
    },
    {
     "data": {
      "application/vnd.jupyter.widget-view+json": {
       "model_id": "4c83f0c4137145308fee9f746af2ca9c",
       "version_major": 2,
       "version_minor": 0
      },
      "text/plain": [
       "  0%|          | 0/4 [00:00<?, ?it/s]"
      ]
     },
     "metadata": {},
     "output_type": "display_data"
    },
    {
     "name": "stderr",
     "output_type": "stream",
     "text": [
      "18:07:29 - cmdstanpy - INFO - Chain [1] start processing\n",
      "18:07:29 - cmdstanpy - INFO - Chain [1] done processing\n",
      "18:07:30 - cmdstanpy - INFO - Chain [1] start processing\n",
      "18:07:30 - cmdstanpy - INFO - Chain [1] done processing\n",
      "18:07:31 - cmdstanpy - INFO - Chain [1] start processing\n",
      "18:07:31 - cmdstanpy - INFO - Chain [1] done processing\n",
      "18:07:31 - cmdstanpy - INFO - Chain [1] start processing\n",
      "18:07:31 - cmdstanpy - INFO - Chain [1] done processing\n",
      "18:07:32 - cmdstanpy - INFO - Chain [1] start processing\n",
      "18:07:32 - cmdstanpy - INFO - Chain [1] done processing\n"
     ]
    },
    {
     "data": {
      "application/vnd.jupyter.widget-view+json": {
       "model_id": "447a7e9e4c514d45b1bdde2e47959c29",
       "version_major": 2,
       "version_minor": 0
      },
      "text/plain": [
       "  0%|          | 0/4 [00:00<?, ?it/s]"
      ]
     },
     "metadata": {},
     "output_type": "display_data"
    },
    {
     "name": "stderr",
     "output_type": "stream",
     "text": [
      "18:07:32 - cmdstanpy - INFO - Chain [1] start processing\n",
      "18:07:32 - cmdstanpy - INFO - Chain [1] done processing\n",
      "18:07:33 - cmdstanpy - INFO - Chain [1] start processing\n",
      "18:07:33 - cmdstanpy - INFO - Chain [1] done processing\n",
      "18:07:34 - cmdstanpy - INFO - Chain [1] start processing\n",
      "18:07:34 - cmdstanpy - INFO - Chain [1] done processing\n",
      "18:07:34 - cmdstanpy - INFO - Chain [1] start processing\n",
      "18:07:34 - cmdstanpy - INFO - Chain [1] done processing\n",
      "18:07:35 - cmdstanpy - INFO - Chain [1] start processing\n",
      "18:07:35 - cmdstanpy - INFO - Chain [1] done processing\n"
     ]
    },
    {
     "data": {
      "application/vnd.jupyter.widget-view+json": {
       "model_id": "b1803502612743699f51be1dd565c735",
       "version_major": 2,
       "version_minor": 0
      },
      "text/plain": [
       "  0%|          | 0/4 [00:00<?, ?it/s]"
      ]
     },
     "metadata": {},
     "output_type": "display_data"
    },
    {
     "name": "stderr",
     "output_type": "stream",
     "text": [
      "18:07:35 - cmdstanpy - INFO - Chain [1] start processing\n",
      "18:07:35 - cmdstanpy - INFO - Chain [1] done processing\n",
      "18:07:36 - cmdstanpy - INFO - Chain [1] start processing\n",
      "18:07:36 - cmdstanpy - INFO - Chain [1] done processing\n",
      "18:07:37 - cmdstanpy - INFO - Chain [1] start processing\n",
      "18:07:37 - cmdstanpy - INFO - Chain [1] done processing\n",
      "18:07:37 - cmdstanpy - INFO - Chain [1] start processing\n",
      "18:07:37 - cmdstanpy - INFO - Chain [1] done processing\n",
      "18:07:38 - cmdstanpy - INFO - Chain [1] start processing\n",
      "18:07:38 - cmdstanpy - INFO - Chain [1] done processing\n"
     ]
    },
    {
     "data": {
      "application/vnd.jupyter.widget-view+json": {
       "model_id": "bf97b7caa1994c3c9115511831d15c4e",
       "version_major": 2,
       "version_minor": 0
      },
      "text/plain": [
       "  0%|          | 0/4 [00:00<?, ?it/s]"
      ]
     },
     "metadata": {},
     "output_type": "display_data"
    },
    {
     "name": "stderr",
     "output_type": "stream",
     "text": [
      "18:07:38 - cmdstanpy - INFO - Chain [1] start processing\n",
      "18:07:38 - cmdstanpy - INFO - Chain [1] done processing\n",
      "18:07:39 - cmdstanpy - INFO - Chain [1] start processing\n",
      "18:07:39 - cmdstanpy - INFO - Chain [1] done processing\n",
      "18:07:39 - cmdstanpy - INFO - Chain [1] start processing\n",
      "18:07:39 - cmdstanpy - INFO - Chain [1] done processing\n",
      "18:07:40 - cmdstanpy - INFO - Chain [1] start processing\n",
      "18:07:40 - cmdstanpy - INFO - Chain [1] done processing\n",
      "18:07:41 - cmdstanpy - INFO - Chain [1] start processing\n",
      "18:07:41 - cmdstanpy - INFO - Chain [1] done processing\n"
     ]
    },
    {
     "data": {
      "application/vnd.jupyter.widget-view+json": {
       "model_id": "056394a3dfb84d049aba2670ee78e5eb",
       "version_major": 2,
       "version_minor": 0
      },
      "text/plain": [
       "  0%|          | 0/4 [00:00<?, ?it/s]"
      ]
     },
     "metadata": {},
     "output_type": "display_data"
    },
    {
     "name": "stderr",
     "output_type": "stream",
     "text": [
      "18:07:41 - cmdstanpy - INFO - Chain [1] start processing\n",
      "18:07:41 - cmdstanpy - INFO - Chain [1] done processing\n",
      "18:07:42 - cmdstanpy - INFO - Chain [1] start processing\n",
      "18:07:42 - cmdstanpy - INFO - Chain [1] done processing\n",
      "18:07:42 - cmdstanpy - INFO - Chain [1] start processing\n",
      "18:07:42 - cmdstanpy - INFO - Chain [1] done processing\n",
      "18:07:43 - cmdstanpy - INFO - Chain [1] start processing\n",
      "18:07:43 - cmdstanpy - INFO - Chain [1] done processing\n",
      "18:07:44 - cmdstanpy - INFO - Chain [1] start processing\n",
      "18:07:44 - cmdstanpy - INFO - Chain [1] done processing\n"
     ]
    },
    {
     "data": {
      "application/vnd.jupyter.widget-view+json": {
       "model_id": "7b152a7c16374fa680434b7b8184a38c",
       "version_major": 2,
       "version_minor": 0
      },
      "text/plain": [
       "  0%|          | 0/4 [00:00<?, ?it/s]"
      ]
     },
     "metadata": {},
     "output_type": "display_data"
    },
    {
     "name": "stderr",
     "output_type": "stream",
     "text": [
      "18:07:44 - cmdstanpy - INFO - Chain [1] start processing\n",
      "18:07:44 - cmdstanpy - INFO - Chain [1] done processing\n",
      "18:07:44 - cmdstanpy - INFO - Chain [1] start processing\n",
      "18:07:45 - cmdstanpy - INFO - Chain [1] done processing\n",
      "18:07:45 - cmdstanpy - INFO - Chain [1] start processing\n",
      "18:07:45 - cmdstanpy - INFO - Chain [1] done processing\n",
      "18:07:46 - cmdstanpy - INFO - Chain [1] start processing\n",
      "18:07:46 - cmdstanpy - INFO - Chain [1] done processing\n",
      "18:07:47 - cmdstanpy - INFO - Chain [1] start processing\n",
      "18:07:47 - cmdstanpy - INFO - Chain [1] done processing\n"
     ]
    },
    {
     "data": {
      "application/vnd.jupyter.widget-view+json": {
       "model_id": "b244c51bc9b346dcba9d137ed0a29a62",
       "version_major": 2,
       "version_minor": 0
      },
      "text/plain": [
       "  0%|          | 0/4 [00:00<?, ?it/s]"
      ]
     },
     "metadata": {},
     "output_type": "display_data"
    },
    {
     "name": "stderr",
     "output_type": "stream",
     "text": [
      "18:07:47 - cmdstanpy - INFO - Chain [1] start processing\n",
      "18:07:47 - cmdstanpy - INFO - Chain [1] done processing\n",
      "18:07:47 - cmdstanpy - INFO - Chain [1] start processing\n",
      "18:07:47 - cmdstanpy - INFO - Chain [1] done processing\n",
      "18:07:49 - cmdstanpy - INFO - Chain [1] start processing\n",
      "18:07:49 - cmdstanpy - INFO - Chain [1] done processing\n",
      "18:07:49 - cmdstanpy - INFO - Chain [1] start processing\n",
      "18:07:49 - cmdstanpy - INFO - Chain [1] done processing\n",
      "18:07:50 - cmdstanpy - INFO - Chain [1] start processing\n",
      "18:07:50 - cmdstanpy - INFO - Chain [1] done processing\n"
     ]
    },
    {
     "data": {
      "application/vnd.jupyter.widget-view+json": {
       "model_id": "9dba5a7a8791479898688f6487e68a7b",
       "version_major": 2,
       "version_minor": 0
      },
      "text/plain": [
       "  0%|          | 0/4 [00:00<?, ?it/s]"
      ]
     },
     "metadata": {},
     "output_type": "display_data"
    },
    {
     "name": "stderr",
     "output_type": "stream",
     "text": [
      "18:07:50 - cmdstanpy - INFO - Chain [1] start processing\n",
      "18:07:50 - cmdstanpy - INFO - Chain [1] done processing\n",
      "18:07:51 - cmdstanpy - INFO - Chain [1] start processing\n",
      "18:07:51 - cmdstanpy - INFO - Chain [1] done processing\n",
      "18:07:52 - cmdstanpy - INFO - Chain [1] start processing\n",
      "18:07:52 - cmdstanpy - INFO - Chain [1] done processing\n",
      "18:07:52 - cmdstanpy - INFO - Chain [1] start processing\n",
      "18:07:52 - cmdstanpy - INFO - Chain [1] done processing\n",
      "18:07:53 - cmdstanpy - INFO - Chain [1] start processing\n",
      "18:07:53 - cmdstanpy - INFO - Chain [1] done processing\n"
     ]
    },
    {
     "data": {
      "application/vnd.jupyter.widget-view+json": {
       "model_id": "df656a20111b402f8de6c83a7596fd98",
       "version_major": 2,
       "version_minor": 0
      },
      "text/plain": [
       "  0%|          | 0/4 [00:00<?, ?it/s]"
      ]
     },
     "metadata": {},
     "output_type": "display_data"
    },
    {
     "name": "stderr",
     "output_type": "stream",
     "text": [
      "18:07:53 - cmdstanpy - INFO - Chain [1] start processing\n",
      "18:07:53 - cmdstanpy - INFO - Chain [1] done processing\n",
      "18:07:54 - cmdstanpy - INFO - Chain [1] start processing\n",
      "18:07:54 - cmdstanpy - INFO - Chain [1] done processing\n",
      "18:07:54 - cmdstanpy - INFO - Chain [1] start processing\n",
      "18:07:54 - cmdstanpy - INFO - Chain [1] done processing\n",
      "18:07:55 - cmdstanpy - INFO - Chain [1] start processing\n",
      "18:07:55 - cmdstanpy - INFO - Chain [1] done processing\n",
      "18:07:56 - cmdstanpy - INFO - Chain [1] start processing\n",
      "18:07:56 - cmdstanpy - INFO - Chain [1] done processing\n"
     ]
    },
    {
     "data": {
      "application/vnd.jupyter.widget-view+json": {
       "model_id": "20c3904d1e1843e88942ca1675347fb7",
       "version_major": 2,
       "version_minor": 0
      },
      "text/plain": [
       "  0%|          | 0/4 [00:00<?, ?it/s]"
      ]
     },
     "metadata": {},
     "output_type": "display_data"
    },
    {
     "name": "stderr",
     "output_type": "stream",
     "text": [
      "18:07:56 - cmdstanpy - INFO - Chain [1] start processing\n",
      "18:07:56 - cmdstanpy - INFO - Chain [1] done processing\n",
      "18:07:57 - cmdstanpy - INFO - Chain [1] start processing\n",
      "18:07:57 - cmdstanpy - INFO - Chain [1] done processing\n",
      "18:07:57 - cmdstanpy - INFO - Chain [1] start processing\n",
      "18:07:57 - cmdstanpy - INFO - Chain [1] done processing\n",
      "18:07:58 - cmdstanpy - INFO - Chain [1] start processing\n",
      "18:07:58 - cmdstanpy - INFO - Chain [1] done processing\n",
      "18:07:59 - cmdstanpy - INFO - Chain [1] start processing\n",
      "18:07:59 - cmdstanpy - INFO - Chain [1] done processing\n"
     ]
    },
    {
     "data": {
      "application/vnd.jupyter.widget-view+json": {
       "model_id": "3bd01667a9de4c38bb4992750764ab16",
       "version_major": 2,
       "version_minor": 0
      },
      "text/plain": [
       "  0%|          | 0/4 [00:00<?, ?it/s]"
      ]
     },
     "metadata": {},
     "output_type": "display_data"
    },
    {
     "name": "stderr",
     "output_type": "stream",
     "text": [
      "18:07:59 - cmdstanpy - INFO - Chain [1] start processing\n",
      "18:07:59 - cmdstanpy - INFO - Chain [1] done processing\n",
      "18:08:00 - cmdstanpy - INFO - Chain [1] start processing\n",
      "18:08:00 - cmdstanpy - INFO - Chain [1] done processing\n",
      "18:08:00 - cmdstanpy - INFO - Chain [1] start processing\n",
      "18:08:00 - cmdstanpy - INFO - Chain [1] done processing\n",
      "18:08:01 - cmdstanpy - INFO - Chain [1] start processing\n",
      "18:08:01 - cmdstanpy - INFO - Chain [1] done processing\n",
      "18:08:02 - cmdstanpy - INFO - Chain [1] start processing\n",
      "18:08:02 - cmdstanpy - INFO - Chain [1] done processing\n"
     ]
    },
    {
     "data": {
      "application/vnd.jupyter.widget-view+json": {
       "model_id": "b1b9f5ee96f642f09f2b21fd887d7315",
       "version_major": 2,
       "version_minor": 0
      },
      "text/plain": [
       "  0%|          | 0/4 [00:00<?, ?it/s]"
      ]
     },
     "metadata": {},
     "output_type": "display_data"
    },
    {
     "name": "stderr",
     "output_type": "stream",
     "text": [
      "18:08:02 - cmdstanpy - INFO - Chain [1] start processing\n",
      "18:08:02 - cmdstanpy - INFO - Chain [1] done processing\n",
      "18:08:03 - cmdstanpy - INFO - Chain [1] start processing\n",
      "18:08:03 - cmdstanpy - INFO - Chain [1] done processing\n",
      "18:08:03 - cmdstanpy - INFO - Chain [1] start processing\n",
      "18:08:04 - cmdstanpy - INFO - Chain [1] done processing\n",
      "18:08:04 - cmdstanpy - INFO - Chain [1] start processing\n",
      "18:08:04 - cmdstanpy - INFO - Chain [1] done processing\n",
      "18:08:05 - cmdstanpy - INFO - Chain [1] start processing\n",
      "18:08:05 - cmdstanpy - INFO - Chain [1] done processing\n"
     ]
    },
    {
     "data": {
      "application/vnd.jupyter.widget-view+json": {
       "model_id": "157612144cd9475b9d2c7e9f523c0ee2",
       "version_major": 2,
       "version_minor": 0
      },
      "text/plain": [
       "  0%|          | 0/4 [00:00<?, ?it/s]"
      ]
     },
     "metadata": {},
     "output_type": "display_data"
    },
    {
     "name": "stderr",
     "output_type": "stream",
     "text": [
      "18:08:05 - cmdstanpy - INFO - Chain [1] start processing\n",
      "18:08:05 - cmdstanpy - INFO - Chain [1] done processing\n",
      "18:08:06 - cmdstanpy - INFO - Chain [1] start processing\n",
      "18:08:06 - cmdstanpy - INFO - Chain [1] done processing\n",
      "18:08:06 - cmdstanpy - INFO - Chain [1] start processing\n",
      "18:08:07 - cmdstanpy - INFO - Chain [1] done processing\n",
      "18:08:07 - cmdstanpy - INFO - Chain [1] start processing\n",
      "18:08:07 - cmdstanpy - INFO - Chain [1] done processing\n",
      "18:08:08 - cmdstanpy - INFO - Chain [1] start processing\n",
      "18:08:08 - cmdstanpy - INFO - Chain [1] done processing\n"
     ]
    },
    {
     "data": {
      "application/vnd.jupyter.widget-view+json": {
       "model_id": "a698cdb5abcd4277b91b5c8d455316a5",
       "version_major": 2,
       "version_minor": 0
      },
      "text/plain": [
       "  0%|          | 0/4 [00:00<?, ?it/s]"
      ]
     },
     "metadata": {},
     "output_type": "display_data"
    },
    {
     "name": "stderr",
     "output_type": "stream",
     "text": [
      "18:08:08 - cmdstanpy - INFO - Chain [1] start processing\n",
      "18:08:08 - cmdstanpy - INFO - Chain [1] done processing\n",
      "18:08:09 - cmdstanpy - INFO - Chain [1] start processing\n",
      "18:08:09 - cmdstanpy - INFO - Chain [1] done processing\n",
      "18:08:10 - cmdstanpy - INFO - Chain [1] start processing\n",
      "18:08:10 - cmdstanpy - INFO - Chain [1] done processing\n",
      "18:08:10 - cmdstanpy - INFO - Chain [1] start processing\n",
      "18:08:10 - cmdstanpy - INFO - Chain [1] done processing\n",
      "18:08:11 - cmdstanpy - INFO - Chain [1] start processing\n",
      "18:08:11 - cmdstanpy - INFO - Chain [1] done processing\n"
     ]
    },
    {
     "data": {
      "application/vnd.jupyter.widget-view+json": {
       "model_id": "2605339a47bd48df8e5a48ab1bcde459",
       "version_major": 2,
       "version_minor": 0
      },
      "text/plain": [
       "  0%|          | 0/4 [00:00<?, ?it/s]"
      ]
     },
     "metadata": {},
     "output_type": "display_data"
    },
    {
     "name": "stderr",
     "output_type": "stream",
     "text": [
      "18:08:11 - cmdstanpy - INFO - Chain [1] start processing\n",
      "18:08:11 - cmdstanpy - INFO - Chain [1] done processing\n",
      "18:08:12 - cmdstanpy - INFO - Chain [1] start processing\n",
      "18:08:12 - cmdstanpy - INFO - Chain [1] done processing\n",
      "18:08:13 - cmdstanpy - INFO - Chain [1] start processing\n",
      "18:08:13 - cmdstanpy - INFO - Chain [1] done processing\n",
      "18:08:13 - cmdstanpy - INFO - Chain [1] start processing\n",
      "18:08:13 - cmdstanpy - INFO - Chain [1] done processing\n",
      "18:08:14 - cmdstanpy - INFO - Chain [1] start processing\n",
      "18:08:14 - cmdstanpy - INFO - Chain [1] done processing\n"
     ]
    },
    {
     "data": {
      "application/vnd.jupyter.widget-view+json": {
       "model_id": "5c8a48a66ffd407ebfdd4fb2d6570567",
       "version_major": 2,
       "version_minor": 0
      },
      "text/plain": [
       "  0%|          | 0/4 [00:00<?, ?it/s]"
      ]
     },
     "metadata": {},
     "output_type": "display_data"
    },
    {
     "name": "stderr",
     "output_type": "stream",
     "text": [
      "18:08:14 - cmdstanpy - INFO - Chain [1] start processing\n",
      "18:08:14 - cmdstanpy - INFO - Chain [1] done processing\n",
      "18:08:15 - cmdstanpy - INFO - Chain [1] start processing\n",
      "18:08:15 - cmdstanpy - INFO - Chain [1] done processing\n",
      "18:08:15 - cmdstanpy - INFO - Chain [1] start processing\n",
      "18:08:16 - cmdstanpy - INFO - Chain [1] done processing\n",
      "18:08:16 - cmdstanpy - INFO - Chain [1] start processing\n",
      "18:08:16 - cmdstanpy - INFO - Chain [1] done processing\n",
      "18:08:17 - cmdstanpy - INFO - Chain [1] start processing\n",
      "18:08:17 - cmdstanpy - INFO - Chain [1] done processing\n"
     ]
    },
    {
     "data": {
      "application/vnd.jupyter.widget-view+json": {
       "model_id": "e0c1211933674906b18110870283c156",
       "version_major": 2,
       "version_minor": 0
      },
      "text/plain": [
       "  0%|          | 0/4 [00:00<?, ?it/s]"
      ]
     },
     "metadata": {},
     "output_type": "display_data"
    },
    {
     "name": "stderr",
     "output_type": "stream",
     "text": [
      "18:08:17 - cmdstanpy - INFO - Chain [1] start processing\n",
      "18:08:17 - cmdstanpy - INFO - Chain [1] done processing\n",
      "18:08:18 - cmdstanpy - INFO - Chain [1] start processing\n",
      "18:08:18 - cmdstanpy - INFO - Chain [1] done processing\n",
      "18:08:19 - cmdstanpy - INFO - Chain [1] start processing\n",
      "18:08:19 - cmdstanpy - INFO - Chain [1] done processing\n",
      "18:08:19 - cmdstanpy - INFO - Chain [1] start processing\n",
      "18:08:19 - cmdstanpy - INFO - Chain [1] done processing\n",
      "18:08:20 - cmdstanpy - INFO - Chain [1] start processing\n",
      "18:08:20 - cmdstanpy - INFO - Chain [1] done processing\n"
     ]
    },
    {
     "data": {
      "application/vnd.jupyter.widget-view+json": {
       "model_id": "87bd1b23038341cfb43a20fcecd52a2a",
       "version_major": 2,
       "version_minor": 0
      },
      "text/plain": [
       "  0%|          | 0/4 [00:00<?, ?it/s]"
      ]
     },
     "metadata": {},
     "output_type": "display_data"
    },
    {
     "name": "stderr",
     "output_type": "stream",
     "text": [
      "18:08:20 - cmdstanpy - INFO - Chain [1] start processing\n",
      "18:08:20 - cmdstanpy - INFO - Chain [1] done processing\n",
      "18:08:21 - cmdstanpy - INFO - Chain [1] start processing\n",
      "18:08:21 - cmdstanpy - INFO - Chain [1] done processing\n",
      "18:08:22 - cmdstanpy - INFO - Chain [1] start processing\n",
      "18:08:22 - cmdstanpy - INFO - Chain [1] done processing\n",
      "18:08:23 - cmdstanpy - INFO - Chain [1] start processing\n",
      "18:08:23 - cmdstanpy - INFO - Chain [1] done processing\n",
      "18:08:24 - cmdstanpy - INFO - Chain [1] start processing\n",
      "18:08:24 - cmdstanpy - INFO - Chain [1] done processing\n"
     ]
    },
    {
     "data": {
      "application/vnd.jupyter.widget-view+json": {
       "model_id": "b7a4acf6e73044378f868679a9f5cc49",
       "version_major": 2,
       "version_minor": 0
      },
      "text/plain": [
       "  0%|          | 0/4 [00:00<?, ?it/s]"
      ]
     },
     "metadata": {},
     "output_type": "display_data"
    },
    {
     "name": "stderr",
     "output_type": "stream",
     "text": [
      "18:08:24 - cmdstanpy - INFO - Chain [1] start processing\n",
      "18:08:24 - cmdstanpy - INFO - Chain [1] done processing\n",
      "18:08:24 - cmdstanpy - INFO - Chain [1] start processing\n",
      "18:08:25 - cmdstanpy - INFO - Chain [1] done processing\n",
      "18:08:25 - cmdstanpy - INFO - Chain [1] start processing\n",
      "18:08:25 - cmdstanpy - INFO - Chain [1] done processing\n",
      "18:08:26 - cmdstanpy - INFO - Chain [1] start processing\n",
      "18:08:26 - cmdstanpy - INFO - Chain [1] done processing\n",
      "18:08:27 - cmdstanpy - INFO - Chain [1] start processing\n",
      "18:08:27 - cmdstanpy - INFO - Chain [1] done processing\n"
     ]
    },
    {
     "data": {
      "application/vnd.jupyter.widget-view+json": {
       "model_id": "eb768af1e3844cf0a10df7e2049e11b4",
       "version_major": 2,
       "version_minor": 0
      },
      "text/plain": [
       "  0%|          | 0/4 [00:00<?, ?it/s]"
      ]
     },
     "metadata": {},
     "output_type": "display_data"
    },
    {
     "name": "stderr",
     "output_type": "stream",
     "text": [
      "18:08:27 - cmdstanpy - INFO - Chain [1] start processing\n",
      "18:08:27 - cmdstanpy - INFO - Chain [1] done processing\n",
      "18:08:27 - cmdstanpy - INFO - Chain [1] start processing\n",
      "18:08:28 - cmdstanpy - INFO - Chain [1] done processing\n",
      "18:08:28 - cmdstanpy - INFO - Chain [1] start processing\n",
      "18:08:28 - cmdstanpy - INFO - Chain [1] done processing\n",
      "18:08:29 - cmdstanpy - INFO - Chain [1] start processing\n",
      "18:08:29 - cmdstanpy - INFO - Chain [1] done processing\n",
      "18:08:30 - cmdstanpy - INFO - Chain [1] start processing\n",
      "18:08:30 - cmdstanpy - INFO - Chain [1] done processing\n"
     ]
    },
    {
     "data": {
      "application/vnd.jupyter.widget-view+json": {
       "model_id": "9ca1b82ea4c940ab8e394f3765804d04",
       "version_major": 2,
       "version_minor": 0
      },
      "text/plain": [
       "  0%|          | 0/4 [00:00<?, ?it/s]"
      ]
     },
     "metadata": {},
     "output_type": "display_data"
    },
    {
     "name": "stderr",
     "output_type": "stream",
     "text": [
      "18:08:30 - cmdstanpy - INFO - Chain [1] start processing\n",
      "18:08:30 - cmdstanpy - INFO - Chain [1] done processing\n",
      "18:08:30 - cmdstanpy - INFO - Chain [1] start processing\n",
      "18:08:31 - cmdstanpy - INFO - Chain [1] done processing\n",
      "18:08:31 - cmdstanpy - INFO - Chain [1] start processing\n",
      "18:08:31 - cmdstanpy - INFO - Chain [1] done processing\n",
      "18:08:32 - cmdstanpy - INFO - Chain [1] start processing\n",
      "18:08:32 - cmdstanpy - INFO - Chain [1] done processing\n",
      "18:08:33 - cmdstanpy - INFO - Chain [1] start processing\n",
      "18:08:33 - cmdstanpy - INFO - Chain [1] done processing\n"
     ]
    },
    {
     "data": {
      "application/vnd.jupyter.widget-view+json": {
       "model_id": "77eec81414b747e59db3abd0d8c9df4a",
       "version_major": 2,
       "version_minor": 0
      },
      "text/plain": [
       "  0%|          | 0/4 [00:00<?, ?it/s]"
      ]
     },
     "metadata": {},
     "output_type": "display_data"
    },
    {
     "name": "stderr",
     "output_type": "stream",
     "text": [
      "18:08:33 - cmdstanpy - INFO - Chain [1] start processing\n",
      "18:08:33 - cmdstanpy - INFO - Chain [1] done processing\n",
      "18:08:33 - cmdstanpy - INFO - Chain [1] start processing\n",
      "18:08:34 - cmdstanpy - INFO - Chain [1] done processing\n",
      "18:08:34 - cmdstanpy - INFO - Chain [1] start processing\n",
      "18:08:34 - cmdstanpy - INFO - Chain [1] done processing\n",
      "18:08:35 - cmdstanpy - INFO - Chain [1] start processing\n",
      "18:08:35 - cmdstanpy - INFO - Chain [1] done processing\n",
      "18:08:36 - cmdstanpy - INFO - Chain [1] start processing\n",
      "18:08:36 - cmdstanpy - INFO - Chain [1] done processing\n"
     ]
    },
    {
     "data": {
      "application/vnd.jupyter.widget-view+json": {
       "model_id": "90577e6bc4634e74ad3c4523d9cd6d56",
       "version_major": 2,
       "version_minor": 0
      },
      "text/plain": [
       "  0%|          | 0/4 [00:00<?, ?it/s]"
      ]
     },
     "metadata": {},
     "output_type": "display_data"
    },
    {
     "name": "stderr",
     "output_type": "stream",
     "text": [
      "18:08:36 - cmdstanpy - INFO - Chain [1] start processing\n",
      "18:08:36 - cmdstanpy - INFO - Chain [1] done processing\n",
      "18:08:37 - cmdstanpy - INFO - Chain [1] start processing\n",
      "18:08:37 - cmdstanpy - INFO - Chain [1] done processing\n",
      "18:08:37 - cmdstanpy - INFO - Chain [1] start processing\n",
      "18:08:37 - cmdstanpy - INFO - Chain [1] done processing\n",
      "18:08:38 - cmdstanpy - INFO - Chain [1] start processing\n",
      "18:08:38 - cmdstanpy - INFO - Chain [1] done processing\n",
      "18:08:39 - cmdstanpy - INFO - Chain [1] start processing\n",
      "18:08:39 - cmdstanpy - INFO - Chain [1] done processing\n"
     ]
    },
    {
     "data": {
      "application/vnd.jupyter.widget-view+json": {
       "model_id": "26dbccf2555b48629e843080268e394b",
       "version_major": 2,
       "version_minor": 0
      },
      "text/plain": [
       "  0%|          | 0/4 [00:00<?, ?it/s]"
      ]
     },
     "metadata": {},
     "output_type": "display_data"
    },
    {
     "name": "stderr",
     "output_type": "stream",
     "text": [
      "18:08:39 - cmdstanpy - INFO - Chain [1] start processing\n",
      "18:08:39 - cmdstanpy - INFO - Chain [1] done processing\n",
      "18:08:40 - cmdstanpy - INFO - Chain [1] start processing\n",
      "18:08:40 - cmdstanpy - INFO - Chain [1] done processing\n",
      "18:08:40 - cmdstanpy - INFO - Chain [1] start processing\n",
      "18:08:40 - cmdstanpy - INFO - Chain [1] done processing\n",
      "18:08:41 - cmdstanpy - INFO - Chain [1] start processing\n",
      "18:08:41 - cmdstanpy - INFO - Chain [1] done processing\n",
      "18:08:42 - cmdstanpy - INFO - Chain [1] start processing\n",
      "18:08:42 - cmdstanpy - INFO - Chain [1] done processing\n"
     ]
    },
    {
     "data": {
      "application/vnd.jupyter.widget-view+json": {
       "model_id": "0532772ed97f4ea4a0bea3b04afe4849",
       "version_major": 2,
       "version_minor": 0
      },
      "text/plain": [
       "  0%|          | 0/4 [00:00<?, ?it/s]"
      ]
     },
     "metadata": {},
     "output_type": "display_data"
    },
    {
     "name": "stderr",
     "output_type": "stream",
     "text": [
      "18:08:42 - cmdstanpy - INFO - Chain [1] start processing\n",
      "18:08:42 - cmdstanpy - INFO - Chain [1] done processing\n",
      "18:08:43 - cmdstanpy - INFO - Chain [1] start processing\n",
      "18:08:43 - cmdstanpy - INFO - Chain [1] done processing\n",
      "18:08:43 - cmdstanpy - INFO - Chain [1] start processing\n",
      "18:08:43 - cmdstanpy - INFO - Chain [1] done processing\n",
      "18:08:44 - cmdstanpy - INFO - Chain [1] start processing\n",
      "18:08:44 - cmdstanpy - INFO - Chain [1] done processing\n"
     ]
    },
    {
     "name": "stdout",
     "output_type": "stream",
     "text": [
      "    changepoint_prior_scale  seasonality_prior_scale  holidays_prior_scale  \\\n",
      "0                     0.001                     0.01                  0.01   \n",
      "1                     0.001                     0.01                  0.10   \n",
      "2                     0.001                     0.01                  1.00   \n",
      "3                     0.001                     0.01                 10.00   \n",
      "4                     0.001                     0.10                  0.01   \n",
      "..                      ...                      ...                   ...   \n",
      "59                    0.500                     1.00                 10.00   \n",
      "60                    0.500                    10.00                  0.01   \n",
      "61                    0.500                    10.00                  0.10   \n",
      "62                    0.500                    10.00                  1.00   \n",
      "63                    0.500                    10.00                 10.00   \n",
      "\n",
      "          rmse  \n",
      "0   261.036332  \n",
      "1   261.036332  \n",
      "2   261.036332  \n",
      "3   261.036332  \n",
      "4   312.445358  \n",
      "..         ...  \n",
      "59  270.120583  \n",
      "60  270.740048  \n",
      "61  270.740048  \n",
      "62  270.740048  \n",
      "63  270.740048  \n",
      "\n",
      "[64 rows x 4 columns]\n"
     ]
    }
   ],
   "source": [
    "from prophet import Prophet\n",
    "import itertools\n",
    "import numpy as np\n",
    "import pandas as pd\n",
    "from prophet.diagnostics import cross_validation\n",
    "from prophet.diagnostics import performance_metrics\n",
    "\n",
    "data = pd.read_csv('data.csv')\n",
    "\n",
    "\n",
    "param_grid = {  \n",
    "    'changepoint_prior_scale': [0.001, 0.01, 0.1, 0.5],\n",
    "    'seasonality_prior_scale': [0.01, 0.1, 1.0, 10.0],\n",
    "    'holidays_prior_scale': [0.01, 0.1, 1.0, 10.0],\n",
    "}\n",
    "\n",
    "# Generate all combinations of parameters\n",
    "all_params = [dict(zip(param_grid.keys(), v)) for v in itertools.product(*param_grid.values())]\n",
    "rmses = []  # Store the RMSEs for each params here\n",
    "\n",
    "# Use cross validation to evaluate all parameters\n",
    "for params in all_params:\n",
    "    m = Prophet(**params, interval_width=0.9, daily_seasonality=True).fit(data)  # Fit model with given params\n",
    "    df_cv = cross_validation(m, initial='150 days', period='30 days', horizon = '50 days')\n",
    "    df_p = performance_metrics(df_cv, rolling_window=1)\n",
    "    rmses.append(df_p['rmse'].values[0])\n",
    "\n",
    "# Find the best parameters\n",
    "tuning_results = pd.DataFrame(all_params)\n",
    "tuning_results['rmse'] = rmses\n",
    "print(tuning_results)"
   ]
  },
  {
   "cell_type": "code",
   "execution_count": 3,
   "id": "8d68eb81",
   "metadata": {},
   "outputs": [
    {
     "name": "stdout",
     "output_type": "stream",
     "text": [
      "{'changepoint_prior_scale': 0.01, 'seasonality_prior_scale': 0.1, 'holidays_prior_scale': 0.01}\n"
     ]
    }
   ],
   "source": [
    "best_params = all_params[np.argmin(rmses)]\n",
    "print(best_params)"
   ]
  },
  {
   "cell_type": "code",
   "execution_count": null,
   "id": "d233438b",
   "metadata": {},
   "outputs": [],
   "source": []
  },
  {
   "cell_type": "code",
   "execution_count": null,
   "id": "80a34dd6",
   "metadata": {},
   "outputs": [],
   "source": []
  }
 ],
 "metadata": {
  "kernelspec": {
   "display_name": "Python 3 (ipykernel)",
   "language": "python",
   "name": "python3"
  },
  "language_info": {
   "codemirror_mode": {
    "name": "ipython",
    "version": 3
   },
   "file_extension": ".py",
   "mimetype": "text/x-python",
   "name": "python",
   "nbconvert_exporter": "python",
   "pygments_lexer": "ipython3",
   "version": "3.9.12"
  }
 },
 "nbformat": 4,
 "nbformat_minor": 5
}
