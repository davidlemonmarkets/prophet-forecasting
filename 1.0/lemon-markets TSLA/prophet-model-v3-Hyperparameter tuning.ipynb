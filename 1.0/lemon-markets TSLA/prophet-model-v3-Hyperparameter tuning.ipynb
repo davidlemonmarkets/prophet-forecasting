{
 "cells": [
  {
   "cell_type": "code",
   "execution_count": 2,
   "id": "2968028f",
   "metadata": {},
   "outputs": [
    {
     "name": "stderr",
     "output_type": "stream",
     "text": [
      "16:07:46 - cmdstanpy - INFO - Chain [1] start processing\n",
      "16:07:46 - cmdstanpy - INFO - Chain [1] done processing\n",
      "16:07:46 - cmdstanpy - ERROR - Chain [1] error: error during processing Stale NFS file handle\n",
      "Optimization terminated abnormally. Falling back to Newton.\n",
      "16:07:46 - cmdstanpy - INFO - Chain [1] start processing\n",
      "16:07:47 - cmdstanpy - INFO - Chain [1] done processing\n"
     ]
    },
    {
     "data": {
      "application/vnd.jupyter.widget-view+json": {
       "model_id": "6d8846bd27fe448eb0a37ccdc81a6d3b",
       "version_major": 2,
       "version_minor": 0
      },
      "text/plain": [
       "  0%|          | 0/5 [00:00<?, ?it/s]"
      ]
     },
     "metadata": {},
     "output_type": "display_data"
    },
    {
     "name": "stderr",
     "output_type": "stream",
     "text": [
      "16:07:47 - cmdstanpy - INFO - Chain [1] start processing\n",
      "16:07:47 - cmdstanpy - INFO - Chain [1] done processing\n",
      "16:07:47 - cmdstanpy - ERROR - Chain [1] error: error during processing Stale NFS file handle\n",
      "Optimization terminated abnormally. Falling back to Newton.\n",
      "16:07:47 - cmdstanpy - INFO - Chain [1] start processing\n",
      "16:07:47 - cmdstanpy - INFO - Chain [1] done processing\n",
      "16:07:48 - cmdstanpy - INFO - Chain [1] start processing\n",
      "16:07:48 - cmdstanpy - INFO - Chain [1] done processing\n",
      "16:07:48 - cmdstanpy - ERROR - Chain [1] error: error during processing Stale NFS file handle\n",
      "Optimization terminated abnormally. Falling back to Newton.\n",
      "16:07:48 - cmdstanpy - INFO - Chain [1] start processing\n",
      "16:07:48 - cmdstanpy - INFO - Chain [1] done processing\n",
      "16:07:49 - cmdstanpy - INFO - Chain [1] start processing\n",
      "16:07:49 - cmdstanpy - INFO - Chain [1] done processing\n",
      "16:07:49 - cmdstanpy - ERROR - Chain [1] error: error during processing Stale NFS file handle\n",
      "Optimization terminated abnormally. Falling back to Newton.\n",
      "16:07:49 - cmdstanpy - INFO - Chain [1] start processing\n",
      "16:07:49 - cmdstanpy - INFO - Chain [1] done processing\n",
      "16:07:50 - cmdstanpy - INFO - Chain [1] start processing\n",
      "16:07:50 - cmdstanpy - INFO - Chain [1] done processing\n",
      "16:07:50 - cmdstanpy - INFO - Chain [1] start processing\n",
      "16:07:50 - cmdstanpy - INFO - Chain [1] done processing\n",
      "16:07:50 - cmdstanpy - ERROR - Chain [1] error: error during processing Stale NFS file handle\n",
      "Optimization terminated abnormally. Falling back to Newton.\n",
      "16:07:50 - cmdstanpy - INFO - Chain [1] start processing\n",
      "16:07:51 - cmdstanpy - INFO - Chain [1] done processing\n",
      "16:07:52 - cmdstanpy - INFO - Chain [1] start processing\n",
      "16:07:52 - cmdstanpy - INFO - Chain [1] done processing\n",
      "16:07:52 - cmdstanpy - ERROR - Chain [1] error: error during processing Stale NFS file handle\n",
      "Optimization terminated abnormally. Falling back to Newton.\n",
      "16:07:52 - cmdstanpy - INFO - Chain [1] start processing\n",
      "16:07:52 - cmdstanpy - INFO - Chain [1] done processing\n"
     ]
    },
    {
     "data": {
      "application/vnd.jupyter.widget-view+json": {
       "model_id": "a5903034cf704c63baf4f71356260536",
       "version_major": 2,
       "version_minor": 0
      },
      "text/plain": [
       "  0%|          | 0/5 [00:00<?, ?it/s]"
      ]
     },
     "metadata": {},
     "output_type": "display_data"
    },
    {
     "name": "stderr",
     "output_type": "stream",
     "text": [
      "16:07:52 - cmdstanpy - INFO - Chain [1] start processing\n",
      "16:07:52 - cmdstanpy - INFO - Chain [1] done processing\n",
      "16:07:52 - cmdstanpy - ERROR - Chain [1] error: error during processing Stale NFS file handle\n",
      "Optimization terminated abnormally. Falling back to Newton.\n",
      "16:07:52 - cmdstanpy - INFO - Chain [1] start processing\n",
      "16:07:52 - cmdstanpy - INFO - Chain [1] done processing\n",
      "16:07:53 - cmdstanpy - INFO - Chain [1] start processing\n",
      "16:07:53 - cmdstanpy - INFO - Chain [1] done processing\n",
      "16:07:53 - cmdstanpy - ERROR - Chain [1] error: error during processing Stale NFS file handle\n",
      "Optimization terminated abnormally. Falling back to Newton.\n",
      "16:07:53 - cmdstanpy - INFO - Chain [1] start processing\n",
      "16:07:53 - cmdstanpy - INFO - Chain [1] done processing\n",
      "16:07:54 - cmdstanpy - INFO - Chain [1] start processing\n",
      "16:07:54 - cmdstanpy - INFO - Chain [1] done processing\n",
      "16:07:54 - cmdstanpy - ERROR - Chain [1] error: error during processing Stale NFS file handle\n",
      "Optimization terminated abnormally. Falling back to Newton.\n",
      "16:07:54 - cmdstanpy - INFO - Chain [1] start processing\n",
      "16:07:54 - cmdstanpy - INFO - Chain [1] done processing\n",
      "16:07:55 - cmdstanpy - INFO - Chain [1] start processing\n",
      "16:07:55 - cmdstanpy - INFO - Chain [1] done processing\n",
      "16:07:55 - cmdstanpy - INFO - Chain [1] start processing\n",
      "16:07:55 - cmdstanpy - INFO - Chain [1] done processing\n",
      "16:07:55 - cmdstanpy - ERROR - Chain [1] error: error during processing Stale NFS file handle\n",
      "Optimization terminated abnormally. Falling back to Newton.\n",
      "16:07:55 - cmdstanpy - INFO - Chain [1] start processing\n",
      "16:07:56 - cmdstanpy - INFO - Chain [1] done processing\n",
      "16:07:56 - cmdstanpy - INFO - Chain [1] start processing\n",
      "16:07:56 - cmdstanpy - INFO - Chain [1] done processing\n",
      "16:07:56 - cmdstanpy - ERROR - Chain [1] error: error during processing Stale NFS file handle\n",
      "Optimization terminated abnormally. Falling back to Newton.\n",
      "16:07:56 - cmdstanpy - INFO - Chain [1] start processing\n",
      "16:07:57 - cmdstanpy - INFO - Chain [1] done processing\n"
     ]
    },
    {
     "data": {
      "application/vnd.jupyter.widget-view+json": {
       "model_id": "1aa8974949ad4c68bbb3c38b54c70d86",
       "version_major": 2,
       "version_minor": 0
      },
      "text/plain": [
       "  0%|          | 0/5 [00:00<?, ?it/s]"
      ]
     },
     "metadata": {},
     "output_type": "display_data"
    },
    {
     "name": "stderr",
     "output_type": "stream",
     "text": [
      "16:07:57 - cmdstanpy - INFO - Chain [1] start processing\n",
      "16:07:57 - cmdstanpy - INFO - Chain [1] done processing\n",
      "16:07:57 - cmdstanpy - ERROR - Chain [1] error: error during processing Stale NFS file handle\n",
      "Optimization terminated abnormally. Falling back to Newton.\n",
      "16:07:57 - cmdstanpy - INFO - Chain [1] start processing\n",
      "16:07:57 - cmdstanpy - INFO - Chain [1] done processing\n",
      "16:07:58 - cmdstanpy - INFO - Chain [1] start processing\n",
      "16:07:58 - cmdstanpy - INFO - Chain [1] done processing\n",
      "16:07:58 - cmdstanpy - ERROR - Chain [1] error: error during processing Stale NFS file handle\n",
      "Optimization terminated abnormally. Falling back to Newton.\n",
      "16:07:58 - cmdstanpy - INFO - Chain [1] start processing\n",
      "16:07:58 - cmdstanpy - INFO - Chain [1] done processing\n",
      "16:07:58 - cmdstanpy - INFO - Chain [1] start processing\n",
      "16:07:59 - cmdstanpy - INFO - Chain [1] done processing\n",
      "16:07:59 - cmdstanpy - ERROR - Chain [1] error: error during processing Stale NFS file handle\n",
      "Optimization terminated abnormally. Falling back to Newton.\n",
      "16:07:59 - cmdstanpy - INFO - Chain [1] start processing\n",
      "16:07:59 - cmdstanpy - INFO - Chain [1] done processing\n",
      "16:07:59 - cmdstanpy - INFO - Chain [1] start processing\n",
      "16:07:59 - cmdstanpy - INFO - Chain [1] done processing\n",
      "16:08:00 - cmdstanpy - INFO - Chain [1] start processing\n",
      "16:08:00 - cmdstanpy - INFO - Chain [1] done processing\n",
      "16:08:00 - cmdstanpy - ERROR - Chain [1] error: error during processing Stale NFS file handle\n",
      "Optimization terminated abnormally. Falling back to Newton.\n",
      "16:08:00 - cmdstanpy - INFO - Chain [1] start processing\n",
      "16:08:01 - cmdstanpy - INFO - Chain [1] done processing\n",
      "16:08:01 - cmdstanpy - INFO - Chain [1] start processing\n",
      "16:08:01 - cmdstanpy - INFO - Chain [1] done processing\n",
      "16:08:01 - cmdstanpy - ERROR - Chain [1] error: error during processing Stale NFS file handle\n",
      "Optimization terminated abnormally. Falling back to Newton.\n",
      "16:08:01 - cmdstanpy - INFO - Chain [1] start processing\n",
      "16:08:01 - cmdstanpy - INFO - Chain [1] done processing\n"
     ]
    },
    {
     "data": {
      "application/vnd.jupyter.widget-view+json": {
       "model_id": "cd2017594c9244c595d41fa016ae5b94",
       "version_major": 2,
       "version_minor": 0
      },
      "text/plain": [
       "  0%|          | 0/5 [00:00<?, ?it/s]"
      ]
     },
     "metadata": {},
     "output_type": "display_data"
    },
    {
     "name": "stderr",
     "output_type": "stream",
     "text": [
      "16:08:02 - cmdstanpy - INFO - Chain [1] start processing\n",
      "16:08:02 - cmdstanpy - INFO - Chain [1] done processing\n",
      "16:08:02 - cmdstanpy - ERROR - Chain [1] error: error during processing Stale NFS file handle\n",
      "Optimization terminated abnormally. Falling back to Newton.\n",
      "16:08:02 - cmdstanpy - INFO - Chain [1] start processing\n",
      "16:08:02 - cmdstanpy - INFO - Chain [1] done processing\n",
      "16:08:02 - cmdstanpy - INFO - Chain [1] start processing\n",
      "16:08:02 - cmdstanpy - INFO - Chain [1] done processing\n",
      "16:08:02 - cmdstanpy - ERROR - Chain [1] error: error during processing Stale NFS file handle\n",
      "Optimization terminated abnormally. Falling back to Newton.\n",
      "16:08:02 - cmdstanpy - INFO - Chain [1] start processing\n",
      "16:08:03 - cmdstanpy - INFO - Chain [1] done processing\n",
      "16:08:03 - cmdstanpy - INFO - Chain [1] start processing\n",
      "16:08:03 - cmdstanpy - INFO - Chain [1] done processing\n",
      "16:08:03 - cmdstanpy - ERROR - Chain [1] error: error during processing Stale NFS file handle\n",
      "Optimization terminated abnormally. Falling back to Newton.\n",
      "16:08:03 - cmdstanpy - INFO - Chain [1] start processing\n",
      "16:08:04 - cmdstanpy - INFO - Chain [1] done processing\n",
      "16:08:04 - cmdstanpy - INFO - Chain [1] start processing\n",
      "16:08:04 - cmdstanpy - INFO - Chain [1] done processing\n",
      "16:08:05 - cmdstanpy - INFO - Chain [1] start processing\n",
      "16:08:05 - cmdstanpy - INFO - Chain [1] done processing\n",
      "16:08:05 - cmdstanpy - ERROR - Chain [1] error: error during processing Stale NFS file handle\n",
      "Optimization terminated abnormally. Falling back to Newton.\n",
      "16:08:05 - cmdstanpy - INFO - Chain [1] start processing\n",
      "16:08:05 - cmdstanpy - INFO - Chain [1] done processing\n",
      "16:08:06 - cmdstanpy - INFO - Chain [1] start processing\n",
      "16:08:06 - cmdstanpy - INFO - Chain [1] done processing\n",
      "16:08:06 - cmdstanpy - ERROR - Chain [1] error: error during processing Stale NFS file handle\n",
      "Optimization terminated abnormally. Falling back to Newton.\n",
      "16:08:06 - cmdstanpy - INFO - Chain [1] start processing\n",
      "16:08:06 - cmdstanpy - INFO - Chain [1] done processing\n"
     ]
    },
    {
     "data": {
      "application/vnd.jupyter.widget-view+json": {
       "model_id": "bcb62fd9d2624684a40f71185ac9f7f5",
       "version_major": 2,
       "version_minor": 0
      },
      "text/plain": [
       "  0%|          | 0/5 [00:00<?, ?it/s]"
      ]
     },
     "metadata": {},
     "output_type": "display_data"
    },
    {
     "name": "stderr",
     "output_type": "stream",
     "text": [
      "16:08:07 - cmdstanpy - INFO - Chain [1] start processing\n",
      "16:08:07 - cmdstanpy - INFO - Chain [1] done processing\n",
      "16:08:07 - cmdstanpy - ERROR - Chain [1] error: error during processing Stale NFS file handle\n",
      "Optimization terminated abnormally. Falling back to Newton.\n",
      "16:08:07 - cmdstanpy - INFO - Chain [1] start processing\n",
      "16:08:07 - cmdstanpy - INFO - Chain [1] done processing\n",
      "16:08:07 - cmdstanpy - INFO - Chain [1] start processing\n",
      "16:08:07 - cmdstanpy - INFO - Chain [1] done processing\n",
      "16:08:07 - cmdstanpy - ERROR - Chain [1] error: error during processing Stale NFS file handle\n",
      "Optimization terminated abnormally. Falling back to Newton.\n",
      "16:08:07 - cmdstanpy - INFO - Chain [1] start processing\n",
      "16:08:08 - cmdstanpy - INFO - Chain [1] done processing\n",
      "16:08:09 - cmdstanpy - INFO - Chain [1] start processing\n",
      "16:08:09 - cmdstanpy - INFO - Chain [1] done processing\n",
      "16:08:09 - cmdstanpy - ERROR - Chain [1] error: error during processing Stale NFS file handle\n",
      "Optimization terminated abnormally. Falling back to Newton.\n",
      "16:08:09 - cmdstanpy - INFO - Chain [1] start processing\n",
      "16:08:09 - cmdstanpy - INFO - Chain [1] done processing\n",
      "16:08:09 - cmdstanpy - INFO - Chain [1] start processing\n",
      "16:08:10 - cmdstanpy - INFO - Chain [1] done processing\n",
      "16:08:10 - cmdstanpy - INFO - Chain [1] start processing\n",
      "16:08:10 - cmdstanpy - INFO - Chain [1] done processing\n",
      "16:08:10 - cmdstanpy - ERROR - Chain [1] error: error during processing Stale NFS file handle\n",
      "Optimization terminated abnormally. Falling back to Newton.\n",
      "16:08:10 - cmdstanpy - INFO - Chain [1] start processing\n",
      "16:08:10 - cmdstanpy - INFO - Chain [1] done processing\n",
      "16:08:11 - cmdstanpy - INFO - Chain [1] start processing\n",
      "16:08:11 - cmdstanpy - INFO - Chain [1] done processing\n",
      "16:08:11 - cmdstanpy - ERROR - Chain [1] error: error during processing Stale NFS file handle\n",
      "Optimization terminated abnormally. Falling back to Newton.\n",
      "16:08:11 - cmdstanpy - INFO - Chain [1] start processing\n",
      "16:08:12 - cmdstanpy - INFO - Chain [1] done processing\n"
     ]
    },
    {
     "data": {
      "application/vnd.jupyter.widget-view+json": {
       "model_id": "e778cb30f638417783c1c6beb37da84f",
       "version_major": 2,
       "version_minor": 0
      },
      "text/plain": [
       "  0%|          | 0/5 [00:00<?, ?it/s]"
      ]
     },
     "metadata": {},
     "output_type": "display_data"
    },
    {
     "name": "stderr",
     "output_type": "stream",
     "text": [
      "16:08:12 - cmdstanpy - INFO - Chain [1] start processing\n",
      "16:08:12 - cmdstanpy - INFO - Chain [1] done processing\n",
      "16:08:12 - cmdstanpy - ERROR - Chain [1] error: error during processing Stale NFS file handle\n",
      "Optimization terminated abnormally. Falling back to Newton.\n",
      "16:08:12 - cmdstanpy - INFO - Chain [1] start processing\n",
      "16:08:12 - cmdstanpy - INFO - Chain [1] done processing\n",
      "16:08:12 - cmdstanpy - INFO - Chain [1] start processing\n",
      "16:08:12 - cmdstanpy - INFO - Chain [1] done processing\n",
      "16:08:12 - cmdstanpy - ERROR - Chain [1] error: error during processing Stale NFS file handle\n",
      "Optimization terminated abnormally. Falling back to Newton.\n",
      "16:08:12 - cmdstanpy - INFO - Chain [1] start processing\n",
      "16:08:13 - cmdstanpy - INFO - Chain [1] done processing\n",
      "16:08:14 - cmdstanpy - INFO - Chain [1] start processing\n",
      "16:08:14 - cmdstanpy - INFO - Chain [1] done processing\n",
      "16:08:14 - cmdstanpy - ERROR - Chain [1] error: error during processing Stale NFS file handle\n",
      "Optimization terminated abnormally. Falling back to Newton.\n",
      "16:08:14 - cmdstanpy - INFO - Chain [1] start processing\n",
      "16:08:14 - cmdstanpy - INFO - Chain [1] done processing\n",
      "16:08:14 - cmdstanpy - INFO - Chain [1] start processing\n",
      "16:08:15 - cmdstanpy - INFO - Chain [1] done processing\n",
      "16:08:15 - cmdstanpy - INFO - Chain [1] start processing\n",
      "16:08:15 - cmdstanpy - INFO - Chain [1] done processing\n",
      "16:08:15 - cmdstanpy - ERROR - Chain [1] error: error during processing Stale NFS file handle\n",
      "Optimization terminated abnormally. Falling back to Newton.\n",
      "16:08:15 - cmdstanpy - INFO - Chain [1] start processing\n",
      "16:08:15 - cmdstanpy - INFO - Chain [1] done processing\n",
      "16:08:16 - cmdstanpy - INFO - Chain [1] start processing\n",
      "16:08:16 - cmdstanpy - INFO - Chain [1] done processing\n",
      "16:08:16 - cmdstanpy - ERROR - Chain [1] error: error during processing Stale NFS file handle\n",
      "Optimization terminated abnormally. Falling back to Newton.\n",
      "16:08:16 - cmdstanpy - INFO - Chain [1] start processing\n",
      "16:08:16 - cmdstanpy - INFO - Chain [1] done processing\n"
     ]
    },
    {
     "data": {
      "application/vnd.jupyter.widget-view+json": {
       "model_id": "f2cb8106d9e448a9a85f7016cbe71932",
       "version_major": 2,
       "version_minor": 0
      },
      "text/plain": [
       "  0%|          | 0/5 [00:00<?, ?it/s]"
      ]
     },
     "metadata": {},
     "output_type": "display_data"
    },
    {
     "name": "stderr",
     "output_type": "stream",
     "text": [
      "16:08:16 - cmdstanpy - INFO - Chain [1] start processing\n",
      "16:08:17 - cmdstanpy - INFO - Chain [1] done processing\n",
      "16:08:17 - cmdstanpy - ERROR - Chain [1] error: error during processing Stale NFS file handle\n",
      "Optimization terminated abnormally. Falling back to Newton.\n",
      "16:08:17 - cmdstanpy - INFO - Chain [1] start processing\n",
      "16:08:17 - cmdstanpy - INFO - Chain [1] done processing\n",
      "16:08:17 - cmdstanpy - INFO - Chain [1] start processing\n",
      "16:08:17 - cmdstanpy - INFO - Chain [1] done processing\n",
      "16:08:17 - cmdstanpy - ERROR - Chain [1] error: error during processing Stale NFS file handle\n",
      "Optimization terminated abnormally. Falling back to Newton.\n",
      "16:08:17 - cmdstanpy - INFO - Chain [1] start processing\n",
      "16:08:18 - cmdstanpy - INFO - Chain [1] done processing\n",
      "16:08:19 - cmdstanpy - INFO - Chain [1] start processing\n",
      "16:08:19 - cmdstanpy - INFO - Chain [1] done processing\n",
      "16:08:19 - cmdstanpy - ERROR - Chain [1] error: error during processing Stale NFS file handle\n",
      "Optimization terminated abnormally. Falling back to Newton.\n",
      "16:08:19 - cmdstanpy - INFO - Chain [1] start processing\n",
      "16:08:19 - cmdstanpy - INFO - Chain [1] done processing\n",
      "16:08:19 - cmdstanpy - INFO - Chain [1] start processing\n",
      "16:08:19 - cmdstanpy - INFO - Chain [1] done processing\n",
      "16:08:20 - cmdstanpy - INFO - Chain [1] start processing\n",
      "16:08:20 - cmdstanpy - INFO - Chain [1] done processing\n",
      "16:08:20 - cmdstanpy - ERROR - Chain [1] error: error during processing Stale NFS file handle\n",
      "Optimization terminated abnormally. Falling back to Newton.\n",
      "16:08:20 - cmdstanpy - INFO - Chain [1] start processing\n",
      "16:08:20 - cmdstanpy - INFO - Chain [1] done processing\n",
      "16:08:21 - cmdstanpy - INFO - Chain [1] start processing\n",
      "16:08:21 - cmdstanpy - INFO - Chain [1] done processing\n",
      "16:08:21 - cmdstanpy - ERROR - Chain [1] error: error during processing Stale NFS file handle\n",
      "Optimization terminated abnormally. Falling back to Newton.\n",
      "16:08:21 - cmdstanpy - INFO - Chain [1] start processing\n",
      "16:08:21 - cmdstanpy - INFO - Chain [1] done processing\n"
     ]
    },
    {
     "data": {
      "application/vnd.jupyter.widget-view+json": {
       "model_id": "ecb9d6205f104b27a5a70d692b0260ba",
       "version_major": 2,
       "version_minor": 0
      },
      "text/plain": [
       "  0%|          | 0/5 [00:00<?, ?it/s]"
      ]
     },
     "metadata": {},
     "output_type": "display_data"
    },
    {
     "name": "stderr",
     "output_type": "stream",
     "text": [
      "16:08:22 - cmdstanpy - INFO - Chain [1] start processing\n",
      "16:08:22 - cmdstanpy - INFO - Chain [1] done processing\n",
      "16:08:22 - cmdstanpy - ERROR - Chain [1] error: error during processing Stale NFS file handle\n",
      "Optimization terminated abnormally. Falling back to Newton.\n",
      "16:08:22 - cmdstanpy - INFO - Chain [1] start processing\n",
      "16:08:22 - cmdstanpy - INFO - Chain [1] done processing\n",
      "16:08:22 - cmdstanpy - INFO - Chain [1] start processing\n",
      "16:08:22 - cmdstanpy - INFO - Chain [1] done processing\n",
      "16:08:22 - cmdstanpy - ERROR - Chain [1] error: error during processing Stale NFS file handle\n",
      "Optimization terminated abnormally. Falling back to Newton.\n",
      "16:08:22 - cmdstanpy - INFO - Chain [1] start processing\n",
      "16:08:23 - cmdstanpy - INFO - Chain [1] done processing\n",
      "16:08:24 - cmdstanpy - INFO - Chain [1] start processing\n",
      "16:08:24 - cmdstanpy - INFO - Chain [1] done processing\n",
      "16:08:24 - cmdstanpy - ERROR - Chain [1] error: error during processing Stale NFS file handle\n",
      "Optimization terminated abnormally. Falling back to Newton.\n",
      "16:08:24 - cmdstanpy - INFO - Chain [1] start processing\n",
      "16:08:24 - cmdstanpy - INFO - Chain [1] done processing\n",
      "16:08:24 - cmdstanpy - INFO - Chain [1] start processing\n",
      "16:08:25 - cmdstanpy - INFO - Chain [1] done processing\n",
      "16:08:25 - cmdstanpy - INFO - Chain [1] start processing\n",
      "16:08:25 - cmdstanpy - INFO - Chain [1] done processing\n",
      "16:08:25 - cmdstanpy - ERROR - Chain [1] error: error during processing Stale NFS file handle\n",
      "Optimization terminated abnormally. Falling back to Newton.\n",
      "16:08:25 - cmdstanpy - INFO - Chain [1] start processing\n",
      "16:08:25 - cmdstanpy - INFO - Chain [1] done processing\n",
      "16:08:26 - cmdstanpy - INFO - Chain [1] start processing\n",
      "16:08:26 - cmdstanpy - INFO - Chain [1] done processing\n",
      "16:08:26 - cmdstanpy - ERROR - Chain [1] error: error during processing Stale NFS file handle\n",
      "Optimization terminated abnormally. Falling back to Newton.\n",
      "16:08:26 - cmdstanpy - INFO - Chain [1] start processing\n",
      "16:08:27 - cmdstanpy - INFO - Chain [1] done processing\n"
     ]
    },
    {
     "data": {
      "application/vnd.jupyter.widget-view+json": {
       "model_id": "6e8254685ca34b69a67e4b475d183d82",
       "version_major": 2,
       "version_minor": 0
      },
      "text/plain": [
       "  0%|          | 0/5 [00:00<?, ?it/s]"
      ]
     },
     "metadata": {},
     "output_type": "display_data"
    },
    {
     "name": "stderr",
     "output_type": "stream",
     "text": [
      "16:08:27 - cmdstanpy - INFO - Chain [1] start processing\n",
      "16:08:27 - cmdstanpy - INFO - Chain [1] done processing\n",
      "16:08:27 - cmdstanpy - ERROR - Chain [1] error: error during processing Stale NFS file handle\n",
      "Optimization terminated abnormally. Falling back to Newton.\n",
      "16:08:27 - cmdstanpy - INFO - Chain [1] start processing\n",
      "16:08:27 - cmdstanpy - INFO - Chain [1] done processing\n",
      "16:08:27 - cmdstanpy - INFO - Chain [1] start processing\n",
      "16:08:27 - cmdstanpy - INFO - Chain [1] done processing\n",
      "16:08:27 - cmdstanpy - ERROR - Chain [1] error: error during processing Stale NFS file handle\n",
      "Optimization terminated abnormally. Falling back to Newton.\n",
      "16:08:27 - cmdstanpy - INFO - Chain [1] start processing\n",
      "16:08:28 - cmdstanpy - INFO - Chain [1] done processing\n",
      "16:08:28 - cmdstanpy - INFO - Chain [1] start processing\n",
      "16:08:28 - cmdstanpy - INFO - Chain [1] done processing\n",
      "16:08:28 - cmdstanpy - ERROR - Chain [1] error: error during processing Stale NFS file handle\n",
      "Optimization terminated abnormally. Falling back to Newton.\n",
      "16:08:28 - cmdstanpy - INFO - Chain [1] start processing\n",
      "16:08:29 - cmdstanpy - INFO - Chain [1] done processing\n",
      "16:08:29 - cmdstanpy - INFO - Chain [1] start processing\n",
      "16:08:29 - cmdstanpy - INFO - Chain [1] done processing\n",
      "16:08:30 - cmdstanpy - INFO - Chain [1] start processing\n",
      "16:08:30 - cmdstanpy - INFO - Chain [1] done processing\n",
      "16:08:30 - cmdstanpy - ERROR - Chain [1] error: error during processing Stale NFS file handle\n",
      "Optimization terminated abnormally. Falling back to Newton.\n",
      "16:08:30 - cmdstanpy - INFO - Chain [1] start processing\n",
      "16:08:30 - cmdstanpy - INFO - Chain [1] done processing\n",
      "16:08:31 - cmdstanpy - INFO - Chain [1] start processing\n",
      "16:08:31 - cmdstanpy - INFO - Chain [1] done processing\n",
      "16:08:31 - cmdstanpy - ERROR - Chain [1] error: error during processing Stale NFS file handle\n",
      "Optimization terminated abnormally. Falling back to Newton.\n",
      "16:08:31 - cmdstanpy - INFO - Chain [1] start processing\n",
      "16:08:31 - cmdstanpy - INFO - Chain [1] done processing\n"
     ]
    },
    {
     "data": {
      "application/vnd.jupyter.widget-view+json": {
       "model_id": "e3490c87b956452f90b99f4893ac8662",
       "version_major": 2,
       "version_minor": 0
      },
      "text/plain": [
       "  0%|          | 0/5 [00:00<?, ?it/s]"
      ]
     },
     "metadata": {},
     "output_type": "display_data"
    },
    {
     "name": "stderr",
     "output_type": "stream",
     "text": [
      "16:08:31 - cmdstanpy - INFO - Chain [1] start processing\n",
      "16:08:31 - cmdstanpy - INFO - Chain [1] done processing\n",
      "16:08:31 - cmdstanpy - ERROR - Chain [1] error: error during processing Stale NFS file handle\n",
      "Optimization terminated abnormally. Falling back to Newton.\n",
      "16:08:31 - cmdstanpy - INFO - Chain [1] start processing\n",
      "16:08:31 - cmdstanpy - INFO - Chain [1] done processing\n",
      "16:08:32 - cmdstanpy - INFO - Chain [1] start processing\n",
      "16:08:32 - cmdstanpy - INFO - Chain [1] done processing\n",
      "16:08:32 - cmdstanpy - ERROR - Chain [1] error: error during processing Stale NFS file handle\n",
      "Optimization terminated abnormally. Falling back to Newton.\n",
      "16:08:32 - cmdstanpy - INFO - Chain [1] start processing\n",
      "16:08:32 - cmdstanpy - INFO - Chain [1] done processing\n",
      "16:08:33 - cmdstanpy - INFO - Chain [1] start processing\n",
      "16:08:33 - cmdstanpy - INFO - Chain [1] done processing\n",
      "16:08:33 - cmdstanpy - ERROR - Chain [1] error: error during processing Stale NFS file handle\n",
      "Optimization terminated abnormally. Falling back to Newton.\n",
      "16:08:33 - cmdstanpy - INFO - Chain [1] start processing\n",
      "16:08:33 - cmdstanpy - INFO - Chain [1] done processing\n",
      "16:08:34 - cmdstanpy - INFO - Chain [1] start processing\n",
      "16:08:34 - cmdstanpy - INFO - Chain [1] done processing\n",
      "16:08:35 - cmdstanpy - INFO - Chain [1] start processing\n",
      "16:08:35 - cmdstanpy - INFO - Chain [1] done processing\n",
      "16:08:35 - cmdstanpy - ERROR - Chain [1] error: error during processing Stale NFS file handle\n",
      "Optimization terminated abnormally. Falling back to Newton.\n",
      "16:08:35 - cmdstanpy - INFO - Chain [1] start processing\n",
      "16:08:35 - cmdstanpy - INFO - Chain [1] done processing\n",
      "16:08:36 - cmdstanpy - INFO - Chain [1] start processing\n",
      "16:08:36 - cmdstanpy - INFO - Chain [1] done processing\n",
      "16:08:36 - cmdstanpy - ERROR - Chain [1] error: error during processing Stale NFS file handle\n",
      "Optimization terminated abnormally. Falling back to Newton.\n",
      "16:08:36 - cmdstanpy - INFO - Chain [1] start processing\n",
      "16:08:36 - cmdstanpy - INFO - Chain [1] done processing\n"
     ]
    },
    {
     "data": {
      "application/vnd.jupyter.widget-view+json": {
       "model_id": "f990ca0923634eb794a1c32e9e9ae534",
       "version_major": 2,
       "version_minor": 0
      },
      "text/plain": [
       "  0%|          | 0/5 [00:00<?, ?it/s]"
      ]
     },
     "metadata": {},
     "output_type": "display_data"
    },
    {
     "name": "stderr",
     "output_type": "stream",
     "text": [
      "16:08:36 - cmdstanpy - INFO - Chain [1] start processing\n",
      "16:08:36 - cmdstanpy - INFO - Chain [1] done processing\n",
      "16:08:36 - cmdstanpy - ERROR - Chain [1] error: error during processing Stale NFS file handle\n",
      "Optimization terminated abnormally. Falling back to Newton.\n",
      "16:08:36 - cmdstanpy - INFO - Chain [1] start processing\n",
      "16:08:36 - cmdstanpy - INFO - Chain [1] done processing\n",
      "16:08:37 - cmdstanpy - INFO - Chain [1] start processing\n",
      "16:08:37 - cmdstanpy - INFO - Chain [1] done processing\n",
      "16:08:37 - cmdstanpy - ERROR - Chain [1] error: error during processing Stale NFS file handle\n",
      "Optimization terminated abnormally. Falling back to Newton.\n",
      "16:08:37 - cmdstanpy - INFO - Chain [1] start processing\n",
      "16:08:37 - cmdstanpy - INFO - Chain [1] done processing\n",
      "16:08:38 - cmdstanpy - INFO - Chain [1] start processing\n",
      "16:08:38 - cmdstanpy - INFO - Chain [1] done processing\n",
      "16:08:38 - cmdstanpy - ERROR - Chain [1] error: error during processing Stale NFS file handle\n",
      "Optimization terminated abnormally. Falling back to Newton.\n",
      "16:08:38 - cmdstanpy - INFO - Chain [1] start processing\n",
      "16:08:38 - cmdstanpy - INFO - Chain [1] done processing\n",
      "16:08:39 - cmdstanpy - INFO - Chain [1] start processing\n",
      "16:08:39 - cmdstanpy - INFO - Chain [1] done processing\n",
      "16:08:39 - cmdstanpy - INFO - Chain [1] start processing\n",
      "16:08:39 - cmdstanpy - INFO - Chain [1] done processing\n",
      "16:08:39 - cmdstanpy - ERROR - Chain [1] error: error during processing Stale NFS file handle\n",
      "Optimization terminated abnormally. Falling back to Newton.\n",
      "16:08:39 - cmdstanpy - INFO - Chain [1] start processing\n",
      "16:08:40 - cmdstanpy - INFO - Chain [1] done processing\n",
      "16:08:40 - cmdstanpy - INFO - Chain [1] start processing\n",
      "16:08:40 - cmdstanpy - INFO - Chain [1] done processing\n",
      "16:08:40 - cmdstanpy - ERROR - Chain [1] error: error during processing Stale NFS file handle\n",
      "Optimization terminated abnormally. Falling back to Newton.\n",
      "16:08:40 - cmdstanpy - INFO - Chain [1] start processing\n",
      "16:08:41 - cmdstanpy - INFO - Chain [1] done processing\n"
     ]
    },
    {
     "data": {
      "application/vnd.jupyter.widget-view+json": {
       "model_id": "fff895e6a53f4a5aaa0e5c155004efcb",
       "version_major": 2,
       "version_minor": 0
      },
      "text/plain": [
       "  0%|          | 0/5 [00:00<?, ?it/s]"
      ]
     },
     "metadata": {},
     "output_type": "display_data"
    },
    {
     "name": "stderr",
     "output_type": "stream",
     "text": [
      "16:08:41 - cmdstanpy - INFO - Chain [1] start processing\n",
      "16:08:41 - cmdstanpy - INFO - Chain [1] done processing\n",
      "16:08:41 - cmdstanpy - ERROR - Chain [1] error: error during processing Stale NFS file handle\n",
      "Optimization terminated abnormally. Falling back to Newton.\n",
      "16:08:41 - cmdstanpy - INFO - Chain [1] start processing\n",
      "16:08:41 - cmdstanpy - INFO - Chain [1] done processing\n",
      "16:08:41 - cmdstanpy - INFO - Chain [1] start processing\n",
      "16:08:42 - cmdstanpy - INFO - Chain [1] done processing\n",
      "16:08:42 - cmdstanpy - ERROR - Chain [1] error: error during processing Stale NFS file handle\n",
      "Optimization terminated abnormally. Falling back to Newton.\n",
      "16:08:42 - cmdstanpy - INFO - Chain [1] start processing\n",
      "16:08:42 - cmdstanpy - INFO - Chain [1] done processing\n",
      "16:08:42 - cmdstanpy - INFO - Chain [1] start processing\n",
      "16:08:42 - cmdstanpy - INFO - Chain [1] done processing\n",
      "16:08:42 - cmdstanpy - ERROR - Chain [1] error: error during processing Stale NFS file handle\n",
      "Optimization terminated abnormally. Falling back to Newton.\n",
      "16:08:42 - cmdstanpy - INFO - Chain [1] start processing\n",
      "16:08:43 - cmdstanpy - INFO - Chain [1] done processing\n",
      "16:08:43 - cmdstanpy - INFO - Chain [1] start processing\n",
      "16:08:43 - cmdstanpy - INFO - Chain [1] done processing\n",
      "16:08:44 - cmdstanpy - INFO - Chain [1] start processing\n",
      "16:08:44 - cmdstanpy - INFO - Chain [1] done processing\n",
      "16:08:44 - cmdstanpy - ERROR - Chain [1] error: error during processing Stale NFS file handle\n",
      "Optimization terminated abnormally. Falling back to Newton.\n",
      "16:08:44 - cmdstanpy - INFO - Chain [1] start processing\n",
      "16:08:44 - cmdstanpy - INFO - Chain [1] done processing\n",
      "16:08:45 - cmdstanpy - INFO - Chain [1] start processing\n",
      "16:08:45 - cmdstanpy - INFO - Chain [1] done processing\n",
      "16:08:45 - cmdstanpy - ERROR - Chain [1] error: error during processing Stale NFS file handle\n",
      "Optimization terminated abnormally. Falling back to Newton.\n",
      "16:08:45 - cmdstanpy - INFO - Chain [1] start processing\n",
      "16:08:45 - cmdstanpy - INFO - Chain [1] done processing\n"
     ]
    },
    {
     "data": {
      "application/vnd.jupyter.widget-view+json": {
       "model_id": "87f83fcbf6a04394bd89d9583a6e920e",
       "version_major": 2,
       "version_minor": 0
      },
      "text/plain": [
       "  0%|          | 0/5 [00:00<?, ?it/s]"
      ]
     },
     "metadata": {},
     "output_type": "display_data"
    },
    {
     "name": "stderr",
     "output_type": "stream",
     "text": [
      "16:08:45 - cmdstanpy - INFO - Chain [1] start processing\n",
      "16:08:45 - cmdstanpy - INFO - Chain [1] done processing\n",
      "16:08:45 - cmdstanpy - ERROR - Chain [1] error: error during processing Stale NFS file handle\n",
      "Optimization terminated abnormally. Falling back to Newton.\n",
      "16:08:45 - cmdstanpy - INFO - Chain [1] start processing\n",
      "16:08:46 - cmdstanpy - INFO - Chain [1] done processing\n",
      "16:08:46 - cmdstanpy - INFO - Chain [1] start processing\n",
      "16:08:46 - cmdstanpy - INFO - Chain [1] done processing\n",
      "16:08:46 - cmdstanpy - ERROR - Chain [1] error: error during processing Stale NFS file handle\n",
      "Optimization terminated abnormally. Falling back to Newton.\n",
      "16:08:46 - cmdstanpy - INFO - Chain [1] start processing\n",
      "16:08:47 - cmdstanpy - INFO - Chain [1] done processing\n",
      "16:08:47 - cmdstanpy - INFO - Chain [1] start processing\n",
      "16:08:47 - cmdstanpy - INFO - Chain [1] done processing\n",
      "16:08:47 - cmdstanpy - ERROR - Chain [1] error: error during processing Stale NFS file handle\n",
      "Optimization terminated abnormally. Falling back to Newton.\n",
      "16:08:47 - cmdstanpy - INFO - Chain [1] start processing\n",
      "16:08:47 - cmdstanpy - INFO - Chain [1] done processing\n",
      "16:08:48 - cmdstanpy - INFO - Chain [1] start processing\n",
      "16:08:48 - cmdstanpy - INFO - Chain [1] done processing\n",
      "16:08:49 - cmdstanpy - INFO - Chain [1] start processing\n",
      "16:08:49 - cmdstanpy - INFO - Chain [1] done processing\n",
      "16:08:49 - cmdstanpy - ERROR - Chain [1] error: error during processing Stale NFS file handle\n",
      "Optimization terminated abnormally. Falling back to Newton.\n",
      "16:08:49 - cmdstanpy - INFO - Chain [1] start processing\n",
      "16:08:49 - cmdstanpy - INFO - Chain [1] done processing\n",
      "16:08:50 - cmdstanpy - INFO - Chain [1] start processing\n",
      "16:08:50 - cmdstanpy - INFO - Chain [1] done processing\n",
      "16:08:50 - cmdstanpy - ERROR - Chain [1] error: error during processing Stale NFS file handle\n",
      "Optimization terminated abnormally. Falling back to Newton.\n",
      "16:08:50 - cmdstanpy - INFO - Chain [1] start processing\n",
      "16:08:50 - cmdstanpy - INFO - Chain [1] done processing\n"
     ]
    },
    {
     "data": {
      "application/vnd.jupyter.widget-view+json": {
       "model_id": "8979217397ad4e59ba574fc94377bbdb",
       "version_major": 2,
       "version_minor": 0
      },
      "text/plain": [
       "  0%|          | 0/5 [00:00<?, ?it/s]"
      ]
     },
     "metadata": {},
     "output_type": "display_data"
    },
    {
     "name": "stderr",
     "output_type": "stream",
     "text": [
      "16:08:50 - cmdstanpy - INFO - Chain [1] start processing\n",
      "16:08:50 - cmdstanpy - INFO - Chain [1] done processing\n",
      "16:08:50 - cmdstanpy - ERROR - Chain [1] error: error during processing Stale NFS file handle\n",
      "Optimization terminated abnormally. Falling back to Newton.\n",
      "16:08:50 - cmdstanpy - INFO - Chain [1] start processing\n",
      "16:08:50 - cmdstanpy - INFO - Chain [1] done processing\n",
      "16:08:51 - cmdstanpy - INFO - Chain [1] start processing\n",
      "16:08:51 - cmdstanpy - INFO - Chain [1] done processing\n",
      "16:08:51 - cmdstanpy - ERROR - Chain [1] error: error during processing Stale NFS file handle\n",
      "Optimization terminated abnormally. Falling back to Newton.\n",
      "16:08:51 - cmdstanpy - INFO - Chain [1] start processing\n",
      "16:08:51 - cmdstanpy - INFO - Chain [1] done processing\n",
      "16:08:52 - cmdstanpy - INFO - Chain [1] start processing\n",
      "16:08:52 - cmdstanpy - INFO - Chain [1] done processing\n",
      "16:08:52 - cmdstanpy - ERROR - Chain [1] error: error during processing Stale NFS file handle\n",
      "Optimization terminated abnormally. Falling back to Newton.\n",
      "16:08:52 - cmdstanpy - INFO - Chain [1] start processing\n",
      "16:08:52 - cmdstanpy - INFO - Chain [1] done processing\n",
      "16:08:53 - cmdstanpy - INFO - Chain [1] start processing\n",
      "16:08:53 - cmdstanpy - INFO - Chain [1] done processing\n",
      "16:08:54 - cmdstanpy - INFO - Chain [1] start processing\n",
      "16:08:54 - cmdstanpy - INFO - Chain [1] done processing\n",
      "16:08:54 - cmdstanpy - ERROR - Chain [1] error: error during processing Stale NFS file handle\n",
      "Optimization terminated abnormally. Falling back to Newton.\n",
      "16:08:54 - cmdstanpy - INFO - Chain [1] start processing\n",
      "16:08:54 - cmdstanpy - INFO - Chain [1] done processing\n",
      "16:08:55 - cmdstanpy - INFO - Chain [1] start processing\n",
      "16:08:55 - cmdstanpy - INFO - Chain [1] done processing\n",
      "16:08:55 - cmdstanpy - ERROR - Chain [1] error: error during processing Stale NFS file handle\n",
      "Optimization terminated abnormally. Falling back to Newton.\n",
      "16:08:55 - cmdstanpy - INFO - Chain [1] start processing\n",
      "16:08:55 - cmdstanpy - INFO - Chain [1] done processing\n"
     ]
    },
    {
     "data": {
      "application/vnd.jupyter.widget-view+json": {
       "model_id": "98f4f10c104e4ca48c8ec134e55a375e",
       "version_major": 2,
       "version_minor": 0
      },
      "text/plain": [
       "  0%|          | 0/5 [00:00<?, ?it/s]"
      ]
     },
     "metadata": {},
     "output_type": "display_data"
    },
    {
     "name": "stderr",
     "output_type": "stream",
     "text": [
      "16:08:55 - cmdstanpy - INFO - Chain [1] start processing\n",
      "16:08:55 - cmdstanpy - INFO - Chain [1] done processing\n",
      "16:08:55 - cmdstanpy - ERROR - Chain [1] error: error during processing Stale NFS file handle\n",
      "Optimization terminated abnormally. Falling back to Newton.\n",
      "16:08:55 - cmdstanpy - INFO - Chain [1] start processing\n",
      "16:08:55 - cmdstanpy - INFO - Chain [1] done processing\n",
      "16:08:56 - cmdstanpy - INFO - Chain [1] start processing\n",
      "16:08:56 - cmdstanpy - INFO - Chain [1] done processing\n",
      "16:08:56 - cmdstanpy - ERROR - Chain [1] error: error during processing Stale NFS file handle\n",
      "Optimization terminated abnormally. Falling back to Newton.\n",
      "16:08:56 - cmdstanpy - INFO - Chain [1] start processing\n",
      "16:08:56 - cmdstanpy - INFO - Chain [1] done processing\n",
      "16:08:57 - cmdstanpy - INFO - Chain [1] start processing\n",
      "16:08:57 - cmdstanpy - INFO - Chain [1] done processing\n",
      "16:08:57 - cmdstanpy - ERROR - Chain [1] error: error during processing Stale NFS file handle\n",
      "Optimization terminated abnormally. Falling back to Newton.\n",
      "16:08:57 - cmdstanpy - INFO - Chain [1] start processing\n",
      "16:08:57 - cmdstanpy - INFO - Chain [1] done processing\n",
      "16:08:58 - cmdstanpy - INFO - Chain [1] start processing\n",
      "16:08:58 - cmdstanpy - INFO - Chain [1] done processing\n",
      "16:08:58 - cmdstanpy - INFO - Chain [1] start processing\n",
      "16:08:58 - cmdstanpy - INFO - Chain [1] done processing\n",
      "16:08:58 - cmdstanpy - ERROR - Chain [1] error: error during processing Stale NFS file handle\n",
      "Optimization terminated abnormally. Falling back to Newton.\n",
      "16:08:58 - cmdstanpy - INFO - Chain [1] start processing\n",
      "16:08:59 - cmdstanpy - INFO - Chain [1] done processing\n",
      "16:08:59 - cmdstanpy - INFO - Chain [1] start processing\n",
      "16:08:59 - cmdstanpy - INFO - Chain [1] done processing\n",
      "16:08:59 - cmdstanpy - ERROR - Chain [1] error: error during processing Stale NFS file handle\n",
      "Optimization terminated abnormally. Falling back to Newton.\n",
      "16:08:59 - cmdstanpy - INFO - Chain [1] start processing\n",
      "16:09:00 - cmdstanpy - INFO - Chain [1] done processing\n"
     ]
    },
    {
     "data": {
      "application/vnd.jupyter.widget-view+json": {
       "model_id": "9d650114e8434c3ca9bb5026292a78b4",
       "version_major": 2,
       "version_minor": 0
      },
      "text/plain": [
       "  0%|          | 0/5 [00:00<?, ?it/s]"
      ]
     },
     "metadata": {},
     "output_type": "display_data"
    },
    {
     "name": "stderr",
     "output_type": "stream",
     "text": [
      "16:09:00 - cmdstanpy - INFO - Chain [1] start processing\n",
      "16:09:00 - cmdstanpy - INFO - Chain [1] done processing\n",
      "16:09:00 - cmdstanpy - ERROR - Chain [1] error: error during processing Stale NFS file handle\n",
      "Optimization terminated abnormally. Falling back to Newton.\n",
      "16:09:00 - cmdstanpy - INFO - Chain [1] start processing\n",
      "16:09:00 - cmdstanpy - INFO - Chain [1] done processing\n",
      "16:09:01 - cmdstanpy - INFO - Chain [1] start processing\n",
      "16:09:01 - cmdstanpy - INFO - Chain [1] done processing\n",
      "16:09:01 - cmdstanpy - ERROR - Chain [1] error: error during processing Stale NFS file handle\n",
      "Optimization terminated abnormally. Falling back to Newton.\n",
      "16:09:01 - cmdstanpy - INFO - Chain [1] start processing\n",
      "16:09:01 - cmdstanpy - INFO - Chain [1] done processing\n",
      "16:09:02 - cmdstanpy - INFO - Chain [1] start processing\n",
      "16:09:02 - cmdstanpy - INFO - Chain [1] done processing\n",
      "16:09:02 - cmdstanpy - ERROR - Chain [1] error: error during processing Stale NFS file handle\n",
      "Optimization terminated abnormally. Falling back to Newton.\n",
      "16:09:02 - cmdstanpy - INFO - Chain [1] start processing\n",
      "16:09:02 - cmdstanpy - INFO - Chain [1] done processing\n",
      "16:09:03 - cmdstanpy - INFO - Chain [1] start processing\n",
      "16:09:03 - cmdstanpy - INFO - Chain [1] done processing\n",
      "16:09:03 - cmdstanpy - INFO - Chain [1] start processing\n",
      "16:09:03 - cmdstanpy - INFO - Chain [1] done processing\n",
      "16:09:03 - cmdstanpy - ERROR - Chain [1] error: error during processing Stale NFS file handle\n",
      "Optimization terminated abnormally. Falling back to Newton.\n",
      "16:09:03 - cmdstanpy - INFO - Chain [1] start processing\n",
      "16:09:03 - cmdstanpy - INFO - Chain [1] done processing\n",
      "16:09:04 - cmdstanpy - INFO - Chain [1] start processing\n",
      "16:09:04 - cmdstanpy - INFO - Chain [1] done processing\n"
     ]
    },
    {
     "data": {
      "application/vnd.jupyter.widget-view+json": {
       "model_id": "74f4d6233c854edbb6b88ba603f02b0e",
       "version_major": 2,
       "version_minor": 0
      },
      "text/plain": [
       "  0%|          | 0/5 [00:00<?, ?it/s]"
      ]
     },
     "metadata": {},
     "output_type": "display_data"
    },
    {
     "name": "stderr",
     "output_type": "stream",
     "text": [
      "16:09:04 - cmdstanpy - INFO - Chain [1] start processing\n",
      "16:09:04 - cmdstanpy - INFO - Chain [1] done processing\n",
      "16:09:05 - cmdstanpy - INFO - Chain [1] start processing\n",
      "16:09:05 - cmdstanpy - INFO - Chain [1] done processing\n",
      "16:09:06 - cmdstanpy - INFO - Chain [1] start processing\n",
      "16:09:06 - cmdstanpy - INFO - Chain [1] done processing\n",
      "16:09:06 - cmdstanpy - INFO - Chain [1] start processing\n",
      "16:09:06 - cmdstanpy - INFO - Chain [1] done processing\n",
      "16:09:07 - cmdstanpy - INFO - Chain [1] start processing\n",
      "16:09:07 - cmdstanpy - INFO - Chain [1] done processing\n",
      "16:09:08 - cmdstanpy - INFO - Chain [1] start processing\n",
      "16:09:08 - cmdstanpy - INFO - Chain [1] done processing\n"
     ]
    },
    {
     "data": {
      "application/vnd.jupyter.widget-view+json": {
       "model_id": "941c65dd0f404b21a2f37a4589d1e58b",
       "version_major": 2,
       "version_minor": 0
      },
      "text/plain": [
       "  0%|          | 0/5 [00:00<?, ?it/s]"
      ]
     },
     "metadata": {},
     "output_type": "display_data"
    },
    {
     "name": "stderr",
     "output_type": "stream",
     "text": [
      "16:09:08 - cmdstanpy - INFO - Chain [1] start processing\n",
      "16:09:08 - cmdstanpy - INFO - Chain [1] done processing\n",
      "16:09:08 - cmdstanpy - INFO - Chain [1] start processing\n",
      "16:09:08 - cmdstanpy - INFO - Chain [1] done processing\n",
      "16:09:09 - cmdstanpy - INFO - Chain [1] start processing\n",
      "16:09:09 - cmdstanpy - INFO - Chain [1] done processing\n",
      "16:09:10 - cmdstanpy - INFO - Chain [1] start processing\n",
      "16:09:10 - cmdstanpy - INFO - Chain [1] done processing\n",
      "16:09:11 - cmdstanpy - INFO - Chain [1] start processing\n",
      "16:09:11 - cmdstanpy - INFO - Chain [1] done processing\n",
      "16:09:11 - cmdstanpy - INFO - Chain [1] start processing\n",
      "16:09:11 - cmdstanpy - INFO - Chain [1] done processing\n"
     ]
    },
    {
     "data": {
      "application/vnd.jupyter.widget-view+json": {
       "model_id": "e435bd9d39114c7f90cd748f2a0909db",
       "version_major": 2,
       "version_minor": 0
      },
      "text/plain": [
       "  0%|          | 0/5 [00:00<?, ?it/s]"
      ]
     },
     "metadata": {},
     "output_type": "display_data"
    },
    {
     "name": "stderr",
     "output_type": "stream",
     "text": [
      "16:09:11 - cmdstanpy - INFO - Chain [1] start processing\n",
      "16:09:11 - cmdstanpy - INFO - Chain [1] done processing\n",
      "16:09:12 - cmdstanpy - INFO - Chain [1] start processing\n",
      "16:09:12 - cmdstanpy - INFO - Chain [1] done processing\n",
      "16:09:13 - cmdstanpy - INFO - Chain [1] start processing\n",
      "16:09:13 - cmdstanpy - INFO - Chain [1] done processing\n",
      "16:09:13 - cmdstanpy - INFO - Chain [1] start processing\n",
      "16:09:13 - cmdstanpy - INFO - Chain [1] done processing\n",
      "16:09:14 - cmdstanpy - INFO - Chain [1] start processing\n",
      "16:09:14 - cmdstanpy - INFO - Chain [1] done processing\n",
      "16:09:15 - cmdstanpy - INFO - Chain [1] start processing\n",
      "16:09:15 - cmdstanpy - INFO - Chain [1] done processing\n"
     ]
    },
    {
     "data": {
      "application/vnd.jupyter.widget-view+json": {
       "model_id": "2109ce7f9e09439e89b7c4fe31e1ca35",
       "version_major": 2,
       "version_minor": 0
      },
      "text/plain": [
       "  0%|          | 0/5 [00:00<?, ?it/s]"
      ]
     },
     "metadata": {},
     "output_type": "display_data"
    },
    {
     "name": "stderr",
     "output_type": "stream",
     "text": [
      "16:09:15 - cmdstanpy - INFO - Chain [1] start processing\n",
      "16:09:15 - cmdstanpy - INFO - Chain [1] done processing\n",
      "16:09:15 - cmdstanpy - INFO - Chain [1] start processing\n",
      "16:09:15 - cmdstanpy - INFO - Chain [1] done processing\n",
      "16:09:16 - cmdstanpy - INFO - Chain [1] start processing\n",
      "16:09:16 - cmdstanpy - INFO - Chain [1] done processing\n",
      "16:09:17 - cmdstanpy - INFO - Chain [1] start processing\n",
      "16:09:17 - cmdstanpy - INFO - Chain [1] done processing\n",
      "16:09:17 - cmdstanpy - INFO - Chain [1] start processing\n",
      "16:09:18 - cmdstanpy - INFO - Chain [1] done processing\n",
      "16:09:18 - cmdstanpy - INFO - Chain [1] start processing\n",
      "16:09:18 - cmdstanpy - INFO - Chain [1] done processing\n"
     ]
    },
    {
     "data": {
      "application/vnd.jupyter.widget-view+json": {
       "model_id": "35610e0efac94656979a4d3d3c5e197d",
       "version_major": 2,
       "version_minor": 0
      },
      "text/plain": [
       "  0%|          | 0/5 [00:00<?, ?it/s]"
      ]
     },
     "metadata": {},
     "output_type": "display_data"
    },
    {
     "name": "stderr",
     "output_type": "stream",
     "text": [
      "16:09:18 - cmdstanpy - INFO - Chain [1] start processing\n",
      "16:09:18 - cmdstanpy - INFO - Chain [1] done processing\n",
      "16:09:19 - cmdstanpy - INFO - Chain [1] start processing\n",
      "16:09:19 - cmdstanpy - INFO - Chain [1] done processing\n",
      "16:09:20 - cmdstanpy - INFO - Chain [1] start processing\n",
      "16:09:20 - cmdstanpy - INFO - Chain [1] done processing\n",
      "16:09:20 - cmdstanpy - INFO - Chain [1] start processing\n",
      "16:09:20 - cmdstanpy - INFO - Chain [1] done processing\n",
      "16:09:21 - cmdstanpy - INFO - Chain [1] start processing\n",
      "16:09:21 - cmdstanpy - INFO - Chain [1] done processing\n",
      "16:09:22 - cmdstanpy - INFO - Chain [1] start processing\n",
      "16:09:22 - cmdstanpy - INFO - Chain [1] done processing\n"
     ]
    },
    {
     "data": {
      "application/vnd.jupyter.widget-view+json": {
       "model_id": "13a35cd73ef14a289bdf973592fe3916",
       "version_major": 2,
       "version_minor": 0
      },
      "text/plain": [
       "  0%|          | 0/5 [00:00<?, ?it/s]"
      ]
     },
     "metadata": {},
     "output_type": "display_data"
    },
    {
     "name": "stderr",
     "output_type": "stream",
     "text": [
      "16:09:22 - cmdstanpy - INFO - Chain [1] start processing\n",
      "16:09:22 - cmdstanpy - INFO - Chain [1] done processing\n",
      "16:09:22 - cmdstanpy - INFO - Chain [1] start processing\n",
      "16:09:22 - cmdstanpy - INFO - Chain [1] done processing\n",
      "16:09:23 - cmdstanpy - INFO - Chain [1] start processing\n",
      "16:09:23 - cmdstanpy - INFO - Chain [1] done processing\n",
      "16:09:24 - cmdstanpy - INFO - Chain [1] start processing\n",
      "16:09:24 - cmdstanpy - INFO - Chain [1] done processing\n",
      "16:09:24 - cmdstanpy - INFO - Chain [1] start processing\n",
      "16:09:24 - cmdstanpy - INFO - Chain [1] done processing\n",
      "16:09:25 - cmdstanpy - INFO - Chain [1] start processing\n",
      "16:09:25 - cmdstanpy - INFO - Chain [1] done processing\n"
     ]
    },
    {
     "data": {
      "application/vnd.jupyter.widget-view+json": {
       "model_id": "f722a15e020c42648a54fb4ab430abea",
       "version_major": 2,
       "version_minor": 0
      },
      "text/plain": [
       "  0%|          | 0/5 [00:00<?, ?it/s]"
      ]
     },
     "metadata": {},
     "output_type": "display_data"
    },
    {
     "name": "stderr",
     "output_type": "stream",
     "text": [
      "16:09:25 - cmdstanpy - INFO - Chain [1] start processing\n",
      "16:09:25 - cmdstanpy - INFO - Chain [1] done processing\n",
      "16:09:26 - cmdstanpy - INFO - Chain [1] start processing\n",
      "16:09:26 - cmdstanpy - INFO - Chain [1] done processing\n",
      "16:09:27 - cmdstanpy - INFO - Chain [1] start processing\n",
      "16:09:27 - cmdstanpy - INFO - Chain [1] done processing\n",
      "16:09:27 - cmdstanpy - INFO - Chain [1] start processing\n",
      "16:09:28 - cmdstanpy - INFO - Chain [1] done processing\n",
      "16:09:28 - cmdstanpy - INFO - Chain [1] start processing\n",
      "16:09:28 - cmdstanpy - INFO - Chain [1] done processing\n",
      "16:09:29 - cmdstanpy - INFO - Chain [1] start processing\n",
      "16:09:29 - cmdstanpy - INFO - Chain [1] done processing\n"
     ]
    },
    {
     "data": {
      "application/vnd.jupyter.widget-view+json": {
       "model_id": "39caf7bac6244e92add68ceaaa6967e0",
       "version_major": 2,
       "version_minor": 0
      },
      "text/plain": [
       "  0%|          | 0/5 [00:00<?, ?it/s]"
      ]
     },
     "metadata": {},
     "output_type": "display_data"
    },
    {
     "name": "stderr",
     "output_type": "stream",
     "text": [
      "16:09:29 - cmdstanpy - INFO - Chain [1] start processing\n",
      "16:09:29 - cmdstanpy - INFO - Chain [1] done processing\n",
      "16:09:30 - cmdstanpy - INFO - Chain [1] start processing\n",
      "16:09:30 - cmdstanpy - INFO - Chain [1] done processing\n",
      "16:09:31 - cmdstanpy - INFO - Chain [1] start processing\n",
      "16:09:31 - cmdstanpy - INFO - Chain [1] done processing\n",
      "16:09:31 - cmdstanpy - INFO - Chain [1] start processing\n",
      "16:09:31 - cmdstanpy - INFO - Chain [1] done processing\n",
      "16:09:32 - cmdstanpy - INFO - Chain [1] start processing\n",
      "16:09:32 - cmdstanpy - INFO - Chain [1] done processing\n",
      "16:09:33 - cmdstanpy - INFO - Chain [1] start processing\n",
      "16:09:33 - cmdstanpy - INFO - Chain [1] done processing\n"
     ]
    },
    {
     "data": {
      "application/vnd.jupyter.widget-view+json": {
       "model_id": "e48abab440c84851addf93a1367ec090",
       "version_major": 2,
       "version_minor": 0
      },
      "text/plain": [
       "  0%|          | 0/5 [00:00<?, ?it/s]"
      ]
     },
     "metadata": {},
     "output_type": "display_data"
    },
    {
     "name": "stderr",
     "output_type": "stream",
     "text": [
      "16:09:33 - cmdstanpy - INFO - Chain [1] start processing\n",
      "16:09:33 - cmdstanpy - INFO - Chain [1] done processing\n",
      "16:09:33 - cmdstanpy - INFO - Chain [1] start processing\n",
      "16:09:33 - cmdstanpy - INFO - Chain [1] done processing\n",
      "16:09:34 - cmdstanpy - INFO - Chain [1] start processing\n",
      "16:09:34 - cmdstanpy - INFO - Chain [1] done processing\n",
      "16:09:35 - cmdstanpy - INFO - Chain [1] start processing\n",
      "16:09:35 - cmdstanpy - INFO - Chain [1] done processing\n",
      "16:09:35 - cmdstanpy - INFO - Chain [1] start processing\n",
      "16:09:35 - cmdstanpy - INFO - Chain [1] done processing\n",
      "16:09:36 - cmdstanpy - INFO - Chain [1] start processing\n",
      "16:09:36 - cmdstanpy - INFO - Chain [1] done processing\n"
     ]
    },
    {
     "data": {
      "application/vnd.jupyter.widget-view+json": {
       "model_id": "427e54e8c65745259ffa749edad741f2",
       "version_major": 2,
       "version_minor": 0
      },
      "text/plain": [
       "  0%|          | 0/5 [00:00<?, ?it/s]"
      ]
     },
     "metadata": {},
     "output_type": "display_data"
    },
    {
     "name": "stderr",
     "output_type": "stream",
     "text": [
      "16:09:36 - cmdstanpy - INFO - Chain [1] start processing\n",
      "16:09:36 - cmdstanpy - INFO - Chain [1] done processing\n",
      "16:09:37 - cmdstanpy - INFO - Chain [1] start processing\n",
      "16:09:37 - cmdstanpy - INFO - Chain [1] done processing\n",
      "16:09:38 - cmdstanpy - INFO - Chain [1] start processing\n",
      "16:09:38 - cmdstanpy - INFO - Chain [1] done processing\n",
      "16:09:38 - cmdstanpy - INFO - Chain [1] start processing\n",
      "16:09:38 - cmdstanpy - INFO - Chain [1] done processing\n",
      "16:09:39 - cmdstanpy - INFO - Chain [1] start processing\n",
      "16:09:39 - cmdstanpy - INFO - Chain [1] done processing\n",
      "16:09:40 - cmdstanpy - INFO - Chain [1] start processing\n",
      "16:09:40 - cmdstanpy - INFO - Chain [1] done processing\n"
     ]
    },
    {
     "data": {
      "application/vnd.jupyter.widget-view+json": {
       "model_id": "aeebc8733fbb44a283aae0c63f557c42",
       "version_major": 2,
       "version_minor": 0
      },
      "text/plain": [
       "  0%|          | 0/5 [00:00<?, ?it/s]"
      ]
     },
     "metadata": {},
     "output_type": "display_data"
    },
    {
     "name": "stderr",
     "output_type": "stream",
     "text": [
      "16:09:40 - cmdstanpy - INFO - Chain [1] start processing\n",
      "16:09:40 - cmdstanpy - INFO - Chain [1] done processing\n",
      "16:09:40 - cmdstanpy - INFO - Chain [1] start processing\n",
      "16:09:40 - cmdstanpy - INFO - Chain [1] done processing\n",
      "16:09:41 - cmdstanpy - INFO - Chain [1] start processing\n",
      "16:09:41 - cmdstanpy - INFO - Chain [1] done processing\n",
      "16:09:42 - cmdstanpy - INFO - Chain [1] start processing\n",
      "16:09:42 - cmdstanpy - INFO - Chain [1] done processing\n",
      "16:09:42 - cmdstanpy - INFO - Chain [1] start processing\n",
      "16:09:42 - cmdstanpy - INFO - Chain [1] done processing\n",
      "16:09:43 - cmdstanpy - INFO - Chain [1] start processing\n",
      "16:09:43 - cmdstanpy - INFO - Chain [1] done processing\n"
     ]
    },
    {
     "data": {
      "application/vnd.jupyter.widget-view+json": {
       "model_id": "e3d7f0c43159461a8ce3292867b83363",
       "version_major": 2,
       "version_minor": 0
      },
      "text/plain": [
       "  0%|          | 0/5 [00:00<?, ?it/s]"
      ]
     },
     "metadata": {},
     "output_type": "display_data"
    },
    {
     "name": "stderr",
     "output_type": "stream",
     "text": [
      "16:09:43 - cmdstanpy - INFO - Chain [1] start processing\n",
      "16:09:43 - cmdstanpy - INFO - Chain [1] done processing\n",
      "16:09:44 - cmdstanpy - INFO - Chain [1] start processing\n",
      "16:09:44 - cmdstanpy - INFO - Chain [1] done processing\n",
      "16:09:45 - cmdstanpy - INFO - Chain [1] start processing\n",
      "16:09:45 - cmdstanpy - INFO - Chain [1] done processing\n",
      "16:09:45 - cmdstanpy - INFO - Chain [1] start processing\n",
      "16:09:45 - cmdstanpy - INFO - Chain [1] done processing\n",
      "16:09:46 - cmdstanpy - INFO - Chain [1] start processing\n",
      "16:09:46 - cmdstanpy - INFO - Chain [1] done processing\n",
      "16:09:47 - cmdstanpy - INFO - Chain [1] start processing\n",
      "16:09:47 - cmdstanpy - INFO - Chain [1] done processing\n"
     ]
    },
    {
     "data": {
      "application/vnd.jupyter.widget-view+json": {
       "model_id": "9820b821405a475aaee2ff17658a1c4d",
       "version_major": 2,
       "version_minor": 0
      },
      "text/plain": [
       "  0%|          | 0/5 [00:00<?, ?it/s]"
      ]
     },
     "metadata": {},
     "output_type": "display_data"
    },
    {
     "name": "stderr",
     "output_type": "stream",
     "text": [
      "16:09:47 - cmdstanpy - INFO - Chain [1] start processing\n",
      "16:09:47 - cmdstanpy - INFO - Chain [1] done processing\n",
      "16:09:47 - cmdstanpy - INFO - Chain [1] start processing\n",
      "16:09:47 - cmdstanpy - INFO - Chain [1] done processing\n",
      "16:09:48 - cmdstanpy - INFO - Chain [1] start processing\n",
      "16:09:48 - cmdstanpy - INFO - Chain [1] done processing\n",
      "16:09:49 - cmdstanpy - INFO - Chain [1] start processing\n",
      "16:09:49 - cmdstanpy - INFO - Chain [1] done processing\n",
      "16:09:49 - cmdstanpy - INFO - Chain [1] start processing\n",
      "16:09:49 - cmdstanpy - INFO - Chain [1] done processing\n",
      "16:09:50 - cmdstanpy - INFO - Chain [1] start processing\n",
      "16:09:50 - cmdstanpy - INFO - Chain [1] done processing\n"
     ]
    },
    {
     "data": {
      "application/vnd.jupyter.widget-view+json": {
       "model_id": "e34e193e22c14e3280e52ada2de9a5cb",
       "version_major": 2,
       "version_minor": 0
      },
      "text/plain": [
       "  0%|          | 0/5 [00:00<?, ?it/s]"
      ]
     },
     "metadata": {},
     "output_type": "display_data"
    },
    {
     "name": "stderr",
     "output_type": "stream",
     "text": [
      "16:09:50 - cmdstanpy - INFO - Chain [1] start processing\n",
      "16:09:50 - cmdstanpy - INFO - Chain [1] done processing\n",
      "16:09:51 - cmdstanpy - INFO - Chain [1] start processing\n",
      "16:09:51 - cmdstanpy - INFO - Chain [1] done processing\n",
      "16:09:51 - cmdstanpy - INFO - Chain [1] start processing\n",
      "16:09:52 - cmdstanpy - INFO - Chain [1] done processing\n",
      "16:09:52 - cmdstanpy - INFO - Chain [1] start processing\n",
      "16:09:52 - cmdstanpy - INFO - Chain [1] done processing\n",
      "16:09:53 - cmdstanpy - INFO - Chain [1] start processing\n",
      "16:09:53 - cmdstanpy - INFO - Chain [1] done processing\n",
      "16:09:53 - cmdstanpy - INFO - Chain [1] start processing\n",
      "16:09:54 - cmdstanpy - INFO - Chain [1] done processing\n"
     ]
    },
    {
     "data": {
      "application/vnd.jupyter.widget-view+json": {
       "model_id": "ab60bff5e793429da5be2c934a44f6c9",
       "version_major": 2,
       "version_minor": 0
      },
      "text/plain": [
       "  0%|          | 0/5 [00:00<?, ?it/s]"
      ]
     },
     "metadata": {},
     "output_type": "display_data"
    },
    {
     "name": "stderr",
     "output_type": "stream",
     "text": [
      "16:09:54 - cmdstanpy - INFO - Chain [1] start processing\n",
      "16:09:54 - cmdstanpy - INFO - Chain [1] done processing\n",
      "16:09:54 - cmdstanpy - INFO - Chain [1] start processing\n",
      "16:09:54 - cmdstanpy - INFO - Chain [1] done processing\n",
      "16:09:55 - cmdstanpy - INFO - Chain [1] start processing\n",
      "16:09:55 - cmdstanpy - INFO - Chain [1] done processing\n",
      "16:09:56 - cmdstanpy - INFO - Chain [1] start processing\n",
      "16:09:56 - cmdstanpy - INFO - Chain [1] done processing\n",
      "16:09:56 - cmdstanpy - INFO - Chain [1] start processing\n",
      "16:09:56 - cmdstanpy - INFO - Chain [1] done processing\n",
      "16:09:57 - cmdstanpy - INFO - Chain [1] start processing\n",
      "16:09:57 - cmdstanpy - INFO - Chain [1] done processing\n"
     ]
    },
    {
     "data": {
      "application/vnd.jupyter.widget-view+json": {
       "model_id": "965cd73e06dd4249942b06de311ec488",
       "version_major": 2,
       "version_minor": 0
      },
      "text/plain": [
       "  0%|          | 0/5 [00:00<?, ?it/s]"
      ]
     },
     "metadata": {},
     "output_type": "display_data"
    },
    {
     "name": "stderr",
     "output_type": "stream",
     "text": [
      "16:09:57 - cmdstanpy - INFO - Chain [1] start processing\n",
      "16:09:57 - cmdstanpy - INFO - Chain [1] done processing\n",
      "16:09:58 - cmdstanpy - INFO - Chain [1] start processing\n",
      "16:09:58 - cmdstanpy - INFO - Chain [1] done processing\n",
      "16:09:58 - cmdstanpy - INFO - Chain [1] start processing\n",
      "16:09:58 - cmdstanpy - INFO - Chain [1] done processing\n",
      "16:09:59 - cmdstanpy - INFO - Chain [1] start processing\n",
      "16:09:59 - cmdstanpy - INFO - Chain [1] done processing\n",
      "16:10:00 - cmdstanpy - INFO - Chain [1] start processing\n",
      "16:10:00 - cmdstanpy - INFO - Chain [1] done processing\n",
      "16:10:01 - cmdstanpy - INFO - Chain [1] start processing\n",
      "16:10:01 - cmdstanpy - INFO - Chain [1] done processing\n"
     ]
    },
    {
     "data": {
      "application/vnd.jupyter.widget-view+json": {
       "model_id": "910f63e3b2e44639a86db746c72748a9",
       "version_major": 2,
       "version_minor": 0
      },
      "text/plain": [
       "  0%|          | 0/5 [00:00<?, ?it/s]"
      ]
     },
     "metadata": {},
     "output_type": "display_data"
    },
    {
     "name": "stderr",
     "output_type": "stream",
     "text": [
      "16:10:01 - cmdstanpy - INFO - Chain [1] start processing\n",
      "16:10:01 - cmdstanpy - INFO - Chain [1] done processing\n",
      "16:10:01 - cmdstanpy - INFO - Chain [1] start processing\n",
      "16:10:01 - cmdstanpy - INFO - Chain [1] done processing\n",
      "16:10:02 - cmdstanpy - INFO - Chain [1] start processing\n",
      "16:10:02 - cmdstanpy - INFO - Chain [1] done processing\n",
      "16:10:03 - cmdstanpy - INFO - Chain [1] start processing\n",
      "16:10:03 - cmdstanpy - INFO - Chain [1] done processing\n",
      "16:10:03 - cmdstanpy - INFO - Chain [1] start processing\n",
      "16:10:03 - cmdstanpy - INFO - Chain [1] done processing\n",
      "16:10:04 - cmdstanpy - INFO - Chain [1] start processing\n",
      "16:10:04 - cmdstanpy - INFO - Chain [1] done processing\n"
     ]
    },
    {
     "data": {
      "application/vnd.jupyter.widget-view+json": {
       "model_id": "2e8ab28e0ba349cfa17ac5dbde39a15a",
       "version_major": 2,
       "version_minor": 0
      },
      "text/plain": [
       "  0%|          | 0/5 [00:00<?, ?it/s]"
      ]
     },
     "metadata": {},
     "output_type": "display_data"
    },
    {
     "name": "stderr",
     "output_type": "stream",
     "text": [
      "16:10:04 - cmdstanpy - INFO - Chain [1] start processing\n",
      "16:10:04 - cmdstanpy - INFO - Chain [1] done processing\n",
      "16:10:05 - cmdstanpy - INFO - Chain [1] start processing\n",
      "16:10:05 - cmdstanpy - INFO - Chain [1] done processing\n",
      "16:10:06 - cmdstanpy - INFO - Chain [1] start processing\n",
      "16:10:06 - cmdstanpy - INFO - Chain [1] done processing\n",
      "16:10:06 - cmdstanpy - INFO - Chain [1] start processing\n",
      "16:10:06 - cmdstanpy - INFO - Chain [1] done processing\n",
      "16:10:07 - cmdstanpy - INFO - Chain [1] start processing\n",
      "16:10:07 - cmdstanpy - INFO - Chain [1] done processing\n",
      "16:10:08 - cmdstanpy - INFO - Chain [1] start processing\n",
      "16:10:08 - cmdstanpy - INFO - Chain [1] done processing\n"
     ]
    },
    {
     "data": {
      "application/vnd.jupyter.widget-view+json": {
       "model_id": "d705ee188ed04458b7a575cc414bac7a",
       "version_major": 2,
       "version_minor": 0
      },
      "text/plain": [
       "  0%|          | 0/5 [00:00<?, ?it/s]"
      ]
     },
     "metadata": {},
     "output_type": "display_data"
    },
    {
     "name": "stderr",
     "output_type": "stream",
     "text": [
      "16:10:08 - cmdstanpy - INFO - Chain [1] start processing\n",
      "16:10:08 - cmdstanpy - INFO - Chain [1] done processing\n",
      "16:10:09 - cmdstanpy - INFO - Chain [1] start processing\n",
      "16:10:09 - cmdstanpy - INFO - Chain [1] done processing\n",
      "16:10:09 - cmdstanpy - INFO - Chain [1] start processing\n",
      "16:10:09 - cmdstanpy - INFO - Chain [1] done processing\n",
      "16:10:10 - cmdstanpy - INFO - Chain [1] start processing\n",
      "16:10:10 - cmdstanpy - INFO - Chain [1] done processing\n",
      "16:10:11 - cmdstanpy - INFO - Chain [1] start processing\n",
      "16:10:11 - cmdstanpy - INFO - Chain [1] done processing\n",
      "16:10:11 - cmdstanpy - INFO - Chain [1] start processing\n",
      "16:10:11 - cmdstanpy - INFO - Chain [1] done processing\n"
     ]
    },
    {
     "data": {
      "application/vnd.jupyter.widget-view+json": {
       "model_id": "97b598e2255d493b93ec53f439e042bb",
       "version_major": 2,
       "version_minor": 0
      },
      "text/plain": [
       "  0%|          | 0/5 [00:00<?, ?it/s]"
      ]
     },
     "metadata": {},
     "output_type": "display_data"
    },
    {
     "name": "stderr",
     "output_type": "stream",
     "text": [
      "16:10:11 - cmdstanpy - INFO - Chain [1] start processing\n",
      "16:10:11 - cmdstanpy - INFO - Chain [1] done processing\n",
      "16:10:12 - cmdstanpy - INFO - Chain [1] start processing\n",
      "16:10:12 - cmdstanpy - INFO - Chain [1] done processing\n",
      "16:10:13 - cmdstanpy - INFO - Chain [1] start processing\n",
      "16:10:13 - cmdstanpy - INFO - Chain [1] done processing\n",
      "16:10:13 - cmdstanpy - INFO - Chain [1] start processing\n",
      "16:10:13 - cmdstanpy - INFO - Chain [1] done processing\n",
      "16:10:14 - cmdstanpy - INFO - Chain [1] start processing\n",
      "16:10:14 - cmdstanpy - INFO - Chain [1] done processing\n",
      "16:10:15 - cmdstanpy - INFO - Chain [1] start processing\n",
      "16:10:15 - cmdstanpy - INFO - Chain [1] done processing\n"
     ]
    },
    {
     "data": {
      "application/vnd.jupyter.widget-view+json": {
       "model_id": "211a640402f84408b11b3168d1039cf1",
       "version_major": 2,
       "version_minor": 0
      },
      "text/plain": [
       "  0%|          | 0/5 [00:00<?, ?it/s]"
      ]
     },
     "metadata": {},
     "output_type": "display_data"
    },
    {
     "name": "stderr",
     "output_type": "stream",
     "text": [
      "16:10:15 - cmdstanpy - INFO - Chain [1] start processing\n",
      "16:10:15 - cmdstanpy - INFO - Chain [1] done processing\n",
      "16:10:16 - cmdstanpy - INFO - Chain [1] start processing\n",
      "16:10:16 - cmdstanpy - INFO - Chain [1] done processing\n",
      "16:10:16 - cmdstanpy - INFO - Chain [1] start processing\n",
      "16:10:16 - cmdstanpy - INFO - Chain [1] done processing\n",
      "16:10:17 - cmdstanpy - INFO - Chain [1] start processing\n",
      "16:10:17 - cmdstanpy - INFO - Chain [1] done processing\n",
      "16:10:18 - cmdstanpy - INFO - Chain [1] start processing\n",
      "16:10:18 - cmdstanpy - INFO - Chain [1] done processing\n",
      "16:10:18 - cmdstanpy - INFO - Chain [1] start processing\n",
      "16:10:18 - cmdstanpy - INFO - Chain [1] done processing\n"
     ]
    },
    {
     "data": {
      "application/vnd.jupyter.widget-view+json": {
       "model_id": "5cec27d87a414690847197f13eaa0d38",
       "version_major": 2,
       "version_minor": 0
      },
      "text/plain": [
       "  0%|          | 0/5 [00:00<?, ?it/s]"
      ]
     },
     "metadata": {},
     "output_type": "display_data"
    },
    {
     "name": "stderr",
     "output_type": "stream",
     "text": [
      "16:10:19 - cmdstanpy - INFO - Chain [1] start processing\n",
      "16:10:19 - cmdstanpy - INFO - Chain [1] done processing\n",
      "16:10:19 - cmdstanpy - INFO - Chain [1] start processing\n",
      "16:10:19 - cmdstanpy - INFO - Chain [1] done processing\n",
      "16:10:20 - cmdstanpy - INFO - Chain [1] start processing\n",
      "16:10:20 - cmdstanpy - INFO - Chain [1] done processing\n",
      "16:10:21 - cmdstanpy - INFO - Chain [1] start processing\n",
      "16:10:21 - cmdstanpy - INFO - Chain [1] done processing\n",
      "16:10:21 - cmdstanpy - INFO - Chain [1] start processing\n",
      "16:10:21 - cmdstanpy - INFO - Chain [1] done processing\n",
      "16:10:22 - cmdstanpy - INFO - Chain [1] start processing\n",
      "16:10:22 - cmdstanpy - INFO - Chain [1] done processing\n"
     ]
    },
    {
     "data": {
      "application/vnd.jupyter.widget-view+json": {
       "model_id": "c6807574c39142149bf0b3f9057f9042",
       "version_major": 2,
       "version_minor": 0
      },
      "text/plain": [
       "  0%|          | 0/5 [00:00<?, ?it/s]"
      ]
     },
     "metadata": {},
     "output_type": "display_data"
    },
    {
     "name": "stderr",
     "output_type": "stream",
     "text": [
      "16:10:22 - cmdstanpy - INFO - Chain [1] start processing\n",
      "16:10:22 - cmdstanpy - INFO - Chain [1] done processing\n",
      "16:10:23 - cmdstanpy - INFO - Chain [1] start processing\n",
      "16:10:23 - cmdstanpy - INFO - Chain [1] done processing\n",
      "16:10:23 - cmdstanpy - INFO - Chain [1] start processing\n",
      "16:10:24 - cmdstanpy - INFO - Chain [1] done processing\n",
      "16:10:24 - cmdstanpy - INFO - Chain [1] start processing\n",
      "16:10:24 - cmdstanpy - INFO - Chain [1] done processing\n",
      "16:10:25 - cmdstanpy - INFO - Chain [1] start processing\n",
      "16:10:25 - cmdstanpy - INFO - Chain [1] done processing\n",
      "16:10:26 - cmdstanpy - INFO - Chain [1] start processing\n",
      "16:10:26 - cmdstanpy - INFO - Chain [1] done processing\n"
     ]
    },
    {
     "data": {
      "application/vnd.jupyter.widget-view+json": {
       "model_id": "88befe8252f44ed6ba6ca8a2bdb32d39",
       "version_major": 2,
       "version_minor": 0
      },
      "text/plain": [
       "  0%|          | 0/5 [00:00<?, ?it/s]"
      ]
     },
     "metadata": {},
     "output_type": "display_data"
    },
    {
     "name": "stderr",
     "output_type": "stream",
     "text": [
      "16:10:26 - cmdstanpy - INFO - Chain [1] start processing\n",
      "16:10:26 - cmdstanpy - INFO - Chain [1] done processing\n",
      "16:10:26 - cmdstanpy - INFO - Chain [1] start processing\n",
      "16:10:26 - cmdstanpy - INFO - Chain [1] done processing\n",
      "16:10:27 - cmdstanpy - INFO - Chain [1] start processing\n",
      "16:10:27 - cmdstanpy - INFO - Chain [1] done processing\n",
      "16:10:28 - cmdstanpy - INFO - Chain [1] start processing\n",
      "16:10:28 - cmdstanpy - INFO - Chain [1] done processing\n",
      "16:10:28 - cmdstanpy - INFO - Chain [1] start processing\n",
      "16:10:28 - cmdstanpy - INFO - Chain [1] done processing\n",
      "16:10:29 - cmdstanpy - INFO - Chain [1] start processing\n",
      "16:10:29 - cmdstanpy - INFO - Chain [1] done processing\n"
     ]
    },
    {
     "data": {
      "application/vnd.jupyter.widget-view+json": {
       "model_id": "3f663d7101e14073a7253bb62af3518b",
       "version_major": 2,
       "version_minor": 0
      },
      "text/plain": [
       "  0%|          | 0/5 [00:00<?, ?it/s]"
      ]
     },
     "metadata": {},
     "output_type": "display_data"
    },
    {
     "name": "stderr",
     "output_type": "stream",
     "text": [
      "16:10:29 - cmdstanpy - INFO - Chain [1] start processing\n",
      "16:10:29 - cmdstanpy - INFO - Chain [1] done processing\n",
      "16:10:30 - cmdstanpy - INFO - Chain [1] start processing\n",
      "16:10:30 - cmdstanpy - INFO - Chain [1] done processing\n",
      "16:10:31 - cmdstanpy - INFO - Chain [1] start processing\n",
      "16:10:31 - cmdstanpy - INFO - Chain [1] done processing\n",
      "16:10:31 - cmdstanpy - INFO - Chain [1] start processing\n",
      "16:10:31 - cmdstanpy - INFO - Chain [1] done processing\n",
      "16:10:32 - cmdstanpy - INFO - Chain [1] start processing\n",
      "16:10:32 - cmdstanpy - INFO - Chain [1] done processing\n",
      "16:10:33 - cmdstanpy - INFO - Chain [1] start processing\n",
      "16:10:33 - cmdstanpy - INFO - Chain [1] done processing\n"
     ]
    },
    {
     "data": {
      "application/vnd.jupyter.widget-view+json": {
       "model_id": "26d32e0c87be40698bea9e85834ee923",
       "version_major": 2,
       "version_minor": 0
      },
      "text/plain": [
       "  0%|          | 0/5 [00:00<?, ?it/s]"
      ]
     },
     "metadata": {},
     "output_type": "display_data"
    },
    {
     "name": "stderr",
     "output_type": "stream",
     "text": [
      "16:10:33 - cmdstanpy - INFO - Chain [1] start processing\n",
      "16:10:33 - cmdstanpy - INFO - Chain [1] done processing\n",
      "16:10:34 - cmdstanpy - INFO - Chain [1] start processing\n",
      "16:10:34 - cmdstanpy - INFO - Chain [1] done processing\n",
      "16:10:34 - cmdstanpy - INFO - Chain [1] start processing\n",
      "16:10:34 - cmdstanpy - INFO - Chain [1] done processing\n",
      "16:10:35 - cmdstanpy - INFO - Chain [1] start processing\n",
      "16:10:35 - cmdstanpy - INFO - Chain [1] done processing\n",
      "16:10:36 - cmdstanpy - INFO - Chain [1] start processing\n",
      "16:10:36 - cmdstanpy - INFO - Chain [1] done processing\n",
      "16:10:37 - cmdstanpy - INFO - Chain [1] start processing\n",
      "16:10:37 - cmdstanpy - INFO - Chain [1] done processing\n"
     ]
    },
    {
     "data": {
      "application/vnd.jupyter.widget-view+json": {
       "model_id": "28575a49417b4e47a9654599113c93ec",
       "version_major": 2,
       "version_minor": 0
      },
      "text/plain": [
       "  0%|          | 0/5 [00:00<?, ?it/s]"
      ]
     },
     "metadata": {},
     "output_type": "display_data"
    },
    {
     "name": "stderr",
     "output_type": "stream",
     "text": [
      "16:10:37 - cmdstanpy - INFO - Chain [1] start processing\n",
      "16:10:37 - cmdstanpy - INFO - Chain [1] done processing\n",
      "16:10:38 - cmdstanpy - INFO - Chain [1] start processing\n",
      "16:10:38 - cmdstanpy - INFO - Chain [1] done processing\n",
      "16:10:39 - cmdstanpy - INFO - Chain [1] start processing\n",
      "16:10:39 - cmdstanpy - INFO - Chain [1] done processing\n",
      "16:10:39 - cmdstanpy - INFO - Chain [1] start processing\n",
      "16:10:40 - cmdstanpy - INFO - Chain [1] done processing\n",
      "16:10:40 - cmdstanpy - INFO - Chain [1] start processing\n",
      "16:10:40 - cmdstanpy - INFO - Chain [1] done processing\n",
      "16:10:41 - cmdstanpy - INFO - Chain [1] start processing\n",
      "16:10:41 - cmdstanpy - INFO - Chain [1] done processing\n"
     ]
    },
    {
     "data": {
      "application/vnd.jupyter.widget-view+json": {
       "model_id": "69998bb89d8c4919b299e4476d137b08",
       "version_major": 2,
       "version_minor": 0
      },
      "text/plain": [
       "  0%|          | 0/5 [00:00<?, ?it/s]"
      ]
     },
     "metadata": {},
     "output_type": "display_data"
    },
    {
     "name": "stderr",
     "output_type": "stream",
     "text": [
      "16:10:41 - cmdstanpy - INFO - Chain [1] start processing\n",
      "16:10:41 - cmdstanpy - INFO - Chain [1] done processing\n",
      "16:10:42 - cmdstanpy - INFO - Chain [1] start processing\n",
      "16:10:42 - cmdstanpy - INFO - Chain [1] done processing\n",
      "16:10:42 - cmdstanpy - INFO - Chain [1] start processing\n",
      "16:10:42 - cmdstanpy - INFO - Chain [1] done processing\n",
      "16:10:43 - cmdstanpy - INFO - Chain [1] start processing\n",
      "16:10:43 - cmdstanpy - INFO - Chain [1] done processing\n",
      "16:10:44 - cmdstanpy - INFO - Chain [1] start processing\n",
      "16:10:44 - cmdstanpy - INFO - Chain [1] done processing\n",
      "16:10:45 - cmdstanpy - INFO - Chain [1] start processing\n",
      "16:10:45 - cmdstanpy - INFO - Chain [1] done processing\n"
     ]
    },
    {
     "data": {
      "application/vnd.jupyter.widget-view+json": {
       "model_id": "2f86b1cf56e74807a35e5642864037e7",
       "version_major": 2,
       "version_minor": 0
      },
      "text/plain": [
       "  0%|          | 0/5 [00:00<?, ?it/s]"
      ]
     },
     "metadata": {},
     "output_type": "display_data"
    },
    {
     "name": "stderr",
     "output_type": "stream",
     "text": [
      "16:10:45 - cmdstanpy - INFO - Chain [1] start processing\n",
      "16:10:45 - cmdstanpy - INFO - Chain [1] done processing\n",
      "16:10:45 - cmdstanpy - INFO - Chain [1] start processing\n",
      "16:10:45 - cmdstanpy - INFO - Chain [1] done processing\n",
      "16:10:46 - cmdstanpy - INFO - Chain [1] start processing\n",
      "16:10:46 - cmdstanpy - INFO - Chain [1] done processing\n",
      "16:10:47 - cmdstanpy - INFO - Chain [1] start processing\n",
      "16:10:47 - cmdstanpy - INFO - Chain [1] done processing\n",
      "16:10:47 - cmdstanpy - INFO - Chain [1] start processing\n",
      "16:10:47 - cmdstanpy - INFO - Chain [1] done processing\n",
      "16:10:48 - cmdstanpy - INFO - Chain [1] start processing\n",
      "16:10:48 - cmdstanpy - INFO - Chain [1] done processing\n"
     ]
    },
    {
     "data": {
      "application/vnd.jupyter.widget-view+json": {
       "model_id": "3a4db4815f02404a8af96c9bdff15c2a",
       "version_major": 2,
       "version_minor": 0
      },
      "text/plain": [
       "  0%|          | 0/5 [00:00<?, ?it/s]"
      ]
     },
     "metadata": {},
     "output_type": "display_data"
    },
    {
     "name": "stderr",
     "output_type": "stream",
     "text": [
      "16:10:48 - cmdstanpy - INFO - Chain [1] start processing\n",
      "16:10:48 - cmdstanpy - INFO - Chain [1] done processing\n",
      "16:10:49 - cmdstanpy - INFO - Chain [1] start processing\n",
      "16:10:49 - cmdstanpy - INFO - Chain [1] done processing\n",
      "16:10:50 - cmdstanpy - INFO - Chain [1] start processing\n",
      "16:10:50 - cmdstanpy - INFO - Chain [1] done processing\n",
      "16:10:50 - cmdstanpy - INFO - Chain [1] start processing\n",
      "16:10:50 - cmdstanpy - INFO - Chain [1] done processing\n",
      "16:10:51 - cmdstanpy - INFO - Chain [1] start processing\n",
      "16:10:51 - cmdstanpy - INFO - Chain [1] done processing\n",
      "16:10:52 - cmdstanpy - INFO - Chain [1] start processing\n",
      "16:10:52 - cmdstanpy - INFO - Chain [1] done processing\n"
     ]
    },
    {
     "data": {
      "application/vnd.jupyter.widget-view+json": {
       "model_id": "7b576c6815054d24afdb15734f085620",
       "version_major": 2,
       "version_minor": 0
      },
      "text/plain": [
       "  0%|          | 0/5 [00:00<?, ?it/s]"
      ]
     },
     "metadata": {},
     "output_type": "display_data"
    },
    {
     "name": "stderr",
     "output_type": "stream",
     "text": [
      "16:10:52 - cmdstanpy - INFO - Chain [1] start processing\n",
      "16:10:52 - cmdstanpy - INFO - Chain [1] done processing\n",
      "16:10:53 - cmdstanpy - INFO - Chain [1] start processing\n",
      "16:10:53 - cmdstanpy - INFO - Chain [1] done processing\n",
      "16:10:53 - cmdstanpy - INFO - Chain [1] start processing\n",
      "16:10:53 - cmdstanpy - INFO - Chain [1] done processing\n",
      "16:10:54 - cmdstanpy - INFO - Chain [1] start processing\n",
      "16:10:54 - cmdstanpy - INFO - Chain [1] done processing\n",
      "16:10:55 - cmdstanpy - INFO - Chain [1] start processing\n",
      "16:10:55 - cmdstanpy - INFO - Chain [1] done processing\n",
      "16:10:55 - cmdstanpy - INFO - Chain [1] start processing\n",
      "16:10:55 - cmdstanpy - INFO - Chain [1] done processing\n"
     ]
    },
    {
     "data": {
      "application/vnd.jupyter.widget-view+json": {
       "model_id": "21011b0e5a254d2f82c83395fd811087",
       "version_major": 2,
       "version_minor": 0
      },
      "text/plain": [
       "  0%|          | 0/5 [00:00<?, ?it/s]"
      ]
     },
     "metadata": {},
     "output_type": "display_data"
    },
    {
     "name": "stderr",
     "output_type": "stream",
     "text": [
      "16:10:55 - cmdstanpy - INFO - Chain [1] start processing\n",
      "16:10:55 - cmdstanpy - INFO - Chain [1] done processing\n",
      "16:10:56 - cmdstanpy - INFO - Chain [1] start processing\n",
      "16:10:56 - cmdstanpy - INFO - Chain [1] done processing\n",
      "16:10:57 - cmdstanpy - INFO - Chain [1] start processing\n",
      "16:10:57 - cmdstanpy - INFO - Chain [1] done processing\n",
      "16:10:57 - cmdstanpy - INFO - Chain [1] start processing\n",
      "16:10:57 - cmdstanpy - INFO - Chain [1] done processing\n",
      "16:10:58 - cmdstanpy - INFO - Chain [1] start processing\n",
      "16:10:58 - cmdstanpy - INFO - Chain [1] done processing\n",
      "16:10:59 - cmdstanpy - INFO - Chain [1] start processing\n",
      "16:10:59 - cmdstanpy - INFO - Chain [1] done processing\n"
     ]
    },
    {
     "data": {
      "application/vnd.jupyter.widget-view+json": {
       "model_id": "686817915ae1458f980f25511f12e783",
       "version_major": 2,
       "version_minor": 0
      },
      "text/plain": [
       "  0%|          | 0/5 [00:00<?, ?it/s]"
      ]
     },
     "metadata": {},
     "output_type": "display_data"
    },
    {
     "name": "stderr",
     "output_type": "stream",
     "text": [
      "16:10:59 - cmdstanpy - INFO - Chain [1] start processing\n",
      "16:10:59 - cmdstanpy - INFO - Chain [1] done processing\n",
      "16:11:00 - cmdstanpy - INFO - Chain [1] start processing\n",
      "16:11:00 - cmdstanpy - INFO - Chain [1] done processing\n",
      "16:11:00 - cmdstanpy - INFO - Chain [1] start processing\n",
      "16:11:00 - cmdstanpy - INFO - Chain [1] done processing\n",
      "16:11:01 - cmdstanpy - INFO - Chain [1] start processing\n",
      "16:11:01 - cmdstanpy - INFO - Chain [1] done processing\n",
      "16:11:02 - cmdstanpy - INFO - Chain [1] start processing\n",
      "16:11:02 - cmdstanpy - INFO - Chain [1] done processing\n",
      "16:11:03 - cmdstanpy - INFO - Chain [1] start processing\n",
      "16:11:03 - cmdstanpy - INFO - Chain [1] done processing\n"
     ]
    },
    {
     "data": {
      "application/vnd.jupyter.widget-view+json": {
       "model_id": "c48c38903b6c49009ce2e4d15f745588",
       "version_major": 2,
       "version_minor": 0
      },
      "text/plain": [
       "  0%|          | 0/5 [00:00<?, ?it/s]"
      ]
     },
     "metadata": {},
     "output_type": "display_data"
    },
    {
     "name": "stderr",
     "output_type": "stream",
     "text": [
      "16:11:03 - cmdstanpy - INFO - Chain [1] start processing\n",
      "16:11:03 - cmdstanpy - INFO - Chain [1] done processing\n",
      "16:11:03 - cmdstanpy - INFO - Chain [1] start processing\n",
      "16:11:04 - cmdstanpy - INFO - Chain [1] done processing\n",
      "16:11:04 - cmdstanpy - INFO - Chain [1] start processing\n",
      "16:11:04 - cmdstanpy - INFO - Chain [1] done processing\n",
      "16:11:05 - cmdstanpy - INFO - Chain [1] start processing\n",
      "16:11:05 - cmdstanpy - INFO - Chain [1] done processing\n",
      "16:11:06 - cmdstanpy - INFO - Chain [1] start processing\n",
      "16:11:06 - cmdstanpy - INFO - Chain [1] done processing\n",
      "16:11:06 - cmdstanpy - INFO - Chain [1] start processing\n",
      "16:11:06 - cmdstanpy - INFO - Chain [1] done processing\n"
     ]
    },
    {
     "data": {
      "application/vnd.jupyter.widget-view+json": {
       "model_id": "2cf316846090435c8ea7c7897b029264",
       "version_major": 2,
       "version_minor": 0
      },
      "text/plain": [
       "  0%|          | 0/5 [00:00<?, ?it/s]"
      ]
     },
     "metadata": {},
     "output_type": "display_data"
    },
    {
     "name": "stderr",
     "output_type": "stream",
     "text": [
      "16:11:07 - cmdstanpy - INFO - Chain [1] start processing\n",
      "16:11:07 - cmdstanpy - INFO - Chain [1] done processing\n",
      "16:11:07 - cmdstanpy - INFO - Chain [1] start processing\n",
      "16:11:07 - cmdstanpy - INFO - Chain [1] done processing\n",
      "16:11:08 - cmdstanpy - INFO - Chain [1] start processing\n",
      "16:11:08 - cmdstanpy - INFO - Chain [1] done processing\n",
      "16:11:09 - cmdstanpy - INFO - Chain [1] start processing\n",
      "16:11:09 - cmdstanpy - INFO - Chain [1] done processing\n",
      "16:11:09 - cmdstanpy - INFO - Chain [1] start processing\n",
      "16:11:09 - cmdstanpy - INFO - Chain [1] done processing\n",
      "16:11:10 - cmdstanpy - INFO - Chain [1] start processing\n",
      "16:11:10 - cmdstanpy - INFO - Chain [1] done processing\n"
     ]
    },
    {
     "data": {
      "application/vnd.jupyter.widget-view+json": {
       "model_id": "b0a033566b7248a8a76c8e6baeb81a92",
       "version_major": 2,
       "version_minor": 0
      },
      "text/plain": [
       "  0%|          | 0/5 [00:00<?, ?it/s]"
      ]
     },
     "metadata": {},
     "output_type": "display_data"
    },
    {
     "name": "stderr",
     "output_type": "stream",
     "text": [
      "16:11:10 - cmdstanpy - INFO - Chain [1] start processing\n",
      "16:11:10 - cmdstanpy - INFO - Chain [1] done processing\n",
      "16:11:11 - cmdstanpy - INFO - Chain [1] start processing\n",
      "16:11:11 - cmdstanpy - INFO - Chain [1] done processing\n",
      "16:11:12 - cmdstanpy - INFO - Chain [1] start processing\n",
      "16:11:12 - cmdstanpy - INFO - Chain [1] done processing\n",
      "16:11:12 - cmdstanpy - INFO - Chain [1] start processing\n",
      "16:11:13 - cmdstanpy - INFO - Chain [1] done processing\n",
      "16:11:13 - cmdstanpy - INFO - Chain [1] start processing\n",
      "16:11:13 - cmdstanpy - INFO - Chain [1] done processing\n",
      "16:11:14 - cmdstanpy - INFO - Chain [1] start processing\n",
      "16:11:14 - cmdstanpy - INFO - Chain [1] done processing\n"
     ]
    },
    {
     "data": {
      "application/vnd.jupyter.widget-view+json": {
       "model_id": "49977f12df4046189bbdb45260bad2e7",
       "version_major": 2,
       "version_minor": 0
      },
      "text/plain": [
       "  0%|          | 0/5 [00:00<?, ?it/s]"
      ]
     },
     "metadata": {},
     "output_type": "display_data"
    },
    {
     "name": "stderr",
     "output_type": "stream",
     "text": [
      "16:11:14 - cmdstanpy - INFO - Chain [1] start processing\n",
      "16:11:14 - cmdstanpy - INFO - Chain [1] done processing\n",
      "16:11:15 - cmdstanpy - INFO - Chain [1] start processing\n",
      "16:11:15 - cmdstanpy - INFO - Chain [1] done processing\n",
      "16:11:15 - cmdstanpy - INFO - Chain [1] start processing\n",
      "16:11:16 - cmdstanpy - INFO - Chain [1] done processing\n",
      "16:11:16 - cmdstanpy - INFO - Chain [1] start processing\n",
      "16:11:16 - cmdstanpy - INFO - Chain [1] done processing\n",
      "16:11:17 - cmdstanpy - INFO - Chain [1] start processing\n",
      "16:11:17 - cmdstanpy - INFO - Chain [1] done processing\n",
      "16:11:18 - cmdstanpy - INFO - Chain [1] start processing\n",
      "16:11:18 - cmdstanpy - INFO - Chain [1] done processing\n"
     ]
    },
    {
     "data": {
      "application/vnd.jupyter.widget-view+json": {
       "model_id": "c68c590e5735422faaa517050b8bfa63",
       "version_major": 2,
       "version_minor": 0
      },
      "text/plain": [
       "  0%|          | 0/5 [00:00<?, ?it/s]"
      ]
     },
     "metadata": {},
     "output_type": "display_data"
    },
    {
     "name": "stderr",
     "output_type": "stream",
     "text": [
      "16:11:18 - cmdstanpy - INFO - Chain [1] start processing\n",
      "16:11:18 - cmdstanpy - INFO - Chain [1] done processing\n",
      "16:11:19 - cmdstanpy - INFO - Chain [1] start processing\n",
      "16:11:19 - cmdstanpy - INFO - Chain [1] done processing\n",
      "16:11:19 - cmdstanpy - INFO - Chain [1] start processing\n",
      "16:11:19 - cmdstanpy - INFO - Chain [1] done processing\n",
      "16:11:21 - cmdstanpy - INFO - Chain [1] start processing\n",
      "16:11:21 - cmdstanpy - INFO - Chain [1] done processing\n",
      "16:11:21 - cmdstanpy - INFO - Chain [1] start processing\n",
      "16:11:21 - cmdstanpy - INFO - Chain [1] done processing\n",
      "16:11:22 - cmdstanpy - INFO - Chain [1] start processing\n",
      "16:11:22 - cmdstanpy - INFO - Chain [1] done processing\n"
     ]
    },
    {
     "data": {
      "application/vnd.jupyter.widget-view+json": {
       "model_id": "30a8e69e101044c690350c3b4526e431",
       "version_major": 2,
       "version_minor": 0
      },
      "text/plain": [
       "  0%|          | 0/5 [00:00<?, ?it/s]"
      ]
     },
     "metadata": {},
     "output_type": "display_data"
    },
    {
     "name": "stderr",
     "output_type": "stream",
     "text": [
      "16:11:22 - cmdstanpy - INFO - Chain [1] start processing\n",
      "16:11:22 - cmdstanpy - INFO - Chain [1] done processing\n",
      "16:11:23 - cmdstanpy - INFO - Chain [1] start processing\n",
      "16:11:23 - cmdstanpy - INFO - Chain [1] done processing\n",
      "16:11:24 - cmdstanpy - INFO - Chain [1] start processing\n",
      "16:11:24 - cmdstanpy - INFO - Chain [1] done processing\n",
      "16:11:24 - cmdstanpy - INFO - Chain [1] start processing\n",
      "16:11:24 - cmdstanpy - INFO - Chain [1] done processing\n",
      "16:11:25 - cmdstanpy - INFO - Chain [1] start processing\n",
      "16:11:25 - cmdstanpy - INFO - Chain [1] done processing\n",
      "16:11:26 - cmdstanpy - INFO - Chain [1] start processing\n",
      "16:11:26 - cmdstanpy - INFO - Chain [1] done processing\n"
     ]
    },
    {
     "data": {
      "application/vnd.jupyter.widget-view+json": {
       "model_id": "033acbcf4b7b48edbdd49e9a54dc9c5b",
       "version_major": 2,
       "version_minor": 0
      },
      "text/plain": [
       "  0%|          | 0/5 [00:00<?, ?it/s]"
      ]
     },
     "metadata": {},
     "output_type": "display_data"
    },
    {
     "name": "stderr",
     "output_type": "stream",
     "text": [
      "16:11:26 - cmdstanpy - INFO - Chain [1] start processing\n",
      "16:11:26 - cmdstanpy - INFO - Chain [1] done processing\n",
      "16:11:27 - cmdstanpy - INFO - Chain [1] start processing\n",
      "16:11:27 - cmdstanpy - INFO - Chain [1] done processing\n",
      "16:11:27 - cmdstanpy - INFO - Chain [1] start processing\n",
      "16:11:28 - cmdstanpy - INFO - Chain [1] done processing\n",
      "16:11:28 - cmdstanpy - INFO - Chain [1] start processing\n",
      "16:11:28 - cmdstanpy - INFO - Chain [1] done processing\n",
      "16:11:29 - cmdstanpy - INFO - Chain [1] start processing\n",
      "16:11:29 - cmdstanpy - INFO - Chain [1] done processing\n",
      "16:11:30 - cmdstanpy - INFO - Chain [1] start processing\n",
      "16:11:30 - cmdstanpy - INFO - Chain [1] done processing\n"
     ]
    },
    {
     "data": {
      "application/vnd.jupyter.widget-view+json": {
       "model_id": "5de07dc6d7c447c1894616b69cd89dc1",
       "version_major": 2,
       "version_minor": 0
      },
      "text/plain": [
       "  0%|          | 0/5 [00:00<?, ?it/s]"
      ]
     },
     "metadata": {},
     "output_type": "display_data"
    },
    {
     "name": "stderr",
     "output_type": "stream",
     "text": [
      "16:11:30 - cmdstanpy - INFO - Chain [1] start processing\n",
      "16:11:30 - cmdstanpy - INFO - Chain [1] done processing\n",
      "16:11:31 - cmdstanpy - INFO - Chain [1] start processing\n",
      "16:11:31 - cmdstanpy - INFO - Chain [1] done processing\n",
      "16:11:32 - cmdstanpy - INFO - Chain [1] start processing\n",
      "16:11:32 - cmdstanpy - INFO - Chain [1] done processing\n",
      "16:11:33 - cmdstanpy - INFO - Chain [1] start processing\n",
      "16:11:34 - cmdstanpy - INFO - Chain [1] done processing\n",
      "16:11:34 - cmdstanpy - INFO - Chain [1] start processing\n",
      "16:11:34 - cmdstanpy - INFO - Chain [1] done processing\n",
      "16:11:35 - cmdstanpy - INFO - Chain [1] start processing\n",
      "16:11:35 - cmdstanpy - INFO - Chain [1] done processing\n"
     ]
    },
    {
     "data": {
      "application/vnd.jupyter.widget-view+json": {
       "model_id": "f32a59c66e12446ba1b08e91100a06ed",
       "version_major": 2,
       "version_minor": 0
      },
      "text/plain": [
       "  0%|          | 0/5 [00:00<?, ?it/s]"
      ]
     },
     "metadata": {},
     "output_type": "display_data"
    },
    {
     "name": "stderr",
     "output_type": "stream",
     "text": [
      "16:11:35 - cmdstanpy - INFO - Chain [1] start processing\n",
      "16:11:35 - cmdstanpy - INFO - Chain [1] done processing\n",
      "16:11:36 - cmdstanpy - INFO - Chain [1] start processing\n",
      "16:11:36 - cmdstanpy - INFO - Chain [1] done processing\n",
      "16:11:37 - cmdstanpy - INFO - Chain [1] start processing\n",
      "16:11:37 - cmdstanpy - INFO - Chain [1] done processing\n",
      "16:11:38 - cmdstanpy - INFO - Chain [1] start processing\n",
      "16:11:38 - cmdstanpy - INFO - Chain [1] done processing\n",
      "16:11:38 - cmdstanpy - INFO - Chain [1] start processing\n",
      "16:11:39 - cmdstanpy - INFO - Chain [1] done processing\n",
      "16:11:39 - cmdstanpy - INFO - Chain [1] start processing\n",
      "16:11:39 - cmdstanpy - INFO - Chain [1] done processing\n"
     ]
    },
    {
     "data": {
      "application/vnd.jupyter.widget-view+json": {
       "model_id": "2d97de81c2fa46fbb7fe456e8adbb31e",
       "version_major": 2,
       "version_minor": 0
      },
      "text/plain": [
       "  0%|          | 0/5 [00:00<?, ?it/s]"
      ]
     },
     "metadata": {},
     "output_type": "display_data"
    },
    {
     "name": "stderr",
     "output_type": "stream",
     "text": [
      "16:11:39 - cmdstanpy - INFO - Chain [1] start processing\n",
      "16:11:39 - cmdstanpy - INFO - Chain [1] done processing\n",
      "16:11:40 - cmdstanpy - INFO - Chain [1] start processing\n",
      "16:11:40 - cmdstanpy - INFO - Chain [1] done processing\n",
      "16:11:41 - cmdstanpy - INFO - Chain [1] start processing\n",
      "16:11:41 - cmdstanpy - INFO - Chain [1] done processing\n",
      "16:11:42 - cmdstanpy - INFO - Chain [1] start processing\n",
      "16:11:42 - cmdstanpy - INFO - Chain [1] done processing\n",
      "16:11:42 - cmdstanpy - INFO - Chain [1] start processing\n",
      "16:11:42 - cmdstanpy - INFO - Chain [1] done processing\n",
      "16:11:43 - cmdstanpy - INFO - Chain [1] start processing\n",
      "16:11:43 - cmdstanpy - INFO - Chain [1] done processing\n"
     ]
    },
    {
     "data": {
      "application/vnd.jupyter.widget-view+json": {
       "model_id": "a74df5d30f0e464ea527392a4c74e812",
       "version_major": 2,
       "version_minor": 0
      },
      "text/plain": [
       "  0%|          | 0/5 [00:00<?, ?it/s]"
      ]
     },
     "metadata": {},
     "output_type": "display_data"
    },
    {
     "name": "stderr",
     "output_type": "stream",
     "text": [
      "16:11:43 - cmdstanpy - INFO - Chain [1] start processing\n",
      "16:11:43 - cmdstanpy - INFO - Chain [1] done processing\n",
      "16:11:44 - cmdstanpy - INFO - Chain [1] start processing\n",
      "16:11:44 - cmdstanpy - INFO - Chain [1] done processing\n",
      "16:11:45 - cmdstanpy - INFO - Chain [1] start processing\n",
      "16:11:45 - cmdstanpy - INFO - Chain [1] done processing\n",
      "16:11:45 - cmdstanpy - INFO - Chain [1] start processing\n",
      "16:11:46 - cmdstanpy - INFO - Chain [1] done processing\n",
      "16:11:46 - cmdstanpy - INFO - Chain [1] start processing\n",
      "16:11:46 - cmdstanpy - INFO - Chain [1] done processing\n",
      "16:11:47 - cmdstanpy - INFO - Chain [1] start processing\n",
      "16:11:47 - cmdstanpy - INFO - Chain [1] done processing\n"
     ]
    },
    {
     "data": {
      "application/vnd.jupyter.widget-view+json": {
       "model_id": "7561665485a349c9bb138de088cd395e",
       "version_major": 2,
       "version_minor": 0
      },
      "text/plain": [
       "  0%|          | 0/5 [00:00<?, ?it/s]"
      ]
     },
     "metadata": {},
     "output_type": "display_data"
    },
    {
     "name": "stderr",
     "output_type": "stream",
     "text": [
      "16:11:47 - cmdstanpy - INFO - Chain [1] start processing\n",
      "16:11:47 - cmdstanpy - INFO - Chain [1] done processing\n",
      "16:11:48 - cmdstanpy - INFO - Chain [1] start processing\n",
      "16:11:48 - cmdstanpy - INFO - Chain [1] done processing\n",
      "16:11:49 - cmdstanpy - INFO - Chain [1] start processing\n",
      "16:11:49 - cmdstanpy - INFO - Chain [1] done processing\n",
      "16:11:50 - cmdstanpy - INFO - Chain [1] start processing\n",
      "16:11:50 - cmdstanpy - INFO - Chain [1] done processing\n",
      "16:11:50 - cmdstanpy - INFO - Chain [1] start processing\n",
      "16:11:51 - cmdstanpy - INFO - Chain [1] done processing\n",
      "16:11:51 - cmdstanpy - INFO - Chain [1] start processing\n",
      "16:11:51 - cmdstanpy - INFO - Chain [1] done processing\n"
     ]
    },
    {
     "data": {
      "application/vnd.jupyter.widget-view+json": {
       "model_id": "3df13cf866ac45438c57af45e51e2c99",
       "version_major": 2,
       "version_minor": 0
      },
      "text/plain": [
       "  0%|          | 0/5 [00:00<?, ?it/s]"
      ]
     },
     "metadata": {},
     "output_type": "display_data"
    },
    {
     "name": "stderr",
     "output_type": "stream",
     "text": [
      "16:11:51 - cmdstanpy - INFO - Chain [1] start processing\n",
      "16:11:51 - cmdstanpy - INFO - Chain [1] done processing\n",
      "16:11:52 - cmdstanpy - INFO - Chain [1] start processing\n",
      "16:11:52 - cmdstanpy - INFO - Chain [1] done processing\n",
      "16:11:53 - cmdstanpy - INFO - Chain [1] start processing\n",
      "16:11:53 - cmdstanpy - INFO - Chain [1] done processing\n",
      "16:11:54 - cmdstanpy - INFO - Chain [1] start processing\n",
      "16:11:54 - cmdstanpy - INFO - Chain [1] done processing\n",
      "16:11:54 - cmdstanpy - INFO - Chain [1] start processing\n",
      "16:11:54 - cmdstanpy - INFO - Chain [1] done processing\n",
      "16:11:55 - cmdstanpy - INFO - Chain [1] start processing\n",
      "16:11:55 - cmdstanpy - INFO - Chain [1] done processing\n"
     ]
    },
    {
     "data": {
      "application/vnd.jupyter.widget-view+json": {
       "model_id": "710240368a234b4097513786131b931f",
       "version_major": 2,
       "version_minor": 0
      },
      "text/plain": [
       "  0%|          | 0/5 [00:00<?, ?it/s]"
      ]
     },
     "metadata": {},
     "output_type": "display_data"
    },
    {
     "name": "stderr",
     "output_type": "stream",
     "text": [
      "16:11:55 - cmdstanpy - INFO - Chain [1] start processing\n",
      "16:11:55 - cmdstanpy - INFO - Chain [1] done processing\n",
      "16:11:56 - cmdstanpy - INFO - Chain [1] start processing\n",
      "16:11:56 - cmdstanpy - INFO - Chain [1] done processing\n",
      "16:11:57 - cmdstanpy - INFO - Chain [1] start processing\n",
      "16:11:57 - cmdstanpy - INFO - Chain [1] done processing\n",
      "16:11:57 - cmdstanpy - INFO - Chain [1] start processing\n",
      "16:11:58 - cmdstanpy - INFO - Chain [1] done processing\n",
      "16:11:58 - cmdstanpy - INFO - Chain [1] start processing\n",
      "16:11:58 - cmdstanpy - INFO - Chain [1] done processing\n",
      "16:11:59 - cmdstanpy - INFO - Chain [1] start processing\n",
      "16:11:59 - cmdstanpy - INFO - Chain [1] done processing\n"
     ]
    },
    {
     "data": {
      "application/vnd.jupyter.widget-view+json": {
       "model_id": "d7b5958982ce4cf4b08cc86e8d419038",
       "version_major": 2,
       "version_minor": 0
      },
      "text/plain": [
       "  0%|          | 0/5 [00:00<?, ?it/s]"
      ]
     },
     "metadata": {},
     "output_type": "display_data"
    },
    {
     "name": "stderr",
     "output_type": "stream",
     "text": [
      "16:11:59 - cmdstanpy - INFO - Chain [1] start processing\n",
      "16:11:59 - cmdstanpy - INFO - Chain [1] done processing\n",
      "16:12:00 - cmdstanpy - INFO - Chain [1] start processing\n",
      "16:12:00 - cmdstanpy - INFO - Chain [1] done processing\n",
      "16:12:01 - cmdstanpy - INFO - Chain [1] start processing\n",
      "16:12:01 - cmdstanpy - INFO - Chain [1] done processing\n",
      "16:12:01 - cmdstanpy - INFO - Chain [1] start processing\n",
      "16:12:01 - cmdstanpy - INFO - Chain [1] done processing\n",
      "16:12:02 - cmdstanpy - INFO - Chain [1] start processing\n",
      "16:12:02 - cmdstanpy - INFO - Chain [1] done processing\n"
     ]
    },
    {
     "name": "stdout",
     "output_type": "stream",
     "text": [
      "    changepoint_prior_scale  seasonality_prior_scale  holidays_prior_scale  \\\n",
      "0                     0.001                     0.01                  0.01   \n",
      "1                     0.001                     0.01                  0.10   \n",
      "2                     0.001                     0.01                  1.00   \n",
      "3                     0.001                     0.01                 10.00   \n",
      "4                     0.001                     0.10                  0.01   \n",
      "..                      ...                      ...                   ...   \n",
      "59                    0.500                     1.00                 10.00   \n",
      "60                    0.500                    10.00                  0.01   \n",
      "61                    0.500                    10.00                  0.10   \n",
      "62                    0.500                    10.00                  1.00   \n",
      "63                    0.500                    10.00                 10.00   \n",
      "\n",
      "          rmse  \n",
      "0   245.390692  \n",
      "1   245.390692  \n",
      "2   245.390692  \n",
      "3   245.390692  \n",
      "4   310.942974  \n",
      "..         ...  \n",
      "59  277.334171  \n",
      "60  276.112417  \n",
      "61  276.112417  \n",
      "62  276.112417  \n",
      "63  276.112417  \n",
      "\n",
      "[64 rows x 4 columns]\n"
     ]
    }
   ],
   "source": [
    "from prophet import Prophet\n",
    "import itertools\n",
    "import numpy as np\n",
    "import pandas as pd\n",
    "from prophet.diagnostics import cross_validation\n",
    "from prophet.diagnostics import performance_metrics\n",
    "\n",
    "data = pd.read_csv('data.csv')\n",
    "\n",
    "\n",
    "param_grid = {  \n",
    "    'changepoint_prior_scale': [0.001, 0.01, 0.1, 0.5],\n",
    "    'seasonality_prior_scale': [0.01, 0.1, 1.0, 10.0],\n",
    "    'holidays_prior_scale': [0.01, 0.1, 1.0, 10.0],\n",
    "}\n",
    "\n",
    "# Generate all combinations of parameters\n",
    "all_params = [dict(zip(param_grid.keys(), v)) for v in itertools.product(*param_grid.values())]\n",
    "rmses = []  # Store the RMSEs for each params here\n",
    "\n",
    "# Use cross validation to evaluate all parameters\n",
    "for params in all_params:\n",
    "    m = Prophet(**params, interval_width=0.9, daily_seasonality=True).fit(data)  # Fit model with given params\n",
    "    df_cv = cross_validation(m, initial='150 days', period='30 days', horizon = '50 days')\n",
    "    df_p = performance_metrics(df_cv, rolling_window=1)\n",
    "    rmses.append(df_p['rmse'].values[0])\n",
    "\n",
    "# Find the best parameters\n",
    "tuning_results = pd.DataFrame(all_params)\n",
    "tuning_results['rmse'] = rmses\n",
    "print(tuning_results)"
   ]
  },
  {
   "cell_type": "code",
   "execution_count": 3,
   "id": "8d68eb81",
   "metadata": {},
   "outputs": [
    {
     "name": "stdout",
     "output_type": "stream",
     "text": [
      "{'changepoint_prior_scale': 0.01, 'seasonality_prior_scale': 0.1, 'holidays_prior_scale': 0.01}\n"
     ]
    }
   ],
   "source": [
    "best_params = all_params[np.argmin(rmses)]\n",
    "print(best_params)"
   ]
  },
  {
   "cell_type": "code",
   "execution_count": null,
   "id": "d233438b",
   "metadata": {},
   "outputs": [],
   "source": []
  },
  {
   "cell_type": "code",
   "execution_count": null,
   "id": "80a34dd6",
   "metadata": {},
   "outputs": [],
   "source": []
  }
 ],
 "metadata": {
  "kernelspec": {
   "display_name": "Python 3 (ipykernel)",
   "language": "python",
   "name": "python3"
  },
  "language_info": {
   "codemirror_mode": {
    "name": "ipython",
    "version": 3
   },
   "file_extension": ".py",
   "mimetype": "text/x-python",
   "name": "python",
   "nbconvert_exporter": "python",
   "pygments_lexer": "ipython3",
   "version": "3.9.12"
  }
 },
 "nbformat": 4,
 "nbformat_minor": 5
}
