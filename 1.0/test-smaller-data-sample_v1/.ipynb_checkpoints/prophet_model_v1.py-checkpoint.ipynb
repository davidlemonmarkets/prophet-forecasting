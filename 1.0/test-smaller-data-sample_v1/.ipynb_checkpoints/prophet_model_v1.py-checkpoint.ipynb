{
 "cells": [
  {
   "cell_type": "code",
   "execution_count": null,
   "id": "b4342f04",
   "metadata": {},
   "outputs": [],
   "source": [
    "import pandas as pd\n",
    "from prophet import Prophet\n",
    "\n",
    "\n",
    "train_size = 252*3                     # Use 3 years of data as train set\n",
    "val_size = 252                         # Use 1 year of data as validation set\n",
    "train_val_size = train_size + val_size # Size of train+validation set\n",
    "i = train_val_size                     # Day to forecast\n",
    "H = 21                                 # Forecast horizon\n",
    "\n",
    "# Fit prophet model\n",
    "m = Prophet()\n",
    "m.fit(df_prophet[i-train_val_size:i])\n",
    "\n",
    "# Create dataframe with the dates we want to predict\n",
    "future = m.make_future_dataframe(periods=2*H)\n",
    "\n",
    "# Eliminate weekend from future dataframe\n",
    "future['day'] = future['ds'].dt.weekday\n",
    "future = future[future['day']<=4]\n",
    "\n",
    "# Predict\n",
    "forecast = m.predict(future)\n",
    "\n",
    "\n",
    "df = pd.read_csv('data.csv')\n",
    "\n",
    "model = Prophet(interval_width=0.95, daily_seasonality=True, changepoint_prior_scale=0.5, seasonality_prior_scale=1, holidays_prior_scale=1)\n",
    "m = model.fit(df)\n",
    "\n",
    "\n",
    "future = m.make_future_dataframe(periods=30)\n",
    "# Eliminate weekend from future dataframe\n",
    "future['day'] = future['ds'].dt.weekday\n",
    "future = future[future['day']<=4]\n",
    "\n",
    "forecast = m.predict(future)\n",
    "\n",
    "\n",
    "print(forecast)\n",
    "plot1 = m.plot(forecast)"
   ]
  },
  {
   "cell_type": "code",
   "execution_count": null,
   "id": "a4c3076c",
   "metadata": {},
   "outputs": [],
   "source": []
  },
  {
   "cell_type": "code",
   "execution_count": null,
   "id": "d952d047",
   "metadata": {},
   "outputs": [],
   "source": []
  },
  {
   "cell_type": "code",
   "execution_count": null,
   "id": "4acdfecb",
   "metadata": {},
   "outputs": [],
   "source": []
  },
  {
   "cell_type": "code",
   "execution_count": null,
   "id": "fd85842a",
   "metadata": {},
   "outputs": [],
   "source": []
  },
  {
   "cell_type": "code",
   "execution_count": null,
   "id": "0885fb1e",
   "metadata": {},
   "outputs": [],
   "source": []
  },
  {
   "cell_type": "code",
   "execution_count": null,
   "id": "da07b5ed",
   "metadata": {},
   "outputs": [],
   "source": []
  },
  {
   "cell_type": "code",
   "execution_count": null,
   "id": "d3d2da23",
   "metadata": {},
   "outputs": [],
   "source": []
  }
 ],
 "metadata": {
  "kernelspec": {
   "display_name": "Python 3 (ipykernel)",
   "language": "python",
   "name": "python3"
  },
  "language_info": {
   "codemirror_mode": {
    "name": "ipython",
    "version": 3
   },
   "file_extension": ".py",
   "mimetype": "text/x-python",
   "name": "python",
   "nbconvert_exporter": "python",
   "pygments_lexer": "ipython3",
   "version": "3.9.12"
  }
 },
 "nbformat": 4,
 "nbformat_minor": 5
}
