{
 "cells": [
  {
   "cell_type": "code",
   "execution_count": 3,
   "id": "2968028f",
   "metadata": {},
   "outputs": [
    {
     "name": "stderr",
     "output_type": "stream",
     "text": [
      "13:44:32 - cmdstanpy - INFO - Chain [1] start processing\n",
      "13:44:32 - cmdstanpy - INFO - Chain [1] done processing\n"
     ]
    },
    {
     "data": {
      "application/vnd.jupyter.widget-view+json": {
       "model_id": "d4add115ebea490b9400573ea2bc2132",
       "version_major": 2,
       "version_minor": 0
      },
      "text/plain": [
       "  0%|          | 0/4 [00:00<?, ?it/s]"
      ]
     },
     "metadata": {},
     "output_type": "display_data"
    },
    {
     "name": "stderr",
     "output_type": "stream",
     "text": [
      "13:44:32 - cmdstanpy - INFO - Chain [1] start processing\n",
      "13:44:32 - cmdstanpy - INFO - Chain [1] done processing\n",
      "13:44:33 - cmdstanpy - INFO - Chain [1] start processing\n",
      "13:44:33 - cmdstanpy - INFO - Chain [1] done processing\n",
      "13:44:34 - cmdstanpy - INFO - Chain [1] start processing\n",
      "13:44:34 - cmdstanpy - INFO - Chain [1] done processing\n",
      "13:44:34 - cmdstanpy - INFO - Chain [1] start processing\n",
      "13:44:34 - cmdstanpy - INFO - Chain [1] done processing\n",
      "13:44:35 - cmdstanpy - INFO - Chain [1] start processing\n",
      "13:44:35 - cmdstanpy - INFO - Chain [1] done processing\n"
     ]
    },
    {
     "data": {
      "application/vnd.jupyter.widget-view+json": {
       "model_id": "17fc1fe05ca446d39dfe5777ffa25803",
       "version_major": 2,
       "version_minor": 0
      },
      "text/plain": [
       "  0%|          | 0/4 [00:00<?, ?it/s]"
      ]
     },
     "metadata": {},
     "output_type": "display_data"
    },
    {
     "name": "stderr",
     "output_type": "stream",
     "text": [
      "13:44:35 - cmdstanpy - INFO - Chain [1] start processing\n",
      "13:44:35 - cmdstanpy - INFO - Chain [1] done processing\n",
      "13:44:36 - cmdstanpy - INFO - Chain [1] start processing\n",
      "13:44:36 - cmdstanpy - INFO - Chain [1] done processing\n",
      "13:44:37 - cmdstanpy - INFO - Chain [1] start processing\n",
      "13:44:37 - cmdstanpy - INFO - Chain [1] done processing\n",
      "13:44:37 - cmdstanpy - INFO - Chain [1] start processing\n",
      "13:44:37 - cmdstanpy - INFO - Chain [1] done processing\n",
      "13:44:38 - cmdstanpy - INFO - Chain [1] start processing\n",
      "13:44:38 - cmdstanpy - INFO - Chain [1] done processing\n"
     ]
    },
    {
     "data": {
      "application/vnd.jupyter.widget-view+json": {
       "model_id": "70a579b0a21c4f94acbd2da410e15763",
       "version_major": 2,
       "version_minor": 0
      },
      "text/plain": [
       "  0%|          | 0/4 [00:00<?, ?it/s]"
      ]
     },
     "metadata": {},
     "output_type": "display_data"
    },
    {
     "name": "stderr",
     "output_type": "stream",
     "text": [
      "13:44:38 - cmdstanpy - INFO - Chain [1] start processing\n",
      "13:44:38 - cmdstanpy - INFO - Chain [1] done processing\n",
      "13:44:39 - cmdstanpy - INFO - Chain [1] start processing\n",
      "13:44:39 - cmdstanpy - INFO - Chain [1] done processing\n",
      "13:44:40 - cmdstanpy - INFO - Chain [1] start processing\n",
      "13:44:40 - cmdstanpy - INFO - Chain [1] done processing\n",
      "13:44:40 - cmdstanpy - INFO - Chain [1] start processing\n",
      "13:44:40 - cmdstanpy - INFO - Chain [1] done processing\n",
      "13:44:41 - cmdstanpy - INFO - Chain [1] start processing\n",
      "13:44:41 - cmdstanpy - INFO - Chain [1] done processing\n"
     ]
    },
    {
     "data": {
      "application/vnd.jupyter.widget-view+json": {
       "model_id": "d1d6d7e97864487a8870a90d30f452d9",
       "version_major": 2,
       "version_minor": 0
      },
      "text/plain": [
       "  0%|          | 0/4 [00:00<?, ?it/s]"
      ]
     },
     "metadata": {},
     "output_type": "display_data"
    },
    {
     "name": "stderr",
     "output_type": "stream",
     "text": [
      "13:44:41 - cmdstanpy - INFO - Chain [1] start processing\n",
      "13:44:41 - cmdstanpy - INFO - Chain [1] done processing\n",
      "13:44:42 - cmdstanpy - INFO - Chain [1] start processing\n",
      "13:44:42 - cmdstanpy - INFO - Chain [1] done processing\n",
      "13:44:43 - cmdstanpy - INFO - Chain [1] start processing\n",
      "13:44:43 - cmdstanpy - INFO - Chain [1] done processing\n",
      "13:44:43 - cmdstanpy - INFO - Chain [1] start processing\n",
      "13:44:43 - cmdstanpy - INFO - Chain [1] done processing\n",
      "13:44:44 - cmdstanpy - INFO - Chain [1] start processing\n",
      "13:44:44 - cmdstanpy - INFO - Chain [1] done processing\n"
     ]
    },
    {
     "data": {
      "application/vnd.jupyter.widget-view+json": {
       "model_id": "e45ced1f989e4749afc2f9d8bda7657a",
       "version_major": 2,
       "version_minor": 0
      },
      "text/plain": [
       "  0%|          | 0/4 [00:00<?, ?it/s]"
      ]
     },
     "metadata": {},
     "output_type": "display_data"
    },
    {
     "name": "stderr",
     "output_type": "stream",
     "text": [
      "13:44:44 - cmdstanpy - INFO - Chain [1] start processing\n",
      "13:44:44 - cmdstanpy - INFO - Chain [1] done processing\n",
      "13:44:45 - cmdstanpy - INFO - Chain [1] start processing\n",
      "13:44:45 - cmdstanpy - INFO - Chain [1] done processing\n",
      "13:44:46 - cmdstanpy - INFO - Chain [1] start processing\n",
      "13:44:46 - cmdstanpy - INFO - Chain [1] done processing\n",
      "13:44:46 - cmdstanpy - INFO - Chain [1] start processing\n",
      "13:44:46 - cmdstanpy - INFO - Chain [1] done processing\n",
      "13:44:47 - cmdstanpy - INFO - Chain [1] start processing\n",
      "13:44:47 - cmdstanpy - INFO - Chain [1] done processing\n"
     ]
    },
    {
     "data": {
      "application/vnd.jupyter.widget-view+json": {
       "model_id": "02b9930eeaf647cbaa523d97100f1fa6",
       "version_major": 2,
       "version_minor": 0
      },
      "text/plain": [
       "  0%|          | 0/4 [00:00<?, ?it/s]"
      ]
     },
     "metadata": {},
     "output_type": "display_data"
    },
    {
     "name": "stderr",
     "output_type": "stream",
     "text": [
      "13:44:47 - cmdstanpy - INFO - Chain [1] start processing\n",
      "13:44:47 - cmdstanpy - INFO - Chain [1] done processing\n",
      "13:44:48 - cmdstanpy - INFO - Chain [1] start processing\n",
      "13:44:48 - cmdstanpy - INFO - Chain [1] done processing\n",
      "13:44:49 - cmdstanpy - INFO - Chain [1] start processing\n",
      "13:44:49 - cmdstanpy - INFO - Chain [1] done processing\n",
      "13:44:49 - cmdstanpy - INFO - Chain [1] start processing\n",
      "13:44:49 - cmdstanpy - INFO - Chain [1] done processing\n",
      "13:44:50 - cmdstanpy - INFO - Chain [1] start processing\n",
      "13:44:50 - cmdstanpy - INFO - Chain [1] done processing\n"
     ]
    },
    {
     "data": {
      "application/vnd.jupyter.widget-view+json": {
       "model_id": "08bd01d0d50c4b959105849475c2c6ca",
       "version_major": 2,
       "version_minor": 0
      },
      "text/plain": [
       "  0%|          | 0/4 [00:00<?, ?it/s]"
      ]
     },
     "metadata": {},
     "output_type": "display_data"
    },
    {
     "name": "stderr",
     "output_type": "stream",
     "text": [
      "13:44:51 - cmdstanpy - INFO - Chain [1] start processing\n",
      "13:44:51 - cmdstanpy - INFO - Chain [1] done processing\n",
      "13:44:51 - cmdstanpy - INFO - Chain [1] start processing\n",
      "13:44:51 - cmdstanpy - INFO - Chain [1] done processing\n",
      "13:44:52 - cmdstanpy - INFO - Chain [1] start processing\n",
      "13:44:52 - cmdstanpy - INFO - Chain [1] done processing\n",
      "13:44:53 - cmdstanpy - INFO - Chain [1] start processing\n",
      "13:44:53 - cmdstanpy - INFO - Chain [1] done processing\n",
      "13:44:53 - cmdstanpy - INFO - Chain [1] start processing\n",
      "13:44:53 - cmdstanpy - INFO - Chain [1] done processing\n"
     ]
    },
    {
     "data": {
      "application/vnd.jupyter.widget-view+json": {
       "model_id": "c50bc42cfee9432f9308f8e1b2a6116b",
       "version_major": 2,
       "version_minor": 0
      },
      "text/plain": [
       "  0%|          | 0/4 [00:00<?, ?it/s]"
      ]
     },
     "metadata": {},
     "output_type": "display_data"
    },
    {
     "name": "stderr",
     "output_type": "stream",
     "text": [
      "13:44:54 - cmdstanpy - INFO - Chain [1] start processing\n",
      "13:44:54 - cmdstanpy - INFO - Chain [1] done processing\n",
      "13:44:54 - cmdstanpy - INFO - Chain [1] start processing\n",
      "13:44:54 - cmdstanpy - INFO - Chain [1] done processing\n",
      "13:44:55 - cmdstanpy - INFO - Chain [1] start processing\n",
      "13:44:55 - cmdstanpy - INFO - Chain [1] done processing\n",
      "13:44:56 - cmdstanpy - INFO - Chain [1] start processing\n",
      "13:44:56 - cmdstanpy - INFO - Chain [1] done processing\n",
      "13:44:56 - cmdstanpy - INFO - Chain [1] start processing\n",
      "13:44:56 - cmdstanpy - INFO - Chain [1] done processing\n"
     ]
    },
    {
     "data": {
      "application/vnd.jupyter.widget-view+json": {
       "model_id": "617286e086004e2e83671a67d41b4dbc",
       "version_major": 2,
       "version_minor": 0
      },
      "text/plain": [
       "  0%|          | 0/4 [00:00<?, ?it/s]"
      ]
     },
     "metadata": {},
     "output_type": "display_data"
    },
    {
     "name": "stderr",
     "output_type": "stream",
     "text": [
      "13:44:56 - cmdstanpy - INFO - Chain [1] start processing\n",
      "13:44:57 - cmdstanpy - INFO - Chain [1] done processing\n",
      "13:44:57 - cmdstanpy - INFO - Chain [1] start processing\n",
      "13:44:57 - cmdstanpy - INFO - Chain [1] done processing\n",
      "13:44:58 - cmdstanpy - INFO - Chain [1] start processing\n",
      "13:44:58 - cmdstanpy - INFO - Chain [1] done processing\n",
      "13:44:59 - cmdstanpy - INFO - Chain [1] start processing\n",
      "13:44:59 - cmdstanpy - INFO - Chain [1] done processing\n",
      "13:44:59 - cmdstanpy - INFO - Chain [1] start processing\n",
      "13:44:59 - cmdstanpy - INFO - Chain [1] done processing\n"
     ]
    },
    {
     "data": {
      "application/vnd.jupyter.widget-view+json": {
       "model_id": "6cdb184a823e4ebcb7de423eb801cae4",
       "version_major": 2,
       "version_minor": 0
      },
      "text/plain": [
       "  0%|          | 0/4 [00:00<?, ?it/s]"
      ]
     },
     "metadata": {},
     "output_type": "display_data"
    },
    {
     "name": "stderr",
     "output_type": "stream",
     "text": [
      "13:44:59 - cmdstanpy - INFO - Chain [1] start processing\n",
      "13:45:00 - cmdstanpy - INFO - Chain [1] done processing\n",
      "13:45:00 - cmdstanpy - INFO - Chain [1] start processing\n",
      "13:45:00 - cmdstanpy - INFO - Chain [1] done processing\n",
      "13:45:01 - cmdstanpy - INFO - Chain [1] start processing\n",
      "13:45:01 - cmdstanpy - INFO - Chain [1] done processing\n",
      "13:45:02 - cmdstanpy - INFO - Chain [1] start processing\n",
      "13:45:02 - cmdstanpy - INFO - Chain [1] done processing\n",
      "13:45:02 - cmdstanpy - INFO - Chain [1] start processing\n",
      "13:45:02 - cmdstanpy - INFO - Chain [1] done processing\n"
     ]
    },
    {
     "data": {
      "application/vnd.jupyter.widget-view+json": {
       "model_id": "28e317247b974c9f9c927f54a2ef79d1",
       "version_major": 2,
       "version_minor": 0
      },
      "text/plain": [
       "  0%|          | 0/4 [00:00<?, ?it/s]"
      ]
     },
     "metadata": {},
     "output_type": "display_data"
    },
    {
     "name": "stderr",
     "output_type": "stream",
     "text": [
      "13:45:02 - cmdstanpy - INFO - Chain [1] start processing\n",
      "13:45:03 - cmdstanpy - INFO - Chain [1] done processing\n",
      "13:45:03 - cmdstanpy - INFO - Chain [1] start processing\n",
      "13:45:03 - cmdstanpy - INFO - Chain [1] done processing\n",
      "13:45:04 - cmdstanpy - INFO - Chain [1] start processing\n",
      "13:45:04 - cmdstanpy - INFO - Chain [1] done processing\n",
      "13:45:05 - cmdstanpy - INFO - Chain [1] start processing\n",
      "13:45:05 - cmdstanpy - INFO - Chain [1] done processing\n",
      "13:45:05 - cmdstanpy - INFO - Chain [1] start processing\n",
      "13:45:05 - cmdstanpy - INFO - Chain [1] done processing\n"
     ]
    },
    {
     "data": {
      "application/vnd.jupyter.widget-view+json": {
       "model_id": "47702c4ccfff40bbbb10fb186de39a95",
       "version_major": 2,
       "version_minor": 0
      },
      "text/plain": [
       "  0%|          | 0/4 [00:00<?, ?it/s]"
      ]
     },
     "metadata": {},
     "output_type": "display_data"
    },
    {
     "name": "stderr",
     "output_type": "stream",
     "text": [
      "13:45:05 - cmdstanpy - INFO - Chain [1] start processing\n",
      "13:45:05 - cmdstanpy - INFO - Chain [1] done processing\n",
      "13:45:06 - cmdstanpy - INFO - Chain [1] start processing\n",
      "13:45:06 - cmdstanpy - INFO - Chain [1] done processing\n",
      "13:45:07 - cmdstanpy - INFO - Chain [1] start processing\n",
      "13:45:07 - cmdstanpy - INFO - Chain [1] done processing\n",
      "13:45:07 - cmdstanpy - INFO - Chain [1] start processing\n",
      "13:45:07 - cmdstanpy - INFO - Chain [1] done processing\n",
      "13:45:08 - cmdstanpy - INFO - Chain [1] start processing\n",
      "13:45:08 - cmdstanpy - INFO - Chain [1] done processing\n"
     ]
    },
    {
     "data": {
      "application/vnd.jupyter.widget-view+json": {
       "model_id": "239d8c7f8bfc42948080d77fe96a23af",
       "version_major": 2,
       "version_minor": 0
      },
      "text/plain": [
       "  0%|          | 0/4 [00:00<?, ?it/s]"
      ]
     },
     "metadata": {},
     "output_type": "display_data"
    },
    {
     "name": "stderr",
     "output_type": "stream",
     "text": [
      "13:45:08 - cmdstanpy - INFO - Chain [1] start processing\n",
      "13:45:08 - cmdstanpy - INFO - Chain [1] done processing\n",
      "13:45:09 - cmdstanpy - INFO - Chain [1] start processing\n",
      "13:45:09 - cmdstanpy - INFO - Chain [1] done processing\n",
      "13:45:10 - cmdstanpy - INFO - Chain [1] start processing\n",
      "13:45:10 - cmdstanpy - INFO - Chain [1] done processing\n",
      "13:45:10 - cmdstanpy - INFO - Chain [1] start processing\n",
      "13:45:10 - cmdstanpy - INFO - Chain [1] done processing\n",
      "13:45:11 - cmdstanpy - INFO - Chain [1] start processing\n",
      "13:45:11 - cmdstanpy - INFO - Chain [1] done processing\n"
     ]
    },
    {
     "data": {
      "application/vnd.jupyter.widget-view+json": {
       "model_id": "c2ed93f498044aeeac1fe630cfbee1fe",
       "version_major": 2,
       "version_minor": 0
      },
      "text/plain": [
       "  0%|          | 0/4 [00:00<?, ?it/s]"
      ]
     },
     "metadata": {},
     "output_type": "display_data"
    },
    {
     "name": "stderr",
     "output_type": "stream",
     "text": [
      "13:45:11 - cmdstanpy - INFO - Chain [1] start processing\n",
      "13:45:11 - cmdstanpy - INFO - Chain [1] done processing\n",
      "13:45:12 - cmdstanpy - INFO - Chain [1] start processing\n",
      "13:45:12 - cmdstanpy - INFO - Chain [1] done processing\n",
      "13:45:13 - cmdstanpy - INFO - Chain [1] start processing\n",
      "13:45:13 - cmdstanpy - INFO - Chain [1] done processing\n",
      "13:45:13 - cmdstanpy - INFO - Chain [1] start processing\n",
      "13:45:13 - cmdstanpy - INFO - Chain [1] done processing\n",
      "13:45:14 - cmdstanpy - INFO - Chain [1] start processing\n",
      "13:45:14 - cmdstanpy - INFO - Chain [1] done processing\n"
     ]
    },
    {
     "data": {
      "application/vnd.jupyter.widget-view+json": {
       "model_id": "4cc66584d4b24b23b49e858a834555a4",
       "version_major": 2,
       "version_minor": 0
      },
      "text/plain": [
       "  0%|          | 0/4 [00:00<?, ?it/s]"
      ]
     },
     "metadata": {},
     "output_type": "display_data"
    },
    {
     "name": "stderr",
     "output_type": "stream",
     "text": [
      "13:45:14 - cmdstanpy - INFO - Chain [1] start processing\n",
      "13:45:14 - cmdstanpy - INFO - Chain [1] done processing\n",
      "13:45:15 - cmdstanpy - INFO - Chain [1] start processing\n",
      "13:45:15 - cmdstanpy - INFO - Chain [1] done processing\n",
      "13:45:15 - cmdstanpy - INFO - Chain [1] start processing\n",
      "13:45:16 - cmdstanpy - INFO - Chain [1] done processing\n",
      "13:45:16 - cmdstanpy - INFO - Chain [1] start processing\n",
      "13:45:16 - cmdstanpy - INFO - Chain [1] done processing\n",
      "13:45:17 - cmdstanpy - INFO - Chain [1] start processing\n",
      "13:45:17 - cmdstanpy - INFO - Chain [1] done processing\n"
     ]
    },
    {
     "data": {
      "application/vnd.jupyter.widget-view+json": {
       "model_id": "a32c5e0b8bbd4db681793beed33804a0",
       "version_major": 2,
       "version_minor": 0
      },
      "text/plain": [
       "  0%|          | 0/4 [00:00<?, ?it/s]"
      ]
     },
     "metadata": {},
     "output_type": "display_data"
    },
    {
     "name": "stderr",
     "output_type": "stream",
     "text": [
      "13:45:17 - cmdstanpy - INFO - Chain [1] start processing\n",
      "13:45:17 - cmdstanpy - INFO - Chain [1] done processing\n",
      "13:45:18 - cmdstanpy - INFO - Chain [1] start processing\n",
      "13:45:18 - cmdstanpy - INFO - Chain [1] done processing\n",
      "13:45:18 - cmdstanpy - INFO - Chain [1] start processing\n",
      "13:45:18 - cmdstanpy - INFO - Chain [1] done processing\n",
      "13:45:19 - cmdstanpy - INFO - Chain [1] start processing\n",
      "13:45:19 - cmdstanpy - INFO - Chain [1] done processing\n",
      "13:45:20 - cmdstanpy - INFO - Chain [1] start processing\n",
      "13:45:20 - cmdstanpy - INFO - Chain [1] done processing\n"
     ]
    },
    {
     "data": {
      "application/vnd.jupyter.widget-view+json": {
       "model_id": "70278644c6834b3fb30ddcb7923ab710",
       "version_major": 2,
       "version_minor": 0
      },
      "text/plain": [
       "  0%|          | 0/4 [00:00<?, ?it/s]"
      ]
     },
     "metadata": {},
     "output_type": "display_data"
    },
    {
     "name": "stderr",
     "output_type": "stream",
     "text": [
      "13:45:20 - cmdstanpy - INFO - Chain [1] start processing\n",
      "13:45:20 - cmdstanpy - INFO - Chain [1] done processing\n",
      "13:45:21 - cmdstanpy - INFO - Chain [1] start processing\n",
      "13:45:21 - cmdstanpy - INFO - Chain [1] done processing\n",
      "13:45:21 - cmdstanpy - INFO - Chain [1] start processing\n",
      "13:45:21 - cmdstanpy - INFO - Chain [1] done processing\n",
      "13:45:22 - cmdstanpy - INFO - Chain [1] start processing\n",
      "13:45:22 - cmdstanpy - INFO - Chain [1] done processing\n",
      "13:45:23 - cmdstanpy - INFO - Chain [1] start processing\n",
      "13:45:23 - cmdstanpy - INFO - Chain [1] done processing\n"
     ]
    },
    {
     "data": {
      "application/vnd.jupyter.widget-view+json": {
       "model_id": "fa75692eb77742fe9d8fc0c6f3636759",
       "version_major": 2,
       "version_minor": 0
      },
      "text/plain": [
       "  0%|          | 0/4 [00:00<?, ?it/s]"
      ]
     },
     "metadata": {},
     "output_type": "display_data"
    },
    {
     "name": "stderr",
     "output_type": "stream",
     "text": [
      "13:45:23 - cmdstanpy - INFO - Chain [1] start processing\n",
      "13:45:23 - cmdstanpy - INFO - Chain [1] done processing\n",
      "13:45:24 - cmdstanpy - INFO - Chain [1] start processing\n",
      "13:45:24 - cmdstanpy - INFO - Chain [1] done processing\n",
      "13:45:24 - cmdstanpy - INFO - Chain [1] start processing\n",
      "13:45:24 - cmdstanpy - INFO - Chain [1] done processing\n",
      "13:45:25 - cmdstanpy - INFO - Chain [1] start processing\n",
      "13:45:25 - cmdstanpy - INFO - Chain [1] done processing\n",
      "13:45:26 - cmdstanpy - INFO - Chain [1] start processing\n",
      "13:45:26 - cmdstanpy - INFO - Chain [1] done processing\n"
     ]
    },
    {
     "data": {
      "application/vnd.jupyter.widget-view+json": {
       "model_id": "602bccd15d794563b715c4c4051eb680",
       "version_major": 2,
       "version_minor": 0
      },
      "text/plain": [
       "  0%|          | 0/4 [00:00<?, ?it/s]"
      ]
     },
     "metadata": {},
     "output_type": "display_data"
    },
    {
     "name": "stderr",
     "output_type": "stream",
     "text": [
      "13:45:26 - cmdstanpy - INFO - Chain [1] start processing\n",
      "13:45:26 - cmdstanpy - INFO - Chain [1] done processing\n",
      "13:45:27 - cmdstanpy - INFO - Chain [1] start processing\n",
      "13:45:27 - cmdstanpy - INFO - Chain [1] done processing\n",
      "13:45:27 - cmdstanpy - INFO - Chain [1] start processing\n",
      "13:45:27 - cmdstanpy - INFO - Chain [1] done processing\n",
      "13:45:28 - cmdstanpy - INFO - Chain [1] start processing\n",
      "13:45:28 - cmdstanpy - INFO - Chain [1] done processing\n",
      "13:45:29 - cmdstanpy - INFO - Chain [1] start processing\n",
      "13:45:29 - cmdstanpy - INFO - Chain [1] done processing\n"
     ]
    },
    {
     "data": {
      "application/vnd.jupyter.widget-view+json": {
       "model_id": "ac85c5ec74134945a4a842b90b02924a",
       "version_major": 2,
       "version_minor": 0
      },
      "text/plain": [
       "  0%|          | 0/4 [00:00<?, ?it/s]"
      ]
     },
     "metadata": {},
     "output_type": "display_data"
    },
    {
     "name": "stderr",
     "output_type": "stream",
     "text": [
      "13:45:29 - cmdstanpy - INFO - Chain [1] start processing\n",
      "13:45:29 - cmdstanpy - INFO - Chain [1] done processing\n",
      "13:45:30 - cmdstanpy - INFO - Chain [1] start processing\n",
      "13:45:30 - cmdstanpy - INFO - Chain [1] done processing\n",
      "13:45:30 - cmdstanpy - INFO - Chain [1] start processing\n",
      "13:45:30 - cmdstanpy - INFO - Chain [1] done processing\n",
      "13:45:31 - cmdstanpy - INFO - Chain [1] start processing\n",
      "13:45:31 - cmdstanpy - INFO - Chain [1] done processing\n",
      "13:45:32 - cmdstanpy - INFO - Chain [1] start processing\n",
      "13:45:32 - cmdstanpy - INFO - Chain [1] done processing\n"
     ]
    },
    {
     "data": {
      "application/vnd.jupyter.widget-view+json": {
       "model_id": "32c61e4a84494570911a8455c9d6e39e",
       "version_major": 2,
       "version_minor": 0
      },
      "text/plain": [
       "  0%|          | 0/4 [00:00<?, ?it/s]"
      ]
     },
     "metadata": {},
     "output_type": "display_data"
    },
    {
     "name": "stderr",
     "output_type": "stream",
     "text": [
      "13:45:32 - cmdstanpy - INFO - Chain [1] start processing\n",
      "13:45:32 - cmdstanpy - INFO - Chain [1] done processing\n",
      "13:45:33 - cmdstanpy - INFO - Chain [1] start processing\n",
      "13:45:33 - cmdstanpy - INFO - Chain [1] done processing\n",
      "13:45:33 - cmdstanpy - INFO - Chain [1] start processing\n",
      "13:45:34 - cmdstanpy - INFO - Chain [1] done processing\n",
      "13:45:34 - cmdstanpy - INFO - Chain [1] start processing\n",
      "13:45:34 - cmdstanpy - INFO - Chain [1] done processing\n",
      "13:45:35 - cmdstanpy - INFO - Chain [1] start processing\n",
      "13:45:35 - cmdstanpy - INFO - Chain [1] done processing\n"
     ]
    },
    {
     "data": {
      "application/vnd.jupyter.widget-view+json": {
       "model_id": "560b5eaf4e1c4e88a740eb9e74635912",
       "version_major": 2,
       "version_minor": 0
      },
      "text/plain": [
       "  0%|          | 0/4 [00:00<?, ?it/s]"
      ]
     },
     "metadata": {},
     "output_type": "display_data"
    },
    {
     "name": "stderr",
     "output_type": "stream",
     "text": [
      "13:45:35 - cmdstanpy - INFO - Chain [1] start processing\n",
      "13:45:35 - cmdstanpy - INFO - Chain [1] done processing\n",
      "13:45:36 - cmdstanpy - INFO - Chain [1] start processing\n",
      "13:45:36 - cmdstanpy - INFO - Chain [1] done processing\n",
      "13:45:36 - cmdstanpy - INFO - Chain [1] start processing\n",
      "13:45:37 - cmdstanpy - INFO - Chain [1] done processing\n",
      "13:45:37 - cmdstanpy - INFO - Chain [1] start processing\n",
      "13:45:37 - cmdstanpy - INFO - Chain [1] done processing\n",
      "13:45:38 - cmdstanpy - INFO - Chain [1] start processing\n",
      "13:45:38 - cmdstanpy - INFO - Chain [1] done processing\n"
     ]
    },
    {
     "data": {
      "application/vnd.jupyter.widget-view+json": {
       "model_id": "598da212294a4d1eaabbfb8729ffa2ef",
       "version_major": 2,
       "version_minor": 0
      },
      "text/plain": [
       "  0%|          | 0/4 [00:00<?, ?it/s]"
      ]
     },
     "metadata": {},
     "output_type": "display_data"
    },
    {
     "name": "stderr",
     "output_type": "stream",
     "text": [
      "13:45:38 - cmdstanpy - INFO - Chain [1] start processing\n",
      "13:45:38 - cmdstanpy - INFO - Chain [1] done processing\n",
      "13:45:39 - cmdstanpy - INFO - Chain [1] start processing\n",
      "13:45:39 - cmdstanpy - INFO - Chain [1] done processing\n",
      "13:45:39 - cmdstanpy - INFO - Chain [1] start processing\n",
      "13:45:39 - cmdstanpy - INFO - Chain [1] done processing\n",
      "13:45:40 - cmdstanpy - INFO - Chain [1] start processing\n",
      "13:45:40 - cmdstanpy - INFO - Chain [1] done processing\n",
      "13:45:41 - cmdstanpy - INFO - Chain [1] start processing\n",
      "13:45:41 - cmdstanpy - INFO - Chain [1] done processing\n"
     ]
    },
    {
     "data": {
      "application/vnd.jupyter.widget-view+json": {
       "model_id": "1bea9e651f14446fa7003f78b6a6ecb3",
       "version_major": 2,
       "version_minor": 0
      },
      "text/plain": [
       "  0%|          | 0/4 [00:00<?, ?it/s]"
      ]
     },
     "metadata": {},
     "output_type": "display_data"
    },
    {
     "name": "stderr",
     "output_type": "stream",
     "text": [
      "13:45:41 - cmdstanpy - INFO - Chain [1] start processing\n",
      "13:45:41 - cmdstanpy - INFO - Chain [1] done processing\n",
      "13:45:42 - cmdstanpy - INFO - Chain [1] start processing\n",
      "13:45:42 - cmdstanpy - INFO - Chain [1] done processing\n",
      "13:45:42 - cmdstanpy - INFO - Chain [1] start processing\n",
      "13:45:42 - cmdstanpy - INFO - Chain [1] done processing\n",
      "13:45:43 - cmdstanpy - INFO - Chain [1] start processing\n",
      "13:45:43 - cmdstanpy - INFO - Chain [1] done processing\n",
      "13:45:44 - cmdstanpy - INFO - Chain [1] start processing\n",
      "13:45:44 - cmdstanpy - INFO - Chain [1] done processing\n"
     ]
    },
    {
     "data": {
      "application/vnd.jupyter.widget-view+json": {
       "model_id": "0747e260b03d4c27a95aa3f755f92853",
       "version_major": 2,
       "version_minor": 0
      },
      "text/plain": [
       "  0%|          | 0/4 [00:00<?, ?it/s]"
      ]
     },
     "metadata": {},
     "output_type": "display_data"
    },
    {
     "name": "stderr",
     "output_type": "stream",
     "text": [
      "13:45:44 - cmdstanpy - INFO - Chain [1] start processing\n",
      "13:45:44 - cmdstanpy - INFO - Chain [1] done processing\n",
      "13:45:45 - cmdstanpy - INFO - Chain [1] start processing\n",
      "13:45:45 - cmdstanpy - INFO - Chain [1] done processing\n",
      "13:45:45 - cmdstanpy - INFO - Chain [1] start processing\n",
      "13:45:45 - cmdstanpy - INFO - Chain [1] done processing\n",
      "13:45:46 - cmdstanpy - INFO - Chain [1] start processing\n",
      "13:45:46 - cmdstanpy - INFO - Chain [1] done processing\n",
      "13:45:47 - cmdstanpy - INFO - Chain [1] start processing\n",
      "13:45:47 - cmdstanpy - INFO - Chain [1] done processing\n"
     ]
    },
    {
     "data": {
      "application/vnd.jupyter.widget-view+json": {
       "model_id": "e5b49ec638ce4413a53e4097981bf3b2",
       "version_major": 2,
       "version_minor": 0
      },
      "text/plain": [
       "  0%|          | 0/4 [00:00<?, ?it/s]"
      ]
     },
     "metadata": {},
     "output_type": "display_data"
    },
    {
     "name": "stderr",
     "output_type": "stream",
     "text": [
      "13:45:47 - cmdstanpy - INFO - Chain [1] start processing\n",
      "13:45:47 - cmdstanpy - INFO - Chain [1] done processing\n",
      "13:45:48 - cmdstanpy - INFO - Chain [1] start processing\n",
      "13:45:48 - cmdstanpy - INFO - Chain [1] done processing\n",
      "13:45:48 - cmdstanpy - INFO - Chain [1] start processing\n",
      "13:45:48 - cmdstanpy - INFO - Chain [1] done processing\n",
      "13:45:49 - cmdstanpy - INFO - Chain [1] start processing\n",
      "13:45:49 - cmdstanpy - INFO - Chain [1] done processing\n",
      "13:45:50 - cmdstanpy - INFO - Chain [1] start processing\n",
      "13:45:50 - cmdstanpy - INFO - Chain [1] done processing\n"
     ]
    },
    {
     "data": {
      "application/vnd.jupyter.widget-view+json": {
       "model_id": "4c170de23288439b8e94392ec1f0b731",
       "version_major": 2,
       "version_minor": 0
      },
      "text/plain": [
       "  0%|          | 0/4 [00:00<?, ?it/s]"
      ]
     },
     "metadata": {},
     "output_type": "display_data"
    },
    {
     "name": "stderr",
     "output_type": "stream",
     "text": [
      "13:45:50 - cmdstanpy - INFO - Chain [1] start processing\n",
      "13:45:50 - cmdstanpy - INFO - Chain [1] done processing\n",
      "13:45:51 - cmdstanpy - INFO - Chain [1] start processing\n",
      "13:45:51 - cmdstanpy - INFO - Chain [1] done processing\n",
      "13:45:51 - cmdstanpy - INFO - Chain [1] start processing\n",
      "13:45:51 - cmdstanpy - INFO - Chain [1] done processing\n",
      "13:45:52 - cmdstanpy - INFO - Chain [1] start processing\n",
      "13:45:52 - cmdstanpy - INFO - Chain [1] done processing\n",
      "13:45:53 - cmdstanpy - INFO - Chain [1] start processing\n",
      "13:45:53 - cmdstanpy - INFO - Chain [1] done processing\n"
     ]
    },
    {
     "data": {
      "application/vnd.jupyter.widget-view+json": {
       "model_id": "f364719e8e1e42eda2d58480704ac6b2",
       "version_major": 2,
       "version_minor": 0
      },
      "text/plain": [
       "  0%|          | 0/4 [00:00<?, ?it/s]"
      ]
     },
     "metadata": {},
     "output_type": "display_data"
    },
    {
     "name": "stderr",
     "output_type": "stream",
     "text": [
      "13:45:53 - cmdstanpy - INFO - Chain [1] start processing\n",
      "13:45:53 - cmdstanpy - INFO - Chain [1] done processing\n",
      "13:45:53 - cmdstanpy - INFO - Chain [1] start processing\n",
      "13:45:54 - cmdstanpy - INFO - Chain [1] done processing\n",
      "13:45:54 - cmdstanpy - INFO - Chain [1] start processing\n",
      "13:45:54 - cmdstanpy - INFO - Chain [1] done processing\n",
      "13:45:55 - cmdstanpy - INFO - Chain [1] start processing\n",
      "13:45:55 - cmdstanpy - INFO - Chain [1] done processing\n",
      "13:45:55 - cmdstanpy - INFO - Chain [1] start processing\n",
      "13:45:55 - cmdstanpy - INFO - Chain [1] done processing\n"
     ]
    },
    {
     "data": {
      "application/vnd.jupyter.widget-view+json": {
       "model_id": "7ffe3318304344299391364801b03322",
       "version_major": 2,
       "version_minor": 0
      },
      "text/plain": [
       "  0%|          | 0/4 [00:00<?, ?it/s]"
      ]
     },
     "metadata": {},
     "output_type": "display_data"
    },
    {
     "name": "stderr",
     "output_type": "stream",
     "text": [
      "13:45:56 - cmdstanpy - INFO - Chain [1] start processing\n",
      "13:45:56 - cmdstanpy - INFO - Chain [1] done processing\n",
      "13:45:56 - cmdstanpy - INFO - Chain [1] start processing\n",
      "13:45:56 - cmdstanpy - INFO - Chain [1] done processing\n",
      "13:45:57 - cmdstanpy - INFO - Chain [1] start processing\n",
      "13:45:57 - cmdstanpy - INFO - Chain [1] done processing\n",
      "13:45:58 - cmdstanpy - INFO - Chain [1] start processing\n",
      "13:45:58 - cmdstanpy - INFO - Chain [1] done processing\n",
      "13:45:58 - cmdstanpy - INFO - Chain [1] start processing\n",
      "13:45:58 - cmdstanpy - INFO - Chain [1] done processing\n"
     ]
    },
    {
     "data": {
      "application/vnd.jupyter.widget-view+json": {
       "model_id": "1b48a63fb7ee4600ada3dcf818bdbfd2",
       "version_major": 2,
       "version_minor": 0
      },
      "text/plain": [
       "  0%|          | 0/4 [00:00<?, ?it/s]"
      ]
     },
     "metadata": {},
     "output_type": "display_data"
    },
    {
     "name": "stderr",
     "output_type": "stream",
     "text": [
      "13:45:58 - cmdstanpy - INFO - Chain [1] start processing\n",
      "13:45:59 - cmdstanpy - INFO - Chain [1] done processing\n",
      "13:45:59 - cmdstanpy - INFO - Chain [1] start processing\n",
      "13:45:59 - cmdstanpy - INFO - Chain [1] done processing\n",
      "13:46:00 - cmdstanpy - INFO - Chain [1] start processing\n",
      "13:46:00 - cmdstanpy - INFO - Chain [1] done processing\n",
      "13:46:01 - cmdstanpy - INFO - Chain [1] start processing\n",
      "13:46:01 - cmdstanpy - INFO - Chain [1] done processing\n",
      "13:46:01 - cmdstanpy - INFO - Chain [1] start processing\n",
      "13:46:01 - cmdstanpy - INFO - Chain [1] done processing\n"
     ]
    },
    {
     "data": {
      "application/vnd.jupyter.widget-view+json": {
       "model_id": "9b571f6cfb374828a4287b49d9214a38",
       "version_major": 2,
       "version_minor": 0
      },
      "text/plain": [
       "  0%|          | 0/4 [00:00<?, ?it/s]"
      ]
     },
     "metadata": {},
     "output_type": "display_data"
    },
    {
     "name": "stderr",
     "output_type": "stream",
     "text": [
      "13:46:01 - cmdstanpy - INFO - Chain [1] start processing\n",
      "13:46:02 - cmdstanpy - INFO - Chain [1] done processing\n",
      "13:46:02 - cmdstanpy - INFO - Chain [1] start processing\n",
      "13:46:02 - cmdstanpy - INFO - Chain [1] done processing\n",
      "13:46:03 - cmdstanpy - INFO - Chain [1] start processing\n",
      "13:46:03 - cmdstanpy - INFO - Chain [1] done processing\n",
      "13:46:04 - cmdstanpy - INFO - Chain [1] start processing\n",
      "13:46:04 - cmdstanpy - INFO - Chain [1] done processing\n",
      "13:46:04 - cmdstanpy - INFO - Chain [1] start processing\n",
      "13:46:04 - cmdstanpy - INFO - Chain [1] done processing\n"
     ]
    },
    {
     "data": {
      "application/vnd.jupyter.widget-view+json": {
       "model_id": "49145e3b1e324555b6f1b9fb1072104b",
       "version_major": 2,
       "version_minor": 0
      },
      "text/plain": [
       "  0%|          | 0/4 [00:00<?, ?it/s]"
      ]
     },
     "metadata": {},
     "output_type": "display_data"
    },
    {
     "name": "stderr",
     "output_type": "stream",
     "text": [
      "13:46:04 - cmdstanpy - INFO - Chain [1] start processing\n",
      "13:46:05 - cmdstanpy - INFO - Chain [1] done processing\n",
      "13:46:05 - cmdstanpy - INFO - Chain [1] start processing\n",
      "13:46:05 - cmdstanpy - INFO - Chain [1] done processing\n",
      "13:46:06 - cmdstanpy - INFO - Chain [1] start processing\n",
      "13:46:06 - cmdstanpy - INFO - Chain [1] done processing\n",
      "13:46:06 - cmdstanpy - INFO - Chain [1] start processing\n",
      "13:46:06 - cmdstanpy - INFO - Chain [1] done processing\n",
      "13:46:07 - cmdstanpy - INFO - Chain [1] start processing\n",
      "13:46:07 - cmdstanpy - INFO - Chain [1] done processing\n"
     ]
    },
    {
     "data": {
      "application/vnd.jupyter.widget-view+json": {
       "model_id": "b85f32ba64b340f2a860951af5ca03d5",
       "version_major": 2,
       "version_minor": 0
      },
      "text/plain": [
       "  0%|          | 0/4 [00:00<?, ?it/s]"
      ]
     },
     "metadata": {},
     "output_type": "display_data"
    },
    {
     "name": "stderr",
     "output_type": "stream",
     "text": [
      "13:46:07 - cmdstanpy - INFO - Chain [1] start processing\n",
      "13:46:07 - cmdstanpy - INFO - Chain [1] done processing\n",
      "13:46:08 - cmdstanpy - INFO - Chain [1] start processing\n",
      "13:46:08 - cmdstanpy - INFO - Chain [1] done processing\n",
      "13:46:09 - cmdstanpy - INFO - Chain [1] start processing\n",
      "13:46:09 - cmdstanpy - INFO - Chain [1] done processing\n",
      "13:46:09 - cmdstanpy - INFO - Chain [1] start processing\n",
      "13:46:09 - cmdstanpy - INFO - Chain [1] done processing\n",
      "13:46:10 - cmdstanpy - INFO - Chain [1] start processing\n",
      "13:46:10 - cmdstanpy - INFO - Chain [1] done processing\n"
     ]
    },
    {
     "data": {
      "application/vnd.jupyter.widget-view+json": {
       "model_id": "38e60a21ed8d4e188e005147cb8f17a6",
       "version_major": 2,
       "version_minor": 0
      },
      "text/plain": [
       "  0%|          | 0/4 [00:00<?, ?it/s]"
      ]
     },
     "metadata": {},
     "output_type": "display_data"
    },
    {
     "name": "stderr",
     "output_type": "stream",
     "text": [
      "13:46:10 - cmdstanpy - INFO - Chain [1] start processing\n",
      "13:46:10 - cmdstanpy - INFO - Chain [1] done processing\n",
      "13:46:11 - cmdstanpy - INFO - Chain [1] start processing\n",
      "13:46:11 - cmdstanpy - INFO - Chain [1] done processing\n",
      "13:46:12 - cmdstanpy - INFO - Chain [1] start processing\n",
      "13:46:12 - cmdstanpy - INFO - Chain [1] done processing\n",
      "13:46:12 - cmdstanpy - INFO - Chain [1] start processing\n",
      "13:46:12 - cmdstanpy - INFO - Chain [1] done processing\n",
      "13:46:13 - cmdstanpy - INFO - Chain [1] start processing\n",
      "13:46:13 - cmdstanpy - INFO - Chain [1] done processing\n"
     ]
    },
    {
     "data": {
      "application/vnd.jupyter.widget-view+json": {
       "model_id": "71eedd19af114b4187c0a5a70f22bac6",
       "version_major": 2,
       "version_minor": 0
      },
      "text/plain": [
       "  0%|          | 0/4 [00:00<?, ?it/s]"
      ]
     },
     "metadata": {},
     "output_type": "display_data"
    },
    {
     "name": "stderr",
     "output_type": "stream",
     "text": [
      "13:46:13 - cmdstanpy - INFO - Chain [1] start processing\n",
      "13:46:13 - cmdstanpy - INFO - Chain [1] done processing\n",
      "13:46:14 - cmdstanpy - INFO - Chain [1] start processing\n",
      "13:46:14 - cmdstanpy - INFO - Chain [1] done processing\n",
      "13:46:14 - cmdstanpy - INFO - Chain [1] start processing\n",
      "13:46:14 - cmdstanpy - INFO - Chain [1] done processing\n",
      "13:46:15 - cmdstanpy - INFO - Chain [1] start processing\n",
      "13:46:15 - cmdstanpy - INFO - Chain [1] done processing\n",
      "13:46:16 - cmdstanpy - INFO - Chain [1] start processing\n",
      "13:46:16 - cmdstanpy - INFO - Chain [1] done processing\n"
     ]
    },
    {
     "data": {
      "application/vnd.jupyter.widget-view+json": {
       "model_id": "cc4faab9e97845758df3bde521045f8c",
       "version_major": 2,
       "version_minor": 0
      },
      "text/plain": [
       "  0%|          | 0/4 [00:00<?, ?it/s]"
      ]
     },
     "metadata": {},
     "output_type": "display_data"
    },
    {
     "name": "stderr",
     "output_type": "stream",
     "text": [
      "13:46:16 - cmdstanpy - INFO - Chain [1] start processing\n",
      "13:46:16 - cmdstanpy - INFO - Chain [1] done processing\n",
      "13:46:17 - cmdstanpy - INFO - Chain [1] start processing\n",
      "13:46:17 - cmdstanpy - INFO - Chain [1] done processing\n",
      "13:46:17 - cmdstanpy - INFO - Chain [1] start processing\n",
      "13:46:17 - cmdstanpy - INFO - Chain [1] done processing\n",
      "13:46:18 - cmdstanpy - INFO - Chain [1] start processing\n",
      "13:46:18 - cmdstanpy - INFO - Chain [1] done processing\n",
      "13:46:19 - cmdstanpy - INFO - Chain [1] start processing\n",
      "13:46:19 - cmdstanpy - INFO - Chain [1] done processing\n"
     ]
    },
    {
     "data": {
      "application/vnd.jupyter.widget-view+json": {
       "model_id": "c1cd5621539b4feaaae501fb74235dd2",
       "version_major": 2,
       "version_minor": 0
      },
      "text/plain": [
       "  0%|          | 0/4 [00:00<?, ?it/s]"
      ]
     },
     "metadata": {},
     "output_type": "display_data"
    },
    {
     "name": "stderr",
     "output_type": "stream",
     "text": [
      "13:46:19 - cmdstanpy - INFO - Chain [1] start processing\n",
      "13:46:19 - cmdstanpy - INFO - Chain [1] done processing\n",
      "13:46:20 - cmdstanpy - INFO - Chain [1] start processing\n",
      "13:46:20 - cmdstanpy - INFO - Chain [1] done processing\n",
      "13:46:20 - cmdstanpy - INFO - Chain [1] start processing\n",
      "13:46:20 - cmdstanpy - INFO - Chain [1] done processing\n",
      "13:46:21 - cmdstanpy - INFO - Chain [1] start processing\n",
      "13:46:21 - cmdstanpy - INFO - Chain [1] done processing\n",
      "13:46:22 - cmdstanpy - INFO - Chain [1] start processing\n",
      "13:46:22 - cmdstanpy - INFO - Chain [1] done processing\n"
     ]
    },
    {
     "data": {
      "application/vnd.jupyter.widget-view+json": {
       "model_id": "afa0d57bd0dc427585a8c2538a0dd09a",
       "version_major": 2,
       "version_minor": 0
      },
      "text/plain": [
       "  0%|          | 0/4 [00:00<?, ?it/s]"
      ]
     },
     "metadata": {},
     "output_type": "display_data"
    },
    {
     "name": "stderr",
     "output_type": "stream",
     "text": [
      "13:46:22 - cmdstanpy - INFO - Chain [1] start processing\n",
      "13:46:22 - cmdstanpy - INFO - Chain [1] done processing\n",
      "13:46:22 - cmdstanpy - INFO - Chain [1] start processing\n",
      "13:46:22 - cmdstanpy - INFO - Chain [1] done processing\n",
      "13:46:23 - cmdstanpy - INFO - Chain [1] start processing\n",
      "13:46:23 - cmdstanpy - INFO - Chain [1] done processing\n",
      "13:46:24 - cmdstanpy - INFO - Chain [1] start processing\n",
      "13:46:24 - cmdstanpy - INFO - Chain [1] done processing\n",
      "13:46:24 - cmdstanpy - INFO - Chain [1] start processing\n",
      "13:46:24 - cmdstanpy - INFO - Chain [1] done processing\n"
     ]
    },
    {
     "data": {
      "application/vnd.jupyter.widget-view+json": {
       "model_id": "064d270ef9194989af6d79d79c774dfa",
       "version_major": 2,
       "version_minor": 0
      },
      "text/plain": [
       "  0%|          | 0/4 [00:00<?, ?it/s]"
      ]
     },
     "metadata": {},
     "output_type": "display_data"
    },
    {
     "name": "stderr",
     "output_type": "stream",
     "text": [
      "13:46:24 - cmdstanpy - INFO - Chain [1] start processing\n",
      "13:46:25 - cmdstanpy - INFO - Chain [1] done processing\n",
      "13:46:25 - cmdstanpy - INFO - Chain [1] start processing\n",
      "13:46:25 - cmdstanpy - INFO - Chain [1] done processing\n",
      "13:46:26 - cmdstanpy - INFO - Chain [1] start processing\n",
      "13:46:26 - cmdstanpy - INFO - Chain [1] done processing\n",
      "13:46:27 - cmdstanpy - INFO - Chain [1] start processing\n",
      "13:46:27 - cmdstanpy - INFO - Chain [1] done processing\n",
      "13:46:27 - cmdstanpy - INFO - Chain [1] start processing\n",
      "13:46:27 - cmdstanpy - INFO - Chain [1] done processing\n"
     ]
    },
    {
     "data": {
      "application/vnd.jupyter.widget-view+json": {
       "model_id": "9c05ae606069436fb67088bd87abcdd6",
       "version_major": 2,
       "version_minor": 0
      },
      "text/plain": [
       "  0%|          | 0/4 [00:00<?, ?it/s]"
      ]
     },
     "metadata": {},
     "output_type": "display_data"
    },
    {
     "name": "stderr",
     "output_type": "stream",
     "text": [
      "13:46:27 - cmdstanpy - INFO - Chain [1] start processing\n",
      "13:46:28 - cmdstanpy - INFO - Chain [1] done processing\n",
      "13:46:28 - cmdstanpy - INFO - Chain [1] start processing\n",
      "13:46:28 - cmdstanpy - INFO - Chain [1] done processing\n",
      "13:46:29 - cmdstanpy - INFO - Chain [1] start processing\n",
      "13:46:29 - cmdstanpy - INFO - Chain [1] done processing\n",
      "13:46:29 - cmdstanpy - INFO - Chain [1] start processing\n",
      "13:46:30 - cmdstanpy - INFO - Chain [1] done processing\n",
      "13:46:30 - cmdstanpy - INFO - Chain [1] start processing\n",
      "13:46:30 - cmdstanpy - INFO - Chain [1] done processing\n"
     ]
    },
    {
     "data": {
      "application/vnd.jupyter.widget-view+json": {
       "model_id": "56767fb21a8a4f35b14cc440ec3ca106",
       "version_major": 2,
       "version_minor": 0
      },
      "text/plain": [
       "  0%|          | 0/4 [00:00<?, ?it/s]"
      ]
     },
     "metadata": {},
     "output_type": "display_data"
    },
    {
     "name": "stderr",
     "output_type": "stream",
     "text": [
      "13:46:30 - cmdstanpy - INFO - Chain [1] start processing\n",
      "13:46:30 - cmdstanpy - INFO - Chain [1] done processing\n",
      "13:46:31 - cmdstanpy - INFO - Chain [1] start processing\n",
      "13:46:31 - cmdstanpy - INFO - Chain [1] done processing\n",
      "13:46:32 - cmdstanpy - INFO - Chain [1] start processing\n",
      "13:46:32 - cmdstanpy - INFO - Chain [1] done processing\n",
      "13:46:32 - cmdstanpy - INFO - Chain [1] start processing\n",
      "13:46:32 - cmdstanpy - INFO - Chain [1] done processing\n",
      "13:46:33 - cmdstanpy - INFO - Chain [1] start processing\n",
      "13:46:33 - cmdstanpy - INFO - Chain [1] done processing\n"
     ]
    },
    {
     "data": {
      "application/vnd.jupyter.widget-view+json": {
       "model_id": "3be5a40283474678b103be21a43563a2",
       "version_major": 2,
       "version_minor": 0
      },
      "text/plain": [
       "  0%|          | 0/4 [00:00<?, ?it/s]"
      ]
     },
     "metadata": {},
     "output_type": "display_data"
    },
    {
     "name": "stderr",
     "output_type": "stream",
     "text": [
      "13:46:33 - cmdstanpy - INFO - Chain [1] start processing\n",
      "13:46:33 - cmdstanpy - INFO - Chain [1] done processing\n",
      "13:46:34 - cmdstanpy - INFO - Chain [1] start processing\n",
      "13:46:34 - cmdstanpy - INFO - Chain [1] done processing\n",
      "13:46:35 - cmdstanpy - INFO - Chain [1] start processing\n",
      "13:46:35 - cmdstanpy - INFO - Chain [1] done processing\n",
      "13:46:35 - cmdstanpy - INFO - Chain [1] start processing\n",
      "13:46:35 - cmdstanpy - INFO - Chain [1] done processing\n",
      "13:46:36 - cmdstanpy - INFO - Chain [1] start processing\n",
      "13:46:36 - cmdstanpy - INFO - Chain [1] done processing\n"
     ]
    },
    {
     "data": {
      "application/vnd.jupyter.widget-view+json": {
       "model_id": "d1c4d12db114443fab16ffb4603e83cd",
       "version_major": 2,
       "version_minor": 0
      },
      "text/plain": [
       "  0%|          | 0/4 [00:00<?, ?it/s]"
      ]
     },
     "metadata": {},
     "output_type": "display_data"
    },
    {
     "name": "stderr",
     "output_type": "stream",
     "text": [
      "13:46:36 - cmdstanpy - INFO - Chain [1] start processing\n",
      "13:46:36 - cmdstanpy - INFO - Chain [1] done processing\n",
      "13:46:37 - cmdstanpy - INFO - Chain [1] start processing\n",
      "13:46:37 - cmdstanpy - INFO - Chain [1] done processing\n",
      "13:46:38 - cmdstanpy - INFO - Chain [1] start processing\n",
      "13:46:38 - cmdstanpy - INFO - Chain [1] done processing\n",
      "13:46:38 - cmdstanpy - INFO - Chain [1] start processing\n",
      "13:46:38 - cmdstanpy - INFO - Chain [1] done processing\n",
      "13:46:39 - cmdstanpy - INFO - Chain [1] start processing\n",
      "13:46:39 - cmdstanpy - INFO - Chain [1] done processing\n"
     ]
    },
    {
     "data": {
      "application/vnd.jupyter.widget-view+json": {
       "model_id": "7be4c766abc44cb696d288d88a123853",
       "version_major": 2,
       "version_minor": 0
      },
      "text/plain": [
       "  0%|          | 0/4 [00:00<?, ?it/s]"
      ]
     },
     "metadata": {},
     "output_type": "display_data"
    },
    {
     "name": "stderr",
     "output_type": "stream",
     "text": [
      "13:46:39 - cmdstanpy - INFO - Chain [1] start processing\n",
      "13:46:39 - cmdstanpy - INFO - Chain [1] done processing\n",
      "13:46:40 - cmdstanpy - INFO - Chain [1] start processing\n",
      "13:46:40 - cmdstanpy - INFO - Chain [1] done processing\n",
      "13:46:40 - cmdstanpy - INFO - Chain [1] start processing\n",
      "13:46:41 - cmdstanpy - INFO - Chain [1] done processing\n",
      "13:46:41 - cmdstanpy - INFO - Chain [1] start processing\n",
      "13:46:41 - cmdstanpy - INFO - Chain [1] done processing\n",
      "13:46:42 - cmdstanpy - INFO - Chain [1] start processing\n",
      "13:46:42 - cmdstanpy - INFO - Chain [1] done processing\n"
     ]
    },
    {
     "data": {
      "application/vnd.jupyter.widget-view+json": {
       "model_id": "ac5a0178433846508348e0c3c7c93f8a",
       "version_major": 2,
       "version_minor": 0
      },
      "text/plain": [
       "  0%|          | 0/4 [00:00<?, ?it/s]"
      ]
     },
     "metadata": {},
     "output_type": "display_data"
    },
    {
     "name": "stderr",
     "output_type": "stream",
     "text": [
      "13:46:42 - cmdstanpy - INFO - Chain [1] start processing\n",
      "13:46:42 - cmdstanpy - INFO - Chain [1] done processing\n",
      "13:46:43 - cmdstanpy - INFO - Chain [1] start processing\n",
      "13:46:43 - cmdstanpy - INFO - Chain [1] done processing\n",
      "13:46:43 - cmdstanpy - INFO - Chain [1] start processing\n",
      "13:46:43 - cmdstanpy - INFO - Chain [1] done processing\n",
      "13:46:44 - cmdstanpy - INFO - Chain [1] start processing\n",
      "13:46:44 - cmdstanpy - INFO - Chain [1] done processing\n",
      "13:46:45 - cmdstanpy - INFO - Chain [1] start processing\n",
      "13:46:45 - cmdstanpy - INFO - Chain [1] done processing\n"
     ]
    },
    {
     "data": {
      "application/vnd.jupyter.widget-view+json": {
       "model_id": "e2d21c25bb4b422082f9eebf41dd9201",
       "version_major": 2,
       "version_minor": 0
      },
      "text/plain": [
       "  0%|          | 0/4 [00:00<?, ?it/s]"
      ]
     },
     "metadata": {},
     "output_type": "display_data"
    },
    {
     "name": "stderr",
     "output_type": "stream",
     "text": [
      "13:46:45 - cmdstanpy - INFO - Chain [1] start processing\n",
      "13:46:45 - cmdstanpy - INFO - Chain [1] done processing\n",
      "13:46:46 - cmdstanpy - INFO - Chain [1] start processing\n",
      "13:46:46 - cmdstanpy - INFO - Chain [1] done processing\n",
      "13:46:46 - cmdstanpy - INFO - Chain [1] start processing\n",
      "13:46:46 - cmdstanpy - INFO - Chain [1] done processing\n",
      "13:46:47 - cmdstanpy - INFO - Chain [1] start processing\n",
      "13:46:47 - cmdstanpy - INFO - Chain [1] done processing\n",
      "13:46:48 - cmdstanpy - INFO - Chain [1] start processing\n",
      "13:46:48 - cmdstanpy - INFO - Chain [1] done processing\n"
     ]
    },
    {
     "data": {
      "application/vnd.jupyter.widget-view+json": {
       "model_id": "a5a6972801e04020aa28ea47456e6952",
       "version_major": 2,
       "version_minor": 0
      },
      "text/plain": [
       "  0%|          | 0/4 [00:00<?, ?it/s]"
      ]
     },
     "metadata": {},
     "output_type": "display_data"
    },
    {
     "name": "stderr",
     "output_type": "stream",
     "text": [
      "13:46:48 - cmdstanpy - INFO - Chain [1] start processing\n",
      "13:46:48 - cmdstanpy - INFO - Chain [1] done processing\n",
      "13:46:48 - cmdstanpy - INFO - Chain [1] start processing\n",
      "13:46:48 - cmdstanpy - INFO - Chain [1] done processing\n",
      "13:46:49 - cmdstanpy - INFO - Chain [1] start processing\n",
      "13:46:49 - cmdstanpy - INFO - Chain [1] done processing\n",
      "13:46:50 - cmdstanpy - INFO - Chain [1] start processing\n",
      "13:46:50 - cmdstanpy - INFO - Chain [1] done processing\n",
      "13:46:50 - cmdstanpy - INFO - Chain [1] start processing\n",
      "13:46:50 - cmdstanpy - INFO - Chain [1] done processing\n"
     ]
    },
    {
     "data": {
      "application/vnd.jupyter.widget-view+json": {
       "model_id": "7a88d6a81c904a0a8c1cd34c92a00fd1",
       "version_major": 2,
       "version_minor": 0
      },
      "text/plain": [
       "  0%|          | 0/4 [00:00<?, ?it/s]"
      ]
     },
     "metadata": {},
     "output_type": "display_data"
    },
    {
     "name": "stderr",
     "output_type": "stream",
     "text": [
      "13:46:51 - cmdstanpy - INFO - Chain [1] start processing\n",
      "13:46:51 - cmdstanpy - INFO - Chain [1] done processing\n",
      "13:46:51 - cmdstanpy - INFO - Chain [1] start processing\n",
      "13:46:51 - cmdstanpy - INFO - Chain [1] done processing\n",
      "13:46:52 - cmdstanpy - INFO - Chain [1] start processing\n",
      "13:46:52 - cmdstanpy - INFO - Chain [1] done processing\n",
      "13:46:53 - cmdstanpy - INFO - Chain [1] start processing\n",
      "13:46:53 - cmdstanpy - INFO - Chain [1] done processing\n",
      "13:46:53 - cmdstanpy - INFO - Chain [1] start processing\n",
      "13:46:53 - cmdstanpy - INFO - Chain [1] done processing\n"
     ]
    },
    {
     "data": {
      "application/vnd.jupyter.widget-view+json": {
       "model_id": "ef4b13a704534cdda82feef911af8da1",
       "version_major": 2,
       "version_minor": 0
      },
      "text/plain": [
       "  0%|          | 0/4 [00:00<?, ?it/s]"
      ]
     },
     "metadata": {},
     "output_type": "display_data"
    },
    {
     "name": "stderr",
     "output_type": "stream",
     "text": [
      "13:46:53 - cmdstanpy - INFO - Chain [1] start processing\n",
      "13:46:54 - cmdstanpy - INFO - Chain [1] done processing\n",
      "13:46:54 - cmdstanpy - INFO - Chain [1] start processing\n",
      "13:46:54 - cmdstanpy - INFO - Chain [1] done processing\n",
      "13:46:55 - cmdstanpy - INFO - Chain [1] start processing\n",
      "13:46:55 - cmdstanpy - INFO - Chain [1] done processing\n",
      "13:46:56 - cmdstanpy - INFO - Chain [1] start processing\n",
      "13:46:56 - cmdstanpy - INFO - Chain [1] done processing\n",
      "13:46:56 - cmdstanpy - INFO - Chain [1] start processing\n",
      "13:46:56 - cmdstanpy - INFO - Chain [1] done processing\n"
     ]
    },
    {
     "data": {
      "application/vnd.jupyter.widget-view+json": {
       "model_id": "2913c3493697418d9fa81790198633f1",
       "version_major": 2,
       "version_minor": 0
      },
      "text/plain": [
       "  0%|          | 0/4 [00:00<?, ?it/s]"
      ]
     },
     "metadata": {},
     "output_type": "display_data"
    },
    {
     "name": "stderr",
     "output_type": "stream",
     "text": [
      "13:46:56 - cmdstanpy - INFO - Chain [1] start processing\n",
      "13:46:56 - cmdstanpy - INFO - Chain [1] done processing\n",
      "13:46:57 - cmdstanpy - INFO - Chain [1] start processing\n",
      "13:46:57 - cmdstanpy - INFO - Chain [1] done processing\n",
      "13:46:58 - cmdstanpy - INFO - Chain [1] start processing\n",
      "13:46:58 - cmdstanpy - INFO - Chain [1] done processing\n",
      "13:46:58 - cmdstanpy - INFO - Chain [1] start processing\n",
      "13:46:58 - cmdstanpy - INFO - Chain [1] done processing\n",
      "13:46:59 - cmdstanpy - INFO - Chain [1] start processing\n",
      "13:46:59 - cmdstanpy - INFO - Chain [1] done processing\n"
     ]
    },
    {
     "data": {
      "application/vnd.jupyter.widget-view+json": {
       "model_id": "03a69f919a454fa58713353e51e412b5",
       "version_major": 2,
       "version_minor": 0
      },
      "text/plain": [
       "  0%|          | 0/4 [00:00<?, ?it/s]"
      ]
     },
     "metadata": {},
     "output_type": "display_data"
    },
    {
     "name": "stderr",
     "output_type": "stream",
     "text": [
      "13:46:59 - cmdstanpy - INFO - Chain [1] start processing\n",
      "13:46:59 - cmdstanpy - INFO - Chain [1] done processing\n",
      "13:47:00 - cmdstanpy - INFO - Chain [1] start processing\n",
      "13:47:00 - cmdstanpy - INFO - Chain [1] done processing\n",
      "13:47:01 - cmdstanpy - INFO - Chain [1] start processing\n",
      "13:47:01 - cmdstanpy - INFO - Chain [1] done processing\n",
      "13:47:01 - cmdstanpy - INFO - Chain [1] start processing\n",
      "13:47:01 - cmdstanpy - INFO - Chain [1] done processing\n",
      "13:47:02 - cmdstanpy - INFO - Chain [1] start processing\n",
      "13:47:02 - cmdstanpy - INFO - Chain [1] done processing\n"
     ]
    },
    {
     "data": {
      "application/vnd.jupyter.widget-view+json": {
       "model_id": "669683ec35c549bfb32d0c4b9ca4427c",
       "version_major": 2,
       "version_minor": 0
      },
      "text/plain": [
       "  0%|          | 0/4 [00:00<?, ?it/s]"
      ]
     },
     "metadata": {},
     "output_type": "display_data"
    },
    {
     "name": "stderr",
     "output_type": "stream",
     "text": [
      "13:47:02 - cmdstanpy - INFO - Chain [1] start processing\n",
      "13:47:02 - cmdstanpy - INFO - Chain [1] done processing\n",
      "13:47:03 - cmdstanpy - INFO - Chain [1] start processing\n",
      "13:47:03 - cmdstanpy - INFO - Chain [1] done processing\n",
      "13:47:04 - cmdstanpy - INFO - Chain [1] start processing\n",
      "13:47:04 - cmdstanpy - INFO - Chain [1] done processing\n",
      "13:47:04 - cmdstanpy - INFO - Chain [1] start processing\n",
      "13:47:04 - cmdstanpy - INFO - Chain [1] done processing\n",
      "13:47:05 - cmdstanpy - INFO - Chain [1] start processing\n",
      "13:47:05 - cmdstanpy - INFO - Chain [1] done processing\n"
     ]
    },
    {
     "data": {
      "application/vnd.jupyter.widget-view+json": {
       "model_id": "0e32d084fa264d21bcbe0fa71ec6b620",
       "version_major": 2,
       "version_minor": 0
      },
      "text/plain": [
       "  0%|          | 0/4 [00:00<?, ?it/s]"
      ]
     },
     "metadata": {},
     "output_type": "display_data"
    },
    {
     "name": "stderr",
     "output_type": "stream",
     "text": [
      "13:47:05 - cmdstanpy - INFO - Chain [1] start processing\n",
      "13:47:05 - cmdstanpy - INFO - Chain [1] done processing\n",
      "13:47:06 - cmdstanpy - INFO - Chain [1] start processing\n",
      "13:47:06 - cmdstanpy - INFO - Chain [1] done processing\n",
      "13:47:06 - cmdstanpy - INFO - Chain [1] start processing\n",
      "13:47:07 - cmdstanpy - INFO - Chain [1] done processing\n",
      "13:47:07 - cmdstanpy - INFO - Chain [1] start processing\n",
      "13:47:07 - cmdstanpy - INFO - Chain [1] done processing\n",
      "13:47:08 - cmdstanpy - INFO - Chain [1] start processing\n",
      "13:47:08 - cmdstanpy - INFO - Chain [1] done processing\n"
     ]
    },
    {
     "data": {
      "application/vnd.jupyter.widget-view+json": {
       "model_id": "7c3b7958333f41aaa54b64be1a2a36a8",
       "version_major": 2,
       "version_minor": 0
      },
      "text/plain": [
       "  0%|          | 0/4 [00:00<?, ?it/s]"
      ]
     },
     "metadata": {},
     "output_type": "display_data"
    },
    {
     "name": "stderr",
     "output_type": "stream",
     "text": [
      "13:47:08 - cmdstanpy - INFO - Chain [1] start processing\n",
      "13:47:08 - cmdstanpy - INFO - Chain [1] done processing\n",
      "13:47:09 - cmdstanpy - INFO - Chain [1] start processing\n",
      "13:47:09 - cmdstanpy - INFO - Chain [1] done processing\n",
      "13:47:09 - cmdstanpy - INFO - Chain [1] start processing\n",
      "13:47:09 - cmdstanpy - INFO - Chain [1] done processing\n",
      "13:47:10 - cmdstanpy - INFO - Chain [1] start processing\n",
      "13:47:10 - cmdstanpy - INFO - Chain [1] done processing\n",
      "13:47:11 - cmdstanpy - INFO - Chain [1] start processing\n",
      "13:47:11 - cmdstanpy - INFO - Chain [1] done processing\n"
     ]
    },
    {
     "data": {
      "application/vnd.jupyter.widget-view+json": {
       "model_id": "34d139cf74a34a9b803e24b148e0007e",
       "version_major": 2,
       "version_minor": 0
      },
      "text/plain": [
       "  0%|          | 0/4 [00:00<?, ?it/s]"
      ]
     },
     "metadata": {},
     "output_type": "display_data"
    },
    {
     "name": "stderr",
     "output_type": "stream",
     "text": [
      "13:47:11 - cmdstanpy - INFO - Chain [1] start processing\n",
      "13:47:11 - cmdstanpy - INFO - Chain [1] done processing\n",
      "13:47:12 - cmdstanpy - INFO - Chain [1] start processing\n",
      "13:47:12 - cmdstanpy - INFO - Chain [1] done processing\n",
      "13:47:12 - cmdstanpy - INFO - Chain [1] start processing\n",
      "13:47:12 - cmdstanpy - INFO - Chain [1] done processing\n",
      "13:47:13 - cmdstanpy - INFO - Chain [1] start processing\n",
      "13:47:13 - cmdstanpy - INFO - Chain [1] done processing\n",
      "13:47:14 - cmdstanpy - INFO - Chain [1] start processing\n",
      "13:47:14 - cmdstanpy - INFO - Chain [1] done processing\n"
     ]
    },
    {
     "data": {
      "application/vnd.jupyter.widget-view+json": {
       "model_id": "844e06bf2ef84038b80e90e598785a72",
       "version_major": 2,
       "version_minor": 0
      },
      "text/plain": [
       "  0%|          | 0/4 [00:00<?, ?it/s]"
      ]
     },
     "metadata": {},
     "output_type": "display_data"
    },
    {
     "name": "stderr",
     "output_type": "stream",
     "text": [
      "13:47:14 - cmdstanpy - INFO - Chain [1] start processing\n",
      "13:47:14 - cmdstanpy - INFO - Chain [1] done processing\n",
      "13:47:14 - cmdstanpy - INFO - Chain [1] start processing\n",
      "13:47:15 - cmdstanpy - INFO - Chain [1] done processing\n",
      "13:47:15 - cmdstanpy - INFO - Chain [1] start processing\n",
      "13:47:15 - cmdstanpy - INFO - Chain [1] done processing\n",
      "13:47:16 - cmdstanpy - INFO - Chain [1] start processing\n",
      "13:47:16 - cmdstanpy - INFO - Chain [1] done processing\n",
      "13:47:16 - cmdstanpy - INFO - Chain [1] start processing\n",
      "13:47:16 - cmdstanpy - INFO - Chain [1] done processing\n"
     ]
    },
    {
     "data": {
      "application/vnd.jupyter.widget-view+json": {
       "model_id": "3656fd086d734910a8fcb30000f3d4a3",
       "version_major": 2,
       "version_minor": 0
      },
      "text/plain": [
       "  0%|          | 0/4 [00:00<?, ?it/s]"
      ]
     },
     "metadata": {},
     "output_type": "display_data"
    },
    {
     "name": "stderr",
     "output_type": "stream",
     "text": [
      "13:47:17 - cmdstanpy - INFO - Chain [1] start processing\n",
      "13:47:17 - cmdstanpy - INFO - Chain [1] done processing\n",
      "13:47:17 - cmdstanpy - INFO - Chain [1] start processing\n",
      "13:47:17 - cmdstanpy - INFO - Chain [1] done processing\n",
      "13:47:18 - cmdstanpy - INFO - Chain [1] start processing\n",
      "13:47:18 - cmdstanpy - INFO - Chain [1] done processing\n",
      "13:47:19 - cmdstanpy - INFO - Chain [1] start processing\n",
      "13:47:19 - cmdstanpy - INFO - Chain [1] done processing\n",
      "13:47:19 - cmdstanpy - INFO - Chain [1] start processing\n",
      "13:47:19 - cmdstanpy - INFO - Chain [1] done processing\n"
     ]
    },
    {
     "data": {
      "application/vnd.jupyter.widget-view+json": {
       "model_id": "4529fdffd7b84b0d9ec30995caf6c512",
       "version_major": 2,
       "version_minor": 0
      },
      "text/plain": [
       "  0%|          | 0/4 [00:00<?, ?it/s]"
      ]
     },
     "metadata": {},
     "output_type": "display_data"
    },
    {
     "name": "stderr",
     "output_type": "stream",
     "text": [
      "13:47:19 - cmdstanpy - INFO - Chain [1] start processing\n",
      "13:47:20 - cmdstanpy - INFO - Chain [1] done processing\n",
      "13:47:20 - cmdstanpy - INFO - Chain [1] start processing\n",
      "13:47:20 - cmdstanpy - INFO - Chain [1] done processing\n",
      "13:47:21 - cmdstanpy - INFO - Chain [1] start processing\n",
      "13:47:21 - cmdstanpy - INFO - Chain [1] done processing\n",
      "13:47:22 - cmdstanpy - INFO - Chain [1] start processing\n",
      "13:47:22 - cmdstanpy - INFO - Chain [1] done processing\n",
      "13:47:22 - cmdstanpy - INFO - Chain [1] start processing\n",
      "13:47:22 - cmdstanpy - INFO - Chain [1] done processing\n"
     ]
    },
    {
     "data": {
      "application/vnd.jupyter.widget-view+json": {
       "model_id": "88eaf29fed574b6fa5d71c4effcb8d69",
       "version_major": 2,
       "version_minor": 0
      },
      "text/plain": [
       "  0%|          | 0/4 [00:00<?, ?it/s]"
      ]
     },
     "metadata": {},
     "output_type": "display_data"
    },
    {
     "name": "stderr",
     "output_type": "stream",
     "text": [
      "13:47:22 - cmdstanpy - INFO - Chain [1] start processing\n",
      "13:47:23 - cmdstanpy - INFO - Chain [1] done processing\n",
      "13:47:23 - cmdstanpy - INFO - Chain [1] start processing\n",
      "13:47:23 - cmdstanpy - INFO - Chain [1] done processing\n",
      "13:47:24 - cmdstanpy - INFO - Chain [1] start processing\n",
      "13:47:24 - cmdstanpy - INFO - Chain [1] done processing\n",
      "13:47:24 - cmdstanpy - INFO - Chain [1] start processing\n",
      "13:47:25 - cmdstanpy - INFO - Chain [1] done processing\n",
      "13:47:25 - cmdstanpy - INFO - Chain [1] start processing\n",
      "13:47:25 - cmdstanpy - INFO - Chain [1] done processing\n"
     ]
    },
    {
     "data": {
      "application/vnd.jupyter.widget-view+json": {
       "model_id": "35dc91dceaa84ced94b882bb640ad386",
       "version_major": 2,
       "version_minor": 0
      },
      "text/plain": [
       "  0%|          | 0/4 [00:00<?, ?it/s]"
      ]
     },
     "metadata": {},
     "output_type": "display_data"
    },
    {
     "name": "stderr",
     "output_type": "stream",
     "text": [
      "13:47:25 - cmdstanpy - INFO - Chain [1] start processing\n",
      "13:47:25 - cmdstanpy - INFO - Chain [1] done processing\n",
      "13:47:26 - cmdstanpy - INFO - Chain [1] start processing\n",
      "13:47:26 - cmdstanpy - INFO - Chain [1] done processing\n",
      "13:47:27 - cmdstanpy - INFO - Chain [1] start processing\n",
      "13:47:27 - cmdstanpy - INFO - Chain [1] done processing\n",
      "13:47:27 - cmdstanpy - INFO - Chain [1] start processing\n",
      "13:47:27 - cmdstanpy - INFO - Chain [1] done processing\n",
      "13:47:28 - cmdstanpy - INFO - Chain [1] start processing\n",
      "13:47:28 - cmdstanpy - INFO - Chain [1] done processing\n"
     ]
    },
    {
     "data": {
      "application/vnd.jupyter.widget-view+json": {
       "model_id": "07d3d3bac7b84c72a71a8db73ca11341",
       "version_major": 2,
       "version_minor": 0
      },
      "text/plain": [
       "  0%|          | 0/4 [00:00<?, ?it/s]"
      ]
     },
     "metadata": {},
     "output_type": "display_data"
    },
    {
     "name": "stderr",
     "output_type": "stream",
     "text": [
      "13:47:28 - cmdstanpy - INFO - Chain [1] start processing\n",
      "13:47:28 - cmdstanpy - INFO - Chain [1] done processing\n",
      "13:47:29 - cmdstanpy - INFO - Chain [1] start processing\n",
      "13:47:29 - cmdstanpy - INFO - Chain [1] done processing\n",
      "13:47:30 - cmdstanpy - INFO - Chain [1] start processing\n",
      "13:47:30 - cmdstanpy - INFO - Chain [1] done processing\n",
      "13:47:30 - cmdstanpy - INFO - Chain [1] start processing\n",
      "13:47:30 - cmdstanpy - INFO - Chain [1] done processing\n",
      "13:47:31 - cmdstanpy - INFO - Chain [1] start processing\n",
      "13:47:31 - cmdstanpy - INFO - Chain [1] done processing\n"
     ]
    },
    {
     "data": {
      "application/vnd.jupyter.widget-view+json": {
       "model_id": "32f47f47b5ba4120a5373e6fb8f7a25a",
       "version_major": 2,
       "version_minor": 0
      },
      "text/plain": [
       "  0%|          | 0/4 [00:00<?, ?it/s]"
      ]
     },
     "metadata": {},
     "output_type": "display_data"
    },
    {
     "name": "stderr",
     "output_type": "stream",
     "text": [
      "13:47:31 - cmdstanpy - INFO - Chain [1] start processing\n",
      "13:47:32 - cmdstanpy - INFO - Chain [1] done processing\n",
      "13:47:32 - cmdstanpy - INFO - Chain [1] start processing\n",
      "13:47:32 - cmdstanpy - INFO - Chain [1] done processing\n",
      "13:47:33 - cmdstanpy - INFO - Chain [1] start processing\n",
      "13:47:33 - cmdstanpy - INFO - Chain [1] done processing\n",
      "13:47:34 - cmdstanpy - INFO - Chain [1] start processing\n",
      "13:47:34 - cmdstanpy - INFO - Chain [1] done processing\n",
      "13:47:34 - cmdstanpy - INFO - Chain [1] start processing\n",
      "13:47:34 - cmdstanpy - INFO - Chain [1] done processing\n"
     ]
    },
    {
     "data": {
      "application/vnd.jupyter.widget-view+json": {
       "model_id": "2197985d283c460a81ac193f95542a20",
       "version_major": 2,
       "version_minor": 0
      },
      "text/plain": [
       "  0%|          | 0/4 [00:00<?, ?it/s]"
      ]
     },
     "metadata": {},
     "output_type": "display_data"
    },
    {
     "name": "stderr",
     "output_type": "stream",
     "text": [
      "13:47:34 - cmdstanpy - INFO - Chain [1] start processing\n",
      "13:47:34 - cmdstanpy - INFO - Chain [1] done processing\n",
      "13:47:35 - cmdstanpy - INFO - Chain [1] start processing\n",
      "13:47:35 - cmdstanpy - INFO - Chain [1] done processing\n",
      "13:47:36 - cmdstanpy - INFO - Chain [1] start processing\n",
      "13:47:36 - cmdstanpy - INFO - Chain [1] done processing\n",
      "13:47:36 - cmdstanpy - INFO - Chain [1] start processing\n",
      "13:47:36 - cmdstanpy - INFO - Chain [1] done processing\n",
      "13:47:37 - cmdstanpy - INFO - Chain [1] start processing\n",
      "13:47:37 - cmdstanpy - INFO - Chain [1] done processing\n"
     ]
    },
    {
     "data": {
      "application/vnd.jupyter.widget-view+json": {
       "model_id": "42d2f2860c48401d8628c7e7fe348e82",
       "version_major": 2,
       "version_minor": 0
      },
      "text/plain": [
       "  0%|          | 0/4 [00:00<?, ?it/s]"
      ]
     },
     "metadata": {},
     "output_type": "display_data"
    },
    {
     "name": "stderr",
     "output_type": "stream",
     "text": [
      "13:47:37 - cmdstanpy - INFO - Chain [1] start processing\n",
      "13:47:37 - cmdstanpy - INFO - Chain [1] done processing\n",
      "13:47:38 - cmdstanpy - INFO - Chain [1] start processing\n",
      "13:47:38 - cmdstanpy - INFO - Chain [1] done processing\n",
      "13:47:39 - cmdstanpy - INFO - Chain [1] start processing\n",
      "13:47:39 - cmdstanpy - INFO - Chain [1] done processing\n",
      "13:47:39 - cmdstanpy - INFO - Chain [1] start processing\n",
      "13:47:39 - cmdstanpy - INFO - Chain [1] done processing\n",
      "13:47:40 - cmdstanpy - INFO - Chain [1] start processing\n",
      "13:47:40 - cmdstanpy - INFO - Chain [1] done processing\n"
     ]
    },
    {
     "data": {
      "application/vnd.jupyter.widget-view+json": {
       "model_id": "4c8042cba504416cb955f38b3c9ea6a0",
       "version_major": 2,
       "version_minor": 0
      },
      "text/plain": [
       "  0%|          | 0/4 [00:00<?, ?it/s]"
      ]
     },
     "metadata": {},
     "output_type": "display_data"
    },
    {
     "name": "stderr",
     "output_type": "stream",
     "text": [
      "13:47:40 - cmdstanpy - INFO - Chain [1] start processing\n",
      "13:47:40 - cmdstanpy - INFO - Chain [1] done processing\n",
      "13:47:41 - cmdstanpy - INFO - Chain [1] start processing\n",
      "13:47:41 - cmdstanpy - INFO - Chain [1] done processing\n",
      "13:47:42 - cmdstanpy - INFO - Chain [1] start processing\n",
      "13:47:42 - cmdstanpy - INFO - Chain [1] done processing\n",
      "13:47:42 - cmdstanpy - INFO - Chain [1] start processing\n",
      "13:47:42 - cmdstanpy - INFO - Chain [1] done processing\n",
      "13:47:43 - cmdstanpy - INFO - Chain [1] start processing\n",
      "13:47:43 - cmdstanpy - INFO - Chain [1] done processing\n"
     ]
    },
    {
     "data": {
      "application/vnd.jupyter.widget-view+json": {
       "model_id": "f7f1a8a185004193a48fa1e8744a5da8",
       "version_major": 2,
       "version_minor": 0
      },
      "text/plain": [
       "  0%|          | 0/4 [00:00<?, ?it/s]"
      ]
     },
     "metadata": {},
     "output_type": "display_data"
    },
    {
     "name": "stderr",
     "output_type": "stream",
     "text": [
      "13:47:43 - cmdstanpy - INFO - Chain [1] start processing\n",
      "13:47:43 - cmdstanpy - INFO - Chain [1] done processing\n",
      "13:47:44 - cmdstanpy - INFO - Chain [1] start processing\n",
      "13:47:44 - cmdstanpy - INFO - Chain [1] done processing\n",
      "13:47:45 - cmdstanpy - INFO - Chain [1] start processing\n",
      "13:47:45 - cmdstanpy - INFO - Chain [1] done processing\n",
      "13:47:45 - cmdstanpy - INFO - Chain [1] start processing\n",
      "13:47:45 - cmdstanpy - INFO - Chain [1] done processing\n",
      "13:47:46 - cmdstanpy - INFO - Chain [1] start processing\n",
      "13:47:46 - cmdstanpy - INFO - Chain [1] done processing\n"
     ]
    },
    {
     "data": {
      "application/vnd.jupyter.widget-view+json": {
       "model_id": "d85c68a4eff64d8990a4bab6859fe76d",
       "version_major": 2,
       "version_minor": 0
      },
      "text/plain": [
       "  0%|          | 0/4 [00:00<?, ?it/s]"
      ]
     },
     "metadata": {},
     "output_type": "display_data"
    },
    {
     "name": "stderr",
     "output_type": "stream",
     "text": [
      "13:47:46 - cmdstanpy - INFO - Chain [1] start processing\n",
      "13:47:46 - cmdstanpy - INFO - Chain [1] done processing\n",
      "13:47:47 - cmdstanpy - INFO - Chain [1] start processing\n",
      "13:47:47 - cmdstanpy - INFO - Chain [1] done processing\n",
      "13:47:48 - cmdstanpy - INFO - Chain [1] start processing\n",
      "13:47:48 - cmdstanpy - INFO - Chain [1] done processing\n",
      "13:47:48 - cmdstanpy - INFO - Chain [1] start processing\n",
      "13:47:48 - cmdstanpy - INFO - Chain [1] done processing\n",
      "13:47:49 - cmdstanpy - INFO - Chain [1] start processing\n",
      "13:47:49 - cmdstanpy - INFO - Chain [1] done processing\n"
     ]
    },
    {
     "data": {
      "application/vnd.jupyter.widget-view+json": {
       "model_id": "1c2b29c2d0f247bb852971fe651f7c0a",
       "version_major": 2,
       "version_minor": 0
      },
      "text/plain": [
       "  0%|          | 0/4 [00:00<?, ?it/s]"
      ]
     },
     "metadata": {},
     "output_type": "display_data"
    },
    {
     "name": "stderr",
     "output_type": "stream",
     "text": [
      "13:47:49 - cmdstanpy - INFO - Chain [1] start processing\n",
      "13:47:49 - cmdstanpy - INFO - Chain [1] done processing\n",
      "13:47:50 - cmdstanpy - INFO - Chain [1] start processing\n",
      "13:47:50 - cmdstanpy - INFO - Chain [1] done processing\n",
      "13:47:51 - cmdstanpy - INFO - Chain [1] start processing\n",
      "13:47:51 - cmdstanpy - INFO - Chain [1] done processing\n",
      "13:47:51 - cmdstanpy - INFO - Chain [1] start processing\n",
      "13:47:51 - cmdstanpy - INFO - Chain [1] done processing\n",
      "13:47:52 - cmdstanpy - INFO - Chain [1] start processing\n",
      "13:47:52 - cmdstanpy - INFO - Chain [1] done processing\n"
     ]
    },
    {
     "data": {
      "application/vnd.jupyter.widget-view+json": {
       "model_id": "95851aae336e4c0a848d451cf27c8315",
       "version_major": 2,
       "version_minor": 0
      },
      "text/plain": [
       "  0%|          | 0/4 [00:00<?, ?it/s]"
      ]
     },
     "metadata": {},
     "output_type": "display_data"
    },
    {
     "name": "stderr",
     "output_type": "stream",
     "text": [
      "13:47:52 - cmdstanpy - INFO - Chain [1] start processing\n",
      "13:47:52 - cmdstanpy - INFO - Chain [1] done processing\n",
      "13:47:53 - cmdstanpy - INFO - Chain [1] start processing\n",
      "13:47:53 - cmdstanpy - INFO - Chain [1] done processing\n",
      "13:47:54 - cmdstanpy - INFO - Chain [1] start processing\n",
      "13:47:54 - cmdstanpy - INFO - Chain [1] done processing\n",
      "13:47:55 - cmdstanpy - INFO - Chain [1] start processing\n",
      "13:47:55 - cmdstanpy - INFO - Chain [1] done processing\n",
      "13:47:55 - cmdstanpy - INFO - Chain [1] start processing\n",
      "13:47:55 - cmdstanpy - INFO - Chain [1] done processing\n"
     ]
    },
    {
     "data": {
      "application/vnd.jupyter.widget-view+json": {
       "model_id": "22fbc133f0ba4c15a131a7bbbf0ff30b",
       "version_major": 2,
       "version_minor": 0
      },
      "text/plain": [
       "  0%|          | 0/4 [00:00<?, ?it/s]"
      ]
     },
     "metadata": {},
     "output_type": "display_data"
    },
    {
     "name": "stderr",
     "output_type": "stream",
     "text": [
      "13:47:56 - cmdstanpy - INFO - Chain [1] start processing\n",
      "13:47:56 - cmdstanpy - INFO - Chain [1] done processing\n",
      "13:47:57 - cmdstanpy - INFO - Chain [1] start processing\n",
      "13:47:57 - cmdstanpy - INFO - Chain [1] done processing\n",
      "13:47:58 - cmdstanpy - INFO - Chain [1] start processing\n",
      "13:47:58 - cmdstanpy - INFO - Chain [1] done processing\n",
      "13:47:58 - cmdstanpy - INFO - Chain [1] start processing\n",
      "13:47:58 - cmdstanpy - INFO - Chain [1] done processing\n",
      "13:47:59 - cmdstanpy - INFO - Chain [1] start processing\n",
      "13:47:59 - cmdstanpy - INFO - Chain [1] done processing\n"
     ]
    },
    {
     "data": {
      "application/vnd.jupyter.widget-view+json": {
       "model_id": "26102cf556534489a82daa41c91769c5",
       "version_major": 2,
       "version_minor": 0
      },
      "text/plain": [
       "  0%|          | 0/4 [00:00<?, ?it/s]"
      ]
     },
     "metadata": {},
     "output_type": "display_data"
    },
    {
     "name": "stderr",
     "output_type": "stream",
     "text": [
      "13:47:59 - cmdstanpy - INFO - Chain [1] start processing\n",
      "13:48:00 - cmdstanpy - INFO - Chain [1] done processing\n",
      "13:48:00 - cmdstanpy - INFO - Chain [1] start processing\n",
      "13:48:00 - cmdstanpy - INFO - Chain [1] done processing\n",
      "13:48:02 - cmdstanpy - INFO - Chain [1] start processing\n",
      "13:48:02 - cmdstanpy - INFO - Chain [1] done processing\n",
      "13:48:02 - cmdstanpy - INFO - Chain [1] start processing\n",
      "13:48:03 - cmdstanpy - INFO - Chain [1] done processing\n",
      "13:48:03 - cmdstanpy - INFO - Chain [1] start processing\n",
      "13:48:03 - cmdstanpy - INFO - Chain [1] done processing\n"
     ]
    },
    {
     "data": {
      "application/vnd.jupyter.widget-view+json": {
       "model_id": "d892c25ee39e401db72b2703ddeca2da",
       "version_major": 2,
       "version_minor": 0
      },
      "text/plain": [
       "  0%|          | 0/4 [00:00<?, ?it/s]"
      ]
     },
     "metadata": {},
     "output_type": "display_data"
    },
    {
     "name": "stderr",
     "output_type": "stream",
     "text": [
      "13:48:03 - cmdstanpy - INFO - Chain [1] start processing\n",
      "13:48:04 - cmdstanpy - INFO - Chain [1] done processing\n",
      "13:48:04 - cmdstanpy - INFO - Chain [1] start processing\n",
      "13:48:04 - cmdstanpy - INFO - Chain [1] done processing\n",
      "13:48:05 - cmdstanpy - INFO - Chain [1] start processing\n",
      "13:48:05 - cmdstanpy - INFO - Chain [1] done processing\n",
      "13:48:06 - cmdstanpy - INFO - Chain [1] start processing\n",
      "13:48:06 - cmdstanpy - INFO - Chain [1] done processing\n",
      "13:48:06 - cmdstanpy - INFO - Chain [1] start processing\n",
      "13:48:06 - cmdstanpy - INFO - Chain [1] done processing\n"
     ]
    },
    {
     "data": {
      "application/vnd.jupyter.widget-view+json": {
       "model_id": "603ed3673a144579a55dcb0961fe9059",
       "version_major": 2,
       "version_minor": 0
      },
      "text/plain": [
       "  0%|          | 0/4 [00:00<?, ?it/s]"
      ]
     },
     "metadata": {},
     "output_type": "display_data"
    },
    {
     "name": "stderr",
     "output_type": "stream",
     "text": [
      "13:48:06 - cmdstanpy - INFO - Chain [1] start processing\n",
      "13:48:07 - cmdstanpy - INFO - Chain [1] done processing\n",
      "13:48:07 - cmdstanpy - INFO - Chain [1] start processing\n",
      "13:48:07 - cmdstanpy - INFO - Chain [1] done processing\n",
      "13:48:08 - cmdstanpy - INFO - Chain [1] start processing\n",
      "13:48:08 - cmdstanpy - INFO - Chain [1] done processing\n",
      "13:48:09 - cmdstanpy - INFO - Chain [1] start processing\n",
      "13:48:09 - cmdstanpy - INFO - Chain [1] done processing\n",
      "13:48:10 - cmdstanpy - INFO - Chain [1] start processing\n",
      "13:48:10 - cmdstanpy - INFO - Chain [1] done processing\n"
     ]
    },
    {
     "data": {
      "application/vnd.jupyter.widget-view+json": {
       "model_id": "fef476816a404c51acb0e942c1908df9",
       "version_major": 2,
       "version_minor": 0
      },
      "text/plain": [
       "  0%|          | 0/4 [00:00<?, ?it/s]"
      ]
     },
     "metadata": {},
     "output_type": "display_data"
    },
    {
     "name": "stderr",
     "output_type": "stream",
     "text": [
      "13:48:10 - cmdstanpy - INFO - Chain [1] start processing\n",
      "13:48:10 - cmdstanpy - INFO - Chain [1] done processing\n",
      "13:48:11 - cmdstanpy - INFO - Chain [1] start processing\n",
      "13:48:11 - cmdstanpy - INFO - Chain [1] done processing\n",
      "13:48:11 - cmdstanpy - INFO - Chain [1] start processing\n",
      "13:48:11 - cmdstanpy - INFO - Chain [1] done processing\n",
      "13:48:12 - cmdstanpy - INFO - Chain [1] start processing\n",
      "13:48:12 - cmdstanpy - INFO - Chain [1] done processing\n",
      "13:48:13 - cmdstanpy - INFO - Chain [1] start processing\n",
      "13:48:13 - cmdstanpy - INFO - Chain [1] done processing\n"
     ]
    },
    {
     "data": {
      "application/vnd.jupyter.widget-view+json": {
       "model_id": "74a55035e7e24c0fb5f06b1fc64cac42",
       "version_major": 2,
       "version_minor": 0
      },
      "text/plain": [
       "  0%|          | 0/4 [00:00<?, ?it/s]"
      ]
     },
     "metadata": {},
     "output_type": "display_data"
    },
    {
     "name": "stderr",
     "output_type": "stream",
     "text": [
      "13:48:13 - cmdstanpy - INFO - Chain [1] start processing\n",
      "13:48:13 - cmdstanpy - INFO - Chain [1] done processing\n",
      "13:48:14 - cmdstanpy - INFO - Chain [1] start processing\n",
      "13:48:14 - cmdstanpy - INFO - Chain [1] done processing\n",
      "13:48:15 - cmdstanpy - INFO - Chain [1] start processing\n",
      "13:48:15 - cmdstanpy - INFO - Chain [1] done processing\n",
      "13:48:15 - cmdstanpy - INFO - Chain [1] start processing\n",
      "13:48:15 - cmdstanpy - INFO - Chain [1] done processing\n",
      "13:48:16 - cmdstanpy - INFO - Chain [1] start processing\n",
      "13:48:16 - cmdstanpy - INFO - Chain [1] done processing\n"
     ]
    },
    {
     "data": {
      "application/vnd.jupyter.widget-view+json": {
       "model_id": "56e0a35da4b84be98b7b720ec51b6931",
       "version_major": 2,
       "version_minor": 0
      },
      "text/plain": [
       "  0%|          | 0/4 [00:00<?, ?it/s]"
      ]
     },
     "metadata": {},
     "output_type": "display_data"
    },
    {
     "name": "stderr",
     "output_type": "stream",
     "text": [
      "13:48:16 - cmdstanpy - INFO - Chain [1] start processing\n",
      "13:48:16 - cmdstanpy - INFO - Chain [1] done processing\n",
      "13:48:17 - cmdstanpy - INFO - Chain [1] start processing\n",
      "13:48:17 - cmdstanpy - INFO - Chain [1] done processing\n",
      "13:48:18 - cmdstanpy - INFO - Chain [1] start processing\n",
      "13:48:18 - cmdstanpy - INFO - Chain [1] done processing\n",
      "13:48:19 - cmdstanpy - INFO - Chain [1] start processing\n",
      "13:48:19 - cmdstanpy - INFO - Chain [1] done processing\n",
      "13:48:20 - cmdstanpy - INFO - Chain [1] start processing\n",
      "13:48:20 - cmdstanpy - INFO - Chain [1] done processing\n"
     ]
    },
    {
     "data": {
      "application/vnd.jupyter.widget-view+json": {
       "model_id": "f52a538725a5452fa4b41a10abd947a0",
       "version_major": 2,
       "version_minor": 0
      },
      "text/plain": [
       "  0%|          | 0/4 [00:00<?, ?it/s]"
      ]
     },
     "metadata": {},
     "output_type": "display_data"
    },
    {
     "name": "stderr",
     "output_type": "stream",
     "text": [
      "13:48:20 - cmdstanpy - INFO - Chain [1] start processing\n",
      "13:48:20 - cmdstanpy - INFO - Chain [1] done processing\n",
      "13:48:21 - cmdstanpy - INFO - Chain [1] start processing\n",
      "13:48:21 - cmdstanpy - INFO - Chain [1] done processing\n",
      "13:48:22 - cmdstanpy - INFO - Chain [1] start processing\n",
      "13:48:22 - cmdstanpy - INFO - Chain [1] done processing\n",
      "13:48:23 - cmdstanpy - INFO - Chain [1] start processing\n",
      "13:48:23 - cmdstanpy - INFO - Chain [1] done processing\n",
      "13:48:24 - cmdstanpy - INFO - Chain [1] start processing\n",
      "13:48:24 - cmdstanpy - INFO - Chain [1] done processing\n"
     ]
    },
    {
     "data": {
      "application/vnd.jupyter.widget-view+json": {
       "model_id": "ed8c3622e2aa4077866ce51baf4135c3",
       "version_major": 2,
       "version_minor": 0
      },
      "text/plain": [
       "  0%|          | 0/4 [00:00<?, ?it/s]"
      ]
     },
     "metadata": {},
     "output_type": "display_data"
    },
    {
     "name": "stderr",
     "output_type": "stream",
     "text": [
      "13:48:24 - cmdstanpy - INFO - Chain [1] start processing\n",
      "13:48:24 - cmdstanpy - INFO - Chain [1] done processing\n",
      "13:48:25 - cmdstanpy - INFO - Chain [1] start processing\n",
      "13:48:25 - cmdstanpy - INFO - Chain [1] done processing\n",
      "13:48:25 - cmdstanpy - INFO - Chain [1] start processing\n",
      "13:48:25 - cmdstanpy - INFO - Chain [1] done processing\n",
      "13:48:26 - cmdstanpy - INFO - Chain [1] start processing\n",
      "13:48:26 - cmdstanpy - INFO - Chain [1] done processing\n",
      "13:48:27 - cmdstanpy - INFO - Chain [1] start processing\n",
      "13:48:27 - cmdstanpy - INFO - Chain [1] done processing\n"
     ]
    },
    {
     "data": {
      "application/vnd.jupyter.widget-view+json": {
       "model_id": "59bedfd49c174ab0b4346223b393ec09",
       "version_major": 2,
       "version_minor": 0
      },
      "text/plain": [
       "  0%|          | 0/4 [00:00<?, ?it/s]"
      ]
     },
     "metadata": {},
     "output_type": "display_data"
    },
    {
     "name": "stderr",
     "output_type": "stream",
     "text": [
      "13:48:27 - cmdstanpy - INFO - Chain [1] start processing\n",
      "13:48:27 - cmdstanpy - INFO - Chain [1] done processing\n",
      "13:48:28 - cmdstanpy - INFO - Chain [1] start processing\n",
      "13:48:28 - cmdstanpy - INFO - Chain [1] done processing\n",
      "13:48:28 - cmdstanpy - INFO - Chain [1] start processing\n",
      "13:48:28 - cmdstanpy - INFO - Chain [1] done processing\n",
      "13:48:29 - cmdstanpy - INFO - Chain [1] start processing\n",
      "13:48:29 - cmdstanpy - INFO - Chain [1] done processing\n",
      "13:48:30 - cmdstanpy - INFO - Chain [1] start processing\n",
      "13:48:30 - cmdstanpy - INFO - Chain [1] done processing\n"
     ]
    },
    {
     "data": {
      "application/vnd.jupyter.widget-view+json": {
       "model_id": "a20eeaa2de3145899ddbce3a57be881c",
       "version_major": 2,
       "version_minor": 0
      },
      "text/plain": [
       "  0%|          | 0/4 [00:00<?, ?it/s]"
      ]
     },
     "metadata": {},
     "output_type": "display_data"
    },
    {
     "name": "stderr",
     "output_type": "stream",
     "text": [
      "13:48:30 - cmdstanpy - INFO - Chain [1] start processing\n",
      "13:48:30 - cmdstanpy - INFO - Chain [1] done processing\n",
      "13:48:31 - cmdstanpy - INFO - Chain [1] start processing\n",
      "13:48:31 - cmdstanpy - INFO - Chain [1] done processing\n",
      "13:48:31 - cmdstanpy - INFO - Chain [1] start processing\n",
      "13:48:31 - cmdstanpy - INFO - Chain [1] done processing\n",
      "13:48:32 - cmdstanpy - INFO - Chain [1] start processing\n",
      "13:48:32 - cmdstanpy - INFO - Chain [1] done processing\n",
      "13:48:33 - cmdstanpy - INFO - Chain [1] start processing\n",
      "13:48:33 - cmdstanpy - INFO - Chain [1] done processing\n"
     ]
    },
    {
     "data": {
      "application/vnd.jupyter.widget-view+json": {
       "model_id": "717a83fa0f184946aa3dabd7724beb23",
       "version_major": 2,
       "version_minor": 0
      },
      "text/plain": [
       "  0%|          | 0/4 [00:00<?, ?it/s]"
      ]
     },
     "metadata": {},
     "output_type": "display_data"
    },
    {
     "name": "stderr",
     "output_type": "stream",
     "text": [
      "13:48:33 - cmdstanpy - INFO - Chain [1] start processing\n",
      "13:48:33 - cmdstanpy - INFO - Chain [1] done processing\n",
      "13:48:34 - cmdstanpy - INFO - Chain [1] start processing\n",
      "13:48:34 - cmdstanpy - INFO - Chain [1] done processing\n",
      "13:48:34 - cmdstanpy - INFO - Chain [1] start processing\n",
      "13:48:34 - cmdstanpy - INFO - Chain [1] done processing\n",
      "13:48:35 - cmdstanpy - INFO - Chain [1] start processing\n",
      "13:48:35 - cmdstanpy - INFO - Chain [1] done processing\n",
      "13:48:36 - cmdstanpy - INFO - Chain [1] start processing\n",
      "13:48:36 - cmdstanpy - INFO - Chain [1] done processing\n"
     ]
    },
    {
     "data": {
      "application/vnd.jupyter.widget-view+json": {
       "model_id": "86fafd94fc9944b7825cc2ee0e925149",
       "version_major": 2,
       "version_minor": 0
      },
      "text/plain": [
       "  0%|          | 0/4 [00:00<?, ?it/s]"
      ]
     },
     "metadata": {},
     "output_type": "display_data"
    },
    {
     "name": "stderr",
     "output_type": "stream",
     "text": [
      "13:48:36 - cmdstanpy - INFO - Chain [1] start processing\n",
      "13:48:36 - cmdstanpy - INFO - Chain [1] done processing\n",
      "13:48:36 - cmdstanpy - INFO - Chain [1] start processing\n",
      "13:48:37 - cmdstanpy - INFO - Chain [1] done processing\n",
      "13:48:37 - cmdstanpy - INFO - Chain [1] start processing\n",
      "13:48:37 - cmdstanpy - INFO - Chain [1] done processing\n",
      "13:48:38 - cmdstanpy - INFO - Chain [1] start processing\n",
      "13:48:38 - cmdstanpy - INFO - Chain [1] done processing\n",
      "13:48:39 - cmdstanpy - INFO - Chain [1] start processing\n",
      "13:48:39 - cmdstanpy - INFO - Chain [1] done processing\n"
     ]
    },
    {
     "data": {
      "application/vnd.jupyter.widget-view+json": {
       "model_id": "2d57f732adb0455993437b40d659a1ae",
       "version_major": 2,
       "version_minor": 0
      },
      "text/plain": [
       "  0%|          | 0/4 [00:00<?, ?it/s]"
      ]
     },
     "metadata": {},
     "output_type": "display_data"
    },
    {
     "name": "stderr",
     "output_type": "stream",
     "text": [
      "13:48:39 - cmdstanpy - INFO - Chain [1] start processing\n",
      "13:48:39 - cmdstanpy - INFO - Chain [1] done processing\n",
      "13:48:40 - cmdstanpy - INFO - Chain [1] start processing\n",
      "13:48:40 - cmdstanpy - INFO - Chain [1] done processing\n",
      "13:48:40 - cmdstanpy - INFO - Chain [1] start processing\n",
      "13:48:40 - cmdstanpy - INFO - Chain [1] done processing\n",
      "13:48:41 - cmdstanpy - INFO - Chain [1] start processing\n",
      "13:48:41 - cmdstanpy - INFO - Chain [1] done processing\n",
      "13:48:42 - cmdstanpy - INFO - Chain [1] start processing\n",
      "13:48:42 - cmdstanpy - INFO - Chain [1] done processing\n"
     ]
    },
    {
     "data": {
      "application/vnd.jupyter.widget-view+json": {
       "model_id": "0e9b31dee7fc47a08a0784d3cb872fc1",
       "version_major": 2,
       "version_minor": 0
      },
      "text/plain": [
       "  0%|          | 0/4 [00:00<?, ?it/s]"
      ]
     },
     "metadata": {},
     "output_type": "display_data"
    },
    {
     "name": "stderr",
     "output_type": "stream",
     "text": [
      "13:48:42 - cmdstanpy - INFO - Chain [1] start processing\n",
      "13:48:42 - cmdstanpy - INFO - Chain [1] done processing\n",
      "13:48:43 - cmdstanpy - INFO - Chain [1] start processing\n",
      "13:48:43 - cmdstanpy - INFO - Chain [1] done processing\n",
      "13:48:43 - cmdstanpy - INFO - Chain [1] start processing\n",
      "13:48:43 - cmdstanpy - INFO - Chain [1] done processing\n",
      "13:48:44 - cmdstanpy - INFO - Chain [1] start processing\n",
      "13:48:44 - cmdstanpy - INFO - Chain [1] done processing\n",
      "13:48:45 - cmdstanpy - INFO - Chain [1] start processing\n",
      "13:48:45 - cmdstanpy - INFO - Chain [1] done processing\n"
     ]
    },
    {
     "data": {
      "application/vnd.jupyter.widget-view+json": {
       "model_id": "050d1be792fa47f0acbaae35ff62104f",
       "version_major": 2,
       "version_minor": 0
      },
      "text/plain": [
       "  0%|          | 0/4 [00:00<?, ?it/s]"
      ]
     },
     "metadata": {},
     "output_type": "display_data"
    },
    {
     "name": "stderr",
     "output_type": "stream",
     "text": [
      "13:48:45 - cmdstanpy - INFO - Chain [1] start processing\n",
      "13:48:45 - cmdstanpy - INFO - Chain [1] done processing\n",
      "13:48:46 - cmdstanpy - INFO - Chain [1] start processing\n",
      "13:48:46 - cmdstanpy - INFO - Chain [1] done processing\n",
      "13:48:46 - cmdstanpy - INFO - Chain [1] start processing\n",
      "13:48:46 - cmdstanpy - INFO - Chain [1] done processing\n",
      "13:48:47 - cmdstanpy - INFO - Chain [1] start processing\n",
      "13:48:47 - cmdstanpy - INFO - Chain [1] done processing\n",
      "13:48:48 - cmdstanpy - INFO - Chain [1] start processing\n",
      "13:48:48 - cmdstanpy - INFO - Chain [1] done processing\n"
     ]
    },
    {
     "data": {
      "application/vnd.jupyter.widget-view+json": {
       "model_id": "800ae0a5cba848fb95ab5f9f421d7db3",
       "version_major": 2,
       "version_minor": 0
      },
      "text/plain": [
       "  0%|          | 0/4 [00:00<?, ?it/s]"
      ]
     },
     "metadata": {},
     "output_type": "display_data"
    },
    {
     "name": "stderr",
     "output_type": "stream",
     "text": [
      "13:48:48 - cmdstanpy - INFO - Chain [1] start processing\n",
      "13:48:48 - cmdstanpy - INFO - Chain [1] done processing\n",
      "13:48:48 - cmdstanpy - INFO - Chain [1] start processing\n",
      "13:48:48 - cmdstanpy - INFO - Chain [1] done processing\n",
      "13:48:49 - cmdstanpy - INFO - Chain [1] start processing\n",
      "13:48:49 - cmdstanpy - INFO - Chain [1] done processing\n",
      "13:48:50 - cmdstanpy - INFO - Chain [1] start processing\n",
      "13:48:50 - cmdstanpy - INFO - Chain [1] done processing\n",
      "13:48:51 - cmdstanpy - INFO - Chain [1] start processing\n",
      "13:48:51 - cmdstanpy - INFO - Chain [1] done processing\n"
     ]
    },
    {
     "data": {
      "application/vnd.jupyter.widget-view+json": {
       "model_id": "497e74f9cd7f4c79949af8edf5f717ce",
       "version_major": 2,
       "version_minor": 0
      },
      "text/plain": [
       "  0%|          | 0/4 [00:00<?, ?it/s]"
      ]
     },
     "metadata": {},
     "output_type": "display_data"
    },
    {
     "name": "stderr",
     "output_type": "stream",
     "text": [
      "13:48:51 - cmdstanpy - INFO - Chain [1] start processing\n",
      "13:48:51 - cmdstanpy - INFO - Chain [1] done processing\n",
      "13:48:52 - cmdstanpy - INFO - Chain [1] start processing\n",
      "13:48:52 - cmdstanpy - INFO - Chain [1] done processing\n",
      "13:48:52 - cmdstanpy - INFO - Chain [1] start processing\n",
      "13:48:52 - cmdstanpy - INFO - Chain [1] done processing\n",
      "13:48:53 - cmdstanpy - INFO - Chain [1] start processing\n",
      "13:48:53 - cmdstanpy - INFO - Chain [1] done processing\n",
      "13:48:54 - cmdstanpy - INFO - Chain [1] start processing\n",
      "13:48:54 - cmdstanpy - INFO - Chain [1] done processing\n"
     ]
    },
    {
     "data": {
      "application/vnd.jupyter.widget-view+json": {
       "model_id": "21af5cb685994ddf8232bf9255750872",
       "version_major": 2,
       "version_minor": 0
      },
      "text/plain": [
       "  0%|          | 0/4 [00:00<?, ?it/s]"
      ]
     },
     "metadata": {},
     "output_type": "display_data"
    },
    {
     "name": "stderr",
     "output_type": "stream",
     "text": [
      "13:48:54 - cmdstanpy - INFO - Chain [1] start processing\n",
      "13:48:54 - cmdstanpy - INFO - Chain [1] done processing\n",
      "13:48:55 - cmdstanpy - INFO - Chain [1] start processing\n",
      "13:48:55 - cmdstanpy - INFO - Chain [1] done processing\n",
      "13:48:55 - cmdstanpy - INFO - Chain [1] start processing\n",
      "13:48:55 - cmdstanpy - INFO - Chain [1] done processing\n",
      "13:48:56 - cmdstanpy - INFO - Chain [1] start processing\n",
      "13:48:56 - cmdstanpy - INFO - Chain [1] done processing\n",
      "13:48:57 - cmdstanpy - INFO - Chain [1] start processing\n",
      "13:48:57 - cmdstanpy - INFO - Chain [1] done processing\n"
     ]
    },
    {
     "data": {
      "application/vnd.jupyter.widget-view+json": {
       "model_id": "0492b3b221894dc9ac29575eb099a223",
       "version_major": 2,
       "version_minor": 0
      },
      "text/plain": [
       "  0%|          | 0/4 [00:00<?, ?it/s]"
      ]
     },
     "metadata": {},
     "output_type": "display_data"
    },
    {
     "name": "stderr",
     "output_type": "stream",
     "text": [
      "13:48:57 - cmdstanpy - INFO - Chain [1] start processing\n",
      "13:48:57 - cmdstanpy - INFO - Chain [1] done processing\n",
      "13:48:58 - cmdstanpy - INFO - Chain [1] start processing\n",
      "13:48:58 - cmdstanpy - INFO - Chain [1] done processing\n",
      "13:48:58 - cmdstanpy - INFO - Chain [1] start processing\n",
      "13:48:58 - cmdstanpy - INFO - Chain [1] done processing\n",
      "13:48:59 - cmdstanpy - INFO - Chain [1] start processing\n",
      "13:48:59 - cmdstanpy - INFO - Chain [1] done processing\n",
      "13:49:00 - cmdstanpy - INFO - Chain [1] start processing\n",
      "13:49:00 - cmdstanpy - INFO - Chain [1] done processing\n"
     ]
    },
    {
     "data": {
      "application/vnd.jupyter.widget-view+json": {
       "model_id": "e512d70477534d9ba10decf85d79fe7f",
       "version_major": 2,
       "version_minor": 0
      },
      "text/plain": [
       "  0%|          | 0/4 [00:00<?, ?it/s]"
      ]
     },
     "metadata": {},
     "output_type": "display_data"
    },
    {
     "name": "stderr",
     "output_type": "stream",
     "text": [
      "13:49:00 - cmdstanpy - INFO - Chain [1] start processing\n",
      "13:49:00 - cmdstanpy - INFO - Chain [1] done processing\n",
      "13:49:01 - cmdstanpy - INFO - Chain [1] start processing\n",
      "13:49:01 - cmdstanpy - INFO - Chain [1] done processing\n",
      "13:49:01 - cmdstanpy - INFO - Chain [1] start processing\n",
      "13:49:01 - cmdstanpy - INFO - Chain [1] done processing\n",
      "13:49:02 - cmdstanpy - INFO - Chain [1] start processing\n",
      "13:49:02 - cmdstanpy - INFO - Chain [1] done processing\n",
      "13:49:03 - cmdstanpy - INFO - Chain [1] start processing\n",
      "13:49:03 - cmdstanpy - INFO - Chain [1] done processing\n"
     ]
    },
    {
     "data": {
      "application/vnd.jupyter.widget-view+json": {
       "model_id": "17ce4d64408a4adabdc3f4ff655d3548",
       "version_major": 2,
       "version_minor": 0
      },
      "text/plain": [
       "  0%|          | 0/4 [00:00<?, ?it/s]"
      ]
     },
     "metadata": {},
     "output_type": "display_data"
    },
    {
     "name": "stderr",
     "output_type": "stream",
     "text": [
      "13:49:03 - cmdstanpy - INFO - Chain [1] start processing\n",
      "13:49:03 - cmdstanpy - INFO - Chain [1] done processing\n",
      "13:49:03 - cmdstanpy - INFO - Chain [1] start processing\n",
      "13:49:04 - cmdstanpy - INFO - Chain [1] done processing\n",
      "13:49:04 - cmdstanpy - INFO - Chain [1] start processing\n",
      "13:49:04 - cmdstanpy - INFO - Chain [1] done processing\n",
      "13:49:05 - cmdstanpy - INFO - Chain [1] start processing\n",
      "13:49:05 - cmdstanpy - INFO - Chain [1] done processing\n",
      "13:49:05 - cmdstanpy - INFO - Chain [1] start processing\n",
      "13:49:06 - cmdstanpy - INFO - Chain [1] done processing\n"
     ]
    },
    {
     "data": {
      "application/vnd.jupyter.widget-view+json": {
       "model_id": "aac18b98b9944f1083c29844ade96eb8",
       "version_major": 2,
       "version_minor": 0
      },
      "text/plain": [
       "  0%|          | 0/4 [00:00<?, ?it/s]"
      ]
     },
     "metadata": {},
     "output_type": "display_data"
    },
    {
     "name": "stderr",
     "output_type": "stream",
     "text": [
      "13:49:06 - cmdstanpy - INFO - Chain [1] start processing\n",
      "13:49:06 - cmdstanpy - INFO - Chain [1] done processing\n",
      "13:49:06 - cmdstanpy - INFO - Chain [1] start processing\n",
      "13:49:06 - cmdstanpy - INFO - Chain [1] done processing\n",
      "13:49:07 - cmdstanpy - INFO - Chain [1] start processing\n",
      "13:49:07 - cmdstanpy - INFO - Chain [1] done processing\n",
      "13:49:08 - cmdstanpy - INFO - Chain [1] start processing\n",
      "13:49:08 - cmdstanpy - INFO - Chain [1] done processing\n",
      "13:49:08 - cmdstanpy - INFO - Chain [1] start processing\n",
      "13:49:08 - cmdstanpy - INFO - Chain [1] done processing\n"
     ]
    },
    {
     "data": {
      "application/vnd.jupyter.widget-view+json": {
       "model_id": "2d4fb87275d44f618c19b4a62cd2cb2a",
       "version_major": 2,
       "version_minor": 0
      },
      "text/plain": [
       "  0%|          | 0/4 [00:00<?, ?it/s]"
      ]
     },
     "metadata": {},
     "output_type": "display_data"
    },
    {
     "name": "stderr",
     "output_type": "stream",
     "text": [
      "13:49:08 - cmdstanpy - INFO - Chain [1] start processing\n",
      "13:49:09 - cmdstanpy - INFO - Chain [1] done processing\n",
      "13:49:09 - cmdstanpy - INFO - Chain [1] start processing\n",
      "13:49:09 - cmdstanpy - INFO - Chain [1] done processing\n",
      "13:49:10 - cmdstanpy - INFO - Chain [1] start processing\n",
      "13:49:10 - cmdstanpy - INFO - Chain [1] done processing\n",
      "13:49:11 - cmdstanpy - INFO - Chain [1] start processing\n",
      "13:49:11 - cmdstanpy - INFO - Chain [1] done processing\n",
      "13:49:11 - cmdstanpy - INFO - Chain [1] start processing\n",
      "13:49:11 - cmdstanpy - INFO - Chain [1] done processing\n"
     ]
    },
    {
     "data": {
      "application/vnd.jupyter.widget-view+json": {
       "model_id": "bfbd503018014b4989a75cbff06b45c7",
       "version_major": 2,
       "version_minor": 0
      },
      "text/plain": [
       "  0%|          | 0/4 [00:00<?, ?it/s]"
      ]
     },
     "metadata": {},
     "output_type": "display_data"
    },
    {
     "name": "stderr",
     "output_type": "stream",
     "text": [
      "13:49:11 - cmdstanpy - INFO - Chain [1] start processing\n",
      "13:49:12 - cmdstanpy - INFO - Chain [1] done processing\n",
      "13:49:12 - cmdstanpy - INFO - Chain [1] start processing\n",
      "13:49:12 - cmdstanpy - INFO - Chain [1] done processing\n",
      "13:49:13 - cmdstanpy - INFO - Chain [1] start processing\n",
      "13:49:13 - cmdstanpy - INFO - Chain [1] done processing\n",
      "13:49:14 - cmdstanpy - INFO - Chain [1] start processing\n",
      "13:49:14 - cmdstanpy - INFO - Chain [1] done processing\n",
      "13:49:14 - cmdstanpy - INFO - Chain [1] start processing\n",
      "13:49:14 - cmdstanpy - INFO - Chain [1] done processing\n"
     ]
    },
    {
     "data": {
      "application/vnd.jupyter.widget-view+json": {
       "model_id": "cdd36c8f24874d9093064b02abb489e6",
       "version_major": 2,
       "version_minor": 0
      },
      "text/plain": [
       "  0%|          | 0/4 [00:00<?, ?it/s]"
      ]
     },
     "metadata": {},
     "output_type": "display_data"
    },
    {
     "name": "stderr",
     "output_type": "stream",
     "text": [
      "13:49:14 - cmdstanpy - INFO - Chain [1] start processing\n",
      "13:49:15 - cmdstanpy - INFO - Chain [1] done processing\n",
      "13:49:15 - cmdstanpy - INFO - Chain [1] start processing\n",
      "13:49:15 - cmdstanpy - INFO - Chain [1] done processing\n",
      "13:49:16 - cmdstanpy - INFO - Chain [1] start processing\n",
      "13:49:16 - cmdstanpy - INFO - Chain [1] done processing\n",
      "13:49:17 - cmdstanpy - INFO - Chain [1] start processing\n",
      "13:49:17 - cmdstanpy - INFO - Chain [1] done processing\n",
      "13:49:17 - cmdstanpy - INFO - Chain [1] start processing\n",
      "13:49:17 - cmdstanpy - INFO - Chain [1] done processing\n"
     ]
    },
    {
     "data": {
      "application/vnd.jupyter.widget-view+json": {
       "model_id": "c458af2d0286458bbba3c3770a16db80",
       "version_major": 2,
       "version_minor": 0
      },
      "text/plain": [
       "  0%|          | 0/4 [00:00<?, ?it/s]"
      ]
     },
     "metadata": {},
     "output_type": "display_data"
    },
    {
     "name": "stderr",
     "output_type": "stream",
     "text": [
      "13:49:17 - cmdstanpy - INFO - Chain [1] start processing\n",
      "13:49:18 - cmdstanpy - INFO - Chain [1] done processing\n",
      "13:49:18 - cmdstanpy - INFO - Chain [1] start processing\n",
      "13:49:18 - cmdstanpy - INFO - Chain [1] done processing\n",
      "13:49:19 - cmdstanpy - INFO - Chain [1] start processing\n",
      "13:49:19 - cmdstanpy - INFO - Chain [1] done processing\n",
      "13:49:20 - cmdstanpy - INFO - Chain [1] start processing\n",
      "13:49:20 - cmdstanpy - INFO - Chain [1] done processing\n",
      "13:49:20 - cmdstanpy - INFO - Chain [1] start processing\n",
      "13:49:20 - cmdstanpy - INFO - Chain [1] done processing\n"
     ]
    },
    {
     "data": {
      "application/vnd.jupyter.widget-view+json": {
       "model_id": "b07a363646884316bc64f5f5206bf770",
       "version_major": 2,
       "version_minor": 0
      },
      "text/plain": [
       "  0%|          | 0/4 [00:00<?, ?it/s]"
      ]
     },
     "metadata": {},
     "output_type": "display_data"
    },
    {
     "name": "stderr",
     "output_type": "stream",
     "text": [
      "13:49:20 - cmdstanpy - INFO - Chain [1] start processing\n",
      "13:49:20 - cmdstanpy - INFO - Chain [1] done processing\n",
      "13:49:21 - cmdstanpy - INFO - Chain [1] start processing\n",
      "13:49:21 - cmdstanpy - INFO - Chain [1] done processing\n",
      "13:49:22 - cmdstanpy - INFO - Chain [1] start processing\n",
      "13:49:22 - cmdstanpy - INFO - Chain [1] done processing\n",
      "13:49:22 - cmdstanpy - INFO - Chain [1] start processing\n",
      "13:49:22 - cmdstanpy - INFO - Chain [1] done processing\n",
      "13:49:23 - cmdstanpy - INFO - Chain [1] start processing\n",
      "13:49:23 - cmdstanpy - INFO - Chain [1] done processing\n"
     ]
    },
    {
     "data": {
      "application/vnd.jupyter.widget-view+json": {
       "model_id": "5e88b8bc1cd14f11b67a98b155d06864",
       "version_major": 2,
       "version_minor": 0
      },
      "text/plain": [
       "  0%|          | 0/4 [00:00<?, ?it/s]"
      ]
     },
     "metadata": {},
     "output_type": "display_data"
    },
    {
     "name": "stderr",
     "output_type": "stream",
     "text": [
      "13:49:23 - cmdstanpy - INFO - Chain [1] start processing\n",
      "13:49:23 - cmdstanpy - INFO - Chain [1] done processing\n",
      "13:49:24 - cmdstanpy - INFO - Chain [1] start processing\n",
      "13:49:24 - cmdstanpy - INFO - Chain [1] done processing\n",
      "13:49:25 - cmdstanpy - INFO - Chain [1] start processing\n",
      "13:49:25 - cmdstanpy - INFO - Chain [1] done processing\n",
      "13:49:25 - cmdstanpy - INFO - Chain [1] start processing\n",
      "13:49:25 - cmdstanpy - INFO - Chain [1] done processing\n",
      "13:49:26 - cmdstanpy - INFO - Chain [1] start processing\n",
      "13:49:26 - cmdstanpy - INFO - Chain [1] done processing\n"
     ]
    },
    {
     "data": {
      "application/vnd.jupyter.widget-view+json": {
       "model_id": "40ff4dd7e006404fafd9136b9d4b92c3",
       "version_major": 2,
       "version_minor": 0
      },
      "text/plain": [
       "  0%|          | 0/4 [00:00<?, ?it/s]"
      ]
     },
     "metadata": {},
     "output_type": "display_data"
    },
    {
     "name": "stderr",
     "output_type": "stream",
     "text": [
      "13:49:26 - cmdstanpy - INFO - Chain [1] start processing\n",
      "13:49:26 - cmdstanpy - INFO - Chain [1] done processing\n",
      "13:49:27 - cmdstanpy - INFO - Chain [1] start processing\n",
      "13:49:27 - cmdstanpy - INFO - Chain [1] done processing\n",
      "13:49:28 - cmdstanpy - INFO - Chain [1] start processing\n",
      "13:49:28 - cmdstanpy - INFO - Chain [1] done processing\n",
      "13:49:28 - cmdstanpy - INFO - Chain [1] start processing\n",
      "13:49:28 - cmdstanpy - INFO - Chain [1] done processing\n",
      "13:49:29 - cmdstanpy - INFO - Chain [1] start processing\n",
      "13:49:29 - cmdstanpy - INFO - Chain [1] done processing\n"
     ]
    },
    {
     "data": {
      "application/vnd.jupyter.widget-view+json": {
       "model_id": "9a72a84fbd134163bb23a084c537ef6f",
       "version_major": 2,
       "version_minor": 0
      },
      "text/plain": [
       "  0%|          | 0/4 [00:00<?, ?it/s]"
      ]
     },
     "metadata": {},
     "output_type": "display_data"
    },
    {
     "name": "stderr",
     "output_type": "stream",
     "text": [
      "13:49:29 - cmdstanpy - INFO - Chain [1] start processing\n",
      "13:49:29 - cmdstanpy - INFO - Chain [1] done processing\n",
      "13:49:30 - cmdstanpy - INFO - Chain [1] start processing\n",
      "13:49:30 - cmdstanpy - INFO - Chain [1] done processing\n",
      "13:49:31 - cmdstanpy - INFO - Chain [1] start processing\n",
      "13:49:31 - cmdstanpy - INFO - Chain [1] done processing\n",
      "13:49:31 - cmdstanpy - INFO - Chain [1] start processing\n",
      "13:49:31 - cmdstanpy - INFO - Chain [1] done processing\n",
      "13:49:32 - cmdstanpy - INFO - Chain [1] start processing\n",
      "13:49:32 - cmdstanpy - INFO - Chain [1] done processing\n"
     ]
    },
    {
     "data": {
      "application/vnd.jupyter.widget-view+json": {
       "model_id": "9047ef30a885495794f7386857a36ea5",
       "version_major": 2,
       "version_minor": 0
      },
      "text/plain": [
       "  0%|          | 0/4 [00:00<?, ?it/s]"
      ]
     },
     "metadata": {},
     "output_type": "display_data"
    },
    {
     "name": "stderr",
     "output_type": "stream",
     "text": [
      "13:49:32 - cmdstanpy - INFO - Chain [1] start processing\n",
      "13:49:32 - cmdstanpy - INFO - Chain [1] done processing\n",
      "13:49:33 - cmdstanpy - INFO - Chain [1] start processing\n",
      "13:49:33 - cmdstanpy - INFO - Chain [1] done processing\n",
      "13:49:33 - cmdstanpy - INFO - Chain [1] start processing\n",
      "13:49:33 - cmdstanpy - INFO - Chain [1] done processing\n",
      "13:49:34 - cmdstanpy - INFO - Chain [1] start processing\n",
      "13:49:34 - cmdstanpy - INFO - Chain [1] done processing\n",
      "13:49:35 - cmdstanpy - INFO - Chain [1] start processing\n",
      "13:49:35 - cmdstanpy - INFO - Chain [1] done processing\n"
     ]
    },
    {
     "data": {
      "application/vnd.jupyter.widget-view+json": {
       "model_id": "f05db03cb2d94254b3c60a1f4e4b181a",
       "version_major": 2,
       "version_minor": 0
      },
      "text/plain": [
       "  0%|          | 0/4 [00:00<?, ?it/s]"
      ]
     },
     "metadata": {},
     "output_type": "display_data"
    },
    {
     "name": "stderr",
     "output_type": "stream",
     "text": [
      "13:49:35 - cmdstanpy - INFO - Chain [1] start processing\n",
      "13:49:35 - cmdstanpy - INFO - Chain [1] done processing\n",
      "13:49:36 - cmdstanpy - INFO - Chain [1] start processing\n",
      "13:49:36 - cmdstanpy - INFO - Chain [1] done processing\n",
      "13:49:36 - cmdstanpy - INFO - Chain [1] start processing\n",
      "13:49:36 - cmdstanpy - INFO - Chain [1] done processing\n",
      "13:49:37 - cmdstanpy - INFO - Chain [1] start processing\n",
      "13:49:37 - cmdstanpy - INFO - Chain [1] done processing\n",
      "13:49:38 - cmdstanpy - INFO - Chain [1] start processing\n",
      "13:49:38 - cmdstanpy - INFO - Chain [1] done processing\n"
     ]
    },
    {
     "data": {
      "application/vnd.jupyter.widget-view+json": {
       "model_id": "8dcbcd6a8ef248dd9ab3377668dd5110",
       "version_major": 2,
       "version_minor": 0
      },
      "text/plain": [
       "  0%|          | 0/4 [00:00<?, ?it/s]"
      ]
     },
     "metadata": {},
     "output_type": "display_data"
    },
    {
     "name": "stderr",
     "output_type": "stream",
     "text": [
      "13:49:38 - cmdstanpy - INFO - Chain [1] start processing\n",
      "13:49:38 - cmdstanpy - INFO - Chain [1] done processing\n",
      "13:49:39 - cmdstanpy - INFO - Chain [1] start processing\n",
      "13:49:39 - cmdstanpy - INFO - Chain [1] done processing\n",
      "13:49:39 - cmdstanpy - INFO - Chain [1] start processing\n",
      "13:49:39 - cmdstanpy - INFO - Chain [1] done processing\n",
      "13:49:40 - cmdstanpy - INFO - Chain [1] start processing\n",
      "13:49:40 - cmdstanpy - INFO - Chain [1] done processing\n",
      "13:49:41 - cmdstanpy - INFO - Chain [1] start processing\n",
      "13:49:41 - cmdstanpy - INFO - Chain [1] done processing\n"
     ]
    },
    {
     "data": {
      "application/vnd.jupyter.widget-view+json": {
       "model_id": "65e0873a65664d1ab2eb6e258d630f16",
       "version_major": 2,
       "version_minor": 0
      },
      "text/plain": [
       "  0%|          | 0/4 [00:00<?, ?it/s]"
      ]
     },
     "metadata": {},
     "output_type": "display_data"
    },
    {
     "name": "stderr",
     "output_type": "stream",
     "text": [
      "13:49:41 - cmdstanpy - INFO - Chain [1] start processing\n",
      "13:49:41 - cmdstanpy - INFO - Chain [1] done processing\n",
      "13:49:42 - cmdstanpy - INFO - Chain [1] start processing\n",
      "13:49:42 - cmdstanpy - INFO - Chain [1] done processing\n",
      "13:49:42 - cmdstanpy - INFO - Chain [1] start processing\n",
      "13:49:42 - cmdstanpy - INFO - Chain [1] done processing\n",
      "13:49:43 - cmdstanpy - INFO - Chain [1] start processing\n",
      "13:49:43 - cmdstanpy - INFO - Chain [1] done processing\n",
      "13:49:44 - cmdstanpy - INFO - Chain [1] start processing\n",
      "13:49:44 - cmdstanpy - INFO - Chain [1] done processing\n"
     ]
    },
    {
     "data": {
      "application/vnd.jupyter.widget-view+json": {
       "model_id": "2d89034711a349ac90ea493edd6757cc",
       "version_major": 2,
       "version_minor": 0
      },
      "text/plain": [
       "  0%|          | 0/4 [00:00<?, ?it/s]"
      ]
     },
     "metadata": {},
     "output_type": "display_data"
    },
    {
     "name": "stderr",
     "output_type": "stream",
     "text": [
      "13:49:44 - cmdstanpy - INFO - Chain [1] start processing\n",
      "13:49:44 - cmdstanpy - INFO - Chain [1] done processing\n",
      "13:49:45 - cmdstanpy - INFO - Chain [1] start processing\n",
      "13:49:45 - cmdstanpy - INFO - Chain [1] done processing\n",
      "13:49:45 - cmdstanpy - INFO - Chain [1] start processing\n",
      "13:49:45 - cmdstanpy - INFO - Chain [1] done processing\n",
      "13:49:46 - cmdstanpy - INFO - Chain [1] start processing\n",
      "13:49:46 - cmdstanpy - INFO - Chain [1] done processing\n",
      "13:49:47 - cmdstanpy - INFO - Chain [1] start processing\n",
      "13:49:47 - cmdstanpy - INFO - Chain [1] done processing\n"
     ]
    },
    {
     "data": {
      "application/vnd.jupyter.widget-view+json": {
       "model_id": "39d1bd0a7ce74bfd9513818279fcaf3b",
       "version_major": 2,
       "version_minor": 0
      },
      "text/plain": [
       "  0%|          | 0/4 [00:00<?, ?it/s]"
      ]
     },
     "metadata": {},
     "output_type": "display_data"
    },
    {
     "name": "stderr",
     "output_type": "stream",
     "text": [
      "13:49:47 - cmdstanpy - INFO - Chain [1] start processing\n",
      "13:49:47 - cmdstanpy - INFO - Chain [1] done processing\n",
      "13:49:47 - cmdstanpy - INFO - Chain [1] start processing\n",
      "13:49:47 - cmdstanpy - INFO - Chain [1] done processing\n",
      "13:49:48 - cmdstanpy - INFO - Chain [1] start processing\n",
      "13:49:48 - cmdstanpy - INFO - Chain [1] done processing\n",
      "13:49:49 - cmdstanpy - INFO - Chain [1] start processing\n",
      "13:49:49 - cmdstanpy - INFO - Chain [1] done processing\n",
      "13:49:49 - cmdstanpy - INFO - Chain [1] start processing\n",
      "13:49:49 - cmdstanpy - INFO - Chain [1] done processing\n"
     ]
    },
    {
     "data": {
      "application/vnd.jupyter.widget-view+json": {
       "model_id": "7d016069373344babe9682a5c94bcd64",
       "version_major": 2,
       "version_minor": 0
      },
      "text/plain": [
       "  0%|          | 0/4 [00:00<?, ?it/s]"
      ]
     },
     "metadata": {},
     "output_type": "display_data"
    },
    {
     "name": "stderr",
     "output_type": "stream",
     "text": [
      "13:49:49 - cmdstanpy - INFO - Chain [1] start processing\n",
      "13:49:50 - cmdstanpy - INFO - Chain [1] done processing\n",
      "13:49:50 - cmdstanpy - INFO - Chain [1] start processing\n",
      "13:49:50 - cmdstanpy - INFO - Chain [1] done processing\n",
      "13:49:51 - cmdstanpy - INFO - Chain [1] start processing\n",
      "13:49:51 - cmdstanpy - INFO - Chain [1] done processing\n",
      "13:49:52 - cmdstanpy - INFO - Chain [1] start processing\n",
      "13:49:52 - cmdstanpy - INFO - Chain [1] done processing\n",
      "13:49:52 - cmdstanpy - INFO - Chain [1] start processing\n",
      "13:49:52 - cmdstanpy - INFO - Chain [1] done processing\n"
     ]
    },
    {
     "data": {
      "application/vnd.jupyter.widget-view+json": {
       "model_id": "0dc0fdf9db9b4312bd102f616f13e0c2",
       "version_major": 2,
       "version_minor": 0
      },
      "text/plain": [
       "  0%|          | 0/4 [00:00<?, ?it/s]"
      ]
     },
     "metadata": {},
     "output_type": "display_data"
    },
    {
     "name": "stderr",
     "output_type": "stream",
     "text": [
      "13:49:52 - cmdstanpy - INFO - Chain [1] start processing\n",
      "13:49:53 - cmdstanpy - INFO - Chain [1] done processing\n",
      "13:49:53 - cmdstanpy - INFO - Chain [1] start processing\n",
      "13:49:53 - cmdstanpy - INFO - Chain [1] done processing\n",
      "13:49:54 - cmdstanpy - INFO - Chain [1] start processing\n",
      "13:49:54 - cmdstanpy - INFO - Chain [1] done processing\n",
      "13:49:55 - cmdstanpy - INFO - Chain [1] start processing\n",
      "13:49:55 - cmdstanpy - INFO - Chain [1] done processing\n",
      "13:49:55 - cmdstanpy - INFO - Chain [1] start processing\n",
      "13:49:55 - cmdstanpy - INFO - Chain [1] done processing\n"
     ]
    },
    {
     "data": {
      "application/vnd.jupyter.widget-view+json": {
       "model_id": "b0d93b6b7d1b43d78c4f3fabd0e573ec",
       "version_major": 2,
       "version_minor": 0
      },
      "text/plain": [
       "  0%|          | 0/4 [00:00<?, ?it/s]"
      ]
     },
     "metadata": {},
     "output_type": "display_data"
    },
    {
     "name": "stderr",
     "output_type": "stream",
     "text": [
      "13:49:55 - cmdstanpy - INFO - Chain [1] start processing\n",
      "13:49:56 - cmdstanpy - INFO - Chain [1] done processing\n",
      "13:49:57 - cmdstanpy - INFO - Chain [1] start processing\n",
      "13:49:57 - cmdstanpy - INFO - Chain [1] done processing\n",
      "13:49:58 - cmdstanpy - INFO - Chain [1] start processing\n",
      "13:49:58 - cmdstanpy - INFO - Chain [1] done processing\n",
      "13:49:58 - cmdstanpy - INFO - Chain [1] start processing\n",
      "13:49:58 - cmdstanpy - INFO - Chain [1] done processing\n",
      "13:49:59 - cmdstanpy - INFO - Chain [1] start processing\n",
      "13:49:59 - cmdstanpy - INFO - Chain [1] done processing\n"
     ]
    },
    {
     "data": {
      "application/vnd.jupyter.widget-view+json": {
       "model_id": "dcc736e065b94df79cc48975585de5bf",
       "version_major": 2,
       "version_minor": 0
      },
      "text/plain": [
       "  0%|          | 0/4 [00:00<?, ?it/s]"
      ]
     },
     "metadata": {},
     "output_type": "display_data"
    },
    {
     "name": "stderr",
     "output_type": "stream",
     "text": [
      "13:49:59 - cmdstanpy - INFO - Chain [1] start processing\n",
      "13:50:00 - cmdstanpy - INFO - Chain [1] done processing\n",
      "13:50:00 - cmdstanpy - INFO - Chain [1] start processing\n",
      "13:50:00 - cmdstanpy - INFO - Chain [1] done processing\n",
      "13:50:01 - cmdstanpy - INFO - Chain [1] start processing\n",
      "13:50:01 - cmdstanpy - INFO - Chain [1] done processing\n",
      "13:50:02 - cmdstanpy - INFO - Chain [1] start processing\n",
      "13:50:02 - cmdstanpy - INFO - Chain [1] done processing\n",
      "13:50:02 - cmdstanpy - INFO - Chain [1] start processing\n",
      "13:50:02 - cmdstanpy - INFO - Chain [1] done processing\n"
     ]
    },
    {
     "data": {
      "application/vnd.jupyter.widget-view+json": {
       "model_id": "717bb7661e4a4cd1bbd0f22099902016",
       "version_major": 2,
       "version_minor": 0
      },
      "text/plain": [
       "  0%|          | 0/4 [00:00<?, ?it/s]"
      ]
     },
     "metadata": {},
     "output_type": "display_data"
    },
    {
     "name": "stderr",
     "output_type": "stream",
     "text": [
      "13:50:03 - cmdstanpy - INFO - Chain [1] start processing\n",
      "13:50:03 - cmdstanpy - INFO - Chain [1] done processing\n",
      "13:50:03 - cmdstanpy - INFO - Chain [1] start processing\n",
      "13:50:03 - cmdstanpy - INFO - Chain [1] done processing\n",
      "13:50:04 - cmdstanpy - INFO - Chain [1] start processing\n",
      "13:50:04 - cmdstanpy - INFO - Chain [1] done processing\n",
      "13:50:05 - cmdstanpy - INFO - Chain [1] start processing\n",
      "13:50:05 - cmdstanpy - INFO - Chain [1] done processing\n",
      "13:50:05 - cmdstanpy - INFO - Chain [1] start processing\n",
      "13:50:05 - cmdstanpy - INFO - Chain [1] done processing\n"
     ]
    },
    {
     "data": {
      "application/vnd.jupyter.widget-view+json": {
       "model_id": "bc4b1f6e22cb41d989565a90bff96a1a",
       "version_major": 2,
       "version_minor": 0
      },
      "text/plain": [
       "  0%|          | 0/4 [00:00<?, ?it/s]"
      ]
     },
     "metadata": {},
     "output_type": "display_data"
    },
    {
     "name": "stderr",
     "output_type": "stream",
     "text": [
      "13:50:05 - cmdstanpy - INFO - Chain [1] start processing\n",
      "13:50:06 - cmdstanpy - INFO - Chain [1] done processing\n",
      "13:50:06 - cmdstanpy - INFO - Chain [1] start processing\n",
      "13:50:06 - cmdstanpy - INFO - Chain [1] done processing\n",
      "13:50:07 - cmdstanpy - INFO - Chain [1] start processing\n",
      "13:50:07 - cmdstanpy - INFO - Chain [1] done processing\n",
      "13:50:08 - cmdstanpy - INFO - Chain [1] start processing\n",
      "13:50:08 - cmdstanpy - INFO - Chain [1] done processing\n",
      "13:50:08 - cmdstanpy - INFO - Chain [1] start processing\n",
      "13:50:08 - cmdstanpy - INFO - Chain [1] done processing\n"
     ]
    },
    {
     "data": {
      "application/vnd.jupyter.widget-view+json": {
       "model_id": "78b0600dccae42bcaef4979c337b9c92",
       "version_major": 2,
       "version_minor": 0
      },
      "text/plain": [
       "  0%|          | 0/4 [00:00<?, ?it/s]"
      ]
     },
     "metadata": {},
     "output_type": "display_data"
    },
    {
     "name": "stderr",
     "output_type": "stream",
     "text": [
      "13:50:08 - cmdstanpy - INFO - Chain [1] start processing\n",
      "13:50:09 - cmdstanpy - INFO - Chain [1] done processing\n",
      "13:50:10 - cmdstanpy - INFO - Chain [1] start processing\n",
      "13:50:10 - cmdstanpy - INFO - Chain [1] done processing\n",
      "13:50:10 - cmdstanpy - INFO - Chain [1] start processing\n",
      "13:50:10 - cmdstanpy - INFO - Chain [1] done processing\n",
      "13:50:11 - cmdstanpy - INFO - Chain [1] start processing\n",
      "13:50:11 - cmdstanpy - INFO - Chain [1] done processing\n",
      "13:50:12 - cmdstanpy - INFO - Chain [1] start processing\n",
      "13:50:12 - cmdstanpy - INFO - Chain [1] done processing\n"
     ]
    },
    {
     "data": {
      "application/vnd.jupyter.widget-view+json": {
       "model_id": "3added5d19d34908a99e28355e130d29",
       "version_major": 2,
       "version_minor": 0
      },
      "text/plain": [
       "  0%|          | 0/4 [00:00<?, ?it/s]"
      ]
     },
     "metadata": {},
     "output_type": "display_data"
    },
    {
     "name": "stderr",
     "output_type": "stream",
     "text": [
      "13:50:12 - cmdstanpy - INFO - Chain [1] start processing\n",
      "13:50:12 - cmdstanpy - INFO - Chain [1] done processing\n",
      "13:50:13 - cmdstanpy - INFO - Chain [1] start processing\n",
      "13:50:13 - cmdstanpy - INFO - Chain [1] done processing\n",
      "13:50:13 - cmdstanpy - INFO - Chain [1] start processing\n",
      "13:50:13 - cmdstanpy - INFO - Chain [1] done processing\n",
      "13:50:14 - cmdstanpy - INFO - Chain [1] start processing\n",
      "13:50:14 - cmdstanpy - INFO - Chain [1] done processing\n",
      "13:50:15 - cmdstanpy - INFO - Chain [1] start processing\n",
      "13:50:15 - cmdstanpy - INFO - Chain [1] done processing\n"
     ]
    },
    {
     "data": {
      "application/vnd.jupyter.widget-view+json": {
       "model_id": "fc173bcef9664ccbafe5269243958468",
       "version_major": 2,
       "version_minor": 0
      },
      "text/plain": [
       "  0%|          | 0/4 [00:00<?, ?it/s]"
      ]
     },
     "metadata": {},
     "output_type": "display_data"
    },
    {
     "name": "stderr",
     "output_type": "stream",
     "text": [
      "13:50:15 - cmdstanpy - INFO - Chain [1] start processing\n",
      "13:50:15 - cmdstanpy - INFO - Chain [1] done processing\n",
      "13:50:16 - cmdstanpy - INFO - Chain [1] start processing\n",
      "13:50:16 - cmdstanpy - INFO - Chain [1] done processing\n",
      "13:50:16 - cmdstanpy - INFO - Chain [1] start processing\n",
      "13:50:16 - cmdstanpy - INFO - Chain [1] done processing\n",
      "13:50:17 - cmdstanpy - INFO - Chain [1] start processing\n",
      "13:50:17 - cmdstanpy - INFO - Chain [1] done processing\n",
      "13:50:18 - cmdstanpy - INFO - Chain [1] start processing\n",
      "13:50:18 - cmdstanpy - INFO - Chain [1] done processing\n"
     ]
    },
    {
     "data": {
      "application/vnd.jupyter.widget-view+json": {
       "model_id": "244698fb6a034d8d9e8f76dc255f7706",
       "version_major": 2,
       "version_minor": 0
      },
      "text/plain": [
       "  0%|          | 0/4 [00:00<?, ?it/s]"
      ]
     },
     "metadata": {},
     "output_type": "display_data"
    },
    {
     "name": "stderr",
     "output_type": "stream",
     "text": [
      "13:50:18 - cmdstanpy - INFO - Chain [1] start processing\n",
      "13:50:18 - cmdstanpy - INFO - Chain [1] done processing\n",
      "13:50:19 - cmdstanpy - INFO - Chain [1] start processing\n",
      "13:50:19 - cmdstanpy - INFO - Chain [1] done processing\n",
      "13:50:19 - cmdstanpy - INFO - Chain [1] start processing\n",
      "13:50:19 - cmdstanpy - INFO - Chain [1] done processing\n",
      "13:50:20 - cmdstanpy - INFO - Chain [1] start processing\n",
      "13:50:20 - cmdstanpy - INFO - Chain [1] done processing\n",
      "13:50:21 - cmdstanpy - INFO - Chain [1] start processing\n",
      "13:50:21 - cmdstanpy - INFO - Chain [1] done processing\n"
     ]
    },
    {
     "data": {
      "application/vnd.jupyter.widget-view+json": {
       "model_id": "5bced88641dc4ccf846602b4e472e7a2",
       "version_major": 2,
       "version_minor": 0
      },
      "text/plain": [
       "  0%|          | 0/4 [00:00<?, ?it/s]"
      ]
     },
     "metadata": {},
     "output_type": "display_data"
    },
    {
     "name": "stderr",
     "output_type": "stream",
     "text": [
      "13:50:21 - cmdstanpy - INFO - Chain [1] start processing\n",
      "13:50:21 - cmdstanpy - INFO - Chain [1] done processing\n",
      "13:50:22 - cmdstanpy - INFO - Chain [1] start processing\n",
      "13:50:22 - cmdstanpy - INFO - Chain [1] done processing\n",
      "13:50:22 - cmdstanpy - INFO - Chain [1] start processing\n",
      "13:50:22 - cmdstanpy - INFO - Chain [1] done processing\n",
      "13:50:23 - cmdstanpy - INFO - Chain [1] start processing\n",
      "13:50:23 - cmdstanpy - INFO - Chain [1] done processing\n",
      "13:50:24 - cmdstanpy - INFO - Chain [1] start processing\n",
      "13:50:24 - cmdstanpy - INFO - Chain [1] done processing\n"
     ]
    },
    {
     "data": {
      "application/vnd.jupyter.widget-view+json": {
       "model_id": "aa00a1da181b4714aab3b3a9f6090413",
       "version_major": 2,
       "version_minor": 0
      },
      "text/plain": [
       "  0%|          | 0/4 [00:00<?, ?it/s]"
      ]
     },
     "metadata": {},
     "output_type": "display_data"
    },
    {
     "name": "stderr",
     "output_type": "stream",
     "text": [
      "13:50:24 - cmdstanpy - INFO - Chain [1] start processing\n",
      "13:50:24 - cmdstanpy - INFO - Chain [1] done processing\n",
      "13:50:25 - cmdstanpy - INFO - Chain [1] start processing\n",
      "13:50:25 - cmdstanpy - INFO - Chain [1] done processing\n",
      "13:50:25 - cmdstanpy - INFO - Chain [1] start processing\n",
      "13:50:26 - cmdstanpy - INFO - Chain [1] done processing\n",
      "13:50:26 - cmdstanpy - INFO - Chain [1] start processing\n",
      "13:50:26 - cmdstanpy - INFO - Chain [1] done processing\n",
      "13:50:27 - cmdstanpy - INFO - Chain [1] start processing\n",
      "13:50:27 - cmdstanpy - INFO - Chain [1] done processing\n"
     ]
    },
    {
     "data": {
      "application/vnd.jupyter.widget-view+json": {
       "model_id": "cf8924fd776a4954becfb4f761476f91",
       "version_major": 2,
       "version_minor": 0
      },
      "text/plain": [
       "  0%|          | 0/4 [00:00<?, ?it/s]"
      ]
     },
     "metadata": {},
     "output_type": "display_data"
    },
    {
     "name": "stderr",
     "output_type": "stream",
     "text": [
      "13:50:27 - cmdstanpy - INFO - Chain [1] start processing\n",
      "13:50:27 - cmdstanpy - INFO - Chain [1] done processing\n",
      "13:50:28 - cmdstanpy - INFO - Chain [1] start processing\n",
      "13:50:28 - cmdstanpy - INFO - Chain [1] done processing\n",
      "13:50:28 - cmdstanpy - INFO - Chain [1] start processing\n",
      "13:50:29 - cmdstanpy - INFO - Chain [1] done processing\n",
      "13:50:29 - cmdstanpy - INFO - Chain [1] start processing\n",
      "13:50:29 - cmdstanpy - INFO - Chain [1] done processing\n",
      "13:50:30 - cmdstanpy - INFO - Chain [1] start processing\n",
      "13:50:30 - cmdstanpy - INFO - Chain [1] done processing\n"
     ]
    },
    {
     "data": {
      "application/vnd.jupyter.widget-view+json": {
       "model_id": "007f9687895c40909a83a01854d58a12",
       "version_major": 2,
       "version_minor": 0
      },
      "text/plain": [
       "  0%|          | 0/4 [00:00<?, ?it/s]"
      ]
     },
     "metadata": {},
     "output_type": "display_data"
    },
    {
     "name": "stderr",
     "output_type": "stream",
     "text": [
      "13:50:30 - cmdstanpy - INFO - Chain [1] start processing\n",
      "13:50:30 - cmdstanpy - INFO - Chain [1] done processing\n",
      "13:50:31 - cmdstanpy - INFO - Chain [1] start processing\n",
      "13:50:31 - cmdstanpy - INFO - Chain [1] done processing\n",
      "13:50:31 - cmdstanpy - INFO - Chain [1] start processing\n",
      "13:50:31 - cmdstanpy - INFO - Chain [1] done processing\n",
      "13:50:32 - cmdstanpy - INFO - Chain [1] start processing\n",
      "13:50:32 - cmdstanpy - INFO - Chain [1] done processing\n",
      "13:50:33 - cmdstanpy - INFO - Chain [1] start processing\n",
      "13:50:33 - cmdstanpy - INFO - Chain [1] done processing\n"
     ]
    },
    {
     "data": {
      "application/vnd.jupyter.widget-view+json": {
       "model_id": "80efe2881ad84f409fa30caa85334fd0",
       "version_major": 2,
       "version_minor": 0
      },
      "text/plain": [
       "  0%|          | 0/4 [00:00<?, ?it/s]"
      ]
     },
     "metadata": {},
     "output_type": "display_data"
    },
    {
     "name": "stderr",
     "output_type": "stream",
     "text": [
      "13:50:33 - cmdstanpy - INFO - Chain [1] start processing\n",
      "13:50:33 - cmdstanpy - INFO - Chain [1] done processing\n",
      "13:50:34 - cmdstanpy - INFO - Chain [1] start processing\n",
      "13:50:34 - cmdstanpy - INFO - Chain [1] done processing\n",
      "13:50:35 - cmdstanpy - INFO - Chain [1] start processing\n",
      "13:50:35 - cmdstanpy - INFO - Chain [1] done processing\n",
      "13:50:35 - cmdstanpy - INFO - Chain [1] start processing\n",
      "13:50:35 - cmdstanpy - INFO - Chain [1] done processing\n",
      "13:50:36 - cmdstanpy - INFO - Chain [1] start processing\n",
      "13:50:36 - cmdstanpy - INFO - Chain [1] done processing\n"
     ]
    },
    {
     "data": {
      "application/vnd.jupyter.widget-view+json": {
       "model_id": "55c3d881a3764655b1e1b6be5586bc07",
       "version_major": 2,
       "version_minor": 0
      },
      "text/plain": [
       "  0%|          | 0/4 [00:00<?, ?it/s]"
      ]
     },
     "metadata": {},
     "output_type": "display_data"
    },
    {
     "name": "stderr",
     "output_type": "stream",
     "text": [
      "13:50:36 - cmdstanpy - INFO - Chain [1] start processing\n",
      "13:50:36 - cmdstanpy - INFO - Chain [1] done processing\n",
      "13:50:37 - cmdstanpy - INFO - Chain [1] start processing\n",
      "13:50:37 - cmdstanpy - INFO - Chain [1] done processing\n",
      "13:50:37 - cmdstanpy - INFO - Chain [1] start processing\n",
      "13:50:38 - cmdstanpy - INFO - Chain [1] done processing\n",
      "13:50:38 - cmdstanpy - INFO - Chain [1] start processing\n",
      "13:50:38 - cmdstanpy - INFO - Chain [1] done processing\n",
      "13:50:39 - cmdstanpy - INFO - Chain [1] start processing\n",
      "13:50:39 - cmdstanpy - INFO - Chain [1] done processing\n"
     ]
    },
    {
     "data": {
      "application/vnd.jupyter.widget-view+json": {
       "model_id": "e2efcc6b8f3441ca99c62324f02ffccf",
       "version_major": 2,
       "version_minor": 0
      },
      "text/plain": [
       "  0%|          | 0/4 [00:00<?, ?it/s]"
      ]
     },
     "metadata": {},
     "output_type": "display_data"
    },
    {
     "name": "stderr",
     "output_type": "stream",
     "text": [
      "13:50:39 - cmdstanpy - INFO - Chain [1] start processing\n",
      "13:50:39 - cmdstanpy - INFO - Chain [1] done processing\n",
      "13:50:40 - cmdstanpy - INFO - Chain [1] start processing\n",
      "13:50:40 - cmdstanpy - INFO - Chain [1] done processing\n",
      "13:50:40 - cmdstanpy - INFO - Chain [1] start processing\n",
      "13:50:40 - cmdstanpy - INFO - Chain [1] done processing\n",
      "13:50:41 - cmdstanpy - INFO - Chain [1] start processing\n",
      "13:50:41 - cmdstanpy - INFO - Chain [1] done processing\n",
      "13:50:42 - cmdstanpy - INFO - Chain [1] start processing\n",
      "13:50:42 - cmdstanpy - INFO - Chain [1] done processing\n"
     ]
    },
    {
     "data": {
      "application/vnd.jupyter.widget-view+json": {
       "model_id": "ffeeb64f5db044eaab9f264ea450538f",
       "version_major": 2,
       "version_minor": 0
      },
      "text/plain": [
       "  0%|          | 0/4 [00:00<?, ?it/s]"
      ]
     },
     "metadata": {},
     "output_type": "display_data"
    },
    {
     "name": "stderr",
     "output_type": "stream",
     "text": [
      "13:50:42 - cmdstanpy - INFO - Chain [1] start processing\n",
      "13:50:42 - cmdstanpy - INFO - Chain [1] done processing\n",
      "13:50:43 - cmdstanpy - INFO - Chain [1] start processing\n",
      "13:50:43 - cmdstanpy - INFO - Chain [1] done processing\n",
      "13:50:43 - cmdstanpy - INFO - Chain [1] start processing\n",
      "13:50:43 - cmdstanpy - INFO - Chain [1] done processing\n",
      "13:50:44 - cmdstanpy - INFO - Chain [1] start processing\n",
      "13:50:44 - cmdstanpy - INFO - Chain [1] done processing\n",
      "13:50:45 - cmdstanpy - INFO - Chain [1] start processing\n",
      "13:50:45 - cmdstanpy - INFO - Chain [1] done processing\n"
     ]
    },
    {
     "data": {
      "application/vnd.jupyter.widget-view+json": {
       "model_id": "551fac7b3cad44c494e884dfa8bdc642",
       "version_major": 2,
       "version_minor": 0
      },
      "text/plain": [
       "  0%|          | 0/4 [00:00<?, ?it/s]"
      ]
     },
     "metadata": {},
     "output_type": "display_data"
    },
    {
     "name": "stderr",
     "output_type": "stream",
     "text": [
      "13:50:45 - cmdstanpy - INFO - Chain [1] start processing\n",
      "13:50:45 - cmdstanpy - INFO - Chain [1] done processing\n",
      "13:50:46 - cmdstanpy - INFO - Chain [1] start processing\n",
      "13:50:46 - cmdstanpy - INFO - Chain [1] done processing\n",
      "13:50:46 - cmdstanpy - INFO - Chain [1] start processing\n",
      "13:50:46 - cmdstanpy - INFO - Chain [1] done processing\n",
      "13:50:47 - cmdstanpy - INFO - Chain [1] start processing\n",
      "13:50:47 - cmdstanpy - INFO - Chain [1] done processing\n",
      "13:50:48 - cmdstanpy - INFO - Chain [1] start processing\n",
      "13:50:48 - cmdstanpy - INFO - Chain [1] done processing\n"
     ]
    },
    {
     "data": {
      "application/vnd.jupyter.widget-view+json": {
       "model_id": "eef7c050d6854411b8ff1ee6a8d782d8",
       "version_major": 2,
       "version_minor": 0
      },
      "text/plain": [
       "  0%|          | 0/4 [00:00<?, ?it/s]"
      ]
     },
     "metadata": {},
     "output_type": "display_data"
    },
    {
     "name": "stderr",
     "output_type": "stream",
     "text": [
      "13:50:48 - cmdstanpy - INFO - Chain [1] start processing\n",
      "13:50:48 - cmdstanpy - INFO - Chain [1] done processing\n",
      "13:50:49 - cmdstanpy - INFO - Chain [1] start processing\n",
      "13:50:49 - cmdstanpy - INFO - Chain [1] done processing\n",
      "13:50:49 - cmdstanpy - INFO - Chain [1] start processing\n",
      "13:50:49 - cmdstanpy - INFO - Chain [1] done processing\n",
      "13:50:50 - cmdstanpy - INFO - Chain [1] start processing\n",
      "13:50:50 - cmdstanpy - INFO - Chain [1] done processing\n",
      "13:50:51 - cmdstanpy - INFO - Chain [1] start processing\n",
      "13:50:51 - cmdstanpy - INFO - Chain [1] done processing\n"
     ]
    },
    {
     "data": {
      "application/vnd.jupyter.widget-view+json": {
       "model_id": "69a5e27dd8c74705a82dda0559d1b4a3",
       "version_major": 2,
       "version_minor": 0
      },
      "text/plain": [
       "  0%|          | 0/4 [00:00<?, ?it/s]"
      ]
     },
     "metadata": {},
     "output_type": "display_data"
    },
    {
     "name": "stderr",
     "output_type": "stream",
     "text": [
      "13:50:51 - cmdstanpy - INFO - Chain [1] start processing\n",
      "13:50:51 - cmdstanpy - INFO - Chain [1] done processing\n",
      "13:50:51 - cmdstanpy - INFO - Chain [1] start processing\n",
      "13:50:51 - cmdstanpy - INFO - Chain [1] done processing\n",
      "13:50:52 - cmdstanpy - INFO - Chain [1] start processing\n",
      "13:50:52 - cmdstanpy - INFO - Chain [1] done processing\n",
      "13:50:53 - cmdstanpy - INFO - Chain [1] start processing\n",
      "13:50:53 - cmdstanpy - INFO - Chain [1] done processing\n",
      "13:50:53 - cmdstanpy - INFO - Chain [1] start processing\n",
      "13:50:53 - cmdstanpy - INFO - Chain [1] done processing\n"
     ]
    },
    {
     "data": {
      "application/vnd.jupyter.widget-view+json": {
       "model_id": "080eda9a7bf9403a9a35fa57d48b4cf7",
       "version_major": 2,
       "version_minor": 0
      },
      "text/plain": [
       "  0%|          | 0/4 [00:00<?, ?it/s]"
      ]
     },
     "metadata": {},
     "output_type": "display_data"
    },
    {
     "name": "stderr",
     "output_type": "stream",
     "text": [
      "13:50:54 - cmdstanpy - INFO - Chain [1] start processing\n",
      "13:50:54 - cmdstanpy - INFO - Chain [1] done processing\n",
      "13:50:54 - cmdstanpy - INFO - Chain [1] start processing\n",
      "13:50:54 - cmdstanpy - INFO - Chain [1] done processing\n",
      "13:50:55 - cmdstanpy - INFO - Chain [1] start processing\n",
      "13:50:55 - cmdstanpy - INFO - Chain [1] done processing\n",
      "13:50:56 - cmdstanpy - INFO - Chain [1] start processing\n",
      "13:50:56 - cmdstanpy - INFO - Chain [1] done processing\n",
      "13:50:56 - cmdstanpy - INFO - Chain [1] start processing\n",
      "13:50:56 - cmdstanpy - INFO - Chain [1] done processing\n"
     ]
    },
    {
     "data": {
      "application/vnd.jupyter.widget-view+json": {
       "model_id": "848e1fbcec7740afa7e77a4f79c80d58",
       "version_major": 2,
       "version_minor": 0
      },
      "text/plain": [
       "  0%|          | 0/4 [00:00<?, ?it/s]"
      ]
     },
     "metadata": {},
     "output_type": "display_data"
    },
    {
     "name": "stderr",
     "output_type": "stream",
     "text": [
      "13:50:56 - cmdstanpy - INFO - Chain [1] start processing\n",
      "13:50:57 - cmdstanpy - INFO - Chain [1] done processing\n",
      "13:50:57 - cmdstanpy - INFO - Chain [1] start processing\n",
      "13:50:57 - cmdstanpy - INFO - Chain [1] done processing\n",
      "13:50:58 - cmdstanpy - INFO - Chain [1] start processing\n",
      "13:50:58 - cmdstanpy - INFO - Chain [1] done processing\n",
      "13:50:59 - cmdstanpy - INFO - Chain [1] start processing\n",
      "13:50:59 - cmdstanpy - INFO - Chain [1] done processing\n",
      "13:50:59 - cmdstanpy - INFO - Chain [1] start processing\n",
      "13:50:59 - cmdstanpy - INFO - Chain [1] done processing\n"
     ]
    },
    {
     "data": {
      "application/vnd.jupyter.widget-view+json": {
       "model_id": "0dc057a0147c4698b51e101d408a4d40",
       "version_major": 2,
       "version_minor": 0
      },
      "text/plain": [
       "  0%|          | 0/4 [00:00<?, ?it/s]"
      ]
     },
     "metadata": {},
     "output_type": "display_data"
    },
    {
     "name": "stderr",
     "output_type": "stream",
     "text": [
      "13:50:59 - cmdstanpy - INFO - Chain [1] start processing\n",
      "13:51:00 - cmdstanpy - INFO - Chain [1] done processing\n",
      "13:51:00 - cmdstanpy - INFO - Chain [1] start processing\n",
      "13:51:00 - cmdstanpy - INFO - Chain [1] done processing\n",
      "13:51:01 - cmdstanpy - INFO - Chain [1] start processing\n",
      "13:51:01 - cmdstanpy - INFO - Chain [1] done processing\n",
      "13:51:02 - cmdstanpy - INFO - Chain [1] start processing\n",
      "13:51:02 - cmdstanpy - INFO - Chain [1] done processing\n",
      "13:51:02 - cmdstanpy - INFO - Chain [1] start processing\n",
      "13:51:02 - cmdstanpy - INFO - Chain [1] done processing\n"
     ]
    },
    {
     "data": {
      "application/vnd.jupyter.widget-view+json": {
       "model_id": "86a475063f714d1f9420ffeb42faefbb",
       "version_major": 2,
       "version_minor": 0
      },
      "text/plain": [
       "  0%|          | 0/4 [00:00<?, ?it/s]"
      ]
     },
     "metadata": {},
     "output_type": "display_data"
    },
    {
     "name": "stderr",
     "output_type": "stream",
     "text": [
      "13:51:02 - cmdstanpy - INFO - Chain [1] start processing\n",
      "13:51:03 - cmdstanpy - INFO - Chain [1] done processing\n",
      "13:51:03 - cmdstanpy - INFO - Chain [1] start processing\n",
      "13:51:03 - cmdstanpy - INFO - Chain [1] done processing\n",
      "13:51:04 - cmdstanpy - INFO - Chain [1] start processing\n",
      "13:51:04 - cmdstanpy - INFO - Chain [1] done processing\n",
      "13:51:05 - cmdstanpy - INFO - Chain [1] start processing\n",
      "13:51:05 - cmdstanpy - INFO - Chain [1] done processing\n",
      "13:51:05 - cmdstanpy - INFO - Chain [1] start processing\n",
      "13:51:05 - cmdstanpy - INFO - Chain [1] done processing\n"
     ]
    },
    {
     "data": {
      "application/vnd.jupyter.widget-view+json": {
       "model_id": "3a29e51c5a524d1387b7684643516833",
       "version_major": 2,
       "version_minor": 0
      },
      "text/plain": [
       "  0%|          | 0/4 [00:00<?, ?it/s]"
      ]
     },
     "metadata": {},
     "output_type": "display_data"
    },
    {
     "name": "stderr",
     "output_type": "stream",
     "text": [
      "13:51:05 - cmdstanpy - INFO - Chain [1] start processing\n",
      "13:51:06 - cmdstanpy - INFO - Chain [1] done processing\n",
      "13:51:07 - cmdstanpy - INFO - Chain [1] start processing\n",
      "13:51:07 - cmdstanpy - INFO - Chain [1] done processing\n",
      "13:51:07 - cmdstanpy - INFO - Chain [1] start processing\n",
      "13:51:07 - cmdstanpy - INFO - Chain [1] done processing\n",
      "13:51:08 - cmdstanpy - INFO - Chain [1] start processing\n",
      "13:51:08 - cmdstanpy - INFO - Chain [1] done processing\n",
      "13:51:09 - cmdstanpy - INFO - Chain [1] start processing\n",
      "13:51:09 - cmdstanpy - INFO - Chain [1] done processing\n"
     ]
    },
    {
     "data": {
      "application/vnd.jupyter.widget-view+json": {
       "model_id": "3e042ca59b8748c5886ef29ae573274a",
       "version_major": 2,
       "version_minor": 0
      },
      "text/plain": [
       "  0%|          | 0/4 [00:00<?, ?it/s]"
      ]
     },
     "metadata": {},
     "output_type": "display_data"
    },
    {
     "name": "stderr",
     "output_type": "stream",
     "text": [
      "13:51:09 - cmdstanpy - INFO - Chain [1] start processing\n",
      "13:51:09 - cmdstanpy - INFO - Chain [1] done processing\n",
      "13:51:10 - cmdstanpy - INFO - Chain [1] start processing\n",
      "13:51:10 - cmdstanpy - INFO - Chain [1] done processing\n",
      "13:51:10 - cmdstanpy - INFO - Chain [1] start processing\n",
      "13:51:10 - cmdstanpy - INFO - Chain [1] done processing\n",
      "13:51:11 - cmdstanpy - INFO - Chain [1] start processing\n",
      "13:51:11 - cmdstanpy - INFO - Chain [1] done processing\n",
      "13:51:12 - cmdstanpy - INFO - Chain [1] start processing\n",
      "13:51:12 - cmdstanpy - INFO - Chain [1] done processing\n"
     ]
    },
    {
     "data": {
      "application/vnd.jupyter.widget-view+json": {
       "model_id": "407ecf7cb22d4ac38b3697cdd4d16901",
       "version_major": 2,
       "version_minor": 0
      },
      "text/plain": [
       "  0%|          | 0/4 [00:00<?, ?it/s]"
      ]
     },
     "metadata": {},
     "output_type": "display_data"
    },
    {
     "name": "stderr",
     "output_type": "stream",
     "text": [
      "13:51:12 - cmdstanpy - INFO - Chain [1] start processing\n",
      "13:51:12 - cmdstanpy - INFO - Chain [1] done processing\n",
      "13:51:13 - cmdstanpy - INFO - Chain [1] start processing\n",
      "13:51:13 - cmdstanpy - INFO - Chain [1] done processing\n",
      "13:51:14 - cmdstanpy - INFO - Chain [1] start processing\n",
      "13:51:14 - cmdstanpy - INFO - Chain [1] done processing\n",
      "13:51:15 - cmdstanpy - INFO - Chain [1] start processing\n",
      "13:51:15 - cmdstanpy - INFO - Chain [1] done processing\n",
      "13:51:15 - cmdstanpy - INFO - Chain [1] start processing\n",
      "13:51:16 - cmdstanpy - INFO - Chain [1] done processing\n"
     ]
    },
    {
     "data": {
      "application/vnd.jupyter.widget-view+json": {
       "model_id": "d3ce30c63c3c4e6e88475ba919669cea",
       "version_major": 2,
       "version_minor": 0
      },
      "text/plain": [
       "  0%|          | 0/4 [00:00<?, ?it/s]"
      ]
     },
     "metadata": {},
     "output_type": "display_data"
    },
    {
     "name": "stderr",
     "output_type": "stream",
     "text": [
      "13:51:16 - cmdstanpy - INFO - Chain [1] start processing\n",
      "13:51:16 - cmdstanpy - INFO - Chain [1] done processing\n",
      "13:51:17 - cmdstanpy - INFO - Chain [1] start processing\n",
      "13:51:17 - cmdstanpy - INFO - Chain [1] done processing\n",
      "13:51:17 - cmdstanpy - INFO - Chain [1] start processing\n",
      "13:51:17 - cmdstanpy - INFO - Chain [1] done processing\n",
      "13:51:18 - cmdstanpy - INFO - Chain [1] start processing\n",
      "13:51:18 - cmdstanpy - INFO - Chain [1] done processing\n",
      "13:51:19 - cmdstanpy - INFO - Chain [1] start processing\n",
      "13:51:19 - cmdstanpy - INFO - Chain [1] done processing\n"
     ]
    },
    {
     "data": {
      "application/vnd.jupyter.widget-view+json": {
       "model_id": "05146becc99a4a65a25ddd93047f957a",
       "version_major": 2,
       "version_minor": 0
      },
      "text/plain": [
       "  0%|          | 0/4 [00:00<?, ?it/s]"
      ]
     },
     "metadata": {},
     "output_type": "display_data"
    },
    {
     "name": "stderr",
     "output_type": "stream",
     "text": [
      "13:51:19 - cmdstanpy - INFO - Chain [1] start processing\n",
      "13:51:19 - cmdstanpy - INFO - Chain [1] done processing\n",
      "13:51:20 - cmdstanpy - INFO - Chain [1] start processing\n",
      "13:51:20 - cmdstanpy - INFO - Chain [1] done processing\n",
      "13:51:20 - cmdstanpy - INFO - Chain [1] start processing\n",
      "13:51:20 - cmdstanpy - INFO - Chain [1] done processing\n",
      "13:51:21 - cmdstanpy - INFO - Chain [1] start processing\n",
      "13:51:21 - cmdstanpy - INFO - Chain [1] done processing\n",
      "13:51:22 - cmdstanpy - INFO - Chain [1] start processing\n",
      "13:51:22 - cmdstanpy - INFO - Chain [1] done processing\n"
     ]
    },
    {
     "data": {
      "application/vnd.jupyter.widget-view+json": {
       "model_id": "82028e76e6864554a836a5ef8d048f85",
       "version_major": 2,
       "version_minor": 0
      },
      "text/plain": [
       "  0%|          | 0/4 [00:00<?, ?it/s]"
      ]
     },
     "metadata": {},
     "output_type": "display_data"
    },
    {
     "name": "stderr",
     "output_type": "stream",
     "text": [
      "13:51:22 - cmdstanpy - INFO - Chain [1] start processing\n",
      "13:51:22 - cmdstanpy - INFO - Chain [1] done processing\n",
      "13:51:23 - cmdstanpy - INFO - Chain [1] start processing\n",
      "13:51:23 - cmdstanpy - INFO - Chain [1] done processing\n",
      "13:51:23 - cmdstanpy - INFO - Chain [1] start processing\n",
      "13:51:23 - cmdstanpy - INFO - Chain [1] done processing\n",
      "13:51:24 - cmdstanpy - INFO - Chain [1] start processing\n",
      "13:51:24 - cmdstanpy - INFO - Chain [1] done processing\n",
      "13:51:25 - cmdstanpy - INFO - Chain [1] start processing\n",
      "13:51:25 - cmdstanpy - INFO - Chain [1] done processing\n"
     ]
    },
    {
     "data": {
      "application/vnd.jupyter.widget-view+json": {
       "model_id": "dfc67b9fd12f490b82cf36bcb3b98c73",
       "version_major": 2,
       "version_minor": 0
      },
      "text/plain": [
       "  0%|          | 0/4 [00:00<?, ?it/s]"
      ]
     },
     "metadata": {},
     "output_type": "display_data"
    },
    {
     "name": "stderr",
     "output_type": "stream",
     "text": [
      "13:51:25 - cmdstanpy - INFO - Chain [1] start processing\n",
      "13:51:25 - cmdstanpy - INFO - Chain [1] done processing\n",
      "13:51:26 - cmdstanpy - INFO - Chain [1] start processing\n",
      "13:51:26 - cmdstanpy - INFO - Chain [1] done processing\n",
      "13:51:27 - cmdstanpy - INFO - Chain [1] start processing\n",
      "13:51:27 - cmdstanpy - INFO - Chain [1] done processing\n",
      "13:51:27 - cmdstanpy - INFO - Chain [1] start processing\n",
      "13:51:27 - cmdstanpy - INFO - Chain [1] done processing\n",
      "13:51:28 - cmdstanpy - INFO - Chain [1] start processing\n",
      "13:51:28 - cmdstanpy - INFO - Chain [1] done processing\n"
     ]
    },
    {
     "data": {
      "application/vnd.jupyter.widget-view+json": {
       "model_id": "49cb74554eed42d6af4ed7938940e17f",
       "version_major": 2,
       "version_minor": 0
      },
      "text/plain": [
       "  0%|          | 0/4 [00:00<?, ?it/s]"
      ]
     },
     "metadata": {},
     "output_type": "display_data"
    },
    {
     "name": "stderr",
     "output_type": "stream",
     "text": [
      "13:51:28 - cmdstanpy - INFO - Chain [1] start processing\n",
      "13:51:28 - cmdstanpy - INFO - Chain [1] done processing\n",
      "13:51:29 - cmdstanpy - INFO - Chain [1] start processing\n",
      "13:51:29 - cmdstanpy - INFO - Chain [1] done processing\n",
      "13:51:30 - cmdstanpy - INFO - Chain [1] start processing\n",
      "13:51:30 - cmdstanpy - INFO - Chain [1] done processing\n",
      "13:51:30 - cmdstanpy - INFO - Chain [1] start processing\n",
      "13:51:30 - cmdstanpy - INFO - Chain [1] done processing\n",
      "13:51:31 - cmdstanpy - INFO - Chain [1] start processing\n",
      "13:51:31 - cmdstanpy - INFO - Chain [1] done processing\n"
     ]
    },
    {
     "data": {
      "application/vnd.jupyter.widget-view+json": {
       "model_id": "4c527bf5a18643eea4440e88dcd2b4b7",
       "version_major": 2,
       "version_minor": 0
      },
      "text/plain": [
       "  0%|          | 0/4 [00:00<?, ?it/s]"
      ]
     },
     "metadata": {},
     "output_type": "display_data"
    },
    {
     "name": "stderr",
     "output_type": "stream",
     "text": [
      "13:51:31 - cmdstanpy - INFO - Chain [1] start processing\n",
      "13:51:31 - cmdstanpy - INFO - Chain [1] done processing\n",
      "13:51:32 - cmdstanpy - INFO - Chain [1] start processing\n",
      "13:51:32 - cmdstanpy - INFO - Chain [1] done processing\n",
      "13:51:33 - cmdstanpy - INFO - Chain [1] start processing\n",
      "13:51:33 - cmdstanpy - INFO - Chain [1] done processing\n",
      "13:51:33 - cmdstanpy - INFO - Chain [1] start processing\n",
      "13:51:33 - cmdstanpy - INFO - Chain [1] done processing\n",
      "13:51:34 - cmdstanpy - INFO - Chain [1] start processing\n",
      "13:51:34 - cmdstanpy - INFO - Chain [1] done processing\n"
     ]
    },
    {
     "data": {
      "application/vnd.jupyter.widget-view+json": {
       "model_id": "001aa68908494aabbc8d63d17bc1d83d",
       "version_major": 2,
       "version_minor": 0
      },
      "text/plain": [
       "  0%|          | 0/4 [00:00<?, ?it/s]"
      ]
     },
     "metadata": {},
     "output_type": "display_data"
    },
    {
     "name": "stderr",
     "output_type": "stream",
     "text": [
      "13:51:34 - cmdstanpy - INFO - Chain [1] start processing\n",
      "13:51:34 - cmdstanpy - INFO - Chain [1] done processing\n",
      "13:51:35 - cmdstanpy - INFO - Chain [1] start processing\n",
      "13:51:35 - cmdstanpy - INFO - Chain [1] done processing\n",
      "13:51:35 - cmdstanpy - INFO - Chain [1] start processing\n",
      "13:51:35 - cmdstanpy - INFO - Chain [1] done processing\n",
      "13:51:36 - cmdstanpy - INFO - Chain [1] start processing\n",
      "13:51:36 - cmdstanpy - INFO - Chain [1] done processing\n",
      "13:51:37 - cmdstanpy - INFO - Chain [1] start processing\n",
      "13:51:37 - cmdstanpy - INFO - Chain [1] done processing\n"
     ]
    },
    {
     "data": {
      "application/vnd.jupyter.widget-view+json": {
       "model_id": "638365ff247c424598f7120950709660",
       "version_major": 2,
       "version_minor": 0
      },
      "text/plain": [
       "  0%|          | 0/4 [00:00<?, ?it/s]"
      ]
     },
     "metadata": {},
     "output_type": "display_data"
    },
    {
     "name": "stderr",
     "output_type": "stream",
     "text": [
      "13:51:37 - cmdstanpy - INFO - Chain [1] start processing\n",
      "13:51:37 - cmdstanpy - INFO - Chain [1] done processing\n",
      "13:51:38 - cmdstanpy - INFO - Chain [1] start processing\n",
      "13:51:38 - cmdstanpy - INFO - Chain [1] done processing\n",
      "13:51:38 - cmdstanpy - INFO - Chain [1] start processing\n",
      "13:51:38 - cmdstanpy - INFO - Chain [1] done processing\n",
      "13:51:39 - cmdstanpy - INFO - Chain [1] start processing\n",
      "13:51:39 - cmdstanpy - INFO - Chain [1] done processing\n",
      "13:51:40 - cmdstanpy - INFO - Chain [1] start processing\n",
      "13:51:40 - cmdstanpy - INFO - Chain [1] done processing\n"
     ]
    },
    {
     "data": {
      "application/vnd.jupyter.widget-view+json": {
       "model_id": "9ebf781b88684cd8860f865b1ef6dcd1",
       "version_major": 2,
       "version_minor": 0
      },
      "text/plain": [
       "  0%|          | 0/4 [00:00<?, ?it/s]"
      ]
     },
     "metadata": {},
     "output_type": "display_data"
    },
    {
     "name": "stderr",
     "output_type": "stream",
     "text": [
      "13:51:40 - cmdstanpy - INFO - Chain [1] start processing\n",
      "13:51:40 - cmdstanpy - INFO - Chain [1] done processing\n",
      "13:51:40 - cmdstanpy - INFO - Chain [1] start processing\n",
      "13:51:41 - cmdstanpy - INFO - Chain [1] done processing\n",
      "13:51:41 - cmdstanpy - INFO - Chain [1] start processing\n",
      "13:51:41 - cmdstanpy - INFO - Chain [1] done processing\n",
      "13:51:42 - cmdstanpy - INFO - Chain [1] start processing\n",
      "13:51:42 - cmdstanpy - INFO - Chain [1] done processing\n",
      "13:51:43 - cmdstanpy - INFO - Chain [1] start processing\n",
      "13:51:43 - cmdstanpy - INFO - Chain [1] done processing\n"
     ]
    },
    {
     "data": {
      "application/vnd.jupyter.widget-view+json": {
       "model_id": "b1d18d69eeb942ab942b90fa35a04350",
       "version_major": 2,
       "version_minor": 0
      },
      "text/plain": [
       "  0%|          | 0/4 [00:00<?, ?it/s]"
      ]
     },
     "metadata": {},
     "output_type": "display_data"
    },
    {
     "name": "stderr",
     "output_type": "stream",
     "text": [
      "13:51:43 - cmdstanpy - INFO - Chain [1] start processing\n",
      "13:51:43 - cmdstanpy - INFO - Chain [1] done processing\n",
      "13:51:44 - cmdstanpy - INFO - Chain [1] start processing\n",
      "13:51:44 - cmdstanpy - INFO - Chain [1] done processing\n",
      "13:51:45 - cmdstanpy - INFO - Chain [1] start processing\n",
      "13:51:45 - cmdstanpy - INFO - Chain [1] done processing\n",
      "13:51:45 - cmdstanpy - INFO - Chain [1] start processing\n",
      "13:51:45 - cmdstanpy - INFO - Chain [1] done processing\n",
      "13:51:46 - cmdstanpy - INFO - Chain [1] start processing\n",
      "13:51:46 - cmdstanpy - INFO - Chain [1] done processing\n"
     ]
    },
    {
     "data": {
      "application/vnd.jupyter.widget-view+json": {
       "model_id": "8e8eddcb89294411ac12ac0c0f5ae00f",
       "version_major": 2,
       "version_minor": 0
      },
      "text/plain": [
       "  0%|          | 0/4 [00:00<?, ?it/s]"
      ]
     },
     "metadata": {},
     "output_type": "display_data"
    },
    {
     "name": "stderr",
     "output_type": "stream",
     "text": [
      "13:51:46 - cmdstanpy - INFO - Chain [1] start processing\n",
      "13:51:46 - cmdstanpy - INFO - Chain [1] done processing\n",
      "13:51:47 - cmdstanpy - INFO - Chain [1] start processing\n",
      "13:51:47 - cmdstanpy - INFO - Chain [1] done processing\n",
      "13:51:48 - cmdstanpy - INFO - Chain [1] start processing\n",
      "13:51:48 - cmdstanpy - INFO - Chain [1] done processing\n",
      "13:51:48 - cmdstanpy - INFO - Chain [1] start processing\n",
      "13:51:48 - cmdstanpy - INFO - Chain [1] done processing\n",
      "13:51:49 - cmdstanpy - INFO - Chain [1] start processing\n",
      "13:51:49 - cmdstanpy - INFO - Chain [1] done processing\n"
     ]
    },
    {
     "data": {
      "application/vnd.jupyter.widget-view+json": {
       "model_id": "f651fdaa195e450e8b5c7a1b64fc3787",
       "version_major": 2,
       "version_minor": 0
      },
      "text/plain": [
       "  0%|          | 0/4 [00:00<?, ?it/s]"
      ]
     },
     "metadata": {},
     "output_type": "display_data"
    },
    {
     "name": "stderr",
     "output_type": "stream",
     "text": [
      "13:51:49 - cmdstanpy - INFO - Chain [1] start processing\n",
      "13:51:49 - cmdstanpy - INFO - Chain [1] done processing\n",
      "13:51:50 - cmdstanpy - INFO - Chain [1] start processing\n",
      "13:51:50 - cmdstanpy - INFO - Chain [1] done processing\n",
      "13:51:51 - cmdstanpy - INFO - Chain [1] start processing\n",
      "13:51:51 - cmdstanpy - INFO - Chain [1] done processing\n",
      "13:51:52 - cmdstanpy - INFO - Chain [1] start processing\n",
      "13:51:52 - cmdstanpy - INFO - Chain [1] done processing\n",
      "13:51:53 - cmdstanpy - INFO - Chain [1] start processing\n",
      "13:51:53 - cmdstanpy - INFO - Chain [1] done processing\n"
     ]
    },
    {
     "data": {
      "application/vnd.jupyter.widget-view+json": {
       "model_id": "b424eba30e454aaab0bc8adbbaaa0d81",
       "version_major": 2,
       "version_minor": 0
      },
      "text/plain": [
       "  0%|          | 0/4 [00:00<?, ?it/s]"
      ]
     },
     "metadata": {},
     "output_type": "display_data"
    },
    {
     "name": "stderr",
     "output_type": "stream",
     "text": [
      "13:51:53 - cmdstanpy - INFO - Chain [1] start processing\n",
      "13:51:53 - cmdstanpy - INFO - Chain [1] done processing\n",
      "13:51:53 - cmdstanpy - INFO - Chain [1] start processing\n",
      "13:51:53 - cmdstanpy - INFO - Chain [1] done processing\n",
      "13:51:54 - cmdstanpy - INFO - Chain [1] start processing\n",
      "13:51:54 - cmdstanpy - INFO - Chain [1] done processing\n",
      "13:51:55 - cmdstanpy - INFO - Chain [1] start processing\n",
      "13:51:55 - cmdstanpy - INFO - Chain [1] done processing\n",
      "13:51:56 - cmdstanpy - INFO - Chain [1] start processing\n",
      "13:51:56 - cmdstanpy - INFO - Chain [1] done processing\n"
     ]
    },
    {
     "data": {
      "application/vnd.jupyter.widget-view+json": {
       "model_id": "d3c3dec4b8944697aec80fb013228719",
       "version_major": 2,
       "version_minor": 0
      },
      "text/plain": [
       "  0%|          | 0/4 [00:00<?, ?it/s]"
      ]
     },
     "metadata": {},
     "output_type": "display_data"
    },
    {
     "name": "stderr",
     "output_type": "stream",
     "text": [
      "13:51:56 - cmdstanpy - INFO - Chain [1] start processing\n",
      "13:51:56 - cmdstanpy - INFO - Chain [1] done processing\n",
      "13:51:56 - cmdstanpy - INFO - Chain [1] start processing\n",
      "13:51:56 - cmdstanpy - INFO - Chain [1] done processing\n",
      "13:51:57 - cmdstanpy - INFO - Chain [1] start processing\n",
      "13:51:57 - cmdstanpy - INFO - Chain [1] done processing\n",
      "13:51:58 - cmdstanpy - INFO - Chain [1] start processing\n",
      "13:51:58 - cmdstanpy - INFO - Chain [1] done processing\n",
      "13:51:58 - cmdstanpy - INFO - Chain [1] start processing\n",
      "13:51:58 - cmdstanpy - INFO - Chain [1] done processing\n"
     ]
    },
    {
     "data": {
      "application/vnd.jupyter.widget-view+json": {
       "model_id": "ea2f76e04bf24f8a9d4853a611e5a320",
       "version_major": 2,
       "version_minor": 0
      },
      "text/plain": [
       "  0%|          | 0/4 [00:00<?, ?it/s]"
      ]
     },
     "metadata": {},
     "output_type": "display_data"
    },
    {
     "name": "stderr",
     "output_type": "stream",
     "text": [
      "13:51:59 - cmdstanpy - INFO - Chain [1] start processing\n",
      "13:51:59 - cmdstanpy - INFO - Chain [1] done processing\n",
      "13:51:59 - cmdstanpy - INFO - Chain [1] start processing\n",
      "13:51:59 - cmdstanpy - INFO - Chain [1] done processing\n",
      "13:52:00 - cmdstanpy - INFO - Chain [1] start processing\n",
      "13:52:00 - cmdstanpy - INFO - Chain [1] done processing\n",
      "13:52:01 - cmdstanpy - INFO - Chain [1] start processing\n",
      "13:52:01 - cmdstanpy - INFO - Chain [1] done processing\n",
      "13:52:02 - cmdstanpy - INFO - Chain [1] start processing\n",
      "13:52:02 - cmdstanpy - INFO - Chain [1] done processing\n"
     ]
    },
    {
     "data": {
      "application/vnd.jupyter.widget-view+json": {
       "model_id": "45cdb31e7df74f079579390bda6657fe",
       "version_major": 2,
       "version_minor": 0
      },
      "text/plain": [
       "  0%|          | 0/4 [00:00<?, ?it/s]"
      ]
     },
     "metadata": {},
     "output_type": "display_data"
    },
    {
     "name": "stderr",
     "output_type": "stream",
     "text": [
      "13:52:02 - cmdstanpy - INFO - Chain [1] start processing\n",
      "13:52:02 - cmdstanpy - INFO - Chain [1] done processing\n",
      "13:52:03 - cmdstanpy - INFO - Chain [1] start processing\n",
      "13:52:03 - cmdstanpy - INFO - Chain [1] done processing\n",
      "13:52:03 - cmdstanpy - INFO - Chain [1] start processing\n",
      "13:52:03 - cmdstanpy - INFO - Chain [1] done processing\n",
      "13:52:04 - cmdstanpy - INFO - Chain [1] start processing\n",
      "13:52:04 - cmdstanpy - INFO - Chain [1] done processing\n",
      "13:52:05 - cmdstanpy - INFO - Chain [1] start processing\n",
      "13:52:05 - cmdstanpy - INFO - Chain [1] done processing\n"
     ]
    },
    {
     "data": {
      "application/vnd.jupyter.widget-view+json": {
       "model_id": "6a3c63534fe845539b73c84cfcd20554",
       "version_major": 2,
       "version_minor": 0
      },
      "text/plain": [
       "  0%|          | 0/4 [00:00<?, ?it/s]"
      ]
     },
     "metadata": {},
     "output_type": "display_data"
    },
    {
     "name": "stderr",
     "output_type": "stream",
     "text": [
      "13:52:05 - cmdstanpy - INFO - Chain [1] start processing\n",
      "13:52:05 - cmdstanpy - INFO - Chain [1] done processing\n",
      "13:52:05 - cmdstanpy - INFO - Chain [1] start processing\n",
      "13:52:05 - cmdstanpy - INFO - Chain [1] done processing\n",
      "13:52:06 - cmdstanpy - INFO - Chain [1] start processing\n",
      "13:52:06 - cmdstanpy - INFO - Chain [1] done processing\n",
      "13:52:07 - cmdstanpy - INFO - Chain [1] start processing\n",
      "13:52:07 - cmdstanpy - INFO - Chain [1] done processing\n",
      "13:52:07 - cmdstanpy - INFO - Chain [1] start processing\n",
      "13:52:07 - cmdstanpy - INFO - Chain [1] done processing\n"
     ]
    },
    {
     "data": {
      "application/vnd.jupyter.widget-view+json": {
       "model_id": "82c8282b3d8d4de9bc7c66d0d3e71b0c",
       "version_major": 2,
       "version_minor": 0
      },
      "text/plain": [
       "  0%|          | 0/4 [00:00<?, ?it/s]"
      ]
     },
     "metadata": {},
     "output_type": "display_data"
    },
    {
     "name": "stderr",
     "output_type": "stream",
     "text": [
      "13:52:07 - cmdstanpy - INFO - Chain [1] start processing\n",
      "13:52:08 - cmdstanpy - INFO - Chain [1] done processing\n",
      "13:52:08 - cmdstanpy - INFO - Chain [1] start processing\n",
      "13:52:08 - cmdstanpy - INFO - Chain [1] done processing\n",
      "13:52:09 - cmdstanpy - INFO - Chain [1] start processing\n",
      "13:52:09 - cmdstanpy - INFO - Chain [1] done processing\n",
      "13:52:10 - cmdstanpy - INFO - Chain [1] start processing\n",
      "13:52:10 - cmdstanpy - INFO - Chain [1] done processing\n",
      "13:52:10 - cmdstanpy - INFO - Chain [1] start processing\n",
      "13:52:10 - cmdstanpy - INFO - Chain [1] done processing\n"
     ]
    },
    {
     "data": {
      "application/vnd.jupyter.widget-view+json": {
       "model_id": "7c96c1b50bf7400b9f82d1d6742fed0a",
       "version_major": 2,
       "version_minor": 0
      },
      "text/plain": [
       "  0%|          | 0/4 [00:00<?, ?it/s]"
      ]
     },
     "metadata": {},
     "output_type": "display_data"
    },
    {
     "name": "stderr",
     "output_type": "stream",
     "text": [
      "13:52:10 - cmdstanpy - INFO - Chain [1] start processing\n",
      "13:52:10 - cmdstanpy - INFO - Chain [1] done processing\n",
      "13:52:11 - cmdstanpy - INFO - Chain [1] start processing\n",
      "13:52:11 - cmdstanpy - INFO - Chain [1] done processing\n",
      "13:52:12 - cmdstanpy - INFO - Chain [1] start processing\n",
      "13:52:12 - cmdstanpy - INFO - Chain [1] done processing\n",
      "13:52:12 - cmdstanpy - INFO - Chain [1] start processing\n",
      "13:52:12 - cmdstanpy - INFO - Chain [1] done processing\n",
      "13:52:13 - cmdstanpy - INFO - Chain [1] start processing\n",
      "13:52:13 - cmdstanpy - INFO - Chain [1] done processing\n"
     ]
    },
    {
     "data": {
      "application/vnd.jupyter.widget-view+json": {
       "model_id": "6a6b8f33d35e4aebaa55feb20b3382ea",
       "version_major": 2,
       "version_minor": 0
      },
      "text/plain": [
       "  0%|          | 0/4 [00:00<?, ?it/s]"
      ]
     },
     "metadata": {},
     "output_type": "display_data"
    },
    {
     "name": "stderr",
     "output_type": "stream",
     "text": [
      "13:52:13 - cmdstanpy - INFO - Chain [1] start processing\n",
      "13:52:13 - cmdstanpy - INFO - Chain [1] done processing\n",
      "13:52:14 - cmdstanpy - INFO - Chain [1] start processing\n",
      "13:52:14 - cmdstanpy - INFO - Chain [1] done processing\n",
      "13:52:15 - cmdstanpy - INFO - Chain [1] start processing\n",
      "13:52:15 - cmdstanpy - INFO - Chain [1] done processing\n",
      "13:52:15 - cmdstanpy - INFO - Chain [1] start processing\n",
      "13:52:15 - cmdstanpy - INFO - Chain [1] done processing\n",
      "13:52:16 - cmdstanpy - INFO - Chain [1] start processing\n",
      "13:52:16 - cmdstanpy - INFO - Chain [1] done processing\n"
     ]
    },
    {
     "data": {
      "application/vnd.jupyter.widget-view+json": {
       "model_id": "ed280a76cd93430f81c5883083f6d298",
       "version_major": 2,
       "version_minor": 0
      },
      "text/plain": [
       "  0%|          | 0/4 [00:00<?, ?it/s]"
      ]
     },
     "metadata": {},
     "output_type": "display_data"
    },
    {
     "name": "stderr",
     "output_type": "stream",
     "text": [
      "13:52:16 - cmdstanpy - INFO - Chain [1] start processing\n",
      "13:52:16 - cmdstanpy - INFO - Chain [1] done processing\n",
      "13:52:17 - cmdstanpy - INFO - Chain [1] start processing\n",
      "13:52:17 - cmdstanpy - INFO - Chain [1] done processing\n",
      "13:52:17 - cmdstanpy - INFO - Chain [1] start processing\n",
      "13:52:17 - cmdstanpy - INFO - Chain [1] done processing\n",
      "13:52:18 - cmdstanpy - INFO - Chain [1] start processing\n",
      "13:52:18 - cmdstanpy - INFO - Chain [1] done processing\n",
      "13:52:19 - cmdstanpy - INFO - Chain [1] start processing\n",
      "13:52:19 - cmdstanpy - INFO - Chain [1] done processing\n"
     ]
    },
    {
     "data": {
      "application/vnd.jupyter.widget-view+json": {
       "model_id": "3c8b1de250ef47d895f7e26281bca021",
       "version_major": 2,
       "version_minor": 0
      },
      "text/plain": [
       "  0%|          | 0/4 [00:00<?, ?it/s]"
      ]
     },
     "metadata": {},
     "output_type": "display_data"
    },
    {
     "name": "stderr",
     "output_type": "stream",
     "text": [
      "13:52:19 - cmdstanpy - INFO - Chain [1] start processing\n",
      "13:52:19 - cmdstanpy - INFO - Chain [1] done processing\n",
      "13:52:20 - cmdstanpy - INFO - Chain [1] start processing\n",
      "13:52:20 - cmdstanpy - INFO - Chain [1] done processing\n",
      "13:52:20 - cmdstanpy - INFO - Chain [1] start processing\n",
      "13:52:20 - cmdstanpy - INFO - Chain [1] done processing\n",
      "13:52:21 - cmdstanpy - INFO - Chain [1] start processing\n",
      "13:52:21 - cmdstanpy - INFO - Chain [1] done processing\n",
      "13:52:22 - cmdstanpy - INFO - Chain [1] start processing\n",
      "13:52:22 - cmdstanpy - INFO - Chain [1] done processing\n"
     ]
    },
    {
     "data": {
      "application/vnd.jupyter.widget-view+json": {
       "model_id": "4d0cae8303b34c3da6b93f3f1690b7f6",
       "version_major": 2,
       "version_minor": 0
      },
      "text/plain": [
       "  0%|          | 0/4 [00:00<?, ?it/s]"
      ]
     },
     "metadata": {},
     "output_type": "display_data"
    },
    {
     "name": "stderr",
     "output_type": "stream",
     "text": [
      "13:52:22 - cmdstanpy - INFO - Chain [1] start processing\n",
      "13:52:22 - cmdstanpy - INFO - Chain [1] done processing\n",
      "13:52:23 - cmdstanpy - INFO - Chain [1] start processing\n",
      "13:52:23 - cmdstanpy - INFO - Chain [1] done processing\n",
      "13:52:23 - cmdstanpy - INFO - Chain [1] start processing\n",
      "13:52:23 - cmdstanpy - INFO - Chain [1] done processing\n",
      "13:52:24 - cmdstanpy - INFO - Chain [1] start processing\n",
      "13:52:24 - cmdstanpy - INFO - Chain [1] done processing\n",
      "13:52:25 - cmdstanpy - INFO - Chain [1] start processing\n",
      "13:52:25 - cmdstanpy - INFO - Chain [1] done processing\n"
     ]
    },
    {
     "data": {
      "application/vnd.jupyter.widget-view+json": {
       "model_id": "15e021b6811040daad0978951a4ec36c",
       "version_major": 2,
       "version_minor": 0
      },
      "text/plain": [
       "  0%|          | 0/4 [00:00<?, ?it/s]"
      ]
     },
     "metadata": {},
     "output_type": "display_data"
    },
    {
     "name": "stderr",
     "output_type": "stream",
     "text": [
      "13:52:25 - cmdstanpy - INFO - Chain [1] start processing\n",
      "13:52:25 - cmdstanpy - INFO - Chain [1] done processing\n",
      "13:52:26 - cmdstanpy - INFO - Chain [1] start processing\n",
      "13:52:26 - cmdstanpy - INFO - Chain [1] done processing\n",
      "13:52:26 - cmdstanpy - INFO - Chain [1] start processing\n",
      "13:52:26 - cmdstanpy - INFO - Chain [1] done processing\n",
      "13:52:27 - cmdstanpy - INFO - Chain [1] start processing\n",
      "13:52:27 - cmdstanpy - INFO - Chain [1] done processing\n",
      "13:52:28 - cmdstanpy - INFO - Chain [1] start processing\n",
      "13:52:28 - cmdstanpy - INFO - Chain [1] done processing\n"
     ]
    },
    {
     "data": {
      "application/vnd.jupyter.widget-view+json": {
       "model_id": "9d8526d7207742978f7c24efe27fd4e8",
       "version_major": 2,
       "version_minor": 0
      },
      "text/plain": [
       "  0%|          | 0/4 [00:00<?, ?it/s]"
      ]
     },
     "metadata": {},
     "output_type": "display_data"
    },
    {
     "name": "stderr",
     "output_type": "stream",
     "text": [
      "13:52:28 - cmdstanpy - INFO - Chain [1] start processing\n",
      "13:52:28 - cmdstanpy - INFO - Chain [1] done processing\n",
      "13:52:29 - cmdstanpy - INFO - Chain [1] start processing\n",
      "13:52:29 - cmdstanpy - INFO - Chain [1] done processing\n",
      "13:52:29 - cmdstanpy - INFO - Chain [1] start processing\n",
      "13:52:29 - cmdstanpy - INFO - Chain [1] done processing\n",
      "13:52:30 - cmdstanpy - INFO - Chain [1] start processing\n",
      "13:52:30 - cmdstanpy - INFO - Chain [1] done processing\n",
      "13:52:31 - cmdstanpy - INFO - Chain [1] start processing\n",
      "13:52:31 - cmdstanpy - INFO - Chain [1] done processing\n"
     ]
    },
    {
     "data": {
      "application/vnd.jupyter.widget-view+json": {
       "model_id": "b94b22814b6541c0b5f6aebf6e6cc308",
       "version_major": 2,
       "version_minor": 0
      },
      "text/plain": [
       "  0%|          | 0/4 [00:00<?, ?it/s]"
      ]
     },
     "metadata": {},
     "output_type": "display_data"
    },
    {
     "name": "stderr",
     "output_type": "stream",
     "text": [
      "13:52:31 - cmdstanpy - INFO - Chain [1] start processing\n",
      "13:52:31 - cmdstanpy - INFO - Chain [1] done processing\n",
      "13:52:32 - cmdstanpy - INFO - Chain [1] start processing\n",
      "13:52:32 - cmdstanpy - INFO - Chain [1] done processing\n",
      "13:52:32 - cmdstanpy - INFO - Chain [1] start processing\n",
      "13:52:32 - cmdstanpy - INFO - Chain [1] done processing\n",
      "13:52:33 - cmdstanpy - INFO - Chain [1] start processing\n",
      "13:52:33 - cmdstanpy - INFO - Chain [1] done processing\n",
      "13:52:34 - cmdstanpy - INFO - Chain [1] start processing\n",
      "13:52:34 - cmdstanpy - INFO - Chain [1] done processing\n"
     ]
    },
    {
     "data": {
      "application/vnd.jupyter.widget-view+json": {
       "model_id": "04931adf1ac74f52b64bdca50b3d45a5",
       "version_major": 2,
       "version_minor": 0
      },
      "text/plain": [
       "  0%|          | 0/4 [00:00<?, ?it/s]"
      ]
     },
     "metadata": {},
     "output_type": "display_data"
    },
    {
     "name": "stderr",
     "output_type": "stream",
     "text": [
      "13:52:34 - cmdstanpy - INFO - Chain [1] start processing\n",
      "13:52:34 - cmdstanpy - INFO - Chain [1] done processing\n",
      "13:52:34 - cmdstanpy - INFO - Chain [1] start processing\n",
      "13:52:35 - cmdstanpy - INFO - Chain [1] done processing\n",
      "13:52:35 - cmdstanpy - INFO - Chain [1] start processing\n",
      "13:52:35 - cmdstanpy - INFO - Chain [1] done processing\n",
      "13:52:36 - cmdstanpy - INFO - Chain [1] start processing\n",
      "13:52:36 - cmdstanpy - INFO - Chain [1] done processing\n",
      "13:52:37 - cmdstanpy - INFO - Chain [1] start processing\n",
      "13:52:37 - cmdstanpy - INFO - Chain [1] done processing\n"
     ]
    },
    {
     "data": {
      "application/vnd.jupyter.widget-view+json": {
       "model_id": "ab1ce6b72f694d64a63aed5032709ced",
       "version_major": 2,
       "version_minor": 0
      },
      "text/plain": [
       "  0%|          | 0/4 [00:00<?, ?it/s]"
      ]
     },
     "metadata": {},
     "output_type": "display_data"
    },
    {
     "name": "stderr",
     "output_type": "stream",
     "text": [
      "13:52:37 - cmdstanpy - INFO - Chain [1] start processing\n",
      "13:52:37 - cmdstanpy - INFO - Chain [1] done processing\n",
      "13:52:38 - cmdstanpy - INFO - Chain [1] start processing\n",
      "13:52:38 - cmdstanpy - INFO - Chain [1] done processing\n",
      "13:52:38 - cmdstanpy - INFO - Chain [1] start processing\n",
      "13:52:38 - cmdstanpy - INFO - Chain [1] done processing\n",
      "13:52:39 - cmdstanpy - INFO - Chain [1] start processing\n",
      "13:52:39 - cmdstanpy - INFO - Chain [1] done processing\n",
      "13:52:40 - cmdstanpy - INFO - Chain [1] start processing\n",
      "13:52:40 - cmdstanpy - INFO - Chain [1] done processing\n"
     ]
    },
    {
     "data": {
      "application/vnd.jupyter.widget-view+json": {
       "model_id": "41b257baf4364cabac96ccc00a6bf055",
       "version_major": 2,
       "version_minor": 0
      },
      "text/plain": [
       "  0%|          | 0/4 [00:00<?, ?it/s]"
      ]
     },
     "metadata": {},
     "output_type": "display_data"
    },
    {
     "name": "stderr",
     "output_type": "stream",
     "text": [
      "13:52:40 - cmdstanpy - INFO - Chain [1] start processing\n",
      "13:52:40 - cmdstanpy - INFO - Chain [1] done processing\n",
      "13:52:40 - cmdstanpy - INFO - Chain [1] start processing\n",
      "13:52:40 - cmdstanpy - INFO - Chain [1] done processing\n",
      "13:52:41 - cmdstanpy - INFO - Chain [1] start processing\n",
      "13:52:41 - cmdstanpy - INFO - Chain [1] done processing\n",
      "13:52:42 - cmdstanpy - INFO - Chain [1] start processing\n",
      "13:52:42 - cmdstanpy - INFO - Chain [1] done processing\n",
      "13:52:42 - cmdstanpy - INFO - Chain [1] start processing\n",
      "13:52:42 - cmdstanpy - INFO - Chain [1] done processing\n"
     ]
    },
    {
     "data": {
      "application/vnd.jupyter.widget-view+json": {
       "model_id": "f0f5871ce7e14bf7b0c643b5c50c84c3",
       "version_major": 2,
       "version_minor": 0
      },
      "text/plain": [
       "  0%|          | 0/4 [00:00<?, ?it/s]"
      ]
     },
     "metadata": {},
     "output_type": "display_data"
    },
    {
     "name": "stderr",
     "output_type": "stream",
     "text": [
      "13:52:42 - cmdstanpy - INFO - Chain [1] start processing\n",
      "13:52:43 - cmdstanpy - INFO - Chain [1] done processing\n",
      "13:52:43 - cmdstanpy - INFO - Chain [1] start processing\n",
      "13:52:43 - cmdstanpy - INFO - Chain [1] done processing\n",
      "13:52:44 - cmdstanpy - INFO - Chain [1] start processing\n",
      "13:52:44 - cmdstanpy - INFO - Chain [1] done processing\n",
      "13:52:45 - cmdstanpy - INFO - Chain [1] start processing\n",
      "13:52:45 - cmdstanpy - INFO - Chain [1] done processing\n",
      "13:52:45 - cmdstanpy - INFO - Chain [1] start processing\n",
      "13:52:45 - cmdstanpy - INFO - Chain [1] done processing\n"
     ]
    },
    {
     "data": {
      "application/vnd.jupyter.widget-view+json": {
       "model_id": "dde88e31146740d29fcb72589fd162f2",
       "version_major": 2,
       "version_minor": 0
      },
      "text/plain": [
       "  0%|          | 0/4 [00:00<?, ?it/s]"
      ]
     },
     "metadata": {},
     "output_type": "display_data"
    },
    {
     "name": "stderr",
     "output_type": "stream",
     "text": [
      "13:52:45 - cmdstanpy - INFO - Chain [1] start processing\n",
      "13:52:46 - cmdstanpy - INFO - Chain [1] done processing\n",
      "13:52:46 - cmdstanpy - INFO - Chain [1] start processing\n",
      "13:52:46 - cmdstanpy - INFO - Chain [1] done processing\n",
      "13:52:47 - cmdstanpy - INFO - Chain [1] start processing\n",
      "13:52:47 - cmdstanpy - INFO - Chain [1] done processing\n",
      "13:52:48 - cmdstanpy - INFO - Chain [1] start processing\n",
      "13:52:48 - cmdstanpy - INFO - Chain [1] done processing\n",
      "13:52:48 - cmdstanpy - INFO - Chain [1] start processing\n",
      "13:52:49 - cmdstanpy - INFO - Chain [1] done processing\n"
     ]
    },
    {
     "data": {
      "application/vnd.jupyter.widget-view+json": {
       "model_id": "436dffc4eb484bab8b0b31c277294a29",
       "version_major": 2,
       "version_minor": 0
      },
      "text/plain": [
       "  0%|          | 0/4 [00:00<?, ?it/s]"
      ]
     },
     "metadata": {},
     "output_type": "display_data"
    },
    {
     "name": "stderr",
     "output_type": "stream",
     "text": [
      "13:52:49 - cmdstanpy - INFO - Chain [1] start processing\n",
      "13:52:49 - cmdstanpy - INFO - Chain [1] done processing\n",
      "13:52:49 - cmdstanpy - INFO - Chain [1] start processing\n",
      "13:52:49 - cmdstanpy - INFO - Chain [1] done processing\n",
      "13:52:50 - cmdstanpy - INFO - Chain [1] start processing\n",
      "13:52:50 - cmdstanpy - INFO - Chain [1] done processing\n",
      "13:52:51 - cmdstanpy - INFO - Chain [1] start processing\n",
      "13:52:51 - cmdstanpy - INFO - Chain [1] done processing\n",
      "13:52:51 - cmdstanpy - INFO - Chain [1] start processing\n",
      "13:52:51 - cmdstanpy - INFO - Chain [1] done processing\n"
     ]
    },
    {
     "data": {
      "application/vnd.jupyter.widget-view+json": {
       "model_id": "03a2cb808ff64e119e581a19217fa270",
       "version_major": 2,
       "version_minor": 0
      },
      "text/plain": [
       "  0%|          | 0/4 [00:00<?, ?it/s]"
      ]
     },
     "metadata": {},
     "output_type": "display_data"
    },
    {
     "name": "stderr",
     "output_type": "stream",
     "text": [
      "13:52:51 - cmdstanpy - INFO - Chain [1] start processing\n",
      "13:52:51 - cmdstanpy - INFO - Chain [1] done processing\n",
      "13:52:52 - cmdstanpy - INFO - Chain [1] start processing\n",
      "13:52:52 - cmdstanpy - INFO - Chain [1] done processing\n",
      "13:52:53 - cmdstanpy - INFO - Chain [1] start processing\n",
      "13:52:53 - cmdstanpy - INFO - Chain [1] done processing\n",
      "13:52:54 - cmdstanpy - INFO - Chain [1] start processing\n",
      "13:52:54 - cmdstanpy - INFO - Chain [1] done processing\n",
      "13:52:54 - cmdstanpy - INFO - Chain [1] start processing\n",
      "13:52:54 - cmdstanpy - INFO - Chain [1] done processing\n"
     ]
    },
    {
     "data": {
      "application/vnd.jupyter.widget-view+json": {
       "model_id": "147c9d71f50a4007a5fd5660048a4261",
       "version_major": 2,
       "version_minor": 0
      },
      "text/plain": [
       "  0%|          | 0/4 [00:00<?, ?it/s]"
      ]
     },
     "metadata": {},
     "output_type": "display_data"
    },
    {
     "name": "stderr",
     "output_type": "stream",
     "text": [
      "13:52:54 - cmdstanpy - INFO - Chain [1] start processing\n",
      "13:52:55 - cmdstanpy - INFO - Chain [1] done processing\n",
      "13:52:55 - cmdstanpy - INFO - Chain [1] start processing\n",
      "13:52:55 - cmdstanpy - INFO - Chain [1] done processing\n",
      "13:52:56 - cmdstanpy - INFO - Chain [1] start processing\n",
      "13:52:56 - cmdstanpy - INFO - Chain [1] done processing\n",
      "13:52:56 - cmdstanpy - INFO - Chain [1] start processing\n",
      "13:52:56 - cmdstanpy - INFO - Chain [1] done processing\n",
      "13:52:57 - cmdstanpy - INFO - Chain [1] start processing\n",
      "13:52:57 - cmdstanpy - INFO - Chain [1] done processing\n"
     ]
    },
    {
     "data": {
      "application/vnd.jupyter.widget-view+json": {
       "model_id": "4de199d7224b4a07af81b74b39ab409a",
       "version_major": 2,
       "version_minor": 0
      },
      "text/plain": [
       "  0%|          | 0/4 [00:00<?, ?it/s]"
      ]
     },
     "metadata": {},
     "output_type": "display_data"
    },
    {
     "name": "stderr",
     "output_type": "stream",
     "text": [
      "13:52:57 - cmdstanpy - INFO - Chain [1] start processing\n",
      "13:52:57 - cmdstanpy - INFO - Chain [1] done processing\n",
      "13:52:58 - cmdstanpy - INFO - Chain [1] start processing\n",
      "13:52:58 - cmdstanpy - INFO - Chain [1] done processing\n",
      "13:52:59 - cmdstanpy - INFO - Chain [1] start processing\n",
      "13:52:59 - cmdstanpy - INFO - Chain [1] done processing\n",
      "13:53:00 - cmdstanpy - INFO - Chain [1] start processing\n",
      "13:53:00 - cmdstanpy - INFO - Chain [1] done processing\n",
      "13:53:00 - cmdstanpy - INFO - Chain [1] start processing\n",
      "13:53:00 - cmdstanpy - INFO - Chain [1] done processing\n"
     ]
    },
    {
     "data": {
      "application/vnd.jupyter.widget-view+json": {
       "model_id": "cd96506e7cf947bb921ffc633b4913b7",
       "version_major": 2,
       "version_minor": 0
      },
      "text/plain": [
       "  0%|          | 0/4 [00:00<?, ?it/s]"
      ]
     },
     "metadata": {},
     "output_type": "display_data"
    },
    {
     "name": "stderr",
     "output_type": "stream",
     "text": [
      "13:53:00 - cmdstanpy - INFO - Chain [1] start processing\n",
      "13:53:01 - cmdstanpy - INFO - Chain [1] done processing\n",
      "13:53:01 - cmdstanpy - INFO - Chain [1] start processing\n",
      "13:53:01 - cmdstanpy - INFO - Chain [1] done processing\n",
      "13:53:02 - cmdstanpy - INFO - Chain [1] start processing\n",
      "13:53:02 - cmdstanpy - INFO - Chain [1] done processing\n",
      "13:53:02 - cmdstanpy - INFO - Chain [1] start processing\n",
      "13:53:03 - cmdstanpy - INFO - Chain [1] done processing\n",
      "13:53:03 - cmdstanpy - INFO - Chain [1] start processing\n",
      "13:53:03 - cmdstanpy - INFO - Chain [1] done processing\n"
     ]
    },
    {
     "data": {
      "application/vnd.jupyter.widget-view+json": {
       "model_id": "02f0869c4bca476f8a916a05e8c1ad52",
       "version_major": 2,
       "version_minor": 0
      },
      "text/plain": [
       "  0%|          | 0/4 [00:00<?, ?it/s]"
      ]
     },
     "metadata": {},
     "output_type": "display_data"
    },
    {
     "name": "stderr",
     "output_type": "stream",
     "text": [
      "13:53:03 - cmdstanpy - INFO - Chain [1] start processing\n",
      "13:53:03 - cmdstanpy - INFO - Chain [1] done processing\n",
      "13:53:04 - cmdstanpy - INFO - Chain [1] start processing\n",
      "13:53:04 - cmdstanpy - INFO - Chain [1] done processing\n",
      "13:53:05 - cmdstanpy - INFO - Chain [1] start processing\n",
      "13:53:05 - cmdstanpy - INFO - Chain [1] done processing\n",
      "13:53:06 - cmdstanpy - INFO - Chain [1] start processing\n",
      "13:53:06 - cmdstanpy - INFO - Chain [1] done processing\n",
      "13:53:07 - cmdstanpy - INFO - Chain [1] start processing\n",
      "13:53:07 - cmdstanpy - INFO - Chain [1] done processing\n"
     ]
    },
    {
     "data": {
      "application/vnd.jupyter.widget-view+json": {
       "model_id": "c4f2c73ea86e41a8b35e8680c337463a",
       "version_major": 2,
       "version_minor": 0
      },
      "text/plain": [
       "  0%|          | 0/4 [00:00<?, ?it/s]"
      ]
     },
     "metadata": {},
     "output_type": "display_data"
    },
    {
     "name": "stderr",
     "output_type": "stream",
     "text": [
      "13:53:07 - cmdstanpy - INFO - Chain [1] start processing\n",
      "13:53:07 - cmdstanpy - INFO - Chain [1] done processing\n",
      "13:53:08 - cmdstanpy - INFO - Chain [1] start processing\n",
      "13:53:08 - cmdstanpy - INFO - Chain [1] done processing\n",
      "13:53:08 - cmdstanpy - INFO - Chain [1] start processing\n",
      "13:53:08 - cmdstanpy - INFO - Chain [1] done processing\n",
      "13:53:09 - cmdstanpy - INFO - Chain [1] start processing\n",
      "13:53:09 - cmdstanpy - INFO - Chain [1] done processing\n",
      "13:53:10 - cmdstanpy - INFO - Chain [1] start processing\n",
      "13:53:10 - cmdstanpy - INFO - Chain [1] done processing\n"
     ]
    },
    {
     "data": {
      "application/vnd.jupyter.widget-view+json": {
       "model_id": "02c0e22624444a3fb43173fc966fcdad",
       "version_major": 2,
       "version_minor": 0
      },
      "text/plain": [
       "  0%|          | 0/4 [00:00<?, ?it/s]"
      ]
     },
     "metadata": {},
     "output_type": "display_data"
    },
    {
     "name": "stderr",
     "output_type": "stream",
     "text": [
      "13:53:10 - cmdstanpy - INFO - Chain [1] start processing\n",
      "13:53:11 - cmdstanpy - INFO - Chain [1] done processing\n",
      "13:53:11 - cmdstanpy - INFO - Chain [1] start processing\n",
      "13:53:11 - cmdstanpy - INFO - Chain [1] done processing\n",
      "13:53:13 - cmdstanpy - INFO - Chain [1] start processing\n",
      "13:53:13 - cmdstanpy - INFO - Chain [1] done processing\n",
      "13:53:14 - cmdstanpy - INFO - Chain [1] start processing\n",
      "13:53:14 - cmdstanpy - INFO - Chain [1] done processing\n",
      "13:53:15 - cmdstanpy - INFO - Chain [1] start processing\n",
      "13:53:15 - cmdstanpy - INFO - Chain [1] done processing\n"
     ]
    },
    {
     "data": {
      "application/vnd.jupyter.widget-view+json": {
       "model_id": "3cc7021fdab14bcf9e8fbf324e635b42",
       "version_major": 2,
       "version_minor": 0
      },
      "text/plain": [
       "  0%|          | 0/4 [00:00<?, ?it/s]"
      ]
     },
     "metadata": {},
     "output_type": "display_data"
    },
    {
     "name": "stderr",
     "output_type": "stream",
     "text": [
      "13:53:15 - cmdstanpy - INFO - Chain [1] start processing\n",
      "13:53:15 - cmdstanpy - INFO - Chain [1] done processing\n",
      "13:53:16 - cmdstanpy - INFO - Chain [1] start processing\n",
      "13:53:16 - cmdstanpy - INFO - Chain [1] done processing\n",
      "13:53:16 - cmdstanpy - INFO - Chain [1] start processing\n",
      "13:53:16 - cmdstanpy - INFO - Chain [1] done processing\n",
      "13:53:17 - cmdstanpy - INFO - Chain [1] start processing\n",
      "13:53:17 - cmdstanpy - INFO - Chain [1] done processing\n",
      "13:53:18 - cmdstanpy - INFO - Chain [1] start processing\n",
      "13:53:18 - cmdstanpy - INFO - Chain [1] done processing\n"
     ]
    },
    {
     "data": {
      "application/vnd.jupyter.widget-view+json": {
       "model_id": "1bab2bc2b721418da6a2bf279a92426b",
       "version_major": 2,
       "version_minor": 0
      },
      "text/plain": [
       "  0%|          | 0/4 [00:00<?, ?it/s]"
      ]
     },
     "metadata": {},
     "output_type": "display_data"
    },
    {
     "name": "stderr",
     "output_type": "stream",
     "text": [
      "13:53:18 - cmdstanpy - INFO - Chain [1] start processing\n",
      "13:53:18 - cmdstanpy - INFO - Chain [1] done processing\n",
      "13:53:19 - cmdstanpy - INFO - Chain [1] start processing\n",
      "13:53:19 - cmdstanpy - INFO - Chain [1] done processing\n",
      "13:53:19 - cmdstanpy - INFO - Chain [1] start processing\n",
      "13:53:19 - cmdstanpy - INFO - Chain [1] done processing\n",
      "13:53:20 - cmdstanpy - INFO - Chain [1] start processing\n",
      "13:53:20 - cmdstanpy - INFO - Chain [1] done processing\n",
      "13:53:21 - cmdstanpy - INFO - Chain [1] start processing\n",
      "13:53:21 - cmdstanpy - INFO - Chain [1] done processing\n"
     ]
    },
    {
     "data": {
      "application/vnd.jupyter.widget-view+json": {
       "model_id": "34157d1c26e9424fa15ce428d1600100",
       "version_major": 2,
       "version_minor": 0
      },
      "text/plain": [
       "  0%|          | 0/4 [00:00<?, ?it/s]"
      ]
     },
     "metadata": {},
     "output_type": "display_data"
    },
    {
     "name": "stderr",
     "output_type": "stream",
     "text": [
      "13:53:21 - cmdstanpy - INFO - Chain [1] start processing\n",
      "13:53:21 - cmdstanpy - INFO - Chain [1] done processing\n",
      "13:53:22 - cmdstanpy - INFO - Chain [1] start processing\n",
      "13:53:22 - cmdstanpy - INFO - Chain [1] done processing\n",
      "13:53:23 - cmdstanpy - INFO - Chain [1] start processing\n",
      "13:53:23 - cmdstanpy - INFO - Chain [1] done processing\n",
      "13:53:23 - cmdstanpy - INFO - Chain [1] start processing\n",
      "13:53:23 - cmdstanpy - INFO - Chain [1] done processing\n",
      "13:53:24 - cmdstanpy - INFO - Chain [1] start processing\n",
      "13:53:24 - cmdstanpy - INFO - Chain [1] done processing\n"
     ]
    },
    {
     "data": {
      "application/vnd.jupyter.widget-view+json": {
       "model_id": "a82ef780bc244e9db144b27c60c1cdaa",
       "version_major": 2,
       "version_minor": 0
      },
      "text/plain": [
       "  0%|          | 0/4 [00:00<?, ?it/s]"
      ]
     },
     "metadata": {},
     "output_type": "display_data"
    },
    {
     "name": "stderr",
     "output_type": "stream",
     "text": [
      "13:53:24 - cmdstanpy - INFO - Chain [1] start processing\n",
      "13:53:24 - cmdstanpy - INFO - Chain [1] done processing\n",
      "13:53:25 - cmdstanpy - INFO - Chain [1] start processing\n",
      "13:53:25 - cmdstanpy - INFO - Chain [1] done processing\n",
      "13:53:26 - cmdstanpy - INFO - Chain [1] start processing\n",
      "13:53:26 - cmdstanpy - INFO - Chain [1] done processing\n",
      "13:53:26 - cmdstanpy - INFO - Chain [1] start processing\n",
      "13:53:26 - cmdstanpy - INFO - Chain [1] done processing\n",
      "13:53:27 - cmdstanpy - INFO - Chain [1] start processing\n",
      "13:53:27 - cmdstanpy - INFO - Chain [1] done processing\n"
     ]
    },
    {
     "data": {
      "application/vnd.jupyter.widget-view+json": {
       "model_id": "fea84ef04bf34820983710bf62250ecf",
       "version_major": 2,
       "version_minor": 0
      },
      "text/plain": [
       "  0%|          | 0/4 [00:00<?, ?it/s]"
      ]
     },
     "metadata": {},
     "output_type": "display_data"
    },
    {
     "name": "stderr",
     "output_type": "stream",
     "text": [
      "13:53:27 - cmdstanpy - INFO - Chain [1] start processing\n",
      "13:53:27 - cmdstanpy - INFO - Chain [1] done processing\n",
      "13:53:28 - cmdstanpy - INFO - Chain [1] start processing\n",
      "13:53:28 - cmdstanpy - INFO - Chain [1] done processing\n",
      "13:53:29 - cmdstanpy - INFO - Chain [1] start processing\n",
      "13:53:29 - cmdstanpy - INFO - Chain [1] done processing\n",
      "13:53:29 - cmdstanpy - INFO - Chain [1] start processing\n",
      "13:53:29 - cmdstanpy - INFO - Chain [1] done processing\n",
      "13:53:30 - cmdstanpy - INFO - Chain [1] start processing\n",
      "13:53:30 - cmdstanpy - INFO - Chain [1] done processing\n"
     ]
    },
    {
     "data": {
      "application/vnd.jupyter.widget-view+json": {
       "model_id": "6904a88c18f444058d55bd433f3152ab",
       "version_major": 2,
       "version_minor": 0
      },
      "text/plain": [
       "  0%|          | 0/4 [00:00<?, ?it/s]"
      ]
     },
     "metadata": {},
     "output_type": "display_data"
    },
    {
     "name": "stderr",
     "output_type": "stream",
     "text": [
      "13:53:30 - cmdstanpy - INFO - Chain [1] start processing\n",
      "13:53:30 - cmdstanpy - INFO - Chain [1] done processing\n",
      "13:53:31 - cmdstanpy - INFO - Chain [1] start processing\n",
      "13:53:31 - cmdstanpy - INFO - Chain [1] done processing\n",
      "13:53:32 - cmdstanpy - INFO - Chain [1] start processing\n",
      "13:53:32 - cmdstanpy - INFO - Chain [1] done processing\n",
      "13:53:32 - cmdstanpy - INFO - Chain [1] start processing\n",
      "13:53:32 - cmdstanpy - INFO - Chain [1] done processing\n",
      "13:53:33 - cmdstanpy - INFO - Chain [1] start processing\n",
      "13:53:33 - cmdstanpy - INFO - Chain [1] done processing\n"
     ]
    },
    {
     "data": {
      "application/vnd.jupyter.widget-view+json": {
       "model_id": "3bc42af9411e4254884f7c2ce462f50a",
       "version_major": 2,
       "version_minor": 0
      },
      "text/plain": [
       "  0%|          | 0/4 [00:00<?, ?it/s]"
      ]
     },
     "metadata": {},
     "output_type": "display_data"
    },
    {
     "name": "stderr",
     "output_type": "stream",
     "text": [
      "13:53:33 - cmdstanpy - INFO - Chain [1] start processing\n",
      "13:53:33 - cmdstanpy - INFO - Chain [1] done processing\n",
      "13:53:34 - cmdstanpy - INFO - Chain [1] start processing\n",
      "13:53:34 - cmdstanpy - INFO - Chain [1] done processing\n",
      "13:53:34 - cmdstanpy - INFO - Chain [1] start processing\n",
      "13:53:35 - cmdstanpy - INFO - Chain [1] done processing\n",
      "13:53:35 - cmdstanpy - INFO - Chain [1] start processing\n",
      "13:53:35 - cmdstanpy - INFO - Chain [1] done processing\n",
      "13:53:36 - cmdstanpy - INFO - Chain [1] start processing\n",
      "13:53:36 - cmdstanpy - INFO - Chain [1] done processing\n"
     ]
    },
    {
     "data": {
      "application/vnd.jupyter.widget-view+json": {
       "model_id": "6cabcb08b5f24c56965724823b0f231c",
       "version_major": 2,
       "version_minor": 0
      },
      "text/plain": [
       "  0%|          | 0/4 [00:00<?, ?it/s]"
      ]
     },
     "metadata": {},
     "output_type": "display_data"
    },
    {
     "name": "stderr",
     "output_type": "stream",
     "text": [
      "13:53:36 - cmdstanpy - INFO - Chain [1] start processing\n",
      "13:53:36 - cmdstanpy - INFO - Chain [1] done processing\n",
      "13:53:37 - cmdstanpy - INFO - Chain [1] start processing\n",
      "13:53:37 - cmdstanpy - INFO - Chain [1] done processing\n",
      "13:53:37 - cmdstanpy - INFO - Chain [1] start processing\n",
      "13:53:37 - cmdstanpy - INFO - Chain [1] done processing\n",
      "13:53:38 - cmdstanpy - INFO - Chain [1] start processing\n",
      "13:53:38 - cmdstanpy - INFO - Chain [1] done processing\n",
      "13:53:39 - cmdstanpy - INFO - Chain [1] start processing\n",
      "13:53:39 - cmdstanpy - INFO - Chain [1] done processing\n"
     ]
    },
    {
     "data": {
      "application/vnd.jupyter.widget-view+json": {
       "model_id": "a351b7636923447aa92692acec43f7da",
       "version_major": 2,
       "version_minor": 0
      },
      "text/plain": [
       "  0%|          | 0/4 [00:00<?, ?it/s]"
      ]
     },
     "metadata": {},
     "output_type": "display_data"
    },
    {
     "name": "stderr",
     "output_type": "stream",
     "text": [
      "13:53:39 - cmdstanpy - INFO - Chain [1] start processing\n",
      "13:53:39 - cmdstanpy - INFO - Chain [1] done processing\n",
      "13:53:40 - cmdstanpy - INFO - Chain [1] start processing\n",
      "13:53:40 - cmdstanpy - INFO - Chain [1] done processing\n",
      "13:53:40 - cmdstanpy - INFO - Chain [1] start processing\n",
      "13:53:40 - cmdstanpy - INFO - Chain [1] done processing\n",
      "13:53:41 - cmdstanpy - INFO - Chain [1] start processing\n",
      "13:53:41 - cmdstanpy - INFO - Chain [1] done processing\n",
      "13:53:42 - cmdstanpy - INFO - Chain [1] start processing\n",
      "13:53:42 - cmdstanpy - INFO - Chain [1] done processing\n"
     ]
    },
    {
     "data": {
      "application/vnd.jupyter.widget-view+json": {
       "model_id": "bf5d6334e71c45b98434cb2775a9bd13",
       "version_major": 2,
       "version_minor": 0
      },
      "text/plain": [
       "  0%|          | 0/4 [00:00<?, ?it/s]"
      ]
     },
     "metadata": {},
     "output_type": "display_data"
    },
    {
     "name": "stderr",
     "output_type": "stream",
     "text": [
      "13:53:42 - cmdstanpy - INFO - Chain [1] start processing\n",
      "13:53:42 - cmdstanpy - INFO - Chain [1] done processing\n",
      "13:53:43 - cmdstanpy - INFO - Chain [1] start processing\n",
      "13:53:43 - cmdstanpy - INFO - Chain [1] done processing\n",
      "13:53:44 - cmdstanpy - INFO - Chain [1] start processing\n",
      "13:53:44 - cmdstanpy - INFO - Chain [1] done processing\n",
      "13:53:44 - cmdstanpy - INFO - Chain [1] start processing\n",
      "13:53:44 - cmdstanpy - INFO - Chain [1] done processing\n",
      "13:53:45 - cmdstanpy - INFO - Chain [1] start processing\n",
      "13:53:45 - cmdstanpy - INFO - Chain [1] done processing\n"
     ]
    },
    {
     "data": {
      "application/vnd.jupyter.widget-view+json": {
       "model_id": "6f2b6883eb3e45a0a89b9fec8550500b",
       "version_major": 2,
       "version_minor": 0
      },
      "text/plain": [
       "  0%|          | 0/4 [00:00<?, ?it/s]"
      ]
     },
     "metadata": {},
     "output_type": "display_data"
    },
    {
     "name": "stderr",
     "output_type": "stream",
     "text": [
      "13:53:45 - cmdstanpy - INFO - Chain [1] start processing\n",
      "13:53:45 - cmdstanpy - INFO - Chain [1] done processing\n",
      "13:53:46 - cmdstanpy - INFO - Chain [1] start processing\n",
      "13:53:46 - cmdstanpy - INFO - Chain [1] done processing\n",
      "13:53:47 - cmdstanpy - INFO - Chain [1] start processing\n",
      "13:53:47 - cmdstanpy - INFO - Chain [1] done processing\n",
      "13:53:47 - cmdstanpy - INFO - Chain [1] start processing\n",
      "13:53:47 - cmdstanpy - INFO - Chain [1] done processing\n",
      "13:53:48 - cmdstanpy - INFO - Chain [1] start processing\n",
      "13:53:48 - cmdstanpy - INFO - Chain [1] done processing\n"
     ]
    },
    {
     "data": {
      "application/vnd.jupyter.widget-view+json": {
       "model_id": "6b3a51e3d19f46fe9e2555308b145f8e",
       "version_major": 2,
       "version_minor": 0
      },
      "text/plain": [
       "  0%|          | 0/4 [00:00<?, ?it/s]"
      ]
     },
     "metadata": {},
     "output_type": "display_data"
    },
    {
     "name": "stderr",
     "output_type": "stream",
     "text": [
      "13:53:48 - cmdstanpy - INFO - Chain [1] start processing\n",
      "13:53:48 - cmdstanpy - INFO - Chain [1] done processing\n",
      "13:53:49 - cmdstanpy - INFO - Chain [1] start processing\n",
      "13:53:49 - cmdstanpy - INFO - Chain [1] done processing\n",
      "13:53:50 - cmdstanpy - INFO - Chain [1] start processing\n",
      "13:53:50 - cmdstanpy - INFO - Chain [1] done processing\n",
      "13:53:50 - cmdstanpy - INFO - Chain [1] start processing\n",
      "13:53:50 - cmdstanpy - INFO - Chain [1] done processing\n",
      "13:53:51 - cmdstanpy - INFO - Chain [1] start processing\n",
      "13:53:51 - cmdstanpy - INFO - Chain [1] done processing\n"
     ]
    },
    {
     "data": {
      "application/vnd.jupyter.widget-view+json": {
       "model_id": "ac67a068de004ecc9ad495354fc1d7a3",
       "version_major": 2,
       "version_minor": 0
      },
      "text/plain": [
       "  0%|          | 0/4 [00:00<?, ?it/s]"
      ]
     },
     "metadata": {},
     "output_type": "display_data"
    },
    {
     "name": "stderr",
     "output_type": "stream",
     "text": [
      "13:53:51 - cmdstanpy - INFO - Chain [1] start processing\n",
      "13:53:51 - cmdstanpy - INFO - Chain [1] done processing\n",
      "13:53:52 - cmdstanpy - INFO - Chain [1] start processing\n",
      "13:53:52 - cmdstanpy - INFO - Chain [1] done processing\n",
      "13:53:53 - cmdstanpy - INFO - Chain [1] start processing\n",
      "13:53:53 - cmdstanpy - INFO - Chain [1] done processing\n",
      "13:53:54 - cmdstanpy - INFO - Chain [1] start processing\n",
      "13:53:54 - cmdstanpy - INFO - Chain [1] done processing\n",
      "13:53:54 - cmdstanpy - INFO - Chain [1] start processing\n",
      "13:53:54 - cmdstanpy - INFO - Chain [1] done processing\n"
     ]
    },
    {
     "data": {
      "application/vnd.jupyter.widget-view+json": {
       "model_id": "bac2ace76280446b81674f8988b57d3c",
       "version_major": 2,
       "version_minor": 0
      },
      "text/plain": [
       "  0%|          | 0/4 [00:00<?, ?it/s]"
      ]
     },
     "metadata": {},
     "output_type": "display_data"
    },
    {
     "name": "stderr",
     "output_type": "stream",
     "text": [
      "13:53:54 - cmdstanpy - INFO - Chain [1] start processing\n",
      "13:53:55 - cmdstanpy - INFO - Chain [1] done processing\n",
      "13:53:55 - cmdstanpy - INFO - Chain [1] start processing\n",
      "13:53:55 - cmdstanpy - INFO - Chain [1] done processing\n",
      "13:53:56 - cmdstanpy - INFO - Chain [1] start processing\n",
      "13:53:56 - cmdstanpy - INFO - Chain [1] done processing\n",
      "13:53:57 - cmdstanpy - INFO - Chain [1] start processing\n",
      "13:53:57 - cmdstanpy - INFO - Chain [1] done processing\n",
      "13:53:57 - cmdstanpy - INFO - Chain [1] start processing\n",
      "13:53:57 - cmdstanpy - INFO - Chain [1] done processing\n"
     ]
    },
    {
     "data": {
      "application/vnd.jupyter.widget-view+json": {
       "model_id": "07072f52fbba415b88f8e03321677d26",
       "version_major": 2,
       "version_minor": 0
      },
      "text/plain": [
       "  0%|          | 0/4 [00:00<?, ?it/s]"
      ]
     },
     "metadata": {},
     "output_type": "display_data"
    },
    {
     "name": "stderr",
     "output_type": "stream",
     "text": [
      "13:53:57 - cmdstanpy - INFO - Chain [1] start processing\n",
      "13:53:58 - cmdstanpy - INFO - Chain [1] done processing\n",
      "13:53:58 - cmdstanpy - INFO - Chain [1] start processing\n",
      "13:53:58 - cmdstanpy - INFO - Chain [1] done processing\n",
      "13:53:59 - cmdstanpy - INFO - Chain [1] start processing\n",
      "13:53:59 - cmdstanpy - INFO - Chain [1] done processing\n",
      "13:54:00 - cmdstanpy - INFO - Chain [1] start processing\n",
      "13:54:00 - cmdstanpy - INFO - Chain [1] done processing\n",
      "13:54:00 - cmdstanpy - INFO - Chain [1] start processing\n",
      "13:54:00 - cmdstanpy - INFO - Chain [1] done processing\n"
     ]
    },
    {
     "data": {
      "application/vnd.jupyter.widget-view+json": {
       "model_id": "f020bc87f2dd40cf804d5e655a2a54b8",
       "version_major": 2,
       "version_minor": 0
      },
      "text/plain": [
       "  0%|          | 0/4 [00:00<?, ?it/s]"
      ]
     },
     "metadata": {},
     "output_type": "display_data"
    },
    {
     "name": "stderr",
     "output_type": "stream",
     "text": [
      "13:54:00 - cmdstanpy - INFO - Chain [1] start processing\n",
      "13:54:01 - cmdstanpy - INFO - Chain [1] done processing\n",
      "13:54:01 - cmdstanpy - INFO - Chain [1] start processing\n",
      "13:54:01 - cmdstanpy - INFO - Chain [1] done processing\n",
      "13:54:02 - cmdstanpy - INFO - Chain [1] start processing\n",
      "13:54:02 - cmdstanpy - INFO - Chain [1] done processing\n",
      "13:54:03 - cmdstanpy - INFO - Chain [1] start processing\n",
      "13:54:03 - cmdstanpy - INFO - Chain [1] done processing\n",
      "13:54:03 - cmdstanpy - INFO - Chain [1] start processing\n",
      "13:54:03 - cmdstanpy - INFO - Chain [1] done processing\n"
     ]
    },
    {
     "data": {
      "application/vnd.jupyter.widget-view+json": {
       "model_id": "ae48a7fd696847cfb46f05c4bc9c6c07",
       "version_major": 2,
       "version_minor": 0
      },
      "text/plain": [
       "  0%|          | 0/4 [00:00<?, ?it/s]"
      ]
     },
     "metadata": {},
     "output_type": "display_data"
    },
    {
     "name": "stderr",
     "output_type": "stream",
     "text": [
      "13:54:03 - cmdstanpy - INFO - Chain [1] start processing\n",
      "13:54:04 - cmdstanpy - INFO - Chain [1] done processing\n",
      "13:54:04 - cmdstanpy - INFO - Chain [1] start processing\n",
      "13:54:04 - cmdstanpy - INFO - Chain [1] done processing\n",
      "13:54:05 - cmdstanpy - INFO - Chain [1] start processing\n",
      "13:54:05 - cmdstanpy - INFO - Chain [1] done processing\n",
      "13:54:06 - cmdstanpy - INFO - Chain [1] start processing\n",
      "13:54:06 - cmdstanpy - INFO - Chain [1] done processing\n",
      "13:54:06 - cmdstanpy - INFO - Chain [1] start processing\n",
      "13:54:06 - cmdstanpy - INFO - Chain [1] done processing\n"
     ]
    },
    {
     "data": {
      "application/vnd.jupyter.widget-view+json": {
       "model_id": "baef5cb104b34555883e47da8b892ea4",
       "version_major": 2,
       "version_minor": 0
      },
      "text/plain": [
       "  0%|          | 0/4 [00:00<?, ?it/s]"
      ]
     },
     "metadata": {},
     "output_type": "display_data"
    },
    {
     "name": "stderr",
     "output_type": "stream",
     "text": [
      "13:54:06 - cmdstanpy - INFO - Chain [1] start processing\n",
      "13:54:07 - cmdstanpy - INFO - Chain [1] done processing\n",
      "13:54:07 - cmdstanpy - INFO - Chain [1] start processing\n",
      "13:54:07 - cmdstanpy - INFO - Chain [1] done processing\n",
      "13:54:08 - cmdstanpy - INFO - Chain [1] start processing\n",
      "13:54:08 - cmdstanpy - INFO - Chain [1] done processing\n",
      "13:54:09 - cmdstanpy - INFO - Chain [1] start processing\n",
      "13:54:09 - cmdstanpy - INFO - Chain [1] done processing\n",
      "13:54:09 - cmdstanpy - INFO - Chain [1] start processing\n",
      "13:54:10 - cmdstanpy - INFO - Chain [1] done processing\n"
     ]
    },
    {
     "data": {
      "application/vnd.jupyter.widget-view+json": {
       "model_id": "f8c840bac9754bfea751b08f7ec48711",
       "version_major": 2,
       "version_minor": 0
      },
      "text/plain": [
       "  0%|          | 0/4 [00:00<?, ?it/s]"
      ]
     },
     "metadata": {},
     "output_type": "display_data"
    },
    {
     "name": "stderr",
     "output_type": "stream",
     "text": [
      "13:54:10 - cmdstanpy - INFO - Chain [1] start processing\n",
      "13:54:10 - cmdstanpy - INFO - Chain [1] done processing\n",
      "13:54:10 - cmdstanpy - INFO - Chain [1] start processing\n",
      "13:54:10 - cmdstanpy - INFO - Chain [1] done processing\n",
      "13:54:11 - cmdstanpy - INFO - Chain [1] start processing\n",
      "13:54:11 - cmdstanpy - INFO - Chain [1] done processing\n",
      "13:54:12 - cmdstanpy - INFO - Chain [1] start processing\n",
      "13:54:12 - cmdstanpy - INFO - Chain [1] done processing\n",
      "13:54:13 - cmdstanpy - INFO - Chain [1] start processing\n",
      "13:54:13 - cmdstanpy - INFO - Chain [1] done processing\n"
     ]
    },
    {
     "data": {
      "application/vnd.jupyter.widget-view+json": {
       "model_id": "cb766bce2e7e4efcb407ffde3c8bab0e",
       "version_major": 2,
       "version_minor": 0
      },
      "text/plain": [
       "  0%|          | 0/4 [00:00<?, ?it/s]"
      ]
     },
     "metadata": {},
     "output_type": "display_data"
    },
    {
     "name": "stderr",
     "output_type": "stream",
     "text": [
      "13:54:13 - cmdstanpy - INFO - Chain [1] start processing\n",
      "13:54:13 - cmdstanpy - INFO - Chain [1] done processing\n",
      "13:54:14 - cmdstanpy - INFO - Chain [1] start processing\n",
      "13:54:14 - cmdstanpy - INFO - Chain [1] done processing\n",
      "13:54:14 - cmdstanpy - INFO - Chain [1] start processing\n",
      "13:54:14 - cmdstanpy - INFO - Chain [1] done processing\n",
      "13:54:15 - cmdstanpy - INFO - Chain [1] start processing\n",
      "13:54:15 - cmdstanpy - INFO - Chain [1] done processing\n",
      "13:54:16 - cmdstanpy - INFO - Chain [1] start processing\n",
      "13:54:16 - cmdstanpy - INFO - Chain [1] done processing\n"
     ]
    },
    {
     "data": {
      "application/vnd.jupyter.widget-view+json": {
       "model_id": "57c8cf4cd266469b983135074740b7be",
       "version_major": 2,
       "version_minor": 0
      },
      "text/plain": [
       "  0%|          | 0/4 [00:00<?, ?it/s]"
      ]
     },
     "metadata": {},
     "output_type": "display_data"
    },
    {
     "name": "stderr",
     "output_type": "stream",
     "text": [
      "13:54:16 - cmdstanpy - INFO - Chain [1] start processing\n",
      "13:54:16 - cmdstanpy - INFO - Chain [1] done processing\n",
      "13:54:17 - cmdstanpy - INFO - Chain [1] start processing\n",
      "13:54:17 - cmdstanpy - INFO - Chain [1] done processing\n",
      "13:54:17 - cmdstanpy - INFO - Chain [1] start processing\n",
      "13:54:17 - cmdstanpy - INFO - Chain [1] done processing\n",
      "13:54:18 - cmdstanpy - INFO - Chain [1] start processing\n",
      "13:54:18 - cmdstanpy - INFO - Chain [1] done processing\n",
      "13:54:19 - cmdstanpy - INFO - Chain [1] start processing\n",
      "13:54:19 - cmdstanpy - INFO - Chain [1] done processing\n"
     ]
    },
    {
     "data": {
      "application/vnd.jupyter.widget-view+json": {
       "model_id": "e207714c16114ef5a6731852326a86be",
       "version_major": 2,
       "version_minor": 0
      },
      "text/plain": [
       "  0%|          | 0/4 [00:00<?, ?it/s]"
      ]
     },
     "metadata": {},
     "output_type": "display_data"
    },
    {
     "name": "stderr",
     "output_type": "stream",
     "text": [
      "13:54:19 - cmdstanpy - INFO - Chain [1] start processing\n",
      "13:54:19 - cmdstanpy - INFO - Chain [1] done processing\n",
      "13:54:20 - cmdstanpy - INFO - Chain [1] start processing\n",
      "13:54:20 - cmdstanpy - INFO - Chain [1] done processing\n",
      "13:54:20 - cmdstanpy - INFO - Chain [1] start processing\n",
      "13:54:20 - cmdstanpy - INFO - Chain [1] done processing\n",
      "13:54:21 - cmdstanpy - INFO - Chain [1] start processing\n",
      "13:54:21 - cmdstanpy - INFO - Chain [1] done processing\n",
      "13:54:22 - cmdstanpy - INFO - Chain [1] start processing\n",
      "13:54:22 - cmdstanpy - INFO - Chain [1] done processing\n"
     ]
    },
    {
     "data": {
      "application/vnd.jupyter.widget-view+json": {
       "model_id": "598be7a2fab443668e011ca621ea311c",
       "version_major": 2,
       "version_minor": 0
      },
      "text/plain": [
       "  0%|          | 0/4 [00:00<?, ?it/s]"
      ]
     },
     "metadata": {},
     "output_type": "display_data"
    },
    {
     "name": "stderr",
     "output_type": "stream",
     "text": [
      "13:54:22 - cmdstanpy - INFO - Chain [1] start processing\n",
      "13:54:22 - cmdstanpy - INFO - Chain [1] done processing\n",
      "13:54:23 - cmdstanpy - INFO - Chain [1] start processing\n",
      "13:54:23 - cmdstanpy - INFO - Chain [1] done processing\n",
      "13:54:23 - cmdstanpy - INFO - Chain [1] start processing\n",
      "13:54:23 - cmdstanpy - INFO - Chain [1] done processing\n",
      "13:54:24 - cmdstanpy - INFO - Chain [1] start processing\n",
      "13:54:24 - cmdstanpy - INFO - Chain [1] done processing\n",
      "13:54:25 - cmdstanpy - INFO - Chain [1] start processing\n",
      "13:54:25 - cmdstanpy - INFO - Chain [1] done processing\n"
     ]
    },
    {
     "data": {
      "application/vnd.jupyter.widget-view+json": {
       "model_id": "b527c2c115c84a3f877ec7b71aff8d7d",
       "version_major": 2,
       "version_minor": 0
      },
      "text/plain": [
       "  0%|          | 0/4 [00:00<?, ?it/s]"
      ]
     },
     "metadata": {},
     "output_type": "display_data"
    },
    {
     "name": "stderr",
     "output_type": "stream",
     "text": [
      "13:54:25 - cmdstanpy - INFO - Chain [1] start processing\n",
      "13:54:25 - cmdstanpy - INFO - Chain [1] done processing\n",
      "13:54:26 - cmdstanpy - INFO - Chain [1] start processing\n",
      "13:54:26 - cmdstanpy - INFO - Chain [1] done processing\n",
      "13:54:27 - cmdstanpy - INFO - Chain [1] start processing\n",
      "13:54:27 - cmdstanpy - INFO - Chain [1] done processing\n",
      "13:54:28 - cmdstanpy - INFO - Chain [1] start processing\n",
      "13:54:30 - cmdstanpy - INFO - Chain [1] done processing\n",
      "13:54:31 - cmdstanpy - INFO - Chain [1] start processing\n",
      "13:54:31 - cmdstanpy - INFO - Chain [1] done processing\n"
     ]
    },
    {
     "data": {
      "application/vnd.jupyter.widget-view+json": {
       "model_id": "e87a9cd67c28431d9598d615afb7a518",
       "version_major": 2,
       "version_minor": 0
      },
      "text/plain": [
       "  0%|          | 0/4 [00:00<?, ?it/s]"
      ]
     },
     "metadata": {},
     "output_type": "display_data"
    },
    {
     "name": "stderr",
     "output_type": "stream",
     "text": [
      "13:54:31 - cmdstanpy - INFO - Chain [1] start processing\n",
      "13:54:31 - cmdstanpy - INFO - Chain [1] done processing\n",
      "13:54:32 - cmdstanpy - INFO - Chain [1] start processing\n",
      "13:54:32 - cmdstanpy - INFO - Chain [1] done processing\n",
      "13:54:33 - cmdstanpy - INFO - Chain [1] start processing\n",
      "13:54:33 - cmdstanpy - INFO - Chain [1] done processing\n",
      "13:54:33 - cmdstanpy - INFO - Chain [1] start processing\n",
      "13:54:33 - cmdstanpy - INFO - Chain [1] done processing\n",
      "13:54:34 - cmdstanpy - INFO - Chain [1] start processing\n",
      "13:54:34 - cmdstanpy - INFO - Chain [1] done processing\n"
     ]
    },
    {
     "data": {
      "application/vnd.jupyter.widget-view+json": {
       "model_id": "b740dbd9d5b647dd98405d758c4e6c4d",
       "version_major": 2,
       "version_minor": 0
      },
      "text/plain": [
       "  0%|          | 0/4 [00:00<?, ?it/s]"
      ]
     },
     "metadata": {},
     "output_type": "display_data"
    },
    {
     "name": "stderr",
     "output_type": "stream",
     "text": [
      "13:54:34 - cmdstanpy - INFO - Chain [1] start processing\n",
      "13:54:35 - cmdstanpy - INFO - Chain [1] done processing\n",
      "13:54:36 - cmdstanpy - INFO - Chain [1] start processing\n",
      "13:54:36 - cmdstanpy - INFO - Chain [1] done processing\n",
      "13:54:36 - cmdstanpy - INFO - Chain [1] start processing\n",
      "13:54:36 - cmdstanpy - INFO - Chain [1] done processing\n",
      "13:54:37 - cmdstanpy - INFO - Chain [1] start processing\n",
      "13:54:37 - cmdstanpy - INFO - Chain [1] done processing\n",
      "13:54:38 - cmdstanpy - INFO - Chain [1] start processing\n",
      "13:54:38 - cmdstanpy - INFO - Chain [1] done processing\n"
     ]
    },
    {
     "data": {
      "application/vnd.jupyter.widget-view+json": {
       "model_id": "a014c876e9bc49e49a3e908827a997da",
       "version_major": 2,
       "version_minor": 0
      },
      "text/plain": [
       "  0%|          | 0/4 [00:00<?, ?it/s]"
      ]
     },
     "metadata": {},
     "output_type": "display_data"
    },
    {
     "name": "stderr",
     "output_type": "stream",
     "text": [
      "13:54:38 - cmdstanpy - INFO - Chain [1] start processing\n",
      "13:54:38 - cmdstanpy - INFO - Chain [1] done processing\n",
      "13:54:39 - cmdstanpy - INFO - Chain [1] start processing\n",
      "13:54:39 - cmdstanpy - INFO - Chain [1] done processing\n",
      "13:54:40 - cmdstanpy - INFO - Chain [1] start processing\n",
      "13:54:40 - cmdstanpy - INFO - Chain [1] done processing\n",
      "13:54:41 - cmdstanpy - INFO - Chain [1] start processing\n",
      "13:54:41 - cmdstanpy - INFO - Chain [1] done processing\n",
      "13:54:42 - cmdstanpy - INFO - Chain [1] start processing\n",
      "13:54:42 - cmdstanpy - INFO - Chain [1] done processing\n"
     ]
    },
    {
     "data": {
      "application/vnd.jupyter.widget-view+json": {
       "model_id": "46063f26d0dd4a9c917bb812a89a0d29",
       "version_major": 2,
       "version_minor": 0
      },
      "text/plain": [
       "  0%|          | 0/4 [00:00<?, ?it/s]"
      ]
     },
     "metadata": {},
     "output_type": "display_data"
    },
    {
     "name": "stderr",
     "output_type": "stream",
     "text": [
      "13:54:42 - cmdstanpy - INFO - Chain [1] start processing\n",
      "13:54:42 - cmdstanpy - INFO - Chain [1] done processing\n",
      "13:54:43 - cmdstanpy - INFO - Chain [1] start processing\n",
      "13:54:43 - cmdstanpy - INFO - Chain [1] done processing\n",
      "13:54:43 - cmdstanpy - INFO - Chain [1] start processing\n",
      "13:54:43 - cmdstanpy - INFO - Chain [1] done processing\n",
      "13:54:44 - cmdstanpy - INFO - Chain [1] start processing\n",
      "13:54:44 - cmdstanpy - INFO - Chain [1] done processing\n",
      "13:54:45 - cmdstanpy - INFO - Chain [1] start processing\n",
      "13:54:45 - cmdstanpy - INFO - Chain [1] done processing\n"
     ]
    },
    {
     "data": {
      "application/vnd.jupyter.widget-view+json": {
       "model_id": "4c92214e7de5480caeded0c34d469619",
       "version_major": 2,
       "version_minor": 0
      },
      "text/plain": [
       "  0%|          | 0/4 [00:00<?, ?it/s]"
      ]
     },
     "metadata": {},
     "output_type": "display_data"
    },
    {
     "name": "stderr",
     "output_type": "stream",
     "text": [
      "13:54:45 - cmdstanpy - INFO - Chain [1] start processing\n",
      "13:54:45 - cmdstanpy - INFO - Chain [1] done processing\n",
      "13:54:46 - cmdstanpy - INFO - Chain [1] start processing\n",
      "13:54:46 - cmdstanpy - INFO - Chain [1] done processing\n",
      "13:54:47 - cmdstanpy - INFO - Chain [1] start processing\n",
      "13:54:47 - cmdstanpy - INFO - Chain [1] done processing\n",
      "13:54:47 - cmdstanpy - INFO - Chain [1] start processing\n",
      "13:54:47 - cmdstanpy - INFO - Chain [1] done processing\n",
      "13:54:48 - cmdstanpy - INFO - Chain [1] start processing\n",
      "13:54:48 - cmdstanpy - INFO - Chain [1] done processing\n"
     ]
    },
    {
     "data": {
      "application/vnd.jupyter.widget-view+json": {
       "model_id": "311e3b9bbc3f42ac9a37c6792cf17ed2",
       "version_major": 2,
       "version_minor": 0
      },
      "text/plain": [
       "  0%|          | 0/4 [00:00<?, ?it/s]"
      ]
     },
     "metadata": {},
     "output_type": "display_data"
    },
    {
     "name": "stderr",
     "output_type": "stream",
     "text": [
      "13:54:48 - cmdstanpy - INFO - Chain [1] start processing\n",
      "13:54:49 - cmdstanpy - INFO - Chain [1] done processing\n",
      "13:54:49 - cmdstanpy - INFO - Chain [1] start processing\n",
      "13:54:49 - cmdstanpy - INFO - Chain [1] done processing\n",
      "13:54:50 - cmdstanpy - INFO - Chain [1] start processing\n",
      "13:54:50 - cmdstanpy - INFO - Chain [1] done processing\n",
      "13:54:51 - cmdstanpy - INFO - Chain [1] start processing\n",
      "13:54:51 - cmdstanpy - INFO - Chain [1] done processing\n",
      "13:54:51 - cmdstanpy - INFO - Chain [1] start processing\n",
      "13:54:51 - cmdstanpy - INFO - Chain [1] done processing\n"
     ]
    },
    {
     "data": {
      "application/vnd.jupyter.widget-view+json": {
       "model_id": "12db8fb0e70f4de08169bede3eec34c2",
       "version_major": 2,
       "version_minor": 0
      },
      "text/plain": [
       "  0%|          | 0/4 [00:00<?, ?it/s]"
      ]
     },
     "metadata": {},
     "output_type": "display_data"
    },
    {
     "name": "stderr",
     "output_type": "stream",
     "text": [
      "13:54:51 - cmdstanpy - INFO - Chain [1] start processing\n",
      "13:54:52 - cmdstanpy - INFO - Chain [1] done processing\n",
      "13:54:52 - cmdstanpy - INFO - Chain [1] start processing\n",
      "13:54:52 - cmdstanpy - INFO - Chain [1] done processing\n",
      "13:54:53 - cmdstanpy - INFO - Chain [1] start processing\n",
      "13:54:53 - cmdstanpy - INFO - Chain [1] done processing\n",
      "13:54:54 - cmdstanpy - INFO - Chain [1] start processing\n",
      "13:54:54 - cmdstanpy - INFO - Chain [1] done processing\n",
      "13:54:54 - cmdstanpy - INFO - Chain [1] start processing\n",
      "13:54:54 - cmdstanpy - INFO - Chain [1] done processing\n"
     ]
    },
    {
     "data": {
      "application/vnd.jupyter.widget-view+json": {
       "model_id": "749e8b741a9546ff9121b82c97d63a5f",
       "version_major": 2,
       "version_minor": 0
      },
      "text/plain": [
       "  0%|          | 0/4 [00:00<?, ?it/s]"
      ]
     },
     "metadata": {},
     "output_type": "display_data"
    },
    {
     "name": "stderr",
     "output_type": "stream",
     "text": [
      "13:54:55 - cmdstanpy - INFO - Chain [1] start processing\n",
      "13:54:55 - cmdstanpy - INFO - Chain [1] done processing\n",
      "13:54:55 - cmdstanpy - INFO - Chain [1] start processing\n",
      "13:54:55 - cmdstanpy - INFO - Chain [1] done processing\n",
      "13:54:56 - cmdstanpy - INFO - Chain [1] start processing\n",
      "13:54:56 - cmdstanpy - INFO - Chain [1] done processing\n",
      "13:54:57 - cmdstanpy - INFO - Chain [1] start processing\n",
      "13:54:57 - cmdstanpy - INFO - Chain [1] done processing\n",
      "13:54:58 - cmdstanpy - INFO - Chain [1] start processing\n",
      "13:54:58 - cmdstanpy - INFO - Chain [1] done processing\n"
     ]
    },
    {
     "data": {
      "application/vnd.jupyter.widget-view+json": {
       "model_id": "5ef2038d03d9437684b3b1d5934c6e7b",
       "version_major": 2,
       "version_minor": 0
      },
      "text/plain": [
       "  0%|          | 0/4 [00:00<?, ?it/s]"
      ]
     },
     "metadata": {},
     "output_type": "display_data"
    },
    {
     "name": "stderr",
     "output_type": "stream",
     "text": [
      "13:54:58 - cmdstanpy - INFO - Chain [1] start processing\n",
      "13:54:58 - cmdstanpy - INFO - Chain [1] done processing\n",
      "13:54:59 - cmdstanpy - INFO - Chain [1] start processing\n",
      "13:54:59 - cmdstanpy - INFO - Chain [1] done processing\n",
      "13:55:00 - cmdstanpy - INFO - Chain [1] start processing\n",
      "13:55:00 - cmdstanpy - INFO - Chain [1] done processing\n",
      "13:55:01 - cmdstanpy - INFO - Chain [1] start processing\n",
      "13:55:01 - cmdstanpy - INFO - Chain [1] done processing\n",
      "13:55:02 - cmdstanpy - INFO - Chain [1] start processing\n",
      "13:55:02 - cmdstanpy - INFO - Chain [1] done processing\n"
     ]
    },
    {
     "data": {
      "application/vnd.jupyter.widget-view+json": {
       "model_id": "6e5a1a80fe054a85a09d8bd7176099d5",
       "version_major": 2,
       "version_minor": 0
      },
      "text/plain": [
       "  0%|          | 0/4 [00:00<?, ?it/s]"
      ]
     },
     "metadata": {},
     "output_type": "display_data"
    },
    {
     "name": "stderr",
     "output_type": "stream",
     "text": [
      "13:55:02 - cmdstanpy - INFO - Chain [1] start processing\n",
      "13:55:02 - cmdstanpy - INFO - Chain [1] done processing\n",
      "13:55:03 - cmdstanpy - INFO - Chain [1] start processing\n",
      "13:55:03 - cmdstanpy - INFO - Chain [1] done processing\n",
      "13:55:04 - cmdstanpy - INFO - Chain [1] start processing\n",
      "13:55:04 - cmdstanpy - INFO - Chain [1] done processing\n",
      "13:55:04 - cmdstanpy - INFO - Chain [1] start processing\n",
      "13:55:04 - cmdstanpy - INFO - Chain [1] done processing\n",
      "13:55:06 - cmdstanpy - INFO - Chain [1] start processing\n",
      "13:55:06 - cmdstanpy - INFO - Chain [1] done processing\n"
     ]
    },
    {
     "data": {
      "application/vnd.jupyter.widget-view+json": {
       "model_id": "cc35f25ecf6a4a9e90e8b015c0efa47d",
       "version_major": 2,
       "version_minor": 0
      },
      "text/plain": [
       "  0%|          | 0/4 [00:00<?, ?it/s]"
      ]
     },
     "metadata": {},
     "output_type": "display_data"
    },
    {
     "name": "stderr",
     "output_type": "stream",
     "text": [
      "13:55:06 - cmdstanpy - INFO - Chain [1] start processing\n",
      "13:55:06 - cmdstanpy - INFO - Chain [1] done processing\n",
      "13:55:07 - cmdstanpy - INFO - Chain [1] start processing\n",
      "13:55:07 - cmdstanpy - INFO - Chain [1] done processing\n",
      "13:55:07 - cmdstanpy - INFO - Chain [1] start processing\n",
      "13:55:07 - cmdstanpy - INFO - Chain [1] done processing\n",
      "13:55:08 - cmdstanpy - INFO - Chain [1] start processing\n",
      "13:55:08 - cmdstanpy - INFO - Chain [1] done processing\n",
      "13:55:09 - cmdstanpy - INFO - Chain [1] start processing\n",
      "13:55:09 - cmdstanpy - INFO - Chain [1] done processing\n"
     ]
    },
    {
     "data": {
      "application/vnd.jupyter.widget-view+json": {
       "model_id": "d4a17432934e430ea9954c5bde083dc0",
       "version_major": 2,
       "version_minor": 0
      },
      "text/plain": [
       "  0%|          | 0/4 [00:00<?, ?it/s]"
      ]
     },
     "metadata": {},
     "output_type": "display_data"
    },
    {
     "name": "stderr",
     "output_type": "stream",
     "text": [
      "13:55:09 - cmdstanpy - INFO - Chain [1] start processing\n",
      "13:55:09 - cmdstanpy - INFO - Chain [1] done processing\n",
      "13:55:10 - cmdstanpy - INFO - Chain [1] start processing\n",
      "13:55:10 - cmdstanpy - INFO - Chain [1] done processing\n",
      "13:55:10 - cmdstanpy - INFO - Chain [1] start processing\n",
      "13:55:10 - cmdstanpy - INFO - Chain [1] done processing\n",
      "13:55:11 - cmdstanpy - INFO - Chain [1] start processing\n",
      "13:55:11 - cmdstanpy - INFO - Chain [1] done processing\n",
      "13:55:12 - cmdstanpy - INFO - Chain [1] start processing\n",
      "13:55:12 - cmdstanpy - INFO - Chain [1] done processing\n"
     ]
    },
    {
     "data": {
      "application/vnd.jupyter.widget-view+json": {
       "model_id": "7af1e6165e9747ccaf7238c0a069a6ce",
       "version_major": 2,
       "version_minor": 0
      },
      "text/plain": [
       "  0%|          | 0/4 [00:00<?, ?it/s]"
      ]
     },
     "metadata": {},
     "output_type": "display_data"
    },
    {
     "name": "stderr",
     "output_type": "stream",
     "text": [
      "13:55:12 - cmdstanpy - INFO - Chain [1] start processing\n",
      "13:55:12 - cmdstanpy - INFO - Chain [1] done processing\n",
      "13:55:13 - cmdstanpy - INFO - Chain [1] start processing\n",
      "13:55:13 - cmdstanpy - INFO - Chain [1] done processing\n",
      "13:55:13 - cmdstanpy - INFO - Chain [1] start processing\n",
      "13:55:13 - cmdstanpy - INFO - Chain [1] done processing\n",
      "13:55:14 - cmdstanpy - INFO - Chain [1] start processing\n",
      "13:55:14 - cmdstanpy - INFO - Chain [1] done processing\n",
      "13:55:15 - cmdstanpy - INFO - Chain [1] start processing\n",
      "13:55:15 - cmdstanpy - INFO - Chain [1] done processing\n"
     ]
    },
    {
     "data": {
      "application/vnd.jupyter.widget-view+json": {
       "model_id": "9d10106173124ddcab4eeafafb8171ee",
       "version_major": 2,
       "version_minor": 0
      },
      "text/plain": [
       "  0%|          | 0/4 [00:00<?, ?it/s]"
      ]
     },
     "metadata": {},
     "output_type": "display_data"
    },
    {
     "name": "stderr",
     "output_type": "stream",
     "text": [
      "13:55:15 - cmdstanpy - INFO - Chain [1] start processing\n",
      "13:55:15 - cmdstanpy - INFO - Chain [1] done processing\n",
      "13:55:16 - cmdstanpy - INFO - Chain [1] start processing\n",
      "13:55:16 - cmdstanpy - INFO - Chain [1] done processing\n",
      "13:55:16 - cmdstanpy - INFO - Chain [1] start processing\n",
      "13:55:16 - cmdstanpy - INFO - Chain [1] done processing\n",
      "13:55:17 - cmdstanpy - INFO - Chain [1] start processing\n",
      "13:55:17 - cmdstanpy - INFO - Chain [1] done processing\n",
      "13:55:18 - cmdstanpy - INFO - Chain [1] start processing\n",
      "13:55:18 - cmdstanpy - INFO - Chain [1] done processing\n"
     ]
    },
    {
     "data": {
      "application/vnd.jupyter.widget-view+json": {
       "model_id": "83ad01a6c76b4daebf8ac05cf73302d2",
       "version_major": 2,
       "version_minor": 0
      },
      "text/plain": [
       "  0%|          | 0/4 [00:00<?, ?it/s]"
      ]
     },
     "metadata": {},
     "output_type": "display_data"
    },
    {
     "name": "stderr",
     "output_type": "stream",
     "text": [
      "13:55:18 - cmdstanpy - INFO - Chain [1] start processing\n",
      "13:55:18 - cmdstanpy - INFO - Chain [1] done processing\n",
      "13:55:19 - cmdstanpy - INFO - Chain [1] start processing\n",
      "13:55:19 - cmdstanpy - INFO - Chain [1] done processing\n",
      "13:55:19 - cmdstanpy - INFO - Chain [1] start processing\n",
      "13:55:19 - cmdstanpy - INFO - Chain [1] done processing\n",
      "13:55:20 - cmdstanpy - INFO - Chain [1] start processing\n",
      "13:55:20 - cmdstanpy - INFO - Chain [1] done processing\n",
      "13:55:21 - cmdstanpy - INFO - Chain [1] start processing\n",
      "13:55:21 - cmdstanpy - INFO - Chain [1] done processing\n"
     ]
    },
    {
     "data": {
      "application/vnd.jupyter.widget-view+json": {
       "model_id": "96a6324b528140569ac35f2cd4cce802",
       "version_major": 2,
       "version_minor": 0
      },
      "text/plain": [
       "  0%|          | 0/4 [00:00<?, ?it/s]"
      ]
     },
     "metadata": {},
     "output_type": "display_data"
    },
    {
     "name": "stderr",
     "output_type": "stream",
     "text": [
      "13:55:21 - cmdstanpy - INFO - Chain [1] start processing\n",
      "13:55:21 - cmdstanpy - INFO - Chain [1] done processing\n",
      "13:55:22 - cmdstanpy - INFO - Chain [1] start processing\n",
      "13:55:22 - cmdstanpy - INFO - Chain [1] done processing\n",
      "13:55:22 - cmdstanpy - INFO - Chain [1] start processing\n",
      "13:55:22 - cmdstanpy - INFO - Chain [1] done processing\n",
      "13:55:23 - cmdstanpy - INFO - Chain [1] start processing\n",
      "13:55:23 - cmdstanpy - INFO - Chain [1] done processing\n",
      "13:55:24 - cmdstanpy - INFO - Chain [1] start processing\n",
      "13:55:24 - cmdstanpy - INFO - Chain [1] done processing\n"
     ]
    },
    {
     "data": {
      "application/vnd.jupyter.widget-view+json": {
       "model_id": "089b8f880b514f11bb80cded3a8208ca",
       "version_major": 2,
       "version_minor": 0
      },
      "text/plain": [
       "  0%|          | 0/4 [00:00<?, ?it/s]"
      ]
     },
     "metadata": {},
     "output_type": "display_data"
    },
    {
     "name": "stderr",
     "output_type": "stream",
     "text": [
      "13:55:24 - cmdstanpy - INFO - Chain [1] start processing\n",
      "13:55:24 - cmdstanpy - INFO - Chain [1] done processing\n",
      "13:55:25 - cmdstanpy - INFO - Chain [1] start processing\n",
      "13:55:25 - cmdstanpy - INFO - Chain [1] done processing\n",
      "13:55:25 - cmdstanpy - INFO - Chain [1] start processing\n",
      "13:55:26 - cmdstanpy - INFO - Chain [1] done processing\n",
      "13:55:26 - cmdstanpy - INFO - Chain [1] start processing\n",
      "13:55:26 - cmdstanpy - INFO - Chain [1] done processing\n",
      "13:55:27 - cmdstanpy - INFO - Chain [1] start processing\n",
      "13:55:27 - cmdstanpy - INFO - Chain [1] done processing\n"
     ]
    },
    {
     "data": {
      "application/vnd.jupyter.widget-view+json": {
       "model_id": "20c7bd04d27448eeba917ffb03efd323",
       "version_major": 2,
       "version_minor": 0
      },
      "text/plain": [
       "  0%|          | 0/4 [00:00<?, ?it/s]"
      ]
     },
     "metadata": {},
     "output_type": "display_data"
    },
    {
     "name": "stderr",
     "output_type": "stream",
     "text": [
      "13:55:27 - cmdstanpy - INFO - Chain [1] start processing\n",
      "13:55:27 - cmdstanpy - INFO - Chain [1] done processing\n",
      "13:55:28 - cmdstanpy - INFO - Chain [1] start processing\n",
      "13:55:28 - cmdstanpy - INFO - Chain [1] done processing\n",
      "13:55:29 - cmdstanpy - INFO - Chain [1] start processing\n",
      "13:55:29 - cmdstanpy - INFO - Chain [1] done processing\n",
      "13:55:29 - cmdstanpy - INFO - Chain [1] start processing\n",
      "13:55:29 - cmdstanpy - INFO - Chain [1] done processing\n",
      "13:55:30 - cmdstanpy - INFO - Chain [1] start processing\n",
      "13:55:30 - cmdstanpy - INFO - Chain [1] done processing\n"
     ]
    },
    {
     "data": {
      "application/vnd.jupyter.widget-view+json": {
       "model_id": "e4a0cb17ecc24da884d5de951f15d3f0",
       "version_major": 2,
       "version_minor": 0
      },
      "text/plain": [
       "  0%|          | 0/4 [00:00<?, ?it/s]"
      ]
     },
     "metadata": {},
     "output_type": "display_data"
    },
    {
     "name": "stderr",
     "output_type": "stream",
     "text": [
      "13:55:30 - cmdstanpy - INFO - Chain [1] start processing\n",
      "13:55:30 - cmdstanpy - INFO - Chain [1] done processing\n",
      "13:55:31 - cmdstanpy - INFO - Chain [1] start processing\n",
      "13:55:31 - cmdstanpy - INFO - Chain [1] done processing\n",
      "13:55:32 - cmdstanpy - INFO - Chain [1] start processing\n",
      "13:55:32 - cmdstanpy - INFO - Chain [1] done processing\n",
      "13:55:32 - cmdstanpy - INFO - Chain [1] start processing\n",
      "13:55:32 - cmdstanpy - INFO - Chain [1] done processing\n"
     ]
    },
    {
     "name": "stdout",
     "output_type": "stream",
     "text": [
      "     changepoint_prior_scale  seasonality_prior_scale  holidays_prior_scale  \\\n",
      "0                       0.08                    0.008                 0.008   \n",
      "1                       0.08                    0.008                 0.009   \n",
      "2                       0.08                    0.008                 0.010   \n",
      "3                       0.08                    0.008                 0.011   \n",
      "4                       0.08                    0.008                 0.012   \n",
      "..                       ...                      ...                   ...   \n",
      "211                     0.13                    0.013                 0.009   \n",
      "212                     0.13                    0.013                 0.010   \n",
      "213                     0.13                    0.013                 0.011   \n",
      "214                     0.13                    0.013                 0.012   \n",
      "215                     0.13                    0.013                 0.013   \n",
      "\n",
      "         rmse  \n",
      "0    4.296167  \n",
      "1    4.296167  \n",
      "2    4.296167  \n",
      "3    4.296167  \n",
      "4    4.296167  \n",
      "..        ...  \n",
      "211  4.284784  \n",
      "212  4.284784  \n",
      "213  4.284784  \n",
      "214  4.284784  \n",
      "215  4.284784  \n",
      "\n",
      "[216 rows x 4 columns]\n"
     ]
    }
   ],
   "source": [
    "from prophet import Prophet\n",
    "import itertools\n",
    "import numpy as np\n",
    "import pandas as pd\n",
    "from prophet.diagnostics import cross_validation\n",
    "from prophet.diagnostics import performance_metrics\n",
    "\n",
    "data = pd.read_csv('data.csv')\n",
    "\n",
    "# data from previous tuning\n",
    "# {'changepoint_prior_scale': 0.1, 'seasonality_prior_scale': 0.01, 'holidays_prior_scale': 0.01}\n",
    "\n",
    "\n",
    "param_grid = {  \n",
    "    'changepoint_prior_scale': [0.08, 0.09, 0.1, 0.11, 0.012, 0.13],\n",
    "    'seasonality_prior_scale': [0.008, 0.009, 0.01, 0.011, 0.012, 0.013],\n",
    "    'holidays_prior_scale': [0.008, 0.009, 0.01, 0.011, 0.012, 0.013],\n",
    "}\n",
    "\n",
    "# Generate all combinations of parameters\n",
    "all_params = [dict(zip(param_grid.keys(), v)) for v in itertools.product(*param_grid.values())]\n",
    "rmses = []  # Store the RMSEs for each params here\n",
    "\n",
    "# Use cross validation to evaluate all parameters\n",
    "for params in all_params:\n",
    "    m = Prophet(**params, interval_width=0.9, daily_seasonality=True).fit(data)  # Fit model with given params\n",
    "    df_cv = cross_validation(m, initial='100 days', period='60 days', horizon = '30 days')\n",
    "    df_p = performance_metrics(df_cv, rolling_window=1)\n",
    "    rmses.append(df_p['rmse'].values[0])\n",
    "\n",
    "# Find the best parameters\n",
    "tuning_results = pd.DataFrame(all_params)\n",
    "tuning_results['rmse'] = rmses\n",
    "print(tuning_results)"
   ]
  },
  {
   "cell_type": "code",
   "execution_count": 4,
   "id": "8d68eb81",
   "metadata": {},
   "outputs": [
    {
     "name": "stdout",
     "output_type": "stream",
     "text": [
      "{'changepoint_prior_scale': 0.09, 'seasonality_prior_scale': 0.008, 'holidays_prior_scale': 0.008}\n"
     ]
    }
   ],
   "source": [
    "best_params = all_params[np.argmin(rmses)]\n",
    "print(best_params)"
   ]
  },
  {
   "cell_type": "code",
   "execution_count": 5,
   "id": "d233438b",
   "metadata": {},
   "outputs": [
    {
     "name": "stdout",
     "output_type": "stream",
     "text": [
      "4.272226249305102\n"
     ]
    }
   ],
   "source": [
    "print(tuning_results['rmse'].min())"
   ]
  },
  {
   "cell_type": "code",
   "execution_count": null,
   "id": "80a34dd6",
   "metadata": {},
   "outputs": [],
   "source": []
  }
 ],
 "metadata": {
  "kernelspec": {
   "display_name": "Python 3 (ipykernel)",
   "language": "python",
   "name": "python3"
  },
  "language_info": {
   "codemirror_mode": {
    "name": "ipython",
    "version": 3
   },
   "file_extension": ".py",
   "mimetype": "text/x-python",
   "name": "python",
   "nbconvert_exporter": "python",
   "pygments_lexer": "ipython3",
   "version": "3.9.12"
  }
 },
 "nbformat": 4,
 "nbformat_minor": 5
}
