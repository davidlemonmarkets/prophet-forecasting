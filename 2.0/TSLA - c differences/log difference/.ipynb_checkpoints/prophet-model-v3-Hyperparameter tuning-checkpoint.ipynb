{
 "cells": [
  {
   "cell_type": "code",
   "execution_count": 3,
   "id": "2968028f",
   "metadata": {},
   "outputs": [
    {
     "name": "stderr",
     "output_type": "stream",
     "text": [
      "10:30:52 - cmdstanpy - INFO - Chain [1] start processing\n",
      "10:30:53 - cmdstanpy - INFO - Chain [1] done processing\n"
     ]
    },
    {
     "data": {
      "application/vnd.jupyter.widget-view+json": {
       "model_id": "25b3d16677f34a3e89d7b70efd405e78",
       "version_major": 2,
       "version_minor": 0
      },
      "text/plain": [
       "  0%|          | 0/11 [00:00<?, ?it/s]"
      ]
     },
     "metadata": {},
     "output_type": "display_data"
    },
    {
     "name": "stderr",
     "output_type": "stream",
     "text": [
      "10:30:55 - cmdstanpy - INFO - Chain [1] start processing\n",
      "10:30:56 - cmdstanpy - INFO - Chain [1] done processing\n",
      "10:30:56 - cmdstanpy - INFO - Chain [1] start processing\n",
      "10:30:56 - cmdstanpy - INFO - Chain [1] done processing\n",
      "10:30:57 - cmdstanpy - INFO - Chain [1] start processing\n",
      "10:30:57 - cmdstanpy - INFO - Chain [1] done processing\n",
      "10:30:58 - cmdstanpy - INFO - Chain [1] start processing\n",
      "10:30:58 - cmdstanpy - INFO - Chain [1] done processing\n",
      "10:30:59 - cmdstanpy - INFO - Chain [1] start processing\n",
      "10:30:59 - cmdstanpy - INFO - Chain [1] done processing\n",
      "10:31:00 - cmdstanpy - INFO - Chain [1] start processing\n",
      "10:31:00 - cmdstanpy - INFO - Chain [1] done processing\n",
      "10:31:02 - cmdstanpy - INFO - Chain [1] start processing\n",
      "10:31:02 - cmdstanpy - INFO - Chain [1] done processing\n",
      "10:31:03 - cmdstanpy - INFO - Chain [1] start processing\n",
      "10:31:03 - cmdstanpy - INFO - Chain [1] done processing\n",
      "10:31:04 - cmdstanpy - INFO - Chain [1] start processing\n",
      "10:31:04 - cmdstanpy - INFO - Chain [1] done processing\n",
      "10:31:05 - cmdstanpy - INFO - Chain [1] start processing\n",
      "10:31:05 - cmdstanpy - INFO - Chain [1] done processing\n",
      "10:31:06 - cmdstanpy - INFO - Chain [1] start processing\n",
      "10:31:06 - cmdstanpy - INFO - Chain [1] done processing\n",
      "10:31:07 - cmdstanpy - INFO - Chain [1] start processing\n",
      "10:31:07 - cmdstanpy - INFO - Chain [1] done processing\n"
     ]
    },
    {
     "data": {
      "application/vnd.jupyter.widget-view+json": {
       "model_id": "f59b88163d28458cbfc667692f204c72",
       "version_major": 2,
       "version_minor": 0
      },
      "text/plain": [
       "  0%|          | 0/11 [00:00<?, ?it/s]"
      ]
     },
     "metadata": {},
     "output_type": "display_data"
    },
    {
     "name": "stderr",
     "output_type": "stream",
     "text": [
      "10:31:07 - cmdstanpy - INFO - Chain [1] start processing\n",
      "10:31:07 - cmdstanpy - INFO - Chain [1] done processing\n",
      "10:31:08 - cmdstanpy - INFO - Chain [1] start processing\n",
      "10:31:08 - cmdstanpy - INFO - Chain [1] done processing\n",
      "10:31:09 - cmdstanpy - INFO - Chain [1] start processing\n",
      "10:31:09 - cmdstanpy - INFO - Chain [1] done processing\n",
      "10:31:10 - cmdstanpy - INFO - Chain [1] start processing\n",
      "10:31:10 - cmdstanpy - INFO - Chain [1] done processing\n",
      "10:31:11 - cmdstanpy - INFO - Chain [1] start processing\n",
      "10:31:11 - cmdstanpy - INFO - Chain [1] done processing\n",
      "10:31:12 - cmdstanpy - INFO - Chain [1] start processing\n",
      "10:31:12 - cmdstanpy - INFO - Chain [1] done processing\n",
      "10:31:13 - cmdstanpy - INFO - Chain [1] start processing\n",
      "10:31:13 - cmdstanpy - INFO - Chain [1] done processing\n",
      "10:31:15 - cmdstanpy - INFO - Chain [1] start processing\n",
      "10:31:16 - cmdstanpy - INFO - Chain [1] done processing\n",
      "10:31:17 - cmdstanpy - INFO - Chain [1] start processing\n",
      "10:31:17 - cmdstanpy - INFO - Chain [1] done processing\n",
      "10:31:18 - cmdstanpy - INFO - Chain [1] start processing\n",
      "10:31:18 - cmdstanpy - INFO - Chain [1] done processing\n",
      "10:31:19 - cmdstanpy - INFO - Chain [1] start processing\n",
      "10:31:19 - cmdstanpy - INFO - Chain [1] done processing\n",
      "10:31:20 - cmdstanpy - INFO - Chain [1] start processing\n",
      "10:31:21 - cmdstanpy - INFO - Chain [1] done processing\n"
     ]
    },
    {
     "data": {
      "application/vnd.jupyter.widget-view+json": {
       "model_id": "e0b13698db7e4229a669f6305ffe74c9",
       "version_major": 2,
       "version_minor": 0
      },
      "text/plain": [
       "  0%|          | 0/11 [00:00<?, ?it/s]"
      ]
     },
     "metadata": {},
     "output_type": "display_data"
    },
    {
     "name": "stderr",
     "output_type": "stream",
     "text": [
      "10:31:21 - cmdstanpy - INFO - Chain [1] start processing\n",
      "10:31:21 - cmdstanpy - INFO - Chain [1] done processing\n",
      "10:31:22 - cmdstanpy - INFO - Chain [1] start processing\n",
      "10:31:22 - cmdstanpy - INFO - Chain [1] done processing\n",
      "10:31:22 - cmdstanpy - INFO - Chain [1] start processing\n",
      "10:31:22 - cmdstanpy - INFO - Chain [1] done processing\n",
      "10:31:23 - cmdstanpy - INFO - Chain [1] start processing\n",
      "10:31:23 - cmdstanpy - INFO - Chain [1] done processing\n",
      "10:31:24 - cmdstanpy - INFO - Chain [1] start processing\n",
      "10:31:24 - cmdstanpy - INFO - Chain [1] done processing\n",
      "10:31:25 - cmdstanpy - INFO - Chain [1] start processing\n",
      "10:31:25 - cmdstanpy - INFO - Chain [1] done processing\n",
      "10:31:26 - cmdstanpy - INFO - Chain [1] start processing\n",
      "10:31:26 - cmdstanpy - INFO - Chain [1] done processing\n",
      "10:31:27 - cmdstanpy - INFO - Chain [1] start processing\n",
      "10:31:27 - cmdstanpy - INFO - Chain [1] done processing\n",
      "10:31:28 - cmdstanpy - INFO - Chain [1] start processing\n",
      "10:31:28 - cmdstanpy - INFO - Chain [1] done processing\n",
      "10:31:29 - cmdstanpy - INFO - Chain [1] start processing\n",
      "10:31:29 - cmdstanpy - INFO - Chain [1] done processing\n",
      "10:31:30 - cmdstanpy - INFO - Chain [1] start processing\n",
      "10:31:30 - cmdstanpy - INFO - Chain [1] done processing\n",
      "10:31:31 - cmdstanpy - INFO - Chain [1] start processing\n",
      "10:31:31 - cmdstanpy - INFO - Chain [1] done processing\n"
     ]
    },
    {
     "data": {
      "application/vnd.jupyter.widget-view+json": {
       "model_id": "ee6d3b12bfeb431dbaa38b52ad5f5da0",
       "version_major": 2,
       "version_minor": 0
      },
      "text/plain": [
       "  0%|          | 0/11 [00:00<?, ?it/s]"
      ]
     },
     "metadata": {},
     "output_type": "display_data"
    },
    {
     "name": "stderr",
     "output_type": "stream",
     "text": [
      "10:31:31 - cmdstanpy - INFO - Chain [1] start processing\n",
      "10:31:31 - cmdstanpy - INFO - Chain [1] done processing\n",
      "10:31:32 - cmdstanpy - INFO - Chain [1] start processing\n",
      "10:31:32 - cmdstanpy - INFO - Chain [1] done processing\n",
      "10:31:33 - cmdstanpy - INFO - Chain [1] start processing\n",
      "10:31:33 - cmdstanpy - INFO - Chain [1] done processing\n",
      "10:31:33 - cmdstanpy - INFO - Chain [1] start processing\n",
      "10:31:33 - cmdstanpy - INFO - Chain [1] done processing\n",
      "10:31:34 - cmdstanpy - INFO - Chain [1] start processing\n",
      "10:31:34 - cmdstanpy - INFO - Chain [1] done processing\n",
      "10:31:35 - cmdstanpy - INFO - Chain [1] start processing\n",
      "10:31:35 - cmdstanpy - INFO - Chain [1] done processing\n",
      "10:31:36 - cmdstanpy - INFO - Chain [1] start processing\n",
      "10:31:36 - cmdstanpy - INFO - Chain [1] done processing\n",
      "10:31:37 - cmdstanpy - INFO - Chain [1] start processing\n",
      "10:31:37 - cmdstanpy - INFO - Chain [1] done processing\n",
      "10:31:38 - cmdstanpy - INFO - Chain [1] start processing\n",
      "10:31:38 - cmdstanpy - INFO - Chain [1] done processing\n",
      "10:31:38 - cmdstanpy - INFO - Chain [1] start processing\n",
      "10:31:38 - cmdstanpy - INFO - Chain [1] done processing\n",
      "10:31:39 - cmdstanpy - INFO - Chain [1] start processing\n",
      "10:31:39 - cmdstanpy - INFO - Chain [1] done processing\n",
      "10:31:40 - cmdstanpy - INFO - Chain [1] start processing\n",
      "10:31:40 - cmdstanpy - INFO - Chain [1] done processing\n"
     ]
    },
    {
     "data": {
      "application/vnd.jupyter.widget-view+json": {
       "model_id": "dadcba6b258c436da7eb31b1135dda02",
       "version_major": 2,
       "version_minor": 0
      },
      "text/plain": [
       "  0%|          | 0/11 [00:00<?, ?it/s]"
      ]
     },
     "metadata": {},
     "output_type": "display_data"
    },
    {
     "name": "stderr",
     "output_type": "stream",
     "text": [
      "10:31:40 - cmdstanpy - INFO - Chain [1] start processing\n",
      "10:31:40 - cmdstanpy - INFO - Chain [1] done processing\n",
      "10:31:41 - cmdstanpy - INFO - Chain [1] start processing\n",
      "10:31:41 - cmdstanpy - INFO - Chain [1] done processing\n",
      "10:31:42 - cmdstanpy - INFO - Chain [1] start processing\n",
      "10:31:42 - cmdstanpy - INFO - Chain [1] done processing\n",
      "10:31:43 - cmdstanpy - INFO - Chain [1] start processing\n",
      "10:31:43 - cmdstanpy - INFO - Chain [1] done processing\n",
      "10:31:44 - cmdstanpy - INFO - Chain [1] start processing\n",
      "10:31:44 - cmdstanpy - INFO - Chain [1] done processing\n",
      "10:31:44 - cmdstanpy - INFO - Chain [1] start processing\n",
      "10:31:44 - cmdstanpy - INFO - Chain [1] done processing\n",
      "10:31:45 - cmdstanpy - INFO - Chain [1] start processing\n",
      "10:31:45 - cmdstanpy - INFO - Chain [1] done processing\n",
      "10:31:46 - cmdstanpy - INFO - Chain [1] start processing\n",
      "10:31:46 - cmdstanpy - INFO - Chain [1] done processing\n",
      "10:31:47 - cmdstanpy - INFO - Chain [1] start processing\n",
      "10:31:47 - cmdstanpy - INFO - Chain [1] done processing\n",
      "10:31:47 - cmdstanpy - INFO - Chain [1] start processing\n",
      "10:31:48 - cmdstanpy - INFO - Chain [1] done processing\n",
      "10:31:48 - cmdstanpy - INFO - Chain [1] start processing\n",
      "10:31:48 - cmdstanpy - INFO - Chain [1] done processing\n",
      "10:31:49 - cmdstanpy - INFO - Chain [1] start processing\n",
      "10:31:49 - cmdstanpy - INFO - Chain [1] done processing\n"
     ]
    },
    {
     "data": {
      "application/vnd.jupyter.widget-view+json": {
       "model_id": "15efbcb7c02c4dda973447acd85df271",
       "version_major": 2,
       "version_minor": 0
      },
      "text/plain": [
       "  0%|          | 0/11 [00:00<?, ?it/s]"
      ]
     },
     "metadata": {},
     "output_type": "display_data"
    },
    {
     "name": "stderr",
     "output_type": "stream",
     "text": [
      "10:31:49 - cmdstanpy - INFO - Chain [1] start processing\n",
      "10:31:49 - cmdstanpy - INFO - Chain [1] done processing\n",
      "10:31:50 - cmdstanpy - INFO - Chain [1] start processing\n",
      "10:31:50 - cmdstanpy - INFO - Chain [1] done processing\n",
      "10:31:51 - cmdstanpy - INFO - Chain [1] start processing\n",
      "10:31:51 - cmdstanpy - INFO - Chain [1] done processing\n",
      "10:31:52 - cmdstanpy - INFO - Chain [1] start processing\n",
      "10:31:52 - cmdstanpy - INFO - Chain [1] done processing\n",
      "10:31:53 - cmdstanpy - INFO - Chain [1] start processing\n",
      "10:31:53 - cmdstanpy - INFO - Chain [1] done processing\n",
      "10:31:54 - cmdstanpy - INFO - Chain [1] start processing\n",
      "10:31:54 - cmdstanpy - INFO - Chain [1] done processing\n",
      "10:31:54 - cmdstanpy - INFO - Chain [1] start processing\n",
      "10:31:54 - cmdstanpy - INFO - Chain [1] done processing\n",
      "10:31:55 - cmdstanpy - INFO - Chain [1] start processing\n",
      "10:31:55 - cmdstanpy - INFO - Chain [1] done processing\n",
      "10:31:56 - cmdstanpy - INFO - Chain [1] start processing\n",
      "10:31:56 - cmdstanpy - INFO - Chain [1] done processing\n",
      "10:31:57 - cmdstanpy - INFO - Chain [1] start processing\n",
      "10:31:57 - cmdstanpy - INFO - Chain [1] done processing\n",
      "10:31:58 - cmdstanpy - INFO - Chain [1] start processing\n",
      "10:31:58 - cmdstanpy - INFO - Chain [1] done processing\n",
      "10:31:59 - cmdstanpy - INFO - Chain [1] start processing\n",
      "10:31:59 - cmdstanpy - INFO - Chain [1] done processing\n"
     ]
    },
    {
     "data": {
      "application/vnd.jupyter.widget-view+json": {
       "model_id": "857e21e26d2d44b18befbd5e58199a2e",
       "version_major": 2,
       "version_minor": 0
      },
      "text/plain": [
       "  0%|          | 0/11 [00:00<?, ?it/s]"
      ]
     },
     "metadata": {},
     "output_type": "display_data"
    },
    {
     "name": "stderr",
     "output_type": "stream",
     "text": [
      "10:31:59 - cmdstanpy - INFO - Chain [1] start processing\n",
      "10:31:59 - cmdstanpy - INFO - Chain [1] done processing\n",
      "10:32:00 - cmdstanpy - INFO - Chain [1] start processing\n",
      "10:32:00 - cmdstanpy - INFO - Chain [1] done processing\n",
      "10:32:00 - cmdstanpy - INFO - Chain [1] start processing\n",
      "10:32:00 - cmdstanpy - INFO - Chain [1] done processing\n",
      "10:32:01 - cmdstanpy - INFO - Chain [1] start processing\n",
      "10:32:01 - cmdstanpy - INFO - Chain [1] done processing\n",
      "10:32:02 - cmdstanpy - INFO - Chain [1] start processing\n",
      "10:32:02 - cmdstanpy - INFO - Chain [1] done processing\n",
      "10:32:03 - cmdstanpy - INFO - Chain [1] start processing\n",
      "10:32:03 - cmdstanpy - INFO - Chain [1] done processing\n",
      "10:32:04 - cmdstanpy - INFO - Chain [1] start processing\n",
      "10:32:04 - cmdstanpy - INFO - Chain [1] done processing\n",
      "10:32:04 - cmdstanpy - INFO - Chain [1] start processing\n",
      "10:32:05 - cmdstanpy - INFO - Chain [1] done processing\n",
      "10:32:05 - cmdstanpy - INFO - Chain [1] start processing\n",
      "10:32:05 - cmdstanpy - INFO - Chain [1] done processing\n",
      "10:32:06 - cmdstanpy - INFO - Chain [1] start processing\n",
      "10:32:06 - cmdstanpy - INFO - Chain [1] done processing\n",
      "10:32:07 - cmdstanpy - INFO - Chain [1] start processing\n",
      "10:32:07 - cmdstanpy - INFO - Chain [1] done processing\n",
      "10:32:08 - cmdstanpy - INFO - Chain [1] start processing\n",
      "10:32:08 - cmdstanpy - INFO - Chain [1] done processing\n"
     ]
    },
    {
     "data": {
      "application/vnd.jupyter.widget-view+json": {
       "model_id": "642785d84bed487ab8dbf9f2f4584a73",
       "version_major": 2,
       "version_minor": 0
      },
      "text/plain": [
       "  0%|          | 0/11 [00:00<?, ?it/s]"
      ]
     },
     "metadata": {},
     "output_type": "display_data"
    },
    {
     "name": "stderr",
     "output_type": "stream",
     "text": [
      "10:32:08 - cmdstanpy - INFO - Chain [1] start processing\n",
      "10:32:08 - cmdstanpy - INFO - Chain [1] done processing\n",
      "10:32:09 - cmdstanpy - INFO - Chain [1] start processing\n",
      "10:32:09 - cmdstanpy - INFO - Chain [1] done processing\n",
      "10:32:10 - cmdstanpy - INFO - Chain [1] start processing\n",
      "10:32:10 - cmdstanpy - INFO - Chain [1] done processing\n",
      "10:32:10 - cmdstanpy - INFO - Chain [1] start processing\n",
      "10:32:10 - cmdstanpy - INFO - Chain [1] done processing\n",
      "10:32:11 - cmdstanpy - INFO - Chain [1] start processing\n",
      "10:32:11 - cmdstanpy - INFO - Chain [1] done processing\n",
      "10:32:12 - cmdstanpy - INFO - Chain [1] start processing\n",
      "10:32:12 - cmdstanpy - INFO - Chain [1] done processing\n",
      "10:32:13 - cmdstanpy - INFO - Chain [1] start processing\n",
      "10:32:13 - cmdstanpy - INFO - Chain [1] done processing\n",
      "10:32:13 - cmdstanpy - INFO - Chain [1] start processing\n",
      "10:32:13 - cmdstanpy - INFO - Chain [1] done processing\n",
      "10:32:14 - cmdstanpy - INFO - Chain [1] start processing\n",
      "10:32:14 - cmdstanpy - INFO - Chain [1] done processing\n",
      "10:32:15 - cmdstanpy - INFO - Chain [1] start processing\n",
      "10:32:15 - cmdstanpy - INFO - Chain [1] done processing\n",
      "10:32:16 - cmdstanpy - INFO - Chain [1] start processing\n",
      "10:32:16 - cmdstanpy - INFO - Chain [1] done processing\n",
      "10:32:17 - cmdstanpy - INFO - Chain [1] start processing\n",
      "10:32:17 - cmdstanpy - INFO - Chain [1] done processing\n"
     ]
    },
    {
     "data": {
      "application/vnd.jupyter.widget-view+json": {
       "model_id": "bded46cf315e4c428b2938b64bf3de8e",
       "version_major": 2,
       "version_minor": 0
      },
      "text/plain": [
       "  0%|          | 0/11 [00:00<?, ?it/s]"
      ]
     },
     "metadata": {},
     "output_type": "display_data"
    },
    {
     "name": "stderr",
     "output_type": "stream",
     "text": [
      "10:32:17 - cmdstanpy - INFO - Chain [1] start processing\n",
      "10:32:17 - cmdstanpy - INFO - Chain [1] done processing\n",
      "10:32:18 - cmdstanpy - INFO - Chain [1] start processing\n",
      "10:32:18 - cmdstanpy - INFO - Chain [1] done processing\n",
      "10:32:18 - cmdstanpy - INFO - Chain [1] start processing\n",
      "10:32:19 - cmdstanpy - INFO - Chain [1] done processing\n",
      "10:32:19 - cmdstanpy - INFO - Chain [1] start processing\n",
      "10:32:19 - cmdstanpy - INFO - Chain [1] done processing\n",
      "10:32:20 - cmdstanpy - INFO - Chain [1] start processing\n",
      "10:32:20 - cmdstanpy - INFO - Chain [1] done processing\n",
      "10:32:21 - cmdstanpy - INFO - Chain [1] start processing\n",
      "10:32:21 - cmdstanpy - INFO - Chain [1] done processing\n",
      "10:32:22 - cmdstanpy - INFO - Chain [1] start processing\n",
      "10:32:22 - cmdstanpy - INFO - Chain [1] done processing\n",
      "10:32:23 - cmdstanpy - INFO - Chain [1] start processing\n",
      "10:32:23 - cmdstanpy - INFO - Chain [1] done processing\n",
      "10:32:23 - cmdstanpy - INFO - Chain [1] start processing\n",
      "10:32:24 - cmdstanpy - INFO - Chain [1] done processing\n",
      "10:32:24 - cmdstanpy - INFO - Chain [1] start processing\n",
      "10:32:24 - cmdstanpy - INFO - Chain [1] done processing\n",
      "10:32:25 - cmdstanpy - INFO - Chain [1] start processing\n",
      "10:32:25 - cmdstanpy - INFO - Chain [1] done processing\n",
      "10:32:26 - cmdstanpy - INFO - Chain [1] start processing\n",
      "10:32:26 - cmdstanpy - INFO - Chain [1] done processing\n"
     ]
    },
    {
     "data": {
      "application/vnd.jupyter.widget-view+json": {
       "model_id": "cedb791a682440638bb3e659e86a3c09",
       "version_major": 2,
       "version_minor": 0
      },
      "text/plain": [
       "  0%|          | 0/11 [00:00<?, ?it/s]"
      ]
     },
     "metadata": {},
     "output_type": "display_data"
    },
    {
     "name": "stderr",
     "output_type": "stream",
     "text": [
      "10:32:26 - cmdstanpy - INFO - Chain [1] start processing\n",
      "10:32:26 - cmdstanpy - INFO - Chain [1] done processing\n",
      "10:32:27 - cmdstanpy - INFO - Chain [1] start processing\n",
      "10:32:27 - cmdstanpy - INFO - Chain [1] done processing\n",
      "10:32:28 - cmdstanpy - INFO - Chain [1] start processing\n",
      "10:32:28 - cmdstanpy - INFO - Chain [1] done processing\n",
      "10:32:29 - cmdstanpy - INFO - Chain [1] start processing\n",
      "10:32:29 - cmdstanpy - INFO - Chain [1] done processing\n",
      "10:32:30 - cmdstanpy - INFO - Chain [1] start processing\n",
      "10:32:30 - cmdstanpy - INFO - Chain [1] done processing\n",
      "10:32:30 - cmdstanpy - INFO - Chain [1] start processing\n",
      "10:32:30 - cmdstanpy - INFO - Chain [1] done processing\n",
      "10:32:31 - cmdstanpy - INFO - Chain [1] start processing\n",
      "10:32:31 - cmdstanpy - INFO - Chain [1] done processing\n",
      "10:32:32 - cmdstanpy - INFO - Chain [1] start processing\n",
      "10:32:32 - cmdstanpy - INFO - Chain [1] done processing\n",
      "10:32:33 - cmdstanpy - INFO - Chain [1] start processing\n",
      "10:32:33 - cmdstanpy - INFO - Chain [1] done processing\n",
      "10:32:33 - cmdstanpy - INFO - Chain [1] start processing\n",
      "10:32:34 - cmdstanpy - INFO - Chain [1] done processing\n",
      "10:32:34 - cmdstanpy - INFO - Chain [1] start processing\n",
      "10:32:34 - cmdstanpy - INFO - Chain [1] done processing\n",
      "10:32:35 - cmdstanpy - INFO - Chain [1] start processing\n",
      "10:32:35 - cmdstanpy - INFO - Chain [1] done processing\n"
     ]
    },
    {
     "data": {
      "application/vnd.jupyter.widget-view+json": {
       "model_id": "81e988ddeb1147e99ca8c984e5b6dd98",
       "version_major": 2,
       "version_minor": 0
      },
      "text/plain": [
       "  0%|          | 0/11 [00:00<?, ?it/s]"
      ]
     },
     "metadata": {},
     "output_type": "display_data"
    },
    {
     "name": "stderr",
     "output_type": "stream",
     "text": [
      "10:32:35 - cmdstanpy - INFO - Chain [1] start processing\n",
      "10:32:35 - cmdstanpy - INFO - Chain [1] done processing\n",
      "10:32:36 - cmdstanpy - INFO - Chain [1] start processing\n",
      "10:32:36 - cmdstanpy - INFO - Chain [1] done processing\n",
      "10:32:37 - cmdstanpy - INFO - Chain [1] start processing\n",
      "10:32:37 - cmdstanpy - INFO - Chain [1] done processing\n",
      "10:32:38 - cmdstanpy - INFO - Chain [1] start processing\n",
      "10:32:38 - cmdstanpy - INFO - Chain [1] done processing\n",
      "10:32:39 - cmdstanpy - INFO - Chain [1] start processing\n",
      "10:32:39 - cmdstanpy - INFO - Chain [1] done processing\n",
      "10:32:39 - cmdstanpy - INFO - Chain [1] start processing\n",
      "10:32:39 - cmdstanpy - INFO - Chain [1] done processing\n",
      "10:32:40 - cmdstanpy - INFO - Chain [1] start processing\n",
      "10:32:40 - cmdstanpy - INFO - Chain [1] done processing\n",
      "10:32:41 - cmdstanpy - INFO - Chain [1] start processing\n",
      "10:32:41 - cmdstanpy - INFO - Chain [1] done processing\n",
      "10:32:42 - cmdstanpy - INFO - Chain [1] start processing\n",
      "10:32:42 - cmdstanpy - INFO - Chain [1] done processing\n",
      "10:32:43 - cmdstanpy - INFO - Chain [1] start processing\n",
      "10:32:43 - cmdstanpy - INFO - Chain [1] done processing\n",
      "10:32:43 - cmdstanpy - INFO - Chain [1] start processing\n",
      "10:32:43 - cmdstanpy - INFO - Chain [1] done processing\n",
      "10:32:44 - cmdstanpy - INFO - Chain [1] start processing\n",
      "10:32:44 - cmdstanpy - INFO - Chain [1] done processing\n"
     ]
    },
    {
     "data": {
      "application/vnd.jupyter.widget-view+json": {
       "model_id": "0fb1b0f70d7f4cf0a359942c42b13a8c",
       "version_major": 2,
       "version_minor": 0
      },
      "text/plain": [
       "  0%|          | 0/11 [00:00<?, ?it/s]"
      ]
     },
     "metadata": {},
     "output_type": "display_data"
    },
    {
     "name": "stderr",
     "output_type": "stream",
     "text": [
      "10:32:44 - cmdstanpy - INFO - Chain [1] start processing\n",
      "10:32:44 - cmdstanpy - INFO - Chain [1] done processing\n",
      "10:32:45 - cmdstanpy - INFO - Chain [1] start processing\n",
      "10:32:45 - cmdstanpy - INFO - Chain [1] done processing\n",
      "10:32:46 - cmdstanpy - INFO - Chain [1] start processing\n",
      "10:32:46 - cmdstanpy - INFO - Chain [1] done processing\n",
      "10:32:47 - cmdstanpy - INFO - Chain [1] start processing\n",
      "10:32:47 - cmdstanpy - INFO - Chain [1] done processing\n",
      "10:32:48 - cmdstanpy - INFO - Chain [1] start processing\n",
      "10:32:48 - cmdstanpy - INFO - Chain [1] done processing\n",
      "10:32:48 - cmdstanpy - INFO - Chain [1] start processing\n",
      "10:32:48 - cmdstanpy - INFO - Chain [1] done processing\n",
      "10:32:49 - cmdstanpy - INFO - Chain [1] start processing\n",
      "10:32:49 - cmdstanpy - INFO - Chain [1] done processing\n",
      "10:32:50 - cmdstanpy - INFO - Chain [1] start processing\n",
      "10:32:50 - cmdstanpy - INFO - Chain [1] done processing\n",
      "10:32:51 - cmdstanpy - INFO - Chain [1] start processing\n",
      "10:32:51 - cmdstanpy - INFO - Chain [1] done processing\n",
      "10:32:52 - cmdstanpy - INFO - Chain [1] start processing\n",
      "10:32:52 - cmdstanpy - INFO - Chain [1] done processing\n",
      "10:32:52 - cmdstanpy - INFO - Chain [1] start processing\n",
      "10:32:52 - cmdstanpy - INFO - Chain [1] done processing\n",
      "10:32:53 - cmdstanpy - INFO - Chain [1] start processing\n",
      "10:32:53 - cmdstanpy - INFO - Chain [1] done processing\n"
     ]
    },
    {
     "data": {
      "application/vnd.jupyter.widget-view+json": {
       "model_id": "eea52b06af684475b0ef4d3479433167",
       "version_major": 2,
       "version_minor": 0
      },
      "text/plain": [
       "  0%|          | 0/11 [00:00<?, ?it/s]"
      ]
     },
     "metadata": {},
     "output_type": "display_data"
    },
    {
     "name": "stderr",
     "output_type": "stream",
     "text": [
      "10:32:54 - cmdstanpy - INFO - Chain [1] start processing\n",
      "10:32:54 - cmdstanpy - INFO - Chain [1] done processing\n",
      "10:32:54 - cmdstanpy - INFO - Chain [1] start processing\n",
      "10:32:54 - cmdstanpy - INFO - Chain [1] done processing\n",
      "10:32:55 - cmdstanpy - INFO - Chain [1] start processing\n",
      "10:32:55 - cmdstanpy - INFO - Chain [1] done processing\n",
      "10:32:56 - cmdstanpy - INFO - Chain [1] start processing\n",
      "10:32:56 - cmdstanpy - INFO - Chain [1] done processing\n",
      "10:32:57 - cmdstanpy - INFO - Chain [1] start processing\n",
      "10:32:57 - cmdstanpy - INFO - Chain [1] done processing\n",
      "10:32:58 - cmdstanpy - INFO - Chain [1] start processing\n",
      "10:32:58 - cmdstanpy - INFO - Chain [1] done processing\n",
      "10:32:58 - cmdstanpy - INFO - Chain [1] start processing\n",
      "10:32:58 - cmdstanpy - INFO - Chain [1] done processing\n",
      "10:32:59 - cmdstanpy - INFO - Chain [1] start processing\n",
      "10:32:59 - cmdstanpy - INFO - Chain [1] done processing\n",
      "10:33:00 - cmdstanpy - INFO - Chain [1] start processing\n",
      "10:33:00 - cmdstanpy - INFO - Chain [1] done processing\n",
      "10:33:01 - cmdstanpy - INFO - Chain [1] start processing\n",
      "10:33:01 - cmdstanpy - INFO - Chain [1] done processing\n",
      "10:33:02 - cmdstanpy - INFO - Chain [1] start processing\n",
      "10:33:02 - cmdstanpy - INFO - Chain [1] done processing\n",
      "10:33:02 - cmdstanpy - INFO - Chain [1] start processing\n",
      "10:33:03 - cmdstanpy - INFO - Chain [1] done processing\n"
     ]
    },
    {
     "data": {
      "application/vnd.jupyter.widget-view+json": {
       "model_id": "7dc21121b60d46efaf7767b9c5818cd0",
       "version_major": 2,
       "version_minor": 0
      },
      "text/plain": [
       "  0%|          | 0/11 [00:00<?, ?it/s]"
      ]
     },
     "metadata": {},
     "output_type": "display_data"
    },
    {
     "name": "stderr",
     "output_type": "stream",
     "text": [
      "10:33:03 - cmdstanpy - INFO - Chain [1] start processing\n",
      "10:33:03 - cmdstanpy - INFO - Chain [1] done processing\n",
      "10:33:04 - cmdstanpy - INFO - Chain [1] start processing\n",
      "10:33:04 - cmdstanpy - INFO - Chain [1] done processing\n",
      "10:33:04 - cmdstanpy - INFO - Chain [1] start processing\n",
      "10:33:04 - cmdstanpy - INFO - Chain [1] done processing\n",
      "10:33:05 - cmdstanpy - INFO - Chain [1] start processing\n",
      "10:33:05 - cmdstanpy - INFO - Chain [1] done processing\n",
      "10:33:06 - cmdstanpy - INFO - Chain [1] start processing\n",
      "10:33:06 - cmdstanpy - INFO - Chain [1] done processing\n",
      "10:33:07 - cmdstanpy - INFO - Chain [1] start processing\n",
      "10:33:07 - cmdstanpy - INFO - Chain [1] done processing\n",
      "10:33:08 - cmdstanpy - INFO - Chain [1] start processing\n",
      "10:33:08 - cmdstanpy - INFO - Chain [1] done processing\n",
      "10:33:09 - cmdstanpy - INFO - Chain [1] start processing\n",
      "10:33:09 - cmdstanpy - INFO - Chain [1] done processing\n",
      "10:33:09 - cmdstanpy - INFO - Chain [1] start processing\n",
      "10:33:09 - cmdstanpy - INFO - Chain [1] done processing\n",
      "10:33:10 - cmdstanpy - INFO - Chain [1] start processing\n",
      "10:33:10 - cmdstanpy - INFO - Chain [1] done processing\n",
      "10:33:11 - cmdstanpy - INFO - Chain [1] start processing\n",
      "10:33:11 - cmdstanpy - INFO - Chain [1] done processing\n",
      "10:33:12 - cmdstanpy - INFO - Chain [1] start processing\n",
      "10:33:12 - cmdstanpy - INFO - Chain [1] done processing\n"
     ]
    },
    {
     "data": {
      "application/vnd.jupyter.widget-view+json": {
       "model_id": "2544ab97ce2b473a83904cd1619202ae",
       "version_major": 2,
       "version_minor": 0
      },
      "text/plain": [
       "  0%|          | 0/11 [00:00<?, ?it/s]"
      ]
     },
     "metadata": {},
     "output_type": "display_data"
    },
    {
     "name": "stderr",
     "output_type": "stream",
     "text": [
      "10:33:12 - cmdstanpy - INFO - Chain [1] start processing\n",
      "10:33:12 - cmdstanpy - INFO - Chain [1] done processing\n",
      "10:33:13 - cmdstanpy - INFO - Chain [1] start processing\n",
      "10:33:13 - cmdstanpy - INFO - Chain [1] done processing\n",
      "10:33:14 - cmdstanpy - INFO - Chain [1] start processing\n",
      "10:33:14 - cmdstanpy - INFO - Chain [1] done processing\n",
      "10:33:15 - cmdstanpy - INFO - Chain [1] start processing\n",
      "10:33:15 - cmdstanpy - INFO - Chain [1] done processing\n",
      "10:33:15 - cmdstanpy - INFO - Chain [1] start processing\n",
      "10:33:15 - cmdstanpy - INFO - Chain [1] done processing\n",
      "10:33:16 - cmdstanpy - INFO - Chain [1] start processing\n",
      "10:33:16 - cmdstanpy - INFO - Chain [1] done processing\n",
      "10:33:17 - cmdstanpy - INFO - Chain [1] start processing\n",
      "10:33:17 - cmdstanpy - INFO - Chain [1] done processing\n",
      "10:33:18 - cmdstanpy - INFO - Chain [1] start processing\n",
      "10:33:18 - cmdstanpy - INFO - Chain [1] done processing\n",
      "10:33:19 - cmdstanpy - INFO - Chain [1] start processing\n",
      "10:33:19 - cmdstanpy - INFO - Chain [1] done processing\n",
      "10:33:19 - cmdstanpy - INFO - Chain [1] start processing\n",
      "10:33:20 - cmdstanpy - INFO - Chain [1] done processing\n",
      "10:33:22 - cmdstanpy - INFO - Chain [1] start processing\n",
      "10:33:22 - cmdstanpy - INFO - Chain [1] done processing\n",
      "10:33:23 - cmdstanpy - INFO - Chain [1] start processing\n",
      "10:33:23 - cmdstanpy - INFO - Chain [1] done processing\n"
     ]
    },
    {
     "data": {
      "application/vnd.jupyter.widget-view+json": {
       "model_id": "a570cb4d85674180a028ce0eab2f6420",
       "version_major": 2,
       "version_minor": 0
      },
      "text/plain": [
       "  0%|          | 0/11 [00:00<?, ?it/s]"
      ]
     },
     "metadata": {},
     "output_type": "display_data"
    },
    {
     "name": "stderr",
     "output_type": "stream",
     "text": [
      "10:33:23 - cmdstanpy - INFO - Chain [1] start processing\n",
      "10:33:23 - cmdstanpy - INFO - Chain [1] done processing\n",
      "10:33:24 - cmdstanpy - INFO - Chain [1] start processing\n",
      "10:33:24 - cmdstanpy - INFO - Chain [1] done processing\n",
      "10:33:25 - cmdstanpy - INFO - Chain [1] start processing\n",
      "10:33:25 - cmdstanpy - INFO - Chain [1] done processing\n",
      "10:33:25 - cmdstanpy - INFO - Chain [1] start processing\n",
      "10:33:25 - cmdstanpy - INFO - Chain [1] done processing\n",
      "10:33:26 - cmdstanpy - INFO - Chain [1] start processing\n",
      "10:33:26 - cmdstanpy - INFO - Chain [1] done processing\n",
      "10:33:27 - cmdstanpy - INFO - Chain [1] start processing\n",
      "10:33:27 - cmdstanpy - INFO - Chain [1] done processing\n",
      "10:33:28 - cmdstanpy - INFO - Chain [1] start processing\n",
      "10:33:28 - cmdstanpy - INFO - Chain [1] done processing\n",
      "10:33:29 - cmdstanpy - INFO - Chain [1] start processing\n",
      "10:33:29 - cmdstanpy - INFO - Chain [1] done processing\n",
      "10:33:29 - cmdstanpy - INFO - Chain [1] start processing\n",
      "10:33:29 - cmdstanpy - INFO - Chain [1] done processing\n",
      "10:33:30 - cmdstanpy - INFO - Chain [1] start processing\n",
      "10:33:30 - cmdstanpy - INFO - Chain [1] done processing\n",
      "10:33:31 - cmdstanpy - INFO - Chain [1] start processing\n",
      "10:33:31 - cmdstanpy - INFO - Chain [1] done processing\n",
      "10:33:32 - cmdstanpy - INFO - Chain [1] start processing\n",
      "10:33:32 - cmdstanpy - INFO - Chain [1] done processing\n"
     ]
    },
    {
     "data": {
      "application/vnd.jupyter.widget-view+json": {
       "model_id": "aaec95ef54fd4df7941bb67eff693004",
       "version_major": 2,
       "version_minor": 0
      },
      "text/plain": [
       "  0%|          | 0/11 [00:00<?, ?it/s]"
      ]
     },
     "metadata": {},
     "output_type": "display_data"
    },
    {
     "name": "stderr",
     "output_type": "stream",
     "text": [
      "10:33:32 - cmdstanpy - INFO - Chain [1] start processing\n",
      "10:33:32 - cmdstanpy - INFO - Chain [1] done processing\n",
      "10:33:33 - cmdstanpy - INFO - Chain [1] start processing\n",
      "10:33:33 - cmdstanpy - INFO - Chain [1] done processing\n",
      "10:33:34 - cmdstanpy - INFO - Chain [1] start processing\n",
      "10:33:34 - cmdstanpy - INFO - Chain [1] done processing\n",
      "10:33:35 - cmdstanpy - INFO - Chain [1] start processing\n",
      "10:33:35 - cmdstanpy - INFO - Chain [1] done processing\n",
      "10:33:36 - cmdstanpy - INFO - Chain [1] start processing\n",
      "10:33:36 - cmdstanpy - INFO - Chain [1] done processing\n",
      "10:33:36 - cmdstanpy - INFO - Chain [1] start processing\n",
      "10:33:37 - cmdstanpy - INFO - Chain [1] done processing\n",
      "10:33:37 - cmdstanpy - INFO - Chain [1] start processing\n",
      "10:33:37 - cmdstanpy - INFO - Chain [1] done processing\n",
      "10:33:38 - cmdstanpy - INFO - Chain [1] start processing\n",
      "10:33:38 - cmdstanpy - INFO - Chain [1] done processing\n",
      "10:33:39 - cmdstanpy - INFO - Chain [1] start processing\n",
      "10:33:39 - cmdstanpy - INFO - Chain [1] done processing\n",
      "10:33:40 - cmdstanpy - INFO - Chain [1] start processing\n",
      "10:33:40 - cmdstanpy - INFO - Chain [1] done processing\n",
      "10:33:41 - cmdstanpy - INFO - Chain [1] start processing\n",
      "10:33:41 - cmdstanpy - INFO - Chain [1] done processing\n",
      "10:33:42 - cmdstanpy - INFO - Chain [1] start processing\n",
      "10:33:42 - cmdstanpy - INFO - Chain [1] done processing\n"
     ]
    },
    {
     "data": {
      "application/vnd.jupyter.widget-view+json": {
       "model_id": "01ca61d4f4b541cca1bf2fb71774d583",
       "version_major": 2,
       "version_minor": 0
      },
      "text/plain": [
       "  0%|          | 0/11 [00:00<?, ?it/s]"
      ]
     },
     "metadata": {},
     "output_type": "display_data"
    },
    {
     "name": "stderr",
     "output_type": "stream",
     "text": [
      "10:33:42 - cmdstanpy - INFO - Chain [1] start processing\n",
      "10:33:42 - cmdstanpy - INFO - Chain [1] done processing\n",
      "10:33:43 - cmdstanpy - INFO - Chain [1] start processing\n",
      "10:33:43 - cmdstanpy - INFO - Chain [1] done processing\n",
      "10:33:44 - cmdstanpy - INFO - Chain [1] start processing\n",
      "10:33:44 - cmdstanpy - INFO - Chain [1] done processing\n",
      "10:33:45 - cmdstanpy - INFO - Chain [1] start processing\n",
      "10:33:45 - cmdstanpy - INFO - Chain [1] done processing\n",
      "10:33:46 - cmdstanpy - INFO - Chain [1] start processing\n",
      "10:33:46 - cmdstanpy - INFO - Chain [1] done processing\n",
      "10:33:47 - cmdstanpy - INFO - Chain [1] start processing\n",
      "10:33:47 - cmdstanpy - INFO - Chain [1] done processing\n",
      "10:33:47 - cmdstanpy - INFO - Chain [1] start processing\n",
      "10:33:47 - cmdstanpy - INFO - Chain [1] done processing\n",
      "10:33:48 - cmdstanpy - INFO - Chain [1] start processing\n",
      "10:33:48 - cmdstanpy - INFO - Chain [1] done processing\n",
      "10:33:49 - cmdstanpy - INFO - Chain [1] start processing\n",
      "10:33:49 - cmdstanpy - INFO - Chain [1] done processing\n",
      "10:33:50 - cmdstanpy - INFO - Chain [1] start processing\n",
      "10:33:50 - cmdstanpy - INFO - Chain [1] done processing\n",
      "10:33:51 - cmdstanpy - INFO - Chain [1] start processing\n",
      "10:33:51 - cmdstanpy - INFO - Chain [1] done processing\n",
      "10:33:52 - cmdstanpy - INFO - Chain [1] start processing\n",
      "10:33:52 - cmdstanpy - INFO - Chain [1] done processing\n"
     ]
    },
    {
     "data": {
      "application/vnd.jupyter.widget-view+json": {
       "model_id": "7dd6a2a1c312482a8551263581c881c5",
       "version_major": 2,
       "version_minor": 0
      },
      "text/plain": [
       "  0%|          | 0/11 [00:00<?, ?it/s]"
      ]
     },
     "metadata": {},
     "output_type": "display_data"
    },
    {
     "name": "stderr",
     "output_type": "stream",
     "text": [
      "10:33:52 - cmdstanpy - INFO - Chain [1] start processing\n",
      "10:33:52 - cmdstanpy - INFO - Chain [1] done processing\n",
      "10:33:53 - cmdstanpy - INFO - Chain [1] start processing\n",
      "10:33:53 - cmdstanpy - INFO - Chain [1] done processing\n",
      "10:33:54 - cmdstanpy - INFO - Chain [1] start processing\n",
      "10:33:54 - cmdstanpy - INFO - Chain [1] done processing\n",
      "10:33:55 - cmdstanpy - INFO - Chain [1] start processing\n",
      "10:33:55 - cmdstanpy - INFO - Chain [1] done processing\n",
      "10:33:56 - cmdstanpy - INFO - Chain [1] start processing\n",
      "10:33:56 - cmdstanpy - INFO - Chain [1] done processing\n",
      "10:33:56 - cmdstanpy - INFO - Chain [1] start processing\n",
      "10:33:57 - cmdstanpy - INFO - Chain [1] done processing\n",
      "10:33:57 - cmdstanpy - INFO - Chain [1] start processing\n",
      "10:33:57 - cmdstanpy - INFO - Chain [1] done processing\n",
      "10:33:58 - cmdstanpy - INFO - Chain [1] start processing\n",
      "10:33:58 - cmdstanpy - INFO - Chain [1] done processing\n",
      "10:33:59 - cmdstanpy - INFO - Chain [1] start processing\n",
      "10:33:59 - cmdstanpy - INFO - Chain [1] done processing\n",
      "10:34:00 - cmdstanpy - INFO - Chain [1] start processing\n",
      "10:34:00 - cmdstanpy - INFO - Chain [1] done processing\n",
      "10:34:01 - cmdstanpy - INFO - Chain [1] start processing\n",
      "10:34:01 - cmdstanpy - INFO - Chain [1] done processing\n",
      "10:34:02 - cmdstanpy - INFO - Chain [1] start processing\n",
      "10:34:02 - cmdstanpy - INFO - Chain [1] done processing\n"
     ]
    },
    {
     "data": {
      "application/vnd.jupyter.widget-view+json": {
       "model_id": "1b0c8bc5c7514b9caf2d5c9676ec4837",
       "version_major": 2,
       "version_minor": 0
      },
      "text/plain": [
       "  0%|          | 0/11 [00:00<?, ?it/s]"
      ]
     },
     "metadata": {},
     "output_type": "display_data"
    },
    {
     "name": "stderr",
     "output_type": "stream",
     "text": [
      "10:34:02 - cmdstanpy - INFO - Chain [1] start processing\n",
      "10:34:02 - cmdstanpy - INFO - Chain [1] done processing\n",
      "10:34:03 - cmdstanpy - INFO - Chain [1] start processing\n",
      "10:34:03 - cmdstanpy - INFO - Chain [1] done processing\n",
      "10:34:04 - cmdstanpy - INFO - Chain [1] start processing\n",
      "10:34:04 - cmdstanpy - INFO - Chain [1] done processing\n",
      "10:34:05 - cmdstanpy - INFO - Chain [1] start processing\n",
      "10:34:05 - cmdstanpy - INFO - Chain [1] done processing\n",
      "10:34:06 - cmdstanpy - INFO - Chain [1] start processing\n",
      "10:34:06 - cmdstanpy - INFO - Chain [1] done processing\n",
      "10:34:06 - cmdstanpy - INFO - Chain [1] start processing\n",
      "10:34:06 - cmdstanpy - INFO - Chain [1] done processing\n",
      "10:34:07 - cmdstanpy - INFO - Chain [1] start processing\n",
      "10:34:07 - cmdstanpy - INFO - Chain [1] done processing\n",
      "10:34:08 - cmdstanpy - INFO - Chain [1] start processing\n",
      "10:34:08 - cmdstanpy - INFO - Chain [1] done processing\n",
      "10:34:09 - cmdstanpy - INFO - Chain [1] start processing\n",
      "10:34:09 - cmdstanpy - INFO - Chain [1] done processing\n",
      "10:34:10 - cmdstanpy - INFO - Chain [1] start processing\n",
      "10:34:10 - cmdstanpy - INFO - Chain [1] done processing\n",
      "10:34:11 - cmdstanpy - INFO - Chain [1] start processing\n",
      "10:34:11 - cmdstanpy - INFO - Chain [1] done processing\n",
      "10:34:12 - cmdstanpy - INFO - Chain [1] start processing\n",
      "10:34:12 - cmdstanpy - INFO - Chain [1] done processing\n"
     ]
    },
    {
     "data": {
      "application/vnd.jupyter.widget-view+json": {
       "model_id": "4b2935851f6b41399008c0545dc1003b",
       "version_major": 2,
       "version_minor": 0
      },
      "text/plain": [
       "  0%|          | 0/11 [00:00<?, ?it/s]"
      ]
     },
     "metadata": {},
     "output_type": "display_data"
    },
    {
     "name": "stderr",
     "output_type": "stream",
     "text": [
      "10:34:12 - cmdstanpy - INFO - Chain [1] start processing\n",
      "10:34:12 - cmdstanpy - INFO - Chain [1] done processing\n",
      "10:34:13 - cmdstanpy - INFO - Chain [1] start processing\n",
      "10:34:13 - cmdstanpy - INFO - Chain [1] done processing\n",
      "10:34:14 - cmdstanpy - INFO - Chain [1] start processing\n",
      "10:34:14 - cmdstanpy - INFO - Chain [1] done processing\n",
      "10:34:15 - cmdstanpy - INFO - Chain [1] start processing\n",
      "10:34:15 - cmdstanpy - INFO - Chain [1] done processing\n",
      "10:34:15 - cmdstanpy - INFO - Chain [1] start processing\n",
      "10:34:16 - cmdstanpy - INFO - Chain [1] done processing\n",
      "10:34:16 - cmdstanpy - INFO - Chain [1] start processing\n",
      "10:34:16 - cmdstanpy - INFO - Chain [1] done processing\n",
      "10:34:17 - cmdstanpy - INFO - Chain [1] start processing\n",
      "10:34:17 - cmdstanpy - INFO - Chain [1] done processing\n",
      "10:34:18 - cmdstanpy - INFO - Chain [1] start processing\n",
      "10:34:18 - cmdstanpy - INFO - Chain [1] done processing\n",
      "10:34:19 - cmdstanpy - INFO - Chain [1] start processing\n",
      "10:34:19 - cmdstanpy - INFO - Chain [1] done processing\n",
      "10:34:20 - cmdstanpy - INFO - Chain [1] start processing\n",
      "10:34:20 - cmdstanpy - INFO - Chain [1] done processing\n",
      "10:34:21 - cmdstanpy - INFO - Chain [1] start processing\n",
      "10:34:21 - cmdstanpy - INFO - Chain [1] done processing\n",
      "10:34:22 - cmdstanpy - INFO - Chain [1] start processing\n",
      "10:34:22 - cmdstanpy - INFO - Chain [1] done processing\n"
     ]
    },
    {
     "data": {
      "application/vnd.jupyter.widget-view+json": {
       "model_id": "16b08434acee4a8db4615a3469acdb69",
       "version_major": 2,
       "version_minor": 0
      },
      "text/plain": [
       "  0%|          | 0/11 [00:00<?, ?it/s]"
      ]
     },
     "metadata": {},
     "output_type": "display_data"
    },
    {
     "name": "stderr",
     "output_type": "stream",
     "text": [
      "10:34:22 - cmdstanpy - INFO - Chain [1] start processing\n",
      "10:34:22 - cmdstanpy - INFO - Chain [1] done processing\n",
      "10:34:23 - cmdstanpy - INFO - Chain [1] start processing\n",
      "10:34:23 - cmdstanpy - INFO - Chain [1] done processing\n",
      "10:34:24 - cmdstanpy - INFO - Chain [1] start processing\n",
      "10:34:24 - cmdstanpy - INFO - Chain [1] done processing\n",
      "10:34:24 - cmdstanpy - INFO - Chain [1] start processing\n",
      "10:34:24 - cmdstanpy - INFO - Chain [1] done processing\n",
      "10:34:25 - cmdstanpy - INFO - Chain [1] start processing\n",
      "10:34:25 - cmdstanpy - INFO - Chain [1] done processing\n",
      "10:34:26 - cmdstanpy - INFO - Chain [1] start processing\n",
      "10:34:26 - cmdstanpy - INFO - Chain [1] done processing\n",
      "10:34:27 - cmdstanpy - INFO - Chain [1] start processing\n",
      "10:34:27 - cmdstanpy - INFO - Chain [1] done processing\n",
      "10:34:28 - cmdstanpy - INFO - Chain [1] start processing\n",
      "10:34:28 - cmdstanpy - INFO - Chain [1] done processing\n",
      "10:34:29 - cmdstanpy - INFO - Chain [1] start processing\n",
      "10:34:29 - cmdstanpy - INFO - Chain [1] done processing\n",
      "10:34:30 - cmdstanpy - INFO - Chain [1] start processing\n",
      "10:34:30 - cmdstanpy - INFO - Chain [1] done processing\n",
      "10:34:31 - cmdstanpy - INFO - Chain [1] start processing\n",
      "10:34:31 - cmdstanpy - INFO - Chain [1] done processing\n",
      "10:34:32 - cmdstanpy - INFO - Chain [1] start processing\n",
      "10:34:32 - cmdstanpy - INFO - Chain [1] done processing\n"
     ]
    },
    {
     "data": {
      "application/vnd.jupyter.widget-view+json": {
       "model_id": "97740642938d4d088868cd7b44d9c31b",
       "version_major": 2,
       "version_minor": 0
      },
      "text/plain": [
       "  0%|          | 0/11 [00:00<?, ?it/s]"
      ]
     },
     "metadata": {},
     "output_type": "display_data"
    },
    {
     "name": "stderr",
     "output_type": "stream",
     "text": [
      "10:34:32 - cmdstanpy - INFO - Chain [1] start processing\n",
      "10:34:32 - cmdstanpy - INFO - Chain [1] done processing\n",
      "10:34:33 - cmdstanpy - INFO - Chain [1] start processing\n",
      "10:34:33 - cmdstanpy - INFO - Chain [1] done processing\n",
      "10:34:33 - cmdstanpy - INFO - Chain [1] start processing\n",
      "10:34:33 - cmdstanpy - INFO - Chain [1] done processing\n",
      "10:34:34 - cmdstanpy - INFO - Chain [1] start processing\n",
      "10:34:34 - cmdstanpy - INFO - Chain [1] done processing\n",
      "10:34:35 - cmdstanpy - INFO - Chain [1] start processing\n",
      "10:34:35 - cmdstanpy - INFO - Chain [1] done processing\n",
      "10:34:36 - cmdstanpy - INFO - Chain [1] start processing\n",
      "10:34:36 - cmdstanpy - INFO - Chain [1] done processing\n",
      "10:34:39 - cmdstanpy - INFO - Chain [1] start processing\n",
      "10:34:39 - cmdstanpy - INFO - Chain [1] done processing\n",
      "10:34:40 - cmdstanpy - INFO - Chain [1] start processing\n",
      "10:34:40 - cmdstanpy - INFO - Chain [1] done processing\n",
      "10:34:41 - cmdstanpy - INFO - Chain [1] start processing\n",
      "10:34:41 - cmdstanpy - INFO - Chain [1] done processing\n",
      "10:34:42 - cmdstanpy - INFO - Chain [1] start processing\n",
      "10:34:42 - cmdstanpy - INFO - Chain [1] done processing\n",
      "10:34:43 - cmdstanpy - INFO - Chain [1] start processing\n",
      "10:34:43 - cmdstanpy - INFO - Chain [1] done processing\n",
      "10:34:44 - cmdstanpy - INFO - Chain [1] start processing\n",
      "10:34:44 - cmdstanpy - INFO - Chain [1] done processing\n"
     ]
    },
    {
     "data": {
      "application/vnd.jupyter.widget-view+json": {
       "model_id": "93f5370e8b0e47cfacfb482db91016c1",
       "version_major": 2,
       "version_minor": 0
      },
      "text/plain": [
       "  0%|          | 0/11 [00:00<?, ?it/s]"
      ]
     },
     "metadata": {},
     "output_type": "display_data"
    },
    {
     "name": "stderr",
     "output_type": "stream",
     "text": [
      "10:34:44 - cmdstanpy - INFO - Chain [1] start processing\n",
      "10:34:44 - cmdstanpy - INFO - Chain [1] done processing\n",
      "10:34:45 - cmdstanpy - INFO - Chain [1] start processing\n",
      "10:34:45 - cmdstanpy - INFO - Chain [1] done processing\n",
      "10:34:46 - cmdstanpy - INFO - Chain [1] start processing\n",
      "10:34:46 - cmdstanpy - INFO - Chain [1] done processing\n",
      "10:34:47 - cmdstanpy - INFO - Chain [1] start processing\n",
      "10:34:47 - cmdstanpy - INFO - Chain [1] done processing\n",
      "10:34:47 - cmdstanpy - INFO - Chain [1] start processing\n",
      "10:34:47 - cmdstanpy - INFO - Chain [1] done processing\n",
      "10:34:48 - cmdstanpy - INFO - Chain [1] start processing\n",
      "10:34:48 - cmdstanpy - INFO - Chain [1] done processing\n",
      "10:34:49 - cmdstanpy - INFO - Chain [1] start processing\n",
      "10:34:49 - cmdstanpy - INFO - Chain [1] done processing\n",
      "10:34:50 - cmdstanpy - INFO - Chain [1] start processing\n",
      "10:34:50 - cmdstanpy - INFO - Chain [1] done processing\n",
      "10:34:51 - cmdstanpy - INFO - Chain [1] start processing\n",
      "10:34:51 - cmdstanpy - INFO - Chain [1] done processing\n",
      "10:34:52 - cmdstanpy - INFO - Chain [1] start processing\n",
      "10:34:52 - cmdstanpy - INFO - Chain [1] done processing\n",
      "10:34:53 - cmdstanpy - INFO - Chain [1] start processing\n",
      "10:34:53 - cmdstanpy - INFO - Chain [1] done processing\n",
      "10:34:54 - cmdstanpy - INFO - Chain [1] start processing\n",
      "10:34:54 - cmdstanpy - INFO - Chain [1] done processing\n"
     ]
    },
    {
     "data": {
      "application/vnd.jupyter.widget-view+json": {
       "model_id": "1c1b7f726d904654880c88c68d903432",
       "version_major": 2,
       "version_minor": 0
      },
      "text/plain": [
       "  0%|          | 0/11 [00:00<?, ?it/s]"
      ]
     },
     "metadata": {},
     "output_type": "display_data"
    },
    {
     "name": "stderr",
     "output_type": "stream",
     "text": [
      "10:34:54 - cmdstanpy - INFO - Chain [1] start processing\n",
      "10:34:54 - cmdstanpy - INFO - Chain [1] done processing\n",
      "10:34:55 - cmdstanpy - INFO - Chain [1] start processing\n",
      "10:34:55 - cmdstanpy - INFO - Chain [1] done processing\n",
      "10:34:56 - cmdstanpy - INFO - Chain [1] start processing\n",
      "10:34:56 - cmdstanpy - INFO - Chain [1] done processing\n",
      "10:34:57 - cmdstanpy - INFO - Chain [1] start processing\n",
      "10:34:57 - cmdstanpy - INFO - Chain [1] done processing\n",
      "10:34:57 - cmdstanpy - INFO - Chain [1] start processing\n",
      "10:34:57 - cmdstanpy - INFO - Chain [1] done processing\n",
      "10:34:58 - cmdstanpy - INFO - Chain [1] start processing\n",
      "10:34:58 - cmdstanpy - INFO - Chain [1] done processing\n",
      "10:34:59 - cmdstanpy - INFO - Chain [1] start processing\n",
      "10:34:59 - cmdstanpy - INFO - Chain [1] done processing\n",
      "10:35:00 - cmdstanpy - INFO - Chain [1] start processing\n",
      "10:35:00 - cmdstanpy - INFO - Chain [1] done processing\n",
      "10:35:01 - cmdstanpy - INFO - Chain [1] start processing\n",
      "10:35:01 - cmdstanpy - INFO - Chain [1] done processing\n",
      "10:35:02 - cmdstanpy - INFO - Chain [1] start processing\n",
      "10:35:02 - cmdstanpy - INFO - Chain [1] done processing\n",
      "10:35:03 - cmdstanpy - INFO - Chain [1] start processing\n",
      "10:35:03 - cmdstanpy - INFO - Chain [1] done processing\n",
      "10:35:04 - cmdstanpy - INFO - Chain [1] start processing\n",
      "10:35:04 - cmdstanpy - INFO - Chain [1] done processing\n"
     ]
    },
    {
     "data": {
      "application/vnd.jupyter.widget-view+json": {
       "model_id": "bc41db5a45a6438084a9292b0834d43d",
       "version_major": 2,
       "version_minor": 0
      },
      "text/plain": [
       "  0%|          | 0/11 [00:00<?, ?it/s]"
      ]
     },
     "metadata": {},
     "output_type": "display_data"
    },
    {
     "name": "stderr",
     "output_type": "stream",
     "text": [
      "10:35:04 - cmdstanpy - INFO - Chain [1] start processing\n",
      "10:35:04 - cmdstanpy - INFO - Chain [1] done processing\n",
      "10:35:05 - cmdstanpy - INFO - Chain [1] start processing\n",
      "10:35:05 - cmdstanpy - INFO - Chain [1] done processing\n",
      "10:35:06 - cmdstanpy - INFO - Chain [1] start processing\n",
      "10:35:06 - cmdstanpy - INFO - Chain [1] done processing\n",
      "10:35:07 - cmdstanpy - INFO - Chain [1] start processing\n",
      "10:35:07 - cmdstanpy - INFO - Chain [1] done processing\n",
      "10:35:08 - cmdstanpy - INFO - Chain [1] start processing\n",
      "10:35:08 - cmdstanpy - INFO - Chain [1] done processing\n",
      "10:35:09 - cmdstanpy - INFO - Chain [1] start processing\n",
      "10:35:09 - cmdstanpy - INFO - Chain [1] done processing\n",
      "10:35:09 - cmdstanpy - INFO - Chain [1] start processing\n",
      "10:35:09 - cmdstanpy - INFO - Chain [1] done processing\n",
      "10:35:10 - cmdstanpy - INFO - Chain [1] start processing\n",
      "10:35:10 - cmdstanpy - INFO - Chain [1] done processing\n",
      "10:35:11 - cmdstanpy - INFO - Chain [1] start processing\n",
      "10:35:11 - cmdstanpy - INFO - Chain [1] done processing\n",
      "10:35:12 - cmdstanpy - INFO - Chain [1] start processing\n",
      "10:35:12 - cmdstanpy - INFO - Chain [1] done processing\n",
      "10:35:13 - cmdstanpy - INFO - Chain [1] start processing\n",
      "10:35:13 - cmdstanpy - INFO - Chain [1] done processing\n",
      "10:35:14 - cmdstanpy - INFO - Chain [1] start processing\n",
      "10:35:14 - cmdstanpy - INFO - Chain [1] done processing\n"
     ]
    },
    {
     "data": {
      "application/vnd.jupyter.widget-view+json": {
       "model_id": "81bfeecb1c034e728c2f79f0784b10e6",
       "version_major": 2,
       "version_minor": 0
      },
      "text/plain": [
       "  0%|          | 0/11 [00:00<?, ?it/s]"
      ]
     },
     "metadata": {},
     "output_type": "display_data"
    },
    {
     "name": "stderr",
     "output_type": "stream",
     "text": [
      "10:35:15 - cmdstanpy - INFO - Chain [1] start processing\n",
      "10:35:15 - cmdstanpy - INFO - Chain [1] done processing\n",
      "10:35:15 - cmdstanpy - INFO - Chain [1] start processing\n",
      "10:35:15 - cmdstanpy - INFO - Chain [1] done processing\n",
      "10:35:16 - cmdstanpy - INFO - Chain [1] start processing\n",
      "10:35:16 - cmdstanpy - INFO - Chain [1] done processing\n",
      "10:35:17 - cmdstanpy - INFO - Chain [1] start processing\n",
      "10:35:17 - cmdstanpy - INFO - Chain [1] done processing\n",
      "10:35:18 - cmdstanpy - INFO - Chain [1] start processing\n",
      "10:35:18 - cmdstanpy - INFO - Chain [1] done processing\n",
      "10:35:19 - cmdstanpy - INFO - Chain [1] start processing\n",
      "10:35:19 - cmdstanpy - INFO - Chain [1] done processing\n",
      "10:35:19 - cmdstanpy - INFO - Chain [1] start processing\n",
      "10:35:20 - cmdstanpy - INFO - Chain [1] done processing\n",
      "10:35:20 - cmdstanpy - INFO - Chain [1] start processing\n",
      "10:35:20 - cmdstanpy - INFO - Chain [1] done processing\n",
      "10:35:21 - cmdstanpy - INFO - Chain [1] start processing\n",
      "10:35:21 - cmdstanpy - INFO - Chain [1] done processing\n",
      "10:35:22 - cmdstanpy - INFO - Chain [1] start processing\n",
      "10:35:22 - cmdstanpy - INFO - Chain [1] done processing\n",
      "10:35:23 - cmdstanpy - INFO - Chain [1] start processing\n",
      "10:35:23 - cmdstanpy - INFO - Chain [1] done processing\n",
      "10:35:24 - cmdstanpy - INFO - Chain [1] start processing\n",
      "10:35:24 - cmdstanpy - INFO - Chain [1] done processing\n"
     ]
    },
    {
     "data": {
      "application/vnd.jupyter.widget-view+json": {
       "model_id": "2b613c615b1d4c96b8918584307159dc",
       "version_major": 2,
       "version_minor": 0
      },
      "text/plain": [
       "  0%|          | 0/11 [00:00<?, ?it/s]"
      ]
     },
     "metadata": {},
     "output_type": "display_data"
    },
    {
     "name": "stderr",
     "output_type": "stream",
     "text": [
      "10:35:24 - cmdstanpy - INFO - Chain [1] start processing\n",
      "10:35:25 - cmdstanpy - INFO - Chain [1] done processing\n",
      "10:35:25 - cmdstanpy - INFO - Chain [1] start processing\n",
      "10:35:25 - cmdstanpy - INFO - Chain [1] done processing\n",
      "10:35:26 - cmdstanpy - INFO - Chain [1] start processing\n",
      "10:35:26 - cmdstanpy - INFO - Chain [1] done processing\n",
      "10:35:27 - cmdstanpy - INFO - Chain [1] start processing\n",
      "10:35:27 - cmdstanpy - INFO - Chain [1] done processing\n",
      "10:35:28 - cmdstanpy - INFO - Chain [1] start processing\n",
      "10:35:28 - cmdstanpy - INFO - Chain [1] done processing\n",
      "10:35:29 - cmdstanpy - INFO - Chain [1] start processing\n",
      "10:35:29 - cmdstanpy - INFO - Chain [1] done processing\n",
      "10:35:29 - cmdstanpy - INFO - Chain [1] start processing\n",
      "10:35:30 - cmdstanpy - INFO - Chain [1] done processing\n",
      "10:35:30 - cmdstanpy - INFO - Chain [1] start processing\n",
      "10:35:30 - cmdstanpy - INFO - Chain [1] done processing\n",
      "10:35:31 - cmdstanpy - INFO - Chain [1] start processing\n",
      "10:35:31 - cmdstanpy - INFO - Chain [1] done processing\n",
      "10:35:32 - cmdstanpy - INFO - Chain [1] start processing\n",
      "10:35:32 - cmdstanpy - INFO - Chain [1] done processing\n",
      "10:35:33 - cmdstanpy - INFO - Chain [1] start processing\n",
      "10:35:33 - cmdstanpy - INFO - Chain [1] done processing\n",
      "10:35:34 - cmdstanpy - INFO - Chain [1] start processing\n",
      "10:35:34 - cmdstanpy - INFO - Chain [1] done processing\n"
     ]
    },
    {
     "data": {
      "application/vnd.jupyter.widget-view+json": {
       "model_id": "d55ff496da2848e191cea4bd94edc1e3",
       "version_major": 2,
       "version_minor": 0
      },
      "text/plain": [
       "  0%|          | 0/11 [00:00<?, ?it/s]"
      ]
     },
     "metadata": {},
     "output_type": "display_data"
    },
    {
     "name": "stderr",
     "output_type": "stream",
     "text": [
      "10:35:34 - cmdstanpy - INFO - Chain [1] start processing\n",
      "10:35:34 - cmdstanpy - INFO - Chain [1] done processing\n",
      "10:35:35 - cmdstanpy - INFO - Chain [1] start processing\n",
      "10:35:35 - cmdstanpy - INFO - Chain [1] done processing\n",
      "10:35:36 - cmdstanpy - INFO - Chain [1] start processing\n",
      "10:35:36 - cmdstanpy - INFO - Chain [1] done processing\n",
      "10:35:37 - cmdstanpy - INFO - Chain [1] start processing\n",
      "10:35:37 - cmdstanpy - INFO - Chain [1] done processing\n",
      "10:35:38 - cmdstanpy - INFO - Chain [1] start processing\n",
      "10:35:38 - cmdstanpy - INFO - Chain [1] done processing\n",
      "10:35:39 - cmdstanpy - INFO - Chain [1] start processing\n",
      "10:35:39 - cmdstanpy - INFO - Chain [1] done processing\n",
      "10:35:39 - cmdstanpy - INFO - Chain [1] start processing\n",
      "10:35:40 - cmdstanpy - INFO - Chain [1] done processing\n",
      "10:35:40 - cmdstanpy - INFO - Chain [1] start processing\n",
      "10:35:40 - cmdstanpy - INFO - Chain [1] done processing\n",
      "10:35:41 - cmdstanpy - INFO - Chain [1] start processing\n",
      "10:35:41 - cmdstanpy - INFO - Chain [1] done processing\n",
      "10:35:42 - cmdstanpy - INFO - Chain [1] start processing\n",
      "10:35:42 - cmdstanpy - INFO - Chain [1] done processing\n",
      "10:35:43 - cmdstanpy - INFO - Chain [1] start processing\n",
      "10:35:43 - cmdstanpy - INFO - Chain [1] done processing\n",
      "10:35:44 - cmdstanpy - INFO - Chain [1] start processing\n",
      "10:35:44 - cmdstanpy - INFO - Chain [1] done processing\n"
     ]
    },
    {
     "data": {
      "application/vnd.jupyter.widget-view+json": {
       "model_id": "f7259aced5b5401e85b34e7bd7ae2495",
       "version_major": 2,
       "version_minor": 0
      },
      "text/plain": [
       "  0%|          | 0/11 [00:00<?, ?it/s]"
      ]
     },
     "metadata": {},
     "output_type": "display_data"
    },
    {
     "name": "stderr",
     "output_type": "stream",
     "text": [
      "10:35:44 - cmdstanpy - INFO - Chain [1] start processing\n",
      "10:35:44 - cmdstanpy - INFO - Chain [1] done processing\n",
      "10:35:45 - cmdstanpy - INFO - Chain [1] start processing\n",
      "10:35:45 - cmdstanpy - INFO - Chain [1] done processing\n",
      "10:35:46 - cmdstanpy - INFO - Chain [1] start processing\n",
      "10:35:46 - cmdstanpy - INFO - Chain [1] done processing\n",
      "10:35:47 - cmdstanpy - INFO - Chain [1] start processing\n",
      "10:35:47 - cmdstanpy - INFO - Chain [1] done processing\n",
      "10:35:47 - cmdstanpy - INFO - Chain [1] start processing\n",
      "10:35:48 - cmdstanpy - INFO - Chain [1] done processing\n",
      "10:35:48 - cmdstanpy - INFO - Chain [1] start processing\n",
      "10:35:48 - cmdstanpy - INFO - Chain [1] done processing\n",
      "10:35:49 - cmdstanpy - INFO - Chain [1] start processing\n",
      "10:35:49 - cmdstanpy - INFO - Chain [1] done processing\n",
      "10:35:50 - cmdstanpy - INFO - Chain [1] start processing\n",
      "10:35:50 - cmdstanpy - INFO - Chain [1] done processing\n",
      "10:35:51 - cmdstanpy - INFO - Chain [1] start processing\n",
      "10:35:51 - cmdstanpy - INFO - Chain [1] done processing\n",
      "10:35:52 - cmdstanpy - INFO - Chain [1] start processing\n",
      "10:35:52 - cmdstanpy - INFO - Chain [1] done processing\n",
      "10:35:53 - cmdstanpy - INFO - Chain [1] start processing\n",
      "10:35:53 - cmdstanpy - INFO - Chain [1] done processing\n",
      "10:35:54 - cmdstanpy - INFO - Chain [1] start processing\n",
      "10:35:54 - cmdstanpy - INFO - Chain [1] done processing\n"
     ]
    },
    {
     "data": {
      "application/vnd.jupyter.widget-view+json": {
       "model_id": "3824a6edd9e14b85b3d57954799d7082",
       "version_major": 2,
       "version_minor": 0
      },
      "text/plain": [
       "  0%|          | 0/11 [00:00<?, ?it/s]"
      ]
     },
     "metadata": {},
     "output_type": "display_data"
    },
    {
     "name": "stderr",
     "output_type": "stream",
     "text": [
      "10:35:54 - cmdstanpy - INFO - Chain [1] start processing\n",
      "10:35:54 - cmdstanpy - INFO - Chain [1] done processing\n",
      "10:35:55 - cmdstanpy - INFO - Chain [1] start processing\n",
      "10:35:55 - cmdstanpy - INFO - Chain [1] done processing\n",
      "10:35:56 - cmdstanpy - INFO - Chain [1] start processing\n",
      "10:35:56 - cmdstanpy - INFO - Chain [1] done processing\n",
      "10:35:57 - cmdstanpy - INFO - Chain [1] start processing\n",
      "10:35:57 - cmdstanpy - INFO - Chain [1] done processing\n",
      "10:35:57 - cmdstanpy - INFO - Chain [1] start processing\n",
      "10:35:57 - cmdstanpy - INFO - Chain [1] done processing\n",
      "10:35:58 - cmdstanpy - INFO - Chain [1] start processing\n",
      "10:35:58 - cmdstanpy - INFO - Chain [1] done processing\n",
      "10:35:59 - cmdstanpy - INFO - Chain [1] start processing\n",
      "10:35:59 - cmdstanpy - INFO - Chain [1] done processing\n",
      "10:36:00 - cmdstanpy - INFO - Chain [1] start processing\n",
      "10:36:00 - cmdstanpy - INFO - Chain [1] done processing\n",
      "10:36:01 - cmdstanpy - INFO - Chain [1] start processing\n",
      "10:36:01 - cmdstanpy - INFO - Chain [1] done processing\n",
      "10:36:02 - cmdstanpy - INFO - Chain [1] start processing\n",
      "10:36:02 - cmdstanpy - INFO - Chain [1] done processing\n",
      "10:36:03 - cmdstanpy - INFO - Chain [1] start processing\n",
      "10:36:03 - cmdstanpy - INFO - Chain [1] done processing\n",
      "10:36:05 - cmdstanpy - INFO - Chain [1] start processing\n",
      "10:36:05 - cmdstanpy - INFO - Chain [1] done processing\n"
     ]
    },
    {
     "data": {
      "application/vnd.jupyter.widget-view+json": {
       "model_id": "0028e054e0044826a348a04fa28be12f",
       "version_major": 2,
       "version_minor": 0
      },
      "text/plain": [
       "  0%|          | 0/11 [00:00<?, ?it/s]"
      ]
     },
     "metadata": {},
     "output_type": "display_data"
    },
    {
     "name": "stderr",
     "output_type": "stream",
     "text": [
      "10:36:05 - cmdstanpy - INFO - Chain [1] start processing\n",
      "10:36:05 - cmdstanpy - INFO - Chain [1] done processing\n",
      "10:36:06 - cmdstanpy - INFO - Chain [1] start processing\n",
      "10:36:06 - cmdstanpy - INFO - Chain [1] done processing\n",
      "10:36:07 - cmdstanpy - INFO - Chain [1] start processing\n",
      "10:36:07 - cmdstanpy - INFO - Chain [1] done processing\n",
      "10:36:08 - cmdstanpy - INFO - Chain [1] start processing\n",
      "10:36:08 - cmdstanpy - INFO - Chain [1] done processing\n",
      "10:36:09 - cmdstanpy - INFO - Chain [1] start processing\n",
      "10:36:09 - cmdstanpy - INFO - Chain [1] done processing\n",
      "10:36:09 - cmdstanpy - INFO - Chain [1] start processing\n",
      "10:36:10 - cmdstanpy - INFO - Chain [1] done processing\n",
      "10:36:10 - cmdstanpy - INFO - Chain [1] start processing\n",
      "10:36:10 - cmdstanpy - INFO - Chain [1] done processing\n",
      "10:36:11 - cmdstanpy - INFO - Chain [1] start processing\n",
      "10:36:11 - cmdstanpy - INFO - Chain [1] done processing\n",
      "10:36:12 - cmdstanpy - INFO - Chain [1] start processing\n",
      "10:36:12 - cmdstanpy - INFO - Chain [1] done processing\n",
      "10:36:13 - cmdstanpy - INFO - Chain [1] start processing\n",
      "10:36:13 - cmdstanpy - INFO - Chain [1] done processing\n",
      "10:36:14 - cmdstanpy - INFO - Chain [1] start processing\n",
      "10:36:14 - cmdstanpy - INFO - Chain [1] done processing\n",
      "10:36:15 - cmdstanpy - INFO - Chain [1] start processing\n",
      "10:36:15 - cmdstanpy - INFO - Chain [1] done processing\n"
     ]
    },
    {
     "data": {
      "application/vnd.jupyter.widget-view+json": {
       "model_id": "0ff710a3bc1d41c3b869ca79d2051179",
       "version_major": 2,
       "version_minor": 0
      },
      "text/plain": [
       "  0%|          | 0/11 [00:00<?, ?it/s]"
      ]
     },
     "metadata": {},
     "output_type": "display_data"
    },
    {
     "name": "stderr",
     "output_type": "stream",
     "text": [
      "10:36:15 - cmdstanpy - INFO - Chain [1] start processing\n",
      "10:36:15 - cmdstanpy - INFO - Chain [1] done processing\n",
      "10:36:16 - cmdstanpy - INFO - Chain [1] start processing\n",
      "10:36:16 - cmdstanpy - INFO - Chain [1] done processing\n",
      "10:36:17 - cmdstanpy - INFO - Chain [1] start processing\n",
      "10:36:17 - cmdstanpy - INFO - Chain [1] done processing\n",
      "10:36:18 - cmdstanpy - INFO - Chain [1] start processing\n",
      "10:36:18 - cmdstanpy - INFO - Chain [1] done processing\n",
      "10:36:19 - cmdstanpy - INFO - Chain [1] start processing\n",
      "10:36:19 - cmdstanpy - INFO - Chain [1] done processing\n",
      "10:36:20 - cmdstanpy - INFO - Chain [1] start processing\n",
      "10:36:20 - cmdstanpy - INFO - Chain [1] done processing\n",
      "10:36:21 - cmdstanpy - INFO - Chain [1] start processing\n",
      "10:36:22 - cmdstanpy - INFO - Chain [1] done processing\n",
      "10:36:23 - cmdstanpy - INFO - Chain [1] start processing\n",
      "10:36:23 - cmdstanpy - INFO - Chain [1] done processing\n",
      "10:36:24 - cmdstanpy - INFO - Chain [1] start processing\n",
      "10:36:24 - cmdstanpy - INFO - Chain [1] done processing\n",
      "10:36:25 - cmdstanpy - INFO - Chain [1] start processing\n",
      "10:36:25 - cmdstanpy - INFO - Chain [1] done processing\n",
      "10:36:26 - cmdstanpy - INFO - Chain [1] start processing\n",
      "10:36:26 - cmdstanpy - INFO - Chain [1] done processing\n",
      "10:36:27 - cmdstanpy - INFO - Chain [1] start processing\n",
      "10:36:28 - cmdstanpy - INFO - Chain [1] done processing\n"
     ]
    },
    {
     "data": {
      "application/vnd.jupyter.widget-view+json": {
       "model_id": "42659d0c5dee42cdbe3a66963fd4c182",
       "version_major": 2,
       "version_minor": 0
      },
      "text/plain": [
       "  0%|          | 0/11 [00:00<?, ?it/s]"
      ]
     },
     "metadata": {},
     "output_type": "display_data"
    },
    {
     "name": "stderr",
     "output_type": "stream",
     "text": [
      "10:36:28 - cmdstanpy - INFO - Chain [1] start processing\n",
      "10:36:28 - cmdstanpy - INFO - Chain [1] done processing\n",
      "10:36:29 - cmdstanpy - INFO - Chain [1] start processing\n",
      "10:36:29 - cmdstanpy - INFO - Chain [1] done processing\n",
      "10:36:30 - cmdstanpy - INFO - Chain [1] start processing\n",
      "10:36:30 - cmdstanpy - INFO - Chain [1] done processing\n",
      "10:36:30 - cmdstanpy - INFO - Chain [1] start processing\n",
      "10:36:31 - cmdstanpy - INFO - Chain [1] done processing\n",
      "10:36:31 - cmdstanpy - INFO - Chain [1] start processing\n",
      "10:36:32 - cmdstanpy - INFO - Chain [1] done processing\n",
      "10:36:32 - cmdstanpy - INFO - Chain [1] start processing\n",
      "10:36:33 - cmdstanpy - INFO - Chain [1] done processing\n",
      "10:36:34 - cmdstanpy - INFO - Chain [1] start processing\n",
      "10:36:34 - cmdstanpy - INFO - Chain [1] done processing\n",
      "10:36:35 - cmdstanpy - INFO - Chain [1] start processing\n",
      "10:36:35 - cmdstanpy - INFO - Chain [1] done processing\n",
      "10:36:36 - cmdstanpy - INFO - Chain [1] start processing\n",
      "10:36:36 - cmdstanpy - INFO - Chain [1] done processing\n",
      "10:36:37 - cmdstanpy - INFO - Chain [1] start processing\n",
      "10:36:38 - cmdstanpy - INFO - Chain [1] done processing\n",
      "10:36:38 - cmdstanpy - INFO - Chain [1] start processing\n",
      "10:36:39 - cmdstanpy - INFO - Chain [1] done processing\n",
      "10:36:40 - cmdstanpy - INFO - Chain [1] start processing\n",
      "10:36:40 - cmdstanpy - INFO - Chain [1] done processing\n"
     ]
    },
    {
     "data": {
      "application/vnd.jupyter.widget-view+json": {
       "model_id": "0c39b7a60a7a4917be51d0ef525db708",
       "version_major": 2,
       "version_minor": 0
      },
      "text/plain": [
       "  0%|          | 0/11 [00:00<?, ?it/s]"
      ]
     },
     "metadata": {},
     "output_type": "display_data"
    },
    {
     "name": "stderr",
     "output_type": "stream",
     "text": [
      "10:36:40 - cmdstanpy - INFO - Chain [1] start processing\n",
      "10:36:40 - cmdstanpy - INFO - Chain [1] done processing\n",
      "10:36:41 - cmdstanpy - INFO - Chain [1] start processing\n",
      "10:36:41 - cmdstanpy - INFO - Chain [1] done processing\n",
      "10:36:42 - cmdstanpy - INFO - Chain [1] start processing\n",
      "10:36:42 - cmdstanpy - INFO - Chain [1] done processing\n",
      "10:36:43 - cmdstanpy - INFO - Chain [1] start processing\n",
      "10:36:43 - cmdstanpy - INFO - Chain [1] done processing\n",
      "10:36:44 - cmdstanpy - INFO - Chain [1] start processing\n",
      "10:36:44 - cmdstanpy - INFO - Chain [1] done processing\n",
      "10:36:46 - cmdstanpy - INFO - Chain [1] start processing\n",
      "10:36:47 - cmdstanpy - INFO - Chain [1] done processing\n",
      "10:36:49 - cmdstanpy - INFO - Chain [1] start processing\n",
      "10:36:49 - cmdstanpy - INFO - Chain [1] done processing\n",
      "10:36:50 - cmdstanpy - INFO - Chain [1] start processing\n",
      "10:36:51 - cmdstanpy - INFO - Chain [1] done processing\n",
      "10:36:51 - cmdstanpy - INFO - Chain [1] start processing\n",
      "10:36:52 - cmdstanpy - INFO - Chain [1] done processing\n",
      "10:36:53 - cmdstanpy - INFO - Chain [1] start processing\n",
      "10:36:53 - cmdstanpy - INFO - Chain [1] done processing\n",
      "10:36:55 - cmdstanpy - INFO - Chain [1] start processing\n",
      "10:36:55 - cmdstanpy - INFO - Chain [1] done processing\n",
      "10:36:56 - cmdstanpy - INFO - Chain [1] start processing\n",
      "10:36:56 - cmdstanpy - INFO - Chain [1] done processing\n"
     ]
    },
    {
     "data": {
      "application/vnd.jupyter.widget-view+json": {
       "model_id": "dde013f5612145ec93ba3935d46359d7",
       "version_major": 2,
       "version_minor": 0
      },
      "text/plain": [
       "  0%|          | 0/11 [00:00<?, ?it/s]"
      ]
     },
     "metadata": {},
     "output_type": "display_data"
    },
    {
     "name": "stderr",
     "output_type": "stream",
     "text": [
      "10:36:56 - cmdstanpy - INFO - Chain [1] start processing\n",
      "10:36:56 - cmdstanpy - INFO - Chain [1] done processing\n",
      "10:36:57 - cmdstanpy - INFO - Chain [1] start processing\n",
      "10:36:57 - cmdstanpy - INFO - Chain [1] done processing\n",
      "10:36:58 - cmdstanpy - INFO - Chain [1] start processing\n",
      "10:36:58 - cmdstanpy - INFO - Chain [1] done processing\n",
      "10:36:59 - cmdstanpy - INFO - Chain [1] start processing\n",
      "10:37:00 - cmdstanpy - INFO - Chain [1] done processing\n",
      "10:37:00 - cmdstanpy - INFO - Chain [1] start processing\n",
      "10:37:01 - cmdstanpy - INFO - Chain [1] done processing\n",
      "10:37:01 - cmdstanpy - INFO - Chain [1] start processing\n",
      "10:37:02 - cmdstanpy - INFO - Chain [1] done processing\n",
      "10:37:03 - cmdstanpy - INFO - Chain [1] start processing\n",
      "10:37:03 - cmdstanpy - INFO - Chain [1] done processing\n",
      "10:37:04 - cmdstanpy - INFO - Chain [1] start processing\n",
      "10:37:04 - cmdstanpy - INFO - Chain [1] done processing\n",
      "10:37:05 - cmdstanpy - INFO - Chain [1] start processing\n",
      "10:37:05 - cmdstanpy - INFO - Chain [1] done processing\n",
      "10:37:06 - cmdstanpy - INFO - Chain [1] start processing\n",
      "10:37:07 - cmdstanpy - INFO - Chain [1] done processing\n",
      "10:37:08 - cmdstanpy - INFO - Chain [1] start processing\n",
      "10:37:08 - cmdstanpy - INFO - Chain [1] done processing\n",
      "10:37:09 - cmdstanpy - INFO - Chain [1] start processing\n",
      "10:37:09 - cmdstanpy - INFO - Chain [1] done processing\n"
     ]
    },
    {
     "data": {
      "application/vnd.jupyter.widget-view+json": {
       "model_id": "fcf681969c6b4449973eab1146d9b4bd",
       "version_major": 2,
       "version_minor": 0
      },
      "text/plain": [
       "  0%|          | 0/11 [00:00<?, ?it/s]"
      ]
     },
     "metadata": {},
     "output_type": "display_data"
    },
    {
     "name": "stderr",
     "output_type": "stream",
     "text": [
      "10:37:09 - cmdstanpy - INFO - Chain [1] start processing\n",
      "10:37:09 - cmdstanpy - INFO - Chain [1] done processing\n",
      "10:37:10 - cmdstanpy - INFO - Chain [1] start processing\n",
      "10:37:10 - cmdstanpy - INFO - Chain [1] done processing\n",
      "10:37:11 - cmdstanpy - INFO - Chain [1] start processing\n",
      "10:37:11 - cmdstanpy - INFO - Chain [1] done processing\n",
      "10:37:12 - cmdstanpy - INFO - Chain [1] start processing\n",
      "10:37:12 - cmdstanpy - INFO - Chain [1] done processing\n",
      "10:37:13 - cmdstanpy - INFO - Chain [1] start processing\n",
      "10:37:13 - cmdstanpy - INFO - Chain [1] done processing\n",
      "10:37:14 - cmdstanpy - INFO - Chain [1] start processing\n",
      "10:37:14 - cmdstanpy - INFO - Chain [1] done processing\n",
      "10:37:15 - cmdstanpy - INFO - Chain [1] start processing\n",
      "10:37:15 - cmdstanpy - INFO - Chain [1] done processing\n",
      "10:37:16 - cmdstanpy - INFO - Chain [1] start processing\n",
      "10:37:17 - cmdstanpy - INFO - Chain [1] done processing\n",
      "10:37:17 - cmdstanpy - INFO - Chain [1] start processing\n",
      "10:37:18 - cmdstanpy - INFO - Chain [1] done processing\n",
      "10:37:19 - cmdstanpy - INFO - Chain [1] start processing\n",
      "10:37:20 - cmdstanpy - INFO - Chain [1] done processing\n",
      "10:37:20 - cmdstanpy - INFO - Chain [1] start processing\n",
      "10:37:21 - cmdstanpy - INFO - Chain [1] done processing\n",
      "10:37:21 - cmdstanpy - INFO - Chain [1] start processing\n",
      "10:37:22 - cmdstanpy - INFO - Chain [1] done processing\n"
     ]
    },
    {
     "data": {
      "application/vnd.jupyter.widget-view+json": {
       "model_id": "52ae1e089617443b9e3e6611e854fb97",
       "version_major": 2,
       "version_minor": 0
      },
      "text/plain": [
       "  0%|          | 0/11 [00:00<?, ?it/s]"
      ]
     },
     "metadata": {},
     "output_type": "display_data"
    },
    {
     "name": "stderr",
     "output_type": "stream",
     "text": [
      "10:37:22 - cmdstanpy - INFO - Chain [1] start processing\n",
      "10:37:22 - cmdstanpy - INFO - Chain [1] done processing\n",
      "10:37:23 - cmdstanpy - INFO - Chain [1] start processing\n",
      "10:37:23 - cmdstanpy - INFO - Chain [1] done processing\n",
      "10:37:24 - cmdstanpy - INFO - Chain [1] start processing\n",
      "10:37:24 - cmdstanpy - INFO - Chain [1] done processing\n",
      "10:37:25 - cmdstanpy - INFO - Chain [1] start processing\n",
      "10:37:25 - cmdstanpy - INFO - Chain [1] done processing\n",
      "10:37:26 - cmdstanpy - INFO - Chain [1] start processing\n",
      "10:37:26 - cmdstanpy - INFO - Chain [1] done processing\n",
      "10:37:27 - cmdstanpy - INFO - Chain [1] start processing\n",
      "10:37:27 - cmdstanpy - INFO - Chain [1] done processing\n",
      "10:37:28 - cmdstanpy - INFO - Chain [1] start processing\n",
      "10:37:28 - cmdstanpy - INFO - Chain [1] done processing\n",
      "10:37:29 - cmdstanpy - INFO - Chain [1] start processing\n",
      "10:37:29 - cmdstanpy - INFO - Chain [1] done processing\n",
      "10:37:30 - cmdstanpy - INFO - Chain [1] start processing\n",
      "10:37:30 - cmdstanpy - INFO - Chain [1] done processing\n",
      "10:37:31 - cmdstanpy - INFO - Chain [1] start processing\n",
      "10:37:32 - cmdstanpy - INFO - Chain [1] done processing\n",
      "10:37:33 - cmdstanpy - INFO - Chain [1] start processing\n",
      "10:37:33 - cmdstanpy - INFO - Chain [1] done processing\n",
      "10:37:34 - cmdstanpy - INFO - Chain [1] start processing\n",
      "10:37:34 - cmdstanpy - INFO - Chain [1] done processing\n"
     ]
    },
    {
     "data": {
      "application/vnd.jupyter.widget-view+json": {
       "model_id": "58f04be2b8a640f4a2e6d653db5f76aa",
       "version_major": 2,
       "version_minor": 0
      },
      "text/plain": [
       "  0%|          | 0/11 [00:00<?, ?it/s]"
      ]
     },
     "metadata": {},
     "output_type": "display_data"
    },
    {
     "name": "stderr",
     "output_type": "stream",
     "text": [
      "10:37:34 - cmdstanpy - INFO - Chain [1] start processing\n",
      "10:37:35 - cmdstanpy - INFO - Chain [1] done processing\n",
      "10:37:35 - cmdstanpy - INFO - Chain [1] start processing\n",
      "10:37:35 - cmdstanpy - INFO - Chain [1] done processing\n",
      "10:37:36 - cmdstanpy - INFO - Chain [1] start processing\n",
      "10:37:36 - cmdstanpy - INFO - Chain [1] done processing\n",
      "10:37:37 - cmdstanpy - INFO - Chain [1] start processing\n",
      "10:37:37 - cmdstanpy - INFO - Chain [1] done processing\n",
      "10:37:38 - cmdstanpy - INFO - Chain [1] start processing\n",
      "10:37:38 - cmdstanpy - INFO - Chain [1] done processing\n",
      "10:37:39 - cmdstanpy - INFO - Chain [1] start processing\n",
      "10:37:39 - cmdstanpy - INFO - Chain [1] done processing\n",
      "10:37:40 - cmdstanpy - INFO - Chain [1] start processing\n",
      "10:37:41 - cmdstanpy - INFO - Chain [1] done processing\n",
      "10:37:41 - cmdstanpy - INFO - Chain [1] start processing\n",
      "10:37:42 - cmdstanpy - INFO - Chain [1] done processing\n",
      "10:37:42 - cmdstanpy - INFO - Chain [1] start processing\n",
      "10:37:43 - cmdstanpy - INFO - Chain [1] done processing\n",
      "10:37:44 - cmdstanpy - INFO - Chain [1] start processing\n",
      "10:37:45 - cmdstanpy - INFO - Chain [1] done processing\n",
      "10:37:45 - cmdstanpy - INFO - Chain [1] start processing\n",
      "10:37:46 - cmdstanpy - INFO - Chain [1] done processing\n",
      "10:37:46 - cmdstanpy - INFO - Chain [1] start processing\n",
      "10:37:47 - cmdstanpy - INFO - Chain [1] done processing\n"
     ]
    },
    {
     "data": {
      "application/vnd.jupyter.widget-view+json": {
       "model_id": "f2ae80ad319d4f019b6f908c0f33b8e2",
       "version_major": 2,
       "version_minor": 0
      },
      "text/plain": [
       "  0%|          | 0/11 [00:00<?, ?it/s]"
      ]
     },
     "metadata": {},
     "output_type": "display_data"
    },
    {
     "name": "stderr",
     "output_type": "stream",
     "text": [
      "10:37:47 - cmdstanpy - INFO - Chain [1] start processing\n",
      "10:37:47 - cmdstanpy - INFO - Chain [1] done processing\n",
      "10:37:48 - cmdstanpy - INFO - Chain [1] start processing\n",
      "10:37:48 - cmdstanpy - INFO - Chain [1] done processing\n",
      "10:37:49 - cmdstanpy - INFO - Chain [1] start processing\n",
      "10:37:49 - cmdstanpy - INFO - Chain [1] done processing\n",
      "10:37:49 - cmdstanpy - INFO - Chain [1] start processing\n",
      "10:37:50 - cmdstanpy - INFO - Chain [1] done processing\n",
      "10:37:50 - cmdstanpy - INFO - Chain [1] start processing\n",
      "10:37:51 - cmdstanpy - INFO - Chain [1] done processing\n",
      "10:37:51 - cmdstanpy - INFO - Chain [1] start processing\n",
      "10:37:52 - cmdstanpy - INFO - Chain [1] done processing\n",
      "10:37:52 - cmdstanpy - INFO - Chain [1] start processing\n",
      "10:37:53 - cmdstanpy - INFO - Chain [1] done processing\n",
      "10:37:54 - cmdstanpy - INFO - Chain [1] start processing\n",
      "10:37:54 - cmdstanpy - INFO - Chain [1] done processing\n",
      "10:37:55 - cmdstanpy - INFO - Chain [1] start processing\n",
      "10:37:55 - cmdstanpy - INFO - Chain [1] done processing\n",
      "10:37:56 - cmdstanpy - INFO - Chain [1] start processing\n",
      "10:37:57 - cmdstanpy - INFO - Chain [1] done processing\n",
      "10:37:58 - cmdstanpy - INFO - Chain [1] start processing\n",
      "10:37:58 - cmdstanpy - INFO - Chain [1] done processing\n",
      "10:37:59 - cmdstanpy - INFO - Chain [1] start processing\n",
      "10:37:59 - cmdstanpy - INFO - Chain [1] done processing\n"
     ]
    },
    {
     "data": {
      "application/vnd.jupyter.widget-view+json": {
       "model_id": "6850a41655074840836006cf5abb2673",
       "version_major": 2,
       "version_minor": 0
      },
      "text/plain": [
       "  0%|          | 0/11 [00:00<?, ?it/s]"
      ]
     },
     "metadata": {},
     "output_type": "display_data"
    },
    {
     "name": "stderr",
     "output_type": "stream",
     "text": [
      "10:37:59 - cmdstanpy - INFO - Chain [1] start processing\n",
      "10:38:00 - cmdstanpy - INFO - Chain [1] done processing\n",
      "10:38:00 - cmdstanpy - INFO - Chain [1] start processing\n",
      "10:38:01 - cmdstanpy - INFO - Chain [1] done processing\n",
      "10:38:01 - cmdstanpy - INFO - Chain [1] start processing\n",
      "10:38:02 - cmdstanpy - INFO - Chain [1] done processing\n",
      "10:38:02 - cmdstanpy - INFO - Chain [1] start processing\n",
      "10:38:03 - cmdstanpy - INFO - Chain [1] done processing\n",
      "10:38:03 - cmdstanpy - INFO - Chain [1] start processing\n",
      "10:38:04 - cmdstanpy - INFO - Chain [1] done processing\n",
      "10:38:06 - cmdstanpy - INFO - Chain [1] start processing\n",
      "10:38:06 - cmdstanpy - INFO - Chain [1] done processing\n",
      "10:38:07 - cmdstanpy - INFO - Chain [1] start processing\n",
      "10:38:08 - cmdstanpy - INFO - Chain [1] done processing\n",
      "10:38:09 - cmdstanpy - INFO - Chain [1] start processing\n",
      "10:38:09 - cmdstanpy - INFO - Chain [1] done processing\n",
      "10:38:10 - cmdstanpy - INFO - Chain [1] start processing\n",
      "10:38:11 - cmdstanpy - INFO - Chain [1] done processing\n",
      "10:38:12 - cmdstanpy - INFO - Chain [1] start processing\n",
      "10:38:14 - cmdstanpy - INFO - Chain [1] done processing\n",
      "10:38:14 - cmdstanpy - INFO - Chain [1] start processing\n",
      "10:38:15 - cmdstanpy - INFO - Chain [1] done processing\n",
      "10:38:16 - cmdstanpy - INFO - Chain [1] start processing\n",
      "10:38:16 - cmdstanpy - INFO - Chain [1] done processing\n"
     ]
    },
    {
     "data": {
      "application/vnd.jupyter.widget-view+json": {
       "model_id": "eb34f25e64c04d7387c1996b747e932b",
       "version_major": 2,
       "version_minor": 0
      },
      "text/plain": [
       "  0%|          | 0/11 [00:00<?, ?it/s]"
      ]
     },
     "metadata": {},
     "output_type": "display_data"
    },
    {
     "name": "stderr",
     "output_type": "stream",
     "text": [
      "10:38:17 - cmdstanpy - INFO - Chain [1] start processing\n",
      "10:38:17 - cmdstanpy - INFO - Chain [1] done processing\n",
      "10:38:18 - cmdstanpy - INFO - Chain [1] start processing\n",
      "10:38:18 - cmdstanpy - INFO - Chain [1] done processing\n",
      "10:38:19 - cmdstanpy - INFO - Chain [1] start processing\n",
      "10:38:19 - cmdstanpy - INFO - Chain [1] done processing\n",
      "10:38:20 - cmdstanpy - INFO - Chain [1] start processing\n",
      "10:38:20 - cmdstanpy - INFO - Chain [1] done processing\n",
      "10:38:21 - cmdstanpy - INFO - Chain [1] start processing\n",
      "10:38:21 - cmdstanpy - INFO - Chain [1] done processing\n",
      "10:38:22 - cmdstanpy - INFO - Chain [1] start processing\n",
      "10:38:23 - cmdstanpy - INFO - Chain [1] done processing\n",
      "10:38:23 - cmdstanpy - INFO - Chain [1] start processing\n",
      "10:38:24 - cmdstanpy - INFO - Chain [1] done processing\n",
      "10:38:25 - cmdstanpy - INFO - Chain [1] start processing\n",
      "10:38:25 - cmdstanpy - INFO - Chain [1] done processing\n",
      "10:38:26 - cmdstanpy - INFO - Chain [1] start processing\n",
      "10:38:26 - cmdstanpy - INFO - Chain [1] done processing\n",
      "10:38:27 - cmdstanpy - INFO - Chain [1] start processing\n",
      "10:38:28 - cmdstanpy - INFO - Chain [1] done processing\n",
      "10:38:29 - cmdstanpy - INFO - Chain [1] start processing\n",
      "10:38:30 - cmdstanpy - INFO - Chain [1] done processing\n",
      "10:38:30 - cmdstanpy - INFO - Chain [1] start processing\n",
      "10:38:31 - cmdstanpy - INFO - Chain [1] done processing\n"
     ]
    },
    {
     "data": {
      "application/vnd.jupyter.widget-view+json": {
       "model_id": "48bb4e6147794b2d8eef10b63b83fb0d",
       "version_major": 2,
       "version_minor": 0
      },
      "text/plain": [
       "  0%|          | 0/11 [00:00<?, ?it/s]"
      ]
     },
     "metadata": {},
     "output_type": "display_data"
    },
    {
     "name": "stderr",
     "output_type": "stream",
     "text": [
      "10:38:31 - cmdstanpy - INFO - Chain [1] start processing\n",
      "10:38:31 - cmdstanpy - INFO - Chain [1] done processing\n",
      "10:38:32 - cmdstanpy - INFO - Chain [1] start processing\n",
      "10:38:32 - cmdstanpy - INFO - Chain [1] done processing\n",
      "10:38:33 - cmdstanpy - INFO - Chain [1] start processing\n",
      "10:38:33 - cmdstanpy - INFO - Chain [1] done processing\n",
      "10:38:34 - cmdstanpy - INFO - Chain [1] start processing\n",
      "10:38:34 - cmdstanpy - INFO - Chain [1] done processing\n",
      "10:38:35 - cmdstanpy - INFO - Chain [1] start processing\n",
      "10:38:36 - cmdstanpy - INFO - Chain [1] done processing\n",
      "10:38:36 - cmdstanpy - INFO - Chain [1] start processing\n",
      "10:38:37 - cmdstanpy - INFO - Chain [1] done processing\n",
      "10:38:38 - cmdstanpy - INFO - Chain [1] start processing\n",
      "10:38:38 - cmdstanpy - INFO - Chain [1] done processing\n",
      "10:38:39 - cmdstanpy - INFO - Chain [1] start processing\n",
      "10:38:39 - cmdstanpy - INFO - Chain [1] done processing\n",
      "10:38:40 - cmdstanpy - INFO - Chain [1] start processing\n",
      "10:38:40 - cmdstanpy - INFO - Chain [1] done processing\n",
      "10:38:41 - cmdstanpy - INFO - Chain [1] start processing\n",
      "10:38:42 - cmdstanpy - INFO - Chain [1] done processing\n",
      "10:38:43 - cmdstanpy - INFO - Chain [1] start processing\n",
      "10:38:43 - cmdstanpy - INFO - Chain [1] done processing\n",
      "10:38:44 - cmdstanpy - INFO - Chain [1] start processing\n",
      "10:38:45 - cmdstanpy - INFO - Chain [1] done processing\n"
     ]
    },
    {
     "data": {
      "application/vnd.jupyter.widget-view+json": {
       "model_id": "2fdcf0038e184b3fbdceba4b9a4a43af",
       "version_major": 2,
       "version_minor": 0
      },
      "text/plain": [
       "  0%|          | 0/11 [00:00<?, ?it/s]"
      ]
     },
     "metadata": {},
     "output_type": "display_data"
    },
    {
     "name": "stderr",
     "output_type": "stream",
     "text": [
      "10:38:45 - cmdstanpy - INFO - Chain [1] start processing\n",
      "10:38:45 - cmdstanpy - INFO - Chain [1] done processing\n",
      "10:38:46 - cmdstanpy - INFO - Chain [1] start processing\n",
      "10:38:46 - cmdstanpy - INFO - Chain [1] done processing\n",
      "10:38:47 - cmdstanpy - INFO - Chain [1] start processing\n",
      "10:38:47 - cmdstanpy - INFO - Chain [1] done processing\n",
      "10:38:48 - cmdstanpy - INFO - Chain [1] start processing\n",
      "10:38:48 - cmdstanpy - INFO - Chain [1] done processing\n",
      "10:38:49 - cmdstanpy - INFO - Chain [1] start processing\n",
      "10:38:49 - cmdstanpy - INFO - Chain [1] done processing\n",
      "10:38:50 - cmdstanpy - INFO - Chain [1] start processing\n",
      "10:38:50 - cmdstanpy - INFO - Chain [1] done processing\n",
      "10:38:51 - cmdstanpy - INFO - Chain [1] start processing\n",
      "10:38:51 - cmdstanpy - INFO - Chain [1] done processing\n",
      "10:38:52 - cmdstanpy - INFO - Chain [1] start processing\n",
      "10:38:52 - cmdstanpy - INFO - Chain [1] done processing\n",
      "10:38:53 - cmdstanpy - INFO - Chain [1] start processing\n",
      "10:38:54 - cmdstanpy - INFO - Chain [1] done processing\n",
      "10:38:55 - cmdstanpy - INFO - Chain [1] start processing\n",
      "10:38:56 - cmdstanpy - INFO - Chain [1] done processing\n",
      "10:38:57 - cmdstanpy - INFO - Chain [1] start processing\n",
      "10:38:57 - cmdstanpy - INFO - Chain [1] done processing\n",
      "10:38:58 - cmdstanpy - INFO - Chain [1] start processing\n",
      "10:38:58 - cmdstanpy - INFO - Chain [1] done processing\n"
     ]
    },
    {
     "data": {
      "application/vnd.jupyter.widget-view+json": {
       "model_id": "601c542d4bb246f6ab98fa8dcccec206",
       "version_major": 2,
       "version_minor": 0
      },
      "text/plain": [
       "  0%|          | 0/11 [00:00<?, ?it/s]"
      ]
     },
     "metadata": {},
     "output_type": "display_data"
    },
    {
     "name": "stderr",
     "output_type": "stream",
     "text": [
      "10:38:58 - cmdstanpy - INFO - Chain [1] start processing\n",
      "10:38:58 - cmdstanpy - INFO - Chain [1] done processing\n",
      "10:38:59 - cmdstanpy - INFO - Chain [1] start processing\n",
      "10:38:59 - cmdstanpy - INFO - Chain [1] done processing\n",
      "10:39:00 - cmdstanpy - INFO - Chain [1] start processing\n",
      "10:39:01 - cmdstanpy - INFO - Chain [1] done processing\n",
      "10:39:01 - cmdstanpy - INFO - Chain [1] start processing\n",
      "10:39:02 - cmdstanpy - INFO - Chain [1] done processing\n",
      "10:39:02 - cmdstanpy - INFO - Chain [1] start processing\n",
      "10:39:03 - cmdstanpy - INFO - Chain [1] done processing\n",
      "10:39:04 - cmdstanpy - INFO - Chain [1] start processing\n",
      "10:39:04 - cmdstanpy - INFO - Chain [1] done processing\n",
      "10:39:05 - cmdstanpy - INFO - Chain [1] start processing\n",
      "10:39:05 - cmdstanpy - INFO - Chain [1] done processing\n",
      "10:39:06 - cmdstanpy - INFO - Chain [1] start processing\n",
      "10:39:06 - cmdstanpy - INFO - Chain [1] done processing\n",
      "10:39:07 - cmdstanpy - INFO - Chain [1] start processing\n",
      "10:39:07 - cmdstanpy - INFO - Chain [1] done processing\n",
      "10:39:08 - cmdstanpy - INFO - Chain [1] start processing\n",
      "10:39:09 - cmdstanpy - INFO - Chain [1] done processing\n",
      "10:39:10 - cmdstanpy - INFO - Chain [1] start processing\n",
      "10:39:10 - cmdstanpy - INFO - Chain [1] done processing\n",
      "10:39:11 - cmdstanpy - INFO - Chain [1] start processing\n",
      "10:39:12 - cmdstanpy - INFO - Chain [1] done processing\n"
     ]
    },
    {
     "data": {
      "application/vnd.jupyter.widget-view+json": {
       "model_id": "53ccc54c25874ccf80a177b871ddb5d5",
       "version_major": 2,
       "version_minor": 0
      },
      "text/plain": [
       "  0%|          | 0/11 [00:00<?, ?it/s]"
      ]
     },
     "metadata": {},
     "output_type": "display_data"
    },
    {
     "name": "stderr",
     "output_type": "stream",
     "text": [
      "10:39:12 - cmdstanpy - INFO - Chain [1] start processing\n",
      "10:39:12 - cmdstanpy - INFO - Chain [1] done processing\n",
      "10:39:13 - cmdstanpy - INFO - Chain [1] start processing\n",
      "10:39:13 - cmdstanpy - INFO - Chain [1] done processing\n",
      "10:39:14 - cmdstanpy - INFO - Chain [1] start processing\n",
      "10:39:14 - cmdstanpy - INFO - Chain [1] done processing\n",
      "10:39:15 - cmdstanpy - INFO - Chain [1] start processing\n",
      "10:39:15 - cmdstanpy - INFO - Chain [1] done processing\n",
      "10:39:16 - cmdstanpy - INFO - Chain [1] start processing\n",
      "10:39:16 - cmdstanpy - INFO - Chain [1] done processing\n",
      "10:39:17 - cmdstanpy - INFO - Chain [1] start processing\n",
      "10:39:17 - cmdstanpy - INFO - Chain [1] done processing\n",
      "10:39:18 - cmdstanpy - INFO - Chain [1] start processing\n",
      "10:39:18 - cmdstanpy - INFO - Chain [1] done processing\n",
      "10:39:19 - cmdstanpy - INFO - Chain [1] start processing\n",
      "10:39:20 - cmdstanpy - INFO - Chain [1] done processing\n",
      "10:39:20 - cmdstanpy - INFO - Chain [1] start processing\n",
      "10:39:21 - cmdstanpy - INFO - Chain [1] done processing\n",
      "10:39:22 - cmdstanpy - INFO - Chain [1] start processing\n",
      "10:39:22 - cmdstanpy - INFO - Chain [1] done processing\n",
      "10:39:23 - cmdstanpy - INFO - Chain [1] start processing\n",
      "10:39:24 - cmdstanpy - INFO - Chain [1] done processing\n",
      "10:39:25 - cmdstanpy - INFO - Chain [1] start processing\n",
      "10:39:25 - cmdstanpy - INFO - Chain [1] done processing\n"
     ]
    },
    {
     "data": {
      "application/vnd.jupyter.widget-view+json": {
       "model_id": "c2d654259f5d4020b38f876a25ddfc59",
       "version_major": 2,
       "version_minor": 0
      },
      "text/plain": [
       "  0%|          | 0/11 [00:00<?, ?it/s]"
      ]
     },
     "metadata": {},
     "output_type": "display_data"
    },
    {
     "name": "stderr",
     "output_type": "stream",
     "text": [
      "10:39:25 - cmdstanpy - INFO - Chain [1] start processing\n",
      "10:39:25 - cmdstanpy - INFO - Chain [1] done processing\n",
      "10:39:26 - cmdstanpy - INFO - Chain [1] start processing\n",
      "10:39:26 - cmdstanpy - INFO - Chain [1] done processing\n",
      "10:39:27 - cmdstanpy - INFO - Chain [1] start processing\n",
      "10:39:27 - cmdstanpy - INFO - Chain [1] done processing\n",
      "10:39:28 - cmdstanpy - INFO - Chain [1] start processing\n",
      "10:39:28 - cmdstanpy - INFO - Chain [1] done processing\n",
      "10:39:29 - cmdstanpy - INFO - Chain [1] start processing\n",
      "10:39:30 - cmdstanpy - INFO - Chain [1] done processing\n",
      "10:39:31 - cmdstanpy - INFO - Chain [1] start processing\n",
      "10:39:31 - cmdstanpy - INFO - Chain [1] done processing\n",
      "10:39:32 - cmdstanpy - INFO - Chain [1] start processing\n",
      "10:39:32 - cmdstanpy - INFO - Chain [1] done processing\n",
      "10:39:33 - cmdstanpy - INFO - Chain [1] start processing\n",
      "10:39:34 - cmdstanpy - INFO - Chain [1] done processing\n",
      "10:39:34 - cmdstanpy - INFO - Chain [1] start processing\n",
      "10:39:35 - cmdstanpy - INFO - Chain [1] done processing\n",
      "10:39:36 - cmdstanpy - INFO - Chain [1] start processing\n",
      "10:39:36 - cmdstanpy - INFO - Chain [1] done processing\n",
      "10:39:37 - cmdstanpy - INFO - Chain [1] start processing\n",
      "10:39:37 - cmdstanpy - INFO - Chain [1] done processing\n",
      "10:39:38 - cmdstanpy - INFO - Chain [1] start processing\n",
      "10:39:39 - cmdstanpy - INFO - Chain [1] done processing\n"
     ]
    },
    {
     "data": {
      "application/vnd.jupyter.widget-view+json": {
       "model_id": "a48ceb3285a44617a2f1b97081e6f13f",
       "version_major": 2,
       "version_minor": 0
      },
      "text/plain": [
       "  0%|          | 0/11 [00:00<?, ?it/s]"
      ]
     },
     "metadata": {},
     "output_type": "display_data"
    },
    {
     "name": "stderr",
     "output_type": "stream",
     "text": [
      "10:39:39 - cmdstanpy - INFO - Chain [1] start processing\n",
      "10:39:39 - cmdstanpy - INFO - Chain [1] done processing\n",
      "10:39:40 - cmdstanpy - INFO - Chain [1] start processing\n",
      "10:39:40 - cmdstanpy - INFO - Chain [1] done processing\n",
      "10:39:41 - cmdstanpy - INFO - Chain [1] start processing\n",
      "10:39:41 - cmdstanpy - INFO - Chain [1] done processing\n",
      "10:39:42 - cmdstanpy - INFO - Chain [1] start processing\n",
      "10:39:42 - cmdstanpy - INFO - Chain [1] done processing\n",
      "10:39:43 - cmdstanpy - INFO - Chain [1] start processing\n",
      "10:39:43 - cmdstanpy - INFO - Chain [1] done processing\n",
      "10:39:44 - cmdstanpy - INFO - Chain [1] start processing\n",
      "10:39:44 - cmdstanpy - INFO - Chain [1] done processing\n",
      "10:39:45 - cmdstanpy - INFO - Chain [1] start processing\n",
      "10:39:45 - cmdstanpy - INFO - Chain [1] done processing\n",
      "10:39:46 - cmdstanpy - INFO - Chain [1] start processing\n",
      "10:39:47 - cmdstanpy - INFO - Chain [1] done processing\n",
      "10:39:47 - cmdstanpy - INFO - Chain [1] start processing\n",
      "10:39:48 - cmdstanpy - INFO - Chain [1] done processing\n",
      "10:39:49 - cmdstanpy - INFO - Chain [1] start processing\n",
      "10:39:49 - cmdstanpy - INFO - Chain [1] done processing\n",
      "10:39:50 - cmdstanpy - INFO - Chain [1] start processing\n",
      "10:39:51 - cmdstanpy - INFO - Chain [1] done processing\n",
      "10:39:52 - cmdstanpy - INFO - Chain [1] start processing\n",
      "10:39:53 - cmdstanpy - INFO - Chain [1] done processing\n"
     ]
    },
    {
     "data": {
      "application/vnd.jupyter.widget-view+json": {
       "model_id": "9e4b054dd8d941efa3205394a5a02854",
       "version_major": 2,
       "version_minor": 0
      },
      "text/plain": [
       "  0%|          | 0/11 [00:00<?, ?it/s]"
      ]
     },
     "metadata": {},
     "output_type": "display_data"
    },
    {
     "name": "stderr",
     "output_type": "stream",
     "text": [
      "10:39:53 - cmdstanpy - INFO - Chain [1] start processing\n",
      "10:39:54 - cmdstanpy - INFO - Chain [1] done processing\n",
      "10:39:54 - cmdstanpy - INFO - Chain [1] start processing\n",
      "10:39:55 - cmdstanpy - INFO - Chain [1] done processing\n",
      "10:39:56 - cmdstanpy - INFO - Chain [1] start processing\n",
      "10:39:56 - cmdstanpy - INFO - Chain [1] done processing\n",
      "10:39:57 - cmdstanpy - INFO - Chain [1] start processing\n",
      "10:39:58 - cmdstanpy - INFO - Chain [1] done processing\n",
      "10:39:59 - cmdstanpy - INFO - Chain [1] start processing\n",
      "10:39:59 - cmdstanpy - INFO - Chain [1] done processing\n",
      "10:40:00 - cmdstanpy - INFO - Chain [1] start processing\n",
      "10:40:01 - cmdstanpy - INFO - Chain [1] done processing\n",
      "10:40:01 - cmdstanpy - INFO - Chain [1] start processing\n",
      "10:40:03 - cmdstanpy - INFO - Chain [1] done processing\n",
      "10:40:03 - cmdstanpy - INFO - Chain [1] start processing\n",
      "10:40:05 - cmdstanpy - INFO - Chain [1] done processing\n",
      "10:40:05 - cmdstanpy - INFO - Chain [1] start processing\n",
      "10:40:06 - cmdstanpy - INFO - Chain [1] done processing\n",
      "10:40:07 - cmdstanpy - INFO - Chain [1] start processing\n",
      "10:40:08 - cmdstanpy - INFO - Chain [1] done processing\n",
      "10:40:09 - cmdstanpy - INFO - Chain [1] start processing\n",
      "10:40:10 - cmdstanpy - INFO - Chain [1] done processing\n",
      "10:40:11 - cmdstanpy - INFO - Chain [1] start processing\n",
      "10:40:12 - cmdstanpy - INFO - Chain [1] done processing\n"
     ]
    },
    {
     "data": {
      "application/vnd.jupyter.widget-view+json": {
       "model_id": "447e7b08a74d4e6c88c3b362fe339e45",
       "version_major": 2,
       "version_minor": 0
      },
      "text/plain": [
       "  0%|          | 0/11 [00:00<?, ?it/s]"
      ]
     },
     "metadata": {},
     "output_type": "display_data"
    },
    {
     "name": "stderr",
     "output_type": "stream",
     "text": [
      "10:40:12 - cmdstanpy - INFO - Chain [1] start processing\n",
      "10:40:13 - cmdstanpy - INFO - Chain [1] done processing\n",
      "10:40:14 - cmdstanpy - INFO - Chain [1] start processing\n",
      "10:40:14 - cmdstanpy - INFO - Chain [1] done processing\n",
      "10:40:15 - cmdstanpy - INFO - Chain [1] start processing\n",
      "10:40:15 - cmdstanpy - INFO - Chain [1] done processing\n",
      "10:40:16 - cmdstanpy - INFO - Chain [1] start processing\n",
      "10:40:17 - cmdstanpy - INFO - Chain [1] done processing\n",
      "10:40:18 - cmdstanpy - INFO - Chain [1] start processing\n",
      "10:40:18 - cmdstanpy - INFO - Chain [1] done processing\n",
      "10:40:19 - cmdstanpy - INFO - Chain [1] start processing\n",
      "10:40:20 - cmdstanpy - INFO - Chain [1] done processing\n",
      "10:40:21 - cmdstanpy - INFO - Chain [1] start processing\n",
      "10:40:22 - cmdstanpy - INFO - Chain [1] done processing\n",
      "10:40:22 - cmdstanpy - INFO - Chain [1] start processing\n",
      "10:40:23 - cmdstanpy - INFO - Chain [1] done processing\n",
      "10:40:24 - cmdstanpy - INFO - Chain [1] start processing\n",
      "10:40:25 - cmdstanpy - INFO - Chain [1] done processing\n",
      "10:40:26 - cmdstanpy - INFO - Chain [1] start processing\n",
      "10:40:27 - cmdstanpy - INFO - Chain [1] done processing\n",
      "10:40:28 - cmdstanpy - INFO - Chain [1] start processing\n",
      "10:40:29 - cmdstanpy - INFO - Chain [1] done processing\n",
      "10:40:30 - cmdstanpy - INFO - Chain [1] start processing\n",
      "10:40:31 - cmdstanpy - INFO - Chain [1] done processing\n"
     ]
    },
    {
     "data": {
      "application/vnd.jupyter.widget-view+json": {
       "model_id": "eac2875b845a400eb76250b390d7267f",
       "version_major": 2,
       "version_minor": 0
      },
      "text/plain": [
       "  0%|          | 0/11 [00:00<?, ?it/s]"
      ]
     },
     "metadata": {},
     "output_type": "display_data"
    },
    {
     "name": "stderr",
     "output_type": "stream",
     "text": [
      "10:40:31 - cmdstanpy - INFO - Chain [1] start processing\n",
      "10:40:32 - cmdstanpy - INFO - Chain [1] done processing\n",
      "10:40:32 - cmdstanpy - INFO - Chain [1] start processing\n",
      "10:40:33 - cmdstanpy - INFO - Chain [1] done processing\n",
      "10:40:34 - cmdstanpy - INFO - Chain [1] start processing\n",
      "10:40:34 - cmdstanpy - INFO - Chain [1] done processing\n",
      "10:40:36 - cmdstanpy - INFO - Chain [1] start processing\n",
      "10:40:37 - cmdstanpy - INFO - Chain [1] done processing\n",
      "10:40:38 - cmdstanpy - INFO - Chain [1] start processing\n",
      "10:40:38 - cmdstanpy - INFO - Chain [1] done processing\n",
      "10:40:39 - cmdstanpy - INFO - Chain [1] start processing\n",
      "10:40:40 - cmdstanpy - INFO - Chain [1] done processing\n",
      "10:40:41 - cmdstanpy - INFO - Chain [1] start processing\n",
      "10:40:42 - cmdstanpy - INFO - Chain [1] done processing\n",
      "10:40:42 - cmdstanpy - INFO - Chain [1] start processing\n",
      "10:40:43 - cmdstanpy - INFO - Chain [1] done processing\n",
      "10:40:44 - cmdstanpy - INFO - Chain [1] start processing\n",
      "10:40:45 - cmdstanpy - INFO - Chain [1] done processing\n",
      "10:40:46 - cmdstanpy - INFO - Chain [1] start processing\n",
      "10:40:47 - cmdstanpy - INFO - Chain [1] done processing\n",
      "10:40:48 - cmdstanpy - INFO - Chain [1] start processing\n",
      "10:40:49 - cmdstanpy - INFO - Chain [1] done processing\n",
      "10:40:50 - cmdstanpy - INFO - Chain [1] start processing\n",
      "10:40:51 - cmdstanpy - INFO - Chain [1] done processing\n"
     ]
    },
    {
     "data": {
      "application/vnd.jupyter.widget-view+json": {
       "model_id": "389d9a56869b438d97224619eb4024bf",
       "version_major": 2,
       "version_minor": 0
      },
      "text/plain": [
       "  0%|          | 0/11 [00:00<?, ?it/s]"
      ]
     },
     "metadata": {},
     "output_type": "display_data"
    },
    {
     "name": "stderr",
     "output_type": "stream",
     "text": [
      "10:40:51 - cmdstanpy - INFO - Chain [1] start processing\n",
      "10:40:52 - cmdstanpy - INFO - Chain [1] done processing\n",
      "10:40:53 - cmdstanpy - INFO - Chain [1] start processing\n",
      "10:40:53 - cmdstanpy - INFO - Chain [1] done processing\n",
      "10:40:54 - cmdstanpy - INFO - Chain [1] start processing\n",
      "10:40:55 - cmdstanpy - INFO - Chain [1] done processing\n",
      "10:40:55 - cmdstanpy - INFO - Chain [1] start processing\n",
      "10:40:56 - cmdstanpy - INFO - Chain [1] done processing\n",
      "10:40:57 - cmdstanpy - INFO - Chain [1] start processing\n",
      "10:40:57 - cmdstanpy - INFO - Chain [1] done processing\n",
      "10:40:58 - cmdstanpy - INFO - Chain [1] start processing\n",
      "10:40:59 - cmdstanpy - INFO - Chain [1] done processing\n",
      "10:41:00 - cmdstanpy - INFO - Chain [1] start processing\n",
      "10:41:01 - cmdstanpy - INFO - Chain [1] done processing\n",
      "10:41:02 - cmdstanpy - INFO - Chain [1] start processing\n",
      "10:41:03 - cmdstanpy - INFO - Chain [1] done processing\n",
      "10:41:04 - cmdstanpy - INFO - Chain [1] start processing\n",
      "10:41:05 - cmdstanpy - INFO - Chain [1] done processing\n",
      "10:41:05 - cmdstanpy - INFO - Chain [1] start processing\n",
      "10:41:06 - cmdstanpy - INFO - Chain [1] done processing\n",
      "10:41:07 - cmdstanpy - INFO - Chain [1] start processing\n",
      "10:41:08 - cmdstanpy - INFO - Chain [1] done processing\n",
      "10:41:09 - cmdstanpy - INFO - Chain [1] start processing\n",
      "10:41:10 - cmdstanpy - INFO - Chain [1] done processing\n"
     ]
    },
    {
     "data": {
      "application/vnd.jupyter.widget-view+json": {
       "model_id": "9745cd564bba4193abba6f6c30e9e045",
       "version_major": 2,
       "version_minor": 0
      },
      "text/plain": [
       "  0%|          | 0/11 [00:00<?, ?it/s]"
      ]
     },
     "metadata": {},
     "output_type": "display_data"
    },
    {
     "name": "stderr",
     "output_type": "stream",
     "text": [
      "10:41:10 - cmdstanpy - INFO - Chain [1] start processing\n",
      "10:41:11 - cmdstanpy - INFO - Chain [1] done processing\n",
      "10:41:12 - cmdstanpy - INFO - Chain [1] start processing\n",
      "10:41:12 - cmdstanpy - INFO - Chain [1] done processing\n",
      "10:41:13 - cmdstanpy - INFO - Chain [1] start processing\n",
      "10:41:14 - cmdstanpy - INFO - Chain [1] done processing\n",
      "10:41:15 - cmdstanpy - INFO - Chain [1] start processing\n",
      "10:41:15 - cmdstanpy - INFO - Chain [1] done processing\n",
      "10:41:16 - cmdstanpy - INFO - Chain [1] start processing\n",
      "10:41:17 - cmdstanpy - INFO - Chain [1] done processing\n",
      "10:41:18 - cmdstanpy - INFO - Chain [1] start processing\n",
      "10:41:19 - cmdstanpy - INFO - Chain [1] done processing\n",
      "10:41:20 - cmdstanpy - INFO - Chain [1] start processing\n",
      "10:41:21 - cmdstanpy - INFO - Chain [1] done processing\n",
      "10:41:21 - cmdstanpy - INFO - Chain [1] start processing\n",
      "10:41:22 - cmdstanpy - INFO - Chain [1] done processing\n",
      "10:41:23 - cmdstanpy - INFO - Chain [1] start processing\n",
      "10:41:24 - cmdstanpy - INFO - Chain [1] done processing\n",
      "10:41:25 - cmdstanpy - INFO - Chain [1] start processing\n",
      "10:41:26 - cmdstanpy - INFO - Chain [1] done processing\n",
      "10:41:27 - cmdstanpy - INFO - Chain [1] start processing\n",
      "10:41:28 - cmdstanpy - INFO - Chain [1] done processing\n",
      "10:41:29 - cmdstanpy - INFO - Chain [1] start processing\n",
      "10:41:30 - cmdstanpy - INFO - Chain [1] done processing\n"
     ]
    },
    {
     "data": {
      "application/vnd.jupyter.widget-view+json": {
       "model_id": "356f4c3871704f8f87a1cd1331206bf7",
       "version_major": 2,
       "version_minor": 0
      },
      "text/plain": [
       "  0%|          | 0/11 [00:00<?, ?it/s]"
      ]
     },
     "metadata": {},
     "output_type": "display_data"
    },
    {
     "name": "stderr",
     "output_type": "stream",
     "text": [
      "10:41:30 - cmdstanpy - INFO - Chain [1] start processing\n",
      "10:41:31 - cmdstanpy - INFO - Chain [1] done processing\n",
      "10:41:32 - cmdstanpy - INFO - Chain [1] start processing\n",
      "10:41:32 - cmdstanpy - INFO - Chain [1] done processing\n",
      "10:41:33 - cmdstanpy - INFO - Chain [1] start processing\n",
      "10:41:34 - cmdstanpy - INFO - Chain [1] done processing\n",
      "10:41:34 - cmdstanpy - INFO - Chain [1] start processing\n",
      "10:41:35 - cmdstanpy - INFO - Chain [1] done processing\n",
      "10:41:36 - cmdstanpy - INFO - Chain [1] start processing\n",
      "10:41:36 - cmdstanpy - INFO - Chain [1] done processing\n",
      "10:41:37 - cmdstanpy - INFO - Chain [1] start processing\n",
      "10:41:38 - cmdstanpy - INFO - Chain [1] done processing\n",
      "10:41:39 - cmdstanpy - INFO - Chain [1] start processing\n",
      "10:41:40 - cmdstanpy - INFO - Chain [1] done processing\n",
      "10:41:41 - cmdstanpy - INFO - Chain [1] start processing\n",
      "10:41:42 - cmdstanpy - INFO - Chain [1] done processing\n",
      "10:41:43 - cmdstanpy - INFO - Chain [1] start processing\n",
      "10:41:43 - cmdstanpy - INFO - Chain [1] done processing\n",
      "10:41:44 - cmdstanpy - INFO - Chain [1] start processing\n",
      "10:41:45 - cmdstanpy - INFO - Chain [1] done processing\n",
      "10:41:46 - cmdstanpy - INFO - Chain [1] start processing\n",
      "10:41:47 - cmdstanpy - INFO - Chain [1] done processing\n",
      "10:41:48 - cmdstanpy - INFO - Chain [1] start processing\n",
      "10:41:49 - cmdstanpy - INFO - Chain [1] done processing\n"
     ]
    },
    {
     "data": {
      "application/vnd.jupyter.widget-view+json": {
       "model_id": "567cfe0ca5704a53a8b688a7263824fb",
       "version_major": 2,
       "version_minor": 0
      },
      "text/plain": [
       "  0%|          | 0/11 [00:00<?, ?it/s]"
      ]
     },
     "metadata": {},
     "output_type": "display_data"
    },
    {
     "name": "stderr",
     "output_type": "stream",
     "text": [
      "10:41:49 - cmdstanpy - INFO - Chain [1] start processing\n",
      "10:41:50 - cmdstanpy - INFO - Chain [1] done processing\n",
      "10:41:51 - cmdstanpy - INFO - Chain [1] start processing\n",
      "10:41:51 - cmdstanpy - INFO - Chain [1] done processing\n",
      "10:41:52 - cmdstanpy - INFO - Chain [1] start processing\n",
      "10:41:53 - cmdstanpy - INFO - Chain [1] done processing\n",
      "10:41:53 - cmdstanpy - INFO - Chain [1] start processing\n",
      "10:41:54 - cmdstanpy - INFO - Chain [1] done processing\n",
      "10:41:55 - cmdstanpy - INFO - Chain [1] start processing\n",
      "10:41:56 - cmdstanpy - INFO - Chain [1] done processing\n",
      "10:41:56 - cmdstanpy - INFO - Chain [1] start processing\n",
      "10:41:57 - cmdstanpy - INFO - Chain [1] done processing\n",
      "10:41:58 - cmdstanpy - INFO - Chain [1] start processing\n",
      "10:41:59 - cmdstanpy - INFO - Chain [1] done processing\n",
      "10:42:00 - cmdstanpy - INFO - Chain [1] start processing\n",
      "10:42:01 - cmdstanpy - INFO - Chain [1] done processing\n",
      "10:42:02 - cmdstanpy - INFO - Chain [1] start processing\n",
      "10:42:02 - cmdstanpy - INFO - Chain [1] done processing\n",
      "10:42:03 - cmdstanpy - INFO - Chain [1] start processing\n",
      "10:42:04 - cmdstanpy - INFO - Chain [1] done processing\n",
      "10:42:05 - cmdstanpy - INFO - Chain [1] start processing\n",
      "10:42:06 - cmdstanpy - INFO - Chain [1] done processing\n",
      "10:42:07 - cmdstanpy - INFO - Chain [1] start processing\n",
      "10:42:08 - cmdstanpy - INFO - Chain [1] done processing\n"
     ]
    },
    {
     "data": {
      "application/vnd.jupyter.widget-view+json": {
       "model_id": "466f1eb4b3434a33ad6be8020ab578cb",
       "version_major": 2,
       "version_minor": 0
      },
      "text/plain": [
       "  0%|          | 0/11 [00:00<?, ?it/s]"
      ]
     },
     "metadata": {},
     "output_type": "display_data"
    },
    {
     "name": "stderr",
     "output_type": "stream",
     "text": [
      "10:42:08 - cmdstanpy - INFO - Chain [1] start processing\n",
      "10:42:09 - cmdstanpy - INFO - Chain [1] done processing\n",
      "10:42:10 - cmdstanpy - INFO - Chain [1] start processing\n",
      "10:42:10 - cmdstanpy - INFO - Chain [1] done processing\n",
      "10:42:11 - cmdstanpy - INFO - Chain [1] start processing\n",
      "10:42:13 - cmdstanpy - INFO - Chain [1] done processing\n",
      "10:42:14 - cmdstanpy - INFO - Chain [1] start processing\n",
      "10:42:15 - cmdstanpy - INFO - Chain [1] done processing\n",
      "10:42:15 - cmdstanpy - INFO - Chain [1] start processing\n",
      "10:42:16 - cmdstanpy - INFO - Chain [1] done processing\n",
      "10:42:17 - cmdstanpy - INFO - Chain [1] start processing\n",
      "10:42:18 - cmdstanpy - INFO - Chain [1] done processing\n",
      "10:42:19 - cmdstanpy - INFO - Chain [1] start processing\n",
      "10:42:20 - cmdstanpy - INFO - Chain [1] done processing\n",
      "10:42:20 - cmdstanpy - INFO - Chain [1] start processing\n",
      "10:42:21 - cmdstanpy - INFO - Chain [1] done processing\n",
      "10:42:22 - cmdstanpy - INFO - Chain [1] start processing\n",
      "10:42:23 - cmdstanpy - INFO - Chain [1] done processing\n",
      "10:42:24 - cmdstanpy - INFO - Chain [1] start processing\n",
      "10:42:26 - cmdstanpy - INFO - Chain [1] done processing\n",
      "10:42:27 - cmdstanpy - INFO - Chain [1] start processing\n",
      "10:42:28 - cmdstanpy - INFO - Chain [1] done processing\n",
      "10:42:28 - cmdstanpy - INFO - Chain [1] start processing\n",
      "10:42:29 - cmdstanpy - INFO - Chain [1] done processing\n"
     ]
    },
    {
     "data": {
      "application/vnd.jupyter.widget-view+json": {
       "model_id": "24accbac938b4e63aac8e4074bc4a7f7",
       "version_major": 2,
       "version_minor": 0
      },
      "text/plain": [
       "  0%|          | 0/11 [00:00<?, ?it/s]"
      ]
     },
     "metadata": {},
     "output_type": "display_data"
    },
    {
     "name": "stderr",
     "output_type": "stream",
     "text": [
      "10:42:29 - cmdstanpy - INFO - Chain [1] start processing\n",
      "10:42:30 - cmdstanpy - INFO - Chain [1] done processing\n",
      "10:42:31 - cmdstanpy - INFO - Chain [1] start processing\n",
      "10:42:31 - cmdstanpy - INFO - Chain [1] done processing\n",
      "10:42:32 - cmdstanpy - INFO - Chain [1] start processing\n",
      "10:42:33 - cmdstanpy - INFO - Chain [1] done processing\n",
      "10:42:33 - cmdstanpy - INFO - Chain [1] start processing\n",
      "10:42:34 - cmdstanpy - INFO - Chain [1] done processing\n",
      "10:42:35 - cmdstanpy - INFO - Chain [1] start processing\n",
      "10:42:35 - cmdstanpy - INFO - Chain [1] done processing\n",
      "10:42:36 - cmdstanpy - INFO - Chain [1] start processing\n",
      "10:42:37 - cmdstanpy - INFO - Chain [1] done processing\n",
      "10:42:38 - cmdstanpy - INFO - Chain [1] start processing\n",
      "10:42:39 - cmdstanpy - INFO - Chain [1] done processing\n",
      "10:42:39 - cmdstanpy - INFO - Chain [1] start processing\n",
      "10:42:41 - cmdstanpy - INFO - Chain [1] done processing\n",
      "10:42:41 - cmdstanpy - INFO - Chain [1] start processing\n",
      "10:42:42 - cmdstanpy - INFO - Chain [1] done processing\n",
      "10:42:43 - cmdstanpy - INFO - Chain [1] start processing\n",
      "10:42:44 - cmdstanpy - INFO - Chain [1] done processing\n",
      "10:42:45 - cmdstanpy - INFO - Chain [1] start processing\n",
      "10:42:46 - cmdstanpy - INFO - Chain [1] done processing\n",
      "10:42:47 - cmdstanpy - INFO - Chain [1] start processing\n",
      "10:42:48 - cmdstanpy - INFO - Chain [1] done processing\n"
     ]
    },
    {
     "data": {
      "application/vnd.jupyter.widget-view+json": {
       "model_id": "046698e37f9048aeb1e42965dda8c92e",
       "version_major": 2,
       "version_minor": 0
      },
      "text/plain": [
       "  0%|          | 0/11 [00:00<?, ?it/s]"
      ]
     },
     "metadata": {},
     "output_type": "display_data"
    },
    {
     "name": "stderr",
     "output_type": "stream",
     "text": [
      "10:42:48 - cmdstanpy - INFO - Chain [1] start processing\n",
      "10:42:48 - cmdstanpy - INFO - Chain [1] done processing\n",
      "10:42:49 - cmdstanpy - INFO - Chain [1] start processing\n",
      "10:42:50 - cmdstanpy - INFO - Chain [1] done processing\n",
      "10:42:50 - cmdstanpy - INFO - Chain [1] start processing\n",
      "10:42:51 - cmdstanpy - INFO - Chain [1] done processing\n",
      "10:42:52 - cmdstanpy - INFO - Chain [1] start processing\n",
      "10:42:52 - cmdstanpy - INFO - Chain [1] done processing\n",
      "10:42:53 - cmdstanpy - INFO - Chain [1] start processing\n",
      "10:42:54 - cmdstanpy - INFO - Chain [1] done processing\n",
      "10:42:55 - cmdstanpy - INFO - Chain [1] start processing\n",
      "10:42:56 - cmdstanpy - INFO - Chain [1] done processing\n",
      "10:42:56 - cmdstanpy - INFO - Chain [1] start processing\n",
      "10:42:57 - cmdstanpy - INFO - Chain [1] done processing\n",
      "10:42:58 - cmdstanpy - INFO - Chain [1] start processing\n",
      "10:42:59 - cmdstanpy - INFO - Chain [1] done processing\n",
      "10:43:00 - cmdstanpy - INFO - Chain [1] start processing\n",
      "10:43:01 - cmdstanpy - INFO - Chain [1] done processing\n",
      "10:43:02 - cmdstanpy - INFO - Chain [1] start processing\n",
      "10:43:02 - cmdstanpy - INFO - Chain [1] done processing\n",
      "10:43:03 - cmdstanpy - INFO - Chain [1] start processing\n",
      "10:43:04 - cmdstanpy - INFO - Chain [1] done processing\n",
      "10:43:05 - cmdstanpy - INFO - Chain [1] start processing\n",
      "10:43:06 - cmdstanpy - INFO - Chain [1] done processing\n"
     ]
    },
    {
     "data": {
      "application/vnd.jupyter.widget-view+json": {
       "model_id": "5a21ce6323244700bd5324196f248289",
       "version_major": 2,
       "version_minor": 0
      },
      "text/plain": [
       "  0%|          | 0/11 [00:00<?, ?it/s]"
      ]
     },
     "metadata": {},
     "output_type": "display_data"
    },
    {
     "name": "stderr",
     "output_type": "stream",
     "text": [
      "10:43:06 - cmdstanpy - INFO - Chain [1] start processing\n",
      "10:43:06 - cmdstanpy - INFO - Chain [1] done processing\n",
      "10:43:07 - cmdstanpy - INFO - Chain [1] start processing\n",
      "10:43:08 - cmdstanpy - INFO - Chain [1] done processing\n",
      "10:43:08 - cmdstanpy - INFO - Chain [1] start processing\n",
      "10:43:09 - cmdstanpy - INFO - Chain [1] done processing\n",
      "10:43:10 - cmdstanpy - INFO - Chain [1] start processing\n",
      "10:43:10 - cmdstanpy - INFO - Chain [1] done processing\n",
      "10:43:11 - cmdstanpy - INFO - Chain [1] start processing\n",
      "10:43:12 - cmdstanpy - INFO - Chain [1] done processing\n",
      "10:43:12 - cmdstanpy - INFO - Chain [1] start processing\n",
      "10:43:13 - cmdstanpy - INFO - Chain [1] done processing\n",
      "10:43:14 - cmdstanpy - INFO - Chain [1] start processing\n",
      "10:43:15 - cmdstanpy - INFO - Chain [1] done processing\n",
      "10:43:16 - cmdstanpy - INFO - Chain [1] start processing\n",
      "10:43:17 - cmdstanpy - INFO - Chain [1] done processing\n",
      "10:43:18 - cmdstanpy - INFO - Chain [1] start processing\n",
      "10:43:18 - cmdstanpy - INFO - Chain [1] done processing\n",
      "10:43:19 - cmdstanpy - INFO - Chain [1] start processing\n",
      "10:43:20 - cmdstanpy - INFO - Chain [1] done processing\n",
      "10:43:21 - cmdstanpy - INFO - Chain [1] start processing\n",
      "10:43:22 - cmdstanpy - INFO - Chain [1] done processing\n",
      "10:43:23 - cmdstanpy - INFO - Chain [1] start processing\n",
      "10:43:24 - cmdstanpy - INFO - Chain [1] done processing\n"
     ]
    },
    {
     "data": {
      "application/vnd.jupyter.widget-view+json": {
       "model_id": "871d9f06433d42c18724d935189764f6",
       "version_major": 2,
       "version_minor": 0
      },
      "text/plain": [
       "  0%|          | 0/11 [00:00<?, ?it/s]"
      ]
     },
     "metadata": {},
     "output_type": "display_data"
    },
    {
     "name": "stderr",
     "output_type": "stream",
     "text": [
      "10:43:24 - cmdstanpy - INFO - Chain [1] start processing\n",
      "10:43:24 - cmdstanpy - INFO - Chain [1] done processing\n",
      "10:43:25 - cmdstanpy - INFO - Chain [1] start processing\n",
      "10:43:25 - cmdstanpy - INFO - Chain [1] done processing\n",
      "10:43:26 - cmdstanpy - INFO - Chain [1] start processing\n",
      "10:43:27 - cmdstanpy - INFO - Chain [1] done processing\n",
      "10:43:28 - cmdstanpy - INFO - Chain [1] start processing\n",
      "10:43:28 - cmdstanpy - INFO - Chain [1] done processing\n",
      "10:43:29 - cmdstanpy - INFO - Chain [1] start processing\n",
      "10:43:29 - cmdstanpy - INFO - Chain [1] done processing\n",
      "10:43:30 - cmdstanpy - INFO - Chain [1] start processing\n",
      "10:43:31 - cmdstanpy - INFO - Chain [1] done processing\n",
      "10:43:32 - cmdstanpy - INFO - Chain [1] start processing\n",
      "10:43:33 - cmdstanpy - INFO - Chain [1] done processing\n",
      "10:43:34 - cmdstanpy - INFO - Chain [1] start processing\n",
      "10:43:35 - cmdstanpy - INFO - Chain [1] done processing\n",
      "10:43:36 - cmdstanpy - INFO - Chain [1] start processing\n",
      "10:43:37 - cmdstanpy - INFO - Chain [1] done processing\n",
      "10:43:37 - cmdstanpy - INFO - Chain [1] start processing\n",
      "10:43:38 - cmdstanpy - INFO - Chain [1] done processing\n",
      "10:43:39 - cmdstanpy - INFO - Chain [1] start processing\n",
      "10:43:40 - cmdstanpy - INFO - Chain [1] done processing\n",
      "10:43:41 - cmdstanpy - INFO - Chain [1] start processing\n",
      "10:43:42 - cmdstanpy - INFO - Chain [1] done processing\n"
     ]
    },
    {
     "data": {
      "application/vnd.jupyter.widget-view+json": {
       "model_id": "6dc95d63aa1e4d17906e112f72c07ee0",
       "version_major": 2,
       "version_minor": 0
      },
      "text/plain": [
       "  0%|          | 0/11 [00:00<?, ?it/s]"
      ]
     },
     "metadata": {},
     "output_type": "display_data"
    },
    {
     "name": "stderr",
     "output_type": "stream",
     "text": [
      "10:43:42 - cmdstanpy - INFO - Chain [1] start processing\n",
      "10:43:43 - cmdstanpy - INFO - Chain [1] done processing\n",
      "10:43:43 - cmdstanpy - INFO - Chain [1] start processing\n",
      "10:43:44 - cmdstanpy - INFO - Chain [1] done processing\n",
      "10:43:44 - cmdstanpy - INFO - Chain [1] start processing\n",
      "10:43:45 - cmdstanpy - INFO - Chain [1] done processing\n",
      "10:43:46 - cmdstanpy - INFO - Chain [1] start processing\n",
      "10:43:46 - cmdstanpy - INFO - Chain [1] done processing\n",
      "10:43:47 - cmdstanpy - INFO - Chain [1] start processing\n",
      "10:43:48 - cmdstanpy - INFO - Chain [1] done processing\n",
      "10:43:49 - cmdstanpy - INFO - Chain [1] start processing\n",
      "10:43:49 - cmdstanpy - INFO - Chain [1] done processing\n",
      "10:43:50 - cmdstanpy - INFO - Chain [1] start processing\n",
      "10:43:51 - cmdstanpy - INFO - Chain [1] done processing\n",
      "10:43:52 - cmdstanpy - INFO - Chain [1] start processing\n",
      "10:43:53 - cmdstanpy - INFO - Chain [1] done processing\n",
      "10:43:53 - cmdstanpy - INFO - Chain [1] start processing\n",
      "10:43:54 - cmdstanpy - INFO - Chain [1] done processing\n",
      "10:43:55 - cmdstanpy - INFO - Chain [1] start processing\n",
      "10:43:56 - cmdstanpy - INFO - Chain [1] done processing\n",
      "10:43:57 - cmdstanpy - INFO - Chain [1] start processing\n",
      "10:43:58 - cmdstanpy - INFO - Chain [1] done processing\n",
      "10:43:59 - cmdstanpy - INFO - Chain [1] start processing\n",
      "10:44:00 - cmdstanpy - INFO - Chain [1] done processing\n"
     ]
    },
    {
     "data": {
      "application/vnd.jupyter.widget-view+json": {
       "model_id": "5c45b4cde5e640cc935192f07b8e274f",
       "version_major": 2,
       "version_minor": 0
      },
      "text/plain": [
       "  0%|          | 0/11 [00:00<?, ?it/s]"
      ]
     },
     "metadata": {},
     "output_type": "display_data"
    },
    {
     "name": "stderr",
     "output_type": "stream",
     "text": [
      "10:44:00 - cmdstanpy - INFO - Chain [1] start processing\n",
      "10:44:01 - cmdstanpy - INFO - Chain [1] done processing\n",
      "10:44:01 - cmdstanpy - INFO - Chain [1] start processing\n",
      "10:44:02 - cmdstanpy - INFO - Chain [1] done processing\n",
      "10:44:03 - cmdstanpy - INFO - Chain [1] start processing\n",
      "10:44:03 - cmdstanpy - INFO - Chain [1] done processing\n",
      "10:44:04 - cmdstanpy - INFO - Chain [1] start processing\n",
      "10:44:04 - cmdstanpy - INFO - Chain [1] done processing\n",
      "10:44:05 - cmdstanpy - INFO - Chain [1] start processing\n",
      "10:44:06 - cmdstanpy - INFO - Chain [1] done processing\n",
      "10:44:07 - cmdstanpy - INFO - Chain [1] start processing\n",
      "10:44:07 - cmdstanpy - INFO - Chain [1] done processing\n",
      "10:44:08 - cmdstanpy - INFO - Chain [1] start processing\n",
      "10:44:09 - cmdstanpy - INFO - Chain [1] done processing\n",
      "10:44:10 - cmdstanpy - INFO - Chain [1] start processing\n",
      "10:44:11 - cmdstanpy - INFO - Chain [1] done processing\n",
      "10:44:11 - cmdstanpy - INFO - Chain [1] start processing\n",
      "10:44:12 - cmdstanpy - INFO - Chain [1] done processing\n",
      "10:44:13 - cmdstanpy - INFO - Chain [1] start processing\n",
      "10:44:14 - cmdstanpy - INFO - Chain [1] done processing\n",
      "10:44:15 - cmdstanpy - INFO - Chain [1] start processing\n",
      "10:44:16 - cmdstanpy - INFO - Chain [1] done processing\n",
      "10:44:17 - cmdstanpy - INFO - Chain [1] start processing\n",
      "10:44:18 - cmdstanpy - INFO - Chain [1] done processing\n"
     ]
    },
    {
     "data": {
      "application/vnd.jupyter.widget-view+json": {
       "model_id": "1f77ec1ca2d34d38914a497d2b02ae0c",
       "version_major": 2,
       "version_minor": 0
      },
      "text/plain": [
       "  0%|          | 0/11 [00:00<?, ?it/s]"
      ]
     },
     "metadata": {},
     "output_type": "display_data"
    },
    {
     "name": "stderr",
     "output_type": "stream",
     "text": [
      "10:44:18 - cmdstanpy - INFO - Chain [1] start processing\n",
      "10:44:19 - cmdstanpy - INFO - Chain [1] done processing\n",
      "10:44:19 - cmdstanpy - INFO - Chain [1] start processing\n",
      "10:44:20 - cmdstanpy - INFO - Chain [1] done processing\n",
      "10:44:21 - cmdstanpy - INFO - Chain [1] start processing\n",
      "10:44:21 - cmdstanpy - INFO - Chain [1] done processing\n",
      "10:44:22 - cmdstanpy - INFO - Chain [1] start processing\n",
      "10:44:22 - cmdstanpy - INFO - Chain [1] done processing\n",
      "10:44:23 - cmdstanpy - INFO - Chain [1] start processing\n",
      "10:44:24 - cmdstanpy - INFO - Chain [1] done processing\n",
      "10:44:24 - cmdstanpy - INFO - Chain [1] start processing\n",
      "10:44:25 - cmdstanpy - INFO - Chain [1] done processing\n",
      "10:44:26 - cmdstanpy - INFO - Chain [1] start processing\n",
      "10:44:27 - cmdstanpy - INFO - Chain [1] done processing\n",
      "10:44:28 - cmdstanpy - INFO - Chain [1] start processing\n",
      "10:44:29 - cmdstanpy - INFO - Chain [1] done processing\n",
      "10:44:29 - cmdstanpy - INFO - Chain [1] start processing\n",
      "10:44:30 - cmdstanpy - INFO - Chain [1] done processing\n",
      "10:44:31 - cmdstanpy - INFO - Chain [1] start processing\n",
      "10:44:32 - cmdstanpy - INFO - Chain [1] done processing\n",
      "10:44:33 - cmdstanpy - INFO - Chain [1] start processing\n",
      "10:44:34 - cmdstanpy - INFO - Chain [1] done processing\n",
      "10:44:35 - cmdstanpy - INFO - Chain [1] start processing\n",
      "10:44:36 - cmdstanpy - INFO - Chain [1] done processing\n"
     ]
    },
    {
     "data": {
      "application/vnd.jupyter.widget-view+json": {
       "model_id": "4e5b44926c474fefbe8f58bd48500a1c",
       "version_major": 2,
       "version_minor": 0
      },
      "text/plain": [
       "  0%|          | 0/11 [00:00<?, ?it/s]"
      ]
     },
     "metadata": {},
     "output_type": "display_data"
    },
    {
     "name": "stderr",
     "output_type": "stream",
     "text": [
      "10:44:36 - cmdstanpy - INFO - Chain [1] start processing\n",
      "10:44:37 - cmdstanpy - INFO - Chain [1] done processing\n",
      "10:44:37 - cmdstanpy - INFO - Chain [1] start processing\n",
      "10:44:38 - cmdstanpy - INFO - Chain [1] done processing\n",
      "10:44:39 - cmdstanpy - INFO - Chain [1] start processing\n",
      "10:44:39 - cmdstanpy - INFO - Chain [1] done processing\n",
      "10:44:40 - cmdstanpy - INFO - Chain [1] start processing\n",
      "10:44:40 - cmdstanpy - INFO - Chain [1] done processing\n",
      "10:44:41 - cmdstanpy - INFO - Chain [1] start processing\n",
      "10:44:42 - cmdstanpy - INFO - Chain [1] done processing\n",
      "10:44:43 - cmdstanpy - INFO - Chain [1] start processing\n",
      "10:44:43 - cmdstanpy - INFO - Chain [1] done processing\n",
      "10:44:44 - cmdstanpy - INFO - Chain [1] start processing\n",
      "10:44:45 - cmdstanpy - INFO - Chain [1] done processing\n",
      "10:44:46 - cmdstanpy - INFO - Chain [1] start processing\n",
      "10:44:47 - cmdstanpy - INFO - Chain [1] done processing\n",
      "10:44:47 - cmdstanpy - INFO - Chain [1] start processing\n",
      "10:44:48 - cmdstanpy - INFO - Chain [1] done processing\n",
      "10:44:49 - cmdstanpy - INFO - Chain [1] start processing\n",
      "10:44:50 - cmdstanpy - INFO - Chain [1] done processing\n",
      "10:44:51 - cmdstanpy - INFO - Chain [1] start processing\n",
      "10:44:52 - cmdstanpy - INFO - Chain [1] done processing\n"
     ]
    },
    {
     "name": "stdout",
     "output_type": "stream",
     "text": [
      "    changepoint_prior_scale  seasonality_prior_scale  holidays_prior_scale  \\\n",
      "0                     0.001                     0.01                  0.01   \n",
      "1                     0.001                     0.01                  0.10   \n",
      "2                     0.001                     0.01                  1.00   \n",
      "3                     0.001                     0.01                 10.00   \n",
      "4                     0.001                     0.10                  0.01   \n",
      "..                      ...                      ...                   ...   \n",
      "59                    0.500                     1.00                 10.00   \n",
      "60                    0.500                    10.00                  0.01   \n",
      "61                    0.500                    10.00                  0.10   \n",
      "62                    0.500                    10.00                  1.00   \n",
      "63                    0.500                    10.00                 10.00   \n",
      "\n",
      "          rmse  \n",
      "0   292.888947  \n",
      "1   292.888947  \n",
      "2   292.888947  \n",
      "3   292.888947  \n",
      "4   291.153516  \n",
      "..         ...  \n",
      "59  174.536218  \n",
      "60  174.524765  \n",
      "61  174.524765  \n",
      "62  174.524765  \n",
      "63  174.524765  \n",
      "\n",
      "[64 rows x 4 columns]\n"
     ]
    }
   ],
   "source": [
    "from prophet import Prophet\n",
    "import itertools\n",
    "import numpy as np\n",
    "import pandas as pd\n",
    "from prophet.diagnostics import cross_validation\n",
    "from prophet.diagnostics import performance_metrics\n",
    "\n",
    "data = pd.read_csv('tsla-data1.csv')\n",
    "\n",
    "\n",
    "param_grid = {  \n",
    "    'changepoint_prior_scale': [0.001, 0.01, 0.1, 0.5],\n",
    "    'seasonality_prior_scale': [0.01, 0.1, 1.0, 10.0],\n",
    "    'holidays_prior_scale': [0.01, 0.1, 1.0, 10.0],\n",
    "}\n",
    "\n",
    "# Generate all combinations of parameters\n",
    "all_params = [dict(zip(param_grid.keys(), v)) for v in itertools.product(*param_grid.values())]\n",
    "rmses = []  # Store the RMSEs for each params here\n",
    "\n",
    "# Use cross validation to evaluate all parameters\n",
    "for params in all_params:\n",
    "    m = Prophet(**params, interval_width=0.9, daily_seasonality=True).fit(data)  # Fit model with given params\n",
    "    df_cv = cross_validation(m, initial='730 days', period='180 days', horizon = '365 days')\n",
    "    df_p = performance_metrics(df_cv, rolling_window=1)\n",
    "    rmses.append(df_p['rmse'].values[0])\n",
    "\n",
    "# Find the best parameters\n",
    "tuning_results = pd.DataFrame(all_params)\n",
    "tuning_results['rmse'] = rmses\n",
    "print(tuning_results)\n",
    "\n",
    "\n",
    "df_p = performance_metrics(df_cv)"
   ]
  },
  {
   "cell_type": "code",
   "execution_count": 4,
   "id": "8d68eb81",
   "metadata": {},
   "outputs": [
    {
     "name": "stdout",
     "output_type": "stream",
     "text": [
      "{'changepoint_prior_scale': 0.5, 'seasonality_prior_scale': 10.0, 'holidays_prior_scale': 0.01}\n"
     ]
    }
   ],
   "source": [
    "best_params = all_params[np.argmin(rmses)]\n",
    "print(best_params)"
   ]
  },
  {
   "cell_type": "code",
   "execution_count": 5,
   "id": "d233438b",
   "metadata": {},
   "outputs": [
    {
     "name": "stdout",
     "output_type": "stream",
     "text": [
      "174.5247645854092\n"
     ]
    }
   ],
   "source": [
    "print(tuning_results['rmse'].min())"
   ]
  },
  {
   "cell_type": "code",
   "execution_count": null,
   "id": "80a34dd6",
   "metadata": {},
   "outputs": [],
   "source": []
  }
 ],
 "metadata": {
  "kernelspec": {
   "display_name": "Python 3 (ipykernel)",
   "language": "python",
   "name": "python3"
  },
  "language_info": {
   "codemirror_mode": {
    "name": "ipython",
    "version": 3
   },
   "file_extension": ".py",
   "mimetype": "text/x-python",
   "name": "python",
   "nbconvert_exporter": "python",
   "pygments_lexer": "ipython3",
   "version": "3.9.12"
  }
 },
 "nbformat": 4,
 "nbformat_minor": 5
}
