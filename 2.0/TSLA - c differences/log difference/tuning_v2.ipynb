{
 "cells": [
  {
   "cell_type": "code",
   "execution_count": 1,
   "id": "2968028f",
   "metadata": {
    "scrolled": true
   },
   "outputs": [
    {
     "name": "stderr",
     "output_type": "stream",
     "text": [
      "10:16:37 - cmdstanpy - INFO - Chain [1] start processing\n",
      "10:16:37 - cmdstanpy - INFO - Chain [1] done processing\n"
     ]
    },
    {
     "data": {
      "application/vnd.jupyter.widget-view+json": {
       "model_id": "e539174033d64279994e9b0e463a7f38",
       "version_major": 2,
       "version_minor": 0
      },
      "text/plain": [
       "  0%|          | 0/4 [00:00<?, ?it/s]"
      ]
     },
     "metadata": {},
     "output_type": "display_data"
    },
    {
     "name": "stderr",
     "output_type": "stream",
     "text": [
      "10:16:37 - cmdstanpy - INFO - Chain [1] start processing\n",
      "10:16:37 - cmdstanpy - INFO - Chain [1] done processing\n",
      "10:16:38 - cmdstanpy - INFO - Chain [1] start processing\n",
      "10:16:38 - cmdstanpy - INFO - Chain [1] done processing\n",
      "10:16:39 - cmdstanpy - INFO - Chain [1] start processing\n",
      "10:16:39 - cmdstanpy - INFO - Chain [1] done processing\n",
      "10:16:39 - cmdstanpy - INFO - Chain [1] start processing\n",
      "10:16:39 - cmdstanpy - INFO - Chain [1] done processing\n",
      "10:16:40 - cmdstanpy - INFO - Chain [1] start processing\n",
      "10:16:40 - cmdstanpy - INFO - Chain [1] done processing\n"
     ]
    },
    {
     "data": {
      "application/vnd.jupyter.widget-view+json": {
       "model_id": "18f1bd364cce40d091be5aa59ea17e4d",
       "version_major": 2,
       "version_minor": 0
      },
      "text/plain": [
       "  0%|          | 0/4 [00:00<?, ?it/s]"
      ]
     },
     "metadata": {},
     "output_type": "display_data"
    },
    {
     "name": "stderr",
     "output_type": "stream",
     "text": [
      "10:16:40 - cmdstanpy - INFO - Chain [1] start processing\n",
      "10:16:40 - cmdstanpy - INFO - Chain [1] done processing\n",
      "10:16:41 - cmdstanpy - INFO - Chain [1] start processing\n",
      "10:16:41 - cmdstanpy - INFO - Chain [1] done processing\n",
      "10:16:42 - cmdstanpy - INFO - Chain [1] start processing\n",
      "10:16:42 - cmdstanpy - INFO - Chain [1] done processing\n",
      "10:16:42 - cmdstanpy - INFO - Chain [1] start processing\n",
      "10:16:42 - cmdstanpy - INFO - Chain [1] done processing\n",
      "10:16:43 - cmdstanpy - INFO - Chain [1] start processing\n",
      "10:16:43 - cmdstanpy - INFO - Chain [1] done processing\n"
     ]
    },
    {
     "data": {
      "application/vnd.jupyter.widget-view+json": {
       "model_id": "80ebefd38db4435cb9218df7931404e0",
       "version_major": 2,
       "version_minor": 0
      },
      "text/plain": [
       "  0%|          | 0/4 [00:00<?, ?it/s]"
      ]
     },
     "metadata": {},
     "output_type": "display_data"
    },
    {
     "name": "stderr",
     "output_type": "stream",
     "text": [
      "10:16:43 - cmdstanpy - INFO - Chain [1] start processing\n",
      "10:16:43 - cmdstanpy - INFO - Chain [1] done processing\n",
      "10:16:44 - cmdstanpy - INFO - Chain [1] start processing\n",
      "10:16:44 - cmdstanpy - INFO - Chain [1] done processing\n",
      "10:16:44 - cmdstanpy - INFO - Chain [1] start processing\n",
      "10:16:44 - cmdstanpy - INFO - Chain [1] done processing\n",
      "10:16:45 - cmdstanpy - INFO - Chain [1] start processing\n",
      "10:16:45 - cmdstanpy - INFO - Chain [1] done processing\n",
      "10:16:46 - cmdstanpy - INFO - Chain [1] start processing\n",
      "10:16:46 - cmdstanpy - INFO - Chain [1] done processing\n"
     ]
    },
    {
     "data": {
      "application/vnd.jupyter.widget-view+json": {
       "model_id": "92c3ada7e30c4640be54cfe876576c19",
       "version_major": 2,
       "version_minor": 0
      },
      "text/plain": [
       "  0%|          | 0/4 [00:00<?, ?it/s]"
      ]
     },
     "metadata": {},
     "output_type": "display_data"
    },
    {
     "name": "stderr",
     "output_type": "stream",
     "text": [
      "10:16:46 - cmdstanpy - INFO - Chain [1] start processing\n",
      "10:16:46 - cmdstanpy - INFO - Chain [1] done processing\n",
      "10:16:47 - cmdstanpy - INFO - Chain [1] start processing\n",
      "10:16:47 - cmdstanpy - INFO - Chain [1] done processing\n",
      "10:16:47 - cmdstanpy - INFO - Chain [1] start processing\n",
      "10:16:47 - cmdstanpy - INFO - Chain [1] done processing\n",
      "10:16:48 - cmdstanpy - INFO - Chain [1] start processing\n",
      "10:16:48 - cmdstanpy - INFO - Chain [1] done processing\n",
      "10:16:49 - cmdstanpy - INFO - Chain [1] start processing\n",
      "10:16:49 - cmdstanpy - INFO - Chain [1] done processing\n"
     ]
    },
    {
     "data": {
      "application/vnd.jupyter.widget-view+json": {
       "model_id": "33b2698225d24bd5b769b3502747f836",
       "version_major": 2,
       "version_minor": 0
      },
      "text/plain": [
       "  0%|          | 0/4 [00:00<?, ?it/s]"
      ]
     },
     "metadata": {},
     "output_type": "display_data"
    },
    {
     "name": "stderr",
     "output_type": "stream",
     "text": [
      "10:16:49 - cmdstanpy - INFO - Chain [1] start processing\n",
      "10:16:49 - cmdstanpy - INFO - Chain [1] done processing\n",
      "10:16:50 - cmdstanpy - INFO - Chain [1] start processing\n",
      "10:16:50 - cmdstanpy - INFO - Chain [1] done processing\n",
      "10:16:50 - cmdstanpy - INFO - Chain [1] start processing\n",
      "10:16:50 - cmdstanpy - INFO - Chain [1] done processing\n",
      "10:16:51 - cmdstanpy - INFO - Chain [1] start processing\n",
      "10:16:51 - cmdstanpy - INFO - Chain [1] done processing\n",
      "10:16:51 - cmdstanpy - INFO - Chain [1] start processing\n",
      "10:16:51 - cmdstanpy - INFO - Chain [1] done processing\n"
     ]
    },
    {
     "data": {
      "application/vnd.jupyter.widget-view+json": {
       "model_id": "85ccd0a92ea74840a158aeb2492f354b",
       "version_major": 2,
       "version_minor": 0
      },
      "text/plain": [
       "  0%|          | 0/4 [00:00<?, ?it/s]"
      ]
     },
     "metadata": {},
     "output_type": "display_data"
    },
    {
     "name": "stderr",
     "output_type": "stream",
     "text": [
      "10:16:52 - cmdstanpy - INFO - Chain [1] start processing\n",
      "10:16:52 - cmdstanpy - INFO - Chain [1] done processing\n",
      "10:16:53 - cmdstanpy - INFO - Chain [1] start processing\n",
      "10:16:53 - cmdstanpy - INFO - Chain [1] done processing\n",
      "10:16:53 - cmdstanpy - INFO - Chain [1] start processing\n",
      "10:16:53 - cmdstanpy - INFO - Chain [1] done processing\n",
      "10:16:54 - cmdstanpy - INFO - Chain [1] start processing\n",
      "10:16:54 - cmdstanpy - INFO - Chain [1] done processing\n",
      "10:16:55 - cmdstanpy - INFO - Chain [1] start processing\n",
      "10:16:55 - cmdstanpy - INFO - Chain [1] done processing\n"
     ]
    },
    {
     "data": {
      "application/vnd.jupyter.widget-view+json": {
       "model_id": "3d61645a5e9446ae92b4e94165337214",
       "version_major": 2,
       "version_minor": 0
      },
      "text/plain": [
       "  0%|          | 0/4 [00:00<?, ?it/s]"
      ]
     },
     "metadata": {},
     "output_type": "display_data"
    },
    {
     "name": "stderr",
     "output_type": "stream",
     "text": [
      "10:16:55 - cmdstanpy - INFO - Chain [1] start processing\n",
      "10:16:55 - cmdstanpy - INFO - Chain [1] done processing\n",
      "10:16:56 - cmdstanpy - INFO - Chain [1] start processing\n",
      "10:16:56 - cmdstanpy - INFO - Chain [1] done processing\n",
      "10:16:57 - cmdstanpy - INFO - Chain [1] start processing\n",
      "10:16:57 - cmdstanpy - INFO - Chain [1] done processing\n",
      "10:16:57 - cmdstanpy - INFO - Chain [1] start processing\n",
      "10:16:57 - cmdstanpy - INFO - Chain [1] done processing\n",
      "10:16:58 - cmdstanpy - INFO - Chain [1] start processing\n",
      "10:16:58 - cmdstanpy - INFO - Chain [1] done processing\n"
     ]
    },
    {
     "data": {
      "application/vnd.jupyter.widget-view+json": {
       "model_id": "5e99fc6be7f74d7fb261af35d0209085",
       "version_major": 2,
       "version_minor": 0
      },
      "text/plain": [
       "  0%|          | 0/4 [00:00<?, ?it/s]"
      ]
     },
     "metadata": {},
     "output_type": "display_data"
    },
    {
     "name": "stderr",
     "output_type": "stream",
     "text": [
      "10:16:58 - cmdstanpy - INFO - Chain [1] start processing\n",
      "10:16:58 - cmdstanpy - INFO - Chain [1] done processing\n",
      "10:16:59 - cmdstanpy - INFO - Chain [1] start processing\n",
      "10:16:59 - cmdstanpy - INFO - Chain [1] done processing\n",
      "10:17:00 - cmdstanpy - INFO - Chain [1] start processing\n",
      "10:17:00 - cmdstanpy - INFO - Chain [1] done processing\n",
      "10:17:01 - cmdstanpy - INFO - Chain [1] start processing\n",
      "10:17:01 - cmdstanpy - INFO - Chain [1] done processing\n",
      "10:17:01 - cmdstanpy - INFO - Chain [1] start processing\n",
      "10:17:01 - cmdstanpy - INFO - Chain [1] done processing\n"
     ]
    },
    {
     "data": {
      "application/vnd.jupyter.widget-view+json": {
       "model_id": "74a1b41b7ac94f52a5f4c4d5f7447d97",
       "version_major": 2,
       "version_minor": 0
      },
      "text/plain": [
       "  0%|          | 0/4 [00:00<?, ?it/s]"
      ]
     },
     "metadata": {},
     "output_type": "display_data"
    },
    {
     "name": "stderr",
     "output_type": "stream",
     "text": [
      "10:17:02 - cmdstanpy - INFO - Chain [1] start processing\n",
      "10:17:02 - cmdstanpy - INFO - Chain [1] done processing\n",
      "10:17:03 - cmdstanpy - INFO - Chain [1] start processing\n",
      "10:17:03 - cmdstanpy - INFO - Chain [1] done processing\n",
      "10:17:03 - cmdstanpy - INFO - Chain [1] start processing\n",
      "10:17:03 - cmdstanpy - INFO - Chain [1] done processing\n",
      "10:17:04 - cmdstanpy - INFO - Chain [1] start processing\n",
      "10:17:04 - cmdstanpy - INFO - Chain [1] done processing\n",
      "10:17:05 - cmdstanpy - INFO - Chain [1] start processing\n",
      "10:17:05 - cmdstanpy - INFO - Chain [1] done processing\n"
     ]
    },
    {
     "data": {
      "application/vnd.jupyter.widget-view+json": {
       "model_id": "add11c1911924410abe880e527016d1c",
       "version_major": 2,
       "version_minor": 0
      },
      "text/plain": [
       "  0%|          | 0/4 [00:00<?, ?it/s]"
      ]
     },
     "metadata": {},
     "output_type": "display_data"
    },
    {
     "name": "stderr",
     "output_type": "stream",
     "text": [
      "10:17:05 - cmdstanpy - INFO - Chain [1] start processing\n",
      "10:17:05 - cmdstanpy - INFO - Chain [1] done processing\n",
      "10:17:05 - cmdstanpy - INFO - Chain [1] start processing\n",
      "10:17:05 - cmdstanpy - INFO - Chain [1] done processing\n",
      "10:17:06 - cmdstanpy - INFO - Chain [1] start processing\n",
      "10:17:06 - cmdstanpy - INFO - Chain [1] done processing\n",
      "10:17:07 - cmdstanpy - INFO - Chain [1] start processing\n",
      "10:17:07 - cmdstanpy - INFO - Chain [1] done processing\n",
      "10:17:08 - cmdstanpy - INFO - Chain [1] start processing\n",
      "10:17:08 - cmdstanpy - INFO - Chain [1] done processing\n"
     ]
    },
    {
     "data": {
      "application/vnd.jupyter.widget-view+json": {
       "model_id": "c56e9a54e1fa41c0b6e290e75ec36849",
       "version_major": 2,
       "version_minor": 0
      },
      "text/plain": [
       "  0%|          | 0/4 [00:00<?, ?it/s]"
      ]
     },
     "metadata": {},
     "output_type": "display_data"
    },
    {
     "name": "stderr",
     "output_type": "stream",
     "text": [
      "10:17:08 - cmdstanpy - INFO - Chain [1] start processing\n",
      "10:17:08 - cmdstanpy - INFO - Chain [1] done processing\n",
      "10:17:09 - cmdstanpy - INFO - Chain [1] start processing\n",
      "10:17:09 - cmdstanpy - INFO - Chain [1] done processing\n",
      "10:17:09 - cmdstanpy - INFO - Chain [1] start processing\n",
      "10:17:09 - cmdstanpy - INFO - Chain [1] done processing\n",
      "10:17:10 - cmdstanpy - INFO - Chain [1] start processing\n",
      "10:17:10 - cmdstanpy - INFO - Chain [1] done processing\n",
      "10:17:13 - cmdstanpy - INFO - Chain [1] start processing\n",
      "10:17:14 - cmdstanpy - INFO - Chain [1] done processing\n"
     ]
    },
    {
     "data": {
      "application/vnd.jupyter.widget-view+json": {
       "model_id": "c1938a71008e4747a82b625b8d808377",
       "version_major": 2,
       "version_minor": 0
      },
      "text/plain": [
       "  0%|          | 0/4 [00:00<?, ?it/s]"
      ]
     },
     "metadata": {},
     "output_type": "display_data"
    },
    {
     "name": "stderr",
     "output_type": "stream",
     "text": [
      "10:17:14 - cmdstanpy - INFO - Chain [1] start processing\n",
      "10:17:14 - cmdstanpy - INFO - Chain [1] done processing\n",
      "10:17:15 - cmdstanpy - INFO - Chain [1] start processing\n",
      "10:17:15 - cmdstanpy - INFO - Chain [1] done processing\n",
      "10:17:15 - cmdstanpy - INFO - Chain [1] start processing\n",
      "10:17:15 - cmdstanpy - INFO - Chain [1] done processing\n",
      "10:17:16 - cmdstanpy - INFO - Chain [1] start processing\n",
      "10:17:16 - cmdstanpy - INFO - Chain [1] done processing\n",
      "10:17:17 - cmdstanpy - INFO - Chain [1] start processing\n",
      "10:17:17 - cmdstanpy - INFO - Chain [1] done processing\n"
     ]
    },
    {
     "data": {
      "application/vnd.jupyter.widget-view+json": {
       "model_id": "974e09da6c6e4f7c9ad9e649d59b510f",
       "version_major": 2,
       "version_minor": 0
      },
      "text/plain": [
       "  0%|          | 0/4 [00:00<?, ?it/s]"
      ]
     },
     "metadata": {},
     "output_type": "display_data"
    },
    {
     "name": "stderr",
     "output_type": "stream",
     "text": [
      "10:17:17 - cmdstanpy - INFO - Chain [1] start processing\n",
      "10:17:17 - cmdstanpy - INFO - Chain [1] done processing\n",
      "10:17:17 - cmdstanpy - INFO - Chain [1] start processing\n",
      "10:17:17 - cmdstanpy - INFO - Chain [1] done processing\n",
      "10:17:18 - cmdstanpy - INFO - Chain [1] start processing\n",
      "10:17:18 - cmdstanpy - INFO - Chain [1] done processing\n",
      "10:17:19 - cmdstanpy - INFO - Chain [1] start processing\n",
      "10:17:19 - cmdstanpy - INFO - Chain [1] done processing\n",
      "10:17:19 - cmdstanpy - INFO - Chain [1] start processing\n",
      "10:17:19 - cmdstanpy - INFO - Chain [1] done processing\n"
     ]
    },
    {
     "data": {
      "application/vnd.jupyter.widget-view+json": {
       "model_id": "8d2f9461ffc947198b63ac756a932ede",
       "version_major": 2,
       "version_minor": 0
      },
      "text/plain": [
       "  0%|          | 0/4 [00:00<?, ?it/s]"
      ]
     },
     "metadata": {},
     "output_type": "display_data"
    },
    {
     "name": "stderr",
     "output_type": "stream",
     "text": [
      "10:17:19 - cmdstanpy - INFO - Chain [1] start processing\n",
      "10:17:20 - cmdstanpy - INFO - Chain [1] done processing\n",
      "10:17:20 - cmdstanpy - INFO - Chain [1] start processing\n",
      "10:17:20 - cmdstanpy - INFO - Chain [1] done processing\n",
      "10:17:21 - cmdstanpy - INFO - Chain [1] start processing\n",
      "10:17:21 - cmdstanpy - INFO - Chain [1] done processing\n",
      "10:17:22 - cmdstanpy - INFO - Chain [1] start processing\n",
      "10:17:22 - cmdstanpy - INFO - Chain [1] done processing\n",
      "10:17:22 - cmdstanpy - INFO - Chain [1] start processing\n",
      "10:17:22 - cmdstanpy - INFO - Chain [1] done processing\n"
     ]
    },
    {
     "data": {
      "application/vnd.jupyter.widget-view+json": {
       "model_id": "e175ab3718de49e698f55117c082039f",
       "version_major": 2,
       "version_minor": 0
      },
      "text/plain": [
       "  0%|          | 0/4 [00:00<?, ?it/s]"
      ]
     },
     "metadata": {},
     "output_type": "display_data"
    },
    {
     "name": "stderr",
     "output_type": "stream",
     "text": [
      "10:17:22 - cmdstanpy - INFO - Chain [1] start processing\n",
      "10:17:23 - cmdstanpy - INFO - Chain [1] done processing\n",
      "10:17:23 - cmdstanpy - INFO - Chain [1] start processing\n",
      "10:17:23 - cmdstanpy - INFO - Chain [1] done processing\n",
      "10:17:24 - cmdstanpy - INFO - Chain [1] start processing\n",
      "10:17:24 - cmdstanpy - INFO - Chain [1] done processing\n",
      "10:17:24 - cmdstanpy - INFO - Chain [1] start processing\n",
      "10:17:25 - cmdstanpy - INFO - Chain [1] done processing\n",
      "10:17:25 - cmdstanpy - INFO - Chain [1] start processing\n",
      "10:17:25 - cmdstanpy - INFO - Chain [1] done processing\n"
     ]
    },
    {
     "data": {
      "application/vnd.jupyter.widget-view+json": {
       "model_id": "aa1079706a954c4fa75f8d46f4a438d6",
       "version_major": 2,
       "version_minor": 0
      },
      "text/plain": [
       "  0%|          | 0/4 [00:00<?, ?it/s]"
      ]
     },
     "metadata": {},
     "output_type": "display_data"
    },
    {
     "name": "stderr",
     "output_type": "stream",
     "text": [
      "10:17:25 - cmdstanpy - INFO - Chain [1] start processing\n",
      "10:17:25 - cmdstanpy - INFO - Chain [1] done processing\n",
      "10:17:26 - cmdstanpy - INFO - Chain [1] start processing\n",
      "10:17:26 - cmdstanpy - INFO - Chain [1] done processing\n",
      "10:17:27 - cmdstanpy - INFO - Chain [1] start processing\n",
      "10:17:27 - cmdstanpy - INFO - Chain [1] done processing\n",
      "10:17:27 - cmdstanpy - INFO - Chain [1] start processing\n",
      "10:17:27 - cmdstanpy - INFO - Chain [1] done processing\n",
      "10:17:28 - cmdstanpy - INFO - Chain [1] start processing\n",
      "10:17:28 - cmdstanpy - INFO - Chain [1] done processing\n"
     ]
    },
    {
     "data": {
      "application/vnd.jupyter.widget-view+json": {
       "model_id": "167021017e024dfd9d7a1acfe7adc022",
       "version_major": 2,
       "version_minor": 0
      },
      "text/plain": [
       "  0%|          | 0/4 [00:00<?, ?it/s]"
      ]
     },
     "metadata": {},
     "output_type": "display_data"
    },
    {
     "name": "stderr",
     "output_type": "stream",
     "text": [
      "10:17:28 - cmdstanpy - INFO - Chain [1] start processing\n",
      "10:17:28 - cmdstanpy - INFO - Chain [1] done processing\n",
      "10:17:29 - cmdstanpy - INFO - Chain [1] start processing\n",
      "10:17:29 - cmdstanpy - INFO - Chain [1] done processing\n",
      "10:17:30 - cmdstanpy - INFO - Chain [1] start processing\n",
      "10:17:30 - cmdstanpy - INFO - Chain [1] done processing\n",
      "10:17:30 - cmdstanpy - INFO - Chain [1] start processing\n",
      "10:17:30 - cmdstanpy - INFO - Chain [1] done processing\n",
      "10:17:31 - cmdstanpy - INFO - Chain [1] start processing\n",
      "10:17:31 - cmdstanpy - INFO - Chain [1] done processing\n"
     ]
    },
    {
     "data": {
      "application/vnd.jupyter.widget-view+json": {
       "model_id": "7198a32685d94ad381b0e0374c6c0629",
       "version_major": 2,
       "version_minor": 0
      },
      "text/plain": [
       "  0%|          | 0/4 [00:00<?, ?it/s]"
      ]
     },
     "metadata": {},
     "output_type": "display_data"
    },
    {
     "name": "stderr",
     "output_type": "stream",
     "text": [
      "10:17:31 - cmdstanpy - INFO - Chain [1] start processing\n",
      "10:17:31 - cmdstanpy - INFO - Chain [1] done processing\n",
      "10:17:32 - cmdstanpy - INFO - Chain [1] start processing\n",
      "10:17:32 - cmdstanpy - INFO - Chain [1] done processing\n",
      "10:17:32 - cmdstanpy - INFO - Chain [1] start processing\n",
      "10:17:32 - cmdstanpy - INFO - Chain [1] done processing\n",
      "10:17:33 - cmdstanpy - INFO - Chain [1] start processing\n",
      "10:17:33 - cmdstanpy - INFO - Chain [1] done processing\n",
      "10:17:34 - cmdstanpy - INFO - Chain [1] start processing\n",
      "10:17:34 - cmdstanpy - INFO - Chain [1] done processing\n"
     ]
    },
    {
     "data": {
      "application/vnd.jupyter.widget-view+json": {
       "model_id": "09529c1bad884cb889b6387c89a87cb3",
       "version_major": 2,
       "version_minor": 0
      },
      "text/plain": [
       "  0%|          | 0/4 [00:00<?, ?it/s]"
      ]
     },
     "metadata": {},
     "output_type": "display_data"
    },
    {
     "name": "stderr",
     "output_type": "stream",
     "text": [
      "10:17:34 - cmdstanpy - INFO - Chain [1] start processing\n",
      "10:17:34 - cmdstanpy - INFO - Chain [1] done processing\n",
      "10:17:35 - cmdstanpy - INFO - Chain [1] start processing\n",
      "10:17:35 - cmdstanpy - INFO - Chain [1] done processing\n",
      "10:17:35 - cmdstanpy - INFO - Chain [1] start processing\n",
      "10:17:35 - cmdstanpy - INFO - Chain [1] done processing\n",
      "10:17:36 - cmdstanpy - INFO - Chain [1] start processing\n",
      "10:17:36 - cmdstanpy - INFO - Chain [1] done processing\n",
      "10:17:37 - cmdstanpy - INFO - Chain [1] start processing\n",
      "10:17:37 - cmdstanpy - INFO - Chain [1] done processing\n"
     ]
    },
    {
     "data": {
      "application/vnd.jupyter.widget-view+json": {
       "model_id": "9643f94b99e4442fb199ed9fc23441f3",
       "version_major": 2,
       "version_minor": 0
      },
      "text/plain": [
       "  0%|          | 0/4 [00:00<?, ?it/s]"
      ]
     },
     "metadata": {},
     "output_type": "display_data"
    },
    {
     "name": "stderr",
     "output_type": "stream",
     "text": [
      "10:17:37 - cmdstanpy - INFO - Chain [1] start processing\n",
      "10:17:37 - cmdstanpy - INFO - Chain [1] done processing\n",
      "10:17:38 - cmdstanpy - INFO - Chain [1] start processing\n",
      "10:17:38 - cmdstanpy - INFO - Chain [1] done processing\n",
      "10:17:38 - cmdstanpy - INFO - Chain [1] start processing\n",
      "10:17:38 - cmdstanpy - INFO - Chain [1] done processing\n",
      "10:17:39 - cmdstanpy - INFO - Chain [1] start processing\n",
      "10:17:39 - cmdstanpy - INFO - Chain [1] done processing\n",
      "10:17:40 - cmdstanpy - INFO - Chain [1] start processing\n",
      "10:17:40 - cmdstanpy - INFO - Chain [1] done processing\n"
     ]
    },
    {
     "data": {
      "application/vnd.jupyter.widget-view+json": {
       "model_id": "2f7966810176478fb45e96402b329709",
       "version_major": 2,
       "version_minor": 0
      },
      "text/plain": [
       "  0%|          | 0/4 [00:00<?, ?it/s]"
      ]
     },
     "metadata": {},
     "output_type": "display_data"
    },
    {
     "name": "stderr",
     "output_type": "stream",
     "text": [
      "10:17:40 - cmdstanpy - INFO - Chain [1] start processing\n",
      "10:17:40 - cmdstanpy - INFO - Chain [1] done processing\n",
      "10:17:41 - cmdstanpy - INFO - Chain [1] start processing\n",
      "10:17:41 - cmdstanpy - INFO - Chain [1] done processing\n",
      "10:17:42 - cmdstanpy - INFO - Chain [1] start processing\n",
      "10:17:42 - cmdstanpy - INFO - Chain [1] done processing\n",
      "10:17:42 - cmdstanpy - INFO - Chain [1] start processing\n",
      "10:17:42 - cmdstanpy - INFO - Chain [1] done processing\n",
      "10:17:43 - cmdstanpy - INFO - Chain [1] start processing\n",
      "10:17:43 - cmdstanpy - INFO - Chain [1] done processing\n"
     ]
    },
    {
     "data": {
      "application/vnd.jupyter.widget-view+json": {
       "model_id": "d1027d2efa234b03b5bffc83b4802afc",
       "version_major": 2,
       "version_minor": 0
      },
      "text/plain": [
       "  0%|          | 0/4 [00:00<?, ?it/s]"
      ]
     },
     "metadata": {},
     "output_type": "display_data"
    },
    {
     "name": "stderr",
     "output_type": "stream",
     "text": [
      "10:17:43 - cmdstanpy - INFO - Chain [1] start processing\n",
      "10:17:43 - cmdstanpy - INFO - Chain [1] done processing\n",
      "10:17:44 - cmdstanpy - INFO - Chain [1] start processing\n",
      "10:17:44 - cmdstanpy - INFO - Chain [1] done processing\n",
      "10:17:45 - cmdstanpy - INFO - Chain [1] start processing\n",
      "10:17:45 - cmdstanpy - INFO - Chain [1] done processing\n",
      "10:17:45 - cmdstanpy - INFO - Chain [1] start processing\n",
      "10:17:45 - cmdstanpy - INFO - Chain [1] done processing\n",
      "10:17:46 - cmdstanpy - INFO - Chain [1] start processing\n",
      "10:17:46 - cmdstanpy - INFO - Chain [1] done processing\n"
     ]
    },
    {
     "data": {
      "application/vnd.jupyter.widget-view+json": {
       "model_id": "ce2b04ec7e9d4f6ba88a5b1eadcc6a07",
       "version_major": 2,
       "version_minor": 0
      },
      "text/plain": [
       "  0%|          | 0/4 [00:00<?, ?it/s]"
      ]
     },
     "metadata": {},
     "output_type": "display_data"
    },
    {
     "name": "stderr",
     "output_type": "stream",
     "text": [
      "10:17:46 - cmdstanpy - INFO - Chain [1] start processing\n",
      "10:17:47 - cmdstanpy - INFO - Chain [1] done processing\n",
      "10:17:47 - cmdstanpy - INFO - Chain [1] start processing\n",
      "10:17:47 - cmdstanpy - INFO - Chain [1] done processing\n",
      "10:17:48 - cmdstanpy - INFO - Chain [1] start processing\n",
      "10:17:48 - cmdstanpy - INFO - Chain [1] done processing\n",
      "10:17:49 - cmdstanpy - INFO - Chain [1] start processing\n",
      "10:17:49 - cmdstanpy - INFO - Chain [1] done processing\n",
      "10:17:50 - cmdstanpy - INFO - Chain [1] start processing\n",
      "10:17:50 - cmdstanpy - INFO - Chain [1] done processing\n"
     ]
    },
    {
     "data": {
      "application/vnd.jupyter.widget-view+json": {
       "model_id": "00b55dfe75e1404ead38e805a8f9b6b7",
       "version_major": 2,
       "version_minor": 0
      },
      "text/plain": [
       "  0%|          | 0/4 [00:00<?, ?it/s]"
      ]
     },
     "metadata": {},
     "output_type": "display_data"
    },
    {
     "name": "stderr",
     "output_type": "stream",
     "text": [
      "10:17:50 - cmdstanpy - INFO - Chain [1] start processing\n",
      "10:17:50 - cmdstanpy - INFO - Chain [1] done processing\n",
      "10:17:51 - cmdstanpy - INFO - Chain [1] start processing\n",
      "10:17:51 - cmdstanpy - INFO - Chain [1] done processing\n",
      "10:17:51 - cmdstanpy - INFO - Chain [1] start processing\n",
      "10:17:51 - cmdstanpy - INFO - Chain [1] done processing\n",
      "10:17:52 - cmdstanpy - INFO - Chain [1] start processing\n",
      "10:17:52 - cmdstanpy - INFO - Chain [1] done processing\n",
      "10:17:53 - cmdstanpy - INFO - Chain [1] start processing\n",
      "10:17:53 - cmdstanpy - INFO - Chain [1] done processing\n"
     ]
    },
    {
     "data": {
      "application/vnd.jupyter.widget-view+json": {
       "model_id": "9e50004576c14a868d89ccf6b1d8ff01",
       "version_major": 2,
       "version_minor": 0
      },
      "text/plain": [
       "  0%|          | 0/4 [00:00<?, ?it/s]"
      ]
     },
     "metadata": {},
     "output_type": "display_data"
    },
    {
     "name": "stderr",
     "output_type": "stream",
     "text": [
      "10:17:53 - cmdstanpy - INFO - Chain [1] start processing\n",
      "10:17:53 - cmdstanpy - INFO - Chain [1] done processing\n",
      "10:17:54 - cmdstanpy - INFO - Chain [1] start processing\n",
      "10:17:54 - cmdstanpy - INFO - Chain [1] done processing\n",
      "10:17:55 - cmdstanpy - INFO - Chain [1] start processing\n",
      "10:17:55 - cmdstanpy - INFO - Chain [1] done processing\n",
      "10:17:55 - cmdstanpy - INFO - Chain [1] start processing\n",
      "10:17:55 - cmdstanpy - INFO - Chain [1] done processing\n",
      "10:17:56 - cmdstanpy - INFO - Chain [1] start processing\n",
      "10:17:56 - cmdstanpy - INFO - Chain [1] done processing\n"
     ]
    },
    {
     "data": {
      "application/vnd.jupyter.widget-view+json": {
       "model_id": "d349455f636a41aba4bb57159c064cf0",
       "version_major": 2,
       "version_minor": 0
      },
      "text/plain": [
       "  0%|          | 0/4 [00:00<?, ?it/s]"
      ]
     },
     "metadata": {},
     "output_type": "display_data"
    },
    {
     "name": "stderr",
     "output_type": "stream",
     "text": [
      "10:17:56 - cmdstanpy - INFO - Chain [1] start processing\n",
      "10:17:56 - cmdstanpy - INFO - Chain [1] done processing\n",
      "10:17:57 - cmdstanpy - INFO - Chain [1] start processing\n",
      "10:17:57 - cmdstanpy - INFO - Chain [1] done processing\n",
      "10:17:57 - cmdstanpy - INFO - Chain [1] start processing\n",
      "10:17:58 - cmdstanpy - INFO - Chain [1] done processing\n",
      "10:17:58 - cmdstanpy - INFO - Chain [1] start processing\n",
      "10:17:58 - cmdstanpy - INFO - Chain [1] done processing\n",
      "10:17:59 - cmdstanpy - INFO - Chain [1] start processing\n",
      "10:17:59 - cmdstanpy - INFO - Chain [1] done processing\n"
     ]
    },
    {
     "data": {
      "application/vnd.jupyter.widget-view+json": {
       "model_id": "8002d4499e094ffba4b1098c8c9608dd",
       "version_major": 2,
       "version_minor": 0
      },
      "text/plain": [
       "  0%|          | 0/4 [00:00<?, ?it/s]"
      ]
     },
     "metadata": {},
     "output_type": "display_data"
    },
    {
     "name": "stderr",
     "output_type": "stream",
     "text": [
      "10:17:59 - cmdstanpy - INFO - Chain [1] start processing\n",
      "10:17:59 - cmdstanpy - INFO - Chain [1] done processing\n",
      "10:18:00 - cmdstanpy - INFO - Chain [1] start processing\n",
      "10:18:00 - cmdstanpy - INFO - Chain [1] done processing\n",
      "10:18:00 - cmdstanpy - INFO - Chain [1] start processing\n",
      "10:18:00 - cmdstanpy - INFO - Chain [1] done processing\n",
      "10:18:01 - cmdstanpy - INFO - Chain [1] start processing\n",
      "10:18:01 - cmdstanpy - INFO - Chain [1] done processing\n",
      "10:18:02 - cmdstanpy - INFO - Chain [1] start processing\n",
      "10:18:02 - cmdstanpy - INFO - Chain [1] done processing\n"
     ]
    },
    {
     "data": {
      "application/vnd.jupyter.widget-view+json": {
       "model_id": "a7101523f3e74c95a62b764c812f0476",
       "version_major": 2,
       "version_minor": 0
      },
      "text/plain": [
       "  0%|          | 0/4 [00:00<?, ?it/s]"
      ]
     },
     "metadata": {},
     "output_type": "display_data"
    },
    {
     "name": "stderr",
     "output_type": "stream",
     "text": [
      "10:18:02 - cmdstanpy - INFO - Chain [1] start processing\n",
      "10:18:02 - cmdstanpy - INFO - Chain [1] done processing\n",
      "10:18:03 - cmdstanpy - INFO - Chain [1] start processing\n",
      "10:18:03 - cmdstanpy - INFO - Chain [1] done processing\n",
      "10:18:03 - cmdstanpy - INFO - Chain [1] start processing\n",
      "10:18:03 - cmdstanpy - INFO - Chain [1] done processing\n",
      "10:18:04 - cmdstanpy - INFO - Chain [1] start processing\n",
      "10:18:04 - cmdstanpy - INFO - Chain [1] done processing\n",
      "10:18:05 - cmdstanpy - INFO - Chain [1] start processing\n",
      "10:18:05 - cmdstanpy - INFO - Chain [1] done processing\n"
     ]
    },
    {
     "data": {
      "application/vnd.jupyter.widget-view+json": {
       "model_id": "deff9ef37cba4aa084ccbda9d696d227",
       "version_major": 2,
       "version_minor": 0
      },
      "text/plain": [
       "  0%|          | 0/4 [00:00<?, ?it/s]"
      ]
     },
     "metadata": {},
     "output_type": "display_data"
    },
    {
     "name": "stderr",
     "output_type": "stream",
     "text": [
      "10:18:05 - cmdstanpy - INFO - Chain [1] start processing\n",
      "10:18:05 - cmdstanpy - INFO - Chain [1] done processing\n",
      "10:18:05 - cmdstanpy - INFO - Chain [1] start processing\n",
      "10:18:05 - cmdstanpy - INFO - Chain [1] done processing\n",
      "10:18:06 - cmdstanpy - INFO - Chain [1] start processing\n",
      "10:18:06 - cmdstanpy - INFO - Chain [1] done processing\n",
      "10:18:07 - cmdstanpy - INFO - Chain [1] start processing\n",
      "10:18:07 - cmdstanpy - INFO - Chain [1] done processing\n",
      "10:18:07 - cmdstanpy - INFO - Chain [1] start processing\n",
      "10:18:08 - cmdstanpy - INFO - Chain [1] done processing\n"
     ]
    },
    {
     "data": {
      "application/vnd.jupyter.widget-view+json": {
       "model_id": "8654b9e648c743a1b659cc7f94183d48",
       "version_major": 2,
       "version_minor": 0
      },
      "text/plain": [
       "  0%|          | 0/4 [00:00<?, ?it/s]"
      ]
     },
     "metadata": {},
     "output_type": "display_data"
    },
    {
     "name": "stderr",
     "output_type": "stream",
     "text": [
      "10:18:08 - cmdstanpy - INFO - Chain [1] start processing\n",
      "10:18:08 - cmdstanpy - INFO - Chain [1] done processing\n",
      "10:18:08 - cmdstanpy - INFO - Chain [1] start processing\n",
      "10:18:09 - cmdstanpy - INFO - Chain [1] done processing\n",
      "10:18:09 - cmdstanpy - INFO - Chain [1] start processing\n",
      "10:18:09 - cmdstanpy - INFO - Chain [1] done processing\n",
      "10:18:10 - cmdstanpy - INFO - Chain [1] start processing\n",
      "10:18:10 - cmdstanpy - INFO - Chain [1] done processing\n",
      "10:18:11 - cmdstanpy - INFO - Chain [1] start processing\n",
      "10:18:11 - cmdstanpy - INFO - Chain [1] done processing\n"
     ]
    },
    {
     "data": {
      "application/vnd.jupyter.widget-view+json": {
       "model_id": "97398037b7e4495281e62761b1c0614b",
       "version_major": 2,
       "version_minor": 0
      },
      "text/plain": [
       "  0%|          | 0/4 [00:00<?, ?it/s]"
      ]
     },
     "metadata": {},
     "output_type": "display_data"
    },
    {
     "name": "stderr",
     "output_type": "stream",
     "text": [
      "10:18:11 - cmdstanpy - INFO - Chain [1] start processing\n",
      "10:18:11 - cmdstanpy - INFO - Chain [1] done processing\n",
      "10:18:12 - cmdstanpy - INFO - Chain [1] start processing\n",
      "10:18:12 - cmdstanpy - INFO - Chain [1] done processing\n",
      "10:18:12 - cmdstanpy - INFO - Chain [1] start processing\n",
      "10:18:12 - cmdstanpy - INFO - Chain [1] done processing\n",
      "10:18:13 - cmdstanpy - INFO - Chain [1] start processing\n",
      "10:18:13 - cmdstanpy - INFO - Chain [1] done processing\n",
      "10:18:14 - cmdstanpy - INFO - Chain [1] start processing\n",
      "10:18:14 - cmdstanpy - INFO - Chain [1] done processing\n"
     ]
    },
    {
     "data": {
      "application/vnd.jupyter.widget-view+json": {
       "model_id": "d8bcefdf0f824ab19959b334ce550028",
       "version_major": 2,
       "version_minor": 0
      },
      "text/plain": [
       "  0%|          | 0/4 [00:00<?, ?it/s]"
      ]
     },
     "metadata": {},
     "output_type": "display_data"
    },
    {
     "name": "stderr",
     "output_type": "stream",
     "text": [
      "10:18:14 - cmdstanpy - INFO - Chain [1] start processing\n",
      "10:18:14 - cmdstanpy - INFO - Chain [1] done processing\n",
      "10:18:15 - cmdstanpy - INFO - Chain [1] start processing\n",
      "10:18:15 - cmdstanpy - INFO - Chain [1] done processing\n",
      "10:18:15 - cmdstanpy - INFO - Chain [1] start processing\n",
      "10:18:15 - cmdstanpy - INFO - Chain [1] done processing\n",
      "10:18:16 - cmdstanpy - INFO - Chain [1] start processing\n",
      "10:18:16 - cmdstanpy - INFO - Chain [1] done processing\n",
      "10:18:17 - cmdstanpy - INFO - Chain [1] start processing\n",
      "10:18:17 - cmdstanpy - INFO - Chain [1] done processing\n"
     ]
    },
    {
     "data": {
      "application/vnd.jupyter.widget-view+json": {
       "model_id": "7ca3fd0e6b194239bec5ea414253409a",
       "version_major": 2,
       "version_minor": 0
      },
      "text/plain": [
       "  0%|          | 0/4 [00:00<?, ?it/s]"
      ]
     },
     "metadata": {},
     "output_type": "display_data"
    },
    {
     "name": "stderr",
     "output_type": "stream",
     "text": [
      "10:18:17 - cmdstanpy - INFO - Chain [1] start processing\n",
      "10:18:17 - cmdstanpy - INFO - Chain [1] done processing\n",
      "10:18:18 - cmdstanpy - INFO - Chain [1] start processing\n",
      "10:18:18 - cmdstanpy - INFO - Chain [1] done processing\n",
      "10:18:19 - cmdstanpy - INFO - Chain [1] start processing\n",
      "10:18:19 - cmdstanpy - INFO - Chain [1] done processing\n",
      "10:18:19 - cmdstanpy - INFO - Chain [1] start processing\n",
      "10:18:19 - cmdstanpy - INFO - Chain [1] done processing\n",
      "10:18:20 - cmdstanpy - INFO - Chain [1] start processing\n",
      "10:18:20 - cmdstanpy - INFO - Chain [1] done processing\n"
     ]
    },
    {
     "data": {
      "application/vnd.jupyter.widget-view+json": {
       "model_id": "33a67a304e914971934d7952aa72acc1",
       "version_major": 2,
       "version_minor": 0
      },
      "text/plain": [
       "  0%|          | 0/4 [00:00<?, ?it/s]"
      ]
     },
     "metadata": {},
     "output_type": "display_data"
    },
    {
     "name": "stderr",
     "output_type": "stream",
     "text": [
      "10:18:20 - cmdstanpy - INFO - Chain [1] start processing\n",
      "10:18:21 - cmdstanpy - INFO - Chain [1] done processing\n",
      "10:18:21 - cmdstanpy - INFO - Chain [1] start processing\n",
      "10:18:21 - cmdstanpy - INFO - Chain [1] done processing\n",
      "10:18:22 - cmdstanpy - INFO - Chain [1] start processing\n",
      "10:18:22 - cmdstanpy - INFO - Chain [1] done processing\n",
      "10:18:23 - cmdstanpy - INFO - Chain [1] start processing\n",
      "10:18:23 - cmdstanpy - INFO - Chain [1] done processing\n",
      "10:18:23 - cmdstanpy - INFO - Chain [1] start processing\n",
      "10:18:23 - cmdstanpy - INFO - Chain [1] done processing\n"
     ]
    },
    {
     "data": {
      "application/vnd.jupyter.widget-view+json": {
       "model_id": "9d99d582c38044788117f4ec55a5af49",
       "version_major": 2,
       "version_minor": 0
      },
      "text/plain": [
       "  0%|          | 0/4 [00:00<?, ?it/s]"
      ]
     },
     "metadata": {},
     "output_type": "display_data"
    },
    {
     "name": "stderr",
     "output_type": "stream",
     "text": [
      "10:18:23 - cmdstanpy - INFO - Chain [1] start processing\n",
      "10:18:23 - cmdstanpy - INFO - Chain [1] done processing\n",
      "10:18:24 - cmdstanpy - INFO - Chain [1] start processing\n",
      "10:18:24 - cmdstanpy - INFO - Chain [1] done processing\n",
      "10:18:25 - cmdstanpy - INFO - Chain [1] start processing\n",
      "10:18:25 - cmdstanpy - INFO - Chain [1] done processing\n",
      "10:18:26 - cmdstanpy - INFO - Chain [1] start processing\n",
      "10:18:26 - cmdstanpy - INFO - Chain [1] done processing\n",
      "10:18:27 - cmdstanpy - INFO - Chain [1] start processing\n",
      "10:18:27 - cmdstanpy - INFO - Chain [1] done processing\n"
     ]
    },
    {
     "data": {
      "application/vnd.jupyter.widget-view+json": {
       "model_id": "399d66db23794486810f50d0965acd3b",
       "version_major": 2,
       "version_minor": 0
      },
      "text/plain": [
       "  0%|          | 0/4 [00:00<?, ?it/s]"
      ]
     },
     "metadata": {},
     "output_type": "display_data"
    },
    {
     "name": "stderr",
     "output_type": "stream",
     "text": [
      "10:18:27 - cmdstanpy - INFO - Chain [1] start processing\n",
      "10:18:27 - cmdstanpy - INFO - Chain [1] done processing\n",
      "10:18:27 - cmdstanpy - INFO - Chain [1] start processing\n",
      "10:18:28 - cmdstanpy - INFO - Chain [1] done processing\n",
      "10:18:28 - cmdstanpy - INFO - Chain [1] start processing\n",
      "10:18:28 - cmdstanpy - INFO - Chain [1] done processing\n",
      "10:18:29 - cmdstanpy - INFO - Chain [1] start processing\n",
      "10:18:29 - cmdstanpy - INFO - Chain [1] done processing\n",
      "10:18:30 - cmdstanpy - INFO - Chain [1] start processing\n",
      "10:18:30 - cmdstanpy - INFO - Chain [1] done processing\n"
     ]
    },
    {
     "data": {
      "application/vnd.jupyter.widget-view+json": {
       "model_id": "60c9c84c8e394d38874afd1c130dcfbe",
       "version_major": 2,
       "version_minor": 0
      },
      "text/plain": [
       "  0%|          | 0/4 [00:00<?, ?it/s]"
      ]
     },
     "metadata": {},
     "output_type": "display_data"
    },
    {
     "name": "stderr",
     "output_type": "stream",
     "text": [
      "10:18:30 - cmdstanpy - INFO - Chain [1] start processing\n",
      "10:18:30 - cmdstanpy - INFO - Chain [1] done processing\n",
      "10:18:30 - cmdstanpy - INFO - Chain [1] start processing\n",
      "10:18:30 - cmdstanpy - INFO - Chain [1] done processing\n",
      "10:18:31 - cmdstanpy - INFO - Chain [1] start processing\n",
      "10:18:31 - cmdstanpy - INFO - Chain [1] done processing\n",
      "10:18:32 - cmdstanpy - INFO - Chain [1] start processing\n",
      "10:18:32 - cmdstanpy - INFO - Chain [1] done processing\n",
      "10:18:33 - cmdstanpy - INFO - Chain [1] start processing\n",
      "10:18:33 - cmdstanpy - INFO - Chain [1] done processing\n"
     ]
    },
    {
     "data": {
      "application/vnd.jupyter.widget-view+json": {
       "model_id": "5cc107076cd84892841bb7471db11492",
       "version_major": 2,
       "version_minor": 0
      },
      "text/plain": [
       "  0%|          | 0/4 [00:00<?, ?it/s]"
      ]
     },
     "metadata": {},
     "output_type": "display_data"
    },
    {
     "name": "stderr",
     "output_type": "stream",
     "text": [
      "10:18:33 - cmdstanpy - INFO - Chain [1] start processing\n",
      "10:18:34 - cmdstanpy - INFO - Chain [1] done processing\n",
      "10:18:35 - cmdstanpy - INFO - Chain [1] start processing\n",
      "10:18:35 - cmdstanpy - INFO - Chain [1] done processing\n",
      "10:18:35 - cmdstanpy - INFO - Chain [1] start processing\n",
      "10:18:35 - cmdstanpy - INFO - Chain [1] done processing\n",
      "10:18:36 - cmdstanpy - INFO - Chain [1] start processing\n",
      "10:18:36 - cmdstanpy - INFO - Chain [1] done processing\n",
      "10:18:38 - cmdstanpy - INFO - Chain [1] start processing\n",
      "10:18:38 - cmdstanpy - INFO - Chain [1] done processing\n"
     ]
    },
    {
     "data": {
      "application/vnd.jupyter.widget-view+json": {
       "model_id": "47c6f18820504541bb23506b98c21fd8",
       "version_major": 2,
       "version_minor": 0
      },
      "text/plain": [
       "  0%|          | 0/4 [00:00<?, ?it/s]"
      ]
     },
     "metadata": {},
     "output_type": "display_data"
    },
    {
     "name": "stderr",
     "output_type": "stream",
     "text": [
      "10:18:38 - cmdstanpy - INFO - Chain [1] start processing\n",
      "10:18:38 - cmdstanpy - INFO - Chain [1] done processing\n",
      "10:18:38 - cmdstanpy - INFO - Chain [1] start processing\n",
      "10:18:39 - cmdstanpy - INFO - Chain [1] done processing\n",
      "10:18:39 - cmdstanpy - INFO - Chain [1] start processing\n",
      "10:18:39 - cmdstanpy - INFO - Chain [1] done processing\n",
      "10:18:40 - cmdstanpy - INFO - Chain [1] start processing\n",
      "10:18:40 - cmdstanpy - INFO - Chain [1] done processing\n",
      "10:18:41 - cmdstanpy - INFO - Chain [1] start processing\n",
      "10:18:41 - cmdstanpy - INFO - Chain [1] done processing\n"
     ]
    },
    {
     "data": {
      "application/vnd.jupyter.widget-view+json": {
       "model_id": "326df6f4a1a54428b58d29e85cd29720",
       "version_major": 2,
       "version_minor": 0
      },
      "text/plain": [
       "  0%|          | 0/4 [00:00<?, ?it/s]"
      ]
     },
     "metadata": {},
     "output_type": "display_data"
    },
    {
     "name": "stderr",
     "output_type": "stream",
     "text": [
      "10:18:41 - cmdstanpy - INFO - Chain [1] start processing\n",
      "10:18:41 - cmdstanpy - INFO - Chain [1] done processing\n",
      "10:18:42 - cmdstanpy - INFO - Chain [1] start processing\n",
      "10:18:42 - cmdstanpy - INFO - Chain [1] done processing\n",
      "10:18:43 - cmdstanpy - INFO - Chain [1] start processing\n",
      "10:18:43 - cmdstanpy - INFO - Chain [1] done processing\n",
      "10:18:43 - cmdstanpy - INFO - Chain [1] start processing\n",
      "10:18:43 - cmdstanpy - INFO - Chain [1] done processing\n",
      "10:18:44 - cmdstanpy - INFO - Chain [1] start processing\n",
      "10:18:44 - cmdstanpy - INFO - Chain [1] done processing\n"
     ]
    },
    {
     "data": {
      "application/vnd.jupyter.widget-view+json": {
       "model_id": "2ef3a3ffd9584e63ad7412a0dd956de2",
       "version_major": 2,
       "version_minor": 0
      },
      "text/plain": [
       "  0%|          | 0/4 [00:00<?, ?it/s]"
      ]
     },
     "metadata": {},
     "output_type": "display_data"
    },
    {
     "name": "stderr",
     "output_type": "stream",
     "text": [
      "10:18:44 - cmdstanpy - INFO - Chain [1] start processing\n",
      "10:18:44 - cmdstanpy - INFO - Chain [1] done processing\n",
      "10:18:45 - cmdstanpy - INFO - Chain [1] start processing\n",
      "10:18:45 - cmdstanpy - INFO - Chain [1] done processing\n",
      "10:18:46 - cmdstanpy - INFO - Chain [1] start processing\n",
      "10:18:46 - cmdstanpy - INFO - Chain [1] done processing\n",
      "10:18:47 - cmdstanpy - INFO - Chain [1] start processing\n",
      "10:18:47 - cmdstanpy - INFO - Chain [1] done processing\n",
      "10:18:48 - cmdstanpy - INFO - Chain [1] start processing\n",
      "10:18:48 - cmdstanpy - INFO - Chain [1] done processing\n"
     ]
    },
    {
     "data": {
      "application/vnd.jupyter.widget-view+json": {
       "model_id": "c1685fb936a1436298d4e1f954939e69",
       "version_major": 2,
       "version_minor": 0
      },
      "text/plain": [
       "  0%|          | 0/4 [00:00<?, ?it/s]"
      ]
     },
     "metadata": {},
     "output_type": "display_data"
    },
    {
     "name": "stderr",
     "output_type": "stream",
     "text": [
      "10:18:48 - cmdstanpy - INFO - Chain [1] start processing\n",
      "10:18:48 - cmdstanpy - INFO - Chain [1] done processing\n",
      "10:18:49 - cmdstanpy - INFO - Chain [1] start processing\n",
      "10:18:49 - cmdstanpy - INFO - Chain [1] done processing\n",
      "10:18:49 - cmdstanpy - INFO - Chain [1] start processing\n",
      "10:18:49 - cmdstanpy - INFO - Chain [1] done processing\n",
      "10:18:50 - cmdstanpy - INFO - Chain [1] start processing\n",
      "10:18:50 - cmdstanpy - INFO - Chain [1] done processing\n",
      "10:18:51 - cmdstanpy - INFO - Chain [1] start processing\n",
      "10:18:51 - cmdstanpy - INFO - Chain [1] done processing\n"
     ]
    },
    {
     "data": {
      "application/vnd.jupyter.widget-view+json": {
       "model_id": "8b4005cbd05b4abfa87eeed4490a581f",
       "version_major": 2,
       "version_minor": 0
      },
      "text/plain": [
       "  0%|          | 0/4 [00:00<?, ?it/s]"
      ]
     },
     "metadata": {},
     "output_type": "display_data"
    },
    {
     "name": "stderr",
     "output_type": "stream",
     "text": [
      "10:18:51 - cmdstanpy - INFO - Chain [1] start processing\n",
      "10:18:51 - cmdstanpy - INFO - Chain [1] done processing\n",
      "10:18:52 - cmdstanpy - INFO - Chain [1] start processing\n",
      "10:18:52 - cmdstanpy - INFO - Chain [1] done processing\n",
      "10:18:52 - cmdstanpy - INFO - Chain [1] start processing\n",
      "10:18:52 - cmdstanpy - INFO - Chain [1] done processing\n",
      "10:18:53 - cmdstanpy - INFO - Chain [1] start processing\n",
      "10:18:53 - cmdstanpy - INFO - Chain [1] done processing\n",
      "10:18:54 - cmdstanpy - INFO - Chain [1] start processing\n",
      "10:18:54 - cmdstanpy - INFO - Chain [1] done processing\n"
     ]
    },
    {
     "data": {
      "application/vnd.jupyter.widget-view+json": {
       "model_id": "8edeceeaff0c4c52a0024c8fc23d1a32",
       "version_major": 2,
       "version_minor": 0
      },
      "text/plain": [
       "  0%|          | 0/4 [00:00<?, ?it/s]"
      ]
     },
     "metadata": {},
     "output_type": "display_data"
    },
    {
     "name": "stderr",
     "output_type": "stream",
     "text": [
      "10:18:54 - cmdstanpy - INFO - Chain [1] start processing\n",
      "10:18:54 - cmdstanpy - INFO - Chain [1] done processing\n",
      "10:18:55 - cmdstanpy - INFO - Chain [1] start processing\n",
      "10:18:55 - cmdstanpy - INFO - Chain [1] done processing\n",
      "10:18:56 - cmdstanpy - INFO - Chain [1] start processing\n",
      "10:18:56 - cmdstanpy - INFO - Chain [1] done processing\n",
      "10:18:57 - cmdstanpy - INFO - Chain [1] start processing\n",
      "10:18:57 - cmdstanpy - INFO - Chain [1] done processing\n",
      "10:18:57 - cmdstanpy - INFO - Chain [1] start processing\n",
      "10:18:57 - cmdstanpy - INFO - Chain [1] done processing\n"
     ]
    },
    {
     "data": {
      "application/vnd.jupyter.widget-view+json": {
       "model_id": "714b7f744fed4984b13e03121cd7a986",
       "version_major": 2,
       "version_minor": 0
      },
      "text/plain": [
       "  0%|          | 0/4 [00:00<?, ?it/s]"
      ]
     },
     "metadata": {},
     "output_type": "display_data"
    },
    {
     "name": "stderr",
     "output_type": "stream",
     "text": [
      "10:18:57 - cmdstanpy - INFO - Chain [1] start processing\n",
      "10:18:58 - cmdstanpy - INFO - Chain [1] done processing\n",
      "10:18:58 - cmdstanpy - INFO - Chain [1] start processing\n",
      "10:18:58 - cmdstanpy - INFO - Chain [1] done processing\n",
      "10:18:59 - cmdstanpy - INFO - Chain [1] start processing\n",
      "10:18:59 - cmdstanpy - INFO - Chain [1] done processing\n",
      "10:19:00 - cmdstanpy - INFO - Chain [1] start processing\n",
      "10:19:00 - cmdstanpy - INFO - Chain [1] done processing\n",
      "10:19:01 - cmdstanpy - INFO - Chain [1] start processing\n",
      "10:19:01 - cmdstanpy - INFO - Chain [1] done processing\n"
     ]
    },
    {
     "data": {
      "application/vnd.jupyter.widget-view+json": {
       "model_id": "15f6ba21ffee4127b634cc2163f43229",
       "version_major": 2,
       "version_minor": 0
      },
      "text/plain": [
       "  0%|          | 0/4 [00:00<?, ?it/s]"
      ]
     },
     "metadata": {},
     "output_type": "display_data"
    },
    {
     "name": "stderr",
     "output_type": "stream",
     "text": [
      "10:19:01 - cmdstanpy - INFO - Chain [1] start processing\n",
      "10:19:01 - cmdstanpy - INFO - Chain [1] done processing\n",
      "10:19:02 - cmdstanpy - INFO - Chain [1] start processing\n",
      "10:19:02 - cmdstanpy - INFO - Chain [1] done processing\n",
      "10:19:03 - cmdstanpy - INFO - Chain [1] start processing\n",
      "10:19:03 - cmdstanpy - INFO - Chain [1] done processing\n",
      "10:19:03 - cmdstanpy - INFO - Chain [1] start processing\n",
      "10:19:03 - cmdstanpy - INFO - Chain [1] done processing\n",
      "10:19:04 - cmdstanpy - INFO - Chain [1] start processing\n",
      "10:19:04 - cmdstanpy - INFO - Chain [1] done processing\n"
     ]
    },
    {
     "data": {
      "application/vnd.jupyter.widget-view+json": {
       "model_id": "0826a2cfe7e949019c4999a3f711edfb",
       "version_major": 2,
       "version_minor": 0
      },
      "text/plain": [
       "  0%|          | 0/4 [00:00<?, ?it/s]"
      ]
     },
     "metadata": {},
     "output_type": "display_data"
    },
    {
     "name": "stderr",
     "output_type": "stream",
     "text": [
      "10:19:04 - cmdstanpy - INFO - Chain [1] start processing\n",
      "10:19:04 - cmdstanpy - INFO - Chain [1] done processing\n",
      "10:19:05 - cmdstanpy - INFO - Chain [1] start processing\n",
      "10:19:05 - cmdstanpy - INFO - Chain [1] done processing\n",
      "10:19:06 - cmdstanpy - INFO - Chain [1] start processing\n",
      "10:19:06 - cmdstanpy - INFO - Chain [1] done processing\n",
      "10:19:06 - cmdstanpy - INFO - Chain [1] start processing\n",
      "10:19:06 - cmdstanpy - INFO - Chain [1] done processing\n",
      "10:19:07 - cmdstanpy - INFO - Chain [1] start processing\n",
      "10:19:07 - cmdstanpy - INFO - Chain [1] done processing\n"
     ]
    },
    {
     "data": {
      "application/vnd.jupyter.widget-view+json": {
       "model_id": "6442244530cc4246808b282026cbf74b",
       "version_major": 2,
       "version_minor": 0
      },
      "text/plain": [
       "  0%|          | 0/4 [00:00<?, ?it/s]"
      ]
     },
     "metadata": {},
     "output_type": "display_data"
    },
    {
     "name": "stderr",
     "output_type": "stream",
     "text": [
      "10:19:07 - cmdstanpy - INFO - Chain [1] start processing\n",
      "10:19:07 - cmdstanpy - INFO - Chain [1] done processing\n",
      "10:19:08 - cmdstanpy - INFO - Chain [1] start processing\n",
      "10:19:08 - cmdstanpy - INFO - Chain [1] done processing\n",
      "10:19:09 - cmdstanpy - INFO - Chain [1] start processing\n",
      "10:19:09 - cmdstanpy - INFO - Chain [1] done processing\n",
      "10:19:10 - cmdstanpy - INFO - Chain [1] start processing\n",
      "10:19:10 - cmdstanpy - INFO - Chain [1] done processing\n",
      "10:19:11 - cmdstanpy - INFO - Chain [1] start processing\n",
      "10:19:11 - cmdstanpy - INFO - Chain [1] done processing\n"
     ]
    },
    {
     "data": {
      "application/vnd.jupyter.widget-view+json": {
       "model_id": "00aa767b97ab413498045be760936bb3",
       "version_major": 2,
       "version_minor": 0
      },
      "text/plain": [
       "  0%|          | 0/4 [00:00<?, ?it/s]"
      ]
     },
     "metadata": {},
     "output_type": "display_data"
    },
    {
     "name": "stderr",
     "output_type": "stream",
     "text": [
      "10:19:11 - cmdstanpy - INFO - Chain [1] start processing\n",
      "10:19:11 - cmdstanpy - INFO - Chain [1] done processing\n",
      "10:19:12 - cmdstanpy - INFO - Chain [1] start processing\n",
      "10:19:12 - cmdstanpy - INFO - Chain [1] done processing\n",
      "10:19:12 - cmdstanpy - INFO - Chain [1] start processing\n",
      "10:19:12 - cmdstanpy - INFO - Chain [1] done processing\n",
      "10:19:13 - cmdstanpy - INFO - Chain [1] start processing\n",
      "10:19:13 - cmdstanpy - INFO - Chain [1] done processing\n",
      "10:19:14 - cmdstanpy - INFO - Chain [1] start processing\n",
      "10:19:14 - cmdstanpy - INFO - Chain [1] done processing\n"
     ]
    },
    {
     "data": {
      "application/vnd.jupyter.widget-view+json": {
       "model_id": "9a61f0e8e2e246698c3c6b41eae0a5f8",
       "version_major": 2,
       "version_minor": 0
      },
      "text/plain": [
       "  0%|          | 0/4 [00:00<?, ?it/s]"
      ]
     },
     "metadata": {},
     "output_type": "display_data"
    },
    {
     "name": "stderr",
     "output_type": "stream",
     "text": [
      "10:19:14 - cmdstanpy - INFO - Chain [1] start processing\n",
      "10:19:14 - cmdstanpy - INFO - Chain [1] done processing\n",
      "10:19:15 - cmdstanpy - INFO - Chain [1] start processing\n",
      "10:19:15 - cmdstanpy - INFO - Chain [1] done processing\n",
      "10:19:15 - cmdstanpy - INFO - Chain [1] start processing\n",
      "10:19:15 - cmdstanpy - INFO - Chain [1] done processing\n",
      "10:19:16 - cmdstanpy - INFO - Chain [1] start processing\n",
      "10:19:16 - cmdstanpy - INFO - Chain [1] done processing\n",
      "10:19:16 - cmdstanpy - INFO - Chain [1] start processing\n",
      "10:19:16 - cmdstanpy - INFO - Chain [1] done processing\n"
     ]
    },
    {
     "data": {
      "application/vnd.jupyter.widget-view+json": {
       "model_id": "19bd1b018c0c41c1ac315f4e3df26111",
       "version_major": 2,
       "version_minor": 0
      },
      "text/plain": [
       "  0%|          | 0/4 [00:00<?, ?it/s]"
      ]
     },
     "metadata": {},
     "output_type": "display_data"
    },
    {
     "name": "stderr",
     "output_type": "stream",
     "text": [
      "10:19:17 - cmdstanpy - INFO - Chain [1] start processing\n",
      "10:19:17 - cmdstanpy - INFO - Chain [1] done processing\n",
      "10:19:17 - cmdstanpy - INFO - Chain [1] start processing\n",
      "10:19:17 - cmdstanpy - INFO - Chain [1] done processing\n",
      "10:19:18 - cmdstanpy - INFO - Chain [1] start processing\n",
      "10:19:18 - cmdstanpy - INFO - Chain [1] done processing\n",
      "10:19:19 - cmdstanpy - INFO - Chain [1] start processing\n",
      "10:19:19 - cmdstanpy - INFO - Chain [1] done processing\n",
      "10:19:20 - cmdstanpy - INFO - Chain [1] start processing\n",
      "10:19:20 - cmdstanpy - INFO - Chain [1] done processing\n"
     ]
    },
    {
     "data": {
      "application/vnd.jupyter.widget-view+json": {
       "model_id": "29af10c093a04d6a9d65ca64c2fd76c9",
       "version_major": 2,
       "version_minor": 0
      },
      "text/plain": [
       "  0%|          | 0/4 [00:00<?, ?it/s]"
      ]
     },
     "metadata": {},
     "output_type": "display_data"
    },
    {
     "name": "stderr",
     "output_type": "stream",
     "text": [
      "10:19:20 - cmdstanpy - INFO - Chain [1] start processing\n",
      "10:19:20 - cmdstanpy - INFO - Chain [1] done processing\n",
      "10:19:21 - cmdstanpy - INFO - Chain [1] start processing\n",
      "10:19:21 - cmdstanpy - INFO - Chain [1] done processing\n",
      "10:19:21 - cmdstanpy - INFO - Chain [1] start processing\n",
      "10:19:21 - cmdstanpy - INFO - Chain [1] done processing\n",
      "10:19:22 - cmdstanpy - INFO - Chain [1] start processing\n",
      "10:19:22 - cmdstanpy - INFO - Chain [1] done processing\n",
      "10:19:23 - cmdstanpy - INFO - Chain [1] start processing\n",
      "10:19:23 - cmdstanpy - INFO - Chain [1] done processing\n"
     ]
    },
    {
     "data": {
      "application/vnd.jupyter.widget-view+json": {
       "model_id": "f4b43c9faa0648cf865abb0317c54d12",
       "version_major": 2,
       "version_minor": 0
      },
      "text/plain": [
       "  0%|          | 0/4 [00:00<?, ?it/s]"
      ]
     },
     "metadata": {},
     "output_type": "display_data"
    },
    {
     "name": "stderr",
     "output_type": "stream",
     "text": [
      "10:19:23 - cmdstanpy - INFO - Chain [1] start processing\n",
      "10:19:23 - cmdstanpy - INFO - Chain [1] done processing\n",
      "10:19:24 - cmdstanpy - INFO - Chain [1] start processing\n",
      "10:19:24 - cmdstanpy - INFO - Chain [1] done processing\n",
      "10:19:24 - cmdstanpy - INFO - Chain [1] start processing\n",
      "10:19:24 - cmdstanpy - INFO - Chain [1] done processing\n",
      "10:19:25 - cmdstanpy - INFO - Chain [1] start processing\n",
      "10:19:25 - cmdstanpy - INFO - Chain [1] done processing\n",
      "10:19:26 - cmdstanpy - INFO - Chain [1] start processing\n",
      "10:19:26 - cmdstanpy - INFO - Chain [1] done processing\n"
     ]
    },
    {
     "data": {
      "application/vnd.jupyter.widget-view+json": {
       "model_id": "deaddf8ace3d41229df277f9e453ac87",
       "version_major": 2,
       "version_minor": 0
      },
      "text/plain": [
       "  0%|          | 0/4 [00:00<?, ?it/s]"
      ]
     },
     "metadata": {},
     "output_type": "display_data"
    },
    {
     "name": "stderr",
     "output_type": "stream",
     "text": [
      "10:19:26 - cmdstanpy - INFO - Chain [1] start processing\n",
      "10:19:26 - cmdstanpy - INFO - Chain [1] done processing\n",
      "10:19:27 - cmdstanpy - INFO - Chain [1] start processing\n",
      "10:19:27 - cmdstanpy - INFO - Chain [1] done processing\n",
      "10:19:27 - cmdstanpy - INFO - Chain [1] start processing\n",
      "10:19:27 - cmdstanpy - INFO - Chain [1] done processing\n",
      "10:19:28 - cmdstanpy - INFO - Chain [1] start processing\n",
      "10:19:28 - cmdstanpy - INFO - Chain [1] done processing\n",
      "10:19:29 - cmdstanpy - INFO - Chain [1] start processing\n",
      "10:19:29 - cmdstanpy - INFO - Chain [1] done processing\n"
     ]
    },
    {
     "data": {
      "application/vnd.jupyter.widget-view+json": {
       "model_id": "c3919987c3f24a6f9915fc19267474a7",
       "version_major": 2,
       "version_minor": 0
      },
      "text/plain": [
       "  0%|          | 0/4 [00:00<?, ?it/s]"
      ]
     },
     "metadata": {},
     "output_type": "display_data"
    },
    {
     "name": "stderr",
     "output_type": "stream",
     "text": [
      "10:19:29 - cmdstanpy - INFO - Chain [1] start processing\n",
      "10:19:29 - cmdstanpy - INFO - Chain [1] done processing\n",
      "10:19:29 - cmdstanpy - INFO - Chain [1] start processing\n",
      "10:19:29 - cmdstanpy - INFO - Chain [1] done processing\n",
      "10:19:30 - cmdstanpy - INFO - Chain [1] start processing\n",
      "10:19:30 - cmdstanpy - INFO - Chain [1] done processing\n",
      "10:19:31 - cmdstanpy - INFO - Chain [1] start processing\n",
      "10:19:31 - cmdstanpy - INFO - Chain [1] done processing\n",
      "10:19:32 - cmdstanpy - INFO - Chain [1] start processing\n",
      "10:19:32 - cmdstanpy - INFO - Chain [1] done processing\n"
     ]
    },
    {
     "data": {
      "application/vnd.jupyter.widget-view+json": {
       "model_id": "38ff52b7cd084209a4c8f3dd3e0d8191",
       "version_major": 2,
       "version_minor": 0
      },
      "text/plain": [
       "  0%|          | 0/4 [00:00<?, ?it/s]"
      ]
     },
     "metadata": {},
     "output_type": "display_data"
    },
    {
     "name": "stderr",
     "output_type": "stream",
     "text": [
      "10:19:32 - cmdstanpy - INFO - Chain [1] start processing\n",
      "10:19:32 - cmdstanpy - INFO - Chain [1] done processing\n",
      "10:19:32 - cmdstanpy - INFO - Chain [1] start processing\n",
      "10:19:32 - cmdstanpy - INFO - Chain [1] done processing\n",
      "10:19:33 - cmdstanpy - INFO - Chain [1] start processing\n",
      "10:19:33 - cmdstanpy - INFO - Chain [1] done processing\n",
      "10:19:34 - cmdstanpy - INFO - Chain [1] start processing\n",
      "10:19:34 - cmdstanpy - INFO - Chain [1] done processing\n",
      "10:19:34 - cmdstanpy - INFO - Chain [1] start processing\n",
      "10:19:35 - cmdstanpy - INFO - Chain [1] done processing\n"
     ]
    },
    {
     "data": {
      "application/vnd.jupyter.widget-view+json": {
       "model_id": "4937345e08d34d089e9c3ea2c6dad0cb",
       "version_major": 2,
       "version_minor": 0
      },
      "text/plain": [
       "  0%|          | 0/4 [00:00<?, ?it/s]"
      ]
     },
     "metadata": {},
     "output_type": "display_data"
    },
    {
     "name": "stderr",
     "output_type": "stream",
     "text": [
      "10:19:35 - cmdstanpy - INFO - Chain [1] start processing\n",
      "10:19:35 - cmdstanpy - INFO - Chain [1] done processing\n",
      "10:19:35 - cmdstanpy - INFO - Chain [1] start processing\n",
      "10:19:35 - cmdstanpy - INFO - Chain [1] done processing\n",
      "10:19:36 - cmdstanpy - INFO - Chain [1] start processing\n",
      "10:19:36 - cmdstanpy - INFO - Chain [1] done processing\n",
      "10:19:37 - cmdstanpy - INFO - Chain [1] start processing\n",
      "10:19:37 - cmdstanpy - INFO - Chain [1] done processing\n",
      "10:19:38 - cmdstanpy - INFO - Chain [1] start processing\n",
      "10:19:38 - cmdstanpy - INFO - Chain [1] done processing\n"
     ]
    },
    {
     "data": {
      "application/vnd.jupyter.widget-view+json": {
       "model_id": "0b9de07d98d148dd96527fb745a1ed23",
       "version_major": 2,
       "version_minor": 0
      },
      "text/plain": [
       "  0%|          | 0/4 [00:00<?, ?it/s]"
      ]
     },
     "metadata": {},
     "output_type": "display_data"
    },
    {
     "name": "stderr",
     "output_type": "stream",
     "text": [
      "10:19:38 - cmdstanpy - INFO - Chain [1] start processing\n",
      "10:19:38 - cmdstanpy - INFO - Chain [1] done processing\n",
      "10:19:39 - cmdstanpy - INFO - Chain [1] start processing\n",
      "10:19:39 - cmdstanpy - INFO - Chain [1] done processing\n",
      "10:19:40 - cmdstanpy - INFO - Chain [1] start processing\n",
      "10:19:40 - cmdstanpy - INFO - Chain [1] done processing\n",
      "10:19:40 - cmdstanpy - INFO - Chain [1] start processing\n",
      "10:19:40 - cmdstanpy - INFO - Chain [1] done processing\n",
      "10:19:41 - cmdstanpy - INFO - Chain [1] start processing\n",
      "10:19:41 - cmdstanpy - INFO - Chain [1] done processing\n"
     ]
    },
    {
     "data": {
      "application/vnd.jupyter.widget-view+json": {
       "model_id": "cd5e02a569584297a80e4c6193d03f25",
       "version_major": 2,
       "version_minor": 0
      },
      "text/plain": [
       "  0%|          | 0/4 [00:00<?, ?it/s]"
      ]
     },
     "metadata": {},
     "output_type": "display_data"
    },
    {
     "name": "stderr",
     "output_type": "stream",
     "text": [
      "10:19:41 - cmdstanpy - INFO - Chain [1] start processing\n",
      "10:19:41 - cmdstanpy - INFO - Chain [1] done processing\n",
      "10:19:42 - cmdstanpy - INFO - Chain [1] start processing\n",
      "10:19:42 - cmdstanpy - INFO - Chain [1] done processing\n",
      "10:19:43 - cmdstanpy - INFO - Chain [1] start processing\n",
      "10:19:43 - cmdstanpy - INFO - Chain [1] done processing\n",
      "10:19:43 - cmdstanpy - INFO - Chain [1] start processing\n",
      "10:19:43 - cmdstanpy - INFO - Chain [1] done processing\n",
      "10:19:44 - cmdstanpy - INFO - Chain [1] start processing\n",
      "10:19:44 - cmdstanpy - INFO - Chain [1] done processing\n"
     ]
    },
    {
     "data": {
      "application/vnd.jupyter.widget-view+json": {
       "model_id": "4c1d64d562164e3f831187815a1bf1d9",
       "version_major": 2,
       "version_minor": 0
      },
      "text/plain": [
       "  0%|          | 0/4 [00:00<?, ?it/s]"
      ]
     },
     "metadata": {},
     "output_type": "display_data"
    },
    {
     "name": "stderr",
     "output_type": "stream",
     "text": [
      "10:19:44 - cmdstanpy - INFO - Chain [1] start processing\n",
      "10:19:44 - cmdstanpy - INFO - Chain [1] done processing\n",
      "10:19:45 - cmdstanpy - INFO - Chain [1] start processing\n",
      "10:19:45 - cmdstanpy - INFO - Chain [1] done processing\n",
      "10:19:45 - cmdstanpy - INFO - Chain [1] start processing\n",
      "10:19:45 - cmdstanpy - INFO - Chain [1] done processing\n",
      "10:19:46 - cmdstanpy - INFO - Chain [1] start processing\n",
      "10:19:46 - cmdstanpy - INFO - Chain [1] done processing\n",
      "10:19:47 - cmdstanpy - INFO - Chain [1] start processing\n",
      "10:19:47 - cmdstanpy - INFO - Chain [1] done processing\n"
     ]
    },
    {
     "data": {
      "application/vnd.jupyter.widget-view+json": {
       "model_id": "b2faac7142394c679dd2b49f12064276",
       "version_major": 2,
       "version_minor": 0
      },
      "text/plain": [
       "  0%|          | 0/4 [00:00<?, ?it/s]"
      ]
     },
     "metadata": {},
     "output_type": "display_data"
    },
    {
     "name": "stderr",
     "output_type": "stream",
     "text": [
      "10:19:47 - cmdstanpy - INFO - Chain [1] start processing\n",
      "10:19:47 - cmdstanpy - INFO - Chain [1] done processing\n",
      "10:19:48 - cmdstanpy - INFO - Chain [1] start processing\n",
      "10:19:48 - cmdstanpy - INFO - Chain [1] done processing\n",
      "10:19:48 - cmdstanpy - INFO - Chain [1] start processing\n",
      "10:19:48 - cmdstanpy - INFO - Chain [1] done processing\n",
      "10:19:49 - cmdstanpy - INFO - Chain [1] start processing\n",
      "10:19:49 - cmdstanpy - INFO - Chain [1] done processing\n",
      "10:19:50 - cmdstanpy - INFO - Chain [1] start processing\n",
      "10:19:50 - cmdstanpy - INFO - Chain [1] done processing\n"
     ]
    },
    {
     "data": {
      "application/vnd.jupyter.widget-view+json": {
       "model_id": "b02d22155dcd44b59599334b871aa9db",
       "version_major": 2,
       "version_minor": 0
      },
      "text/plain": [
       "  0%|          | 0/4 [00:00<?, ?it/s]"
      ]
     },
     "metadata": {},
     "output_type": "display_data"
    },
    {
     "name": "stderr",
     "output_type": "stream",
     "text": [
      "10:19:50 - cmdstanpy - INFO - Chain [1] start processing\n",
      "10:19:50 - cmdstanpy - INFO - Chain [1] done processing\n",
      "10:19:51 - cmdstanpy - INFO - Chain [1] start processing\n",
      "10:19:51 - cmdstanpy - INFO - Chain [1] done processing\n",
      "10:19:51 - cmdstanpy - INFO - Chain [1] start processing\n",
      "10:19:51 - cmdstanpy - INFO - Chain [1] done processing\n",
      "10:19:52 - cmdstanpy - INFO - Chain [1] start processing\n",
      "10:19:52 - cmdstanpy - INFO - Chain [1] done processing\n",
      "10:19:53 - cmdstanpy - INFO - Chain [1] start processing\n",
      "10:19:53 - cmdstanpy - INFO - Chain [1] done processing\n"
     ]
    },
    {
     "data": {
      "application/vnd.jupyter.widget-view+json": {
       "model_id": "3a0bdc72126a40cca2c4a95040ce3f6b",
       "version_major": 2,
       "version_minor": 0
      },
      "text/plain": [
       "  0%|          | 0/4 [00:00<?, ?it/s]"
      ]
     },
     "metadata": {},
     "output_type": "display_data"
    },
    {
     "name": "stderr",
     "output_type": "stream",
     "text": [
      "10:19:53 - cmdstanpy - INFO - Chain [1] start processing\n",
      "10:19:53 - cmdstanpy - INFO - Chain [1] done processing\n",
      "10:19:54 - cmdstanpy - INFO - Chain [1] start processing\n",
      "10:19:54 - cmdstanpy - INFO - Chain [1] done processing\n",
      "10:19:54 - cmdstanpy - INFO - Chain [1] start processing\n",
      "10:19:54 - cmdstanpy - INFO - Chain [1] done processing\n",
      "10:19:55 - cmdstanpy - INFO - Chain [1] start processing\n",
      "10:19:55 - cmdstanpy - INFO - Chain [1] done processing\n",
      "10:19:56 - cmdstanpy - INFO - Chain [1] start processing\n",
      "10:19:56 - cmdstanpy - INFO - Chain [1] done processing\n"
     ]
    },
    {
     "data": {
      "application/vnd.jupyter.widget-view+json": {
       "model_id": "f38fb21bae44477f8f8b36ec25145bd0",
       "version_major": 2,
       "version_minor": 0
      },
      "text/plain": [
       "  0%|          | 0/4 [00:00<?, ?it/s]"
      ]
     },
     "metadata": {},
     "output_type": "display_data"
    },
    {
     "name": "stderr",
     "output_type": "stream",
     "text": [
      "10:19:56 - cmdstanpy - INFO - Chain [1] start processing\n",
      "10:19:56 - cmdstanpy - INFO - Chain [1] done processing\n",
      "10:19:56 - cmdstanpy - INFO - Chain [1] start processing\n",
      "10:19:56 - cmdstanpy - INFO - Chain [1] done processing\n",
      "10:19:57 - cmdstanpy - INFO - Chain [1] start processing\n",
      "10:19:57 - cmdstanpy - INFO - Chain [1] done processing\n",
      "10:19:58 - cmdstanpy - INFO - Chain [1] start processing\n",
      "10:19:58 - cmdstanpy - INFO - Chain [1] done processing\n",
      "10:19:58 - cmdstanpy - INFO - Chain [1] start processing\n",
      "10:19:58 - cmdstanpy - INFO - Chain [1] done processing\n"
     ]
    },
    {
     "data": {
      "application/vnd.jupyter.widget-view+json": {
       "model_id": "ac29015b54aa4eaf8247db3e42d0f410",
       "version_major": 2,
       "version_minor": 0
      },
      "text/plain": [
       "  0%|          | 0/4 [00:00<?, ?it/s]"
      ]
     },
     "metadata": {},
     "output_type": "display_data"
    },
    {
     "name": "stderr",
     "output_type": "stream",
     "text": [
      "10:19:58 - cmdstanpy - INFO - Chain [1] start processing\n",
      "10:19:59 - cmdstanpy - INFO - Chain [1] done processing\n",
      "10:19:59 - cmdstanpy - INFO - Chain [1] start processing\n",
      "10:19:59 - cmdstanpy - INFO - Chain [1] done processing\n",
      "10:20:00 - cmdstanpy - INFO - Chain [1] start processing\n",
      "10:20:00 - cmdstanpy - INFO - Chain [1] done processing\n",
      "10:20:01 - cmdstanpy - INFO - Chain [1] start processing\n",
      "10:20:01 - cmdstanpy - INFO - Chain [1] done processing\n",
      "10:20:01 - cmdstanpy - INFO - Chain [1] start processing\n",
      "10:20:01 - cmdstanpy - INFO - Chain [1] done processing\n"
     ]
    },
    {
     "data": {
      "application/vnd.jupyter.widget-view+json": {
       "model_id": "e9cbdcbe9105480994893604bfc448fd",
       "version_major": 2,
       "version_minor": 0
      },
      "text/plain": [
       "  0%|          | 0/4 [00:00<?, ?it/s]"
      ]
     },
     "metadata": {},
     "output_type": "display_data"
    },
    {
     "name": "stderr",
     "output_type": "stream",
     "text": [
      "10:20:01 - cmdstanpy - INFO - Chain [1] start processing\n",
      "10:20:02 - cmdstanpy - INFO - Chain [1] done processing\n",
      "10:20:02 - cmdstanpy - INFO - Chain [1] start processing\n",
      "10:20:02 - cmdstanpy - INFO - Chain [1] done processing\n",
      "10:20:03 - cmdstanpy - INFO - Chain [1] start processing\n",
      "10:20:03 - cmdstanpy - INFO - Chain [1] done processing\n",
      "10:20:04 - cmdstanpy - INFO - Chain [1] start processing\n",
      "10:20:04 - cmdstanpy - INFO - Chain [1] done processing\n",
      "10:20:04 - cmdstanpy - INFO - Chain [1] start processing\n",
      "10:20:04 - cmdstanpy - INFO - Chain [1] done processing\n"
     ]
    },
    {
     "data": {
      "application/vnd.jupyter.widget-view+json": {
       "model_id": "a347d6573a1f4ccaaa9a35b874ed534f",
       "version_major": 2,
       "version_minor": 0
      },
      "text/plain": [
       "  0%|          | 0/4 [00:00<?, ?it/s]"
      ]
     },
     "metadata": {},
     "output_type": "display_data"
    },
    {
     "name": "stderr",
     "output_type": "stream",
     "text": [
      "10:20:04 - cmdstanpy - INFO - Chain [1] start processing\n",
      "10:20:04 - cmdstanpy - INFO - Chain [1] done processing\n",
      "10:20:05 - cmdstanpy - INFO - Chain [1] start processing\n",
      "10:20:05 - cmdstanpy - INFO - Chain [1] done processing\n",
      "10:20:06 - cmdstanpy - INFO - Chain [1] start processing\n",
      "10:20:06 - cmdstanpy - INFO - Chain [1] done processing\n",
      "10:20:07 - cmdstanpy - INFO - Chain [1] start processing\n",
      "10:20:07 - cmdstanpy - INFO - Chain [1] done processing\n",
      "10:20:08 - cmdstanpy - INFO - Chain [1] start processing\n",
      "10:20:08 - cmdstanpy - INFO - Chain [1] done processing\n"
     ]
    },
    {
     "data": {
      "application/vnd.jupyter.widget-view+json": {
       "model_id": "339eeddea5de4088aa63ff41889b2249",
       "version_major": 2,
       "version_minor": 0
      },
      "text/plain": [
       "  0%|          | 0/4 [00:00<?, ?it/s]"
      ]
     },
     "metadata": {},
     "output_type": "display_data"
    },
    {
     "name": "stderr",
     "output_type": "stream",
     "text": [
      "10:20:08 - cmdstanpy - INFO - Chain [1] start processing\n",
      "10:20:08 - cmdstanpy - INFO - Chain [1] done processing\n",
      "10:20:08 - cmdstanpy - INFO - Chain [1] start processing\n",
      "10:20:09 - cmdstanpy - INFO - Chain [1] done processing\n",
      "10:20:09 - cmdstanpy - INFO - Chain [1] start processing\n",
      "10:20:09 - cmdstanpy - INFO - Chain [1] done processing\n",
      "10:20:10 - cmdstanpy - INFO - Chain [1] start processing\n",
      "10:20:10 - cmdstanpy - INFO - Chain [1] done processing\n",
      "10:20:11 - cmdstanpy - INFO - Chain [1] start processing\n",
      "10:20:11 - cmdstanpy - INFO - Chain [1] done processing\n"
     ]
    },
    {
     "data": {
      "application/vnd.jupyter.widget-view+json": {
       "model_id": "b3783a9a768a4a41a65e5e13a242800b",
       "version_major": 2,
       "version_minor": 0
      },
      "text/plain": [
       "  0%|          | 0/4 [00:00<?, ?it/s]"
      ]
     },
     "metadata": {},
     "output_type": "display_data"
    },
    {
     "name": "stderr",
     "output_type": "stream",
     "text": [
      "10:20:11 - cmdstanpy - INFO - Chain [1] start processing\n",
      "10:20:11 - cmdstanpy - INFO - Chain [1] done processing\n",
      "10:20:12 - cmdstanpy - INFO - Chain [1] start processing\n",
      "10:20:12 - cmdstanpy - INFO - Chain [1] done processing\n",
      "10:20:12 - cmdstanpy - INFO - Chain [1] start processing\n",
      "10:20:12 - cmdstanpy - INFO - Chain [1] done processing\n",
      "10:20:13 - cmdstanpy - INFO - Chain [1] start processing\n",
      "10:20:13 - cmdstanpy - INFO - Chain [1] done processing\n",
      "10:20:14 - cmdstanpy - INFO - Chain [1] start processing\n",
      "10:20:14 - cmdstanpy - INFO - Chain [1] done processing\n"
     ]
    },
    {
     "data": {
      "application/vnd.jupyter.widget-view+json": {
       "model_id": "eb501e0915904aa9a58642b7b8a342de",
       "version_major": 2,
       "version_minor": 0
      },
      "text/plain": [
       "  0%|          | 0/4 [00:00<?, ?it/s]"
      ]
     },
     "metadata": {},
     "output_type": "display_data"
    },
    {
     "name": "stderr",
     "output_type": "stream",
     "text": [
      "10:20:14 - cmdstanpy - INFO - Chain [1] start processing\n",
      "10:20:14 - cmdstanpy - INFO - Chain [1] done processing\n",
      "10:20:15 - cmdstanpy - INFO - Chain [1] start processing\n",
      "10:20:15 - cmdstanpy - INFO - Chain [1] done processing\n",
      "10:20:15 - cmdstanpy - INFO - Chain [1] start processing\n",
      "10:20:15 - cmdstanpy - INFO - Chain [1] done processing\n",
      "10:20:16 - cmdstanpy - INFO - Chain [1] start processing\n",
      "10:20:16 - cmdstanpy - INFO - Chain [1] done processing\n",
      "10:20:17 - cmdstanpy - INFO - Chain [1] start processing\n",
      "10:20:17 - cmdstanpy - INFO - Chain [1] done processing\n"
     ]
    },
    {
     "data": {
      "application/vnd.jupyter.widget-view+json": {
       "model_id": "a34aeb8992224b6997329a74ff635364",
       "version_major": 2,
       "version_minor": 0
      },
      "text/plain": [
       "  0%|          | 0/4 [00:00<?, ?it/s]"
      ]
     },
     "metadata": {},
     "output_type": "display_data"
    },
    {
     "name": "stderr",
     "output_type": "stream",
     "text": [
      "10:20:17 - cmdstanpy - INFO - Chain [1] start processing\n",
      "10:20:17 - cmdstanpy - INFO - Chain [1] done processing\n",
      "10:20:17 - cmdstanpy - INFO - Chain [1] start processing\n",
      "10:20:18 - cmdstanpy - INFO - Chain [1] done processing\n",
      "10:20:18 - cmdstanpy - INFO - Chain [1] start processing\n",
      "10:20:18 - cmdstanpy - INFO - Chain [1] done processing\n",
      "10:20:19 - cmdstanpy - INFO - Chain [1] start processing\n",
      "10:20:19 - cmdstanpy - INFO - Chain [1] done processing\n",
      "10:20:20 - cmdstanpy - INFO - Chain [1] start processing\n",
      "10:20:20 - cmdstanpy - INFO - Chain [1] done processing\n"
     ]
    },
    {
     "data": {
      "application/vnd.jupyter.widget-view+json": {
       "model_id": "428021251ab2478fa0359e72307bf3a5",
       "version_major": 2,
       "version_minor": 0
      },
      "text/plain": [
       "  0%|          | 0/4 [00:00<?, ?it/s]"
      ]
     },
     "metadata": {},
     "output_type": "display_data"
    },
    {
     "name": "stderr",
     "output_type": "stream",
     "text": [
      "10:20:20 - cmdstanpy - INFO - Chain [1] start processing\n",
      "10:20:20 - cmdstanpy - INFO - Chain [1] done processing\n",
      "10:20:20 - cmdstanpy - INFO - Chain [1] start processing\n",
      "10:20:21 - cmdstanpy - INFO - Chain [1] done processing\n",
      "10:20:21 - cmdstanpy - INFO - Chain [1] start processing\n",
      "10:20:21 - cmdstanpy - INFO - Chain [1] done processing\n",
      "10:20:22 - cmdstanpy - INFO - Chain [1] start processing\n",
      "10:20:22 - cmdstanpy - INFO - Chain [1] done processing\n",
      "10:20:22 - cmdstanpy - INFO - Chain [1] start processing\n",
      "10:20:22 - cmdstanpy - INFO - Chain [1] done processing\n"
     ]
    },
    {
     "data": {
      "application/vnd.jupyter.widget-view+json": {
       "model_id": "85629f922e4c4b7da5ae12ed615f8d59",
       "version_major": 2,
       "version_minor": 0
      },
      "text/plain": [
       "  0%|          | 0/4 [00:00<?, ?it/s]"
      ]
     },
     "metadata": {},
     "output_type": "display_data"
    },
    {
     "name": "stderr",
     "output_type": "stream",
     "text": [
      "10:20:22 - cmdstanpy - INFO - Chain [1] start processing\n",
      "10:20:23 - cmdstanpy - INFO - Chain [1] done processing\n",
      "10:20:23 - cmdstanpy - INFO - Chain [1] start processing\n",
      "10:20:23 - cmdstanpy - INFO - Chain [1] done processing\n",
      "10:20:24 - cmdstanpy - INFO - Chain [1] start processing\n",
      "10:20:24 - cmdstanpy - INFO - Chain [1] done processing\n",
      "10:20:25 - cmdstanpy - INFO - Chain [1] start processing\n",
      "10:20:25 - cmdstanpy - INFO - Chain [1] done processing\n",
      "10:20:25 - cmdstanpy - INFO - Chain [1] start processing\n",
      "10:20:25 - cmdstanpy - INFO - Chain [1] done processing\n"
     ]
    },
    {
     "data": {
      "application/vnd.jupyter.widget-view+json": {
       "model_id": "0997f11ac6f443599d91930842747604",
       "version_major": 2,
       "version_minor": 0
      },
      "text/plain": [
       "  0%|          | 0/4 [00:00<?, ?it/s]"
      ]
     },
     "metadata": {},
     "output_type": "display_data"
    },
    {
     "name": "stderr",
     "output_type": "stream",
     "text": [
      "10:20:25 - cmdstanpy - INFO - Chain [1] start processing\n",
      "10:20:26 - cmdstanpy - INFO - Chain [1] done processing\n",
      "10:20:26 - cmdstanpy - INFO - Chain [1] start processing\n",
      "10:20:26 - cmdstanpy - INFO - Chain [1] done processing\n",
      "10:20:27 - cmdstanpy - INFO - Chain [1] start processing\n",
      "10:20:27 - cmdstanpy - INFO - Chain [1] done processing\n",
      "10:20:27 - cmdstanpy - INFO - Chain [1] start processing\n",
      "10:20:27 - cmdstanpy - INFO - Chain [1] done processing\n",
      "10:20:28 - cmdstanpy - INFO - Chain [1] start processing\n",
      "10:20:28 - cmdstanpy - INFO - Chain [1] done processing\n"
     ]
    },
    {
     "data": {
      "application/vnd.jupyter.widget-view+json": {
       "model_id": "c365434d17f1458f8fb3aaa1a20672bb",
       "version_major": 2,
       "version_minor": 0
      },
      "text/plain": [
       "  0%|          | 0/4 [00:00<?, ?it/s]"
      ]
     },
     "metadata": {},
     "output_type": "display_data"
    },
    {
     "name": "stderr",
     "output_type": "stream",
     "text": [
      "10:20:28 - cmdstanpy - INFO - Chain [1] start processing\n",
      "10:20:28 - cmdstanpy - INFO - Chain [1] done processing\n",
      "10:20:29 - cmdstanpy - INFO - Chain [1] start processing\n",
      "10:20:29 - cmdstanpy - INFO - Chain [1] done processing\n",
      "10:20:30 - cmdstanpy - INFO - Chain [1] start processing\n",
      "10:20:30 - cmdstanpy - INFO - Chain [1] done processing\n",
      "10:20:30 - cmdstanpy - INFO - Chain [1] start processing\n",
      "10:20:30 - cmdstanpy - INFO - Chain [1] done processing\n",
      "10:20:31 - cmdstanpy - INFO - Chain [1] start processing\n",
      "10:20:31 - cmdstanpy - INFO - Chain [1] done processing\n"
     ]
    },
    {
     "data": {
      "application/vnd.jupyter.widget-view+json": {
       "model_id": "efd02762fec54764a74d5d4d4c37f2b6",
       "version_major": 2,
       "version_minor": 0
      },
      "text/plain": [
       "  0%|          | 0/4 [00:00<?, ?it/s]"
      ]
     },
     "metadata": {},
     "output_type": "display_data"
    },
    {
     "name": "stderr",
     "output_type": "stream",
     "text": [
      "10:20:31 - cmdstanpy - INFO - Chain [1] start processing\n",
      "10:20:31 - cmdstanpy - INFO - Chain [1] done processing\n",
      "10:20:32 - cmdstanpy - INFO - Chain [1] start processing\n",
      "10:20:32 - cmdstanpy - INFO - Chain [1] done processing\n",
      "10:20:32 - cmdstanpy - INFO - Chain [1] start processing\n",
      "10:20:32 - cmdstanpy - INFO - Chain [1] done processing\n",
      "10:20:33 - cmdstanpy - INFO - Chain [1] start processing\n",
      "10:20:33 - cmdstanpy - INFO - Chain [1] done processing\n",
      "10:20:34 - cmdstanpy - INFO - Chain [1] start processing\n",
      "10:20:34 - cmdstanpy - INFO - Chain [1] done processing\n"
     ]
    },
    {
     "data": {
      "application/vnd.jupyter.widget-view+json": {
       "model_id": "8d9510cc21284c0d815f3374e08a514c",
       "version_major": 2,
       "version_minor": 0
      },
      "text/plain": [
       "  0%|          | 0/4 [00:00<?, ?it/s]"
      ]
     },
     "metadata": {},
     "output_type": "display_data"
    },
    {
     "name": "stderr",
     "output_type": "stream",
     "text": [
      "10:20:34 - cmdstanpy - INFO - Chain [1] start processing\n",
      "10:20:34 - cmdstanpy - INFO - Chain [1] done processing\n",
      "10:20:35 - cmdstanpy - INFO - Chain [1] start processing\n",
      "10:20:35 - cmdstanpy - INFO - Chain [1] done processing\n",
      "10:20:35 - cmdstanpy - INFO - Chain [1] start processing\n",
      "10:20:35 - cmdstanpy - INFO - Chain [1] done processing\n",
      "10:20:36 - cmdstanpy - INFO - Chain [1] start processing\n",
      "10:20:36 - cmdstanpy - INFO - Chain [1] done processing\n",
      "10:20:37 - cmdstanpy - INFO - Chain [1] start processing\n",
      "10:20:37 - cmdstanpy - INFO - Chain [1] done processing\n"
     ]
    },
    {
     "data": {
      "application/vnd.jupyter.widget-view+json": {
       "model_id": "427cc4933ad141fabbb15cb7ae77877f",
       "version_major": 2,
       "version_minor": 0
      },
      "text/plain": [
       "  0%|          | 0/4 [00:00<?, ?it/s]"
      ]
     },
     "metadata": {},
     "output_type": "display_data"
    },
    {
     "name": "stderr",
     "output_type": "stream",
     "text": [
      "10:20:37 - cmdstanpy - INFO - Chain [1] start processing\n",
      "10:20:37 - cmdstanpy - INFO - Chain [1] done processing\n",
      "10:20:38 - cmdstanpy - INFO - Chain [1] start processing\n",
      "10:20:38 - cmdstanpy - INFO - Chain [1] done processing\n",
      "10:20:38 - cmdstanpy - INFO - Chain [1] start processing\n",
      "10:20:38 - cmdstanpy - INFO - Chain [1] done processing\n",
      "10:20:39 - cmdstanpy - INFO - Chain [1] start processing\n",
      "10:20:39 - cmdstanpy - INFO - Chain [1] done processing\n",
      "10:20:40 - cmdstanpy - INFO - Chain [1] start processing\n",
      "10:20:40 - cmdstanpy - INFO - Chain [1] done processing\n"
     ]
    },
    {
     "data": {
      "application/vnd.jupyter.widget-view+json": {
       "model_id": "ff6c231bfed14eeaacb23f669082c949",
       "version_major": 2,
       "version_minor": 0
      },
      "text/plain": [
       "  0%|          | 0/4 [00:00<?, ?it/s]"
      ]
     },
     "metadata": {},
     "output_type": "display_data"
    },
    {
     "name": "stderr",
     "output_type": "stream",
     "text": [
      "10:20:40 - cmdstanpy - INFO - Chain [1] start processing\n",
      "10:20:40 - cmdstanpy - INFO - Chain [1] done processing\n",
      "10:20:40 - cmdstanpy - INFO - Chain [1] start processing\n",
      "10:20:40 - cmdstanpy - INFO - Chain [1] done processing\n",
      "10:20:41 - cmdstanpy - INFO - Chain [1] start processing\n",
      "10:20:41 - cmdstanpy - INFO - Chain [1] done processing\n",
      "10:20:42 - cmdstanpy - INFO - Chain [1] start processing\n",
      "10:20:42 - cmdstanpy - INFO - Chain [1] done processing\n",
      "10:20:42 - cmdstanpy - INFO - Chain [1] start processing\n",
      "10:20:42 - cmdstanpy - INFO - Chain [1] done processing\n"
     ]
    },
    {
     "data": {
      "application/vnd.jupyter.widget-view+json": {
       "model_id": "eae58fb481fd43dfa4101da0cb9052fd",
       "version_major": 2,
       "version_minor": 0
      },
      "text/plain": [
       "  0%|          | 0/4 [00:00<?, ?it/s]"
      ]
     },
     "metadata": {},
     "output_type": "display_data"
    },
    {
     "name": "stderr",
     "output_type": "stream",
     "text": [
      "10:20:42 - cmdstanpy - INFO - Chain [1] start processing\n",
      "10:20:43 - cmdstanpy - INFO - Chain [1] done processing\n",
      "10:20:43 - cmdstanpy - INFO - Chain [1] start processing\n",
      "10:20:43 - cmdstanpy - INFO - Chain [1] done processing\n",
      "10:20:44 - cmdstanpy - INFO - Chain [1] start processing\n",
      "10:20:44 - cmdstanpy - INFO - Chain [1] done processing\n",
      "10:20:45 - cmdstanpy - INFO - Chain [1] start processing\n",
      "10:20:45 - cmdstanpy - INFO - Chain [1] done processing\n",
      "10:20:45 - cmdstanpy - INFO - Chain [1] start processing\n",
      "10:20:45 - cmdstanpy - INFO - Chain [1] done processing\n"
     ]
    },
    {
     "data": {
      "application/vnd.jupyter.widget-view+json": {
       "model_id": "1d45d646b3ab43febfcb2585025180b8",
       "version_major": 2,
       "version_minor": 0
      },
      "text/plain": [
       "  0%|          | 0/4 [00:00<?, ?it/s]"
      ]
     },
     "metadata": {},
     "output_type": "display_data"
    },
    {
     "name": "stderr",
     "output_type": "stream",
     "text": [
      "10:20:45 - cmdstanpy - INFO - Chain [1] start processing\n",
      "10:20:46 - cmdstanpy - INFO - Chain [1] done processing\n",
      "10:20:46 - cmdstanpy - INFO - Chain [1] start processing\n",
      "10:20:46 - cmdstanpy - INFO - Chain [1] done processing\n",
      "10:20:47 - cmdstanpy - INFO - Chain [1] start processing\n",
      "10:20:47 - cmdstanpy - INFO - Chain [1] done processing\n",
      "10:20:47 - cmdstanpy - INFO - Chain [1] start processing\n",
      "10:20:47 - cmdstanpy - INFO - Chain [1] done processing\n",
      "10:20:48 - cmdstanpy - INFO - Chain [1] start processing\n",
      "10:20:48 - cmdstanpy - INFO - Chain [1] done processing\n"
     ]
    },
    {
     "data": {
      "application/vnd.jupyter.widget-view+json": {
       "model_id": "46f6a48589024596b5e74a17e79d4714",
       "version_major": 2,
       "version_minor": 0
      },
      "text/plain": [
       "  0%|          | 0/4 [00:00<?, ?it/s]"
      ]
     },
     "metadata": {},
     "output_type": "display_data"
    },
    {
     "name": "stderr",
     "output_type": "stream",
     "text": [
      "10:20:48 - cmdstanpy - INFO - Chain [1] start processing\n",
      "10:20:49 - cmdstanpy - INFO - Chain [1] done processing\n",
      "10:20:49 - cmdstanpy - INFO - Chain [1] start processing\n",
      "10:20:49 - cmdstanpy - INFO - Chain [1] done processing\n",
      "10:20:50 - cmdstanpy - INFO - Chain [1] start processing\n",
      "10:20:50 - cmdstanpy - INFO - Chain [1] done processing\n",
      "10:20:51 - cmdstanpy - INFO - Chain [1] start processing\n",
      "10:20:51 - cmdstanpy - INFO - Chain [1] done processing\n",
      "10:20:51 - cmdstanpy - INFO - Chain [1] start processing\n",
      "10:20:51 - cmdstanpy - INFO - Chain [1] done processing\n"
     ]
    },
    {
     "data": {
      "application/vnd.jupyter.widget-view+json": {
       "model_id": "383c7360f77344fe9e2752d9ac0fe361",
       "version_major": 2,
       "version_minor": 0
      },
      "text/plain": [
       "  0%|          | 0/4 [00:00<?, ?it/s]"
      ]
     },
     "metadata": {},
     "output_type": "display_data"
    },
    {
     "name": "stderr",
     "output_type": "stream",
     "text": [
      "10:20:51 - cmdstanpy - INFO - Chain [1] start processing\n",
      "10:20:52 - cmdstanpy - INFO - Chain [1] done processing\n",
      "10:20:52 - cmdstanpy - INFO - Chain [1] start processing\n",
      "10:20:52 - cmdstanpy - INFO - Chain [1] done processing\n",
      "10:20:53 - cmdstanpy - INFO - Chain [1] start processing\n",
      "10:20:53 - cmdstanpy - INFO - Chain [1] done processing\n",
      "10:20:54 - cmdstanpy - INFO - Chain [1] start processing\n",
      "10:20:54 - cmdstanpy - INFO - Chain [1] done processing\n",
      "10:20:55 - cmdstanpy - INFO - Chain [1] start processing\n",
      "10:20:55 - cmdstanpy - INFO - Chain [1] done processing\n"
     ]
    },
    {
     "data": {
      "application/vnd.jupyter.widget-view+json": {
       "model_id": "3281fc47170644c09fab5c9d8638595a",
       "version_major": 2,
       "version_minor": 0
      },
      "text/plain": [
       "  0%|          | 0/4 [00:00<?, ?it/s]"
      ]
     },
     "metadata": {},
     "output_type": "display_data"
    },
    {
     "name": "stderr",
     "output_type": "stream",
     "text": [
      "10:20:55 - cmdstanpy - INFO - Chain [1] start processing\n",
      "10:20:55 - cmdstanpy - INFO - Chain [1] done processing\n",
      "10:20:55 - cmdstanpy - INFO - Chain [1] start processing\n",
      "10:20:56 - cmdstanpy - INFO - Chain [1] done processing\n",
      "10:20:56 - cmdstanpy - INFO - Chain [1] start processing\n",
      "10:20:56 - cmdstanpy - INFO - Chain [1] done processing\n",
      "10:20:57 - cmdstanpy - INFO - Chain [1] start processing\n",
      "10:20:57 - cmdstanpy - INFO - Chain [1] done processing\n",
      "10:20:58 - cmdstanpy - INFO - Chain [1] start processing\n",
      "10:20:58 - cmdstanpy - INFO - Chain [1] done processing\n"
     ]
    },
    {
     "data": {
      "application/vnd.jupyter.widget-view+json": {
       "model_id": "53df76f6110a4ede92320a1d674a4c77",
       "version_major": 2,
       "version_minor": 0
      },
      "text/plain": [
       "  0%|          | 0/4 [00:00<?, ?it/s]"
      ]
     },
     "metadata": {},
     "output_type": "display_data"
    },
    {
     "name": "stderr",
     "output_type": "stream",
     "text": [
      "10:20:58 - cmdstanpy - INFO - Chain [1] start processing\n",
      "10:20:58 - cmdstanpy - INFO - Chain [1] done processing\n",
      "10:20:59 - cmdstanpy - INFO - Chain [1] start processing\n",
      "10:20:59 - cmdstanpy - INFO - Chain [1] done processing\n",
      "10:20:59 - cmdstanpy - INFO - Chain [1] start processing\n",
      "10:20:59 - cmdstanpy - INFO - Chain [1] done processing\n",
      "10:21:00 - cmdstanpy - INFO - Chain [1] start processing\n",
      "10:21:00 - cmdstanpy - INFO - Chain [1] done processing\n",
      "10:21:01 - cmdstanpy - INFO - Chain [1] start processing\n",
      "10:21:01 - cmdstanpy - INFO - Chain [1] done processing\n"
     ]
    },
    {
     "data": {
      "application/vnd.jupyter.widget-view+json": {
       "model_id": "2ef5ddfcee944ae89772c807e9c41e07",
       "version_major": 2,
       "version_minor": 0
      },
      "text/plain": [
       "  0%|          | 0/4 [00:00<?, ?it/s]"
      ]
     },
     "metadata": {},
     "output_type": "display_data"
    },
    {
     "name": "stderr",
     "output_type": "stream",
     "text": [
      "10:21:01 - cmdstanpy - INFO - Chain [1] start processing\n",
      "10:21:01 - cmdstanpy - INFO - Chain [1] done processing\n",
      "10:21:01 - cmdstanpy - INFO - Chain [1] start processing\n",
      "10:21:01 - cmdstanpy - INFO - Chain [1] done processing\n",
      "10:21:02 - cmdstanpy - INFO - Chain [1] start processing\n",
      "10:21:02 - cmdstanpy - INFO - Chain [1] done processing\n",
      "10:21:03 - cmdstanpy - INFO - Chain [1] start processing\n",
      "10:21:03 - cmdstanpy - INFO - Chain [1] done processing\n",
      "10:21:03 - cmdstanpy - INFO - Chain [1] start processing\n",
      "10:21:03 - cmdstanpy - INFO - Chain [1] done processing\n"
     ]
    },
    {
     "data": {
      "application/vnd.jupyter.widget-view+json": {
       "model_id": "f16a392db9024b6cb19d45c271cac8d0",
       "version_major": 2,
       "version_minor": 0
      },
      "text/plain": [
       "  0%|          | 0/4 [00:00<?, ?it/s]"
      ]
     },
     "metadata": {},
     "output_type": "display_data"
    },
    {
     "name": "stderr",
     "output_type": "stream",
     "text": [
      "10:21:03 - cmdstanpy - INFO - Chain [1] start processing\n",
      "10:21:04 - cmdstanpy - INFO - Chain [1] done processing\n",
      "10:21:04 - cmdstanpy - INFO - Chain [1] start processing\n",
      "10:21:04 - cmdstanpy - INFO - Chain [1] done processing\n",
      "10:21:05 - cmdstanpy - INFO - Chain [1] start processing\n",
      "10:21:05 - cmdstanpy - INFO - Chain [1] done processing\n",
      "10:21:06 - cmdstanpy - INFO - Chain [1] start processing\n",
      "10:21:06 - cmdstanpy - INFO - Chain [1] done processing\n",
      "10:21:07 - cmdstanpy - INFO - Chain [1] start processing\n",
      "10:21:07 - cmdstanpy - INFO - Chain [1] done processing\n"
     ]
    },
    {
     "data": {
      "application/vnd.jupyter.widget-view+json": {
       "model_id": "a2fc4fefc8f24ca98f7c95d05b393c4d",
       "version_major": 2,
       "version_minor": 0
      },
      "text/plain": [
       "  0%|          | 0/4 [00:00<?, ?it/s]"
      ]
     },
     "metadata": {},
     "output_type": "display_data"
    },
    {
     "name": "stderr",
     "output_type": "stream",
     "text": [
      "10:21:07 - cmdstanpy - INFO - Chain [1] start processing\n",
      "10:21:07 - cmdstanpy - INFO - Chain [1] done processing\n",
      "10:21:08 - cmdstanpy - INFO - Chain [1] start processing\n",
      "10:21:08 - cmdstanpy - INFO - Chain [1] done processing\n",
      "10:21:09 - cmdstanpy - INFO - Chain [1] start processing\n",
      "10:21:09 - cmdstanpy - INFO - Chain [1] done processing\n",
      "10:21:09 - cmdstanpy - INFO - Chain [1] start processing\n",
      "10:21:09 - cmdstanpy - INFO - Chain [1] done processing\n",
      "10:21:10 - cmdstanpy - INFO - Chain [1] start processing\n",
      "10:21:10 - cmdstanpy - INFO - Chain [1] done processing\n"
     ]
    },
    {
     "data": {
      "application/vnd.jupyter.widget-view+json": {
       "model_id": "870ee1e2a80d4c1a85cef5793d5deb66",
       "version_major": 2,
       "version_minor": 0
      },
      "text/plain": [
       "  0%|          | 0/4 [00:00<?, ?it/s]"
      ]
     },
     "metadata": {},
     "output_type": "display_data"
    },
    {
     "name": "stderr",
     "output_type": "stream",
     "text": [
      "10:21:10 - cmdstanpy - INFO - Chain [1] start processing\n",
      "10:21:10 - cmdstanpy - INFO - Chain [1] done processing\n",
      "10:21:11 - cmdstanpy - INFO - Chain [1] start processing\n",
      "10:21:11 - cmdstanpy - INFO - Chain [1] done processing\n",
      "10:21:12 - cmdstanpy - INFO - Chain [1] start processing\n",
      "10:21:12 - cmdstanpy - INFO - Chain [1] done processing\n",
      "10:21:12 - cmdstanpy - INFO - Chain [1] start processing\n",
      "10:21:12 - cmdstanpy - INFO - Chain [1] done processing\n",
      "10:21:13 - cmdstanpy - INFO - Chain [1] start processing\n",
      "10:21:13 - cmdstanpy - INFO - Chain [1] done processing\n"
     ]
    },
    {
     "data": {
      "application/vnd.jupyter.widget-view+json": {
       "model_id": "11e1d3246160476290021220e5d15c0d",
       "version_major": 2,
       "version_minor": 0
      },
      "text/plain": [
       "  0%|          | 0/4 [00:00<?, ?it/s]"
      ]
     },
     "metadata": {},
     "output_type": "display_data"
    },
    {
     "name": "stderr",
     "output_type": "stream",
     "text": [
      "10:21:13 - cmdstanpy - INFO - Chain [1] start processing\n",
      "10:21:13 - cmdstanpy - INFO - Chain [1] done processing\n",
      "10:21:14 - cmdstanpy - INFO - Chain [1] start processing\n",
      "10:21:14 - cmdstanpy - INFO - Chain [1] done processing\n",
      "10:21:15 - cmdstanpy - INFO - Chain [1] start processing\n",
      "10:21:15 - cmdstanpy - INFO - Chain [1] done processing\n",
      "10:21:15 - cmdstanpy - INFO - Chain [1] start processing\n",
      "10:21:15 - cmdstanpy - INFO - Chain [1] done processing\n",
      "10:21:16 - cmdstanpy - INFO - Chain [1] start processing\n",
      "10:21:16 - cmdstanpy - INFO - Chain [1] done processing\n"
     ]
    },
    {
     "data": {
      "application/vnd.jupyter.widget-view+json": {
       "model_id": "6abfa281e1514be38de2d3f328493db1",
       "version_major": 2,
       "version_minor": 0
      },
      "text/plain": [
       "  0%|          | 0/4 [00:00<?, ?it/s]"
      ]
     },
     "metadata": {},
     "output_type": "display_data"
    },
    {
     "name": "stderr",
     "output_type": "stream",
     "text": [
      "10:21:16 - cmdstanpy - INFO - Chain [1] start processing\n",
      "10:21:16 - cmdstanpy - INFO - Chain [1] done processing\n",
      "10:21:17 - cmdstanpy - INFO - Chain [1] start processing\n",
      "10:21:17 - cmdstanpy - INFO - Chain [1] done processing\n",
      "10:21:17 - cmdstanpy - INFO - Chain [1] start processing\n",
      "10:21:17 - cmdstanpy - INFO - Chain [1] done processing\n",
      "10:21:18 - cmdstanpy - INFO - Chain [1] start processing\n",
      "10:21:18 - cmdstanpy - INFO - Chain [1] done processing\n",
      "10:21:19 - cmdstanpy - INFO - Chain [1] start processing\n",
      "10:21:19 - cmdstanpy - INFO - Chain [1] done processing\n"
     ]
    },
    {
     "data": {
      "application/vnd.jupyter.widget-view+json": {
       "model_id": "9020bed9c3ad48c0bf0f251de5b64d33",
       "version_major": 2,
       "version_minor": 0
      },
      "text/plain": [
       "  0%|          | 0/4 [00:00<?, ?it/s]"
      ]
     },
     "metadata": {},
     "output_type": "display_data"
    },
    {
     "name": "stderr",
     "output_type": "stream",
     "text": [
      "10:21:19 - cmdstanpy - INFO - Chain [1] start processing\n",
      "10:21:19 - cmdstanpy - INFO - Chain [1] done processing\n",
      "10:21:20 - cmdstanpy - INFO - Chain [1] start processing\n",
      "10:21:20 - cmdstanpy - INFO - Chain [1] done processing\n",
      "10:21:20 - cmdstanpy - INFO - Chain [1] start processing\n",
      "10:21:20 - cmdstanpy - INFO - Chain [1] done processing\n",
      "10:21:21 - cmdstanpy - INFO - Chain [1] start processing\n",
      "10:21:21 - cmdstanpy - INFO - Chain [1] done processing\n",
      "10:21:22 - cmdstanpy - INFO - Chain [1] start processing\n",
      "10:21:22 - cmdstanpy - INFO - Chain [1] done processing\n"
     ]
    },
    {
     "data": {
      "application/vnd.jupyter.widget-view+json": {
       "model_id": "ede1d36ad9194a1f8c4bfbe659c792d1",
       "version_major": 2,
       "version_minor": 0
      },
      "text/plain": [
       "  0%|          | 0/4 [00:00<?, ?it/s]"
      ]
     },
     "metadata": {},
     "output_type": "display_data"
    },
    {
     "name": "stderr",
     "output_type": "stream",
     "text": [
      "10:21:22 - cmdstanpy - INFO - Chain [1] start processing\n",
      "10:21:22 - cmdstanpy - INFO - Chain [1] done processing\n",
      "10:21:23 - cmdstanpy - INFO - Chain [1] start processing\n",
      "10:21:23 - cmdstanpy - INFO - Chain [1] done processing\n",
      "10:21:23 - cmdstanpy - INFO - Chain [1] start processing\n",
      "10:21:23 - cmdstanpy - INFO - Chain [1] done processing\n",
      "10:21:24 - cmdstanpy - INFO - Chain [1] start processing\n",
      "10:21:24 - cmdstanpy - INFO - Chain [1] done processing\n",
      "10:21:25 - cmdstanpy - INFO - Chain [1] start processing\n",
      "10:21:25 - cmdstanpy - INFO - Chain [1] done processing\n"
     ]
    },
    {
     "data": {
      "application/vnd.jupyter.widget-view+json": {
       "model_id": "75e4e4dd53d74287a61a85b32a4b5a19",
       "version_major": 2,
       "version_minor": 0
      },
      "text/plain": [
       "  0%|          | 0/4 [00:00<?, ?it/s]"
      ]
     },
     "metadata": {},
     "output_type": "display_data"
    },
    {
     "name": "stderr",
     "output_type": "stream",
     "text": [
      "10:21:25 - cmdstanpy - INFO - Chain [1] start processing\n",
      "10:21:25 - cmdstanpy - INFO - Chain [1] done processing\n",
      "10:21:26 - cmdstanpy - INFO - Chain [1] start processing\n",
      "10:21:26 - cmdstanpy - INFO - Chain [1] done processing\n",
      "10:21:26 - cmdstanpy - INFO - Chain [1] start processing\n",
      "10:21:26 - cmdstanpy - INFO - Chain [1] done processing\n",
      "10:21:27 - cmdstanpy - INFO - Chain [1] start processing\n",
      "10:21:27 - cmdstanpy - INFO - Chain [1] done processing\n",
      "10:21:28 - cmdstanpy - INFO - Chain [1] start processing\n",
      "10:21:28 - cmdstanpy - INFO - Chain [1] done processing\n"
     ]
    },
    {
     "data": {
      "application/vnd.jupyter.widget-view+json": {
       "model_id": "9ac7c929b0fd4888813bda296b0ef225",
       "version_major": 2,
       "version_minor": 0
      },
      "text/plain": [
       "  0%|          | 0/4 [00:00<?, ?it/s]"
      ]
     },
     "metadata": {},
     "output_type": "display_data"
    },
    {
     "name": "stderr",
     "output_type": "stream",
     "text": [
      "10:21:28 - cmdstanpy - INFO - Chain [1] start processing\n",
      "10:21:28 - cmdstanpy - INFO - Chain [1] done processing\n",
      "10:21:28 - cmdstanpy - INFO - Chain [1] start processing\n",
      "10:21:29 - cmdstanpy - INFO - Chain [1] done processing\n",
      "10:21:29 - cmdstanpy - INFO - Chain [1] start processing\n",
      "10:21:29 - cmdstanpy - INFO - Chain [1] done processing\n",
      "10:21:30 - cmdstanpy - INFO - Chain [1] start processing\n",
      "10:21:30 - cmdstanpy - INFO - Chain [1] done processing\n",
      "10:21:30 - cmdstanpy - INFO - Chain [1] start processing\n",
      "10:21:31 - cmdstanpy - INFO - Chain [1] done processing\n"
     ]
    },
    {
     "data": {
      "application/vnd.jupyter.widget-view+json": {
       "model_id": "ccbb1d3a31a84b31acfdf46b570fcbf2",
       "version_major": 2,
       "version_minor": 0
      },
      "text/plain": [
       "  0%|          | 0/4 [00:00<?, ?it/s]"
      ]
     },
     "metadata": {},
     "output_type": "display_data"
    },
    {
     "name": "stderr",
     "output_type": "stream",
     "text": [
      "10:21:31 - cmdstanpy - INFO - Chain [1] start processing\n",
      "10:21:31 - cmdstanpy - INFO - Chain [1] done processing\n",
      "10:21:31 - cmdstanpy - INFO - Chain [1] start processing\n",
      "10:21:31 - cmdstanpy - INFO - Chain [1] done processing\n",
      "10:21:32 - cmdstanpy - INFO - Chain [1] start processing\n",
      "10:21:32 - cmdstanpy - INFO - Chain [1] done processing\n",
      "10:21:33 - cmdstanpy - INFO - Chain [1] start processing\n",
      "10:21:33 - cmdstanpy - INFO - Chain [1] done processing\n",
      "10:21:33 - cmdstanpy - INFO - Chain [1] start processing\n",
      "10:21:33 - cmdstanpy - INFO - Chain [1] done processing\n"
     ]
    },
    {
     "data": {
      "application/vnd.jupyter.widget-view+json": {
       "model_id": "240c2de7b8834da199da07d5b5011b46",
       "version_major": 2,
       "version_minor": 0
      },
      "text/plain": [
       "  0%|          | 0/4 [00:00<?, ?it/s]"
      ]
     },
     "metadata": {},
     "output_type": "display_data"
    },
    {
     "name": "stderr",
     "output_type": "stream",
     "text": [
      "10:21:33 - cmdstanpy - INFO - Chain [1] start processing\n",
      "10:21:34 - cmdstanpy - INFO - Chain [1] done processing\n",
      "10:21:34 - cmdstanpy - INFO - Chain [1] start processing\n",
      "10:21:34 - cmdstanpy - INFO - Chain [1] done processing\n",
      "10:21:35 - cmdstanpy - INFO - Chain [1] start processing\n",
      "10:21:35 - cmdstanpy - INFO - Chain [1] done processing\n",
      "10:21:36 - cmdstanpy - INFO - Chain [1] start processing\n",
      "10:21:36 - cmdstanpy - INFO - Chain [1] done processing\n",
      "10:21:36 - cmdstanpy - INFO - Chain [1] start processing\n",
      "10:21:36 - cmdstanpy - INFO - Chain [1] done processing\n"
     ]
    },
    {
     "data": {
      "application/vnd.jupyter.widget-view+json": {
       "model_id": "bbf54036fc374943a55517cae10b4d7b",
       "version_major": 2,
       "version_minor": 0
      },
      "text/plain": [
       "  0%|          | 0/4 [00:00<?, ?it/s]"
      ]
     },
     "metadata": {},
     "output_type": "display_data"
    },
    {
     "name": "stderr",
     "output_type": "stream",
     "text": [
      "10:21:36 - cmdstanpy - INFO - Chain [1] start processing\n",
      "10:21:37 - cmdstanpy - INFO - Chain [1] done processing\n",
      "10:21:37 - cmdstanpy - INFO - Chain [1] start processing\n",
      "10:21:37 - cmdstanpy - INFO - Chain [1] done processing\n",
      "10:21:38 - cmdstanpy - INFO - Chain [1] start processing\n",
      "10:21:38 - cmdstanpy - INFO - Chain [1] done processing\n",
      "10:21:39 - cmdstanpy - INFO - Chain [1] start processing\n",
      "10:21:39 - cmdstanpy - INFO - Chain [1] done processing\n",
      "10:21:39 - cmdstanpy - INFO - Chain [1] start processing\n",
      "10:21:39 - cmdstanpy - INFO - Chain [1] done processing\n"
     ]
    },
    {
     "data": {
      "application/vnd.jupyter.widget-view+json": {
       "model_id": "c4828348dbb24c7faaf521597f67467d",
       "version_major": 2,
       "version_minor": 0
      },
      "text/plain": [
       "  0%|          | 0/4 [00:00<?, ?it/s]"
      ]
     },
     "metadata": {},
     "output_type": "display_data"
    },
    {
     "name": "stderr",
     "output_type": "stream",
     "text": [
      "10:21:39 - cmdstanpy - INFO - Chain [1] start processing\n",
      "10:21:40 - cmdstanpy - INFO - Chain [1] done processing\n",
      "10:21:40 - cmdstanpy - INFO - Chain [1] start processing\n",
      "10:21:40 - cmdstanpy - INFO - Chain [1] done processing\n",
      "10:21:41 - cmdstanpy - INFO - Chain [1] start processing\n",
      "10:21:41 - cmdstanpy - INFO - Chain [1] done processing\n",
      "10:21:41 - cmdstanpy - INFO - Chain [1] start processing\n",
      "10:21:41 - cmdstanpy - INFO - Chain [1] done processing\n",
      "10:21:42 - cmdstanpy - INFO - Chain [1] start processing\n",
      "10:21:42 - cmdstanpy - INFO - Chain [1] done processing\n"
     ]
    },
    {
     "data": {
      "application/vnd.jupyter.widget-view+json": {
       "model_id": "1fbcd49d4f364839bfd29ed5382cefe3",
       "version_major": 2,
       "version_minor": 0
      },
      "text/plain": [
       "  0%|          | 0/4 [00:00<?, ?it/s]"
      ]
     },
     "metadata": {},
     "output_type": "display_data"
    },
    {
     "name": "stderr",
     "output_type": "stream",
     "text": [
      "10:21:42 - cmdstanpy - INFO - Chain [1] start processing\n",
      "10:21:42 - cmdstanpy - INFO - Chain [1] done processing\n",
      "10:21:43 - cmdstanpy - INFO - Chain [1] start processing\n",
      "10:21:43 - cmdstanpy - INFO - Chain [1] done processing\n",
      "10:21:44 - cmdstanpy - INFO - Chain [1] start processing\n",
      "10:21:44 - cmdstanpy - INFO - Chain [1] done processing\n",
      "10:21:44 - cmdstanpy - INFO - Chain [1] start processing\n",
      "10:21:44 - cmdstanpy - INFO - Chain [1] done processing\n",
      "10:21:45 - cmdstanpy - INFO - Chain [1] start processing\n",
      "10:21:45 - cmdstanpy - INFO - Chain [1] done processing\n"
     ]
    },
    {
     "data": {
      "application/vnd.jupyter.widget-view+json": {
       "model_id": "9c7d14dbf6f04552a94fd1731ee0308e",
       "version_major": 2,
       "version_minor": 0
      },
      "text/plain": [
       "  0%|          | 0/4 [00:00<?, ?it/s]"
      ]
     },
     "metadata": {},
     "output_type": "display_data"
    },
    {
     "name": "stderr",
     "output_type": "stream",
     "text": [
      "10:21:45 - cmdstanpy - INFO - Chain [1] start processing\n",
      "10:21:45 - cmdstanpy - INFO - Chain [1] done processing\n",
      "10:21:46 - cmdstanpy - INFO - Chain [1] start processing\n",
      "10:21:46 - cmdstanpy - INFO - Chain [1] done processing\n",
      "10:21:47 - cmdstanpy - INFO - Chain [1] start processing\n",
      "10:21:47 - cmdstanpy - INFO - Chain [1] done processing\n",
      "10:21:47 - cmdstanpy - INFO - Chain [1] start processing\n",
      "10:21:47 - cmdstanpy - INFO - Chain [1] done processing\n",
      "10:21:48 - cmdstanpy - INFO - Chain [1] start processing\n",
      "10:21:48 - cmdstanpy - INFO - Chain [1] done processing\n"
     ]
    },
    {
     "data": {
      "application/vnd.jupyter.widget-view+json": {
       "model_id": "90cd4ce8dbf544c1837799cb32925701",
       "version_major": 2,
       "version_minor": 0
      },
      "text/plain": [
       "  0%|          | 0/4 [00:00<?, ?it/s]"
      ]
     },
     "metadata": {},
     "output_type": "display_data"
    },
    {
     "name": "stderr",
     "output_type": "stream",
     "text": [
      "10:21:48 - cmdstanpy - INFO - Chain [1] start processing\n",
      "10:21:48 - cmdstanpy - INFO - Chain [1] done processing\n",
      "10:21:49 - cmdstanpy - INFO - Chain [1] start processing\n",
      "10:21:49 - cmdstanpy - INFO - Chain [1] done processing\n",
      "10:21:49 - cmdstanpy - INFO - Chain [1] start processing\n",
      "10:21:49 - cmdstanpy - INFO - Chain [1] done processing\n",
      "10:21:50 - cmdstanpy - INFO - Chain [1] start processing\n",
      "10:21:50 - cmdstanpy - INFO - Chain [1] done processing\n",
      "10:21:51 - cmdstanpy - INFO - Chain [1] start processing\n",
      "10:21:51 - cmdstanpy - INFO - Chain [1] done processing\n"
     ]
    },
    {
     "data": {
      "application/vnd.jupyter.widget-view+json": {
       "model_id": "5322573750064a32a6d549244ef64584",
       "version_major": 2,
       "version_minor": 0
      },
      "text/plain": [
       "  0%|          | 0/4 [00:00<?, ?it/s]"
      ]
     },
     "metadata": {},
     "output_type": "display_data"
    },
    {
     "name": "stderr",
     "output_type": "stream",
     "text": [
      "10:21:51 - cmdstanpy - INFO - Chain [1] start processing\n",
      "10:21:51 - cmdstanpy - INFO - Chain [1] done processing\n",
      "10:21:52 - cmdstanpy - INFO - Chain [1] start processing\n",
      "10:21:52 - cmdstanpy - INFO - Chain [1] done processing\n",
      "10:21:52 - cmdstanpy - INFO - Chain [1] start processing\n",
      "10:21:52 - cmdstanpy - INFO - Chain [1] done processing\n",
      "10:21:53 - cmdstanpy - INFO - Chain [1] start processing\n",
      "10:21:53 - cmdstanpy - INFO - Chain [1] done processing\n",
      "10:21:54 - cmdstanpy - INFO - Chain [1] start processing\n",
      "10:21:54 - cmdstanpy - INFO - Chain [1] done processing\n"
     ]
    },
    {
     "data": {
      "application/vnd.jupyter.widget-view+json": {
       "model_id": "855b8e00b640498aae550c63a2ae6e68",
       "version_major": 2,
       "version_minor": 0
      },
      "text/plain": [
       "  0%|          | 0/4 [00:00<?, ?it/s]"
      ]
     },
     "metadata": {},
     "output_type": "display_data"
    },
    {
     "name": "stderr",
     "output_type": "stream",
     "text": [
      "10:21:54 - cmdstanpy - INFO - Chain [1] start processing\n",
      "10:21:54 - cmdstanpy - INFO - Chain [1] done processing\n",
      "10:21:55 - cmdstanpy - INFO - Chain [1] start processing\n",
      "10:21:55 - cmdstanpy - INFO - Chain [1] done processing\n",
      "10:21:55 - cmdstanpy - INFO - Chain [1] start processing\n",
      "10:21:55 - cmdstanpy - INFO - Chain [1] done processing\n",
      "10:21:56 - cmdstanpy - INFO - Chain [1] start processing\n",
      "10:21:56 - cmdstanpy - INFO - Chain [1] done processing\n",
      "10:21:57 - cmdstanpy - INFO - Chain [1] start processing\n",
      "10:21:57 - cmdstanpy - INFO - Chain [1] done processing\n"
     ]
    },
    {
     "data": {
      "application/vnd.jupyter.widget-view+json": {
       "model_id": "0debac5959f24e78a8d21ad57b86be78",
       "version_major": 2,
       "version_minor": 0
      },
      "text/plain": [
       "  0%|          | 0/4 [00:00<?, ?it/s]"
      ]
     },
     "metadata": {},
     "output_type": "display_data"
    },
    {
     "name": "stderr",
     "output_type": "stream",
     "text": [
      "10:21:57 - cmdstanpy - INFO - Chain [1] start processing\n",
      "10:21:57 - cmdstanpy - INFO - Chain [1] done processing\n",
      "10:21:57 - cmdstanpy - INFO - Chain [1] start processing\n",
      "10:21:57 - cmdstanpy - INFO - Chain [1] done processing\n",
      "10:21:58 - cmdstanpy - INFO - Chain [1] start processing\n",
      "10:21:58 - cmdstanpy - INFO - Chain [1] done processing\n",
      "10:21:59 - cmdstanpy - INFO - Chain [1] start processing\n",
      "10:21:59 - cmdstanpy - INFO - Chain [1] done processing\n",
      "10:21:59 - cmdstanpy - INFO - Chain [1] start processing\n",
      "10:21:59 - cmdstanpy - INFO - Chain [1] done processing\n"
     ]
    },
    {
     "data": {
      "application/vnd.jupyter.widget-view+json": {
       "model_id": "4795bc3174334bf2a51af91d41dd8824",
       "version_major": 2,
       "version_minor": 0
      },
      "text/plain": [
       "  0%|          | 0/4 [00:00<?, ?it/s]"
      ]
     },
     "metadata": {},
     "output_type": "display_data"
    },
    {
     "name": "stderr",
     "output_type": "stream",
     "text": [
      "10:21:59 - cmdstanpy - INFO - Chain [1] start processing\n",
      "10:22:00 - cmdstanpy - INFO - Chain [1] done processing\n",
      "10:22:00 - cmdstanpy - INFO - Chain [1] start processing\n",
      "10:22:00 - cmdstanpy - INFO - Chain [1] done processing\n",
      "10:22:01 - cmdstanpy - INFO - Chain [1] start processing\n",
      "10:22:01 - cmdstanpy - INFO - Chain [1] done processing\n",
      "10:22:02 - cmdstanpy - INFO - Chain [1] start processing\n",
      "10:22:02 - cmdstanpy - INFO - Chain [1] done processing\n",
      "10:22:02 - cmdstanpy - INFO - Chain [1] start processing\n",
      "10:22:02 - cmdstanpy - INFO - Chain [1] done processing\n"
     ]
    },
    {
     "data": {
      "application/vnd.jupyter.widget-view+json": {
       "model_id": "7c1ed31da9d44c9b8df6845690bd3814",
       "version_major": 2,
       "version_minor": 0
      },
      "text/plain": [
       "  0%|          | 0/4 [00:00<?, ?it/s]"
      ]
     },
     "metadata": {},
     "output_type": "display_data"
    },
    {
     "name": "stderr",
     "output_type": "stream",
     "text": [
      "10:22:02 - cmdstanpy - INFO - Chain [1] start processing\n",
      "10:22:03 - cmdstanpy - INFO - Chain [1] done processing\n",
      "10:22:03 - cmdstanpy - INFO - Chain [1] start processing\n",
      "10:22:03 - cmdstanpy - INFO - Chain [1] done processing\n",
      "10:22:04 - cmdstanpy - INFO - Chain [1] start processing\n",
      "10:22:04 - cmdstanpy - INFO - Chain [1] done processing\n",
      "10:22:05 - cmdstanpy - INFO - Chain [1] start processing\n",
      "10:22:05 - cmdstanpy - INFO - Chain [1] done processing\n",
      "10:22:05 - cmdstanpy - INFO - Chain [1] start processing\n",
      "10:22:05 - cmdstanpy - INFO - Chain [1] done processing\n"
     ]
    },
    {
     "data": {
      "application/vnd.jupyter.widget-view+json": {
       "model_id": "0ad7735ef3bf4bdd9f67328202dace3f",
       "version_major": 2,
       "version_minor": 0
      },
      "text/plain": [
       "  0%|          | 0/4 [00:00<?, ?it/s]"
      ]
     },
     "metadata": {},
     "output_type": "display_data"
    },
    {
     "name": "stderr",
     "output_type": "stream",
     "text": [
      "10:22:05 - cmdstanpy - INFO - Chain [1] start processing\n",
      "10:22:06 - cmdstanpy - INFO - Chain [1] done processing\n",
      "10:22:06 - cmdstanpy - INFO - Chain [1] start processing\n",
      "10:22:06 - cmdstanpy - INFO - Chain [1] done processing\n",
      "10:22:07 - cmdstanpy - INFO - Chain [1] start processing\n",
      "10:22:07 - cmdstanpy - INFO - Chain [1] done processing\n",
      "10:22:08 - cmdstanpy - INFO - Chain [1] start processing\n",
      "10:22:08 - cmdstanpy - INFO - Chain [1] done processing\n",
      "10:22:08 - cmdstanpy - INFO - Chain [1] start processing\n",
      "10:22:08 - cmdstanpy - INFO - Chain [1] done processing\n"
     ]
    },
    {
     "data": {
      "application/vnd.jupyter.widget-view+json": {
       "model_id": "c8ce180ffef74df5ad05d84b0af7e607",
       "version_major": 2,
       "version_minor": 0
      },
      "text/plain": [
       "  0%|          | 0/4 [00:00<?, ?it/s]"
      ]
     },
     "metadata": {},
     "output_type": "display_data"
    },
    {
     "name": "stderr",
     "output_type": "stream",
     "text": [
      "10:22:08 - cmdstanpy - INFO - Chain [1] start processing\n",
      "10:22:09 - cmdstanpy - INFO - Chain [1] done processing\n",
      "10:22:09 - cmdstanpy - INFO - Chain [1] start processing\n",
      "10:22:09 - cmdstanpy - INFO - Chain [1] done processing\n",
      "10:22:10 - cmdstanpy - INFO - Chain [1] start processing\n",
      "10:22:10 - cmdstanpy - INFO - Chain [1] done processing\n",
      "10:22:11 - cmdstanpy - INFO - Chain [1] start processing\n",
      "10:22:11 - cmdstanpy - INFO - Chain [1] done processing\n",
      "10:22:11 - cmdstanpy - INFO - Chain [1] start processing\n",
      "10:22:11 - cmdstanpy - INFO - Chain [1] done processing\n"
     ]
    },
    {
     "data": {
      "application/vnd.jupyter.widget-view+json": {
       "model_id": "c4a2908bfcb042d7a9f8a3804fad3fff",
       "version_major": 2,
       "version_minor": 0
      },
      "text/plain": [
       "  0%|          | 0/4 [00:00<?, ?it/s]"
      ]
     },
     "metadata": {},
     "output_type": "display_data"
    },
    {
     "name": "stderr",
     "output_type": "stream",
     "text": [
      "10:22:11 - cmdstanpy - INFO - Chain [1] start processing\n",
      "10:22:12 - cmdstanpy - INFO - Chain [1] done processing\n",
      "10:22:12 - cmdstanpy - INFO - Chain [1] start processing\n",
      "10:22:12 - cmdstanpy - INFO - Chain [1] done processing\n",
      "10:22:13 - cmdstanpy - INFO - Chain [1] start processing\n",
      "10:22:13 - cmdstanpy - INFO - Chain [1] done processing\n",
      "10:22:13 - cmdstanpy - INFO - Chain [1] start processing\n",
      "10:22:14 - cmdstanpy - INFO - Chain [1] done processing\n",
      "10:22:14 - cmdstanpy - INFO - Chain [1] start processing\n",
      "10:22:14 - cmdstanpy - INFO - Chain [1] done processing\n"
     ]
    },
    {
     "data": {
      "application/vnd.jupyter.widget-view+json": {
       "model_id": "845d7041cf20455bb62dd39d107a4b91",
       "version_major": 2,
       "version_minor": 0
      },
      "text/plain": [
       "  0%|          | 0/4 [00:00<?, ?it/s]"
      ]
     },
     "metadata": {},
     "output_type": "display_data"
    },
    {
     "name": "stderr",
     "output_type": "stream",
     "text": [
      "10:22:14 - cmdstanpy - INFO - Chain [1] start processing\n",
      "10:22:14 - cmdstanpy - INFO - Chain [1] done processing\n",
      "10:22:15 - cmdstanpy - INFO - Chain [1] start processing\n",
      "10:22:15 - cmdstanpy - INFO - Chain [1] done processing\n",
      "10:22:16 - cmdstanpy - INFO - Chain [1] start processing\n",
      "10:22:16 - cmdstanpy - INFO - Chain [1] done processing\n",
      "10:22:16 - cmdstanpy - INFO - Chain [1] start processing\n",
      "10:22:16 - cmdstanpy - INFO - Chain [1] done processing\n",
      "10:22:17 - cmdstanpy - INFO - Chain [1] start processing\n",
      "10:22:17 - cmdstanpy - INFO - Chain [1] done processing\n"
     ]
    },
    {
     "data": {
      "application/vnd.jupyter.widget-view+json": {
       "model_id": "1ebf05f4fc1b422fb27a6acdcf7076d5",
       "version_major": 2,
       "version_minor": 0
      },
      "text/plain": [
       "  0%|          | 0/4 [00:00<?, ?it/s]"
      ]
     },
     "metadata": {},
     "output_type": "display_data"
    },
    {
     "name": "stderr",
     "output_type": "stream",
     "text": [
      "10:22:17 - cmdstanpy - INFO - Chain [1] start processing\n",
      "10:22:17 - cmdstanpy - INFO - Chain [1] done processing\n",
      "10:22:18 - cmdstanpy - INFO - Chain [1] start processing\n",
      "10:22:18 - cmdstanpy - INFO - Chain [1] done processing\n",
      "10:22:19 - cmdstanpy - INFO - Chain [1] start processing\n",
      "10:22:19 - cmdstanpy - INFO - Chain [1] done processing\n",
      "10:22:19 - cmdstanpy - INFO - Chain [1] start processing\n",
      "10:22:19 - cmdstanpy - INFO - Chain [1] done processing\n",
      "10:22:20 - cmdstanpy - INFO - Chain [1] start processing\n",
      "10:22:20 - cmdstanpy - INFO - Chain [1] done processing\n"
     ]
    },
    {
     "data": {
      "application/vnd.jupyter.widget-view+json": {
       "model_id": "40239d5e907e497389e20adace734c60",
       "version_major": 2,
       "version_minor": 0
      },
      "text/plain": [
       "  0%|          | 0/4 [00:00<?, ?it/s]"
      ]
     },
     "metadata": {},
     "output_type": "display_data"
    },
    {
     "name": "stderr",
     "output_type": "stream",
     "text": [
      "10:22:20 - cmdstanpy - INFO - Chain [1] start processing\n",
      "10:22:20 - cmdstanpy - INFO - Chain [1] done processing\n",
      "10:22:21 - cmdstanpy - INFO - Chain [1] start processing\n",
      "10:22:21 - cmdstanpy - INFO - Chain [1] done processing\n",
      "10:22:21 - cmdstanpy - INFO - Chain [1] start processing\n",
      "10:22:21 - cmdstanpy - INFO - Chain [1] done processing\n",
      "10:22:22 - cmdstanpy - INFO - Chain [1] start processing\n",
      "10:22:22 - cmdstanpy - INFO - Chain [1] done processing\n",
      "10:22:23 - cmdstanpy - INFO - Chain [1] start processing\n",
      "10:22:23 - cmdstanpy - INFO - Chain [1] done processing\n"
     ]
    },
    {
     "data": {
      "application/vnd.jupyter.widget-view+json": {
       "model_id": "2ae486365f904bb1aeeba9e98526c82e",
       "version_major": 2,
       "version_minor": 0
      },
      "text/plain": [
       "  0%|          | 0/4 [00:00<?, ?it/s]"
      ]
     },
     "metadata": {},
     "output_type": "display_data"
    },
    {
     "name": "stderr",
     "output_type": "stream",
     "text": [
      "10:22:23 - cmdstanpy - INFO - Chain [1] start processing\n",
      "10:22:23 - cmdstanpy - INFO - Chain [1] done processing\n",
      "10:22:24 - cmdstanpy - INFO - Chain [1] start processing\n",
      "10:22:24 - cmdstanpy - INFO - Chain [1] done processing\n",
      "10:22:24 - cmdstanpy - INFO - Chain [1] start processing\n",
      "10:22:24 - cmdstanpy - INFO - Chain [1] done processing\n",
      "10:22:25 - cmdstanpy - INFO - Chain [1] start processing\n",
      "10:22:25 - cmdstanpy - INFO - Chain [1] done processing\n",
      "10:22:26 - cmdstanpy - INFO - Chain [1] start processing\n",
      "10:22:26 - cmdstanpy - INFO - Chain [1] done processing\n"
     ]
    },
    {
     "data": {
      "application/vnd.jupyter.widget-view+json": {
       "model_id": "3a1a9c7d122f44b4a672d335ada43786",
       "version_major": 2,
       "version_minor": 0
      },
      "text/plain": [
       "  0%|          | 0/4 [00:00<?, ?it/s]"
      ]
     },
     "metadata": {},
     "output_type": "display_data"
    },
    {
     "name": "stderr",
     "output_type": "stream",
     "text": [
      "10:22:26 - cmdstanpy - INFO - Chain [1] start processing\n",
      "10:22:26 - cmdstanpy - INFO - Chain [1] done processing\n",
      "10:22:27 - cmdstanpy - INFO - Chain [1] start processing\n",
      "10:22:27 - cmdstanpy - INFO - Chain [1] done processing\n",
      "10:22:27 - cmdstanpy - INFO - Chain [1] start processing\n",
      "10:22:27 - cmdstanpy - INFO - Chain [1] done processing\n",
      "10:22:28 - cmdstanpy - INFO - Chain [1] start processing\n",
      "10:22:28 - cmdstanpy - INFO - Chain [1] done processing\n",
      "10:22:28 - cmdstanpy - INFO - Chain [1] start processing\n",
      "10:22:29 - cmdstanpy - INFO - Chain [1] done processing\n"
     ]
    },
    {
     "data": {
      "application/vnd.jupyter.widget-view+json": {
       "model_id": "e847cf7f3d0f41c2b5d06ba8b60c2d18",
       "version_major": 2,
       "version_minor": 0
      },
      "text/plain": [
       "  0%|          | 0/4 [00:00<?, ?it/s]"
      ]
     },
     "metadata": {},
     "output_type": "display_data"
    },
    {
     "name": "stderr",
     "output_type": "stream",
     "text": [
      "10:22:29 - cmdstanpy - INFO - Chain [1] start processing\n",
      "10:22:29 - cmdstanpy - INFO - Chain [1] done processing\n",
      "10:22:29 - cmdstanpy - INFO - Chain [1] start processing\n",
      "10:22:29 - cmdstanpy - INFO - Chain [1] done processing\n",
      "10:22:30 - cmdstanpy - INFO - Chain [1] start processing\n",
      "10:22:30 - cmdstanpy - INFO - Chain [1] done processing\n",
      "10:22:31 - cmdstanpy - INFO - Chain [1] start processing\n",
      "10:22:31 - cmdstanpy - INFO - Chain [1] done processing\n",
      "10:22:31 - cmdstanpy - INFO - Chain [1] start processing\n",
      "10:22:31 - cmdstanpy - INFO - Chain [1] done processing\n"
     ]
    },
    {
     "data": {
      "application/vnd.jupyter.widget-view+json": {
       "model_id": "0f3126ef676f4c9884d53affa4905649",
       "version_major": 2,
       "version_minor": 0
      },
      "text/plain": [
       "  0%|          | 0/4 [00:00<?, ?it/s]"
      ]
     },
     "metadata": {},
     "output_type": "display_data"
    },
    {
     "name": "stderr",
     "output_type": "stream",
     "text": [
      "10:22:31 - cmdstanpy - INFO - Chain [1] start processing\n",
      "10:22:32 - cmdstanpy - INFO - Chain [1] done processing\n",
      "10:22:32 - cmdstanpy - INFO - Chain [1] start processing\n",
      "10:22:32 - cmdstanpy - INFO - Chain [1] done processing\n",
      "10:22:33 - cmdstanpy - INFO - Chain [1] start processing\n",
      "10:22:33 - cmdstanpy - INFO - Chain [1] done processing\n",
      "10:22:34 - cmdstanpy - INFO - Chain [1] start processing\n",
      "10:22:34 - cmdstanpy - INFO - Chain [1] done processing\n",
      "10:22:34 - cmdstanpy - INFO - Chain [1] start processing\n",
      "10:22:34 - cmdstanpy - INFO - Chain [1] done processing\n"
     ]
    },
    {
     "data": {
      "application/vnd.jupyter.widget-view+json": {
       "model_id": "ddefc8e8f8b94744a235556138706855",
       "version_major": 2,
       "version_minor": 0
      },
      "text/plain": [
       "  0%|          | 0/4 [00:00<?, ?it/s]"
      ]
     },
     "metadata": {},
     "output_type": "display_data"
    },
    {
     "name": "stderr",
     "output_type": "stream",
     "text": [
      "10:22:34 - cmdstanpy - INFO - Chain [1] start processing\n",
      "10:22:35 - cmdstanpy - INFO - Chain [1] done processing\n",
      "10:22:35 - cmdstanpy - INFO - Chain [1] start processing\n",
      "10:22:35 - cmdstanpy - INFO - Chain [1] done processing\n",
      "10:22:36 - cmdstanpy - INFO - Chain [1] start processing\n",
      "10:22:36 - cmdstanpy - INFO - Chain [1] done processing\n",
      "10:22:36 - cmdstanpy - INFO - Chain [1] start processing\n",
      "10:22:36 - cmdstanpy - INFO - Chain [1] done processing\n",
      "10:22:37 - cmdstanpy - INFO - Chain [1] start processing\n",
      "10:22:37 - cmdstanpy - INFO - Chain [1] done processing\n"
     ]
    },
    {
     "data": {
      "application/vnd.jupyter.widget-view+json": {
       "model_id": "5cd7d89514cd4ee79f11b3b4be529a36",
       "version_major": 2,
       "version_minor": 0
      },
      "text/plain": [
       "  0%|          | 0/4 [00:00<?, ?it/s]"
      ]
     },
     "metadata": {},
     "output_type": "display_data"
    },
    {
     "name": "stderr",
     "output_type": "stream",
     "text": [
      "10:22:37 - cmdstanpy - INFO - Chain [1] start processing\n",
      "10:22:37 - cmdstanpy - INFO - Chain [1] done processing\n",
      "10:22:38 - cmdstanpy - INFO - Chain [1] start processing\n",
      "10:22:38 - cmdstanpy - INFO - Chain [1] done processing\n",
      "10:22:39 - cmdstanpy - INFO - Chain [1] start processing\n",
      "10:22:39 - cmdstanpy - INFO - Chain [1] done processing\n",
      "10:22:39 - cmdstanpy - INFO - Chain [1] start processing\n",
      "10:22:39 - cmdstanpy - INFO - Chain [1] done processing\n",
      "10:22:40 - cmdstanpy - INFO - Chain [1] start processing\n",
      "10:22:40 - cmdstanpy - INFO - Chain [1] done processing\n"
     ]
    },
    {
     "data": {
      "application/vnd.jupyter.widget-view+json": {
       "model_id": "1e9cebbb26a047a2bbb4b66a65469c60",
       "version_major": 2,
       "version_minor": 0
      },
      "text/plain": [
       "  0%|          | 0/4 [00:00<?, ?it/s]"
      ]
     },
     "metadata": {},
     "output_type": "display_data"
    },
    {
     "name": "stderr",
     "output_type": "stream",
     "text": [
      "10:22:40 - cmdstanpy - INFO - Chain [1] start processing\n",
      "10:22:40 - cmdstanpy - INFO - Chain [1] done processing\n",
      "10:22:41 - cmdstanpy - INFO - Chain [1] start processing\n",
      "10:22:41 - cmdstanpy - INFO - Chain [1] done processing\n",
      "10:22:41 - cmdstanpy - INFO - Chain [1] start processing\n",
      "10:22:42 - cmdstanpy - INFO - Chain [1] done processing\n",
      "10:22:42 - cmdstanpy - INFO - Chain [1] start processing\n",
      "10:22:42 - cmdstanpy - INFO - Chain [1] done processing\n",
      "10:22:43 - cmdstanpy - INFO - Chain [1] start processing\n",
      "10:22:43 - cmdstanpy - INFO - Chain [1] done processing\n"
     ]
    },
    {
     "data": {
      "application/vnd.jupyter.widget-view+json": {
       "model_id": "03dd86b0463c4eeea7e8d9d440bed5ea",
       "version_major": 2,
       "version_minor": 0
      },
      "text/plain": [
       "  0%|          | 0/4 [00:00<?, ?it/s]"
      ]
     },
     "metadata": {},
     "output_type": "display_data"
    },
    {
     "name": "stderr",
     "output_type": "stream",
     "text": [
      "10:22:43 - cmdstanpy - INFO - Chain [1] start processing\n",
      "10:22:43 - cmdstanpy - INFO - Chain [1] done processing\n",
      "10:22:44 - cmdstanpy - INFO - Chain [1] start processing\n",
      "10:22:44 - cmdstanpy - INFO - Chain [1] done processing\n",
      "10:22:44 - cmdstanpy - INFO - Chain [1] start processing\n",
      "10:22:44 - cmdstanpy - INFO - Chain [1] done processing\n",
      "10:22:45 - cmdstanpy - INFO - Chain [1] start processing\n",
      "10:22:45 - cmdstanpy - INFO - Chain [1] done processing\n",
      "10:22:46 - cmdstanpy - INFO - Chain [1] start processing\n",
      "10:22:46 - cmdstanpy - INFO - Chain [1] done processing\n"
     ]
    },
    {
     "data": {
      "application/vnd.jupyter.widget-view+json": {
       "model_id": "32cd2fc3bb784b908b16f5a9b066045d",
       "version_major": 2,
       "version_minor": 0
      },
      "text/plain": [
       "  0%|          | 0/4 [00:00<?, ?it/s]"
      ]
     },
     "metadata": {},
     "output_type": "display_data"
    },
    {
     "name": "stderr",
     "output_type": "stream",
     "text": [
      "10:22:46 - cmdstanpy - INFO - Chain [1] start processing\n",
      "10:22:46 - cmdstanpy - INFO - Chain [1] done processing\n",
      "10:22:47 - cmdstanpy - INFO - Chain [1] start processing\n",
      "10:22:47 - cmdstanpy - INFO - Chain [1] done processing\n",
      "10:22:47 - cmdstanpy - INFO - Chain [1] start processing\n",
      "10:22:47 - cmdstanpy - INFO - Chain [1] done processing\n",
      "10:22:48 - cmdstanpy - INFO - Chain [1] start processing\n",
      "10:22:48 - cmdstanpy - INFO - Chain [1] done processing\n",
      "10:22:49 - cmdstanpy - INFO - Chain [1] start processing\n",
      "10:22:49 - cmdstanpy - INFO - Chain [1] done processing\n"
     ]
    },
    {
     "data": {
      "application/vnd.jupyter.widget-view+json": {
       "model_id": "c2df7c58ee9c4221a6c480443fa3269b",
       "version_major": 2,
       "version_minor": 0
      },
      "text/plain": [
       "  0%|          | 0/4 [00:00<?, ?it/s]"
      ]
     },
     "metadata": {},
     "output_type": "display_data"
    },
    {
     "name": "stderr",
     "output_type": "stream",
     "text": [
      "10:22:49 - cmdstanpy - INFO - Chain [1] start processing\n",
      "10:22:49 - cmdstanpy - INFO - Chain [1] done processing\n",
      "10:22:50 - cmdstanpy - INFO - Chain [1] start processing\n",
      "10:22:50 - cmdstanpy - INFO - Chain [1] done processing\n",
      "10:22:50 - cmdstanpy - INFO - Chain [1] start processing\n",
      "10:22:50 - cmdstanpy - INFO - Chain [1] done processing\n",
      "10:22:51 - cmdstanpy - INFO - Chain [1] start processing\n",
      "10:22:51 - cmdstanpy - INFO - Chain [1] done processing\n",
      "10:22:52 - cmdstanpy - INFO - Chain [1] start processing\n",
      "10:22:52 - cmdstanpy - INFO - Chain [1] done processing\n"
     ]
    },
    {
     "data": {
      "application/vnd.jupyter.widget-view+json": {
       "model_id": "446d1985e8774f52b36a5c5379b5d822",
       "version_major": 2,
       "version_minor": 0
      },
      "text/plain": [
       "  0%|          | 0/4 [00:00<?, ?it/s]"
      ]
     },
     "metadata": {},
     "output_type": "display_data"
    },
    {
     "name": "stderr",
     "output_type": "stream",
     "text": [
      "10:22:52 - cmdstanpy - INFO - Chain [1] start processing\n",
      "10:22:52 - cmdstanpy - INFO - Chain [1] done processing\n",
      "10:22:53 - cmdstanpy - INFO - Chain [1] start processing\n",
      "10:22:53 - cmdstanpy - INFO - Chain [1] done processing\n",
      "10:22:53 - cmdstanpy - INFO - Chain [1] start processing\n",
      "10:22:53 - cmdstanpy - INFO - Chain [1] done processing\n",
      "10:22:54 - cmdstanpy - INFO - Chain [1] start processing\n",
      "10:22:54 - cmdstanpy - INFO - Chain [1] done processing\n",
      "10:22:55 - cmdstanpy - INFO - Chain [1] start processing\n",
      "10:22:55 - cmdstanpy - INFO - Chain [1] done processing\n"
     ]
    },
    {
     "data": {
      "application/vnd.jupyter.widget-view+json": {
       "model_id": "6a6ec7c2e69e42a6ab1fba215ce7635e",
       "version_major": 2,
       "version_minor": 0
      },
      "text/plain": [
       "  0%|          | 0/4 [00:00<?, ?it/s]"
      ]
     },
     "metadata": {},
     "output_type": "display_data"
    },
    {
     "name": "stderr",
     "output_type": "stream",
     "text": [
      "10:22:55 - cmdstanpy - INFO - Chain [1] start processing\n",
      "10:22:55 - cmdstanpy - INFO - Chain [1] done processing\n",
      "10:22:56 - cmdstanpy - INFO - Chain [1] start processing\n",
      "10:22:56 - cmdstanpy - INFO - Chain [1] done processing\n",
      "10:22:56 - cmdstanpy - INFO - Chain [1] start processing\n",
      "10:22:56 - cmdstanpy - INFO - Chain [1] done processing\n",
      "10:22:57 - cmdstanpy - INFO - Chain [1] start processing\n",
      "10:22:57 - cmdstanpy - INFO - Chain [1] done processing\n"
     ]
    },
    {
     "name": "stdout",
     "output_type": "stream",
     "text": [
      "     changepoint_prior_scale  seasonality_prior_scale  holidays_prior_scale  \\\n",
      "0                       0.08                    0.008                 0.008   \n",
      "1                       0.08                    0.008                 0.009   \n",
      "2                       0.08                    0.008                 0.010   \n",
      "3                       0.08                    0.008                 0.011   \n",
      "4                       0.08                    0.008                 0.012   \n",
      "..                       ...                      ...                   ...   \n",
      "120                     0.12                    0.012                 0.008   \n",
      "121                     0.12                    0.012                 0.009   \n",
      "122                     0.12                    0.012                 0.010   \n",
      "123                     0.12                    0.012                 0.011   \n",
      "124                     0.12                    0.012                 0.012   \n",
      "\n",
      "         rmse       mse       mae  \n",
      "0    0.042910  0.001841  0.032508  \n",
      "1    0.042910  0.001841  0.032508  \n",
      "2    0.042910  0.001841  0.032508  \n",
      "3    0.042910  0.001841  0.032508  \n",
      "4    0.042910  0.001841  0.032508  \n",
      "..        ...       ...       ...  \n",
      "120  0.042929  0.001843  0.032296  \n",
      "121  0.042929  0.001843  0.032296  \n",
      "122  0.042929  0.001843  0.032296  \n",
      "123  0.042929  0.001843  0.032296  \n",
      "124  0.042929  0.001843  0.032296  \n",
      "\n",
      "[125 rows x 6 columns]\n"
     ]
    }
   ],
   "source": [
    "from prophet import Prophet\n",
    "import itertools\n",
    "import numpy as np\n",
    "import pandas as pd\n",
    "from prophet.diagnostics import cross_validation\n",
    "from prophet.diagnostics import performance_metrics\n",
    "\n",
    "# change param_grid based on prev outcome:\n",
    "#changepoint_prior_scale    0.100000\n",
    "#seasonality_prior_scale    0.010000\n",
    "#holidays_prior_scale       0.010000\n",
    "#rmse                       0.042952\n",
    "#mse                        0.001845\n",
    "#mae                        0.032394\n",
    "\n",
    "\n",
    "\n",
    "\n",
    "data = pd.read_csv('data.csv')\n",
    "param_grid = {  \n",
    "    'changepoint_prior_scale': [0.08, 0.09, 0.1, 0.11, 0.12], # 0.07 , 0.13\n",
    "    'seasonality_prior_scale': [0.008, 0.009, 0.010, 0.011, 0.012], # 0.007, , 0.013\n",
    "    'holidays_prior_scale': [0.008, 0.009, 0.010, 0.011, 0.012], # 0.007, , 0.013\n",
    "}\n",
    "\n",
    "# Generate all combinations of parameters\n",
    "all_params = [dict(zip(param_grid.keys(), v)) for v in itertools.product(*param_grid.values())]\n",
    "rmses = []  # Store the RMSEs for each params here\n",
    "mse = []\n",
    "mae = []\n",
    "\n",
    "# Use cross validation to evaluate all parameters\n",
    "for params in all_params:\n",
    "    m = Prophet(**params, interval_width=0.9, daily_seasonality=True).fit(data)  # Fit model with given params\n",
    "    df_cv = cross_validation(m, initial='100 days', period='60 days', horizon = '30 days')\n",
    "    df_p = performance_metrics(df_cv, rolling_window=1)\n",
    "    rmses.append(df_p['rmse'].values[0])\n",
    "    mse.append(df_p[\"mse\"].values[0])\n",
    "    mae.append(df_p[\"mae\"].values[0])\n",
    "\n",
    "# Find the best parameters\n",
    "tuning_results = pd.DataFrame(all_params)\n",
    "tuning_results['rmse'] = rmses\n",
    "tuning_results['mse'] = mse\n",
    "tuning_results['mae'] = mae\n",
    "print(tuning_results)\n",
    "\n"
   ]
  },
  {
   "cell_type": "code",
   "execution_count": 2,
   "id": "8d68eb81",
   "metadata": {},
   "outputs": [
    {
     "name": "stdout",
     "output_type": "stream",
     "text": [
      "{'changepoint_prior_scale': 0.08, 'seasonality_prior_scale': 0.01, 'holidays_prior_scale': 0.008}\n"
     ]
    }
   ],
   "source": [
    "best_params = all_params[np.argmin(rmses)]\n",
    "print(best_params)"
   ]
  },
  {
   "cell_type": "code",
   "execution_count": 3,
   "id": "d233438b",
   "metadata": {},
   "outputs": [
    {
     "name": "stdout",
     "output_type": "stream",
     "text": [
      "0.04286456155987095\n"
     ]
    }
   ],
   "source": [
    "print(tuning_results['rmse'].min())"
   ]
  },
  {
   "cell_type": "code",
   "execution_count": 4,
   "id": "80a34dd6",
   "metadata": {},
   "outputs": [
    {
     "name": "stdout",
     "output_type": "stream",
     "text": [
      "[{'changepoint_prior_scale': 0.08, 'seasonality_prior_scale': 0.008, 'holidays_prior_scale': 0.008}, {'changepoint_prior_scale': 0.08, 'seasonality_prior_scale': 0.008, 'holidays_prior_scale': 0.009}, {'changepoint_prior_scale': 0.08, 'seasonality_prior_scale': 0.008, 'holidays_prior_scale': 0.01}, {'changepoint_prior_scale': 0.08, 'seasonality_prior_scale': 0.008, 'holidays_prior_scale': 0.011}, {'changepoint_prior_scale': 0.08, 'seasonality_prior_scale': 0.008, 'holidays_prior_scale': 0.012}, {'changepoint_prior_scale': 0.08, 'seasonality_prior_scale': 0.009, 'holidays_prior_scale': 0.008}, {'changepoint_prior_scale': 0.08, 'seasonality_prior_scale': 0.009, 'holidays_prior_scale': 0.009}, {'changepoint_prior_scale': 0.08, 'seasonality_prior_scale': 0.009, 'holidays_prior_scale': 0.01}, {'changepoint_prior_scale': 0.08, 'seasonality_prior_scale': 0.009, 'holidays_prior_scale': 0.011}, {'changepoint_prior_scale': 0.08, 'seasonality_prior_scale': 0.009, 'holidays_prior_scale': 0.012}, {'changepoint_prior_scale': 0.08, 'seasonality_prior_scale': 0.01, 'holidays_prior_scale': 0.008}, {'changepoint_prior_scale': 0.08, 'seasonality_prior_scale': 0.01, 'holidays_prior_scale': 0.009}, {'changepoint_prior_scale': 0.08, 'seasonality_prior_scale': 0.01, 'holidays_prior_scale': 0.01}, {'changepoint_prior_scale': 0.08, 'seasonality_prior_scale': 0.01, 'holidays_prior_scale': 0.011}, {'changepoint_prior_scale': 0.08, 'seasonality_prior_scale': 0.01, 'holidays_prior_scale': 0.012}, {'changepoint_prior_scale': 0.08, 'seasonality_prior_scale': 0.011, 'holidays_prior_scale': 0.008}, {'changepoint_prior_scale': 0.08, 'seasonality_prior_scale': 0.011, 'holidays_prior_scale': 0.009}, {'changepoint_prior_scale': 0.08, 'seasonality_prior_scale': 0.011, 'holidays_prior_scale': 0.01}, {'changepoint_prior_scale': 0.08, 'seasonality_prior_scale': 0.011, 'holidays_prior_scale': 0.011}, {'changepoint_prior_scale': 0.08, 'seasonality_prior_scale': 0.011, 'holidays_prior_scale': 0.012}, {'changepoint_prior_scale': 0.08, 'seasonality_prior_scale': 0.012, 'holidays_prior_scale': 0.008}, {'changepoint_prior_scale': 0.08, 'seasonality_prior_scale': 0.012, 'holidays_prior_scale': 0.009}, {'changepoint_prior_scale': 0.08, 'seasonality_prior_scale': 0.012, 'holidays_prior_scale': 0.01}, {'changepoint_prior_scale': 0.08, 'seasonality_prior_scale': 0.012, 'holidays_prior_scale': 0.011}, {'changepoint_prior_scale': 0.08, 'seasonality_prior_scale': 0.012, 'holidays_prior_scale': 0.012}, {'changepoint_prior_scale': 0.09, 'seasonality_prior_scale': 0.008, 'holidays_prior_scale': 0.008}, {'changepoint_prior_scale': 0.09, 'seasonality_prior_scale': 0.008, 'holidays_prior_scale': 0.009}, {'changepoint_prior_scale': 0.09, 'seasonality_prior_scale': 0.008, 'holidays_prior_scale': 0.01}, {'changepoint_prior_scale': 0.09, 'seasonality_prior_scale': 0.008, 'holidays_prior_scale': 0.011}, {'changepoint_prior_scale': 0.09, 'seasonality_prior_scale': 0.008, 'holidays_prior_scale': 0.012}, {'changepoint_prior_scale': 0.09, 'seasonality_prior_scale': 0.009, 'holidays_prior_scale': 0.008}, {'changepoint_prior_scale': 0.09, 'seasonality_prior_scale': 0.009, 'holidays_prior_scale': 0.009}, {'changepoint_prior_scale': 0.09, 'seasonality_prior_scale': 0.009, 'holidays_prior_scale': 0.01}, {'changepoint_prior_scale': 0.09, 'seasonality_prior_scale': 0.009, 'holidays_prior_scale': 0.011}, {'changepoint_prior_scale': 0.09, 'seasonality_prior_scale': 0.009, 'holidays_prior_scale': 0.012}, {'changepoint_prior_scale': 0.09, 'seasonality_prior_scale': 0.01, 'holidays_prior_scale': 0.008}, {'changepoint_prior_scale': 0.09, 'seasonality_prior_scale': 0.01, 'holidays_prior_scale': 0.009}, {'changepoint_prior_scale': 0.09, 'seasonality_prior_scale': 0.01, 'holidays_prior_scale': 0.01}, {'changepoint_prior_scale': 0.09, 'seasonality_prior_scale': 0.01, 'holidays_prior_scale': 0.011}, {'changepoint_prior_scale': 0.09, 'seasonality_prior_scale': 0.01, 'holidays_prior_scale': 0.012}, {'changepoint_prior_scale': 0.09, 'seasonality_prior_scale': 0.011, 'holidays_prior_scale': 0.008}, {'changepoint_prior_scale': 0.09, 'seasonality_prior_scale': 0.011, 'holidays_prior_scale': 0.009}, {'changepoint_prior_scale': 0.09, 'seasonality_prior_scale': 0.011, 'holidays_prior_scale': 0.01}, {'changepoint_prior_scale': 0.09, 'seasonality_prior_scale': 0.011, 'holidays_prior_scale': 0.011}, {'changepoint_prior_scale': 0.09, 'seasonality_prior_scale': 0.011, 'holidays_prior_scale': 0.012}, {'changepoint_prior_scale': 0.09, 'seasonality_prior_scale': 0.012, 'holidays_prior_scale': 0.008}, {'changepoint_prior_scale': 0.09, 'seasonality_prior_scale': 0.012, 'holidays_prior_scale': 0.009}, {'changepoint_prior_scale': 0.09, 'seasonality_prior_scale': 0.012, 'holidays_prior_scale': 0.01}, {'changepoint_prior_scale': 0.09, 'seasonality_prior_scale': 0.012, 'holidays_prior_scale': 0.011}, {'changepoint_prior_scale': 0.09, 'seasonality_prior_scale': 0.012, 'holidays_prior_scale': 0.012}, {'changepoint_prior_scale': 0.1, 'seasonality_prior_scale': 0.008, 'holidays_prior_scale': 0.008}, {'changepoint_prior_scale': 0.1, 'seasonality_prior_scale': 0.008, 'holidays_prior_scale': 0.009}, {'changepoint_prior_scale': 0.1, 'seasonality_prior_scale': 0.008, 'holidays_prior_scale': 0.01}, {'changepoint_prior_scale': 0.1, 'seasonality_prior_scale': 0.008, 'holidays_prior_scale': 0.011}, {'changepoint_prior_scale': 0.1, 'seasonality_prior_scale': 0.008, 'holidays_prior_scale': 0.012}, {'changepoint_prior_scale': 0.1, 'seasonality_prior_scale': 0.009, 'holidays_prior_scale': 0.008}, {'changepoint_prior_scale': 0.1, 'seasonality_prior_scale': 0.009, 'holidays_prior_scale': 0.009}, {'changepoint_prior_scale': 0.1, 'seasonality_prior_scale': 0.009, 'holidays_prior_scale': 0.01}, {'changepoint_prior_scale': 0.1, 'seasonality_prior_scale': 0.009, 'holidays_prior_scale': 0.011}, {'changepoint_prior_scale': 0.1, 'seasonality_prior_scale': 0.009, 'holidays_prior_scale': 0.012}, {'changepoint_prior_scale': 0.1, 'seasonality_prior_scale': 0.01, 'holidays_prior_scale': 0.008}, {'changepoint_prior_scale': 0.1, 'seasonality_prior_scale': 0.01, 'holidays_prior_scale': 0.009}, {'changepoint_prior_scale': 0.1, 'seasonality_prior_scale': 0.01, 'holidays_prior_scale': 0.01}, {'changepoint_prior_scale': 0.1, 'seasonality_prior_scale': 0.01, 'holidays_prior_scale': 0.011}, {'changepoint_prior_scale': 0.1, 'seasonality_prior_scale': 0.01, 'holidays_prior_scale': 0.012}, {'changepoint_prior_scale': 0.1, 'seasonality_prior_scale': 0.011, 'holidays_prior_scale': 0.008}, {'changepoint_prior_scale': 0.1, 'seasonality_prior_scale': 0.011, 'holidays_prior_scale': 0.009}, {'changepoint_prior_scale': 0.1, 'seasonality_prior_scale': 0.011, 'holidays_prior_scale': 0.01}, {'changepoint_prior_scale': 0.1, 'seasonality_prior_scale': 0.011, 'holidays_prior_scale': 0.011}, {'changepoint_prior_scale': 0.1, 'seasonality_prior_scale': 0.011, 'holidays_prior_scale': 0.012}, {'changepoint_prior_scale': 0.1, 'seasonality_prior_scale': 0.012, 'holidays_prior_scale': 0.008}, {'changepoint_prior_scale': 0.1, 'seasonality_prior_scale': 0.012, 'holidays_prior_scale': 0.009}, {'changepoint_prior_scale': 0.1, 'seasonality_prior_scale': 0.012, 'holidays_prior_scale': 0.01}, {'changepoint_prior_scale': 0.1, 'seasonality_prior_scale': 0.012, 'holidays_prior_scale': 0.011}, {'changepoint_prior_scale': 0.1, 'seasonality_prior_scale': 0.012, 'holidays_prior_scale': 0.012}, {'changepoint_prior_scale': 0.11, 'seasonality_prior_scale': 0.008, 'holidays_prior_scale': 0.008}, {'changepoint_prior_scale': 0.11, 'seasonality_prior_scale': 0.008, 'holidays_prior_scale': 0.009}, {'changepoint_prior_scale': 0.11, 'seasonality_prior_scale': 0.008, 'holidays_prior_scale': 0.01}, {'changepoint_prior_scale': 0.11, 'seasonality_prior_scale': 0.008, 'holidays_prior_scale': 0.011}, {'changepoint_prior_scale': 0.11, 'seasonality_prior_scale': 0.008, 'holidays_prior_scale': 0.012}, {'changepoint_prior_scale': 0.11, 'seasonality_prior_scale': 0.009, 'holidays_prior_scale': 0.008}, {'changepoint_prior_scale': 0.11, 'seasonality_prior_scale': 0.009, 'holidays_prior_scale': 0.009}, {'changepoint_prior_scale': 0.11, 'seasonality_prior_scale': 0.009, 'holidays_prior_scale': 0.01}, {'changepoint_prior_scale': 0.11, 'seasonality_prior_scale': 0.009, 'holidays_prior_scale': 0.011}, {'changepoint_prior_scale': 0.11, 'seasonality_prior_scale': 0.009, 'holidays_prior_scale': 0.012}, {'changepoint_prior_scale': 0.11, 'seasonality_prior_scale': 0.01, 'holidays_prior_scale': 0.008}, {'changepoint_prior_scale': 0.11, 'seasonality_prior_scale': 0.01, 'holidays_prior_scale': 0.009}, {'changepoint_prior_scale': 0.11, 'seasonality_prior_scale': 0.01, 'holidays_prior_scale': 0.01}, {'changepoint_prior_scale': 0.11, 'seasonality_prior_scale': 0.01, 'holidays_prior_scale': 0.011}, {'changepoint_prior_scale': 0.11, 'seasonality_prior_scale': 0.01, 'holidays_prior_scale': 0.012}, {'changepoint_prior_scale': 0.11, 'seasonality_prior_scale': 0.011, 'holidays_prior_scale': 0.008}, {'changepoint_prior_scale': 0.11, 'seasonality_prior_scale': 0.011, 'holidays_prior_scale': 0.009}, {'changepoint_prior_scale': 0.11, 'seasonality_prior_scale': 0.011, 'holidays_prior_scale': 0.01}, {'changepoint_prior_scale': 0.11, 'seasonality_prior_scale': 0.011, 'holidays_prior_scale': 0.011}, {'changepoint_prior_scale': 0.11, 'seasonality_prior_scale': 0.011, 'holidays_prior_scale': 0.012}, {'changepoint_prior_scale': 0.11, 'seasonality_prior_scale': 0.012, 'holidays_prior_scale': 0.008}, {'changepoint_prior_scale': 0.11, 'seasonality_prior_scale': 0.012, 'holidays_prior_scale': 0.009}, {'changepoint_prior_scale': 0.11, 'seasonality_prior_scale': 0.012, 'holidays_prior_scale': 0.01}, {'changepoint_prior_scale': 0.11, 'seasonality_prior_scale': 0.012, 'holidays_prior_scale': 0.011}, {'changepoint_prior_scale': 0.11, 'seasonality_prior_scale': 0.012, 'holidays_prior_scale': 0.012}, {'changepoint_prior_scale': 0.12, 'seasonality_prior_scale': 0.008, 'holidays_prior_scale': 0.008}, {'changepoint_prior_scale': 0.12, 'seasonality_prior_scale': 0.008, 'holidays_prior_scale': 0.009}, {'changepoint_prior_scale': 0.12, 'seasonality_prior_scale': 0.008, 'holidays_prior_scale': 0.01}, {'changepoint_prior_scale': 0.12, 'seasonality_prior_scale': 0.008, 'holidays_prior_scale': 0.011}, {'changepoint_prior_scale': 0.12, 'seasonality_prior_scale': 0.008, 'holidays_prior_scale': 0.012}, {'changepoint_prior_scale': 0.12, 'seasonality_prior_scale': 0.009, 'holidays_prior_scale': 0.008}, {'changepoint_prior_scale': 0.12, 'seasonality_prior_scale': 0.009, 'holidays_prior_scale': 0.009}, {'changepoint_prior_scale': 0.12, 'seasonality_prior_scale': 0.009, 'holidays_prior_scale': 0.01}, {'changepoint_prior_scale': 0.12, 'seasonality_prior_scale': 0.009, 'holidays_prior_scale': 0.011}, {'changepoint_prior_scale': 0.12, 'seasonality_prior_scale': 0.009, 'holidays_prior_scale': 0.012}, {'changepoint_prior_scale': 0.12, 'seasonality_prior_scale': 0.01, 'holidays_prior_scale': 0.008}, {'changepoint_prior_scale': 0.12, 'seasonality_prior_scale': 0.01, 'holidays_prior_scale': 0.009}, {'changepoint_prior_scale': 0.12, 'seasonality_prior_scale': 0.01, 'holidays_prior_scale': 0.01}, {'changepoint_prior_scale': 0.12, 'seasonality_prior_scale': 0.01, 'holidays_prior_scale': 0.011}, {'changepoint_prior_scale': 0.12, 'seasonality_prior_scale': 0.01, 'holidays_prior_scale': 0.012}, {'changepoint_prior_scale': 0.12, 'seasonality_prior_scale': 0.011, 'holidays_prior_scale': 0.008}, {'changepoint_prior_scale': 0.12, 'seasonality_prior_scale': 0.011, 'holidays_prior_scale': 0.009}, {'changepoint_prior_scale': 0.12, 'seasonality_prior_scale': 0.011, 'holidays_prior_scale': 0.01}, {'changepoint_prior_scale': 0.12, 'seasonality_prior_scale': 0.011, 'holidays_prior_scale': 0.011}, {'changepoint_prior_scale': 0.12, 'seasonality_prior_scale': 0.011, 'holidays_prior_scale': 0.012}, {'changepoint_prior_scale': 0.12, 'seasonality_prior_scale': 0.012, 'holidays_prior_scale': 0.008}, {'changepoint_prior_scale': 0.12, 'seasonality_prior_scale': 0.012, 'holidays_prior_scale': 0.009}, {'changepoint_prior_scale': 0.12, 'seasonality_prior_scale': 0.012, 'holidays_prior_scale': 0.01}, {'changepoint_prior_scale': 0.12, 'seasonality_prior_scale': 0.012, 'holidays_prior_scale': 0.011}, {'changepoint_prior_scale': 0.12, 'seasonality_prior_scale': 0.012, 'holidays_prior_scale': 0.012}]\n"
     ]
    }
   ],
   "source": [
    "print(all_params)"
   ]
  },
  {
   "cell_type": "code",
   "execution_count": 5,
   "id": "b221b7cf",
   "metadata": {},
   "outputs": [
    {
     "name": "stdout",
     "output_type": "stream",
     "text": [
      "0.001837370637719966\n"
     ]
    }
   ],
   "source": [
    "print(tuning_results[['rmse','mse','mae']].min().min())"
   ]
  },
  {
   "cell_type": "code",
   "execution_count": 6,
   "id": "aa1c06bf",
   "metadata": {},
   "outputs": [],
   "source": [
    "combined_row_value = []\n",
    "\n",
    "for ind in tuning_results.index:\n",
    "    sum_val = tuning_results['rmse'][ind] + tuning_results['mse'][ind] + tuning_results['mae'][ind]\n",
    "    combined_row_value.append(dict(index=ind, sum_val=sum_val))"
   ]
  },
  {
   "cell_type": "code",
   "execution_count": 7,
   "id": "676d9e1d",
   "metadata": {},
   "outputs": [
    {
     "name": "stdout",
     "output_type": "stream",
     "text": [
      "[{'index': 0, 'sum_val': 0.07725952706689809}, {'index': 1, 'sum_val': 0.07725952706689809}, {'index': 2, 'sum_val': 0.07725952706689809}, {'index': 3, 'sum_val': 0.07725952706689809}, {'index': 4, 'sum_val': 0.07725952706689809}, {'index': 5, 'sum_val': 0.07745427962463705}, {'index': 6, 'sum_val': 0.07745427962463705}, {'index': 7, 'sum_val': 0.07745427962463705}, {'index': 8, 'sum_val': 0.07745427962463705}, {'index': 9, 'sum_val': 0.07745427962463705}, {'index': 10, 'sum_val': 0.0770558814547245}, {'index': 11, 'sum_val': 0.0770558814547245}, {'index': 12, 'sum_val': 0.0770558814547245}, {'index': 13, 'sum_val': 0.0770558814547245}, {'index': 14, 'sum_val': 0.0770558814547245}, {'index': 15, 'sum_val': 0.07705377303041934}, {'index': 16, 'sum_val': 0.07705377303041934}, {'index': 17, 'sum_val': 0.07705377303041934}, {'index': 18, 'sum_val': 0.07705377303041934}, {'index': 19, 'sum_val': 0.07705377303041934}, {'index': 20, 'sum_val': 0.07724678381602437}, {'index': 21, 'sum_val': 0.07724678381602437}, {'index': 22, 'sum_val': 0.07724678381602437}, {'index': 23, 'sum_val': 0.07724678381602437}, {'index': 24, 'sum_val': 0.07724678381602437}, {'index': 25, 'sum_val': 0.07723843126647212}, {'index': 26, 'sum_val': 0.07723843126647212}, {'index': 27, 'sum_val': 0.07723843126647212}, {'index': 28, 'sum_val': 0.07723843126647212}, {'index': 29, 'sum_val': 0.07723843126647212}, {'index': 30, 'sum_val': 0.07737908549063552}, {'index': 31, 'sum_val': 0.07737908549063552}, {'index': 32, 'sum_val': 0.07737908549063552}, {'index': 33, 'sum_val': 0.07737908549063552}, {'index': 34, 'sum_val': 0.07737908549063552}, {'index': 35, 'sum_val': 0.07723286882640737}, {'index': 36, 'sum_val': 0.07723286882640737}, {'index': 37, 'sum_val': 0.07723286882640737}, {'index': 38, 'sum_val': 0.07723286882640737}, {'index': 39, 'sum_val': 0.07723286882640737}, {'index': 40, 'sum_val': 0.07741484676599028}, {'index': 41, 'sum_val': 0.07741484676599028}, {'index': 42, 'sum_val': 0.07741484676599028}, {'index': 43, 'sum_val': 0.07741484676599028}, {'index': 44, 'sum_val': 0.07741484676599028}, {'index': 45, 'sum_val': 0.07726118810483779}, {'index': 46, 'sum_val': 0.07726118810483779}, {'index': 47, 'sum_val': 0.07726118810483779}, {'index': 48, 'sum_val': 0.07726118810483779}, {'index': 49, 'sum_val': 0.07726118810483779}, {'index': 50, 'sum_val': 0.07724712191093752}, {'index': 51, 'sum_val': 0.07724712191093752}, {'index': 52, 'sum_val': 0.07724712191093752}, {'index': 53, 'sum_val': 0.07724712191093752}, {'index': 54, 'sum_val': 0.07724712191093752}, {'index': 55, 'sum_val': 0.07725771336900905}, {'index': 56, 'sum_val': 0.07725771336900905}, {'index': 57, 'sum_val': 0.07725771336900905}, {'index': 58, 'sum_val': 0.07725771336900905}, {'index': 59, 'sum_val': 0.07725771336900905}, {'index': 60, 'sum_val': 0.07719092734935093}, {'index': 61, 'sum_val': 0.07719092734935093}, {'index': 62, 'sum_val': 0.07719092734935093}, {'index': 63, 'sum_val': 0.07719092734935093}, {'index': 64, 'sum_val': 0.07719092734935093}, {'index': 65, 'sum_val': 0.07712235386230278}, {'index': 66, 'sum_val': 0.07712235386230278}, {'index': 67, 'sum_val': 0.07712235386230278}, {'index': 68, 'sum_val': 0.07712235386230278}, {'index': 69, 'sum_val': 0.07712235386230278}, {'index': 70, 'sum_val': 0.07724863570645836}, {'index': 71, 'sum_val': 0.07724863570645836}, {'index': 72, 'sum_val': 0.07724863570645836}, {'index': 73, 'sum_val': 0.07724863570645836}, {'index': 74, 'sum_val': 0.07724863570645836}, {'index': 75, 'sum_val': 0.07729211696653059}, {'index': 76, 'sum_val': 0.07729211696653059}, {'index': 77, 'sum_val': 0.07729211696653059}, {'index': 78, 'sum_val': 0.07729211696653059}, {'index': 79, 'sum_val': 0.07729211696653059}, {'index': 80, 'sum_val': 0.07734022367688798}, {'index': 81, 'sum_val': 0.07734022367688798}, {'index': 82, 'sum_val': 0.07734022367688798}, {'index': 83, 'sum_val': 0.07734022367688798}, {'index': 84, 'sum_val': 0.07734022367688798}, {'index': 85, 'sum_val': 0.07711369975531715}, {'index': 86, 'sum_val': 0.07711369975531715}, {'index': 87, 'sum_val': 0.07711369975531715}, {'index': 88, 'sum_val': 0.07711369975531715}, {'index': 89, 'sum_val': 0.07711369975531715}, {'index': 90, 'sum_val': 0.07712975093779831}, {'index': 91, 'sum_val': 0.07712975093779831}, {'index': 92, 'sum_val': 0.07712975093779831}, {'index': 93, 'sum_val': 0.07712975093779831}, {'index': 94, 'sum_val': 0.07712975093779831}, {'index': 95, 'sum_val': 0.07725202051675346}, {'index': 96, 'sum_val': 0.07725202051675346}, {'index': 97, 'sum_val': 0.07725202051675346}, {'index': 98, 'sum_val': 0.07725202051675346}, {'index': 99, 'sum_val': 0.07725202051675346}, {'index': 100, 'sum_val': 0.07735786133316883}, {'index': 101, 'sum_val': 0.07735786133316883}, {'index': 102, 'sum_val': 0.07735786133316883}, {'index': 103, 'sum_val': 0.07735786133316883}, {'index': 104, 'sum_val': 0.07735786133316883}, {'index': 105, 'sum_val': 0.0771951673641681}, {'index': 106, 'sum_val': 0.0771951673641681}, {'index': 107, 'sum_val': 0.0771951673641681}, {'index': 108, 'sum_val': 0.0771951673641681}, {'index': 109, 'sum_val': 0.0771951673641681}, {'index': 110, 'sum_val': 0.07705917103787271}, {'index': 111, 'sum_val': 0.07705917103787271}, {'index': 112, 'sum_val': 0.07705917103787271}, {'index': 113, 'sum_val': 0.07705917103787271}, {'index': 114, 'sum_val': 0.07705917103787271}, {'index': 115, 'sum_val': 0.07703138907621102}, {'index': 116, 'sum_val': 0.07703138907621102}, {'index': 117, 'sum_val': 0.07703138907621102}, {'index': 118, 'sum_val': 0.07703138907621102}, {'index': 119, 'sum_val': 0.07703138907621102}, {'index': 120, 'sum_val': 0.07706764221463824}, {'index': 121, 'sum_val': 0.07706764221463824}, {'index': 122, 'sum_val': 0.07706764221463824}, {'index': 123, 'sum_val': 0.07706764221463824}, {'index': 124, 'sum_val': 0.07706764221463824}]\n"
     ]
    }
   ],
   "source": [
    "print(combined_row_value)"
   ]
  },
  {
   "cell_type": "code",
   "execution_count": 8,
   "id": "a031ac53",
   "metadata": {},
   "outputs": [
    {
     "name": "stdout",
     "output_type": "stream",
     "text": [
      "{'index': 115, 'sum_val': 0.07703138907621102}\n"
     ]
    }
   ],
   "source": [
    "print(min(combined_row_value, key=lambda x:x['sum_val']))\n"
   ]
  },
  {
   "cell_type": "code",
   "execution_count": 9,
   "id": "e1cd58b9",
   "metadata": {},
   "outputs": [
    {
     "name": "stdout",
     "output_type": "stream",
     "text": [
      "changepoint_prior_scale    0.120000\n",
      "seasonality_prior_scale    0.011000\n",
      "holidays_prior_scale       0.008000\n",
      "rmse                       0.042895\n",
      "mse                        0.001840\n",
      "mae                        0.032296\n",
      "Name: 115, dtype: float64\n"
     ]
    }
   ],
   "source": [
    "print(tuning_results.loc[115])"
   ]
  },
  {
   "cell_type": "code",
   "execution_count": null,
   "id": "bf2b1a4d",
   "metadata": {},
   "outputs": [],
   "source": []
  },
  {
   "cell_type": "code",
   "execution_count": null,
   "id": "cbc5280a",
   "metadata": {},
   "outputs": [],
   "source": []
  }
 ],
 "metadata": {
  "kernelspec": {
   "display_name": "Python 3 (ipykernel)",
   "language": "python",
   "name": "python3"
  },
  "language_info": {
   "codemirror_mode": {
    "name": "ipython",
    "version": 3
   },
   "file_extension": ".py",
   "mimetype": "text/x-python",
   "name": "python",
   "nbconvert_exporter": "python",
   "pygments_lexer": "ipython3",
   "version": "3.9.12"
  }
 },
 "nbformat": 4,
 "nbformat_minor": 5
}
