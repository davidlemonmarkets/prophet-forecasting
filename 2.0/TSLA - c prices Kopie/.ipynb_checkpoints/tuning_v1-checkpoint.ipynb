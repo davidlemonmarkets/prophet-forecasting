{
 "cells": [
  {
   "cell_type": "code",
   "execution_count": null,
   "id": "2968028f",
   "metadata": {},
   "outputs": [
    {
     "name": "stderr",
     "output_type": "stream",
     "text": [
      "11:08:15 - cmdstanpy - INFO - Chain [1] start processing\n",
      "11:08:15 - cmdstanpy - INFO - Chain [1] done processing\n",
      "11:08:15 - cmdstanpy - ERROR - Chain [1] error: error during processing Stale NFS file handle\n",
      "Optimization terminated abnormally. Falling back to Newton.\n",
      "11:08:15 - cmdstanpy - INFO - Chain [1] start processing\n",
      "11:08:16 - cmdstanpy - INFO - Chain [1] done processing\n"
     ]
    },
    {
     "data": {
      "application/vnd.jupyter.widget-view+json": {
       "model_id": "06a60b9f2b3a4669bf7f35c023c91757",
       "version_major": 2,
       "version_minor": 0
      },
      "text/plain": [
       "  0%|          | 0/4 [00:00<?, ?it/s]"
      ]
     },
     "metadata": {},
     "output_type": "display_data"
    },
    {
     "name": "stderr",
     "output_type": "stream",
     "text": [
      "11:08:16 - cmdstanpy - INFO - Chain [1] start processing\n",
      "11:08:16 - cmdstanpy - INFO - Chain [1] done processing\n",
      "11:08:17 - cmdstanpy - INFO - Chain [1] start processing\n",
      "11:08:17 - cmdstanpy - INFO - Chain [1] done processing\n",
      "11:08:17 - cmdstanpy - ERROR - Chain [1] error: error during processing Stale NFS file handle\n",
      "Optimization terminated abnormally. Falling back to Newton.\n",
      "11:08:17 - cmdstanpy - INFO - Chain [1] start processing\n",
      "11:08:17 - cmdstanpy - INFO - Chain [1] done processing\n",
      "11:08:18 - cmdstanpy - INFO - Chain [1] start processing\n",
      "11:08:18 - cmdstanpy - INFO - Chain [1] done processing\n",
      "11:08:19 - cmdstanpy - INFO - Chain [1] start processing\n",
      "11:08:19 - cmdstanpy - INFO - Chain [1] done processing\n",
      "11:08:19 - cmdstanpy - ERROR - Chain [1] error: error during processing Stale NFS file handle\n",
      "Optimization terminated abnormally. Falling back to Newton.\n",
      "11:08:19 - cmdstanpy - INFO - Chain [1] start processing\n",
      "11:08:19 - cmdstanpy - INFO - Chain [1] done processing\n",
      "11:08:20 - cmdstanpy - INFO - Chain [1] start processing\n",
      "11:08:20 - cmdstanpy - INFO - Chain [1] done processing\n",
      "11:08:20 - cmdstanpy - ERROR - Chain [1] error: error during processing Stale NFS file handle\n",
      "Optimization terminated abnormally. Falling back to Newton.\n",
      "11:08:20 - cmdstanpy - INFO - Chain [1] start processing\n",
      "11:08:20 - cmdstanpy - INFO - Chain [1] done processing\n"
     ]
    },
    {
     "data": {
      "application/vnd.jupyter.widget-view+json": {
       "model_id": "e792ee25e84a45e3a7c34104acf8ea29",
       "version_major": 2,
       "version_minor": 0
      },
      "text/plain": [
       "  0%|          | 0/4 [00:00<?, ?it/s]"
      ]
     },
     "metadata": {},
     "output_type": "display_data"
    },
    {
     "name": "stderr",
     "output_type": "stream",
     "text": [
      "11:08:20 - cmdstanpy - INFO - Chain [1] start processing\n",
      "11:08:21 - cmdstanpy - INFO - Chain [1] done processing\n",
      "11:08:21 - cmdstanpy - INFO - Chain [1] start processing\n",
      "11:08:21 - cmdstanpy - INFO - Chain [1] done processing\n",
      "11:08:21 - cmdstanpy - ERROR - Chain [1] error: error during processing Stale NFS file handle\n",
      "Optimization terminated abnormally. Falling back to Newton.\n",
      "11:08:21 - cmdstanpy - INFO - Chain [1] start processing\n",
      "11:08:22 - cmdstanpy - INFO - Chain [1] done processing\n",
      "11:08:22 - cmdstanpy - INFO - Chain [1] start processing\n",
      "11:08:22 - cmdstanpy - INFO - Chain [1] done processing\n",
      "11:08:23 - cmdstanpy - INFO - Chain [1] start processing\n",
      "11:08:23 - cmdstanpy - INFO - Chain [1] done processing\n",
      "11:08:23 - cmdstanpy - ERROR - Chain [1] error: error during processing Stale NFS file handle\n",
      "Optimization terminated abnormally. Falling back to Newton.\n",
      "11:08:23 - cmdstanpy - INFO - Chain [1] start processing\n",
      "11:08:23 - cmdstanpy - INFO - Chain [1] done processing\n",
      "11:08:24 - cmdstanpy - INFO - Chain [1] start processing\n",
      "11:08:24 - cmdstanpy - INFO - Chain [1] done processing\n",
      "11:08:24 - cmdstanpy - ERROR - Chain [1] error: error during processing Stale NFS file handle\n",
      "Optimization terminated abnormally. Falling back to Newton.\n",
      "11:08:24 - cmdstanpy - INFO - Chain [1] start processing\n",
      "11:08:24 - cmdstanpy - INFO - Chain [1] done processing\n"
     ]
    },
    {
     "data": {
      "application/vnd.jupyter.widget-view+json": {
       "model_id": "7942c151b2f34d2db4dcb1a9042b1b7f",
       "version_major": 2,
       "version_minor": 0
      },
      "text/plain": [
       "  0%|          | 0/4 [00:00<?, ?it/s]"
      ]
     },
     "metadata": {},
     "output_type": "display_data"
    },
    {
     "name": "stderr",
     "output_type": "stream",
     "text": [
      "11:08:24 - cmdstanpy - INFO - Chain [1] start processing\n",
      "11:08:25 - cmdstanpy - INFO - Chain [1] done processing\n",
      "11:08:25 - cmdstanpy - INFO - Chain [1] start processing\n",
      "11:08:25 - cmdstanpy - INFO - Chain [1] done processing\n",
      "11:08:25 - cmdstanpy - ERROR - Chain [1] error: error during processing Stale NFS file handle\n",
      "Optimization terminated abnormally. Falling back to Newton.\n",
      "11:08:25 - cmdstanpy - INFO - Chain [1] start processing\n",
      "11:08:26 - cmdstanpy - INFO - Chain [1] done processing\n",
      "11:08:26 - cmdstanpy - INFO - Chain [1] start processing\n",
      "11:08:26 - cmdstanpy - INFO - Chain [1] done processing\n",
      "11:08:27 - cmdstanpy - INFO - Chain [1] start processing\n",
      "11:08:27 - cmdstanpy - INFO - Chain [1] done processing\n",
      "11:08:27 - cmdstanpy - ERROR - Chain [1] error: error during processing Stale NFS file handle\n",
      "Optimization terminated abnormally. Falling back to Newton.\n",
      "11:08:27 - cmdstanpy - INFO - Chain [1] start processing\n",
      "11:08:27 - cmdstanpy - INFO - Chain [1] done processing\n",
      "11:08:28 - cmdstanpy - INFO - Chain [1] start processing\n",
      "11:08:28 - cmdstanpy - INFO - Chain [1] done processing\n",
      "11:08:28 - cmdstanpy - ERROR - Chain [1] error: error during processing Stale NFS file handle\n",
      "Optimization terminated abnormally. Falling back to Newton.\n",
      "11:08:28 - cmdstanpy - INFO - Chain [1] start processing\n",
      "11:08:28 - cmdstanpy - INFO - Chain [1] done processing\n"
     ]
    },
    {
     "data": {
      "application/vnd.jupyter.widget-view+json": {
       "model_id": "3645b9b432a04c6792b218be0d1d6257",
       "version_major": 2,
       "version_minor": 0
      },
      "text/plain": [
       "  0%|          | 0/4 [00:00<?, ?it/s]"
      ]
     },
     "metadata": {},
     "output_type": "display_data"
    },
    {
     "name": "stderr",
     "output_type": "stream",
     "text": [
      "11:08:28 - cmdstanpy - INFO - Chain [1] start processing\n",
      "11:08:29 - cmdstanpy - INFO - Chain [1] done processing\n",
      "11:08:30 - cmdstanpy - INFO - Chain [1] start processing\n",
      "11:08:30 - cmdstanpy - INFO - Chain [1] done processing\n",
      "11:08:30 - cmdstanpy - ERROR - Chain [1] error: error during processing Stale NFS file handle\n",
      "Optimization terminated abnormally. Falling back to Newton.\n",
      "11:08:30 - cmdstanpy - INFO - Chain [1] start processing\n",
      "11:08:30 - cmdstanpy - INFO - Chain [1] done processing\n",
      "11:08:30 - cmdstanpy - INFO - Chain [1] start processing\n",
      "11:08:30 - cmdstanpy - INFO - Chain [1] done processing\n",
      "11:08:31 - cmdstanpy - INFO - Chain [1] start processing\n",
      "11:08:31 - cmdstanpy - INFO - Chain [1] done processing\n",
      "11:08:31 - cmdstanpy - ERROR - Chain [1] error: error during processing Stale NFS file handle\n",
      "Optimization terminated abnormally. Falling back to Newton.\n",
      "11:08:31 - cmdstanpy - INFO - Chain [1] start processing\n",
      "11:08:31 - cmdstanpy - INFO - Chain [1] done processing\n",
      "11:08:32 - cmdstanpy - INFO - Chain [1] start processing\n",
      "11:08:32 - cmdstanpy - INFO - Chain [1] done processing\n",
      "11:08:32 - cmdstanpy - ERROR - Chain [1] error: error during processing Stale NFS file handle\n",
      "Optimization terminated abnormally. Falling back to Newton.\n",
      "11:08:32 - cmdstanpy - INFO - Chain [1] start processing\n",
      "11:08:32 - cmdstanpy - INFO - Chain [1] done processing\n"
     ]
    },
    {
     "data": {
      "application/vnd.jupyter.widget-view+json": {
       "model_id": "92acd017e6764a5694e0d52573d6c17b",
       "version_major": 2,
       "version_minor": 0
      },
      "text/plain": [
       "  0%|          | 0/4 [00:00<?, ?it/s]"
      ]
     },
     "metadata": {},
     "output_type": "display_data"
    },
    {
     "name": "stderr",
     "output_type": "stream",
     "text": [
      "11:08:32 - cmdstanpy - INFO - Chain [1] start processing\n",
      "11:08:34 - cmdstanpy - INFO - Chain [1] done processing\n",
      "11:08:34 - cmdstanpy - INFO - Chain [1] start processing\n",
      "11:08:34 - cmdstanpy - INFO - Chain [1] done processing\n",
      "11:08:34 - cmdstanpy - ERROR - Chain [1] error: error during processing Stale NFS file handle\n",
      "Optimization terminated abnormally. Falling back to Newton.\n",
      "11:08:34 - cmdstanpy - INFO - Chain [1] start processing\n",
      "11:08:35 - cmdstanpy - INFO - Chain [1] done processing\n",
      "11:08:35 - cmdstanpy - INFO - Chain [1] start processing\n",
      "11:08:35 - cmdstanpy - INFO - Chain [1] done processing\n",
      "11:08:36 - cmdstanpy - INFO - Chain [1] start processing\n",
      "11:08:36 - cmdstanpy - INFO - Chain [1] done processing\n",
      "11:08:36 - cmdstanpy - ERROR - Chain [1] error: error during processing Stale NFS file handle\n",
      "Optimization terminated abnormally. Falling back to Newton.\n",
      "11:08:36 - cmdstanpy - INFO - Chain [1] start processing\n",
      "11:08:36 - cmdstanpy - INFO - Chain [1] done processing\n",
      "11:08:37 - cmdstanpy - INFO - Chain [1] start processing\n",
      "11:08:37 - cmdstanpy - INFO - Chain [1] done processing\n",
      "11:08:37 - cmdstanpy - ERROR - Chain [1] error: error during processing Stale NFS file handle\n",
      "Optimization terminated abnormally. Falling back to Newton.\n",
      "11:08:37 - cmdstanpy - INFO - Chain [1] start processing\n",
      "11:08:37 - cmdstanpy - INFO - Chain [1] done processing\n"
     ]
    },
    {
     "data": {
      "application/vnd.jupyter.widget-view+json": {
       "model_id": "1ab8afd3c4224d5d9b918bc397222545",
       "version_major": 2,
       "version_minor": 0
      },
      "text/plain": [
       "  0%|          | 0/4 [00:00<?, ?it/s]"
      ]
     },
     "metadata": {},
     "output_type": "display_data"
    },
    {
     "name": "stderr",
     "output_type": "stream",
     "text": [
      "11:08:37 - cmdstanpy - INFO - Chain [1] start processing\n",
      "11:08:38 - cmdstanpy - INFO - Chain [1] done processing\n",
      "11:08:39 - cmdstanpy - INFO - Chain [1] start processing\n",
      "11:08:39 - cmdstanpy - INFO - Chain [1] done processing\n",
      "11:08:39 - cmdstanpy - ERROR - Chain [1] error: error during processing Stale NFS file handle\n",
      "Optimization terminated abnormally. Falling back to Newton.\n",
      "11:08:39 - cmdstanpy - INFO - Chain [1] start processing\n",
      "11:08:39 - cmdstanpy - INFO - Chain [1] done processing\n",
      "11:08:40 - cmdstanpy - INFO - Chain [1] start processing\n",
      "11:08:40 - cmdstanpy - INFO - Chain [1] done processing\n",
      "11:08:41 - cmdstanpy - INFO - Chain [1] start processing\n",
      "11:08:41 - cmdstanpy - INFO - Chain [1] done processing\n",
      "11:08:41 - cmdstanpy - ERROR - Chain [1] error: error during processing Stale NFS file handle\n",
      "Optimization terminated abnormally. Falling back to Newton.\n",
      "11:08:41 - cmdstanpy - INFO - Chain [1] start processing\n",
      "11:08:41 - cmdstanpy - INFO - Chain [1] done processing\n",
      "11:08:42 - cmdstanpy - INFO - Chain [1] start processing\n",
      "11:08:42 - cmdstanpy - INFO - Chain [1] done processing\n",
      "11:08:42 - cmdstanpy - ERROR - Chain [1] error: error during processing Stale NFS file handle\n",
      "Optimization terminated abnormally. Falling back to Newton.\n",
      "11:08:42 - cmdstanpy - INFO - Chain [1] start processing\n",
      "11:08:42 - cmdstanpy - INFO - Chain [1] done processing\n"
     ]
    },
    {
     "data": {
      "application/vnd.jupyter.widget-view+json": {
       "model_id": "e101a1baa8a04b00a235224b8eef8fea",
       "version_major": 2,
       "version_minor": 0
      },
      "text/plain": [
       "  0%|          | 0/4 [00:00<?, ?it/s]"
      ]
     },
     "metadata": {},
     "output_type": "display_data"
    },
    {
     "name": "stderr",
     "output_type": "stream",
     "text": [
      "11:08:42 - cmdstanpy - INFO - Chain [1] start processing\n",
      "11:08:43 - cmdstanpy - INFO - Chain [1] done processing\n",
      "11:08:44 - cmdstanpy - INFO - Chain [1] start processing\n",
      "11:08:44 - cmdstanpy - INFO - Chain [1] done processing\n",
      "11:08:44 - cmdstanpy - ERROR - Chain [1] error: error during processing Stale NFS file handle\n",
      "Optimization terminated abnormally. Falling back to Newton.\n",
      "11:08:44 - cmdstanpy - INFO - Chain [1] start processing\n",
      "11:08:44 - cmdstanpy - INFO - Chain [1] done processing\n",
      "11:08:45 - cmdstanpy - INFO - Chain [1] start processing\n",
      "11:08:45 - cmdstanpy - INFO - Chain [1] done processing\n",
      "11:08:45 - cmdstanpy - INFO - Chain [1] start processing\n",
      "11:08:45 - cmdstanpy - INFO - Chain [1] done processing\n",
      "11:08:45 - cmdstanpy - ERROR - Chain [1] error: error during processing Stale NFS file handle\n",
      "Optimization terminated abnormally. Falling back to Newton.\n",
      "11:08:45 - cmdstanpy - INFO - Chain [1] start processing\n",
      "11:08:46 - cmdstanpy - INFO - Chain [1] done processing\n",
      "11:08:46 - cmdstanpy - INFO - Chain [1] start processing\n",
      "11:08:46 - cmdstanpy - INFO - Chain [1] done processing\n",
      "11:08:46 - cmdstanpy - ERROR - Chain [1] error: error during processing Stale NFS file handle\n",
      "Optimization terminated abnormally. Falling back to Newton.\n",
      "11:08:46 - cmdstanpy - INFO - Chain [1] start processing\n",
      "11:08:47 - cmdstanpy - INFO - Chain [1] done processing\n"
     ]
    },
    {
     "data": {
      "application/vnd.jupyter.widget-view+json": {
       "model_id": "b650dc5c7051414b8c8b555da57bfc2f",
       "version_major": 2,
       "version_minor": 0
      },
      "text/plain": [
       "  0%|          | 0/4 [00:00<?, ?it/s]"
      ]
     },
     "metadata": {},
     "output_type": "display_data"
    },
    {
     "name": "stderr",
     "output_type": "stream",
     "text": [
      "11:08:47 - cmdstanpy - INFO - Chain [1] start processing\n",
      "11:08:48 - cmdstanpy - INFO - Chain [1] done processing\n",
      "11:08:48 - cmdstanpy - INFO - Chain [1] start processing\n",
      "11:08:48 - cmdstanpy - INFO - Chain [1] done processing\n",
      "11:08:48 - cmdstanpy - ERROR - Chain [1] error: error during processing Stale NFS file handle\n",
      "Optimization terminated abnormally. Falling back to Newton.\n",
      "11:08:48 - cmdstanpy - INFO - Chain [1] start processing\n",
      "11:08:49 - cmdstanpy - INFO - Chain [1] done processing\n",
      "11:08:49 - cmdstanpy - INFO - Chain [1] start processing\n",
      "11:08:49 - cmdstanpy - INFO - Chain [1] done processing\n",
      "11:08:50 - cmdstanpy - INFO - Chain [1] start processing\n",
      "11:08:50 - cmdstanpy - INFO - Chain [1] done processing\n",
      "11:08:50 - cmdstanpy - ERROR - Chain [1] error: error during processing Stale NFS file handle\n",
      "Optimization terminated abnormally. Falling back to Newton.\n",
      "11:08:50 - cmdstanpy - INFO - Chain [1] start processing\n",
      "11:08:50 - cmdstanpy - INFO - Chain [1] done processing\n",
      "11:08:51 - cmdstanpy - INFO - Chain [1] start processing\n",
      "11:08:51 - cmdstanpy - INFO - Chain [1] done processing\n",
      "11:08:51 - cmdstanpy - ERROR - Chain [1] error: error during processing Stale NFS file handle\n",
      "Optimization terminated abnormally. Falling back to Newton.\n",
      "11:08:51 - cmdstanpy - INFO - Chain [1] start processing\n",
      "11:08:51 - cmdstanpy - INFO - Chain [1] done processing\n"
     ]
    },
    {
     "data": {
      "application/vnd.jupyter.widget-view+json": {
       "model_id": "7c86761c013f4df889d70f3346e0155e",
       "version_major": 2,
       "version_minor": 0
      },
      "text/plain": [
       "  0%|          | 0/4 [00:00<?, ?it/s]"
      ]
     },
     "metadata": {},
     "output_type": "display_data"
    },
    {
     "name": "stderr",
     "output_type": "stream",
     "text": [
      "11:08:51 - cmdstanpy - INFO - Chain [1] start processing\n",
      "11:08:53 - cmdstanpy - INFO - Chain [1] done processing\n",
      "11:08:53 - cmdstanpy - INFO - Chain [1] start processing\n",
      "11:08:53 - cmdstanpy - INFO - Chain [1] done processing\n",
      "11:08:53 - cmdstanpy - ERROR - Chain [1] error: error during processing Stale NFS file handle\n",
      "Optimization terminated abnormally. Falling back to Newton.\n",
      "11:08:53 - cmdstanpy - INFO - Chain [1] start processing\n",
      "11:08:54 - cmdstanpy - INFO - Chain [1] done processing\n",
      "11:08:54 - cmdstanpy - INFO - Chain [1] start processing\n",
      "11:08:54 - cmdstanpy - INFO - Chain [1] done processing\n",
      "11:08:55 - cmdstanpy - INFO - Chain [1] start processing\n",
      "11:08:55 - cmdstanpy - INFO - Chain [1] done processing\n",
      "11:08:55 - cmdstanpy - ERROR - Chain [1] error: error during processing Stale NFS file handle\n",
      "Optimization terminated abnormally. Falling back to Newton.\n",
      "11:08:55 - cmdstanpy - INFO - Chain [1] start processing\n",
      "11:08:55 - cmdstanpy - INFO - Chain [1] done processing\n"
     ]
    }
   ],
   "source": [
    "from prophet import Prophet\n",
    "import itertools\n",
    "import numpy as np\n",
    "import pandas as pd\n",
    "from prophet.diagnostics import cross_validation\n",
    "from prophet.diagnostics import performance_metrics\n",
    "\n",
    "data = pd.read_csv('data.csv')\n",
    "\n",
    "\n",
    "param_grid = {  \n",
    "    'changepoint_prior_scale': [0.001, 0.01, 0.1, 0.5],\n",
    "    'seasonality_prior_scale': [0.01, 0.1, 1.0, 10.0],\n",
    "    'holidays_prior_scale': [0.01, 0.1, 1.0, 10.0],\n",
    "}\n",
    "\n",
    "# Generate all combinations of parameters\n",
    "all_params = [dict(zip(param_grid.keys(), v)) for v in itertools.product(*param_grid.values())]\n",
    "rmses = []  # Store the RMSEs for each params here\n",
    "mse = []\n",
    "mae = []\n",
    "\n",
    "# Use cross validation to evaluate all parameters\n",
    "for params in all_params:\n",
    "    m = Prophet(**params, interval_width=0.9, daily_seasonality=True).fit(data)  # Fit model with given params\n",
    "    df_cv = cross_validation(m, initial='100 days', period='60 days', horizon = '30 days')\n",
    "    df_p = performance_metrics(df_cv, rolling_window=1)\n",
    "    rmses.append(df_p['rmse'].values[0])\n",
    "    mse.append(df_p[\"mse\"].values[0])\n",
    "    mae.append(df_p[\"mae\"].values[0])\n",
    "\n",
    "# Find the best parameters\n",
    "tuning_results = pd.DataFrame(all_params)\n",
    "tuning_results['rmse'] = rmses\n",
    "tuning_results['mse'] = mse\n",
    "tuning_results['mae'] = mae\n",
    "print(tuning_results)\n",
    "\n"
   ]
  },
  {
   "cell_type": "code",
   "execution_count": null,
   "id": "8d68eb81",
   "metadata": {},
   "outputs": [],
   "source": [
    "best_params = all_params[np.argmin(rmses)]\n",
    "print(best_params)"
   ]
  },
  {
   "cell_type": "code",
   "execution_count": null,
   "id": "d233438b",
   "metadata": {},
   "outputs": [],
   "source": [
    "print(tuning_results)['rmse'].min()"
   ]
  },
  {
   "cell_type": "code",
   "execution_count": null,
   "id": "80a34dd6",
   "metadata": {},
   "outputs": [],
   "source": [
    "print(all_params)"
   ]
  },
  {
   "cell_type": "code",
   "execution_count": null,
   "id": "b221b7cf",
   "metadata": {},
   "outputs": [],
   "source": [
    "print(tuning_results[['rmse','mse','mae']].min().min())"
   ]
  },
  {
   "cell_type": "code",
   "execution_count": null,
   "id": "aa1c06bf",
   "metadata": {},
   "outputs": [],
   "source": [
    "combined_row_value = []\n",
    "\n",
    "for ind in tuning_results.index:\n",
    "    sum_val = tuning_results['rmse'][ind] + tuning_results['mse'][ind] + tuning_results['mae'][ind]\n",
    "    combined_row_value.append(dict(index=ind, sum_val=sum_val))"
   ]
  },
  {
   "cell_type": "code",
   "execution_count": null,
   "id": "676d9e1d",
   "metadata": {},
   "outputs": [],
   "source": [
    "print(combined_row_value)"
   ]
  },
  {
   "cell_type": "code",
   "execution_count": null,
   "id": "a031ac53",
   "metadata": {},
   "outputs": [],
   "source": [
    "print(min(combined_row_value, key=lambda x:x['sum_val']))\n"
   ]
  },
  {
   "cell_type": "code",
   "execution_count": null,
   "id": "e1cd58b9",
   "metadata": {},
   "outputs": [],
   "source": [
    "print(tuning_results.loc[32])"
   ]
  },
  {
   "cell_type": "code",
   "execution_count": null,
   "id": "bf2b1a4d",
   "metadata": {},
   "outputs": [],
   "source": []
  },
  {
   "cell_type": "code",
   "execution_count": null,
   "id": "cbc5280a",
   "metadata": {},
   "outputs": [],
   "source": []
  }
 ],
 "metadata": {
  "kernelspec": {
   "display_name": "Python 3 (ipykernel)",
   "language": "python",
   "name": "python3"
  },
  "language_info": {
   "codemirror_mode": {
    "name": "ipython",
    "version": 3
   },
   "file_extension": ".py",
   "mimetype": "text/x-python",
   "name": "python",
   "nbconvert_exporter": "python",
   "pygments_lexer": "ipython3",
   "version": "3.9.12"
  }
 },
 "nbformat": 4,
 "nbformat_minor": 5
}
