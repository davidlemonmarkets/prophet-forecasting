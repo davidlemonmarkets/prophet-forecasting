{
 "cells": [
  {
   "cell_type": "code",
   "execution_count": 2,
   "id": "2968028f",
   "metadata": {},
   "outputs": [
    {
     "name": "stderr",
     "output_type": "stream",
     "text": [
      "11:25:44 - cmdstanpy - INFO - Chain [1] start processing\n",
      "11:25:44 - cmdstanpy - INFO - Chain [1] done processing\n",
      "11:25:44 - cmdstanpy - ERROR - Chain [1] error: error during processing Stale NFS file handle\n",
      "Optimization terminated abnormally. Falling back to Newton.\n",
      "11:25:44 - cmdstanpy - INFO - Chain [1] start processing\n",
      "11:25:45 - cmdstanpy - INFO - Chain [1] done processing\n"
     ]
    },
    {
     "data": {
      "application/vnd.jupyter.widget-view+json": {
       "model_id": "f530e09c8717498cb7e61b531ada2dae",
       "version_major": 2,
       "version_minor": 0
      },
      "text/plain": [
       "  0%|          | 0/4 [00:00<?, ?it/s]"
      ]
     },
     "metadata": {},
     "output_type": "display_data"
    },
    {
     "name": "stderr",
     "output_type": "stream",
     "text": [
      "11:25:45 - cmdstanpy - INFO - Chain [1] start processing\n",
      "11:25:45 - cmdstanpy - INFO - Chain [1] done processing\n",
      "11:25:46 - cmdstanpy - INFO - Chain [1] start processing\n",
      "11:25:46 - cmdstanpy - INFO - Chain [1] done processing\n",
      "11:25:46 - cmdstanpy - INFO - Chain [1] start processing\n",
      "11:25:46 - cmdstanpy - INFO - Chain [1] done processing\n",
      "11:25:46 - cmdstanpy - ERROR - Chain [1] error: error during processing Stale NFS file handle\n",
      "Optimization terminated abnormally. Falling back to Newton.\n",
      "11:25:46 - cmdstanpy - INFO - Chain [1] start processing\n",
      "11:25:47 - cmdstanpy - INFO - Chain [1] done processing\n",
      "11:25:47 - cmdstanpy - INFO - Chain [1] start processing\n",
      "11:25:47 - cmdstanpy - INFO - Chain [1] done processing\n",
      "11:25:48 - cmdstanpy - INFO - Chain [1] start processing\n",
      "11:25:48 - cmdstanpy - INFO - Chain [1] done processing\n",
      "11:25:48 - cmdstanpy - ERROR - Chain [1] error: error during processing Stale NFS file handle\n",
      "Optimization terminated abnormally. Falling back to Newton.\n",
      "11:25:48 - cmdstanpy - INFO - Chain [1] start processing\n",
      "11:25:48 - cmdstanpy - INFO - Chain [1] done processing\n"
     ]
    },
    {
     "data": {
      "application/vnd.jupyter.widget-view+json": {
       "model_id": "b2b8239c5206430eb34ea9b23febd528",
       "version_major": 2,
       "version_minor": 0
      },
      "text/plain": [
       "  0%|          | 0/4 [00:00<?, ?it/s]"
      ]
     },
     "metadata": {},
     "output_type": "display_data"
    },
    {
     "name": "stderr",
     "output_type": "stream",
     "text": [
      "11:25:48 - cmdstanpy - INFO - Chain [1] start processing\n",
      "11:25:49 - cmdstanpy - INFO - Chain [1] done processing\n",
      "11:25:49 - cmdstanpy - INFO - Chain [1] start processing\n",
      "11:25:49 - cmdstanpy - INFO - Chain [1] done processing\n",
      "11:25:50 - cmdstanpy - INFO - Chain [1] start processing\n",
      "11:25:50 - cmdstanpy - INFO - Chain [1] done processing\n",
      "11:25:50 - cmdstanpy - ERROR - Chain [1] error: error during processing Stale NFS file handle\n",
      "Optimization terminated abnormally. Falling back to Newton.\n",
      "11:25:50 - cmdstanpy - INFO - Chain [1] start processing\n",
      "11:25:50 - cmdstanpy - INFO - Chain [1] done processing\n",
      "11:25:51 - cmdstanpy - INFO - Chain [1] start processing\n",
      "11:25:51 - cmdstanpy - INFO - Chain [1] done processing\n",
      "11:25:51 - cmdstanpy - INFO - Chain [1] start processing\n",
      "11:25:51 - cmdstanpy - INFO - Chain [1] done processing\n",
      "11:25:51 - cmdstanpy - ERROR - Chain [1] error: error during processing Stale NFS file handle\n",
      "Optimization terminated abnormally. Falling back to Newton.\n",
      "11:25:51 - cmdstanpy - INFO - Chain [1] start processing\n",
      "11:25:52 - cmdstanpy - INFO - Chain [1] done processing\n"
     ]
    },
    {
     "data": {
      "application/vnd.jupyter.widget-view+json": {
       "model_id": "b3de46d02dfd44f8be9210b132f2698c",
       "version_major": 2,
       "version_minor": 0
      },
      "text/plain": [
       "  0%|          | 0/4 [00:00<?, ?it/s]"
      ]
     },
     "metadata": {},
     "output_type": "display_data"
    },
    {
     "name": "stderr",
     "output_type": "stream",
     "text": [
      "11:25:52 - cmdstanpy - INFO - Chain [1] start processing\n",
      "11:25:52 - cmdstanpy - INFO - Chain [1] done processing\n",
      "11:25:53 - cmdstanpy - INFO - Chain [1] start processing\n",
      "11:25:53 - cmdstanpy - INFO - Chain [1] done processing\n",
      "11:25:54 - cmdstanpy - INFO - Chain [1] start processing\n",
      "11:25:54 - cmdstanpy - INFO - Chain [1] done processing\n",
      "11:25:54 - cmdstanpy - ERROR - Chain [1] error: error during processing Stale NFS file handle\n",
      "Optimization terminated abnormally. Falling back to Newton.\n",
      "11:25:54 - cmdstanpy - INFO - Chain [1] start processing\n",
      "11:25:54 - cmdstanpy - INFO - Chain [1] done processing\n",
      "11:25:54 - cmdstanpy - INFO - Chain [1] start processing\n",
      "11:25:54 - cmdstanpy - INFO - Chain [1] done processing\n",
      "11:25:55 - cmdstanpy - INFO - Chain [1] start processing\n",
      "11:25:55 - cmdstanpy - INFO - Chain [1] done processing\n",
      "11:25:55 - cmdstanpy - ERROR - Chain [1] error: error during processing Stale NFS file handle\n",
      "Optimization terminated abnormally. Falling back to Newton.\n",
      "11:25:55 - cmdstanpy - INFO - Chain [1] start processing\n",
      "11:25:56 - cmdstanpy - INFO - Chain [1] done processing\n"
     ]
    },
    {
     "data": {
      "application/vnd.jupyter.widget-view+json": {
       "model_id": "8a81141bb29a4d8dad4d20c2572ebe70",
       "version_major": 2,
       "version_minor": 0
      },
      "text/plain": [
       "  0%|          | 0/4 [00:00<?, ?it/s]"
      ]
     },
     "metadata": {},
     "output_type": "display_data"
    },
    {
     "name": "stderr",
     "output_type": "stream",
     "text": [
      "11:25:56 - cmdstanpy - INFO - Chain [1] start processing\n",
      "11:25:56 - cmdstanpy - INFO - Chain [1] done processing\n",
      "11:25:56 - cmdstanpy - INFO - Chain [1] start processing\n",
      "11:25:56 - cmdstanpy - INFO - Chain [1] done processing\n",
      "11:25:57 - cmdstanpy - INFO - Chain [1] start processing\n",
      "11:25:57 - cmdstanpy - INFO - Chain [1] done processing\n",
      "11:25:57 - cmdstanpy - ERROR - Chain [1] error: error during processing Stale NFS file handle\n",
      "Optimization terminated abnormally. Falling back to Newton.\n",
      "11:25:57 - cmdstanpy - INFO - Chain [1] start processing\n",
      "11:25:57 - cmdstanpy - INFO - Chain [1] done processing\n",
      "11:25:58 - cmdstanpy - INFO - Chain [1] start processing\n",
      "11:25:58 - cmdstanpy - INFO - Chain [1] done processing\n",
      "11:25:59 - cmdstanpy - INFO - Chain [1] start processing\n",
      "11:25:59 - cmdstanpy - INFO - Chain [1] done processing\n",
      "11:25:59 - cmdstanpy - ERROR - Chain [1] error: error during processing Stale NFS file handle\n",
      "Optimization terminated abnormally. Falling back to Newton.\n",
      "11:25:59 - cmdstanpy - INFO - Chain [1] start processing\n",
      "11:25:59 - cmdstanpy - INFO - Chain [1] done processing\n"
     ]
    },
    {
     "data": {
      "application/vnd.jupyter.widget-view+json": {
       "model_id": "1825354a64ea421fb18edddeb10c3ad7",
       "version_major": 2,
       "version_minor": 0
      },
      "text/plain": [
       "  0%|          | 0/4 [00:00<?, ?it/s]"
      ]
     },
     "metadata": {},
     "output_type": "display_data"
    },
    {
     "name": "stderr",
     "output_type": "stream",
     "text": [
      "11:25:59 - cmdstanpy - INFO - Chain [1] start processing\n",
      "11:25:59 - cmdstanpy - INFO - Chain [1] done processing\n",
      "11:26:00 - cmdstanpy - INFO - Chain [1] start processing\n",
      "11:26:00 - cmdstanpy - INFO - Chain [1] done processing\n",
      "11:26:00 - cmdstanpy - INFO - Chain [1] start processing\n",
      "11:26:00 - cmdstanpy - INFO - Chain [1] done processing\n",
      "11:26:00 - cmdstanpy - ERROR - Chain [1] error: error during processing Stale NFS file handle\n",
      "Optimization terminated abnormally. Falling back to Newton.\n",
      "11:26:00 - cmdstanpy - INFO - Chain [1] start processing\n",
      "11:26:01 - cmdstanpy - INFO - Chain [1] done processing\n",
      "11:26:01 - cmdstanpy - INFO - Chain [1] start processing\n",
      "11:26:01 - cmdstanpy - INFO - Chain [1] done processing\n",
      "11:26:02 - cmdstanpy - INFO - Chain [1] start processing\n",
      "11:26:02 - cmdstanpy - INFO - Chain [1] done processing\n",
      "11:26:02 - cmdstanpy - ERROR - Chain [1] error: error during processing Stale NFS file handle\n",
      "Optimization terminated abnormally. Falling back to Newton.\n",
      "11:26:02 - cmdstanpy - INFO - Chain [1] start processing\n",
      "11:26:02 - cmdstanpy - INFO - Chain [1] done processing\n"
     ]
    },
    {
     "data": {
      "application/vnd.jupyter.widget-view+json": {
       "model_id": "f8c26592e7bf49499a813624b7b9f5d0",
       "version_major": 2,
       "version_minor": 0
      },
      "text/plain": [
       "  0%|          | 0/4 [00:00<?, ?it/s]"
      ]
     },
     "metadata": {},
     "output_type": "display_data"
    },
    {
     "name": "stderr",
     "output_type": "stream",
     "text": [
      "11:26:02 - cmdstanpy - INFO - Chain [1] start processing\n",
      "11:26:03 - cmdstanpy - INFO - Chain [1] done processing\n",
      "11:26:03 - cmdstanpy - INFO - Chain [1] start processing\n",
      "11:26:03 - cmdstanpy - INFO - Chain [1] done processing\n",
      "11:26:04 - cmdstanpy - INFO - Chain [1] start processing\n",
      "11:26:04 - cmdstanpy - INFO - Chain [1] done processing\n",
      "11:26:04 - cmdstanpy - ERROR - Chain [1] error: error during processing Stale NFS file handle\n",
      "Optimization terminated abnormally. Falling back to Newton.\n",
      "11:26:04 - cmdstanpy - INFO - Chain [1] start processing\n",
      "11:26:04 - cmdstanpy - INFO - Chain [1] done processing\n",
      "11:26:05 - cmdstanpy - INFO - Chain [1] start processing\n",
      "11:26:05 - cmdstanpy - INFO - Chain [1] done processing\n",
      "11:26:06 - cmdstanpy - INFO - Chain [1] start processing\n",
      "11:26:06 - cmdstanpy - INFO - Chain [1] done processing\n",
      "11:26:06 - cmdstanpy - ERROR - Chain [1] error: error during processing Stale NFS file handle\n",
      "Optimization terminated abnormally. Falling back to Newton.\n",
      "11:26:06 - cmdstanpy - INFO - Chain [1] start processing\n",
      "11:26:06 - cmdstanpy - INFO - Chain [1] done processing\n"
     ]
    },
    {
     "data": {
      "application/vnd.jupyter.widget-view+json": {
       "model_id": "7fef664798ef43b0950bdcecf29bbd8b",
       "version_major": 2,
       "version_minor": 0
      },
      "text/plain": [
       "  0%|          | 0/4 [00:00<?, ?it/s]"
      ]
     },
     "metadata": {},
     "output_type": "display_data"
    },
    {
     "name": "stderr",
     "output_type": "stream",
     "text": [
      "11:26:06 - cmdstanpy - INFO - Chain [1] start processing\n",
      "11:26:06 - cmdstanpy - INFO - Chain [1] done processing\n",
      "11:26:07 - cmdstanpy - INFO - Chain [1] start processing\n",
      "11:26:07 - cmdstanpy - INFO - Chain [1] done processing\n",
      "11:26:07 - cmdstanpy - INFO - Chain [1] start processing\n",
      "11:26:07 - cmdstanpy - INFO - Chain [1] done processing\n",
      "11:26:07 - cmdstanpy - ERROR - Chain [1] error: error during processing Stale NFS file handle\n",
      "Optimization terminated abnormally. Falling back to Newton.\n",
      "11:26:07 - cmdstanpy - INFO - Chain [1] start processing\n",
      "11:26:08 - cmdstanpy - INFO - Chain [1] done processing\n",
      "11:26:08 - cmdstanpy - INFO - Chain [1] start processing\n",
      "11:26:08 - cmdstanpy - INFO - Chain [1] done processing\n",
      "11:26:09 - cmdstanpy - INFO - Chain [1] start processing\n",
      "11:26:09 - cmdstanpy - INFO - Chain [1] done processing\n",
      "11:26:09 - cmdstanpy - ERROR - Chain [1] error: error during processing Stale NFS file handle\n",
      "Optimization terminated abnormally. Falling back to Newton.\n",
      "11:26:09 - cmdstanpy - INFO - Chain [1] start processing\n",
      "11:26:09 - cmdstanpy - INFO - Chain [1] done processing\n"
     ]
    },
    {
     "data": {
      "application/vnd.jupyter.widget-view+json": {
       "model_id": "8abfc850fe544aad85bc5250708f4004",
       "version_major": 2,
       "version_minor": 0
      },
      "text/plain": [
       "  0%|          | 0/4 [00:00<?, ?it/s]"
      ]
     },
     "metadata": {},
     "output_type": "display_data"
    },
    {
     "name": "stderr",
     "output_type": "stream",
     "text": [
      "11:26:09 - cmdstanpy - INFO - Chain [1] start processing\n",
      "11:26:09 - cmdstanpy - INFO - Chain [1] done processing\n",
      "11:26:10 - cmdstanpy - INFO - Chain [1] start processing\n",
      "11:26:10 - cmdstanpy - INFO - Chain [1] done processing\n",
      "11:26:11 - cmdstanpy - INFO - Chain [1] start processing\n",
      "11:26:11 - cmdstanpy - INFO - Chain [1] done processing\n",
      "11:26:11 - cmdstanpy - ERROR - Chain [1] error: error during processing Stale NFS file handle\n",
      "Optimization terminated abnormally. Falling back to Newton.\n",
      "11:26:11 - cmdstanpy - INFO - Chain [1] start processing\n",
      "11:26:11 - cmdstanpy - INFO - Chain [1] done processing\n",
      "11:26:12 - cmdstanpy - INFO - Chain [1] start processing\n",
      "11:26:12 - cmdstanpy - INFO - Chain [1] done processing\n",
      "11:26:12 - cmdstanpy - INFO - Chain [1] start processing\n",
      "11:26:12 - cmdstanpy - INFO - Chain [1] done processing\n",
      "11:26:12 - cmdstanpy - ERROR - Chain [1] error: error during processing Stale NFS file handle\n",
      "Optimization terminated abnormally. Falling back to Newton.\n",
      "11:26:12 - cmdstanpy - INFO - Chain [1] start processing\n",
      "11:26:13 - cmdstanpy - INFO - Chain [1] done processing\n"
     ]
    },
    {
     "data": {
      "application/vnd.jupyter.widget-view+json": {
       "model_id": "05bca91fe3ad432abe003f593fa0351d",
       "version_major": 2,
       "version_minor": 0
      },
      "text/plain": [
       "  0%|          | 0/4 [00:00<?, ?it/s]"
      ]
     },
     "metadata": {},
     "output_type": "display_data"
    },
    {
     "name": "stderr",
     "output_type": "stream",
     "text": [
      "11:26:13 - cmdstanpy - INFO - Chain [1] start processing\n",
      "11:26:13 - cmdstanpy - INFO - Chain [1] done processing\n",
      "11:26:14 - cmdstanpy - INFO - Chain [1] start processing\n",
      "11:26:14 - cmdstanpy - INFO - Chain [1] done processing\n",
      "11:26:15 - cmdstanpy - INFO - Chain [1] start processing\n",
      "11:26:15 - cmdstanpy - INFO - Chain [1] done processing\n",
      "11:26:15 - cmdstanpy - ERROR - Chain [1] error: error during processing Stale NFS file handle\n",
      "Optimization terminated abnormally. Falling back to Newton.\n",
      "11:26:15 - cmdstanpy - INFO - Chain [1] start processing\n",
      "11:26:16 - cmdstanpy - INFO - Chain [1] done processing\n",
      "11:26:16 - cmdstanpy - INFO - Chain [1] start processing\n",
      "11:26:16 - cmdstanpy - INFO - Chain [1] done processing\n",
      "11:26:17 - cmdstanpy - INFO - Chain [1] start processing\n",
      "11:26:17 - cmdstanpy - INFO - Chain [1] done processing\n",
      "11:26:17 - cmdstanpy - ERROR - Chain [1] error: error during processing Stale NFS file handle\n",
      "Optimization terminated abnormally. Falling back to Newton.\n",
      "11:26:17 - cmdstanpy - INFO - Chain [1] start processing\n",
      "11:26:17 - cmdstanpy - INFO - Chain [1] done processing\n"
     ]
    },
    {
     "data": {
      "application/vnd.jupyter.widget-view+json": {
       "model_id": "ec86055b10bb43eb9233ac2ea662034e",
       "version_major": 2,
       "version_minor": 0
      },
      "text/plain": [
       "  0%|          | 0/4 [00:00<?, ?it/s]"
      ]
     },
     "metadata": {},
     "output_type": "display_data"
    },
    {
     "name": "stderr",
     "output_type": "stream",
     "text": [
      "11:26:17 - cmdstanpy - INFO - Chain [1] start processing\n",
      "11:26:18 - cmdstanpy - INFO - Chain [1] done processing\n",
      "11:26:19 - cmdstanpy - INFO - Chain [1] start processing\n",
      "11:26:19 - cmdstanpy - INFO - Chain [1] done processing\n",
      "11:26:19 - cmdstanpy - INFO - Chain [1] start processing\n",
      "11:26:19 - cmdstanpy - INFO - Chain [1] done processing\n",
      "11:26:19 - cmdstanpy - ERROR - Chain [1] error: error during processing Stale NFS file handle\n",
      "Optimization terminated abnormally. Falling back to Newton.\n",
      "11:26:19 - cmdstanpy - INFO - Chain [1] start processing\n",
      "11:26:20 - cmdstanpy - INFO - Chain [1] done processing\n",
      "11:26:21 - cmdstanpy - INFO - Chain [1] start processing\n",
      "11:26:21 - cmdstanpy - INFO - Chain [1] done processing\n",
      "11:26:22 - cmdstanpy - INFO - Chain [1] start processing\n",
      "11:26:22 - cmdstanpy - INFO - Chain [1] done processing\n",
      "11:26:22 - cmdstanpy - ERROR - Chain [1] error: error during processing Stale NFS file handle\n",
      "Optimization terminated abnormally. Falling back to Newton.\n",
      "11:26:22 - cmdstanpy - INFO - Chain [1] start processing\n",
      "11:26:22 - cmdstanpy - INFO - Chain [1] done processing\n"
     ]
    },
    {
     "data": {
      "application/vnd.jupyter.widget-view+json": {
       "model_id": "bb502520dd7446688ce671ca705412d4",
       "version_major": 2,
       "version_minor": 0
      },
      "text/plain": [
       "  0%|          | 0/4 [00:00<?, ?it/s]"
      ]
     },
     "metadata": {},
     "output_type": "display_data"
    },
    {
     "name": "stderr",
     "output_type": "stream",
     "text": [
      "11:26:22 - cmdstanpy - INFO - Chain [1] start processing\n",
      "11:26:23 - cmdstanpy - INFO - Chain [1] done processing\n",
      "11:26:23 - cmdstanpy - INFO - Chain [1] start processing\n",
      "11:26:23 - cmdstanpy - INFO - Chain [1] done processing\n",
      "11:26:24 - cmdstanpy - INFO - Chain [1] start processing\n",
      "11:26:24 - cmdstanpy - INFO - Chain [1] done processing\n",
      "11:26:24 - cmdstanpy - ERROR - Chain [1] error: error during processing Stale NFS file handle\n",
      "Optimization terminated abnormally. Falling back to Newton.\n",
      "11:26:24 - cmdstanpy - INFO - Chain [1] start processing\n",
      "11:26:25 - cmdstanpy - INFO - Chain [1] done processing\n",
      "11:26:26 - cmdstanpy - INFO - Chain [1] start processing\n",
      "11:26:26 - cmdstanpy - INFO - Chain [1] done processing\n",
      "11:26:27 - cmdstanpy - INFO - Chain [1] start processing\n",
      "11:26:27 - cmdstanpy - INFO - Chain [1] done processing\n",
      "11:26:27 - cmdstanpy - ERROR - Chain [1] error: error during processing Stale NFS file handle\n",
      "Optimization terminated abnormally. Falling back to Newton.\n",
      "11:26:27 - cmdstanpy - INFO - Chain [1] start processing\n",
      "11:26:27 - cmdstanpy - INFO - Chain [1] done processing\n"
     ]
    },
    {
     "data": {
      "application/vnd.jupyter.widget-view+json": {
       "model_id": "92291516d14942238cf9a759e4eaf1bc",
       "version_major": 2,
       "version_minor": 0
      },
      "text/plain": [
       "  0%|          | 0/4 [00:00<?, ?it/s]"
      ]
     },
     "metadata": {},
     "output_type": "display_data"
    },
    {
     "name": "stderr",
     "output_type": "stream",
     "text": [
      "11:26:27 - cmdstanpy - INFO - Chain [1] start processing\n",
      "11:26:28 - cmdstanpy - INFO - Chain [1] done processing\n",
      "11:26:28 - cmdstanpy - INFO - Chain [1] start processing\n",
      "11:26:28 - cmdstanpy - INFO - Chain [1] done processing\n",
      "11:26:29 - cmdstanpy - INFO - Chain [1] start processing\n",
      "11:26:29 - cmdstanpy - INFO - Chain [1] done processing\n",
      "11:26:29 - cmdstanpy - ERROR - Chain [1] error: error during processing Stale NFS file handle\n",
      "Optimization terminated abnormally. Falling back to Newton.\n",
      "11:26:29 - cmdstanpy - INFO - Chain [1] start processing\n",
      "11:26:30 - cmdstanpy - INFO - Chain [1] done processing\n",
      "11:26:31 - cmdstanpy - INFO - Chain [1] start processing\n",
      "11:26:31 - cmdstanpy - INFO - Chain [1] done processing\n",
      "11:26:31 - cmdstanpy - INFO - Chain [1] start processing\n",
      "11:26:31 - cmdstanpy - INFO - Chain [1] done processing\n",
      "11:26:31 - cmdstanpy - ERROR - Chain [1] error: error during processing Stale NFS file handle\n",
      "Optimization terminated abnormally. Falling back to Newton.\n",
      "11:26:31 - cmdstanpy - INFO - Chain [1] start processing\n",
      "11:26:32 - cmdstanpy - INFO - Chain [1] done processing\n"
     ]
    },
    {
     "data": {
      "application/vnd.jupyter.widget-view+json": {
       "model_id": "f5af3c3d0fd94141964ddb363915a08d",
       "version_major": 2,
       "version_minor": 0
      },
      "text/plain": [
       "  0%|          | 0/4 [00:00<?, ?it/s]"
      ]
     },
     "metadata": {},
     "output_type": "display_data"
    },
    {
     "name": "stderr",
     "output_type": "stream",
     "text": [
      "11:26:32 - cmdstanpy - INFO - Chain [1] start processing\n",
      "11:26:32 - cmdstanpy - INFO - Chain [1] done processing\n",
      "11:26:33 - cmdstanpy - INFO - Chain [1] start processing\n",
      "11:26:33 - cmdstanpy - INFO - Chain [1] done processing\n",
      "11:26:34 - cmdstanpy - INFO - Chain [1] start processing\n",
      "11:26:34 - cmdstanpy - INFO - Chain [1] done processing\n",
      "11:26:34 - cmdstanpy - ERROR - Chain [1] error: error during processing Stale NFS file handle\n",
      "Optimization terminated abnormally. Falling back to Newton.\n",
      "11:26:34 - cmdstanpy - INFO - Chain [1] start processing\n",
      "11:26:34 - cmdstanpy - INFO - Chain [1] done processing\n",
      "11:26:35 - cmdstanpy - INFO - Chain [1] start processing\n",
      "11:26:35 - cmdstanpy - INFO - Chain [1] done processing\n",
      "11:26:36 - cmdstanpy - INFO - Chain [1] start processing\n",
      "11:26:36 - cmdstanpy - INFO - Chain [1] done processing\n",
      "11:26:36 - cmdstanpy - ERROR - Chain [1] error: error during processing Stale NFS file handle\n",
      "Optimization terminated abnormally. Falling back to Newton.\n",
      "11:26:36 - cmdstanpy - INFO - Chain [1] start processing\n",
      "11:26:36 - cmdstanpy - INFO - Chain [1] done processing\n"
     ]
    },
    {
     "data": {
      "application/vnd.jupyter.widget-view+json": {
       "model_id": "7720a72eb1494f75b79e1f14a54ebfae",
       "version_major": 2,
       "version_minor": 0
      },
      "text/plain": [
       "  0%|          | 0/4 [00:00<?, ?it/s]"
      ]
     },
     "metadata": {},
     "output_type": "display_data"
    },
    {
     "name": "stderr",
     "output_type": "stream",
     "text": [
      "11:26:36 - cmdstanpy - INFO - Chain [1] start processing\n",
      "11:26:37 - cmdstanpy - INFO - Chain [1] done processing\n",
      "11:26:37 - cmdstanpy - INFO - Chain [1] start processing\n",
      "11:26:37 - cmdstanpy - INFO - Chain [1] done processing\n",
      "11:26:38 - cmdstanpy - INFO - Chain [1] start processing\n",
      "11:26:38 - cmdstanpy - INFO - Chain [1] done processing\n",
      "11:26:38 - cmdstanpy - ERROR - Chain [1] error: error during processing Stale NFS file handle\n",
      "Optimization terminated abnormally. Falling back to Newton.\n",
      "11:26:38 - cmdstanpy - INFO - Chain [1] start processing\n",
      "11:26:38 - cmdstanpy - INFO - Chain [1] done processing\n",
      "11:26:39 - cmdstanpy - INFO - Chain [1] start processing\n",
      "11:26:39 - cmdstanpy - INFO - Chain [1] done processing\n",
      "11:26:40 - cmdstanpy - INFO - Chain [1] start processing\n",
      "11:26:40 - cmdstanpy - INFO - Chain [1] done processing\n",
      "11:26:40 - cmdstanpy - ERROR - Chain [1] error: error during processing Stale NFS file handle\n",
      "Optimization terminated abnormally. Falling back to Newton.\n",
      "11:26:40 - cmdstanpy - INFO - Chain [1] start processing\n",
      "11:26:40 - cmdstanpy - INFO - Chain [1] done processing\n"
     ]
    },
    {
     "data": {
      "application/vnd.jupyter.widget-view+json": {
       "model_id": "a86b6a0cbe8842099c23fa510b793e54",
       "version_major": 2,
       "version_minor": 0
      },
      "text/plain": [
       "  0%|          | 0/4 [00:00<?, ?it/s]"
      ]
     },
     "metadata": {},
     "output_type": "display_data"
    },
    {
     "name": "stderr",
     "output_type": "stream",
     "text": [
      "11:26:40 - cmdstanpy - INFO - Chain [1] start processing\n",
      "11:26:41 - cmdstanpy - INFO - Chain [1] done processing\n",
      "11:26:41 - cmdstanpy - INFO - Chain [1] start processing\n",
      "11:26:41 - cmdstanpy - INFO - Chain [1] done processing\n",
      "11:26:42 - cmdstanpy - INFO - Chain [1] start processing\n",
      "11:26:42 - cmdstanpy - INFO - Chain [1] done processing\n",
      "11:26:42 - cmdstanpy - ERROR - Chain [1] error: error during processing Stale NFS file handle\n",
      "Optimization terminated abnormally. Falling back to Newton.\n",
      "11:26:42 - cmdstanpy - INFO - Chain [1] start processing\n",
      "11:26:42 - cmdstanpy - INFO - Chain [1] done processing\n",
      "11:26:43 - cmdstanpy - INFO - Chain [1] start processing\n",
      "11:26:43 - cmdstanpy - INFO - Chain [1] done processing\n",
      "11:26:44 - cmdstanpy - INFO - Chain [1] start processing\n",
      "11:26:44 - cmdstanpy - INFO - Chain [1] done processing\n",
      "11:26:44 - cmdstanpy - ERROR - Chain [1] error: error during processing Stale NFS file handle\n",
      "Optimization terminated abnormally. Falling back to Newton.\n",
      "11:26:44 - cmdstanpy - INFO - Chain [1] start processing\n",
      "11:26:44 - cmdstanpy - INFO - Chain [1] done processing\n"
     ]
    },
    {
     "data": {
      "application/vnd.jupyter.widget-view+json": {
       "model_id": "90bc14efdd774998adf40ac8202617c6",
       "version_major": 2,
       "version_minor": 0
      },
      "text/plain": [
       "  0%|          | 0/4 [00:00<?, ?it/s]"
      ]
     },
     "metadata": {},
     "output_type": "display_data"
    },
    {
     "name": "stderr",
     "output_type": "stream",
     "text": [
      "11:26:45 - cmdstanpy - INFO - Chain [1] start processing\n",
      "11:26:45 - cmdstanpy - INFO - Chain [1] done processing\n",
      "11:26:45 - cmdstanpy - INFO - Chain [1] start processing\n",
      "11:26:45 - cmdstanpy - INFO - Chain [1] done processing\n",
      "11:26:46 - cmdstanpy - INFO - Chain [1] start processing\n",
      "11:26:46 - cmdstanpy - INFO - Chain [1] done processing\n",
      "11:26:46 - cmdstanpy - ERROR - Chain [1] error: error during processing Stale NFS file handle\n",
      "Optimization terminated abnormally. Falling back to Newton.\n",
      "11:26:46 - cmdstanpy - INFO - Chain [1] start processing\n",
      "11:26:47 - cmdstanpy - INFO - Chain [1] done processing\n",
      "11:26:47 - cmdstanpy - INFO - Chain [1] start processing\n",
      "11:26:47 - cmdstanpy - INFO - Chain [1] done processing\n",
      "11:26:48 - cmdstanpy - INFO - Chain [1] start processing\n",
      "11:26:48 - cmdstanpy - INFO - Chain [1] done processing\n"
     ]
    },
    {
     "data": {
      "application/vnd.jupyter.widget-view+json": {
       "model_id": "c9dd89b7b1284dbaa02a816be984611f",
       "version_major": 2,
       "version_minor": 0
      },
      "text/plain": [
       "  0%|          | 0/4 [00:00<?, ?it/s]"
      ]
     },
     "metadata": {},
     "output_type": "display_data"
    },
    {
     "name": "stderr",
     "output_type": "stream",
     "text": [
      "11:26:48 - cmdstanpy - INFO - Chain [1] start processing\n",
      "11:26:48 - cmdstanpy - INFO - Chain [1] done processing\n",
      "11:26:49 - cmdstanpy - INFO - Chain [1] start processing\n",
      "11:26:49 - cmdstanpy - INFO - Chain [1] done processing\n",
      "11:26:49 - cmdstanpy - INFO - Chain [1] start processing\n",
      "11:26:49 - cmdstanpy - INFO - Chain [1] done processing\n",
      "11:26:50 - cmdstanpy - INFO - Chain [1] start processing\n",
      "11:26:50 - cmdstanpy - INFO - Chain [1] done processing\n",
      "11:26:51 - cmdstanpy - INFO - Chain [1] start processing\n",
      "11:26:51 - cmdstanpy - INFO - Chain [1] done processing\n"
     ]
    },
    {
     "data": {
      "application/vnd.jupyter.widget-view+json": {
       "model_id": "bb952526459d4a01ac157c361c6f646f",
       "version_major": 2,
       "version_minor": 0
      },
      "text/plain": [
       "  0%|          | 0/4 [00:00<?, ?it/s]"
      ]
     },
     "metadata": {},
     "output_type": "display_data"
    },
    {
     "name": "stderr",
     "output_type": "stream",
     "text": [
      "11:26:51 - cmdstanpy - INFO - Chain [1] start processing\n",
      "11:26:51 - cmdstanpy - INFO - Chain [1] done processing\n",
      "11:26:52 - cmdstanpy - INFO - Chain [1] start processing\n",
      "11:26:52 - cmdstanpy - INFO - Chain [1] done processing\n",
      "11:26:52 - cmdstanpy - INFO - Chain [1] start processing\n",
      "11:26:52 - cmdstanpy - INFO - Chain [1] done processing\n",
      "11:26:53 - cmdstanpy - INFO - Chain [1] start processing\n",
      "11:26:53 - cmdstanpy - INFO - Chain [1] done processing\n",
      "11:26:53 - cmdstanpy - INFO - Chain [1] start processing\n",
      "11:26:54 - cmdstanpy - INFO - Chain [1] done processing\n"
     ]
    },
    {
     "data": {
      "application/vnd.jupyter.widget-view+json": {
       "model_id": "142962f1a9f14a58a26401d91864436e",
       "version_major": 2,
       "version_minor": 0
      },
      "text/plain": [
       "  0%|          | 0/4 [00:00<?, ?it/s]"
      ]
     },
     "metadata": {},
     "output_type": "display_data"
    },
    {
     "name": "stderr",
     "output_type": "stream",
     "text": [
      "11:26:54 - cmdstanpy - INFO - Chain [1] start processing\n",
      "11:26:54 - cmdstanpy - INFO - Chain [1] done processing\n",
      "11:26:54 - cmdstanpy - INFO - Chain [1] start processing\n",
      "11:26:54 - cmdstanpy - INFO - Chain [1] done processing\n",
      "11:26:55 - cmdstanpy - INFO - Chain [1] start processing\n",
      "11:26:55 - cmdstanpy - INFO - Chain [1] done processing\n",
      "11:26:56 - cmdstanpy - INFO - Chain [1] start processing\n",
      "11:26:56 - cmdstanpy - INFO - Chain [1] done processing\n",
      "11:26:56 - cmdstanpy - INFO - Chain [1] start processing\n",
      "11:26:56 - cmdstanpy - INFO - Chain [1] done processing\n"
     ]
    },
    {
     "data": {
      "application/vnd.jupyter.widget-view+json": {
       "model_id": "e56810aec44e457a810e74bb44aa352e",
       "version_major": 2,
       "version_minor": 0
      },
      "text/plain": [
       "  0%|          | 0/4 [00:00<?, ?it/s]"
      ]
     },
     "metadata": {},
     "output_type": "display_data"
    },
    {
     "name": "stderr",
     "output_type": "stream",
     "text": [
      "11:26:56 - cmdstanpy - INFO - Chain [1] start processing\n",
      "11:26:56 - cmdstanpy - INFO - Chain [1] done processing\n",
      "11:26:57 - cmdstanpy - INFO - Chain [1] start processing\n",
      "11:26:57 - cmdstanpy - INFO - Chain [1] done processing\n",
      "11:26:58 - cmdstanpy - INFO - Chain [1] start processing\n",
      "11:26:58 - cmdstanpy - INFO - Chain [1] done processing\n",
      "11:26:58 - cmdstanpy - INFO - Chain [1] start processing\n",
      "11:26:58 - cmdstanpy - INFO - Chain [1] done processing\n",
      "11:26:59 - cmdstanpy - INFO - Chain [1] start processing\n",
      "11:26:59 - cmdstanpy - INFO - Chain [1] done processing\n"
     ]
    },
    {
     "data": {
      "application/vnd.jupyter.widget-view+json": {
       "model_id": "6574a963ed124e10bc1ed559f72d89e9",
       "version_major": 2,
       "version_minor": 0
      },
      "text/plain": [
       "  0%|          | 0/4 [00:00<?, ?it/s]"
      ]
     },
     "metadata": {},
     "output_type": "display_data"
    },
    {
     "name": "stderr",
     "output_type": "stream",
     "text": [
      "11:26:59 - cmdstanpy - INFO - Chain [1] start processing\n",
      "11:26:59 - cmdstanpy - INFO - Chain [1] done processing\n",
      "11:27:00 - cmdstanpy - INFO - Chain [1] start processing\n",
      "11:27:00 - cmdstanpy - INFO - Chain [1] done processing\n",
      "11:27:01 - cmdstanpy - INFO - Chain [1] start processing\n",
      "11:27:01 - cmdstanpy - INFO - Chain [1] done processing\n",
      "11:27:01 - cmdstanpy - INFO - Chain [1] start processing\n",
      "11:27:01 - cmdstanpy - INFO - Chain [1] done processing\n",
      "11:27:02 - cmdstanpy - INFO - Chain [1] start processing\n",
      "11:27:02 - cmdstanpy - INFO - Chain [1] done processing\n"
     ]
    },
    {
     "data": {
      "application/vnd.jupyter.widget-view+json": {
       "model_id": "b40f2a3e88dc4385ae5feeb290a7e612",
       "version_major": 2,
       "version_minor": 0
      },
      "text/plain": [
       "  0%|          | 0/4 [00:00<?, ?it/s]"
      ]
     },
     "metadata": {},
     "output_type": "display_data"
    },
    {
     "name": "stderr",
     "output_type": "stream",
     "text": [
      "11:27:02 - cmdstanpy - INFO - Chain [1] start processing\n",
      "11:27:02 - cmdstanpy - INFO - Chain [1] done processing\n",
      "11:27:03 - cmdstanpy - INFO - Chain [1] start processing\n",
      "11:27:03 - cmdstanpy - INFO - Chain [1] done processing\n",
      "11:27:04 - cmdstanpy - INFO - Chain [1] start processing\n",
      "11:27:04 - cmdstanpy - INFO - Chain [1] done processing\n",
      "11:27:05 - cmdstanpy - INFO - Chain [1] start processing\n",
      "11:27:05 - cmdstanpy - INFO - Chain [1] done processing\n",
      "11:27:06 - cmdstanpy - INFO - Chain [1] start processing\n",
      "11:27:06 - cmdstanpy - INFO - Chain [1] done processing\n"
     ]
    },
    {
     "data": {
      "application/vnd.jupyter.widget-view+json": {
       "model_id": "ded0dcd62d0f4a71aaec78dbfb9daad9",
       "version_major": 2,
       "version_minor": 0
      },
      "text/plain": [
       "  0%|          | 0/4 [00:00<?, ?it/s]"
      ]
     },
     "metadata": {},
     "output_type": "display_data"
    },
    {
     "name": "stderr",
     "output_type": "stream",
     "text": [
      "11:27:06 - cmdstanpy - INFO - Chain [1] start processing\n",
      "11:27:06 - cmdstanpy - INFO - Chain [1] done processing\n",
      "11:27:07 - cmdstanpy - INFO - Chain [1] start processing\n",
      "11:27:07 - cmdstanpy - INFO - Chain [1] done processing\n",
      "11:27:08 - cmdstanpy - INFO - Chain [1] start processing\n",
      "11:27:08 - cmdstanpy - INFO - Chain [1] done processing\n",
      "11:27:09 - cmdstanpy - INFO - Chain [1] start processing\n",
      "11:27:09 - cmdstanpy - INFO - Chain [1] done processing\n",
      "11:27:10 - cmdstanpy - INFO - Chain [1] start processing\n",
      "11:27:10 - cmdstanpy - INFO - Chain [1] done processing\n"
     ]
    },
    {
     "data": {
      "application/vnd.jupyter.widget-view+json": {
       "model_id": "886eabaa8e5b43edbc026d39ad8331e5",
       "version_major": 2,
       "version_minor": 0
      },
      "text/plain": [
       "  0%|          | 0/4 [00:00<?, ?it/s]"
      ]
     },
     "metadata": {},
     "output_type": "display_data"
    },
    {
     "name": "stderr",
     "output_type": "stream",
     "text": [
      "11:27:10 - cmdstanpy - INFO - Chain [1] start processing\n",
      "11:27:10 - cmdstanpy - INFO - Chain [1] done processing\n",
      "11:27:11 - cmdstanpy - INFO - Chain [1] start processing\n",
      "11:27:11 - cmdstanpy - INFO - Chain [1] done processing\n",
      "11:27:11 - cmdstanpy - INFO - Chain [1] start processing\n",
      "11:27:11 - cmdstanpy - INFO - Chain [1] done processing\n",
      "11:27:13 - cmdstanpy - INFO - Chain [1] start processing\n",
      "11:27:13 - cmdstanpy - INFO - Chain [1] done processing\n",
      "11:27:14 - cmdstanpy - INFO - Chain [1] start processing\n",
      "11:27:14 - cmdstanpy - INFO - Chain [1] done processing\n"
     ]
    },
    {
     "data": {
      "application/vnd.jupyter.widget-view+json": {
       "model_id": "b08c8a18b7814b31906a123b9eaca2dd",
       "version_major": 2,
       "version_minor": 0
      },
      "text/plain": [
       "  0%|          | 0/4 [00:00<?, ?it/s]"
      ]
     },
     "metadata": {},
     "output_type": "display_data"
    },
    {
     "name": "stderr",
     "output_type": "stream",
     "text": [
      "11:27:14 - cmdstanpy - INFO - Chain [1] start processing\n",
      "11:27:14 - cmdstanpy - INFO - Chain [1] done processing\n",
      "11:27:15 - cmdstanpy - INFO - Chain [1] start processing\n",
      "11:27:15 - cmdstanpy - INFO - Chain [1] done processing\n",
      "11:27:16 - cmdstanpy - INFO - Chain [1] start processing\n",
      "11:27:16 - cmdstanpy - INFO - Chain [1] done processing\n",
      "11:27:16 - cmdstanpy - INFO - Chain [1] start processing\n",
      "11:27:17 - cmdstanpy - INFO - Chain [1] done processing\n",
      "11:27:17 - cmdstanpy - INFO - Chain [1] start processing\n",
      "11:27:17 - cmdstanpy - INFO - Chain [1] done processing\n"
     ]
    },
    {
     "data": {
      "application/vnd.jupyter.widget-view+json": {
       "model_id": "c3c2575dc6b84a3295b772452fb01e35",
       "version_major": 2,
       "version_minor": 0
      },
      "text/plain": [
       "  0%|          | 0/4 [00:00<?, ?it/s]"
      ]
     },
     "metadata": {},
     "output_type": "display_data"
    },
    {
     "name": "stderr",
     "output_type": "stream",
     "text": [
      "11:27:17 - cmdstanpy - INFO - Chain [1] start processing\n",
      "11:27:17 - cmdstanpy - INFO - Chain [1] done processing\n",
      "11:27:18 - cmdstanpy - INFO - Chain [1] start processing\n",
      "11:27:18 - cmdstanpy - INFO - Chain [1] done processing\n",
      "11:27:19 - cmdstanpy - INFO - Chain [1] start processing\n",
      "11:27:19 - cmdstanpy - INFO - Chain [1] done processing\n",
      "11:27:20 - cmdstanpy - INFO - Chain [1] start processing\n",
      "11:27:20 - cmdstanpy - INFO - Chain [1] done processing\n",
      "11:27:21 - cmdstanpy - INFO - Chain [1] start processing\n",
      "11:27:21 - cmdstanpy - INFO - Chain [1] done processing\n"
     ]
    },
    {
     "data": {
      "application/vnd.jupyter.widget-view+json": {
       "model_id": "abc45e0e388647ccb96b549adedabaf3",
       "version_major": 2,
       "version_minor": 0
      },
      "text/plain": [
       "  0%|          | 0/4 [00:00<?, ?it/s]"
      ]
     },
     "metadata": {},
     "output_type": "display_data"
    },
    {
     "name": "stderr",
     "output_type": "stream",
     "text": [
      "11:27:21 - cmdstanpy - INFO - Chain [1] start processing\n",
      "11:27:21 - cmdstanpy - INFO - Chain [1] done processing\n",
      "11:27:22 - cmdstanpy - INFO - Chain [1] start processing\n",
      "11:27:22 - cmdstanpy - INFO - Chain [1] done processing\n",
      "11:27:23 - cmdstanpy - INFO - Chain [1] start processing\n",
      "11:27:23 - cmdstanpy - INFO - Chain [1] done processing\n",
      "11:27:23 - cmdstanpy - INFO - Chain [1] start processing\n",
      "11:27:23 - cmdstanpy - INFO - Chain [1] done processing\n",
      "11:27:24 - cmdstanpy - INFO - Chain [1] start processing\n",
      "11:27:24 - cmdstanpy - INFO - Chain [1] done processing\n"
     ]
    },
    {
     "data": {
      "application/vnd.jupyter.widget-view+json": {
       "model_id": "4a3f6061672c4523b77c6c03d1919982",
       "version_major": 2,
       "version_minor": 0
      },
      "text/plain": [
       "  0%|          | 0/4 [00:00<?, ?it/s]"
      ]
     },
     "metadata": {},
     "output_type": "display_data"
    },
    {
     "name": "stderr",
     "output_type": "stream",
     "text": [
      "11:27:24 - cmdstanpy - INFO - Chain [1] start processing\n",
      "11:27:24 - cmdstanpy - INFO - Chain [1] done processing\n",
      "11:27:25 - cmdstanpy - INFO - Chain [1] start processing\n",
      "11:27:25 - cmdstanpy - INFO - Chain [1] done processing\n",
      "11:27:26 - cmdstanpy - INFO - Chain [1] start processing\n",
      "11:27:26 - cmdstanpy - INFO - Chain [1] done processing\n",
      "11:27:26 - cmdstanpy - INFO - Chain [1] start processing\n",
      "11:27:26 - cmdstanpy - INFO - Chain [1] done processing\n",
      "11:27:27 - cmdstanpy - INFO - Chain [1] start processing\n",
      "11:27:27 - cmdstanpy - INFO - Chain [1] done processing\n"
     ]
    },
    {
     "data": {
      "application/vnd.jupyter.widget-view+json": {
       "model_id": "8d6eb226677742dda77b13e016d3907c",
       "version_major": 2,
       "version_minor": 0
      },
      "text/plain": [
       "  0%|          | 0/4 [00:00<?, ?it/s]"
      ]
     },
     "metadata": {},
     "output_type": "display_data"
    },
    {
     "name": "stderr",
     "output_type": "stream",
     "text": [
      "11:27:27 - cmdstanpy - INFO - Chain [1] start processing\n",
      "11:27:27 - cmdstanpy - INFO - Chain [1] done processing\n",
      "11:27:28 - cmdstanpy - INFO - Chain [1] start processing\n",
      "11:27:28 - cmdstanpy - INFO - Chain [1] done processing\n",
      "11:27:29 - cmdstanpy - INFO - Chain [1] start processing\n",
      "11:27:29 - cmdstanpy - INFO - Chain [1] done processing\n",
      "11:27:29 - cmdstanpy - INFO - Chain [1] start processing\n",
      "11:27:29 - cmdstanpy - INFO - Chain [1] done processing\n",
      "11:27:30 - cmdstanpy - INFO - Chain [1] start processing\n",
      "11:27:30 - cmdstanpy - INFO - Chain [1] done processing\n"
     ]
    },
    {
     "data": {
      "application/vnd.jupyter.widget-view+json": {
       "model_id": "d44790b570624029aa32e9d201c576ac",
       "version_major": 2,
       "version_minor": 0
      },
      "text/plain": [
       "  0%|          | 0/4 [00:00<?, ?it/s]"
      ]
     },
     "metadata": {},
     "output_type": "display_data"
    },
    {
     "name": "stderr",
     "output_type": "stream",
     "text": [
      "11:27:30 - cmdstanpy - INFO - Chain [1] start processing\n",
      "11:27:30 - cmdstanpy - INFO - Chain [1] done processing\n",
      "11:27:31 - cmdstanpy - INFO - Chain [1] start processing\n",
      "11:27:31 - cmdstanpy - INFO - Chain [1] done processing\n",
      "11:27:32 - cmdstanpy - INFO - Chain [1] start processing\n",
      "11:27:32 - cmdstanpy - INFO - Chain [1] done processing\n",
      "11:27:32 - cmdstanpy - INFO - Chain [1] start processing\n",
      "11:27:32 - cmdstanpy - INFO - Chain [1] done processing\n",
      "11:27:33 - cmdstanpy - INFO - Chain [1] start processing\n",
      "11:27:33 - cmdstanpy - INFO - Chain [1] done processing\n"
     ]
    },
    {
     "data": {
      "application/vnd.jupyter.widget-view+json": {
       "model_id": "e3022aa4458f4e618d09d9289ef52727",
       "version_major": 2,
       "version_minor": 0
      },
      "text/plain": [
       "  0%|          | 0/4 [00:00<?, ?it/s]"
      ]
     },
     "metadata": {},
     "output_type": "display_data"
    },
    {
     "name": "stderr",
     "output_type": "stream",
     "text": [
      "11:27:33 - cmdstanpy - INFO - Chain [1] start processing\n",
      "11:27:33 - cmdstanpy - INFO - Chain [1] done processing\n",
      "11:27:34 - cmdstanpy - INFO - Chain [1] start processing\n",
      "11:27:34 - cmdstanpy - INFO - Chain [1] done processing\n",
      "11:27:35 - cmdstanpy - INFO - Chain [1] start processing\n",
      "11:27:35 - cmdstanpy - INFO - Chain [1] done processing\n",
      "11:27:35 - cmdstanpy - INFO - Chain [1] start processing\n",
      "11:27:36 - cmdstanpy - INFO - Chain [1] done processing\n",
      "11:27:36 - cmdstanpy - INFO - Chain [1] start processing\n",
      "11:27:36 - cmdstanpy - INFO - Chain [1] done processing\n"
     ]
    },
    {
     "data": {
      "application/vnd.jupyter.widget-view+json": {
       "model_id": "4c2c8045602944a1a7f954604ae30d14",
       "version_major": 2,
       "version_minor": 0
      },
      "text/plain": [
       "  0%|          | 0/4 [00:00<?, ?it/s]"
      ]
     },
     "metadata": {},
     "output_type": "display_data"
    },
    {
     "name": "stderr",
     "output_type": "stream",
     "text": [
      "11:27:36 - cmdstanpy - INFO - Chain [1] start processing\n",
      "11:27:37 - cmdstanpy - INFO - Chain [1] done processing\n",
      "11:27:37 - cmdstanpy - INFO - Chain [1] start processing\n",
      "11:27:37 - cmdstanpy - INFO - Chain [1] done processing\n",
      "11:27:38 - cmdstanpy - INFO - Chain [1] start processing\n",
      "11:27:38 - cmdstanpy - INFO - Chain [1] done processing\n",
      "11:27:39 - cmdstanpy - INFO - Chain [1] start processing\n",
      "11:27:39 - cmdstanpy - INFO - Chain [1] done processing\n",
      "11:27:39 - cmdstanpy - INFO - Chain [1] start processing\n",
      "11:27:39 - cmdstanpy - INFO - Chain [1] done processing\n"
     ]
    },
    {
     "data": {
      "application/vnd.jupyter.widget-view+json": {
       "model_id": "32863672f85e475f96dd8543f0697d2f",
       "version_major": 2,
       "version_minor": 0
      },
      "text/plain": [
       "  0%|          | 0/4 [00:00<?, ?it/s]"
      ]
     },
     "metadata": {},
     "output_type": "display_data"
    },
    {
     "name": "stderr",
     "output_type": "stream",
     "text": [
      "11:27:39 - cmdstanpy - INFO - Chain [1] start processing\n",
      "11:27:40 - cmdstanpy - INFO - Chain [1] done processing\n",
      "11:27:40 - cmdstanpy - INFO - Chain [1] start processing\n",
      "11:27:40 - cmdstanpy - INFO - Chain [1] done processing\n",
      "11:27:41 - cmdstanpy - INFO - Chain [1] start processing\n",
      "11:27:41 - cmdstanpy - INFO - Chain [1] done processing\n",
      "11:27:42 - cmdstanpy - INFO - Chain [1] start processing\n",
      "11:27:42 - cmdstanpy - INFO - Chain [1] done processing\n",
      "11:27:42 - cmdstanpy - INFO - Chain [1] start processing\n",
      "11:27:43 - cmdstanpy - INFO - Chain [1] done processing\n"
     ]
    },
    {
     "data": {
      "application/vnd.jupyter.widget-view+json": {
       "model_id": "cc6dbf74893b42ebbe7588a253423db7",
       "version_major": 2,
       "version_minor": 0
      },
      "text/plain": [
       "  0%|          | 0/4 [00:00<?, ?it/s]"
      ]
     },
     "metadata": {},
     "output_type": "display_data"
    },
    {
     "name": "stderr",
     "output_type": "stream",
     "text": [
      "11:27:43 - cmdstanpy - INFO - Chain [1] start processing\n",
      "11:27:43 - cmdstanpy - INFO - Chain [1] done processing\n",
      "11:27:43 - cmdstanpy - INFO - Chain [1] start processing\n",
      "11:27:43 - cmdstanpy - INFO - Chain [1] done processing\n",
      "11:27:44 - cmdstanpy - INFO - Chain [1] start processing\n",
      "11:27:44 - cmdstanpy - INFO - Chain [1] done processing\n",
      "11:27:45 - cmdstanpy - INFO - Chain [1] start processing\n",
      "11:27:45 - cmdstanpy - INFO - Chain [1] done processing\n",
      "11:27:46 - cmdstanpy - INFO - Chain [1] start processing\n",
      "11:27:46 - cmdstanpy - INFO - Chain [1] done processing\n"
     ]
    },
    {
     "data": {
      "application/vnd.jupyter.widget-view+json": {
       "model_id": "5f220f3712854854b99fbf8c0c75d632",
       "version_major": 2,
       "version_minor": 0
      },
      "text/plain": [
       "  0%|          | 0/4 [00:00<?, ?it/s]"
      ]
     },
     "metadata": {},
     "output_type": "display_data"
    },
    {
     "name": "stderr",
     "output_type": "stream",
     "text": [
      "11:27:46 - cmdstanpy - INFO - Chain [1] start processing\n",
      "11:27:47 - cmdstanpy - INFO - Chain [1] done processing\n",
      "11:27:47 - cmdstanpy - INFO - Chain [1] start processing\n",
      "11:27:47 - cmdstanpy - INFO - Chain [1] done processing\n",
      "11:27:48 - cmdstanpy - INFO - Chain [1] start processing\n",
      "11:27:48 - cmdstanpy - INFO - Chain [1] done processing\n",
      "11:27:49 - cmdstanpy - INFO - Chain [1] start processing\n",
      "11:27:49 - cmdstanpy - INFO - Chain [1] done processing\n",
      "11:27:50 - cmdstanpy - INFO - Chain [1] start processing\n",
      "11:27:50 - cmdstanpy - INFO - Chain [1] done processing\n"
     ]
    },
    {
     "data": {
      "application/vnd.jupyter.widget-view+json": {
       "model_id": "7c4df6b7c4084f73863fa8849e15e705",
       "version_major": 2,
       "version_minor": 0
      },
      "text/plain": [
       "  0%|          | 0/4 [00:00<?, ?it/s]"
      ]
     },
     "metadata": {},
     "output_type": "display_data"
    },
    {
     "name": "stderr",
     "output_type": "stream",
     "text": [
      "11:27:50 - cmdstanpy - INFO - Chain [1] start processing\n",
      "11:27:50 - cmdstanpy - INFO - Chain [1] done processing\n",
      "11:27:51 - cmdstanpy - INFO - Chain [1] start processing\n",
      "11:27:51 - cmdstanpy - INFO - Chain [1] done processing\n",
      "11:27:52 - cmdstanpy - INFO - Chain [1] start processing\n",
      "11:27:52 - cmdstanpy - INFO - Chain [1] done processing\n",
      "11:27:52 - cmdstanpy - INFO - Chain [1] start processing\n",
      "11:27:52 - cmdstanpy - INFO - Chain [1] done processing\n",
      "11:27:53 - cmdstanpy - INFO - Chain [1] start processing\n",
      "11:27:53 - cmdstanpy - INFO - Chain [1] done processing\n"
     ]
    },
    {
     "data": {
      "application/vnd.jupyter.widget-view+json": {
       "model_id": "4454a0e5279b49bbb8a493767a7d4678",
       "version_major": 2,
       "version_minor": 0
      },
      "text/plain": [
       "  0%|          | 0/4 [00:00<?, ?it/s]"
      ]
     },
     "metadata": {},
     "output_type": "display_data"
    },
    {
     "name": "stderr",
     "output_type": "stream",
     "text": [
      "11:27:53 - cmdstanpy - INFO - Chain [1] start processing\n",
      "11:27:53 - cmdstanpy - INFO - Chain [1] done processing\n",
      "11:27:54 - cmdstanpy - INFO - Chain [1] start processing\n",
      "11:27:54 - cmdstanpy - INFO - Chain [1] done processing\n",
      "11:27:55 - cmdstanpy - INFO - Chain [1] start processing\n",
      "11:27:55 - cmdstanpy - INFO - Chain [1] done processing\n",
      "11:27:56 - cmdstanpy - INFO - Chain [1] start processing\n",
      "11:27:56 - cmdstanpy - INFO - Chain [1] done processing\n",
      "11:27:56 - cmdstanpy - INFO - Chain [1] start processing\n",
      "11:27:56 - cmdstanpy - INFO - Chain [1] done processing\n"
     ]
    },
    {
     "data": {
      "application/vnd.jupyter.widget-view+json": {
       "model_id": "1cc775229665433ebb08241c09639bfb",
       "version_major": 2,
       "version_minor": 0
      },
      "text/plain": [
       "  0%|          | 0/4 [00:00<?, ?it/s]"
      ]
     },
     "metadata": {},
     "output_type": "display_data"
    },
    {
     "name": "stderr",
     "output_type": "stream",
     "text": [
      "11:27:56 - cmdstanpy - INFO - Chain [1] start processing\n",
      "11:27:57 - cmdstanpy - INFO - Chain [1] done processing\n",
      "11:27:58 - cmdstanpy - INFO - Chain [1] start processing\n",
      "11:27:58 - cmdstanpy - INFO - Chain [1] done processing\n",
      "11:27:59 - cmdstanpy - INFO - Chain [1] start processing\n",
      "11:27:59 - cmdstanpy - INFO - Chain [1] done processing\n",
      "11:28:00 - cmdstanpy - INFO - Chain [1] start processing\n",
      "11:28:00 - cmdstanpy - INFO - Chain [1] done processing\n",
      "11:28:01 - cmdstanpy - INFO - Chain [1] start processing\n",
      "11:28:01 - cmdstanpy - INFO - Chain [1] done processing\n"
     ]
    },
    {
     "data": {
      "application/vnd.jupyter.widget-view+json": {
       "model_id": "f2d0716d944f4938a349aca1a0e8ecf8",
       "version_major": 2,
       "version_minor": 0
      },
      "text/plain": [
       "  0%|          | 0/4 [00:00<?, ?it/s]"
      ]
     },
     "metadata": {},
     "output_type": "display_data"
    },
    {
     "name": "stderr",
     "output_type": "stream",
     "text": [
      "11:28:01 - cmdstanpy - INFO - Chain [1] start processing\n",
      "11:28:01 - cmdstanpy - INFO - Chain [1] done processing\n",
      "11:28:02 - cmdstanpy - INFO - Chain [1] start processing\n",
      "11:28:03 - cmdstanpy - INFO - Chain [1] done processing\n",
      "11:28:03 - cmdstanpy - INFO - Chain [1] start processing\n",
      "11:28:03 - cmdstanpy - INFO - Chain [1] done processing\n",
      "11:28:04 - cmdstanpy - INFO - Chain [1] start processing\n",
      "11:28:04 - cmdstanpy - INFO - Chain [1] done processing\n",
      "11:28:05 - cmdstanpy - INFO - Chain [1] start processing\n",
      "11:28:05 - cmdstanpy - INFO - Chain [1] done processing\n"
     ]
    },
    {
     "data": {
      "application/vnd.jupyter.widget-view+json": {
       "model_id": "054c5bb91d494731b5aee129b1c0504b",
       "version_major": 2,
       "version_minor": 0
      },
      "text/plain": [
       "  0%|          | 0/4 [00:00<?, ?it/s]"
      ]
     },
     "metadata": {},
     "output_type": "display_data"
    },
    {
     "name": "stderr",
     "output_type": "stream",
     "text": [
      "11:28:05 - cmdstanpy - INFO - Chain [1] start processing\n",
      "11:28:05 - cmdstanpy - INFO - Chain [1] done processing\n",
      "11:28:06 - cmdstanpy - INFO - Chain [1] start processing\n",
      "11:28:06 - cmdstanpy - INFO - Chain [1] done processing\n",
      "11:28:07 - cmdstanpy - INFO - Chain [1] start processing\n",
      "11:28:07 - cmdstanpy - INFO - Chain [1] done processing\n",
      "11:28:08 - cmdstanpy - INFO - Chain [1] start processing\n",
      "11:28:08 - cmdstanpy - INFO - Chain [1] done processing\n",
      "11:28:08 - cmdstanpy - INFO - Chain [1] start processing\n",
      "11:28:08 - cmdstanpy - INFO - Chain [1] done processing\n"
     ]
    },
    {
     "data": {
      "application/vnd.jupyter.widget-view+json": {
       "model_id": "8b4839ccfe7c46b0bd5fdb30498c9547",
       "version_major": 2,
       "version_minor": 0
      },
      "text/plain": [
       "  0%|          | 0/4 [00:00<?, ?it/s]"
      ]
     },
     "metadata": {},
     "output_type": "display_data"
    },
    {
     "name": "stderr",
     "output_type": "stream",
     "text": [
      "11:28:08 - cmdstanpy - INFO - Chain [1] start processing\n",
      "11:28:09 - cmdstanpy - INFO - Chain [1] done processing\n",
      "11:28:09 - cmdstanpy - INFO - Chain [1] start processing\n",
      "11:28:10 - cmdstanpy - INFO - Chain [1] done processing\n",
      "11:28:10 - cmdstanpy - INFO - Chain [1] start processing\n",
      "11:28:10 - cmdstanpy - INFO - Chain [1] done processing\n",
      "11:28:11 - cmdstanpy - INFO - Chain [1] start processing\n",
      "11:28:11 - cmdstanpy - INFO - Chain [1] done processing\n",
      "11:28:12 - cmdstanpy - INFO - Chain [1] start processing\n",
      "11:28:12 - cmdstanpy - INFO - Chain [1] done processing\n"
     ]
    },
    {
     "data": {
      "application/vnd.jupyter.widget-view+json": {
       "model_id": "7280968871684befafb14b2ba9ff3214",
       "version_major": 2,
       "version_minor": 0
      },
      "text/plain": [
       "  0%|          | 0/4 [00:00<?, ?it/s]"
      ]
     },
     "metadata": {},
     "output_type": "display_data"
    },
    {
     "name": "stderr",
     "output_type": "stream",
     "text": [
      "11:28:12 - cmdstanpy - INFO - Chain [1] start processing\n",
      "11:28:13 - cmdstanpy - INFO - Chain [1] done processing\n",
      "11:28:13 - cmdstanpy - INFO - Chain [1] start processing\n",
      "11:28:13 - cmdstanpy - INFO - Chain [1] done processing\n",
      "11:28:14 - cmdstanpy - INFO - Chain [1] start processing\n",
      "11:28:14 - cmdstanpy - INFO - Chain [1] done processing\n",
      "11:28:15 - cmdstanpy - INFO - Chain [1] start processing\n",
      "11:28:15 - cmdstanpy - INFO - Chain [1] done processing\n",
      "11:28:15 - cmdstanpy - INFO - Chain [1] start processing\n",
      "11:28:15 - cmdstanpy - INFO - Chain [1] done processing\n"
     ]
    },
    {
     "data": {
      "application/vnd.jupyter.widget-view+json": {
       "model_id": "1b59354aa0324e439c7a32af8ba69df5",
       "version_major": 2,
       "version_minor": 0
      },
      "text/plain": [
       "  0%|          | 0/4 [00:00<?, ?it/s]"
      ]
     },
     "metadata": {},
     "output_type": "display_data"
    },
    {
     "name": "stderr",
     "output_type": "stream",
     "text": [
      "11:28:15 - cmdstanpy - INFO - Chain [1] start processing\n",
      "11:28:16 - cmdstanpy - INFO - Chain [1] done processing\n",
      "11:28:16 - cmdstanpy - INFO - Chain [1] start processing\n",
      "11:28:16 - cmdstanpy - INFO - Chain [1] done processing\n",
      "11:28:17 - cmdstanpy - INFO - Chain [1] start processing\n",
      "11:28:17 - cmdstanpy - INFO - Chain [1] done processing\n",
      "11:28:18 - cmdstanpy - INFO - Chain [1] start processing\n",
      "11:28:18 - cmdstanpy - INFO - Chain [1] done processing\n",
      "11:28:19 - cmdstanpy - INFO - Chain [1] start processing\n",
      "11:28:19 - cmdstanpy - INFO - Chain [1] done processing\n"
     ]
    },
    {
     "data": {
      "application/vnd.jupyter.widget-view+json": {
       "model_id": "b7a6465a21c448e883a553bc37852b23",
       "version_major": 2,
       "version_minor": 0
      },
      "text/plain": [
       "  0%|          | 0/4 [00:00<?, ?it/s]"
      ]
     },
     "metadata": {},
     "output_type": "display_data"
    },
    {
     "name": "stderr",
     "output_type": "stream",
     "text": [
      "11:28:19 - cmdstanpy - INFO - Chain [1] start processing\n",
      "11:28:19 - cmdstanpy - INFO - Chain [1] done processing\n",
      "11:28:20 - cmdstanpy - INFO - Chain [1] start processing\n",
      "11:28:20 - cmdstanpy - INFO - Chain [1] done processing\n",
      "11:28:20 - cmdstanpy - INFO - Chain [1] start processing\n",
      "11:28:20 - cmdstanpy - INFO - Chain [1] done processing\n",
      "11:28:21 - cmdstanpy - INFO - Chain [1] start processing\n",
      "11:28:21 - cmdstanpy - INFO - Chain [1] done processing\n",
      "11:28:22 - cmdstanpy - INFO - Chain [1] start processing\n",
      "11:28:22 - cmdstanpy - INFO - Chain [1] done processing\n"
     ]
    },
    {
     "data": {
      "application/vnd.jupyter.widget-view+json": {
       "model_id": "1702d48811a241ccbf3bac3a0e573ac6",
       "version_major": 2,
       "version_minor": 0
      },
      "text/plain": [
       "  0%|          | 0/4 [00:00<?, ?it/s]"
      ]
     },
     "metadata": {},
     "output_type": "display_data"
    },
    {
     "name": "stderr",
     "output_type": "stream",
     "text": [
      "11:28:22 - cmdstanpy - INFO - Chain [1] start processing\n",
      "11:28:22 - cmdstanpy - INFO - Chain [1] done processing\n",
      "11:28:23 - cmdstanpy - INFO - Chain [1] start processing\n",
      "11:28:23 - cmdstanpy - INFO - Chain [1] done processing\n",
      "11:28:23 - cmdstanpy - INFO - Chain [1] start processing\n",
      "11:28:24 - cmdstanpy - INFO - Chain [1] done processing\n",
      "11:28:24 - cmdstanpy - INFO - Chain [1] start processing\n",
      "11:28:24 - cmdstanpy - INFO - Chain [1] done processing\n",
      "11:28:25 - cmdstanpy - INFO - Chain [1] start processing\n",
      "11:28:25 - cmdstanpy - INFO - Chain [1] done processing\n"
     ]
    },
    {
     "data": {
      "application/vnd.jupyter.widget-view+json": {
       "model_id": "4eca6859279c4797ad305f20734d3e6f",
       "version_major": 2,
       "version_minor": 0
      },
      "text/plain": [
       "  0%|          | 0/4 [00:00<?, ?it/s]"
      ]
     },
     "metadata": {},
     "output_type": "display_data"
    },
    {
     "name": "stderr",
     "output_type": "stream",
     "text": [
      "11:28:25 - cmdstanpy - INFO - Chain [1] start processing\n",
      "11:28:25 - cmdstanpy - INFO - Chain [1] done processing\n",
      "11:28:26 - cmdstanpy - INFO - Chain [1] start processing\n",
      "11:28:26 - cmdstanpy - INFO - Chain [1] done processing\n",
      "11:28:27 - cmdstanpy - INFO - Chain [1] start processing\n",
      "11:28:27 - cmdstanpy - INFO - Chain [1] done processing\n",
      "11:28:28 - cmdstanpy - INFO - Chain [1] start processing\n",
      "11:28:28 - cmdstanpy - INFO - Chain [1] done processing\n",
      "11:28:29 - cmdstanpy - INFO - Chain [1] start processing\n",
      "11:28:29 - cmdstanpy - INFO - Chain [1] done processing\n"
     ]
    },
    {
     "data": {
      "application/vnd.jupyter.widget-view+json": {
       "model_id": "2cce193064aa4c299d394f579fd32ebc",
       "version_major": 2,
       "version_minor": 0
      },
      "text/plain": [
       "  0%|          | 0/4 [00:00<?, ?it/s]"
      ]
     },
     "metadata": {},
     "output_type": "display_data"
    },
    {
     "name": "stderr",
     "output_type": "stream",
     "text": [
      "11:28:29 - cmdstanpy - INFO - Chain [1] start processing\n",
      "11:28:29 - cmdstanpy - INFO - Chain [1] done processing\n",
      "11:28:30 - cmdstanpy - INFO - Chain [1] start processing\n",
      "11:28:30 - cmdstanpy - INFO - Chain [1] done processing\n",
      "11:28:30 - cmdstanpy - INFO - Chain [1] start processing\n",
      "11:28:31 - cmdstanpy - INFO - Chain [1] done processing\n",
      "11:28:31 - cmdstanpy - INFO - Chain [1] start processing\n",
      "11:28:31 - cmdstanpy - INFO - Chain [1] done processing\n",
      "11:28:32 - cmdstanpy - INFO - Chain [1] start processing\n",
      "11:28:32 - cmdstanpy - INFO - Chain [1] done processing\n"
     ]
    },
    {
     "data": {
      "application/vnd.jupyter.widget-view+json": {
       "model_id": "f3d1cebb56764c8d86a34a029a99cf68",
       "version_major": 2,
       "version_minor": 0
      },
      "text/plain": [
       "  0%|          | 0/4 [00:00<?, ?it/s]"
      ]
     },
     "metadata": {},
     "output_type": "display_data"
    },
    {
     "name": "stderr",
     "output_type": "stream",
     "text": [
      "11:28:32 - cmdstanpy - INFO - Chain [1] start processing\n",
      "11:28:32 - cmdstanpy - INFO - Chain [1] done processing\n",
      "11:28:33 - cmdstanpy - INFO - Chain [1] start processing\n",
      "11:28:33 - cmdstanpy - INFO - Chain [1] done processing\n",
      "11:28:34 - cmdstanpy - INFO - Chain [1] start processing\n",
      "11:28:34 - cmdstanpy - INFO - Chain [1] done processing\n",
      "11:28:35 - cmdstanpy - INFO - Chain [1] start processing\n",
      "11:28:35 - cmdstanpy - INFO - Chain [1] done processing\n",
      "11:28:35 - cmdstanpy - INFO - Chain [1] start processing\n",
      "11:28:36 - cmdstanpy - INFO - Chain [1] done processing\n"
     ]
    },
    {
     "data": {
      "application/vnd.jupyter.widget-view+json": {
       "model_id": "7c68a3fbe1bf4a0f8f0d22c91d666a69",
       "version_major": 2,
       "version_minor": 0
      },
      "text/plain": [
       "  0%|          | 0/4 [00:00<?, ?it/s]"
      ]
     },
     "metadata": {},
     "output_type": "display_data"
    },
    {
     "name": "stderr",
     "output_type": "stream",
     "text": [
      "11:28:36 - cmdstanpy - INFO - Chain [1] start processing\n",
      "11:28:36 - cmdstanpy - INFO - Chain [1] done processing\n",
      "11:28:37 - cmdstanpy - INFO - Chain [1] start processing\n",
      "11:28:37 - cmdstanpy - INFO - Chain [1] done processing\n",
      "11:28:37 - cmdstanpy - INFO - Chain [1] start processing\n",
      "11:28:37 - cmdstanpy - INFO - Chain [1] done processing\n",
      "11:28:38 - cmdstanpy - INFO - Chain [1] start processing\n",
      "11:28:38 - cmdstanpy - INFO - Chain [1] done processing\n",
      "11:28:39 - cmdstanpy - INFO - Chain [1] start processing\n",
      "11:28:39 - cmdstanpy - INFO - Chain [1] done processing\n"
     ]
    },
    {
     "data": {
      "application/vnd.jupyter.widget-view+json": {
       "model_id": "7cb5cd6dd26e42f3a48775e79d2e3ed5",
       "version_major": 2,
       "version_minor": 0
      },
      "text/plain": [
       "  0%|          | 0/4 [00:00<?, ?it/s]"
      ]
     },
     "metadata": {},
     "output_type": "display_data"
    },
    {
     "name": "stderr",
     "output_type": "stream",
     "text": [
      "11:28:39 - cmdstanpy - INFO - Chain [1] start processing\n",
      "11:28:39 - cmdstanpy - INFO - Chain [1] done processing\n",
      "11:28:40 - cmdstanpy - INFO - Chain [1] start processing\n",
      "11:28:40 - cmdstanpy - INFO - Chain [1] done processing\n",
      "11:28:40 - cmdstanpy - INFO - Chain [1] start processing\n",
      "11:28:41 - cmdstanpy - INFO - Chain [1] done processing\n",
      "11:28:41 - cmdstanpy - INFO - Chain [1] start processing\n",
      "11:28:41 - cmdstanpy - INFO - Chain [1] done processing\n",
      "11:28:42 - cmdstanpy - INFO - Chain [1] start processing\n",
      "11:28:42 - cmdstanpy - INFO - Chain [1] done processing\n"
     ]
    },
    {
     "data": {
      "application/vnd.jupyter.widget-view+json": {
       "model_id": "17a3d879a0604824b8590be2b1f2c548",
       "version_major": 2,
       "version_minor": 0
      },
      "text/plain": [
       "  0%|          | 0/4 [00:00<?, ?it/s]"
      ]
     },
     "metadata": {},
     "output_type": "display_data"
    },
    {
     "name": "stderr",
     "output_type": "stream",
     "text": [
      "11:28:42 - cmdstanpy - INFO - Chain [1] start processing\n",
      "11:28:42 - cmdstanpy - INFO - Chain [1] done processing\n",
      "11:28:43 - cmdstanpy - INFO - Chain [1] start processing\n",
      "11:28:43 - cmdstanpy - INFO - Chain [1] done processing\n",
      "11:28:44 - cmdstanpy - INFO - Chain [1] start processing\n",
      "11:28:44 - cmdstanpy - INFO - Chain [1] done processing\n",
      "11:28:44 - cmdstanpy - INFO - Chain [1] start processing\n",
      "11:28:44 - cmdstanpy - INFO - Chain [1] done processing\n",
      "11:28:45 - cmdstanpy - INFO - Chain [1] start processing\n",
      "11:28:45 - cmdstanpy - INFO - Chain [1] done processing\n"
     ]
    },
    {
     "data": {
      "application/vnd.jupyter.widget-view+json": {
       "model_id": "228b7daa34b04a4485457d856b0c454d",
       "version_major": 2,
       "version_minor": 0
      },
      "text/plain": [
       "  0%|          | 0/4 [00:00<?, ?it/s]"
      ]
     },
     "metadata": {},
     "output_type": "display_data"
    },
    {
     "name": "stderr",
     "output_type": "stream",
     "text": [
      "11:28:46 - cmdstanpy - INFO - Chain [1] start processing\n",
      "11:28:46 - cmdstanpy - INFO - Chain [1] done processing\n",
      "11:28:47 - cmdstanpy - INFO - Chain [1] start processing\n",
      "11:28:47 - cmdstanpy - INFO - Chain [1] done processing\n",
      "11:28:48 - cmdstanpy - INFO - Chain [1] start processing\n",
      "11:28:48 - cmdstanpy - INFO - Chain [1] done processing\n",
      "11:28:49 - cmdstanpy - INFO - Chain [1] start processing\n",
      "11:28:49 - cmdstanpy - INFO - Chain [1] done processing\n",
      "11:28:49 - cmdstanpy - INFO - Chain [1] start processing\n",
      "11:28:49 - cmdstanpy - INFO - Chain [1] done processing\n"
     ]
    },
    {
     "data": {
      "application/vnd.jupyter.widget-view+json": {
       "model_id": "4a995f03e8214d0085a9f1ad7e1b4c66",
       "version_major": 2,
       "version_minor": 0
      },
      "text/plain": [
       "  0%|          | 0/4 [00:00<?, ?it/s]"
      ]
     },
     "metadata": {},
     "output_type": "display_data"
    },
    {
     "name": "stderr",
     "output_type": "stream",
     "text": [
      "11:28:49 - cmdstanpy - INFO - Chain [1] start processing\n",
      "11:28:50 - cmdstanpy - INFO - Chain [1] done processing\n",
      "11:28:51 - cmdstanpy - INFO - Chain [1] start processing\n",
      "11:28:51 - cmdstanpy - INFO - Chain [1] done processing\n",
      "11:28:51 - cmdstanpy - INFO - Chain [1] start processing\n",
      "11:28:51 - cmdstanpy - INFO - Chain [1] done processing\n",
      "11:28:52 - cmdstanpy - INFO - Chain [1] start processing\n",
      "11:28:52 - cmdstanpy - INFO - Chain [1] done processing\n",
      "11:28:53 - cmdstanpy - INFO - Chain [1] start processing\n",
      "11:28:53 - cmdstanpy - INFO - Chain [1] done processing\n"
     ]
    },
    {
     "data": {
      "application/vnd.jupyter.widget-view+json": {
       "model_id": "cf1b434b6db8450ab0b029133582f204",
       "version_major": 2,
       "version_minor": 0
      },
      "text/plain": [
       "  0%|          | 0/4 [00:00<?, ?it/s]"
      ]
     },
     "metadata": {},
     "output_type": "display_data"
    },
    {
     "name": "stderr",
     "output_type": "stream",
     "text": [
      "11:28:53 - cmdstanpy - INFO - Chain [1] start processing\n",
      "11:28:53 - cmdstanpy - INFO - Chain [1] done processing\n",
      "11:28:54 - cmdstanpy - INFO - Chain [1] start processing\n",
      "11:28:54 - cmdstanpy - INFO - Chain [1] done processing\n",
      "11:28:55 - cmdstanpy - INFO - Chain [1] start processing\n",
      "11:28:55 - cmdstanpy - INFO - Chain [1] done processing\n",
      "11:28:55 - cmdstanpy - INFO - Chain [1] start processing\n",
      "11:28:55 - cmdstanpy - INFO - Chain [1] done processing\n",
      "11:28:56 - cmdstanpy - INFO - Chain [1] start processing\n",
      "11:28:56 - cmdstanpy - INFO - Chain [1] done processing\n"
     ]
    },
    {
     "data": {
      "application/vnd.jupyter.widget-view+json": {
       "model_id": "948f521be34a472ba5cb0c9cd14f2e70",
       "version_major": 2,
       "version_minor": 0
      },
      "text/plain": [
       "  0%|          | 0/4 [00:00<?, ?it/s]"
      ]
     },
     "metadata": {},
     "output_type": "display_data"
    },
    {
     "name": "stderr",
     "output_type": "stream",
     "text": [
      "11:28:56 - cmdstanpy - INFO - Chain [1] start processing\n",
      "11:28:57 - cmdstanpy - INFO - Chain [1] done processing\n",
      "11:28:57 - cmdstanpy - INFO - Chain [1] start processing\n",
      "11:28:57 - cmdstanpy - INFO - Chain [1] done processing\n",
      "11:28:58 - cmdstanpy - INFO - Chain [1] start processing\n",
      "11:28:58 - cmdstanpy - INFO - Chain [1] done processing\n",
      "11:28:59 - cmdstanpy - INFO - Chain [1] start processing\n",
      "11:28:59 - cmdstanpy - INFO - Chain [1] done processing\n",
      "11:28:59 - cmdstanpy - INFO - Chain [1] start processing\n",
      "11:28:59 - cmdstanpy - INFO - Chain [1] done processing\n"
     ]
    },
    {
     "data": {
      "application/vnd.jupyter.widget-view+json": {
       "model_id": "71c656025a7440a3886d20e6ee8a82ed",
       "version_major": 2,
       "version_minor": 0
      },
      "text/plain": [
       "  0%|          | 0/4 [00:00<?, ?it/s]"
      ]
     },
     "metadata": {},
     "output_type": "display_data"
    },
    {
     "name": "stderr",
     "output_type": "stream",
     "text": [
      "11:28:59 - cmdstanpy - INFO - Chain [1] start processing\n",
      "11:29:00 - cmdstanpy - INFO - Chain [1] done processing\n",
      "11:29:00 - cmdstanpy - INFO - Chain [1] start processing\n",
      "11:29:00 - cmdstanpy - INFO - Chain [1] done processing\n",
      "11:29:01 - cmdstanpy - INFO - Chain [1] start processing\n",
      "11:29:01 - cmdstanpy - INFO - Chain [1] done processing\n",
      "11:29:02 - cmdstanpy - INFO - Chain [1] start processing\n",
      "11:29:02 - cmdstanpy - INFO - Chain [1] done processing\n",
      "11:29:02 - cmdstanpy - INFO - Chain [1] start processing\n",
      "11:29:03 - cmdstanpy - INFO - Chain [1] done processing\n"
     ]
    },
    {
     "data": {
      "application/vnd.jupyter.widget-view+json": {
       "model_id": "0568a3e4f7dd461d9f0588edd10b22aa",
       "version_major": 2,
       "version_minor": 0
      },
      "text/plain": [
       "  0%|          | 0/4 [00:00<?, ?it/s]"
      ]
     },
     "metadata": {},
     "output_type": "display_data"
    },
    {
     "name": "stderr",
     "output_type": "stream",
     "text": [
      "11:29:03 - cmdstanpy - INFO - Chain [1] start processing\n",
      "11:29:03 - cmdstanpy - INFO - Chain [1] done processing\n",
      "11:29:04 - cmdstanpy - INFO - Chain [1] start processing\n",
      "11:29:04 - cmdstanpy - INFO - Chain [1] done processing\n",
      "11:29:04 - cmdstanpy - INFO - Chain [1] start processing\n",
      "11:29:04 - cmdstanpy - INFO - Chain [1] done processing\n",
      "11:29:05 - cmdstanpy - INFO - Chain [1] start processing\n",
      "11:29:05 - cmdstanpy - INFO - Chain [1] done processing\n",
      "11:29:06 - cmdstanpy - INFO - Chain [1] start processing\n",
      "11:29:06 - cmdstanpy - INFO - Chain [1] done processing\n"
     ]
    },
    {
     "data": {
      "application/vnd.jupyter.widget-view+json": {
       "model_id": "42321014fa7342d8b47eef740779f21b",
       "version_major": 2,
       "version_minor": 0
      },
      "text/plain": [
       "  0%|          | 0/4 [00:00<?, ?it/s]"
      ]
     },
     "metadata": {},
     "output_type": "display_data"
    },
    {
     "name": "stderr",
     "output_type": "stream",
     "text": [
      "11:29:06 - cmdstanpy - INFO - Chain [1] start processing\n",
      "11:29:06 - cmdstanpy - INFO - Chain [1] done processing\n",
      "11:29:07 - cmdstanpy - INFO - Chain [1] start processing\n",
      "11:29:07 - cmdstanpy - INFO - Chain [1] done processing\n",
      "11:29:08 - cmdstanpy - INFO - Chain [1] start processing\n",
      "11:29:08 - cmdstanpy - INFO - Chain [1] done processing\n",
      "11:29:08 - cmdstanpy - INFO - Chain [1] start processing\n",
      "11:29:08 - cmdstanpy - INFO - Chain [1] done processing\n",
      "11:29:09 - cmdstanpy - INFO - Chain [1] start processing\n",
      "11:29:09 - cmdstanpy - INFO - Chain [1] done processing\n"
     ]
    },
    {
     "data": {
      "application/vnd.jupyter.widget-view+json": {
       "model_id": "d15736477c8d4249bc2cb8cc63a8303e",
       "version_major": 2,
       "version_minor": 0
      },
      "text/plain": [
       "  0%|          | 0/4 [00:00<?, ?it/s]"
      ]
     },
     "metadata": {},
     "output_type": "display_data"
    },
    {
     "name": "stderr",
     "output_type": "stream",
     "text": [
      "11:29:09 - cmdstanpy - INFO - Chain [1] start processing\n",
      "11:29:10 - cmdstanpy - INFO - Chain [1] done processing\n",
      "11:29:10 - cmdstanpy - INFO - Chain [1] start processing\n",
      "11:29:10 - cmdstanpy - INFO - Chain [1] done processing\n",
      "11:29:11 - cmdstanpy - INFO - Chain [1] start processing\n",
      "11:29:11 - cmdstanpy - INFO - Chain [1] done processing\n",
      "11:29:12 - cmdstanpy - INFO - Chain [1] start processing\n",
      "11:29:12 - cmdstanpy - INFO - Chain [1] done processing\n",
      "11:29:12 - cmdstanpy - INFO - Chain [1] start processing\n",
      "11:29:12 - cmdstanpy - INFO - Chain [1] done processing\n"
     ]
    },
    {
     "data": {
      "application/vnd.jupyter.widget-view+json": {
       "model_id": "0132324d6be94b339a4ed42b95926962",
       "version_major": 2,
       "version_minor": 0
      },
      "text/plain": [
       "  0%|          | 0/4 [00:00<?, ?it/s]"
      ]
     },
     "metadata": {},
     "output_type": "display_data"
    },
    {
     "name": "stderr",
     "output_type": "stream",
     "text": [
      "11:29:13 - cmdstanpy - INFO - Chain [1] start processing\n",
      "11:29:13 - cmdstanpy - INFO - Chain [1] done processing\n",
      "11:29:14 - cmdstanpy - INFO - Chain [1] start processing\n",
      "11:29:14 - cmdstanpy - INFO - Chain [1] done processing\n",
      "11:29:14 - cmdstanpy - INFO - Chain [1] start processing\n",
      "11:29:14 - cmdstanpy - INFO - Chain [1] done processing\n",
      "11:29:15 - cmdstanpy - INFO - Chain [1] start processing\n",
      "11:29:15 - cmdstanpy - INFO - Chain [1] done processing\n",
      "11:29:16 - cmdstanpy - INFO - Chain [1] start processing\n",
      "11:29:16 - cmdstanpy - INFO - Chain [1] done processing\n"
     ]
    },
    {
     "data": {
      "application/vnd.jupyter.widget-view+json": {
       "model_id": "e86c1eeec220493babd84f5edb9c6ad4",
       "version_major": 2,
       "version_minor": 0
      },
      "text/plain": [
       "  0%|          | 0/4 [00:00<?, ?it/s]"
      ]
     },
     "metadata": {},
     "output_type": "display_data"
    },
    {
     "name": "stderr",
     "output_type": "stream",
     "text": [
      "11:29:16 - cmdstanpy - INFO - Chain [1] start processing\n",
      "11:29:17 - cmdstanpy - INFO - Chain [1] done processing\n",
      "11:29:18 - cmdstanpy - INFO - Chain [1] start processing\n",
      "11:29:18 - cmdstanpy - INFO - Chain [1] done processing\n",
      "11:29:19 - cmdstanpy - INFO - Chain [1] start processing\n",
      "11:29:19 - cmdstanpy - INFO - Chain [1] done processing\n",
      "11:29:20 - cmdstanpy - INFO - Chain [1] start processing\n",
      "11:29:20 - cmdstanpy - INFO - Chain [1] done processing\n",
      "11:29:21 - cmdstanpy - INFO - Chain [1] start processing\n",
      "11:29:21 - cmdstanpy - INFO - Chain [1] done processing\n"
     ]
    },
    {
     "data": {
      "application/vnd.jupyter.widget-view+json": {
       "model_id": "bcd4a1313b784f3ead429759cd2effb4",
       "version_major": 2,
       "version_minor": 0
      },
      "text/plain": [
       "  0%|          | 0/4 [00:00<?, ?it/s]"
      ]
     },
     "metadata": {},
     "output_type": "display_data"
    },
    {
     "name": "stderr",
     "output_type": "stream",
     "text": [
      "11:29:21 - cmdstanpy - INFO - Chain [1] start processing\n",
      "11:29:21 - cmdstanpy - INFO - Chain [1] done processing\n",
      "11:29:22 - cmdstanpy - INFO - Chain [1] start processing\n",
      "11:29:22 - cmdstanpy - INFO - Chain [1] done processing\n",
      "11:29:23 - cmdstanpy - INFO - Chain [1] start processing\n",
      "11:29:23 - cmdstanpy - INFO - Chain [1] done processing\n",
      "11:29:24 - cmdstanpy - INFO - Chain [1] start processing\n",
      "11:29:24 - cmdstanpy - INFO - Chain [1] done processing\n",
      "11:29:24 - cmdstanpy - INFO - Chain [1] start processing\n",
      "11:29:24 - cmdstanpy - INFO - Chain [1] done processing\n"
     ]
    },
    {
     "data": {
      "application/vnd.jupyter.widget-view+json": {
       "model_id": "552ef0b7a70c4c998c561adfd4f8b097",
       "version_major": 2,
       "version_minor": 0
      },
      "text/plain": [
       "  0%|          | 0/4 [00:00<?, ?it/s]"
      ]
     },
     "metadata": {},
     "output_type": "display_data"
    },
    {
     "name": "stderr",
     "output_type": "stream",
     "text": [
      "11:29:24 - cmdstanpy - INFO - Chain [1] start processing\n",
      "11:29:25 - cmdstanpy - INFO - Chain [1] done processing\n",
      "11:29:26 - cmdstanpy - INFO - Chain [1] start processing\n",
      "11:29:26 - cmdstanpy - INFO - Chain [1] done processing\n",
      "11:29:26 - cmdstanpy - INFO - Chain [1] start processing\n",
      "11:29:26 - cmdstanpy - INFO - Chain [1] done processing\n",
      "11:29:27 - cmdstanpy - INFO - Chain [1] start processing\n",
      "11:29:27 - cmdstanpy - INFO - Chain [1] done processing\n",
      "11:29:28 - cmdstanpy - INFO - Chain [1] start processing\n",
      "11:29:28 - cmdstanpy - INFO - Chain [1] done processing\n"
     ]
    },
    {
     "data": {
      "application/vnd.jupyter.widget-view+json": {
       "model_id": "9e34720cd85d45d298ae1d16cae1d8ea",
       "version_major": 2,
       "version_minor": 0
      },
      "text/plain": [
       "  0%|          | 0/4 [00:00<?, ?it/s]"
      ]
     },
     "metadata": {},
     "output_type": "display_data"
    },
    {
     "name": "stderr",
     "output_type": "stream",
     "text": [
      "11:29:28 - cmdstanpy - INFO - Chain [1] start processing\n",
      "11:29:29 - cmdstanpy - INFO - Chain [1] done processing\n",
      "11:29:29 - cmdstanpy - INFO - Chain [1] start processing\n",
      "11:29:29 - cmdstanpy - INFO - Chain [1] done processing\n",
      "11:29:30 - cmdstanpy - INFO - Chain [1] start processing\n",
      "11:29:30 - cmdstanpy - INFO - Chain [1] done processing\n",
      "11:29:31 - cmdstanpy - INFO - Chain [1] start processing\n",
      "11:29:31 - cmdstanpy - INFO - Chain [1] done processing\n"
     ]
    },
    {
     "name": "stdout",
     "output_type": "stream",
     "text": [
      "    changepoint_prior_scale  seasonality_prior_scale  holidays_prior_scale  \\\n",
      "0                     0.001                     0.01                  0.01   \n",
      "1                     0.001                     0.01                  0.10   \n",
      "2                     0.001                     0.01                  1.00   \n",
      "3                     0.001                     0.01                 10.00   \n",
      "4                     0.001                     0.10                  0.01   \n",
      "..                      ...                      ...                   ...   \n",
      "59                    0.500                     1.00                 10.00   \n",
      "60                    0.500                    10.00                  0.01   \n",
      "61                    0.500                    10.00                  0.10   \n",
      "62                    0.500                    10.00                  1.00   \n",
      "63                    0.500                    10.00                 10.00   \n",
      "\n",
      "         rmse  \n",
      "0    7.448465  \n",
      "1    7.448465  \n",
      "2    7.448465  \n",
      "3    7.448465  \n",
      "4   10.912499  \n",
      "..        ...  \n",
      "59   4.392473  \n",
      "60   4.399303  \n",
      "61   4.399303  \n",
      "62   4.399303  \n",
      "63   4.399303  \n",
      "\n",
      "[64 rows x 4 columns]\n"
     ]
    }
   ],
   "source": [
    "from prophet import Prophet\n",
    "import itertools\n",
    "import numpy as np\n",
    "import pandas as pd\n",
    "from prophet.diagnostics import cross_validation\n",
    "from prophet.diagnostics import performance_metrics\n",
    "\n",
    "data = pd.read_csv('data.csv')\n",
    "\n",
    "\n",
    "param_grid = {  \n",
    "    'changepoint_prior_scale': [0.001, 0.01, 0.1, 0.5],\n",
    "    'seasonality_prior_scale': [0.01, 0.1, 1.0, 10.0],\n",
    "    'holidays_prior_scale': [0.01, 0.1, 1.0, 10.0],\n",
    "}\n",
    "\n",
    "# Generate all combinations of parameters\n",
    "all_params = [dict(zip(param_grid.keys(), v)) for v in itertools.product(*param_grid.values())]\n",
    "rmses = []  # Store the RMSEs for each params here\n",
    "\n",
    "# Use cross validation to evaluate all parameters\n",
    "for params in all_params:\n",
    "    m = Prophet(**params, interval_width=0.9, daily_seasonality=True).fit(data)  # Fit model with given params\n",
    "    df_cv = cross_validation(m, initial='100 days', period='60 days', horizon = '30 days')\n",
    "    df_p = performance_metrics(df_cv, rolling_window=1)\n",
    "    rmses.append(df_p['rmse'].values[0])\n",
    "\n",
    "# Find the best parameters\n",
    "tuning_results = pd.DataFrame(all_params)\n",
    "tuning_results['rmse'] = rmses\n",
    "print(tuning_results)"
   ]
  },
  {
   "cell_type": "code",
   "execution_count": 3,
   "id": "8d68eb81",
   "metadata": {},
   "outputs": [
    {
     "name": "stdout",
     "output_type": "stream",
     "text": [
      "{'changepoint_prior_scale': 0.1, 'seasonality_prior_scale': 0.01, 'holidays_prior_scale': 0.01}\n"
     ]
    }
   ],
   "source": [
    "best_params = all_params[np.argmin(rmses)]\n",
    "print(best_params)"
   ]
  },
  {
   "cell_type": "code",
   "execution_count": 4,
   "id": "d233438b",
   "metadata": {},
   "outputs": [
    {
     "name": "stdout",
     "output_type": "stream",
     "text": [
      "4.2926460707041265\n"
     ]
    }
   ],
   "source": [
    "print(tuning_results['rmse'].min())"
   ]
  },
  {
   "cell_type": "code",
   "execution_count": null,
   "id": "80a34dd6",
   "metadata": {},
   "outputs": [],
   "source": [
    "for ind in tuning_results.index:\n",
    "    print(tuning_results['rmse'][ind], tuning_results[''][ind], tuning_results['Stream'][ind])"
   ]
  }
 ],
 "metadata": {
  "kernelspec": {
   "display_name": "Python 3 (ipykernel)",
   "language": "python",
   "name": "python3"
  },
  "language_info": {
   "codemirror_mode": {
    "name": "ipython",
    "version": 3
   },
   "file_extension": ".py",
   "mimetype": "text/x-python",
   "name": "python",
   "nbconvert_exporter": "python",
   "pygments_lexer": "ipython3",
   "version": "3.9.12"
  }
 },
 "nbformat": 4,
 "nbformat_minor": 5
}
