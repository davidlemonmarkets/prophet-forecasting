{
 "cells": [
  {
   "cell_type": "code",
   "execution_count": 1,
   "id": "2968028f",
   "metadata": {},
   "outputs": [
    {
     "name": "stderr",
     "output_type": "stream",
     "text": [
      "15:22:27 - cmdstanpy - INFO - Chain [1] start processing\n",
      "15:22:27 - cmdstanpy - INFO - Chain [1] done processing\n",
      "15:22:27 - cmdstanpy - ERROR - Chain [1] error: error during processing Stale NFS file handle\n",
      "Optimization terminated abnormally. Falling back to Newton.\n",
      "15:22:27 - cmdstanpy - INFO - Chain [1] start processing\n",
      "15:22:27 - cmdstanpy - INFO - Chain [1] done processing\n"
     ]
    },
    {
     "data": {
      "application/vnd.jupyter.widget-view+json": {
       "model_id": "cf1439aabdac427787d4c5772309ad8d",
       "version_major": 2,
       "version_minor": 0
      },
      "text/plain": [
       "  0%|          | 0/4 [00:00<?, ?it/s]"
      ]
     },
     "metadata": {},
     "output_type": "display_data"
    },
    {
     "name": "stderr",
     "output_type": "stream",
     "text": [
      "15:22:27 - cmdstanpy - INFO - Chain [1] start processing\n",
      "15:22:28 - cmdstanpy - INFO - Chain [1] done processing\n",
      "15:22:28 - cmdstanpy - INFO - Chain [1] start processing\n",
      "15:22:28 - cmdstanpy - INFO - Chain [1] done processing\n",
      "15:22:29 - cmdstanpy - INFO - Chain [1] start processing\n",
      "15:22:29 - cmdstanpy - INFO - Chain [1] done processing\n",
      "15:22:29 - cmdstanpy - ERROR - Chain [1] error: error during processing Stale NFS file handle\n",
      "Optimization terminated abnormally. Falling back to Newton.\n",
      "15:22:29 - cmdstanpy - INFO - Chain [1] start processing\n",
      "15:22:34 - cmdstanpy - INFO - Chain [1] done processing\n",
      "15:22:35 - cmdstanpy - INFO - Chain [1] start processing\n",
      "15:22:35 - cmdstanpy - INFO - Chain [1] done processing\n",
      "15:22:35 - cmdstanpy - INFO - Chain [1] start processing\n",
      "15:22:35 - cmdstanpy - INFO - Chain [1] done processing\n",
      "15:22:35 - cmdstanpy - ERROR - Chain [1] error: error during processing Stale NFS file handle\n",
      "Optimization terminated abnormally. Falling back to Newton.\n",
      "15:22:35 - cmdstanpy - INFO - Chain [1] start processing\n",
      "15:22:36 - cmdstanpy - INFO - Chain [1] done processing\n"
     ]
    },
    {
     "data": {
      "application/vnd.jupyter.widget-view+json": {
       "model_id": "b224de10bda943ea8527a0af2c267681",
       "version_major": 2,
       "version_minor": 0
      },
      "text/plain": [
       "  0%|          | 0/4 [00:00<?, ?it/s]"
      ]
     },
     "metadata": {},
     "output_type": "display_data"
    },
    {
     "name": "stderr",
     "output_type": "stream",
     "text": [
      "15:22:36 - cmdstanpy - INFO - Chain [1] start processing\n",
      "15:22:36 - cmdstanpy - INFO - Chain [1] done processing\n",
      "15:22:37 - cmdstanpy - INFO - Chain [1] start processing\n",
      "15:22:37 - cmdstanpy - INFO - Chain [1] done processing\n",
      "15:22:37 - cmdstanpy - INFO - Chain [1] start processing\n",
      "15:22:37 - cmdstanpy - INFO - Chain [1] done processing\n",
      "15:22:37 - cmdstanpy - ERROR - Chain [1] error: error during processing Stale NFS file handle\n",
      "Optimization terminated abnormally. Falling back to Newton.\n",
      "15:22:37 - cmdstanpy - INFO - Chain [1] start processing\n",
      "15:22:43 - cmdstanpy - INFO - Chain [1] done processing\n",
      "15:22:43 - cmdstanpy - INFO - Chain [1] start processing\n",
      "15:22:43 - cmdstanpy - INFO - Chain [1] done processing\n",
      "15:22:44 - cmdstanpy - INFO - Chain [1] start processing\n",
      "15:22:44 - cmdstanpy - INFO - Chain [1] done processing\n",
      "15:22:44 - cmdstanpy - ERROR - Chain [1] error: error during processing Stale NFS file handle\n",
      "Optimization terminated abnormally. Falling back to Newton.\n",
      "15:22:44 - cmdstanpy - INFO - Chain [1] start processing\n",
      "15:22:44 - cmdstanpy - INFO - Chain [1] done processing\n"
     ]
    },
    {
     "data": {
      "application/vnd.jupyter.widget-view+json": {
       "model_id": "27fe2ba89db74d1889605c671d611b9b",
       "version_major": 2,
       "version_minor": 0
      },
      "text/plain": [
       "  0%|          | 0/4 [00:00<?, ?it/s]"
      ]
     },
     "metadata": {},
     "output_type": "display_data"
    },
    {
     "name": "stderr",
     "output_type": "stream",
     "text": [
      "15:22:44 - cmdstanpy - INFO - Chain [1] start processing\n",
      "15:22:45 - cmdstanpy - INFO - Chain [1] done processing\n",
      "15:22:45 - cmdstanpy - INFO - Chain [1] start processing\n",
      "15:22:45 - cmdstanpy - INFO - Chain [1] done processing\n",
      "15:22:46 - cmdstanpy - INFO - Chain [1] start processing\n",
      "15:22:46 - cmdstanpy - INFO - Chain [1] done processing\n",
      "15:22:46 - cmdstanpy - ERROR - Chain [1] error: error during processing Stale NFS file handle\n",
      "Optimization terminated abnormally. Falling back to Newton.\n",
      "15:22:46 - cmdstanpy - INFO - Chain [1] start processing\n",
      "15:22:51 - cmdstanpy - INFO - Chain [1] done processing\n",
      "15:22:52 - cmdstanpy - INFO - Chain [1] start processing\n",
      "15:22:52 - cmdstanpy - INFO - Chain [1] done processing\n",
      "15:22:53 - cmdstanpy - INFO - Chain [1] start processing\n",
      "15:22:53 - cmdstanpy - INFO - Chain [1] done processing\n",
      "15:22:53 - cmdstanpy - ERROR - Chain [1] error: error during processing Stale NFS file handle\n",
      "Optimization terminated abnormally. Falling back to Newton.\n",
      "15:22:53 - cmdstanpy - INFO - Chain [1] start processing\n",
      "15:22:53 - cmdstanpy - INFO - Chain [1] done processing\n"
     ]
    },
    {
     "data": {
      "application/vnd.jupyter.widget-view+json": {
       "model_id": "e91b2434526d4182ac20a0d79d4be402",
       "version_major": 2,
       "version_minor": 0
      },
      "text/plain": [
       "  0%|          | 0/4 [00:00<?, ?it/s]"
      ]
     },
     "metadata": {},
     "output_type": "display_data"
    },
    {
     "name": "stderr",
     "output_type": "stream",
     "text": [
      "15:22:53 - cmdstanpy - INFO - Chain [1] start processing\n",
      "15:22:53 - cmdstanpy - INFO - Chain [1] done processing\n",
      "15:22:54 - cmdstanpy - INFO - Chain [1] start processing\n",
      "15:22:54 - cmdstanpy - INFO - Chain [1] done processing\n",
      "15:22:55 - cmdstanpy - INFO - Chain [1] start processing\n",
      "15:22:55 - cmdstanpy - INFO - Chain [1] done processing\n",
      "15:22:55 - cmdstanpy - ERROR - Chain [1] error: error during processing Stale NFS file handle\n",
      "Optimization terminated abnormally. Falling back to Newton.\n",
      "15:22:55 - cmdstanpy - INFO - Chain [1] start processing\n",
      "15:23:01 - cmdstanpy - INFO - Chain [1] done processing\n",
      "15:23:01 - cmdstanpy - INFO - Chain [1] start processing\n",
      "15:23:02 - cmdstanpy - INFO - Chain [1] done processing\n",
      "15:23:02 - cmdstanpy - INFO - Chain [1] start processing\n",
      "15:23:02 - cmdstanpy - INFO - Chain [1] done processing\n",
      "15:23:02 - cmdstanpy - ERROR - Chain [1] error: error during processing Stale NFS file handle\n",
      "Optimization terminated abnormally. Falling back to Newton.\n",
      "15:23:02 - cmdstanpy - INFO - Chain [1] start processing\n",
      "15:23:03 - cmdstanpy - INFO - Chain [1] done processing\n"
     ]
    },
    {
     "data": {
      "application/vnd.jupyter.widget-view+json": {
       "model_id": "74884e33dfda4d9ca907bc0da72f0f5a",
       "version_major": 2,
       "version_minor": 0
      },
      "text/plain": [
       "  0%|          | 0/4 [00:00<?, ?it/s]"
      ]
     },
     "metadata": {},
     "output_type": "display_data"
    },
    {
     "name": "stderr",
     "output_type": "stream",
     "text": [
      "15:23:03 - cmdstanpy - INFO - Chain [1] start processing\n",
      "15:23:03 - cmdstanpy - INFO - Chain [1] done processing\n",
      "15:23:04 - cmdstanpy - INFO - Chain [1] start processing\n",
      "15:23:04 - cmdstanpy - INFO - Chain [1] done processing\n",
      "15:23:04 - cmdstanpy - INFO - Chain [1] start processing\n",
      "15:23:04 - cmdstanpy - INFO - Chain [1] done processing\n",
      "15:23:04 - cmdstanpy - ERROR - Chain [1] error: error during processing Stale NFS file handle\n",
      "Optimization terminated abnormally. Falling back to Newton.\n",
      "15:23:04 - cmdstanpy - INFO - Chain [1] start processing\n",
      "15:23:05 - cmdstanpy - INFO - Chain [1] done processing\n",
      "15:23:05 - cmdstanpy - INFO - Chain [1] start processing\n",
      "15:23:05 - cmdstanpy - INFO - Chain [1] done processing\n",
      "15:23:06 - cmdstanpy - INFO - Chain [1] start processing\n",
      "15:23:06 - cmdstanpy - INFO - Chain [1] done processing\n",
      "15:23:06 - cmdstanpy - ERROR - Chain [1] error: error during processing Stale NFS file handle\n",
      "Optimization terminated abnormally. Falling back to Newton.\n",
      "15:23:06 - cmdstanpy - INFO - Chain [1] start processing\n",
      "15:23:06 - cmdstanpy - INFO - Chain [1] done processing\n"
     ]
    },
    {
     "data": {
      "application/vnd.jupyter.widget-view+json": {
       "model_id": "364a724a84c14628aa78c113bc7d54e2",
       "version_major": 2,
       "version_minor": 0
      },
      "text/plain": [
       "  0%|          | 0/4 [00:00<?, ?it/s]"
      ]
     },
     "metadata": {},
     "output_type": "display_data"
    },
    {
     "name": "stderr",
     "output_type": "stream",
     "text": [
      "15:23:06 - cmdstanpy - INFO - Chain [1] start processing\n",
      "15:23:07 - cmdstanpy - INFO - Chain [1] done processing\n",
      "15:23:07 - cmdstanpy - INFO - Chain [1] start processing\n",
      "15:23:07 - cmdstanpy - INFO - Chain [1] done processing\n",
      "15:23:08 - cmdstanpy - INFO - Chain [1] start processing\n",
      "15:23:08 - cmdstanpy - INFO - Chain [1] done processing\n",
      "15:23:08 - cmdstanpy - ERROR - Chain [1] error: error during processing Stale NFS file handle\n",
      "Optimization terminated abnormally. Falling back to Newton.\n",
      "15:23:08 - cmdstanpy - INFO - Chain [1] start processing\n",
      "15:23:08 - cmdstanpy - INFO - Chain [1] done processing\n",
      "15:23:09 - cmdstanpy - INFO - Chain [1] start processing\n",
      "15:23:09 - cmdstanpy - INFO - Chain [1] done processing\n",
      "15:23:10 - cmdstanpy - INFO - Chain [1] start processing\n",
      "15:23:10 - cmdstanpy - INFO - Chain [1] done processing\n",
      "15:23:10 - cmdstanpy - ERROR - Chain [1] error: error during processing Stale NFS file handle\n",
      "Optimization terminated abnormally. Falling back to Newton.\n",
      "15:23:10 - cmdstanpy - INFO - Chain [1] start processing\n",
      "15:23:11 - cmdstanpy - INFO - Chain [1] done processing\n"
     ]
    },
    {
     "data": {
      "application/vnd.jupyter.widget-view+json": {
       "model_id": "334e4c8d68ef44aa86948cd701c8bccf",
       "version_major": 2,
       "version_minor": 0
      },
      "text/plain": [
       "  0%|          | 0/4 [00:00<?, ?it/s]"
      ]
     },
     "metadata": {},
     "output_type": "display_data"
    },
    {
     "name": "stderr",
     "output_type": "stream",
     "text": [
      "15:23:11 - cmdstanpy - INFO - Chain [1] start processing\n",
      "15:23:11 - cmdstanpy - INFO - Chain [1] done processing\n",
      "15:23:12 - cmdstanpy - INFO - Chain [1] start processing\n",
      "15:23:12 - cmdstanpy - INFO - Chain [1] done processing\n",
      "15:23:12 - cmdstanpy - INFO - Chain [1] start processing\n",
      "15:23:12 - cmdstanpy - INFO - Chain [1] done processing\n",
      "15:23:12 - cmdstanpy - ERROR - Chain [1] error: error during processing Stale NFS file handle\n",
      "Optimization terminated abnormally. Falling back to Newton.\n",
      "15:23:12 - cmdstanpy - INFO - Chain [1] start processing\n",
      "15:23:13 - cmdstanpy - INFO - Chain [1] done processing\n",
      "15:23:13 - cmdstanpy - INFO - Chain [1] start processing\n",
      "15:23:14 - cmdstanpy - INFO - Chain [1] done processing\n",
      "15:23:15 - cmdstanpy - INFO - Chain [1] start processing\n",
      "15:23:15 - cmdstanpy - INFO - Chain [1] done processing\n",
      "15:23:15 - cmdstanpy - ERROR - Chain [1] error: error during processing Stale NFS file handle\n",
      "Optimization terminated abnormally. Falling back to Newton.\n",
      "15:23:15 - cmdstanpy - INFO - Chain [1] start processing\n",
      "15:23:15 - cmdstanpy - INFO - Chain [1] done processing\n"
     ]
    },
    {
     "data": {
      "application/vnd.jupyter.widget-view+json": {
       "model_id": "ce4d669ccb454561a5d69c9fbab33f2f",
       "version_major": 2,
       "version_minor": 0
      },
      "text/plain": [
       "  0%|          | 0/4 [00:00<?, ?it/s]"
      ]
     },
     "metadata": {},
     "output_type": "display_data"
    },
    {
     "name": "stderr",
     "output_type": "stream",
     "text": [
      "15:23:15 - cmdstanpy - INFO - Chain [1] start processing\n",
      "15:23:16 - cmdstanpy - INFO - Chain [1] done processing\n",
      "15:23:16 - cmdstanpy - INFO - Chain [1] start processing\n",
      "15:23:16 - cmdstanpy - INFO - Chain [1] done processing\n",
      "15:23:17 - cmdstanpy - INFO - Chain [1] start processing\n",
      "15:23:17 - cmdstanpy - INFO - Chain [1] done processing\n",
      "15:23:17 - cmdstanpy - ERROR - Chain [1] error: error during processing Stale NFS file handle\n",
      "Optimization terminated abnormally. Falling back to Newton.\n",
      "15:23:17 - cmdstanpy - INFO - Chain [1] start processing\n",
      "15:23:17 - cmdstanpy - INFO - Chain [1] done processing\n",
      "15:23:18 - cmdstanpy - INFO - Chain [1] start processing\n",
      "15:23:18 - cmdstanpy - INFO - Chain [1] done processing\n",
      "15:23:19 - cmdstanpy - INFO - Chain [1] start processing\n",
      "15:23:19 - cmdstanpy - INFO - Chain [1] done processing\n",
      "15:23:19 - cmdstanpy - ERROR - Chain [1] error: error during processing Stale NFS file handle\n",
      "Optimization terminated abnormally. Falling back to Newton.\n",
      "15:23:19 - cmdstanpy - INFO - Chain [1] start processing\n",
      "15:23:21 - cmdstanpy - INFO - Chain [1] done processing\n"
     ]
    },
    {
     "data": {
      "application/vnd.jupyter.widget-view+json": {
       "model_id": "9d6e5c6091594fe9b3694ca8f8c347e4",
       "version_major": 2,
       "version_minor": 0
      },
      "text/plain": [
       "  0%|          | 0/4 [00:00<?, ?it/s]"
      ]
     },
     "metadata": {},
     "output_type": "display_data"
    },
    {
     "name": "stderr",
     "output_type": "stream",
     "text": [
      "15:23:21 - cmdstanpy - INFO - Chain [1] start processing\n",
      "15:23:21 - cmdstanpy - INFO - Chain [1] done processing\n",
      "15:23:22 - cmdstanpy - INFO - Chain [1] start processing\n",
      "15:23:22 - cmdstanpy - INFO - Chain [1] done processing\n",
      "15:23:23 - cmdstanpy - INFO - Chain [1] start processing\n",
      "15:23:23 - cmdstanpy - INFO - Chain [1] done processing\n",
      "15:23:23 - cmdstanpy - ERROR - Chain [1] error: error during processing Stale NFS file handle\n",
      "Optimization terminated abnormally. Falling back to Newton.\n",
      "15:23:23 - cmdstanpy - INFO - Chain [1] start processing\n",
      "15:23:24 - cmdstanpy - INFO - Chain [1] done processing\n",
      "15:23:25 - cmdstanpy - INFO - Chain [1] start processing\n",
      "15:23:25 - cmdstanpy - INFO - Chain [1] done processing\n",
      "15:23:25 - cmdstanpy - INFO - Chain [1] start processing\n",
      "15:23:25 - cmdstanpy - INFO - Chain [1] done processing\n",
      "15:23:25 - cmdstanpy - ERROR - Chain [1] error: error during processing Stale NFS file handle\n",
      "Optimization terminated abnormally. Falling back to Newton.\n",
      "15:23:25 - cmdstanpy - INFO - Chain [1] start processing\n",
      "15:23:27 - cmdstanpy - INFO - Chain [1] done processing\n"
     ]
    },
    {
     "data": {
      "application/vnd.jupyter.widget-view+json": {
       "model_id": "8efb1d1efaf144c59b33bdb9cffcdb42",
       "version_major": 2,
       "version_minor": 0
      },
      "text/plain": [
       "  0%|          | 0/4 [00:00<?, ?it/s]"
      ]
     },
     "metadata": {},
     "output_type": "display_data"
    },
    {
     "name": "stderr",
     "output_type": "stream",
     "text": [
      "15:23:27 - cmdstanpy - INFO - Chain [1] start processing\n",
      "15:23:27 - cmdstanpy - INFO - Chain [1] done processing\n",
      "15:23:28 - cmdstanpy - INFO - Chain [1] start processing\n",
      "15:23:28 - cmdstanpy - INFO - Chain [1] done processing\n",
      "15:23:29 - cmdstanpy - INFO - Chain [1] start processing\n",
      "15:23:29 - cmdstanpy - INFO - Chain [1] done processing\n",
      "15:23:29 - cmdstanpy - ERROR - Chain [1] error: error during processing Stale NFS file handle\n",
      "Optimization terminated abnormally. Falling back to Newton.\n",
      "15:23:29 - cmdstanpy - INFO - Chain [1] start processing\n",
      "15:23:31 - cmdstanpy - INFO - Chain [1] done processing\n",
      "15:23:32 - cmdstanpy - INFO - Chain [1] start processing\n",
      "15:23:34 - cmdstanpy - INFO - Chain [1] done processing\n",
      "15:23:35 - cmdstanpy - INFO - Chain [1] start processing\n",
      "15:23:35 - cmdstanpy - INFO - Chain [1] done processing\n",
      "15:23:35 - cmdstanpy - ERROR - Chain [1] error: error during processing Stale NFS file handle\n",
      "Optimization terminated abnormally. Falling back to Newton.\n",
      "15:23:35 - cmdstanpy - INFO - Chain [1] start processing\n",
      "15:23:37 - cmdstanpy - INFO - Chain [1] done processing\n"
     ]
    },
    {
     "data": {
      "application/vnd.jupyter.widget-view+json": {
       "model_id": "042654ce691440b3993c7fa3bb7c6bf5",
       "version_major": 2,
       "version_minor": 0
      },
      "text/plain": [
       "  0%|          | 0/4 [00:00<?, ?it/s]"
      ]
     },
     "metadata": {},
     "output_type": "display_data"
    },
    {
     "name": "stderr",
     "output_type": "stream",
     "text": [
      "15:23:37 - cmdstanpy - INFO - Chain [1] start processing\n",
      "15:23:38 - cmdstanpy - INFO - Chain [1] done processing\n",
      "15:23:39 - cmdstanpy - INFO - Chain [1] start processing\n",
      "15:23:39 - cmdstanpy - INFO - Chain [1] done processing\n",
      "15:23:40 - cmdstanpy - INFO - Chain [1] start processing\n",
      "15:23:40 - cmdstanpy - INFO - Chain [1] done processing\n",
      "15:23:40 - cmdstanpy - ERROR - Chain [1] error: error during processing Stale NFS file handle\n",
      "Optimization terminated abnormally. Falling back to Newton.\n",
      "15:23:40 - cmdstanpy - INFO - Chain [1] start processing\n",
      "15:23:41 - cmdstanpy - INFO - Chain [1] done processing\n",
      "15:23:42 - cmdstanpy - INFO - Chain [1] start processing\n",
      "15:23:42 - cmdstanpy - INFO - Chain [1] done processing\n",
      "15:23:43 - cmdstanpy - INFO - Chain [1] start processing\n",
      "15:23:43 - cmdstanpy - INFO - Chain [1] done processing\n",
      "15:23:43 - cmdstanpy - ERROR - Chain [1] error: error during processing Stale NFS file handle\n",
      "Optimization terminated abnormally. Falling back to Newton.\n",
      "15:23:43 - cmdstanpy - INFO - Chain [1] start processing\n",
      "15:23:45 - cmdstanpy - INFO - Chain [1] done processing\n"
     ]
    },
    {
     "data": {
      "application/vnd.jupyter.widget-view+json": {
       "model_id": "d4c3355205c94496bfc0cfaf6e04537e",
       "version_major": 2,
       "version_minor": 0
      },
      "text/plain": [
       "  0%|          | 0/4 [00:00<?, ?it/s]"
      ]
     },
     "metadata": {},
     "output_type": "display_data"
    },
    {
     "name": "stderr",
     "output_type": "stream",
     "text": [
      "15:23:45 - cmdstanpy - INFO - Chain [1] start processing\n",
      "15:23:45 - cmdstanpy - INFO - Chain [1] done processing\n",
      "15:23:46 - cmdstanpy - INFO - Chain [1] start processing\n",
      "15:23:46 - cmdstanpy - INFO - Chain [1] done processing\n",
      "15:23:48 - cmdstanpy - INFO - Chain [1] start processing\n",
      "15:23:48 - cmdstanpy - INFO - Chain [1] done processing\n",
      "15:23:48 - cmdstanpy - ERROR - Chain [1] error: error during processing Stale NFS file handle\n",
      "Optimization terminated abnormally. Falling back to Newton.\n",
      "15:23:48 - cmdstanpy - INFO - Chain [1] start processing\n",
      "15:23:50 - cmdstanpy - INFO - Chain [1] done processing\n",
      "15:23:53 - cmdstanpy - INFO - Chain [1] start processing\n",
      "15:23:55 - cmdstanpy - INFO - Chain [1] done processing\n",
      "15:23:57 - cmdstanpy - INFO - Chain [1] start processing\n",
      "15:23:58 - cmdstanpy - INFO - Chain [1] done processing\n",
      "15:23:58 - cmdstanpy - ERROR - Chain [1] error: error during processing Stale NFS file handle\n",
      "Optimization terminated abnormally. Falling back to Newton.\n",
      "15:23:58 - cmdstanpy - INFO - Chain [1] start processing\n",
      "15:24:02 - cmdstanpy - INFO - Chain [1] done processing\n"
     ]
    },
    {
     "data": {
      "application/vnd.jupyter.widget-view+json": {
       "model_id": "5779d950d4c944938bbca479e7ef9970",
       "version_major": 2,
       "version_minor": 0
      },
      "text/plain": [
       "  0%|          | 0/4 [00:00<?, ?it/s]"
      ]
     },
     "metadata": {},
     "output_type": "display_data"
    },
    {
     "name": "stderr",
     "output_type": "stream",
     "text": [
      "15:24:03 - cmdstanpy - INFO - Chain [1] start processing\n",
      "15:24:03 - cmdstanpy - INFO - Chain [1] done processing\n",
      "15:24:04 - cmdstanpy - INFO - Chain [1] start processing\n",
      "15:24:04 - cmdstanpy - INFO - Chain [1] done processing\n",
      "15:24:05 - cmdstanpy - INFO - Chain [1] start processing\n",
      "15:24:05 - cmdstanpy - INFO - Chain [1] done processing\n",
      "15:24:05 - cmdstanpy - ERROR - Chain [1] error: error during processing Stale NFS file handle\n",
      "Optimization terminated abnormally. Falling back to Newton.\n",
      "15:24:05 - cmdstanpy - INFO - Chain [1] start processing\n",
      "15:24:05 - cmdstanpy - INFO - Chain [1] done processing\n",
      "15:24:05 - cmdstanpy - INFO - Chain [1] start processing\n",
      "15:24:06 - cmdstanpy - INFO - Chain [1] done processing\n",
      "15:24:06 - cmdstanpy - INFO - Chain [1] start processing\n",
      "15:24:06 - cmdstanpy - INFO - Chain [1] done processing\n",
      "15:24:06 - cmdstanpy - ERROR - Chain [1] error: error during processing Stale NFS file handle\n",
      "Optimization terminated abnormally. Falling back to Newton.\n",
      "15:24:06 - cmdstanpy - INFO - Chain [1] start processing\n",
      "15:24:10 - cmdstanpy - INFO - Chain [1] done processing\n"
     ]
    },
    {
     "data": {
      "application/vnd.jupyter.widget-view+json": {
       "model_id": "1e9711d8061f49e5befce25d7a767c6a",
       "version_major": 2,
       "version_minor": 0
      },
      "text/plain": [
       "  0%|          | 0/4 [00:00<?, ?it/s]"
      ]
     },
     "metadata": {},
     "output_type": "display_data"
    },
    {
     "name": "stderr",
     "output_type": "stream",
     "text": [
      "15:24:10 - cmdstanpy - INFO - Chain [1] start processing\n",
      "15:24:11 - cmdstanpy - INFO - Chain [1] done processing\n",
      "15:24:11 - cmdstanpy - INFO - Chain [1] start processing\n",
      "15:24:11 - cmdstanpy - INFO - Chain [1] done processing\n",
      "15:24:12 - cmdstanpy - INFO - Chain [1] start processing\n",
      "15:24:12 - cmdstanpy - INFO - Chain [1] done processing\n",
      "15:24:12 - cmdstanpy - ERROR - Chain [1] error: error during processing Stale NFS file handle\n",
      "Optimization terminated abnormally. Falling back to Newton.\n",
      "15:24:12 - cmdstanpy - INFO - Chain [1] start processing\n",
      "15:24:12 - cmdstanpy - INFO - Chain [1] done processing\n",
      "15:24:13 - cmdstanpy - INFO - Chain [1] start processing\n",
      "15:24:13 - cmdstanpy - INFO - Chain [1] done processing\n",
      "15:24:14 - cmdstanpy - INFO - Chain [1] start processing\n",
      "15:24:14 - cmdstanpy - INFO - Chain [1] done processing\n",
      "15:24:14 - cmdstanpy - ERROR - Chain [1] error: error during processing Stale NFS file handle\n",
      "Optimization terminated abnormally. Falling back to Newton.\n",
      "15:24:14 - cmdstanpy - INFO - Chain [1] start processing\n",
      "15:24:18 - cmdstanpy - INFO - Chain [1] done processing\n"
     ]
    },
    {
     "data": {
      "application/vnd.jupyter.widget-view+json": {
       "model_id": "7519d93fd29844089d14c1f9d315fe08",
       "version_major": 2,
       "version_minor": 0
      },
      "text/plain": [
       "  0%|          | 0/4 [00:00<?, ?it/s]"
      ]
     },
     "metadata": {},
     "output_type": "display_data"
    },
    {
     "name": "stderr",
     "output_type": "stream",
     "text": [
      "15:24:18 - cmdstanpy - INFO - Chain [1] start processing\n",
      "15:24:18 - cmdstanpy - INFO - Chain [1] done processing\n",
      "15:24:19 - cmdstanpy - INFO - Chain [1] start processing\n",
      "15:24:19 - cmdstanpy - INFO - Chain [1] done processing\n",
      "15:24:20 - cmdstanpy - INFO - Chain [1] start processing\n",
      "15:24:20 - cmdstanpy - INFO - Chain [1] done processing\n",
      "15:24:20 - cmdstanpy - ERROR - Chain [1] error: error during processing Stale NFS file handle\n",
      "Optimization terminated abnormally. Falling back to Newton.\n",
      "15:24:20 - cmdstanpy - INFO - Chain [1] start processing\n",
      "15:24:20 - cmdstanpy - INFO - Chain [1] done processing\n",
      "15:24:21 - cmdstanpy - INFO - Chain [1] start processing\n",
      "15:24:21 - cmdstanpy - INFO - Chain [1] done processing\n",
      "15:24:22 - cmdstanpy - INFO - Chain [1] start processing\n",
      "15:24:22 - cmdstanpy - INFO - Chain [1] done processing\n",
      "15:24:22 - cmdstanpy - ERROR - Chain [1] error: error during processing Stale NFS file handle\n",
      "Optimization terminated abnormally. Falling back to Newton.\n",
      "15:24:22 - cmdstanpy - INFO - Chain [1] start processing\n",
      "15:24:26 - cmdstanpy - INFO - Chain [1] done processing\n"
     ]
    },
    {
     "data": {
      "application/vnd.jupyter.widget-view+json": {
       "model_id": "924a82af88e547c08b8e212d8ca97760",
       "version_major": 2,
       "version_minor": 0
      },
      "text/plain": [
       "  0%|          | 0/4 [00:00<?, ?it/s]"
      ]
     },
     "metadata": {},
     "output_type": "display_data"
    },
    {
     "name": "stderr",
     "output_type": "stream",
     "text": [
      "15:24:26 - cmdstanpy - INFO - Chain [1] start processing\n",
      "15:24:26 - cmdstanpy - INFO - Chain [1] done processing\n",
      "15:24:27 - cmdstanpy - INFO - Chain [1] start processing\n",
      "15:24:27 - cmdstanpy - INFO - Chain [1] done processing\n",
      "15:24:28 - cmdstanpy - INFO - Chain [1] start processing\n",
      "15:24:28 - cmdstanpy - INFO - Chain [1] done processing\n",
      "15:24:28 - cmdstanpy - ERROR - Chain [1] error: error during processing Stale NFS file handle\n",
      "Optimization terminated abnormally. Falling back to Newton.\n",
      "15:24:28 - cmdstanpy - INFO - Chain [1] start processing\n",
      "15:24:28 - cmdstanpy - INFO - Chain [1] done processing\n",
      "15:24:28 - cmdstanpy - INFO - Chain [1] start processing\n",
      "15:24:28 - cmdstanpy - INFO - Chain [1] done processing\n",
      "15:24:29 - cmdstanpy - INFO - Chain [1] start processing\n",
      "15:24:29 - cmdstanpy - INFO - Chain [1] done processing\n"
     ]
    },
    {
     "data": {
      "application/vnd.jupyter.widget-view+json": {
       "model_id": "170bd0ceb09f4c929b98bc7773887869",
       "version_major": 2,
       "version_minor": 0
      },
      "text/plain": [
       "  0%|          | 0/4 [00:00<?, ?it/s]"
      ]
     },
     "metadata": {},
     "output_type": "display_data"
    },
    {
     "name": "stderr",
     "output_type": "stream",
     "text": [
      "15:24:29 - cmdstanpy - INFO - Chain [1] start processing\n",
      "15:24:29 - cmdstanpy - INFO - Chain [1] done processing\n",
      "15:24:30 - cmdstanpy - INFO - Chain [1] start processing\n",
      "15:24:30 - cmdstanpy - INFO - Chain [1] done processing\n",
      "15:24:31 - cmdstanpy - INFO - Chain [1] start processing\n",
      "15:24:31 - cmdstanpy - INFO - Chain [1] done processing\n",
      "15:24:32 - cmdstanpy - INFO - Chain [1] start processing\n",
      "15:24:32 - cmdstanpy - INFO - Chain [1] done processing\n",
      "15:24:32 - cmdstanpy - INFO - Chain [1] start processing\n",
      "15:24:32 - cmdstanpy - INFO - Chain [1] done processing\n"
     ]
    },
    {
     "data": {
      "application/vnd.jupyter.widget-view+json": {
       "model_id": "b6f43046f6a74cb6b5b0d888e0e37f37",
       "version_major": 2,
       "version_minor": 0
      },
      "text/plain": [
       "  0%|          | 0/4 [00:00<?, ?it/s]"
      ]
     },
     "metadata": {},
     "output_type": "display_data"
    },
    {
     "name": "stderr",
     "output_type": "stream",
     "text": [
      "15:24:32 - cmdstanpy - INFO - Chain [1] start processing\n",
      "15:24:33 - cmdstanpy - INFO - Chain [1] done processing\n",
      "15:24:33 - cmdstanpy - INFO - Chain [1] start processing\n",
      "15:24:33 - cmdstanpy - INFO - Chain [1] done processing\n",
      "15:24:34 - cmdstanpy - INFO - Chain [1] start processing\n",
      "15:24:34 - cmdstanpy - INFO - Chain [1] done processing\n",
      "15:24:34 - cmdstanpy - INFO - Chain [1] start processing\n",
      "15:24:35 - cmdstanpy - INFO - Chain [1] done processing\n",
      "15:24:35 - cmdstanpy - INFO - Chain [1] start processing\n",
      "15:24:35 - cmdstanpy - INFO - Chain [1] done processing\n"
     ]
    },
    {
     "data": {
      "application/vnd.jupyter.widget-view+json": {
       "model_id": "d77ea2e541e5485d9d632609b611a3eb",
       "version_major": 2,
       "version_minor": 0
      },
      "text/plain": [
       "  0%|          | 0/4 [00:00<?, ?it/s]"
      ]
     },
     "metadata": {},
     "output_type": "display_data"
    },
    {
     "name": "stderr",
     "output_type": "stream",
     "text": [
      "15:24:35 - cmdstanpy - INFO - Chain [1] start processing\n",
      "15:24:35 - cmdstanpy - INFO - Chain [1] done processing\n",
      "15:24:36 - cmdstanpy - INFO - Chain [1] start processing\n",
      "15:24:36 - cmdstanpy - INFO - Chain [1] done processing\n",
      "15:24:37 - cmdstanpy - INFO - Chain [1] start processing\n",
      "15:24:37 - cmdstanpy - INFO - Chain [1] done processing\n",
      "15:24:37 - cmdstanpy - INFO - Chain [1] start processing\n",
      "15:24:37 - cmdstanpy - INFO - Chain [1] done processing\n",
      "15:24:38 - cmdstanpy - INFO - Chain [1] start processing\n",
      "15:24:38 - cmdstanpy - INFO - Chain [1] done processing\n"
     ]
    },
    {
     "data": {
      "application/vnd.jupyter.widget-view+json": {
       "model_id": "3f6550732cb345c59c50ea347e67510a",
       "version_major": 2,
       "version_minor": 0
      },
      "text/plain": [
       "  0%|          | 0/4 [00:00<?, ?it/s]"
      ]
     },
     "metadata": {},
     "output_type": "display_data"
    },
    {
     "name": "stderr",
     "output_type": "stream",
     "text": [
      "15:24:38 - cmdstanpy - INFO - Chain [1] start processing\n",
      "15:24:38 - cmdstanpy - INFO - Chain [1] done processing\n",
      "15:24:39 - cmdstanpy - INFO - Chain [1] start processing\n",
      "15:24:39 - cmdstanpy - INFO - Chain [1] done processing\n",
      "15:24:40 - cmdstanpy - INFO - Chain [1] start processing\n",
      "15:24:40 - cmdstanpy - INFO - Chain [1] done processing\n",
      "15:24:40 - cmdstanpy - INFO - Chain [1] start processing\n",
      "15:24:40 - cmdstanpy - INFO - Chain [1] done processing\n",
      "15:24:41 - cmdstanpy - INFO - Chain [1] start processing\n",
      "15:24:41 - cmdstanpy - INFO - Chain [1] done processing\n"
     ]
    },
    {
     "data": {
      "application/vnd.jupyter.widget-view+json": {
       "model_id": "9b7501813fc546608e5fd8c2f9577264",
       "version_major": 2,
       "version_minor": 0
      },
      "text/plain": [
       "  0%|          | 0/4 [00:00<?, ?it/s]"
      ]
     },
     "metadata": {},
     "output_type": "display_data"
    },
    {
     "name": "stderr",
     "output_type": "stream",
     "text": [
      "15:24:41 - cmdstanpy - INFO - Chain [1] start processing\n",
      "15:24:41 - cmdstanpy - INFO - Chain [1] done processing\n",
      "15:24:42 - cmdstanpy - INFO - Chain [1] start processing\n",
      "15:24:42 - cmdstanpy - INFO - Chain [1] done processing\n",
      "15:24:43 - cmdstanpy - INFO - Chain [1] start processing\n",
      "15:24:43 - cmdstanpy - INFO - Chain [1] done processing\n",
      "15:24:43 - cmdstanpy - INFO - Chain [1] start processing\n",
      "15:24:43 - cmdstanpy - INFO - Chain [1] done processing\n",
      "15:24:44 - cmdstanpy - INFO - Chain [1] start processing\n",
      "15:24:44 - cmdstanpy - INFO - Chain [1] done processing\n"
     ]
    },
    {
     "data": {
      "application/vnd.jupyter.widget-view+json": {
       "model_id": "3d2c362922384055b07be75c4a957857",
       "version_major": 2,
       "version_minor": 0
      },
      "text/plain": [
       "  0%|          | 0/4 [00:00<?, ?it/s]"
      ]
     },
     "metadata": {},
     "output_type": "display_data"
    },
    {
     "name": "stderr",
     "output_type": "stream",
     "text": [
      "15:24:44 - cmdstanpy - INFO - Chain [1] start processing\n",
      "15:24:44 - cmdstanpy - INFO - Chain [1] done processing\n",
      "15:24:45 - cmdstanpy - INFO - Chain [1] start processing\n",
      "15:24:45 - cmdstanpy - INFO - Chain [1] done processing\n",
      "15:24:45 - cmdstanpy - INFO - Chain [1] start processing\n",
      "15:24:45 - cmdstanpy - INFO - Chain [1] done processing\n",
      "15:24:46 - cmdstanpy - INFO - Chain [1] start processing\n",
      "15:24:46 - cmdstanpy - INFO - Chain [1] done processing\n",
      "15:24:47 - cmdstanpy - INFO - Chain [1] start processing\n",
      "15:24:47 - cmdstanpy - INFO - Chain [1] done processing\n"
     ]
    },
    {
     "data": {
      "application/vnd.jupyter.widget-view+json": {
       "model_id": "2d25cc7cffc64c608d40d81284862e8c",
       "version_major": 2,
       "version_minor": 0
      },
      "text/plain": [
       "  0%|          | 0/4 [00:00<?, ?it/s]"
      ]
     },
     "metadata": {},
     "output_type": "display_data"
    },
    {
     "name": "stderr",
     "output_type": "stream",
     "text": [
      "15:24:47 - cmdstanpy - INFO - Chain [1] start processing\n",
      "15:24:47 - cmdstanpy - INFO - Chain [1] done processing\n",
      "15:24:48 - cmdstanpy - INFO - Chain [1] start processing\n",
      "15:24:48 - cmdstanpy - INFO - Chain [1] done processing\n",
      "15:24:48 - cmdstanpy - INFO - Chain [1] start processing\n",
      "15:24:48 - cmdstanpy - INFO - Chain [1] done processing\n",
      "15:24:49 - cmdstanpy - INFO - Chain [1] start processing\n",
      "15:24:49 - cmdstanpy - INFO - Chain [1] done processing\n",
      "15:24:50 - cmdstanpy - INFO - Chain [1] start processing\n",
      "15:24:50 - cmdstanpy - INFO - Chain [1] done processing\n"
     ]
    },
    {
     "data": {
      "application/vnd.jupyter.widget-view+json": {
       "model_id": "5aaedecdf17b4d61ba5a143f26fd40f4",
       "version_major": 2,
       "version_minor": 0
      },
      "text/plain": [
       "  0%|          | 0/4 [00:00<?, ?it/s]"
      ]
     },
     "metadata": {},
     "output_type": "display_data"
    },
    {
     "name": "stderr",
     "output_type": "stream",
     "text": [
      "15:24:50 - cmdstanpy - INFO - Chain [1] start processing\n",
      "15:24:50 - cmdstanpy - INFO - Chain [1] done processing\n",
      "15:24:50 - cmdstanpy - INFO - Chain [1] start processing\n",
      "15:24:51 - cmdstanpy - INFO - Chain [1] done processing\n",
      "15:24:51 - cmdstanpy - INFO - Chain [1] start processing\n",
      "15:24:51 - cmdstanpy - INFO - Chain [1] done processing\n",
      "15:24:52 - cmdstanpy - INFO - Chain [1] start processing\n",
      "15:24:52 - cmdstanpy - INFO - Chain [1] done processing\n",
      "15:24:53 - cmdstanpy - INFO - Chain [1] start processing\n",
      "15:24:53 - cmdstanpy - INFO - Chain [1] done processing\n"
     ]
    },
    {
     "data": {
      "application/vnd.jupyter.widget-view+json": {
       "model_id": "1b216900acc24e1b9e23e6ff9be77b36",
       "version_major": 2,
       "version_minor": 0
      },
      "text/plain": [
       "  0%|          | 0/4 [00:00<?, ?it/s]"
      ]
     },
     "metadata": {},
     "output_type": "display_data"
    },
    {
     "name": "stderr",
     "output_type": "stream",
     "text": [
      "15:24:53 - cmdstanpy - INFO - Chain [1] start processing\n",
      "15:24:53 - cmdstanpy - INFO - Chain [1] done processing\n",
      "15:24:53 - cmdstanpy - INFO - Chain [1] start processing\n",
      "15:24:53 - cmdstanpy - INFO - Chain [1] done processing\n",
      "15:24:54 - cmdstanpy - INFO - Chain [1] start processing\n",
      "15:24:54 - cmdstanpy - INFO - Chain [1] done processing\n",
      "15:24:55 - cmdstanpy - INFO - Chain [1] start processing\n",
      "15:24:55 - cmdstanpy - INFO - Chain [1] done processing\n",
      "15:24:55 - cmdstanpy - INFO - Chain [1] start processing\n",
      "15:24:55 - cmdstanpy - INFO - Chain [1] done processing\n"
     ]
    },
    {
     "data": {
      "application/vnd.jupyter.widget-view+json": {
       "model_id": "850887ef018146d386847b11304f820b",
       "version_major": 2,
       "version_minor": 0
      },
      "text/plain": [
       "  0%|          | 0/4 [00:00<?, ?it/s]"
      ]
     },
     "metadata": {},
     "output_type": "display_data"
    },
    {
     "name": "stderr",
     "output_type": "stream",
     "text": [
      "15:24:55 - cmdstanpy - INFO - Chain [1] start processing\n",
      "15:24:56 - cmdstanpy - INFO - Chain [1] done processing\n",
      "15:24:56 - cmdstanpy - INFO - Chain [1] start processing\n",
      "15:24:56 - cmdstanpy - INFO - Chain [1] done processing\n",
      "15:24:57 - cmdstanpy - INFO - Chain [1] start processing\n",
      "15:24:57 - cmdstanpy - INFO - Chain [1] done processing\n",
      "15:24:57 - cmdstanpy - INFO - Chain [1] start processing\n",
      "15:24:58 - cmdstanpy - INFO - Chain [1] done processing\n",
      "15:24:58 - cmdstanpy - INFO - Chain [1] start processing\n",
      "15:24:58 - cmdstanpy - INFO - Chain [1] done processing\n"
     ]
    },
    {
     "data": {
      "application/vnd.jupyter.widget-view+json": {
       "model_id": "56886db53d42410c8d36958119a5286a",
       "version_major": 2,
       "version_minor": 0
      },
      "text/plain": [
       "  0%|          | 0/4 [00:00<?, ?it/s]"
      ]
     },
     "metadata": {},
     "output_type": "display_data"
    },
    {
     "name": "stderr",
     "output_type": "stream",
     "text": [
      "15:24:58 - cmdstanpy - INFO - Chain [1] start processing\n",
      "15:24:58 - cmdstanpy - INFO - Chain [1] done processing\n",
      "15:24:59 - cmdstanpy - INFO - Chain [1] start processing\n",
      "15:24:59 - cmdstanpy - INFO - Chain [1] done processing\n",
      "15:25:00 - cmdstanpy - INFO - Chain [1] start processing\n",
      "15:25:00 - cmdstanpy - INFO - Chain [1] done processing\n",
      "15:25:00 - cmdstanpy - INFO - Chain [1] start processing\n",
      "15:25:00 - cmdstanpy - INFO - Chain [1] done processing\n",
      "15:25:01 - cmdstanpy - INFO - Chain [1] start processing\n",
      "15:25:01 - cmdstanpy - INFO - Chain [1] done processing\n"
     ]
    },
    {
     "data": {
      "application/vnd.jupyter.widget-view+json": {
       "model_id": "49bdb34817de48649ce0cdc5369eec47",
       "version_major": 2,
       "version_minor": 0
      },
      "text/plain": [
       "  0%|          | 0/4 [00:00<?, ?it/s]"
      ]
     },
     "metadata": {},
     "output_type": "display_data"
    },
    {
     "name": "stderr",
     "output_type": "stream",
     "text": [
      "15:25:01 - cmdstanpy - INFO - Chain [1] start processing\n",
      "15:25:01 - cmdstanpy - INFO - Chain [1] done processing\n",
      "15:25:02 - cmdstanpy - INFO - Chain [1] start processing\n",
      "15:25:02 - cmdstanpy - INFO - Chain [1] done processing\n",
      "15:25:03 - cmdstanpy - INFO - Chain [1] start processing\n",
      "15:25:03 - cmdstanpy - INFO - Chain [1] done processing\n",
      "15:25:03 - cmdstanpy - INFO - Chain [1] start processing\n",
      "15:25:03 - cmdstanpy - INFO - Chain [1] done processing\n",
      "15:25:04 - cmdstanpy - INFO - Chain [1] start processing\n",
      "15:25:04 - cmdstanpy - INFO - Chain [1] done processing\n"
     ]
    },
    {
     "data": {
      "application/vnd.jupyter.widget-view+json": {
       "model_id": "cc8b8060e2d94ea5bc2ff3356ef43bd9",
       "version_major": 2,
       "version_minor": 0
      },
      "text/plain": [
       "  0%|          | 0/4 [00:00<?, ?it/s]"
      ]
     },
     "metadata": {},
     "output_type": "display_data"
    },
    {
     "name": "stderr",
     "output_type": "stream",
     "text": [
      "15:25:04 - cmdstanpy - INFO - Chain [1] start processing\n",
      "15:25:04 - cmdstanpy - INFO - Chain [1] done processing\n",
      "15:25:05 - cmdstanpy - INFO - Chain [1] start processing\n",
      "15:25:05 - cmdstanpy - INFO - Chain [1] done processing\n",
      "15:25:05 - cmdstanpy - INFO - Chain [1] start processing\n",
      "15:25:06 - cmdstanpy - INFO - Chain [1] done processing\n",
      "15:25:06 - cmdstanpy - INFO - Chain [1] start processing\n",
      "15:25:06 - cmdstanpy - INFO - Chain [1] done processing\n",
      "15:25:07 - cmdstanpy - INFO - Chain [1] start processing\n",
      "15:25:07 - cmdstanpy - INFO - Chain [1] done processing\n"
     ]
    },
    {
     "data": {
      "application/vnd.jupyter.widget-view+json": {
       "model_id": "aa82495255c04bedb4b9f28e6c22632d",
       "version_major": 2,
       "version_minor": 0
      },
      "text/plain": [
       "  0%|          | 0/4 [00:00<?, ?it/s]"
      ]
     },
     "metadata": {},
     "output_type": "display_data"
    },
    {
     "name": "stderr",
     "output_type": "stream",
     "text": [
      "15:25:07 - cmdstanpy - INFO - Chain [1] start processing\n",
      "15:25:07 - cmdstanpy - INFO - Chain [1] done processing\n",
      "15:25:08 - cmdstanpy - INFO - Chain [1] start processing\n",
      "15:25:08 - cmdstanpy - INFO - Chain [1] done processing\n",
      "15:25:08 - cmdstanpy - INFO - Chain [1] start processing\n",
      "15:25:08 - cmdstanpy - INFO - Chain [1] done processing\n",
      "15:25:09 - cmdstanpy - INFO - Chain [1] start processing\n",
      "15:25:09 - cmdstanpy - INFO - Chain [1] done processing\n",
      "15:25:10 - cmdstanpy - INFO - Chain [1] start processing\n",
      "15:25:10 - cmdstanpy - INFO - Chain [1] done processing\n"
     ]
    },
    {
     "data": {
      "application/vnd.jupyter.widget-view+json": {
       "model_id": "b0b872e568fc49ab918fef24854845c8",
       "version_major": 2,
       "version_minor": 0
      },
      "text/plain": [
       "  0%|          | 0/4 [00:00<?, ?it/s]"
      ]
     },
     "metadata": {},
     "output_type": "display_data"
    },
    {
     "name": "stderr",
     "output_type": "stream",
     "text": [
      "15:25:10 - cmdstanpy - INFO - Chain [1] start processing\n",
      "15:25:10 - cmdstanpy - INFO - Chain [1] done processing\n",
      "15:25:11 - cmdstanpy - INFO - Chain [1] start processing\n",
      "15:25:11 - cmdstanpy - INFO - Chain [1] done processing\n",
      "15:25:11 - cmdstanpy - INFO - Chain [1] start processing\n",
      "15:25:11 - cmdstanpy - INFO - Chain [1] done processing\n",
      "15:25:12 - cmdstanpy - INFO - Chain [1] start processing\n",
      "15:25:12 - cmdstanpy - INFO - Chain [1] done processing\n",
      "15:25:13 - cmdstanpy - INFO - Chain [1] start processing\n",
      "15:25:13 - cmdstanpy - INFO - Chain [1] done processing\n"
     ]
    },
    {
     "data": {
      "application/vnd.jupyter.widget-view+json": {
       "model_id": "dcd3e0c0707641f4a48e8ba9a48ca73b",
       "version_major": 2,
       "version_minor": 0
      },
      "text/plain": [
       "  0%|          | 0/4 [00:00<?, ?it/s]"
      ]
     },
     "metadata": {},
     "output_type": "display_data"
    },
    {
     "name": "stderr",
     "output_type": "stream",
     "text": [
      "15:25:13 - cmdstanpy - INFO - Chain [1] start processing\n",
      "15:25:13 - cmdstanpy - INFO - Chain [1] done processing\n",
      "15:25:14 - cmdstanpy - INFO - Chain [1] start processing\n",
      "15:25:14 - cmdstanpy - INFO - Chain [1] done processing\n",
      "15:25:14 - cmdstanpy - INFO - Chain [1] start processing\n",
      "15:25:14 - cmdstanpy - INFO - Chain [1] done processing\n",
      "15:25:15 - cmdstanpy - INFO - Chain [1] start processing\n",
      "15:25:15 - cmdstanpy - INFO - Chain [1] done processing\n",
      "15:25:16 - cmdstanpy - INFO - Chain [1] start processing\n",
      "15:25:16 - cmdstanpy - INFO - Chain [1] done processing\n"
     ]
    },
    {
     "data": {
      "application/vnd.jupyter.widget-view+json": {
       "model_id": "8c05b73bedd1403d80128405300e514e",
       "version_major": 2,
       "version_minor": 0
      },
      "text/plain": [
       "  0%|          | 0/4 [00:00<?, ?it/s]"
      ]
     },
     "metadata": {},
     "output_type": "display_data"
    },
    {
     "name": "stderr",
     "output_type": "stream",
     "text": [
      "15:25:16 - cmdstanpy - INFO - Chain [1] start processing\n",
      "15:25:16 - cmdstanpy - INFO - Chain [1] done processing\n",
      "15:25:17 - cmdstanpy - INFO - Chain [1] start processing\n",
      "15:25:17 - cmdstanpy - INFO - Chain [1] done processing\n",
      "15:25:18 - cmdstanpy - INFO - Chain [1] start processing\n",
      "15:25:18 - cmdstanpy - INFO - Chain [1] done processing\n",
      "15:25:19 - cmdstanpy - INFO - Chain [1] start processing\n",
      "15:25:19 - cmdstanpy - INFO - Chain [1] done processing\n",
      "15:25:19 - cmdstanpy - INFO - Chain [1] start processing\n",
      "15:25:19 - cmdstanpy - INFO - Chain [1] done processing\n"
     ]
    },
    {
     "data": {
      "application/vnd.jupyter.widget-view+json": {
       "model_id": "ebb363fdfc884479a6a29960eede5c17",
       "version_major": 2,
       "version_minor": 0
      },
      "text/plain": [
       "  0%|          | 0/4 [00:00<?, ?it/s]"
      ]
     },
     "metadata": {},
     "output_type": "display_data"
    },
    {
     "name": "stderr",
     "output_type": "stream",
     "text": [
      "15:25:20 - cmdstanpy - INFO - Chain [1] start processing\n",
      "15:25:20 - cmdstanpy - INFO - Chain [1] done processing\n",
      "15:25:20 - cmdstanpy - INFO - Chain [1] start processing\n",
      "15:25:20 - cmdstanpy - INFO - Chain [1] done processing\n",
      "15:25:21 - cmdstanpy - INFO - Chain [1] start processing\n",
      "15:25:21 - cmdstanpy - INFO - Chain [1] done processing\n",
      "15:25:22 - cmdstanpy - INFO - Chain [1] start processing\n",
      "15:25:22 - cmdstanpy - INFO - Chain [1] done processing\n",
      "15:25:23 - cmdstanpy - INFO - Chain [1] start processing\n",
      "15:25:23 - cmdstanpy - INFO - Chain [1] done processing\n"
     ]
    },
    {
     "data": {
      "application/vnd.jupyter.widget-view+json": {
       "model_id": "6c040ec4d0ca4dd39c6e1634fea3b025",
       "version_major": 2,
       "version_minor": 0
      },
      "text/plain": [
       "  0%|          | 0/4 [00:00<?, ?it/s]"
      ]
     },
     "metadata": {},
     "output_type": "display_data"
    },
    {
     "name": "stderr",
     "output_type": "stream",
     "text": [
      "15:25:23 - cmdstanpy - INFO - Chain [1] start processing\n",
      "15:25:23 - cmdstanpy - INFO - Chain [1] done processing\n",
      "15:25:24 - cmdstanpy - INFO - Chain [1] start processing\n",
      "15:25:24 - cmdstanpy - INFO - Chain [1] done processing\n",
      "15:25:24 - cmdstanpy - INFO - Chain [1] start processing\n",
      "15:25:24 - cmdstanpy - INFO - Chain [1] done processing\n",
      "15:25:25 - cmdstanpy - INFO - Chain [1] start processing\n",
      "15:25:25 - cmdstanpy - INFO - Chain [1] done processing\n",
      "15:25:26 - cmdstanpy - INFO - Chain [1] start processing\n",
      "15:25:26 - cmdstanpy - INFO - Chain [1] done processing\n"
     ]
    },
    {
     "data": {
      "application/vnd.jupyter.widget-view+json": {
       "model_id": "114ee720f3ed45ab8e4b3dc337fece01",
       "version_major": 2,
       "version_minor": 0
      },
      "text/plain": [
       "  0%|          | 0/4 [00:00<?, ?it/s]"
      ]
     },
     "metadata": {},
     "output_type": "display_data"
    },
    {
     "name": "stderr",
     "output_type": "stream",
     "text": [
      "15:25:26 - cmdstanpy - INFO - Chain [1] start processing\n",
      "15:25:26 - cmdstanpy - INFO - Chain [1] done processing\n",
      "15:25:27 - cmdstanpy - INFO - Chain [1] start processing\n",
      "15:25:27 - cmdstanpy - INFO - Chain [1] done processing\n",
      "15:25:27 - cmdstanpy - INFO - Chain [1] start processing\n",
      "15:25:27 - cmdstanpy - INFO - Chain [1] done processing\n",
      "15:25:28 - cmdstanpy - INFO - Chain [1] start processing\n",
      "15:25:28 - cmdstanpy - INFO - Chain [1] done processing\n",
      "15:25:29 - cmdstanpy - INFO - Chain [1] start processing\n",
      "15:25:29 - cmdstanpy - INFO - Chain [1] done processing\n"
     ]
    },
    {
     "data": {
      "application/vnd.jupyter.widget-view+json": {
       "model_id": "8a927f56cb98483180505d97e7211a45",
       "version_major": 2,
       "version_minor": 0
      },
      "text/plain": [
       "  0%|          | 0/4 [00:00<?, ?it/s]"
      ]
     },
     "metadata": {},
     "output_type": "display_data"
    },
    {
     "name": "stderr",
     "output_type": "stream",
     "text": [
      "15:25:29 - cmdstanpy - INFO - Chain [1] start processing\n",
      "15:25:29 - cmdstanpy - INFO - Chain [1] done processing\n",
      "15:25:30 - cmdstanpy - INFO - Chain [1] start processing\n",
      "15:25:30 - cmdstanpy - INFO - Chain [1] done processing\n",
      "15:25:30 - cmdstanpy - INFO - Chain [1] start processing\n",
      "15:25:30 - cmdstanpy - INFO - Chain [1] done processing\n",
      "15:25:31 - cmdstanpy - INFO - Chain [1] start processing\n",
      "15:25:31 - cmdstanpy - INFO - Chain [1] done processing\n",
      "15:25:32 - cmdstanpy - INFO - Chain [1] start processing\n",
      "15:25:32 - cmdstanpy - INFO - Chain [1] done processing\n"
     ]
    },
    {
     "data": {
      "application/vnd.jupyter.widget-view+json": {
       "model_id": "6a264cd6985a4af782422353222f0635",
       "version_major": 2,
       "version_minor": 0
      },
      "text/plain": [
       "  0%|          | 0/4 [00:00<?, ?it/s]"
      ]
     },
     "metadata": {},
     "output_type": "display_data"
    },
    {
     "name": "stderr",
     "output_type": "stream",
     "text": [
      "15:25:32 - cmdstanpy - INFO - Chain [1] start processing\n",
      "15:25:32 - cmdstanpy - INFO - Chain [1] done processing\n",
      "15:25:33 - cmdstanpy - INFO - Chain [1] start processing\n",
      "15:25:33 - cmdstanpy - INFO - Chain [1] done processing\n",
      "15:25:34 - cmdstanpy - INFO - Chain [1] start processing\n",
      "15:25:34 - cmdstanpy - INFO - Chain [1] done processing\n",
      "15:25:35 - cmdstanpy - INFO - Chain [1] start processing\n",
      "15:25:35 - cmdstanpy - INFO - Chain [1] done processing\n",
      "15:25:35 - cmdstanpy - INFO - Chain [1] start processing\n",
      "15:25:36 - cmdstanpy - INFO - Chain [1] done processing\n"
     ]
    },
    {
     "data": {
      "application/vnd.jupyter.widget-view+json": {
       "model_id": "4c19a85ae6034aa99af5896c65e3cc39",
       "version_major": 2,
       "version_minor": 0
      },
      "text/plain": [
       "  0%|          | 0/4 [00:00<?, ?it/s]"
      ]
     },
     "metadata": {},
     "output_type": "display_data"
    },
    {
     "name": "stderr",
     "output_type": "stream",
     "text": [
      "15:25:36 - cmdstanpy - INFO - Chain [1] start processing\n",
      "15:25:36 - cmdstanpy - INFO - Chain [1] done processing\n",
      "15:25:36 - cmdstanpy - INFO - Chain [1] start processing\n",
      "15:25:37 - cmdstanpy - INFO - Chain [1] done processing\n",
      "15:25:37 - cmdstanpy - INFO - Chain [1] start processing\n",
      "15:25:37 - cmdstanpy - INFO - Chain [1] done processing\n",
      "15:25:38 - cmdstanpy - INFO - Chain [1] start processing\n",
      "15:25:38 - cmdstanpy - INFO - Chain [1] done processing\n",
      "15:25:39 - cmdstanpy - INFO - Chain [1] start processing\n",
      "15:25:39 - cmdstanpy - INFO - Chain [1] done processing\n"
     ]
    },
    {
     "data": {
      "application/vnd.jupyter.widget-view+json": {
       "model_id": "57cfc3167d0c49478dbdeb731a33d019",
       "version_major": 2,
       "version_minor": 0
      },
      "text/plain": [
       "  0%|          | 0/4 [00:00<?, ?it/s]"
      ]
     },
     "metadata": {},
     "output_type": "display_data"
    },
    {
     "name": "stderr",
     "output_type": "stream",
     "text": [
      "15:25:39 - cmdstanpy - INFO - Chain [1] start processing\n",
      "15:25:39 - cmdstanpy - INFO - Chain [1] done processing\n",
      "15:25:40 - cmdstanpy - INFO - Chain [1] start processing\n",
      "15:25:40 - cmdstanpy - INFO - Chain [1] done processing\n",
      "15:25:40 - cmdstanpy - INFO - Chain [1] start processing\n",
      "15:25:40 - cmdstanpy - INFO - Chain [1] done processing\n",
      "15:25:42 - cmdstanpy - INFO - Chain [1] start processing\n",
      "15:25:42 - cmdstanpy - INFO - Chain [1] done processing\n",
      "15:25:43 - cmdstanpy - INFO - Chain [1] start processing\n",
      "15:25:43 - cmdstanpy - INFO - Chain [1] done processing\n"
     ]
    },
    {
     "data": {
      "application/vnd.jupyter.widget-view+json": {
       "model_id": "82e691c88739451ca1af73347b2f83f0",
       "version_major": 2,
       "version_minor": 0
      },
      "text/plain": [
       "  0%|          | 0/4 [00:00<?, ?it/s]"
      ]
     },
     "metadata": {},
     "output_type": "display_data"
    },
    {
     "name": "stderr",
     "output_type": "stream",
     "text": [
      "15:25:43 - cmdstanpy - INFO - Chain [1] start processing\n",
      "15:25:43 - cmdstanpy - INFO - Chain [1] done processing\n",
      "15:25:43 - cmdstanpy - INFO - Chain [1] start processing\n",
      "15:25:44 - cmdstanpy - INFO - Chain [1] done processing\n",
      "15:25:44 - cmdstanpy - INFO - Chain [1] start processing\n",
      "15:25:44 - cmdstanpy - INFO - Chain [1] done processing\n",
      "15:25:45 - cmdstanpy - INFO - Chain [1] start processing\n",
      "15:25:45 - cmdstanpy - INFO - Chain [1] done processing\n",
      "15:25:45 - cmdstanpy - INFO - Chain [1] start processing\n",
      "15:25:45 - cmdstanpy - INFO - Chain [1] done processing\n"
     ]
    },
    {
     "data": {
      "application/vnd.jupyter.widget-view+json": {
       "model_id": "e81cf81d807b4c86bfe32583cb1a0ff0",
       "version_major": 2,
       "version_minor": 0
      },
      "text/plain": [
       "  0%|          | 0/4 [00:00<?, ?it/s]"
      ]
     },
     "metadata": {},
     "output_type": "display_data"
    },
    {
     "name": "stderr",
     "output_type": "stream",
     "text": [
      "15:25:46 - cmdstanpy - INFO - Chain [1] start processing\n",
      "15:25:46 - cmdstanpy - INFO - Chain [1] done processing\n",
      "15:25:46 - cmdstanpy - INFO - Chain [1] start processing\n",
      "15:25:46 - cmdstanpy - INFO - Chain [1] done processing\n",
      "15:25:47 - cmdstanpy - INFO - Chain [1] start processing\n",
      "15:25:47 - cmdstanpy - INFO - Chain [1] done processing\n",
      "15:25:48 - cmdstanpy - INFO - Chain [1] start processing\n",
      "15:25:48 - cmdstanpy - INFO - Chain [1] done processing\n",
      "15:25:49 - cmdstanpy - INFO - Chain [1] start processing\n",
      "15:25:49 - cmdstanpy - INFO - Chain [1] done processing\n"
     ]
    },
    {
     "data": {
      "application/vnd.jupyter.widget-view+json": {
       "model_id": "e3b8d66eebf24fa7bfa6a491bf124a64",
       "version_major": 2,
       "version_minor": 0
      },
      "text/plain": [
       "  0%|          | 0/4 [00:00<?, ?it/s]"
      ]
     },
     "metadata": {},
     "output_type": "display_data"
    },
    {
     "name": "stderr",
     "output_type": "stream",
     "text": [
      "15:25:49 - cmdstanpy - INFO - Chain [1] start processing\n",
      "15:25:49 - cmdstanpy - INFO - Chain [1] done processing\n",
      "15:25:50 - cmdstanpy - INFO - Chain [1] start processing\n",
      "15:25:50 - cmdstanpy - INFO - Chain [1] done processing\n",
      "15:25:50 - cmdstanpy - INFO - Chain [1] start processing\n",
      "15:25:50 - cmdstanpy - INFO - Chain [1] done processing\n",
      "15:25:51 - cmdstanpy - INFO - Chain [1] start processing\n",
      "15:25:51 - cmdstanpy - INFO - Chain [1] done processing\n",
      "15:25:52 - cmdstanpy - INFO - Chain [1] start processing\n",
      "15:25:52 - cmdstanpy - INFO - Chain [1] done processing\n"
     ]
    },
    {
     "data": {
      "application/vnd.jupyter.widget-view+json": {
       "model_id": "6c7ccc651d114b80aecfeaa15f299517",
       "version_major": 2,
       "version_minor": 0
      },
      "text/plain": [
       "  0%|          | 0/4 [00:00<?, ?it/s]"
      ]
     },
     "metadata": {},
     "output_type": "display_data"
    },
    {
     "name": "stderr",
     "output_type": "stream",
     "text": [
      "15:25:52 - cmdstanpy - INFO - Chain [1] start processing\n",
      "15:25:52 - cmdstanpy - INFO - Chain [1] done processing\n",
      "15:25:53 - cmdstanpy - INFO - Chain [1] start processing\n",
      "15:25:53 - cmdstanpy - INFO - Chain [1] done processing\n",
      "15:25:53 - cmdstanpy - INFO - Chain [1] start processing\n",
      "15:25:53 - cmdstanpy - INFO - Chain [1] done processing\n",
      "15:25:54 - cmdstanpy - INFO - Chain [1] start processing\n",
      "15:25:54 - cmdstanpy - INFO - Chain [1] done processing\n",
      "15:25:55 - cmdstanpy - INFO - Chain [1] start processing\n",
      "15:25:55 - cmdstanpy - INFO - Chain [1] done processing\n"
     ]
    },
    {
     "data": {
      "application/vnd.jupyter.widget-view+json": {
       "model_id": "121943e9daba4917af8187ea27af95d2",
       "version_major": 2,
       "version_minor": 0
      },
      "text/plain": [
       "  0%|          | 0/4 [00:00<?, ?it/s]"
      ]
     },
     "metadata": {},
     "output_type": "display_data"
    },
    {
     "name": "stderr",
     "output_type": "stream",
     "text": [
      "15:25:55 - cmdstanpy - INFO - Chain [1] start processing\n",
      "15:25:55 - cmdstanpy - INFO - Chain [1] done processing\n",
      "15:25:56 - cmdstanpy - INFO - Chain [1] start processing\n",
      "15:25:56 - cmdstanpy - INFO - Chain [1] done processing\n",
      "15:25:56 - cmdstanpy - INFO - Chain [1] start processing\n",
      "15:25:57 - cmdstanpy - INFO - Chain [1] done processing\n",
      "15:25:57 - cmdstanpy - INFO - Chain [1] start processing\n",
      "15:25:57 - cmdstanpy - INFO - Chain [1] done processing\n",
      "15:25:58 - cmdstanpy - INFO - Chain [1] start processing\n",
      "15:25:58 - cmdstanpy - INFO - Chain [1] done processing\n"
     ]
    },
    {
     "data": {
      "application/vnd.jupyter.widget-view+json": {
       "model_id": "3bc53a64ec534522beb388bff59e215b",
       "version_major": 2,
       "version_minor": 0
      },
      "text/plain": [
       "  0%|          | 0/4 [00:00<?, ?it/s]"
      ]
     },
     "metadata": {},
     "output_type": "display_data"
    },
    {
     "name": "stderr",
     "output_type": "stream",
     "text": [
      "15:25:58 - cmdstanpy - INFO - Chain [1] start processing\n",
      "15:25:58 - cmdstanpy - INFO - Chain [1] done processing\n",
      "15:25:59 - cmdstanpy - INFO - Chain [1] start processing\n",
      "15:25:59 - cmdstanpy - INFO - Chain [1] done processing\n",
      "15:25:59 - cmdstanpy - INFO - Chain [1] start processing\n",
      "15:25:59 - cmdstanpy - INFO - Chain [1] done processing\n",
      "15:26:00 - cmdstanpy - INFO - Chain [1] start processing\n",
      "15:26:00 - cmdstanpy - INFO - Chain [1] done processing\n",
      "15:26:01 - cmdstanpy - INFO - Chain [1] start processing\n",
      "15:26:01 - cmdstanpy - INFO - Chain [1] done processing\n"
     ]
    },
    {
     "data": {
      "application/vnd.jupyter.widget-view+json": {
       "model_id": "8e9dd873a72e4fca8ca5ddf263dd568b",
       "version_major": 2,
       "version_minor": 0
      },
      "text/plain": [
       "  0%|          | 0/4 [00:00<?, ?it/s]"
      ]
     },
     "metadata": {},
     "output_type": "display_data"
    },
    {
     "name": "stderr",
     "output_type": "stream",
     "text": [
      "15:26:01 - cmdstanpy - INFO - Chain [1] start processing\n",
      "15:26:01 - cmdstanpy - INFO - Chain [1] done processing\n",
      "15:26:02 - cmdstanpy - INFO - Chain [1] start processing\n",
      "15:26:02 - cmdstanpy - INFO - Chain [1] done processing\n",
      "15:26:02 - cmdstanpy - INFO - Chain [1] start processing\n",
      "15:26:02 - cmdstanpy - INFO - Chain [1] done processing\n",
      "15:26:03 - cmdstanpy - INFO - Chain [1] start processing\n",
      "15:26:03 - cmdstanpy - INFO - Chain [1] done processing\n",
      "15:26:04 - cmdstanpy - INFO - Chain [1] start processing\n",
      "15:26:04 - cmdstanpy - INFO - Chain [1] done processing\n"
     ]
    },
    {
     "data": {
      "application/vnd.jupyter.widget-view+json": {
       "model_id": "bdc454e3657b45a99a2d9b0455c01b45",
       "version_major": 2,
       "version_minor": 0
      },
      "text/plain": [
       "  0%|          | 0/4 [00:00<?, ?it/s]"
      ]
     },
     "metadata": {},
     "output_type": "display_data"
    },
    {
     "name": "stderr",
     "output_type": "stream",
     "text": [
      "15:26:04 - cmdstanpy - INFO - Chain [1] start processing\n",
      "15:26:04 - cmdstanpy - INFO - Chain [1] done processing\n",
      "15:26:05 - cmdstanpy - INFO - Chain [1] start processing\n",
      "15:26:05 - cmdstanpy - INFO - Chain [1] done processing\n",
      "15:26:05 - cmdstanpy - INFO - Chain [1] start processing\n",
      "15:26:05 - cmdstanpy - INFO - Chain [1] done processing\n",
      "15:26:06 - cmdstanpy - INFO - Chain [1] start processing\n",
      "15:26:06 - cmdstanpy - INFO - Chain [1] done processing\n",
      "15:26:07 - cmdstanpy - INFO - Chain [1] start processing\n",
      "15:26:07 - cmdstanpy - INFO - Chain [1] done processing\n"
     ]
    },
    {
     "data": {
      "application/vnd.jupyter.widget-view+json": {
       "model_id": "a3b481ee1e884ab499a1a071208de6a1",
       "version_major": 2,
       "version_minor": 0
      },
      "text/plain": [
       "  0%|          | 0/4 [00:00<?, ?it/s]"
      ]
     },
     "metadata": {},
     "output_type": "display_data"
    },
    {
     "name": "stderr",
     "output_type": "stream",
     "text": [
      "15:26:07 - cmdstanpy - INFO - Chain [1] start processing\n",
      "15:26:07 - cmdstanpy - INFO - Chain [1] done processing\n",
      "15:26:08 - cmdstanpy - INFO - Chain [1] start processing\n",
      "15:26:08 - cmdstanpy - INFO - Chain [1] done processing\n",
      "15:26:08 - cmdstanpy - INFO - Chain [1] start processing\n",
      "15:26:08 - cmdstanpy - INFO - Chain [1] done processing\n",
      "15:26:09 - cmdstanpy - INFO - Chain [1] start processing\n",
      "15:26:09 - cmdstanpy - INFO - Chain [1] done processing\n",
      "15:26:10 - cmdstanpy - INFO - Chain [1] start processing\n",
      "15:26:10 - cmdstanpy - INFO - Chain [1] done processing\n"
     ]
    },
    {
     "data": {
      "application/vnd.jupyter.widget-view+json": {
       "model_id": "5123f289ec5e4b02826b1fc9db38b553",
       "version_major": 2,
       "version_minor": 0
      },
      "text/plain": [
       "  0%|          | 0/4 [00:00<?, ?it/s]"
      ]
     },
     "metadata": {},
     "output_type": "display_data"
    },
    {
     "name": "stderr",
     "output_type": "stream",
     "text": [
      "15:26:10 - cmdstanpy - INFO - Chain [1] start processing\n",
      "15:26:10 - cmdstanpy - INFO - Chain [1] done processing\n",
      "15:26:11 - cmdstanpy - INFO - Chain [1] start processing\n",
      "15:26:11 - cmdstanpy - INFO - Chain [1] done processing\n",
      "15:26:11 - cmdstanpy - INFO - Chain [1] start processing\n",
      "15:26:11 - cmdstanpy - INFO - Chain [1] done processing\n",
      "15:26:12 - cmdstanpy - INFO - Chain [1] start processing\n",
      "15:26:12 - cmdstanpy - INFO - Chain [1] done processing\n",
      "15:26:13 - cmdstanpy - INFO - Chain [1] start processing\n",
      "15:26:13 - cmdstanpy - INFO - Chain [1] done processing\n"
     ]
    },
    {
     "data": {
      "application/vnd.jupyter.widget-view+json": {
       "model_id": "e9f972d4e5a342baba66db0c888eb316",
       "version_major": 2,
       "version_minor": 0
      },
      "text/plain": [
       "  0%|          | 0/4 [00:00<?, ?it/s]"
      ]
     },
     "metadata": {},
     "output_type": "display_data"
    },
    {
     "name": "stderr",
     "output_type": "stream",
     "text": [
      "15:26:13 - cmdstanpy - INFO - Chain [1] start processing\n",
      "15:26:13 - cmdstanpy - INFO - Chain [1] done processing\n",
      "15:26:14 - cmdstanpy - INFO - Chain [1] start processing\n",
      "15:26:14 - cmdstanpy - INFO - Chain [1] done processing\n",
      "15:26:14 - cmdstanpy - INFO - Chain [1] start processing\n",
      "15:26:14 - cmdstanpy - INFO - Chain [1] done processing\n",
      "15:26:15 - cmdstanpy - INFO - Chain [1] start processing\n",
      "15:26:15 - cmdstanpy - INFO - Chain [1] done processing\n",
      "15:26:16 - cmdstanpy - INFO - Chain [1] start processing\n",
      "15:26:16 - cmdstanpy - INFO - Chain [1] done processing\n"
     ]
    },
    {
     "data": {
      "application/vnd.jupyter.widget-view+json": {
       "model_id": "ea95c263344946e99bd8ef4cfec364d4",
       "version_major": 2,
       "version_minor": 0
      },
      "text/plain": [
       "  0%|          | 0/4 [00:00<?, ?it/s]"
      ]
     },
     "metadata": {},
     "output_type": "display_data"
    },
    {
     "name": "stderr",
     "output_type": "stream",
     "text": [
      "15:26:16 - cmdstanpy - INFO - Chain [1] start processing\n",
      "15:26:16 - cmdstanpy - INFO - Chain [1] done processing\n",
      "15:26:17 - cmdstanpy - INFO - Chain [1] start processing\n",
      "15:26:17 - cmdstanpy - INFO - Chain [1] done processing\n",
      "15:26:17 - cmdstanpy - INFO - Chain [1] start processing\n",
      "15:26:17 - cmdstanpy - INFO - Chain [1] done processing\n",
      "15:26:18 - cmdstanpy - INFO - Chain [1] start processing\n",
      "15:26:18 - cmdstanpy - INFO - Chain [1] done processing\n",
      "15:26:19 - cmdstanpy - INFO - Chain [1] start processing\n",
      "15:26:19 - cmdstanpy - INFO - Chain [1] done processing\n"
     ]
    },
    {
     "data": {
      "application/vnd.jupyter.widget-view+json": {
       "model_id": "fcca6d0cd8dd4659bffab1a11fb08a30",
       "version_major": 2,
       "version_minor": 0
      },
      "text/plain": [
       "  0%|          | 0/4 [00:00<?, ?it/s]"
      ]
     },
     "metadata": {},
     "output_type": "display_data"
    },
    {
     "name": "stderr",
     "output_type": "stream",
     "text": [
      "15:26:19 - cmdstanpy - INFO - Chain [1] start processing\n",
      "15:26:20 - cmdstanpy - INFO - Chain [1] done processing\n",
      "15:26:20 - cmdstanpy - INFO - Chain [1] start processing\n",
      "15:26:20 - cmdstanpy - INFO - Chain [1] done processing\n",
      "15:26:21 - cmdstanpy - INFO - Chain [1] start processing\n",
      "15:26:21 - cmdstanpy - INFO - Chain [1] done processing\n",
      "15:26:22 - cmdstanpy - INFO - Chain [1] start processing\n",
      "15:26:22 - cmdstanpy - INFO - Chain [1] done processing\n",
      "15:26:22 - cmdstanpy - INFO - Chain [1] start processing\n",
      "15:26:22 - cmdstanpy - INFO - Chain [1] done processing\n"
     ]
    },
    {
     "data": {
      "application/vnd.jupyter.widget-view+json": {
       "model_id": "37b71b9def9449b2bd895397762ae731",
       "version_major": 2,
       "version_minor": 0
      },
      "text/plain": [
       "  0%|          | 0/4 [00:00<?, ?it/s]"
      ]
     },
     "metadata": {},
     "output_type": "display_data"
    },
    {
     "name": "stderr",
     "output_type": "stream",
     "text": [
      "15:26:22 - cmdstanpy - INFO - Chain [1] start processing\n",
      "15:26:23 - cmdstanpy - INFO - Chain [1] done processing\n",
      "15:26:24 - cmdstanpy - INFO - Chain [1] start processing\n",
      "15:26:24 - cmdstanpy - INFO - Chain [1] done processing\n",
      "15:26:24 - cmdstanpy - INFO - Chain [1] start processing\n",
      "15:26:24 - cmdstanpy - INFO - Chain [1] done processing\n",
      "15:26:25 - cmdstanpy - INFO - Chain [1] start processing\n",
      "15:26:25 - cmdstanpy - INFO - Chain [1] done processing\n",
      "15:26:26 - cmdstanpy - INFO - Chain [1] start processing\n",
      "15:26:26 - cmdstanpy - INFO - Chain [1] done processing\n"
     ]
    },
    {
     "data": {
      "application/vnd.jupyter.widget-view+json": {
       "model_id": "d2cb5687ec624b179d3a953bfada8210",
       "version_major": 2,
       "version_minor": 0
      },
      "text/plain": [
       "  0%|          | 0/4 [00:00<?, ?it/s]"
      ]
     },
     "metadata": {},
     "output_type": "display_data"
    },
    {
     "name": "stderr",
     "output_type": "stream",
     "text": [
      "15:26:26 - cmdstanpy - INFO - Chain [1] start processing\n",
      "15:26:26 - cmdstanpy - INFO - Chain [1] done processing\n",
      "15:26:27 - cmdstanpy - INFO - Chain [1] start processing\n",
      "15:26:27 - cmdstanpy - INFO - Chain [1] done processing\n",
      "15:26:28 - cmdstanpy - INFO - Chain [1] start processing\n",
      "15:26:28 - cmdstanpy - INFO - Chain [1] done processing\n",
      "15:26:28 - cmdstanpy - INFO - Chain [1] start processing\n",
      "15:26:28 - cmdstanpy - INFO - Chain [1] done processing\n",
      "15:26:29 - cmdstanpy - INFO - Chain [1] start processing\n",
      "15:26:29 - cmdstanpy - INFO - Chain [1] done processing\n"
     ]
    },
    {
     "data": {
      "application/vnd.jupyter.widget-view+json": {
       "model_id": "7c9a5e1650164fa59e53aad6ed074034",
       "version_major": 2,
       "version_minor": 0
      },
      "text/plain": [
       "  0%|          | 0/4 [00:00<?, ?it/s]"
      ]
     },
     "metadata": {},
     "output_type": "display_data"
    },
    {
     "name": "stderr",
     "output_type": "stream",
     "text": [
      "15:26:29 - cmdstanpy - INFO - Chain [1] start processing\n",
      "15:26:30 - cmdstanpy - INFO - Chain [1] done processing\n",
      "15:26:30 - cmdstanpy - INFO - Chain [1] start processing\n",
      "15:26:30 - cmdstanpy - INFO - Chain [1] done processing\n",
      "15:26:31 - cmdstanpy - INFO - Chain [1] start processing\n",
      "15:26:31 - cmdstanpy - INFO - Chain [1] done processing\n",
      "15:26:32 - cmdstanpy - INFO - Chain [1] start processing\n",
      "15:26:32 - cmdstanpy - INFO - Chain [1] done processing\n",
      "15:26:32 - cmdstanpy - INFO - Chain [1] start processing\n",
      "15:26:32 - cmdstanpy - INFO - Chain [1] done processing\n"
     ]
    },
    {
     "data": {
      "application/vnd.jupyter.widget-view+json": {
       "model_id": "2735eac1ff82485583284f9c1d3f12e8",
       "version_major": 2,
       "version_minor": 0
      },
      "text/plain": [
       "  0%|          | 0/4 [00:00<?, ?it/s]"
      ]
     },
     "metadata": {},
     "output_type": "display_data"
    },
    {
     "name": "stderr",
     "output_type": "stream",
     "text": [
      "15:26:33 - cmdstanpy - INFO - Chain [1] start processing\n",
      "15:26:33 - cmdstanpy - INFO - Chain [1] done processing\n",
      "15:26:33 - cmdstanpy - INFO - Chain [1] start processing\n",
      "15:26:34 - cmdstanpy - INFO - Chain [1] done processing\n",
      "15:26:34 - cmdstanpy - INFO - Chain [1] start processing\n",
      "15:26:34 - cmdstanpy - INFO - Chain [1] done processing\n",
      "15:26:35 - cmdstanpy - INFO - Chain [1] start processing\n",
      "15:26:35 - cmdstanpy - INFO - Chain [1] done processing\n",
      "15:26:36 - cmdstanpy - INFO - Chain [1] start processing\n",
      "15:26:36 - cmdstanpy - INFO - Chain [1] done processing\n"
     ]
    },
    {
     "data": {
      "application/vnd.jupyter.widget-view+json": {
       "model_id": "0761005aca884edca5f0e56ad8793d7d",
       "version_major": 2,
       "version_minor": 0
      },
      "text/plain": [
       "  0%|          | 0/4 [00:00<?, ?it/s]"
      ]
     },
     "metadata": {},
     "output_type": "display_data"
    },
    {
     "name": "stderr",
     "output_type": "stream",
     "text": [
      "15:26:36 - cmdstanpy - INFO - Chain [1] start processing\n",
      "15:26:36 - cmdstanpy - INFO - Chain [1] done processing\n",
      "15:26:37 - cmdstanpy - INFO - Chain [1] start processing\n",
      "15:26:37 - cmdstanpy - INFO - Chain [1] done processing\n",
      "15:26:37 - cmdstanpy - INFO - Chain [1] start processing\n",
      "15:26:37 - cmdstanpy - INFO - Chain [1] done processing\n",
      "15:26:38 - cmdstanpy - INFO - Chain [1] start processing\n",
      "15:26:38 - cmdstanpy - INFO - Chain [1] done processing\n",
      "15:26:39 - cmdstanpy - INFO - Chain [1] start processing\n",
      "15:26:39 - cmdstanpy - INFO - Chain [1] done processing\n"
     ]
    },
    {
     "data": {
      "application/vnd.jupyter.widget-view+json": {
       "model_id": "a444e243eaec4476affe0c790cfddad9",
       "version_major": 2,
       "version_minor": 0
      },
      "text/plain": [
       "  0%|          | 0/4 [00:00<?, ?it/s]"
      ]
     },
     "metadata": {},
     "output_type": "display_data"
    },
    {
     "name": "stderr",
     "output_type": "stream",
     "text": [
      "15:26:39 - cmdstanpy - INFO - Chain [1] start processing\n",
      "15:26:39 - cmdstanpy - INFO - Chain [1] done processing\n",
      "15:26:40 - cmdstanpy - INFO - Chain [1] start processing\n",
      "15:26:40 - cmdstanpy - INFO - Chain [1] done processing\n",
      "15:26:40 - cmdstanpy - INFO - Chain [1] start processing\n",
      "15:26:40 - cmdstanpy - INFO - Chain [1] done processing\n",
      "15:26:41 - cmdstanpy - INFO - Chain [1] start processing\n",
      "15:26:41 - cmdstanpy - INFO - Chain [1] done processing\n",
      "15:26:42 - cmdstanpy - INFO - Chain [1] start processing\n",
      "15:26:42 - cmdstanpy - INFO - Chain [1] done processing\n"
     ]
    },
    {
     "data": {
      "application/vnd.jupyter.widget-view+json": {
       "model_id": "a4382ca17a644696829e7b0ad80c280b",
       "version_major": 2,
       "version_minor": 0
      },
      "text/plain": [
       "  0%|          | 0/4 [00:00<?, ?it/s]"
      ]
     },
     "metadata": {},
     "output_type": "display_data"
    },
    {
     "name": "stderr",
     "output_type": "stream",
     "text": [
      "15:26:42 - cmdstanpy - INFO - Chain [1] start processing\n",
      "15:26:42 - cmdstanpy - INFO - Chain [1] done processing\n",
      "15:26:43 - cmdstanpy - INFO - Chain [1] start processing\n",
      "15:26:43 - cmdstanpy - INFO - Chain [1] done processing\n",
      "15:26:44 - cmdstanpy - INFO - Chain [1] start processing\n",
      "15:26:44 - cmdstanpy - INFO - Chain [1] done processing\n",
      "15:26:44 - cmdstanpy - INFO - Chain [1] start processing\n",
      "15:26:44 - cmdstanpy - INFO - Chain [1] done processing\n",
      "15:26:45 - cmdstanpy - INFO - Chain [1] start processing\n",
      "15:26:45 - cmdstanpy - INFO - Chain [1] done processing\n"
     ]
    },
    {
     "data": {
      "application/vnd.jupyter.widget-view+json": {
       "model_id": "dd3a896a5d3543cb946b3ff6596f8d90",
       "version_major": 2,
       "version_minor": 0
      },
      "text/plain": [
       "  0%|          | 0/4 [00:00<?, ?it/s]"
      ]
     },
     "metadata": {},
     "output_type": "display_data"
    },
    {
     "name": "stderr",
     "output_type": "stream",
     "text": [
      "15:26:45 - cmdstanpy - INFO - Chain [1] start processing\n",
      "15:26:45 - cmdstanpy - INFO - Chain [1] done processing\n",
      "15:26:46 - cmdstanpy - INFO - Chain [1] start processing\n",
      "15:26:46 - cmdstanpy - INFO - Chain [1] done processing\n",
      "15:26:47 - cmdstanpy - INFO - Chain [1] start processing\n",
      "15:26:47 - cmdstanpy - INFO - Chain [1] done processing\n",
      "15:26:47 - cmdstanpy - INFO - Chain [1] start processing\n",
      "15:26:47 - cmdstanpy - INFO - Chain [1] done processing\n",
      "15:26:48 - cmdstanpy - INFO - Chain [1] start processing\n",
      "15:26:48 - cmdstanpy - INFO - Chain [1] done processing\n"
     ]
    },
    {
     "data": {
      "application/vnd.jupyter.widget-view+json": {
       "model_id": "a8f0565d10c34216aa436d3583c27dc1",
       "version_major": 2,
       "version_minor": 0
      },
      "text/plain": [
       "  0%|          | 0/4 [00:00<?, ?it/s]"
      ]
     },
     "metadata": {},
     "output_type": "display_data"
    },
    {
     "name": "stderr",
     "output_type": "stream",
     "text": [
      "15:26:48 - cmdstanpy - INFO - Chain [1] start processing\n",
      "15:26:49 - cmdstanpy - INFO - Chain [1] done processing\n",
      "15:26:49 - cmdstanpy - INFO - Chain [1] start processing\n",
      "15:26:49 - cmdstanpy - INFO - Chain [1] done processing\n",
      "15:26:50 - cmdstanpy - INFO - Chain [1] start processing\n",
      "15:26:50 - cmdstanpy - INFO - Chain [1] done processing\n",
      "15:26:51 - cmdstanpy - INFO - Chain [1] start processing\n",
      "15:26:51 - cmdstanpy - INFO - Chain [1] done processing\n",
      "15:26:51 - cmdstanpy - INFO - Chain [1] start processing\n",
      "15:26:51 - cmdstanpy - INFO - Chain [1] done processing\n"
     ]
    },
    {
     "data": {
      "application/vnd.jupyter.widget-view+json": {
       "model_id": "73e4ae1de36748eba353a4af2c4b4fd7",
       "version_major": 2,
       "version_minor": 0
      },
      "text/plain": [
       "  0%|          | 0/4 [00:00<?, ?it/s]"
      ]
     },
     "metadata": {},
     "output_type": "display_data"
    },
    {
     "name": "stderr",
     "output_type": "stream",
     "text": [
      "15:26:51 - cmdstanpy - INFO - Chain [1] start processing\n",
      "15:26:52 - cmdstanpy - INFO - Chain [1] done processing\n",
      "15:26:52 - cmdstanpy - INFO - Chain [1] start processing\n",
      "15:26:52 - cmdstanpy - INFO - Chain [1] done processing\n",
      "15:26:53 - cmdstanpy - INFO - Chain [1] start processing\n",
      "15:26:53 - cmdstanpy - INFO - Chain [1] done processing\n",
      "15:26:54 - cmdstanpy - INFO - Chain [1] start processing\n",
      "15:26:54 - cmdstanpy - INFO - Chain [1] done processing\n",
      "15:26:54 - cmdstanpy - INFO - Chain [1] start processing\n",
      "15:26:54 - cmdstanpy - INFO - Chain [1] done processing\n"
     ]
    },
    {
     "data": {
      "application/vnd.jupyter.widget-view+json": {
       "model_id": "d4fe2e0f052e48d394b3ecc0373f32f6",
       "version_major": 2,
       "version_minor": 0
      },
      "text/plain": [
       "  0%|          | 0/4 [00:00<?, ?it/s]"
      ]
     },
     "metadata": {},
     "output_type": "display_data"
    },
    {
     "name": "stderr",
     "output_type": "stream",
     "text": [
      "15:26:54 - cmdstanpy - INFO - Chain [1] start processing\n",
      "15:26:55 - cmdstanpy - INFO - Chain [1] done processing\n",
      "15:26:56 - cmdstanpy - INFO - Chain [1] start processing\n",
      "15:26:56 - cmdstanpy - INFO - Chain [1] done processing\n",
      "15:26:56 - cmdstanpy - INFO - Chain [1] start processing\n",
      "15:26:56 - cmdstanpy - INFO - Chain [1] done processing\n",
      "15:26:57 - cmdstanpy - INFO - Chain [1] start processing\n",
      "15:26:57 - cmdstanpy - INFO - Chain [1] done processing\n"
     ]
    },
    {
     "name": "stdout",
     "output_type": "stream",
     "text": [
      "    changepoint_prior_scale  seasonality_prior_scale  holidays_prior_scale  \\\n",
      "0                     0.001                     0.01                  0.01   \n",
      "1                     0.001                     0.01                  0.10   \n",
      "2                     0.001                     0.01                  1.00   \n",
      "3                     0.001                     0.01                 10.00   \n",
      "4                     0.001                     0.10                  0.01   \n",
      "..                      ...                      ...                   ...   \n",
      "59                    0.500                     1.00                 10.00   \n",
      "60                    0.500                    10.00                  0.01   \n",
      "61                    0.500                    10.00                  0.10   \n",
      "62                    0.500                    10.00                  1.00   \n",
      "63                    0.500                    10.00                 10.00   \n",
      "\n",
      "        rmse       mse       mae  \n",
      "0   0.079254  0.006281  0.065974  \n",
      "1   0.079254  0.006281  0.065974  \n",
      "2   0.079254  0.006281  0.065974  \n",
      "3   0.079254  0.006281  0.065974  \n",
      "4   0.112363  0.012625  0.092979  \n",
      "..       ...       ...       ...  \n",
      "59  0.043992  0.001935  0.032483  \n",
      "60  0.044235  0.001957  0.032660  \n",
      "61  0.044235  0.001957  0.032660  \n",
      "62  0.044235  0.001957  0.032660  \n",
      "63  0.044235  0.001957  0.032660  \n",
      "\n",
      "[64 rows x 6 columns]\n"
     ]
    }
   ],
   "source": [
    "from prophet import Prophet\n",
    "import itertools\n",
    "import numpy as np\n",
    "import pandas as pd\n",
    "from prophet.diagnostics import cross_validation\n",
    "from prophet.diagnostics import performance_metrics\n",
    "\n",
    "#change param_grid based on prev outcome:\n",
    "#changepoint_prior_scale    0.120000\n",
    "#seasonality_prior_scale    0.011000\n",
    "#holidays_prior_scale       0.008000\n",
    "#rmse                       0.042895\n",
    "#mse                        0.001840\n",
    "#mae                        0.032296\n",
    "\n",
    "\n",
    "\n",
    "\n",
    "data = pd.read_csv('data.csv')\n",
    "\n",
    "\n",
    "param_grid = {  \n",
    "    'changepoint_prior_scale': [0.12, 0.13, 0.14, 0.5],\n",
    "    'seasonality_prior_scale': [0.01, 0.1, 1.0, 10.0],\n",
    "    'holidays_prior_scale': [0.01, 0.1, 1.0, 10.0],\n",
    "}\n",
    "\n",
    "# Generate all combinations of parameters\n",
    "all_params = [dict(zip(param_grid.keys(), v)) for v in itertools.product(*param_grid.values())]\n",
    "rmses = []  # Store the RMSEs for each params here\n",
    "mse = []\n",
    "mae = []\n",
    "\n",
    "# Use cross validation to evaluate all parameters\n",
    "for params in all_params:\n",
    "    m = Prophet(**params, interval_width=0.9, daily_seasonality=True).fit(data)  # Fit model with given params\n",
    "    df_cv = cross_validation(m, initial='100 days', period='60 days', horizon = '30 days')\n",
    "    df_p = performance_metrics(df_cv, rolling_window=1)\n",
    "    rmses.append(df_p['rmse'].values[0])\n",
    "    mse.append(df_p[\"mse\"].values[0])\n",
    "    mae.append(df_p[\"mae\"].values[0])\n",
    "\n",
    "# Find the best parameters\n",
    "tuning_results = pd.DataFrame(all_params)\n",
    "tuning_results['rmse'] = rmses\n",
    "tuning_results['mse'] = mse\n",
    "tuning_results['mae'] = mae\n",
    "print(tuning_results)\n",
    "\n"
   ]
  },
  {
   "cell_type": "code",
   "execution_count": null,
   "id": "8d68eb81",
   "metadata": {},
   "outputs": [],
   "source": [
    "best_params = all_params[np.argmin(rmses)]\n",
    "print(best_params)"
   ]
  },
  {
   "cell_type": "code",
   "execution_count": null,
   "id": "d233438b",
   "metadata": {},
   "outputs": [],
   "source": [
    "print(tuning_results['rmse'].min())"
   ]
  },
  {
   "cell_type": "code",
   "execution_count": 2,
   "id": "80a34dd6",
   "metadata": {
    "collapsed": true
   },
   "outputs": [
    {
     "name": "stdout",
     "output_type": "stream",
     "text": [
      "[{'changepoint_prior_scale': 0.001, 'seasonality_prior_scale': 0.01, 'holidays_prior_scale': 0.01}, {'changepoint_prior_scale': 0.001, 'seasonality_prior_scale': 0.01, 'holidays_prior_scale': 0.1}, {'changepoint_prior_scale': 0.001, 'seasonality_prior_scale': 0.01, 'holidays_prior_scale': 1.0}, {'changepoint_prior_scale': 0.001, 'seasonality_prior_scale': 0.01, 'holidays_prior_scale': 10.0}, {'changepoint_prior_scale': 0.001, 'seasonality_prior_scale': 0.1, 'holidays_prior_scale': 0.01}, {'changepoint_prior_scale': 0.001, 'seasonality_prior_scale': 0.1, 'holidays_prior_scale': 0.1}, {'changepoint_prior_scale': 0.001, 'seasonality_prior_scale': 0.1, 'holidays_prior_scale': 1.0}, {'changepoint_prior_scale': 0.001, 'seasonality_prior_scale': 0.1, 'holidays_prior_scale': 10.0}, {'changepoint_prior_scale': 0.001, 'seasonality_prior_scale': 1.0, 'holidays_prior_scale': 0.01}, {'changepoint_prior_scale': 0.001, 'seasonality_prior_scale': 1.0, 'holidays_prior_scale': 0.1}, {'changepoint_prior_scale': 0.001, 'seasonality_prior_scale': 1.0, 'holidays_prior_scale': 1.0}, {'changepoint_prior_scale': 0.001, 'seasonality_prior_scale': 1.0, 'holidays_prior_scale': 10.0}, {'changepoint_prior_scale': 0.001, 'seasonality_prior_scale': 10.0, 'holidays_prior_scale': 0.01}, {'changepoint_prior_scale': 0.001, 'seasonality_prior_scale': 10.0, 'holidays_prior_scale': 0.1}, {'changepoint_prior_scale': 0.001, 'seasonality_prior_scale': 10.0, 'holidays_prior_scale': 1.0}, {'changepoint_prior_scale': 0.001, 'seasonality_prior_scale': 10.0, 'holidays_prior_scale': 10.0}, {'changepoint_prior_scale': 0.01, 'seasonality_prior_scale': 0.01, 'holidays_prior_scale': 0.01}, {'changepoint_prior_scale': 0.01, 'seasonality_prior_scale': 0.01, 'holidays_prior_scale': 0.1}, {'changepoint_prior_scale': 0.01, 'seasonality_prior_scale': 0.01, 'holidays_prior_scale': 1.0}, {'changepoint_prior_scale': 0.01, 'seasonality_prior_scale': 0.01, 'holidays_prior_scale': 10.0}, {'changepoint_prior_scale': 0.01, 'seasonality_prior_scale': 0.1, 'holidays_prior_scale': 0.01}, {'changepoint_prior_scale': 0.01, 'seasonality_prior_scale': 0.1, 'holidays_prior_scale': 0.1}, {'changepoint_prior_scale': 0.01, 'seasonality_prior_scale': 0.1, 'holidays_prior_scale': 1.0}, {'changepoint_prior_scale': 0.01, 'seasonality_prior_scale': 0.1, 'holidays_prior_scale': 10.0}, {'changepoint_prior_scale': 0.01, 'seasonality_prior_scale': 1.0, 'holidays_prior_scale': 0.01}, {'changepoint_prior_scale': 0.01, 'seasonality_prior_scale': 1.0, 'holidays_prior_scale': 0.1}, {'changepoint_prior_scale': 0.01, 'seasonality_prior_scale': 1.0, 'holidays_prior_scale': 1.0}, {'changepoint_prior_scale': 0.01, 'seasonality_prior_scale': 1.0, 'holidays_prior_scale': 10.0}, {'changepoint_prior_scale': 0.01, 'seasonality_prior_scale': 10.0, 'holidays_prior_scale': 0.01}, {'changepoint_prior_scale': 0.01, 'seasonality_prior_scale': 10.0, 'holidays_prior_scale': 0.1}, {'changepoint_prior_scale': 0.01, 'seasonality_prior_scale': 10.0, 'holidays_prior_scale': 1.0}, {'changepoint_prior_scale': 0.01, 'seasonality_prior_scale': 10.0, 'holidays_prior_scale': 10.0}, {'changepoint_prior_scale': 0.1, 'seasonality_prior_scale': 0.01, 'holidays_prior_scale': 0.01}, {'changepoint_prior_scale': 0.1, 'seasonality_prior_scale': 0.01, 'holidays_prior_scale': 0.1}, {'changepoint_prior_scale': 0.1, 'seasonality_prior_scale': 0.01, 'holidays_prior_scale': 1.0}, {'changepoint_prior_scale': 0.1, 'seasonality_prior_scale': 0.01, 'holidays_prior_scale': 10.0}, {'changepoint_prior_scale': 0.1, 'seasonality_prior_scale': 0.1, 'holidays_prior_scale': 0.01}, {'changepoint_prior_scale': 0.1, 'seasonality_prior_scale': 0.1, 'holidays_prior_scale': 0.1}, {'changepoint_prior_scale': 0.1, 'seasonality_prior_scale': 0.1, 'holidays_prior_scale': 1.0}, {'changepoint_prior_scale': 0.1, 'seasonality_prior_scale': 0.1, 'holidays_prior_scale': 10.0}, {'changepoint_prior_scale': 0.1, 'seasonality_prior_scale': 1.0, 'holidays_prior_scale': 0.01}, {'changepoint_prior_scale': 0.1, 'seasonality_prior_scale': 1.0, 'holidays_prior_scale': 0.1}, {'changepoint_prior_scale': 0.1, 'seasonality_prior_scale': 1.0, 'holidays_prior_scale': 1.0}, {'changepoint_prior_scale': 0.1, 'seasonality_prior_scale': 1.0, 'holidays_prior_scale': 10.0}, {'changepoint_prior_scale': 0.1, 'seasonality_prior_scale': 10.0, 'holidays_prior_scale': 0.01}, {'changepoint_prior_scale': 0.1, 'seasonality_prior_scale': 10.0, 'holidays_prior_scale': 0.1}, {'changepoint_prior_scale': 0.1, 'seasonality_prior_scale': 10.0, 'holidays_prior_scale': 1.0}, {'changepoint_prior_scale': 0.1, 'seasonality_prior_scale': 10.0, 'holidays_prior_scale': 10.0}, {'changepoint_prior_scale': 0.5, 'seasonality_prior_scale': 0.01, 'holidays_prior_scale': 0.01}, {'changepoint_prior_scale': 0.5, 'seasonality_prior_scale': 0.01, 'holidays_prior_scale': 0.1}, {'changepoint_prior_scale': 0.5, 'seasonality_prior_scale': 0.01, 'holidays_prior_scale': 1.0}, {'changepoint_prior_scale': 0.5, 'seasonality_prior_scale': 0.01, 'holidays_prior_scale': 10.0}, {'changepoint_prior_scale': 0.5, 'seasonality_prior_scale': 0.1, 'holidays_prior_scale': 0.01}, {'changepoint_prior_scale': 0.5, 'seasonality_prior_scale': 0.1, 'holidays_prior_scale': 0.1}, {'changepoint_prior_scale': 0.5, 'seasonality_prior_scale': 0.1, 'holidays_prior_scale': 1.0}, {'changepoint_prior_scale': 0.5, 'seasonality_prior_scale': 0.1, 'holidays_prior_scale': 10.0}, {'changepoint_prior_scale': 0.5, 'seasonality_prior_scale': 1.0, 'holidays_prior_scale': 0.01}, {'changepoint_prior_scale': 0.5, 'seasonality_prior_scale': 1.0, 'holidays_prior_scale': 0.1}, {'changepoint_prior_scale': 0.5, 'seasonality_prior_scale': 1.0, 'holidays_prior_scale': 1.0}, {'changepoint_prior_scale': 0.5, 'seasonality_prior_scale': 1.0, 'holidays_prior_scale': 10.0}, {'changepoint_prior_scale': 0.5, 'seasonality_prior_scale': 10.0, 'holidays_prior_scale': 0.01}, {'changepoint_prior_scale': 0.5, 'seasonality_prior_scale': 10.0, 'holidays_prior_scale': 0.1}, {'changepoint_prior_scale': 0.5, 'seasonality_prior_scale': 10.0, 'holidays_prior_scale': 1.0}, {'changepoint_prior_scale': 0.5, 'seasonality_prior_scale': 10.0, 'holidays_prior_scale': 10.0}]\n"
     ]
    }
   ],
   "source": [
    "print(all_params)"
   ]
  },
  {
   "cell_type": "code",
   "execution_count": 3,
   "id": "b221b7cf",
   "metadata": {},
   "outputs": [
    {
     "name": "stdout",
     "output_type": "stream",
     "text": [
      "0.0018449153748783674\n"
     ]
    }
   ],
   "source": [
    "print(tuning_results[['rmse','mse','mae']].min().min())"
   ]
  },
  {
   "cell_type": "code",
   "execution_count": 8,
   "id": "aa1c06bf",
   "metadata": {},
   "outputs": [],
   "source": [
    "combined_row_value = []\n",
    "\n",
    "for ind in tuning_results.index:\n",
    "    sum_val = tuning_results['rmse'][ind] + tuning_results['mse'][ind] + tuning_results['mae'][ind]\n",
    "    combined_row_value.append(dict(index=ind, sum_val=sum_val))"
   ]
  },
  {
   "cell_type": "code",
   "execution_count": 10,
   "id": "676d9e1d",
   "metadata": {},
   "outputs": [
    {
     "name": "stdout",
     "output_type": "stream",
     "text": [
      "[{'index': 0, 'sum_val': 0.15150974460084043}, {'index': 1, 'sum_val': 0.15150974460084043}, {'index': 2, 'sum_val': 0.15150974460084043}, {'index': 3, 'sum_val': 0.15150974460084043}, {'index': 4, 'sum_val': 0.2179672706947755}, {'index': 5, 'sum_val': 0.2179672706947755}, {'index': 6, 'sum_val': 0.2179672706947755}, {'index': 7, 'sum_val': 0.2179672706947755}, {'index': 8, 'sum_val': 0.21410682801569425}, {'index': 9, 'sum_val': 0.21410682801569425}, {'index': 10, 'sum_val': 0.21410682801569425}, {'index': 11, 'sum_val': 0.21410682801569425}, {'index': 12, 'sum_val': 0.21345217544372647}, {'index': 13, 'sum_val': 0.21345217544372647}, {'index': 14, 'sum_val': 0.21345217544372647}, {'index': 15, 'sum_val': 0.21345217544372647}, {'index': 16, 'sum_val': 0.08466199315451514}, {'index': 17, 'sum_val': 0.08466199315451514}, {'index': 18, 'sum_val': 0.08466199315451514}, {'index': 19, 'sum_val': 0.08466199315451514}, {'index': 20, 'sum_val': 0.0842907807463856}, {'index': 21, 'sum_val': 0.0842907807463856}, {'index': 22, 'sum_val': 0.0842907807463856}, {'index': 23, 'sum_val': 0.0842907807463856}, {'index': 24, 'sum_val': 0.07840032415321918}, {'index': 25, 'sum_val': 0.07840032415321918}, {'index': 26, 'sum_val': 0.07840032415321918}, {'index': 27, 'sum_val': 0.07840032415321918}, {'index': 28, 'sum_val': 0.0783632039966271}, {'index': 29, 'sum_val': 0.0783632039966271}, {'index': 30, 'sum_val': 0.0783632039966271}, {'index': 31, 'sum_val': 0.0783632039966271}, {'index': 32, 'sum_val': 0.07719092734935093}, {'index': 33, 'sum_val': 0.07719092734935093}, {'index': 34, 'sum_val': 0.07719092734935093}, {'index': 35, 'sum_val': 0.07719092734935093}, {'index': 36, 'sum_val': 0.07800443239426716}, {'index': 37, 'sum_val': 0.07800443239426716}, {'index': 38, 'sum_val': 0.07800443239426716}, {'index': 39, 'sum_val': 0.07800443239426716}, {'index': 40, 'sum_val': 0.07795387745658125}, {'index': 41, 'sum_val': 0.07795387745658125}, {'index': 42, 'sum_val': 0.07795387745658125}, {'index': 43, 'sum_val': 0.07795387745658125}, {'index': 44, 'sum_val': 0.07791160776120698}, {'index': 45, 'sum_val': 0.07791160776120698}, {'index': 46, 'sum_val': 0.07791160776120698}, {'index': 47, 'sum_val': 0.07791160776120698}, {'index': 48, 'sum_val': 0.0775507236175168}, {'index': 49, 'sum_val': 0.0775507236175168}, {'index': 50, 'sum_val': 0.0775507236175168}, {'index': 51, 'sum_val': 0.0775507236175168}, {'index': 52, 'sum_val': 0.07873648773080148}, {'index': 53, 'sum_val': 0.07873648773080148}, {'index': 54, 'sum_val': 0.07873648773080148}, {'index': 55, 'sum_val': 0.07873648773080148}, {'index': 56, 'sum_val': 0.07841019048683359}, {'index': 57, 'sum_val': 0.07841019048683359}, {'index': 58, 'sum_val': 0.07841019048683359}, {'index': 59, 'sum_val': 0.07841019048683359}, {'index': 60, 'sum_val': 0.07885171655945532}, {'index': 61, 'sum_val': 0.07885171655945532}, {'index': 62, 'sum_val': 0.07885171655945532}, {'index': 63, 'sum_val': 0.07885171655945532}]\n"
     ]
    }
   ],
   "source": [
    "print(combined_row_value)"
   ]
  },
  {
   "cell_type": "code",
   "execution_count": 14,
   "id": "a031ac53",
   "metadata": {},
   "outputs": [
    {
     "name": "stdout",
     "output_type": "stream",
     "text": [
      "{'index': 32, 'sum_val': 0.07719092734935093}\n"
     ]
    }
   ],
   "source": [
    "print(min(combined_row_value, key=lambda x:x['sum_val']))\n"
   ]
  },
  {
   "cell_type": "code",
   "execution_count": 16,
   "id": "e1cd58b9",
   "metadata": {},
   "outputs": [
    {
     "name": "stdout",
     "output_type": "stream",
     "text": [
      "changepoint_prior_scale    0.100000\n",
      "seasonality_prior_scale    0.010000\n",
      "holidays_prior_scale       0.010000\n",
      "rmse                       0.042952\n",
      "mse                        0.001845\n",
      "mae                        0.032394\n",
      "Name: 32, dtype: float64\n"
     ]
    }
   ],
   "source": [
    "print(tuning_results.loc[32])"
   ]
  },
  {
   "cell_type": "code",
   "execution_count": null,
   "id": "bf2b1a4d",
   "metadata": {},
   "outputs": [],
   "source": []
  },
  {
   "cell_type": "code",
   "execution_count": null,
   "id": "cbc5280a",
   "metadata": {},
   "outputs": [],
   "source": []
  }
 ],
 "metadata": {
  "kernelspec": {
   "display_name": "Python 3 (ipykernel)",
   "language": "python",
   "name": "python3"
  },
  "language_info": {
   "codemirror_mode": {
    "name": "ipython",
    "version": 3
   },
   "file_extension": ".py",
   "mimetype": "text/x-python",
   "name": "python",
   "nbconvert_exporter": "python",
   "pygments_lexer": "ipython3",
   "version": "3.9.12"
  }
 },
 "nbformat": 4,
 "nbformat_minor": 5
}
