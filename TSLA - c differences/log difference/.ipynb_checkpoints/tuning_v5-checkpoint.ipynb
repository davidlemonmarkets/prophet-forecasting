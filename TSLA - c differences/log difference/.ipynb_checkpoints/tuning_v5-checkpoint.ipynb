{
 "cells": [
  {
   "cell_type": "code",
   "execution_count": 1,
   "id": "2968028f",
   "metadata": {},
   "outputs": [
    {
     "name": "stderr",
     "output_type": "stream",
     "text": [
      "10:39:51 - cmdstanpy - INFO - Chain [1] start processing\n",
      "10:39:51 - cmdstanpy - INFO - Chain [1] done processing\n"
     ]
    },
    {
     "data": {
      "application/vnd.jupyter.widget-view+json": {
       "model_id": "daac648a05974d248dd42cadb3d93de2",
       "version_major": 2,
       "version_minor": 0
      },
      "text/plain": [
       "  0%|          | 0/4 [00:00<?, ?it/s]"
      ]
     },
     "metadata": {},
     "output_type": "display_data"
    },
    {
     "name": "stderr",
     "output_type": "stream",
     "text": [
      "10:39:51 - cmdstanpy - INFO - Chain [1] start processing\n",
      "10:39:51 - cmdstanpy - INFO - Chain [1] done processing\n",
      "10:39:52 - cmdstanpy - INFO - Chain [1] start processing\n",
      "10:39:52 - cmdstanpy - INFO - Chain [1] done processing\n",
      "10:39:52 - cmdstanpy - INFO - Chain [1] start processing\n",
      "10:39:52 - cmdstanpy - INFO - Chain [1] done processing\n",
      "10:39:53 - cmdstanpy - INFO - Chain [1] start processing\n",
      "10:39:53 - cmdstanpy - INFO - Chain [1] done processing\n",
      "10:39:54 - cmdstanpy - INFO - Chain [1] start processing\n",
      "10:39:54 - cmdstanpy - INFO - Chain [1] done processing\n"
     ]
    },
    {
     "data": {
      "application/vnd.jupyter.widget-view+json": {
       "model_id": "19a5b89d1f714defa8f50c230947b0c8",
       "version_major": 2,
       "version_minor": 0
      },
      "text/plain": [
       "  0%|          | 0/4 [00:00<?, ?it/s]"
      ]
     },
     "metadata": {},
     "output_type": "display_data"
    },
    {
     "name": "stderr",
     "output_type": "stream",
     "text": [
      "10:39:54 - cmdstanpy - INFO - Chain [1] start processing\n",
      "10:39:54 - cmdstanpy - INFO - Chain [1] done processing\n",
      "10:39:55 - cmdstanpy - INFO - Chain [1] start processing\n",
      "10:39:55 - cmdstanpy - INFO - Chain [1] done processing\n",
      "10:39:55 - cmdstanpy - INFO - Chain [1] start processing\n",
      "10:39:55 - cmdstanpy - INFO - Chain [1] done processing\n",
      "10:39:56 - cmdstanpy - INFO - Chain [1] start processing\n",
      "10:39:56 - cmdstanpy - INFO - Chain [1] done processing\n",
      "10:39:57 - cmdstanpy - INFO - Chain [1] start processing\n",
      "10:39:57 - cmdstanpy - INFO - Chain [1] done processing\n"
     ]
    },
    {
     "data": {
      "application/vnd.jupyter.widget-view+json": {
       "model_id": "847707f20ae74c46b33df310588db918",
       "version_major": 2,
       "version_minor": 0
      },
      "text/plain": [
       "  0%|          | 0/4 [00:00<?, ?it/s]"
      ]
     },
     "metadata": {},
     "output_type": "display_data"
    },
    {
     "name": "stderr",
     "output_type": "stream",
     "text": [
      "10:39:57 - cmdstanpy - INFO - Chain [1] start processing\n",
      "10:39:57 - cmdstanpy - INFO - Chain [1] done processing\n",
      "10:39:57 - cmdstanpy - INFO - Chain [1] start processing\n",
      "10:39:57 - cmdstanpy - INFO - Chain [1] done processing\n",
      "10:39:58 - cmdstanpy - INFO - Chain [1] start processing\n",
      "10:39:58 - cmdstanpy - INFO - Chain [1] done processing\n",
      "10:39:59 - cmdstanpy - INFO - Chain [1] start processing\n",
      "10:39:59 - cmdstanpy - INFO - Chain [1] done processing\n",
      "10:39:59 - cmdstanpy - INFO - Chain [1] start processing\n",
      "10:39:59 - cmdstanpy - INFO - Chain [1] done processing\n"
     ]
    },
    {
     "data": {
      "application/vnd.jupyter.widget-view+json": {
       "model_id": "b00563f8fac44fbfb3ddefc9e08cc27b",
       "version_major": 2,
       "version_minor": 0
      },
      "text/plain": [
       "  0%|          | 0/4 [00:00<?, ?it/s]"
      ]
     },
     "metadata": {},
     "output_type": "display_data"
    },
    {
     "name": "stderr",
     "output_type": "stream",
     "text": [
      "10:39:59 - cmdstanpy - INFO - Chain [1] start processing\n",
      "10:40:00 - cmdstanpy - INFO - Chain [1] done processing\n",
      "10:40:00 - cmdstanpy - INFO - Chain [1] start processing\n",
      "10:40:00 - cmdstanpy - INFO - Chain [1] done processing\n",
      "10:40:01 - cmdstanpy - INFO - Chain [1] start processing\n",
      "10:40:01 - cmdstanpy - INFO - Chain [1] done processing\n",
      "10:40:02 - cmdstanpy - INFO - Chain [1] start processing\n",
      "10:40:02 - cmdstanpy - INFO - Chain [1] done processing\n",
      "10:40:02 - cmdstanpy - INFO - Chain [1] start processing\n",
      "10:40:02 - cmdstanpy - INFO - Chain [1] done processing\n"
     ]
    },
    {
     "data": {
      "application/vnd.jupyter.widget-view+json": {
       "model_id": "6ae11a92321d4bc4920aa55f1bfb3502",
       "version_major": 2,
       "version_minor": 0
      },
      "text/plain": [
       "  0%|          | 0/4 [00:00<?, ?it/s]"
      ]
     },
     "metadata": {},
     "output_type": "display_data"
    },
    {
     "name": "stderr",
     "output_type": "stream",
     "text": [
      "10:40:02 - cmdstanpy - INFO - Chain [1] start processing\n",
      "10:40:03 - cmdstanpy - INFO - Chain [1] done processing\n",
      "10:40:03 - cmdstanpy - INFO - Chain [1] start processing\n",
      "10:40:03 - cmdstanpy - INFO - Chain [1] done processing\n",
      "10:40:04 - cmdstanpy - INFO - Chain [1] start processing\n",
      "10:40:04 - cmdstanpy - INFO - Chain [1] done processing\n",
      "10:40:04 - cmdstanpy - INFO - Chain [1] start processing\n",
      "10:40:04 - cmdstanpy - INFO - Chain [1] done processing\n",
      "10:40:05 - cmdstanpy - INFO - Chain [1] start processing\n",
      "10:40:05 - cmdstanpy - INFO - Chain [1] done processing\n"
     ]
    },
    {
     "data": {
      "application/vnd.jupyter.widget-view+json": {
       "model_id": "9b0fa018f16647abac5ca075b0c3d203",
       "version_major": 2,
       "version_minor": 0
      },
      "text/plain": [
       "  0%|          | 0/4 [00:00<?, ?it/s]"
      ]
     },
     "metadata": {},
     "output_type": "display_data"
    },
    {
     "name": "stderr",
     "output_type": "stream",
     "text": [
      "10:40:05 - cmdstanpy - INFO - Chain [1] start processing\n",
      "10:40:05 - cmdstanpy - INFO - Chain [1] done processing\n",
      "10:40:06 - cmdstanpy - INFO - Chain [1] start processing\n",
      "10:40:06 - cmdstanpy - INFO - Chain [1] done processing\n",
      "10:40:07 - cmdstanpy - INFO - Chain [1] start processing\n",
      "10:40:07 - cmdstanpy - INFO - Chain [1] done processing\n",
      "10:40:07 - cmdstanpy - INFO - Chain [1] start processing\n",
      "10:40:07 - cmdstanpy - INFO - Chain [1] done processing\n",
      "10:40:08 - cmdstanpy - INFO - Chain [1] start processing\n",
      "10:40:08 - cmdstanpy - INFO - Chain [1] done processing\n"
     ]
    },
    {
     "data": {
      "application/vnd.jupyter.widget-view+json": {
       "model_id": "3c125c1268ae4e388123b80843592d1c",
       "version_major": 2,
       "version_minor": 0
      },
      "text/plain": [
       "  0%|          | 0/4 [00:00<?, ?it/s]"
      ]
     },
     "metadata": {},
     "output_type": "display_data"
    },
    {
     "name": "stderr",
     "output_type": "stream",
     "text": [
      "10:40:08 - cmdstanpy - INFO - Chain [1] start processing\n",
      "10:40:08 - cmdstanpy - INFO - Chain [1] done processing\n",
      "10:40:09 - cmdstanpy - INFO - Chain [1] start processing\n",
      "10:40:09 - cmdstanpy - INFO - Chain [1] done processing\n",
      "10:40:10 - cmdstanpy - INFO - Chain [1] start processing\n",
      "10:40:10 - cmdstanpy - INFO - Chain [1] done processing\n",
      "10:40:10 - cmdstanpy - INFO - Chain [1] start processing\n",
      "10:40:10 - cmdstanpy - INFO - Chain [1] done processing\n",
      "10:40:11 - cmdstanpy - INFO - Chain [1] start processing\n",
      "10:40:11 - cmdstanpy - INFO - Chain [1] done processing\n"
     ]
    },
    {
     "data": {
      "application/vnd.jupyter.widget-view+json": {
       "model_id": "8fcbd2ac7d8e40879837fa4df2285ecf",
       "version_major": 2,
       "version_minor": 0
      },
      "text/plain": [
       "  0%|          | 0/4 [00:00<?, ?it/s]"
      ]
     },
     "metadata": {},
     "output_type": "display_data"
    },
    {
     "name": "stderr",
     "output_type": "stream",
     "text": [
      "10:40:11 - cmdstanpy - INFO - Chain [1] start processing\n",
      "10:40:11 - cmdstanpy - INFO - Chain [1] done processing\n",
      "10:40:12 - cmdstanpy - INFO - Chain [1] start processing\n",
      "10:40:12 - cmdstanpy - INFO - Chain [1] done processing\n",
      "10:40:12 - cmdstanpy - INFO - Chain [1] start processing\n",
      "10:40:12 - cmdstanpy - INFO - Chain [1] done processing\n",
      "10:40:13 - cmdstanpy - INFO - Chain [1] start processing\n",
      "10:40:13 - cmdstanpy - INFO - Chain [1] done processing\n",
      "10:40:14 - cmdstanpy - INFO - Chain [1] start processing\n",
      "10:40:14 - cmdstanpy - INFO - Chain [1] done processing\n"
     ]
    },
    {
     "data": {
      "application/vnd.jupyter.widget-view+json": {
       "model_id": "74008000cf76416d874d6b861a0e48a2",
       "version_major": 2,
       "version_minor": 0
      },
      "text/plain": [
       "  0%|          | 0/4 [00:00<?, ?it/s]"
      ]
     },
     "metadata": {},
     "output_type": "display_data"
    },
    {
     "name": "stderr",
     "output_type": "stream",
     "text": [
      "10:40:14 - cmdstanpy - INFO - Chain [1] start processing\n",
      "10:40:14 - cmdstanpy - INFO - Chain [1] done processing\n",
      "10:40:15 - cmdstanpy - INFO - Chain [1] start processing\n",
      "10:40:15 - cmdstanpy - INFO - Chain [1] done processing\n",
      "10:40:15 - cmdstanpy - INFO - Chain [1] start processing\n",
      "10:40:15 - cmdstanpy - INFO - Chain [1] done processing\n",
      "10:40:16 - cmdstanpy - INFO - Chain [1] start processing\n",
      "10:40:16 - cmdstanpy - INFO - Chain [1] done processing\n",
      "10:40:17 - cmdstanpy - INFO - Chain [1] start processing\n",
      "10:40:17 - cmdstanpy - INFO - Chain [1] done processing\n"
     ]
    },
    {
     "data": {
      "application/vnd.jupyter.widget-view+json": {
       "model_id": "d936d07ab3e741a19d34526fc0b230cc",
       "version_major": 2,
       "version_minor": 0
      },
      "text/plain": [
       "  0%|          | 0/4 [00:00<?, ?it/s]"
      ]
     },
     "metadata": {},
     "output_type": "display_data"
    },
    {
     "name": "stderr",
     "output_type": "stream",
     "text": [
      "10:40:17 - cmdstanpy - INFO - Chain [1] start processing\n",
      "10:40:17 - cmdstanpy - INFO - Chain [1] done processing\n",
      "10:40:18 - cmdstanpy - INFO - Chain [1] start processing\n",
      "10:40:18 - cmdstanpy - INFO - Chain [1] done processing\n",
      "10:40:18 - cmdstanpy - INFO - Chain [1] start processing\n",
      "10:40:18 - cmdstanpy - INFO - Chain [1] done processing\n",
      "10:40:19 - cmdstanpy - INFO - Chain [1] start processing\n",
      "10:40:19 - cmdstanpy - INFO - Chain [1] done processing\n",
      "10:40:20 - cmdstanpy - INFO - Chain [1] start processing\n",
      "10:40:20 - cmdstanpy - INFO - Chain [1] done processing\n"
     ]
    },
    {
     "data": {
      "application/vnd.jupyter.widget-view+json": {
       "model_id": "31bab5796c724c958ac9d914054459b4",
       "version_major": 2,
       "version_minor": 0
      },
      "text/plain": [
       "  0%|          | 0/4 [00:00<?, ?it/s]"
      ]
     },
     "metadata": {},
     "output_type": "display_data"
    },
    {
     "name": "stderr",
     "output_type": "stream",
     "text": [
      "10:40:20 - cmdstanpy - INFO - Chain [1] start processing\n",
      "10:40:20 - cmdstanpy - INFO - Chain [1] done processing\n",
      "10:40:20 - cmdstanpy - INFO - Chain [1] start processing\n",
      "10:40:20 - cmdstanpy - INFO - Chain [1] done processing\n",
      "10:40:21 - cmdstanpy - INFO - Chain [1] start processing\n",
      "10:40:21 - cmdstanpy - INFO - Chain [1] done processing\n",
      "10:40:22 - cmdstanpy - INFO - Chain [1] start processing\n",
      "10:40:22 - cmdstanpy - INFO - Chain [1] done processing\n",
      "10:40:22 - cmdstanpy - INFO - Chain [1] start processing\n",
      "10:40:22 - cmdstanpy - INFO - Chain [1] done processing\n"
     ]
    },
    {
     "data": {
      "application/vnd.jupyter.widget-view+json": {
       "model_id": "95c668f51b964489a2dd6286e82bf9f2",
       "version_major": 2,
       "version_minor": 0
      },
      "text/plain": [
       "  0%|          | 0/4 [00:00<?, ?it/s]"
      ]
     },
     "metadata": {},
     "output_type": "display_data"
    },
    {
     "name": "stderr",
     "output_type": "stream",
     "text": [
      "10:40:22 - cmdstanpy - INFO - Chain [1] start processing\n",
      "10:40:23 - cmdstanpy - INFO - Chain [1] done processing\n",
      "10:40:23 - cmdstanpy - INFO - Chain [1] start processing\n",
      "10:40:23 - cmdstanpy - INFO - Chain [1] done processing\n",
      "10:40:24 - cmdstanpy - INFO - Chain [1] start processing\n",
      "10:40:24 - cmdstanpy - INFO - Chain [1] done processing\n",
      "10:40:25 - cmdstanpy - INFO - Chain [1] start processing\n",
      "10:40:25 - cmdstanpy - INFO - Chain [1] done processing\n",
      "10:40:25 - cmdstanpy - INFO - Chain [1] start processing\n",
      "10:40:25 - cmdstanpy - INFO - Chain [1] done processing\n"
     ]
    },
    {
     "data": {
      "application/vnd.jupyter.widget-view+json": {
       "model_id": "1a7cd56d9a68424b9c6560250b8f9355",
       "version_major": 2,
       "version_minor": 0
      },
      "text/plain": [
       "  0%|          | 0/4 [00:00<?, ?it/s]"
      ]
     },
     "metadata": {},
     "output_type": "display_data"
    },
    {
     "name": "stderr",
     "output_type": "stream",
     "text": [
      "10:40:25 - cmdstanpy - INFO - Chain [1] start processing\n",
      "10:40:25 - cmdstanpy - INFO - Chain [1] done processing\n",
      "10:40:26 - cmdstanpy - INFO - Chain [1] start processing\n",
      "10:40:26 - cmdstanpy - INFO - Chain [1] done processing\n",
      "10:40:27 - cmdstanpy - INFO - Chain [1] start processing\n",
      "10:40:27 - cmdstanpy - INFO - Chain [1] done processing\n",
      "10:40:27 - cmdstanpy - INFO - Chain [1] start processing\n",
      "10:40:27 - cmdstanpy - INFO - Chain [1] done processing\n",
      "10:40:28 - cmdstanpy - INFO - Chain [1] start processing\n",
      "10:40:28 - cmdstanpy - INFO - Chain [1] done processing\n"
     ]
    },
    {
     "data": {
      "application/vnd.jupyter.widget-view+json": {
       "model_id": "9a44fec507024ab899ace48b13ab546f",
       "version_major": 2,
       "version_minor": 0
      },
      "text/plain": [
       "  0%|          | 0/4 [00:00<?, ?it/s]"
      ]
     },
     "metadata": {},
     "output_type": "display_data"
    },
    {
     "name": "stderr",
     "output_type": "stream",
     "text": [
      "10:40:28 - cmdstanpy - INFO - Chain [1] start processing\n",
      "10:40:28 - cmdstanpy - INFO - Chain [1] done processing\n",
      "10:40:29 - cmdstanpy - INFO - Chain [1] start processing\n",
      "10:40:29 - cmdstanpy - INFO - Chain [1] done processing\n",
      "10:40:30 - cmdstanpy - INFO - Chain [1] start processing\n",
      "10:40:30 - cmdstanpy - INFO - Chain [1] done processing\n",
      "10:40:30 - cmdstanpy - INFO - Chain [1] start processing\n",
      "10:40:30 - cmdstanpy - INFO - Chain [1] done processing\n",
      "10:40:31 - cmdstanpy - INFO - Chain [1] start processing\n",
      "10:40:31 - cmdstanpy - INFO - Chain [1] done processing\n"
     ]
    },
    {
     "data": {
      "application/vnd.jupyter.widget-view+json": {
       "model_id": "9064b26088324e63941835890af0a0e5",
       "version_major": 2,
       "version_minor": 0
      },
      "text/plain": [
       "  0%|          | 0/4 [00:00<?, ?it/s]"
      ]
     },
     "metadata": {},
     "output_type": "display_data"
    },
    {
     "name": "stderr",
     "output_type": "stream",
     "text": [
      "10:40:31 - cmdstanpy - INFO - Chain [1] start processing\n",
      "10:40:31 - cmdstanpy - INFO - Chain [1] done processing\n",
      "10:40:32 - cmdstanpy - INFO - Chain [1] start processing\n",
      "10:40:32 - cmdstanpy - INFO - Chain [1] done processing\n",
      "10:40:32 - cmdstanpy - INFO - Chain [1] start processing\n",
      "10:40:32 - cmdstanpy - INFO - Chain [1] done processing\n",
      "10:40:33 - cmdstanpy - INFO - Chain [1] start processing\n",
      "10:40:33 - cmdstanpy - INFO - Chain [1] done processing\n",
      "10:40:34 - cmdstanpy - INFO - Chain [1] start processing\n",
      "10:40:34 - cmdstanpy - INFO - Chain [1] done processing\n"
     ]
    },
    {
     "data": {
      "application/vnd.jupyter.widget-view+json": {
       "model_id": "1af3ab1f8eb141e4b0518bfe1fd970e6",
       "version_major": 2,
       "version_minor": 0
      },
      "text/plain": [
       "  0%|          | 0/4 [00:00<?, ?it/s]"
      ]
     },
     "metadata": {},
     "output_type": "display_data"
    },
    {
     "name": "stderr",
     "output_type": "stream",
     "text": [
      "10:40:34 - cmdstanpy - INFO - Chain [1] start processing\n",
      "10:40:34 - cmdstanpy - INFO - Chain [1] done processing\n",
      "10:40:35 - cmdstanpy - INFO - Chain [1] start processing\n",
      "10:40:35 - cmdstanpy - INFO - Chain [1] done processing\n",
      "10:40:35 - cmdstanpy - INFO - Chain [1] start processing\n",
      "10:40:35 - cmdstanpy - INFO - Chain [1] done processing\n",
      "10:40:36 - cmdstanpy - INFO - Chain [1] start processing\n",
      "10:40:36 - cmdstanpy - INFO - Chain [1] done processing\n",
      "10:40:37 - cmdstanpy - INFO - Chain [1] start processing\n",
      "10:40:37 - cmdstanpy - INFO - Chain [1] done processing\n"
     ]
    },
    {
     "data": {
      "application/vnd.jupyter.widget-view+json": {
       "model_id": "f6046d1b2b634b2eb6d33a6c0dd7eeb2",
       "version_major": 2,
       "version_minor": 0
      },
      "text/plain": [
       "  0%|          | 0/4 [00:00<?, ?it/s]"
      ]
     },
     "metadata": {},
     "output_type": "display_data"
    },
    {
     "name": "stderr",
     "output_type": "stream",
     "text": [
      "10:40:37 - cmdstanpy - INFO - Chain [1] start processing\n",
      "10:40:37 - cmdstanpy - INFO - Chain [1] done processing\n",
      "10:40:38 - cmdstanpy - INFO - Chain [1] start processing\n",
      "10:40:38 - cmdstanpy - INFO - Chain [1] done processing\n",
      "10:40:38 - cmdstanpy - INFO - Chain [1] start processing\n",
      "10:40:38 - cmdstanpy - INFO - Chain [1] done processing\n",
      "10:40:39 - cmdstanpy - INFO - Chain [1] start processing\n",
      "10:40:39 - cmdstanpy - INFO - Chain [1] done processing\n",
      "10:40:40 - cmdstanpy - INFO - Chain [1] start processing\n",
      "10:40:40 - cmdstanpy - INFO - Chain [1] done processing\n"
     ]
    },
    {
     "data": {
      "application/vnd.jupyter.widget-view+json": {
       "model_id": "91dd2a374f9844a68fabe7eae581835c",
       "version_major": 2,
       "version_minor": 0
      },
      "text/plain": [
       "  0%|          | 0/4 [00:00<?, ?it/s]"
      ]
     },
     "metadata": {},
     "output_type": "display_data"
    },
    {
     "name": "stderr",
     "output_type": "stream",
     "text": [
      "10:40:40 - cmdstanpy - INFO - Chain [1] start processing\n",
      "10:40:40 - cmdstanpy - INFO - Chain [1] done processing\n",
      "10:40:41 - cmdstanpy - INFO - Chain [1] start processing\n",
      "10:40:41 - cmdstanpy - INFO - Chain [1] done processing\n",
      "10:40:42 - cmdstanpy - INFO - Chain [1] start processing\n",
      "10:40:42 - cmdstanpy - INFO - Chain [1] done processing\n",
      "10:40:42 - cmdstanpy - INFO - Chain [1] start processing\n",
      "10:40:42 - cmdstanpy - INFO - Chain [1] done processing\n",
      "10:40:43 - cmdstanpy - INFO - Chain [1] start processing\n",
      "10:40:43 - cmdstanpy - INFO - Chain [1] done processing\n"
     ]
    },
    {
     "data": {
      "application/vnd.jupyter.widget-view+json": {
       "model_id": "3446b640580247479985f1134cdb74a3",
       "version_major": 2,
       "version_minor": 0
      },
      "text/plain": [
       "  0%|          | 0/4 [00:00<?, ?it/s]"
      ]
     },
     "metadata": {},
     "output_type": "display_data"
    },
    {
     "name": "stderr",
     "output_type": "stream",
     "text": [
      "10:40:43 - cmdstanpy - INFO - Chain [1] start processing\n",
      "10:40:43 - cmdstanpy - INFO - Chain [1] done processing\n",
      "10:40:44 - cmdstanpy - INFO - Chain [1] start processing\n",
      "10:40:44 - cmdstanpy - INFO - Chain [1] done processing\n",
      "10:40:44 - cmdstanpy - INFO - Chain [1] start processing\n",
      "10:40:45 - cmdstanpy - INFO - Chain [1] done processing\n",
      "10:40:45 - cmdstanpy - INFO - Chain [1] start processing\n",
      "10:40:45 - cmdstanpy - INFO - Chain [1] done processing\n",
      "10:40:46 - cmdstanpy - INFO - Chain [1] start processing\n",
      "10:40:46 - cmdstanpy - INFO - Chain [1] done processing\n"
     ]
    },
    {
     "data": {
      "application/vnd.jupyter.widget-view+json": {
       "model_id": "73e5c19d9daa40ac8b1243bebe89218a",
       "version_major": 2,
       "version_minor": 0
      },
      "text/plain": [
       "  0%|          | 0/4 [00:00<?, ?it/s]"
      ]
     },
     "metadata": {},
     "output_type": "display_data"
    },
    {
     "name": "stderr",
     "output_type": "stream",
     "text": [
      "10:40:46 - cmdstanpy - INFO - Chain [1] start processing\n",
      "10:40:46 - cmdstanpy - INFO - Chain [1] done processing\n",
      "10:40:47 - cmdstanpy - INFO - Chain [1] start processing\n",
      "10:40:47 - cmdstanpy - INFO - Chain [1] done processing\n",
      "10:40:47 - cmdstanpy - INFO - Chain [1] start processing\n",
      "10:40:47 - cmdstanpy - INFO - Chain [1] done processing\n",
      "10:40:48 - cmdstanpy - INFO - Chain [1] start processing\n",
      "10:40:48 - cmdstanpy - INFO - Chain [1] done processing\n",
      "10:40:49 - cmdstanpy - INFO - Chain [1] start processing\n",
      "10:40:49 - cmdstanpy - INFO - Chain [1] done processing\n"
     ]
    },
    {
     "data": {
      "application/vnd.jupyter.widget-view+json": {
       "model_id": "8f976a377f4c43799af1ed995cfbe3fc",
       "version_major": 2,
       "version_minor": 0
      },
      "text/plain": [
       "  0%|          | 0/4 [00:00<?, ?it/s]"
      ]
     },
     "metadata": {},
     "output_type": "display_data"
    },
    {
     "name": "stderr",
     "output_type": "stream",
     "text": [
      "10:40:49 - cmdstanpy - INFO - Chain [1] start processing\n",
      "10:40:49 - cmdstanpy - INFO - Chain [1] done processing\n",
      "10:40:50 - cmdstanpy - INFO - Chain [1] start processing\n",
      "10:40:50 - cmdstanpy - INFO - Chain [1] done processing\n",
      "10:40:50 - cmdstanpy - INFO - Chain [1] start processing\n",
      "10:40:50 - cmdstanpy - INFO - Chain [1] done processing\n",
      "10:40:51 - cmdstanpy - INFO - Chain [1] start processing\n",
      "10:40:51 - cmdstanpy - INFO - Chain [1] done processing\n",
      "10:40:52 - cmdstanpy - INFO - Chain [1] start processing\n",
      "10:40:52 - cmdstanpy - INFO - Chain [1] done processing\n"
     ]
    },
    {
     "data": {
      "application/vnd.jupyter.widget-view+json": {
       "model_id": "0ed20244dceb4b69b116feab5a3365a2",
       "version_major": 2,
       "version_minor": 0
      },
      "text/plain": [
       "  0%|          | 0/4 [00:00<?, ?it/s]"
      ]
     },
     "metadata": {},
     "output_type": "display_data"
    },
    {
     "name": "stderr",
     "output_type": "stream",
     "text": [
      "10:40:52 - cmdstanpy - INFO - Chain [1] start processing\n",
      "10:40:52 - cmdstanpy - INFO - Chain [1] done processing\n",
      "10:40:53 - cmdstanpy - INFO - Chain [1] start processing\n",
      "10:40:53 - cmdstanpy - INFO - Chain [1] done processing\n",
      "10:40:53 - cmdstanpy - INFO - Chain [1] start processing\n",
      "10:40:53 - cmdstanpy - INFO - Chain [1] done processing\n",
      "10:40:54 - cmdstanpy - INFO - Chain [1] start processing\n",
      "10:40:54 - cmdstanpy - INFO - Chain [1] done processing\n",
      "10:40:55 - cmdstanpy - INFO - Chain [1] start processing\n",
      "10:40:55 - cmdstanpy - INFO - Chain [1] done processing\n"
     ]
    },
    {
     "data": {
      "application/vnd.jupyter.widget-view+json": {
       "model_id": "d92b3f2337dc49e08291cfaa8a665292",
       "version_major": 2,
       "version_minor": 0
      },
      "text/plain": [
       "  0%|          | 0/4 [00:00<?, ?it/s]"
      ]
     },
     "metadata": {},
     "output_type": "display_data"
    },
    {
     "name": "stderr",
     "output_type": "stream",
     "text": [
      "10:40:55 - cmdstanpy - INFO - Chain [1] start processing\n",
      "10:40:55 - cmdstanpy - INFO - Chain [1] done processing\n",
      "10:40:56 - cmdstanpy - INFO - Chain [1] start processing\n",
      "10:40:56 - cmdstanpy - INFO - Chain [1] done processing\n",
      "10:40:56 - cmdstanpy - INFO - Chain [1] start processing\n",
      "10:40:56 - cmdstanpy - INFO - Chain [1] done processing\n",
      "10:40:57 - cmdstanpy - INFO - Chain [1] start processing\n",
      "10:40:57 - cmdstanpy - INFO - Chain [1] done processing\n",
      "10:40:58 - cmdstanpy - INFO - Chain [1] start processing\n",
      "10:40:58 - cmdstanpy - INFO - Chain [1] done processing\n"
     ]
    },
    {
     "data": {
      "application/vnd.jupyter.widget-view+json": {
       "model_id": "06564f915dce4918a89105f29c375564",
       "version_major": 2,
       "version_minor": 0
      },
      "text/plain": [
       "  0%|          | 0/4 [00:00<?, ?it/s]"
      ]
     },
     "metadata": {},
     "output_type": "display_data"
    },
    {
     "name": "stderr",
     "output_type": "stream",
     "text": [
      "10:40:58 - cmdstanpy - INFO - Chain [1] start processing\n",
      "10:40:58 - cmdstanpy - INFO - Chain [1] done processing\n",
      "10:40:59 - cmdstanpy - INFO - Chain [1] start processing\n",
      "10:40:59 - cmdstanpy - INFO - Chain [1] done processing\n",
      "10:41:00 - cmdstanpy - INFO - Chain [1] start processing\n",
      "10:41:00 - cmdstanpy - INFO - Chain [1] done processing\n",
      "10:41:00 - cmdstanpy - INFO - Chain [1] start processing\n",
      "10:41:00 - cmdstanpy - INFO - Chain [1] done processing\n",
      "10:41:01 - cmdstanpy - INFO - Chain [1] start processing\n",
      "10:41:01 - cmdstanpy - INFO - Chain [1] done processing\n"
     ]
    },
    {
     "data": {
      "application/vnd.jupyter.widget-view+json": {
       "model_id": "6378126917e04bffb280715d1ca678a7",
       "version_major": 2,
       "version_minor": 0
      },
      "text/plain": [
       "  0%|          | 0/4 [00:00<?, ?it/s]"
      ]
     },
     "metadata": {},
     "output_type": "display_data"
    },
    {
     "name": "stderr",
     "output_type": "stream",
     "text": [
      "10:41:01 - cmdstanpy - INFO - Chain [1] start processing\n",
      "10:41:01 - cmdstanpy - INFO - Chain [1] done processing\n",
      "10:41:02 - cmdstanpy - INFO - Chain [1] start processing\n",
      "10:41:02 - cmdstanpy - INFO - Chain [1] done processing\n",
      "10:41:02 - cmdstanpy - INFO - Chain [1] start processing\n",
      "10:41:02 - cmdstanpy - INFO - Chain [1] done processing\n",
      "10:41:03 - cmdstanpy - INFO - Chain [1] start processing\n",
      "10:41:03 - cmdstanpy - INFO - Chain [1] done processing\n",
      "10:41:04 - cmdstanpy - INFO - Chain [1] start processing\n",
      "10:41:04 - cmdstanpy - INFO - Chain [1] done processing\n"
     ]
    },
    {
     "data": {
      "application/vnd.jupyter.widget-view+json": {
       "model_id": "3778f22c0221494e93fbcdaaf500f42c",
       "version_major": 2,
       "version_minor": 0
      },
      "text/plain": [
       "  0%|          | 0/4 [00:00<?, ?it/s]"
      ]
     },
     "metadata": {},
     "output_type": "display_data"
    },
    {
     "name": "stderr",
     "output_type": "stream",
     "text": [
      "10:41:04 - cmdstanpy - INFO - Chain [1] start processing\n",
      "10:41:04 - cmdstanpy - INFO - Chain [1] done processing\n",
      "10:41:05 - cmdstanpy - INFO - Chain [1] start processing\n",
      "10:41:05 - cmdstanpy - INFO - Chain [1] done processing\n",
      "10:41:05 - cmdstanpy - INFO - Chain [1] start processing\n",
      "10:41:05 - cmdstanpy - INFO - Chain [1] done processing\n",
      "10:41:06 - cmdstanpy - INFO - Chain [1] start processing\n",
      "10:41:06 - cmdstanpy - INFO - Chain [1] done processing\n",
      "10:41:07 - cmdstanpy - INFO - Chain [1] start processing\n",
      "10:41:07 - cmdstanpy - INFO - Chain [1] done processing\n"
     ]
    },
    {
     "data": {
      "application/vnd.jupyter.widget-view+json": {
       "model_id": "b066c93e98b545639237321ed2dae838",
       "version_major": 2,
       "version_minor": 0
      },
      "text/plain": [
       "  0%|          | 0/4 [00:00<?, ?it/s]"
      ]
     },
     "metadata": {},
     "output_type": "display_data"
    },
    {
     "name": "stderr",
     "output_type": "stream",
     "text": [
      "10:41:07 - cmdstanpy - INFO - Chain [1] start processing\n",
      "10:41:07 - cmdstanpy - INFO - Chain [1] done processing\n",
      "10:41:08 - cmdstanpy - INFO - Chain [1] start processing\n",
      "10:41:08 - cmdstanpy - INFO - Chain [1] done processing\n",
      "10:41:08 - cmdstanpy - INFO - Chain [1] start processing\n",
      "10:41:08 - cmdstanpy - INFO - Chain [1] done processing\n",
      "10:41:09 - cmdstanpy - INFO - Chain [1] start processing\n",
      "10:41:09 - cmdstanpy - INFO - Chain [1] done processing\n",
      "10:41:10 - cmdstanpy - INFO - Chain [1] start processing\n",
      "10:41:10 - cmdstanpy - INFO - Chain [1] done processing\n"
     ]
    },
    {
     "data": {
      "application/vnd.jupyter.widget-view+json": {
       "model_id": "f430ecb92e1d4e7bb18e046fd070e668",
       "version_major": 2,
       "version_minor": 0
      },
      "text/plain": [
       "  0%|          | 0/4 [00:00<?, ?it/s]"
      ]
     },
     "metadata": {},
     "output_type": "display_data"
    },
    {
     "name": "stderr",
     "output_type": "stream",
     "text": [
      "10:41:10 - cmdstanpy - INFO - Chain [1] start processing\n",
      "10:41:10 - cmdstanpy - INFO - Chain [1] done processing\n",
      "10:41:11 - cmdstanpy - INFO - Chain [1] start processing\n",
      "10:41:11 - cmdstanpy - INFO - Chain [1] done processing\n",
      "10:41:12 - cmdstanpy - INFO - Chain [1] start processing\n",
      "10:41:12 - cmdstanpy - INFO - Chain [1] done processing\n",
      "10:41:12 - cmdstanpy - INFO - Chain [1] start processing\n",
      "10:41:12 - cmdstanpy - INFO - Chain [1] done processing\n",
      "10:41:13 - cmdstanpy - INFO - Chain [1] start processing\n",
      "10:41:13 - cmdstanpy - INFO - Chain [1] done processing\n"
     ]
    },
    {
     "data": {
      "application/vnd.jupyter.widget-view+json": {
       "model_id": "124ff529e82a4d4991ef92543e5a2b4c",
       "version_major": 2,
       "version_minor": 0
      },
      "text/plain": [
       "  0%|          | 0/4 [00:00<?, ?it/s]"
      ]
     },
     "metadata": {},
     "output_type": "display_data"
    },
    {
     "name": "stderr",
     "output_type": "stream",
     "text": [
      "10:41:13 - cmdstanpy - INFO - Chain [1] start processing\n",
      "10:41:13 - cmdstanpy - INFO - Chain [1] done processing\n",
      "10:41:14 - cmdstanpy - INFO - Chain [1] start processing\n",
      "10:41:14 - cmdstanpy - INFO - Chain [1] done processing\n",
      "10:41:15 - cmdstanpy - INFO - Chain [1] start processing\n",
      "10:41:15 - cmdstanpy - INFO - Chain [1] done processing\n",
      "10:41:15 - cmdstanpy - INFO - Chain [1] start processing\n",
      "10:41:15 - cmdstanpy - INFO - Chain [1] done processing\n",
      "10:41:16 - cmdstanpy - INFO - Chain [1] start processing\n",
      "10:41:16 - cmdstanpy - INFO - Chain [1] done processing\n"
     ]
    },
    {
     "data": {
      "application/vnd.jupyter.widget-view+json": {
       "model_id": "b1b875e2d5f846ee8ef144fc7f36a5f5",
       "version_major": 2,
       "version_minor": 0
      },
      "text/plain": [
       "  0%|          | 0/4 [00:00<?, ?it/s]"
      ]
     },
     "metadata": {},
     "output_type": "display_data"
    },
    {
     "name": "stderr",
     "output_type": "stream",
     "text": [
      "10:41:16 - cmdstanpy - INFO - Chain [1] start processing\n",
      "10:41:16 - cmdstanpy - INFO - Chain [1] done processing\n",
      "10:41:17 - cmdstanpy - INFO - Chain [1] start processing\n",
      "10:41:17 - cmdstanpy - INFO - Chain [1] done processing\n",
      "10:41:18 - cmdstanpy - INFO - Chain [1] start processing\n",
      "10:41:18 - cmdstanpy - INFO - Chain [1] done processing\n",
      "10:41:18 - cmdstanpy - INFO - Chain [1] start processing\n",
      "10:41:18 - cmdstanpy - INFO - Chain [1] done processing\n",
      "10:41:19 - cmdstanpy - INFO - Chain [1] start processing\n",
      "10:41:19 - cmdstanpy - INFO - Chain [1] done processing\n"
     ]
    },
    {
     "data": {
      "application/vnd.jupyter.widget-view+json": {
       "model_id": "27377a5e4cf643319dd05956321a30d7",
       "version_major": 2,
       "version_minor": 0
      },
      "text/plain": [
       "  0%|          | 0/4 [00:00<?, ?it/s]"
      ]
     },
     "metadata": {},
     "output_type": "display_data"
    },
    {
     "name": "stderr",
     "output_type": "stream",
     "text": [
      "10:41:19 - cmdstanpy - INFO - Chain [1] start processing\n",
      "10:41:19 - cmdstanpy - INFO - Chain [1] done processing\n",
      "10:41:20 - cmdstanpy - INFO - Chain [1] start processing\n",
      "10:41:20 - cmdstanpy - INFO - Chain [1] done processing\n",
      "10:41:21 - cmdstanpy - INFO - Chain [1] start processing\n",
      "10:41:21 - cmdstanpy - INFO - Chain [1] done processing\n",
      "10:41:21 - cmdstanpy - INFO - Chain [1] start processing\n",
      "10:41:21 - cmdstanpy - INFO - Chain [1] done processing\n",
      "10:41:22 - cmdstanpy - INFO - Chain [1] start processing\n",
      "10:41:22 - cmdstanpy - INFO - Chain [1] done processing\n"
     ]
    },
    {
     "data": {
      "application/vnd.jupyter.widget-view+json": {
       "model_id": "dfa50e94e70a425bb8bd25c401385aee",
       "version_major": 2,
       "version_minor": 0
      },
      "text/plain": [
       "  0%|          | 0/4 [00:00<?, ?it/s]"
      ]
     },
     "metadata": {},
     "output_type": "display_data"
    },
    {
     "name": "stderr",
     "output_type": "stream",
     "text": [
      "10:41:22 - cmdstanpy - INFO - Chain [1] start processing\n",
      "10:41:22 - cmdstanpy - INFO - Chain [1] done processing\n",
      "10:41:23 - cmdstanpy - INFO - Chain [1] start processing\n",
      "10:41:23 - cmdstanpy - INFO - Chain [1] done processing\n",
      "10:41:24 - cmdstanpy - INFO - Chain [1] start processing\n",
      "10:41:24 - cmdstanpy - INFO - Chain [1] done processing\n",
      "10:41:24 - cmdstanpy - INFO - Chain [1] start processing\n",
      "10:41:24 - cmdstanpy - INFO - Chain [1] done processing\n",
      "10:41:25 - cmdstanpy - INFO - Chain [1] start processing\n",
      "10:41:25 - cmdstanpy - INFO - Chain [1] done processing\n"
     ]
    },
    {
     "data": {
      "application/vnd.jupyter.widget-view+json": {
       "model_id": "9db7862af86b455cb405f574b5916bca",
       "version_major": 2,
       "version_minor": 0
      },
      "text/plain": [
       "  0%|          | 0/4 [00:00<?, ?it/s]"
      ]
     },
     "metadata": {},
     "output_type": "display_data"
    },
    {
     "name": "stderr",
     "output_type": "stream",
     "text": [
      "10:41:25 - cmdstanpy - INFO - Chain [1] start processing\n",
      "10:41:25 - cmdstanpy - INFO - Chain [1] done processing\n",
      "10:41:26 - cmdstanpy - INFO - Chain [1] start processing\n",
      "10:41:26 - cmdstanpy - INFO - Chain [1] done processing\n",
      "10:41:27 - cmdstanpy - INFO - Chain [1] start processing\n",
      "10:41:27 - cmdstanpy - INFO - Chain [1] done processing\n",
      "10:41:27 - cmdstanpy - INFO - Chain [1] start processing\n",
      "10:41:27 - cmdstanpy - INFO - Chain [1] done processing\n",
      "10:41:28 - cmdstanpy - INFO - Chain [1] start processing\n",
      "10:41:28 - cmdstanpy - INFO - Chain [1] done processing\n"
     ]
    },
    {
     "data": {
      "application/vnd.jupyter.widget-view+json": {
       "model_id": "18704e0422664a978beff159810822c6",
       "version_major": 2,
       "version_minor": 0
      },
      "text/plain": [
       "  0%|          | 0/4 [00:00<?, ?it/s]"
      ]
     },
     "metadata": {},
     "output_type": "display_data"
    },
    {
     "name": "stderr",
     "output_type": "stream",
     "text": [
      "10:41:28 - cmdstanpy - INFO - Chain [1] start processing\n",
      "10:41:28 - cmdstanpy - INFO - Chain [1] done processing\n",
      "10:41:29 - cmdstanpy - INFO - Chain [1] start processing\n",
      "10:41:29 - cmdstanpy - INFO - Chain [1] done processing\n",
      "10:41:30 - cmdstanpy - INFO - Chain [1] start processing\n",
      "10:41:30 - cmdstanpy - INFO - Chain [1] done processing\n",
      "10:41:30 - cmdstanpy - INFO - Chain [1] start processing\n",
      "10:41:30 - cmdstanpy - INFO - Chain [1] done processing\n",
      "10:41:31 - cmdstanpy - INFO - Chain [1] start processing\n",
      "10:41:31 - cmdstanpy - INFO - Chain [1] done processing\n"
     ]
    },
    {
     "data": {
      "application/vnd.jupyter.widget-view+json": {
       "model_id": "d6a1a579687a45f5a87b330f07bf259a",
       "version_major": 2,
       "version_minor": 0
      },
      "text/plain": [
       "  0%|          | 0/4 [00:00<?, ?it/s]"
      ]
     },
     "metadata": {},
     "output_type": "display_data"
    },
    {
     "name": "stderr",
     "output_type": "stream",
     "text": [
      "10:41:31 - cmdstanpy - INFO - Chain [1] start processing\n",
      "10:41:32 - cmdstanpy - INFO - Chain [1] done processing\n",
      "10:41:32 - cmdstanpy - INFO - Chain [1] start processing\n",
      "10:41:32 - cmdstanpy - INFO - Chain [1] done processing\n",
      "10:41:33 - cmdstanpy - INFO - Chain [1] start processing\n",
      "10:41:33 - cmdstanpy - INFO - Chain [1] done processing\n",
      "10:41:33 - cmdstanpy - INFO - Chain [1] start processing\n",
      "10:41:34 - cmdstanpy - INFO - Chain [1] done processing\n",
      "10:41:34 - cmdstanpy - INFO - Chain [1] start processing\n",
      "10:41:34 - cmdstanpy - INFO - Chain [1] done processing\n"
     ]
    },
    {
     "data": {
      "application/vnd.jupyter.widget-view+json": {
       "model_id": "07f2afc89ebe4bcaa5f2a013c4ed47d3",
       "version_major": 2,
       "version_minor": 0
      },
      "text/plain": [
       "  0%|          | 0/4 [00:00<?, ?it/s]"
      ]
     },
     "metadata": {},
     "output_type": "display_data"
    },
    {
     "name": "stderr",
     "output_type": "stream",
     "text": [
      "10:41:34 - cmdstanpy - INFO - Chain [1] start processing\n",
      "10:41:35 - cmdstanpy - INFO - Chain [1] done processing\n",
      "10:41:35 - cmdstanpy - INFO - Chain [1] start processing\n",
      "10:41:35 - cmdstanpy - INFO - Chain [1] done processing\n",
      "10:41:36 - cmdstanpy - INFO - Chain [1] start processing\n",
      "10:41:36 - cmdstanpy - INFO - Chain [1] done processing\n",
      "10:41:37 - cmdstanpy - INFO - Chain [1] start processing\n",
      "10:41:37 - cmdstanpy - INFO - Chain [1] done processing\n",
      "10:41:37 - cmdstanpy - INFO - Chain [1] start processing\n",
      "10:41:37 - cmdstanpy - INFO - Chain [1] done processing\n"
     ]
    },
    {
     "data": {
      "application/vnd.jupyter.widget-view+json": {
       "model_id": "ec0881fc374d43d09e70a024f0cae683",
       "version_major": 2,
       "version_minor": 0
      },
      "text/plain": [
       "  0%|          | 0/4 [00:00<?, ?it/s]"
      ]
     },
     "metadata": {},
     "output_type": "display_data"
    },
    {
     "name": "stderr",
     "output_type": "stream",
     "text": [
      "10:41:37 - cmdstanpy - INFO - Chain [1] start processing\n",
      "10:41:38 - cmdstanpy - INFO - Chain [1] done processing\n",
      "10:41:38 - cmdstanpy - INFO - Chain [1] start processing\n",
      "10:41:38 - cmdstanpy - INFO - Chain [1] done processing\n",
      "10:41:39 - cmdstanpy - INFO - Chain [1] start processing\n",
      "10:41:39 - cmdstanpy - INFO - Chain [1] done processing\n",
      "10:41:39 - cmdstanpy - INFO - Chain [1] start processing\n",
      "10:41:39 - cmdstanpy - INFO - Chain [1] done processing\n",
      "10:41:40 - cmdstanpy - INFO - Chain [1] start processing\n",
      "10:41:40 - cmdstanpy - INFO - Chain [1] done processing\n"
     ]
    },
    {
     "data": {
      "application/vnd.jupyter.widget-view+json": {
       "model_id": "4b6da72a68834b5ebaf5ff954295a372",
       "version_major": 2,
       "version_minor": 0
      },
      "text/plain": [
       "  0%|          | 0/4 [00:00<?, ?it/s]"
      ]
     },
     "metadata": {},
     "output_type": "display_data"
    },
    {
     "name": "stderr",
     "output_type": "stream",
     "text": [
      "10:41:40 - cmdstanpy - INFO - Chain [1] start processing\n",
      "10:41:40 - cmdstanpy - INFO - Chain [1] done processing\n",
      "10:41:41 - cmdstanpy - INFO - Chain [1] start processing\n",
      "10:41:41 - cmdstanpy - INFO - Chain [1] done processing\n",
      "10:41:42 - cmdstanpy - INFO - Chain [1] start processing\n",
      "10:41:42 - cmdstanpy - INFO - Chain [1] done processing\n",
      "10:41:42 - cmdstanpy - INFO - Chain [1] start processing\n",
      "10:41:42 - cmdstanpy - INFO - Chain [1] done processing\n",
      "10:41:43 - cmdstanpy - INFO - Chain [1] start processing\n",
      "10:41:43 - cmdstanpy - INFO - Chain [1] done processing\n"
     ]
    },
    {
     "data": {
      "application/vnd.jupyter.widget-view+json": {
       "model_id": "62414d04fc13402bb7fc68532710d4a2",
       "version_major": 2,
       "version_minor": 0
      },
      "text/plain": [
       "  0%|          | 0/4 [00:00<?, ?it/s]"
      ]
     },
     "metadata": {},
     "output_type": "display_data"
    },
    {
     "name": "stderr",
     "output_type": "stream",
     "text": [
      "10:41:43 - cmdstanpy - INFO - Chain [1] start processing\n",
      "10:41:43 - cmdstanpy - INFO - Chain [1] done processing\n",
      "10:41:44 - cmdstanpy - INFO - Chain [1] start processing\n",
      "10:41:44 - cmdstanpy - INFO - Chain [1] done processing\n",
      "10:41:45 - cmdstanpy - INFO - Chain [1] start processing\n",
      "10:41:45 - cmdstanpy - INFO - Chain [1] done processing\n",
      "10:41:45 - cmdstanpy - INFO - Chain [1] start processing\n",
      "10:41:45 - cmdstanpy - INFO - Chain [1] done processing\n",
      "10:41:46 - cmdstanpy - INFO - Chain [1] start processing\n",
      "10:41:46 - cmdstanpy - INFO - Chain [1] done processing\n"
     ]
    },
    {
     "data": {
      "application/vnd.jupyter.widget-view+json": {
       "model_id": "b6d99f0d944249a88e739ed614214a91",
       "version_major": 2,
       "version_minor": 0
      },
      "text/plain": [
       "  0%|          | 0/4 [00:00<?, ?it/s]"
      ]
     },
     "metadata": {},
     "output_type": "display_data"
    },
    {
     "name": "stderr",
     "output_type": "stream",
     "text": [
      "10:41:46 - cmdstanpy - INFO - Chain [1] start processing\n",
      "10:41:46 - cmdstanpy - INFO - Chain [1] done processing\n",
      "10:41:47 - cmdstanpy - INFO - Chain [1] start processing\n",
      "10:41:47 - cmdstanpy - INFO - Chain [1] done processing\n",
      "10:41:48 - cmdstanpy - INFO - Chain [1] start processing\n",
      "10:41:48 - cmdstanpy - INFO - Chain [1] done processing\n",
      "10:41:48 - cmdstanpy - INFO - Chain [1] start processing\n",
      "10:41:48 - cmdstanpy - INFO - Chain [1] done processing\n",
      "10:41:49 - cmdstanpy - INFO - Chain [1] start processing\n",
      "10:41:49 - cmdstanpy - INFO - Chain [1] done processing\n"
     ]
    },
    {
     "data": {
      "application/vnd.jupyter.widget-view+json": {
       "model_id": "1ded6a8194254d1fb66032035b8c4434",
       "version_major": 2,
       "version_minor": 0
      },
      "text/plain": [
       "  0%|          | 0/4 [00:00<?, ?it/s]"
      ]
     },
     "metadata": {},
     "output_type": "display_data"
    },
    {
     "name": "stderr",
     "output_type": "stream",
     "text": [
      "10:41:49 - cmdstanpy - INFO - Chain [1] start processing\n",
      "10:41:49 - cmdstanpy - INFO - Chain [1] done processing\n",
      "10:41:50 - cmdstanpy - INFO - Chain [1] start processing\n",
      "10:41:50 - cmdstanpy - INFO - Chain [1] done processing\n",
      "10:41:51 - cmdstanpy - INFO - Chain [1] start processing\n",
      "10:41:51 - cmdstanpy - INFO - Chain [1] done processing\n",
      "10:41:51 - cmdstanpy - INFO - Chain [1] start processing\n",
      "10:41:51 - cmdstanpy - INFO - Chain [1] done processing\n",
      "10:41:52 - cmdstanpy - INFO - Chain [1] start processing\n",
      "10:41:52 - cmdstanpy - INFO - Chain [1] done processing\n"
     ]
    },
    {
     "data": {
      "application/vnd.jupyter.widget-view+json": {
       "model_id": "ae40ef8f667f4a19a59aaa882ad0329e",
       "version_major": 2,
       "version_minor": 0
      },
      "text/plain": [
       "  0%|          | 0/4 [00:00<?, ?it/s]"
      ]
     },
     "metadata": {},
     "output_type": "display_data"
    },
    {
     "name": "stderr",
     "output_type": "stream",
     "text": [
      "10:41:52 - cmdstanpy - INFO - Chain [1] start processing\n",
      "10:41:52 - cmdstanpy - INFO - Chain [1] done processing\n",
      "10:41:53 - cmdstanpy - INFO - Chain [1] start processing\n",
      "10:41:53 - cmdstanpy - INFO - Chain [1] done processing\n",
      "10:41:54 - cmdstanpy - INFO - Chain [1] start processing\n",
      "10:41:54 - cmdstanpy - INFO - Chain [1] done processing\n",
      "10:41:55 - cmdstanpy - INFO - Chain [1] start processing\n",
      "10:41:55 - cmdstanpy - INFO - Chain [1] done processing\n",
      "10:41:56 - cmdstanpy - INFO - Chain [1] start processing\n",
      "10:41:56 - cmdstanpy - INFO - Chain [1] done processing\n"
     ]
    },
    {
     "data": {
      "application/vnd.jupyter.widget-view+json": {
       "model_id": "aac9d9e0a2dd49b3a82fb03115015842",
       "version_major": 2,
       "version_minor": 0
      },
      "text/plain": [
       "  0%|          | 0/4 [00:00<?, ?it/s]"
      ]
     },
     "metadata": {},
     "output_type": "display_data"
    },
    {
     "name": "stderr",
     "output_type": "stream",
     "text": [
      "10:41:56 - cmdstanpy - INFO - Chain [1] start processing\n",
      "10:41:56 - cmdstanpy - INFO - Chain [1] done processing\n",
      "10:41:57 - cmdstanpy - INFO - Chain [1] start processing\n",
      "10:41:57 - cmdstanpy - INFO - Chain [1] done processing\n",
      "10:41:57 - cmdstanpy - INFO - Chain [1] start processing\n",
      "10:41:57 - cmdstanpy - INFO - Chain [1] done processing\n",
      "10:41:58 - cmdstanpy - INFO - Chain [1] start processing\n",
      "10:41:58 - cmdstanpy - INFO - Chain [1] done processing\n",
      "10:41:59 - cmdstanpy - INFO - Chain [1] start processing\n",
      "10:41:59 - cmdstanpy - INFO - Chain [1] done processing\n"
     ]
    },
    {
     "data": {
      "application/vnd.jupyter.widget-view+json": {
       "model_id": "3d153f8935fc4d48a3a46e18c3149427",
       "version_major": 2,
       "version_minor": 0
      },
      "text/plain": [
       "  0%|          | 0/4 [00:00<?, ?it/s]"
      ]
     },
     "metadata": {},
     "output_type": "display_data"
    },
    {
     "name": "stderr",
     "output_type": "stream",
     "text": [
      "10:41:59 - cmdstanpy - INFO - Chain [1] start processing\n",
      "10:41:59 - cmdstanpy - INFO - Chain [1] done processing\n",
      "10:42:00 - cmdstanpy - INFO - Chain [1] start processing\n",
      "10:42:00 - cmdstanpy - INFO - Chain [1] done processing\n",
      "10:42:00 - cmdstanpy - INFO - Chain [1] start processing\n",
      "10:42:00 - cmdstanpy - INFO - Chain [1] done processing\n",
      "10:42:01 - cmdstanpy - INFO - Chain [1] start processing\n",
      "10:42:01 - cmdstanpy - INFO - Chain [1] done processing\n",
      "10:42:02 - cmdstanpy - INFO - Chain [1] start processing\n",
      "10:42:02 - cmdstanpy - INFO - Chain [1] done processing\n"
     ]
    },
    {
     "data": {
      "application/vnd.jupyter.widget-view+json": {
       "model_id": "28639753e5804fa8b1f64c300f11a1e1",
       "version_major": 2,
       "version_minor": 0
      },
      "text/plain": [
       "  0%|          | 0/4 [00:00<?, ?it/s]"
      ]
     },
     "metadata": {},
     "output_type": "display_data"
    },
    {
     "name": "stderr",
     "output_type": "stream",
     "text": [
      "10:42:02 - cmdstanpy - INFO - Chain [1] start processing\n",
      "10:42:02 - cmdstanpy - INFO - Chain [1] done processing\n",
      "10:42:03 - cmdstanpy - INFO - Chain [1] start processing\n",
      "10:42:03 - cmdstanpy - INFO - Chain [1] done processing\n",
      "10:42:03 - cmdstanpy - INFO - Chain [1] start processing\n",
      "10:42:04 - cmdstanpy - INFO - Chain [1] done processing\n",
      "10:42:04 - cmdstanpy - INFO - Chain [1] start processing\n",
      "10:42:04 - cmdstanpy - INFO - Chain [1] done processing\n",
      "10:42:05 - cmdstanpy - INFO - Chain [1] start processing\n",
      "10:42:05 - cmdstanpy - INFO - Chain [1] done processing\n"
     ]
    },
    {
     "data": {
      "application/vnd.jupyter.widget-view+json": {
       "model_id": "45461d8159224537b13f132fd7937ca7",
       "version_major": 2,
       "version_minor": 0
      },
      "text/plain": [
       "  0%|          | 0/4 [00:00<?, ?it/s]"
      ]
     },
     "metadata": {},
     "output_type": "display_data"
    },
    {
     "name": "stderr",
     "output_type": "stream",
     "text": [
      "10:42:05 - cmdstanpy - INFO - Chain [1] start processing\n",
      "10:42:05 - cmdstanpy - INFO - Chain [1] done processing\n",
      "10:42:06 - cmdstanpy - INFO - Chain [1] start processing\n",
      "10:42:06 - cmdstanpy - INFO - Chain [1] done processing\n",
      "10:42:06 - cmdstanpy - INFO - Chain [1] start processing\n",
      "10:42:07 - cmdstanpy - INFO - Chain [1] done processing\n",
      "10:42:07 - cmdstanpy - INFO - Chain [1] start processing\n",
      "10:42:07 - cmdstanpy - INFO - Chain [1] done processing\n",
      "10:42:08 - cmdstanpy - INFO - Chain [1] start processing\n",
      "10:42:08 - cmdstanpy - INFO - Chain [1] done processing\n"
     ]
    },
    {
     "data": {
      "application/vnd.jupyter.widget-view+json": {
       "model_id": "18358e1d367e487283bfb0c8ff2e33cf",
       "version_major": 2,
       "version_minor": 0
      },
      "text/plain": [
       "  0%|          | 0/4 [00:00<?, ?it/s]"
      ]
     },
     "metadata": {},
     "output_type": "display_data"
    },
    {
     "name": "stderr",
     "output_type": "stream",
     "text": [
      "10:42:08 - cmdstanpy - INFO - Chain [1] start processing\n",
      "10:42:08 - cmdstanpy - INFO - Chain [1] done processing\n",
      "10:42:09 - cmdstanpy - INFO - Chain [1] start processing\n",
      "10:42:09 - cmdstanpy - INFO - Chain [1] done processing\n",
      "10:42:10 - cmdstanpy - INFO - Chain [1] start processing\n",
      "10:42:10 - cmdstanpy - INFO - Chain [1] done processing\n",
      "10:42:10 - cmdstanpy - INFO - Chain [1] start processing\n",
      "10:42:11 - cmdstanpy - INFO - Chain [1] done processing\n",
      "10:42:11 - cmdstanpy - INFO - Chain [1] start processing\n",
      "10:42:11 - cmdstanpy - INFO - Chain [1] done processing\n"
     ]
    },
    {
     "data": {
      "application/vnd.jupyter.widget-view+json": {
       "model_id": "ae86ccd8e60448de9ddee110f26029cd",
       "version_major": 2,
       "version_minor": 0
      },
      "text/plain": [
       "  0%|          | 0/4 [00:00<?, ?it/s]"
      ]
     },
     "metadata": {},
     "output_type": "display_data"
    },
    {
     "name": "stderr",
     "output_type": "stream",
     "text": [
      "10:42:11 - cmdstanpy - INFO - Chain [1] start processing\n",
      "10:42:12 - cmdstanpy - INFO - Chain [1] done processing\n",
      "10:42:12 - cmdstanpy - INFO - Chain [1] start processing\n",
      "10:42:12 - cmdstanpy - INFO - Chain [1] done processing\n",
      "10:42:13 - cmdstanpy - INFO - Chain [1] start processing\n",
      "10:42:13 - cmdstanpy - INFO - Chain [1] done processing\n",
      "10:42:14 - cmdstanpy - INFO - Chain [1] start processing\n",
      "10:42:14 - cmdstanpy - INFO - Chain [1] done processing\n",
      "10:42:14 - cmdstanpy - INFO - Chain [1] start processing\n",
      "10:42:14 - cmdstanpy - INFO - Chain [1] done processing\n"
     ]
    },
    {
     "data": {
      "application/vnd.jupyter.widget-view+json": {
       "model_id": "ddf23d47b70247d688c4c88a5a8bcb8d",
       "version_major": 2,
       "version_minor": 0
      },
      "text/plain": [
       "  0%|          | 0/4 [00:00<?, ?it/s]"
      ]
     },
     "metadata": {},
     "output_type": "display_data"
    },
    {
     "name": "stderr",
     "output_type": "stream",
     "text": [
      "10:42:14 - cmdstanpy - INFO - Chain [1] start processing\n",
      "10:42:15 - cmdstanpy - INFO - Chain [1] done processing\n",
      "10:42:15 - cmdstanpy - INFO - Chain [1] start processing\n",
      "10:42:15 - cmdstanpy - INFO - Chain [1] done processing\n",
      "10:42:16 - cmdstanpy - INFO - Chain [1] start processing\n",
      "10:42:16 - cmdstanpy - INFO - Chain [1] done processing\n",
      "10:42:17 - cmdstanpy - INFO - Chain [1] start processing\n",
      "10:42:17 - cmdstanpy - INFO - Chain [1] done processing\n",
      "10:42:17 - cmdstanpy - INFO - Chain [1] start processing\n",
      "10:42:17 - cmdstanpy - INFO - Chain [1] done processing\n"
     ]
    },
    {
     "data": {
      "application/vnd.jupyter.widget-view+json": {
       "model_id": "19749b98ca5e469abc1976ac24e255a4",
       "version_major": 2,
       "version_minor": 0
      },
      "text/plain": [
       "  0%|          | 0/4 [00:00<?, ?it/s]"
      ]
     },
     "metadata": {},
     "output_type": "display_data"
    },
    {
     "name": "stderr",
     "output_type": "stream",
     "text": [
      "10:42:18 - cmdstanpy - INFO - Chain [1] start processing\n",
      "10:42:18 - cmdstanpy - INFO - Chain [1] done processing\n",
      "10:42:19 - cmdstanpy - INFO - Chain [1] start processing\n",
      "10:42:19 - cmdstanpy - INFO - Chain [1] done processing\n",
      "10:42:19 - cmdstanpy - INFO - Chain [1] start processing\n",
      "10:42:19 - cmdstanpy - INFO - Chain [1] done processing\n",
      "10:42:20 - cmdstanpy - INFO - Chain [1] start processing\n",
      "10:42:20 - cmdstanpy - INFO - Chain [1] done processing\n",
      "10:42:21 - cmdstanpy - INFO - Chain [1] start processing\n",
      "10:42:21 - cmdstanpy - INFO - Chain [1] done processing\n"
     ]
    },
    {
     "data": {
      "application/vnd.jupyter.widget-view+json": {
       "model_id": "fab4bebef54c421285af8562b4265af4",
       "version_major": 2,
       "version_minor": 0
      },
      "text/plain": [
       "  0%|          | 0/4 [00:00<?, ?it/s]"
      ]
     },
     "metadata": {},
     "output_type": "display_data"
    },
    {
     "name": "stderr",
     "output_type": "stream",
     "text": [
      "10:42:21 - cmdstanpy - INFO - Chain [1] start processing\n",
      "10:42:21 - cmdstanpy - INFO - Chain [1] done processing\n",
      "10:42:22 - cmdstanpy - INFO - Chain [1] start processing\n",
      "10:42:22 - cmdstanpy - INFO - Chain [1] done processing\n",
      "10:42:22 - cmdstanpy - INFO - Chain [1] start processing\n",
      "10:42:22 - cmdstanpy - INFO - Chain [1] done processing\n",
      "10:42:23 - cmdstanpy - INFO - Chain [1] start processing\n",
      "10:42:23 - cmdstanpy - INFO - Chain [1] done processing\n",
      "10:42:24 - cmdstanpy - INFO - Chain [1] start processing\n",
      "10:42:24 - cmdstanpy - INFO - Chain [1] done processing\n"
     ]
    },
    {
     "data": {
      "application/vnd.jupyter.widget-view+json": {
       "model_id": "f9dcafac38f54453b20d77f3c22122bc",
       "version_major": 2,
       "version_minor": 0
      },
      "text/plain": [
       "  0%|          | 0/4 [00:00<?, ?it/s]"
      ]
     },
     "metadata": {},
     "output_type": "display_data"
    },
    {
     "name": "stderr",
     "output_type": "stream",
     "text": [
      "10:42:24 - cmdstanpy - INFO - Chain [1] start processing\n",
      "10:42:24 - cmdstanpy - INFO - Chain [1] done processing\n",
      "10:42:25 - cmdstanpy - INFO - Chain [1] start processing\n",
      "10:42:25 - cmdstanpy - INFO - Chain [1] done processing\n",
      "10:42:25 - cmdstanpy - INFO - Chain [1] start processing\n",
      "10:42:25 - cmdstanpy - INFO - Chain [1] done processing\n",
      "10:42:26 - cmdstanpy - INFO - Chain [1] start processing\n",
      "10:42:26 - cmdstanpy - INFO - Chain [1] done processing\n",
      "10:42:27 - cmdstanpy - INFO - Chain [1] start processing\n",
      "10:42:27 - cmdstanpy - INFO - Chain [1] done processing\n"
     ]
    },
    {
     "data": {
      "application/vnd.jupyter.widget-view+json": {
       "model_id": "2c78990c4a684f51b54ab89cab60cdcd",
       "version_major": 2,
       "version_minor": 0
      },
      "text/plain": [
       "  0%|          | 0/4 [00:00<?, ?it/s]"
      ]
     },
     "metadata": {},
     "output_type": "display_data"
    },
    {
     "name": "stderr",
     "output_type": "stream",
     "text": [
      "10:42:27 - cmdstanpy - INFO - Chain [1] start processing\n",
      "10:42:27 - cmdstanpy - INFO - Chain [1] done processing\n",
      "10:42:28 - cmdstanpy - INFO - Chain [1] start processing\n",
      "10:42:28 - cmdstanpy - INFO - Chain [1] done processing\n",
      "10:42:28 - cmdstanpy - INFO - Chain [1] start processing\n",
      "10:42:28 - cmdstanpy - INFO - Chain [1] done processing\n",
      "10:42:29 - cmdstanpy - INFO - Chain [1] start processing\n",
      "10:42:29 - cmdstanpy - INFO - Chain [1] done processing\n",
      "10:42:30 - cmdstanpy - INFO - Chain [1] start processing\n",
      "10:42:30 - cmdstanpy - INFO - Chain [1] done processing\n"
     ]
    },
    {
     "data": {
      "application/vnd.jupyter.widget-view+json": {
       "model_id": "4e06bafabc13473882b2f2b1fbaeaa98",
       "version_major": 2,
       "version_minor": 0
      },
      "text/plain": [
       "  0%|          | 0/4 [00:00<?, ?it/s]"
      ]
     },
     "metadata": {},
     "output_type": "display_data"
    },
    {
     "name": "stderr",
     "output_type": "stream",
     "text": [
      "10:42:30 - cmdstanpy - INFO - Chain [1] start processing\n",
      "10:42:30 - cmdstanpy - INFO - Chain [1] done processing\n",
      "10:42:31 - cmdstanpy - INFO - Chain [1] start processing\n",
      "10:42:31 - cmdstanpy - INFO - Chain [1] done processing\n",
      "10:42:31 - cmdstanpy - INFO - Chain [1] start processing\n",
      "10:42:31 - cmdstanpy - INFO - Chain [1] done processing\n",
      "10:42:32 - cmdstanpy - INFO - Chain [1] start processing\n",
      "10:42:32 - cmdstanpy - INFO - Chain [1] done processing\n",
      "10:42:33 - cmdstanpy - INFO - Chain [1] start processing\n",
      "10:42:33 - cmdstanpy - INFO - Chain [1] done processing\n"
     ]
    },
    {
     "data": {
      "application/vnd.jupyter.widget-view+json": {
       "model_id": "958ccf6e7a2f49899768fe507ff271fc",
       "version_major": 2,
       "version_minor": 0
      },
      "text/plain": [
       "  0%|          | 0/4 [00:00<?, ?it/s]"
      ]
     },
     "metadata": {},
     "output_type": "display_data"
    },
    {
     "name": "stderr",
     "output_type": "stream",
     "text": [
      "10:42:33 - cmdstanpy - INFO - Chain [1] start processing\n",
      "10:42:33 - cmdstanpy - INFO - Chain [1] done processing\n",
      "10:42:34 - cmdstanpy - INFO - Chain [1] start processing\n",
      "10:42:34 - cmdstanpy - INFO - Chain [1] done processing\n",
      "10:42:34 - cmdstanpy - INFO - Chain [1] start processing\n",
      "10:42:34 - cmdstanpy - INFO - Chain [1] done processing\n",
      "10:42:35 - cmdstanpy - INFO - Chain [1] start processing\n",
      "10:42:35 - cmdstanpy - INFO - Chain [1] done processing\n",
      "10:42:36 - cmdstanpy - INFO - Chain [1] start processing\n",
      "10:42:36 - cmdstanpy - INFO - Chain [1] done processing\n"
     ]
    },
    {
     "data": {
      "application/vnd.jupyter.widget-view+json": {
       "model_id": "5c13ddd0f86c46d0b9c2269f39f15633",
       "version_major": 2,
       "version_minor": 0
      },
      "text/plain": [
       "  0%|          | 0/4 [00:00<?, ?it/s]"
      ]
     },
     "metadata": {},
     "output_type": "display_data"
    },
    {
     "name": "stderr",
     "output_type": "stream",
     "text": [
      "10:42:36 - cmdstanpy - INFO - Chain [1] start processing\n",
      "10:42:36 - cmdstanpy - INFO - Chain [1] done processing\n",
      "10:42:37 - cmdstanpy - INFO - Chain [1] start processing\n",
      "10:42:37 - cmdstanpy - INFO - Chain [1] done processing\n",
      "10:42:38 - cmdstanpy - INFO - Chain [1] start processing\n",
      "10:42:38 - cmdstanpy - INFO - Chain [1] done processing\n",
      "10:42:39 - cmdstanpy - INFO - Chain [1] start processing\n",
      "10:42:39 - cmdstanpy - INFO - Chain [1] done processing\n",
      "10:42:40 - cmdstanpy - INFO - Chain [1] start processing\n",
      "10:42:40 - cmdstanpy - INFO - Chain [1] done processing\n"
     ]
    },
    {
     "data": {
      "application/vnd.jupyter.widget-view+json": {
       "model_id": "1a611fbf448d40039f20bb461557300d",
       "version_major": 2,
       "version_minor": 0
      },
      "text/plain": [
       "  0%|          | 0/4 [00:00<?, ?it/s]"
      ]
     },
     "metadata": {},
     "output_type": "display_data"
    },
    {
     "name": "stderr",
     "output_type": "stream",
     "text": [
      "10:42:40 - cmdstanpy - INFO - Chain [1] start processing\n",
      "10:42:40 - cmdstanpy - INFO - Chain [1] done processing\n",
      "10:42:41 - cmdstanpy - INFO - Chain [1] start processing\n",
      "10:42:41 - cmdstanpy - INFO - Chain [1] done processing\n",
      "10:42:41 - cmdstanpy - INFO - Chain [1] start processing\n",
      "10:42:41 - cmdstanpy - INFO - Chain [1] done processing\n",
      "10:42:42 - cmdstanpy - INFO - Chain [1] start processing\n",
      "10:42:42 - cmdstanpy - INFO - Chain [1] done processing\n",
      "10:42:43 - cmdstanpy - INFO - Chain [1] start processing\n",
      "10:42:43 - cmdstanpy - INFO - Chain [1] done processing\n"
     ]
    },
    {
     "data": {
      "application/vnd.jupyter.widget-view+json": {
       "model_id": "769e511afe954ef0ad6e034bff6fcd03",
       "version_major": 2,
       "version_minor": 0
      },
      "text/plain": [
       "  0%|          | 0/4 [00:00<?, ?it/s]"
      ]
     },
     "metadata": {},
     "output_type": "display_data"
    },
    {
     "name": "stderr",
     "output_type": "stream",
     "text": [
      "10:42:43 - cmdstanpy - INFO - Chain [1] start processing\n",
      "10:42:43 - cmdstanpy - INFO - Chain [1] done processing\n",
      "10:42:44 - cmdstanpy - INFO - Chain [1] start processing\n",
      "10:42:44 - cmdstanpy - INFO - Chain [1] done processing\n",
      "10:42:45 - cmdstanpy - INFO - Chain [1] start processing\n",
      "10:42:45 - cmdstanpy - INFO - Chain [1] done processing\n",
      "10:42:46 - cmdstanpy - INFO - Chain [1] start processing\n",
      "10:42:46 - cmdstanpy - INFO - Chain [1] done processing\n",
      "10:42:47 - cmdstanpy - INFO - Chain [1] start processing\n",
      "10:42:47 - cmdstanpy - INFO - Chain [1] done processing\n"
     ]
    },
    {
     "data": {
      "application/vnd.jupyter.widget-view+json": {
       "model_id": "1239b45a7409437ab4f735d17417ae7e",
       "version_major": 2,
       "version_minor": 0
      },
      "text/plain": [
       "  0%|          | 0/4 [00:00<?, ?it/s]"
      ]
     },
     "metadata": {},
     "output_type": "display_data"
    },
    {
     "name": "stderr",
     "output_type": "stream",
     "text": [
      "10:42:47 - cmdstanpy - INFO - Chain [1] start processing\n",
      "10:42:47 - cmdstanpy - INFO - Chain [1] done processing\n",
      "10:42:48 - cmdstanpy - INFO - Chain [1] start processing\n",
      "10:42:48 - cmdstanpy - INFO - Chain [1] done processing\n",
      "10:42:48 - cmdstanpy - INFO - Chain [1] start processing\n",
      "10:42:48 - cmdstanpy - INFO - Chain [1] done processing\n",
      "10:42:49 - cmdstanpy - INFO - Chain [1] start processing\n",
      "10:42:49 - cmdstanpy - INFO - Chain [1] done processing\n",
      "10:42:50 - cmdstanpy - INFO - Chain [1] start processing\n",
      "10:42:50 - cmdstanpy - INFO - Chain [1] done processing\n"
     ]
    },
    {
     "data": {
      "application/vnd.jupyter.widget-view+json": {
       "model_id": "dec33d0503434548a4dfc92aaa5782dd",
       "version_major": 2,
       "version_minor": 0
      },
      "text/plain": [
       "  0%|          | 0/4 [00:00<?, ?it/s]"
      ]
     },
     "metadata": {},
     "output_type": "display_data"
    },
    {
     "name": "stderr",
     "output_type": "stream",
     "text": [
      "10:42:50 - cmdstanpy - INFO - Chain [1] start processing\n",
      "10:42:50 - cmdstanpy - INFO - Chain [1] done processing\n",
      "10:42:51 - cmdstanpy - INFO - Chain [1] start processing\n",
      "10:42:51 - cmdstanpy - INFO - Chain [1] done processing\n",
      "10:42:51 - cmdstanpy - INFO - Chain [1] start processing\n",
      "10:42:51 - cmdstanpy - INFO - Chain [1] done processing\n",
      "10:42:52 - cmdstanpy - INFO - Chain [1] start processing\n",
      "10:42:52 - cmdstanpy - INFO - Chain [1] done processing\n",
      "10:42:53 - cmdstanpy - INFO - Chain [1] start processing\n",
      "10:42:53 - cmdstanpy - INFO - Chain [1] done processing\n"
     ]
    },
    {
     "data": {
      "application/vnd.jupyter.widget-view+json": {
       "model_id": "cbe775ca7bd1459fa75ed2cc7a49e3d7",
       "version_major": 2,
       "version_minor": 0
      },
      "text/plain": [
       "  0%|          | 0/4 [00:00<?, ?it/s]"
      ]
     },
     "metadata": {},
     "output_type": "display_data"
    },
    {
     "name": "stderr",
     "output_type": "stream",
     "text": [
      "10:42:53 - cmdstanpy - INFO - Chain [1] start processing\n",
      "10:42:53 - cmdstanpy - INFO - Chain [1] done processing\n",
      "10:42:54 - cmdstanpy - INFO - Chain [1] start processing\n",
      "10:42:54 - cmdstanpy - INFO - Chain [1] done processing\n",
      "10:42:55 - cmdstanpy - INFO - Chain [1] start processing\n",
      "10:42:55 - cmdstanpy - INFO - Chain [1] done processing\n",
      "10:42:55 - cmdstanpy - INFO - Chain [1] start processing\n",
      "10:42:55 - cmdstanpy - INFO - Chain [1] done processing\n",
      "10:42:56 - cmdstanpy - INFO - Chain [1] start processing\n",
      "10:42:56 - cmdstanpy - INFO - Chain [1] done processing\n"
     ]
    },
    {
     "data": {
      "application/vnd.jupyter.widget-view+json": {
       "model_id": "0d6bf62cec19493795ba9d283c3266ee",
       "version_major": 2,
       "version_minor": 0
      },
      "text/plain": [
       "  0%|          | 0/4 [00:00<?, ?it/s]"
      ]
     },
     "metadata": {},
     "output_type": "display_data"
    },
    {
     "name": "stderr",
     "output_type": "stream",
     "text": [
      "10:42:56 - cmdstanpy - INFO - Chain [1] start processing\n",
      "10:42:56 - cmdstanpy - INFO - Chain [1] done processing\n",
      "10:42:57 - cmdstanpy - INFO - Chain [1] start processing\n",
      "10:42:57 - cmdstanpy - INFO - Chain [1] done processing\n",
      "10:42:58 - cmdstanpy - INFO - Chain [1] start processing\n",
      "10:42:58 - cmdstanpy - INFO - Chain [1] done processing\n",
      "10:42:58 - cmdstanpy - INFO - Chain [1] start processing\n",
      "10:42:58 - cmdstanpy - INFO - Chain [1] done processing\n",
      "10:42:59 - cmdstanpy - INFO - Chain [1] start processing\n",
      "10:42:59 - cmdstanpy - INFO - Chain [1] done processing\n"
     ]
    },
    {
     "data": {
      "application/vnd.jupyter.widget-view+json": {
       "model_id": "7315efb4be4b413c8e8bfb81141aa7a8",
       "version_major": 2,
       "version_minor": 0
      },
      "text/plain": [
       "  0%|          | 0/4 [00:00<?, ?it/s]"
      ]
     },
     "metadata": {},
     "output_type": "display_data"
    },
    {
     "name": "stderr",
     "output_type": "stream",
     "text": [
      "10:42:59 - cmdstanpy - INFO - Chain [1] start processing\n",
      "10:42:59 - cmdstanpy - INFO - Chain [1] done processing\n",
      "10:43:00 - cmdstanpy - INFO - Chain [1] start processing\n",
      "10:43:00 - cmdstanpy - INFO - Chain [1] done processing\n",
      "10:43:01 - cmdstanpy - INFO - Chain [1] start processing\n",
      "10:43:01 - cmdstanpy - INFO - Chain [1] done processing\n",
      "10:43:01 - cmdstanpy - INFO - Chain [1] start processing\n",
      "10:43:01 - cmdstanpy - INFO - Chain [1] done processing\n",
      "10:43:02 - cmdstanpy - INFO - Chain [1] start processing\n",
      "10:43:02 - cmdstanpy - INFO - Chain [1] done processing\n"
     ]
    },
    {
     "data": {
      "application/vnd.jupyter.widget-view+json": {
       "model_id": "3dd9217ac9534ed48aaa8351fb0925c9",
       "version_major": 2,
       "version_minor": 0
      },
      "text/plain": [
       "  0%|          | 0/4 [00:00<?, ?it/s]"
      ]
     },
     "metadata": {},
     "output_type": "display_data"
    },
    {
     "name": "stderr",
     "output_type": "stream",
     "text": [
      "10:43:02 - cmdstanpy - INFO - Chain [1] start processing\n",
      "10:43:02 - cmdstanpy - INFO - Chain [1] done processing\n",
      "10:43:03 - cmdstanpy - INFO - Chain [1] start processing\n",
      "10:43:03 - cmdstanpy - INFO - Chain [1] done processing\n",
      "10:43:04 - cmdstanpy - INFO - Chain [1] start processing\n",
      "10:43:04 - cmdstanpy - INFO - Chain [1] done processing\n",
      "10:43:05 - cmdstanpy - INFO - Chain [1] start processing\n",
      "10:43:05 - cmdstanpy - INFO - Chain [1] done processing\n"
     ]
    },
    {
     "name": "stdout",
     "output_type": "stream",
     "text": [
      "    changepoint_prior_scale  seasonality_prior_scale  holidays_prior_scale  \\\n",
      "0                      0.15                    0.011                0.0009   \n",
      "1                      0.15                    0.011                0.0010   \n",
      "2                      0.15                    0.011                0.0030   \n",
      "3                      0.15                    0.011                0.0050   \n",
      "4                      0.15                    0.011                0.0009   \n",
      "..                      ...                      ...                   ...   \n",
      "59                     0.21                    0.011                0.0050   \n",
      "60                     0.21                    0.011                0.0009   \n",
      "61                     0.21                    0.011                0.0010   \n",
      "62                     0.21                    0.011                0.0030   \n",
      "63                     0.21                    0.011                0.0050   \n",
      "\n",
      "        rmse       mse       mae  \n",
      "0   0.042880  0.001839  0.032257  \n",
      "1   0.042880  0.001839  0.032257  \n",
      "2   0.042880  0.001839  0.032257  \n",
      "3   0.042880  0.001839  0.032257  \n",
      "4   0.042880  0.001839  0.032257  \n",
      "..       ...       ...       ...  \n",
      "59  0.042747  0.001827  0.031820  \n",
      "60  0.042747  0.001827  0.031820  \n",
      "61  0.042747  0.001827  0.031820  \n",
      "62  0.042747  0.001827  0.031820  \n",
      "63  0.042747  0.001827  0.031820  \n",
      "\n",
      "[64 rows x 6 columns]\n"
     ]
    }
   ],
   "source": [
    "from prophet import Prophet\n",
    "import itertools\n",
    "import numpy as np\n",
    "import pandas as pd\n",
    "from prophet.diagnostics import cross_validation\n",
    "from prophet.diagnostics import performance_metrics\n",
    "\n",
    "#changepoint_prior_scale    0.150000 can possibly be tuned as it is a border value\n",
    "#seasonality_prior_scale    0.011000 satisfied with this value, as it is not a border value\n",
    "#holidays_prior_scale       0.005000 can possibly be tuned as it is a border value\n",
    "#rmse                       0.042880\n",
    "#mse                        0.001839\n",
    "#mae                        0.032257\n",
    "\n",
    "\n",
    "\n",
    "data = pd.read_csv('data.csv')\n",
    "\n",
    "\n",
    "param_grid = {  \n",
    "    'changepoint_prior_scale': [0.15, 0.17, 0.19, 0.21],\n",
    "    'seasonality_prior_scale': [0.011, 0.011, 0.011, 0.011],\n",
    "    'holidays_prior_scale': [0.0009, 0.001, 0.003, 0.005],\n",
    "}\n",
    "\n",
    "# Generate all combinations of parameters\n",
    "all_params = [dict(zip(param_grid.keys(), v)) for v in itertools.product(*param_grid.values())]\n",
    "rmses = []  # Store the RMSEs for each params here\n",
    "mse = []\n",
    "mae = []\n",
    "\n",
    "# Use cross validation to evaluate all parameters\n",
    "for params in all_params:\n",
    "    m = Prophet(**params, interval_width=0.9, daily_seasonality=True).fit(data)  # Fit model with given params\n",
    "    df_cv = cross_validation(m, initial='100 days', period='60 days', horizon = '30 days')\n",
    "    df_p = performance_metrics(df_cv, rolling_window=1)\n",
    "    rmses.append(df_p['rmse'].values[0])\n",
    "    mse.append(df_p[\"mse\"].values[0])\n",
    "    mae.append(df_p[\"mae\"].values[0])\n",
    "\n",
    "# Find the best parameters\n",
    "tuning_results = pd.DataFrame(all_params)\n",
    "tuning_results['rmse'] = rmses\n",
    "tuning_results['mse'] = mse\n",
    "tuning_results['mae'] = mae\n",
    "print(tuning_results)\n",
    "\n"
   ]
  },
  {
   "cell_type": "code",
   "execution_count": 2,
   "id": "8d68eb81",
   "metadata": {},
   "outputs": [
    {
     "name": "stdout",
     "output_type": "stream",
     "text": [
      "{'changepoint_prior_scale': 0.21, 'seasonality_prior_scale': 0.011, 'holidays_prior_scale': 0.0009}\n"
     ]
    }
   ],
   "source": [
    "best_params = all_params[np.argmin(rmses)]\n",
    "print(best_params)"
   ]
  },
  {
   "cell_type": "code",
   "execution_count": 3,
   "id": "d233438b",
   "metadata": {},
   "outputs": [
    {
     "name": "stdout",
     "output_type": "stream",
     "text": [
      "0.04274670287280335\n"
     ]
    }
   ],
   "source": [
    "print(tuning_results['rmse'].min())"
   ]
  },
  {
   "cell_type": "code",
   "execution_count": 6,
   "id": "80a34dd6",
   "metadata": {},
   "outputs": [
    {
     "name": "stdout",
     "output_type": "stream",
     "text": [
      "[{'changepoint_prior_scale': 0.15, 'seasonality_prior_scale': 0.011, 'holidays_prior_scale': 0.0009}, {'changepoint_prior_scale': 0.15, 'seasonality_prior_scale': 0.011, 'holidays_prior_scale': 0.001}, {'changepoint_prior_scale': 0.15, 'seasonality_prior_scale': 0.011, 'holidays_prior_scale': 0.003}, {'changepoint_prior_scale': 0.15, 'seasonality_prior_scale': 0.011, 'holidays_prior_scale': 0.005}, {'changepoint_prior_scale': 0.15, 'seasonality_prior_scale': 0.011, 'holidays_prior_scale': 0.0009}, {'changepoint_prior_scale': 0.15, 'seasonality_prior_scale': 0.011, 'holidays_prior_scale': 0.001}, {'changepoint_prior_scale': 0.15, 'seasonality_prior_scale': 0.011, 'holidays_prior_scale': 0.003}, {'changepoint_prior_scale': 0.15, 'seasonality_prior_scale': 0.011, 'holidays_prior_scale': 0.005}, {'changepoint_prior_scale': 0.15, 'seasonality_prior_scale': 0.011, 'holidays_prior_scale': 0.0009}, {'changepoint_prior_scale': 0.15, 'seasonality_prior_scale': 0.011, 'holidays_prior_scale': 0.001}, {'changepoint_prior_scale': 0.15, 'seasonality_prior_scale': 0.011, 'holidays_prior_scale': 0.003}, {'changepoint_prior_scale': 0.15, 'seasonality_prior_scale': 0.011, 'holidays_prior_scale': 0.005}, {'changepoint_prior_scale': 0.15, 'seasonality_prior_scale': 0.011, 'holidays_prior_scale': 0.0009}, {'changepoint_prior_scale': 0.15, 'seasonality_prior_scale': 0.011, 'holidays_prior_scale': 0.001}, {'changepoint_prior_scale': 0.15, 'seasonality_prior_scale': 0.011, 'holidays_prior_scale': 0.003}, {'changepoint_prior_scale': 0.15, 'seasonality_prior_scale': 0.011, 'holidays_prior_scale': 0.005}, {'changepoint_prior_scale': 0.17, 'seasonality_prior_scale': 0.011, 'holidays_prior_scale': 0.0009}, {'changepoint_prior_scale': 0.17, 'seasonality_prior_scale': 0.011, 'holidays_prior_scale': 0.001}, {'changepoint_prior_scale': 0.17, 'seasonality_prior_scale': 0.011, 'holidays_prior_scale': 0.003}, {'changepoint_prior_scale': 0.17, 'seasonality_prior_scale': 0.011, 'holidays_prior_scale': 0.005}, {'changepoint_prior_scale': 0.17, 'seasonality_prior_scale': 0.011, 'holidays_prior_scale': 0.0009}, {'changepoint_prior_scale': 0.17, 'seasonality_prior_scale': 0.011, 'holidays_prior_scale': 0.001}, {'changepoint_prior_scale': 0.17, 'seasonality_prior_scale': 0.011, 'holidays_prior_scale': 0.003}, {'changepoint_prior_scale': 0.17, 'seasonality_prior_scale': 0.011, 'holidays_prior_scale': 0.005}, {'changepoint_prior_scale': 0.17, 'seasonality_prior_scale': 0.011, 'holidays_prior_scale': 0.0009}, {'changepoint_prior_scale': 0.17, 'seasonality_prior_scale': 0.011, 'holidays_prior_scale': 0.001}, {'changepoint_prior_scale': 0.17, 'seasonality_prior_scale': 0.011, 'holidays_prior_scale': 0.003}, {'changepoint_prior_scale': 0.17, 'seasonality_prior_scale': 0.011, 'holidays_prior_scale': 0.005}, {'changepoint_prior_scale': 0.17, 'seasonality_prior_scale': 0.011, 'holidays_prior_scale': 0.0009}, {'changepoint_prior_scale': 0.17, 'seasonality_prior_scale': 0.011, 'holidays_prior_scale': 0.001}, {'changepoint_prior_scale': 0.17, 'seasonality_prior_scale': 0.011, 'holidays_prior_scale': 0.003}, {'changepoint_prior_scale': 0.17, 'seasonality_prior_scale': 0.011, 'holidays_prior_scale': 0.005}, {'changepoint_prior_scale': 0.19, 'seasonality_prior_scale': 0.011, 'holidays_prior_scale': 0.0009}, {'changepoint_prior_scale': 0.19, 'seasonality_prior_scale': 0.011, 'holidays_prior_scale': 0.001}, {'changepoint_prior_scale': 0.19, 'seasonality_prior_scale': 0.011, 'holidays_prior_scale': 0.003}, {'changepoint_prior_scale': 0.19, 'seasonality_prior_scale': 0.011, 'holidays_prior_scale': 0.005}, {'changepoint_prior_scale': 0.19, 'seasonality_prior_scale': 0.011, 'holidays_prior_scale': 0.0009}, {'changepoint_prior_scale': 0.19, 'seasonality_prior_scale': 0.011, 'holidays_prior_scale': 0.001}, {'changepoint_prior_scale': 0.19, 'seasonality_prior_scale': 0.011, 'holidays_prior_scale': 0.003}, {'changepoint_prior_scale': 0.19, 'seasonality_prior_scale': 0.011, 'holidays_prior_scale': 0.005}, {'changepoint_prior_scale': 0.19, 'seasonality_prior_scale': 0.011, 'holidays_prior_scale': 0.0009}, {'changepoint_prior_scale': 0.19, 'seasonality_prior_scale': 0.011, 'holidays_prior_scale': 0.001}, {'changepoint_prior_scale': 0.19, 'seasonality_prior_scale': 0.011, 'holidays_prior_scale': 0.003}, {'changepoint_prior_scale': 0.19, 'seasonality_prior_scale': 0.011, 'holidays_prior_scale': 0.005}, {'changepoint_prior_scale': 0.19, 'seasonality_prior_scale': 0.011, 'holidays_prior_scale': 0.0009}, {'changepoint_prior_scale': 0.19, 'seasonality_prior_scale': 0.011, 'holidays_prior_scale': 0.001}, {'changepoint_prior_scale': 0.19, 'seasonality_prior_scale': 0.011, 'holidays_prior_scale': 0.003}, {'changepoint_prior_scale': 0.19, 'seasonality_prior_scale': 0.011, 'holidays_prior_scale': 0.005}, {'changepoint_prior_scale': 0.21, 'seasonality_prior_scale': 0.011, 'holidays_prior_scale': 0.0009}, {'changepoint_prior_scale': 0.21, 'seasonality_prior_scale': 0.011, 'holidays_prior_scale': 0.001}, {'changepoint_prior_scale': 0.21, 'seasonality_prior_scale': 0.011, 'holidays_prior_scale': 0.003}, {'changepoint_prior_scale': 0.21, 'seasonality_prior_scale': 0.011, 'holidays_prior_scale': 0.005}, {'changepoint_prior_scale': 0.21, 'seasonality_prior_scale': 0.011, 'holidays_prior_scale': 0.0009}, {'changepoint_prior_scale': 0.21, 'seasonality_prior_scale': 0.011, 'holidays_prior_scale': 0.001}, {'changepoint_prior_scale': 0.21, 'seasonality_prior_scale': 0.011, 'holidays_prior_scale': 0.003}, {'changepoint_prior_scale': 0.21, 'seasonality_prior_scale': 0.011, 'holidays_prior_scale': 0.005}, {'changepoint_prior_scale': 0.21, 'seasonality_prior_scale': 0.011, 'holidays_prior_scale': 0.0009}, {'changepoint_prior_scale': 0.21, 'seasonality_prior_scale': 0.011, 'holidays_prior_scale': 0.001}, {'changepoint_prior_scale': 0.21, 'seasonality_prior_scale': 0.011, 'holidays_prior_scale': 0.003}, {'changepoint_prior_scale': 0.21, 'seasonality_prior_scale': 0.011, 'holidays_prior_scale': 0.005}, {'changepoint_prior_scale': 0.21, 'seasonality_prior_scale': 0.011, 'holidays_prior_scale': 0.0009}, {'changepoint_prior_scale': 0.21, 'seasonality_prior_scale': 0.011, 'holidays_prior_scale': 0.001}, {'changepoint_prior_scale': 0.21, 'seasonality_prior_scale': 0.011, 'holidays_prior_scale': 0.003}, {'changepoint_prior_scale': 0.21, 'seasonality_prior_scale': 0.011, 'holidays_prior_scale': 0.005}]\n"
     ]
    }
   ],
   "source": [
    "print(all_params)"
   ]
  },
  {
   "cell_type": "code",
   "execution_count": 5,
   "id": "b221b7cf",
   "metadata": {},
   "outputs": [
    {
     "name": "stdout",
     "output_type": "stream",
     "text": [
      "0.0018272806064957338\n"
     ]
    }
   ],
   "source": [
    "print(tuning_results[['rmse','mse','mae']].min().min())"
   ]
  },
  {
   "cell_type": "code",
   "execution_count": 7,
   "id": "aa1c06bf",
   "metadata": {},
   "outputs": [],
   "source": [
    "combined_row_value = []\n",
    "\n",
    "for ind in tuning_results.index:\n",
    "    sum_val = tuning_results['rmse'][ind] + tuning_results['mse'][ind] + tuning_results['mae'][ind]\n",
    "    combined_row_value.append(dict(index=ind, sum_val=sum_val))"
   ]
  },
  {
   "cell_type": "code",
   "execution_count": 10,
   "id": "676d9e1d",
   "metadata": {},
   "outputs": [
    {
     "name": "stdout",
     "output_type": "stream",
     "text": [
      "[{'index': 0, 'sum_val': 0.15150974460084043}, {'index': 1, 'sum_val': 0.15150974460084043}, {'index': 2, 'sum_val': 0.15150974460084043}, {'index': 3, 'sum_val': 0.15150974460084043}, {'index': 4, 'sum_val': 0.2179672706947755}, {'index': 5, 'sum_val': 0.2179672706947755}, {'index': 6, 'sum_val': 0.2179672706947755}, {'index': 7, 'sum_val': 0.2179672706947755}, {'index': 8, 'sum_val': 0.21410682801569425}, {'index': 9, 'sum_val': 0.21410682801569425}, {'index': 10, 'sum_val': 0.21410682801569425}, {'index': 11, 'sum_val': 0.21410682801569425}, {'index': 12, 'sum_val': 0.21345217544372647}, {'index': 13, 'sum_val': 0.21345217544372647}, {'index': 14, 'sum_val': 0.21345217544372647}, {'index': 15, 'sum_val': 0.21345217544372647}, {'index': 16, 'sum_val': 0.08466199315451514}, {'index': 17, 'sum_val': 0.08466199315451514}, {'index': 18, 'sum_val': 0.08466199315451514}, {'index': 19, 'sum_val': 0.08466199315451514}, {'index': 20, 'sum_val': 0.0842907807463856}, {'index': 21, 'sum_val': 0.0842907807463856}, {'index': 22, 'sum_val': 0.0842907807463856}, {'index': 23, 'sum_val': 0.0842907807463856}, {'index': 24, 'sum_val': 0.07840032415321918}, {'index': 25, 'sum_val': 0.07840032415321918}, {'index': 26, 'sum_val': 0.07840032415321918}, {'index': 27, 'sum_val': 0.07840032415321918}, {'index': 28, 'sum_val': 0.0783632039966271}, {'index': 29, 'sum_val': 0.0783632039966271}, {'index': 30, 'sum_val': 0.0783632039966271}, {'index': 31, 'sum_val': 0.0783632039966271}, {'index': 32, 'sum_val': 0.07719092734935093}, {'index': 33, 'sum_val': 0.07719092734935093}, {'index': 34, 'sum_val': 0.07719092734935093}, {'index': 35, 'sum_val': 0.07719092734935093}, {'index': 36, 'sum_val': 0.07800443239426716}, {'index': 37, 'sum_val': 0.07800443239426716}, {'index': 38, 'sum_val': 0.07800443239426716}, {'index': 39, 'sum_val': 0.07800443239426716}, {'index': 40, 'sum_val': 0.07795387745658125}, {'index': 41, 'sum_val': 0.07795387745658125}, {'index': 42, 'sum_val': 0.07795387745658125}, {'index': 43, 'sum_val': 0.07795387745658125}, {'index': 44, 'sum_val': 0.07791160776120698}, {'index': 45, 'sum_val': 0.07791160776120698}, {'index': 46, 'sum_val': 0.07791160776120698}, {'index': 47, 'sum_val': 0.07791160776120698}, {'index': 48, 'sum_val': 0.0775507236175168}, {'index': 49, 'sum_val': 0.0775507236175168}, {'index': 50, 'sum_val': 0.0775507236175168}, {'index': 51, 'sum_val': 0.0775507236175168}, {'index': 52, 'sum_val': 0.07873648773080148}, {'index': 53, 'sum_val': 0.07873648773080148}, {'index': 54, 'sum_val': 0.07873648773080148}, {'index': 55, 'sum_val': 0.07873648773080148}, {'index': 56, 'sum_val': 0.07841019048683359}, {'index': 57, 'sum_val': 0.07841019048683359}, {'index': 58, 'sum_val': 0.07841019048683359}, {'index': 59, 'sum_val': 0.07841019048683359}, {'index': 60, 'sum_val': 0.07885171655945532}, {'index': 61, 'sum_val': 0.07885171655945532}, {'index': 62, 'sum_val': 0.07885171655945532}, {'index': 63, 'sum_val': 0.07885171655945532}]\n"
     ]
    }
   ],
   "source": [
    "print(combined_row_value)"
   ]
  },
  {
   "cell_type": "code",
   "execution_count": 9,
   "id": "a031ac53",
   "metadata": {},
   "outputs": [
    {
     "name": "stdout",
     "output_type": "stream",
     "text": [
      "{'index': 48, 'sum_val': 0.07639370336788584}\n"
     ]
    }
   ],
   "source": [
    "print(min(combined_row_value, key=lambda x:x['sum_val']))\n"
   ]
  },
  {
   "cell_type": "code",
   "execution_count": 10,
   "id": "e1cd58b9",
   "metadata": {},
   "outputs": [
    {
     "name": "stdout",
     "output_type": "stream",
     "text": [
      "changepoint_prior_scale    0.210000\n",
      "seasonality_prior_scale    0.011000\n",
      "holidays_prior_scale       0.000900\n",
      "rmse                       0.042747\n",
      "mse                        0.001827\n",
      "mae                        0.031820\n",
      "Name: 48, dtype: float64\n"
     ]
    }
   ],
   "source": [
    "print(tuning_results.loc[48])"
   ]
  },
  {
   "cell_type": "code",
   "execution_count": null,
   "id": "bf2b1a4d",
   "metadata": {},
   "outputs": [],
   "source": []
  },
  {
   "cell_type": "code",
   "execution_count": null,
   "id": "cbc5280a",
   "metadata": {},
   "outputs": [],
   "source": []
  }
 ],
 "metadata": {
  "kernelspec": {
   "display_name": "Python 3 (ipykernel)",
   "language": "python",
   "name": "python3"
  },
  "language_info": {
   "codemirror_mode": {
    "name": "ipython",
    "version": 3
   },
   "file_extension": ".py",
   "mimetype": "text/x-python",
   "name": "python",
   "nbconvert_exporter": "python",
   "pygments_lexer": "ipython3",
   "version": "3.9.12"
  }
 },
 "nbformat": 4,
 "nbformat_minor": 5
}
