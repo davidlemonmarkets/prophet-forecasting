{
 "cells": [
  {
   "cell_type": "code",
   "execution_count": null,
   "id": "2968028f",
   "metadata": {},
   "outputs": [],
   "source": [
    "from prophet import Prophet\n",
    "import itertools\n",
    "import numpy as np\n",
    "import pandas as pd\n",
    "from prophet.diagnostics import cross_validation\n",
    "from prophet.diagnostics import performance_metrics\n",
    "\n",
    "data = pd.read_csv('data.csv')\n",
    "\n",
    "\n",
    "param_grid = {  \n",
    "    'changepoint_prior_scale': [0.001, 0.01, 0.1, 0.5],\n",
    "    'seasonality_prior_scale': [0.01, 0.1, 1.0, 10.0],\n",
    "    'holidays_prior_scale': [0.01, 0.1, 1.0, 10.0],\n",
    "}\n",
    "\n",
    "# Generate all combinations of parameters\n",
    "all_params = [dict(zip(param_grid.keys(), v)) for v in itertools.product(*param_grid.values())]\n",
    "rmses = []  # Store the RMSEs for each params here\n",
    "mse = []\n",
    "mae = []\n",
    "\n",
    "# Use cross validation to evaluate all parameters\n",
    "for params in all_params:\n",
    "    m = Prophet(**params, interval_width=0.9, daily_seasonality=True).fit(data)  # Fit model with given params\n",
    "    df_cv = cross_validation(m, initial='100 days', period='60 days', horizon = '30 days')\n",
    "    df_p = performance_metrics(df_cv, rolling_window=1)\n",
    "    rmses.append(df_p['rmse'].values[0])\n",
    "    mse.append(df_p[\"mse\"].values[0])\n",
    "    mae.append(df_p[\"mae\"].values[0])\n",
    "\n",
    "# Find the best parameters\n",
    "tuning_results = pd.DataFrame(all_params)\n",
    "tuning_results['rmse'] = rmses\n",
    "tuning_results['mse'] = mse\n",
    "tuning_results['mae'] = mae\n",
    "print(tuning_results)\n",
    "\n"
   ]
  },
  {
   "cell_type": "code",
   "execution_count": null,
   "id": "8d68eb81",
   "metadata": {},
   "outputs": [],
   "source": [
    "best_params = all_params[np.argmin(rmses)]\n",
    "print(best_params)"
   ]
  },
  {
   "cell_type": "code",
   "execution_count": null,
   "id": "d233438b",
   "metadata": {},
   "outputs": [],
   "source": [
    "print(tuning_results)\n",
    "#['rmse'].min()\n"
   ]
  },
  {
   "cell_type": "code",
   "execution_count": null,
   "id": "80a34dd6",
   "metadata": {},
   "outputs": [],
   "source": [
    "print(all_params)"
   ]
  },
  {
   "cell_type": "code",
   "execution_count": null,
   "id": "b221b7cf",
   "metadata": {},
   "outputs": [],
   "source": [
    "print(tuning_results[['rmse','mse','mae']].min().min())"
   ]
  },
  {
   "cell_type": "code",
   "execution_count": null,
   "id": "aa1c06bf",
   "metadata": {},
   "outputs": [],
   "source": [
    "combined_row_value = []\n",
    "\n",
    "for ind in tuning_results.index:\n",
    "    sum_val = tuning_results['rmse'][ind] + tuning_results['mse'][ind] + tuning_results['mae'][ind]\n",
    "    combined_row_value.append(dict(index=ind, sum_val=sum_val))"
   ]
  },
  {
   "cell_type": "code",
   "execution_count": null,
   "id": "676d9e1d",
   "metadata": {},
   "outputs": [],
   "source": [
    "print(combined_row_value)"
   ]
  },
  {
   "cell_type": "code",
   "execution_count": null,
   "id": "a031ac53",
   "metadata": {},
   "outputs": [],
   "source": [
    "print(min(combined_row_value, key=lambda x:x['sum_val']))\n"
   ]
  },
  {
   "cell_type": "code",
   "execution_count": null,
   "id": "e1cd58b9",
   "metadata": {},
   "outputs": [],
   "source": [
    "print(tuning_results.loc[32])"
   ]
  },
  {
   "cell_type": "code",
   "execution_count": null,
   "id": "bf2b1a4d",
   "metadata": {},
   "outputs": [],
   "source": []
  },
  {
   "cell_type": "code",
   "execution_count": null,
   "id": "cbc5280a",
   "metadata": {},
   "outputs": [],
   "source": []
  }
 ],
 "metadata": {
  "kernelspec": {
   "display_name": "Python 3 (ipykernel)",
   "language": "python",
   "name": "python3"
  },
  "language_info": {
   "codemirror_mode": {
    "name": "ipython",
    "version": 3
   },
   "file_extension": ".py",
   "mimetype": "text/x-python",
   "name": "python",
   "nbconvert_exporter": "python",
   "pygments_lexer": "ipython3",
   "version": "3.9.12"
  }
 },
 "nbformat": 4,
 "nbformat_minor": 5
}
