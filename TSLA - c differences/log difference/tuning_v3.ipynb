{
 "cells": [
  {
   "cell_type": "code",
   "execution_count": 1,
   "id": "2968028f",
   "metadata": {},
   "outputs": [
    {
     "name": "stderr",
     "output_type": "stream",
     "text": [
      "10:33:19 - cmdstanpy - INFO - Chain [1] start processing\n",
      "10:33:19 - cmdstanpy - INFO - Chain [1] done processing\n"
     ]
    },
    {
     "data": {
      "application/vnd.jupyter.widget-view+json": {
       "model_id": "ae5c2ac136a34f44972f477e1b1d5d9a",
       "version_major": 2,
       "version_minor": 0
      },
      "text/plain": [
       "  0%|          | 0/4 [00:00<?, ?it/s]"
      ]
     },
     "metadata": {},
     "output_type": "display_data"
    },
    {
     "name": "stderr",
     "output_type": "stream",
     "text": [
      "10:33:19 - cmdstanpy - INFO - Chain [1] start processing\n",
      "10:33:20 - cmdstanpy - INFO - Chain [1] done processing\n",
      "10:33:20 - cmdstanpy - INFO - Chain [1] start processing\n",
      "10:33:20 - cmdstanpy - INFO - Chain [1] done processing\n",
      "10:33:21 - cmdstanpy - INFO - Chain [1] start processing\n",
      "10:33:21 - cmdstanpy - INFO - Chain [1] done processing\n",
      "10:33:22 - cmdstanpy - INFO - Chain [1] start processing\n",
      "10:33:22 - cmdstanpy - INFO - Chain [1] done processing\n",
      "10:33:22 - cmdstanpy - INFO - Chain [1] start processing\n",
      "10:33:22 - cmdstanpy - INFO - Chain [1] done processing\n"
     ]
    },
    {
     "data": {
      "application/vnd.jupyter.widget-view+json": {
       "model_id": "c38514224d114a65870eabc3933f5f9f",
       "version_major": 2,
       "version_minor": 0
      },
      "text/plain": [
       "  0%|          | 0/4 [00:00<?, ?it/s]"
      ]
     },
     "metadata": {},
     "output_type": "display_data"
    },
    {
     "name": "stderr",
     "output_type": "stream",
     "text": [
      "10:33:22 - cmdstanpy - INFO - Chain [1] start processing\n",
      "10:33:22 - cmdstanpy - INFO - Chain [1] done processing\n",
      "10:33:23 - cmdstanpy - INFO - Chain [1] start processing\n",
      "10:33:23 - cmdstanpy - INFO - Chain [1] done processing\n",
      "10:33:24 - cmdstanpy - INFO - Chain [1] start processing\n",
      "10:33:24 - cmdstanpy - INFO - Chain [1] done processing\n",
      "10:33:24 - cmdstanpy - INFO - Chain [1] start processing\n",
      "10:33:24 - cmdstanpy - INFO - Chain [1] done processing\n",
      "10:33:25 - cmdstanpy - INFO - Chain [1] start processing\n",
      "10:33:25 - cmdstanpy - INFO - Chain [1] done processing\n"
     ]
    },
    {
     "data": {
      "application/vnd.jupyter.widget-view+json": {
       "model_id": "ed5f9b7a5a2148658e707a3a1a7cb6ea",
       "version_major": 2,
       "version_minor": 0
      },
      "text/plain": [
       "  0%|          | 0/4 [00:00<?, ?it/s]"
      ]
     },
     "metadata": {},
     "output_type": "display_data"
    },
    {
     "name": "stderr",
     "output_type": "stream",
     "text": [
      "10:33:25 - cmdstanpy - INFO - Chain [1] start processing\n",
      "10:33:25 - cmdstanpy - INFO - Chain [1] done processing\n",
      "10:33:26 - cmdstanpy - INFO - Chain [1] start processing\n",
      "10:33:26 - cmdstanpy - INFO - Chain [1] done processing\n",
      "10:33:27 - cmdstanpy - INFO - Chain [1] start processing\n",
      "10:33:27 - cmdstanpy - INFO - Chain [1] done processing\n",
      "10:33:27 - cmdstanpy - INFO - Chain [1] start processing\n",
      "10:33:27 - cmdstanpy - INFO - Chain [1] done processing\n",
      "10:33:28 - cmdstanpy - INFO - Chain [1] start processing\n",
      "10:33:28 - cmdstanpy - INFO - Chain [1] done processing\n"
     ]
    },
    {
     "data": {
      "application/vnd.jupyter.widget-view+json": {
       "model_id": "29bd39fb12b14a479b764da4f630e905",
       "version_major": 2,
       "version_minor": 0
      },
      "text/plain": [
       "  0%|          | 0/4 [00:00<?, ?it/s]"
      ]
     },
     "metadata": {},
     "output_type": "display_data"
    },
    {
     "name": "stderr",
     "output_type": "stream",
     "text": [
      "10:33:28 - cmdstanpy - INFO - Chain [1] start processing\n",
      "10:33:28 - cmdstanpy - INFO - Chain [1] done processing\n",
      "10:33:29 - cmdstanpy - INFO - Chain [1] start processing\n",
      "10:33:29 - cmdstanpy - INFO - Chain [1] done processing\n",
      "10:33:29 - cmdstanpy - INFO - Chain [1] start processing\n",
      "10:33:29 - cmdstanpy - INFO - Chain [1] done processing\n",
      "10:33:30 - cmdstanpy - INFO - Chain [1] start processing\n",
      "10:33:30 - cmdstanpy - INFO - Chain [1] done processing\n",
      "10:33:31 - cmdstanpy - INFO - Chain [1] start processing\n",
      "10:33:31 - cmdstanpy - INFO - Chain [1] done processing\n"
     ]
    },
    {
     "data": {
      "application/vnd.jupyter.widget-view+json": {
       "model_id": "4f41ad701eab4969991d76e450350984",
       "version_major": 2,
       "version_minor": 0
      },
      "text/plain": [
       "  0%|          | 0/4 [00:00<?, ?it/s]"
      ]
     },
     "metadata": {},
     "output_type": "display_data"
    },
    {
     "name": "stderr",
     "output_type": "stream",
     "text": [
      "10:33:31 - cmdstanpy - INFO - Chain [1] start processing\n",
      "10:33:31 - cmdstanpy - INFO - Chain [1] done processing\n",
      "10:33:32 - cmdstanpy - INFO - Chain [1] start processing\n",
      "10:33:32 - cmdstanpy - INFO - Chain [1] done processing\n",
      "10:33:32 - cmdstanpy - INFO - Chain [1] start processing\n",
      "10:33:32 - cmdstanpy - INFO - Chain [1] done processing\n",
      "10:33:33 - cmdstanpy - INFO - Chain [1] start processing\n",
      "10:33:33 - cmdstanpy - INFO - Chain [1] done processing\n",
      "10:33:34 - cmdstanpy - INFO - Chain [1] start processing\n",
      "10:33:34 - cmdstanpy - INFO - Chain [1] done processing\n"
     ]
    },
    {
     "data": {
      "application/vnd.jupyter.widget-view+json": {
       "model_id": "34462f6d86564addae317195cf95617b",
       "version_major": 2,
       "version_minor": 0
      },
      "text/plain": [
       "  0%|          | 0/4 [00:00<?, ?it/s]"
      ]
     },
     "metadata": {},
     "output_type": "display_data"
    },
    {
     "name": "stderr",
     "output_type": "stream",
     "text": [
      "10:33:34 - cmdstanpy - INFO - Chain [1] start processing\n",
      "10:33:34 - cmdstanpy - INFO - Chain [1] done processing\n",
      "10:33:35 - cmdstanpy - INFO - Chain [1] start processing\n",
      "10:33:35 - cmdstanpy - INFO - Chain [1] done processing\n",
      "10:33:35 - cmdstanpy - INFO - Chain [1] start processing\n",
      "10:33:35 - cmdstanpy - INFO - Chain [1] done processing\n",
      "10:33:36 - cmdstanpy - INFO - Chain [1] start processing\n",
      "10:33:36 - cmdstanpy - INFO - Chain [1] done processing\n",
      "10:33:36 - cmdstanpy - INFO - Chain [1] start processing\n",
      "10:33:37 - cmdstanpy - INFO - Chain [1] done processing\n"
     ]
    },
    {
     "data": {
      "application/vnd.jupyter.widget-view+json": {
       "model_id": "a840e2ab9ee34c3594ec53fc789daa74",
       "version_major": 2,
       "version_minor": 0
      },
      "text/plain": [
       "  0%|          | 0/4 [00:00<?, ?it/s]"
      ]
     },
     "metadata": {},
     "output_type": "display_data"
    },
    {
     "name": "stderr",
     "output_type": "stream",
     "text": [
      "10:33:37 - cmdstanpy - INFO - Chain [1] start processing\n",
      "10:33:37 - cmdstanpy - INFO - Chain [1] done processing\n",
      "10:33:37 - cmdstanpy - INFO - Chain [1] start processing\n",
      "10:33:37 - cmdstanpy - INFO - Chain [1] done processing\n",
      "10:33:38 - cmdstanpy - INFO - Chain [1] start processing\n",
      "10:33:38 - cmdstanpy - INFO - Chain [1] done processing\n",
      "10:33:39 - cmdstanpy - INFO - Chain [1] start processing\n",
      "10:33:39 - cmdstanpy - INFO - Chain [1] done processing\n",
      "10:33:39 - cmdstanpy - INFO - Chain [1] start processing\n",
      "10:33:39 - cmdstanpy - INFO - Chain [1] done processing\n"
     ]
    },
    {
     "data": {
      "application/vnd.jupyter.widget-view+json": {
       "model_id": "58ca6a3e76e04394a29863cee82b323e",
       "version_major": 2,
       "version_minor": 0
      },
      "text/plain": [
       "  0%|          | 0/4 [00:00<?, ?it/s]"
      ]
     },
     "metadata": {},
     "output_type": "display_data"
    },
    {
     "name": "stderr",
     "output_type": "stream",
     "text": [
      "10:33:39 - cmdstanpy - INFO - Chain [1] start processing\n",
      "10:33:40 - cmdstanpy - INFO - Chain [1] done processing\n",
      "10:33:40 - cmdstanpy - INFO - Chain [1] start processing\n",
      "10:33:40 - cmdstanpy - INFO - Chain [1] done processing\n",
      "10:33:41 - cmdstanpy - INFO - Chain [1] start processing\n",
      "10:33:41 - cmdstanpy - INFO - Chain [1] done processing\n",
      "10:33:41 - cmdstanpy - INFO - Chain [1] start processing\n",
      "10:33:42 - cmdstanpy - INFO - Chain [1] done processing\n",
      "10:33:42 - cmdstanpy - INFO - Chain [1] start processing\n",
      "10:33:42 - cmdstanpy - INFO - Chain [1] done processing\n"
     ]
    },
    {
     "data": {
      "application/vnd.jupyter.widget-view+json": {
       "model_id": "268eadc3fa2a4e1291104005b4275e21",
       "version_major": 2,
       "version_minor": 0
      },
      "text/plain": [
       "  0%|          | 0/4 [00:00<?, ?it/s]"
      ]
     },
     "metadata": {},
     "output_type": "display_data"
    },
    {
     "name": "stderr",
     "output_type": "stream",
     "text": [
      "10:33:42 - cmdstanpy - INFO - Chain [1] start processing\n",
      "10:33:42 - cmdstanpy - INFO - Chain [1] done processing\n",
      "10:33:43 - cmdstanpy - INFO - Chain [1] start processing\n",
      "10:33:43 - cmdstanpy - INFO - Chain [1] done processing\n",
      "10:33:44 - cmdstanpy - INFO - Chain [1] start processing\n",
      "10:33:44 - cmdstanpy - INFO - Chain [1] done processing\n",
      "10:33:44 - cmdstanpy - INFO - Chain [1] start processing\n",
      "10:33:44 - cmdstanpy - INFO - Chain [1] done processing\n",
      "10:33:45 - cmdstanpy - INFO - Chain [1] start processing\n",
      "10:33:45 - cmdstanpy - INFO - Chain [1] done processing\n"
     ]
    },
    {
     "data": {
      "application/vnd.jupyter.widget-view+json": {
       "model_id": "2c80fb49b72a47d68468e9f874b951a3",
       "version_major": 2,
       "version_minor": 0
      },
      "text/plain": [
       "  0%|          | 0/4 [00:00<?, ?it/s]"
      ]
     },
     "metadata": {},
     "output_type": "display_data"
    },
    {
     "name": "stderr",
     "output_type": "stream",
     "text": [
      "10:33:45 - cmdstanpy - INFO - Chain [1] start processing\n",
      "10:33:45 - cmdstanpy - INFO - Chain [1] done processing\n",
      "10:33:46 - cmdstanpy - INFO - Chain [1] start processing\n",
      "10:33:46 - cmdstanpy - INFO - Chain [1] done processing\n",
      "10:33:47 - cmdstanpy - INFO - Chain [1] start processing\n",
      "10:33:47 - cmdstanpy - INFO - Chain [1] done processing\n",
      "10:33:47 - cmdstanpy - INFO - Chain [1] start processing\n",
      "10:33:47 - cmdstanpy - INFO - Chain [1] done processing\n",
      "10:33:48 - cmdstanpy - INFO - Chain [1] start processing\n",
      "10:33:48 - cmdstanpy - INFO - Chain [1] done processing\n"
     ]
    },
    {
     "data": {
      "application/vnd.jupyter.widget-view+json": {
       "model_id": "9c3935836c1e48aeb08aba8e5d4ce88a",
       "version_major": 2,
       "version_minor": 0
      },
      "text/plain": [
       "  0%|          | 0/4 [00:00<?, ?it/s]"
      ]
     },
     "metadata": {},
     "output_type": "display_data"
    },
    {
     "name": "stderr",
     "output_type": "stream",
     "text": [
      "10:33:48 - cmdstanpy - INFO - Chain [1] start processing\n",
      "10:33:48 - cmdstanpy - INFO - Chain [1] done processing\n",
      "10:33:49 - cmdstanpy - INFO - Chain [1] start processing\n",
      "10:33:49 - cmdstanpy - INFO - Chain [1] done processing\n",
      "10:33:49 - cmdstanpy - INFO - Chain [1] start processing\n",
      "10:33:49 - cmdstanpy - INFO - Chain [1] done processing\n",
      "10:33:50 - cmdstanpy - INFO - Chain [1] start processing\n",
      "10:33:50 - cmdstanpy - INFO - Chain [1] done processing\n",
      "10:33:51 - cmdstanpy - INFO - Chain [1] start processing\n",
      "10:33:51 - cmdstanpy - INFO - Chain [1] done processing\n"
     ]
    },
    {
     "data": {
      "application/vnd.jupyter.widget-view+json": {
       "model_id": "49aa3bc597e941a5bda42691ebf42b7d",
       "version_major": 2,
       "version_minor": 0
      },
      "text/plain": [
       "  0%|          | 0/4 [00:00<?, ?it/s]"
      ]
     },
     "metadata": {},
     "output_type": "display_data"
    },
    {
     "name": "stderr",
     "output_type": "stream",
     "text": [
      "10:33:51 - cmdstanpy - INFO - Chain [1] start processing\n",
      "10:33:51 - cmdstanpy - INFO - Chain [1] done processing\n",
      "10:33:52 - cmdstanpy - INFO - Chain [1] start processing\n",
      "10:33:52 - cmdstanpy - INFO - Chain [1] done processing\n",
      "10:33:52 - cmdstanpy - INFO - Chain [1] start processing\n",
      "10:33:52 - cmdstanpy - INFO - Chain [1] done processing\n",
      "10:33:53 - cmdstanpy - INFO - Chain [1] start processing\n",
      "10:33:53 - cmdstanpy - INFO - Chain [1] done processing\n",
      "10:33:54 - cmdstanpy - INFO - Chain [1] start processing\n",
      "10:33:54 - cmdstanpy - INFO - Chain [1] done processing\n"
     ]
    },
    {
     "data": {
      "application/vnd.jupyter.widget-view+json": {
       "model_id": "049ebe09ed2e47188b233cb3a2cfb556",
       "version_major": 2,
       "version_minor": 0
      },
      "text/plain": [
       "  0%|          | 0/4 [00:00<?, ?it/s]"
      ]
     },
     "metadata": {},
     "output_type": "display_data"
    },
    {
     "name": "stderr",
     "output_type": "stream",
     "text": [
      "10:33:54 - cmdstanpy - INFO - Chain [1] start processing\n",
      "10:33:54 - cmdstanpy - INFO - Chain [1] done processing\n",
      "10:33:54 - cmdstanpy - INFO - Chain [1] start processing\n",
      "10:33:54 - cmdstanpy - INFO - Chain [1] done processing\n",
      "10:33:55 - cmdstanpy - INFO - Chain [1] start processing\n",
      "10:33:55 - cmdstanpy - INFO - Chain [1] done processing\n",
      "10:33:56 - cmdstanpy - INFO - Chain [1] start processing\n",
      "10:33:56 - cmdstanpy - INFO - Chain [1] done processing\n",
      "10:33:56 - cmdstanpy - INFO - Chain [1] start processing\n",
      "10:33:57 - cmdstanpy - INFO - Chain [1] done processing\n"
     ]
    },
    {
     "data": {
      "application/vnd.jupyter.widget-view+json": {
       "model_id": "81f3d573cc374fed873adb1a4f92c4a4",
       "version_major": 2,
       "version_minor": 0
      },
      "text/plain": [
       "  0%|          | 0/4 [00:00<?, ?it/s]"
      ]
     },
     "metadata": {},
     "output_type": "display_data"
    },
    {
     "name": "stderr",
     "output_type": "stream",
     "text": [
      "10:33:57 - cmdstanpy - INFO - Chain [1] start processing\n",
      "10:33:57 - cmdstanpy - INFO - Chain [1] done processing\n",
      "10:33:57 - cmdstanpy - INFO - Chain [1] start processing\n",
      "10:33:57 - cmdstanpy - INFO - Chain [1] done processing\n",
      "10:33:58 - cmdstanpy - INFO - Chain [1] start processing\n",
      "10:33:58 - cmdstanpy - INFO - Chain [1] done processing\n",
      "10:33:59 - cmdstanpy - INFO - Chain [1] start processing\n",
      "10:33:59 - cmdstanpy - INFO - Chain [1] done processing\n",
      "10:33:59 - cmdstanpy - INFO - Chain [1] start processing\n",
      "10:33:59 - cmdstanpy - INFO - Chain [1] done processing\n"
     ]
    },
    {
     "data": {
      "application/vnd.jupyter.widget-view+json": {
       "model_id": "4d38407f42904239a99aad895bfa7ac7",
       "version_major": 2,
       "version_minor": 0
      },
      "text/plain": [
       "  0%|          | 0/4 [00:00<?, ?it/s]"
      ]
     },
     "metadata": {},
     "output_type": "display_data"
    },
    {
     "name": "stderr",
     "output_type": "stream",
     "text": [
      "10:33:59 - cmdstanpy - INFO - Chain [1] start processing\n",
      "10:34:00 - cmdstanpy - INFO - Chain [1] done processing\n",
      "10:34:00 - cmdstanpy - INFO - Chain [1] start processing\n",
      "10:34:00 - cmdstanpy - INFO - Chain [1] done processing\n",
      "10:34:01 - cmdstanpy - INFO - Chain [1] start processing\n",
      "10:34:01 - cmdstanpy - INFO - Chain [1] done processing\n",
      "10:34:02 - cmdstanpy - INFO - Chain [1] start processing\n",
      "10:34:02 - cmdstanpy - INFO - Chain [1] done processing\n",
      "10:34:02 - cmdstanpy - INFO - Chain [1] start processing\n",
      "10:34:02 - cmdstanpy - INFO - Chain [1] done processing\n"
     ]
    },
    {
     "data": {
      "application/vnd.jupyter.widget-view+json": {
       "model_id": "f9ce9822950b4013aab2376b28bf4ef6",
       "version_major": 2,
       "version_minor": 0
      },
      "text/plain": [
       "  0%|          | 0/4 [00:00<?, ?it/s]"
      ]
     },
     "metadata": {},
     "output_type": "display_data"
    },
    {
     "name": "stderr",
     "output_type": "stream",
     "text": [
      "10:34:02 - cmdstanpy - INFO - Chain [1] start processing\n",
      "10:34:03 - cmdstanpy - INFO - Chain [1] done processing\n",
      "10:34:03 - cmdstanpy - INFO - Chain [1] start processing\n",
      "10:34:03 - cmdstanpy - INFO - Chain [1] done processing\n",
      "10:34:04 - cmdstanpy - INFO - Chain [1] start processing\n",
      "10:34:04 - cmdstanpy - INFO - Chain [1] done processing\n",
      "10:34:04 - cmdstanpy - INFO - Chain [1] start processing\n",
      "10:34:04 - cmdstanpy - INFO - Chain [1] done processing\n",
      "10:34:05 - cmdstanpy - INFO - Chain [1] start processing\n",
      "10:34:05 - cmdstanpy - INFO - Chain [1] done processing\n"
     ]
    },
    {
     "data": {
      "application/vnd.jupyter.widget-view+json": {
       "model_id": "83b823535c514b8eb1ce9c96fb24c7f3",
       "version_major": 2,
       "version_minor": 0
      },
      "text/plain": [
       "  0%|          | 0/4 [00:00<?, ?it/s]"
      ]
     },
     "metadata": {},
     "output_type": "display_data"
    },
    {
     "name": "stderr",
     "output_type": "stream",
     "text": [
      "10:34:05 - cmdstanpy - INFO - Chain [1] start processing\n",
      "10:34:05 - cmdstanpy - INFO - Chain [1] done processing\n",
      "10:34:06 - cmdstanpy - INFO - Chain [1] start processing\n",
      "10:34:06 - cmdstanpy - INFO - Chain [1] done processing\n",
      "10:34:07 - cmdstanpy - INFO - Chain [1] start processing\n",
      "10:34:07 - cmdstanpy - INFO - Chain [1] done processing\n",
      "10:34:07 - cmdstanpy - INFO - Chain [1] start processing\n",
      "10:34:07 - cmdstanpy - INFO - Chain [1] done processing\n",
      "10:34:08 - cmdstanpy - INFO - Chain [1] start processing\n",
      "10:34:08 - cmdstanpy - INFO - Chain [1] done processing\n"
     ]
    },
    {
     "data": {
      "application/vnd.jupyter.widget-view+json": {
       "model_id": "b5395d9a91784b85b3859d02e4031573",
       "version_major": 2,
       "version_minor": 0
      },
      "text/plain": [
       "  0%|          | 0/4 [00:00<?, ?it/s]"
      ]
     },
     "metadata": {},
     "output_type": "display_data"
    },
    {
     "name": "stderr",
     "output_type": "stream",
     "text": [
      "10:34:08 - cmdstanpy - INFO - Chain [1] start processing\n",
      "10:34:08 - cmdstanpy - INFO - Chain [1] done processing\n",
      "10:34:09 - cmdstanpy - INFO - Chain [1] start processing\n",
      "10:34:09 - cmdstanpy - INFO - Chain [1] done processing\n",
      "10:34:10 - cmdstanpy - INFO - Chain [1] start processing\n",
      "10:34:10 - cmdstanpy - INFO - Chain [1] done processing\n",
      "10:34:10 - cmdstanpy - INFO - Chain [1] start processing\n",
      "10:34:10 - cmdstanpy - INFO - Chain [1] done processing\n",
      "10:34:11 - cmdstanpy - INFO - Chain [1] start processing\n",
      "10:34:11 - cmdstanpy - INFO - Chain [1] done processing\n"
     ]
    },
    {
     "data": {
      "application/vnd.jupyter.widget-view+json": {
       "model_id": "bb5186ea2bbe4dd0ac53a2c93dcc9b61",
       "version_major": 2,
       "version_minor": 0
      },
      "text/plain": [
       "  0%|          | 0/4 [00:00<?, ?it/s]"
      ]
     },
     "metadata": {},
     "output_type": "display_data"
    },
    {
     "name": "stderr",
     "output_type": "stream",
     "text": [
      "10:34:11 - cmdstanpy - INFO - Chain [1] start processing\n",
      "10:34:11 - cmdstanpy - INFO - Chain [1] done processing\n",
      "10:34:12 - cmdstanpy - INFO - Chain [1] start processing\n",
      "10:34:12 - cmdstanpy - INFO - Chain [1] done processing\n",
      "10:34:13 - cmdstanpy - INFO - Chain [1] start processing\n",
      "10:34:13 - cmdstanpy - INFO - Chain [1] done processing\n",
      "10:34:13 - cmdstanpy - INFO - Chain [1] start processing\n",
      "10:34:13 - cmdstanpy - INFO - Chain [1] done processing\n",
      "10:34:14 - cmdstanpy - INFO - Chain [1] start processing\n",
      "10:34:14 - cmdstanpy - INFO - Chain [1] done processing\n"
     ]
    },
    {
     "data": {
      "application/vnd.jupyter.widget-view+json": {
       "model_id": "c867e42f1c7f4ceeb64bab2a8dcb7434",
       "version_major": 2,
       "version_minor": 0
      },
      "text/plain": [
       "  0%|          | 0/4 [00:00<?, ?it/s]"
      ]
     },
     "metadata": {},
     "output_type": "display_data"
    },
    {
     "name": "stderr",
     "output_type": "stream",
     "text": [
      "10:34:14 - cmdstanpy - INFO - Chain [1] start processing\n",
      "10:34:14 - cmdstanpy - INFO - Chain [1] done processing\n",
      "10:34:15 - cmdstanpy - INFO - Chain [1] start processing\n",
      "10:34:15 - cmdstanpy - INFO - Chain [1] done processing\n",
      "10:34:15 - cmdstanpy - INFO - Chain [1] start processing\n",
      "10:34:15 - cmdstanpy - INFO - Chain [1] done processing\n",
      "10:34:16 - cmdstanpy - INFO - Chain [1] start processing\n",
      "10:34:16 - cmdstanpy - INFO - Chain [1] done processing\n",
      "10:34:17 - cmdstanpy - INFO - Chain [1] start processing\n",
      "10:34:17 - cmdstanpy - INFO - Chain [1] done processing\n"
     ]
    },
    {
     "data": {
      "application/vnd.jupyter.widget-view+json": {
       "model_id": "4ab8387394a54aa3875c08ced55517d3",
       "version_major": 2,
       "version_minor": 0
      },
      "text/plain": [
       "  0%|          | 0/4 [00:00<?, ?it/s]"
      ]
     },
     "metadata": {},
     "output_type": "display_data"
    },
    {
     "name": "stderr",
     "output_type": "stream",
     "text": [
      "10:34:17 - cmdstanpy - INFO - Chain [1] start processing\n",
      "10:34:17 - cmdstanpy - INFO - Chain [1] done processing\n",
      "10:34:18 - cmdstanpy - INFO - Chain [1] start processing\n",
      "10:34:18 - cmdstanpy - INFO - Chain [1] done processing\n",
      "10:34:18 - cmdstanpy - INFO - Chain [1] start processing\n",
      "10:34:18 - cmdstanpy - INFO - Chain [1] done processing\n",
      "10:34:19 - cmdstanpy - INFO - Chain [1] start processing\n",
      "10:34:19 - cmdstanpy - INFO - Chain [1] done processing\n",
      "10:34:20 - cmdstanpy - INFO - Chain [1] start processing\n",
      "10:34:20 - cmdstanpy - INFO - Chain [1] done processing\n"
     ]
    },
    {
     "data": {
      "application/vnd.jupyter.widget-view+json": {
       "model_id": "f9816f20bcd243708eb8864a736f6162",
       "version_major": 2,
       "version_minor": 0
      },
      "text/plain": [
       "  0%|          | 0/4 [00:00<?, ?it/s]"
      ]
     },
     "metadata": {},
     "output_type": "display_data"
    },
    {
     "name": "stderr",
     "output_type": "stream",
     "text": [
      "10:34:20 - cmdstanpy - INFO - Chain [1] start processing\n",
      "10:34:20 - cmdstanpy - INFO - Chain [1] done processing\n",
      "10:34:21 - cmdstanpy - INFO - Chain [1] start processing\n",
      "10:34:21 - cmdstanpy - INFO - Chain [1] done processing\n",
      "10:34:21 - cmdstanpy - INFO - Chain [1] start processing\n",
      "10:34:21 - cmdstanpy - INFO - Chain [1] done processing\n",
      "10:34:22 - cmdstanpy - INFO - Chain [1] start processing\n",
      "10:34:22 - cmdstanpy - INFO - Chain [1] done processing\n",
      "10:34:23 - cmdstanpy - INFO - Chain [1] start processing\n",
      "10:34:23 - cmdstanpy - INFO - Chain [1] done processing\n"
     ]
    },
    {
     "data": {
      "application/vnd.jupyter.widget-view+json": {
       "model_id": "5c3c6172392f41e9a22a5f575a94133d",
       "version_major": 2,
       "version_minor": 0
      },
      "text/plain": [
       "  0%|          | 0/4 [00:00<?, ?it/s]"
      ]
     },
     "metadata": {},
     "output_type": "display_data"
    },
    {
     "name": "stderr",
     "output_type": "stream",
     "text": [
      "10:34:23 - cmdstanpy - INFO - Chain [1] start processing\n",
      "10:34:23 - cmdstanpy - INFO - Chain [1] done processing\n",
      "10:34:23 - cmdstanpy - INFO - Chain [1] start processing\n",
      "10:34:23 - cmdstanpy - INFO - Chain [1] done processing\n",
      "10:34:24 - cmdstanpy - INFO - Chain [1] start processing\n",
      "10:34:24 - cmdstanpy - INFO - Chain [1] done processing\n",
      "10:34:25 - cmdstanpy - INFO - Chain [1] start processing\n",
      "10:34:25 - cmdstanpy - INFO - Chain [1] done processing\n",
      "10:34:25 - cmdstanpy - INFO - Chain [1] start processing\n",
      "10:34:25 - cmdstanpy - INFO - Chain [1] done processing\n"
     ]
    },
    {
     "data": {
      "application/vnd.jupyter.widget-view+json": {
       "model_id": "e9eb904e65a449a181dfe55e68f8fb01",
       "version_major": 2,
       "version_minor": 0
      },
      "text/plain": [
       "  0%|          | 0/4 [00:00<?, ?it/s]"
      ]
     },
     "metadata": {},
     "output_type": "display_data"
    },
    {
     "name": "stderr",
     "output_type": "stream",
     "text": [
      "10:34:26 - cmdstanpy - INFO - Chain [1] start processing\n",
      "10:34:26 - cmdstanpy - INFO - Chain [1] done processing\n",
      "10:34:26 - cmdstanpy - INFO - Chain [1] start processing\n",
      "10:34:26 - cmdstanpy - INFO - Chain [1] done processing\n",
      "10:34:27 - cmdstanpy - INFO - Chain [1] start processing\n",
      "10:34:27 - cmdstanpy - INFO - Chain [1] done processing\n",
      "10:34:28 - cmdstanpy - INFO - Chain [1] start processing\n",
      "10:34:28 - cmdstanpy - INFO - Chain [1] done processing\n",
      "10:34:28 - cmdstanpy - INFO - Chain [1] start processing\n",
      "10:34:28 - cmdstanpy - INFO - Chain [1] done processing\n"
     ]
    },
    {
     "data": {
      "application/vnd.jupyter.widget-view+json": {
       "model_id": "737be02b7c94488991dcf15afaa7d373",
       "version_major": 2,
       "version_minor": 0
      },
      "text/plain": [
       "  0%|          | 0/4 [00:00<?, ?it/s]"
      ]
     },
     "metadata": {},
     "output_type": "display_data"
    },
    {
     "name": "stderr",
     "output_type": "stream",
     "text": [
      "10:34:28 - cmdstanpy - INFO - Chain [1] start processing\n",
      "10:34:29 - cmdstanpy - INFO - Chain [1] done processing\n",
      "10:34:29 - cmdstanpy - INFO - Chain [1] start processing\n",
      "10:34:29 - cmdstanpy - INFO - Chain [1] done processing\n",
      "10:34:30 - cmdstanpy - INFO - Chain [1] start processing\n",
      "10:34:30 - cmdstanpy - INFO - Chain [1] done processing\n",
      "10:34:31 - cmdstanpy - INFO - Chain [1] start processing\n",
      "10:34:31 - cmdstanpy - INFO - Chain [1] done processing\n",
      "10:34:31 - cmdstanpy - INFO - Chain [1] start processing\n",
      "10:34:31 - cmdstanpy - INFO - Chain [1] done processing\n"
     ]
    },
    {
     "data": {
      "application/vnd.jupyter.widget-view+json": {
       "model_id": "42667c166879456ba8469a3c261058d0",
       "version_major": 2,
       "version_minor": 0
      },
      "text/plain": [
       "  0%|          | 0/4 [00:00<?, ?it/s]"
      ]
     },
     "metadata": {},
     "output_type": "display_data"
    },
    {
     "name": "stderr",
     "output_type": "stream",
     "text": [
      "10:34:31 - cmdstanpy - INFO - Chain [1] start processing\n",
      "10:34:32 - cmdstanpy - INFO - Chain [1] done processing\n",
      "10:34:32 - cmdstanpy - INFO - Chain [1] start processing\n",
      "10:34:32 - cmdstanpy - INFO - Chain [1] done processing\n",
      "10:34:33 - cmdstanpy - INFO - Chain [1] start processing\n",
      "10:34:33 - cmdstanpy - INFO - Chain [1] done processing\n",
      "10:34:33 - cmdstanpy - INFO - Chain [1] start processing\n",
      "10:34:34 - cmdstanpy - INFO - Chain [1] done processing\n",
      "10:34:34 - cmdstanpy - INFO - Chain [1] start processing\n",
      "10:34:34 - cmdstanpy - INFO - Chain [1] done processing\n"
     ]
    },
    {
     "data": {
      "application/vnd.jupyter.widget-view+json": {
       "model_id": "c20217b365dd4e6a88568b6295630f8b",
       "version_major": 2,
       "version_minor": 0
      },
      "text/plain": [
       "  0%|          | 0/4 [00:00<?, ?it/s]"
      ]
     },
     "metadata": {},
     "output_type": "display_data"
    },
    {
     "name": "stderr",
     "output_type": "stream",
     "text": [
      "10:34:34 - cmdstanpy - INFO - Chain [1] start processing\n",
      "10:34:34 - cmdstanpy - INFO - Chain [1] done processing\n",
      "10:34:35 - cmdstanpy - INFO - Chain [1] start processing\n",
      "10:34:35 - cmdstanpy - INFO - Chain [1] done processing\n",
      "10:34:36 - cmdstanpy - INFO - Chain [1] start processing\n",
      "10:34:36 - cmdstanpy - INFO - Chain [1] done processing\n",
      "10:34:36 - cmdstanpy - INFO - Chain [1] start processing\n",
      "10:34:36 - cmdstanpy - INFO - Chain [1] done processing\n",
      "10:34:37 - cmdstanpy - INFO - Chain [1] start processing\n",
      "10:34:37 - cmdstanpy - INFO - Chain [1] done processing\n"
     ]
    },
    {
     "data": {
      "application/vnd.jupyter.widget-view+json": {
       "model_id": "c41f0366f3b643ce9fe148c22f98b2ad",
       "version_major": 2,
       "version_minor": 0
      },
      "text/plain": [
       "  0%|          | 0/4 [00:00<?, ?it/s]"
      ]
     },
     "metadata": {},
     "output_type": "display_data"
    },
    {
     "name": "stderr",
     "output_type": "stream",
     "text": [
      "10:34:37 - cmdstanpy - INFO - Chain [1] start processing\n",
      "10:34:37 - cmdstanpy - INFO - Chain [1] done processing\n",
      "10:34:38 - cmdstanpy - INFO - Chain [1] start processing\n",
      "10:34:38 - cmdstanpy - INFO - Chain [1] done processing\n",
      "10:34:39 - cmdstanpy - INFO - Chain [1] start processing\n",
      "10:34:39 - cmdstanpy - INFO - Chain [1] done processing\n",
      "10:34:39 - cmdstanpy - INFO - Chain [1] start processing\n",
      "10:34:39 - cmdstanpy - INFO - Chain [1] done processing\n",
      "10:34:40 - cmdstanpy - INFO - Chain [1] start processing\n",
      "10:34:40 - cmdstanpy - INFO - Chain [1] done processing\n"
     ]
    },
    {
     "data": {
      "application/vnd.jupyter.widget-view+json": {
       "model_id": "97f5c040914448bca71375b8dcd721d7",
       "version_major": 2,
       "version_minor": 0
      },
      "text/plain": [
       "  0%|          | 0/4 [00:00<?, ?it/s]"
      ]
     },
     "metadata": {},
     "output_type": "display_data"
    },
    {
     "name": "stderr",
     "output_type": "stream",
     "text": [
      "10:34:40 - cmdstanpy - INFO - Chain [1] start processing\n",
      "10:34:40 - cmdstanpy - INFO - Chain [1] done processing\n",
      "10:34:41 - cmdstanpy - INFO - Chain [1] start processing\n",
      "10:34:41 - cmdstanpy - INFO - Chain [1] done processing\n",
      "10:34:42 - cmdstanpy - INFO - Chain [1] start processing\n",
      "10:34:42 - cmdstanpy - INFO - Chain [1] done processing\n",
      "10:34:42 - cmdstanpy - INFO - Chain [1] start processing\n",
      "10:34:42 - cmdstanpy - INFO - Chain [1] done processing\n",
      "10:34:43 - cmdstanpy - INFO - Chain [1] start processing\n",
      "10:34:43 - cmdstanpy - INFO - Chain [1] done processing\n"
     ]
    },
    {
     "data": {
      "application/vnd.jupyter.widget-view+json": {
       "model_id": "a1f21b2bd0744225aaf4d561df3b9a07",
       "version_major": 2,
       "version_minor": 0
      },
      "text/plain": [
       "  0%|          | 0/4 [00:00<?, ?it/s]"
      ]
     },
     "metadata": {},
     "output_type": "display_data"
    },
    {
     "name": "stderr",
     "output_type": "stream",
     "text": [
      "10:34:43 - cmdstanpy - INFO - Chain [1] start processing\n",
      "10:34:43 - cmdstanpy - INFO - Chain [1] done processing\n",
      "10:34:44 - cmdstanpy - INFO - Chain [1] start processing\n",
      "10:34:44 - cmdstanpy - INFO - Chain [1] done processing\n",
      "10:34:44 - cmdstanpy - INFO - Chain [1] start processing\n",
      "10:34:44 - cmdstanpy - INFO - Chain [1] done processing\n",
      "10:34:45 - cmdstanpy - INFO - Chain [1] start processing\n",
      "10:34:45 - cmdstanpy - INFO - Chain [1] done processing\n",
      "10:34:46 - cmdstanpy - INFO - Chain [1] start processing\n",
      "10:34:46 - cmdstanpy - INFO - Chain [1] done processing\n"
     ]
    },
    {
     "data": {
      "application/vnd.jupyter.widget-view+json": {
       "model_id": "42d68805bd724c54b915e8beb5f7ae34",
       "version_major": 2,
       "version_minor": 0
      },
      "text/plain": [
       "  0%|          | 0/4 [00:00<?, ?it/s]"
      ]
     },
     "metadata": {},
     "output_type": "display_data"
    },
    {
     "name": "stderr",
     "output_type": "stream",
     "text": [
      "10:34:46 - cmdstanpy - INFO - Chain [1] start processing\n",
      "10:34:46 - cmdstanpy - INFO - Chain [1] done processing\n",
      "10:34:47 - cmdstanpy - INFO - Chain [1] start processing\n",
      "10:34:47 - cmdstanpy - INFO - Chain [1] done processing\n",
      "10:34:47 - cmdstanpy - INFO - Chain [1] start processing\n",
      "10:34:47 - cmdstanpy - INFO - Chain [1] done processing\n",
      "10:34:48 - cmdstanpy - INFO - Chain [1] start processing\n",
      "10:34:48 - cmdstanpy - INFO - Chain [1] done processing\n",
      "10:34:49 - cmdstanpy - INFO - Chain [1] start processing\n",
      "10:34:49 - cmdstanpy - INFO - Chain [1] done processing\n"
     ]
    },
    {
     "data": {
      "application/vnd.jupyter.widget-view+json": {
       "model_id": "49ba4507c9a14c3b9c066ddc1eb5394c",
       "version_major": 2,
       "version_minor": 0
      },
      "text/plain": [
       "  0%|          | 0/4 [00:00<?, ?it/s]"
      ]
     },
     "metadata": {},
     "output_type": "display_data"
    },
    {
     "name": "stderr",
     "output_type": "stream",
     "text": [
      "10:34:49 - cmdstanpy - INFO - Chain [1] start processing\n",
      "10:34:49 - cmdstanpy - INFO - Chain [1] done processing\n",
      "10:34:50 - cmdstanpy - INFO - Chain [1] start processing\n",
      "10:34:50 - cmdstanpy - INFO - Chain [1] done processing\n",
      "10:34:50 - cmdstanpy - INFO - Chain [1] start processing\n",
      "10:34:50 - cmdstanpy - INFO - Chain [1] done processing\n",
      "10:34:51 - cmdstanpy - INFO - Chain [1] start processing\n",
      "10:34:51 - cmdstanpy - INFO - Chain [1] done processing\n",
      "10:34:52 - cmdstanpy - INFO - Chain [1] start processing\n",
      "10:34:52 - cmdstanpy - INFO - Chain [1] done processing\n"
     ]
    },
    {
     "data": {
      "application/vnd.jupyter.widget-view+json": {
       "model_id": "6c582ae28e70418abc21a3f345590d26",
       "version_major": 2,
       "version_minor": 0
      },
      "text/plain": [
       "  0%|          | 0/4 [00:00<?, ?it/s]"
      ]
     },
     "metadata": {},
     "output_type": "display_data"
    },
    {
     "name": "stderr",
     "output_type": "stream",
     "text": [
      "10:34:52 - cmdstanpy - INFO - Chain [1] start processing\n",
      "10:34:52 - cmdstanpy - INFO - Chain [1] done processing\n",
      "10:34:52 - cmdstanpy - INFO - Chain [1] start processing\n",
      "10:34:53 - cmdstanpy - INFO - Chain [1] done processing\n",
      "10:34:53 - cmdstanpy - INFO - Chain [1] start processing\n",
      "10:34:53 - cmdstanpy - INFO - Chain [1] done processing\n",
      "10:34:54 - cmdstanpy - INFO - Chain [1] start processing\n",
      "10:34:54 - cmdstanpy - INFO - Chain [1] done processing\n",
      "10:34:55 - cmdstanpy - INFO - Chain [1] start processing\n",
      "10:34:55 - cmdstanpy - INFO - Chain [1] done processing\n"
     ]
    },
    {
     "data": {
      "application/vnd.jupyter.widget-view+json": {
       "model_id": "2b2c16f6b99b46c68cbfd513694bd857",
       "version_major": 2,
       "version_minor": 0
      },
      "text/plain": [
       "  0%|          | 0/4 [00:00<?, ?it/s]"
      ]
     },
     "metadata": {},
     "output_type": "display_data"
    },
    {
     "name": "stderr",
     "output_type": "stream",
     "text": [
      "10:34:55 - cmdstanpy - INFO - Chain [1] start processing\n",
      "10:34:55 - cmdstanpy - INFO - Chain [1] done processing\n",
      "10:34:55 - cmdstanpy - INFO - Chain [1] start processing\n",
      "10:34:55 - cmdstanpy - INFO - Chain [1] done processing\n",
      "10:34:56 - cmdstanpy - INFO - Chain [1] start processing\n",
      "10:34:56 - cmdstanpy - INFO - Chain [1] done processing\n",
      "10:34:57 - cmdstanpy - INFO - Chain [1] start processing\n",
      "10:34:57 - cmdstanpy - INFO - Chain [1] done processing\n",
      "10:34:57 - cmdstanpy - INFO - Chain [1] start processing\n",
      "10:34:57 - cmdstanpy - INFO - Chain [1] done processing\n"
     ]
    },
    {
     "data": {
      "application/vnd.jupyter.widget-view+json": {
       "model_id": "86a6a63b6d5c4592a8a438923c99fe0f",
       "version_major": 2,
       "version_minor": 0
      },
      "text/plain": [
       "  0%|          | 0/4 [00:00<?, ?it/s]"
      ]
     },
     "metadata": {},
     "output_type": "display_data"
    },
    {
     "name": "stderr",
     "output_type": "stream",
     "text": [
      "10:34:57 - cmdstanpy - INFO - Chain [1] start processing\n",
      "10:34:58 - cmdstanpy - INFO - Chain [1] done processing\n",
      "10:34:58 - cmdstanpy - INFO - Chain [1] start processing\n",
      "10:34:58 - cmdstanpy - INFO - Chain [1] done processing\n",
      "10:34:59 - cmdstanpy - INFO - Chain [1] start processing\n",
      "10:34:59 - cmdstanpy - INFO - Chain [1] done processing\n",
      "10:35:00 - cmdstanpy - INFO - Chain [1] start processing\n",
      "10:35:00 - cmdstanpy - INFO - Chain [1] done processing\n",
      "10:35:00 - cmdstanpy - INFO - Chain [1] start processing\n",
      "10:35:00 - cmdstanpy - INFO - Chain [1] done processing\n"
     ]
    },
    {
     "data": {
      "application/vnd.jupyter.widget-view+json": {
       "model_id": "9a994337155b41aa8150e4a9df2f7566",
       "version_major": 2,
       "version_minor": 0
      },
      "text/plain": [
       "  0%|          | 0/4 [00:00<?, ?it/s]"
      ]
     },
     "metadata": {},
     "output_type": "display_data"
    },
    {
     "name": "stderr",
     "output_type": "stream",
     "text": [
      "10:35:00 - cmdstanpy - INFO - Chain [1] start processing\n",
      "10:35:01 - cmdstanpy - INFO - Chain [1] done processing\n",
      "10:35:01 - cmdstanpy - INFO - Chain [1] start processing\n",
      "10:35:01 - cmdstanpy - INFO - Chain [1] done processing\n",
      "10:35:02 - cmdstanpy - INFO - Chain [1] start processing\n",
      "10:35:02 - cmdstanpy - INFO - Chain [1] done processing\n",
      "10:35:03 - cmdstanpy - INFO - Chain [1] start processing\n",
      "10:35:03 - cmdstanpy - INFO - Chain [1] done processing\n",
      "10:35:03 - cmdstanpy - INFO - Chain [1] start processing\n",
      "10:35:03 - cmdstanpy - INFO - Chain [1] done processing\n"
     ]
    },
    {
     "data": {
      "application/vnd.jupyter.widget-view+json": {
       "model_id": "6f6373279c3e42a8a014ebbaaed88f5e",
       "version_major": 2,
       "version_minor": 0
      },
      "text/plain": [
       "  0%|          | 0/4 [00:00<?, ?it/s]"
      ]
     },
     "metadata": {},
     "output_type": "display_data"
    },
    {
     "name": "stderr",
     "output_type": "stream",
     "text": [
      "10:35:03 - cmdstanpy - INFO - Chain [1] start processing\n",
      "10:35:04 - cmdstanpy - INFO - Chain [1] done processing\n",
      "10:35:04 - cmdstanpy - INFO - Chain [1] start processing\n",
      "10:35:04 - cmdstanpy - INFO - Chain [1] done processing\n",
      "10:35:05 - cmdstanpy - INFO - Chain [1] start processing\n",
      "10:35:05 - cmdstanpy - INFO - Chain [1] done processing\n",
      "10:35:05 - cmdstanpy - INFO - Chain [1] start processing\n",
      "10:35:05 - cmdstanpy - INFO - Chain [1] done processing\n",
      "10:35:06 - cmdstanpy - INFO - Chain [1] start processing\n",
      "10:35:06 - cmdstanpy - INFO - Chain [1] done processing\n"
     ]
    },
    {
     "data": {
      "application/vnd.jupyter.widget-view+json": {
       "model_id": "ff5001431ce545c8b9c32619477d215f",
       "version_major": 2,
       "version_minor": 0
      },
      "text/plain": [
       "  0%|          | 0/4 [00:00<?, ?it/s]"
      ]
     },
     "metadata": {},
     "output_type": "display_data"
    },
    {
     "name": "stderr",
     "output_type": "stream",
     "text": [
      "10:35:06 - cmdstanpy - INFO - Chain [1] start processing\n",
      "10:35:06 - cmdstanpy - INFO - Chain [1] done processing\n",
      "10:35:07 - cmdstanpy - INFO - Chain [1] start processing\n",
      "10:35:07 - cmdstanpy - INFO - Chain [1] done processing\n",
      "10:35:08 - cmdstanpy - INFO - Chain [1] start processing\n",
      "10:35:08 - cmdstanpy - INFO - Chain [1] done processing\n",
      "10:35:08 - cmdstanpy - INFO - Chain [1] start processing\n",
      "10:35:08 - cmdstanpy - INFO - Chain [1] done processing\n",
      "10:35:09 - cmdstanpy - INFO - Chain [1] start processing\n",
      "10:35:09 - cmdstanpy - INFO - Chain [1] done processing\n"
     ]
    },
    {
     "data": {
      "application/vnd.jupyter.widget-view+json": {
       "model_id": "e783868084004c3fa0ed258caed19ed0",
       "version_major": 2,
       "version_minor": 0
      },
      "text/plain": [
       "  0%|          | 0/4 [00:00<?, ?it/s]"
      ]
     },
     "metadata": {},
     "output_type": "display_data"
    },
    {
     "name": "stderr",
     "output_type": "stream",
     "text": [
      "10:35:09 - cmdstanpy - INFO - Chain [1] start processing\n",
      "10:35:10 - cmdstanpy - INFO - Chain [1] done processing\n",
      "10:35:10 - cmdstanpy - INFO - Chain [1] start processing\n",
      "10:35:10 - cmdstanpy - INFO - Chain [1] done processing\n",
      "10:35:11 - cmdstanpy - INFO - Chain [1] start processing\n",
      "10:35:11 - cmdstanpy - INFO - Chain [1] done processing\n",
      "10:35:11 - cmdstanpy - INFO - Chain [1] start processing\n",
      "10:35:11 - cmdstanpy - INFO - Chain [1] done processing\n",
      "10:35:12 - cmdstanpy - INFO - Chain [1] start processing\n",
      "10:35:12 - cmdstanpy - INFO - Chain [1] done processing\n"
     ]
    },
    {
     "data": {
      "application/vnd.jupyter.widget-view+json": {
       "model_id": "99d53e743e5b4d10961261876aeeaecf",
       "version_major": 2,
       "version_minor": 0
      },
      "text/plain": [
       "  0%|          | 0/4 [00:00<?, ?it/s]"
      ]
     },
     "metadata": {},
     "output_type": "display_data"
    },
    {
     "name": "stderr",
     "output_type": "stream",
     "text": [
      "10:35:12 - cmdstanpy - INFO - Chain [1] start processing\n",
      "10:35:12 - cmdstanpy - INFO - Chain [1] done processing\n",
      "10:35:13 - cmdstanpy - INFO - Chain [1] start processing\n",
      "10:35:13 - cmdstanpy - INFO - Chain [1] done processing\n",
      "10:35:14 - cmdstanpy - INFO - Chain [1] start processing\n",
      "10:35:14 - cmdstanpy - INFO - Chain [1] done processing\n",
      "10:35:14 - cmdstanpy - INFO - Chain [1] start processing\n",
      "10:35:14 - cmdstanpy - INFO - Chain [1] done processing\n",
      "10:35:15 - cmdstanpy - INFO - Chain [1] start processing\n",
      "10:35:15 - cmdstanpy - INFO - Chain [1] done processing\n"
     ]
    },
    {
     "data": {
      "application/vnd.jupyter.widget-view+json": {
       "model_id": "cfe2f8ff6ff64a17a2b850a50ede4df0",
       "version_major": 2,
       "version_minor": 0
      },
      "text/plain": [
       "  0%|          | 0/4 [00:00<?, ?it/s]"
      ]
     },
     "metadata": {},
     "output_type": "display_data"
    },
    {
     "name": "stderr",
     "output_type": "stream",
     "text": [
      "10:35:15 - cmdstanpy - INFO - Chain [1] start processing\n",
      "10:35:15 - cmdstanpy - INFO - Chain [1] done processing\n",
      "10:35:16 - cmdstanpy - INFO - Chain [1] start processing\n",
      "10:35:16 - cmdstanpy - INFO - Chain [1] done processing\n",
      "10:35:17 - cmdstanpy - INFO - Chain [1] start processing\n",
      "10:35:17 - cmdstanpy - INFO - Chain [1] done processing\n",
      "10:35:17 - cmdstanpy - INFO - Chain [1] start processing\n",
      "10:35:17 - cmdstanpy - INFO - Chain [1] done processing\n",
      "10:35:18 - cmdstanpy - INFO - Chain [1] start processing\n",
      "10:35:18 - cmdstanpy - INFO - Chain [1] done processing\n"
     ]
    },
    {
     "data": {
      "application/vnd.jupyter.widget-view+json": {
       "model_id": "ccfce084dde9494dbf97b3504bc6c9be",
       "version_major": 2,
       "version_minor": 0
      },
      "text/plain": [
       "  0%|          | 0/4 [00:00<?, ?it/s]"
      ]
     },
     "metadata": {},
     "output_type": "display_data"
    },
    {
     "name": "stderr",
     "output_type": "stream",
     "text": [
      "10:35:18 - cmdstanpy - INFO - Chain [1] start processing\n",
      "10:35:18 - cmdstanpy - INFO - Chain [1] done processing\n",
      "10:35:19 - cmdstanpy - INFO - Chain [1] start processing\n",
      "10:35:19 - cmdstanpy - INFO - Chain [1] done processing\n",
      "10:35:20 - cmdstanpy - INFO - Chain [1] start processing\n",
      "10:35:20 - cmdstanpy - INFO - Chain [1] done processing\n",
      "10:35:20 - cmdstanpy - INFO - Chain [1] start processing\n",
      "10:35:20 - cmdstanpy - INFO - Chain [1] done processing\n",
      "10:35:21 - cmdstanpy - INFO - Chain [1] start processing\n",
      "10:35:21 - cmdstanpy - INFO - Chain [1] done processing\n"
     ]
    },
    {
     "data": {
      "application/vnd.jupyter.widget-view+json": {
       "model_id": "d3ebca326d6c4ebaa6465b2a74b92005",
       "version_major": 2,
       "version_minor": 0
      },
      "text/plain": [
       "  0%|          | 0/4 [00:00<?, ?it/s]"
      ]
     },
     "metadata": {},
     "output_type": "display_data"
    },
    {
     "name": "stderr",
     "output_type": "stream",
     "text": [
      "10:35:21 - cmdstanpy - INFO - Chain [1] start processing\n",
      "10:35:21 - cmdstanpy - INFO - Chain [1] done processing\n",
      "10:35:22 - cmdstanpy - INFO - Chain [1] start processing\n",
      "10:35:22 - cmdstanpy - INFO - Chain [1] done processing\n",
      "10:35:22 - cmdstanpy - INFO - Chain [1] start processing\n",
      "10:35:23 - cmdstanpy - INFO - Chain [1] done processing\n",
      "10:35:23 - cmdstanpy - INFO - Chain [1] start processing\n",
      "10:35:23 - cmdstanpy - INFO - Chain [1] done processing\n",
      "10:35:24 - cmdstanpy - INFO - Chain [1] start processing\n",
      "10:35:24 - cmdstanpy - INFO - Chain [1] done processing\n"
     ]
    },
    {
     "data": {
      "application/vnd.jupyter.widget-view+json": {
       "model_id": "56421aeadd6941a7acedf68fcb62cea6",
       "version_major": 2,
       "version_minor": 0
      },
      "text/plain": [
       "  0%|          | 0/4 [00:00<?, ?it/s]"
      ]
     },
     "metadata": {},
     "output_type": "display_data"
    },
    {
     "name": "stderr",
     "output_type": "stream",
     "text": [
      "10:35:24 - cmdstanpy - INFO - Chain [1] start processing\n",
      "10:35:24 - cmdstanpy - INFO - Chain [1] done processing\n",
      "10:35:25 - cmdstanpy - INFO - Chain [1] start processing\n",
      "10:35:25 - cmdstanpy - INFO - Chain [1] done processing\n",
      "10:35:25 - cmdstanpy - INFO - Chain [1] start processing\n",
      "10:35:25 - cmdstanpy - INFO - Chain [1] done processing\n",
      "10:35:26 - cmdstanpy - INFO - Chain [1] start processing\n",
      "10:35:26 - cmdstanpy - INFO - Chain [1] done processing\n",
      "10:35:27 - cmdstanpy - INFO - Chain [1] start processing\n",
      "10:35:27 - cmdstanpy - INFO - Chain [1] done processing\n"
     ]
    },
    {
     "data": {
      "application/vnd.jupyter.widget-view+json": {
       "model_id": "d9000950cd8f453086f1e2d8581371e4",
       "version_major": 2,
       "version_minor": 0
      },
      "text/plain": [
       "  0%|          | 0/4 [00:00<?, ?it/s]"
      ]
     },
     "metadata": {},
     "output_type": "display_data"
    },
    {
     "name": "stderr",
     "output_type": "stream",
     "text": [
      "10:35:27 - cmdstanpy - INFO - Chain [1] start processing\n",
      "10:35:27 - cmdstanpy - INFO - Chain [1] done processing\n",
      "10:35:28 - cmdstanpy - INFO - Chain [1] start processing\n",
      "10:35:28 - cmdstanpy - INFO - Chain [1] done processing\n",
      "10:35:28 - cmdstanpy - INFO - Chain [1] start processing\n",
      "10:35:28 - cmdstanpy - INFO - Chain [1] done processing\n",
      "10:35:29 - cmdstanpy - INFO - Chain [1] start processing\n",
      "10:35:29 - cmdstanpy - INFO - Chain [1] done processing\n",
      "10:35:30 - cmdstanpy - INFO - Chain [1] start processing\n",
      "10:35:30 - cmdstanpy - INFO - Chain [1] done processing\n"
     ]
    },
    {
     "data": {
      "application/vnd.jupyter.widget-view+json": {
       "model_id": "68240a75888348968b9a6498a6778d86",
       "version_major": 2,
       "version_minor": 0
      },
      "text/plain": [
       "  0%|          | 0/4 [00:00<?, ?it/s]"
      ]
     },
     "metadata": {},
     "output_type": "display_data"
    },
    {
     "name": "stderr",
     "output_type": "stream",
     "text": [
      "10:35:30 - cmdstanpy - INFO - Chain [1] start processing\n",
      "10:35:30 - cmdstanpy - INFO - Chain [1] done processing\n",
      "10:35:31 - cmdstanpy - INFO - Chain [1] start processing\n",
      "10:35:31 - cmdstanpy - INFO - Chain [1] done processing\n",
      "10:35:31 - cmdstanpy - INFO - Chain [1] start processing\n",
      "10:35:31 - cmdstanpy - INFO - Chain [1] done processing\n",
      "10:35:32 - cmdstanpy - INFO - Chain [1] start processing\n",
      "10:35:32 - cmdstanpy - INFO - Chain [1] done processing\n",
      "10:35:33 - cmdstanpy - INFO - Chain [1] start processing\n",
      "10:35:33 - cmdstanpy - INFO - Chain [1] done processing\n"
     ]
    },
    {
     "data": {
      "application/vnd.jupyter.widget-view+json": {
       "model_id": "415e69a20c044613a540f9904f83845a",
       "version_major": 2,
       "version_minor": 0
      },
      "text/plain": [
       "  0%|          | 0/4 [00:00<?, ?it/s]"
      ]
     },
     "metadata": {},
     "output_type": "display_data"
    },
    {
     "name": "stderr",
     "output_type": "stream",
     "text": [
      "10:35:33 - cmdstanpy - INFO - Chain [1] start processing\n",
      "10:35:33 - cmdstanpy - INFO - Chain [1] done processing\n",
      "10:35:33 - cmdstanpy - INFO - Chain [1] start processing\n",
      "10:35:33 - cmdstanpy - INFO - Chain [1] done processing\n",
      "10:35:34 - cmdstanpy - INFO - Chain [1] start processing\n",
      "10:35:34 - cmdstanpy - INFO - Chain [1] done processing\n",
      "10:35:35 - cmdstanpy - INFO - Chain [1] start processing\n",
      "10:35:35 - cmdstanpy - INFO - Chain [1] done processing\n",
      "10:35:35 - cmdstanpy - INFO - Chain [1] start processing\n",
      "10:35:35 - cmdstanpy - INFO - Chain [1] done processing\n"
     ]
    },
    {
     "data": {
      "application/vnd.jupyter.widget-view+json": {
       "model_id": "83f80f10187f448994c7d62b742a9306",
       "version_major": 2,
       "version_minor": 0
      },
      "text/plain": [
       "  0%|          | 0/4 [00:00<?, ?it/s]"
      ]
     },
     "metadata": {},
     "output_type": "display_data"
    },
    {
     "name": "stderr",
     "output_type": "stream",
     "text": [
      "10:35:35 - cmdstanpy - INFO - Chain [1] start processing\n",
      "10:35:36 - cmdstanpy - INFO - Chain [1] done processing\n",
      "10:35:36 - cmdstanpy - INFO - Chain [1] start processing\n",
      "10:35:36 - cmdstanpy - INFO - Chain [1] done processing\n",
      "10:35:37 - cmdstanpy - INFO - Chain [1] start processing\n",
      "10:35:37 - cmdstanpy - INFO - Chain [1] done processing\n",
      "10:35:38 - cmdstanpy - INFO - Chain [1] start processing\n",
      "10:35:38 - cmdstanpy - INFO - Chain [1] done processing\n",
      "10:35:38 - cmdstanpy - INFO - Chain [1] start processing\n",
      "10:35:38 - cmdstanpy - INFO - Chain [1] done processing\n"
     ]
    },
    {
     "data": {
      "application/vnd.jupyter.widget-view+json": {
       "model_id": "48758118e3f14006a99766deceacef19",
       "version_major": 2,
       "version_minor": 0
      },
      "text/plain": [
       "  0%|          | 0/4 [00:00<?, ?it/s]"
      ]
     },
     "metadata": {},
     "output_type": "display_data"
    },
    {
     "name": "stderr",
     "output_type": "stream",
     "text": [
      "10:35:38 - cmdstanpy - INFO - Chain [1] start processing\n",
      "10:35:39 - cmdstanpy - INFO - Chain [1] done processing\n",
      "10:35:39 - cmdstanpy - INFO - Chain [1] start processing\n",
      "10:35:39 - cmdstanpy - INFO - Chain [1] done processing\n",
      "10:35:40 - cmdstanpy - INFO - Chain [1] start processing\n",
      "10:35:40 - cmdstanpy - INFO - Chain [1] done processing\n",
      "10:35:41 - cmdstanpy - INFO - Chain [1] start processing\n",
      "10:35:41 - cmdstanpy - INFO - Chain [1] done processing\n",
      "10:35:41 - cmdstanpy - INFO - Chain [1] start processing\n",
      "10:35:41 - cmdstanpy - INFO - Chain [1] done processing\n"
     ]
    },
    {
     "data": {
      "application/vnd.jupyter.widget-view+json": {
       "model_id": "95ad533964be4a8e93ff82fcc3aa67d6",
       "version_major": 2,
       "version_minor": 0
      },
      "text/plain": [
       "  0%|          | 0/4 [00:00<?, ?it/s]"
      ]
     },
     "metadata": {},
     "output_type": "display_data"
    },
    {
     "name": "stderr",
     "output_type": "stream",
     "text": [
      "10:35:41 - cmdstanpy - INFO - Chain [1] start processing\n",
      "10:35:41 - cmdstanpy - INFO - Chain [1] done processing\n",
      "10:35:42 - cmdstanpy - INFO - Chain [1] start processing\n",
      "10:35:42 - cmdstanpy - INFO - Chain [1] done processing\n",
      "10:35:43 - cmdstanpy - INFO - Chain [1] start processing\n",
      "10:35:43 - cmdstanpy - INFO - Chain [1] done processing\n",
      "10:35:43 - cmdstanpy - INFO - Chain [1] start processing\n",
      "10:35:43 - cmdstanpy - INFO - Chain [1] done processing\n",
      "10:35:44 - cmdstanpy - INFO - Chain [1] start processing\n",
      "10:35:44 - cmdstanpy - INFO - Chain [1] done processing\n"
     ]
    },
    {
     "data": {
      "application/vnd.jupyter.widget-view+json": {
       "model_id": "51ca9327ad5648d79dc690655a878947",
       "version_major": 2,
       "version_minor": 0
      },
      "text/plain": [
       "  0%|          | 0/4 [00:00<?, ?it/s]"
      ]
     },
     "metadata": {},
     "output_type": "display_data"
    },
    {
     "name": "stderr",
     "output_type": "stream",
     "text": [
      "10:35:44 - cmdstanpy - INFO - Chain [1] start processing\n",
      "10:35:44 - cmdstanpy - INFO - Chain [1] done processing\n",
      "10:35:45 - cmdstanpy - INFO - Chain [1] start processing\n",
      "10:35:45 - cmdstanpy - INFO - Chain [1] done processing\n",
      "10:35:46 - cmdstanpy - INFO - Chain [1] start processing\n",
      "10:35:46 - cmdstanpy - INFO - Chain [1] done processing\n",
      "10:35:46 - cmdstanpy - INFO - Chain [1] start processing\n",
      "10:35:46 - cmdstanpy - INFO - Chain [1] done processing\n",
      "10:35:47 - cmdstanpy - INFO - Chain [1] start processing\n",
      "10:35:47 - cmdstanpy - INFO - Chain [1] done processing\n"
     ]
    },
    {
     "data": {
      "application/vnd.jupyter.widget-view+json": {
       "model_id": "792f5b4ec40e4389837b15591b0fcc9f",
       "version_major": 2,
       "version_minor": 0
      },
      "text/plain": [
       "  0%|          | 0/4 [00:00<?, ?it/s]"
      ]
     },
     "metadata": {},
     "output_type": "display_data"
    },
    {
     "name": "stderr",
     "output_type": "stream",
     "text": [
      "10:35:47 - cmdstanpy - INFO - Chain [1] start processing\n",
      "10:35:47 - cmdstanpy - INFO - Chain [1] done processing\n",
      "10:35:48 - cmdstanpy - INFO - Chain [1] start processing\n",
      "10:35:48 - cmdstanpy - INFO - Chain [1] done processing\n",
      "10:35:48 - cmdstanpy - INFO - Chain [1] start processing\n",
      "10:35:48 - cmdstanpy - INFO - Chain [1] done processing\n",
      "10:35:49 - cmdstanpy - INFO - Chain [1] start processing\n",
      "10:35:49 - cmdstanpy - INFO - Chain [1] done processing\n",
      "10:35:50 - cmdstanpy - INFO - Chain [1] start processing\n",
      "10:35:50 - cmdstanpy - INFO - Chain [1] done processing\n"
     ]
    },
    {
     "data": {
      "application/vnd.jupyter.widget-view+json": {
       "model_id": "855c6950ec0b40e0ab50d9b281470dcc",
       "version_major": 2,
       "version_minor": 0
      },
      "text/plain": [
       "  0%|          | 0/4 [00:00<?, ?it/s]"
      ]
     },
     "metadata": {},
     "output_type": "display_data"
    },
    {
     "name": "stderr",
     "output_type": "stream",
     "text": [
      "10:35:50 - cmdstanpy - INFO - Chain [1] start processing\n",
      "10:35:50 - cmdstanpy - INFO - Chain [1] done processing\n",
      "10:35:51 - cmdstanpy - INFO - Chain [1] start processing\n",
      "10:35:51 - cmdstanpy - INFO - Chain [1] done processing\n",
      "10:35:51 - cmdstanpy - INFO - Chain [1] start processing\n",
      "10:35:51 - cmdstanpy - INFO - Chain [1] done processing\n",
      "10:35:52 - cmdstanpy - INFO - Chain [1] start processing\n",
      "10:35:52 - cmdstanpy - INFO - Chain [1] done processing\n",
      "10:35:53 - cmdstanpy - INFO - Chain [1] start processing\n",
      "10:35:53 - cmdstanpy - INFO - Chain [1] done processing\n"
     ]
    },
    {
     "data": {
      "application/vnd.jupyter.widget-view+json": {
       "model_id": "ea24f543a39441edab2660b5f059fc96",
       "version_major": 2,
       "version_minor": 0
      },
      "text/plain": [
       "  0%|          | 0/4 [00:00<?, ?it/s]"
      ]
     },
     "metadata": {},
     "output_type": "display_data"
    },
    {
     "name": "stderr",
     "output_type": "stream",
     "text": [
      "10:35:53 - cmdstanpy - INFO - Chain [1] start processing\n",
      "10:35:53 - cmdstanpy - INFO - Chain [1] done processing\n",
      "10:35:53 - cmdstanpy - INFO - Chain [1] start processing\n",
      "10:35:54 - cmdstanpy - INFO - Chain [1] done processing\n",
      "10:35:54 - cmdstanpy - INFO - Chain [1] start processing\n",
      "10:35:54 - cmdstanpy - INFO - Chain [1] done processing\n",
      "10:35:55 - cmdstanpy - INFO - Chain [1] start processing\n",
      "10:35:55 - cmdstanpy - INFO - Chain [1] done processing\n",
      "10:35:55 - cmdstanpy - INFO - Chain [1] start processing\n",
      "10:35:55 - cmdstanpy - INFO - Chain [1] done processing\n"
     ]
    },
    {
     "data": {
      "application/vnd.jupyter.widget-view+json": {
       "model_id": "51f8b4f039154425b55cb1eb7552229e",
       "version_major": 2,
       "version_minor": 0
      },
      "text/plain": [
       "  0%|          | 0/4 [00:00<?, ?it/s]"
      ]
     },
     "metadata": {},
     "output_type": "display_data"
    },
    {
     "name": "stderr",
     "output_type": "stream",
     "text": [
      "10:35:56 - cmdstanpy - INFO - Chain [1] start processing\n",
      "10:35:56 - cmdstanpy - INFO - Chain [1] done processing\n",
      "10:35:56 - cmdstanpy - INFO - Chain [1] start processing\n",
      "10:35:56 - cmdstanpy - INFO - Chain [1] done processing\n",
      "10:35:57 - cmdstanpy - INFO - Chain [1] start processing\n",
      "10:35:57 - cmdstanpy - INFO - Chain [1] done processing\n",
      "10:35:58 - cmdstanpy - INFO - Chain [1] start processing\n",
      "10:35:58 - cmdstanpy - INFO - Chain [1] done processing\n",
      "10:35:58 - cmdstanpy - INFO - Chain [1] start processing\n",
      "10:35:58 - cmdstanpy - INFO - Chain [1] done processing\n"
     ]
    },
    {
     "data": {
      "application/vnd.jupyter.widget-view+json": {
       "model_id": "c31fbe02af444f90881b66bcfc3558e2",
       "version_major": 2,
       "version_minor": 0
      },
      "text/plain": [
       "  0%|          | 0/4 [00:00<?, ?it/s]"
      ]
     },
     "metadata": {},
     "output_type": "display_data"
    },
    {
     "name": "stderr",
     "output_type": "stream",
     "text": [
      "10:35:58 - cmdstanpy - INFO - Chain [1] start processing\n",
      "10:35:59 - cmdstanpy - INFO - Chain [1] done processing\n",
      "10:35:59 - cmdstanpy - INFO - Chain [1] start processing\n",
      "10:35:59 - cmdstanpy - INFO - Chain [1] done processing\n",
      "10:36:00 - cmdstanpy - INFO - Chain [1] start processing\n",
      "10:36:00 - cmdstanpy - INFO - Chain [1] done processing\n",
      "10:36:01 - cmdstanpy - INFO - Chain [1] start processing\n",
      "10:36:01 - cmdstanpy - INFO - Chain [1] done processing\n",
      "10:36:01 - cmdstanpy - INFO - Chain [1] start processing\n",
      "10:36:01 - cmdstanpy - INFO - Chain [1] done processing\n"
     ]
    },
    {
     "data": {
      "application/vnd.jupyter.widget-view+json": {
       "model_id": "d9bc11d5350a4033bddd2118168ae3cb",
       "version_major": 2,
       "version_minor": 0
      },
      "text/plain": [
       "  0%|          | 0/4 [00:00<?, ?it/s]"
      ]
     },
     "metadata": {},
     "output_type": "display_data"
    },
    {
     "name": "stderr",
     "output_type": "stream",
     "text": [
      "10:36:01 - cmdstanpy - INFO - Chain [1] start processing\n",
      "10:36:02 - cmdstanpy - INFO - Chain [1] done processing\n",
      "10:36:02 - cmdstanpy - INFO - Chain [1] start processing\n",
      "10:36:02 - cmdstanpy - INFO - Chain [1] done processing\n",
      "10:36:03 - cmdstanpy - INFO - Chain [1] start processing\n",
      "10:36:03 - cmdstanpy - INFO - Chain [1] done processing\n",
      "10:36:03 - cmdstanpy - INFO - Chain [1] start processing\n",
      "10:36:03 - cmdstanpy - INFO - Chain [1] done processing\n",
      "10:36:04 - cmdstanpy - INFO - Chain [1] start processing\n",
      "10:36:04 - cmdstanpy - INFO - Chain [1] done processing\n"
     ]
    },
    {
     "data": {
      "application/vnd.jupyter.widget-view+json": {
       "model_id": "4369305d3af14a628d27501fd39665c7",
       "version_major": 2,
       "version_minor": 0
      },
      "text/plain": [
       "  0%|          | 0/4 [00:00<?, ?it/s]"
      ]
     },
     "metadata": {},
     "output_type": "display_data"
    },
    {
     "name": "stderr",
     "output_type": "stream",
     "text": [
      "10:36:04 - cmdstanpy - INFO - Chain [1] start processing\n",
      "10:36:04 - cmdstanpy - INFO - Chain [1] done processing\n",
      "10:36:05 - cmdstanpy - INFO - Chain [1] start processing\n",
      "10:36:05 - cmdstanpy - INFO - Chain [1] done processing\n",
      "10:36:06 - cmdstanpy - INFO - Chain [1] start processing\n",
      "10:36:06 - cmdstanpy - INFO - Chain [1] done processing\n",
      "10:36:06 - cmdstanpy - INFO - Chain [1] start processing\n",
      "10:36:06 - cmdstanpy - INFO - Chain [1] done processing\n",
      "10:36:07 - cmdstanpy - INFO - Chain [1] start processing\n",
      "10:36:07 - cmdstanpy - INFO - Chain [1] done processing\n"
     ]
    },
    {
     "data": {
      "application/vnd.jupyter.widget-view+json": {
       "model_id": "ab299f7ae20d4d8b89f526319626e426",
       "version_major": 2,
       "version_minor": 0
      },
      "text/plain": [
       "  0%|          | 0/4 [00:00<?, ?it/s]"
      ]
     },
     "metadata": {},
     "output_type": "display_data"
    },
    {
     "name": "stderr",
     "output_type": "stream",
     "text": [
      "10:36:07 - cmdstanpy - INFO - Chain [1] start processing\n",
      "10:36:07 - cmdstanpy - INFO - Chain [1] done processing\n",
      "10:36:08 - cmdstanpy - INFO - Chain [1] start processing\n",
      "10:36:08 - cmdstanpy - INFO - Chain [1] done processing\n",
      "10:36:09 - cmdstanpy - INFO - Chain [1] start processing\n",
      "10:36:09 - cmdstanpy - INFO - Chain [1] done processing\n",
      "10:36:09 - cmdstanpy - INFO - Chain [1] start processing\n",
      "10:36:09 - cmdstanpy - INFO - Chain [1] done processing\n",
      "10:36:10 - cmdstanpy - INFO - Chain [1] start processing\n",
      "10:36:10 - cmdstanpy - INFO - Chain [1] done processing\n"
     ]
    },
    {
     "data": {
      "application/vnd.jupyter.widget-view+json": {
       "model_id": "480a5b4c03644f9dbd3f1215e12e7c81",
       "version_major": 2,
       "version_minor": 0
      },
      "text/plain": [
       "  0%|          | 0/4 [00:00<?, ?it/s]"
      ]
     },
     "metadata": {},
     "output_type": "display_data"
    },
    {
     "name": "stderr",
     "output_type": "stream",
     "text": [
      "10:36:10 - cmdstanpy - INFO - Chain [1] start processing\n",
      "10:36:10 - cmdstanpy - INFO - Chain [1] done processing\n",
      "10:36:11 - cmdstanpy - INFO - Chain [1] start processing\n",
      "10:36:11 - cmdstanpy - INFO - Chain [1] done processing\n",
      "10:36:12 - cmdstanpy - INFO - Chain [1] start processing\n",
      "10:36:12 - cmdstanpy - INFO - Chain [1] done processing\n",
      "10:36:12 - cmdstanpy - INFO - Chain [1] start processing\n",
      "10:36:12 - cmdstanpy - INFO - Chain [1] done processing\n",
      "10:36:13 - cmdstanpy - INFO - Chain [1] start processing\n",
      "10:36:13 - cmdstanpy - INFO - Chain [1] done processing\n"
     ]
    },
    {
     "data": {
      "application/vnd.jupyter.widget-view+json": {
       "model_id": "afb9040a568542799a9a398fd6142e94",
       "version_major": 2,
       "version_minor": 0
      },
      "text/plain": [
       "  0%|          | 0/4 [00:00<?, ?it/s]"
      ]
     },
     "metadata": {},
     "output_type": "display_data"
    },
    {
     "name": "stderr",
     "output_type": "stream",
     "text": [
      "10:36:13 - cmdstanpy - INFO - Chain [1] start processing\n",
      "10:36:13 - cmdstanpy - INFO - Chain [1] done processing\n",
      "10:36:14 - cmdstanpy - INFO - Chain [1] start processing\n",
      "10:36:14 - cmdstanpy - INFO - Chain [1] done processing\n",
      "10:36:15 - cmdstanpy - INFO - Chain [1] start processing\n",
      "10:36:15 - cmdstanpy - INFO - Chain [1] done processing\n",
      "10:36:16 - cmdstanpy - INFO - Chain [1] start processing\n",
      "10:36:16 - cmdstanpy - INFO - Chain [1] done processing\n",
      "10:36:16 - cmdstanpy - INFO - Chain [1] start processing\n",
      "10:36:17 - cmdstanpy - INFO - Chain [1] done processing\n"
     ]
    },
    {
     "data": {
      "application/vnd.jupyter.widget-view+json": {
       "model_id": "85e342d3ae134e08b6918bfdb3025721",
       "version_major": 2,
       "version_minor": 0
      },
      "text/plain": [
       "  0%|          | 0/4 [00:00<?, ?it/s]"
      ]
     },
     "metadata": {},
     "output_type": "display_data"
    },
    {
     "name": "stderr",
     "output_type": "stream",
     "text": [
      "10:36:17 - cmdstanpy - INFO - Chain [1] start processing\n",
      "10:36:17 - cmdstanpy - INFO - Chain [1] done processing\n",
      "10:36:17 - cmdstanpy - INFO - Chain [1] start processing\n",
      "10:36:17 - cmdstanpy - INFO - Chain [1] done processing\n",
      "10:36:18 - cmdstanpy - INFO - Chain [1] start processing\n",
      "10:36:18 - cmdstanpy - INFO - Chain [1] done processing\n",
      "10:36:19 - cmdstanpy - INFO - Chain [1] start processing\n",
      "10:36:19 - cmdstanpy - INFO - Chain [1] done processing\n",
      "10:36:19 - cmdstanpy - INFO - Chain [1] start processing\n",
      "10:36:19 - cmdstanpy - INFO - Chain [1] done processing\n"
     ]
    },
    {
     "data": {
      "application/vnd.jupyter.widget-view+json": {
       "model_id": "150f707605ae4463b15c81053591af54",
       "version_major": 2,
       "version_minor": 0
      },
      "text/plain": [
       "  0%|          | 0/4 [00:00<?, ?it/s]"
      ]
     },
     "metadata": {},
     "output_type": "display_data"
    },
    {
     "name": "stderr",
     "output_type": "stream",
     "text": [
      "10:36:19 - cmdstanpy - INFO - Chain [1] start processing\n",
      "10:36:20 - cmdstanpy - INFO - Chain [1] done processing\n",
      "10:36:20 - cmdstanpy - INFO - Chain [1] start processing\n",
      "10:36:20 - cmdstanpy - INFO - Chain [1] done processing\n",
      "10:36:21 - cmdstanpy - INFO - Chain [1] start processing\n",
      "10:36:21 - cmdstanpy - INFO - Chain [1] done processing\n",
      "10:36:22 - cmdstanpy - INFO - Chain [1] start processing\n",
      "10:36:22 - cmdstanpy - INFO - Chain [1] done processing\n",
      "10:36:22 - cmdstanpy - INFO - Chain [1] start processing\n",
      "10:36:22 - cmdstanpy - INFO - Chain [1] done processing\n"
     ]
    },
    {
     "data": {
      "application/vnd.jupyter.widget-view+json": {
       "model_id": "1f7702d672e94b9881c1097063199157",
       "version_major": 2,
       "version_minor": 0
      },
      "text/plain": [
       "  0%|          | 0/4 [00:00<?, ?it/s]"
      ]
     },
     "metadata": {},
     "output_type": "display_data"
    },
    {
     "name": "stderr",
     "output_type": "stream",
     "text": [
      "10:36:22 - cmdstanpy - INFO - Chain [1] start processing\n",
      "10:36:23 - cmdstanpy - INFO - Chain [1] done processing\n",
      "10:36:23 - cmdstanpy - INFO - Chain [1] start processing\n",
      "10:36:23 - cmdstanpy - INFO - Chain [1] done processing\n",
      "10:36:24 - cmdstanpy - INFO - Chain [1] start processing\n",
      "10:36:24 - cmdstanpy - INFO - Chain [1] done processing\n",
      "10:36:25 - cmdstanpy - INFO - Chain [1] start processing\n",
      "10:36:25 - cmdstanpy - INFO - Chain [1] done processing\n"
     ]
    },
    {
     "name": "stdout",
     "output_type": "stream",
     "text": [
      "    changepoint_prior_scale  seasonality_prior_scale  holidays_prior_scale  \\\n",
      "0                      0.12                    0.011                 0.005   \n",
      "1                      0.12                    0.011                 0.006   \n",
      "2                      0.12                    0.011                 0.007   \n",
      "3                      0.12                    0.011                 0.008   \n",
      "4                      0.12                    0.011                 0.005   \n",
      "..                      ...                      ...                   ...   \n",
      "59                     0.15                    0.011                 0.008   \n",
      "60                     0.15                    0.011                 0.005   \n",
      "61                     0.15                    0.011                 0.006   \n",
      "62                     0.15                    0.011                 0.007   \n",
      "63                     0.15                    0.011                 0.008   \n",
      "\n",
      "        rmse       mse       mae  \n",
      "0   0.042895  0.001840  0.032296  \n",
      "1   0.042895  0.001840  0.032296  \n",
      "2   0.042895  0.001840  0.032296  \n",
      "3   0.042895  0.001840  0.032296  \n",
      "4   0.042895  0.001840  0.032296  \n",
      "..       ...       ...       ...  \n",
      "59  0.042880  0.001839  0.032257  \n",
      "60  0.042880  0.001839  0.032257  \n",
      "61  0.042880  0.001839  0.032257  \n",
      "62  0.042880  0.001839  0.032257  \n",
      "63  0.042880  0.001839  0.032257  \n",
      "\n",
      "[64 rows x 6 columns]\n"
     ]
    }
   ],
   "source": [
    "from prophet import Prophet\n",
    "import itertools\n",
    "import numpy as np\n",
    "import pandas as pd\n",
    "from prophet.diagnostics import cross_validation\n",
    "from prophet.diagnostics import performance_metrics\n",
    "\n",
    "#change param_grid based on prev outcome:\n",
    "#changepoint_prior_scale    0.120000 can possibly be tuned as it is a border value\n",
    "#seasonality_prior_scale    0.011000 satisfied with this value, as it is not a border value\n",
    "#holidays_prior_scale       0.008000 can possibly be tuned as it is a border value\n",
    "#rmse                       0.042895\n",
    "#mse                        0.001840\n",
    "#mae                        0.032296\n",
    "\n",
    "\n",
    "\n",
    "\n",
    "data = pd.read_csv('data.csv')\n",
    "\n",
    "\n",
    "param_grid = {  \n",
    "    'changepoint_prior_scale': [0.12, 0.13, 0.14, 0.15],\n",
    "    'seasonality_prior_scale': [0.011, 0.011, 0.011, 0.011],\n",
    "    'holidays_prior_scale': [0.005, 0.006, 0.007, 0.008],\n",
    "}\n",
    "\n",
    "# Generate all combinations of parameters\n",
    "all_params = [dict(zip(param_grid.keys(), v)) for v in itertools.product(*param_grid.values())]\n",
    "rmses = []  # Store the RMSEs for each params here\n",
    "mse = []\n",
    "mae = []\n",
    "\n",
    "# Use cross validation to evaluate all parameters\n",
    "for params in all_params:\n",
    "    m = Prophet(**params, interval_width=0.9, daily_seasonality=True).fit(data)  # Fit model with given params\n",
    "    df_cv = cross_validation(m, initial='100 days', period='60 days', horizon = '30 days')\n",
    "    df_p = performance_metrics(df_cv, rolling_window=1)\n",
    "    rmses.append(df_p['rmse'].values[0])\n",
    "    mse.append(df_p[\"mse\"].values[0])\n",
    "    mae.append(df_p[\"mae\"].values[0])\n",
    "\n",
    "# Find the best parameters\n",
    "tuning_results = pd.DataFrame(all_params)\n",
    "tuning_results['rmse'] = rmses\n",
    "tuning_results['mse'] = mse\n",
    "tuning_results['mae'] = mae\n",
    "print(tuning_results)\n",
    "\n"
   ]
  },
  {
   "cell_type": "code",
   "execution_count": 2,
   "id": "8d68eb81",
   "metadata": {},
   "outputs": [
    {
     "name": "stdout",
     "output_type": "stream",
     "text": [
      "{'changepoint_prior_scale': 0.15, 'seasonality_prior_scale': 0.011, 'holidays_prior_scale': 0.005}\n"
     ]
    }
   ],
   "source": [
    "best_params = all_params[np.argmin(rmses)]\n",
    "print(best_params)"
   ]
  },
  {
   "cell_type": "code",
   "execution_count": 3,
   "id": "d233438b",
   "metadata": {},
   "outputs": [
    {
     "name": "stdout",
     "output_type": "stream",
     "text": [
      "0.042880387547740415\n"
     ]
    }
   ],
   "source": [
    "print(tuning_results['rmse'].min())"
   ]
  },
  {
   "cell_type": "code",
   "execution_count": 4,
   "id": "80a34dd6",
   "metadata": {},
   "outputs": [
    {
     "name": "stdout",
     "output_type": "stream",
     "text": [
      "[{'changepoint_prior_scale': 0.12, 'seasonality_prior_scale': 0.011, 'holidays_prior_scale': 0.005}, {'changepoint_prior_scale': 0.12, 'seasonality_prior_scale': 0.011, 'holidays_prior_scale': 0.006}, {'changepoint_prior_scale': 0.12, 'seasonality_prior_scale': 0.011, 'holidays_prior_scale': 0.007}, {'changepoint_prior_scale': 0.12, 'seasonality_prior_scale': 0.011, 'holidays_prior_scale': 0.008}, {'changepoint_prior_scale': 0.12, 'seasonality_prior_scale': 0.011, 'holidays_prior_scale': 0.005}, {'changepoint_prior_scale': 0.12, 'seasonality_prior_scale': 0.011, 'holidays_prior_scale': 0.006}, {'changepoint_prior_scale': 0.12, 'seasonality_prior_scale': 0.011, 'holidays_prior_scale': 0.007}, {'changepoint_prior_scale': 0.12, 'seasonality_prior_scale': 0.011, 'holidays_prior_scale': 0.008}, {'changepoint_prior_scale': 0.12, 'seasonality_prior_scale': 0.011, 'holidays_prior_scale': 0.005}, {'changepoint_prior_scale': 0.12, 'seasonality_prior_scale': 0.011, 'holidays_prior_scale': 0.006}, {'changepoint_prior_scale': 0.12, 'seasonality_prior_scale': 0.011, 'holidays_prior_scale': 0.007}, {'changepoint_prior_scale': 0.12, 'seasonality_prior_scale': 0.011, 'holidays_prior_scale': 0.008}, {'changepoint_prior_scale': 0.12, 'seasonality_prior_scale': 0.011, 'holidays_prior_scale': 0.005}, {'changepoint_prior_scale': 0.12, 'seasonality_prior_scale': 0.011, 'holidays_prior_scale': 0.006}, {'changepoint_prior_scale': 0.12, 'seasonality_prior_scale': 0.011, 'holidays_prior_scale': 0.007}, {'changepoint_prior_scale': 0.12, 'seasonality_prior_scale': 0.011, 'holidays_prior_scale': 0.008}, {'changepoint_prior_scale': 0.13, 'seasonality_prior_scale': 0.011, 'holidays_prior_scale': 0.005}, {'changepoint_prior_scale': 0.13, 'seasonality_prior_scale': 0.011, 'holidays_prior_scale': 0.006}, {'changepoint_prior_scale': 0.13, 'seasonality_prior_scale': 0.011, 'holidays_prior_scale': 0.007}, {'changepoint_prior_scale': 0.13, 'seasonality_prior_scale': 0.011, 'holidays_prior_scale': 0.008}, {'changepoint_prior_scale': 0.13, 'seasonality_prior_scale': 0.011, 'holidays_prior_scale': 0.005}, {'changepoint_prior_scale': 0.13, 'seasonality_prior_scale': 0.011, 'holidays_prior_scale': 0.006}, {'changepoint_prior_scale': 0.13, 'seasonality_prior_scale': 0.011, 'holidays_prior_scale': 0.007}, {'changepoint_prior_scale': 0.13, 'seasonality_prior_scale': 0.011, 'holidays_prior_scale': 0.008}, {'changepoint_prior_scale': 0.13, 'seasonality_prior_scale': 0.011, 'holidays_prior_scale': 0.005}, {'changepoint_prior_scale': 0.13, 'seasonality_prior_scale': 0.011, 'holidays_prior_scale': 0.006}, {'changepoint_prior_scale': 0.13, 'seasonality_prior_scale': 0.011, 'holidays_prior_scale': 0.007}, {'changepoint_prior_scale': 0.13, 'seasonality_prior_scale': 0.011, 'holidays_prior_scale': 0.008}, {'changepoint_prior_scale': 0.13, 'seasonality_prior_scale': 0.011, 'holidays_prior_scale': 0.005}, {'changepoint_prior_scale': 0.13, 'seasonality_prior_scale': 0.011, 'holidays_prior_scale': 0.006}, {'changepoint_prior_scale': 0.13, 'seasonality_prior_scale': 0.011, 'holidays_prior_scale': 0.007}, {'changepoint_prior_scale': 0.13, 'seasonality_prior_scale': 0.011, 'holidays_prior_scale': 0.008}, {'changepoint_prior_scale': 0.14, 'seasonality_prior_scale': 0.011, 'holidays_prior_scale': 0.005}, {'changepoint_prior_scale': 0.14, 'seasonality_prior_scale': 0.011, 'holidays_prior_scale': 0.006}, {'changepoint_prior_scale': 0.14, 'seasonality_prior_scale': 0.011, 'holidays_prior_scale': 0.007}, {'changepoint_prior_scale': 0.14, 'seasonality_prior_scale': 0.011, 'holidays_prior_scale': 0.008}, {'changepoint_prior_scale': 0.14, 'seasonality_prior_scale': 0.011, 'holidays_prior_scale': 0.005}, {'changepoint_prior_scale': 0.14, 'seasonality_prior_scale': 0.011, 'holidays_prior_scale': 0.006}, {'changepoint_prior_scale': 0.14, 'seasonality_prior_scale': 0.011, 'holidays_prior_scale': 0.007}, {'changepoint_prior_scale': 0.14, 'seasonality_prior_scale': 0.011, 'holidays_prior_scale': 0.008}, {'changepoint_prior_scale': 0.14, 'seasonality_prior_scale': 0.011, 'holidays_prior_scale': 0.005}, {'changepoint_prior_scale': 0.14, 'seasonality_prior_scale': 0.011, 'holidays_prior_scale': 0.006}, {'changepoint_prior_scale': 0.14, 'seasonality_prior_scale': 0.011, 'holidays_prior_scale': 0.007}, {'changepoint_prior_scale': 0.14, 'seasonality_prior_scale': 0.011, 'holidays_prior_scale': 0.008}, {'changepoint_prior_scale': 0.14, 'seasonality_prior_scale': 0.011, 'holidays_prior_scale': 0.005}, {'changepoint_prior_scale': 0.14, 'seasonality_prior_scale': 0.011, 'holidays_prior_scale': 0.006}, {'changepoint_prior_scale': 0.14, 'seasonality_prior_scale': 0.011, 'holidays_prior_scale': 0.007}, {'changepoint_prior_scale': 0.14, 'seasonality_prior_scale': 0.011, 'holidays_prior_scale': 0.008}, {'changepoint_prior_scale': 0.15, 'seasonality_prior_scale': 0.011, 'holidays_prior_scale': 0.005}, {'changepoint_prior_scale': 0.15, 'seasonality_prior_scale': 0.011, 'holidays_prior_scale': 0.006}, {'changepoint_prior_scale': 0.15, 'seasonality_prior_scale': 0.011, 'holidays_prior_scale': 0.007}, {'changepoint_prior_scale': 0.15, 'seasonality_prior_scale': 0.011, 'holidays_prior_scale': 0.008}, {'changepoint_prior_scale': 0.15, 'seasonality_prior_scale': 0.011, 'holidays_prior_scale': 0.005}, {'changepoint_prior_scale': 0.15, 'seasonality_prior_scale': 0.011, 'holidays_prior_scale': 0.006}, {'changepoint_prior_scale': 0.15, 'seasonality_prior_scale': 0.011, 'holidays_prior_scale': 0.007}, {'changepoint_prior_scale': 0.15, 'seasonality_prior_scale': 0.011, 'holidays_prior_scale': 0.008}, {'changepoint_prior_scale': 0.15, 'seasonality_prior_scale': 0.011, 'holidays_prior_scale': 0.005}, {'changepoint_prior_scale': 0.15, 'seasonality_prior_scale': 0.011, 'holidays_prior_scale': 0.006}, {'changepoint_prior_scale': 0.15, 'seasonality_prior_scale': 0.011, 'holidays_prior_scale': 0.007}, {'changepoint_prior_scale': 0.15, 'seasonality_prior_scale': 0.011, 'holidays_prior_scale': 0.008}, {'changepoint_prior_scale': 0.15, 'seasonality_prior_scale': 0.011, 'holidays_prior_scale': 0.005}, {'changepoint_prior_scale': 0.15, 'seasonality_prior_scale': 0.011, 'holidays_prior_scale': 0.006}, {'changepoint_prior_scale': 0.15, 'seasonality_prior_scale': 0.011, 'holidays_prior_scale': 0.007}, {'changepoint_prior_scale': 0.15, 'seasonality_prior_scale': 0.011, 'holidays_prior_scale': 0.008}]\n"
     ]
    }
   ],
   "source": [
    "print(all_params)"
   ]
  },
  {
   "cell_type": "code",
   "execution_count": 5,
   "id": "b221b7cf",
   "metadata": {},
   "outputs": [
    {
     "name": "stdout",
     "output_type": "stream",
     "text": [
      "0.0018387276362444114\n"
     ]
    }
   ],
   "source": [
    "print(tuning_results[['rmse','mse','mae']].min().min())"
   ]
  },
  {
   "cell_type": "code",
   "execution_count": 6,
   "id": "aa1c06bf",
   "metadata": {},
   "outputs": [],
   "source": [
    "combined_row_value = []\n",
    "\n",
    "for ind in tuning_results.index:\n",
    "    sum_val = tuning_results['rmse'][ind] + tuning_results['mse'][ind] + tuning_results['mae'][ind]\n",
    "    combined_row_value.append(dict(index=ind, sum_val=sum_val))"
   ]
  },
  {
   "cell_type": "code",
   "execution_count": 10,
   "id": "676d9e1d",
   "metadata": {},
   "outputs": [
    {
     "name": "stdout",
     "output_type": "stream",
     "text": [
      "[{'index': 0, 'sum_val': 0.15150974460084043}, {'index': 1, 'sum_val': 0.15150974460084043}, {'index': 2, 'sum_val': 0.15150974460084043}, {'index': 3, 'sum_val': 0.15150974460084043}, {'index': 4, 'sum_val': 0.2179672706947755}, {'index': 5, 'sum_val': 0.2179672706947755}, {'index': 6, 'sum_val': 0.2179672706947755}, {'index': 7, 'sum_val': 0.2179672706947755}, {'index': 8, 'sum_val': 0.21410682801569425}, {'index': 9, 'sum_val': 0.21410682801569425}, {'index': 10, 'sum_val': 0.21410682801569425}, {'index': 11, 'sum_val': 0.21410682801569425}, {'index': 12, 'sum_val': 0.21345217544372647}, {'index': 13, 'sum_val': 0.21345217544372647}, {'index': 14, 'sum_val': 0.21345217544372647}, {'index': 15, 'sum_val': 0.21345217544372647}, {'index': 16, 'sum_val': 0.08466199315451514}, {'index': 17, 'sum_val': 0.08466199315451514}, {'index': 18, 'sum_val': 0.08466199315451514}, {'index': 19, 'sum_val': 0.08466199315451514}, {'index': 20, 'sum_val': 0.0842907807463856}, {'index': 21, 'sum_val': 0.0842907807463856}, {'index': 22, 'sum_val': 0.0842907807463856}, {'index': 23, 'sum_val': 0.0842907807463856}, {'index': 24, 'sum_val': 0.07840032415321918}, {'index': 25, 'sum_val': 0.07840032415321918}, {'index': 26, 'sum_val': 0.07840032415321918}, {'index': 27, 'sum_val': 0.07840032415321918}, {'index': 28, 'sum_val': 0.0783632039966271}, {'index': 29, 'sum_val': 0.0783632039966271}, {'index': 30, 'sum_val': 0.0783632039966271}, {'index': 31, 'sum_val': 0.0783632039966271}, {'index': 32, 'sum_val': 0.07719092734935093}, {'index': 33, 'sum_val': 0.07719092734935093}, {'index': 34, 'sum_val': 0.07719092734935093}, {'index': 35, 'sum_val': 0.07719092734935093}, {'index': 36, 'sum_val': 0.07800443239426716}, {'index': 37, 'sum_val': 0.07800443239426716}, {'index': 38, 'sum_val': 0.07800443239426716}, {'index': 39, 'sum_val': 0.07800443239426716}, {'index': 40, 'sum_val': 0.07795387745658125}, {'index': 41, 'sum_val': 0.07795387745658125}, {'index': 42, 'sum_val': 0.07795387745658125}, {'index': 43, 'sum_val': 0.07795387745658125}, {'index': 44, 'sum_val': 0.07791160776120698}, {'index': 45, 'sum_val': 0.07791160776120698}, {'index': 46, 'sum_val': 0.07791160776120698}, {'index': 47, 'sum_val': 0.07791160776120698}, {'index': 48, 'sum_val': 0.0775507236175168}, {'index': 49, 'sum_val': 0.0775507236175168}, {'index': 50, 'sum_val': 0.0775507236175168}, {'index': 51, 'sum_val': 0.0775507236175168}, {'index': 52, 'sum_val': 0.07873648773080148}, {'index': 53, 'sum_val': 0.07873648773080148}, {'index': 54, 'sum_val': 0.07873648773080148}, {'index': 55, 'sum_val': 0.07873648773080148}, {'index': 56, 'sum_val': 0.07841019048683359}, {'index': 57, 'sum_val': 0.07841019048683359}, {'index': 58, 'sum_val': 0.07841019048683359}, {'index': 59, 'sum_val': 0.07841019048683359}, {'index': 60, 'sum_val': 0.07885171655945532}, {'index': 61, 'sum_val': 0.07885171655945532}, {'index': 62, 'sum_val': 0.07885171655945532}, {'index': 63, 'sum_val': 0.07885171655945532}]\n"
     ]
    }
   ],
   "source": [
    "print(combined_row_value)"
   ]
  },
  {
   "cell_type": "code",
   "execution_count": 7,
   "id": "a031ac53",
   "metadata": {},
   "outputs": [
    {
     "name": "stdout",
     "output_type": "stream",
     "text": [
      "{'index': 48, 'sum_val': 0.07697577228064581}\n"
     ]
    }
   ],
   "source": [
    "print(min(combined_row_value, key=lambda x:x['sum_val']))\n"
   ]
  },
  {
   "cell_type": "code",
   "execution_count": 8,
   "id": "e1cd58b9",
   "metadata": {},
   "outputs": [
    {
     "name": "stdout",
     "output_type": "stream",
     "text": [
      "changepoint_prior_scale    0.150000\n",
      "seasonality_prior_scale    0.011000\n",
      "holidays_prior_scale       0.005000\n",
      "rmse                       0.042880\n",
      "mse                        0.001839\n",
      "mae                        0.032257\n",
      "Name: 48, dtype: float64\n"
     ]
    }
   ],
   "source": [
    "print(tuning_results.loc[48])"
   ]
  },
  {
   "cell_type": "code",
   "execution_count": null,
   "id": "bf2b1a4d",
   "metadata": {},
   "outputs": [],
   "source": []
  },
  {
   "cell_type": "code",
   "execution_count": null,
   "id": "cbc5280a",
   "metadata": {},
   "outputs": [],
   "source": []
  }
 ],
 "metadata": {
  "kernelspec": {
   "display_name": "Python 3 (ipykernel)",
   "language": "python",
   "name": "python3"
  },
  "language_info": {
   "codemirror_mode": {
    "name": "ipython",
    "version": 3
   },
   "file_extension": ".py",
   "mimetype": "text/x-python",
   "name": "python",
   "nbconvert_exporter": "python",
   "pygments_lexer": "ipython3",
   "version": "3.9.12"
  }
 },
 "nbformat": 4,
 "nbformat_minor": 5
}
