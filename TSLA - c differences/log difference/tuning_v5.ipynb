{
 "cells": [
  {
   "cell_type": "code",
   "execution_count": 1,
   "id": "2968028f",
   "metadata": {},
   "outputs": [
    {
     "name": "stderr",
     "output_type": "stream",
     "text": [
      "10:52:46 - cmdstanpy - INFO - Chain [1] start processing\n",
      "10:52:46 - cmdstanpy - INFO - Chain [1] done processing\n"
     ]
    },
    {
     "data": {
      "application/vnd.jupyter.widget-view+json": {
       "model_id": "dba4cc881d3f43cabe0017c373d454c5",
       "version_major": 2,
       "version_minor": 0
      },
      "text/plain": [
       "  0%|          | 0/4 [00:00<?, ?it/s]"
      ]
     },
     "metadata": {},
     "output_type": "display_data"
    },
    {
     "name": "stderr",
     "output_type": "stream",
     "text": [
      "10:52:47 - cmdstanpy - INFO - Chain [1] start processing\n",
      "10:52:47 - cmdstanpy - INFO - Chain [1] done processing\n",
      "10:52:47 - cmdstanpy - INFO - Chain [1] start processing\n",
      "10:52:48 - cmdstanpy - INFO - Chain [1] done processing\n",
      "10:52:48 - cmdstanpy - INFO - Chain [1] start processing\n",
      "10:52:48 - cmdstanpy - INFO - Chain [1] done processing\n",
      "10:52:49 - cmdstanpy - INFO - Chain [1] start processing\n",
      "10:52:49 - cmdstanpy - INFO - Chain [1] done processing\n",
      "10:52:49 - cmdstanpy - INFO - Chain [1] start processing\n",
      "10:52:49 - cmdstanpy - INFO - Chain [1] done processing\n"
     ]
    },
    {
     "data": {
      "application/vnd.jupyter.widget-view+json": {
       "model_id": "b829006d0591419fb42d65185474839e",
       "version_major": 2,
       "version_minor": 0
      },
      "text/plain": [
       "  0%|          | 0/4 [00:00<?, ?it/s]"
      ]
     },
     "metadata": {},
     "output_type": "display_data"
    },
    {
     "name": "stderr",
     "output_type": "stream",
     "text": [
      "10:52:49 - cmdstanpy - INFO - Chain [1] start processing\n",
      "10:52:50 - cmdstanpy - INFO - Chain [1] done processing\n",
      "10:52:50 - cmdstanpy - INFO - Chain [1] start processing\n",
      "10:52:50 - cmdstanpy - INFO - Chain [1] done processing\n",
      "10:52:51 - cmdstanpy - INFO - Chain [1] start processing\n",
      "10:52:51 - cmdstanpy - INFO - Chain [1] done processing\n",
      "10:52:52 - cmdstanpy - INFO - Chain [1] start processing\n",
      "10:52:52 - cmdstanpy - INFO - Chain [1] done processing\n",
      "10:52:53 - cmdstanpy - INFO - Chain [1] start processing\n",
      "10:52:53 - cmdstanpy - INFO - Chain [1] done processing\n"
     ]
    },
    {
     "data": {
      "application/vnd.jupyter.widget-view+json": {
       "model_id": "2340ad3ef99c45b0bdc0247104e45bda",
       "version_major": 2,
       "version_minor": 0
      },
      "text/plain": [
       "  0%|          | 0/4 [00:00<?, ?it/s]"
      ]
     },
     "metadata": {},
     "output_type": "display_data"
    },
    {
     "name": "stderr",
     "output_type": "stream",
     "text": [
      "10:52:53 - cmdstanpy - INFO - Chain [1] start processing\n",
      "10:52:53 - cmdstanpy - INFO - Chain [1] done processing\n",
      "10:52:54 - cmdstanpy - INFO - Chain [1] start processing\n",
      "10:52:54 - cmdstanpy - INFO - Chain [1] done processing\n",
      "10:52:54 - cmdstanpy - INFO - Chain [1] start processing\n",
      "10:52:55 - cmdstanpy - INFO - Chain [1] done processing\n",
      "10:52:55 - cmdstanpy - INFO - Chain [1] start processing\n",
      "10:52:55 - cmdstanpy - INFO - Chain [1] done processing\n",
      "10:52:56 - cmdstanpy - INFO - Chain [1] start processing\n",
      "10:52:56 - cmdstanpy - INFO - Chain [1] done processing\n"
     ]
    },
    {
     "data": {
      "application/vnd.jupyter.widget-view+json": {
       "model_id": "336c163917714f50895022fd9d98fad9",
       "version_major": 2,
       "version_minor": 0
      },
      "text/plain": [
       "  0%|          | 0/4 [00:00<?, ?it/s]"
      ]
     },
     "metadata": {},
     "output_type": "display_data"
    },
    {
     "name": "stderr",
     "output_type": "stream",
     "text": [
      "10:52:56 - cmdstanpy - INFO - Chain [1] start processing\n",
      "10:52:56 - cmdstanpy - INFO - Chain [1] done processing\n",
      "10:52:57 - cmdstanpy - INFO - Chain [1] start processing\n",
      "10:52:57 - cmdstanpy - INFO - Chain [1] done processing\n",
      "10:52:57 - cmdstanpy - INFO - Chain [1] start processing\n",
      "10:52:57 - cmdstanpy - INFO - Chain [1] done processing\n",
      "10:52:58 - cmdstanpy - INFO - Chain [1] start processing\n",
      "10:52:58 - cmdstanpy - INFO - Chain [1] done processing\n",
      "10:52:59 - cmdstanpy - INFO - Chain [1] start processing\n",
      "10:52:59 - cmdstanpy - INFO - Chain [1] done processing\n"
     ]
    },
    {
     "data": {
      "application/vnd.jupyter.widget-view+json": {
       "model_id": "95aed346a7f84abf8408d424ea5085e6",
       "version_major": 2,
       "version_minor": 0
      },
      "text/plain": [
       "  0%|          | 0/4 [00:00<?, ?it/s]"
      ]
     },
     "metadata": {},
     "output_type": "display_data"
    },
    {
     "name": "stderr",
     "output_type": "stream",
     "text": [
      "10:52:59 - cmdstanpy - INFO - Chain [1] start processing\n",
      "10:52:59 - cmdstanpy - INFO - Chain [1] done processing\n",
      "10:53:00 - cmdstanpy - INFO - Chain [1] start processing\n",
      "10:53:00 - cmdstanpy - INFO - Chain [1] done processing\n",
      "10:53:01 - cmdstanpy - INFO - Chain [1] start processing\n",
      "10:53:01 - cmdstanpy - INFO - Chain [1] done processing\n",
      "10:53:01 - cmdstanpy - INFO - Chain [1] start processing\n",
      "10:53:01 - cmdstanpy - INFO - Chain [1] done processing\n",
      "10:53:02 - cmdstanpy - INFO - Chain [1] start processing\n",
      "10:53:02 - cmdstanpy - INFO - Chain [1] done processing\n"
     ]
    },
    {
     "data": {
      "application/vnd.jupyter.widget-view+json": {
       "model_id": "68f63ff7e45a4f789f809044ca312129",
       "version_major": 2,
       "version_minor": 0
      },
      "text/plain": [
       "  0%|          | 0/4 [00:00<?, ?it/s]"
      ]
     },
     "metadata": {},
     "output_type": "display_data"
    },
    {
     "name": "stderr",
     "output_type": "stream",
     "text": [
      "10:53:02 - cmdstanpy - INFO - Chain [1] start processing\n",
      "10:53:02 - cmdstanpy - INFO - Chain [1] done processing\n",
      "10:53:03 - cmdstanpy - INFO - Chain [1] start processing\n",
      "10:53:03 - cmdstanpy - INFO - Chain [1] done processing\n",
      "10:53:03 - cmdstanpy - INFO - Chain [1] start processing\n",
      "10:53:04 - cmdstanpy - INFO - Chain [1] done processing\n",
      "10:53:04 - cmdstanpy - INFO - Chain [1] start processing\n",
      "10:53:04 - cmdstanpy - INFO - Chain [1] done processing\n",
      "10:53:05 - cmdstanpy - INFO - Chain [1] start processing\n",
      "10:53:05 - cmdstanpy - INFO - Chain [1] done processing\n"
     ]
    },
    {
     "data": {
      "application/vnd.jupyter.widget-view+json": {
       "model_id": "9a44caf752ca4172922aad0dcd0b84bc",
       "version_major": 2,
       "version_minor": 0
      },
      "text/plain": [
       "  0%|          | 0/4 [00:00<?, ?it/s]"
      ]
     },
     "metadata": {},
     "output_type": "display_data"
    },
    {
     "name": "stderr",
     "output_type": "stream",
     "text": [
      "10:53:05 - cmdstanpy - INFO - Chain [1] start processing\n",
      "10:53:05 - cmdstanpy - INFO - Chain [1] done processing\n",
      "10:53:06 - cmdstanpy - INFO - Chain [1] start processing\n",
      "10:53:06 - cmdstanpy - INFO - Chain [1] done processing\n",
      "10:53:06 - cmdstanpy - INFO - Chain [1] start processing\n",
      "10:53:06 - cmdstanpy - INFO - Chain [1] done processing\n",
      "10:53:07 - cmdstanpy - INFO - Chain [1] start processing\n",
      "10:53:07 - cmdstanpy - INFO - Chain [1] done processing\n",
      "10:53:08 - cmdstanpy - INFO - Chain [1] start processing\n",
      "10:53:08 - cmdstanpy - INFO - Chain [1] done processing\n"
     ]
    },
    {
     "data": {
      "application/vnd.jupyter.widget-view+json": {
       "model_id": "68d4a2912fea4c89bb8389224ce7a324",
       "version_major": 2,
       "version_minor": 0
      },
      "text/plain": [
       "  0%|          | 0/4 [00:00<?, ?it/s]"
      ]
     },
     "metadata": {},
     "output_type": "display_data"
    },
    {
     "name": "stderr",
     "output_type": "stream",
     "text": [
      "10:53:08 - cmdstanpy - INFO - Chain [1] start processing\n",
      "10:53:09 - cmdstanpy - INFO - Chain [1] done processing\n",
      "10:53:09 - cmdstanpy - INFO - Chain [1] start processing\n",
      "10:53:09 - cmdstanpy - INFO - Chain [1] done processing\n",
      "10:53:10 - cmdstanpy - INFO - Chain [1] start processing\n",
      "10:53:10 - cmdstanpy - INFO - Chain [1] done processing\n",
      "10:53:11 - cmdstanpy - INFO - Chain [1] start processing\n",
      "10:53:11 - cmdstanpy - INFO - Chain [1] done processing\n",
      "10:53:11 - cmdstanpy - INFO - Chain [1] start processing\n",
      "10:53:11 - cmdstanpy - INFO - Chain [1] done processing\n"
     ]
    },
    {
     "data": {
      "application/vnd.jupyter.widget-view+json": {
       "model_id": "97bae351d1154ca793844990b3257ab2",
       "version_major": 2,
       "version_minor": 0
      },
      "text/plain": [
       "  0%|          | 0/4 [00:00<?, ?it/s]"
      ]
     },
     "metadata": {},
     "output_type": "display_data"
    },
    {
     "name": "stderr",
     "output_type": "stream",
     "text": [
      "10:53:11 - cmdstanpy - INFO - Chain [1] start processing\n",
      "10:53:12 - cmdstanpy - INFO - Chain [1] done processing\n",
      "10:53:12 - cmdstanpy - INFO - Chain [1] start processing\n",
      "10:53:12 - cmdstanpy - INFO - Chain [1] done processing\n",
      "10:53:13 - cmdstanpy - INFO - Chain [1] start processing\n",
      "10:53:13 - cmdstanpy - INFO - Chain [1] done processing\n",
      "10:53:14 - cmdstanpy - INFO - Chain [1] start processing\n",
      "10:53:14 - cmdstanpy - INFO - Chain [1] done processing\n",
      "10:53:15 - cmdstanpy - INFO - Chain [1] start processing\n",
      "10:53:15 - cmdstanpy - INFO - Chain [1] done processing\n"
     ]
    },
    {
     "data": {
      "application/vnd.jupyter.widget-view+json": {
       "model_id": "2512e27155ca4056bb358d49c86a41c8",
       "version_major": 2,
       "version_minor": 0
      },
      "text/plain": [
       "  0%|          | 0/4 [00:00<?, ?it/s]"
      ]
     },
     "metadata": {},
     "output_type": "display_data"
    },
    {
     "name": "stderr",
     "output_type": "stream",
     "text": [
      "10:53:15 - cmdstanpy - INFO - Chain [1] start processing\n",
      "10:53:15 - cmdstanpy - INFO - Chain [1] done processing\n",
      "10:53:16 - cmdstanpy - INFO - Chain [1] start processing\n",
      "10:53:16 - cmdstanpy - INFO - Chain [1] done processing\n",
      "10:53:17 - cmdstanpy - INFO - Chain [1] start processing\n",
      "10:53:17 - cmdstanpy - INFO - Chain [1] done processing\n",
      "10:53:18 - cmdstanpy - INFO - Chain [1] start processing\n",
      "10:53:18 - cmdstanpy - INFO - Chain [1] done processing\n",
      "10:53:19 - cmdstanpy - INFO - Chain [1] start processing\n",
      "10:53:19 - cmdstanpy - INFO - Chain [1] done processing\n"
     ]
    },
    {
     "data": {
      "application/vnd.jupyter.widget-view+json": {
       "model_id": "61399888ae0344f784cbe6fc91765c63",
       "version_major": 2,
       "version_minor": 0
      },
      "text/plain": [
       "  0%|          | 0/4 [00:00<?, ?it/s]"
      ]
     },
     "metadata": {},
     "output_type": "display_data"
    },
    {
     "name": "stderr",
     "output_type": "stream",
     "text": [
      "10:53:19 - cmdstanpy - INFO - Chain [1] start processing\n",
      "10:53:19 - cmdstanpy - INFO - Chain [1] done processing\n",
      "10:53:20 - cmdstanpy - INFO - Chain [1] start processing\n",
      "10:53:20 - cmdstanpy - INFO - Chain [1] done processing\n",
      "10:53:21 - cmdstanpy - INFO - Chain [1] start processing\n",
      "10:53:21 - cmdstanpy - INFO - Chain [1] done processing\n",
      "10:53:22 - cmdstanpy - INFO - Chain [1] start processing\n",
      "10:53:22 - cmdstanpy - INFO - Chain [1] done processing\n",
      "10:53:23 - cmdstanpy - INFO - Chain [1] start processing\n",
      "10:53:23 - cmdstanpy - INFO - Chain [1] done processing\n"
     ]
    },
    {
     "data": {
      "application/vnd.jupyter.widget-view+json": {
       "model_id": "83fa79552bbd4cd08a1161bfd8ae313f",
       "version_major": 2,
       "version_minor": 0
      },
      "text/plain": [
       "  0%|          | 0/4 [00:00<?, ?it/s]"
      ]
     },
     "metadata": {},
     "output_type": "display_data"
    },
    {
     "name": "stderr",
     "output_type": "stream",
     "text": [
      "10:53:23 - cmdstanpy - INFO - Chain [1] start processing\n",
      "10:53:23 - cmdstanpy - INFO - Chain [1] done processing\n",
      "10:53:24 - cmdstanpy - INFO - Chain [1] start processing\n",
      "10:53:24 - cmdstanpy - INFO - Chain [1] done processing\n",
      "10:53:24 - cmdstanpy - INFO - Chain [1] start processing\n",
      "10:53:24 - cmdstanpy - INFO - Chain [1] done processing\n",
      "10:53:25 - cmdstanpy - INFO - Chain [1] start processing\n",
      "10:53:25 - cmdstanpy - INFO - Chain [1] done processing\n",
      "10:53:26 - cmdstanpy - INFO - Chain [1] start processing\n",
      "10:53:26 - cmdstanpy - INFO - Chain [1] done processing\n"
     ]
    },
    {
     "data": {
      "application/vnd.jupyter.widget-view+json": {
       "model_id": "1a536ad9d02b4ce5be712a8a21255cf5",
       "version_major": 2,
       "version_minor": 0
      },
      "text/plain": [
       "  0%|          | 0/4 [00:00<?, ?it/s]"
      ]
     },
     "metadata": {},
     "output_type": "display_data"
    },
    {
     "name": "stderr",
     "output_type": "stream",
     "text": [
      "10:53:26 - cmdstanpy - INFO - Chain [1] start processing\n",
      "10:53:26 - cmdstanpy - INFO - Chain [1] done processing\n",
      "10:53:27 - cmdstanpy - INFO - Chain [1] start processing\n",
      "10:53:27 - cmdstanpy - INFO - Chain [1] done processing\n",
      "10:53:28 - cmdstanpy - INFO - Chain [1] start processing\n",
      "10:53:28 - cmdstanpy - INFO - Chain [1] done processing\n",
      "10:53:28 - cmdstanpy - INFO - Chain [1] start processing\n",
      "10:53:28 - cmdstanpy - INFO - Chain [1] done processing\n",
      "10:53:29 - cmdstanpy - INFO - Chain [1] start processing\n",
      "10:53:29 - cmdstanpy - INFO - Chain [1] done processing\n"
     ]
    },
    {
     "data": {
      "application/vnd.jupyter.widget-view+json": {
       "model_id": "b163f1ffb84140319af156dd35a2e324",
       "version_major": 2,
       "version_minor": 0
      },
      "text/plain": [
       "  0%|          | 0/4 [00:00<?, ?it/s]"
      ]
     },
     "metadata": {},
     "output_type": "display_data"
    },
    {
     "name": "stderr",
     "output_type": "stream",
     "text": [
      "10:53:29 - cmdstanpy - INFO - Chain [1] start processing\n",
      "10:53:29 - cmdstanpy - INFO - Chain [1] done processing\n",
      "10:53:30 - cmdstanpy - INFO - Chain [1] start processing\n",
      "10:53:30 - cmdstanpy - INFO - Chain [1] done processing\n",
      "10:53:31 - cmdstanpy - INFO - Chain [1] start processing\n",
      "10:53:31 - cmdstanpy - INFO - Chain [1] done processing\n",
      "10:53:31 - cmdstanpy - INFO - Chain [1] start processing\n",
      "10:53:31 - cmdstanpy - INFO - Chain [1] done processing\n",
      "10:53:32 - cmdstanpy - INFO - Chain [1] start processing\n",
      "10:53:32 - cmdstanpy - INFO - Chain [1] done processing\n"
     ]
    },
    {
     "data": {
      "application/vnd.jupyter.widget-view+json": {
       "model_id": "5615796824a84691b03a25a760427989",
       "version_major": 2,
       "version_minor": 0
      },
      "text/plain": [
       "  0%|          | 0/4 [00:00<?, ?it/s]"
      ]
     },
     "metadata": {},
     "output_type": "display_data"
    },
    {
     "name": "stderr",
     "output_type": "stream",
     "text": [
      "10:53:32 - cmdstanpy - INFO - Chain [1] start processing\n",
      "10:53:32 - cmdstanpy - INFO - Chain [1] done processing\n",
      "10:53:33 - cmdstanpy - INFO - Chain [1] start processing\n",
      "10:53:33 - cmdstanpy - INFO - Chain [1] done processing\n",
      "10:53:34 - cmdstanpy - INFO - Chain [1] start processing\n",
      "10:53:34 - cmdstanpy - INFO - Chain [1] done processing\n",
      "10:53:34 - cmdstanpy - INFO - Chain [1] start processing\n",
      "10:53:34 - cmdstanpy - INFO - Chain [1] done processing\n",
      "10:53:35 - cmdstanpy - INFO - Chain [1] start processing\n",
      "10:53:35 - cmdstanpy - INFO - Chain [1] done processing\n"
     ]
    },
    {
     "data": {
      "application/vnd.jupyter.widget-view+json": {
       "model_id": "7fa34f2aae0e49ff94a5d6a767c72c48",
       "version_major": 2,
       "version_minor": 0
      },
      "text/plain": [
       "  0%|          | 0/4 [00:00<?, ?it/s]"
      ]
     },
     "metadata": {},
     "output_type": "display_data"
    },
    {
     "name": "stderr",
     "output_type": "stream",
     "text": [
      "10:53:35 - cmdstanpy - INFO - Chain [1] start processing\n",
      "10:53:35 - cmdstanpy - INFO - Chain [1] done processing\n",
      "10:53:36 - cmdstanpy - INFO - Chain [1] start processing\n",
      "10:53:36 - cmdstanpy - INFO - Chain [1] done processing\n",
      "10:53:37 - cmdstanpy - INFO - Chain [1] start processing\n",
      "10:53:37 - cmdstanpy - INFO - Chain [1] done processing\n",
      "10:53:37 - cmdstanpy - INFO - Chain [1] start processing\n",
      "10:53:37 - cmdstanpy - INFO - Chain [1] done processing\n",
      "10:53:38 - cmdstanpy - INFO - Chain [1] start processing\n",
      "10:53:38 - cmdstanpy - INFO - Chain [1] done processing\n"
     ]
    },
    {
     "data": {
      "application/vnd.jupyter.widget-view+json": {
       "model_id": "07b2d7487a40494bb020058ffea6301e",
       "version_major": 2,
       "version_minor": 0
      },
      "text/plain": [
       "  0%|          | 0/4 [00:00<?, ?it/s]"
      ]
     },
     "metadata": {},
     "output_type": "display_data"
    },
    {
     "name": "stderr",
     "output_type": "stream",
     "text": [
      "10:53:38 - cmdstanpy - INFO - Chain [1] start processing\n",
      "10:53:38 - cmdstanpy - INFO - Chain [1] done processing\n",
      "10:53:39 - cmdstanpy - INFO - Chain [1] start processing\n",
      "10:53:39 - cmdstanpy - INFO - Chain [1] done processing\n",
      "10:53:40 - cmdstanpy - INFO - Chain [1] start processing\n",
      "10:53:40 - cmdstanpy - INFO - Chain [1] done processing\n",
      "10:53:40 - cmdstanpy - INFO - Chain [1] start processing\n",
      "10:53:40 - cmdstanpy - INFO - Chain [1] done processing\n",
      "10:53:41 - cmdstanpy - INFO - Chain [1] start processing\n",
      "10:53:41 - cmdstanpy - INFO - Chain [1] done processing\n"
     ]
    },
    {
     "data": {
      "application/vnd.jupyter.widget-view+json": {
       "model_id": "da24a723ddc44fdbb202b77ddbfb3978",
       "version_major": 2,
       "version_minor": 0
      },
      "text/plain": [
       "  0%|          | 0/4 [00:00<?, ?it/s]"
      ]
     },
     "metadata": {},
     "output_type": "display_data"
    },
    {
     "name": "stderr",
     "output_type": "stream",
     "text": [
      "10:53:41 - cmdstanpy - INFO - Chain [1] start processing\n",
      "10:53:41 - cmdstanpy - INFO - Chain [1] done processing\n",
      "10:53:42 - cmdstanpy - INFO - Chain [1] start processing\n",
      "10:53:42 - cmdstanpy - INFO - Chain [1] done processing\n",
      "10:53:43 - cmdstanpy - INFO - Chain [1] start processing\n",
      "10:53:43 - cmdstanpy - INFO - Chain [1] done processing\n",
      "10:53:43 - cmdstanpy - INFO - Chain [1] start processing\n",
      "10:53:43 - cmdstanpy - INFO - Chain [1] done processing\n",
      "10:53:44 - cmdstanpy - INFO - Chain [1] start processing\n",
      "10:53:44 - cmdstanpy - INFO - Chain [1] done processing\n"
     ]
    },
    {
     "data": {
      "application/vnd.jupyter.widget-view+json": {
       "model_id": "5e108e2facbc4053809cab4a5265573c",
       "version_major": 2,
       "version_minor": 0
      },
      "text/plain": [
       "  0%|          | 0/4 [00:00<?, ?it/s]"
      ]
     },
     "metadata": {},
     "output_type": "display_data"
    },
    {
     "name": "stderr",
     "output_type": "stream",
     "text": [
      "10:53:44 - cmdstanpy - INFO - Chain [1] start processing\n",
      "10:53:44 - cmdstanpy - INFO - Chain [1] done processing\n",
      "10:53:45 - cmdstanpy - INFO - Chain [1] start processing\n",
      "10:53:45 - cmdstanpy - INFO - Chain [1] done processing\n",
      "10:53:46 - cmdstanpy - INFO - Chain [1] start processing\n",
      "10:53:46 - cmdstanpy - INFO - Chain [1] done processing\n",
      "10:53:47 - cmdstanpy - INFO - Chain [1] start processing\n",
      "10:53:47 - cmdstanpy - INFO - Chain [1] done processing\n",
      "10:53:47 - cmdstanpy - INFO - Chain [1] start processing\n",
      "10:53:47 - cmdstanpy - INFO - Chain [1] done processing\n"
     ]
    },
    {
     "data": {
      "application/vnd.jupyter.widget-view+json": {
       "model_id": "acfc6133c170432080991a7315805a93",
       "version_major": 2,
       "version_minor": 0
      },
      "text/plain": [
       "  0%|          | 0/4 [00:00<?, ?it/s]"
      ]
     },
     "metadata": {},
     "output_type": "display_data"
    },
    {
     "name": "stderr",
     "output_type": "stream",
     "text": [
      "10:53:47 - cmdstanpy - INFO - Chain [1] start processing\n",
      "10:53:48 - cmdstanpy - INFO - Chain [1] done processing\n",
      "10:53:49 - cmdstanpy - INFO - Chain [1] start processing\n",
      "10:53:49 - cmdstanpy - INFO - Chain [1] done processing\n",
      "10:53:49 - cmdstanpy - INFO - Chain [1] start processing\n",
      "10:53:49 - cmdstanpy - INFO - Chain [1] done processing\n",
      "10:53:50 - cmdstanpy - INFO - Chain [1] start processing\n",
      "10:53:50 - cmdstanpy - INFO - Chain [1] done processing\n",
      "10:53:51 - cmdstanpy - INFO - Chain [1] start processing\n",
      "10:53:51 - cmdstanpy - INFO - Chain [1] done processing\n"
     ]
    },
    {
     "data": {
      "application/vnd.jupyter.widget-view+json": {
       "model_id": "0bc233cce9c24c7580c578ea9eae519b",
       "version_major": 2,
       "version_minor": 0
      },
      "text/plain": [
       "  0%|          | 0/4 [00:00<?, ?it/s]"
      ]
     },
     "metadata": {},
     "output_type": "display_data"
    },
    {
     "name": "stderr",
     "output_type": "stream",
     "text": [
      "10:53:51 - cmdstanpy - INFO - Chain [1] start processing\n",
      "10:53:51 - cmdstanpy - INFO - Chain [1] done processing\n",
      "10:53:52 - cmdstanpy - INFO - Chain [1] start processing\n",
      "10:53:52 - cmdstanpy - INFO - Chain [1] done processing\n",
      "10:53:53 - cmdstanpy - INFO - Chain [1] start processing\n",
      "10:53:53 - cmdstanpy - INFO - Chain [1] done processing\n",
      "10:53:54 - cmdstanpy - INFO - Chain [1] start processing\n",
      "10:53:54 - cmdstanpy - INFO - Chain [1] done processing\n",
      "10:53:55 - cmdstanpy - INFO - Chain [1] start processing\n",
      "10:53:55 - cmdstanpy - INFO - Chain [1] done processing\n"
     ]
    },
    {
     "data": {
      "application/vnd.jupyter.widget-view+json": {
       "model_id": "d5ffefcdd0f049beaffe88cd6224e7fa",
       "version_major": 2,
       "version_minor": 0
      },
      "text/plain": [
       "  0%|          | 0/4 [00:00<?, ?it/s]"
      ]
     },
     "metadata": {},
     "output_type": "display_data"
    },
    {
     "name": "stderr",
     "output_type": "stream",
     "text": [
      "10:53:55 - cmdstanpy - INFO - Chain [1] start processing\n",
      "10:53:55 - cmdstanpy - INFO - Chain [1] done processing\n",
      "10:53:56 - cmdstanpy - INFO - Chain [1] start processing\n",
      "10:53:56 - cmdstanpy - INFO - Chain [1] done processing\n",
      "10:53:56 - cmdstanpy - INFO - Chain [1] start processing\n",
      "10:53:56 - cmdstanpy - INFO - Chain [1] done processing\n",
      "10:53:57 - cmdstanpy - INFO - Chain [1] start processing\n",
      "10:53:57 - cmdstanpy - INFO - Chain [1] done processing\n",
      "10:53:58 - cmdstanpy - INFO - Chain [1] start processing\n",
      "10:53:58 - cmdstanpy - INFO - Chain [1] done processing\n"
     ]
    },
    {
     "data": {
      "application/vnd.jupyter.widget-view+json": {
       "model_id": "69ea99df7d084a789803c8ad18fa9911",
       "version_major": 2,
       "version_minor": 0
      },
      "text/plain": [
       "  0%|          | 0/4 [00:00<?, ?it/s]"
      ]
     },
     "metadata": {},
     "output_type": "display_data"
    },
    {
     "name": "stderr",
     "output_type": "stream",
     "text": [
      "10:53:58 - cmdstanpy - INFO - Chain [1] start processing\n",
      "10:53:58 - cmdstanpy - INFO - Chain [1] done processing\n",
      "10:53:59 - cmdstanpy - INFO - Chain [1] start processing\n",
      "10:53:59 - cmdstanpy - INFO - Chain [1] done processing\n",
      "10:53:59 - cmdstanpy - INFO - Chain [1] start processing\n",
      "10:53:59 - cmdstanpy - INFO - Chain [1] done processing\n",
      "10:54:00 - cmdstanpy - INFO - Chain [1] start processing\n",
      "10:54:00 - cmdstanpy - INFO - Chain [1] done processing\n",
      "10:54:01 - cmdstanpy - INFO - Chain [1] start processing\n",
      "10:54:01 - cmdstanpy - INFO - Chain [1] done processing\n"
     ]
    },
    {
     "data": {
      "application/vnd.jupyter.widget-view+json": {
       "model_id": "57f79a631512494aa8f8222cc13d3b9f",
       "version_major": 2,
       "version_minor": 0
      },
      "text/plain": [
       "  0%|          | 0/4 [00:00<?, ?it/s]"
      ]
     },
     "metadata": {},
     "output_type": "display_data"
    },
    {
     "name": "stderr",
     "output_type": "stream",
     "text": [
      "10:54:01 - cmdstanpy - INFO - Chain [1] start processing\n",
      "10:54:01 - cmdstanpy - INFO - Chain [1] done processing\n",
      "10:54:02 - cmdstanpy - INFO - Chain [1] start processing\n",
      "10:54:02 - cmdstanpy - INFO - Chain [1] done processing\n",
      "10:54:03 - cmdstanpy - INFO - Chain [1] start processing\n",
      "10:54:03 - cmdstanpy - INFO - Chain [1] done processing\n",
      "10:54:04 - cmdstanpy - INFO - Chain [1] start processing\n",
      "10:54:04 - cmdstanpy - INFO - Chain [1] done processing\n",
      "10:54:04 - cmdstanpy - INFO - Chain [1] start processing\n",
      "10:54:04 - cmdstanpy - INFO - Chain [1] done processing\n"
     ]
    },
    {
     "data": {
      "application/vnd.jupyter.widget-view+json": {
       "model_id": "eb383518250249e78f4954bd47d9c7e5",
       "version_major": 2,
       "version_minor": 0
      },
      "text/plain": [
       "  0%|          | 0/4 [00:00<?, ?it/s]"
      ]
     },
     "metadata": {},
     "output_type": "display_data"
    },
    {
     "name": "stderr",
     "output_type": "stream",
     "text": [
      "10:54:04 - cmdstanpy - INFO - Chain [1] start processing\n",
      "10:54:05 - cmdstanpy - INFO - Chain [1] done processing\n",
      "10:54:05 - cmdstanpy - INFO - Chain [1] start processing\n",
      "10:54:05 - cmdstanpy - INFO - Chain [1] done processing\n",
      "10:54:06 - cmdstanpy - INFO - Chain [1] start processing\n",
      "10:54:06 - cmdstanpy - INFO - Chain [1] done processing\n",
      "10:54:07 - cmdstanpy - INFO - Chain [1] start processing\n",
      "10:54:07 - cmdstanpy - INFO - Chain [1] done processing\n",
      "10:54:08 - cmdstanpy - INFO - Chain [1] start processing\n",
      "10:54:08 - cmdstanpy - INFO - Chain [1] done processing\n"
     ]
    },
    {
     "data": {
      "application/vnd.jupyter.widget-view+json": {
       "model_id": "3401a917984f4774947bfcfda4b7d2cf",
       "version_major": 2,
       "version_minor": 0
      },
      "text/plain": [
       "  0%|          | 0/4 [00:00<?, ?it/s]"
      ]
     },
     "metadata": {},
     "output_type": "display_data"
    },
    {
     "name": "stderr",
     "output_type": "stream",
     "text": [
      "10:54:08 - cmdstanpy - INFO - Chain [1] start processing\n",
      "10:54:08 - cmdstanpy - INFO - Chain [1] done processing\n",
      "10:54:09 - cmdstanpy - INFO - Chain [1] start processing\n",
      "10:54:09 - cmdstanpy - INFO - Chain [1] done processing\n",
      "10:54:10 - cmdstanpy - INFO - Chain [1] start processing\n",
      "10:54:10 - cmdstanpy - INFO - Chain [1] done processing\n",
      "10:54:10 - cmdstanpy - INFO - Chain [1] start processing\n",
      "10:54:11 - cmdstanpy - INFO - Chain [1] done processing\n",
      "10:54:11 - cmdstanpy - INFO - Chain [1] start processing\n",
      "10:54:11 - cmdstanpy - INFO - Chain [1] done processing\n"
     ]
    },
    {
     "data": {
      "application/vnd.jupyter.widget-view+json": {
       "model_id": "b2d029601c1d48808a5e28d530d23aeb",
       "version_major": 2,
       "version_minor": 0
      },
      "text/plain": [
       "  0%|          | 0/4 [00:00<?, ?it/s]"
      ]
     },
     "metadata": {},
     "output_type": "display_data"
    },
    {
     "name": "stderr",
     "output_type": "stream",
     "text": [
      "10:54:11 - cmdstanpy - INFO - Chain [1] start processing\n",
      "10:54:12 - cmdstanpy - INFO - Chain [1] done processing\n",
      "10:54:12 - cmdstanpy - INFO - Chain [1] start processing\n",
      "10:54:12 - cmdstanpy - INFO - Chain [1] done processing\n",
      "10:54:13 - cmdstanpy - INFO - Chain [1] start processing\n",
      "10:54:13 - cmdstanpy - INFO - Chain [1] done processing\n",
      "10:54:14 - cmdstanpy - INFO - Chain [1] start processing\n",
      "10:54:14 - cmdstanpy - INFO - Chain [1] done processing\n",
      "10:54:14 - cmdstanpy - INFO - Chain [1] start processing\n",
      "10:54:14 - cmdstanpy - INFO - Chain [1] done processing\n"
     ]
    },
    {
     "data": {
      "application/vnd.jupyter.widget-view+json": {
       "model_id": "10f5da1858b44690b96e55fbbb43d322",
       "version_major": 2,
       "version_minor": 0
      },
      "text/plain": [
       "  0%|          | 0/4 [00:00<?, ?it/s]"
      ]
     },
     "metadata": {},
     "output_type": "display_data"
    },
    {
     "name": "stderr",
     "output_type": "stream",
     "text": [
      "10:54:15 - cmdstanpy - INFO - Chain [1] start processing\n",
      "10:54:15 - cmdstanpy - INFO - Chain [1] done processing\n",
      "10:54:16 - cmdstanpy - INFO - Chain [1] start processing\n",
      "10:54:16 - cmdstanpy - INFO - Chain [1] done processing\n",
      "10:54:16 - cmdstanpy - INFO - Chain [1] start processing\n",
      "10:54:16 - cmdstanpy - INFO - Chain [1] done processing\n",
      "10:54:17 - cmdstanpy - INFO - Chain [1] start processing\n",
      "10:54:17 - cmdstanpy - INFO - Chain [1] done processing\n",
      "10:54:18 - cmdstanpy - INFO - Chain [1] start processing\n",
      "10:54:18 - cmdstanpy - INFO - Chain [1] done processing\n"
     ]
    },
    {
     "data": {
      "application/vnd.jupyter.widget-view+json": {
       "model_id": "05432598849d4b66b08b690c921e6386",
       "version_major": 2,
       "version_minor": 0
      },
      "text/plain": [
       "  0%|          | 0/4 [00:00<?, ?it/s]"
      ]
     },
     "metadata": {},
     "output_type": "display_data"
    },
    {
     "name": "stderr",
     "output_type": "stream",
     "text": [
      "10:54:18 - cmdstanpy - INFO - Chain [1] start processing\n",
      "10:54:18 - cmdstanpy - INFO - Chain [1] done processing\n",
      "10:54:19 - cmdstanpy - INFO - Chain [1] start processing\n",
      "10:54:19 - cmdstanpy - INFO - Chain [1] done processing\n",
      "10:54:20 - cmdstanpy - INFO - Chain [1] start processing\n",
      "10:54:20 - cmdstanpy - INFO - Chain [1] done processing\n",
      "10:54:21 - cmdstanpy - INFO - Chain [1] start processing\n",
      "10:54:21 - cmdstanpy - INFO - Chain [1] done processing\n",
      "10:54:22 - cmdstanpy - INFO - Chain [1] start processing\n",
      "10:54:22 - cmdstanpy - INFO - Chain [1] done processing\n"
     ]
    },
    {
     "data": {
      "application/vnd.jupyter.widget-view+json": {
       "model_id": "60dabba650ff4de1a7049c1ae097d30b",
       "version_major": 2,
       "version_minor": 0
      },
      "text/plain": [
       "  0%|          | 0/4 [00:00<?, ?it/s]"
      ]
     },
     "metadata": {},
     "output_type": "display_data"
    },
    {
     "name": "stderr",
     "output_type": "stream",
     "text": [
      "10:54:22 - cmdstanpy - INFO - Chain [1] start processing\n",
      "10:54:22 - cmdstanpy - INFO - Chain [1] done processing\n",
      "10:54:23 - cmdstanpy - INFO - Chain [1] start processing\n",
      "10:54:23 - cmdstanpy - INFO - Chain [1] done processing\n",
      "10:54:23 - cmdstanpy - INFO - Chain [1] start processing\n",
      "10:54:23 - cmdstanpy - INFO - Chain [1] done processing\n",
      "10:54:24 - cmdstanpy - INFO - Chain [1] start processing\n",
      "10:54:24 - cmdstanpy - INFO - Chain [1] done processing\n",
      "10:54:25 - cmdstanpy - INFO - Chain [1] start processing\n",
      "10:54:25 - cmdstanpy - INFO - Chain [1] done processing\n"
     ]
    },
    {
     "data": {
      "application/vnd.jupyter.widget-view+json": {
       "model_id": "370017df1ae44dd4a78732df4e4bbd07",
       "version_major": 2,
       "version_minor": 0
      },
      "text/plain": [
       "  0%|          | 0/4 [00:00<?, ?it/s]"
      ]
     },
     "metadata": {},
     "output_type": "display_data"
    },
    {
     "name": "stderr",
     "output_type": "stream",
     "text": [
      "10:54:25 - cmdstanpy - INFO - Chain [1] start processing\n",
      "10:54:25 - cmdstanpy - INFO - Chain [1] done processing\n",
      "10:54:27 - cmdstanpy - INFO - Chain [1] start processing\n",
      "10:54:27 - cmdstanpy - INFO - Chain [1] done processing\n",
      "10:54:27 - cmdstanpy - INFO - Chain [1] start processing\n",
      "10:54:28 - cmdstanpy - INFO - Chain [1] done processing\n",
      "10:54:29 - cmdstanpy - INFO - Chain [1] start processing\n",
      "10:54:29 - cmdstanpy - INFO - Chain [1] done processing\n",
      "10:54:29 - cmdstanpy - INFO - Chain [1] start processing\n",
      "10:54:29 - cmdstanpy - INFO - Chain [1] done processing\n"
     ]
    },
    {
     "data": {
      "application/vnd.jupyter.widget-view+json": {
       "model_id": "c4bc5d77078a405490b72e403bad4a10",
       "version_major": 2,
       "version_minor": 0
      },
      "text/plain": [
       "  0%|          | 0/4 [00:00<?, ?it/s]"
      ]
     },
     "metadata": {},
     "output_type": "display_data"
    },
    {
     "name": "stderr",
     "output_type": "stream",
     "text": [
      "10:54:29 - cmdstanpy - INFO - Chain [1] start processing\n",
      "10:54:30 - cmdstanpy - INFO - Chain [1] done processing\n",
      "10:54:30 - cmdstanpy - INFO - Chain [1] start processing\n",
      "10:54:30 - cmdstanpy - INFO - Chain [1] done processing\n",
      "10:54:31 - cmdstanpy - INFO - Chain [1] start processing\n",
      "10:54:31 - cmdstanpy - INFO - Chain [1] done processing\n",
      "10:54:32 - cmdstanpy - INFO - Chain [1] start processing\n",
      "10:54:32 - cmdstanpy - INFO - Chain [1] done processing\n",
      "10:54:32 - cmdstanpy - INFO - Chain [1] start processing\n",
      "10:54:32 - cmdstanpy - INFO - Chain [1] done processing\n"
     ]
    },
    {
     "data": {
      "application/vnd.jupyter.widget-view+json": {
       "model_id": "25423d8fb37545f38df2c72c279bf07f",
       "version_major": 2,
       "version_minor": 0
      },
      "text/plain": [
       "  0%|          | 0/4 [00:00<?, ?it/s]"
      ]
     },
     "metadata": {},
     "output_type": "display_data"
    },
    {
     "name": "stderr",
     "output_type": "stream",
     "text": [
      "10:54:33 - cmdstanpy - INFO - Chain [1] start processing\n",
      "10:54:33 - cmdstanpy - INFO - Chain [1] done processing\n",
      "10:54:34 - cmdstanpy - INFO - Chain [1] start processing\n",
      "10:54:34 - cmdstanpy - INFO - Chain [1] done processing\n",
      "10:54:34 - cmdstanpy - INFO - Chain [1] start processing\n",
      "10:54:34 - cmdstanpy - INFO - Chain [1] done processing\n",
      "10:54:35 - cmdstanpy - INFO - Chain [1] start processing\n",
      "10:54:35 - cmdstanpy - INFO - Chain [1] done processing\n",
      "10:54:36 - cmdstanpy - INFO - Chain [1] start processing\n",
      "10:54:36 - cmdstanpy - INFO - Chain [1] done processing\n"
     ]
    },
    {
     "data": {
      "application/vnd.jupyter.widget-view+json": {
       "model_id": "4a5a715ffaff4ef6a903fd6a27ba17f5",
       "version_major": 2,
       "version_minor": 0
      },
      "text/plain": [
       "  0%|          | 0/4 [00:00<?, ?it/s]"
      ]
     },
     "metadata": {},
     "output_type": "display_data"
    },
    {
     "name": "stderr",
     "output_type": "stream",
     "text": [
      "10:54:36 - cmdstanpy - INFO - Chain [1] start processing\n",
      "10:54:36 - cmdstanpy - INFO - Chain [1] done processing\n",
      "10:54:37 - cmdstanpy - INFO - Chain [1] start processing\n",
      "10:54:37 - cmdstanpy - INFO - Chain [1] done processing\n",
      "10:54:37 - cmdstanpy - INFO - Chain [1] start processing\n",
      "10:54:37 - cmdstanpy - INFO - Chain [1] done processing\n",
      "10:54:38 - cmdstanpy - INFO - Chain [1] start processing\n",
      "10:54:38 - cmdstanpy - INFO - Chain [1] done processing\n",
      "10:54:39 - cmdstanpy - INFO - Chain [1] start processing\n",
      "10:54:39 - cmdstanpy - INFO - Chain [1] done processing\n"
     ]
    },
    {
     "data": {
      "application/vnd.jupyter.widget-view+json": {
       "model_id": "cb862be66da44bd085a50722068b8d05",
       "version_major": 2,
       "version_minor": 0
      },
      "text/plain": [
       "  0%|          | 0/4 [00:00<?, ?it/s]"
      ]
     },
     "metadata": {},
     "output_type": "display_data"
    },
    {
     "name": "stderr",
     "output_type": "stream",
     "text": [
      "10:54:39 - cmdstanpy - INFO - Chain [1] start processing\n",
      "10:54:39 - cmdstanpy - INFO - Chain [1] done processing\n",
      "10:54:40 - cmdstanpy - INFO - Chain [1] start processing\n",
      "10:54:40 - cmdstanpy - INFO - Chain [1] done processing\n",
      "10:54:41 - cmdstanpy - INFO - Chain [1] start processing\n",
      "10:54:41 - cmdstanpy - INFO - Chain [1] done processing\n",
      "10:54:42 - cmdstanpy - INFO - Chain [1] start processing\n",
      "10:54:42 - cmdstanpy - INFO - Chain [1] done processing\n",
      "10:54:42 - cmdstanpy - INFO - Chain [1] start processing\n",
      "10:54:42 - cmdstanpy - INFO - Chain [1] done processing\n"
     ]
    },
    {
     "data": {
      "application/vnd.jupyter.widget-view+json": {
       "model_id": "f988689f47a74966aaee7b6e5101a8d9",
       "version_major": 2,
       "version_minor": 0
      },
      "text/plain": [
       "  0%|          | 0/4 [00:00<?, ?it/s]"
      ]
     },
     "metadata": {},
     "output_type": "display_data"
    },
    {
     "name": "stderr",
     "output_type": "stream",
     "text": [
      "10:54:42 - cmdstanpy - INFO - Chain [1] start processing\n",
      "10:54:43 - cmdstanpy - INFO - Chain [1] done processing\n",
      "10:54:43 - cmdstanpy - INFO - Chain [1] start processing\n",
      "10:54:43 - cmdstanpy - INFO - Chain [1] done processing\n",
      "10:54:44 - cmdstanpy - INFO - Chain [1] start processing\n",
      "10:54:44 - cmdstanpy - INFO - Chain [1] done processing\n",
      "10:54:45 - cmdstanpy - INFO - Chain [1] start processing\n",
      "10:54:45 - cmdstanpy - INFO - Chain [1] done processing\n",
      "10:54:45 - cmdstanpy - INFO - Chain [1] start processing\n",
      "10:54:45 - cmdstanpy - INFO - Chain [1] done processing\n"
     ]
    },
    {
     "data": {
      "application/vnd.jupyter.widget-view+json": {
       "model_id": "c030e017bc834776bc3695a7d88d8c93",
       "version_major": 2,
       "version_minor": 0
      },
      "text/plain": [
       "  0%|          | 0/4 [00:00<?, ?it/s]"
      ]
     },
     "metadata": {},
     "output_type": "display_data"
    },
    {
     "name": "stderr",
     "output_type": "stream",
     "text": [
      "10:54:46 - cmdstanpy - INFO - Chain [1] start processing\n",
      "10:54:46 - cmdstanpy - INFO - Chain [1] done processing\n",
      "10:54:46 - cmdstanpy - INFO - Chain [1] start processing\n",
      "10:54:46 - cmdstanpy - INFO - Chain [1] done processing\n",
      "10:54:47 - cmdstanpy - INFO - Chain [1] start processing\n",
      "10:54:47 - cmdstanpy - INFO - Chain [1] done processing\n",
      "10:54:48 - cmdstanpy - INFO - Chain [1] start processing\n",
      "10:54:48 - cmdstanpy - INFO - Chain [1] done processing\n",
      "10:54:48 - cmdstanpy - INFO - Chain [1] start processing\n",
      "10:54:48 - cmdstanpy - INFO - Chain [1] done processing\n"
     ]
    },
    {
     "data": {
      "application/vnd.jupyter.widget-view+json": {
       "model_id": "48abbb9c53c24ef3b04067f36c239775",
       "version_major": 2,
       "version_minor": 0
      },
      "text/plain": [
       "  0%|          | 0/4 [00:00<?, ?it/s]"
      ]
     },
     "metadata": {},
     "output_type": "display_data"
    },
    {
     "name": "stderr",
     "output_type": "stream",
     "text": [
      "10:54:48 - cmdstanpy - INFO - Chain [1] start processing\n",
      "10:54:49 - cmdstanpy - INFO - Chain [1] done processing\n",
      "10:54:49 - cmdstanpy - INFO - Chain [1] start processing\n",
      "10:54:49 - cmdstanpy - INFO - Chain [1] done processing\n",
      "10:54:50 - cmdstanpy - INFO - Chain [1] start processing\n",
      "10:54:50 - cmdstanpy - INFO - Chain [1] done processing\n",
      "10:54:51 - cmdstanpy - INFO - Chain [1] start processing\n",
      "10:54:51 - cmdstanpy - INFO - Chain [1] done processing\n",
      "10:54:51 - cmdstanpy - INFO - Chain [1] start processing\n",
      "10:54:51 - cmdstanpy - INFO - Chain [1] done processing\n"
     ]
    },
    {
     "data": {
      "application/vnd.jupyter.widget-view+json": {
       "model_id": "ea29705a3ed54a5d974257c2dbdd3cb3",
       "version_major": 2,
       "version_minor": 0
      },
      "text/plain": [
       "  0%|          | 0/4 [00:00<?, ?it/s]"
      ]
     },
     "metadata": {},
     "output_type": "display_data"
    },
    {
     "name": "stderr",
     "output_type": "stream",
     "text": [
      "10:54:52 - cmdstanpy - INFO - Chain [1] start processing\n",
      "10:54:52 - cmdstanpy - INFO - Chain [1] done processing\n",
      "10:54:52 - cmdstanpy - INFO - Chain [1] start processing\n",
      "10:54:52 - cmdstanpy - INFO - Chain [1] done processing\n",
      "10:54:53 - cmdstanpy - INFO - Chain [1] start processing\n",
      "10:54:53 - cmdstanpy - INFO - Chain [1] done processing\n",
      "10:54:54 - cmdstanpy - INFO - Chain [1] start processing\n",
      "10:54:54 - cmdstanpy - INFO - Chain [1] done processing\n",
      "10:54:54 - cmdstanpy - INFO - Chain [1] start processing\n",
      "10:54:54 - cmdstanpy - INFO - Chain [1] done processing\n"
     ]
    },
    {
     "data": {
      "application/vnd.jupyter.widget-view+json": {
       "model_id": "afddc0b8f7c54fe7a7a2e368abb08360",
       "version_major": 2,
       "version_minor": 0
      },
      "text/plain": [
       "  0%|          | 0/4 [00:00<?, ?it/s]"
      ]
     },
     "metadata": {},
     "output_type": "display_data"
    },
    {
     "name": "stderr",
     "output_type": "stream",
     "text": [
      "10:54:55 - cmdstanpy - INFO - Chain [1] start processing\n",
      "10:54:55 - cmdstanpy - INFO - Chain [1] done processing\n",
      "10:54:55 - cmdstanpy - INFO - Chain [1] start processing\n",
      "10:54:56 - cmdstanpy - INFO - Chain [1] done processing\n",
      "10:54:56 - cmdstanpy - INFO - Chain [1] start processing\n",
      "10:54:56 - cmdstanpy - INFO - Chain [1] done processing\n",
      "10:54:57 - cmdstanpy - INFO - Chain [1] start processing\n",
      "10:54:57 - cmdstanpy - INFO - Chain [1] done processing\n",
      "10:54:57 - cmdstanpy - INFO - Chain [1] start processing\n",
      "10:54:58 - cmdstanpy - INFO - Chain [1] done processing\n"
     ]
    },
    {
     "data": {
      "application/vnd.jupyter.widget-view+json": {
       "model_id": "f0fe2a0a69f5461da14dcfe897e83374",
       "version_major": 2,
       "version_minor": 0
      },
      "text/plain": [
       "  0%|          | 0/4 [00:00<?, ?it/s]"
      ]
     },
     "metadata": {},
     "output_type": "display_data"
    },
    {
     "name": "stderr",
     "output_type": "stream",
     "text": [
      "10:54:58 - cmdstanpy - INFO - Chain [1] start processing\n",
      "10:54:58 - cmdstanpy - INFO - Chain [1] done processing\n",
      "10:54:58 - cmdstanpy - INFO - Chain [1] start processing\n",
      "10:54:59 - cmdstanpy - INFO - Chain [1] done processing\n",
      "10:54:59 - cmdstanpy - INFO - Chain [1] start processing\n",
      "10:54:59 - cmdstanpy - INFO - Chain [1] done processing\n",
      "10:55:00 - cmdstanpy - INFO - Chain [1] start processing\n",
      "10:55:00 - cmdstanpy - INFO - Chain [1] done processing\n",
      "10:55:00 - cmdstanpy - INFO - Chain [1] start processing\n",
      "10:55:00 - cmdstanpy - INFO - Chain [1] done processing\n"
     ]
    },
    {
     "data": {
      "application/vnd.jupyter.widget-view+json": {
       "model_id": "39f0a75e0f3a4e1dbeda99ca1cd7202b",
       "version_major": 2,
       "version_minor": 0
      },
      "text/plain": [
       "  0%|          | 0/4 [00:00<?, ?it/s]"
      ]
     },
     "metadata": {},
     "output_type": "display_data"
    },
    {
     "name": "stderr",
     "output_type": "stream",
     "text": [
      "10:55:01 - cmdstanpy - INFO - Chain [1] start processing\n",
      "10:55:01 - cmdstanpy - INFO - Chain [1] done processing\n",
      "10:55:01 - cmdstanpy - INFO - Chain [1] start processing\n",
      "10:55:01 - cmdstanpy - INFO - Chain [1] done processing\n",
      "10:55:02 - cmdstanpy - INFO - Chain [1] start processing\n",
      "10:55:02 - cmdstanpy - INFO - Chain [1] done processing\n",
      "10:55:03 - cmdstanpy - INFO - Chain [1] start processing\n",
      "10:55:03 - cmdstanpy - INFO - Chain [1] done processing\n",
      "10:55:03 - cmdstanpy - INFO - Chain [1] start processing\n",
      "10:55:03 - cmdstanpy - INFO - Chain [1] done processing\n"
     ]
    },
    {
     "data": {
      "application/vnd.jupyter.widget-view+json": {
       "model_id": "a205718429874852833616a1c6664781",
       "version_major": 2,
       "version_minor": 0
      },
      "text/plain": [
       "  0%|          | 0/4 [00:00<?, ?it/s]"
      ]
     },
     "metadata": {},
     "output_type": "display_data"
    },
    {
     "name": "stderr",
     "output_type": "stream",
     "text": [
      "10:55:03 - cmdstanpy - INFO - Chain [1] start processing\n",
      "10:55:04 - cmdstanpy - INFO - Chain [1] done processing\n",
      "10:55:04 - cmdstanpy - INFO - Chain [1] start processing\n",
      "10:55:04 - cmdstanpy - INFO - Chain [1] done processing\n",
      "10:55:05 - cmdstanpy - INFO - Chain [1] start processing\n",
      "10:55:05 - cmdstanpy - INFO - Chain [1] done processing\n",
      "10:55:06 - cmdstanpy - INFO - Chain [1] start processing\n",
      "10:55:06 - cmdstanpy - INFO - Chain [1] done processing\n",
      "10:55:06 - cmdstanpy - INFO - Chain [1] start processing\n",
      "10:55:06 - cmdstanpy - INFO - Chain [1] done processing\n"
     ]
    },
    {
     "data": {
      "application/vnd.jupyter.widget-view+json": {
       "model_id": "986724a5fd2340af946df023e2557213",
       "version_major": 2,
       "version_minor": 0
      },
      "text/plain": [
       "  0%|          | 0/4 [00:00<?, ?it/s]"
      ]
     },
     "metadata": {},
     "output_type": "display_data"
    },
    {
     "name": "stderr",
     "output_type": "stream",
     "text": [
      "10:55:06 - cmdstanpy - INFO - Chain [1] start processing\n",
      "10:55:07 - cmdstanpy - INFO - Chain [1] done processing\n",
      "10:55:07 - cmdstanpy - INFO - Chain [1] start processing\n",
      "10:55:07 - cmdstanpy - INFO - Chain [1] done processing\n",
      "10:55:08 - cmdstanpy - INFO - Chain [1] start processing\n",
      "10:55:08 - cmdstanpy - INFO - Chain [1] done processing\n",
      "10:55:09 - cmdstanpy - INFO - Chain [1] start processing\n",
      "10:55:09 - cmdstanpy - INFO - Chain [1] done processing\n",
      "10:55:09 - cmdstanpy - INFO - Chain [1] start processing\n",
      "10:55:09 - cmdstanpy - INFO - Chain [1] done processing\n"
     ]
    },
    {
     "data": {
      "application/vnd.jupyter.widget-view+json": {
       "model_id": "3c0956b6e94a43a09cb06f281d989e76",
       "version_major": 2,
       "version_minor": 0
      },
      "text/plain": [
       "  0%|          | 0/4 [00:00<?, ?it/s]"
      ]
     },
     "metadata": {},
     "output_type": "display_data"
    },
    {
     "name": "stderr",
     "output_type": "stream",
     "text": [
      "10:55:10 - cmdstanpy - INFO - Chain [1] start processing\n",
      "10:55:10 - cmdstanpy - INFO - Chain [1] done processing\n",
      "10:55:10 - cmdstanpy - INFO - Chain [1] start processing\n",
      "10:55:10 - cmdstanpy - INFO - Chain [1] done processing\n",
      "10:55:11 - cmdstanpy - INFO - Chain [1] start processing\n",
      "10:55:11 - cmdstanpy - INFO - Chain [1] done processing\n",
      "10:55:12 - cmdstanpy - INFO - Chain [1] start processing\n",
      "10:55:12 - cmdstanpy - INFO - Chain [1] done processing\n",
      "10:55:12 - cmdstanpy - INFO - Chain [1] start processing\n",
      "10:55:12 - cmdstanpy - INFO - Chain [1] done processing\n"
     ]
    },
    {
     "data": {
      "application/vnd.jupyter.widget-view+json": {
       "model_id": "1e178a7947ff431d8a24e4a48e15ae66",
       "version_major": 2,
       "version_minor": 0
      },
      "text/plain": [
       "  0%|          | 0/4 [00:00<?, ?it/s]"
      ]
     },
     "metadata": {},
     "output_type": "display_data"
    },
    {
     "name": "stderr",
     "output_type": "stream",
     "text": [
      "10:55:13 - cmdstanpy - INFO - Chain [1] start processing\n",
      "10:55:13 - cmdstanpy - INFO - Chain [1] done processing\n",
      "10:55:13 - cmdstanpy - INFO - Chain [1] start processing\n",
      "10:55:13 - cmdstanpy - INFO - Chain [1] done processing\n",
      "10:55:14 - cmdstanpy - INFO - Chain [1] start processing\n",
      "10:55:14 - cmdstanpy - INFO - Chain [1] done processing\n",
      "10:55:15 - cmdstanpy - INFO - Chain [1] start processing\n",
      "10:55:15 - cmdstanpy - INFO - Chain [1] done processing\n",
      "10:55:15 - cmdstanpy - INFO - Chain [1] start processing\n",
      "10:55:15 - cmdstanpy - INFO - Chain [1] done processing\n"
     ]
    },
    {
     "data": {
      "application/vnd.jupyter.widget-view+json": {
       "model_id": "ae0b8bee0e0c42cb878768111eba11f8",
       "version_major": 2,
       "version_minor": 0
      },
      "text/plain": [
       "  0%|          | 0/4 [00:00<?, ?it/s]"
      ]
     },
     "metadata": {},
     "output_type": "display_data"
    },
    {
     "name": "stderr",
     "output_type": "stream",
     "text": [
      "10:55:15 - cmdstanpy - INFO - Chain [1] start processing\n",
      "10:55:16 - cmdstanpy - INFO - Chain [1] done processing\n",
      "10:55:16 - cmdstanpy - INFO - Chain [1] start processing\n",
      "10:55:16 - cmdstanpy - INFO - Chain [1] done processing\n",
      "10:55:17 - cmdstanpy - INFO - Chain [1] start processing\n",
      "10:55:17 - cmdstanpy - INFO - Chain [1] done processing\n",
      "10:55:18 - cmdstanpy - INFO - Chain [1] start processing\n",
      "10:55:18 - cmdstanpy - INFO - Chain [1] done processing\n",
      "10:55:18 - cmdstanpy - INFO - Chain [1] start processing\n",
      "10:55:18 - cmdstanpy - INFO - Chain [1] done processing\n"
     ]
    },
    {
     "data": {
      "application/vnd.jupyter.widget-view+json": {
       "model_id": "9f2a6c4544914ff6bd578ea0a514e6ca",
       "version_major": 2,
       "version_minor": 0
      },
      "text/plain": [
       "  0%|          | 0/4 [00:00<?, ?it/s]"
      ]
     },
     "metadata": {},
     "output_type": "display_data"
    },
    {
     "name": "stderr",
     "output_type": "stream",
     "text": [
      "10:55:18 - cmdstanpy - INFO - Chain [1] start processing\n",
      "10:55:19 - cmdstanpy - INFO - Chain [1] done processing\n",
      "10:55:19 - cmdstanpy - INFO - Chain [1] start processing\n",
      "10:55:19 - cmdstanpy - INFO - Chain [1] done processing\n",
      "10:55:21 - cmdstanpy - INFO - Chain [1] start processing\n",
      "10:55:21 - cmdstanpy - INFO - Chain [1] done processing\n",
      "10:55:21 - cmdstanpy - INFO - Chain [1] start processing\n",
      "10:55:21 - cmdstanpy - INFO - Chain [1] done processing\n",
      "10:55:22 - cmdstanpy - INFO - Chain [1] start processing\n",
      "10:55:22 - cmdstanpy - INFO - Chain [1] done processing\n"
     ]
    },
    {
     "data": {
      "application/vnd.jupyter.widget-view+json": {
       "model_id": "d82b222b3ec9423290539760c3a3508b",
       "version_major": 2,
       "version_minor": 0
      },
      "text/plain": [
       "  0%|          | 0/4 [00:00<?, ?it/s]"
      ]
     },
     "metadata": {},
     "output_type": "display_data"
    },
    {
     "name": "stderr",
     "output_type": "stream",
     "text": [
      "10:55:22 - cmdstanpy - INFO - Chain [1] start processing\n",
      "10:55:22 - cmdstanpy - INFO - Chain [1] done processing\n",
      "10:55:23 - cmdstanpy - INFO - Chain [1] start processing\n",
      "10:55:23 - cmdstanpy - INFO - Chain [1] done processing\n",
      "10:55:24 - cmdstanpy - INFO - Chain [1] start processing\n",
      "10:55:24 - cmdstanpy - INFO - Chain [1] done processing\n",
      "10:55:24 - cmdstanpy - INFO - Chain [1] start processing\n",
      "10:55:24 - cmdstanpy - INFO - Chain [1] done processing\n",
      "10:55:25 - cmdstanpy - INFO - Chain [1] start processing\n",
      "10:55:25 - cmdstanpy - INFO - Chain [1] done processing\n"
     ]
    },
    {
     "data": {
      "application/vnd.jupyter.widget-view+json": {
       "model_id": "33c96e6319d5437b9b9e31d08e654237",
       "version_major": 2,
       "version_minor": 0
      },
      "text/plain": [
       "  0%|          | 0/4 [00:00<?, ?it/s]"
      ]
     },
     "metadata": {},
     "output_type": "display_data"
    },
    {
     "name": "stderr",
     "output_type": "stream",
     "text": [
      "10:55:25 - cmdstanpy - INFO - Chain [1] start processing\n",
      "10:55:25 - cmdstanpy - INFO - Chain [1] done processing\n",
      "10:55:26 - cmdstanpy - INFO - Chain [1] start processing\n",
      "10:55:26 - cmdstanpy - INFO - Chain [1] done processing\n",
      "10:55:26 - cmdstanpy - INFO - Chain [1] start processing\n",
      "10:55:26 - cmdstanpy - INFO - Chain [1] done processing\n",
      "10:55:27 - cmdstanpy - INFO - Chain [1] start processing\n",
      "10:55:27 - cmdstanpy - INFO - Chain [1] done processing\n",
      "10:55:28 - cmdstanpy - INFO - Chain [1] start processing\n",
      "10:55:28 - cmdstanpy - INFO - Chain [1] done processing\n"
     ]
    },
    {
     "data": {
      "application/vnd.jupyter.widget-view+json": {
       "model_id": "1137d34f78d447d1b2041c3e635b91e0",
       "version_major": 2,
       "version_minor": 0
      },
      "text/plain": [
       "  0%|          | 0/4 [00:00<?, ?it/s]"
      ]
     },
     "metadata": {},
     "output_type": "display_data"
    },
    {
     "name": "stderr",
     "output_type": "stream",
     "text": [
      "10:55:28 - cmdstanpy - INFO - Chain [1] start processing\n",
      "10:55:28 - cmdstanpy - INFO - Chain [1] done processing\n",
      "10:55:29 - cmdstanpy - INFO - Chain [1] start processing\n",
      "10:55:29 - cmdstanpy - INFO - Chain [1] done processing\n",
      "10:55:29 - cmdstanpy - INFO - Chain [1] start processing\n",
      "10:55:29 - cmdstanpy - INFO - Chain [1] done processing\n",
      "10:55:30 - cmdstanpy - INFO - Chain [1] start processing\n",
      "10:55:30 - cmdstanpy - INFO - Chain [1] done processing\n",
      "10:55:31 - cmdstanpy - INFO - Chain [1] start processing\n",
      "10:55:31 - cmdstanpy - INFO - Chain [1] done processing\n"
     ]
    },
    {
     "data": {
      "application/vnd.jupyter.widget-view+json": {
       "model_id": "56546b8a1d114f558882440e705379a7",
       "version_major": 2,
       "version_minor": 0
      },
      "text/plain": [
       "  0%|          | 0/4 [00:00<?, ?it/s]"
      ]
     },
     "metadata": {},
     "output_type": "display_data"
    },
    {
     "name": "stderr",
     "output_type": "stream",
     "text": [
      "10:55:31 - cmdstanpy - INFO - Chain [1] start processing\n",
      "10:55:31 - cmdstanpy - INFO - Chain [1] done processing\n",
      "10:55:32 - cmdstanpy - INFO - Chain [1] start processing\n",
      "10:55:32 - cmdstanpy - INFO - Chain [1] done processing\n",
      "10:55:33 - cmdstanpy - INFO - Chain [1] start processing\n",
      "10:55:33 - cmdstanpy - INFO - Chain [1] done processing\n",
      "10:55:34 - cmdstanpy - INFO - Chain [1] start processing\n",
      "10:55:34 - cmdstanpy - INFO - Chain [1] done processing\n",
      "10:55:34 - cmdstanpy - INFO - Chain [1] start processing\n",
      "10:55:35 - cmdstanpy - INFO - Chain [1] done processing\n"
     ]
    },
    {
     "data": {
      "application/vnd.jupyter.widget-view+json": {
       "model_id": "b7fe202a9c45423a82754b181f107839",
       "version_major": 2,
       "version_minor": 0
      },
      "text/plain": [
       "  0%|          | 0/4 [00:00<?, ?it/s]"
      ]
     },
     "metadata": {},
     "output_type": "display_data"
    },
    {
     "name": "stderr",
     "output_type": "stream",
     "text": [
      "10:55:35 - cmdstanpy - INFO - Chain [1] start processing\n",
      "10:55:35 - cmdstanpy - INFO - Chain [1] done processing\n",
      "10:55:36 - cmdstanpy - INFO - Chain [1] start processing\n",
      "10:55:36 - cmdstanpy - INFO - Chain [1] done processing\n",
      "10:55:36 - cmdstanpy - INFO - Chain [1] start processing\n",
      "10:55:37 - cmdstanpy - INFO - Chain [1] done processing\n",
      "10:55:37 - cmdstanpy - INFO - Chain [1] start processing\n",
      "10:55:37 - cmdstanpy - INFO - Chain [1] done processing\n",
      "10:55:38 - cmdstanpy - INFO - Chain [1] start processing\n",
      "10:55:38 - cmdstanpy - INFO - Chain [1] done processing\n"
     ]
    },
    {
     "data": {
      "application/vnd.jupyter.widget-view+json": {
       "model_id": "770e278c51f146ea9e311413fa63e536",
       "version_major": 2,
       "version_minor": 0
      },
      "text/plain": [
       "  0%|          | 0/4 [00:00<?, ?it/s]"
      ]
     },
     "metadata": {},
     "output_type": "display_data"
    },
    {
     "name": "stderr",
     "output_type": "stream",
     "text": [
      "10:55:38 - cmdstanpy - INFO - Chain [1] start processing\n",
      "10:55:38 - cmdstanpy - INFO - Chain [1] done processing\n",
      "10:55:39 - cmdstanpy - INFO - Chain [1] start processing\n",
      "10:55:39 - cmdstanpy - INFO - Chain [1] done processing\n",
      "10:55:39 - cmdstanpy - INFO - Chain [1] start processing\n",
      "10:55:40 - cmdstanpy - INFO - Chain [1] done processing\n",
      "10:55:40 - cmdstanpy - INFO - Chain [1] start processing\n",
      "10:55:40 - cmdstanpy - INFO - Chain [1] done processing\n",
      "10:55:41 - cmdstanpy - INFO - Chain [1] start processing\n",
      "10:55:41 - cmdstanpy - INFO - Chain [1] done processing\n"
     ]
    },
    {
     "data": {
      "application/vnd.jupyter.widget-view+json": {
       "model_id": "e757878edfe9436db8e746d9a4999b82",
       "version_major": 2,
       "version_minor": 0
      },
      "text/plain": [
       "  0%|          | 0/4 [00:00<?, ?it/s]"
      ]
     },
     "metadata": {},
     "output_type": "display_data"
    },
    {
     "name": "stderr",
     "output_type": "stream",
     "text": [
      "10:55:41 - cmdstanpy - INFO - Chain [1] start processing\n",
      "10:55:41 - cmdstanpy - INFO - Chain [1] done processing\n",
      "10:55:42 - cmdstanpy - INFO - Chain [1] start processing\n",
      "10:55:42 - cmdstanpy - INFO - Chain [1] done processing\n",
      "10:55:43 - cmdstanpy - INFO - Chain [1] start processing\n",
      "10:55:43 - cmdstanpy - INFO - Chain [1] done processing\n",
      "10:55:43 - cmdstanpy - INFO - Chain [1] start processing\n",
      "10:55:43 - cmdstanpy - INFO - Chain [1] done processing\n",
      "10:55:44 - cmdstanpy - INFO - Chain [1] start processing\n",
      "10:55:44 - cmdstanpy - INFO - Chain [1] done processing\n"
     ]
    },
    {
     "data": {
      "application/vnd.jupyter.widget-view+json": {
       "model_id": "e56f0188e9c940d3b1cddb81584478f8",
       "version_major": 2,
       "version_minor": 0
      },
      "text/plain": [
       "  0%|          | 0/4 [00:00<?, ?it/s]"
      ]
     },
     "metadata": {},
     "output_type": "display_data"
    },
    {
     "name": "stderr",
     "output_type": "stream",
     "text": [
      "10:55:44 - cmdstanpy - INFO - Chain [1] start processing\n",
      "10:55:44 - cmdstanpy - INFO - Chain [1] done processing\n",
      "10:55:45 - cmdstanpy - INFO - Chain [1] start processing\n",
      "10:55:45 - cmdstanpy - INFO - Chain [1] done processing\n",
      "10:55:46 - cmdstanpy - INFO - Chain [1] start processing\n",
      "10:55:46 - cmdstanpy - INFO - Chain [1] done processing\n",
      "10:55:46 - cmdstanpy - INFO - Chain [1] start processing\n",
      "10:55:46 - cmdstanpy - INFO - Chain [1] done processing\n",
      "10:55:47 - cmdstanpy - INFO - Chain [1] start processing\n",
      "10:55:47 - cmdstanpy - INFO - Chain [1] done processing\n"
     ]
    },
    {
     "data": {
      "application/vnd.jupyter.widget-view+json": {
       "model_id": "1cd8cdb4968a489fb150d971820a4597",
       "version_major": 2,
       "version_minor": 0
      },
      "text/plain": [
       "  0%|          | 0/4 [00:00<?, ?it/s]"
      ]
     },
     "metadata": {},
     "output_type": "display_data"
    },
    {
     "name": "stderr",
     "output_type": "stream",
     "text": [
      "10:55:47 - cmdstanpy - INFO - Chain [1] start processing\n",
      "10:55:47 - cmdstanpy - INFO - Chain [1] done processing\n",
      "10:55:48 - cmdstanpy - INFO - Chain [1] start processing\n",
      "10:55:48 - cmdstanpy - INFO - Chain [1] done processing\n",
      "10:55:49 - cmdstanpy - INFO - Chain [1] start processing\n",
      "10:55:49 - cmdstanpy - INFO - Chain [1] done processing\n",
      "10:55:49 - cmdstanpy - INFO - Chain [1] start processing\n",
      "10:55:49 - cmdstanpy - INFO - Chain [1] done processing\n",
      "10:55:50 - cmdstanpy - INFO - Chain [1] start processing\n",
      "10:55:50 - cmdstanpy - INFO - Chain [1] done processing\n"
     ]
    },
    {
     "data": {
      "application/vnd.jupyter.widget-view+json": {
       "model_id": "fa010c6932364befb6a9e889e44e6ce0",
       "version_major": 2,
       "version_minor": 0
      },
      "text/plain": [
       "  0%|          | 0/4 [00:00<?, ?it/s]"
      ]
     },
     "metadata": {},
     "output_type": "display_data"
    },
    {
     "name": "stderr",
     "output_type": "stream",
     "text": [
      "10:55:50 - cmdstanpy - INFO - Chain [1] start processing\n",
      "10:55:50 - cmdstanpy - INFO - Chain [1] done processing\n",
      "10:55:52 - cmdstanpy - INFO - Chain [1] start processing\n",
      "10:55:52 - cmdstanpy - INFO - Chain [1] done processing\n",
      "10:55:52 - cmdstanpy - INFO - Chain [1] start processing\n",
      "10:55:52 - cmdstanpy - INFO - Chain [1] done processing\n",
      "10:55:53 - cmdstanpy - INFO - Chain [1] start processing\n",
      "10:55:53 - cmdstanpy - INFO - Chain [1] done processing\n",
      "10:55:54 - cmdstanpy - INFO - Chain [1] start processing\n",
      "10:55:54 - cmdstanpy - INFO - Chain [1] done processing\n"
     ]
    },
    {
     "data": {
      "application/vnd.jupyter.widget-view+json": {
       "model_id": "f2bd30034a044f87b9e365fbfb69ca91",
       "version_major": 2,
       "version_minor": 0
      },
      "text/plain": [
       "  0%|          | 0/4 [00:00<?, ?it/s]"
      ]
     },
     "metadata": {},
     "output_type": "display_data"
    },
    {
     "name": "stderr",
     "output_type": "stream",
     "text": [
      "10:55:54 - cmdstanpy - INFO - Chain [1] start processing\n",
      "10:55:54 - cmdstanpy - INFO - Chain [1] done processing\n",
      "10:55:55 - cmdstanpy - INFO - Chain [1] start processing\n",
      "10:55:55 - cmdstanpy - INFO - Chain [1] done processing\n",
      "10:55:56 - cmdstanpy - INFO - Chain [1] start processing\n",
      "10:55:56 - cmdstanpy - INFO - Chain [1] done processing\n",
      "10:55:56 - cmdstanpy - INFO - Chain [1] start processing\n",
      "10:55:56 - cmdstanpy - INFO - Chain [1] done processing\n",
      "10:55:58 - cmdstanpy - INFO - Chain [1] start processing\n",
      "10:55:58 - cmdstanpy - INFO - Chain [1] done processing\n"
     ]
    },
    {
     "data": {
      "application/vnd.jupyter.widget-view+json": {
       "model_id": "d1dd869574a642198d3531f4ced0e29b",
       "version_major": 2,
       "version_minor": 0
      },
      "text/plain": [
       "  0%|          | 0/4 [00:00<?, ?it/s]"
      ]
     },
     "metadata": {},
     "output_type": "display_data"
    },
    {
     "name": "stderr",
     "output_type": "stream",
     "text": [
      "10:55:58 - cmdstanpy - INFO - Chain [1] start processing\n",
      "10:55:58 - cmdstanpy - INFO - Chain [1] done processing\n",
      "10:55:59 - cmdstanpy - INFO - Chain [1] start processing\n",
      "10:55:59 - cmdstanpy - INFO - Chain [1] done processing\n",
      "10:55:59 - cmdstanpy - INFO - Chain [1] start processing\n",
      "10:55:59 - cmdstanpy - INFO - Chain [1] done processing\n",
      "10:56:00 - cmdstanpy - INFO - Chain [1] start processing\n",
      "10:56:00 - cmdstanpy - INFO - Chain [1] done processing\n",
      "10:56:01 - cmdstanpy - INFO - Chain [1] start processing\n",
      "10:56:01 - cmdstanpy - INFO - Chain [1] done processing\n"
     ]
    },
    {
     "data": {
      "application/vnd.jupyter.widget-view+json": {
       "model_id": "07cd5a93e9f041c382dc0d8bc622ef6e",
       "version_major": 2,
       "version_minor": 0
      },
      "text/plain": [
       "  0%|          | 0/4 [00:00<?, ?it/s]"
      ]
     },
     "metadata": {},
     "output_type": "display_data"
    },
    {
     "name": "stderr",
     "output_type": "stream",
     "text": [
      "10:56:01 - cmdstanpy - INFO - Chain [1] start processing\n",
      "10:56:01 - cmdstanpy - INFO - Chain [1] done processing\n",
      "10:56:02 - cmdstanpy - INFO - Chain [1] start processing\n",
      "10:56:02 - cmdstanpy - INFO - Chain [1] done processing\n",
      "10:56:03 - cmdstanpy - INFO - Chain [1] start processing\n",
      "10:56:03 - cmdstanpy - INFO - Chain [1] done processing\n",
      "10:56:04 - cmdstanpy - INFO - Chain [1] start processing\n",
      "10:56:04 - cmdstanpy - INFO - Chain [1] done processing\n",
      "10:56:04 - cmdstanpy - INFO - Chain [1] start processing\n",
      "10:56:04 - cmdstanpy - INFO - Chain [1] done processing\n"
     ]
    },
    {
     "data": {
      "application/vnd.jupyter.widget-view+json": {
       "model_id": "0feb3e67a49e4d3cb2a4db47636484d8",
       "version_major": 2,
       "version_minor": 0
      },
      "text/plain": [
       "  0%|          | 0/4 [00:00<?, ?it/s]"
      ]
     },
     "metadata": {},
     "output_type": "display_data"
    },
    {
     "name": "stderr",
     "output_type": "stream",
     "text": [
      "10:56:04 - cmdstanpy - INFO - Chain [1] start processing\n",
      "10:56:05 - cmdstanpy - INFO - Chain [1] done processing\n",
      "10:56:05 - cmdstanpy - INFO - Chain [1] start processing\n",
      "10:56:05 - cmdstanpy - INFO - Chain [1] done processing\n",
      "10:56:06 - cmdstanpy - INFO - Chain [1] start processing\n",
      "10:56:06 - cmdstanpy - INFO - Chain [1] done processing\n",
      "10:56:07 - cmdstanpy - INFO - Chain [1] start processing\n",
      "10:56:07 - cmdstanpy - INFO - Chain [1] done processing\n",
      "10:56:08 - cmdstanpy - INFO - Chain [1] start processing\n",
      "10:56:08 - cmdstanpy - INFO - Chain [1] done processing\n"
     ]
    },
    {
     "data": {
      "application/vnd.jupyter.widget-view+json": {
       "model_id": "06b408846a3f443b8cf10525b106b616",
       "version_major": 2,
       "version_minor": 0
      },
      "text/plain": [
       "  0%|          | 0/4 [00:00<?, ?it/s]"
      ]
     },
     "metadata": {},
     "output_type": "display_data"
    },
    {
     "name": "stderr",
     "output_type": "stream",
     "text": [
      "10:56:08 - cmdstanpy - INFO - Chain [1] start processing\n",
      "10:56:08 - cmdstanpy - INFO - Chain [1] done processing\n",
      "10:56:09 - cmdstanpy - INFO - Chain [1] start processing\n",
      "10:56:09 - cmdstanpy - INFO - Chain [1] done processing\n",
      "10:56:09 - cmdstanpy - INFO - Chain [1] start processing\n",
      "10:56:09 - cmdstanpy - INFO - Chain [1] done processing\n",
      "10:56:10 - cmdstanpy - INFO - Chain [1] start processing\n",
      "10:56:10 - cmdstanpy - INFO - Chain [1] done processing\n",
      "10:56:11 - cmdstanpy - INFO - Chain [1] start processing\n",
      "10:56:11 - cmdstanpy - INFO - Chain [1] done processing\n"
     ]
    },
    {
     "data": {
      "application/vnd.jupyter.widget-view+json": {
       "model_id": "0c26fc78ca1a424fbe25ae76e8c70b71",
       "version_major": 2,
       "version_minor": 0
      },
      "text/plain": [
       "  0%|          | 0/4 [00:00<?, ?it/s]"
      ]
     },
     "metadata": {},
     "output_type": "display_data"
    },
    {
     "name": "stderr",
     "output_type": "stream",
     "text": [
      "10:56:11 - cmdstanpy - INFO - Chain [1] start processing\n",
      "10:56:11 - cmdstanpy - INFO - Chain [1] done processing\n",
      "10:56:12 - cmdstanpy - INFO - Chain [1] start processing\n",
      "10:56:12 - cmdstanpy - INFO - Chain [1] done processing\n",
      "10:56:13 - cmdstanpy - INFO - Chain [1] start processing\n",
      "10:56:13 - cmdstanpy - INFO - Chain [1] done processing\n",
      "10:56:14 - cmdstanpy - INFO - Chain [1] start processing\n",
      "10:56:14 - cmdstanpy - INFO - Chain [1] done processing\n",
      "10:56:15 - cmdstanpy - INFO - Chain [1] start processing\n",
      "10:56:15 - cmdstanpy - INFO - Chain [1] done processing\n"
     ]
    },
    {
     "data": {
      "application/vnd.jupyter.widget-view+json": {
       "model_id": "e794c6e65ebc45018b9e2b8241d92ff3",
       "version_major": 2,
       "version_minor": 0
      },
      "text/plain": [
       "  0%|          | 0/4 [00:00<?, ?it/s]"
      ]
     },
     "metadata": {},
     "output_type": "display_data"
    },
    {
     "name": "stderr",
     "output_type": "stream",
     "text": [
      "10:56:15 - cmdstanpy - INFO - Chain [1] start processing\n",
      "10:56:16 - cmdstanpy - INFO - Chain [1] done processing\n",
      "10:56:16 - cmdstanpy - INFO - Chain [1] start processing\n",
      "10:56:16 - cmdstanpy - INFO - Chain [1] done processing\n",
      "10:56:18 - cmdstanpy - INFO - Chain [1] start processing\n",
      "10:56:18 - cmdstanpy - INFO - Chain [1] done processing\n",
      "10:56:18 - cmdstanpy - INFO - Chain [1] start processing\n",
      "10:56:18 - cmdstanpy - INFO - Chain [1] done processing\n",
      "10:56:19 - cmdstanpy - INFO - Chain [1] start processing\n",
      "10:56:19 - cmdstanpy - INFO - Chain [1] done processing\n"
     ]
    },
    {
     "data": {
      "application/vnd.jupyter.widget-view+json": {
       "model_id": "28e34a6abc9643a6ba78a9dc08bac48c",
       "version_major": 2,
       "version_minor": 0
      },
      "text/plain": [
       "  0%|          | 0/4 [00:00<?, ?it/s]"
      ]
     },
     "metadata": {},
     "output_type": "display_data"
    },
    {
     "name": "stderr",
     "output_type": "stream",
     "text": [
      "10:56:19 - cmdstanpy - INFO - Chain [1] start processing\n",
      "10:56:19 - cmdstanpy - INFO - Chain [1] done processing\n",
      "10:56:20 - cmdstanpy - INFO - Chain [1] start processing\n",
      "10:56:20 - cmdstanpy - INFO - Chain [1] done processing\n",
      "10:56:21 - cmdstanpy - INFO - Chain [1] start processing\n",
      "10:56:21 - cmdstanpy - INFO - Chain [1] done processing\n",
      "10:56:22 - cmdstanpy - INFO - Chain [1] start processing\n",
      "10:56:22 - cmdstanpy - INFO - Chain [1] done processing\n",
      "10:56:22 - cmdstanpy - INFO - Chain [1] start processing\n",
      "10:56:22 - cmdstanpy - INFO - Chain [1] done processing\n"
     ]
    },
    {
     "data": {
      "application/vnd.jupyter.widget-view+json": {
       "model_id": "602b617e724f4c248c20eea49e7d8ce0",
       "version_major": 2,
       "version_minor": 0
      },
      "text/plain": [
       "  0%|          | 0/4 [00:00<?, ?it/s]"
      ]
     },
     "metadata": {},
     "output_type": "display_data"
    },
    {
     "name": "stderr",
     "output_type": "stream",
     "text": [
      "10:56:22 - cmdstanpy - INFO - Chain [1] start processing\n",
      "10:56:23 - cmdstanpy - INFO - Chain [1] done processing\n",
      "10:56:23 - cmdstanpy - INFO - Chain [1] start processing\n",
      "10:56:23 - cmdstanpy - INFO - Chain [1] done processing\n",
      "10:56:24 - cmdstanpy - INFO - Chain [1] start processing\n",
      "10:56:24 - cmdstanpy - INFO - Chain [1] done processing\n",
      "10:56:25 - cmdstanpy - INFO - Chain [1] start processing\n",
      "10:56:26 - cmdstanpy - INFO - Chain [1] done processing\n",
      "10:56:27 - cmdstanpy - INFO - Chain [1] start processing\n",
      "10:56:27 - cmdstanpy - INFO - Chain [1] done processing\n"
     ]
    },
    {
     "data": {
      "application/vnd.jupyter.widget-view+json": {
       "model_id": "a0c126d31e39469c9c6799f5dd940567",
       "version_major": 2,
       "version_minor": 0
      },
      "text/plain": [
       "  0%|          | 0/4 [00:00<?, ?it/s]"
      ]
     },
     "metadata": {},
     "output_type": "display_data"
    },
    {
     "name": "stderr",
     "output_type": "stream",
     "text": [
      "10:56:27 - cmdstanpy - INFO - Chain [1] start processing\n",
      "10:56:27 - cmdstanpy - INFO - Chain [1] done processing\n",
      "10:56:28 - cmdstanpy - INFO - Chain [1] start processing\n",
      "10:56:28 - cmdstanpy - INFO - Chain [1] done processing\n",
      "10:56:29 - cmdstanpy - INFO - Chain [1] start processing\n",
      "10:56:29 - cmdstanpy - INFO - Chain [1] done processing\n",
      "10:56:29 - cmdstanpy - INFO - Chain [1] start processing\n",
      "10:56:29 - cmdstanpy - INFO - Chain [1] done processing\n",
      "10:56:30 - cmdstanpy - INFO - Chain [1] start processing\n",
      "10:56:30 - cmdstanpy - INFO - Chain [1] done processing\n"
     ]
    },
    {
     "data": {
      "application/vnd.jupyter.widget-view+json": {
       "model_id": "5674945ed77d4670a4e65d70f5982f2c",
       "version_major": 2,
       "version_minor": 0
      },
      "text/plain": [
       "  0%|          | 0/4 [00:00<?, ?it/s]"
      ]
     },
     "metadata": {},
     "output_type": "display_data"
    },
    {
     "name": "stderr",
     "output_type": "stream",
     "text": [
      "10:56:30 - cmdstanpy - INFO - Chain [1] start processing\n",
      "10:56:31 - cmdstanpy - INFO - Chain [1] done processing\n",
      "10:56:31 - cmdstanpy - INFO - Chain [1] start processing\n",
      "10:56:31 - cmdstanpy - INFO - Chain [1] done processing\n",
      "10:56:32 - cmdstanpy - INFO - Chain [1] start processing\n",
      "10:56:32 - cmdstanpy - INFO - Chain [1] done processing\n",
      "10:56:33 - cmdstanpy - INFO - Chain [1] start processing\n",
      "10:56:33 - cmdstanpy - INFO - Chain [1] done processing\n",
      "10:56:34 - cmdstanpy - INFO - Chain [1] start processing\n",
      "10:56:34 - cmdstanpy - INFO - Chain [1] done processing\n"
     ]
    },
    {
     "data": {
      "application/vnd.jupyter.widget-view+json": {
       "model_id": "96c7376a67484685ab764d4006379e5f",
       "version_major": 2,
       "version_minor": 0
      },
      "text/plain": [
       "  0%|          | 0/4 [00:00<?, ?it/s]"
      ]
     },
     "metadata": {},
     "output_type": "display_data"
    },
    {
     "name": "stderr",
     "output_type": "stream",
     "text": [
      "10:56:34 - cmdstanpy - INFO - Chain [1] start processing\n",
      "10:56:34 - cmdstanpy - INFO - Chain [1] done processing\n",
      "10:56:35 - cmdstanpy - INFO - Chain [1] start processing\n",
      "10:56:35 - cmdstanpy - INFO - Chain [1] done processing\n",
      "10:56:35 - cmdstanpy - INFO - Chain [1] start processing\n",
      "10:56:36 - cmdstanpy - INFO - Chain [1] done processing\n",
      "10:56:36 - cmdstanpy - INFO - Chain [1] start processing\n",
      "10:56:36 - cmdstanpy - INFO - Chain [1] done processing\n",
      "10:56:37 - cmdstanpy - INFO - Chain [1] start processing\n",
      "10:56:37 - cmdstanpy - INFO - Chain [1] done processing\n"
     ]
    },
    {
     "data": {
      "application/vnd.jupyter.widget-view+json": {
       "model_id": "57c592bbfbbd4ae680c17bd71afb2147",
       "version_major": 2,
       "version_minor": 0
      },
      "text/plain": [
       "  0%|          | 0/4 [00:00<?, ?it/s]"
      ]
     },
     "metadata": {},
     "output_type": "display_data"
    },
    {
     "name": "stderr",
     "output_type": "stream",
     "text": [
      "10:56:37 - cmdstanpy - INFO - Chain [1] start processing\n",
      "10:56:38 - cmdstanpy - INFO - Chain [1] done processing\n",
      "10:56:38 - cmdstanpy - INFO - Chain [1] start processing\n",
      "10:56:38 - cmdstanpy - INFO - Chain [1] done processing\n",
      "10:56:39 - cmdstanpy - INFO - Chain [1] start processing\n",
      "10:56:39 - cmdstanpy - INFO - Chain [1] done processing\n",
      "10:56:40 - cmdstanpy - INFO - Chain [1] start processing\n",
      "10:56:40 - cmdstanpy - INFO - Chain [1] done processing\n",
      "10:56:40 - cmdstanpy - INFO - Chain [1] start processing\n",
      "10:56:40 - cmdstanpy - INFO - Chain [1] done processing\n"
     ]
    },
    {
     "data": {
      "application/vnd.jupyter.widget-view+json": {
       "model_id": "ea95ca9292fc4ffdb1fa0c84f990556d",
       "version_major": 2,
       "version_minor": 0
      },
      "text/plain": [
       "  0%|          | 0/4 [00:00<?, ?it/s]"
      ]
     },
     "metadata": {},
     "output_type": "display_data"
    },
    {
     "name": "stderr",
     "output_type": "stream",
     "text": [
      "10:56:40 - cmdstanpy - INFO - Chain [1] start processing\n",
      "10:56:41 - cmdstanpy - INFO - Chain [1] done processing\n",
      "10:56:41 - cmdstanpy - INFO - Chain [1] start processing\n",
      "10:56:41 - cmdstanpy - INFO - Chain [1] done processing\n",
      "10:56:42 - cmdstanpy - INFO - Chain [1] start processing\n",
      "10:56:42 - cmdstanpy - INFO - Chain [1] done processing\n",
      "10:56:43 - cmdstanpy - INFO - Chain [1] start processing\n",
      "10:56:43 - cmdstanpy - INFO - Chain [1] done processing\n",
      "10:56:43 - cmdstanpy - INFO - Chain [1] start processing\n",
      "10:56:43 - cmdstanpy - INFO - Chain [1] done processing\n"
     ]
    },
    {
     "data": {
      "application/vnd.jupyter.widget-view+json": {
       "model_id": "cd0e1b1a59464339a75cf7e22d09f297",
       "version_major": 2,
       "version_minor": 0
      },
      "text/plain": [
       "  0%|          | 0/4 [00:00<?, ?it/s]"
      ]
     },
     "metadata": {},
     "output_type": "display_data"
    },
    {
     "name": "stderr",
     "output_type": "stream",
     "text": [
      "10:56:43 - cmdstanpy - INFO - Chain [1] start processing\n",
      "10:56:44 - cmdstanpy - INFO - Chain [1] done processing\n",
      "10:56:44 - cmdstanpy - INFO - Chain [1] start processing\n",
      "10:56:44 - cmdstanpy - INFO - Chain [1] done processing\n",
      "10:56:45 - cmdstanpy - INFO - Chain [1] start processing\n",
      "10:56:45 - cmdstanpy - INFO - Chain [1] done processing\n",
      "10:56:46 - cmdstanpy - INFO - Chain [1] start processing\n",
      "10:56:46 - cmdstanpy - INFO - Chain [1] done processing\n",
      "10:56:47 - cmdstanpy - INFO - Chain [1] start processing\n",
      "10:56:47 - cmdstanpy - INFO - Chain [1] done processing\n"
     ]
    },
    {
     "data": {
      "application/vnd.jupyter.widget-view+json": {
       "model_id": "7aca1516c78f4ec0ba6a15ac6a1b976f",
       "version_major": 2,
       "version_minor": 0
      },
      "text/plain": [
       "  0%|          | 0/4 [00:00<?, ?it/s]"
      ]
     },
     "metadata": {},
     "output_type": "display_data"
    },
    {
     "name": "stderr",
     "output_type": "stream",
     "text": [
      "10:56:47 - cmdstanpy - INFO - Chain [1] start processing\n",
      "10:56:47 - cmdstanpy - INFO - Chain [1] done processing\n",
      "10:56:48 - cmdstanpy - INFO - Chain [1] start processing\n",
      "10:56:48 - cmdstanpy - INFO - Chain [1] done processing\n",
      "10:56:48 - cmdstanpy - INFO - Chain [1] start processing\n",
      "10:56:48 - cmdstanpy - INFO - Chain [1] done processing\n",
      "10:56:49 - cmdstanpy - INFO - Chain [1] start processing\n",
      "10:56:49 - cmdstanpy - INFO - Chain [1] done processing\n",
      "10:56:50 - cmdstanpy - INFO - Chain [1] start processing\n",
      "10:56:50 - cmdstanpy - INFO - Chain [1] done processing\n"
     ]
    },
    {
     "data": {
      "application/vnd.jupyter.widget-view+json": {
       "model_id": "af32c41620644ae68d507f6fbf2be5ea",
       "version_major": 2,
       "version_minor": 0
      },
      "text/plain": [
       "  0%|          | 0/4 [00:00<?, ?it/s]"
      ]
     },
     "metadata": {},
     "output_type": "display_data"
    },
    {
     "name": "stderr",
     "output_type": "stream",
     "text": [
      "10:56:50 - cmdstanpy - INFO - Chain [1] start processing\n",
      "10:56:50 - cmdstanpy - INFO - Chain [1] done processing\n",
      "10:56:51 - cmdstanpy - INFO - Chain [1] start processing\n",
      "10:56:51 - cmdstanpy - INFO - Chain [1] done processing\n",
      "10:56:51 - cmdstanpy - INFO - Chain [1] start processing\n",
      "10:56:51 - cmdstanpy - INFO - Chain [1] done processing\n",
      "10:56:52 - cmdstanpy - INFO - Chain [1] start processing\n",
      "10:56:52 - cmdstanpy - INFO - Chain [1] done processing\n",
      "10:56:53 - cmdstanpy - INFO - Chain [1] start processing\n",
      "10:56:53 - cmdstanpy - INFO - Chain [1] done processing\n"
     ]
    },
    {
     "data": {
      "application/vnd.jupyter.widget-view+json": {
       "model_id": "aa926b60c90e4ca9b8c9418d93ae6655",
       "version_major": 2,
       "version_minor": 0
      },
      "text/plain": [
       "  0%|          | 0/4 [00:00<?, ?it/s]"
      ]
     },
     "metadata": {},
     "output_type": "display_data"
    },
    {
     "name": "stderr",
     "output_type": "stream",
     "text": [
      "10:56:53 - cmdstanpy - INFO - Chain [1] start processing\n",
      "10:56:53 - cmdstanpy - INFO - Chain [1] done processing\n",
      "10:56:54 - cmdstanpy - INFO - Chain [1] start processing\n",
      "10:56:54 - cmdstanpy - INFO - Chain [1] done processing\n",
      "10:56:54 - cmdstanpy - INFO - Chain [1] start processing\n",
      "10:56:54 - cmdstanpy - INFO - Chain [1] done processing\n",
      "10:56:55 - cmdstanpy - INFO - Chain [1] start processing\n",
      "10:56:55 - cmdstanpy - INFO - Chain [1] done processing\n",
      "10:56:56 - cmdstanpy - INFO - Chain [1] start processing\n",
      "10:56:56 - cmdstanpy - INFO - Chain [1] done processing\n"
     ]
    },
    {
     "data": {
      "application/vnd.jupyter.widget-view+json": {
       "model_id": "b62ecc1bfb3345468c45449d2ca06974",
       "version_major": 2,
       "version_minor": 0
      },
      "text/plain": [
       "  0%|          | 0/4 [00:00<?, ?it/s]"
      ]
     },
     "metadata": {},
     "output_type": "display_data"
    },
    {
     "name": "stderr",
     "output_type": "stream",
     "text": [
      "10:56:56 - cmdstanpy - INFO - Chain [1] start processing\n",
      "10:56:56 - cmdstanpy - INFO - Chain [1] done processing\n",
      "10:56:57 - cmdstanpy - INFO - Chain [1] start processing\n",
      "10:56:57 - cmdstanpy - INFO - Chain [1] done processing\n",
      "10:56:57 - cmdstanpy - INFO - Chain [1] start processing\n",
      "10:56:57 - cmdstanpy - INFO - Chain [1] done processing\n",
      "10:56:58 - cmdstanpy - INFO - Chain [1] start processing\n",
      "10:56:58 - cmdstanpy - INFO - Chain [1] done processing\n",
      "10:56:59 - cmdstanpy - INFO - Chain [1] start processing\n",
      "10:56:59 - cmdstanpy - INFO - Chain [1] done processing\n"
     ]
    },
    {
     "data": {
      "application/vnd.jupyter.widget-view+json": {
       "model_id": "9505bd578af6437587a152d440e3bd42",
       "version_major": 2,
       "version_minor": 0
      },
      "text/plain": [
       "  0%|          | 0/4 [00:00<?, ?it/s]"
      ]
     },
     "metadata": {},
     "output_type": "display_data"
    },
    {
     "name": "stderr",
     "output_type": "stream",
     "text": [
      "10:56:59 - cmdstanpy - INFO - Chain [1] start processing\n",
      "10:56:59 - cmdstanpy - INFO - Chain [1] done processing\n",
      "10:57:00 - cmdstanpy - INFO - Chain [1] start processing\n",
      "10:57:00 - cmdstanpy - INFO - Chain [1] done processing\n",
      "10:57:00 - cmdstanpy - INFO - Chain [1] start processing\n",
      "10:57:00 - cmdstanpy - INFO - Chain [1] done processing\n",
      "10:57:01 - cmdstanpy - INFO - Chain [1] start processing\n",
      "10:57:01 - cmdstanpy - INFO - Chain [1] done processing\n",
      "10:57:02 - cmdstanpy - INFO - Chain [1] start processing\n",
      "10:57:02 - cmdstanpy - INFO - Chain [1] done processing\n"
     ]
    },
    {
     "data": {
      "application/vnd.jupyter.widget-view+json": {
       "model_id": "d7f073dc1c5f4d74863900df2eeb8b52",
       "version_major": 2,
       "version_minor": 0
      },
      "text/plain": [
       "  0%|          | 0/4 [00:00<?, ?it/s]"
      ]
     },
     "metadata": {},
     "output_type": "display_data"
    },
    {
     "name": "stderr",
     "output_type": "stream",
     "text": [
      "10:57:02 - cmdstanpy - INFO - Chain [1] start processing\n",
      "10:57:02 - cmdstanpy - INFO - Chain [1] done processing\n",
      "10:57:03 - cmdstanpy - INFO - Chain [1] start processing\n",
      "10:57:03 - cmdstanpy - INFO - Chain [1] done processing\n",
      "10:57:03 - cmdstanpy - INFO - Chain [1] start processing\n",
      "10:57:03 - cmdstanpy - INFO - Chain [1] done processing\n",
      "10:57:04 - cmdstanpy - INFO - Chain [1] start processing\n",
      "10:57:04 - cmdstanpy - INFO - Chain [1] done processing\n",
      "10:57:05 - cmdstanpy - INFO - Chain [1] start processing\n",
      "10:57:05 - cmdstanpy - INFO - Chain [1] done processing\n"
     ]
    },
    {
     "data": {
      "application/vnd.jupyter.widget-view+json": {
       "model_id": "dac21685a7564c5cb3e9783a0092802d",
       "version_major": 2,
       "version_minor": 0
      },
      "text/plain": [
       "  0%|          | 0/4 [00:00<?, ?it/s]"
      ]
     },
     "metadata": {},
     "output_type": "display_data"
    },
    {
     "name": "stderr",
     "output_type": "stream",
     "text": [
      "10:57:05 - cmdstanpy - INFO - Chain [1] start processing\n",
      "10:57:05 - cmdstanpy - INFO - Chain [1] done processing\n",
      "10:57:06 - cmdstanpy - INFO - Chain [1] start processing\n",
      "10:57:06 - cmdstanpy - INFO - Chain [1] done processing\n",
      "10:57:07 - cmdstanpy - INFO - Chain [1] start processing\n",
      "10:57:07 - cmdstanpy - INFO - Chain [1] done processing\n",
      "10:57:08 - cmdstanpy - INFO - Chain [1] start processing\n",
      "10:57:08 - cmdstanpy - INFO - Chain [1] done processing\n"
     ]
    },
    {
     "name": "stdout",
     "output_type": "stream",
     "text": [
      "    changepoint_prior_scale  seasonality_prior_scale  holidays_prior_scale  \\\n",
      "0                      0.21                    0.011                0.0001   \n",
      "1                      0.21                    0.011                0.0003   \n",
      "2                      0.21                    0.011                0.0005   \n",
      "3                      0.21                    0.011                0.0007   \n",
      "4                      0.21                    0.011                0.0009   \n",
      "..                      ...                      ...                   ...   \n",
      "75                     0.27                    0.011                0.0001   \n",
      "76                     0.27                    0.011                0.0003   \n",
      "77                     0.27                    0.011                0.0005   \n",
      "78                     0.27                    0.011                0.0007   \n",
      "79                     0.27                    0.011                0.0009   \n",
      "\n",
      "        rmse       mse       mae  \n",
      "0   0.042747  0.001827  0.031820  \n",
      "1   0.042747  0.001827  0.031820  \n",
      "2   0.042747  0.001827  0.031820  \n",
      "3   0.042747  0.001827  0.031820  \n",
      "4   0.042747  0.001827  0.031820  \n",
      "..       ...       ...       ...  \n",
      "75  0.042768  0.001829  0.031762  \n",
      "76  0.042768  0.001829  0.031762  \n",
      "77  0.042768  0.001829  0.031762  \n",
      "78  0.042768  0.001829  0.031762  \n",
      "79  0.042768  0.001829  0.031762  \n",
      "\n",
      "[80 rows x 6 columns]\n"
     ]
    }
   ],
   "source": [
    "from prophet import Prophet\n",
    "import itertools\n",
    "import numpy as np\n",
    "import pandas as pd\n",
    "from prophet.diagnostics import cross_validation\n",
    "from prophet.diagnostics import performance_metrics\n",
    "\n",
    "#changepoint_prior_scale    0.210000 can possibly be tuned as it is a border value\n",
    "#seasonality_prior_scale    0.011000 satisfied with this value, as it is not a border value\n",
    "#holidays_prior_scale       0.000900 can possibly be tuned as it is a border value\n",
    "\n",
    "\n",
    "\n",
    "data = pd.read_csv('data.csv')\n",
    "\n",
    "\n",
    "param_grid = {  \n",
    "    'changepoint_prior_scale': [0.21, 0.23, 0.25, 0.27],\n",
    "    'seasonality_prior_scale': [0.011, 0.011, 0.011, 0.011],\n",
    "    'holidays_prior_scale': [0.0001, 0.0003, 0.0005, 0.0007, 0.0009]\n",
    "}\n",
    "\n",
    "# Generate all combinations of parameters\n",
    "all_params = [dict(zip(param_grid.keys(), v)) for v in itertools.product(*param_grid.values())]\n",
    "rmses = []  # Store the RMSEs for each params here\n",
    "mse = []\n",
    "mae = []\n",
    "\n",
    "# Use cross validation to evaluate all parameters\n",
    "for params in all_params:\n",
    "    m = Prophet(**params, interval_width=0.9, daily_seasonality=True).fit(data)  # Fit model with given params\n",
    "    df_cv = cross_validation(m, initial='100 days', period='60 days', horizon = '30 days')\n",
    "    df_p = performance_metrics(df_cv, rolling_window=1)\n",
    "    rmses.append(df_p['rmse'].values[0])\n",
    "    mse.append(df_p[\"mse\"].values[0])\n",
    "    mae.append(df_p[\"mae\"].values[0])\n",
    "\n",
    "# Find the best parameters\n",
    "tuning_results = pd.DataFrame(all_params)\n",
    "tuning_results['rmse'] = rmses\n",
    "tuning_results['mse'] = mse\n",
    "tuning_results['mae'] = mae\n",
    "print(tuning_results)\n",
    "\n"
   ]
  },
  {
   "cell_type": "code",
   "execution_count": 2,
   "id": "8d68eb81",
   "metadata": {},
   "outputs": [
    {
     "name": "stdout",
     "output_type": "stream",
     "text": [
      "{'changepoint_prior_scale': 0.25, 'seasonality_prior_scale': 0.011, 'holidays_prior_scale': 0.0001}\n"
     ]
    }
   ],
   "source": [
    "best_params = all_params[np.argmin(rmses)]\n",
    "print(best_params)"
   ]
  },
  {
   "cell_type": "code",
   "execution_count": 3,
   "id": "d233438b",
   "metadata": {},
   "outputs": [
    {
     "name": "stdout",
     "output_type": "stream",
     "text": [
      "0.04262478222956704\n"
     ]
    }
   ],
   "source": [
    "print(tuning_results['rmse'].min())"
   ]
  },
  {
   "cell_type": "code",
   "execution_count": 4,
   "id": "80a34dd6",
   "metadata": {},
   "outputs": [
    {
     "name": "stdout",
     "output_type": "stream",
     "text": [
      "[{'changepoint_prior_scale': 0.21, 'seasonality_prior_scale': 0.011, 'holidays_prior_scale': 0.0001}, {'changepoint_prior_scale': 0.21, 'seasonality_prior_scale': 0.011, 'holidays_prior_scale': 0.0003}, {'changepoint_prior_scale': 0.21, 'seasonality_prior_scale': 0.011, 'holidays_prior_scale': 0.0005}, {'changepoint_prior_scale': 0.21, 'seasonality_prior_scale': 0.011, 'holidays_prior_scale': 0.0007}, {'changepoint_prior_scale': 0.21, 'seasonality_prior_scale': 0.011, 'holidays_prior_scale': 0.0009}, {'changepoint_prior_scale': 0.21, 'seasonality_prior_scale': 0.011, 'holidays_prior_scale': 0.0001}, {'changepoint_prior_scale': 0.21, 'seasonality_prior_scale': 0.011, 'holidays_prior_scale': 0.0003}, {'changepoint_prior_scale': 0.21, 'seasonality_prior_scale': 0.011, 'holidays_prior_scale': 0.0005}, {'changepoint_prior_scale': 0.21, 'seasonality_prior_scale': 0.011, 'holidays_prior_scale': 0.0007}, {'changepoint_prior_scale': 0.21, 'seasonality_prior_scale': 0.011, 'holidays_prior_scale': 0.0009}, {'changepoint_prior_scale': 0.21, 'seasonality_prior_scale': 0.011, 'holidays_prior_scale': 0.0001}, {'changepoint_prior_scale': 0.21, 'seasonality_prior_scale': 0.011, 'holidays_prior_scale': 0.0003}, {'changepoint_prior_scale': 0.21, 'seasonality_prior_scale': 0.011, 'holidays_prior_scale': 0.0005}, {'changepoint_prior_scale': 0.21, 'seasonality_prior_scale': 0.011, 'holidays_prior_scale': 0.0007}, {'changepoint_prior_scale': 0.21, 'seasonality_prior_scale': 0.011, 'holidays_prior_scale': 0.0009}, {'changepoint_prior_scale': 0.21, 'seasonality_prior_scale': 0.011, 'holidays_prior_scale': 0.0001}, {'changepoint_prior_scale': 0.21, 'seasonality_prior_scale': 0.011, 'holidays_prior_scale': 0.0003}, {'changepoint_prior_scale': 0.21, 'seasonality_prior_scale': 0.011, 'holidays_prior_scale': 0.0005}, {'changepoint_prior_scale': 0.21, 'seasonality_prior_scale': 0.011, 'holidays_prior_scale': 0.0007}, {'changepoint_prior_scale': 0.21, 'seasonality_prior_scale': 0.011, 'holidays_prior_scale': 0.0009}, {'changepoint_prior_scale': 0.23, 'seasonality_prior_scale': 0.011, 'holidays_prior_scale': 0.0001}, {'changepoint_prior_scale': 0.23, 'seasonality_prior_scale': 0.011, 'holidays_prior_scale': 0.0003}, {'changepoint_prior_scale': 0.23, 'seasonality_prior_scale': 0.011, 'holidays_prior_scale': 0.0005}, {'changepoint_prior_scale': 0.23, 'seasonality_prior_scale': 0.011, 'holidays_prior_scale': 0.0007}, {'changepoint_prior_scale': 0.23, 'seasonality_prior_scale': 0.011, 'holidays_prior_scale': 0.0009}, {'changepoint_prior_scale': 0.23, 'seasonality_prior_scale': 0.011, 'holidays_prior_scale': 0.0001}, {'changepoint_prior_scale': 0.23, 'seasonality_prior_scale': 0.011, 'holidays_prior_scale': 0.0003}, {'changepoint_prior_scale': 0.23, 'seasonality_prior_scale': 0.011, 'holidays_prior_scale': 0.0005}, {'changepoint_prior_scale': 0.23, 'seasonality_prior_scale': 0.011, 'holidays_prior_scale': 0.0007}, {'changepoint_prior_scale': 0.23, 'seasonality_prior_scale': 0.011, 'holidays_prior_scale': 0.0009}, {'changepoint_prior_scale': 0.23, 'seasonality_prior_scale': 0.011, 'holidays_prior_scale': 0.0001}, {'changepoint_prior_scale': 0.23, 'seasonality_prior_scale': 0.011, 'holidays_prior_scale': 0.0003}, {'changepoint_prior_scale': 0.23, 'seasonality_prior_scale': 0.011, 'holidays_prior_scale': 0.0005}, {'changepoint_prior_scale': 0.23, 'seasonality_prior_scale': 0.011, 'holidays_prior_scale': 0.0007}, {'changepoint_prior_scale': 0.23, 'seasonality_prior_scale': 0.011, 'holidays_prior_scale': 0.0009}, {'changepoint_prior_scale': 0.23, 'seasonality_prior_scale': 0.011, 'holidays_prior_scale': 0.0001}, {'changepoint_prior_scale': 0.23, 'seasonality_prior_scale': 0.011, 'holidays_prior_scale': 0.0003}, {'changepoint_prior_scale': 0.23, 'seasonality_prior_scale': 0.011, 'holidays_prior_scale': 0.0005}, {'changepoint_prior_scale': 0.23, 'seasonality_prior_scale': 0.011, 'holidays_prior_scale': 0.0007}, {'changepoint_prior_scale': 0.23, 'seasonality_prior_scale': 0.011, 'holidays_prior_scale': 0.0009}, {'changepoint_prior_scale': 0.25, 'seasonality_prior_scale': 0.011, 'holidays_prior_scale': 0.0001}, {'changepoint_prior_scale': 0.25, 'seasonality_prior_scale': 0.011, 'holidays_prior_scale': 0.0003}, {'changepoint_prior_scale': 0.25, 'seasonality_prior_scale': 0.011, 'holidays_prior_scale': 0.0005}, {'changepoint_prior_scale': 0.25, 'seasonality_prior_scale': 0.011, 'holidays_prior_scale': 0.0007}, {'changepoint_prior_scale': 0.25, 'seasonality_prior_scale': 0.011, 'holidays_prior_scale': 0.0009}, {'changepoint_prior_scale': 0.25, 'seasonality_prior_scale': 0.011, 'holidays_prior_scale': 0.0001}, {'changepoint_prior_scale': 0.25, 'seasonality_prior_scale': 0.011, 'holidays_prior_scale': 0.0003}, {'changepoint_prior_scale': 0.25, 'seasonality_prior_scale': 0.011, 'holidays_prior_scale': 0.0005}, {'changepoint_prior_scale': 0.25, 'seasonality_prior_scale': 0.011, 'holidays_prior_scale': 0.0007}, {'changepoint_prior_scale': 0.25, 'seasonality_prior_scale': 0.011, 'holidays_prior_scale': 0.0009}, {'changepoint_prior_scale': 0.25, 'seasonality_prior_scale': 0.011, 'holidays_prior_scale': 0.0001}, {'changepoint_prior_scale': 0.25, 'seasonality_prior_scale': 0.011, 'holidays_prior_scale': 0.0003}, {'changepoint_prior_scale': 0.25, 'seasonality_prior_scale': 0.011, 'holidays_prior_scale': 0.0005}, {'changepoint_prior_scale': 0.25, 'seasonality_prior_scale': 0.011, 'holidays_prior_scale': 0.0007}, {'changepoint_prior_scale': 0.25, 'seasonality_prior_scale': 0.011, 'holidays_prior_scale': 0.0009}, {'changepoint_prior_scale': 0.25, 'seasonality_prior_scale': 0.011, 'holidays_prior_scale': 0.0001}, {'changepoint_prior_scale': 0.25, 'seasonality_prior_scale': 0.011, 'holidays_prior_scale': 0.0003}, {'changepoint_prior_scale': 0.25, 'seasonality_prior_scale': 0.011, 'holidays_prior_scale': 0.0005}, {'changepoint_prior_scale': 0.25, 'seasonality_prior_scale': 0.011, 'holidays_prior_scale': 0.0007}, {'changepoint_prior_scale': 0.25, 'seasonality_prior_scale': 0.011, 'holidays_prior_scale': 0.0009}, {'changepoint_prior_scale': 0.27, 'seasonality_prior_scale': 0.011, 'holidays_prior_scale': 0.0001}, {'changepoint_prior_scale': 0.27, 'seasonality_prior_scale': 0.011, 'holidays_prior_scale': 0.0003}, {'changepoint_prior_scale': 0.27, 'seasonality_prior_scale': 0.011, 'holidays_prior_scale': 0.0005}, {'changepoint_prior_scale': 0.27, 'seasonality_prior_scale': 0.011, 'holidays_prior_scale': 0.0007}, {'changepoint_prior_scale': 0.27, 'seasonality_prior_scale': 0.011, 'holidays_prior_scale': 0.0009}, {'changepoint_prior_scale': 0.27, 'seasonality_prior_scale': 0.011, 'holidays_prior_scale': 0.0001}, {'changepoint_prior_scale': 0.27, 'seasonality_prior_scale': 0.011, 'holidays_prior_scale': 0.0003}, {'changepoint_prior_scale': 0.27, 'seasonality_prior_scale': 0.011, 'holidays_prior_scale': 0.0005}, {'changepoint_prior_scale': 0.27, 'seasonality_prior_scale': 0.011, 'holidays_prior_scale': 0.0007}, {'changepoint_prior_scale': 0.27, 'seasonality_prior_scale': 0.011, 'holidays_prior_scale': 0.0009}, {'changepoint_prior_scale': 0.27, 'seasonality_prior_scale': 0.011, 'holidays_prior_scale': 0.0001}, {'changepoint_prior_scale': 0.27, 'seasonality_prior_scale': 0.011, 'holidays_prior_scale': 0.0003}, {'changepoint_prior_scale': 0.27, 'seasonality_prior_scale': 0.011, 'holidays_prior_scale': 0.0005}, {'changepoint_prior_scale': 0.27, 'seasonality_prior_scale': 0.011, 'holidays_prior_scale': 0.0007}, {'changepoint_prior_scale': 0.27, 'seasonality_prior_scale': 0.011, 'holidays_prior_scale': 0.0009}, {'changepoint_prior_scale': 0.27, 'seasonality_prior_scale': 0.011, 'holidays_prior_scale': 0.0001}, {'changepoint_prior_scale': 0.27, 'seasonality_prior_scale': 0.011, 'holidays_prior_scale': 0.0003}, {'changepoint_prior_scale': 0.27, 'seasonality_prior_scale': 0.011, 'holidays_prior_scale': 0.0005}, {'changepoint_prior_scale': 0.27, 'seasonality_prior_scale': 0.011, 'holidays_prior_scale': 0.0007}, {'changepoint_prior_scale': 0.27, 'seasonality_prior_scale': 0.011, 'holidays_prior_scale': 0.0009}]\n"
     ]
    }
   ],
   "source": [
    "print(all_params)"
   ]
  },
  {
   "cell_type": "code",
   "execution_count": 5,
   "id": "b221b7cf",
   "metadata": {},
   "outputs": [
    {
     "name": "stdout",
     "output_type": "stream",
     "text": [
      "0.001816872060118014\n"
     ]
    }
   ],
   "source": [
    "print(tuning_results[['rmse','mse','mae']].min().min())"
   ]
  },
  {
   "cell_type": "code",
   "execution_count": 6,
   "id": "aa1c06bf",
   "metadata": {},
   "outputs": [],
   "source": [
    "combined_row_value = []\n",
    "\n",
    "for ind in tuning_results.index:\n",
    "    sum_val = tuning_results['rmse'][ind] + tuning_results['mse'][ind] + tuning_results['mae'][ind]\n",
    "    combined_row_value.append(dict(index=ind, sum_val=sum_val))"
   ]
  },
  {
   "cell_type": "code",
   "execution_count": 10,
   "id": "676d9e1d",
   "metadata": {},
   "outputs": [
    {
     "name": "stdout",
     "output_type": "stream",
     "text": [
      "[{'index': 0, 'sum_val': 0.15150974460084043}, {'index': 1, 'sum_val': 0.15150974460084043}, {'index': 2, 'sum_val': 0.15150974460084043}, {'index': 3, 'sum_val': 0.15150974460084043}, {'index': 4, 'sum_val': 0.2179672706947755}, {'index': 5, 'sum_val': 0.2179672706947755}, {'index': 6, 'sum_val': 0.2179672706947755}, {'index': 7, 'sum_val': 0.2179672706947755}, {'index': 8, 'sum_val': 0.21410682801569425}, {'index': 9, 'sum_val': 0.21410682801569425}, {'index': 10, 'sum_val': 0.21410682801569425}, {'index': 11, 'sum_val': 0.21410682801569425}, {'index': 12, 'sum_val': 0.21345217544372647}, {'index': 13, 'sum_val': 0.21345217544372647}, {'index': 14, 'sum_val': 0.21345217544372647}, {'index': 15, 'sum_val': 0.21345217544372647}, {'index': 16, 'sum_val': 0.08466199315451514}, {'index': 17, 'sum_val': 0.08466199315451514}, {'index': 18, 'sum_val': 0.08466199315451514}, {'index': 19, 'sum_val': 0.08466199315451514}, {'index': 20, 'sum_val': 0.0842907807463856}, {'index': 21, 'sum_val': 0.0842907807463856}, {'index': 22, 'sum_val': 0.0842907807463856}, {'index': 23, 'sum_val': 0.0842907807463856}, {'index': 24, 'sum_val': 0.07840032415321918}, {'index': 25, 'sum_val': 0.07840032415321918}, {'index': 26, 'sum_val': 0.07840032415321918}, {'index': 27, 'sum_val': 0.07840032415321918}, {'index': 28, 'sum_val': 0.0783632039966271}, {'index': 29, 'sum_val': 0.0783632039966271}, {'index': 30, 'sum_val': 0.0783632039966271}, {'index': 31, 'sum_val': 0.0783632039966271}, {'index': 32, 'sum_val': 0.07719092734935093}, {'index': 33, 'sum_val': 0.07719092734935093}, {'index': 34, 'sum_val': 0.07719092734935093}, {'index': 35, 'sum_val': 0.07719092734935093}, {'index': 36, 'sum_val': 0.07800443239426716}, {'index': 37, 'sum_val': 0.07800443239426716}, {'index': 38, 'sum_val': 0.07800443239426716}, {'index': 39, 'sum_val': 0.07800443239426716}, {'index': 40, 'sum_val': 0.07795387745658125}, {'index': 41, 'sum_val': 0.07795387745658125}, {'index': 42, 'sum_val': 0.07795387745658125}, {'index': 43, 'sum_val': 0.07795387745658125}, {'index': 44, 'sum_val': 0.07791160776120698}, {'index': 45, 'sum_val': 0.07791160776120698}, {'index': 46, 'sum_val': 0.07791160776120698}, {'index': 47, 'sum_val': 0.07791160776120698}, {'index': 48, 'sum_val': 0.0775507236175168}, {'index': 49, 'sum_val': 0.0775507236175168}, {'index': 50, 'sum_val': 0.0775507236175168}, {'index': 51, 'sum_val': 0.0775507236175168}, {'index': 52, 'sum_val': 0.07873648773080148}, {'index': 53, 'sum_val': 0.07873648773080148}, {'index': 54, 'sum_val': 0.07873648773080148}, {'index': 55, 'sum_val': 0.07873648773080148}, {'index': 56, 'sum_val': 0.07841019048683359}, {'index': 57, 'sum_val': 0.07841019048683359}, {'index': 58, 'sum_val': 0.07841019048683359}, {'index': 59, 'sum_val': 0.07841019048683359}, {'index': 60, 'sum_val': 0.07885171655945532}, {'index': 61, 'sum_val': 0.07885171655945532}, {'index': 62, 'sum_val': 0.07885171655945532}, {'index': 63, 'sum_val': 0.07885171655945532}]\n"
     ]
    }
   ],
   "source": [
    "print(combined_row_value)"
   ]
  },
  {
   "cell_type": "code",
   "execution_count": 7,
   "id": "a031ac53",
   "metadata": {},
   "outputs": [
    {
     "name": "stdout",
     "output_type": "stream",
     "text": [
      "{'index': 40, 'sum_val': 0.0762273201956734}\n"
     ]
    }
   ],
   "source": [
    "print(min(combined_row_value, key=lambda x:x['sum_val']))\n"
   ]
  },
  {
   "cell_type": "code",
   "execution_count": 8,
   "id": "e1cd58b9",
   "metadata": {},
   "outputs": [
    {
     "name": "stdout",
     "output_type": "stream",
     "text": [
      "changepoint_prior_scale    0.250000\n",
      "seasonality_prior_scale    0.011000\n",
      "holidays_prior_scale       0.000100\n",
      "rmse                       0.042625\n",
      "mse                        0.001817\n",
      "mae                        0.031786\n",
      "Name: 40, dtype: float64\n"
     ]
    }
   ],
   "source": [
    "print(tuning_results.loc[40])"
   ]
  },
  {
   "cell_type": "code",
   "execution_count": null,
   "id": "bf2b1a4d",
   "metadata": {},
   "outputs": [],
   "source": []
  },
  {
   "cell_type": "code",
   "execution_count": null,
   "id": "cbc5280a",
   "metadata": {},
   "outputs": [],
   "source": []
  }
 ],
 "metadata": {
  "kernelspec": {
   "display_name": "Python 3 (ipykernel)",
   "language": "python",
   "name": "python3"
  },
  "language_info": {
   "codemirror_mode": {
    "name": "ipython",
    "version": 3
   },
   "file_extension": ".py",
   "mimetype": "text/x-python",
   "name": "python",
   "nbconvert_exporter": "python",
   "pygments_lexer": "ipython3",
   "version": "3.9.12"
  }
 },
 "nbformat": 4,
 "nbformat_minor": 5
}
