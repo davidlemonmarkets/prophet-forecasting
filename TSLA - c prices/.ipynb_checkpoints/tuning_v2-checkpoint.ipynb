{
 "cells": [
  {
   "cell_type": "code",
   "execution_count": 1,
   "id": "2968028f",
   "metadata": {},
   "outputs": [
    {
     "name": "stderr",
     "output_type": "stream",
     "text": [
      "11:08:15 - cmdstanpy - INFO - Chain [1] start processing\n",
      "11:08:15 - cmdstanpy - INFO - Chain [1] done processing\n",
      "11:08:15 - cmdstanpy - ERROR - Chain [1] error: error during processing Stale NFS file handle\n",
      "Optimization terminated abnormally. Falling back to Newton.\n",
      "11:08:15 - cmdstanpy - INFO - Chain [1] start processing\n",
      "11:08:16 - cmdstanpy - INFO - Chain [1] done processing\n"
     ]
    },
    {
     "data": {
      "application/vnd.jupyter.widget-view+json": {
       "model_id": "06a60b9f2b3a4669bf7f35c023c91757",
       "version_major": 2,
       "version_minor": 0
      },
      "text/plain": [
       "  0%|          | 0/4 [00:00<?, ?it/s]"
      ]
     },
     "metadata": {},
     "output_type": "display_data"
    },
    {
     "name": "stderr",
     "output_type": "stream",
     "text": [
      "11:08:16 - cmdstanpy - INFO - Chain [1] start processing\n",
      "11:08:16 - cmdstanpy - INFO - Chain [1] done processing\n",
      "11:08:17 - cmdstanpy - INFO - Chain [1] start processing\n",
      "11:08:17 - cmdstanpy - INFO - Chain [1] done processing\n",
      "11:08:17 - cmdstanpy - ERROR - Chain [1] error: error during processing Stale NFS file handle\n",
      "Optimization terminated abnormally. Falling back to Newton.\n",
      "11:08:17 - cmdstanpy - INFO - Chain [1] start processing\n",
      "11:08:17 - cmdstanpy - INFO - Chain [1] done processing\n",
      "11:08:18 - cmdstanpy - INFO - Chain [1] start processing\n",
      "11:08:18 - cmdstanpy - INFO - Chain [1] done processing\n",
      "11:08:19 - cmdstanpy - INFO - Chain [1] start processing\n",
      "11:08:19 - cmdstanpy - INFO - Chain [1] done processing\n",
      "11:08:19 - cmdstanpy - ERROR - Chain [1] error: error during processing Stale NFS file handle\n",
      "Optimization terminated abnormally. Falling back to Newton.\n",
      "11:08:19 - cmdstanpy - INFO - Chain [1] start processing\n",
      "11:08:19 - cmdstanpy - INFO - Chain [1] done processing\n",
      "11:08:20 - cmdstanpy - INFO - Chain [1] start processing\n",
      "11:08:20 - cmdstanpy - INFO - Chain [1] done processing\n",
      "11:08:20 - cmdstanpy - ERROR - Chain [1] error: error during processing Stale NFS file handle\n",
      "Optimization terminated abnormally. Falling back to Newton.\n",
      "11:08:20 - cmdstanpy - INFO - Chain [1] start processing\n",
      "11:08:20 - cmdstanpy - INFO - Chain [1] done processing\n"
     ]
    },
    {
     "data": {
      "application/vnd.jupyter.widget-view+json": {
       "model_id": "e792ee25e84a45e3a7c34104acf8ea29",
       "version_major": 2,
       "version_minor": 0
      },
      "text/plain": [
       "  0%|          | 0/4 [00:00<?, ?it/s]"
      ]
     },
     "metadata": {},
     "output_type": "display_data"
    },
    {
     "name": "stderr",
     "output_type": "stream",
     "text": [
      "11:08:20 - cmdstanpy - INFO - Chain [1] start processing\n",
      "11:08:21 - cmdstanpy - INFO - Chain [1] done processing\n",
      "11:08:21 - cmdstanpy - INFO - Chain [1] start processing\n",
      "11:08:21 - cmdstanpy - INFO - Chain [1] done processing\n",
      "11:08:21 - cmdstanpy - ERROR - Chain [1] error: error during processing Stale NFS file handle\n",
      "Optimization terminated abnormally. Falling back to Newton.\n",
      "11:08:21 - cmdstanpy - INFO - Chain [1] start processing\n",
      "11:08:22 - cmdstanpy - INFO - Chain [1] done processing\n",
      "11:08:22 - cmdstanpy - INFO - Chain [1] start processing\n",
      "11:08:22 - cmdstanpy - INFO - Chain [1] done processing\n",
      "11:08:23 - cmdstanpy - INFO - Chain [1] start processing\n",
      "11:08:23 - cmdstanpy - INFO - Chain [1] done processing\n",
      "11:08:23 - cmdstanpy - ERROR - Chain [1] error: error during processing Stale NFS file handle\n",
      "Optimization terminated abnormally. Falling back to Newton.\n",
      "11:08:23 - cmdstanpy - INFO - Chain [1] start processing\n",
      "11:08:23 - cmdstanpy - INFO - Chain [1] done processing\n",
      "11:08:24 - cmdstanpy - INFO - Chain [1] start processing\n",
      "11:08:24 - cmdstanpy - INFO - Chain [1] done processing\n",
      "11:08:24 - cmdstanpy - ERROR - Chain [1] error: error during processing Stale NFS file handle\n",
      "Optimization terminated abnormally. Falling back to Newton.\n",
      "11:08:24 - cmdstanpy - INFO - Chain [1] start processing\n",
      "11:08:24 - cmdstanpy - INFO - Chain [1] done processing\n"
     ]
    },
    {
     "data": {
      "application/vnd.jupyter.widget-view+json": {
       "model_id": "7942c151b2f34d2db4dcb1a9042b1b7f",
       "version_major": 2,
       "version_minor": 0
      },
      "text/plain": [
       "  0%|          | 0/4 [00:00<?, ?it/s]"
      ]
     },
     "metadata": {},
     "output_type": "display_data"
    },
    {
     "name": "stderr",
     "output_type": "stream",
     "text": [
      "11:08:24 - cmdstanpy - INFO - Chain [1] start processing\n",
      "11:08:25 - cmdstanpy - INFO - Chain [1] done processing\n",
      "11:08:25 - cmdstanpy - INFO - Chain [1] start processing\n",
      "11:08:25 - cmdstanpy - INFO - Chain [1] done processing\n",
      "11:08:25 - cmdstanpy - ERROR - Chain [1] error: error during processing Stale NFS file handle\n",
      "Optimization terminated abnormally. Falling back to Newton.\n",
      "11:08:25 - cmdstanpy - INFO - Chain [1] start processing\n",
      "11:08:26 - cmdstanpy - INFO - Chain [1] done processing\n",
      "11:08:26 - cmdstanpy - INFO - Chain [1] start processing\n",
      "11:08:26 - cmdstanpy - INFO - Chain [1] done processing\n",
      "11:08:27 - cmdstanpy - INFO - Chain [1] start processing\n",
      "11:08:27 - cmdstanpy - INFO - Chain [1] done processing\n",
      "11:08:27 - cmdstanpy - ERROR - Chain [1] error: error during processing Stale NFS file handle\n",
      "Optimization terminated abnormally. Falling back to Newton.\n",
      "11:08:27 - cmdstanpy - INFO - Chain [1] start processing\n",
      "11:08:27 - cmdstanpy - INFO - Chain [1] done processing\n",
      "11:08:28 - cmdstanpy - INFO - Chain [1] start processing\n",
      "11:08:28 - cmdstanpy - INFO - Chain [1] done processing\n",
      "11:08:28 - cmdstanpy - ERROR - Chain [1] error: error during processing Stale NFS file handle\n",
      "Optimization terminated abnormally. Falling back to Newton.\n",
      "11:08:28 - cmdstanpy - INFO - Chain [1] start processing\n",
      "11:08:28 - cmdstanpy - INFO - Chain [1] done processing\n"
     ]
    },
    {
     "data": {
      "application/vnd.jupyter.widget-view+json": {
       "model_id": "3645b9b432a04c6792b218be0d1d6257",
       "version_major": 2,
       "version_minor": 0
      },
      "text/plain": [
       "  0%|          | 0/4 [00:00<?, ?it/s]"
      ]
     },
     "metadata": {},
     "output_type": "display_data"
    },
    {
     "name": "stderr",
     "output_type": "stream",
     "text": [
      "11:08:28 - cmdstanpy - INFO - Chain [1] start processing\n",
      "11:08:29 - cmdstanpy - INFO - Chain [1] done processing\n",
      "11:08:30 - cmdstanpy - INFO - Chain [1] start processing\n",
      "11:08:30 - cmdstanpy - INFO - Chain [1] done processing\n",
      "11:08:30 - cmdstanpy - ERROR - Chain [1] error: error during processing Stale NFS file handle\n",
      "Optimization terminated abnormally. Falling back to Newton.\n",
      "11:08:30 - cmdstanpy - INFO - Chain [1] start processing\n",
      "11:08:30 - cmdstanpy - INFO - Chain [1] done processing\n",
      "11:08:30 - cmdstanpy - INFO - Chain [1] start processing\n",
      "11:08:30 - cmdstanpy - INFO - Chain [1] done processing\n",
      "11:08:31 - cmdstanpy - INFO - Chain [1] start processing\n",
      "11:08:31 - cmdstanpy - INFO - Chain [1] done processing\n",
      "11:08:31 - cmdstanpy - ERROR - Chain [1] error: error during processing Stale NFS file handle\n",
      "Optimization terminated abnormally. Falling back to Newton.\n",
      "11:08:31 - cmdstanpy - INFO - Chain [1] start processing\n",
      "11:08:31 - cmdstanpy - INFO - Chain [1] done processing\n",
      "11:08:32 - cmdstanpy - INFO - Chain [1] start processing\n",
      "11:08:32 - cmdstanpy - INFO - Chain [1] done processing\n",
      "11:08:32 - cmdstanpy - ERROR - Chain [1] error: error during processing Stale NFS file handle\n",
      "Optimization terminated abnormally. Falling back to Newton.\n",
      "11:08:32 - cmdstanpy - INFO - Chain [1] start processing\n",
      "11:08:32 - cmdstanpy - INFO - Chain [1] done processing\n"
     ]
    },
    {
     "data": {
      "application/vnd.jupyter.widget-view+json": {
       "model_id": "92acd017e6764a5694e0d52573d6c17b",
       "version_major": 2,
       "version_minor": 0
      },
      "text/plain": [
       "  0%|          | 0/4 [00:00<?, ?it/s]"
      ]
     },
     "metadata": {},
     "output_type": "display_data"
    },
    {
     "name": "stderr",
     "output_type": "stream",
     "text": [
      "11:08:32 - cmdstanpy - INFO - Chain [1] start processing\n",
      "11:08:34 - cmdstanpy - INFO - Chain [1] done processing\n",
      "11:08:34 - cmdstanpy - INFO - Chain [1] start processing\n",
      "11:08:34 - cmdstanpy - INFO - Chain [1] done processing\n",
      "11:08:34 - cmdstanpy - ERROR - Chain [1] error: error during processing Stale NFS file handle\n",
      "Optimization terminated abnormally. Falling back to Newton.\n",
      "11:08:34 - cmdstanpy - INFO - Chain [1] start processing\n",
      "11:08:35 - cmdstanpy - INFO - Chain [1] done processing\n",
      "11:08:35 - cmdstanpy - INFO - Chain [1] start processing\n",
      "11:08:35 - cmdstanpy - INFO - Chain [1] done processing\n",
      "11:08:36 - cmdstanpy - INFO - Chain [1] start processing\n",
      "11:08:36 - cmdstanpy - INFO - Chain [1] done processing\n",
      "11:08:36 - cmdstanpy - ERROR - Chain [1] error: error during processing Stale NFS file handle\n",
      "Optimization terminated abnormally. Falling back to Newton.\n",
      "11:08:36 - cmdstanpy - INFO - Chain [1] start processing\n",
      "11:08:36 - cmdstanpy - INFO - Chain [1] done processing\n",
      "11:08:37 - cmdstanpy - INFO - Chain [1] start processing\n",
      "11:08:37 - cmdstanpy - INFO - Chain [1] done processing\n",
      "11:08:37 - cmdstanpy - ERROR - Chain [1] error: error during processing Stale NFS file handle\n",
      "Optimization terminated abnormally. Falling back to Newton.\n",
      "11:08:37 - cmdstanpy - INFO - Chain [1] start processing\n",
      "11:08:37 - cmdstanpy - INFO - Chain [1] done processing\n"
     ]
    },
    {
     "data": {
      "application/vnd.jupyter.widget-view+json": {
       "model_id": "1ab8afd3c4224d5d9b918bc397222545",
       "version_major": 2,
       "version_minor": 0
      },
      "text/plain": [
       "  0%|          | 0/4 [00:00<?, ?it/s]"
      ]
     },
     "metadata": {},
     "output_type": "display_data"
    },
    {
     "name": "stderr",
     "output_type": "stream",
     "text": [
      "11:08:37 - cmdstanpy - INFO - Chain [1] start processing\n",
      "11:08:38 - cmdstanpy - INFO - Chain [1] done processing\n",
      "11:08:39 - cmdstanpy - INFO - Chain [1] start processing\n",
      "11:08:39 - cmdstanpy - INFO - Chain [1] done processing\n",
      "11:08:39 - cmdstanpy - ERROR - Chain [1] error: error during processing Stale NFS file handle\n",
      "Optimization terminated abnormally. Falling back to Newton.\n",
      "11:08:39 - cmdstanpy - INFO - Chain [1] start processing\n",
      "11:08:39 - cmdstanpy - INFO - Chain [1] done processing\n",
      "11:08:40 - cmdstanpy - INFO - Chain [1] start processing\n",
      "11:08:40 - cmdstanpy - INFO - Chain [1] done processing\n",
      "11:08:41 - cmdstanpy - INFO - Chain [1] start processing\n",
      "11:08:41 - cmdstanpy - INFO - Chain [1] done processing\n",
      "11:08:41 - cmdstanpy - ERROR - Chain [1] error: error during processing Stale NFS file handle\n",
      "Optimization terminated abnormally. Falling back to Newton.\n",
      "11:08:41 - cmdstanpy - INFO - Chain [1] start processing\n",
      "11:08:41 - cmdstanpy - INFO - Chain [1] done processing\n",
      "11:08:42 - cmdstanpy - INFO - Chain [1] start processing\n",
      "11:08:42 - cmdstanpy - INFO - Chain [1] done processing\n",
      "11:08:42 - cmdstanpy - ERROR - Chain [1] error: error during processing Stale NFS file handle\n",
      "Optimization terminated abnormally. Falling back to Newton.\n",
      "11:08:42 - cmdstanpy - INFO - Chain [1] start processing\n",
      "11:08:42 - cmdstanpy - INFO - Chain [1] done processing\n"
     ]
    },
    {
     "data": {
      "application/vnd.jupyter.widget-view+json": {
       "model_id": "e101a1baa8a04b00a235224b8eef8fea",
       "version_major": 2,
       "version_minor": 0
      },
      "text/plain": [
       "  0%|          | 0/4 [00:00<?, ?it/s]"
      ]
     },
     "metadata": {},
     "output_type": "display_data"
    },
    {
     "name": "stderr",
     "output_type": "stream",
     "text": [
      "11:08:42 - cmdstanpy - INFO - Chain [1] start processing\n",
      "11:08:43 - cmdstanpy - INFO - Chain [1] done processing\n",
      "11:08:44 - cmdstanpy - INFO - Chain [1] start processing\n",
      "11:08:44 - cmdstanpy - INFO - Chain [1] done processing\n",
      "11:08:44 - cmdstanpy - ERROR - Chain [1] error: error during processing Stale NFS file handle\n",
      "Optimization terminated abnormally. Falling back to Newton.\n",
      "11:08:44 - cmdstanpy - INFO - Chain [1] start processing\n",
      "11:08:44 - cmdstanpy - INFO - Chain [1] done processing\n",
      "11:08:45 - cmdstanpy - INFO - Chain [1] start processing\n",
      "11:08:45 - cmdstanpy - INFO - Chain [1] done processing\n",
      "11:08:45 - cmdstanpy - INFO - Chain [1] start processing\n",
      "11:08:45 - cmdstanpy - INFO - Chain [1] done processing\n",
      "11:08:45 - cmdstanpy - ERROR - Chain [1] error: error during processing Stale NFS file handle\n",
      "Optimization terminated abnormally. Falling back to Newton.\n",
      "11:08:45 - cmdstanpy - INFO - Chain [1] start processing\n",
      "11:08:46 - cmdstanpy - INFO - Chain [1] done processing\n",
      "11:08:46 - cmdstanpy - INFO - Chain [1] start processing\n",
      "11:08:46 - cmdstanpy - INFO - Chain [1] done processing\n",
      "11:08:46 - cmdstanpy - ERROR - Chain [1] error: error during processing Stale NFS file handle\n",
      "Optimization terminated abnormally. Falling back to Newton.\n",
      "11:08:46 - cmdstanpy - INFO - Chain [1] start processing\n",
      "11:08:47 - cmdstanpy - INFO - Chain [1] done processing\n"
     ]
    },
    {
     "data": {
      "application/vnd.jupyter.widget-view+json": {
       "model_id": "b650dc5c7051414b8c8b555da57bfc2f",
       "version_major": 2,
       "version_minor": 0
      },
      "text/plain": [
       "  0%|          | 0/4 [00:00<?, ?it/s]"
      ]
     },
     "metadata": {},
     "output_type": "display_data"
    },
    {
     "name": "stderr",
     "output_type": "stream",
     "text": [
      "11:08:47 - cmdstanpy - INFO - Chain [1] start processing\n",
      "11:08:48 - cmdstanpy - INFO - Chain [1] done processing\n",
      "11:08:48 - cmdstanpy - INFO - Chain [1] start processing\n",
      "11:08:48 - cmdstanpy - INFO - Chain [1] done processing\n",
      "11:08:48 - cmdstanpy - ERROR - Chain [1] error: error during processing Stale NFS file handle\n",
      "Optimization terminated abnormally. Falling back to Newton.\n",
      "11:08:48 - cmdstanpy - INFO - Chain [1] start processing\n",
      "11:08:49 - cmdstanpy - INFO - Chain [1] done processing\n",
      "11:08:49 - cmdstanpy - INFO - Chain [1] start processing\n",
      "11:08:49 - cmdstanpy - INFO - Chain [1] done processing\n",
      "11:08:50 - cmdstanpy - INFO - Chain [1] start processing\n",
      "11:08:50 - cmdstanpy - INFO - Chain [1] done processing\n",
      "11:08:50 - cmdstanpy - ERROR - Chain [1] error: error during processing Stale NFS file handle\n",
      "Optimization terminated abnormally. Falling back to Newton.\n",
      "11:08:50 - cmdstanpy - INFO - Chain [1] start processing\n",
      "11:08:50 - cmdstanpy - INFO - Chain [1] done processing\n",
      "11:08:51 - cmdstanpy - INFO - Chain [1] start processing\n",
      "11:08:51 - cmdstanpy - INFO - Chain [1] done processing\n",
      "11:08:51 - cmdstanpy - ERROR - Chain [1] error: error during processing Stale NFS file handle\n",
      "Optimization terminated abnormally. Falling back to Newton.\n",
      "11:08:51 - cmdstanpy - INFO - Chain [1] start processing\n",
      "11:08:51 - cmdstanpy - INFO - Chain [1] done processing\n"
     ]
    },
    {
     "data": {
      "application/vnd.jupyter.widget-view+json": {
       "model_id": "7c86761c013f4df889d70f3346e0155e",
       "version_major": 2,
       "version_minor": 0
      },
      "text/plain": [
       "  0%|          | 0/4 [00:00<?, ?it/s]"
      ]
     },
     "metadata": {},
     "output_type": "display_data"
    },
    {
     "name": "stderr",
     "output_type": "stream",
     "text": [
      "11:08:51 - cmdstanpy - INFO - Chain [1] start processing\n",
      "11:08:53 - cmdstanpy - INFO - Chain [1] done processing\n",
      "11:08:53 - cmdstanpy - INFO - Chain [1] start processing\n",
      "11:08:53 - cmdstanpy - INFO - Chain [1] done processing\n",
      "11:08:53 - cmdstanpy - ERROR - Chain [1] error: error during processing Stale NFS file handle\n",
      "Optimization terminated abnormally. Falling back to Newton.\n",
      "11:08:53 - cmdstanpy - INFO - Chain [1] start processing\n",
      "11:08:54 - cmdstanpy - INFO - Chain [1] done processing\n",
      "11:08:54 - cmdstanpy - INFO - Chain [1] start processing\n",
      "11:08:54 - cmdstanpy - INFO - Chain [1] done processing\n",
      "11:08:55 - cmdstanpy - INFO - Chain [1] start processing\n",
      "11:08:55 - cmdstanpy - INFO - Chain [1] done processing\n",
      "11:08:55 - cmdstanpy - ERROR - Chain [1] error: error during processing Stale NFS file handle\n",
      "Optimization terminated abnormally. Falling back to Newton.\n",
      "11:08:55 - cmdstanpy - INFO - Chain [1] start processing\n",
      "11:08:55 - cmdstanpy - INFO - Chain [1] done processing\n",
      "11:08:56 - cmdstanpy - INFO - Chain [1] start processing\n",
      "11:08:56 - cmdstanpy - INFO - Chain [1] done processing\n",
      "11:08:56 - cmdstanpy - ERROR - Chain [1] error: error during processing Stale NFS file handle\n",
      "Optimization terminated abnormally. Falling back to Newton.\n",
      "11:08:56 - cmdstanpy - INFO - Chain [1] start processing\n",
      "11:08:56 - cmdstanpy - INFO - Chain [1] done processing\n"
     ]
    },
    {
     "data": {
      "application/vnd.jupyter.widget-view+json": {
       "model_id": "743414933b75447c8efbed1c911f153a",
       "version_major": 2,
       "version_minor": 0
      },
      "text/plain": [
       "  0%|          | 0/4 [00:00<?, ?it/s]"
      ]
     },
     "metadata": {},
     "output_type": "display_data"
    },
    {
     "name": "stderr",
     "output_type": "stream",
     "text": [
      "11:08:56 - cmdstanpy - INFO - Chain [1] start processing\n",
      "11:08:58 - cmdstanpy - INFO - Chain [1] done processing\n",
      "11:08:58 - cmdstanpy - INFO - Chain [1] start processing\n",
      "11:08:58 - cmdstanpy - INFO - Chain [1] done processing\n",
      "11:08:58 - cmdstanpy - ERROR - Chain [1] error: error during processing Stale NFS file handle\n",
      "Optimization terminated abnormally. Falling back to Newton.\n",
      "11:08:58 - cmdstanpy - INFO - Chain [1] start processing\n",
      "11:08:58 - cmdstanpy - INFO - Chain [1] done processing\n",
      "11:08:59 - cmdstanpy - INFO - Chain [1] start processing\n",
      "11:08:59 - cmdstanpy - INFO - Chain [1] done processing\n",
      "11:09:00 - cmdstanpy - INFO - Chain [1] start processing\n",
      "11:09:00 - cmdstanpy - INFO - Chain [1] done processing\n",
      "11:09:00 - cmdstanpy - ERROR - Chain [1] error: error during processing Stale NFS file handle\n",
      "Optimization terminated abnormally. Falling back to Newton.\n",
      "11:09:00 - cmdstanpy - INFO - Chain [1] start processing\n",
      "11:09:00 - cmdstanpy - INFO - Chain [1] done processing\n",
      "11:09:01 - cmdstanpy - INFO - Chain [1] start processing\n",
      "11:09:01 - cmdstanpy - INFO - Chain [1] done processing\n",
      "11:09:01 - cmdstanpy - ERROR - Chain [1] error: error during processing Stale NFS file handle\n",
      "Optimization terminated abnormally. Falling back to Newton.\n",
      "11:09:01 - cmdstanpy - INFO - Chain [1] start processing\n",
      "11:09:01 - cmdstanpy - INFO - Chain [1] done processing\n"
     ]
    },
    {
     "data": {
      "application/vnd.jupyter.widget-view+json": {
       "model_id": "19b6f168612743989b7afe058434ed5b",
       "version_major": 2,
       "version_minor": 0
      },
      "text/plain": [
       "  0%|          | 0/4 [00:00<?, ?it/s]"
      ]
     },
     "metadata": {},
     "output_type": "display_data"
    },
    {
     "name": "stderr",
     "output_type": "stream",
     "text": [
      "11:09:01 - cmdstanpy - INFO - Chain [1] start processing\n",
      "11:09:02 - cmdstanpy - INFO - Chain [1] done processing\n",
      "11:09:03 - cmdstanpy - INFO - Chain [1] start processing\n",
      "11:09:03 - cmdstanpy - INFO - Chain [1] done processing\n",
      "11:09:03 - cmdstanpy - ERROR - Chain [1] error: error during processing Stale NFS file handle\n",
      "Optimization terminated abnormally. Falling back to Newton.\n",
      "11:09:03 - cmdstanpy - INFO - Chain [1] start processing\n",
      "11:09:03 - cmdstanpy - INFO - Chain [1] done processing\n",
      "11:09:04 - cmdstanpy - INFO - Chain [1] start processing\n",
      "11:09:04 - cmdstanpy - INFO - Chain [1] done processing\n",
      "11:09:04 - cmdstanpy - INFO - Chain [1] start processing\n",
      "11:09:04 - cmdstanpy - INFO - Chain [1] done processing\n",
      "11:09:04 - cmdstanpy - ERROR - Chain [1] error: error during processing Stale NFS file handle\n",
      "Optimization terminated abnormally. Falling back to Newton.\n",
      "11:09:04 - cmdstanpy - INFO - Chain [1] start processing\n",
      "11:09:05 - cmdstanpy - INFO - Chain [1] done processing\n",
      "11:09:05 - cmdstanpy - INFO - Chain [1] start processing\n",
      "11:09:05 - cmdstanpy - INFO - Chain [1] done processing\n",
      "11:09:05 - cmdstanpy - ERROR - Chain [1] error: error during processing Stale NFS file handle\n",
      "Optimization terminated abnormally. Falling back to Newton.\n",
      "11:09:05 - cmdstanpy - INFO - Chain [1] start processing\n",
      "11:09:06 - cmdstanpy - INFO - Chain [1] done processing\n"
     ]
    },
    {
     "data": {
      "application/vnd.jupyter.widget-view+json": {
       "model_id": "69f8aefea8ea450f905214138d1a7e62",
       "version_major": 2,
       "version_minor": 0
      },
      "text/plain": [
       "  0%|          | 0/4 [00:00<?, ?it/s]"
      ]
     },
     "metadata": {},
     "output_type": "display_data"
    },
    {
     "name": "stderr",
     "output_type": "stream",
     "text": [
      "11:09:06 - cmdstanpy - INFO - Chain [1] start processing\n",
      "11:09:07 - cmdstanpy - INFO - Chain [1] done processing\n",
      "11:09:08 - cmdstanpy - INFO - Chain [1] start processing\n",
      "11:09:08 - cmdstanpy - INFO - Chain [1] done processing\n",
      "11:09:08 - cmdstanpy - ERROR - Chain [1] error: error during processing Stale NFS file handle\n",
      "Optimization terminated abnormally. Falling back to Newton.\n",
      "11:09:08 - cmdstanpy - INFO - Chain [1] start processing\n",
      "11:09:08 - cmdstanpy - INFO - Chain [1] done processing\n",
      "11:09:09 - cmdstanpy - INFO - Chain [1] start processing\n",
      "11:09:09 - cmdstanpy - INFO - Chain [1] done processing\n",
      "11:09:09 - cmdstanpy - INFO - Chain [1] start processing\n",
      "11:09:09 - cmdstanpy - INFO - Chain [1] done processing\n",
      "11:09:09 - cmdstanpy - ERROR - Chain [1] error: error during processing Stale NFS file handle\n",
      "Optimization terminated abnormally. Falling back to Newton.\n",
      "11:09:09 - cmdstanpy - INFO - Chain [1] start processing\n",
      "11:09:10 - cmdstanpy - INFO - Chain [1] done processing\n",
      "11:09:10 - cmdstanpy - INFO - Chain [1] start processing\n",
      "11:09:10 - cmdstanpy - INFO - Chain [1] done processing\n",
      "11:09:10 - cmdstanpy - ERROR - Chain [1] error: error during processing Stale NFS file handle\n",
      "Optimization terminated abnormally. Falling back to Newton.\n",
      "11:09:10 - cmdstanpy - INFO - Chain [1] start processing\n",
      "11:09:11 - cmdstanpy - INFO - Chain [1] done processing\n"
     ]
    },
    {
     "data": {
      "application/vnd.jupyter.widget-view+json": {
       "model_id": "0ca84fa9720447f89b72cd1916cef52b",
       "version_major": 2,
       "version_minor": 0
      },
      "text/plain": [
       "  0%|          | 0/4 [00:00<?, ?it/s]"
      ]
     },
     "metadata": {},
     "output_type": "display_data"
    },
    {
     "name": "stderr",
     "output_type": "stream",
     "text": [
      "11:09:11 - cmdstanpy - INFO - Chain [1] start processing\n",
      "11:09:12 - cmdstanpy - INFO - Chain [1] done processing\n",
      "11:09:12 - cmdstanpy - INFO - Chain [1] start processing\n",
      "11:09:12 - cmdstanpy - INFO - Chain [1] done processing\n",
      "11:09:12 - cmdstanpy - ERROR - Chain [1] error: error during processing Stale NFS file handle\n",
      "Optimization terminated abnormally. Falling back to Newton.\n",
      "11:09:12 - cmdstanpy - INFO - Chain [1] start processing\n",
      "11:09:13 - cmdstanpy - INFO - Chain [1] done processing\n",
      "11:09:13 - cmdstanpy - INFO - Chain [1] start processing\n",
      "11:09:13 - cmdstanpy - INFO - Chain [1] done processing\n",
      "11:09:14 - cmdstanpy - INFO - Chain [1] start processing\n",
      "11:09:14 - cmdstanpy - INFO - Chain [1] done processing\n",
      "11:09:14 - cmdstanpy - ERROR - Chain [1] error: error during processing Stale NFS file handle\n",
      "Optimization terminated abnormally. Falling back to Newton.\n",
      "11:09:14 - cmdstanpy - INFO - Chain [1] start processing\n",
      "11:09:14 - cmdstanpy - INFO - Chain [1] done processing\n",
      "11:09:15 - cmdstanpy - INFO - Chain [1] start processing\n",
      "11:09:15 - cmdstanpy - INFO - Chain [1] done processing\n",
      "11:09:15 - cmdstanpy - ERROR - Chain [1] error: error during processing Stale NFS file handle\n",
      "Optimization terminated abnormally. Falling back to Newton.\n",
      "11:09:15 - cmdstanpy - INFO - Chain [1] start processing\n",
      "11:09:15 - cmdstanpy - INFO - Chain [1] done processing\n"
     ]
    },
    {
     "data": {
      "application/vnd.jupyter.widget-view+json": {
       "model_id": "7a8786354f084876934b416f12126782",
       "version_major": 2,
       "version_minor": 0
      },
      "text/plain": [
       "  0%|          | 0/4 [00:00<?, ?it/s]"
      ]
     },
     "metadata": {},
     "output_type": "display_data"
    },
    {
     "name": "stderr",
     "output_type": "stream",
     "text": [
      "11:09:15 - cmdstanpy - INFO - Chain [1] start processing\n",
      "11:09:16 - cmdstanpy - INFO - Chain [1] done processing\n",
      "11:09:17 - cmdstanpy - INFO - Chain [1] start processing\n",
      "11:09:17 - cmdstanpy - INFO - Chain [1] done processing\n",
      "11:09:17 - cmdstanpy - ERROR - Chain [1] error: error during processing Stale NFS file handle\n",
      "Optimization terminated abnormally. Falling back to Newton.\n",
      "11:09:17 - cmdstanpy - INFO - Chain [1] start processing\n",
      "11:09:17 - cmdstanpy - INFO - Chain [1] done processing\n",
      "11:09:18 - cmdstanpy - INFO - Chain [1] start processing\n",
      "11:09:18 - cmdstanpy - INFO - Chain [1] done processing\n",
      "11:09:18 - cmdstanpy - INFO - Chain [1] start processing\n",
      "11:09:18 - cmdstanpy - INFO - Chain [1] done processing\n",
      "11:09:18 - cmdstanpy - ERROR - Chain [1] error: error during processing Stale NFS file handle\n",
      "Optimization terminated abnormally. Falling back to Newton.\n",
      "11:09:18 - cmdstanpy - INFO - Chain [1] start processing\n",
      "11:09:19 - cmdstanpy - INFO - Chain [1] done processing\n",
      "11:09:19 - cmdstanpy - INFO - Chain [1] start processing\n",
      "11:09:19 - cmdstanpy - INFO - Chain [1] done processing\n",
      "11:09:19 - cmdstanpy - ERROR - Chain [1] error: error during processing Stale NFS file handle\n",
      "Optimization terminated abnormally. Falling back to Newton.\n",
      "11:09:19 - cmdstanpy - INFO - Chain [1] start processing\n",
      "11:09:20 - cmdstanpy - INFO - Chain [1] done processing\n"
     ]
    },
    {
     "data": {
      "application/vnd.jupyter.widget-view+json": {
       "model_id": "a5e9aee12da641c68b4ce137def2751f",
       "version_major": 2,
       "version_minor": 0
      },
      "text/plain": [
       "  0%|          | 0/4 [00:00<?, ?it/s]"
      ]
     },
     "metadata": {},
     "output_type": "display_data"
    },
    {
     "name": "stderr",
     "output_type": "stream",
     "text": [
      "11:09:20 - cmdstanpy - INFO - Chain [1] start processing\n",
      "11:09:21 - cmdstanpy - INFO - Chain [1] done processing\n",
      "11:09:21 - cmdstanpy - INFO - Chain [1] start processing\n",
      "11:09:21 - cmdstanpy - INFO - Chain [1] done processing\n",
      "11:09:21 - cmdstanpy - ERROR - Chain [1] error: error during processing Stale NFS file handle\n",
      "Optimization terminated abnormally. Falling back to Newton.\n",
      "11:09:21 - cmdstanpy - INFO - Chain [1] start processing\n",
      "11:09:22 - cmdstanpy - INFO - Chain [1] done processing\n",
      "11:09:22 - cmdstanpy - INFO - Chain [1] start processing\n",
      "11:09:22 - cmdstanpy - INFO - Chain [1] done processing\n",
      "11:09:23 - cmdstanpy - INFO - Chain [1] start processing\n",
      "11:09:23 - cmdstanpy - INFO - Chain [1] done processing\n",
      "11:09:23 - cmdstanpy - ERROR - Chain [1] error: error during processing Stale NFS file handle\n",
      "Optimization terminated abnormally. Falling back to Newton.\n",
      "11:09:23 - cmdstanpy - INFO - Chain [1] start processing\n",
      "11:09:23 - cmdstanpy - INFO - Chain [1] done processing\n",
      "11:09:24 - cmdstanpy - INFO - Chain [1] start processing\n",
      "11:09:24 - cmdstanpy - INFO - Chain [1] done processing\n",
      "11:09:24 - cmdstanpy - ERROR - Chain [1] error: error during processing Stale NFS file handle\n",
      "Optimization terminated abnormally. Falling back to Newton.\n",
      "11:09:24 - cmdstanpy - INFO - Chain [1] start processing\n",
      "11:09:24 - cmdstanpy - INFO - Chain [1] done processing\n"
     ]
    },
    {
     "data": {
      "application/vnd.jupyter.widget-view+json": {
       "model_id": "a23d709b8d2f4d51bb893cc2d0d74e62",
       "version_major": 2,
       "version_minor": 0
      },
      "text/plain": [
       "  0%|          | 0/4 [00:00<?, ?it/s]"
      ]
     },
     "metadata": {},
     "output_type": "display_data"
    },
    {
     "name": "stderr",
     "output_type": "stream",
     "text": [
      "11:09:24 - cmdstanpy - INFO - Chain [1] start processing\n",
      "11:09:25 - cmdstanpy - INFO - Chain [1] done processing\n",
      "11:09:26 - cmdstanpy - INFO - Chain [1] start processing\n",
      "11:09:26 - cmdstanpy - INFO - Chain [1] done processing\n",
      "11:09:26 - cmdstanpy - ERROR - Chain [1] error: error during processing Stale NFS file handle\n",
      "Optimization terminated abnormally. Falling back to Newton.\n",
      "11:09:26 - cmdstanpy - INFO - Chain [1] start processing\n",
      "11:09:26 - cmdstanpy - INFO - Chain [1] done processing\n",
      "11:09:27 - cmdstanpy - INFO - Chain [1] start processing\n",
      "11:09:27 - cmdstanpy - INFO - Chain [1] done processing\n",
      "11:09:28 - cmdstanpy - INFO - Chain [1] start processing\n",
      "11:09:28 - cmdstanpy - INFO - Chain [1] done processing\n",
      "11:09:28 - cmdstanpy - ERROR - Chain [1] error: error during processing Stale NFS file handle\n",
      "Optimization terminated abnormally. Falling back to Newton.\n",
      "11:09:28 - cmdstanpy - INFO - Chain [1] start processing\n",
      "11:09:28 - cmdstanpy - INFO - Chain [1] done processing\n",
      "11:09:29 - cmdstanpy - INFO - Chain [1] start processing\n",
      "11:09:29 - cmdstanpy - INFO - Chain [1] done processing\n"
     ]
    },
    {
     "data": {
      "application/vnd.jupyter.widget-view+json": {
       "model_id": "74c69cf5e28e4484a73675f9823f10aa",
       "version_major": 2,
       "version_minor": 0
      },
      "text/plain": [
       "  0%|          | 0/4 [00:00<?, ?it/s]"
      ]
     },
     "metadata": {},
     "output_type": "display_data"
    },
    {
     "name": "stderr",
     "output_type": "stream",
     "text": [
      "11:09:29 - cmdstanpy - INFO - Chain [1] start processing\n",
      "11:09:29 - cmdstanpy - INFO - Chain [1] done processing\n",
      "11:09:30 - cmdstanpy - INFO - Chain [1] start processing\n",
      "11:09:30 - cmdstanpy - INFO - Chain [1] done processing\n",
      "11:09:31 - cmdstanpy - INFO - Chain [1] start processing\n",
      "11:09:31 - cmdstanpy - INFO - Chain [1] done processing\n",
      "11:09:31 - cmdstanpy - INFO - Chain [1] start processing\n",
      "11:09:31 - cmdstanpy - INFO - Chain [1] done processing\n",
      "11:09:32 - cmdstanpy - INFO - Chain [1] start processing\n",
      "11:09:32 - cmdstanpy - INFO - Chain [1] done processing\n"
     ]
    },
    {
     "data": {
      "application/vnd.jupyter.widget-view+json": {
       "model_id": "06c2f14a6beb4b068cd2b46005382756",
       "version_major": 2,
       "version_minor": 0
      },
      "text/plain": [
       "  0%|          | 0/4 [00:00<?, ?it/s]"
      ]
     },
     "metadata": {},
     "output_type": "display_data"
    },
    {
     "name": "stderr",
     "output_type": "stream",
     "text": [
      "11:09:32 - cmdstanpy - INFO - Chain [1] start processing\n",
      "11:09:32 - cmdstanpy - INFO - Chain [1] done processing\n",
      "11:09:33 - cmdstanpy - INFO - Chain [1] start processing\n",
      "11:09:33 - cmdstanpy - INFO - Chain [1] done processing\n",
      "11:09:34 - cmdstanpy - INFO - Chain [1] start processing\n",
      "11:09:34 - cmdstanpy - INFO - Chain [1] done processing\n",
      "11:09:34 - cmdstanpy - INFO - Chain [1] start processing\n",
      "11:09:34 - cmdstanpy - INFO - Chain [1] done processing\n",
      "11:09:35 - cmdstanpy - INFO - Chain [1] start processing\n",
      "11:09:35 - cmdstanpy - INFO - Chain [1] done processing\n"
     ]
    },
    {
     "data": {
      "application/vnd.jupyter.widget-view+json": {
       "model_id": "8e3ffb1fb02249b8bf75897c28965cf6",
       "version_major": 2,
       "version_minor": 0
      },
      "text/plain": [
       "  0%|          | 0/4 [00:00<?, ?it/s]"
      ]
     },
     "metadata": {},
     "output_type": "display_data"
    },
    {
     "name": "stderr",
     "output_type": "stream",
     "text": [
      "11:09:35 - cmdstanpy - INFO - Chain [1] start processing\n",
      "11:09:35 - cmdstanpy - INFO - Chain [1] done processing\n",
      "11:09:36 - cmdstanpy - INFO - Chain [1] start processing\n",
      "11:09:36 - cmdstanpy - INFO - Chain [1] done processing\n",
      "11:09:37 - cmdstanpy - INFO - Chain [1] start processing\n",
      "11:09:37 - cmdstanpy - INFO - Chain [1] done processing\n",
      "11:09:37 - cmdstanpy - INFO - Chain [1] start processing\n",
      "11:09:37 - cmdstanpy - INFO - Chain [1] done processing\n",
      "11:09:38 - cmdstanpy - INFO - Chain [1] start processing\n",
      "11:09:38 - cmdstanpy - INFO - Chain [1] done processing\n"
     ]
    },
    {
     "data": {
      "application/vnd.jupyter.widget-view+json": {
       "model_id": "a50d000a933345e48d2fcbf1d64b57ea",
       "version_major": 2,
       "version_minor": 0
      },
      "text/plain": [
       "  0%|          | 0/4 [00:00<?, ?it/s]"
      ]
     },
     "metadata": {},
     "output_type": "display_data"
    },
    {
     "name": "stderr",
     "output_type": "stream",
     "text": [
      "11:09:38 - cmdstanpy - INFO - Chain [1] start processing\n",
      "11:09:38 - cmdstanpy - INFO - Chain [1] done processing\n",
      "11:09:39 - cmdstanpy - INFO - Chain [1] start processing\n",
      "11:09:39 - cmdstanpy - INFO - Chain [1] done processing\n",
      "11:09:39 - cmdstanpy - INFO - Chain [1] start processing\n",
      "11:09:39 - cmdstanpy - INFO - Chain [1] done processing\n",
      "11:09:40 - cmdstanpy - INFO - Chain [1] start processing\n",
      "11:09:40 - cmdstanpy - INFO - Chain [1] done processing\n",
      "11:09:41 - cmdstanpy - INFO - Chain [1] start processing\n",
      "11:09:41 - cmdstanpy - INFO - Chain [1] done processing\n"
     ]
    },
    {
     "data": {
      "application/vnd.jupyter.widget-view+json": {
       "model_id": "83609b1f02ee4e3b95b8ba508c9be8dc",
       "version_major": 2,
       "version_minor": 0
      },
      "text/plain": [
       "  0%|          | 0/4 [00:00<?, ?it/s]"
      ]
     },
     "metadata": {},
     "output_type": "display_data"
    },
    {
     "name": "stderr",
     "output_type": "stream",
     "text": [
      "11:09:41 - cmdstanpy - INFO - Chain [1] start processing\n",
      "11:09:41 - cmdstanpy - INFO - Chain [1] done processing\n",
      "11:09:42 - cmdstanpy - INFO - Chain [1] start processing\n",
      "11:09:42 - cmdstanpy - INFO - Chain [1] done processing\n",
      "11:09:42 - cmdstanpy - INFO - Chain [1] start processing\n",
      "11:09:42 - cmdstanpy - INFO - Chain [1] done processing\n",
      "11:09:43 - cmdstanpy - INFO - Chain [1] start processing\n",
      "11:09:43 - cmdstanpy - INFO - Chain [1] done processing\n",
      "11:09:44 - cmdstanpy - INFO - Chain [1] start processing\n",
      "11:09:44 - cmdstanpy - INFO - Chain [1] done processing\n"
     ]
    },
    {
     "data": {
      "application/vnd.jupyter.widget-view+json": {
       "model_id": "15c2bf1528974e25ae0ba9d670876921",
       "version_major": 2,
       "version_minor": 0
      },
      "text/plain": [
       "  0%|          | 0/4 [00:00<?, ?it/s]"
      ]
     },
     "metadata": {},
     "output_type": "display_data"
    },
    {
     "name": "stderr",
     "output_type": "stream",
     "text": [
      "11:09:44 - cmdstanpy - INFO - Chain [1] start processing\n",
      "11:09:44 - cmdstanpy - INFO - Chain [1] done processing\n",
      "11:09:45 - cmdstanpy - INFO - Chain [1] start processing\n",
      "11:09:45 - cmdstanpy - INFO - Chain [1] done processing\n",
      "11:09:46 - cmdstanpy - INFO - Chain [1] start processing\n",
      "11:09:46 - cmdstanpy - INFO - Chain [1] done processing\n",
      "11:09:46 - cmdstanpy - INFO - Chain [1] start processing\n",
      "11:09:46 - cmdstanpy - INFO - Chain [1] done processing\n",
      "11:09:47 - cmdstanpy - INFO - Chain [1] start processing\n",
      "11:09:47 - cmdstanpy - INFO - Chain [1] done processing\n"
     ]
    },
    {
     "data": {
      "application/vnd.jupyter.widget-view+json": {
       "model_id": "e3e3183f35ff43a68f8932c33a83cd39",
       "version_major": 2,
       "version_minor": 0
      },
      "text/plain": [
       "  0%|          | 0/4 [00:00<?, ?it/s]"
      ]
     },
     "metadata": {},
     "output_type": "display_data"
    },
    {
     "name": "stderr",
     "output_type": "stream",
     "text": [
      "11:09:47 - cmdstanpy - INFO - Chain [1] start processing\n",
      "11:09:47 - cmdstanpy - INFO - Chain [1] done processing\n",
      "11:09:48 - cmdstanpy - INFO - Chain [1] start processing\n",
      "11:09:48 - cmdstanpy - INFO - Chain [1] done processing\n",
      "11:09:49 - cmdstanpy - INFO - Chain [1] start processing\n",
      "11:09:49 - cmdstanpy - INFO - Chain [1] done processing\n",
      "11:09:49 - cmdstanpy - INFO - Chain [1] start processing\n",
      "11:09:49 - cmdstanpy - INFO - Chain [1] done processing\n",
      "11:09:50 - cmdstanpy - INFO - Chain [1] start processing\n",
      "11:09:50 - cmdstanpy - INFO - Chain [1] done processing\n"
     ]
    },
    {
     "data": {
      "application/vnd.jupyter.widget-view+json": {
       "model_id": "1a1de2212a884f6990871c1c223fb219",
       "version_major": 2,
       "version_minor": 0
      },
      "text/plain": [
       "  0%|          | 0/4 [00:00<?, ?it/s]"
      ]
     },
     "metadata": {},
     "output_type": "display_data"
    },
    {
     "name": "stderr",
     "output_type": "stream",
     "text": [
      "11:09:50 - cmdstanpy - INFO - Chain [1] start processing\n",
      "11:09:50 - cmdstanpy - INFO - Chain [1] done processing\n",
      "11:09:51 - cmdstanpy - INFO - Chain [1] start processing\n",
      "11:09:51 - cmdstanpy - INFO - Chain [1] done processing\n",
      "11:09:52 - cmdstanpy - INFO - Chain [1] start processing\n",
      "11:09:52 - cmdstanpy - INFO - Chain [1] done processing\n",
      "11:09:52 - cmdstanpy - INFO - Chain [1] start processing\n",
      "11:09:52 - cmdstanpy - INFO - Chain [1] done processing\n",
      "11:09:53 - cmdstanpy - INFO - Chain [1] start processing\n",
      "11:09:53 - cmdstanpy - INFO - Chain [1] done processing\n"
     ]
    },
    {
     "data": {
      "application/vnd.jupyter.widget-view+json": {
       "model_id": "22800fabb7e04a32acbe66bcee1b555e",
       "version_major": 2,
       "version_minor": 0
      },
      "text/plain": [
       "  0%|          | 0/4 [00:00<?, ?it/s]"
      ]
     },
     "metadata": {},
     "output_type": "display_data"
    },
    {
     "name": "stderr",
     "output_type": "stream",
     "text": [
      "11:09:53 - cmdstanpy - INFO - Chain [1] start processing\n",
      "11:09:53 - cmdstanpy - INFO - Chain [1] done processing\n",
      "11:09:54 - cmdstanpy - INFO - Chain [1] start processing\n",
      "11:09:54 - cmdstanpy - INFO - Chain [1] done processing\n",
      "11:09:54 - cmdstanpy - INFO - Chain [1] start processing\n",
      "11:09:55 - cmdstanpy - INFO - Chain [1] done processing\n",
      "11:09:55 - cmdstanpy - INFO - Chain [1] start processing\n",
      "11:09:55 - cmdstanpy - INFO - Chain [1] done processing\n",
      "11:09:56 - cmdstanpy - INFO - Chain [1] start processing\n",
      "11:09:56 - cmdstanpy - INFO - Chain [1] done processing\n"
     ]
    },
    {
     "data": {
      "application/vnd.jupyter.widget-view+json": {
       "model_id": "fbdb75d83c1948879dca65fbf3eef207",
       "version_major": 2,
       "version_minor": 0
      },
      "text/plain": [
       "  0%|          | 0/4 [00:00<?, ?it/s]"
      ]
     },
     "metadata": {},
     "output_type": "display_data"
    },
    {
     "name": "stderr",
     "output_type": "stream",
     "text": [
      "11:09:56 - cmdstanpy - INFO - Chain [1] start processing\n",
      "11:09:56 - cmdstanpy - INFO - Chain [1] done processing\n",
      "11:09:57 - cmdstanpy - INFO - Chain [1] start processing\n",
      "11:09:57 - cmdstanpy - INFO - Chain [1] done processing\n",
      "11:09:57 - cmdstanpy - INFO - Chain [1] start processing\n",
      "11:09:57 - cmdstanpy - INFO - Chain [1] done processing\n",
      "11:09:58 - cmdstanpy - INFO - Chain [1] start processing\n",
      "11:09:58 - cmdstanpy - INFO - Chain [1] done processing\n",
      "11:09:59 - cmdstanpy - INFO - Chain [1] start processing\n",
      "11:09:59 - cmdstanpy - INFO - Chain [1] done processing\n"
     ]
    },
    {
     "data": {
      "application/vnd.jupyter.widget-view+json": {
       "model_id": "d155e66a85c340e597c27dec68eb9ec6",
       "version_major": 2,
       "version_minor": 0
      },
      "text/plain": [
       "  0%|          | 0/4 [00:00<?, ?it/s]"
      ]
     },
     "metadata": {},
     "output_type": "display_data"
    },
    {
     "name": "stderr",
     "output_type": "stream",
     "text": [
      "11:09:59 - cmdstanpy - INFO - Chain [1] start processing\n",
      "11:09:59 - cmdstanpy - INFO - Chain [1] done processing\n",
      "11:10:00 - cmdstanpy - INFO - Chain [1] start processing\n",
      "11:10:00 - cmdstanpy - INFO - Chain [1] done processing\n",
      "11:10:00 - cmdstanpy - INFO - Chain [1] start processing\n",
      "11:10:00 - cmdstanpy - INFO - Chain [1] done processing\n",
      "11:10:01 - cmdstanpy - INFO - Chain [1] start processing\n",
      "11:10:01 - cmdstanpy - INFO - Chain [1] done processing\n",
      "11:10:02 - cmdstanpy - INFO - Chain [1] start processing\n",
      "11:10:02 - cmdstanpy - INFO - Chain [1] done processing\n"
     ]
    },
    {
     "data": {
      "application/vnd.jupyter.widget-view+json": {
       "model_id": "de32f7e7a3744521b3c8d5a5b07dc076",
       "version_major": 2,
       "version_minor": 0
      },
      "text/plain": [
       "  0%|          | 0/4 [00:00<?, ?it/s]"
      ]
     },
     "metadata": {},
     "output_type": "display_data"
    },
    {
     "name": "stderr",
     "output_type": "stream",
     "text": [
      "11:10:02 - cmdstanpy - INFO - Chain [1] start processing\n",
      "11:10:02 - cmdstanpy - INFO - Chain [1] done processing\n",
      "11:10:02 - cmdstanpy - INFO - Chain [1] start processing\n",
      "11:10:03 - cmdstanpy - INFO - Chain [1] done processing\n",
      "11:10:03 - cmdstanpy - INFO - Chain [1] start processing\n",
      "11:10:03 - cmdstanpy - INFO - Chain [1] done processing\n",
      "11:10:04 - cmdstanpy - INFO - Chain [1] start processing\n",
      "11:10:04 - cmdstanpy - INFO - Chain [1] done processing\n",
      "11:10:04 - cmdstanpy - INFO - Chain [1] start processing\n",
      "11:10:04 - cmdstanpy - INFO - Chain [1] done processing\n"
     ]
    },
    {
     "data": {
      "application/vnd.jupyter.widget-view+json": {
       "model_id": "59f51ff8fe3e44f19e6ccdfc5f8ec2f7",
       "version_major": 2,
       "version_minor": 0
      },
      "text/plain": [
       "  0%|          | 0/4 [00:00<?, ?it/s]"
      ]
     },
     "metadata": {},
     "output_type": "display_data"
    },
    {
     "name": "stderr",
     "output_type": "stream",
     "text": [
      "11:10:05 - cmdstanpy - INFO - Chain [1] start processing\n",
      "11:10:05 - cmdstanpy - INFO - Chain [1] done processing\n",
      "11:10:05 - cmdstanpy - INFO - Chain [1] start processing\n",
      "11:10:05 - cmdstanpy - INFO - Chain [1] done processing\n",
      "11:10:06 - cmdstanpy - INFO - Chain [1] start processing\n",
      "11:10:06 - cmdstanpy - INFO - Chain [1] done processing\n",
      "11:10:07 - cmdstanpy - INFO - Chain [1] start processing\n",
      "11:10:07 - cmdstanpy - INFO - Chain [1] done processing\n",
      "11:10:07 - cmdstanpy - INFO - Chain [1] start processing\n",
      "11:10:08 - cmdstanpy - INFO - Chain [1] done processing\n"
     ]
    },
    {
     "data": {
      "application/vnd.jupyter.widget-view+json": {
       "model_id": "d21c894933e14c3e946b9a7c96421bc4",
       "version_major": 2,
       "version_minor": 0
      },
      "text/plain": [
       "  0%|          | 0/4 [00:00<?, ?it/s]"
      ]
     },
     "metadata": {},
     "output_type": "display_data"
    },
    {
     "name": "stderr",
     "output_type": "stream",
     "text": [
      "11:10:08 - cmdstanpy - INFO - Chain [1] start processing\n",
      "11:10:08 - cmdstanpy - INFO - Chain [1] done processing\n",
      "11:10:09 - cmdstanpy - INFO - Chain [1] start processing\n",
      "11:10:09 - cmdstanpy - INFO - Chain [1] done processing\n",
      "11:10:09 - cmdstanpy - INFO - Chain [1] start processing\n",
      "11:10:09 - cmdstanpy - INFO - Chain [1] done processing\n",
      "11:10:10 - cmdstanpy - INFO - Chain [1] start processing\n",
      "11:10:10 - cmdstanpy - INFO - Chain [1] done processing\n",
      "11:10:11 - cmdstanpy - INFO - Chain [1] start processing\n",
      "11:10:11 - cmdstanpy - INFO - Chain [1] done processing\n"
     ]
    },
    {
     "data": {
      "application/vnd.jupyter.widget-view+json": {
       "model_id": "61b7285d65e448f187baf265457fdc9d",
       "version_major": 2,
       "version_minor": 0
      },
      "text/plain": [
       "  0%|          | 0/4 [00:00<?, ?it/s]"
      ]
     },
     "metadata": {},
     "output_type": "display_data"
    },
    {
     "name": "stderr",
     "output_type": "stream",
     "text": [
      "11:10:11 - cmdstanpy - INFO - Chain [1] start processing\n",
      "11:10:11 - cmdstanpy - INFO - Chain [1] done processing\n",
      "11:10:11 - cmdstanpy - INFO - Chain [1] start processing\n",
      "11:10:11 - cmdstanpy - INFO - Chain [1] done processing\n",
      "11:10:12 - cmdstanpy - INFO - Chain [1] start processing\n",
      "11:10:12 - cmdstanpy - INFO - Chain [1] done processing\n",
      "11:10:13 - cmdstanpy - INFO - Chain [1] start processing\n",
      "11:10:13 - cmdstanpy - INFO - Chain [1] done processing\n",
      "11:10:13 - cmdstanpy - INFO - Chain [1] start processing\n",
      "11:10:13 - cmdstanpy - INFO - Chain [1] done processing\n"
     ]
    },
    {
     "data": {
      "application/vnd.jupyter.widget-view+json": {
       "model_id": "ac75c4819f324ac6a0be228d90e48a3e",
       "version_major": 2,
       "version_minor": 0
      },
      "text/plain": [
       "  0%|          | 0/4 [00:00<?, ?it/s]"
      ]
     },
     "metadata": {},
     "output_type": "display_data"
    },
    {
     "name": "stderr",
     "output_type": "stream",
     "text": [
      "11:10:14 - cmdstanpy - INFO - Chain [1] start processing\n",
      "11:10:14 - cmdstanpy - INFO - Chain [1] done processing\n",
      "11:10:14 - cmdstanpy - INFO - Chain [1] start processing\n",
      "11:10:14 - cmdstanpy - INFO - Chain [1] done processing\n",
      "11:10:15 - cmdstanpy - INFO - Chain [1] start processing\n",
      "11:10:15 - cmdstanpy - INFO - Chain [1] done processing\n",
      "11:10:16 - cmdstanpy - INFO - Chain [1] start processing\n",
      "11:10:16 - cmdstanpy - INFO - Chain [1] done processing\n",
      "11:10:16 - cmdstanpy - INFO - Chain [1] start processing\n",
      "11:10:16 - cmdstanpy - INFO - Chain [1] done processing\n"
     ]
    },
    {
     "data": {
      "application/vnd.jupyter.widget-view+json": {
       "model_id": "bbc028e3732840dca37902e834e4e20d",
       "version_major": 2,
       "version_minor": 0
      },
      "text/plain": [
       "  0%|          | 0/4 [00:00<?, ?it/s]"
      ]
     },
     "metadata": {},
     "output_type": "display_data"
    },
    {
     "name": "stderr",
     "output_type": "stream",
     "text": [
      "11:10:17 - cmdstanpy - INFO - Chain [1] start processing\n",
      "11:10:17 - cmdstanpy - INFO - Chain [1] done processing\n",
      "11:10:18 - cmdstanpy - INFO - Chain [1] start processing\n",
      "11:10:18 - cmdstanpy - INFO - Chain [1] done processing\n",
      "11:10:18 - cmdstanpy - INFO - Chain [1] start processing\n",
      "11:10:18 - cmdstanpy - INFO - Chain [1] done processing\n",
      "11:10:19 - cmdstanpy - INFO - Chain [1] start processing\n",
      "11:10:19 - cmdstanpy - INFO - Chain [1] done processing\n",
      "11:10:20 - cmdstanpy - INFO - Chain [1] start processing\n",
      "11:10:20 - cmdstanpy - INFO - Chain [1] done processing\n"
     ]
    },
    {
     "data": {
      "application/vnd.jupyter.widget-view+json": {
       "model_id": "9ea96992b441486ba477b8f6114839bf",
       "version_major": 2,
       "version_minor": 0
      },
      "text/plain": [
       "  0%|          | 0/4 [00:00<?, ?it/s]"
      ]
     },
     "metadata": {},
     "output_type": "display_data"
    },
    {
     "name": "stderr",
     "output_type": "stream",
     "text": [
      "11:10:20 - cmdstanpy - INFO - Chain [1] start processing\n",
      "11:10:20 - cmdstanpy - INFO - Chain [1] done processing\n",
      "11:10:21 - cmdstanpy - INFO - Chain [1] start processing\n",
      "11:10:21 - cmdstanpy - INFO - Chain [1] done processing\n",
      "11:10:22 - cmdstanpy - INFO - Chain [1] start processing\n",
      "11:10:22 - cmdstanpy - INFO - Chain [1] done processing\n",
      "11:10:22 - cmdstanpy - INFO - Chain [1] start processing\n",
      "11:10:23 - cmdstanpy - INFO - Chain [1] done processing\n",
      "11:10:23 - cmdstanpy - INFO - Chain [1] start processing\n",
      "11:10:23 - cmdstanpy - INFO - Chain [1] done processing\n"
     ]
    },
    {
     "data": {
      "application/vnd.jupyter.widget-view+json": {
       "model_id": "5b4f285036dd474b8d174e198d4db5eb",
       "version_major": 2,
       "version_minor": 0
      },
      "text/plain": [
       "  0%|          | 0/4 [00:00<?, ?it/s]"
      ]
     },
     "metadata": {},
     "output_type": "display_data"
    },
    {
     "name": "stderr",
     "output_type": "stream",
     "text": [
      "11:10:23 - cmdstanpy - INFO - Chain [1] start processing\n",
      "11:10:24 - cmdstanpy - INFO - Chain [1] done processing\n",
      "11:10:24 - cmdstanpy - INFO - Chain [1] start processing\n",
      "11:10:25 - cmdstanpy - INFO - Chain [1] done processing\n",
      "11:10:25 - cmdstanpy - INFO - Chain [1] start processing\n",
      "11:10:25 - cmdstanpy - INFO - Chain [1] done processing\n",
      "11:10:26 - cmdstanpy - INFO - Chain [1] start processing\n",
      "11:10:26 - cmdstanpy - INFO - Chain [1] done processing\n",
      "11:10:27 - cmdstanpy - INFO - Chain [1] start processing\n",
      "11:10:27 - cmdstanpy - INFO - Chain [1] done processing\n"
     ]
    },
    {
     "data": {
      "application/vnd.jupyter.widget-view+json": {
       "model_id": "bd5712b53e474485b4eddd51effd3c1b",
       "version_major": 2,
       "version_minor": 0
      },
      "text/plain": [
       "  0%|          | 0/4 [00:00<?, ?it/s]"
      ]
     },
     "metadata": {},
     "output_type": "display_data"
    },
    {
     "name": "stderr",
     "output_type": "stream",
     "text": [
      "11:10:27 - cmdstanpy - INFO - Chain [1] start processing\n",
      "11:10:27 - cmdstanpy - INFO - Chain [1] done processing\n",
      "11:10:28 - cmdstanpy - INFO - Chain [1] start processing\n",
      "11:10:28 - cmdstanpy - INFO - Chain [1] done processing\n",
      "11:10:29 - cmdstanpy - INFO - Chain [1] start processing\n",
      "11:10:29 - cmdstanpy - INFO - Chain [1] done processing\n",
      "11:10:29 - cmdstanpy - INFO - Chain [1] start processing\n",
      "11:10:29 - cmdstanpy - INFO - Chain [1] done processing\n",
      "11:10:30 - cmdstanpy - INFO - Chain [1] start processing\n",
      "11:10:30 - cmdstanpy - INFO - Chain [1] done processing\n"
     ]
    },
    {
     "data": {
      "application/vnd.jupyter.widget-view+json": {
       "model_id": "0188b974bfdb459888ff294decf2e61b",
       "version_major": 2,
       "version_minor": 0
      },
      "text/plain": [
       "  0%|          | 0/4 [00:00<?, ?it/s]"
      ]
     },
     "metadata": {},
     "output_type": "display_data"
    },
    {
     "name": "stderr",
     "output_type": "stream",
     "text": [
      "11:10:30 - cmdstanpy - INFO - Chain [1] start processing\n",
      "11:10:31 - cmdstanpy - INFO - Chain [1] done processing\n",
      "11:10:31 - cmdstanpy - INFO - Chain [1] start processing\n",
      "11:10:31 - cmdstanpy - INFO - Chain [1] done processing\n",
      "11:10:32 - cmdstanpy - INFO - Chain [1] start processing\n",
      "11:10:32 - cmdstanpy - INFO - Chain [1] done processing\n",
      "11:10:33 - cmdstanpy - INFO - Chain [1] start processing\n",
      "11:10:33 - cmdstanpy - INFO - Chain [1] done processing\n",
      "11:10:33 - cmdstanpy - INFO - Chain [1] start processing\n",
      "11:10:33 - cmdstanpy - INFO - Chain [1] done processing\n"
     ]
    },
    {
     "data": {
      "application/vnd.jupyter.widget-view+json": {
       "model_id": "dff79820912049e487286b8a41e9a43e",
       "version_major": 2,
       "version_minor": 0
      },
      "text/plain": [
       "  0%|          | 0/4 [00:00<?, ?it/s]"
      ]
     },
     "metadata": {},
     "output_type": "display_data"
    },
    {
     "name": "stderr",
     "output_type": "stream",
     "text": [
      "11:10:33 - cmdstanpy - INFO - Chain [1] start processing\n",
      "11:10:34 - cmdstanpy - INFO - Chain [1] done processing\n",
      "11:10:34 - cmdstanpy - INFO - Chain [1] start processing\n",
      "11:10:34 - cmdstanpy - INFO - Chain [1] done processing\n",
      "11:10:35 - cmdstanpy - INFO - Chain [1] start processing\n",
      "11:10:35 - cmdstanpy - INFO - Chain [1] done processing\n",
      "11:10:36 - cmdstanpy - INFO - Chain [1] start processing\n",
      "11:10:36 - cmdstanpy - INFO - Chain [1] done processing\n",
      "11:10:36 - cmdstanpy - INFO - Chain [1] start processing\n",
      "11:10:36 - cmdstanpy - INFO - Chain [1] done processing\n"
     ]
    },
    {
     "data": {
      "application/vnd.jupyter.widget-view+json": {
       "model_id": "46c9e7bcd17b4ba7b292797e6539a330",
       "version_major": 2,
       "version_minor": 0
      },
      "text/plain": [
       "  0%|          | 0/4 [00:00<?, ?it/s]"
      ]
     },
     "metadata": {},
     "output_type": "display_data"
    },
    {
     "name": "stderr",
     "output_type": "stream",
     "text": [
      "11:10:36 - cmdstanpy - INFO - Chain [1] start processing\n",
      "11:10:37 - cmdstanpy - INFO - Chain [1] done processing\n",
      "11:10:37 - cmdstanpy - INFO - Chain [1] start processing\n",
      "11:10:37 - cmdstanpy - INFO - Chain [1] done processing\n",
      "11:10:38 - cmdstanpy - INFO - Chain [1] start processing\n",
      "11:10:38 - cmdstanpy - INFO - Chain [1] done processing\n",
      "11:10:39 - cmdstanpy - INFO - Chain [1] start processing\n",
      "11:10:39 - cmdstanpy - INFO - Chain [1] done processing\n",
      "11:10:39 - cmdstanpy - INFO - Chain [1] start processing\n",
      "11:10:39 - cmdstanpy - INFO - Chain [1] done processing\n"
     ]
    },
    {
     "data": {
      "application/vnd.jupyter.widget-view+json": {
       "model_id": "feaf23c58595466f800f5c2b7ae12f5a",
       "version_major": 2,
       "version_minor": 0
      },
      "text/plain": [
       "  0%|          | 0/4 [00:00<?, ?it/s]"
      ]
     },
     "metadata": {},
     "output_type": "display_data"
    },
    {
     "name": "stderr",
     "output_type": "stream",
     "text": [
      "11:10:39 - cmdstanpy - INFO - Chain [1] start processing\n",
      "11:10:40 - cmdstanpy - INFO - Chain [1] done processing\n",
      "11:10:40 - cmdstanpy - INFO - Chain [1] start processing\n",
      "11:10:40 - cmdstanpy - INFO - Chain [1] done processing\n",
      "11:10:41 - cmdstanpy - INFO - Chain [1] start processing\n",
      "11:10:41 - cmdstanpy - INFO - Chain [1] done processing\n",
      "11:10:42 - cmdstanpy - INFO - Chain [1] start processing\n",
      "11:10:42 - cmdstanpy - INFO - Chain [1] done processing\n",
      "11:10:42 - cmdstanpy - INFO - Chain [1] start processing\n",
      "11:10:42 - cmdstanpy - INFO - Chain [1] done processing\n"
     ]
    },
    {
     "data": {
      "application/vnd.jupyter.widget-view+json": {
       "model_id": "ca2276c7268d4c7ea8419e30dfaa5a6b",
       "version_major": 2,
       "version_minor": 0
      },
      "text/plain": [
       "  0%|          | 0/4 [00:00<?, ?it/s]"
      ]
     },
     "metadata": {},
     "output_type": "display_data"
    },
    {
     "name": "stderr",
     "output_type": "stream",
     "text": [
      "11:10:43 - cmdstanpy - INFO - Chain [1] start processing\n",
      "11:10:43 - cmdstanpy - INFO - Chain [1] done processing\n",
      "11:10:44 - cmdstanpy - INFO - Chain [1] start processing\n",
      "11:10:44 - cmdstanpy - INFO - Chain [1] done processing\n",
      "11:10:44 - cmdstanpy - INFO - Chain [1] start processing\n",
      "11:10:44 - cmdstanpy - INFO - Chain [1] done processing\n",
      "11:10:45 - cmdstanpy - INFO - Chain [1] start processing\n",
      "11:10:45 - cmdstanpy - INFO - Chain [1] done processing\n",
      "11:10:46 - cmdstanpy - INFO - Chain [1] start processing\n",
      "11:10:46 - cmdstanpy - INFO - Chain [1] done processing\n"
     ]
    },
    {
     "data": {
      "application/vnd.jupyter.widget-view+json": {
       "model_id": "c8e87c308776435c87bc3eb3a223cc1a",
       "version_major": 2,
       "version_minor": 0
      },
      "text/plain": [
       "  0%|          | 0/4 [00:00<?, ?it/s]"
      ]
     },
     "metadata": {},
     "output_type": "display_data"
    },
    {
     "name": "stderr",
     "output_type": "stream",
     "text": [
      "11:10:46 - cmdstanpy - INFO - Chain [1] start processing\n",
      "11:10:46 - cmdstanpy - INFO - Chain [1] done processing\n",
      "11:10:47 - cmdstanpy - INFO - Chain [1] start processing\n",
      "11:10:47 - cmdstanpy - INFO - Chain [1] done processing\n",
      "11:10:47 - cmdstanpy - INFO - Chain [1] start processing\n",
      "11:10:47 - cmdstanpy - INFO - Chain [1] done processing\n",
      "11:10:48 - cmdstanpy - INFO - Chain [1] start processing\n",
      "11:10:48 - cmdstanpy - INFO - Chain [1] done processing\n",
      "11:10:49 - cmdstanpy - INFO - Chain [1] start processing\n",
      "11:10:49 - cmdstanpy - INFO - Chain [1] done processing\n"
     ]
    },
    {
     "data": {
      "application/vnd.jupyter.widget-view+json": {
       "model_id": "dfd7982040ed4f819c304d40f4b70840",
       "version_major": 2,
       "version_minor": 0
      },
      "text/plain": [
       "  0%|          | 0/4 [00:00<?, ?it/s]"
      ]
     },
     "metadata": {},
     "output_type": "display_data"
    },
    {
     "name": "stderr",
     "output_type": "stream",
     "text": [
      "11:10:49 - cmdstanpy - INFO - Chain [1] start processing\n",
      "11:10:49 - cmdstanpy - INFO - Chain [1] done processing\n",
      "11:10:50 - cmdstanpy - INFO - Chain [1] start processing\n",
      "11:10:50 - cmdstanpy - INFO - Chain [1] done processing\n",
      "11:10:51 - cmdstanpy - INFO - Chain [1] start processing\n",
      "11:10:51 - cmdstanpy - INFO - Chain [1] done processing\n",
      "11:10:51 - cmdstanpy - INFO - Chain [1] start processing\n",
      "11:10:51 - cmdstanpy - INFO - Chain [1] done processing\n",
      "11:10:52 - cmdstanpy - INFO - Chain [1] start processing\n",
      "11:10:52 - cmdstanpy - INFO - Chain [1] done processing\n"
     ]
    },
    {
     "data": {
      "application/vnd.jupyter.widget-view+json": {
       "model_id": "1e55014e9da143ad84703f3e0960f3d5",
       "version_major": 2,
       "version_minor": 0
      },
      "text/plain": [
       "  0%|          | 0/4 [00:00<?, ?it/s]"
      ]
     },
     "metadata": {},
     "output_type": "display_data"
    },
    {
     "name": "stderr",
     "output_type": "stream",
     "text": [
      "11:10:52 - cmdstanpy - INFO - Chain [1] start processing\n",
      "11:10:53 - cmdstanpy - INFO - Chain [1] done processing\n",
      "11:10:53 - cmdstanpy - INFO - Chain [1] start processing\n",
      "11:10:53 - cmdstanpy - INFO - Chain [1] done processing\n",
      "11:10:54 - cmdstanpy - INFO - Chain [1] start processing\n",
      "11:10:54 - cmdstanpy - INFO - Chain [1] done processing\n",
      "11:10:55 - cmdstanpy - INFO - Chain [1] start processing\n",
      "11:10:55 - cmdstanpy - INFO - Chain [1] done processing\n",
      "11:10:55 - cmdstanpy - INFO - Chain [1] start processing\n",
      "11:10:55 - cmdstanpy - INFO - Chain [1] done processing\n"
     ]
    },
    {
     "data": {
      "application/vnd.jupyter.widget-view+json": {
       "model_id": "5c3d3e6a39c34724a272d5aaef96f822",
       "version_major": 2,
       "version_minor": 0
      },
      "text/plain": [
       "  0%|          | 0/4 [00:00<?, ?it/s]"
      ]
     },
     "metadata": {},
     "output_type": "display_data"
    },
    {
     "name": "stderr",
     "output_type": "stream",
     "text": [
      "11:10:55 - cmdstanpy - INFO - Chain [1] start processing\n",
      "11:10:56 - cmdstanpy - INFO - Chain [1] done processing\n",
      "11:10:56 - cmdstanpy - INFO - Chain [1] start processing\n",
      "11:10:56 - cmdstanpy - INFO - Chain [1] done processing\n",
      "11:10:57 - cmdstanpy - INFO - Chain [1] start processing\n",
      "11:10:57 - cmdstanpy - INFO - Chain [1] done processing\n",
      "11:10:58 - cmdstanpy - INFO - Chain [1] start processing\n",
      "11:10:58 - cmdstanpy - INFO - Chain [1] done processing\n",
      "11:10:58 - cmdstanpy - INFO - Chain [1] start processing\n",
      "11:10:58 - cmdstanpy - INFO - Chain [1] done processing\n"
     ]
    },
    {
     "data": {
      "application/vnd.jupyter.widget-view+json": {
       "model_id": "ec92b6bb77e4421381f1ed2ae325b4ac",
       "version_major": 2,
       "version_minor": 0
      },
      "text/plain": [
       "  0%|          | 0/4 [00:00<?, ?it/s]"
      ]
     },
     "metadata": {},
     "output_type": "display_data"
    },
    {
     "name": "stderr",
     "output_type": "stream",
     "text": [
      "11:10:58 - cmdstanpy - INFO - Chain [1] start processing\n",
      "11:10:59 - cmdstanpy - INFO - Chain [1] done processing\n",
      "11:10:59 - cmdstanpy - INFO - Chain [1] start processing\n",
      "11:10:59 - cmdstanpy - INFO - Chain [1] done processing\n",
      "11:11:00 - cmdstanpy - INFO - Chain [1] start processing\n",
      "11:11:00 - cmdstanpy - INFO - Chain [1] done processing\n",
      "11:11:01 - cmdstanpy - INFO - Chain [1] start processing\n",
      "11:11:01 - cmdstanpy - INFO - Chain [1] done processing\n",
      "11:11:01 - cmdstanpy - INFO - Chain [1] start processing\n",
      "11:11:01 - cmdstanpy - INFO - Chain [1] done processing\n"
     ]
    },
    {
     "data": {
      "application/vnd.jupyter.widget-view+json": {
       "model_id": "642547aa33f547f083b3a32d97dca879",
       "version_major": 2,
       "version_minor": 0
      },
      "text/plain": [
       "  0%|          | 0/4 [00:00<?, ?it/s]"
      ]
     },
     "metadata": {},
     "output_type": "display_data"
    },
    {
     "name": "stderr",
     "output_type": "stream",
     "text": [
      "11:11:01 - cmdstanpy - INFO - Chain [1] start processing\n",
      "11:11:02 - cmdstanpy - INFO - Chain [1] done processing\n",
      "11:11:02 - cmdstanpy - INFO - Chain [1] start processing\n",
      "11:11:02 - cmdstanpy - INFO - Chain [1] done processing\n",
      "11:11:03 - cmdstanpy - INFO - Chain [1] start processing\n",
      "11:11:03 - cmdstanpy - INFO - Chain [1] done processing\n",
      "11:11:04 - cmdstanpy - INFO - Chain [1] start processing\n",
      "11:11:04 - cmdstanpy - INFO - Chain [1] done processing\n",
      "11:11:04 - cmdstanpy - INFO - Chain [1] start processing\n",
      "11:11:05 - cmdstanpy - INFO - Chain [1] done processing\n"
     ]
    },
    {
     "data": {
      "application/vnd.jupyter.widget-view+json": {
       "model_id": "e6fd4ab3525743b2be1abbf1cb6d75db",
       "version_major": 2,
       "version_minor": 0
      },
      "text/plain": [
       "  0%|          | 0/4 [00:00<?, ?it/s]"
      ]
     },
     "metadata": {},
     "output_type": "display_data"
    },
    {
     "name": "stderr",
     "output_type": "stream",
     "text": [
      "11:11:05 - cmdstanpy - INFO - Chain [1] start processing\n",
      "11:11:05 - cmdstanpy - INFO - Chain [1] done processing\n",
      "11:11:06 - cmdstanpy - INFO - Chain [1] start processing\n",
      "11:11:06 - cmdstanpy - INFO - Chain [1] done processing\n",
      "11:11:06 - cmdstanpy - INFO - Chain [1] start processing\n",
      "11:11:06 - cmdstanpy - INFO - Chain [1] done processing\n",
      "11:11:07 - cmdstanpy - INFO - Chain [1] start processing\n",
      "11:11:07 - cmdstanpy - INFO - Chain [1] done processing\n",
      "11:11:08 - cmdstanpy - INFO - Chain [1] start processing\n",
      "11:11:08 - cmdstanpy - INFO - Chain [1] done processing\n"
     ]
    },
    {
     "data": {
      "application/vnd.jupyter.widget-view+json": {
       "model_id": "c48c0541d67e4bcfbec7991bd0eb20ee",
       "version_major": 2,
       "version_minor": 0
      },
      "text/plain": [
       "  0%|          | 0/4 [00:00<?, ?it/s]"
      ]
     },
     "metadata": {},
     "output_type": "display_data"
    },
    {
     "name": "stderr",
     "output_type": "stream",
     "text": [
      "11:11:08 - cmdstanpy - INFO - Chain [1] start processing\n",
      "11:11:08 - cmdstanpy - INFO - Chain [1] done processing\n",
      "11:11:09 - cmdstanpy - INFO - Chain [1] start processing\n",
      "11:11:09 - cmdstanpy - INFO - Chain [1] done processing\n",
      "11:11:10 - cmdstanpy - INFO - Chain [1] start processing\n",
      "11:11:10 - cmdstanpy - INFO - Chain [1] done processing\n",
      "11:11:10 - cmdstanpy - INFO - Chain [1] start processing\n",
      "11:11:10 - cmdstanpy - INFO - Chain [1] done processing\n",
      "11:11:11 - cmdstanpy - INFO - Chain [1] start processing\n",
      "11:11:11 - cmdstanpy - INFO - Chain [1] done processing\n"
     ]
    },
    {
     "data": {
      "application/vnd.jupyter.widget-view+json": {
       "model_id": "76e467a4759e4ba882951900ea6c76bd",
       "version_major": 2,
       "version_minor": 0
      },
      "text/plain": [
       "  0%|          | 0/4 [00:00<?, ?it/s]"
      ]
     },
     "metadata": {},
     "output_type": "display_data"
    },
    {
     "name": "stderr",
     "output_type": "stream",
     "text": [
      "11:11:11 - cmdstanpy - INFO - Chain [1] start processing\n",
      "11:11:12 - cmdstanpy - INFO - Chain [1] done processing\n",
      "11:11:12 - cmdstanpy - INFO - Chain [1] start processing\n",
      "11:11:12 - cmdstanpy - INFO - Chain [1] done processing\n",
      "11:11:13 - cmdstanpy - INFO - Chain [1] start processing\n",
      "11:11:13 - cmdstanpy - INFO - Chain [1] done processing\n",
      "11:11:14 - cmdstanpy - INFO - Chain [1] start processing\n",
      "11:11:14 - cmdstanpy - INFO - Chain [1] done processing\n",
      "11:11:14 - cmdstanpy - INFO - Chain [1] start processing\n",
      "11:11:15 - cmdstanpy - INFO - Chain [1] done processing\n"
     ]
    },
    {
     "data": {
      "application/vnd.jupyter.widget-view+json": {
       "model_id": "129ea5668f2449fab48007f486da544f",
       "version_major": 2,
       "version_minor": 0
      },
      "text/plain": [
       "  0%|          | 0/4 [00:00<?, ?it/s]"
      ]
     },
     "metadata": {},
     "output_type": "display_data"
    },
    {
     "name": "stderr",
     "output_type": "stream",
     "text": [
      "11:11:15 - cmdstanpy - INFO - Chain [1] start processing\n",
      "11:11:15 - cmdstanpy - INFO - Chain [1] done processing\n",
      "11:11:16 - cmdstanpy - INFO - Chain [1] start processing\n",
      "11:11:16 - cmdstanpy - INFO - Chain [1] done processing\n",
      "11:11:16 - cmdstanpy - INFO - Chain [1] start processing\n",
      "11:11:16 - cmdstanpy - INFO - Chain [1] done processing\n",
      "11:11:17 - cmdstanpy - INFO - Chain [1] start processing\n",
      "11:11:17 - cmdstanpy - INFO - Chain [1] done processing\n",
      "11:11:18 - cmdstanpy - INFO - Chain [1] start processing\n",
      "11:11:18 - cmdstanpy - INFO - Chain [1] done processing\n"
     ]
    },
    {
     "data": {
      "application/vnd.jupyter.widget-view+json": {
       "model_id": "3c3a1a2745944d029ee40235b392bff0",
       "version_major": 2,
       "version_minor": 0
      },
      "text/plain": [
       "  0%|          | 0/4 [00:00<?, ?it/s]"
      ]
     },
     "metadata": {},
     "output_type": "display_data"
    },
    {
     "name": "stderr",
     "output_type": "stream",
     "text": [
      "11:11:18 - cmdstanpy - INFO - Chain [1] start processing\n",
      "11:11:19 - cmdstanpy - INFO - Chain [1] done processing\n",
      "11:11:19 - cmdstanpy - INFO - Chain [1] start processing\n",
      "11:11:19 - cmdstanpy - INFO - Chain [1] done processing\n",
      "11:11:20 - cmdstanpy - INFO - Chain [1] start processing\n",
      "11:11:20 - cmdstanpy - INFO - Chain [1] done processing\n",
      "11:11:21 - cmdstanpy - INFO - Chain [1] start processing\n",
      "11:11:21 - cmdstanpy - INFO - Chain [1] done processing\n",
      "11:11:21 - cmdstanpy - INFO - Chain [1] start processing\n",
      "11:11:21 - cmdstanpy - INFO - Chain [1] done processing\n"
     ]
    },
    {
     "data": {
      "application/vnd.jupyter.widget-view+json": {
       "model_id": "19f9fc9218194a20ae4295293ed1b24a",
       "version_major": 2,
       "version_minor": 0
      },
      "text/plain": [
       "  0%|          | 0/4 [00:00<?, ?it/s]"
      ]
     },
     "metadata": {},
     "output_type": "display_data"
    },
    {
     "name": "stderr",
     "output_type": "stream",
     "text": [
      "11:11:21 - cmdstanpy - INFO - Chain [1] start processing\n",
      "11:11:22 - cmdstanpy - INFO - Chain [1] done processing\n",
      "11:11:23 - cmdstanpy - INFO - Chain [1] start processing\n",
      "11:11:23 - cmdstanpy - INFO - Chain [1] done processing\n",
      "11:11:23 - cmdstanpy - INFO - Chain [1] start processing\n",
      "11:11:23 - cmdstanpy - INFO - Chain [1] done processing\n",
      "11:11:24 - cmdstanpy - INFO - Chain [1] start processing\n",
      "11:11:24 - cmdstanpy - INFO - Chain [1] done processing\n",
      "11:11:25 - cmdstanpy - INFO - Chain [1] start processing\n",
      "11:11:25 - cmdstanpy - INFO - Chain [1] done processing\n"
     ]
    },
    {
     "data": {
      "application/vnd.jupyter.widget-view+json": {
       "model_id": "dc4863b7bb0c4a5a95042381f80f3250",
       "version_major": 2,
       "version_minor": 0
      },
      "text/plain": [
       "  0%|          | 0/4 [00:00<?, ?it/s]"
      ]
     },
     "metadata": {},
     "output_type": "display_data"
    },
    {
     "name": "stderr",
     "output_type": "stream",
     "text": [
      "11:11:25 - cmdstanpy - INFO - Chain [1] start processing\n",
      "11:11:25 - cmdstanpy - INFO - Chain [1] done processing\n",
      "11:11:26 - cmdstanpy - INFO - Chain [1] start processing\n",
      "11:11:26 - cmdstanpy - INFO - Chain [1] done processing\n",
      "11:11:27 - cmdstanpy - INFO - Chain [1] start processing\n",
      "11:11:27 - cmdstanpy - INFO - Chain [1] done processing\n",
      "11:11:27 - cmdstanpy - INFO - Chain [1] start processing\n",
      "11:11:28 - cmdstanpy - INFO - Chain [1] done processing\n",
      "11:11:28 - cmdstanpy - INFO - Chain [1] start processing\n",
      "11:11:28 - cmdstanpy - INFO - Chain [1] done processing\n"
     ]
    },
    {
     "data": {
      "application/vnd.jupyter.widget-view+json": {
       "model_id": "b72e30048704419a86497761f75066f5",
       "version_major": 2,
       "version_minor": 0
      },
      "text/plain": [
       "  0%|          | 0/4 [00:00<?, ?it/s]"
      ]
     },
     "metadata": {},
     "output_type": "display_data"
    },
    {
     "name": "stderr",
     "output_type": "stream",
     "text": [
      "11:11:28 - cmdstanpy - INFO - Chain [1] start processing\n",
      "11:11:29 - cmdstanpy - INFO - Chain [1] done processing\n",
      "11:11:30 - cmdstanpy - INFO - Chain [1] start processing\n",
      "11:11:30 - cmdstanpy - INFO - Chain [1] done processing\n",
      "11:11:30 - cmdstanpy - INFO - Chain [1] start processing\n",
      "11:11:30 - cmdstanpy - INFO - Chain [1] done processing\n",
      "11:11:31 - cmdstanpy - INFO - Chain [1] start processing\n",
      "11:11:31 - cmdstanpy - INFO - Chain [1] done processing\n",
      "11:11:32 - cmdstanpy - INFO - Chain [1] start processing\n",
      "11:11:32 - cmdstanpy - INFO - Chain [1] done processing\n"
     ]
    },
    {
     "data": {
      "application/vnd.jupyter.widget-view+json": {
       "model_id": "4eb70c99df904e4b83d57ec1f42f0d47",
       "version_major": 2,
       "version_minor": 0
      },
      "text/plain": [
       "  0%|          | 0/4 [00:00<?, ?it/s]"
      ]
     },
     "metadata": {},
     "output_type": "display_data"
    },
    {
     "name": "stderr",
     "output_type": "stream",
     "text": [
      "11:11:32 - cmdstanpy - INFO - Chain [1] start processing\n",
      "11:11:32 - cmdstanpy - INFO - Chain [1] done processing\n",
      "11:11:33 - cmdstanpy - INFO - Chain [1] start processing\n",
      "11:11:33 - cmdstanpy - INFO - Chain [1] done processing\n",
      "11:11:34 - cmdstanpy - INFO - Chain [1] start processing\n",
      "11:11:34 - cmdstanpy - INFO - Chain [1] done processing\n",
      "11:11:34 - cmdstanpy - INFO - Chain [1] start processing\n",
      "11:11:34 - cmdstanpy - INFO - Chain [1] done processing\n",
      "11:11:35 - cmdstanpy - INFO - Chain [1] start processing\n",
      "11:11:35 - cmdstanpy - INFO - Chain [1] done processing\n"
     ]
    },
    {
     "data": {
      "application/vnd.jupyter.widget-view+json": {
       "model_id": "5a1d16dd612546dc8146085aa2020874",
       "version_major": 2,
       "version_minor": 0
      },
      "text/plain": [
       "  0%|          | 0/4 [00:00<?, ?it/s]"
      ]
     },
     "metadata": {},
     "output_type": "display_data"
    },
    {
     "name": "stderr",
     "output_type": "stream",
     "text": [
      "11:11:35 - cmdstanpy - INFO - Chain [1] start processing\n",
      "11:11:36 - cmdstanpy - INFO - Chain [1] done processing\n",
      "11:11:36 - cmdstanpy - INFO - Chain [1] start processing\n",
      "11:11:36 - cmdstanpy - INFO - Chain [1] done processing\n",
      "11:11:37 - cmdstanpy - INFO - Chain [1] start processing\n",
      "11:11:37 - cmdstanpy - INFO - Chain [1] done processing\n",
      "11:11:38 - cmdstanpy - INFO - Chain [1] start processing\n",
      "11:11:38 - cmdstanpy - INFO - Chain [1] done processing\n",
      "11:11:38 - cmdstanpy - INFO - Chain [1] start processing\n",
      "11:11:39 - cmdstanpy - INFO - Chain [1] done processing\n"
     ]
    },
    {
     "data": {
      "application/vnd.jupyter.widget-view+json": {
       "model_id": "6aaa2a3b36644826b58877dce05496ef",
       "version_major": 2,
       "version_minor": 0
      },
      "text/plain": [
       "  0%|          | 0/4 [00:00<?, ?it/s]"
      ]
     },
     "metadata": {},
     "output_type": "display_data"
    },
    {
     "name": "stderr",
     "output_type": "stream",
     "text": [
      "11:11:39 - cmdstanpy - INFO - Chain [1] start processing\n",
      "11:11:39 - cmdstanpy - INFO - Chain [1] done processing\n",
      "11:11:40 - cmdstanpy - INFO - Chain [1] start processing\n",
      "11:11:40 - cmdstanpy - INFO - Chain [1] done processing\n",
      "11:11:40 - cmdstanpy - INFO - Chain [1] start processing\n",
      "11:11:40 - cmdstanpy - INFO - Chain [1] done processing\n",
      "11:11:41 - cmdstanpy - INFO - Chain [1] start processing\n",
      "11:11:41 - cmdstanpy - INFO - Chain [1] done processing\n",
      "11:11:42 - cmdstanpy - INFO - Chain [1] start processing\n",
      "11:11:42 - cmdstanpy - INFO - Chain [1] done processing\n"
     ]
    },
    {
     "data": {
      "application/vnd.jupyter.widget-view+json": {
       "model_id": "fa2e43a75e8c4b9092cf3ccbf9622282",
       "version_major": 2,
       "version_minor": 0
      },
      "text/plain": [
       "  0%|          | 0/4 [00:00<?, ?it/s]"
      ]
     },
     "metadata": {},
     "output_type": "display_data"
    },
    {
     "name": "stderr",
     "output_type": "stream",
     "text": [
      "11:11:42 - cmdstanpy - INFO - Chain [1] start processing\n",
      "11:11:43 - cmdstanpy - INFO - Chain [1] done processing\n",
      "11:11:43 - cmdstanpy - INFO - Chain [1] start processing\n",
      "11:11:43 - cmdstanpy - INFO - Chain [1] done processing\n",
      "11:11:44 - cmdstanpy - INFO - Chain [1] start processing\n",
      "11:11:44 - cmdstanpy - INFO - Chain [1] done processing\n",
      "11:11:45 - cmdstanpy - INFO - Chain [1] start processing\n",
      "11:11:45 - cmdstanpy - INFO - Chain [1] done processing\n",
      "11:11:45 - cmdstanpy - INFO - Chain [1] start processing\n",
      "11:11:46 - cmdstanpy - INFO - Chain [1] done processing\n"
     ]
    },
    {
     "data": {
      "application/vnd.jupyter.widget-view+json": {
       "model_id": "a9057b49e1284871a1c3d55897397605",
       "version_major": 2,
       "version_minor": 0
      },
      "text/plain": [
       "  0%|          | 0/4 [00:00<?, ?it/s]"
      ]
     },
     "metadata": {},
     "output_type": "display_data"
    },
    {
     "name": "stderr",
     "output_type": "stream",
     "text": [
      "11:11:46 - cmdstanpy - INFO - Chain [1] start processing\n",
      "11:11:46 - cmdstanpy - INFO - Chain [1] done processing\n",
      "11:11:47 - cmdstanpy - INFO - Chain [1] start processing\n",
      "11:11:47 - cmdstanpy - INFO - Chain [1] done processing\n",
      "11:11:47 - cmdstanpy - INFO - Chain [1] start processing\n",
      "11:11:47 - cmdstanpy - INFO - Chain [1] done processing\n",
      "11:11:48 - cmdstanpy - INFO - Chain [1] start processing\n",
      "11:11:48 - cmdstanpy - INFO - Chain [1] done processing\n",
      "11:11:49 - cmdstanpy - INFO - Chain [1] start processing\n",
      "11:11:49 - cmdstanpy - INFO - Chain [1] done processing\n"
     ]
    },
    {
     "data": {
      "application/vnd.jupyter.widget-view+json": {
       "model_id": "52cd17320e9349cf8f83b16ff1f180d9",
       "version_major": 2,
       "version_minor": 0
      },
      "text/plain": [
       "  0%|          | 0/4 [00:00<?, ?it/s]"
      ]
     },
     "metadata": {},
     "output_type": "display_data"
    },
    {
     "name": "stderr",
     "output_type": "stream",
     "text": [
      "11:11:49 - cmdstanpy - INFO - Chain [1] start processing\n",
      "11:11:49 - cmdstanpy - INFO - Chain [1] done processing\n",
      "11:11:50 - cmdstanpy - INFO - Chain [1] start processing\n",
      "11:11:50 - cmdstanpy - INFO - Chain [1] done processing\n",
      "11:11:51 - cmdstanpy - INFO - Chain [1] start processing\n",
      "11:11:51 - cmdstanpy - INFO - Chain [1] done processing\n",
      "11:11:51 - cmdstanpy - INFO - Chain [1] start processing\n",
      "11:11:51 - cmdstanpy - INFO - Chain [1] done processing\n",
      "11:11:52 - cmdstanpy - INFO - Chain [1] start processing\n",
      "11:11:52 - cmdstanpy - INFO - Chain [1] done processing\n"
     ]
    },
    {
     "data": {
      "application/vnd.jupyter.widget-view+json": {
       "model_id": "57a049d1233a466e8eb21560248cdddc",
       "version_major": 2,
       "version_minor": 0
      },
      "text/plain": [
       "  0%|          | 0/4 [00:00<?, ?it/s]"
      ]
     },
     "metadata": {},
     "output_type": "display_data"
    },
    {
     "name": "stderr",
     "output_type": "stream",
     "text": [
      "11:11:52 - cmdstanpy - INFO - Chain [1] start processing\n",
      "11:11:53 - cmdstanpy - INFO - Chain [1] done processing\n",
      "11:11:53 - cmdstanpy - INFO - Chain [1] start processing\n",
      "11:11:53 - cmdstanpy - INFO - Chain [1] done processing\n",
      "11:11:54 - cmdstanpy - INFO - Chain [1] start processing\n",
      "11:11:54 - cmdstanpy - INFO - Chain [1] done processing\n",
      "11:11:55 - cmdstanpy - INFO - Chain [1] start processing\n",
      "11:11:55 - cmdstanpy - INFO - Chain [1] done processing\n",
      "11:11:55 - cmdstanpy - INFO - Chain [1] start processing\n",
      "11:11:56 - cmdstanpy - INFO - Chain [1] done processing\n"
     ]
    },
    {
     "data": {
      "application/vnd.jupyter.widget-view+json": {
       "model_id": "23737e97cb8a48a6bd74f61fa68f9fae",
       "version_major": 2,
       "version_minor": 0
      },
      "text/plain": [
       "  0%|          | 0/4 [00:00<?, ?it/s]"
      ]
     },
     "metadata": {},
     "output_type": "display_data"
    },
    {
     "name": "stderr",
     "output_type": "stream",
     "text": [
      "11:11:56 - cmdstanpy - INFO - Chain [1] start processing\n",
      "11:11:56 - cmdstanpy - INFO - Chain [1] done processing\n",
      "11:11:57 - cmdstanpy - INFO - Chain [1] start processing\n",
      "11:11:57 - cmdstanpy - INFO - Chain [1] done processing\n",
      "11:11:57 - cmdstanpy - INFO - Chain [1] start processing\n",
      "11:11:57 - cmdstanpy - INFO - Chain [1] done processing\n",
      "11:11:58 - cmdstanpy - INFO - Chain [1] start processing\n",
      "11:11:58 - cmdstanpy - INFO - Chain [1] done processing\n",
      "11:11:59 - cmdstanpy - INFO - Chain [1] start processing\n",
      "11:11:59 - cmdstanpy - INFO - Chain [1] done processing\n"
     ]
    },
    {
     "data": {
      "application/vnd.jupyter.widget-view+json": {
       "model_id": "b46db64d61c3474bbf44b2df5b27bd86",
       "version_major": 2,
       "version_minor": 0
      },
      "text/plain": [
       "  0%|          | 0/4 [00:00<?, ?it/s]"
      ]
     },
     "metadata": {},
     "output_type": "display_data"
    },
    {
     "name": "stderr",
     "output_type": "stream",
     "text": [
      "11:11:59 - cmdstanpy - INFO - Chain [1] start processing\n",
      "11:11:59 - cmdstanpy - INFO - Chain [1] done processing\n",
      "11:12:00 - cmdstanpy - INFO - Chain [1] start processing\n",
      "11:12:00 - cmdstanpy - INFO - Chain [1] done processing\n",
      "11:12:01 - cmdstanpy - INFO - Chain [1] start processing\n",
      "11:12:01 - cmdstanpy - INFO - Chain [1] done processing\n",
      "11:12:01 - cmdstanpy - INFO - Chain [1] start processing\n",
      "11:12:02 - cmdstanpy - INFO - Chain [1] done processing\n"
     ]
    },
    {
     "name": "stdout",
     "output_type": "stream",
     "text": [
      "    changepoint_prior_scale  seasonality_prior_scale  holidays_prior_scale  \\\n",
      "0                     0.001                     0.01                  0.01   \n",
      "1                     0.001                     0.01                  0.10   \n",
      "2                     0.001                     0.01                  1.00   \n",
      "3                     0.001                     0.01                 10.00   \n",
      "4                     0.001                     0.10                  0.01   \n",
      "..                      ...                      ...                   ...   \n",
      "59                    0.500                     1.00                 10.00   \n",
      "60                    0.500                    10.00                  0.01   \n",
      "61                    0.500                    10.00                  0.10   \n",
      "62                    0.500                    10.00                  1.00   \n",
      "63                    0.500                    10.00                 10.00   \n",
      "\n",
      "          rmse           mse         mae  \n",
      "0   239.954943  57578.374527  224.226740  \n",
      "1   239.954943  57578.374527  224.226740  \n",
      "2   239.954943  57578.374527  224.226740  \n",
      "3   239.954943  57578.374527  224.226740  \n",
      "4   262.822529  69075.681851  240.958673  \n",
      "..         ...           ...         ...  \n",
      "59  167.732945  28134.340878  137.330028  \n",
      "60  168.010274  28227.452033  137.593734  \n",
      "61  168.010274  28227.452033  137.593734  \n",
      "62  168.010274  28227.452033  137.593734  \n",
      "63  168.010274  28227.452033  137.593734  \n",
      "\n",
      "[64 rows x 6 columns]\n"
     ]
    }
   ],
   "source": [
    "from prophet import Prophet\n",
    "import itertools\n",
    "import numpy as np\n",
    "import pandas as pd\n",
    "from prophet.diagnostics import cross_validation\n",
    "from prophet.diagnostics import performance_metrics\n",
    "\n",
    "data = pd.read_csv('data.csv')\n",
    "\n",
    "\n",
    "param_grid = {  \n",
    "    'changepoint_prior_scale': [0.001, 0.01, 0.1, 0.5],\n",
    "    'seasonality_prior_scale': [0.01, 0.1, 1.0, 10.0],\n",
    "    'holidays_prior_scale': [0.01, 0.1, 1.0, 10.0],\n",
    "}\n",
    "\n",
    "# Generate all combinations of parameters\n",
    "all_params = [dict(zip(param_grid.keys(), v)) for v in itertools.product(*param_grid.values())]\n",
    "rmses = []  # Store the RMSEs for each params here\n",
    "mse = []\n",
    "mae = []\n",
    "\n",
    "# Use cross validation to evaluate all parameters\n",
    "for params in all_params:\n",
    "    m = Prophet(**params, interval_width=0.9, daily_seasonality=True).fit(data)  # Fit model with given params\n",
    "    df_cv = cross_validation(m, initial='100 days', period='60 days', horizon = '30 days')\n",
    "    df_p = performance_metrics(df_cv, rolling_window=1)\n",
    "    rmses.append(df_p['rmse'].values[0])\n",
    "    mse.append(df_p[\"mse\"].values[0])\n",
    "    mae.append(df_p[\"mae\"].values[0])\n",
    "\n",
    "# Find the best parameters\n",
    "tuning_results = pd.DataFrame(all_params)\n",
    "tuning_results['rmse'] = rmses\n",
    "tuning_results['mse'] = mse\n",
    "tuning_results['mae'] = mae\n",
    "print(tuning_results)\n",
    "\n"
   ]
  },
  {
   "cell_type": "code",
   "execution_count": null,
   "id": "8d68eb81",
   "metadata": {},
   "outputs": [],
   "source": [
    "best_params = all_params[np.argmin(rmses)]\n",
    "print(best_params)"
   ]
  },
  {
   "cell_type": "code",
   "execution_count": null,
   "id": "d233438b",
   "metadata": {},
   "outputs": [],
   "source": [
    "print(tuning_results)['rmse'].min()"
   ]
  },
  {
   "cell_type": "code",
   "execution_count": null,
   "id": "80a34dd6",
   "metadata": {},
   "outputs": [],
   "source": [
    "print(all_params)"
   ]
  },
  {
   "cell_type": "code",
   "execution_count": null,
   "id": "b221b7cf",
   "metadata": {},
   "outputs": [],
   "source": [
    "print(tuning_results[['rmse','mse','mae']].min().min())"
   ]
  },
  {
   "cell_type": "code",
   "execution_count": null,
   "id": "aa1c06bf",
   "metadata": {},
   "outputs": [],
   "source": [
    "combined_row_value = []\n",
    "\n",
    "for ind in tuning_results.index:\n",
    "    sum_val = tuning_results['rmse'][ind] + tuning_results['mse'][ind] + tuning_results['mae'][ind]\n",
    "    combined_row_value.append(dict(index=ind, sum_val=sum_val))"
   ]
  },
  {
   "cell_type": "code",
   "execution_count": null,
   "id": "676d9e1d",
   "metadata": {},
   "outputs": [],
   "source": [
    "print(combined_row_value)"
   ]
  },
  {
   "cell_type": "code",
   "execution_count": null,
   "id": "a031ac53",
   "metadata": {},
   "outputs": [],
   "source": [
    "print(min(combined_row_value, key=lambda x:x['sum_val']))\n"
   ]
  },
  {
   "cell_type": "code",
   "execution_count": null,
   "id": "e1cd58b9",
   "metadata": {},
   "outputs": [],
   "source": [
    "print(tuning_results.loc[32])"
   ]
  },
  {
   "cell_type": "code",
   "execution_count": null,
   "id": "bf2b1a4d",
   "metadata": {},
   "outputs": [],
   "source": []
  },
  {
   "cell_type": "code",
   "execution_count": null,
   "id": "cbc5280a",
   "metadata": {},
   "outputs": [],
   "source": []
  }
 ],
 "metadata": {
  "kernelspec": {
   "display_name": "Python 3 (ipykernel)",
   "language": "python",
   "name": "python3"
  },
  "language_info": {
   "codemirror_mode": {
    "name": "ipython",
    "version": 3
   },
   "file_extension": ".py",
   "mimetype": "text/x-python",
   "name": "python",
   "nbconvert_exporter": "python",
   "pygments_lexer": "ipython3",
   "version": "3.9.12"
  }
 },
 "nbformat": 4,
 "nbformat_minor": 5
}
