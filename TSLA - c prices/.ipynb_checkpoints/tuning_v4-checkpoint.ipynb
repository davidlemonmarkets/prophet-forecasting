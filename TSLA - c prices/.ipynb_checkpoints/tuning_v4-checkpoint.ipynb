{
 "cells": [
  {
   "cell_type": "code",
   "execution_count": 1,
   "id": "2968028f",
   "metadata": {},
   "outputs": [
    {
     "name": "stderr",
     "output_type": "stream",
     "text": [
      "12:08:37 - cmdstanpy - INFO - Chain [1] start processing\n",
      "12:08:37 - cmdstanpy - INFO - Chain [1] done processing\n"
     ]
    },
    {
     "data": {
      "application/vnd.jupyter.widget-view+json": {
       "model_id": "dad8b9b0b25449bf9cd183b6be4ecc0d",
       "version_major": 2,
       "version_minor": 0
      },
      "text/plain": [
       "  0%|          | 0/4 [00:00<?, ?it/s]"
      ]
     },
     "metadata": {},
     "output_type": "display_data"
    },
    {
     "name": "stderr",
     "output_type": "stream",
     "text": [
      "12:08:37 - cmdstanpy - INFO - Chain [1] start processing\n",
      "12:08:38 - cmdstanpy - INFO - Chain [1] done processing\n",
      "12:08:38 - cmdstanpy - INFO - Chain [1] start processing\n",
      "12:08:38 - cmdstanpy - INFO - Chain [1] done processing\n",
      "12:08:39 - cmdstanpy - INFO - Chain [1] start processing\n",
      "12:08:39 - cmdstanpy - INFO - Chain [1] done processing\n",
      "12:08:40 - cmdstanpy - INFO - Chain [1] start processing\n",
      "12:08:40 - cmdstanpy - INFO - Chain [1] done processing\n",
      "12:08:40 - cmdstanpy - INFO - Chain [1] start processing\n",
      "12:08:40 - cmdstanpy - INFO - Chain [1] done processing\n"
     ]
    },
    {
     "data": {
      "application/vnd.jupyter.widget-view+json": {
       "model_id": "d4e4a5ac7d9b4307bc97857cf9d0830c",
       "version_major": 2,
       "version_minor": 0
      },
      "text/plain": [
       "  0%|          | 0/4 [00:00<?, ?it/s]"
      ]
     },
     "metadata": {},
     "output_type": "display_data"
    },
    {
     "name": "stderr",
     "output_type": "stream",
     "text": [
      "12:08:41 - cmdstanpy - INFO - Chain [1] start processing\n",
      "12:08:41 - cmdstanpy - INFO - Chain [1] done processing\n",
      "12:08:41 - cmdstanpy - INFO - Chain [1] start processing\n",
      "12:08:41 - cmdstanpy - INFO - Chain [1] done processing\n",
      "12:08:42 - cmdstanpy - INFO - Chain [1] start processing\n",
      "12:08:42 - cmdstanpy - INFO - Chain [1] done processing\n",
      "12:08:43 - cmdstanpy - INFO - Chain [1] start processing\n",
      "12:08:43 - cmdstanpy - INFO - Chain [1] done processing\n",
      "12:08:44 - cmdstanpy - INFO - Chain [1] start processing\n",
      "12:08:44 - cmdstanpy - INFO - Chain [1] done processing\n"
     ]
    },
    {
     "data": {
      "application/vnd.jupyter.widget-view+json": {
       "model_id": "ab1a15379efc474f94e63971160f4f70",
       "version_major": 2,
       "version_minor": 0
      },
      "text/plain": [
       "  0%|          | 0/4 [00:00<?, ?it/s]"
      ]
     },
     "metadata": {},
     "output_type": "display_data"
    },
    {
     "name": "stderr",
     "output_type": "stream",
     "text": [
      "12:08:44 - cmdstanpy - INFO - Chain [1] start processing\n",
      "12:08:44 - cmdstanpy - INFO - Chain [1] done processing\n",
      "12:08:45 - cmdstanpy - INFO - Chain [1] start processing\n",
      "12:08:45 - cmdstanpy - INFO - Chain [1] done processing\n",
      "12:08:45 - cmdstanpy - INFO - Chain [1] start processing\n",
      "12:08:45 - cmdstanpy - INFO - Chain [1] done processing\n",
      "12:08:46 - cmdstanpy - INFO - Chain [1] start processing\n",
      "12:08:46 - cmdstanpy - INFO - Chain [1] done processing\n",
      "12:08:46 - cmdstanpy - INFO - Chain [1] start processing\n",
      "12:08:47 - cmdstanpy - INFO - Chain [1] done processing\n"
     ]
    },
    {
     "data": {
      "application/vnd.jupyter.widget-view+json": {
       "model_id": "7dc27cc8364d487a81b3efa5d1a0316d",
       "version_major": 2,
       "version_minor": 0
      },
      "text/plain": [
       "  0%|          | 0/4 [00:00<?, ?it/s]"
      ]
     },
     "metadata": {},
     "output_type": "display_data"
    },
    {
     "name": "stderr",
     "output_type": "stream",
     "text": [
      "12:08:47 - cmdstanpy - INFO - Chain [1] start processing\n",
      "12:08:47 - cmdstanpy - INFO - Chain [1] done processing\n",
      "12:08:47 - cmdstanpy - INFO - Chain [1] start processing\n",
      "12:08:47 - cmdstanpy - INFO - Chain [1] done processing\n",
      "12:08:48 - cmdstanpy - INFO - Chain [1] start processing\n",
      "12:08:48 - cmdstanpy - INFO - Chain [1] done processing\n",
      "12:08:49 - cmdstanpy - INFO - Chain [1] start processing\n",
      "12:08:49 - cmdstanpy - INFO - Chain [1] done processing\n",
      "12:08:49 - cmdstanpy - INFO - Chain [1] start processing\n",
      "12:08:49 - cmdstanpy - INFO - Chain [1] done processing\n"
     ]
    },
    {
     "data": {
      "application/vnd.jupyter.widget-view+json": {
       "model_id": "cefc1f0d675f4557b90de3f033a0acca",
       "version_major": 2,
       "version_minor": 0
      },
      "text/plain": [
       "  0%|          | 0/4 [00:00<?, ?it/s]"
      ]
     },
     "metadata": {},
     "output_type": "display_data"
    },
    {
     "name": "stderr",
     "output_type": "stream",
     "text": [
      "12:08:49 - cmdstanpy - INFO - Chain [1] start processing\n",
      "12:08:50 - cmdstanpy - INFO - Chain [1] done processing\n",
      "12:08:50 - cmdstanpy - INFO - Chain [1] start processing\n",
      "12:08:50 - cmdstanpy - INFO - Chain [1] done processing\n",
      "12:08:51 - cmdstanpy - INFO - Chain [1] start processing\n",
      "12:08:51 - cmdstanpy - INFO - Chain [1] done processing\n",
      "12:08:51 - cmdstanpy - INFO - Chain [1] start processing\n",
      "12:08:51 - cmdstanpy - INFO - Chain [1] done processing\n",
      "12:08:52 - cmdstanpy - INFO - Chain [1] start processing\n",
      "12:08:52 - cmdstanpy - INFO - Chain [1] done processing\n"
     ]
    },
    {
     "data": {
      "application/vnd.jupyter.widget-view+json": {
       "model_id": "6b3c0db2009a4c97b825ac291bc67c7b",
       "version_major": 2,
       "version_minor": 0
      },
      "text/plain": [
       "  0%|          | 0/4 [00:00<?, ?it/s]"
      ]
     },
     "metadata": {},
     "output_type": "display_data"
    },
    {
     "name": "stderr",
     "output_type": "stream",
     "text": [
      "12:08:52 - cmdstanpy - INFO - Chain [1] start processing\n",
      "12:08:52 - cmdstanpy - INFO - Chain [1] done processing\n",
      "12:08:53 - cmdstanpy - INFO - Chain [1] start processing\n",
      "12:08:53 - cmdstanpy - INFO - Chain [1] done processing\n",
      "12:08:54 - cmdstanpy - INFO - Chain [1] start processing\n",
      "12:08:54 - cmdstanpy - INFO - Chain [1] done processing\n",
      "12:08:54 - cmdstanpy - INFO - Chain [1] start processing\n",
      "12:08:54 - cmdstanpy - INFO - Chain [1] done processing\n",
      "12:08:55 - cmdstanpy - INFO - Chain [1] start processing\n",
      "12:08:55 - cmdstanpy - INFO - Chain [1] done processing\n"
     ]
    },
    {
     "data": {
      "application/vnd.jupyter.widget-view+json": {
       "model_id": "daeec7dcdc9a452b98762240264c951f",
       "version_major": 2,
       "version_minor": 0
      },
      "text/plain": [
       "  0%|          | 0/4 [00:00<?, ?it/s]"
      ]
     },
     "metadata": {},
     "output_type": "display_data"
    },
    {
     "name": "stderr",
     "output_type": "stream",
     "text": [
      "12:08:55 - cmdstanpy - INFO - Chain [1] start processing\n",
      "12:08:55 - cmdstanpy - INFO - Chain [1] done processing\n",
      "12:08:56 - cmdstanpy - INFO - Chain [1] start processing\n",
      "12:08:56 - cmdstanpy - INFO - Chain [1] done processing\n",
      "12:08:56 - cmdstanpy - INFO - Chain [1] start processing\n",
      "12:08:56 - cmdstanpy - INFO - Chain [1] done processing\n",
      "12:08:57 - cmdstanpy - INFO - Chain [1] start processing\n",
      "12:08:57 - cmdstanpy - INFO - Chain [1] done processing\n",
      "12:08:58 - cmdstanpy - INFO - Chain [1] start processing\n",
      "12:08:58 - cmdstanpy - INFO - Chain [1] done processing\n"
     ]
    },
    {
     "data": {
      "application/vnd.jupyter.widget-view+json": {
       "model_id": "36be9931a99b4032853c3a538ca746c1",
       "version_major": 2,
       "version_minor": 0
      },
      "text/plain": [
       "  0%|          | 0/4 [00:00<?, ?it/s]"
      ]
     },
     "metadata": {},
     "output_type": "display_data"
    },
    {
     "name": "stderr",
     "output_type": "stream",
     "text": [
      "12:08:58 - cmdstanpy - INFO - Chain [1] start processing\n",
      "12:08:58 - cmdstanpy - INFO - Chain [1] done processing\n",
      "12:08:59 - cmdstanpy - INFO - Chain [1] start processing\n",
      "12:08:59 - cmdstanpy - INFO - Chain [1] done processing\n",
      "12:08:59 - cmdstanpy - INFO - Chain [1] start processing\n",
      "12:08:59 - cmdstanpy - INFO - Chain [1] done processing\n",
      "12:09:00 - cmdstanpy - INFO - Chain [1] start processing\n",
      "12:09:00 - cmdstanpy - INFO - Chain [1] done processing\n",
      "12:09:00 - cmdstanpy - INFO - Chain [1] start processing\n",
      "12:09:01 - cmdstanpy - INFO - Chain [1] done processing\n"
     ]
    },
    {
     "data": {
      "application/vnd.jupyter.widget-view+json": {
       "model_id": "5401cba1bed24c368f57f967b9ead56c",
       "version_major": 2,
       "version_minor": 0
      },
      "text/plain": [
       "  0%|          | 0/4 [00:00<?, ?it/s]"
      ]
     },
     "metadata": {},
     "output_type": "display_data"
    },
    {
     "name": "stderr",
     "output_type": "stream",
     "text": [
      "12:09:01 - cmdstanpy - INFO - Chain [1] start processing\n",
      "12:09:01 - cmdstanpy - INFO - Chain [1] done processing\n",
      "12:09:01 - cmdstanpy - INFO - Chain [1] start processing\n",
      "12:09:01 - cmdstanpy - INFO - Chain [1] done processing\n",
      "12:09:02 - cmdstanpy - INFO - Chain [1] start processing\n",
      "12:09:02 - cmdstanpy - INFO - Chain [1] done processing\n",
      "12:09:03 - cmdstanpy - INFO - Chain [1] start processing\n",
      "12:09:03 - cmdstanpy - INFO - Chain [1] done processing\n",
      "12:09:03 - cmdstanpy - INFO - Chain [1] start processing\n",
      "12:09:03 - cmdstanpy - INFO - Chain [1] done processing\n"
     ]
    },
    {
     "data": {
      "application/vnd.jupyter.widget-view+json": {
       "model_id": "161d7350d48940aab2355c21a6678c61",
       "version_major": 2,
       "version_minor": 0
      },
      "text/plain": [
       "  0%|          | 0/4 [00:00<?, ?it/s]"
      ]
     },
     "metadata": {},
     "output_type": "display_data"
    },
    {
     "name": "stderr",
     "output_type": "stream",
     "text": [
      "12:09:03 - cmdstanpy - INFO - Chain [1] start processing\n",
      "12:09:04 - cmdstanpy - INFO - Chain [1] done processing\n",
      "12:09:04 - cmdstanpy - INFO - Chain [1] start processing\n",
      "12:09:04 - cmdstanpy - INFO - Chain [1] done processing\n",
      "12:09:05 - cmdstanpy - INFO - Chain [1] start processing\n",
      "12:09:05 - cmdstanpy - INFO - Chain [1] done processing\n",
      "12:09:05 - cmdstanpy - INFO - Chain [1] start processing\n",
      "12:09:05 - cmdstanpy - INFO - Chain [1] done processing\n",
      "12:09:06 - cmdstanpy - INFO - Chain [1] start processing\n",
      "12:09:06 - cmdstanpy - INFO - Chain [1] done processing\n"
     ]
    },
    {
     "data": {
      "application/vnd.jupyter.widget-view+json": {
       "model_id": "d893671279814ae49bc9184199ebd654",
       "version_major": 2,
       "version_minor": 0
      },
      "text/plain": [
       "  0%|          | 0/4 [00:00<?, ?it/s]"
      ]
     },
     "metadata": {},
     "output_type": "display_data"
    },
    {
     "name": "stderr",
     "output_type": "stream",
     "text": [
      "12:09:06 - cmdstanpy - INFO - Chain [1] start processing\n",
      "12:09:06 - cmdstanpy - INFO - Chain [1] done processing\n",
      "12:09:07 - cmdstanpy - INFO - Chain [1] start processing\n",
      "12:09:07 - cmdstanpy - INFO - Chain [1] done processing\n",
      "12:09:08 - cmdstanpy - INFO - Chain [1] start processing\n",
      "12:09:08 - cmdstanpy - INFO - Chain [1] done processing\n",
      "12:09:08 - cmdstanpy - INFO - Chain [1] start processing\n",
      "12:09:08 - cmdstanpy - INFO - Chain [1] done processing\n",
      "12:09:09 - cmdstanpy - INFO - Chain [1] start processing\n",
      "12:09:09 - cmdstanpy - INFO - Chain [1] done processing\n"
     ]
    },
    {
     "data": {
      "application/vnd.jupyter.widget-view+json": {
       "model_id": "4c511d1c78c14c579995b9fe9ef475ed",
       "version_major": 2,
       "version_minor": 0
      },
      "text/plain": [
       "  0%|          | 0/4 [00:00<?, ?it/s]"
      ]
     },
     "metadata": {},
     "output_type": "display_data"
    },
    {
     "name": "stderr",
     "output_type": "stream",
     "text": [
      "12:09:09 - cmdstanpy - INFO - Chain [1] start processing\n",
      "12:09:09 - cmdstanpy - INFO - Chain [1] done processing\n",
      "12:09:10 - cmdstanpy - INFO - Chain [1] start processing\n",
      "12:09:10 - cmdstanpy - INFO - Chain [1] done processing\n",
      "12:09:11 - cmdstanpy - INFO - Chain [1] start processing\n",
      "12:09:11 - cmdstanpy - INFO - Chain [1] done processing\n",
      "12:09:11 - cmdstanpy - INFO - Chain [1] start processing\n",
      "12:09:11 - cmdstanpy - INFO - Chain [1] done processing\n",
      "12:09:12 - cmdstanpy - INFO - Chain [1] start processing\n",
      "12:09:12 - cmdstanpy - INFO - Chain [1] done processing\n"
     ]
    },
    {
     "data": {
      "application/vnd.jupyter.widget-view+json": {
       "model_id": "91106901031e4555bdf03154f246ea7e",
       "version_major": 2,
       "version_minor": 0
      },
      "text/plain": [
       "  0%|          | 0/4 [00:00<?, ?it/s]"
      ]
     },
     "metadata": {},
     "output_type": "display_data"
    },
    {
     "name": "stderr",
     "output_type": "stream",
     "text": [
      "12:09:12 - cmdstanpy - INFO - Chain [1] start processing\n",
      "12:09:12 - cmdstanpy - INFO - Chain [1] done processing\n",
      "12:09:13 - cmdstanpy - INFO - Chain [1] start processing\n",
      "12:09:13 - cmdstanpy - INFO - Chain [1] done processing\n",
      "12:09:13 - cmdstanpy - INFO - Chain [1] start processing\n",
      "12:09:13 - cmdstanpy - INFO - Chain [1] done processing\n",
      "12:09:14 - cmdstanpy - INFO - Chain [1] start processing\n",
      "12:09:14 - cmdstanpy - INFO - Chain [1] done processing\n",
      "12:09:15 - cmdstanpy - INFO - Chain [1] start processing\n",
      "12:09:15 - cmdstanpy - INFO - Chain [1] done processing\n"
     ]
    },
    {
     "data": {
      "application/vnd.jupyter.widget-view+json": {
       "model_id": "282aa2d396f949c38e825ea918921292",
       "version_major": 2,
       "version_minor": 0
      },
      "text/plain": [
       "  0%|          | 0/4 [00:00<?, ?it/s]"
      ]
     },
     "metadata": {},
     "output_type": "display_data"
    },
    {
     "name": "stderr",
     "output_type": "stream",
     "text": [
      "12:09:15 - cmdstanpy - INFO - Chain [1] start processing\n",
      "12:09:15 - cmdstanpy - INFO - Chain [1] done processing\n",
      "12:09:16 - cmdstanpy - INFO - Chain [1] start processing\n",
      "12:09:16 - cmdstanpy - INFO - Chain [1] done processing\n",
      "12:09:16 - cmdstanpy - INFO - Chain [1] start processing\n",
      "12:09:16 - cmdstanpy - INFO - Chain [1] done processing\n",
      "12:09:17 - cmdstanpy - INFO - Chain [1] start processing\n",
      "12:09:17 - cmdstanpy - INFO - Chain [1] done processing\n",
      "12:09:18 - cmdstanpy - INFO - Chain [1] start processing\n",
      "12:09:18 - cmdstanpy - INFO - Chain [1] done processing\n"
     ]
    },
    {
     "data": {
      "application/vnd.jupyter.widget-view+json": {
       "model_id": "5eb28258f81946d4bab096383d925ee5",
       "version_major": 2,
       "version_minor": 0
      },
      "text/plain": [
       "  0%|          | 0/4 [00:00<?, ?it/s]"
      ]
     },
     "metadata": {},
     "output_type": "display_data"
    },
    {
     "name": "stderr",
     "output_type": "stream",
     "text": [
      "12:09:18 - cmdstanpy - INFO - Chain [1] start processing\n",
      "12:09:18 - cmdstanpy - INFO - Chain [1] done processing\n",
      "12:09:18 - cmdstanpy - INFO - Chain [1] start processing\n",
      "12:09:18 - cmdstanpy - INFO - Chain [1] done processing\n",
      "12:09:19 - cmdstanpy - INFO - Chain [1] start processing\n",
      "12:09:19 - cmdstanpy - INFO - Chain [1] done processing\n",
      "12:09:20 - cmdstanpy - INFO - Chain [1] start processing\n",
      "12:09:20 - cmdstanpy - INFO - Chain [1] done processing\n",
      "12:09:21 - cmdstanpy - INFO - Chain [1] start processing\n",
      "12:09:21 - cmdstanpy - INFO - Chain [1] done processing\n"
     ]
    },
    {
     "data": {
      "application/vnd.jupyter.widget-view+json": {
       "model_id": "e3c04005741d4d1cbc9a1744384fd021",
       "version_major": 2,
       "version_minor": 0
      },
      "text/plain": [
       "  0%|          | 0/4 [00:00<?, ?it/s]"
      ]
     },
     "metadata": {},
     "output_type": "display_data"
    },
    {
     "name": "stderr",
     "output_type": "stream",
     "text": [
      "12:09:21 - cmdstanpy - INFO - Chain [1] start processing\n",
      "12:09:21 - cmdstanpy - INFO - Chain [1] done processing\n",
      "12:09:21 - cmdstanpy - INFO - Chain [1] start processing\n",
      "12:09:21 - cmdstanpy - INFO - Chain [1] done processing\n",
      "12:09:22 - cmdstanpy - INFO - Chain [1] start processing\n",
      "12:09:22 - cmdstanpy - INFO - Chain [1] done processing\n",
      "12:09:23 - cmdstanpy - INFO - Chain [1] start processing\n",
      "12:09:23 - cmdstanpy - INFO - Chain [1] done processing\n",
      "12:09:23 - cmdstanpy - INFO - Chain [1] start processing\n",
      "12:09:23 - cmdstanpy - INFO - Chain [1] done processing\n"
     ]
    },
    {
     "data": {
      "application/vnd.jupyter.widget-view+json": {
       "model_id": "09e08df1dd4146af802652a867e7a5fc",
       "version_major": 2,
       "version_minor": 0
      },
      "text/plain": [
       "  0%|          | 0/4 [00:00<?, ?it/s]"
      ]
     },
     "metadata": {},
     "output_type": "display_data"
    },
    {
     "name": "stderr",
     "output_type": "stream",
     "text": [
      "12:09:23 - cmdstanpy - INFO - Chain [1] start processing\n",
      "12:09:24 - cmdstanpy - INFO - Chain [1] done processing\n",
      "12:09:24 - cmdstanpy - INFO - Chain [1] start processing\n",
      "12:09:24 - cmdstanpy - INFO - Chain [1] done processing\n",
      "12:09:25 - cmdstanpy - INFO - Chain [1] start processing\n",
      "12:09:25 - cmdstanpy - INFO - Chain [1] done processing\n",
      "12:09:25 - cmdstanpy - INFO - Chain [1] start processing\n",
      "12:09:25 - cmdstanpy - INFO - Chain [1] done processing\n",
      "12:09:26 - cmdstanpy - INFO - Chain [1] start processing\n",
      "12:09:26 - cmdstanpy - INFO - Chain [1] done processing\n"
     ]
    },
    {
     "data": {
      "application/vnd.jupyter.widget-view+json": {
       "model_id": "b6ea99f3bfa4403eaffc014f04dfbb48",
       "version_major": 2,
       "version_minor": 0
      },
      "text/plain": [
       "  0%|          | 0/4 [00:00<?, ?it/s]"
      ]
     },
     "metadata": {},
     "output_type": "display_data"
    },
    {
     "name": "stderr",
     "output_type": "stream",
     "text": [
      "12:09:26 - cmdstanpy - INFO - Chain [1] start processing\n",
      "12:09:26 - cmdstanpy - INFO - Chain [1] done processing\n",
      "12:09:27 - cmdstanpy - INFO - Chain [1] start processing\n",
      "12:09:27 - cmdstanpy - INFO - Chain [1] done processing\n",
      "12:09:28 - cmdstanpy - INFO - Chain [1] start processing\n",
      "12:09:28 - cmdstanpy - INFO - Chain [1] done processing\n",
      "12:09:28 - cmdstanpy - INFO - Chain [1] start processing\n",
      "12:09:28 - cmdstanpy - INFO - Chain [1] done processing\n",
      "12:09:29 - cmdstanpy - INFO - Chain [1] start processing\n",
      "12:09:29 - cmdstanpy - INFO - Chain [1] done processing\n"
     ]
    },
    {
     "data": {
      "application/vnd.jupyter.widget-view+json": {
       "model_id": "9b41d58917b0433e96f34bd893bb8c05",
       "version_major": 2,
       "version_minor": 0
      },
      "text/plain": [
       "  0%|          | 0/4 [00:00<?, ?it/s]"
      ]
     },
     "metadata": {},
     "output_type": "display_data"
    },
    {
     "name": "stderr",
     "output_type": "stream",
     "text": [
      "12:09:29 - cmdstanpy - INFO - Chain [1] start processing\n",
      "12:09:29 - cmdstanpy - INFO - Chain [1] done processing\n",
      "12:09:30 - cmdstanpy - INFO - Chain [1] start processing\n",
      "12:09:30 - cmdstanpy - INFO - Chain [1] done processing\n",
      "12:09:31 - cmdstanpy - INFO - Chain [1] start processing\n",
      "12:09:31 - cmdstanpy - INFO - Chain [1] done processing\n",
      "12:09:31 - cmdstanpy - INFO - Chain [1] start processing\n",
      "12:09:31 - cmdstanpy - INFO - Chain [1] done processing\n",
      "12:09:32 - cmdstanpy - INFO - Chain [1] start processing\n",
      "12:09:32 - cmdstanpy - INFO - Chain [1] done processing\n"
     ]
    },
    {
     "data": {
      "application/vnd.jupyter.widget-view+json": {
       "model_id": "84e4c60845ab417eb8d1a580ba7554fc",
       "version_major": 2,
       "version_minor": 0
      },
      "text/plain": [
       "  0%|          | 0/4 [00:00<?, ?it/s]"
      ]
     },
     "metadata": {},
     "output_type": "display_data"
    },
    {
     "name": "stderr",
     "output_type": "stream",
     "text": [
      "12:09:32 - cmdstanpy - INFO - Chain [1] start processing\n",
      "12:09:32 - cmdstanpy - INFO - Chain [1] done processing\n",
      "12:09:33 - cmdstanpy - INFO - Chain [1] start processing\n",
      "12:09:33 - cmdstanpy - INFO - Chain [1] done processing\n",
      "12:09:33 - cmdstanpy - INFO - Chain [1] start processing\n",
      "12:09:33 - cmdstanpy - INFO - Chain [1] done processing\n",
      "12:09:34 - cmdstanpy - INFO - Chain [1] start processing\n",
      "12:09:34 - cmdstanpy - INFO - Chain [1] done processing\n",
      "12:09:35 - cmdstanpy - INFO - Chain [1] start processing\n",
      "12:09:35 - cmdstanpy - INFO - Chain [1] done processing\n"
     ]
    },
    {
     "data": {
      "application/vnd.jupyter.widget-view+json": {
       "model_id": "d4d6d11e4c344262996dc434aaa570d2",
       "version_major": 2,
       "version_minor": 0
      },
      "text/plain": [
       "  0%|          | 0/4 [00:00<?, ?it/s]"
      ]
     },
     "metadata": {},
     "output_type": "display_data"
    },
    {
     "name": "stderr",
     "output_type": "stream",
     "text": [
      "12:09:35 - cmdstanpy - INFO - Chain [1] start processing\n",
      "12:09:35 - cmdstanpy - INFO - Chain [1] done processing\n",
      "12:09:36 - cmdstanpy - INFO - Chain [1] start processing\n",
      "12:09:36 - cmdstanpy - INFO - Chain [1] done processing\n",
      "12:09:36 - cmdstanpy - INFO - Chain [1] start processing\n",
      "12:09:36 - cmdstanpy - INFO - Chain [1] done processing\n",
      "12:09:37 - cmdstanpy - INFO - Chain [1] start processing\n",
      "12:09:37 - cmdstanpy - INFO - Chain [1] done processing\n",
      "12:09:38 - cmdstanpy - INFO - Chain [1] start processing\n",
      "12:09:38 - cmdstanpy - INFO - Chain [1] done processing\n"
     ]
    },
    {
     "data": {
      "application/vnd.jupyter.widget-view+json": {
       "model_id": "9b9c75bbae0049069101c4c3d0764f8e",
       "version_major": 2,
       "version_minor": 0
      },
      "text/plain": [
       "  0%|          | 0/4 [00:00<?, ?it/s]"
      ]
     },
     "metadata": {},
     "output_type": "display_data"
    },
    {
     "name": "stderr",
     "output_type": "stream",
     "text": [
      "12:09:38 - cmdstanpy - INFO - Chain [1] start processing\n",
      "12:09:38 - cmdstanpy - INFO - Chain [1] done processing\n",
      "12:09:39 - cmdstanpy - INFO - Chain [1] start processing\n",
      "12:09:39 - cmdstanpy - INFO - Chain [1] done processing\n",
      "12:09:40 - cmdstanpy - INFO - Chain [1] start processing\n",
      "12:09:40 - cmdstanpy - INFO - Chain [1] done processing\n",
      "12:09:40 - cmdstanpy - INFO - Chain [1] start processing\n",
      "12:09:40 - cmdstanpy - INFO - Chain [1] done processing\n",
      "12:09:41 - cmdstanpy - INFO - Chain [1] start processing\n",
      "12:09:41 - cmdstanpy - INFO - Chain [1] done processing\n"
     ]
    },
    {
     "data": {
      "application/vnd.jupyter.widget-view+json": {
       "model_id": "2407ab255f9d42e4842860f3e1369328",
       "version_major": 2,
       "version_minor": 0
      },
      "text/plain": [
       "  0%|          | 0/4 [00:00<?, ?it/s]"
      ]
     },
     "metadata": {},
     "output_type": "display_data"
    },
    {
     "name": "stderr",
     "output_type": "stream",
     "text": [
      "12:09:41 - cmdstanpy - INFO - Chain [1] start processing\n",
      "12:09:41 - cmdstanpy - INFO - Chain [1] done processing\n",
      "12:09:42 - cmdstanpy - INFO - Chain [1] start processing\n",
      "12:09:42 - cmdstanpy - INFO - Chain [1] done processing\n",
      "12:09:43 - cmdstanpy - INFO - Chain [1] start processing\n",
      "12:09:43 - cmdstanpy - INFO - Chain [1] done processing\n",
      "12:09:43 - cmdstanpy - INFO - Chain [1] start processing\n",
      "12:09:43 - cmdstanpy - INFO - Chain [1] done processing\n",
      "12:09:44 - cmdstanpy - INFO - Chain [1] start processing\n",
      "12:09:44 - cmdstanpy - INFO - Chain [1] done processing\n"
     ]
    },
    {
     "data": {
      "application/vnd.jupyter.widget-view+json": {
       "model_id": "aeb86f3b6b8c4654a1d05196f12fc636",
       "version_major": 2,
       "version_minor": 0
      },
      "text/plain": [
       "  0%|          | 0/4 [00:00<?, ?it/s]"
      ]
     },
     "metadata": {},
     "output_type": "display_data"
    },
    {
     "name": "stderr",
     "output_type": "stream",
     "text": [
      "12:09:44 - cmdstanpy - INFO - Chain [1] start processing\n",
      "12:09:44 - cmdstanpy - INFO - Chain [1] done processing\n",
      "12:09:45 - cmdstanpy - INFO - Chain [1] start processing\n",
      "12:09:45 - cmdstanpy - INFO - Chain [1] done processing\n",
      "12:09:46 - cmdstanpy - INFO - Chain [1] start processing\n",
      "12:09:46 - cmdstanpy - INFO - Chain [1] done processing\n",
      "12:09:46 - cmdstanpy - INFO - Chain [1] start processing\n",
      "12:09:46 - cmdstanpy - INFO - Chain [1] done processing\n",
      "12:09:47 - cmdstanpy - INFO - Chain [1] start processing\n",
      "12:09:47 - cmdstanpy - INFO - Chain [1] done processing\n"
     ]
    },
    {
     "data": {
      "application/vnd.jupyter.widget-view+json": {
       "model_id": "80e58ff40434478a97ebfd8721c69906",
       "version_major": 2,
       "version_minor": 0
      },
      "text/plain": [
       "  0%|          | 0/4 [00:00<?, ?it/s]"
      ]
     },
     "metadata": {},
     "output_type": "display_data"
    },
    {
     "name": "stderr",
     "output_type": "stream",
     "text": [
      "12:09:47 - cmdstanpy - INFO - Chain [1] start processing\n",
      "12:09:47 - cmdstanpy - INFO - Chain [1] done processing\n",
      "12:09:48 - cmdstanpy - INFO - Chain [1] start processing\n",
      "12:09:48 - cmdstanpy - INFO - Chain [1] done processing\n",
      "12:09:49 - cmdstanpy - INFO - Chain [1] start processing\n",
      "12:09:49 - cmdstanpy - INFO - Chain [1] done processing\n",
      "12:09:50 - cmdstanpy - INFO - Chain [1] start processing\n",
      "12:09:50 - cmdstanpy - INFO - Chain [1] done processing\n",
      "12:09:51 - cmdstanpy - INFO - Chain [1] start processing\n",
      "12:09:51 - cmdstanpy - INFO - Chain [1] done processing\n"
     ]
    },
    {
     "data": {
      "application/vnd.jupyter.widget-view+json": {
       "model_id": "532a03a796524174be79b14c0b2633d1",
       "version_major": 2,
       "version_minor": 0
      },
      "text/plain": [
       "  0%|          | 0/4 [00:00<?, ?it/s]"
      ]
     },
     "metadata": {},
     "output_type": "display_data"
    },
    {
     "name": "stderr",
     "output_type": "stream",
     "text": [
      "12:09:51 - cmdstanpy - INFO - Chain [1] start processing\n",
      "12:09:51 - cmdstanpy - INFO - Chain [1] done processing\n",
      "12:09:52 - cmdstanpy - INFO - Chain [1] start processing\n",
      "12:09:52 - cmdstanpy - INFO - Chain [1] done processing\n",
      "12:09:53 - cmdstanpy - INFO - Chain [1] start processing\n",
      "12:09:53 - cmdstanpy - INFO - Chain [1] done processing\n",
      "12:09:53 - cmdstanpy - INFO - Chain [1] start processing\n",
      "12:09:53 - cmdstanpy - INFO - Chain [1] done processing\n",
      "12:09:54 - cmdstanpy - INFO - Chain [1] start processing\n",
      "12:09:54 - cmdstanpy - INFO - Chain [1] done processing\n"
     ]
    },
    {
     "data": {
      "application/vnd.jupyter.widget-view+json": {
       "model_id": "7e7648cc50004a69a85de5279c616f1a",
       "version_major": 2,
       "version_minor": 0
      },
      "text/plain": [
       "  0%|          | 0/4 [00:00<?, ?it/s]"
      ]
     },
     "metadata": {},
     "output_type": "display_data"
    },
    {
     "name": "stderr",
     "output_type": "stream",
     "text": [
      "12:09:54 - cmdstanpy - INFO - Chain [1] start processing\n",
      "12:09:54 - cmdstanpy - INFO - Chain [1] done processing\n",
      "12:09:55 - cmdstanpy - INFO - Chain [1] start processing\n",
      "12:09:55 - cmdstanpy - INFO - Chain [1] done processing\n",
      "12:09:56 - cmdstanpy - INFO - Chain [1] start processing\n",
      "12:09:56 - cmdstanpy - INFO - Chain [1] done processing\n",
      "12:09:56 - cmdstanpy - INFO - Chain [1] start processing\n",
      "12:09:56 - cmdstanpy - INFO - Chain [1] done processing\n",
      "12:09:57 - cmdstanpy - INFO - Chain [1] start processing\n",
      "12:09:57 - cmdstanpy - INFO - Chain [1] done processing\n"
     ]
    },
    {
     "data": {
      "application/vnd.jupyter.widget-view+json": {
       "model_id": "f6977f754d4646bcb84809b7351db6ba",
       "version_major": 2,
       "version_minor": 0
      },
      "text/plain": [
       "  0%|          | 0/4 [00:00<?, ?it/s]"
      ]
     },
     "metadata": {},
     "output_type": "display_data"
    },
    {
     "name": "stderr",
     "output_type": "stream",
     "text": [
      "12:09:57 - cmdstanpy - INFO - Chain [1] start processing\n",
      "12:09:57 - cmdstanpy - INFO - Chain [1] done processing\n",
      "12:09:58 - cmdstanpy - INFO - Chain [1] start processing\n",
      "12:09:58 - cmdstanpy - INFO - Chain [1] done processing\n",
      "12:09:59 - cmdstanpy - INFO - Chain [1] start processing\n",
      "12:09:59 - cmdstanpy - INFO - Chain [1] done processing\n",
      "12:09:59 - cmdstanpy - INFO - Chain [1] start processing\n",
      "12:09:59 - cmdstanpy - INFO - Chain [1] done processing\n",
      "12:10:00 - cmdstanpy - INFO - Chain [1] start processing\n",
      "12:10:00 - cmdstanpy - INFO - Chain [1] done processing\n"
     ]
    },
    {
     "data": {
      "application/vnd.jupyter.widget-view+json": {
       "model_id": "49fdeede60754fe4a7e59865d8decadf",
       "version_major": 2,
       "version_minor": 0
      },
      "text/plain": [
       "  0%|          | 0/4 [00:00<?, ?it/s]"
      ]
     },
     "metadata": {},
     "output_type": "display_data"
    },
    {
     "name": "stderr",
     "output_type": "stream",
     "text": [
      "12:10:00 - cmdstanpy - INFO - Chain [1] start processing\n",
      "12:10:00 - cmdstanpy - INFO - Chain [1] done processing\n",
      "12:10:01 - cmdstanpy - INFO - Chain [1] start processing\n",
      "12:10:01 - cmdstanpy - INFO - Chain [1] done processing\n",
      "12:10:02 - cmdstanpy - INFO - Chain [1] start processing\n",
      "12:10:02 - cmdstanpy - INFO - Chain [1] done processing\n",
      "12:10:02 - cmdstanpy - INFO - Chain [1] start processing\n",
      "12:10:02 - cmdstanpy - INFO - Chain [1] done processing\n",
      "12:10:03 - cmdstanpy - INFO - Chain [1] start processing\n",
      "12:10:03 - cmdstanpy - INFO - Chain [1] done processing\n"
     ]
    },
    {
     "data": {
      "application/vnd.jupyter.widget-view+json": {
       "model_id": "321e7ce12cb1446d8e9e47e91fda3d49",
       "version_major": 2,
       "version_minor": 0
      },
      "text/plain": [
       "  0%|          | 0/4 [00:00<?, ?it/s]"
      ]
     },
     "metadata": {},
     "output_type": "display_data"
    },
    {
     "name": "stderr",
     "output_type": "stream",
     "text": [
      "12:10:03 - cmdstanpy - INFO - Chain [1] start processing\n",
      "12:10:03 - cmdstanpy - INFO - Chain [1] done processing\n",
      "12:10:04 - cmdstanpy - INFO - Chain [1] start processing\n",
      "12:10:04 - cmdstanpy - INFO - Chain [1] done processing\n",
      "12:10:05 - cmdstanpy - INFO - Chain [1] start processing\n",
      "12:10:05 - cmdstanpy - INFO - Chain [1] done processing\n",
      "12:10:05 - cmdstanpy - INFO - Chain [1] start processing\n",
      "12:10:05 - cmdstanpy - INFO - Chain [1] done processing\n",
      "12:10:06 - cmdstanpy - INFO - Chain [1] start processing\n",
      "12:10:06 - cmdstanpy - INFO - Chain [1] done processing\n"
     ]
    },
    {
     "data": {
      "application/vnd.jupyter.widget-view+json": {
       "model_id": "4843bd40a6114837b3019347390e132e",
       "version_major": 2,
       "version_minor": 0
      },
      "text/plain": [
       "  0%|          | 0/4 [00:00<?, ?it/s]"
      ]
     },
     "metadata": {},
     "output_type": "display_data"
    },
    {
     "name": "stderr",
     "output_type": "stream",
     "text": [
      "12:10:06 - cmdstanpy - INFO - Chain [1] start processing\n",
      "12:10:07 - cmdstanpy - INFO - Chain [1] done processing\n",
      "12:10:07 - cmdstanpy - INFO - Chain [1] start processing\n",
      "12:10:07 - cmdstanpy - INFO - Chain [1] done processing\n",
      "12:10:08 - cmdstanpy - INFO - Chain [1] start processing\n",
      "12:10:08 - cmdstanpy - INFO - Chain [1] done processing\n",
      "12:10:09 - cmdstanpy - INFO - Chain [1] start processing\n",
      "12:10:09 - cmdstanpy - INFO - Chain [1] done processing\n",
      "12:10:10 - cmdstanpy - INFO - Chain [1] start processing\n",
      "12:10:10 - cmdstanpy - INFO - Chain [1] done processing\n"
     ]
    },
    {
     "data": {
      "application/vnd.jupyter.widget-view+json": {
       "model_id": "12d3170ea0774ae386e583a06432a8d5",
       "version_major": 2,
       "version_minor": 0
      },
      "text/plain": [
       "  0%|          | 0/4 [00:00<?, ?it/s]"
      ]
     },
     "metadata": {},
     "output_type": "display_data"
    },
    {
     "name": "stderr",
     "output_type": "stream",
     "text": [
      "12:10:10 - cmdstanpy - INFO - Chain [1] start processing\n",
      "12:10:10 - cmdstanpy - INFO - Chain [1] done processing\n",
      "12:10:11 - cmdstanpy - INFO - Chain [1] start processing\n",
      "12:10:11 - cmdstanpy - INFO - Chain [1] done processing\n",
      "12:10:11 - cmdstanpy - INFO - Chain [1] start processing\n",
      "12:10:12 - cmdstanpy - INFO - Chain [1] done processing\n",
      "12:10:12 - cmdstanpy - INFO - Chain [1] start processing\n",
      "12:10:12 - cmdstanpy - INFO - Chain [1] done processing\n",
      "12:10:13 - cmdstanpy - INFO - Chain [1] start processing\n",
      "12:10:13 - cmdstanpy - INFO - Chain [1] done processing\n"
     ]
    },
    {
     "data": {
      "application/vnd.jupyter.widget-view+json": {
       "model_id": "dcf47676c3e7429c988c757ca5a0297f",
       "version_major": 2,
       "version_minor": 0
      },
      "text/plain": [
       "  0%|          | 0/4 [00:00<?, ?it/s]"
      ]
     },
     "metadata": {},
     "output_type": "display_data"
    },
    {
     "name": "stderr",
     "output_type": "stream",
     "text": [
      "12:10:13 - cmdstanpy - INFO - Chain [1] start processing\n",
      "12:10:13 - cmdstanpy - INFO - Chain [1] done processing\n",
      "12:10:14 - cmdstanpy - INFO - Chain [1] start processing\n",
      "12:10:14 - cmdstanpy - INFO - Chain [1] done processing\n",
      "12:10:14 - cmdstanpy - INFO - Chain [1] start processing\n",
      "12:10:14 - cmdstanpy - INFO - Chain [1] done processing\n",
      "12:10:15 - cmdstanpy - INFO - Chain [1] start processing\n",
      "12:10:15 - cmdstanpy - INFO - Chain [1] done processing\n",
      "12:10:16 - cmdstanpy - INFO - Chain [1] start processing\n",
      "12:10:16 - cmdstanpy - INFO - Chain [1] done processing\n"
     ]
    },
    {
     "data": {
      "application/vnd.jupyter.widget-view+json": {
       "model_id": "0d2f733a024241fa82d73b0f21521d7d",
       "version_major": 2,
       "version_minor": 0
      },
      "text/plain": [
       "  0%|          | 0/4 [00:00<?, ?it/s]"
      ]
     },
     "metadata": {},
     "output_type": "display_data"
    },
    {
     "name": "stderr",
     "output_type": "stream",
     "text": [
      "12:10:16 - cmdstanpy - INFO - Chain [1] start processing\n",
      "12:10:16 - cmdstanpy - INFO - Chain [1] done processing\n",
      "12:10:17 - cmdstanpy - INFO - Chain [1] start processing\n",
      "12:10:17 - cmdstanpy - INFO - Chain [1] done processing\n",
      "12:10:17 - cmdstanpy - INFO - Chain [1] start processing\n",
      "12:10:17 - cmdstanpy - INFO - Chain [1] done processing\n",
      "12:10:18 - cmdstanpy - INFO - Chain [1] start processing\n",
      "12:10:18 - cmdstanpy - INFO - Chain [1] done processing\n",
      "12:10:19 - cmdstanpy - INFO - Chain [1] start processing\n",
      "12:10:19 - cmdstanpy - INFO - Chain [1] done processing\n"
     ]
    },
    {
     "data": {
      "application/vnd.jupyter.widget-view+json": {
       "model_id": "1ecb913650ba4380bb4d52dc525f7595",
       "version_major": 2,
       "version_minor": 0
      },
      "text/plain": [
       "  0%|          | 0/4 [00:00<?, ?it/s]"
      ]
     },
     "metadata": {},
     "output_type": "display_data"
    },
    {
     "name": "stderr",
     "output_type": "stream",
     "text": [
      "12:10:19 - cmdstanpy - INFO - Chain [1] start processing\n",
      "12:10:19 - cmdstanpy - INFO - Chain [1] done processing\n",
      "12:10:20 - cmdstanpy - INFO - Chain [1] start processing\n",
      "12:10:20 - cmdstanpy - INFO - Chain [1] done processing\n",
      "12:10:20 - cmdstanpy - INFO - Chain [1] start processing\n",
      "12:10:20 - cmdstanpy - INFO - Chain [1] done processing\n",
      "12:10:21 - cmdstanpy - INFO - Chain [1] start processing\n",
      "12:10:21 - cmdstanpy - INFO - Chain [1] done processing\n",
      "12:10:22 - cmdstanpy - INFO - Chain [1] start processing\n",
      "12:10:22 - cmdstanpy - INFO - Chain [1] done processing\n"
     ]
    },
    {
     "data": {
      "application/vnd.jupyter.widget-view+json": {
       "model_id": "df013bb427db44a0a3f488b2f0cb7ad3",
       "version_major": 2,
       "version_minor": 0
      },
      "text/plain": [
       "  0%|          | 0/4 [00:00<?, ?it/s]"
      ]
     },
     "metadata": {},
     "output_type": "display_data"
    },
    {
     "name": "stderr",
     "output_type": "stream",
     "text": [
      "12:10:22 - cmdstanpy - INFO - Chain [1] start processing\n",
      "12:10:22 - cmdstanpy - INFO - Chain [1] done processing\n",
      "12:10:23 - cmdstanpy - INFO - Chain [1] start processing\n",
      "12:10:23 - cmdstanpy - INFO - Chain [1] done processing\n",
      "12:10:23 - cmdstanpy - INFO - Chain [1] start processing\n",
      "12:10:23 - cmdstanpy - INFO - Chain [1] done processing\n",
      "12:10:24 - cmdstanpy - INFO - Chain [1] start processing\n",
      "12:10:24 - cmdstanpy - INFO - Chain [1] done processing\n",
      "12:10:25 - cmdstanpy - INFO - Chain [1] start processing\n",
      "12:10:25 - cmdstanpy - INFO - Chain [1] done processing\n"
     ]
    },
    {
     "data": {
      "application/vnd.jupyter.widget-view+json": {
       "model_id": "0ee029d5d4834c3390d0b834c6d989d4",
       "version_major": 2,
       "version_minor": 0
      },
      "text/plain": [
       "  0%|          | 0/4 [00:00<?, ?it/s]"
      ]
     },
     "metadata": {},
     "output_type": "display_data"
    },
    {
     "name": "stderr",
     "output_type": "stream",
     "text": [
      "12:10:25 - cmdstanpy - INFO - Chain [1] start processing\n",
      "12:10:25 - cmdstanpy - INFO - Chain [1] done processing\n",
      "12:10:25 - cmdstanpy - INFO - Chain [1] start processing\n",
      "12:10:25 - cmdstanpy - INFO - Chain [1] done processing\n",
      "12:10:26 - cmdstanpy - INFO - Chain [1] start processing\n",
      "12:10:26 - cmdstanpy - INFO - Chain [1] done processing\n",
      "12:10:27 - cmdstanpy - INFO - Chain [1] start processing\n",
      "12:10:27 - cmdstanpy - INFO - Chain [1] done processing\n",
      "12:10:27 - cmdstanpy - INFO - Chain [1] start processing\n",
      "12:10:28 - cmdstanpy - INFO - Chain [1] done processing\n"
     ]
    },
    {
     "data": {
      "application/vnd.jupyter.widget-view+json": {
       "model_id": "99f02e8d58ce4e6eb7d73ab3463fc38b",
       "version_major": 2,
       "version_minor": 0
      },
      "text/plain": [
       "  0%|          | 0/4 [00:00<?, ?it/s]"
      ]
     },
     "metadata": {},
     "output_type": "display_data"
    },
    {
     "name": "stderr",
     "output_type": "stream",
     "text": [
      "12:10:28 - cmdstanpy - INFO - Chain [1] start processing\n",
      "12:10:28 - cmdstanpy - INFO - Chain [1] done processing\n",
      "12:10:28 - cmdstanpy - INFO - Chain [1] start processing\n",
      "12:10:28 - cmdstanpy - INFO - Chain [1] done processing\n",
      "12:10:29 - cmdstanpy - INFO - Chain [1] start processing\n",
      "12:10:29 - cmdstanpy - INFO - Chain [1] done processing\n",
      "12:10:30 - cmdstanpy - INFO - Chain [1] start processing\n",
      "12:10:30 - cmdstanpy - INFO - Chain [1] done processing\n",
      "12:10:30 - cmdstanpy - INFO - Chain [1] start processing\n",
      "12:10:30 - cmdstanpy - INFO - Chain [1] done processing\n"
     ]
    },
    {
     "data": {
      "application/vnd.jupyter.widget-view+json": {
       "model_id": "f3578ff7d4464836a58bf0dc4207323a",
       "version_major": 2,
       "version_minor": 0
      },
      "text/plain": [
       "  0%|          | 0/4 [00:00<?, ?it/s]"
      ]
     },
     "metadata": {},
     "output_type": "display_data"
    },
    {
     "name": "stderr",
     "output_type": "stream",
     "text": [
      "12:10:31 - cmdstanpy - INFO - Chain [1] start processing\n",
      "12:10:31 - cmdstanpy - INFO - Chain [1] done processing\n",
      "12:10:31 - cmdstanpy - INFO - Chain [1] start processing\n",
      "12:10:31 - cmdstanpy - INFO - Chain [1] done processing\n",
      "12:10:32 - cmdstanpy - INFO - Chain [1] start processing\n",
      "12:10:32 - cmdstanpy - INFO - Chain [1] done processing\n",
      "12:10:33 - cmdstanpy - INFO - Chain [1] start processing\n",
      "12:10:33 - cmdstanpy - INFO - Chain [1] done processing\n",
      "12:10:34 - cmdstanpy - INFO - Chain [1] start processing\n",
      "12:10:34 - cmdstanpy - INFO - Chain [1] done processing\n"
     ]
    },
    {
     "data": {
      "application/vnd.jupyter.widget-view+json": {
       "model_id": "c991d31c6c6848debb077a5568564b26",
       "version_major": 2,
       "version_minor": 0
      },
      "text/plain": [
       "  0%|          | 0/4 [00:00<?, ?it/s]"
      ]
     },
     "metadata": {},
     "output_type": "display_data"
    },
    {
     "name": "stderr",
     "output_type": "stream",
     "text": [
      "12:10:34 - cmdstanpy - INFO - Chain [1] start processing\n",
      "12:10:34 - cmdstanpy - INFO - Chain [1] done processing\n",
      "12:10:34 - cmdstanpy - INFO - Chain [1] start processing\n",
      "12:10:35 - cmdstanpy - INFO - Chain [1] done processing\n",
      "12:10:35 - cmdstanpy - INFO - Chain [1] start processing\n",
      "12:10:35 - cmdstanpy - INFO - Chain [1] done processing\n",
      "12:10:36 - cmdstanpy - INFO - Chain [1] start processing\n",
      "12:10:36 - cmdstanpy - INFO - Chain [1] done processing\n",
      "12:10:36 - cmdstanpy - INFO - Chain [1] start processing\n",
      "12:10:36 - cmdstanpy - INFO - Chain [1] done processing\n"
     ]
    },
    {
     "data": {
      "application/vnd.jupyter.widget-view+json": {
       "model_id": "2e746e90105b4a62a9d2078c5b1f5df8",
       "version_major": 2,
       "version_minor": 0
      },
      "text/plain": [
       "  0%|          | 0/4 [00:00<?, ?it/s]"
      ]
     },
     "metadata": {},
     "output_type": "display_data"
    },
    {
     "name": "stderr",
     "output_type": "stream",
     "text": [
      "12:10:37 - cmdstanpy - INFO - Chain [1] start processing\n",
      "12:10:37 - cmdstanpy - INFO - Chain [1] done processing\n",
      "12:10:37 - cmdstanpy - INFO - Chain [1] start processing\n",
      "12:10:37 - cmdstanpy - INFO - Chain [1] done processing\n",
      "12:10:38 - cmdstanpy - INFO - Chain [1] start processing\n",
      "12:10:38 - cmdstanpy - INFO - Chain [1] done processing\n",
      "12:10:39 - cmdstanpy - INFO - Chain [1] start processing\n",
      "12:10:39 - cmdstanpy - INFO - Chain [1] done processing\n",
      "12:10:39 - cmdstanpy - INFO - Chain [1] start processing\n",
      "12:10:39 - cmdstanpy - INFO - Chain [1] done processing\n"
     ]
    },
    {
     "data": {
      "application/vnd.jupyter.widget-view+json": {
       "model_id": "bd2b59a79e7e4e5aa36386b1f5cb92ae",
       "version_major": 2,
       "version_minor": 0
      },
      "text/plain": [
       "  0%|          | 0/4 [00:00<?, ?it/s]"
      ]
     },
     "metadata": {},
     "output_type": "display_data"
    },
    {
     "name": "stderr",
     "output_type": "stream",
     "text": [
      "12:10:39 - cmdstanpy - INFO - Chain [1] start processing\n",
      "12:10:40 - cmdstanpy - INFO - Chain [1] done processing\n",
      "12:10:40 - cmdstanpy - INFO - Chain [1] start processing\n",
      "12:10:40 - cmdstanpy - INFO - Chain [1] done processing\n",
      "12:10:41 - cmdstanpy - INFO - Chain [1] start processing\n",
      "12:10:41 - cmdstanpy - INFO - Chain [1] done processing\n",
      "12:10:42 - cmdstanpy - INFO - Chain [1] start processing\n",
      "12:10:42 - cmdstanpy - INFO - Chain [1] done processing\n",
      "12:10:42 - cmdstanpy - INFO - Chain [1] start processing\n",
      "12:10:42 - cmdstanpy - INFO - Chain [1] done processing\n"
     ]
    },
    {
     "data": {
      "application/vnd.jupyter.widget-view+json": {
       "model_id": "e2f95d11112947ca9e4a3a0323c19538",
       "version_major": 2,
       "version_minor": 0
      },
      "text/plain": [
       "  0%|          | 0/4 [00:00<?, ?it/s]"
      ]
     },
     "metadata": {},
     "output_type": "display_data"
    },
    {
     "name": "stderr",
     "output_type": "stream",
     "text": [
      "12:10:42 - cmdstanpy - INFO - Chain [1] start processing\n",
      "12:10:43 - cmdstanpy - INFO - Chain [1] done processing\n",
      "12:10:43 - cmdstanpy - INFO - Chain [1] start processing\n",
      "12:10:43 - cmdstanpy - INFO - Chain [1] done processing\n",
      "12:10:44 - cmdstanpy - INFO - Chain [1] start processing\n",
      "12:10:44 - cmdstanpy - INFO - Chain [1] done processing\n",
      "12:10:45 - cmdstanpy - INFO - Chain [1] start processing\n",
      "12:10:45 - cmdstanpy - INFO - Chain [1] done processing\n",
      "12:10:45 - cmdstanpy - INFO - Chain [1] start processing\n",
      "12:10:45 - cmdstanpy - INFO - Chain [1] done processing\n"
     ]
    },
    {
     "data": {
      "application/vnd.jupyter.widget-view+json": {
       "model_id": "1ceab2ddb3dc439c948175df50881859",
       "version_major": 2,
       "version_minor": 0
      },
      "text/plain": [
       "  0%|          | 0/4 [00:00<?, ?it/s]"
      ]
     },
     "metadata": {},
     "output_type": "display_data"
    },
    {
     "name": "stderr",
     "output_type": "stream",
     "text": [
      "12:10:45 - cmdstanpy - INFO - Chain [1] start processing\n",
      "12:10:46 - cmdstanpy - INFO - Chain [1] done processing\n",
      "12:10:46 - cmdstanpy - INFO - Chain [1] start processing\n",
      "12:10:46 - cmdstanpy - INFO - Chain [1] done processing\n",
      "12:10:47 - cmdstanpy - INFO - Chain [1] start processing\n",
      "12:10:47 - cmdstanpy - INFO - Chain [1] done processing\n",
      "12:10:48 - cmdstanpy - INFO - Chain [1] start processing\n",
      "12:10:48 - cmdstanpy - INFO - Chain [1] done processing\n",
      "12:10:48 - cmdstanpy - INFO - Chain [1] start processing\n",
      "12:10:48 - cmdstanpy - INFO - Chain [1] done processing\n"
     ]
    },
    {
     "data": {
      "application/vnd.jupyter.widget-view+json": {
       "model_id": "8028cc973e004f8090402f2dcc30e8e5",
       "version_major": 2,
       "version_minor": 0
      },
      "text/plain": [
       "  0%|          | 0/4 [00:00<?, ?it/s]"
      ]
     },
     "metadata": {},
     "output_type": "display_data"
    },
    {
     "name": "stderr",
     "output_type": "stream",
     "text": [
      "12:10:48 - cmdstanpy - INFO - Chain [1] start processing\n",
      "12:10:48 - cmdstanpy - INFO - Chain [1] done processing\n",
      "12:10:49 - cmdstanpy - INFO - Chain [1] start processing\n",
      "12:10:49 - cmdstanpy - INFO - Chain [1] done processing\n",
      "12:10:50 - cmdstanpy - INFO - Chain [1] start processing\n",
      "12:10:50 - cmdstanpy - INFO - Chain [1] done processing\n",
      "12:10:51 - cmdstanpy - INFO - Chain [1] start processing\n",
      "12:10:51 - cmdstanpy - INFO - Chain [1] done processing\n",
      "12:10:52 - cmdstanpy - INFO - Chain [1] start processing\n",
      "12:10:52 - cmdstanpy - INFO - Chain [1] done processing\n"
     ]
    },
    {
     "data": {
      "application/vnd.jupyter.widget-view+json": {
       "model_id": "b3c60e399e6e4754b48d3356235ed551",
       "version_major": 2,
       "version_minor": 0
      },
      "text/plain": [
       "  0%|          | 0/4 [00:00<?, ?it/s]"
      ]
     },
     "metadata": {},
     "output_type": "display_data"
    },
    {
     "name": "stderr",
     "output_type": "stream",
     "text": [
      "12:10:52 - cmdstanpy - INFO - Chain [1] start processing\n",
      "12:10:52 - cmdstanpy - INFO - Chain [1] done processing\n",
      "12:10:53 - cmdstanpy - INFO - Chain [1] start processing\n",
      "12:10:53 - cmdstanpy - INFO - Chain [1] done processing\n",
      "12:10:53 - cmdstanpy - INFO - Chain [1] start processing\n",
      "12:10:53 - cmdstanpy - INFO - Chain [1] done processing\n",
      "12:10:54 - cmdstanpy - INFO - Chain [1] start processing\n",
      "12:10:54 - cmdstanpy - INFO - Chain [1] done processing\n",
      "12:10:55 - cmdstanpy - INFO - Chain [1] start processing\n",
      "12:10:55 - cmdstanpy - INFO - Chain [1] done processing\n"
     ]
    },
    {
     "data": {
      "application/vnd.jupyter.widget-view+json": {
       "model_id": "d201a32307f54a50bab4e7147894d27e",
       "version_major": 2,
       "version_minor": 0
      },
      "text/plain": [
       "  0%|          | 0/4 [00:00<?, ?it/s]"
      ]
     },
     "metadata": {},
     "output_type": "display_data"
    },
    {
     "name": "stderr",
     "output_type": "stream",
     "text": [
      "12:10:55 - cmdstanpy - INFO - Chain [1] start processing\n",
      "12:10:55 - cmdstanpy - INFO - Chain [1] done processing\n",
      "12:10:56 - cmdstanpy - INFO - Chain [1] start processing\n",
      "12:10:56 - cmdstanpy - INFO - Chain [1] done processing\n",
      "12:10:56 - cmdstanpy - INFO - Chain [1] start processing\n",
      "12:10:56 - cmdstanpy - INFO - Chain [1] done processing\n",
      "12:10:57 - cmdstanpy - INFO - Chain [1] start processing\n",
      "12:10:57 - cmdstanpy - INFO - Chain [1] done processing\n",
      "12:10:58 - cmdstanpy - INFO - Chain [1] start processing\n",
      "12:10:58 - cmdstanpy - INFO - Chain [1] done processing\n"
     ]
    },
    {
     "data": {
      "application/vnd.jupyter.widget-view+json": {
       "model_id": "f1acf771254b476aa8a667fb8c0d28d5",
       "version_major": 2,
       "version_minor": 0
      },
      "text/plain": [
       "  0%|          | 0/4 [00:00<?, ?it/s]"
      ]
     },
     "metadata": {},
     "output_type": "display_data"
    },
    {
     "name": "stderr",
     "output_type": "stream",
     "text": [
      "12:10:58 - cmdstanpy - INFO - Chain [1] start processing\n",
      "12:10:58 - cmdstanpy - INFO - Chain [1] done processing\n",
      "12:10:59 - cmdstanpy - INFO - Chain [1] start processing\n",
      "12:10:59 - cmdstanpy - INFO - Chain [1] done processing\n",
      "12:10:59 - cmdstanpy - INFO - Chain [1] start processing\n",
      "12:10:59 - cmdstanpy - INFO - Chain [1] done processing\n",
      "12:11:00 - cmdstanpy - INFO - Chain [1] start processing\n",
      "12:11:00 - cmdstanpy - INFO - Chain [1] done processing\n",
      "12:11:01 - cmdstanpy - INFO - Chain [1] start processing\n",
      "12:11:01 - cmdstanpy - INFO - Chain [1] done processing\n"
     ]
    },
    {
     "data": {
      "application/vnd.jupyter.widget-view+json": {
       "model_id": "1d0a7e37481e4d26a84cb984e3b1ee08",
       "version_major": 2,
       "version_minor": 0
      },
      "text/plain": [
       "  0%|          | 0/4 [00:00<?, ?it/s]"
      ]
     },
     "metadata": {},
     "output_type": "display_data"
    },
    {
     "name": "stderr",
     "output_type": "stream",
     "text": [
      "12:11:01 - cmdstanpy - INFO - Chain [1] start processing\n",
      "12:11:01 - cmdstanpy - INFO - Chain [1] done processing\n",
      "12:11:02 - cmdstanpy - INFO - Chain [1] start processing\n",
      "12:11:02 - cmdstanpy - INFO - Chain [1] done processing\n",
      "12:11:03 - cmdstanpy - INFO - Chain [1] start processing\n",
      "12:11:03 - cmdstanpy - INFO - Chain [1] done processing\n",
      "12:11:04 - cmdstanpy - INFO - Chain [1] start processing\n",
      "12:11:04 - cmdstanpy - INFO - Chain [1] done processing\n",
      "12:11:05 - cmdstanpy - INFO - Chain [1] start processing\n",
      "12:11:05 - cmdstanpy - INFO - Chain [1] done processing\n"
     ]
    },
    {
     "data": {
      "application/vnd.jupyter.widget-view+json": {
       "model_id": "7db2b343bd2a479e892da1ea02f03754",
       "version_major": 2,
       "version_minor": 0
      },
      "text/plain": [
       "  0%|          | 0/4 [00:00<?, ?it/s]"
      ]
     },
     "metadata": {},
     "output_type": "display_data"
    },
    {
     "name": "stderr",
     "output_type": "stream",
     "text": [
      "12:11:05 - cmdstanpy - INFO - Chain [1] start processing\n",
      "12:11:05 - cmdstanpy - INFO - Chain [1] done processing\n",
      "12:11:05 - cmdstanpy - INFO - Chain [1] start processing\n",
      "12:11:06 - cmdstanpy - INFO - Chain [1] done processing\n",
      "12:11:06 - cmdstanpy - INFO - Chain [1] start processing\n",
      "12:11:06 - cmdstanpy - INFO - Chain [1] done processing\n",
      "12:11:07 - cmdstanpy - INFO - Chain [1] start processing\n",
      "12:11:07 - cmdstanpy - INFO - Chain [1] done processing\n",
      "12:11:08 - cmdstanpy - INFO - Chain [1] start processing\n",
      "12:11:08 - cmdstanpy - INFO - Chain [1] done processing\n"
     ]
    },
    {
     "data": {
      "application/vnd.jupyter.widget-view+json": {
       "model_id": "17a6694c21c2472481926d19240f3136",
       "version_major": 2,
       "version_minor": 0
      },
      "text/plain": [
       "  0%|          | 0/4 [00:00<?, ?it/s]"
      ]
     },
     "metadata": {},
     "output_type": "display_data"
    },
    {
     "name": "stderr",
     "output_type": "stream",
     "text": [
      "12:11:08 - cmdstanpy - INFO - Chain [1] start processing\n",
      "12:11:08 - cmdstanpy - INFO - Chain [1] done processing\n",
      "12:11:09 - cmdstanpy - INFO - Chain [1] start processing\n",
      "12:11:09 - cmdstanpy - INFO - Chain [1] done processing\n",
      "12:11:10 - cmdstanpy - INFO - Chain [1] start processing\n",
      "12:11:10 - cmdstanpy - INFO - Chain [1] done processing\n",
      "12:11:10 - cmdstanpy - INFO - Chain [1] start processing\n",
      "12:11:11 - cmdstanpy - INFO - Chain [1] done processing\n",
      "12:11:12 - cmdstanpy - INFO - Chain [1] start processing\n",
      "12:11:12 - cmdstanpy - INFO - Chain [1] done processing\n"
     ]
    },
    {
     "data": {
      "application/vnd.jupyter.widget-view+json": {
       "model_id": "1822e1cf03bc45668684ff1da931a7c3",
       "version_major": 2,
       "version_minor": 0
      },
      "text/plain": [
       "  0%|          | 0/4 [00:00<?, ?it/s]"
      ]
     },
     "metadata": {},
     "output_type": "display_data"
    },
    {
     "name": "stderr",
     "output_type": "stream",
     "text": [
      "12:11:12 - cmdstanpy - INFO - Chain [1] start processing\n",
      "12:11:12 - cmdstanpy - INFO - Chain [1] done processing\n",
      "12:11:13 - cmdstanpy - INFO - Chain [1] start processing\n",
      "12:11:13 - cmdstanpy - INFO - Chain [1] done processing\n",
      "12:11:13 - cmdstanpy - INFO - Chain [1] start processing\n",
      "12:11:13 - cmdstanpy - INFO - Chain [1] done processing\n",
      "12:11:14 - cmdstanpy - INFO - Chain [1] start processing\n",
      "12:11:14 - cmdstanpy - INFO - Chain [1] done processing\n",
      "12:11:15 - cmdstanpy - INFO - Chain [1] start processing\n",
      "12:11:15 - cmdstanpy - INFO - Chain [1] done processing\n"
     ]
    },
    {
     "data": {
      "application/vnd.jupyter.widget-view+json": {
       "model_id": "336a63a28ccc496d963573d5658082f3",
       "version_major": 2,
       "version_minor": 0
      },
      "text/plain": [
       "  0%|          | 0/4 [00:00<?, ?it/s]"
      ]
     },
     "metadata": {},
     "output_type": "display_data"
    },
    {
     "name": "stderr",
     "output_type": "stream",
     "text": [
      "12:11:15 - cmdstanpy - INFO - Chain [1] start processing\n",
      "12:11:15 - cmdstanpy - INFO - Chain [1] done processing\n",
      "12:11:16 - cmdstanpy - INFO - Chain [1] start processing\n",
      "12:11:16 - cmdstanpy - INFO - Chain [1] done processing\n",
      "12:11:17 - cmdstanpy - INFO - Chain [1] start processing\n",
      "12:11:17 - cmdstanpy - INFO - Chain [1] done processing\n",
      "12:11:17 - cmdstanpy - INFO - Chain [1] start processing\n",
      "12:11:17 - cmdstanpy - INFO - Chain [1] done processing\n",
      "12:11:18 - cmdstanpy - INFO - Chain [1] start processing\n",
      "12:11:18 - cmdstanpy - INFO - Chain [1] done processing\n"
     ]
    },
    {
     "data": {
      "application/vnd.jupyter.widget-view+json": {
       "model_id": "8d5a870498ea42e8ae5541199a0db957",
       "version_major": 2,
       "version_minor": 0
      },
      "text/plain": [
       "  0%|          | 0/4 [00:00<?, ?it/s]"
      ]
     },
     "metadata": {},
     "output_type": "display_data"
    },
    {
     "name": "stderr",
     "output_type": "stream",
     "text": [
      "12:11:18 - cmdstanpy - INFO - Chain [1] start processing\n",
      "12:11:18 - cmdstanpy - INFO - Chain [1] done processing\n",
      "12:11:19 - cmdstanpy - INFO - Chain [1] start processing\n",
      "12:11:19 - cmdstanpy - INFO - Chain [1] done processing\n",
      "12:11:20 - cmdstanpy - INFO - Chain [1] start processing\n",
      "12:11:20 - cmdstanpy - INFO - Chain [1] done processing\n",
      "12:11:21 - cmdstanpy - INFO - Chain [1] start processing\n",
      "12:11:21 - cmdstanpy - INFO - Chain [1] done processing\n",
      "12:11:22 - cmdstanpy - INFO - Chain [1] start processing\n",
      "12:11:22 - cmdstanpy - INFO - Chain [1] done processing\n"
     ]
    },
    {
     "data": {
      "application/vnd.jupyter.widget-view+json": {
       "model_id": "8ddf1c24b5b947f1a8506480870ecd1e",
       "version_major": 2,
       "version_minor": 0
      },
      "text/plain": [
       "  0%|          | 0/4 [00:00<?, ?it/s]"
      ]
     },
     "metadata": {},
     "output_type": "display_data"
    },
    {
     "name": "stderr",
     "output_type": "stream",
     "text": [
      "12:11:22 - cmdstanpy - INFO - Chain [1] start processing\n",
      "12:11:22 - cmdstanpy - INFO - Chain [1] done processing\n",
      "12:11:22 - cmdstanpy - INFO - Chain [1] start processing\n",
      "12:11:23 - cmdstanpy - INFO - Chain [1] done processing\n",
      "12:11:23 - cmdstanpy - INFO - Chain [1] start processing\n",
      "12:11:23 - cmdstanpy - INFO - Chain [1] done processing\n",
      "12:11:25 - cmdstanpy - INFO - Chain [1] start processing\n",
      "12:11:25 - cmdstanpy - INFO - Chain [1] done processing\n",
      "12:11:25 - cmdstanpy - INFO - Chain [1] start processing\n",
      "12:11:25 - cmdstanpy - INFO - Chain [1] done processing\n"
     ]
    },
    {
     "data": {
      "application/vnd.jupyter.widget-view+json": {
       "model_id": "15dbe5ade1394fe1b9d945813f101691",
       "version_major": 2,
       "version_minor": 0
      },
      "text/plain": [
       "  0%|          | 0/4 [00:00<?, ?it/s]"
      ]
     },
     "metadata": {},
     "output_type": "display_data"
    },
    {
     "name": "stderr",
     "output_type": "stream",
     "text": [
      "12:11:25 - cmdstanpy - INFO - Chain [1] start processing\n",
      "12:11:26 - cmdstanpy - INFO - Chain [1] done processing\n",
      "12:11:26 - cmdstanpy - INFO - Chain [1] start processing\n",
      "12:11:26 - cmdstanpy - INFO - Chain [1] done processing\n",
      "12:11:28 - cmdstanpy - INFO - Chain [1] start processing\n",
      "12:11:28 - cmdstanpy - INFO - Chain [1] done processing\n",
      "12:11:29 - cmdstanpy - INFO - Chain [1] start processing\n",
      "12:11:29 - cmdstanpy - INFO - Chain [1] done processing\n",
      "12:11:30 - cmdstanpy - INFO - Chain [1] start processing\n",
      "12:11:30 - cmdstanpy - INFO - Chain [1] done processing\n"
     ]
    },
    {
     "data": {
      "application/vnd.jupyter.widget-view+json": {
       "model_id": "1ffec15894124428936c52483a153f89",
       "version_major": 2,
       "version_minor": 0
      },
      "text/plain": [
       "  0%|          | 0/4 [00:00<?, ?it/s]"
      ]
     },
     "metadata": {},
     "output_type": "display_data"
    },
    {
     "name": "stderr",
     "output_type": "stream",
     "text": [
      "12:11:30 - cmdstanpy - INFO - Chain [1] start processing\n",
      "12:11:30 - cmdstanpy - INFO - Chain [1] done processing\n",
      "12:11:30 - cmdstanpy - INFO - Chain [1] start processing\n",
      "12:11:30 - cmdstanpy - INFO - Chain [1] done processing\n",
      "12:11:31 - cmdstanpy - INFO - Chain [1] start processing\n",
      "12:11:31 - cmdstanpy - INFO - Chain [1] done processing\n",
      "12:11:32 - cmdstanpy - INFO - Chain [1] start processing\n",
      "12:11:32 - cmdstanpy - INFO - Chain [1] done processing\n",
      "12:11:32 - cmdstanpy - INFO - Chain [1] start processing\n",
      "12:11:32 - cmdstanpy - INFO - Chain [1] done processing\n"
     ]
    },
    {
     "data": {
      "application/vnd.jupyter.widget-view+json": {
       "model_id": "434179da9b924f21a42982fed738be45",
       "version_major": 2,
       "version_minor": 0
      },
      "text/plain": [
       "  0%|          | 0/4 [00:00<?, ?it/s]"
      ]
     },
     "metadata": {},
     "output_type": "display_data"
    },
    {
     "name": "stderr",
     "output_type": "stream",
     "text": [
      "12:11:33 - cmdstanpy - INFO - Chain [1] start processing\n",
      "12:11:33 - cmdstanpy - INFO - Chain [1] done processing\n",
      "12:11:33 - cmdstanpy - INFO - Chain [1] start processing\n",
      "12:11:33 - cmdstanpy - INFO - Chain [1] done processing\n",
      "12:11:34 - cmdstanpy - INFO - Chain [1] start processing\n",
      "12:11:34 - cmdstanpy - INFO - Chain [1] done processing\n",
      "12:11:35 - cmdstanpy - INFO - Chain [1] start processing\n",
      "12:11:35 - cmdstanpy - INFO - Chain [1] done processing\n",
      "12:11:36 - cmdstanpy - INFO - Chain [1] start processing\n",
      "12:11:36 - cmdstanpy - INFO - Chain [1] done processing\n"
     ]
    },
    {
     "data": {
      "application/vnd.jupyter.widget-view+json": {
       "model_id": "c8f895893aa844c19599951b7745488d",
       "version_major": 2,
       "version_minor": 0
      },
      "text/plain": [
       "  0%|          | 0/4 [00:00<?, ?it/s]"
      ]
     },
     "metadata": {},
     "output_type": "display_data"
    },
    {
     "name": "stderr",
     "output_type": "stream",
     "text": [
      "12:11:36 - cmdstanpy - INFO - Chain [1] start processing\n",
      "12:11:36 - cmdstanpy - INFO - Chain [1] done processing\n",
      "12:11:37 - cmdstanpy - INFO - Chain [1] start processing\n",
      "12:11:37 - cmdstanpy - INFO - Chain [1] done processing\n",
      "12:11:38 - cmdstanpy - INFO - Chain [1] start processing\n",
      "12:11:38 - cmdstanpy - INFO - Chain [1] done processing\n",
      "12:11:38 - cmdstanpy - INFO - Chain [1] start processing\n",
      "12:11:38 - cmdstanpy - INFO - Chain [1] done processing\n",
      "12:11:39 - cmdstanpy - INFO - Chain [1] start processing\n",
      "12:11:39 - cmdstanpy - INFO - Chain [1] done processing\n"
     ]
    },
    {
     "data": {
      "application/vnd.jupyter.widget-view+json": {
       "model_id": "a889b3f2a4624bf0a7930dfc389893d9",
       "version_major": 2,
       "version_minor": 0
      },
      "text/plain": [
       "  0%|          | 0/4 [00:00<?, ?it/s]"
      ]
     },
     "metadata": {},
     "output_type": "display_data"
    },
    {
     "name": "stderr",
     "output_type": "stream",
     "text": [
      "12:11:39 - cmdstanpy - INFO - Chain [1] start processing\n",
      "12:11:39 - cmdstanpy - INFO - Chain [1] done processing\n",
      "12:11:40 - cmdstanpy - INFO - Chain [1] start processing\n",
      "12:11:40 - cmdstanpy - INFO - Chain [1] done processing\n",
      "12:11:41 - cmdstanpy - INFO - Chain [1] start processing\n",
      "12:11:41 - cmdstanpy - INFO - Chain [1] done processing\n",
      "12:11:41 - cmdstanpy - INFO - Chain [1] start processing\n",
      "12:11:41 - cmdstanpy - INFO - Chain [1] done processing\n",
      "12:11:42 - cmdstanpy - INFO - Chain [1] start processing\n",
      "12:11:42 - cmdstanpy - INFO - Chain [1] done processing\n"
     ]
    },
    {
     "data": {
      "application/vnd.jupyter.widget-view+json": {
       "model_id": "8dd5be96c8da459a9359cc97e4c7c58e",
       "version_major": 2,
       "version_minor": 0
      },
      "text/plain": [
       "  0%|          | 0/4 [00:00<?, ?it/s]"
      ]
     },
     "metadata": {},
     "output_type": "display_data"
    },
    {
     "name": "stderr",
     "output_type": "stream",
     "text": [
      "12:11:42 - cmdstanpy - INFO - Chain [1] start processing\n",
      "12:11:43 - cmdstanpy - INFO - Chain [1] done processing\n",
      "12:11:43 - cmdstanpy - INFO - Chain [1] start processing\n",
      "12:11:43 - cmdstanpy - INFO - Chain [1] done processing\n",
      "12:11:45 - cmdstanpy - INFO - Chain [1] start processing\n",
      "12:11:45 - cmdstanpy - INFO - Chain [1] done processing\n",
      "12:11:46 - cmdstanpy - INFO - Chain [1] start processing\n",
      "12:11:46 - cmdstanpy - INFO - Chain [1] done processing\n",
      "12:11:48 - cmdstanpy - INFO - Chain [1] start processing\n",
      "12:11:48 - cmdstanpy - INFO - Chain [1] done processing\n"
     ]
    },
    {
     "data": {
      "application/vnd.jupyter.widget-view+json": {
       "model_id": "63a611ec50d04520b95645a656d3ff01",
       "version_major": 2,
       "version_minor": 0
      },
      "text/plain": [
       "  0%|          | 0/4 [00:00<?, ?it/s]"
      ]
     },
     "metadata": {},
     "output_type": "display_data"
    },
    {
     "name": "stderr",
     "output_type": "stream",
     "text": [
      "12:11:48 - cmdstanpy - INFO - Chain [1] start processing\n",
      "12:11:48 - cmdstanpy - INFO - Chain [1] done processing\n",
      "12:11:49 - cmdstanpy - INFO - Chain [1] start processing\n",
      "12:11:49 - cmdstanpy - INFO - Chain [1] done processing\n",
      "12:11:50 - cmdstanpy - INFO - Chain [1] start processing\n",
      "12:11:50 - cmdstanpy - INFO - Chain [1] done processing\n",
      "12:11:51 - cmdstanpy - INFO - Chain [1] start processing\n",
      "12:11:51 - cmdstanpy - INFO - Chain [1] done processing\n",
      "12:11:52 - cmdstanpy - INFO - Chain [1] start processing\n",
      "12:11:52 - cmdstanpy - INFO - Chain [1] done processing\n"
     ]
    },
    {
     "data": {
      "application/vnd.jupyter.widget-view+json": {
       "model_id": "c41d5017fa3a452284f640681ae48bcd",
       "version_major": 2,
       "version_minor": 0
      },
      "text/plain": [
       "  0%|          | 0/4 [00:00<?, ?it/s]"
      ]
     },
     "metadata": {},
     "output_type": "display_data"
    },
    {
     "name": "stderr",
     "output_type": "stream",
     "text": [
      "12:11:52 - cmdstanpy - INFO - Chain [1] start processing\n",
      "12:11:52 - cmdstanpy - INFO - Chain [1] done processing\n",
      "12:11:53 - cmdstanpy - INFO - Chain [1] start processing\n",
      "12:11:53 - cmdstanpy - INFO - Chain [1] done processing\n",
      "12:11:54 - cmdstanpy - INFO - Chain [1] start processing\n",
      "12:11:54 - cmdstanpy - INFO - Chain [1] done processing\n",
      "12:11:55 - cmdstanpy - INFO - Chain [1] start processing\n",
      "12:11:55 - cmdstanpy - INFO - Chain [1] done processing\n",
      "12:11:56 - cmdstanpy - INFO - Chain [1] start processing\n",
      "12:11:56 - cmdstanpy - INFO - Chain [1] done processing\n"
     ]
    },
    {
     "data": {
      "application/vnd.jupyter.widget-view+json": {
       "model_id": "6146d171ba614511b6e8112f1a9753de",
       "version_major": 2,
       "version_minor": 0
      },
      "text/plain": [
       "  0%|          | 0/4 [00:00<?, ?it/s]"
      ]
     },
     "metadata": {},
     "output_type": "display_data"
    },
    {
     "name": "stderr",
     "output_type": "stream",
     "text": [
      "12:11:56 - cmdstanpy - INFO - Chain [1] start processing\n",
      "12:11:56 - cmdstanpy - INFO - Chain [1] done processing\n",
      "12:11:57 - cmdstanpy - INFO - Chain [1] start processing\n",
      "12:11:57 - cmdstanpy - INFO - Chain [1] done processing\n",
      "12:11:58 - cmdstanpy - INFO - Chain [1] start processing\n",
      "12:11:58 - cmdstanpy - INFO - Chain [1] done processing\n",
      "12:11:59 - cmdstanpy - INFO - Chain [1] start processing\n",
      "12:11:59 - cmdstanpy - INFO - Chain [1] done processing\n",
      "12:11:59 - cmdstanpy - INFO - Chain [1] start processing\n",
      "12:11:59 - cmdstanpy - INFO - Chain [1] done processing\n"
     ]
    },
    {
     "data": {
      "application/vnd.jupyter.widget-view+json": {
       "model_id": "2215a82ebae5417b8c8c54a9ea6c4e59",
       "version_major": 2,
       "version_minor": 0
      },
      "text/plain": [
       "  0%|          | 0/4 [00:00<?, ?it/s]"
      ]
     },
     "metadata": {},
     "output_type": "display_data"
    },
    {
     "name": "stderr",
     "output_type": "stream",
     "text": [
      "12:11:59 - cmdstanpy - INFO - Chain [1] start processing\n",
      "12:12:00 - cmdstanpy - INFO - Chain [1] done processing\n",
      "12:12:00 - cmdstanpy - INFO - Chain [1] start processing\n",
      "12:12:00 - cmdstanpy - INFO - Chain [1] done processing\n",
      "12:12:01 - cmdstanpy - INFO - Chain [1] start processing\n",
      "12:12:01 - cmdstanpy - INFO - Chain [1] done processing\n",
      "12:12:02 - cmdstanpy - INFO - Chain [1] start processing\n",
      "12:12:02 - cmdstanpy - INFO - Chain [1] done processing\n",
      "12:12:02 - cmdstanpy - INFO - Chain [1] start processing\n",
      "12:12:02 - cmdstanpy - INFO - Chain [1] done processing\n"
     ]
    },
    {
     "data": {
      "application/vnd.jupyter.widget-view+json": {
       "model_id": "bb415c4e34454a1ab4ea8fdc75019057",
       "version_major": 2,
       "version_minor": 0
      },
      "text/plain": [
       "  0%|          | 0/4 [00:00<?, ?it/s]"
      ]
     },
     "metadata": {},
     "output_type": "display_data"
    },
    {
     "name": "stderr",
     "output_type": "stream",
     "text": [
      "12:12:02 - cmdstanpy - INFO - Chain [1] start processing\n",
      "12:12:03 - cmdstanpy - INFO - Chain [1] done processing\n",
      "12:12:03 - cmdstanpy - INFO - Chain [1] start processing\n",
      "12:12:03 - cmdstanpy - INFO - Chain [1] done processing\n",
      "12:12:04 - cmdstanpy - INFO - Chain [1] start processing\n",
      "12:12:04 - cmdstanpy - INFO - Chain [1] done processing\n",
      "12:12:04 - cmdstanpy - INFO - Chain [1] start processing\n",
      "12:12:05 - cmdstanpy - INFO - Chain [1] done processing\n",
      "12:12:05 - cmdstanpy - INFO - Chain [1] start processing\n",
      "12:12:05 - cmdstanpy - INFO - Chain [1] done processing\n"
     ]
    },
    {
     "data": {
      "application/vnd.jupyter.widget-view+json": {
       "model_id": "7b86f8540b744042826d0df6f07b4c07",
       "version_major": 2,
       "version_minor": 0
      },
      "text/plain": [
       "  0%|          | 0/4 [00:00<?, ?it/s]"
      ]
     },
     "metadata": {},
     "output_type": "display_data"
    },
    {
     "name": "stderr",
     "output_type": "stream",
     "text": [
      "12:12:05 - cmdstanpy - INFO - Chain [1] start processing\n",
      "12:12:05 - cmdstanpy - INFO - Chain [1] done processing\n",
      "12:12:06 - cmdstanpy - INFO - Chain [1] start processing\n",
      "12:12:06 - cmdstanpy - INFO - Chain [1] done processing\n",
      "12:12:07 - cmdstanpy - INFO - Chain [1] start processing\n",
      "12:12:07 - cmdstanpy - INFO - Chain [1] done processing\n",
      "12:12:08 - cmdstanpy - INFO - Chain [1] start processing\n",
      "12:12:08 - cmdstanpy - INFO - Chain [1] done processing\n",
      "12:12:09 - cmdstanpy - INFO - Chain [1] start processing\n",
      "12:12:09 - cmdstanpy - INFO - Chain [1] done processing\n"
     ]
    },
    {
     "data": {
      "application/vnd.jupyter.widget-view+json": {
       "model_id": "5911cde20b9b42ad85bb2b011f616d6e",
       "version_major": 2,
       "version_minor": 0
      },
      "text/plain": [
       "  0%|          | 0/4 [00:00<?, ?it/s]"
      ]
     },
     "metadata": {},
     "output_type": "display_data"
    },
    {
     "name": "stderr",
     "output_type": "stream",
     "text": [
      "12:12:09 - cmdstanpy - INFO - Chain [1] start processing\n",
      "12:12:09 - cmdstanpy - INFO - Chain [1] done processing\n",
      "12:12:09 - cmdstanpy - INFO - Chain [1] start processing\n",
      "12:12:09 - cmdstanpy - INFO - Chain [1] done processing\n",
      "12:12:10 - cmdstanpy - INFO - Chain [1] start processing\n",
      "12:12:10 - cmdstanpy - INFO - Chain [1] done processing\n",
      "12:12:11 - cmdstanpy - INFO - Chain [1] start processing\n",
      "12:12:11 - cmdstanpy - INFO - Chain [1] done processing\n",
      "12:12:11 - cmdstanpy - INFO - Chain [1] start processing\n",
      "12:12:11 - cmdstanpy - INFO - Chain [1] done processing\n"
     ]
    },
    {
     "data": {
      "application/vnd.jupyter.widget-view+json": {
       "model_id": "1f6fb98520ed4f228ae3481fdf382ce6",
       "version_major": 2,
       "version_minor": 0
      },
      "text/plain": [
       "  0%|          | 0/4 [00:00<?, ?it/s]"
      ]
     },
     "metadata": {},
     "output_type": "display_data"
    },
    {
     "name": "stderr",
     "output_type": "stream",
     "text": [
      "12:12:12 - cmdstanpy - INFO - Chain [1] start processing\n",
      "12:12:12 - cmdstanpy - INFO - Chain [1] done processing\n",
      "12:12:12 - cmdstanpy - INFO - Chain [1] start processing\n",
      "12:12:12 - cmdstanpy - INFO - Chain [1] done processing\n",
      "12:12:13 - cmdstanpy - INFO - Chain [1] start processing\n",
      "12:12:13 - cmdstanpy - INFO - Chain [1] done processing\n",
      "12:12:14 - cmdstanpy - INFO - Chain [1] start processing\n",
      "12:12:14 - cmdstanpy - INFO - Chain [1] done processing\n",
      "12:12:14 - cmdstanpy - INFO - Chain [1] start processing\n",
      "12:12:15 - cmdstanpy - INFO - Chain [1] done processing\n"
     ]
    },
    {
     "data": {
      "application/vnd.jupyter.widget-view+json": {
       "model_id": "853f88e3b3d64ff18d97e62407a80689",
       "version_major": 2,
       "version_minor": 0
      },
      "text/plain": [
       "  0%|          | 0/4 [00:00<?, ?it/s]"
      ]
     },
     "metadata": {},
     "output_type": "display_data"
    },
    {
     "name": "stderr",
     "output_type": "stream",
     "text": [
      "12:12:15 - cmdstanpy - INFO - Chain [1] start processing\n",
      "12:12:15 - cmdstanpy - INFO - Chain [1] done processing\n",
      "12:12:15 - cmdstanpy - INFO - Chain [1] start processing\n",
      "12:12:15 - cmdstanpy - INFO - Chain [1] done processing\n",
      "12:12:16 - cmdstanpy - INFO - Chain [1] start processing\n",
      "12:12:16 - cmdstanpy - INFO - Chain [1] done processing\n",
      "12:12:17 - cmdstanpy - INFO - Chain [1] start processing\n",
      "12:12:17 - cmdstanpy - INFO - Chain [1] done processing\n",
      "12:12:17 - cmdstanpy - INFO - Chain [1] start processing\n",
      "12:12:17 - cmdstanpy - INFO - Chain [1] done processing\n"
     ]
    },
    {
     "data": {
      "application/vnd.jupyter.widget-view+json": {
       "model_id": "0d058b29fdf64e0aa14a1b71d53d9085",
       "version_major": 2,
       "version_minor": 0
      },
      "text/plain": [
       "  0%|          | 0/4 [00:00<?, ?it/s]"
      ]
     },
     "metadata": {},
     "output_type": "display_data"
    },
    {
     "name": "stderr",
     "output_type": "stream",
     "text": [
      "12:12:18 - cmdstanpy - INFO - Chain [1] start processing\n",
      "12:12:18 - cmdstanpy - INFO - Chain [1] done processing\n",
      "12:12:18 - cmdstanpy - INFO - Chain [1] start processing\n",
      "12:12:18 - cmdstanpy - INFO - Chain [1] done processing\n",
      "12:12:19 - cmdstanpy - INFO - Chain [1] start processing\n",
      "12:12:19 - cmdstanpy - INFO - Chain [1] done processing\n",
      "12:12:20 - cmdstanpy - INFO - Chain [1] start processing\n",
      "12:12:20 - cmdstanpy - INFO - Chain [1] done processing\n",
      "12:12:20 - cmdstanpy - INFO - Chain [1] start processing\n",
      "12:12:20 - cmdstanpy - INFO - Chain [1] done processing\n"
     ]
    },
    {
     "data": {
      "application/vnd.jupyter.widget-view+json": {
       "model_id": "b0d858eed60647e08e289f51d58cfe78",
       "version_major": 2,
       "version_minor": 0
      },
      "text/plain": [
       "  0%|          | 0/4 [00:00<?, ?it/s]"
      ]
     },
     "metadata": {},
     "output_type": "display_data"
    },
    {
     "name": "stderr",
     "output_type": "stream",
     "text": [
      "12:12:20 - cmdstanpy - INFO - Chain [1] start processing\n",
      "12:12:21 - cmdstanpy - INFO - Chain [1] done processing\n",
      "12:12:21 - cmdstanpy - INFO - Chain [1] start processing\n",
      "12:12:21 - cmdstanpy - INFO - Chain [1] done processing\n",
      "12:12:22 - cmdstanpy - INFO - Chain [1] start processing\n",
      "12:12:22 - cmdstanpy - INFO - Chain [1] done processing\n",
      "12:12:23 - cmdstanpy - INFO - Chain [1] start processing\n",
      "12:12:23 - cmdstanpy - INFO - Chain [1] done processing\n",
      "12:12:23 - cmdstanpy - INFO - Chain [1] start processing\n",
      "12:12:23 - cmdstanpy - INFO - Chain [1] done processing\n"
     ]
    },
    {
     "data": {
      "application/vnd.jupyter.widget-view+json": {
       "model_id": "a2031947d3024223837a383ddc89af1a",
       "version_major": 2,
       "version_minor": 0
      },
      "text/plain": [
       "  0%|          | 0/4 [00:00<?, ?it/s]"
      ]
     },
     "metadata": {},
     "output_type": "display_data"
    },
    {
     "name": "stderr",
     "output_type": "stream",
     "text": [
      "12:12:23 - cmdstanpy - INFO - Chain [1] start processing\n",
      "12:12:24 - cmdstanpy - INFO - Chain [1] done processing\n",
      "12:12:24 - cmdstanpy - INFO - Chain [1] start processing\n",
      "12:12:24 - cmdstanpy - INFO - Chain [1] done processing\n",
      "12:12:25 - cmdstanpy - INFO - Chain [1] start processing\n",
      "12:12:25 - cmdstanpy - INFO - Chain [1] done processing\n",
      "12:12:26 - cmdstanpy - INFO - Chain [1] start processing\n",
      "12:12:26 - cmdstanpy - INFO - Chain [1] done processing\n",
      "12:12:26 - cmdstanpy - INFO - Chain [1] start processing\n",
      "12:12:26 - cmdstanpy - INFO - Chain [1] done processing\n"
     ]
    },
    {
     "data": {
      "application/vnd.jupyter.widget-view+json": {
       "model_id": "580e82412f3f464d923d079542f4777b",
       "version_major": 2,
       "version_minor": 0
      },
      "text/plain": [
       "  0%|          | 0/4 [00:00<?, ?it/s]"
      ]
     },
     "metadata": {},
     "output_type": "display_data"
    },
    {
     "name": "stderr",
     "output_type": "stream",
     "text": [
      "12:12:26 - cmdstanpy - INFO - Chain [1] start processing\n",
      "12:12:26 - cmdstanpy - INFO - Chain [1] done processing\n",
      "12:12:27 - cmdstanpy - INFO - Chain [1] start processing\n",
      "12:12:27 - cmdstanpy - INFO - Chain [1] done processing\n",
      "12:12:28 - cmdstanpy - INFO - Chain [1] start processing\n",
      "12:12:28 - cmdstanpy - INFO - Chain [1] done processing\n",
      "12:12:28 - cmdstanpy - INFO - Chain [1] start processing\n",
      "12:12:28 - cmdstanpy - INFO - Chain [1] done processing\n",
      "12:12:29 - cmdstanpy - INFO - Chain [1] start processing\n",
      "12:12:29 - cmdstanpy - INFO - Chain [1] done processing\n"
     ]
    },
    {
     "data": {
      "application/vnd.jupyter.widget-view+json": {
       "model_id": "3c37a8283f6d4d18b3440e21f33e2116",
       "version_major": 2,
       "version_minor": 0
      },
      "text/plain": [
       "  0%|          | 0/4 [00:00<?, ?it/s]"
      ]
     },
     "metadata": {},
     "output_type": "display_data"
    },
    {
     "name": "stderr",
     "output_type": "stream",
     "text": [
      "12:12:29 - cmdstanpy - INFO - Chain [1] start processing\n",
      "12:12:29 - cmdstanpy - INFO - Chain [1] done processing\n",
      "12:12:30 - cmdstanpy - INFO - Chain [1] start processing\n",
      "12:12:30 - cmdstanpy - INFO - Chain [1] done processing\n",
      "12:12:31 - cmdstanpy - INFO - Chain [1] start processing\n",
      "12:12:31 - cmdstanpy - INFO - Chain [1] done processing\n",
      "12:12:31 - cmdstanpy - INFO - Chain [1] start processing\n",
      "12:12:31 - cmdstanpy - INFO - Chain [1] done processing\n",
      "12:12:32 - cmdstanpy - INFO - Chain [1] start processing\n",
      "12:12:32 - cmdstanpy - INFO - Chain [1] done processing\n"
     ]
    },
    {
     "data": {
      "application/vnd.jupyter.widget-view+json": {
       "model_id": "47c66bf141f14610b2d334e6557eeab2",
       "version_major": 2,
       "version_minor": 0
      },
      "text/plain": [
       "  0%|          | 0/4 [00:00<?, ?it/s]"
      ]
     },
     "metadata": {},
     "output_type": "display_data"
    },
    {
     "name": "stderr",
     "output_type": "stream",
     "text": [
      "12:12:32 - cmdstanpy - INFO - Chain [1] start processing\n",
      "12:12:32 - cmdstanpy - INFO - Chain [1] done processing\n",
      "12:12:33 - cmdstanpy - INFO - Chain [1] start processing\n",
      "12:12:33 - cmdstanpy - INFO - Chain [1] done processing\n",
      "12:12:34 - cmdstanpy - INFO - Chain [1] start processing\n",
      "12:12:34 - cmdstanpy - INFO - Chain [1] done processing\n",
      "12:12:34 - cmdstanpy - INFO - Chain [1] start processing\n",
      "12:12:34 - cmdstanpy - INFO - Chain [1] done processing\n",
      "12:12:35 - cmdstanpy - INFO - Chain [1] start processing\n",
      "12:12:35 - cmdstanpy - INFO - Chain [1] done processing\n"
     ]
    },
    {
     "data": {
      "application/vnd.jupyter.widget-view+json": {
       "model_id": "1d7cf9110fd34d1b987eccee87c30194",
       "version_major": 2,
       "version_minor": 0
      },
      "text/plain": [
       "  0%|          | 0/4 [00:00<?, ?it/s]"
      ]
     },
     "metadata": {},
     "output_type": "display_data"
    },
    {
     "name": "stderr",
     "output_type": "stream",
     "text": [
      "12:12:35 - cmdstanpy - INFO - Chain [1] start processing\n",
      "12:12:35 - cmdstanpy - INFO - Chain [1] done processing\n",
      "12:12:36 - cmdstanpy - INFO - Chain [1] start processing\n",
      "12:12:36 - cmdstanpy - INFO - Chain [1] done processing\n",
      "12:12:37 - cmdstanpy - INFO - Chain [1] start processing\n",
      "12:12:37 - cmdstanpy - INFO - Chain [1] done processing\n",
      "12:12:37 - cmdstanpy - INFO - Chain [1] start processing\n",
      "12:12:37 - cmdstanpy - INFO - Chain [1] done processing\n",
      "12:12:38 - cmdstanpy - INFO - Chain [1] start processing\n",
      "12:12:38 - cmdstanpy - INFO - Chain [1] done processing\n"
     ]
    },
    {
     "data": {
      "application/vnd.jupyter.widget-view+json": {
       "model_id": "1f2805a3d35144d5bcf1ce489c2635ea",
       "version_major": 2,
       "version_minor": 0
      },
      "text/plain": [
       "  0%|          | 0/4 [00:00<?, ?it/s]"
      ]
     },
     "metadata": {},
     "output_type": "display_data"
    },
    {
     "name": "stderr",
     "output_type": "stream",
     "text": [
      "12:12:38 - cmdstanpy - INFO - Chain [1] start processing\n",
      "12:12:38 - cmdstanpy - INFO - Chain [1] done processing\n",
      "12:12:39 - cmdstanpy - INFO - Chain [1] start processing\n",
      "12:12:39 - cmdstanpy - INFO - Chain [1] done processing\n",
      "12:12:40 - cmdstanpy - INFO - Chain [1] start processing\n",
      "12:12:40 - cmdstanpy - INFO - Chain [1] done processing\n",
      "12:12:41 - cmdstanpy - INFO - Chain [1] start processing\n",
      "12:12:41 - cmdstanpy - INFO - Chain [1] done processing\n",
      "12:12:42 - cmdstanpy - INFO - Chain [1] start processing\n",
      "12:12:42 - cmdstanpy - INFO - Chain [1] done processing\n"
     ]
    },
    {
     "data": {
      "application/vnd.jupyter.widget-view+json": {
       "model_id": "0afcabe660d344fd888c0b44c9935394",
       "version_major": 2,
       "version_minor": 0
      },
      "text/plain": [
       "  0%|          | 0/4 [00:00<?, ?it/s]"
      ]
     },
     "metadata": {},
     "output_type": "display_data"
    },
    {
     "name": "stderr",
     "output_type": "stream",
     "text": [
      "12:12:42 - cmdstanpy - INFO - Chain [1] start processing\n",
      "12:12:42 - cmdstanpy - INFO - Chain [1] done processing\n",
      "12:12:43 - cmdstanpy - INFO - Chain [1] start processing\n",
      "12:12:43 - cmdstanpy - INFO - Chain [1] done processing\n",
      "12:12:44 - cmdstanpy - INFO - Chain [1] start processing\n",
      "12:12:44 - cmdstanpy - INFO - Chain [1] done processing\n",
      "12:12:44 - cmdstanpy - INFO - Chain [1] start processing\n",
      "12:12:44 - cmdstanpy - INFO - Chain [1] done processing\n",
      "12:12:45 - cmdstanpy - INFO - Chain [1] start processing\n",
      "12:12:45 - cmdstanpy - INFO - Chain [1] done processing\n"
     ]
    },
    {
     "data": {
      "application/vnd.jupyter.widget-view+json": {
       "model_id": "0b4413d3dfdb4873875d0485754958af",
       "version_major": 2,
       "version_minor": 0
      },
      "text/plain": [
       "  0%|          | 0/4 [00:00<?, ?it/s]"
      ]
     },
     "metadata": {},
     "output_type": "display_data"
    },
    {
     "name": "stderr",
     "output_type": "stream",
     "text": [
      "12:12:45 - cmdstanpy - INFO - Chain [1] start processing\n",
      "12:12:45 - cmdstanpy - INFO - Chain [1] done processing\n",
      "12:12:46 - cmdstanpy - INFO - Chain [1] start processing\n",
      "12:12:46 - cmdstanpy - INFO - Chain [1] done processing\n",
      "12:12:47 - cmdstanpy - INFO - Chain [1] start processing\n",
      "12:12:47 - cmdstanpy - INFO - Chain [1] done processing\n",
      "12:12:47 - cmdstanpy - INFO - Chain [1] start processing\n",
      "12:12:47 - cmdstanpy - INFO - Chain [1] done processing\n",
      "12:12:48 - cmdstanpy - INFO - Chain [1] start processing\n",
      "12:12:48 - cmdstanpy - INFO - Chain [1] done processing\n"
     ]
    },
    {
     "data": {
      "application/vnd.jupyter.widget-view+json": {
       "model_id": "d85c1fe35bcc4743833bb0b3eeb18260",
       "version_major": 2,
       "version_minor": 0
      },
      "text/plain": [
       "  0%|          | 0/4 [00:00<?, ?it/s]"
      ]
     },
     "metadata": {},
     "output_type": "display_data"
    },
    {
     "name": "stderr",
     "output_type": "stream",
     "text": [
      "12:12:48 - cmdstanpy - INFO - Chain [1] start processing\n",
      "12:12:48 - cmdstanpy - INFO - Chain [1] done processing\n",
      "12:12:49 - cmdstanpy - INFO - Chain [1] start processing\n",
      "12:12:49 - cmdstanpy - INFO - Chain [1] done processing\n",
      "12:12:50 - cmdstanpy - INFO - Chain [1] start processing\n",
      "12:12:50 - cmdstanpy - INFO - Chain [1] done processing\n",
      "12:12:50 - cmdstanpy - INFO - Chain [1] start processing\n",
      "12:12:50 - cmdstanpy - INFO - Chain [1] done processing\n",
      "12:12:51 - cmdstanpy - INFO - Chain [1] start processing\n",
      "12:12:51 - cmdstanpy - INFO - Chain [1] done processing\n"
     ]
    },
    {
     "data": {
      "application/vnd.jupyter.widget-view+json": {
       "model_id": "02a2d99c88884de6a679009bb788a084",
       "version_major": 2,
       "version_minor": 0
      },
      "text/plain": [
       "  0%|          | 0/4 [00:00<?, ?it/s]"
      ]
     },
     "metadata": {},
     "output_type": "display_data"
    },
    {
     "name": "stderr",
     "output_type": "stream",
     "text": [
      "12:12:51 - cmdstanpy - INFO - Chain [1] start processing\n",
      "12:12:51 - cmdstanpy - INFO - Chain [1] done processing\n",
      "12:12:52 - cmdstanpy - INFO - Chain [1] start processing\n",
      "12:12:52 - cmdstanpy - INFO - Chain [1] done processing\n",
      "12:12:53 - cmdstanpy - INFO - Chain [1] start processing\n",
      "12:12:53 - cmdstanpy - INFO - Chain [1] done processing\n",
      "12:12:53 - cmdstanpy - INFO - Chain [1] start processing\n",
      "12:12:54 - cmdstanpy - INFO - Chain [1] done processing\n",
      "12:12:54 - cmdstanpy - INFO - Chain [1] start processing\n",
      "12:12:54 - cmdstanpy - INFO - Chain [1] done processing\n"
     ]
    },
    {
     "data": {
      "application/vnd.jupyter.widget-view+json": {
       "model_id": "c7181dd9a1a14f7599a46a8bd9693eaf",
       "version_major": 2,
       "version_minor": 0
      },
      "text/plain": [
       "  0%|          | 0/4 [00:00<?, ?it/s]"
      ]
     },
     "metadata": {},
     "output_type": "display_data"
    },
    {
     "name": "stderr",
     "output_type": "stream",
     "text": [
      "12:12:54 - cmdstanpy - INFO - Chain [1] start processing\n",
      "12:12:54 - cmdstanpy - INFO - Chain [1] done processing\n",
      "12:12:55 - cmdstanpy - INFO - Chain [1] start processing\n",
      "12:12:55 - cmdstanpy - INFO - Chain [1] done processing\n",
      "12:12:56 - cmdstanpy - INFO - Chain [1] start processing\n",
      "12:12:56 - cmdstanpy - INFO - Chain [1] done processing\n",
      "12:12:57 - cmdstanpy - INFO - Chain [1] start processing\n",
      "12:12:57 - cmdstanpy - INFO - Chain [1] done processing\n",
      "12:12:57 - cmdstanpy - INFO - Chain [1] start processing\n",
      "12:12:57 - cmdstanpy - INFO - Chain [1] done processing\n"
     ]
    },
    {
     "data": {
      "application/vnd.jupyter.widget-view+json": {
       "model_id": "433dc9d045604ba2b392d8e9ddae8b04",
       "version_major": 2,
       "version_minor": 0
      },
      "text/plain": [
       "  0%|          | 0/4 [00:00<?, ?it/s]"
      ]
     },
     "metadata": {},
     "output_type": "display_data"
    },
    {
     "name": "stderr",
     "output_type": "stream",
     "text": [
      "12:12:57 - cmdstanpy - INFO - Chain [1] start processing\n",
      "12:12:58 - cmdstanpy - INFO - Chain [1] done processing\n",
      "12:12:58 - cmdstanpy - INFO - Chain [1] start processing\n",
      "12:12:58 - cmdstanpy - INFO - Chain [1] done processing\n",
      "12:12:59 - cmdstanpy - INFO - Chain [1] start processing\n",
      "12:12:59 - cmdstanpy - INFO - Chain [1] done processing\n",
      "12:13:00 - cmdstanpy - INFO - Chain [1] start processing\n",
      "12:13:00 - cmdstanpy - INFO - Chain [1] done processing\n",
      "12:13:00 - cmdstanpy - INFO - Chain [1] start processing\n",
      "12:13:00 - cmdstanpy - INFO - Chain [1] done processing\n"
     ]
    },
    {
     "data": {
      "application/vnd.jupyter.widget-view+json": {
       "model_id": "47d078ec745d433c81b7a8bfcff3e69a",
       "version_major": 2,
       "version_minor": 0
      },
      "text/plain": [
       "  0%|          | 0/4 [00:00<?, ?it/s]"
      ]
     },
     "metadata": {},
     "output_type": "display_data"
    },
    {
     "name": "stderr",
     "output_type": "stream",
     "text": [
      "12:13:00 - cmdstanpy - INFO - Chain [1] start processing\n",
      "12:13:01 - cmdstanpy - INFO - Chain [1] done processing\n",
      "12:13:01 - cmdstanpy - INFO - Chain [1] start processing\n",
      "12:13:01 - cmdstanpy - INFO - Chain [1] done processing\n",
      "12:13:02 - cmdstanpy - INFO - Chain [1] start processing\n",
      "12:13:02 - cmdstanpy - INFO - Chain [1] done processing\n",
      "12:13:03 - cmdstanpy - INFO - Chain [1] start processing\n",
      "12:13:03 - cmdstanpy - INFO - Chain [1] done processing\n",
      "12:13:05 - cmdstanpy - INFO - Chain [1] start processing\n",
      "12:13:05 - cmdstanpy - INFO - Chain [1] done processing\n"
     ]
    },
    {
     "data": {
      "application/vnd.jupyter.widget-view+json": {
       "model_id": "8a2d360e8a5446159fdb94846889c092",
       "version_major": 2,
       "version_minor": 0
      },
      "text/plain": [
       "  0%|          | 0/4 [00:00<?, ?it/s]"
      ]
     },
     "metadata": {},
     "output_type": "display_data"
    },
    {
     "name": "stderr",
     "output_type": "stream",
     "text": [
      "12:13:05 - cmdstanpy - INFO - Chain [1] start processing\n",
      "12:13:06 - cmdstanpy - INFO - Chain [1] done processing\n",
      "12:13:06 - cmdstanpy - INFO - Chain [1] start processing\n",
      "12:13:06 - cmdstanpy - INFO - Chain [1] done processing\n",
      "12:13:07 - cmdstanpy - INFO - Chain [1] start processing\n",
      "12:13:07 - cmdstanpy - INFO - Chain [1] done processing\n",
      "12:13:09 - cmdstanpy - INFO - Chain [1] start processing\n",
      "12:13:09 - cmdstanpy - INFO - Chain [1] done processing\n",
      "12:13:09 - cmdstanpy - INFO - Chain [1] start processing\n",
      "12:13:09 - cmdstanpy - INFO - Chain [1] done processing\n"
     ]
    },
    {
     "data": {
      "application/vnd.jupyter.widget-view+json": {
       "model_id": "12fb238916104cdb8e5191e30217e787",
       "version_major": 2,
       "version_minor": 0
      },
      "text/plain": [
       "  0%|          | 0/4 [00:00<?, ?it/s]"
      ]
     },
     "metadata": {},
     "output_type": "display_data"
    },
    {
     "name": "stderr",
     "output_type": "stream",
     "text": [
      "12:13:09 - cmdstanpy - INFO - Chain [1] start processing\n",
      "12:13:10 - cmdstanpy - INFO - Chain [1] done processing\n",
      "12:13:10 - cmdstanpy - INFO - Chain [1] start processing\n",
      "12:13:10 - cmdstanpy - INFO - Chain [1] done processing\n",
      "12:13:12 - cmdstanpy - INFO - Chain [1] start processing\n",
      "12:13:12 - cmdstanpy - INFO - Chain [1] done processing\n",
      "12:13:12 - cmdstanpy - INFO - Chain [1] start processing\n",
      "12:13:12 - cmdstanpy - INFO - Chain [1] done processing\n",
      "12:13:13 - cmdstanpy - INFO - Chain [1] start processing\n",
      "12:13:14 - cmdstanpy - INFO - Chain [1] done processing\n"
     ]
    },
    {
     "data": {
      "application/vnd.jupyter.widget-view+json": {
       "model_id": "1147e1c3c6b14fdf89ffdbe835febf55",
       "version_major": 2,
       "version_minor": 0
      },
      "text/plain": [
       "  0%|          | 0/4 [00:00<?, ?it/s]"
      ]
     },
     "metadata": {},
     "output_type": "display_data"
    },
    {
     "name": "stderr",
     "output_type": "stream",
     "text": [
      "12:13:14 - cmdstanpy - INFO - Chain [1] start processing\n",
      "12:13:14 - cmdstanpy - INFO - Chain [1] done processing\n",
      "12:13:15 - cmdstanpy - INFO - Chain [1] start processing\n",
      "12:13:15 - cmdstanpy - INFO - Chain [1] done processing\n",
      "12:13:17 - cmdstanpy - INFO - Chain [1] start processing\n",
      "12:13:17 - cmdstanpy - INFO - Chain [1] done processing\n",
      "12:13:17 - cmdstanpy - INFO - Chain [1] start processing\n",
      "12:13:17 - cmdstanpy - INFO - Chain [1] done processing\n",
      "12:13:18 - cmdstanpy - INFO - Chain [1] start processing\n",
      "12:13:18 - cmdstanpy - INFO - Chain [1] done processing\n"
     ]
    },
    {
     "data": {
      "application/vnd.jupyter.widget-view+json": {
       "model_id": "ab2e0d2cc0b84318a1ba3177bac7febe",
       "version_major": 2,
       "version_minor": 0
      },
      "text/plain": [
       "  0%|          | 0/4 [00:00<?, ?it/s]"
      ]
     },
     "metadata": {},
     "output_type": "display_data"
    },
    {
     "name": "stderr",
     "output_type": "stream",
     "text": [
      "12:13:18 - cmdstanpy - INFO - Chain [1] start processing\n",
      "12:13:19 - cmdstanpy - INFO - Chain [1] done processing\n",
      "12:13:19 - cmdstanpy - INFO - Chain [1] start processing\n",
      "12:13:20 - cmdstanpy - INFO - Chain [1] done processing\n",
      "12:13:20 - cmdstanpy - INFO - Chain [1] start processing\n",
      "12:13:20 - cmdstanpy - INFO - Chain [1] done processing\n",
      "12:13:21 - cmdstanpy - INFO - Chain [1] start processing\n",
      "12:13:21 - cmdstanpy - INFO - Chain [1] done processing\n",
      "12:13:22 - cmdstanpy - INFO - Chain [1] start processing\n",
      "12:13:22 - cmdstanpy - INFO - Chain [1] done processing\n"
     ]
    },
    {
     "data": {
      "application/vnd.jupyter.widget-view+json": {
       "model_id": "370d00eabbbf4031926163c79ff7779a",
       "version_major": 2,
       "version_minor": 0
      },
      "text/plain": [
       "  0%|          | 0/4 [00:00<?, ?it/s]"
      ]
     },
     "metadata": {},
     "output_type": "display_data"
    },
    {
     "name": "stderr",
     "output_type": "stream",
     "text": [
      "12:13:22 - cmdstanpy - INFO - Chain [1] start processing\n",
      "12:13:22 - cmdstanpy - INFO - Chain [1] done processing\n",
      "12:13:23 - cmdstanpy - INFO - Chain [1] start processing\n",
      "12:13:23 - cmdstanpy - INFO - Chain [1] done processing\n",
      "12:13:24 - cmdstanpy - INFO - Chain [1] start processing\n",
      "12:13:24 - cmdstanpy - INFO - Chain [1] done processing\n",
      "12:13:24 - cmdstanpy - INFO - Chain [1] start processing\n",
      "12:13:24 - cmdstanpy - INFO - Chain [1] done processing\n",
      "12:13:25 - cmdstanpy - INFO - Chain [1] start processing\n",
      "12:13:25 - cmdstanpy - INFO - Chain [1] done processing\n"
     ]
    },
    {
     "data": {
      "application/vnd.jupyter.widget-view+json": {
       "model_id": "aced2ab603d84435b6f506ba7fa171da",
       "version_major": 2,
       "version_minor": 0
      },
      "text/plain": [
       "  0%|          | 0/4 [00:00<?, ?it/s]"
      ]
     },
     "metadata": {},
     "output_type": "display_data"
    },
    {
     "name": "stderr",
     "output_type": "stream",
     "text": [
      "12:13:25 - cmdstanpy - INFO - Chain [1] start processing\n",
      "12:13:25 - cmdstanpy - INFO - Chain [1] done processing\n",
      "12:13:26 - cmdstanpy - INFO - Chain [1] start processing\n",
      "12:13:26 - cmdstanpy - INFO - Chain [1] done processing\n",
      "12:13:27 - cmdstanpy - INFO - Chain [1] start processing\n",
      "12:13:27 - cmdstanpy - INFO - Chain [1] done processing\n",
      "12:13:27 - cmdstanpy - INFO - Chain [1] start processing\n",
      "12:13:28 - cmdstanpy - INFO - Chain [1] done processing\n",
      "12:13:28 - cmdstanpy - INFO - Chain [1] start processing\n",
      "12:13:28 - cmdstanpy - INFO - Chain [1] done processing\n"
     ]
    },
    {
     "data": {
      "application/vnd.jupyter.widget-view+json": {
       "model_id": "fcd11bc1f48a49d3bd90831b2c0e485a",
       "version_major": 2,
       "version_minor": 0
      },
      "text/plain": [
       "  0%|          | 0/4 [00:00<?, ?it/s]"
      ]
     },
     "metadata": {},
     "output_type": "display_data"
    },
    {
     "name": "stderr",
     "output_type": "stream",
     "text": [
      "12:13:28 - cmdstanpy - INFO - Chain [1] start processing\n",
      "12:13:29 - cmdstanpy - INFO - Chain [1] done processing\n",
      "12:13:29 - cmdstanpy - INFO - Chain [1] start processing\n",
      "12:13:29 - cmdstanpy - INFO - Chain [1] done processing\n",
      "12:13:30 - cmdstanpy - INFO - Chain [1] start processing\n",
      "12:13:30 - cmdstanpy - INFO - Chain [1] done processing\n",
      "12:13:31 - cmdstanpy - INFO - Chain [1] start processing\n",
      "12:13:31 - cmdstanpy - INFO - Chain [1] done processing\n",
      "12:13:31 - cmdstanpy - INFO - Chain [1] start processing\n",
      "12:13:31 - cmdstanpy - INFO - Chain [1] done processing\n"
     ]
    },
    {
     "data": {
      "application/vnd.jupyter.widget-view+json": {
       "model_id": "0051a5163512495d86b65c599e05865a",
       "version_major": 2,
       "version_minor": 0
      },
      "text/plain": [
       "  0%|          | 0/4 [00:00<?, ?it/s]"
      ]
     },
     "metadata": {},
     "output_type": "display_data"
    },
    {
     "name": "stderr",
     "output_type": "stream",
     "text": [
      "12:13:31 - cmdstanpy - INFO - Chain [1] start processing\n",
      "12:13:32 - cmdstanpy - INFO - Chain [1] done processing\n",
      "12:13:32 - cmdstanpy - INFO - Chain [1] start processing\n",
      "12:13:32 - cmdstanpy - INFO - Chain [1] done processing\n",
      "12:13:33 - cmdstanpy - INFO - Chain [1] start processing\n",
      "12:13:33 - cmdstanpy - INFO - Chain [1] done processing\n",
      "12:13:34 - cmdstanpy - INFO - Chain [1] start processing\n",
      "12:13:34 - cmdstanpy - INFO - Chain [1] done processing\n",
      "12:13:34 - cmdstanpy - INFO - Chain [1] start processing\n",
      "12:13:34 - cmdstanpy - INFO - Chain [1] done processing\n"
     ]
    },
    {
     "data": {
      "application/vnd.jupyter.widget-view+json": {
       "model_id": "6184298c22274144bd705e64a5cb93f8",
       "version_major": 2,
       "version_minor": 0
      },
      "text/plain": [
       "  0%|          | 0/4 [00:00<?, ?it/s]"
      ]
     },
     "metadata": {},
     "output_type": "display_data"
    },
    {
     "name": "stderr",
     "output_type": "stream",
     "text": [
      "12:13:34 - cmdstanpy - INFO - Chain [1] start processing\n",
      "12:13:35 - cmdstanpy - INFO - Chain [1] done processing\n",
      "12:13:35 - cmdstanpy - INFO - Chain [1] start processing\n",
      "12:13:35 - cmdstanpy - INFO - Chain [1] done processing\n",
      "12:13:36 - cmdstanpy - INFO - Chain [1] start processing\n",
      "12:13:36 - cmdstanpy - INFO - Chain [1] done processing\n",
      "12:13:37 - cmdstanpy - INFO - Chain [1] start processing\n",
      "12:13:37 - cmdstanpy - INFO - Chain [1] done processing\n",
      "12:13:37 - cmdstanpy - INFO - Chain [1] start processing\n",
      "12:13:37 - cmdstanpy - INFO - Chain [1] done processing\n"
     ]
    },
    {
     "data": {
      "application/vnd.jupyter.widget-view+json": {
       "model_id": "9b7d374460594bc7881ce946ef5264af",
       "version_major": 2,
       "version_minor": 0
      },
      "text/plain": [
       "  0%|          | 0/4 [00:00<?, ?it/s]"
      ]
     },
     "metadata": {},
     "output_type": "display_data"
    },
    {
     "name": "stderr",
     "output_type": "stream",
     "text": [
      "12:13:37 - cmdstanpy - INFO - Chain [1] start processing\n",
      "12:13:38 - cmdstanpy - INFO - Chain [1] done processing\n",
      "12:13:38 - cmdstanpy - INFO - Chain [1] start processing\n",
      "12:13:38 - cmdstanpy - INFO - Chain [1] done processing\n",
      "12:13:39 - cmdstanpy - INFO - Chain [1] start processing\n",
      "12:13:39 - cmdstanpy - INFO - Chain [1] done processing\n",
      "12:13:40 - cmdstanpy - INFO - Chain [1] start processing\n",
      "12:13:40 - cmdstanpy - INFO - Chain [1] done processing\n",
      "12:13:40 - cmdstanpy - INFO - Chain [1] start processing\n",
      "12:13:40 - cmdstanpy - INFO - Chain [1] done processing\n"
     ]
    },
    {
     "data": {
      "application/vnd.jupyter.widget-view+json": {
       "model_id": "900557392d04416fafc30ed2ed31b656",
       "version_major": 2,
       "version_minor": 0
      },
      "text/plain": [
       "  0%|          | 0/4 [00:00<?, ?it/s]"
      ]
     },
     "metadata": {},
     "output_type": "display_data"
    },
    {
     "name": "stderr",
     "output_type": "stream",
     "text": [
      "12:13:40 - cmdstanpy - INFO - Chain [1] start processing\n",
      "12:13:41 - cmdstanpy - INFO - Chain [1] done processing\n",
      "12:13:42 - cmdstanpy - INFO - Chain [1] start processing\n",
      "12:13:42 - cmdstanpy - INFO - Chain [1] done processing\n",
      "12:13:42 - cmdstanpy - INFO - Chain [1] start processing\n",
      "12:13:42 - cmdstanpy - INFO - Chain [1] done processing\n",
      "12:13:43 - cmdstanpy - INFO - Chain [1] start processing\n",
      "12:13:43 - cmdstanpy - INFO - Chain [1] done processing\n",
      "12:13:44 - cmdstanpy - INFO - Chain [1] start processing\n",
      "12:13:44 - cmdstanpy - INFO - Chain [1] done processing\n"
     ]
    },
    {
     "data": {
      "application/vnd.jupyter.widget-view+json": {
       "model_id": "1b446ec446f442a69a5c57aa925d0413",
       "version_major": 2,
       "version_minor": 0
      },
      "text/plain": [
       "  0%|          | 0/4 [00:00<?, ?it/s]"
      ]
     },
     "metadata": {},
     "output_type": "display_data"
    },
    {
     "name": "stderr",
     "output_type": "stream",
     "text": [
      "12:13:44 - cmdstanpy - INFO - Chain [1] start processing\n",
      "12:13:44 - cmdstanpy - INFO - Chain [1] done processing\n",
      "12:13:45 - cmdstanpy - INFO - Chain [1] start processing\n",
      "12:13:45 - cmdstanpy - INFO - Chain [1] done processing\n",
      "12:13:45 - cmdstanpy - INFO - Chain [1] start processing\n",
      "12:13:45 - cmdstanpy - INFO - Chain [1] done processing\n",
      "12:13:46 - cmdstanpy - INFO - Chain [1] start processing\n",
      "12:13:46 - cmdstanpy - INFO - Chain [1] done processing\n",
      "12:13:47 - cmdstanpy - INFO - Chain [1] start processing\n",
      "12:13:47 - cmdstanpy - INFO - Chain [1] done processing\n"
     ]
    },
    {
     "data": {
      "application/vnd.jupyter.widget-view+json": {
       "model_id": "2333f2d704454479bc47b778fb8eeab8",
       "version_major": 2,
       "version_minor": 0
      },
      "text/plain": [
       "  0%|          | 0/4 [00:00<?, ?it/s]"
      ]
     },
     "metadata": {},
     "output_type": "display_data"
    },
    {
     "name": "stderr",
     "output_type": "stream",
     "text": [
      "12:13:47 - cmdstanpy - INFO - Chain [1] start processing\n",
      "12:13:47 - cmdstanpy - INFO - Chain [1] done processing\n",
      "12:13:48 - cmdstanpy - INFO - Chain [1] start processing\n",
      "12:13:48 - cmdstanpy - INFO - Chain [1] done processing\n",
      "12:13:49 - cmdstanpy - INFO - Chain [1] start processing\n",
      "12:13:49 - cmdstanpy - INFO - Chain [1] done processing\n",
      "12:13:49 - cmdstanpy - INFO - Chain [1] start processing\n",
      "12:13:49 - cmdstanpy - INFO - Chain [1] done processing\n",
      "12:13:50 - cmdstanpy - INFO - Chain [1] start processing\n",
      "12:13:50 - cmdstanpy - INFO - Chain [1] done processing\n"
     ]
    },
    {
     "data": {
      "application/vnd.jupyter.widget-view+json": {
       "model_id": "77e3641efbbf4159bd000144dedfe587",
       "version_major": 2,
       "version_minor": 0
      },
      "text/plain": [
       "  0%|          | 0/4 [00:00<?, ?it/s]"
      ]
     },
     "metadata": {},
     "output_type": "display_data"
    },
    {
     "name": "stderr",
     "output_type": "stream",
     "text": [
      "12:13:50 - cmdstanpy - INFO - Chain [1] start processing\n",
      "12:13:50 - cmdstanpy - INFO - Chain [1] done processing\n",
      "12:13:51 - cmdstanpy - INFO - Chain [1] start processing\n",
      "12:13:51 - cmdstanpy - INFO - Chain [1] done processing\n",
      "12:13:52 - cmdstanpy - INFO - Chain [1] start processing\n",
      "12:13:52 - cmdstanpy - INFO - Chain [1] done processing\n",
      "12:13:53 - cmdstanpy - INFO - Chain [1] start processing\n",
      "12:13:53 - cmdstanpy - INFO - Chain [1] done processing\n",
      "12:13:53 - cmdstanpy - INFO - Chain [1] start processing\n",
      "12:13:53 - cmdstanpy - INFO - Chain [1] done processing\n"
     ]
    },
    {
     "data": {
      "application/vnd.jupyter.widget-view+json": {
       "model_id": "2cd67b8c690546959f9a9f811cfc3afe",
       "version_major": 2,
       "version_minor": 0
      },
      "text/plain": [
       "  0%|          | 0/4 [00:00<?, ?it/s]"
      ]
     },
     "metadata": {},
     "output_type": "display_data"
    },
    {
     "name": "stderr",
     "output_type": "stream",
     "text": [
      "12:13:53 - cmdstanpy - INFO - Chain [1] start processing\n",
      "12:13:54 - cmdstanpy - INFO - Chain [1] done processing\n",
      "12:13:54 - cmdstanpy - INFO - Chain [1] start processing\n",
      "12:13:54 - cmdstanpy - INFO - Chain [1] done processing\n",
      "12:13:55 - cmdstanpy - INFO - Chain [1] start processing\n",
      "12:13:55 - cmdstanpy - INFO - Chain [1] done processing\n",
      "12:13:56 - cmdstanpy - INFO - Chain [1] start processing\n",
      "12:13:56 - cmdstanpy - INFO - Chain [1] done processing\n",
      "12:13:56 - cmdstanpy - INFO - Chain [1] start processing\n",
      "12:13:56 - cmdstanpy - INFO - Chain [1] done processing\n"
     ]
    },
    {
     "data": {
      "application/vnd.jupyter.widget-view+json": {
       "model_id": "f8756a0408ce4d849f648902a05415f2",
       "version_major": 2,
       "version_minor": 0
      },
      "text/plain": [
       "  0%|          | 0/4 [00:00<?, ?it/s]"
      ]
     },
     "metadata": {},
     "output_type": "display_data"
    },
    {
     "name": "stderr",
     "output_type": "stream",
     "text": [
      "12:13:57 - cmdstanpy - INFO - Chain [1] start processing\n",
      "12:13:57 - cmdstanpy - INFO - Chain [1] done processing\n",
      "12:13:58 - cmdstanpy - INFO - Chain [1] start processing\n",
      "12:13:58 - cmdstanpy - INFO - Chain [1] done processing\n",
      "12:13:58 - cmdstanpy - INFO - Chain [1] start processing\n",
      "12:13:58 - cmdstanpy - INFO - Chain [1] done processing\n",
      "12:13:59 - cmdstanpy - INFO - Chain [1] start processing\n",
      "12:13:59 - cmdstanpy - INFO - Chain [1] done processing\n",
      "12:14:00 - cmdstanpy - INFO - Chain [1] start processing\n",
      "12:14:00 - cmdstanpy - INFO - Chain [1] done processing\n"
     ]
    },
    {
     "data": {
      "application/vnd.jupyter.widget-view+json": {
       "model_id": "e2300628eaf24ab4ba641fe2bb0e5427",
       "version_major": 2,
       "version_minor": 0
      },
      "text/plain": [
       "  0%|          | 0/4 [00:00<?, ?it/s]"
      ]
     },
     "metadata": {},
     "output_type": "display_data"
    },
    {
     "name": "stderr",
     "output_type": "stream",
     "text": [
      "12:14:00 - cmdstanpy - INFO - Chain [1] start processing\n",
      "12:14:01 - cmdstanpy - INFO - Chain [1] done processing\n",
      "12:14:01 - cmdstanpy - INFO - Chain [1] start processing\n",
      "12:14:01 - cmdstanpy - INFO - Chain [1] done processing\n",
      "12:14:02 - cmdstanpy - INFO - Chain [1] start processing\n",
      "12:14:02 - cmdstanpy - INFO - Chain [1] done processing\n",
      "12:14:03 - cmdstanpy - INFO - Chain [1] start processing\n",
      "12:14:03 - cmdstanpy - INFO - Chain [1] done processing\n",
      "12:14:04 - cmdstanpy - INFO - Chain [1] start processing\n",
      "12:14:04 - cmdstanpy - INFO - Chain [1] done processing\n"
     ]
    },
    {
     "data": {
      "application/vnd.jupyter.widget-view+json": {
       "model_id": "425e0861e4aa4beaaab368725ab46587",
       "version_major": 2,
       "version_minor": 0
      },
      "text/plain": [
       "  0%|          | 0/4 [00:00<?, ?it/s]"
      ]
     },
     "metadata": {},
     "output_type": "display_data"
    },
    {
     "name": "stderr",
     "output_type": "stream",
     "text": [
      "12:14:04 - cmdstanpy - INFO - Chain [1] start processing\n",
      "12:14:04 - cmdstanpy - INFO - Chain [1] done processing\n",
      "12:14:05 - cmdstanpy - INFO - Chain [1] start processing\n",
      "12:14:05 - cmdstanpy - INFO - Chain [1] done processing\n",
      "12:14:06 - cmdstanpy - INFO - Chain [1] start processing\n",
      "12:14:06 - cmdstanpy - INFO - Chain [1] done processing\n",
      "12:14:06 - cmdstanpy - INFO - Chain [1] start processing\n",
      "12:14:06 - cmdstanpy - INFO - Chain [1] done processing\n",
      "12:14:07 - cmdstanpy - INFO - Chain [1] start processing\n",
      "12:14:07 - cmdstanpy - INFO - Chain [1] done processing\n"
     ]
    },
    {
     "data": {
      "application/vnd.jupyter.widget-view+json": {
       "model_id": "f28f4721675e4eecbe399882475f6e57",
       "version_major": 2,
       "version_minor": 0
      },
      "text/plain": [
       "  0%|          | 0/4 [00:00<?, ?it/s]"
      ]
     },
     "metadata": {},
     "output_type": "display_data"
    },
    {
     "name": "stderr",
     "output_type": "stream",
     "text": [
      "12:14:07 - cmdstanpy - INFO - Chain [1] start processing\n",
      "12:14:08 - cmdstanpy - INFO - Chain [1] done processing\n",
      "12:14:09 - cmdstanpy - INFO - Chain [1] start processing\n",
      "12:14:09 - cmdstanpy - INFO - Chain [1] done processing\n",
      "12:14:10 - cmdstanpy - INFO - Chain [1] start processing\n",
      "12:14:10 - cmdstanpy - INFO - Chain [1] done processing\n",
      "12:14:10 - cmdstanpy - INFO - Chain [1] start processing\n",
      "12:14:11 - cmdstanpy - INFO - Chain [1] done processing\n",
      "12:14:11 - cmdstanpy - INFO - Chain [1] start processing\n",
      "12:14:11 - cmdstanpy - INFO - Chain [1] done processing\n"
     ]
    },
    {
     "data": {
      "application/vnd.jupyter.widget-view+json": {
       "model_id": "286dd236fd8548c1ba1c3eab5ba3e5f2",
       "version_major": 2,
       "version_minor": 0
      },
      "text/plain": [
       "  0%|          | 0/4 [00:00<?, ?it/s]"
      ]
     },
     "metadata": {},
     "output_type": "display_data"
    },
    {
     "name": "stderr",
     "output_type": "stream",
     "text": [
      "12:14:12 - cmdstanpy - INFO - Chain [1] start processing\n",
      "12:14:12 - cmdstanpy - INFO - Chain [1] done processing\n",
      "12:14:13 - cmdstanpy - INFO - Chain [1] start processing\n",
      "12:14:13 - cmdstanpy - INFO - Chain [1] done processing\n",
      "12:14:13 - cmdstanpy - INFO - Chain [1] start processing\n",
      "12:14:13 - cmdstanpy - INFO - Chain [1] done processing\n",
      "12:14:14 - cmdstanpy - INFO - Chain [1] start processing\n",
      "12:14:14 - cmdstanpy - INFO - Chain [1] done processing\n",
      "12:14:15 - cmdstanpy - INFO - Chain [1] start processing\n",
      "12:14:15 - cmdstanpy - INFO - Chain [1] done processing\n"
     ]
    },
    {
     "data": {
      "application/vnd.jupyter.widget-view+json": {
       "model_id": "8bb5a118d9594842b57430cd43a4e597",
       "version_major": 2,
       "version_minor": 0
      },
      "text/plain": [
       "  0%|          | 0/4 [00:00<?, ?it/s]"
      ]
     },
     "metadata": {},
     "output_type": "display_data"
    },
    {
     "name": "stderr",
     "output_type": "stream",
     "text": [
      "12:14:15 - cmdstanpy - INFO - Chain [1] start processing\n",
      "12:14:15 - cmdstanpy - INFO - Chain [1] done processing\n",
      "12:14:16 - cmdstanpy - INFO - Chain [1] start processing\n",
      "12:14:16 - cmdstanpy - INFO - Chain [1] done processing\n",
      "12:14:17 - cmdstanpy - INFO - Chain [1] start processing\n",
      "12:14:17 - cmdstanpy - INFO - Chain [1] done processing\n",
      "12:14:17 - cmdstanpy - INFO - Chain [1] start processing\n",
      "12:14:17 - cmdstanpy - INFO - Chain [1] done processing\n",
      "12:14:18 - cmdstanpy - INFO - Chain [1] start processing\n",
      "12:14:18 - cmdstanpy - INFO - Chain [1] done processing\n"
     ]
    },
    {
     "data": {
      "application/vnd.jupyter.widget-view+json": {
       "model_id": "59330ae6dac64020bd4f3603946b5540",
       "version_major": 2,
       "version_minor": 0
      },
      "text/plain": [
       "  0%|          | 0/4 [00:00<?, ?it/s]"
      ]
     },
     "metadata": {},
     "output_type": "display_data"
    },
    {
     "name": "stderr",
     "output_type": "stream",
     "text": [
      "12:14:18 - cmdstanpy - INFO - Chain [1] start processing\n",
      "12:14:18 - cmdstanpy - INFO - Chain [1] done processing\n",
      "12:14:19 - cmdstanpy - INFO - Chain [1] start processing\n",
      "12:14:19 - cmdstanpy - INFO - Chain [1] done processing\n",
      "12:14:20 - cmdstanpy - INFO - Chain [1] start processing\n",
      "12:14:20 - cmdstanpy - INFO - Chain [1] done processing\n",
      "12:14:20 - cmdstanpy - INFO - Chain [1] start processing\n",
      "12:14:20 - cmdstanpy - INFO - Chain [1] done processing\n",
      "12:14:21 - cmdstanpy - INFO - Chain [1] start processing\n",
      "12:14:21 - cmdstanpy - INFO - Chain [1] done processing\n"
     ]
    },
    {
     "data": {
      "application/vnd.jupyter.widget-view+json": {
       "model_id": "8519ec56ec9344d481abb478314c8db8",
       "version_major": 2,
       "version_minor": 0
      },
      "text/plain": [
       "  0%|          | 0/4 [00:00<?, ?it/s]"
      ]
     },
     "metadata": {},
     "output_type": "display_data"
    },
    {
     "name": "stderr",
     "output_type": "stream",
     "text": [
      "12:14:21 - cmdstanpy - INFO - Chain [1] start processing\n",
      "12:14:22 - cmdstanpy - INFO - Chain [1] done processing\n",
      "12:14:22 - cmdstanpy - INFO - Chain [1] start processing\n",
      "12:14:22 - cmdstanpy - INFO - Chain [1] done processing\n",
      "12:14:23 - cmdstanpy - INFO - Chain [1] start processing\n",
      "12:14:23 - cmdstanpy - INFO - Chain [1] done processing\n",
      "12:14:24 - cmdstanpy - INFO - Chain [1] start processing\n",
      "12:14:24 - cmdstanpy - INFO - Chain [1] done processing\n",
      "12:14:24 - cmdstanpy - INFO - Chain [1] start processing\n",
      "12:14:24 - cmdstanpy - INFO - Chain [1] done processing\n"
     ]
    },
    {
     "data": {
      "application/vnd.jupyter.widget-view+json": {
       "model_id": "84689e94e0fb48ae983030ebbde8401c",
       "version_major": 2,
       "version_minor": 0
      },
      "text/plain": [
       "  0%|          | 0/4 [00:00<?, ?it/s]"
      ]
     },
     "metadata": {},
     "output_type": "display_data"
    },
    {
     "name": "stderr",
     "output_type": "stream",
     "text": [
      "12:14:24 - cmdstanpy - INFO - Chain [1] start processing\n",
      "12:14:25 - cmdstanpy - INFO - Chain [1] done processing\n",
      "12:14:25 - cmdstanpy - INFO - Chain [1] start processing\n",
      "12:14:25 - cmdstanpy - INFO - Chain [1] done processing\n",
      "12:14:26 - cmdstanpy - INFO - Chain [1] start processing\n",
      "12:14:26 - cmdstanpy - INFO - Chain [1] done processing\n",
      "12:14:27 - cmdstanpy - INFO - Chain [1] start processing\n",
      "12:14:27 - cmdstanpy - INFO - Chain [1] done processing\n",
      "12:14:27 - cmdstanpy - INFO - Chain [1] start processing\n",
      "12:14:27 - cmdstanpy - INFO - Chain [1] done processing\n"
     ]
    },
    {
     "data": {
      "application/vnd.jupyter.widget-view+json": {
       "model_id": "a9546fe0a3c64179bd602cbcad9df1f4",
       "version_major": 2,
       "version_minor": 0
      },
      "text/plain": [
       "  0%|          | 0/4 [00:00<?, ?it/s]"
      ]
     },
     "metadata": {},
     "output_type": "display_data"
    },
    {
     "name": "stderr",
     "output_type": "stream",
     "text": [
      "12:14:28 - cmdstanpy - INFO - Chain [1] start processing\n",
      "12:14:28 - cmdstanpy - INFO - Chain [1] done processing\n",
      "12:14:29 - cmdstanpy - INFO - Chain [1] start processing\n",
      "12:14:29 - cmdstanpy - INFO - Chain [1] done processing\n",
      "12:14:29 - cmdstanpy - INFO - Chain [1] start processing\n",
      "12:14:29 - cmdstanpy - INFO - Chain [1] done processing\n",
      "12:14:30 - cmdstanpy - INFO - Chain [1] start processing\n",
      "12:14:30 - cmdstanpy - INFO - Chain [1] done processing\n",
      "12:14:31 - cmdstanpy - INFO - Chain [1] start processing\n",
      "12:14:31 - cmdstanpy - INFO - Chain [1] done processing\n"
     ]
    },
    {
     "data": {
      "application/vnd.jupyter.widget-view+json": {
       "model_id": "20c0a0c86ead43d19775e44b2a8a631f",
       "version_major": 2,
       "version_minor": 0
      },
      "text/plain": [
       "  0%|          | 0/4 [00:00<?, ?it/s]"
      ]
     },
     "metadata": {},
     "output_type": "display_data"
    },
    {
     "name": "stderr",
     "output_type": "stream",
     "text": [
      "12:14:31 - cmdstanpy - INFO - Chain [1] start processing\n",
      "12:14:31 - cmdstanpy - INFO - Chain [1] done processing\n",
      "12:14:32 - cmdstanpy - INFO - Chain [1] start processing\n",
      "12:14:32 - cmdstanpy - INFO - Chain [1] done processing\n",
      "12:14:32 - cmdstanpy - INFO - Chain [1] start processing\n",
      "12:14:32 - cmdstanpy - INFO - Chain [1] done processing\n",
      "12:14:33 - cmdstanpy - INFO - Chain [1] start processing\n",
      "12:14:33 - cmdstanpy - INFO - Chain [1] done processing\n",
      "12:14:34 - cmdstanpy - INFO - Chain [1] start processing\n",
      "12:14:34 - cmdstanpy - INFO - Chain [1] done processing\n"
     ]
    },
    {
     "data": {
      "application/vnd.jupyter.widget-view+json": {
       "model_id": "b06d46dd18d94afdbf32139b252bef0d",
       "version_major": 2,
       "version_minor": 0
      },
      "text/plain": [
       "  0%|          | 0/4 [00:00<?, ?it/s]"
      ]
     },
     "metadata": {},
     "output_type": "display_data"
    },
    {
     "name": "stderr",
     "output_type": "stream",
     "text": [
      "12:14:34 - cmdstanpy - INFO - Chain [1] start processing\n",
      "12:14:34 - cmdstanpy - INFO - Chain [1] done processing\n",
      "12:14:35 - cmdstanpy - INFO - Chain [1] start processing\n",
      "12:14:35 - cmdstanpy - INFO - Chain [1] done processing\n",
      "12:14:36 - cmdstanpy - INFO - Chain [1] start processing\n",
      "12:14:36 - cmdstanpy - INFO - Chain [1] done processing\n",
      "12:14:36 - cmdstanpy - INFO - Chain [1] start processing\n",
      "12:14:36 - cmdstanpy - INFO - Chain [1] done processing\n",
      "12:14:37 - cmdstanpy - INFO - Chain [1] start processing\n",
      "12:14:37 - cmdstanpy - INFO - Chain [1] done processing\n"
     ]
    },
    {
     "data": {
      "application/vnd.jupyter.widget-view+json": {
       "model_id": "23bd206dbd1e4039a377a3c58482c81a",
       "version_major": 2,
       "version_minor": 0
      },
      "text/plain": [
       "  0%|          | 0/4 [00:00<?, ?it/s]"
      ]
     },
     "metadata": {},
     "output_type": "display_data"
    },
    {
     "name": "stderr",
     "output_type": "stream",
     "text": [
      "12:14:37 - cmdstanpy - INFO - Chain [1] start processing\n",
      "12:14:37 - cmdstanpy - INFO - Chain [1] done processing\n",
      "12:14:38 - cmdstanpy - INFO - Chain [1] start processing\n",
      "12:14:38 - cmdstanpy - INFO - Chain [1] done processing\n",
      "12:14:39 - cmdstanpy - INFO - Chain [1] start processing\n",
      "12:14:39 - cmdstanpy - INFO - Chain [1] done processing\n",
      "12:14:39 - cmdstanpy - INFO - Chain [1] start processing\n",
      "12:14:40 - cmdstanpy - INFO - Chain [1] done processing\n",
      "12:14:40 - cmdstanpy - INFO - Chain [1] start processing\n",
      "12:14:40 - cmdstanpy - INFO - Chain [1] done processing\n"
     ]
    },
    {
     "data": {
      "application/vnd.jupyter.widget-view+json": {
       "model_id": "483596bb4a6448e38d4b55171c72996c",
       "version_major": 2,
       "version_minor": 0
      },
      "text/plain": [
       "  0%|          | 0/4 [00:00<?, ?it/s]"
      ]
     },
     "metadata": {},
     "output_type": "display_data"
    },
    {
     "name": "stderr",
     "output_type": "stream",
     "text": [
      "12:14:40 - cmdstanpy - INFO - Chain [1] start processing\n",
      "12:14:41 - cmdstanpy - INFO - Chain [1] done processing\n",
      "12:14:42 - cmdstanpy - INFO - Chain [1] start processing\n",
      "12:14:42 - cmdstanpy - INFO - Chain [1] done processing\n",
      "12:14:42 - cmdstanpy - INFO - Chain [1] start processing\n",
      "12:14:42 - cmdstanpy - INFO - Chain [1] done processing\n",
      "12:14:43 - cmdstanpy - INFO - Chain [1] start processing\n",
      "12:14:43 - cmdstanpy - INFO - Chain [1] done processing\n",
      "12:14:44 - cmdstanpy - INFO - Chain [1] start processing\n",
      "12:14:44 - cmdstanpy - INFO - Chain [1] done processing\n"
     ]
    },
    {
     "data": {
      "application/vnd.jupyter.widget-view+json": {
       "model_id": "b0acac33780748619265d5d271e3abf8",
       "version_major": 2,
       "version_minor": 0
      },
      "text/plain": [
       "  0%|          | 0/4 [00:00<?, ?it/s]"
      ]
     },
     "metadata": {},
     "output_type": "display_data"
    },
    {
     "name": "stderr",
     "output_type": "stream",
     "text": [
      "12:14:44 - cmdstanpy - INFO - Chain [1] start processing\n",
      "12:14:44 - cmdstanpy - INFO - Chain [1] done processing\n",
      "12:14:45 - cmdstanpy - INFO - Chain [1] start processing\n",
      "12:14:45 - cmdstanpy - INFO - Chain [1] done processing\n",
      "12:14:46 - cmdstanpy - INFO - Chain [1] start processing\n",
      "12:14:46 - cmdstanpy - INFO - Chain [1] done processing\n",
      "12:14:46 - cmdstanpy - INFO - Chain [1] start processing\n",
      "12:14:46 - cmdstanpy - INFO - Chain [1] done processing\n",
      "12:14:47 - cmdstanpy - INFO - Chain [1] start processing\n",
      "12:14:47 - cmdstanpy - INFO - Chain [1] done processing\n"
     ]
    },
    {
     "data": {
      "application/vnd.jupyter.widget-view+json": {
       "model_id": "2f95134b6ca84129acf55d006fb2742d",
       "version_major": 2,
       "version_minor": 0
      },
      "text/plain": [
       "  0%|          | 0/4 [00:00<?, ?it/s]"
      ]
     },
     "metadata": {},
     "output_type": "display_data"
    },
    {
     "name": "stderr",
     "output_type": "stream",
     "text": [
      "12:14:47 - cmdstanpy - INFO - Chain [1] start processing\n",
      "12:14:47 - cmdstanpy - INFO - Chain [1] done processing\n",
      "12:14:48 - cmdstanpy - INFO - Chain [1] start processing\n",
      "12:14:48 - cmdstanpy - INFO - Chain [1] done processing\n",
      "12:14:49 - cmdstanpy - INFO - Chain [1] start processing\n",
      "12:14:49 - cmdstanpy - INFO - Chain [1] done processing\n",
      "12:14:49 - cmdstanpy - INFO - Chain [1] start processing\n",
      "12:14:49 - cmdstanpy - INFO - Chain [1] done processing\n",
      "12:14:50 - cmdstanpy - INFO - Chain [1] start processing\n",
      "12:14:50 - cmdstanpy - INFO - Chain [1] done processing\n"
     ]
    },
    {
     "data": {
      "application/vnd.jupyter.widget-view+json": {
       "model_id": "1a7794ef083e408490739c0dd7acba75",
       "version_major": 2,
       "version_minor": 0
      },
      "text/plain": [
       "  0%|          | 0/4 [00:00<?, ?it/s]"
      ]
     },
     "metadata": {},
     "output_type": "display_data"
    },
    {
     "name": "stderr",
     "output_type": "stream",
     "text": [
      "12:14:50 - cmdstanpy - INFO - Chain [1] start processing\n",
      "12:14:50 - cmdstanpy - INFO - Chain [1] done processing\n",
      "12:14:51 - cmdstanpy - INFO - Chain [1] start processing\n",
      "12:14:51 - cmdstanpy - INFO - Chain [1] done processing\n",
      "12:14:52 - cmdstanpy - INFO - Chain [1] start processing\n",
      "12:14:52 - cmdstanpy - INFO - Chain [1] done processing\n",
      "12:14:52 - cmdstanpy - INFO - Chain [1] start processing\n",
      "12:14:53 - cmdstanpy - INFO - Chain [1] done processing\n",
      "12:14:53 - cmdstanpy - INFO - Chain [1] start processing\n",
      "12:14:53 - cmdstanpy - INFO - Chain [1] done processing\n"
     ]
    },
    {
     "data": {
      "application/vnd.jupyter.widget-view+json": {
       "model_id": "f1e26273c56a46f7945a224f9cfbfa26",
       "version_major": 2,
       "version_minor": 0
      },
      "text/plain": [
       "  0%|          | 0/4 [00:00<?, ?it/s]"
      ]
     },
     "metadata": {},
     "output_type": "display_data"
    },
    {
     "name": "stderr",
     "output_type": "stream",
     "text": [
      "12:14:53 - cmdstanpy - INFO - Chain [1] start processing\n",
      "12:14:54 - cmdstanpy - INFO - Chain [1] done processing\n",
      "12:14:54 - cmdstanpy - INFO - Chain [1] start processing\n",
      "12:14:54 - cmdstanpy - INFO - Chain [1] done processing\n",
      "12:14:55 - cmdstanpy - INFO - Chain [1] start processing\n",
      "12:14:55 - cmdstanpy - INFO - Chain [1] done processing\n",
      "12:14:56 - cmdstanpy - INFO - Chain [1] start processing\n",
      "12:14:56 - cmdstanpy - INFO - Chain [1] done processing\n",
      "12:14:57 - cmdstanpy - INFO - Chain [1] start processing\n",
      "12:14:57 - cmdstanpy - INFO - Chain [1] done processing\n"
     ]
    },
    {
     "data": {
      "application/vnd.jupyter.widget-view+json": {
       "model_id": "e388a979f2ef4f87b111f4f3871a42c7",
       "version_major": 2,
       "version_minor": 0
      },
      "text/plain": [
       "  0%|          | 0/4 [00:00<?, ?it/s]"
      ]
     },
     "metadata": {},
     "output_type": "display_data"
    },
    {
     "name": "stderr",
     "output_type": "stream",
     "text": [
      "12:14:57 - cmdstanpy - INFO - Chain [1] start processing\n",
      "12:14:57 - cmdstanpy - INFO - Chain [1] done processing\n",
      "12:14:58 - cmdstanpy - INFO - Chain [1] start processing\n",
      "12:14:58 - cmdstanpy - INFO - Chain [1] done processing\n",
      "12:14:58 - cmdstanpy - INFO - Chain [1] start processing\n",
      "12:14:58 - cmdstanpy - INFO - Chain [1] done processing\n",
      "12:14:59 - cmdstanpy - INFO - Chain [1] start processing\n",
      "12:14:59 - cmdstanpy - INFO - Chain [1] done processing\n",
      "12:15:00 - cmdstanpy - INFO - Chain [1] start processing\n",
      "12:15:00 - cmdstanpy - INFO - Chain [1] done processing\n"
     ]
    },
    {
     "data": {
      "application/vnd.jupyter.widget-view+json": {
       "model_id": "5dcb2d40100840e2bf13fb6ed2b20438",
       "version_major": 2,
       "version_minor": 0
      },
      "text/plain": [
       "  0%|          | 0/4 [00:00<?, ?it/s]"
      ]
     },
     "metadata": {},
     "output_type": "display_data"
    },
    {
     "name": "stderr",
     "output_type": "stream",
     "text": [
      "12:15:00 - cmdstanpy - INFO - Chain [1] start processing\n",
      "12:15:00 - cmdstanpy - INFO - Chain [1] done processing\n",
      "12:15:01 - cmdstanpy - INFO - Chain [1] start processing\n",
      "12:15:01 - cmdstanpy - INFO - Chain [1] done processing\n",
      "12:15:02 - cmdstanpy - INFO - Chain [1] start processing\n",
      "12:15:02 - cmdstanpy - INFO - Chain [1] done processing\n",
      "12:15:02 - cmdstanpy - INFO - Chain [1] start processing\n",
      "12:15:02 - cmdstanpy - INFO - Chain [1] done processing\n",
      "12:15:03 - cmdstanpy - INFO - Chain [1] start processing\n",
      "12:15:03 - cmdstanpy - INFO - Chain [1] done processing\n"
     ]
    },
    {
     "data": {
      "application/vnd.jupyter.widget-view+json": {
       "model_id": "0cecbf7f68644f719dbdee9c846c8324",
       "version_major": 2,
       "version_minor": 0
      },
      "text/plain": [
       "  0%|          | 0/4 [00:00<?, ?it/s]"
      ]
     },
     "metadata": {},
     "output_type": "display_data"
    },
    {
     "name": "stderr",
     "output_type": "stream",
     "text": [
      "12:15:03 - cmdstanpy - INFO - Chain [1] start processing\n",
      "12:15:03 - cmdstanpy - INFO - Chain [1] done processing\n",
      "12:15:04 - cmdstanpy - INFO - Chain [1] start processing\n",
      "12:15:04 - cmdstanpy - INFO - Chain [1] done processing\n",
      "12:15:05 - cmdstanpy - INFO - Chain [1] start processing\n",
      "12:15:05 - cmdstanpy - INFO - Chain [1] done processing\n",
      "12:15:05 - cmdstanpy - INFO - Chain [1] start processing\n",
      "12:15:06 - cmdstanpy - INFO - Chain [1] done processing\n",
      "12:15:06 - cmdstanpy - INFO - Chain [1] start processing\n",
      "12:15:06 - cmdstanpy - INFO - Chain [1] done processing\n"
     ]
    },
    {
     "data": {
      "application/vnd.jupyter.widget-view+json": {
       "model_id": "a2c2b4c9f32d40c09a6e46e485174f19",
       "version_major": 2,
       "version_minor": 0
      },
      "text/plain": [
       "  0%|          | 0/4 [00:00<?, ?it/s]"
      ]
     },
     "metadata": {},
     "output_type": "display_data"
    },
    {
     "name": "stderr",
     "output_type": "stream",
     "text": [
      "12:15:06 - cmdstanpy - INFO - Chain [1] start processing\n",
      "12:15:07 - cmdstanpy - INFO - Chain [1] done processing\n",
      "12:15:10 - cmdstanpy - INFO - Chain [1] start processing\n",
      "12:15:11 - cmdstanpy - INFO - Chain [1] done processing\n",
      "12:15:12 - cmdstanpy - INFO - Chain [1] start processing\n",
      "12:15:13 - cmdstanpy - INFO - Chain [1] done processing\n",
      "12:15:14 - cmdstanpy - INFO - Chain [1] start processing\n",
      "12:15:14 - cmdstanpy - INFO - Chain [1] done processing\n",
      "12:15:15 - cmdstanpy - INFO - Chain [1] start processing\n",
      "12:15:15 - cmdstanpy - INFO - Chain [1] done processing\n"
     ]
    },
    {
     "data": {
      "application/vnd.jupyter.widget-view+json": {
       "model_id": "17230859e08c43d5b1bc4bcff8247c2c",
       "version_major": 2,
       "version_minor": 0
      },
      "text/plain": [
       "  0%|          | 0/4 [00:00<?, ?it/s]"
      ]
     },
     "metadata": {},
     "output_type": "display_data"
    },
    {
     "name": "stderr",
     "output_type": "stream",
     "text": [
      "12:15:15 - cmdstanpy - INFO - Chain [1] start processing\n",
      "12:15:16 - cmdstanpy - INFO - Chain [1] done processing\n",
      "12:15:17 - cmdstanpy - INFO - Chain [1] start processing\n",
      "12:15:17 - cmdstanpy - INFO - Chain [1] done processing\n",
      "12:15:17 - cmdstanpy - INFO - Chain [1] start processing\n",
      "12:15:18 - cmdstanpy - INFO - Chain [1] done processing\n",
      "12:15:19 - cmdstanpy - INFO - Chain [1] start processing\n",
      "12:15:19 - cmdstanpy - INFO - Chain [1] done processing\n",
      "12:15:19 - cmdstanpy - INFO - Chain [1] start processing\n",
      "12:15:19 - cmdstanpy - INFO - Chain [1] done processing\n"
     ]
    },
    {
     "data": {
      "application/vnd.jupyter.widget-view+json": {
       "model_id": "5368b0367fda4f758fc9303378e987f6",
       "version_major": 2,
       "version_minor": 0
      },
      "text/plain": [
       "  0%|          | 0/4 [00:00<?, ?it/s]"
      ]
     },
     "metadata": {},
     "output_type": "display_data"
    },
    {
     "name": "stderr",
     "output_type": "stream",
     "text": [
      "12:15:19 - cmdstanpy - INFO - Chain [1] start processing\n",
      "12:15:20 - cmdstanpy - INFO - Chain [1] done processing\n",
      "12:15:21 - cmdstanpy - INFO - Chain [1] start processing\n",
      "12:15:21 - cmdstanpy - INFO - Chain [1] done processing\n",
      "12:15:22 - cmdstanpy - INFO - Chain [1] start processing\n",
      "12:15:22 - cmdstanpy - INFO - Chain [1] done processing\n",
      "12:15:23 - cmdstanpy - INFO - Chain [1] start processing\n",
      "12:15:23 - cmdstanpy - INFO - Chain [1] done processing\n",
      "12:15:24 - cmdstanpy - INFO - Chain [1] start processing\n",
      "12:15:24 - cmdstanpy - INFO - Chain [1] done processing\n"
     ]
    },
    {
     "data": {
      "application/vnd.jupyter.widget-view+json": {
       "model_id": "3f256c2d8e724a17a0bca24ebdd9c3b1",
       "version_major": 2,
       "version_minor": 0
      },
      "text/plain": [
       "  0%|          | 0/4 [00:00<?, ?it/s]"
      ]
     },
     "metadata": {},
     "output_type": "display_data"
    },
    {
     "name": "stderr",
     "output_type": "stream",
     "text": [
      "12:15:24 - cmdstanpy - INFO - Chain [1] start processing\n",
      "12:15:24 - cmdstanpy - INFO - Chain [1] done processing\n",
      "12:15:25 - cmdstanpy - INFO - Chain [1] start processing\n",
      "12:15:25 - cmdstanpy - INFO - Chain [1] done processing\n",
      "12:15:26 - cmdstanpy - INFO - Chain [1] start processing\n",
      "12:15:26 - cmdstanpy - INFO - Chain [1] done processing\n",
      "12:15:26 - cmdstanpy - INFO - Chain [1] start processing\n",
      "12:15:26 - cmdstanpy - INFO - Chain [1] done processing\n"
     ]
    },
    {
     "name": "stdout",
     "output_type": "stream",
     "text": [
      "     changepoint_prior_scale  seasonality_prior_scale  holidays_prior_scale  \\\n",
      "0                      0.005                      0.1                0.0000   \n",
      "1                      0.005                      0.1                0.0009   \n",
      "2                      0.005                      0.1                0.0010   \n",
      "3                      0.005                      0.1                0.0030   \n",
      "4                      0.005                      0.1                0.0050   \n",
      "..                       ...                      ...                   ...   \n",
      "120                    0.050                      2.0                0.0000   \n",
      "121                    0.050                      2.0                0.0009   \n",
      "122                    0.050                      2.0                0.0010   \n",
      "123                    0.050                      2.0                0.0030   \n",
      "124                    0.050                      2.0                0.0050   \n",
      "\n",
      "           rmse           mse         mae  \n",
      "0    175.276615  30721.891652  163.608230  \n",
      "1    175.276615  30721.891652  163.608230  \n",
      "2    175.276615  30721.891652  163.608230  \n",
      "3    175.276615  30721.891652  163.608230  \n",
      "4    175.276615  30721.891652  163.608230  \n",
      "..          ...           ...         ...  \n",
      "120   74.003059   5476.452754   55.303092  \n",
      "121   74.003059   5476.452754   55.303092  \n",
      "122   74.003059   5476.452754   55.303092  \n",
      "123   74.003059   5476.452754   55.303092  \n",
      "124   74.003059   5476.452754   55.303092  \n",
      "\n",
      "[125 rows x 6 columns]\n"
     ]
    }
   ],
   "source": [
    "from prophet import Prophet\n",
    "import itertools\n",
    "import numpy as np\n",
    "import pandas as pd\n",
    "from prophet.diagnostics import cross_validation\n",
    "from prophet.diagnostics import performance_metrics\n",
    "\n",
    "#changepoint_prior_scale       0.050000\n",
    "#seasonality_prior_scale       2.000000\n",
    "#holidays_prior_scale          0.005000\n",
    "#rmse                         74.003059\n",
    "#mse                        5476.452754\n",
    "#mae                          55.303092\n",
    "\n",
    "\n",
    "#changepoint_prior_scale        0.100000\n",
    "#seasonality_prior_scale       10.000000\n",
    "#holidays_prior_scale           0.010000\n",
    "#rmse                         123.334693\n",
    "#mse                        15211.446514\n",
    "#mae                           93.143057\n",
    "\n",
    "\n",
    "\n",
    "data = pd.read_csv('data.csv')\n",
    "\n",
    "\n",
    "param_grid = {  \n",
    "    'changepoint_prior_scale': [0.005, 0.008, 0.01, 0.03, 0.05],\n",
    "    'seasonality_prior_scale': [0.1, 0.5, 1.0, 1.5, 2.0],\n",
    "    'holidays_prior_scale': [0, 0.0009, 0.001, 0.003, 0.005],\n",
    "}\n",
    "\n",
    "# Generate all combinations of parameters\n",
    "all_params = [dict(zip(param_grid.keys(), v)) for v in itertools.product(*param_grid.values())]\n",
    "rmses = []  # Store the RMSEs for each params here\n",
    "mse = []\n",
    "mae = []\n",
    "\n",
    "# Use cross validation to evaluate all parameters\n",
    "for params in all_params:\n",
    "    m = Prophet(**params, interval_width=0.9, daily_seasonality=True).fit(data)  # Fit model with given params\n",
    "    df_cv = cross_validation(m, initial='100 days', period='60 days', horizon = '30 days')\n",
    "    df_p = performance_metrics(df_cv, rolling_window=1)\n",
    "    rmses.append(df_p['rmse'].values[0])\n",
    "    mse.append(df_p[\"mse\"].values[0])\n",
    "    mae.append(df_p[\"mae\"].values[0])\n",
    "\n",
    "# Find the best parameters\n",
    "tuning_results = pd.DataFrame(all_params)\n",
    "tuning_results['rmse'] = rmses\n",
    "tuning_results['mse'] = mse\n",
    "tuning_results['mae'] = mae\n",
    "print(tuning_results)\n",
    "\n"
   ]
  },
  {
   "cell_type": "code",
   "execution_count": null,
   "id": "8d68eb81",
   "metadata": {},
   "outputs": [],
   "source": [
    "best_params = all_params[np.argmin(rmses)]\n",
    "print(best_params)"
   ]
  },
  {
   "cell_type": "code",
   "execution_count": null,
   "id": "d233438b",
   "metadata": {},
   "outputs": [],
   "source": [
    "print(tuning_results)['rmse'].min()"
   ]
  },
  {
   "cell_type": "code",
   "execution_count": null,
   "id": "80a34dd6",
   "metadata": {},
   "outputs": [],
   "source": [
    "print(all_params)"
   ]
  },
  {
   "cell_type": "code",
   "execution_count": null,
   "id": "b221b7cf",
   "metadata": {},
   "outputs": [],
   "source": [
    "print(tuning_results[['rmse','mse','mae']].min().min())"
   ]
  },
  {
   "cell_type": "code",
   "execution_count": null,
   "id": "aa1c06bf",
   "metadata": {},
   "outputs": [],
   "source": [
    "combined_row_value = []\n",
    "\n",
    "for ind in tuning_results.index:\n",
    "    sum_val = tuning_results['rmse'][ind] + tuning_results['mse'][ind] + tuning_results['mae'][ind]\n",
    "    combined_row_value.append(dict(index=ind, sum_val=sum_val))"
   ]
  },
  {
   "cell_type": "code",
   "execution_count": null,
   "id": "676d9e1d",
   "metadata": {},
   "outputs": [],
   "source": [
    "print(combined_row_value)"
   ]
  },
  {
   "cell_type": "code",
   "execution_count": null,
   "id": "a031ac53",
   "metadata": {},
   "outputs": [],
   "source": [
    "print(min(combined_row_value, key=lambda x:x['sum_val']))\n"
   ]
  },
  {
   "cell_type": "code",
   "execution_count": null,
   "id": "e1cd58b9",
   "metadata": {},
   "outputs": [],
   "source": [
    "print(tuning_results.loc[32])"
   ]
  },
  {
   "cell_type": "code",
   "execution_count": null,
   "id": "bf2b1a4d",
   "metadata": {},
   "outputs": [],
   "source": []
  },
  {
   "cell_type": "code",
   "execution_count": null,
   "id": "cbc5280a",
   "metadata": {},
   "outputs": [],
   "source": []
  }
 ],
 "metadata": {
  "kernelspec": {
   "display_name": "Python 3 (ipykernel)",
   "language": "python",
   "name": "python3"
  },
  "language_info": {
   "codemirror_mode": {
    "name": "ipython",
    "version": 3
   },
   "file_extension": ".py",
   "mimetype": "text/x-python",
   "name": "python",
   "nbconvert_exporter": "python",
   "pygments_lexer": "ipython3",
   "version": "3.9.12"
  }
 },
 "nbformat": 4,
 "nbformat_minor": 5
}
