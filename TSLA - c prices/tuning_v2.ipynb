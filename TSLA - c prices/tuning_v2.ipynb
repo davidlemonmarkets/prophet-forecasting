{
 "cells": [
  {
   "cell_type": "code",
   "execution_count": 1,
   "id": "2968028f",
   "metadata": {},
   "outputs": [
    {
     "name": "stderr",
     "output_type": "stream",
     "text": [
      "11:53:07 - cmdstanpy - INFO - Chain [1] start processing\n",
      "11:53:07 - cmdstanpy - INFO - Chain [1] done processing\n"
     ]
    },
    {
     "data": {
      "application/vnd.jupyter.widget-view+json": {
       "model_id": "f8c848b18a1a4f51a607ed20b24e7738",
       "version_major": 2,
       "version_minor": 0
      },
      "text/plain": [
       "  0%|          | 0/4 [00:00<?, ?it/s]"
      ]
     },
     "metadata": {},
     "output_type": "display_data"
    },
    {
     "name": "stderr",
     "output_type": "stream",
     "text": [
      "11:53:07 - cmdstanpy - INFO - Chain [1] start processing\n",
      "11:53:08 - cmdstanpy - INFO - Chain [1] done processing\n",
      "11:53:09 - cmdstanpy - INFO - Chain [1] start processing\n",
      "11:53:09 - cmdstanpy - INFO - Chain [1] done processing\n",
      "11:53:09 - cmdstanpy - INFO - Chain [1] start processing\n",
      "11:53:09 - cmdstanpy - INFO - Chain [1] done processing\n",
      "11:53:10 - cmdstanpy - INFO - Chain [1] start processing\n",
      "11:53:10 - cmdstanpy - INFO - Chain [1] done processing\n",
      "11:53:11 - cmdstanpy - INFO - Chain [1] start processing\n",
      "11:53:11 - cmdstanpy - INFO - Chain [1] done processing\n"
     ]
    },
    {
     "data": {
      "application/vnd.jupyter.widget-view+json": {
       "model_id": "43ec0c4c66e94ad4a14019662e55446d",
       "version_major": 2,
       "version_minor": 0
      },
      "text/plain": [
       "  0%|          | 0/4 [00:00<?, ?it/s]"
      ]
     },
     "metadata": {},
     "output_type": "display_data"
    },
    {
     "name": "stderr",
     "output_type": "stream",
     "text": [
      "11:53:11 - cmdstanpy - INFO - Chain [1] start processing\n",
      "11:53:11 - cmdstanpy - INFO - Chain [1] done processing\n",
      "11:53:12 - cmdstanpy - INFO - Chain [1] start processing\n",
      "11:53:12 - cmdstanpy - INFO - Chain [1] done processing\n",
      "11:53:12 - cmdstanpy - INFO - Chain [1] start processing\n",
      "11:53:12 - cmdstanpy - INFO - Chain [1] done processing\n",
      "11:53:13 - cmdstanpy - INFO - Chain [1] start processing\n",
      "11:53:13 - cmdstanpy - INFO - Chain [1] done processing\n",
      "11:53:14 - cmdstanpy - INFO - Chain [1] start processing\n",
      "11:53:14 - cmdstanpy - INFO - Chain [1] done processing\n"
     ]
    },
    {
     "data": {
      "application/vnd.jupyter.widget-view+json": {
       "model_id": "3683d0211c5a4c349a9c7b650a86e931",
       "version_major": 2,
       "version_minor": 0
      },
      "text/plain": [
       "  0%|          | 0/4 [00:00<?, ?it/s]"
      ]
     },
     "metadata": {},
     "output_type": "display_data"
    },
    {
     "name": "stderr",
     "output_type": "stream",
     "text": [
      "11:53:14 - cmdstanpy - INFO - Chain [1] start processing\n",
      "11:53:14 - cmdstanpy - INFO - Chain [1] done processing\n",
      "11:53:15 - cmdstanpy - INFO - Chain [1] start processing\n",
      "11:53:15 - cmdstanpy - INFO - Chain [1] done processing\n",
      "11:53:15 - cmdstanpy - INFO - Chain [1] start processing\n",
      "11:53:15 - cmdstanpy - INFO - Chain [1] done processing\n",
      "11:53:16 - cmdstanpy - INFO - Chain [1] start processing\n",
      "11:53:16 - cmdstanpy - INFO - Chain [1] done processing\n",
      "11:53:17 - cmdstanpy - INFO - Chain [1] start processing\n",
      "11:53:17 - cmdstanpy - INFO - Chain [1] done processing\n"
     ]
    },
    {
     "data": {
      "application/vnd.jupyter.widget-view+json": {
       "model_id": "ae3fb7cf21204ec4821548009ade317e",
       "version_major": 2,
       "version_minor": 0
      },
      "text/plain": [
       "  0%|          | 0/4 [00:00<?, ?it/s]"
      ]
     },
     "metadata": {},
     "output_type": "display_data"
    },
    {
     "name": "stderr",
     "output_type": "stream",
     "text": [
      "11:53:17 - cmdstanpy - INFO - Chain [1] start processing\n",
      "11:53:17 - cmdstanpy - INFO - Chain [1] done processing\n",
      "11:53:18 - cmdstanpy - INFO - Chain [1] start processing\n",
      "11:53:18 - cmdstanpy - INFO - Chain [1] done processing\n",
      "11:53:18 - cmdstanpy - INFO - Chain [1] start processing\n",
      "11:53:19 - cmdstanpy - INFO - Chain [1] done processing\n",
      "11:53:19 - cmdstanpy - INFO - Chain [1] start processing\n",
      "11:53:19 - cmdstanpy - INFO - Chain [1] done processing\n",
      "11:53:20 - cmdstanpy - INFO - Chain [1] start processing\n",
      "11:53:20 - cmdstanpy - INFO - Chain [1] done processing\n"
     ]
    },
    {
     "data": {
      "application/vnd.jupyter.widget-view+json": {
       "model_id": "e400c127989644efabe9e76df23a426b",
       "version_major": 2,
       "version_minor": 0
      },
      "text/plain": [
       "  0%|          | 0/4 [00:00<?, ?it/s]"
      ]
     },
     "metadata": {},
     "output_type": "display_data"
    },
    {
     "name": "stderr",
     "output_type": "stream",
     "text": [
      "11:53:20 - cmdstanpy - INFO - Chain [1] start processing\n",
      "11:53:20 - cmdstanpy - INFO - Chain [1] done processing\n",
      "11:53:21 - cmdstanpy - INFO - Chain [1] start processing\n",
      "11:53:21 - cmdstanpy - INFO - Chain [1] done processing\n",
      "11:53:22 - cmdstanpy - INFO - Chain [1] start processing\n",
      "11:53:22 - cmdstanpy - INFO - Chain [1] done processing\n",
      "11:53:22 - cmdstanpy - INFO - Chain [1] start processing\n",
      "11:53:22 - cmdstanpy - INFO - Chain [1] done processing\n",
      "11:53:23 - cmdstanpy - INFO - Chain [1] start processing\n",
      "11:53:23 - cmdstanpy - INFO - Chain [1] done processing\n"
     ]
    },
    {
     "data": {
      "application/vnd.jupyter.widget-view+json": {
       "model_id": "b7034ac268694b55853f423f46af759a",
       "version_major": 2,
       "version_minor": 0
      },
      "text/plain": [
       "  0%|          | 0/4 [00:00<?, ?it/s]"
      ]
     },
     "metadata": {},
     "output_type": "display_data"
    },
    {
     "name": "stderr",
     "output_type": "stream",
     "text": [
      "11:53:23 - cmdstanpy - INFO - Chain [1] start processing\n",
      "11:53:23 - cmdstanpy - INFO - Chain [1] done processing\n",
      "11:53:24 - cmdstanpy - INFO - Chain [1] start processing\n",
      "11:53:24 - cmdstanpy - INFO - Chain [1] done processing\n",
      "11:53:25 - cmdstanpy - INFO - Chain [1] start processing\n",
      "11:53:25 - cmdstanpy - INFO - Chain [1] done processing\n",
      "11:53:25 - cmdstanpy - INFO - Chain [1] start processing\n",
      "11:53:25 - cmdstanpy - INFO - Chain [1] done processing\n",
      "11:53:26 - cmdstanpy - INFO - Chain [1] start processing\n",
      "11:53:26 - cmdstanpy - INFO - Chain [1] done processing\n"
     ]
    },
    {
     "data": {
      "application/vnd.jupyter.widget-view+json": {
       "model_id": "48fcce9420b3419e914e7562df374b7c",
       "version_major": 2,
       "version_minor": 0
      },
      "text/plain": [
       "  0%|          | 0/4 [00:00<?, ?it/s]"
      ]
     },
     "metadata": {},
     "output_type": "display_data"
    },
    {
     "name": "stderr",
     "output_type": "stream",
     "text": [
      "11:53:26 - cmdstanpy - INFO - Chain [1] start processing\n",
      "11:53:26 - cmdstanpy - INFO - Chain [1] done processing\n",
      "11:53:27 - cmdstanpy - INFO - Chain [1] start processing\n",
      "11:53:27 - cmdstanpy - INFO - Chain [1] done processing\n",
      "11:53:28 - cmdstanpy - INFO - Chain [1] start processing\n",
      "11:53:28 - cmdstanpy - INFO - Chain [1] done processing\n",
      "11:53:28 - cmdstanpy - INFO - Chain [1] start processing\n",
      "11:53:28 - cmdstanpy - INFO - Chain [1] done processing\n",
      "11:53:29 - cmdstanpy - INFO - Chain [1] start processing\n",
      "11:53:29 - cmdstanpy - INFO - Chain [1] done processing\n"
     ]
    },
    {
     "data": {
      "application/vnd.jupyter.widget-view+json": {
       "model_id": "bac265fead2e4fbca142fe83ae8563e2",
       "version_major": 2,
       "version_minor": 0
      },
      "text/plain": [
       "  0%|          | 0/4 [00:00<?, ?it/s]"
      ]
     },
     "metadata": {},
     "output_type": "display_data"
    },
    {
     "name": "stderr",
     "output_type": "stream",
     "text": [
      "11:53:29 - cmdstanpy - INFO - Chain [1] start processing\n",
      "11:53:29 - cmdstanpy - INFO - Chain [1] done processing\n",
      "11:53:30 - cmdstanpy - INFO - Chain [1] start processing\n",
      "11:53:30 - cmdstanpy - INFO - Chain [1] done processing\n",
      "11:53:31 - cmdstanpy - INFO - Chain [1] start processing\n",
      "11:53:31 - cmdstanpy - INFO - Chain [1] done processing\n",
      "11:53:31 - cmdstanpy - INFO - Chain [1] start processing\n",
      "11:53:31 - cmdstanpy - INFO - Chain [1] done processing\n",
      "11:53:32 - cmdstanpy - INFO - Chain [1] start processing\n",
      "11:53:32 - cmdstanpy - INFO - Chain [1] done processing\n"
     ]
    },
    {
     "data": {
      "application/vnd.jupyter.widget-view+json": {
       "model_id": "e9af8b494b4b40e3874144f3631147af",
       "version_major": 2,
       "version_minor": 0
      },
      "text/plain": [
       "  0%|          | 0/4 [00:00<?, ?it/s]"
      ]
     },
     "metadata": {},
     "output_type": "display_data"
    },
    {
     "name": "stderr",
     "output_type": "stream",
     "text": [
      "11:53:32 - cmdstanpy - INFO - Chain [1] start processing\n",
      "11:53:33 - cmdstanpy - INFO - Chain [1] done processing\n",
      "11:53:33 - cmdstanpy - INFO - Chain [1] start processing\n",
      "11:53:33 - cmdstanpy - INFO - Chain [1] done processing\n",
      "11:53:34 - cmdstanpy - INFO - Chain [1] start processing\n",
      "11:53:34 - cmdstanpy - INFO - Chain [1] done processing\n",
      "11:53:34 - cmdstanpy - INFO - Chain [1] start processing\n",
      "11:53:35 - cmdstanpy - INFO - Chain [1] done processing\n",
      "11:53:35 - cmdstanpy - INFO - Chain [1] start processing\n",
      "11:53:35 - cmdstanpy - INFO - Chain [1] done processing\n"
     ]
    },
    {
     "data": {
      "application/vnd.jupyter.widget-view+json": {
       "model_id": "ce16c29578c8480899d17363181860fb",
       "version_major": 2,
       "version_minor": 0
      },
      "text/plain": [
       "  0%|          | 0/4 [00:00<?, ?it/s]"
      ]
     },
     "metadata": {},
     "output_type": "display_data"
    },
    {
     "name": "stderr",
     "output_type": "stream",
     "text": [
      "11:53:35 - cmdstanpy - INFO - Chain [1] start processing\n",
      "11:53:36 - cmdstanpy - INFO - Chain [1] done processing\n",
      "11:53:36 - cmdstanpy - INFO - Chain [1] start processing\n",
      "11:53:36 - cmdstanpy - INFO - Chain [1] done processing\n",
      "11:53:37 - cmdstanpy - INFO - Chain [1] start processing\n",
      "11:53:37 - cmdstanpy - INFO - Chain [1] done processing\n",
      "11:53:38 - cmdstanpy - INFO - Chain [1] start processing\n",
      "11:53:38 - cmdstanpy - INFO - Chain [1] done processing\n",
      "11:53:38 - cmdstanpy - INFO - Chain [1] start processing\n",
      "11:53:38 - cmdstanpy - INFO - Chain [1] done processing\n"
     ]
    },
    {
     "data": {
      "application/vnd.jupyter.widget-view+json": {
       "model_id": "c8cadc63ffcb4756b44a9a1e4c405f60",
       "version_major": 2,
       "version_minor": 0
      },
      "text/plain": [
       "  0%|          | 0/4 [00:00<?, ?it/s]"
      ]
     },
     "metadata": {},
     "output_type": "display_data"
    },
    {
     "name": "stderr",
     "output_type": "stream",
     "text": [
      "11:53:38 - cmdstanpy - INFO - Chain [1] start processing\n",
      "11:53:39 - cmdstanpy - INFO - Chain [1] done processing\n",
      "11:53:39 - cmdstanpy - INFO - Chain [1] start processing\n",
      "11:53:39 - cmdstanpy - INFO - Chain [1] done processing\n",
      "11:53:40 - cmdstanpy - INFO - Chain [1] start processing\n",
      "11:53:40 - cmdstanpy - INFO - Chain [1] done processing\n",
      "11:53:41 - cmdstanpy - INFO - Chain [1] start processing\n",
      "11:53:41 - cmdstanpy - INFO - Chain [1] done processing\n",
      "11:53:41 - cmdstanpy - INFO - Chain [1] start processing\n",
      "11:53:41 - cmdstanpy - INFO - Chain [1] done processing\n"
     ]
    },
    {
     "data": {
      "application/vnd.jupyter.widget-view+json": {
       "model_id": "17eec9de589a4b10ba8b54bbcf56fed1",
       "version_major": 2,
       "version_minor": 0
      },
      "text/plain": [
       "  0%|          | 0/4 [00:00<?, ?it/s]"
      ]
     },
     "metadata": {},
     "output_type": "display_data"
    },
    {
     "name": "stderr",
     "output_type": "stream",
     "text": [
      "11:53:41 - cmdstanpy - INFO - Chain [1] start processing\n",
      "11:53:42 - cmdstanpy - INFO - Chain [1] done processing\n",
      "11:53:42 - cmdstanpy - INFO - Chain [1] start processing\n",
      "11:53:42 - cmdstanpy - INFO - Chain [1] done processing\n",
      "11:53:43 - cmdstanpy - INFO - Chain [1] start processing\n",
      "11:53:43 - cmdstanpy - INFO - Chain [1] done processing\n",
      "11:53:44 - cmdstanpy - INFO - Chain [1] start processing\n",
      "11:53:44 - cmdstanpy - INFO - Chain [1] done processing\n",
      "11:53:44 - cmdstanpy - INFO - Chain [1] start processing\n",
      "11:53:44 - cmdstanpy - INFO - Chain [1] done processing\n"
     ]
    },
    {
     "data": {
      "application/vnd.jupyter.widget-view+json": {
       "model_id": "b1b39851c4394870bfa51efa18d4a26b",
       "version_major": 2,
       "version_minor": 0
      },
      "text/plain": [
       "  0%|          | 0/4 [00:00<?, ?it/s]"
      ]
     },
     "metadata": {},
     "output_type": "display_data"
    },
    {
     "name": "stderr",
     "output_type": "stream",
     "text": [
      "11:53:44 - cmdstanpy - INFO - Chain [1] start processing\n",
      "11:53:45 - cmdstanpy - INFO - Chain [1] done processing\n",
      "11:53:45 - cmdstanpy - INFO - Chain [1] start processing\n",
      "11:53:45 - cmdstanpy - INFO - Chain [1] done processing\n",
      "11:53:46 - cmdstanpy - INFO - Chain [1] start processing\n",
      "11:53:46 - cmdstanpy - INFO - Chain [1] done processing\n",
      "11:53:47 - cmdstanpy - INFO - Chain [1] start processing\n",
      "11:53:47 - cmdstanpy - INFO - Chain [1] done processing\n",
      "11:53:47 - cmdstanpy - INFO - Chain [1] start processing\n",
      "11:53:47 - cmdstanpy - INFO - Chain [1] done processing\n"
     ]
    },
    {
     "data": {
      "application/vnd.jupyter.widget-view+json": {
       "model_id": "744a7df0f2304793b66754e9c23d6880",
       "version_major": 2,
       "version_minor": 0
      },
      "text/plain": [
       "  0%|          | 0/4 [00:00<?, ?it/s]"
      ]
     },
     "metadata": {},
     "output_type": "display_data"
    },
    {
     "name": "stderr",
     "output_type": "stream",
     "text": [
      "11:53:47 - cmdstanpy - INFO - Chain [1] start processing\n",
      "11:53:48 - cmdstanpy - INFO - Chain [1] done processing\n",
      "11:53:49 - cmdstanpy - INFO - Chain [1] start processing\n",
      "11:53:49 - cmdstanpy - INFO - Chain [1] done processing\n",
      "11:53:49 - cmdstanpy - INFO - Chain [1] start processing\n",
      "11:53:49 - cmdstanpy - INFO - Chain [1] done processing\n",
      "11:53:50 - cmdstanpy - INFO - Chain [1] start processing\n",
      "11:53:50 - cmdstanpy - INFO - Chain [1] done processing\n",
      "11:53:50 - cmdstanpy - INFO - Chain [1] start processing\n",
      "11:53:51 - cmdstanpy - INFO - Chain [1] done processing\n"
     ]
    },
    {
     "data": {
      "application/vnd.jupyter.widget-view+json": {
       "model_id": "3386f5de581d4f2f8c8096555f4b39ee",
       "version_major": 2,
       "version_minor": 0
      },
      "text/plain": [
       "  0%|          | 0/4 [00:00<?, ?it/s]"
      ]
     },
     "metadata": {},
     "output_type": "display_data"
    },
    {
     "name": "stderr",
     "output_type": "stream",
     "text": [
      "11:53:51 - cmdstanpy - INFO - Chain [1] start processing\n",
      "11:53:51 - cmdstanpy - INFO - Chain [1] done processing\n",
      "11:53:52 - cmdstanpy - INFO - Chain [1] start processing\n",
      "11:53:52 - cmdstanpy - INFO - Chain [1] done processing\n",
      "11:53:52 - cmdstanpy - INFO - Chain [1] start processing\n",
      "11:53:52 - cmdstanpy - INFO - Chain [1] done processing\n",
      "11:53:53 - cmdstanpy - INFO - Chain [1] start processing\n",
      "11:53:53 - cmdstanpy - INFO - Chain [1] done processing\n",
      "11:53:54 - cmdstanpy - INFO - Chain [1] start processing\n",
      "11:53:54 - cmdstanpy - INFO - Chain [1] done processing\n"
     ]
    },
    {
     "data": {
      "application/vnd.jupyter.widget-view+json": {
       "model_id": "d1e27cc75d8642daa0f8cfdf48ab8002",
       "version_major": 2,
       "version_minor": 0
      },
      "text/plain": [
       "  0%|          | 0/4 [00:00<?, ?it/s]"
      ]
     },
     "metadata": {},
     "output_type": "display_data"
    },
    {
     "name": "stderr",
     "output_type": "stream",
     "text": [
      "11:53:54 - cmdstanpy - INFO - Chain [1] start processing\n",
      "11:53:54 - cmdstanpy - INFO - Chain [1] done processing\n",
      "11:53:55 - cmdstanpy - INFO - Chain [1] start processing\n",
      "11:53:55 - cmdstanpy - INFO - Chain [1] done processing\n",
      "11:53:55 - cmdstanpy - INFO - Chain [1] start processing\n",
      "11:53:55 - cmdstanpy - INFO - Chain [1] done processing\n",
      "11:53:56 - cmdstanpy - INFO - Chain [1] start processing\n",
      "11:53:56 - cmdstanpy - INFO - Chain [1] done processing\n",
      "11:53:56 - cmdstanpy - INFO - Chain [1] start processing\n",
      "11:53:57 - cmdstanpy - INFO - Chain [1] done processing\n"
     ]
    },
    {
     "data": {
      "application/vnd.jupyter.widget-view+json": {
       "model_id": "cdc646f83af04ec681ed0b48420e8e66",
       "version_major": 2,
       "version_minor": 0
      },
      "text/plain": [
       "  0%|          | 0/4 [00:00<?, ?it/s]"
      ]
     },
     "metadata": {},
     "output_type": "display_data"
    },
    {
     "name": "stderr",
     "output_type": "stream",
     "text": [
      "11:53:57 - cmdstanpy - INFO - Chain [1] start processing\n",
      "11:53:57 - cmdstanpy - INFO - Chain [1] done processing\n",
      "11:53:58 - cmdstanpy - INFO - Chain [1] start processing\n",
      "11:53:58 - cmdstanpy - INFO - Chain [1] done processing\n",
      "11:53:58 - cmdstanpy - INFO - Chain [1] start processing\n",
      "11:53:58 - cmdstanpy - INFO - Chain [1] done processing\n",
      "11:53:59 - cmdstanpy - INFO - Chain [1] start processing\n",
      "11:53:59 - cmdstanpy - INFO - Chain [1] done processing\n",
      "11:54:00 - cmdstanpy - INFO - Chain [1] start processing\n",
      "11:54:00 - cmdstanpy - INFO - Chain [1] done processing\n"
     ]
    },
    {
     "data": {
      "application/vnd.jupyter.widget-view+json": {
       "model_id": "5da04ab4bb7c4dec8b49b029bcefb344",
       "version_major": 2,
       "version_minor": 0
      },
      "text/plain": [
       "  0%|          | 0/4 [00:00<?, ?it/s]"
      ]
     },
     "metadata": {},
     "output_type": "display_data"
    },
    {
     "name": "stderr",
     "output_type": "stream",
     "text": [
      "11:54:00 - cmdstanpy - INFO - Chain [1] start processing\n",
      "11:54:00 - cmdstanpy - INFO - Chain [1] done processing\n",
      "11:54:01 - cmdstanpy - INFO - Chain [1] start processing\n",
      "11:54:01 - cmdstanpy - INFO - Chain [1] done processing\n",
      "11:54:01 - cmdstanpy - INFO - Chain [1] start processing\n",
      "11:54:01 - cmdstanpy - INFO - Chain [1] done processing\n",
      "11:54:02 - cmdstanpy - INFO - Chain [1] start processing\n",
      "11:54:02 - cmdstanpy - INFO - Chain [1] done processing\n",
      "11:54:03 - cmdstanpy - INFO - Chain [1] start processing\n",
      "11:54:03 - cmdstanpy - INFO - Chain [1] done processing\n"
     ]
    },
    {
     "data": {
      "application/vnd.jupyter.widget-view+json": {
       "model_id": "2f074f1458194c3084557df38f29258d",
       "version_major": 2,
       "version_minor": 0
      },
      "text/plain": [
       "  0%|          | 0/4 [00:00<?, ?it/s]"
      ]
     },
     "metadata": {},
     "output_type": "display_data"
    },
    {
     "name": "stderr",
     "output_type": "stream",
     "text": [
      "11:54:03 - cmdstanpy - INFO - Chain [1] start processing\n",
      "11:54:03 - cmdstanpy - INFO - Chain [1] done processing\n",
      "11:54:04 - cmdstanpy - INFO - Chain [1] start processing\n",
      "11:54:04 - cmdstanpy - INFO - Chain [1] done processing\n",
      "11:54:04 - cmdstanpy - INFO - Chain [1] start processing\n",
      "11:54:04 - cmdstanpy - INFO - Chain [1] done processing\n",
      "11:54:05 - cmdstanpy - INFO - Chain [1] start processing\n",
      "11:54:05 - cmdstanpy - INFO - Chain [1] done processing\n",
      "11:54:06 - cmdstanpy - INFO - Chain [1] start processing\n",
      "11:54:06 - cmdstanpy - INFO - Chain [1] done processing\n"
     ]
    },
    {
     "data": {
      "application/vnd.jupyter.widget-view+json": {
       "model_id": "e8770253359946908f6fdbbb0db9bcb3",
       "version_major": 2,
       "version_minor": 0
      },
      "text/plain": [
       "  0%|          | 0/4 [00:00<?, ?it/s]"
      ]
     },
     "metadata": {},
     "output_type": "display_data"
    },
    {
     "name": "stderr",
     "output_type": "stream",
     "text": [
      "11:54:06 - cmdstanpy - INFO - Chain [1] start processing\n",
      "11:54:06 - cmdstanpy - INFO - Chain [1] done processing\n",
      "11:54:07 - cmdstanpy - INFO - Chain [1] start processing\n",
      "11:54:07 - cmdstanpy - INFO - Chain [1] done processing\n",
      "11:54:07 - cmdstanpy - INFO - Chain [1] start processing\n",
      "11:54:07 - cmdstanpy - INFO - Chain [1] done processing\n",
      "11:54:08 - cmdstanpy - INFO - Chain [1] start processing\n",
      "11:54:08 - cmdstanpy - INFO - Chain [1] done processing\n",
      "11:54:09 - cmdstanpy - INFO - Chain [1] start processing\n",
      "11:54:09 - cmdstanpy - INFO - Chain [1] done processing\n"
     ]
    },
    {
     "data": {
      "application/vnd.jupyter.widget-view+json": {
       "model_id": "3c6a10c17a0b424d84135275481b21f2",
       "version_major": 2,
       "version_minor": 0
      },
      "text/plain": [
       "  0%|          | 0/4 [00:00<?, ?it/s]"
      ]
     },
     "metadata": {},
     "output_type": "display_data"
    },
    {
     "name": "stderr",
     "output_type": "stream",
     "text": [
      "11:54:09 - cmdstanpy - INFO - Chain [1] start processing\n",
      "11:54:09 - cmdstanpy - INFO - Chain [1] done processing\n",
      "11:54:10 - cmdstanpy - INFO - Chain [1] start processing\n",
      "11:54:10 - cmdstanpy - INFO - Chain [1] done processing\n",
      "11:54:10 - cmdstanpy - INFO - Chain [1] start processing\n",
      "11:54:11 - cmdstanpy - INFO - Chain [1] done processing\n",
      "11:54:11 - cmdstanpy - INFO - Chain [1] start processing\n",
      "11:54:11 - cmdstanpy - INFO - Chain [1] done processing\n",
      "11:54:12 - cmdstanpy - INFO - Chain [1] start processing\n",
      "11:54:12 - cmdstanpy - INFO - Chain [1] done processing\n"
     ]
    },
    {
     "data": {
      "application/vnd.jupyter.widget-view+json": {
       "model_id": "c17af730864f4fe893f398986203ff41",
       "version_major": 2,
       "version_minor": 0
      },
      "text/plain": [
       "  0%|          | 0/4 [00:00<?, ?it/s]"
      ]
     },
     "metadata": {},
     "output_type": "display_data"
    },
    {
     "name": "stderr",
     "output_type": "stream",
     "text": [
      "11:54:12 - cmdstanpy - INFO - Chain [1] start processing\n",
      "11:54:12 - cmdstanpy - INFO - Chain [1] done processing\n",
      "11:54:13 - cmdstanpy - INFO - Chain [1] start processing\n",
      "11:54:13 - cmdstanpy - INFO - Chain [1] done processing\n",
      "11:54:14 - cmdstanpy - INFO - Chain [1] start processing\n",
      "11:54:14 - cmdstanpy - INFO - Chain [1] done processing\n",
      "11:54:14 - cmdstanpy - INFO - Chain [1] start processing\n",
      "11:54:14 - cmdstanpy - INFO - Chain [1] done processing\n",
      "11:54:15 - cmdstanpy - INFO - Chain [1] start processing\n",
      "11:54:15 - cmdstanpy - INFO - Chain [1] done processing\n"
     ]
    },
    {
     "data": {
      "application/vnd.jupyter.widget-view+json": {
       "model_id": "b0ba8bb4e6d34310baa0c098b73b5563",
       "version_major": 2,
       "version_minor": 0
      },
      "text/plain": [
       "  0%|          | 0/4 [00:00<?, ?it/s]"
      ]
     },
     "metadata": {},
     "output_type": "display_data"
    },
    {
     "name": "stderr",
     "output_type": "stream",
     "text": [
      "11:54:15 - cmdstanpy - INFO - Chain [1] start processing\n",
      "11:54:15 - cmdstanpy - INFO - Chain [1] done processing\n",
      "11:54:16 - cmdstanpy - INFO - Chain [1] start processing\n",
      "11:54:16 - cmdstanpy - INFO - Chain [1] done processing\n",
      "11:54:17 - cmdstanpy - INFO - Chain [1] start processing\n",
      "11:54:17 - cmdstanpy - INFO - Chain [1] done processing\n",
      "11:54:17 - cmdstanpy - INFO - Chain [1] start processing\n",
      "11:54:17 - cmdstanpy - INFO - Chain [1] done processing\n",
      "11:54:18 - cmdstanpy - INFO - Chain [1] start processing\n",
      "11:54:18 - cmdstanpy - INFO - Chain [1] done processing\n"
     ]
    },
    {
     "data": {
      "application/vnd.jupyter.widget-view+json": {
       "model_id": "59c711bfc4e74ef5890801cad83bfbc9",
       "version_major": 2,
       "version_minor": 0
      },
      "text/plain": [
       "  0%|          | 0/4 [00:00<?, ?it/s]"
      ]
     },
     "metadata": {},
     "output_type": "display_data"
    },
    {
     "name": "stderr",
     "output_type": "stream",
     "text": [
      "11:54:18 - cmdstanpy - INFO - Chain [1] start processing\n",
      "11:54:18 - cmdstanpy - INFO - Chain [1] done processing\n",
      "11:54:19 - cmdstanpy - INFO - Chain [1] start processing\n",
      "11:54:19 - cmdstanpy - INFO - Chain [1] done processing\n",
      "11:54:20 - cmdstanpy - INFO - Chain [1] start processing\n",
      "11:54:20 - cmdstanpy - INFO - Chain [1] done processing\n",
      "11:54:20 - cmdstanpy - INFO - Chain [1] start processing\n",
      "11:54:20 - cmdstanpy - INFO - Chain [1] done processing\n",
      "11:54:21 - cmdstanpy - INFO - Chain [1] start processing\n",
      "11:54:21 - cmdstanpy - INFO - Chain [1] done processing\n"
     ]
    },
    {
     "data": {
      "application/vnd.jupyter.widget-view+json": {
       "model_id": "9215b3171cca400aba1de00d70bf4686",
       "version_major": 2,
       "version_minor": 0
      },
      "text/plain": [
       "  0%|          | 0/4 [00:00<?, ?it/s]"
      ]
     },
     "metadata": {},
     "output_type": "display_data"
    },
    {
     "name": "stderr",
     "output_type": "stream",
     "text": [
      "11:54:21 - cmdstanpy - INFO - Chain [1] start processing\n",
      "11:54:21 - cmdstanpy - INFO - Chain [1] done processing\n",
      "11:54:22 - cmdstanpy - INFO - Chain [1] start processing\n",
      "11:54:22 - cmdstanpy - INFO - Chain [1] done processing\n",
      "11:54:23 - cmdstanpy - INFO - Chain [1] start processing\n",
      "11:54:23 - cmdstanpy - INFO - Chain [1] done processing\n",
      "11:54:23 - cmdstanpy - INFO - Chain [1] start processing\n",
      "11:54:23 - cmdstanpy - INFO - Chain [1] done processing\n",
      "11:54:24 - cmdstanpy - INFO - Chain [1] start processing\n",
      "11:54:24 - cmdstanpy - INFO - Chain [1] done processing\n"
     ]
    },
    {
     "data": {
      "application/vnd.jupyter.widget-view+json": {
       "model_id": "5d346e0200a74f578914e26cc128c121",
       "version_major": 2,
       "version_minor": 0
      },
      "text/plain": [
       "  0%|          | 0/4 [00:00<?, ?it/s]"
      ]
     },
     "metadata": {},
     "output_type": "display_data"
    },
    {
     "name": "stderr",
     "output_type": "stream",
     "text": [
      "11:54:24 - cmdstanpy - INFO - Chain [1] start processing\n",
      "11:54:25 - cmdstanpy - INFO - Chain [1] done processing\n",
      "11:54:25 - cmdstanpy - INFO - Chain [1] start processing\n",
      "11:54:25 - cmdstanpy - INFO - Chain [1] done processing\n",
      "11:54:26 - cmdstanpy - INFO - Chain [1] start processing\n",
      "11:54:26 - cmdstanpy - INFO - Chain [1] done processing\n",
      "11:54:27 - cmdstanpy - INFO - Chain [1] start processing\n",
      "11:54:27 - cmdstanpy - INFO - Chain [1] done processing\n",
      "11:54:27 - cmdstanpy - INFO - Chain [1] start processing\n",
      "11:54:28 - cmdstanpy - INFO - Chain [1] done processing\n"
     ]
    },
    {
     "data": {
      "application/vnd.jupyter.widget-view+json": {
       "model_id": "ae76c4dc7e9f425199cde5a3a266ab83",
       "version_major": 2,
       "version_minor": 0
      },
      "text/plain": [
       "  0%|          | 0/4 [00:00<?, ?it/s]"
      ]
     },
     "metadata": {},
     "output_type": "display_data"
    },
    {
     "name": "stderr",
     "output_type": "stream",
     "text": [
      "11:54:28 - cmdstanpy - INFO - Chain [1] start processing\n",
      "11:54:28 - cmdstanpy - INFO - Chain [1] done processing\n",
      "11:54:29 - cmdstanpy - INFO - Chain [1] start processing\n",
      "11:54:29 - cmdstanpy - INFO - Chain [1] done processing\n",
      "11:54:29 - cmdstanpy - INFO - Chain [1] start processing\n",
      "11:54:29 - cmdstanpy - INFO - Chain [1] done processing\n",
      "11:54:30 - cmdstanpy - INFO - Chain [1] start processing\n",
      "11:54:30 - cmdstanpy - INFO - Chain [1] done processing\n",
      "11:54:31 - cmdstanpy - INFO - Chain [1] start processing\n",
      "11:54:31 - cmdstanpy - INFO - Chain [1] done processing\n"
     ]
    },
    {
     "data": {
      "application/vnd.jupyter.widget-view+json": {
       "model_id": "925a70f4f98d45c193ecfeb555aff80e",
       "version_major": 2,
       "version_minor": 0
      },
      "text/plain": [
       "  0%|          | 0/4 [00:00<?, ?it/s]"
      ]
     },
     "metadata": {},
     "output_type": "display_data"
    },
    {
     "name": "stderr",
     "output_type": "stream",
     "text": [
      "11:54:31 - cmdstanpy - INFO - Chain [1] start processing\n",
      "11:54:31 - cmdstanpy - INFO - Chain [1] done processing\n",
      "11:54:32 - cmdstanpy - INFO - Chain [1] start processing\n",
      "11:54:32 - cmdstanpy - INFO - Chain [1] done processing\n",
      "11:54:33 - cmdstanpy - INFO - Chain [1] start processing\n",
      "11:54:33 - cmdstanpy - INFO - Chain [1] done processing\n",
      "11:54:33 - cmdstanpy - INFO - Chain [1] start processing\n",
      "11:54:34 - cmdstanpy - INFO - Chain [1] done processing\n",
      "11:54:34 - cmdstanpy - INFO - Chain [1] start processing\n",
      "11:54:34 - cmdstanpy - INFO - Chain [1] done processing\n"
     ]
    },
    {
     "data": {
      "application/vnd.jupyter.widget-view+json": {
       "model_id": "6aebcf8ecdb6471a9d87ffa558aa4f01",
       "version_major": 2,
       "version_minor": 0
      },
      "text/plain": [
       "  0%|          | 0/4 [00:00<?, ?it/s]"
      ]
     },
     "metadata": {},
     "output_type": "display_data"
    },
    {
     "name": "stderr",
     "output_type": "stream",
     "text": [
      "11:54:34 - cmdstanpy - INFO - Chain [1] start processing\n",
      "11:54:35 - cmdstanpy - INFO - Chain [1] done processing\n",
      "11:54:35 - cmdstanpy - INFO - Chain [1] start processing\n",
      "11:54:35 - cmdstanpy - INFO - Chain [1] done processing\n",
      "11:54:36 - cmdstanpy - INFO - Chain [1] start processing\n",
      "11:54:36 - cmdstanpy - INFO - Chain [1] done processing\n",
      "11:54:37 - cmdstanpy - INFO - Chain [1] start processing\n",
      "11:54:37 - cmdstanpy - INFO - Chain [1] done processing\n",
      "11:54:38 - cmdstanpy - INFO - Chain [1] start processing\n",
      "11:54:38 - cmdstanpy - INFO - Chain [1] done processing\n"
     ]
    },
    {
     "data": {
      "application/vnd.jupyter.widget-view+json": {
       "model_id": "5a640ea992fc45c88a943ebec88cb840",
       "version_major": 2,
       "version_minor": 0
      },
      "text/plain": [
       "  0%|          | 0/4 [00:00<?, ?it/s]"
      ]
     },
     "metadata": {},
     "output_type": "display_data"
    },
    {
     "name": "stderr",
     "output_type": "stream",
     "text": [
      "11:54:38 - cmdstanpy - INFO - Chain [1] start processing\n",
      "11:54:38 - cmdstanpy - INFO - Chain [1] done processing\n",
      "11:54:39 - cmdstanpy - INFO - Chain [1] start processing\n",
      "11:54:39 - cmdstanpy - INFO - Chain [1] done processing\n",
      "11:54:39 - cmdstanpy - INFO - Chain [1] start processing\n",
      "11:54:40 - cmdstanpy - INFO - Chain [1] done processing\n",
      "11:54:40 - cmdstanpy - INFO - Chain [1] start processing\n",
      "11:54:40 - cmdstanpy - INFO - Chain [1] done processing\n",
      "11:54:41 - cmdstanpy - INFO - Chain [1] start processing\n",
      "11:54:41 - cmdstanpy - INFO - Chain [1] done processing\n"
     ]
    },
    {
     "data": {
      "application/vnd.jupyter.widget-view+json": {
       "model_id": "32f62c85e9ba4f84955e193a60f23c4e",
       "version_major": 2,
       "version_minor": 0
      },
      "text/plain": [
       "  0%|          | 0/4 [00:00<?, ?it/s]"
      ]
     },
     "metadata": {},
     "output_type": "display_data"
    },
    {
     "name": "stderr",
     "output_type": "stream",
     "text": [
      "11:54:41 - cmdstanpy - INFO - Chain [1] start processing\n",
      "11:54:42 - cmdstanpy - INFO - Chain [1] done processing\n",
      "11:54:42 - cmdstanpy - INFO - Chain [1] start processing\n",
      "11:54:42 - cmdstanpy - INFO - Chain [1] done processing\n",
      "11:54:43 - cmdstanpy - INFO - Chain [1] start processing\n",
      "11:54:43 - cmdstanpy - INFO - Chain [1] done processing\n",
      "11:54:44 - cmdstanpy - INFO - Chain [1] start processing\n",
      "11:54:44 - cmdstanpy - INFO - Chain [1] done processing\n",
      "11:54:44 - cmdstanpy - INFO - Chain [1] start processing\n",
      "11:54:45 - cmdstanpy - INFO - Chain [1] done processing\n"
     ]
    },
    {
     "data": {
      "application/vnd.jupyter.widget-view+json": {
       "model_id": "922c76a87a9b4610ad6fcdeb2b44bb27",
       "version_major": 2,
       "version_minor": 0
      },
      "text/plain": [
       "  0%|          | 0/4 [00:00<?, ?it/s]"
      ]
     },
     "metadata": {},
     "output_type": "display_data"
    },
    {
     "name": "stderr",
     "output_type": "stream",
     "text": [
      "11:54:45 - cmdstanpy - INFO - Chain [1] start processing\n",
      "11:54:45 - cmdstanpy - INFO - Chain [1] done processing\n",
      "11:54:46 - cmdstanpy - INFO - Chain [1] start processing\n",
      "11:54:46 - cmdstanpy - INFO - Chain [1] done processing\n",
      "11:54:46 - cmdstanpy - INFO - Chain [1] start processing\n",
      "11:54:46 - cmdstanpy - INFO - Chain [1] done processing\n",
      "11:54:47 - cmdstanpy - INFO - Chain [1] start processing\n",
      "11:54:47 - cmdstanpy - INFO - Chain [1] done processing\n",
      "11:54:48 - cmdstanpy - INFO - Chain [1] start processing\n",
      "11:54:48 - cmdstanpy - INFO - Chain [1] done processing\n"
     ]
    },
    {
     "data": {
      "application/vnd.jupyter.widget-view+json": {
       "model_id": "6b22361cd5db4e2ca1cedabf146c3d0e",
       "version_major": 2,
       "version_minor": 0
      },
      "text/plain": [
       "  0%|          | 0/4 [00:00<?, ?it/s]"
      ]
     },
     "metadata": {},
     "output_type": "display_data"
    },
    {
     "name": "stderr",
     "output_type": "stream",
     "text": [
      "11:54:48 - cmdstanpy - INFO - Chain [1] start processing\n",
      "11:54:48 - cmdstanpy - INFO - Chain [1] done processing\n",
      "11:54:49 - cmdstanpy - INFO - Chain [1] start processing\n",
      "11:54:49 - cmdstanpy - INFO - Chain [1] done processing\n",
      "11:54:50 - cmdstanpy - INFO - Chain [1] start processing\n",
      "11:54:50 - cmdstanpy - INFO - Chain [1] done processing\n",
      "11:54:50 - cmdstanpy - INFO - Chain [1] start processing\n",
      "11:54:50 - cmdstanpy - INFO - Chain [1] done processing\n",
      "11:54:51 - cmdstanpy - INFO - Chain [1] start processing\n",
      "11:54:51 - cmdstanpy - INFO - Chain [1] done processing\n"
     ]
    },
    {
     "data": {
      "application/vnd.jupyter.widget-view+json": {
       "model_id": "6319447903ec4f3ea39b6866c89bfd5c",
       "version_major": 2,
       "version_minor": 0
      },
      "text/plain": [
       "  0%|          | 0/4 [00:00<?, ?it/s]"
      ]
     },
     "metadata": {},
     "output_type": "display_data"
    },
    {
     "name": "stderr",
     "output_type": "stream",
     "text": [
      "11:54:51 - cmdstanpy - INFO - Chain [1] start processing\n",
      "11:54:52 - cmdstanpy - INFO - Chain [1] done processing\n",
      "11:54:52 - cmdstanpy - INFO - Chain [1] start processing\n",
      "11:54:52 - cmdstanpy - INFO - Chain [1] done processing\n",
      "11:54:53 - cmdstanpy - INFO - Chain [1] start processing\n",
      "11:54:53 - cmdstanpy - INFO - Chain [1] done processing\n",
      "11:54:54 - cmdstanpy - INFO - Chain [1] start processing\n",
      "11:54:54 - cmdstanpy - INFO - Chain [1] done processing\n",
      "11:54:54 - cmdstanpy - INFO - Chain [1] start processing\n",
      "11:54:55 - cmdstanpy - INFO - Chain [1] done processing\n"
     ]
    },
    {
     "data": {
      "application/vnd.jupyter.widget-view+json": {
       "model_id": "c96863e69c544dc0815c462deca32853",
       "version_major": 2,
       "version_minor": 0
      },
      "text/plain": [
       "  0%|          | 0/4 [00:00<?, ?it/s]"
      ]
     },
     "metadata": {},
     "output_type": "display_data"
    },
    {
     "name": "stderr",
     "output_type": "stream",
     "text": [
      "11:54:55 - cmdstanpy - INFO - Chain [1] start processing\n",
      "11:54:55 - cmdstanpy - INFO - Chain [1] done processing\n",
      "11:54:56 - cmdstanpy - INFO - Chain [1] start processing\n",
      "11:54:56 - cmdstanpy - INFO - Chain [1] done processing\n",
      "11:54:56 - cmdstanpy - INFO - Chain [1] start processing\n",
      "11:54:56 - cmdstanpy - INFO - Chain [1] done processing\n",
      "11:54:57 - cmdstanpy - INFO - Chain [1] start processing\n",
      "11:54:57 - cmdstanpy - INFO - Chain [1] done processing\n",
      "11:54:58 - cmdstanpy - INFO - Chain [1] start processing\n",
      "11:54:58 - cmdstanpy - INFO - Chain [1] done processing\n"
     ]
    },
    {
     "data": {
      "application/vnd.jupyter.widget-view+json": {
       "model_id": "71cc7dc8eb904023a1ce59a536aac0bf",
       "version_major": 2,
       "version_minor": 0
      },
      "text/plain": [
       "  0%|          | 0/4 [00:00<?, ?it/s]"
      ]
     },
     "metadata": {},
     "output_type": "display_data"
    },
    {
     "name": "stderr",
     "output_type": "stream",
     "text": [
      "11:54:58 - cmdstanpy - INFO - Chain [1] start processing\n",
      "11:54:58 - cmdstanpy - INFO - Chain [1] done processing\n",
      "11:54:59 - cmdstanpy - INFO - Chain [1] start processing\n",
      "11:54:59 - cmdstanpy - INFO - Chain [1] done processing\n",
      "11:55:00 - cmdstanpy - INFO - Chain [1] start processing\n",
      "11:55:00 - cmdstanpy - INFO - Chain [1] done processing\n",
      "11:55:00 - cmdstanpy - INFO - Chain [1] start processing\n",
      "11:55:01 - cmdstanpy - INFO - Chain [1] done processing\n",
      "11:55:01 - cmdstanpy - INFO - Chain [1] start processing\n",
      "11:55:01 - cmdstanpy - INFO - Chain [1] done processing\n"
     ]
    },
    {
     "data": {
      "application/vnd.jupyter.widget-view+json": {
       "model_id": "2fcc216c641c4871a313bbb948fcedb8",
       "version_major": 2,
       "version_minor": 0
      },
      "text/plain": [
       "  0%|          | 0/4 [00:00<?, ?it/s]"
      ]
     },
     "metadata": {},
     "output_type": "display_data"
    },
    {
     "name": "stderr",
     "output_type": "stream",
     "text": [
      "11:55:01 - cmdstanpy - INFO - Chain [1] start processing\n",
      "11:55:02 - cmdstanpy - INFO - Chain [1] done processing\n",
      "11:55:02 - cmdstanpy - INFO - Chain [1] start processing\n",
      "11:55:02 - cmdstanpy - INFO - Chain [1] done processing\n",
      "11:55:03 - cmdstanpy - INFO - Chain [1] start processing\n",
      "11:55:03 - cmdstanpy - INFO - Chain [1] done processing\n",
      "11:55:04 - cmdstanpy - INFO - Chain [1] start processing\n",
      "11:55:04 - cmdstanpy - INFO - Chain [1] done processing\n",
      "11:55:05 - cmdstanpy - INFO - Chain [1] start processing\n",
      "11:55:05 - cmdstanpy - INFO - Chain [1] done processing\n"
     ]
    },
    {
     "data": {
      "application/vnd.jupyter.widget-view+json": {
       "model_id": "d6d007ba94f943b6869375db9a9921c3",
       "version_major": 2,
       "version_minor": 0
      },
      "text/plain": [
       "  0%|          | 0/4 [00:00<?, ?it/s]"
      ]
     },
     "metadata": {},
     "output_type": "display_data"
    },
    {
     "name": "stderr",
     "output_type": "stream",
     "text": [
      "11:55:05 - cmdstanpy - INFO - Chain [1] start processing\n",
      "11:55:05 - cmdstanpy - INFO - Chain [1] done processing\n",
      "11:55:06 - cmdstanpy - INFO - Chain [1] start processing\n",
      "11:55:06 - cmdstanpy - INFO - Chain [1] done processing\n",
      "11:55:06 - cmdstanpy - INFO - Chain [1] start processing\n",
      "11:55:07 - cmdstanpy - INFO - Chain [1] done processing\n",
      "11:55:07 - cmdstanpy - INFO - Chain [1] start processing\n",
      "11:55:07 - cmdstanpy - INFO - Chain [1] done processing\n",
      "11:55:08 - cmdstanpy - INFO - Chain [1] start processing\n",
      "11:55:08 - cmdstanpy - INFO - Chain [1] done processing\n"
     ]
    },
    {
     "data": {
      "application/vnd.jupyter.widget-view+json": {
       "model_id": "e1c9c1e0acb94bccacdae836cd75ee18",
       "version_major": 2,
       "version_minor": 0
      },
      "text/plain": [
       "  0%|          | 0/4 [00:00<?, ?it/s]"
      ]
     },
     "metadata": {},
     "output_type": "display_data"
    },
    {
     "name": "stderr",
     "output_type": "stream",
     "text": [
      "11:55:08 - cmdstanpy - INFO - Chain [1] start processing\n",
      "11:55:09 - cmdstanpy - INFO - Chain [1] done processing\n",
      "11:55:09 - cmdstanpy - INFO - Chain [1] start processing\n",
      "11:55:09 - cmdstanpy - INFO - Chain [1] done processing\n",
      "11:55:10 - cmdstanpy - INFO - Chain [1] start processing\n",
      "11:55:10 - cmdstanpy - INFO - Chain [1] done processing\n",
      "11:55:11 - cmdstanpy - INFO - Chain [1] start processing\n",
      "11:55:11 - cmdstanpy - INFO - Chain [1] done processing\n",
      "11:55:11 - cmdstanpy - INFO - Chain [1] start processing\n",
      "11:55:12 - cmdstanpy - INFO - Chain [1] done processing\n"
     ]
    },
    {
     "data": {
      "application/vnd.jupyter.widget-view+json": {
       "model_id": "14710824c4e7417d8c3e7361d25d41b8",
       "version_major": 2,
       "version_minor": 0
      },
      "text/plain": [
       "  0%|          | 0/4 [00:00<?, ?it/s]"
      ]
     },
     "metadata": {},
     "output_type": "display_data"
    },
    {
     "name": "stderr",
     "output_type": "stream",
     "text": [
      "11:55:12 - cmdstanpy - INFO - Chain [1] start processing\n",
      "11:55:12 - cmdstanpy - INFO - Chain [1] done processing\n",
      "11:55:13 - cmdstanpy - INFO - Chain [1] start processing\n",
      "11:55:13 - cmdstanpy - INFO - Chain [1] done processing\n",
      "11:55:13 - cmdstanpy - INFO - Chain [1] start processing\n",
      "11:55:13 - cmdstanpy - INFO - Chain [1] done processing\n",
      "11:55:14 - cmdstanpy - INFO - Chain [1] start processing\n",
      "11:55:14 - cmdstanpy - INFO - Chain [1] done processing\n",
      "11:55:15 - cmdstanpy - INFO - Chain [1] start processing\n",
      "11:55:15 - cmdstanpy - INFO - Chain [1] done processing\n"
     ]
    },
    {
     "data": {
      "application/vnd.jupyter.widget-view+json": {
       "model_id": "7c67afecd9c74f21a6c80f84255caadf",
       "version_major": 2,
       "version_minor": 0
      },
      "text/plain": [
       "  0%|          | 0/4 [00:00<?, ?it/s]"
      ]
     },
     "metadata": {},
     "output_type": "display_data"
    },
    {
     "name": "stderr",
     "output_type": "stream",
     "text": [
      "11:55:15 - cmdstanpy - INFO - Chain [1] start processing\n",
      "11:55:15 - cmdstanpy - INFO - Chain [1] done processing\n",
      "11:55:16 - cmdstanpy - INFO - Chain [1] start processing\n",
      "11:55:16 - cmdstanpy - INFO - Chain [1] done processing\n",
      "11:55:17 - cmdstanpy - INFO - Chain [1] start processing\n",
      "11:55:17 - cmdstanpy - INFO - Chain [1] done processing\n",
      "11:55:17 - cmdstanpy - INFO - Chain [1] start processing\n",
      "11:55:18 - cmdstanpy - INFO - Chain [1] done processing\n",
      "11:55:18 - cmdstanpy - INFO - Chain [1] start processing\n",
      "11:55:18 - cmdstanpy - INFO - Chain [1] done processing\n"
     ]
    },
    {
     "data": {
      "application/vnd.jupyter.widget-view+json": {
       "model_id": "39962ee8fc7e4951a7b3689707131795",
       "version_major": 2,
       "version_minor": 0
      },
      "text/plain": [
       "  0%|          | 0/4 [00:00<?, ?it/s]"
      ]
     },
     "metadata": {},
     "output_type": "display_data"
    },
    {
     "name": "stderr",
     "output_type": "stream",
     "text": [
      "11:55:18 - cmdstanpy - INFO - Chain [1] start processing\n",
      "11:55:19 - cmdstanpy - INFO - Chain [1] done processing\n",
      "11:55:19 - cmdstanpy - INFO - Chain [1] start processing\n",
      "11:55:20 - cmdstanpy - INFO - Chain [1] done processing\n",
      "11:55:20 - cmdstanpy - INFO - Chain [1] start processing\n",
      "11:55:20 - cmdstanpy - INFO - Chain [1] done processing\n",
      "11:55:21 - cmdstanpy - INFO - Chain [1] start processing\n",
      "11:55:21 - cmdstanpy - INFO - Chain [1] done processing\n",
      "11:55:22 - cmdstanpy - INFO - Chain [1] start processing\n",
      "11:55:22 - cmdstanpy - INFO - Chain [1] done processing\n"
     ]
    },
    {
     "data": {
      "application/vnd.jupyter.widget-view+json": {
       "model_id": "b9f873ed18b644299f55e8702f0c0e1e",
       "version_major": 2,
       "version_minor": 0
      },
      "text/plain": [
       "  0%|          | 0/4 [00:00<?, ?it/s]"
      ]
     },
     "metadata": {},
     "output_type": "display_data"
    },
    {
     "name": "stderr",
     "output_type": "stream",
     "text": [
      "11:55:22 - cmdstanpy - INFO - Chain [1] start processing\n",
      "11:55:22 - cmdstanpy - INFO - Chain [1] done processing\n",
      "11:55:23 - cmdstanpy - INFO - Chain [1] start processing\n",
      "11:55:23 - cmdstanpy - INFO - Chain [1] done processing\n",
      "11:55:24 - cmdstanpy - INFO - Chain [1] start processing\n",
      "11:55:24 - cmdstanpy - INFO - Chain [1] done processing\n",
      "11:55:24 - cmdstanpy - INFO - Chain [1] start processing\n",
      "11:55:25 - cmdstanpy - INFO - Chain [1] done processing\n",
      "11:55:25 - cmdstanpy - INFO - Chain [1] start processing\n",
      "11:55:25 - cmdstanpy - INFO - Chain [1] done processing\n"
     ]
    },
    {
     "data": {
      "application/vnd.jupyter.widget-view+json": {
       "model_id": "00d8e0fee0ae4e9a99e3bc07c4990adc",
       "version_major": 2,
       "version_minor": 0
      },
      "text/plain": [
       "  0%|          | 0/4 [00:00<?, ?it/s]"
      ]
     },
     "metadata": {},
     "output_type": "display_data"
    },
    {
     "name": "stderr",
     "output_type": "stream",
     "text": [
      "11:55:25 - cmdstanpy - INFO - Chain [1] start processing\n",
      "11:55:26 - cmdstanpy - INFO - Chain [1] done processing\n",
      "11:55:26 - cmdstanpy - INFO - Chain [1] start processing\n",
      "11:55:26 - cmdstanpy - INFO - Chain [1] done processing\n",
      "11:55:27 - cmdstanpy - INFO - Chain [1] start processing\n",
      "11:55:27 - cmdstanpy - INFO - Chain [1] done processing\n",
      "11:55:28 - cmdstanpy - INFO - Chain [1] start processing\n",
      "11:55:28 - cmdstanpy - INFO - Chain [1] done processing\n",
      "11:55:29 - cmdstanpy - INFO - Chain [1] start processing\n",
      "11:55:29 - cmdstanpy - INFO - Chain [1] done processing\n"
     ]
    },
    {
     "data": {
      "application/vnd.jupyter.widget-view+json": {
       "model_id": "8cbdab7790a146518f926857e38ef441",
       "version_major": 2,
       "version_minor": 0
      },
      "text/plain": [
       "  0%|          | 0/4 [00:00<?, ?it/s]"
      ]
     },
     "metadata": {},
     "output_type": "display_data"
    },
    {
     "name": "stderr",
     "output_type": "stream",
     "text": [
      "11:55:29 - cmdstanpy - INFO - Chain [1] start processing\n",
      "11:55:29 - cmdstanpy - INFO - Chain [1] done processing\n",
      "11:55:30 - cmdstanpy - INFO - Chain [1] start processing\n",
      "11:55:30 - cmdstanpy - INFO - Chain [1] done processing\n",
      "11:55:31 - cmdstanpy - INFO - Chain [1] start processing\n",
      "11:55:31 - cmdstanpy - INFO - Chain [1] done processing\n",
      "11:55:31 - cmdstanpy - INFO - Chain [1] start processing\n",
      "11:55:31 - cmdstanpy - INFO - Chain [1] done processing\n",
      "11:55:32 - cmdstanpy - INFO - Chain [1] start processing\n",
      "11:55:32 - cmdstanpy - INFO - Chain [1] done processing\n"
     ]
    },
    {
     "data": {
      "application/vnd.jupyter.widget-view+json": {
       "model_id": "1203299b58b246429de46f16f8f657f8",
       "version_major": 2,
       "version_minor": 0
      },
      "text/plain": [
       "  0%|          | 0/4 [00:00<?, ?it/s]"
      ]
     },
     "metadata": {},
     "output_type": "display_data"
    },
    {
     "name": "stderr",
     "output_type": "stream",
     "text": [
      "11:55:32 - cmdstanpy - INFO - Chain [1] start processing\n",
      "11:55:32 - cmdstanpy - INFO - Chain [1] done processing\n",
      "11:55:33 - cmdstanpy - INFO - Chain [1] start processing\n",
      "11:55:33 - cmdstanpy - INFO - Chain [1] done processing\n",
      "11:55:34 - cmdstanpy - INFO - Chain [1] start processing\n",
      "11:55:34 - cmdstanpy - INFO - Chain [1] done processing\n",
      "11:55:35 - cmdstanpy - INFO - Chain [1] start processing\n",
      "11:55:35 - cmdstanpy - INFO - Chain [1] done processing\n",
      "11:55:35 - cmdstanpy - INFO - Chain [1] start processing\n",
      "11:55:36 - cmdstanpy - INFO - Chain [1] done processing\n"
     ]
    },
    {
     "data": {
      "application/vnd.jupyter.widget-view+json": {
       "model_id": "accfe23e591c435388f45e920d8151b4",
       "version_major": 2,
       "version_minor": 0
      },
      "text/plain": [
       "  0%|          | 0/4 [00:00<?, ?it/s]"
      ]
     },
     "metadata": {},
     "output_type": "display_data"
    },
    {
     "name": "stderr",
     "output_type": "stream",
     "text": [
      "11:55:36 - cmdstanpy - INFO - Chain [1] start processing\n",
      "11:55:36 - cmdstanpy - INFO - Chain [1] done processing\n",
      "11:55:36 - cmdstanpy - INFO - Chain [1] start processing\n",
      "11:55:37 - cmdstanpy - INFO - Chain [1] done processing\n",
      "11:55:37 - cmdstanpy - INFO - Chain [1] start processing\n",
      "11:55:37 - cmdstanpy - INFO - Chain [1] done processing\n",
      "11:55:38 - cmdstanpy - INFO - Chain [1] start processing\n",
      "11:55:38 - cmdstanpy - INFO - Chain [1] done processing\n",
      "11:55:39 - cmdstanpy - INFO - Chain [1] start processing\n",
      "11:55:39 - cmdstanpy - INFO - Chain [1] done processing\n"
     ]
    },
    {
     "data": {
      "application/vnd.jupyter.widget-view+json": {
       "model_id": "5b2eae2a15a74d4c906e16d63a361afa",
       "version_major": 2,
       "version_minor": 0
      },
      "text/plain": [
       "  0%|          | 0/4 [00:00<?, ?it/s]"
      ]
     },
     "metadata": {},
     "output_type": "display_data"
    },
    {
     "name": "stderr",
     "output_type": "stream",
     "text": [
      "11:55:39 - cmdstanpy - INFO - Chain [1] start processing\n",
      "11:55:39 - cmdstanpy - INFO - Chain [1] done processing\n",
      "11:55:40 - cmdstanpy - INFO - Chain [1] start processing\n",
      "11:55:40 - cmdstanpy - INFO - Chain [1] done processing\n",
      "11:55:41 - cmdstanpy - INFO - Chain [1] start processing\n",
      "11:55:41 - cmdstanpy - INFO - Chain [1] done processing\n",
      "11:55:41 - cmdstanpy - INFO - Chain [1] start processing\n",
      "11:55:41 - cmdstanpy - INFO - Chain [1] done processing\n",
      "11:55:42 - cmdstanpy - INFO - Chain [1] start processing\n",
      "11:55:42 - cmdstanpy - INFO - Chain [1] done processing\n"
     ]
    },
    {
     "data": {
      "application/vnd.jupyter.widget-view+json": {
       "model_id": "318046eda67446df82062b1322d2f560",
       "version_major": 2,
       "version_minor": 0
      },
      "text/plain": [
       "  0%|          | 0/4 [00:00<?, ?it/s]"
      ]
     },
     "metadata": {},
     "output_type": "display_data"
    },
    {
     "name": "stderr",
     "output_type": "stream",
     "text": [
      "11:55:42 - cmdstanpy - INFO - Chain [1] start processing\n",
      "11:55:43 - cmdstanpy - INFO - Chain [1] done processing\n",
      "11:55:43 - cmdstanpy - INFO - Chain [1] start processing\n",
      "11:55:44 - cmdstanpy - INFO - Chain [1] done processing\n",
      "11:55:44 - cmdstanpy - INFO - Chain [1] start processing\n",
      "11:55:44 - cmdstanpy - INFO - Chain [1] done processing\n",
      "11:55:45 - cmdstanpy - INFO - Chain [1] start processing\n",
      "11:55:45 - cmdstanpy - INFO - Chain [1] done processing\n",
      "11:55:46 - cmdstanpy - INFO - Chain [1] start processing\n",
      "11:55:47 - cmdstanpy - INFO - Chain [1] done processing\n"
     ]
    },
    {
     "data": {
      "application/vnd.jupyter.widget-view+json": {
       "model_id": "0a2f568f25454bf9baae22ec853e5b78",
       "version_major": 2,
       "version_minor": 0
      },
      "text/plain": [
       "  0%|          | 0/4 [00:00<?, ?it/s]"
      ]
     },
     "metadata": {},
     "output_type": "display_data"
    },
    {
     "name": "stderr",
     "output_type": "stream",
     "text": [
      "11:55:47 - cmdstanpy - INFO - Chain [1] start processing\n",
      "11:55:47 - cmdstanpy - INFO - Chain [1] done processing\n",
      "11:55:48 - cmdstanpy - INFO - Chain [1] start processing\n",
      "11:55:48 - cmdstanpy - INFO - Chain [1] done processing\n",
      "11:55:48 - cmdstanpy - INFO - Chain [1] start processing\n",
      "11:55:49 - cmdstanpy - INFO - Chain [1] done processing\n",
      "11:55:49 - cmdstanpy - INFO - Chain [1] start processing\n",
      "11:55:49 - cmdstanpy - INFO - Chain [1] done processing\n",
      "11:55:50 - cmdstanpy - INFO - Chain [1] start processing\n",
      "11:55:50 - cmdstanpy - INFO - Chain [1] done processing\n"
     ]
    },
    {
     "data": {
      "application/vnd.jupyter.widget-view+json": {
       "model_id": "e3906a92e61d4c608c0ef8e69e7557a6",
       "version_major": 2,
       "version_minor": 0
      },
      "text/plain": [
       "  0%|          | 0/4 [00:00<?, ?it/s]"
      ]
     },
     "metadata": {},
     "output_type": "display_data"
    },
    {
     "name": "stderr",
     "output_type": "stream",
     "text": [
      "11:55:50 - cmdstanpy - INFO - Chain [1] start processing\n",
      "11:55:50 - cmdstanpy - INFO - Chain [1] done processing\n",
      "11:55:51 - cmdstanpy - INFO - Chain [1] start processing\n",
      "11:55:51 - cmdstanpy - INFO - Chain [1] done processing\n",
      "11:55:52 - cmdstanpy - INFO - Chain [1] start processing\n",
      "11:55:52 - cmdstanpy - INFO - Chain [1] done processing\n",
      "11:55:52 - cmdstanpy - INFO - Chain [1] start processing\n",
      "11:55:52 - cmdstanpy - INFO - Chain [1] done processing\n",
      "11:55:53 - cmdstanpy - INFO - Chain [1] start processing\n",
      "11:55:53 - cmdstanpy - INFO - Chain [1] done processing\n"
     ]
    },
    {
     "data": {
      "application/vnd.jupyter.widget-view+json": {
       "model_id": "20f87bc1f85d42829bcad6fbf264e7a3",
       "version_major": 2,
       "version_minor": 0
      },
      "text/plain": [
       "  0%|          | 0/4 [00:00<?, ?it/s]"
      ]
     },
     "metadata": {},
     "output_type": "display_data"
    },
    {
     "name": "stderr",
     "output_type": "stream",
     "text": [
      "11:55:53 - cmdstanpy - INFO - Chain [1] start processing\n",
      "11:55:53 - cmdstanpy - INFO - Chain [1] done processing\n",
      "11:55:54 - cmdstanpy - INFO - Chain [1] start processing\n",
      "11:55:54 - cmdstanpy - INFO - Chain [1] done processing\n",
      "11:55:55 - cmdstanpy - INFO - Chain [1] start processing\n",
      "11:55:55 - cmdstanpy - INFO - Chain [1] done processing\n",
      "11:55:56 - cmdstanpy - INFO - Chain [1] start processing\n",
      "11:55:56 - cmdstanpy - INFO - Chain [1] done processing\n",
      "11:55:56 - cmdstanpy - INFO - Chain [1] start processing\n",
      "11:55:56 - cmdstanpy - INFO - Chain [1] done processing\n"
     ]
    },
    {
     "data": {
      "application/vnd.jupyter.widget-view+json": {
       "model_id": "a51bdc9d69124494934b5bc4052a3ba2",
       "version_major": 2,
       "version_minor": 0
      },
      "text/plain": [
       "  0%|          | 0/4 [00:00<?, ?it/s]"
      ]
     },
     "metadata": {},
     "output_type": "display_data"
    },
    {
     "name": "stderr",
     "output_type": "stream",
     "text": [
      "11:55:56 - cmdstanpy - INFO - Chain [1] start processing\n",
      "11:55:57 - cmdstanpy - INFO - Chain [1] done processing\n",
      "11:55:57 - cmdstanpy - INFO - Chain [1] start processing\n",
      "11:55:57 - cmdstanpy - INFO - Chain [1] done processing\n",
      "11:55:58 - cmdstanpy - INFO - Chain [1] start processing\n",
      "11:55:58 - cmdstanpy - INFO - Chain [1] done processing\n",
      "11:55:59 - cmdstanpy - INFO - Chain [1] start processing\n",
      "11:55:59 - cmdstanpy - INFO - Chain [1] done processing\n",
      "11:55:59 - cmdstanpy - INFO - Chain [1] start processing\n",
      "11:55:59 - cmdstanpy - INFO - Chain [1] done processing\n"
     ]
    },
    {
     "data": {
      "application/vnd.jupyter.widget-view+json": {
       "model_id": "f3bffece405447b59d2a975e6572afe7",
       "version_major": 2,
       "version_minor": 0
      },
      "text/plain": [
       "  0%|          | 0/4 [00:00<?, ?it/s]"
      ]
     },
     "metadata": {},
     "output_type": "display_data"
    },
    {
     "name": "stderr",
     "output_type": "stream",
     "text": [
      "11:55:59 - cmdstanpy - INFO - Chain [1] start processing\n",
      "11:56:00 - cmdstanpy - INFO - Chain [1] done processing\n",
      "11:56:00 - cmdstanpy - INFO - Chain [1] start processing\n",
      "11:56:00 - cmdstanpy - INFO - Chain [1] done processing\n",
      "11:56:01 - cmdstanpy - INFO - Chain [1] start processing\n",
      "11:56:01 - cmdstanpy - INFO - Chain [1] done processing\n",
      "11:56:02 - cmdstanpy - INFO - Chain [1] start processing\n",
      "11:56:02 - cmdstanpy - INFO - Chain [1] done processing\n",
      "11:56:05 - cmdstanpy - INFO - Chain [1] start processing\n",
      "11:56:05 - cmdstanpy - INFO - Chain [1] done processing\n"
     ]
    },
    {
     "data": {
      "application/vnd.jupyter.widget-view+json": {
       "model_id": "71143bb8f7c7465cb28a73a4bb675df1",
       "version_major": 2,
       "version_minor": 0
      },
      "text/plain": [
       "  0%|          | 0/4 [00:00<?, ?it/s]"
      ]
     },
     "metadata": {},
     "output_type": "display_data"
    },
    {
     "name": "stderr",
     "output_type": "stream",
     "text": [
      "11:56:05 - cmdstanpy - INFO - Chain [1] start processing\n",
      "11:56:06 - cmdstanpy - INFO - Chain [1] done processing\n",
      "11:56:06 - cmdstanpy - INFO - Chain [1] start processing\n",
      "11:56:07 - cmdstanpy - INFO - Chain [1] done processing\n",
      "11:56:07 - cmdstanpy - INFO - Chain [1] start processing\n",
      "11:56:07 - cmdstanpy - INFO - Chain [1] done processing\n",
      "11:56:09 - cmdstanpy - INFO - Chain [1] start processing\n",
      "11:56:11 - cmdstanpy - INFO - Chain [1] done processing\n",
      "11:56:13 - cmdstanpy - INFO - Chain [1] start processing\n",
      "11:56:16 - cmdstanpy - INFO - Chain [1] done processing\n"
     ]
    },
    {
     "data": {
      "application/vnd.jupyter.widget-view+json": {
       "model_id": "71949b637cfc473db5302b4ce5a8defe",
       "version_major": 2,
       "version_minor": 0
      },
      "text/plain": [
       "  0%|          | 0/4 [00:00<?, ?it/s]"
      ]
     },
     "metadata": {},
     "output_type": "display_data"
    },
    {
     "name": "stderr",
     "output_type": "stream",
     "text": [
      "11:56:16 - cmdstanpy - INFO - Chain [1] start processing\n",
      "11:56:16 - cmdstanpy - INFO - Chain [1] done processing\n",
      "11:56:17 - cmdstanpy - INFO - Chain [1] start processing\n",
      "11:56:17 - cmdstanpy - INFO - Chain [1] done processing\n",
      "11:56:18 - cmdstanpy - INFO - Chain [1] start processing\n",
      "11:56:18 - cmdstanpy - INFO - Chain [1] done processing\n",
      "11:56:19 - cmdstanpy - INFO - Chain [1] start processing\n",
      "11:56:19 - cmdstanpy - INFO - Chain [1] done processing\n",
      "11:56:20 - cmdstanpy - INFO - Chain [1] start processing\n",
      "11:56:20 - cmdstanpy - INFO - Chain [1] done processing\n"
     ]
    },
    {
     "data": {
      "application/vnd.jupyter.widget-view+json": {
       "model_id": "4a4d8dbaef59466dbf12400e72093831",
       "version_major": 2,
       "version_minor": 0
      },
      "text/plain": [
       "  0%|          | 0/4 [00:00<?, ?it/s]"
      ]
     },
     "metadata": {},
     "output_type": "display_data"
    },
    {
     "name": "stderr",
     "output_type": "stream",
     "text": [
      "11:56:20 - cmdstanpy - INFO - Chain [1] start processing\n",
      "11:56:20 - cmdstanpy - INFO - Chain [1] done processing\n",
      "11:56:21 - cmdstanpy - INFO - Chain [1] start processing\n",
      "11:56:21 - cmdstanpy - INFO - Chain [1] done processing\n",
      "11:56:21 - cmdstanpy - INFO - Chain [1] start processing\n",
      "11:56:21 - cmdstanpy - INFO - Chain [1] done processing\n",
      "11:56:22 - cmdstanpy - INFO - Chain [1] start processing\n",
      "11:56:22 - cmdstanpy - INFO - Chain [1] done processing\n",
      "11:56:23 - cmdstanpy - INFO - Chain [1] start processing\n",
      "11:56:23 - cmdstanpy - INFO - Chain [1] done processing\n"
     ]
    },
    {
     "data": {
      "application/vnd.jupyter.widget-view+json": {
       "model_id": "3593488c5f7842e3874c911ffddb41b2",
       "version_major": 2,
       "version_minor": 0
      },
      "text/plain": [
       "  0%|          | 0/4 [00:00<?, ?it/s]"
      ]
     },
     "metadata": {},
     "output_type": "display_data"
    },
    {
     "name": "stderr",
     "output_type": "stream",
     "text": [
      "11:56:23 - cmdstanpy - INFO - Chain [1] start processing\n",
      "11:56:23 - cmdstanpy - INFO - Chain [1] done processing\n",
      "11:56:24 - cmdstanpy - INFO - Chain [1] start processing\n",
      "11:56:24 - cmdstanpy - INFO - Chain [1] done processing\n",
      "11:56:24 - cmdstanpy - INFO - Chain [1] start processing\n",
      "11:56:24 - cmdstanpy - INFO - Chain [1] done processing\n",
      "11:56:25 - cmdstanpy - INFO - Chain [1] start processing\n",
      "11:56:25 - cmdstanpy - INFO - Chain [1] done processing\n",
      "11:56:26 - cmdstanpy - INFO - Chain [1] start processing\n",
      "11:56:26 - cmdstanpy - INFO - Chain [1] done processing\n"
     ]
    },
    {
     "data": {
      "application/vnd.jupyter.widget-view+json": {
       "model_id": "54a564d0cf4b43c693e63fb02d2b3949",
       "version_major": 2,
       "version_minor": 0
      },
      "text/plain": [
       "  0%|          | 0/4 [00:00<?, ?it/s]"
      ]
     },
     "metadata": {},
     "output_type": "display_data"
    },
    {
     "name": "stderr",
     "output_type": "stream",
     "text": [
      "11:56:26 - cmdstanpy - INFO - Chain [1] start processing\n",
      "11:56:26 - cmdstanpy - INFO - Chain [1] done processing\n",
      "11:56:27 - cmdstanpy - INFO - Chain [1] start processing\n",
      "11:56:27 - cmdstanpy - INFO - Chain [1] done processing\n",
      "11:56:28 - cmdstanpy - INFO - Chain [1] start processing\n",
      "11:56:28 - cmdstanpy - INFO - Chain [1] done processing\n",
      "11:56:28 - cmdstanpy - INFO - Chain [1] start processing\n",
      "11:56:28 - cmdstanpy - INFO - Chain [1] done processing\n",
      "11:56:29 - cmdstanpy - INFO - Chain [1] start processing\n",
      "11:56:29 - cmdstanpy - INFO - Chain [1] done processing\n"
     ]
    },
    {
     "data": {
      "application/vnd.jupyter.widget-view+json": {
       "model_id": "763a4454b6794bd4aea1275199fd7f47",
       "version_major": 2,
       "version_minor": 0
      },
      "text/plain": [
       "  0%|          | 0/4 [00:00<?, ?it/s]"
      ]
     },
     "metadata": {},
     "output_type": "display_data"
    },
    {
     "name": "stderr",
     "output_type": "stream",
     "text": [
      "11:56:29 - cmdstanpy - INFO - Chain [1] start processing\n",
      "11:56:29 - cmdstanpy - INFO - Chain [1] done processing\n",
      "11:56:30 - cmdstanpy - INFO - Chain [1] start processing\n",
      "11:56:30 - cmdstanpy - INFO - Chain [1] done processing\n",
      "11:56:31 - cmdstanpy - INFO - Chain [1] start processing\n",
      "11:56:31 - cmdstanpy - INFO - Chain [1] done processing\n",
      "11:56:31 - cmdstanpy - INFO - Chain [1] start processing\n",
      "11:56:31 - cmdstanpy - INFO - Chain [1] done processing\n",
      "11:56:32 - cmdstanpy - INFO - Chain [1] start processing\n",
      "11:56:32 - cmdstanpy - INFO - Chain [1] done processing\n"
     ]
    },
    {
     "data": {
      "application/vnd.jupyter.widget-view+json": {
       "model_id": "e055ab31d7184a798902036377843179",
       "version_major": 2,
       "version_minor": 0
      },
      "text/plain": [
       "  0%|          | 0/4 [00:00<?, ?it/s]"
      ]
     },
     "metadata": {},
     "output_type": "display_data"
    },
    {
     "name": "stderr",
     "output_type": "stream",
     "text": [
      "11:56:32 - cmdstanpy - INFO - Chain [1] start processing\n",
      "11:56:32 - cmdstanpy - INFO - Chain [1] done processing\n",
      "11:56:33 - cmdstanpy - INFO - Chain [1] start processing\n",
      "11:56:33 - cmdstanpy - INFO - Chain [1] done processing\n",
      "11:56:34 - cmdstanpy - INFO - Chain [1] start processing\n",
      "11:56:34 - cmdstanpy - INFO - Chain [1] done processing\n",
      "11:56:36 - cmdstanpy - INFO - Chain [1] start processing\n",
      "11:56:36 - cmdstanpy - INFO - Chain [1] done processing\n",
      "11:56:37 - cmdstanpy - INFO - Chain [1] start processing\n",
      "11:56:37 - cmdstanpy - INFO - Chain [1] done processing\n"
     ]
    },
    {
     "data": {
      "application/vnd.jupyter.widget-view+json": {
       "model_id": "b49fb1e4e155445d92202cf00caa0896",
       "version_major": 2,
       "version_minor": 0
      },
      "text/plain": [
       "  0%|          | 0/4 [00:00<?, ?it/s]"
      ]
     },
     "metadata": {},
     "output_type": "display_data"
    },
    {
     "name": "stderr",
     "output_type": "stream",
     "text": [
      "11:56:37 - cmdstanpy - INFO - Chain [1] start processing\n",
      "11:56:37 - cmdstanpy - INFO - Chain [1] done processing\n",
      "11:56:38 - cmdstanpy - INFO - Chain [1] start processing\n",
      "11:56:38 - cmdstanpy - INFO - Chain [1] done processing\n",
      "11:56:39 - cmdstanpy - INFO - Chain [1] start processing\n",
      "11:56:39 - cmdstanpy - INFO - Chain [1] done processing\n",
      "11:56:39 - cmdstanpy - INFO - Chain [1] start processing\n",
      "11:56:39 - cmdstanpy - INFO - Chain [1] done processing\n",
      "11:56:40 - cmdstanpy - INFO - Chain [1] start processing\n",
      "11:56:40 - cmdstanpy - INFO - Chain [1] done processing\n"
     ]
    },
    {
     "data": {
      "application/vnd.jupyter.widget-view+json": {
       "model_id": "51e5df8e8bca4ed0985cdae01a152f42",
       "version_major": 2,
       "version_minor": 0
      },
      "text/plain": [
       "  0%|          | 0/4 [00:00<?, ?it/s]"
      ]
     },
     "metadata": {},
     "output_type": "display_data"
    },
    {
     "name": "stderr",
     "output_type": "stream",
     "text": [
      "11:56:40 - cmdstanpy - INFO - Chain [1] start processing\n",
      "11:56:41 - cmdstanpy - INFO - Chain [1] done processing\n",
      "11:56:41 - cmdstanpy - INFO - Chain [1] start processing\n",
      "11:56:41 - cmdstanpy - INFO - Chain [1] done processing\n",
      "11:56:42 - cmdstanpy - INFO - Chain [1] start processing\n",
      "11:56:42 - cmdstanpy - INFO - Chain [1] done processing\n",
      "11:56:43 - cmdstanpy - INFO - Chain [1] start processing\n",
      "11:56:43 - cmdstanpy - INFO - Chain [1] done processing\n",
      "11:56:44 - cmdstanpy - INFO - Chain [1] start processing\n",
      "11:56:44 - cmdstanpy - INFO - Chain [1] done processing\n"
     ]
    },
    {
     "data": {
      "application/vnd.jupyter.widget-view+json": {
       "model_id": "92562cde18a947dfa056d041166d6a49",
       "version_major": 2,
       "version_minor": 0
      },
      "text/plain": [
       "  0%|          | 0/4 [00:00<?, ?it/s]"
      ]
     },
     "metadata": {},
     "output_type": "display_data"
    },
    {
     "name": "stderr",
     "output_type": "stream",
     "text": [
      "11:56:44 - cmdstanpy - INFO - Chain [1] start processing\n",
      "11:56:45 - cmdstanpy - INFO - Chain [1] done processing\n",
      "11:56:46 - cmdstanpy - INFO - Chain [1] start processing\n",
      "11:56:46 - cmdstanpy - INFO - Chain [1] done processing\n",
      "11:56:47 - cmdstanpy - INFO - Chain [1] start processing\n",
      "11:56:47 - cmdstanpy - INFO - Chain [1] done processing\n",
      "11:56:48 - cmdstanpy - INFO - Chain [1] start processing\n",
      "11:56:48 - cmdstanpy - INFO - Chain [1] done processing\n",
      "11:56:49 - cmdstanpy - INFO - Chain [1] start processing\n",
      "11:56:49 - cmdstanpy - INFO - Chain [1] done processing\n"
     ]
    },
    {
     "data": {
      "application/vnd.jupyter.widget-view+json": {
       "model_id": "69cacdebe4614269b8e6316f93e862d8",
       "version_major": 2,
       "version_minor": 0
      },
      "text/plain": [
       "  0%|          | 0/4 [00:00<?, ?it/s]"
      ]
     },
     "metadata": {},
     "output_type": "display_data"
    },
    {
     "name": "stderr",
     "output_type": "stream",
     "text": [
      "11:56:49 - cmdstanpy - INFO - Chain [1] start processing\n",
      "11:56:50 - cmdstanpy - INFO - Chain [1] done processing\n",
      "11:56:50 - cmdstanpy - INFO - Chain [1] start processing\n",
      "11:56:50 - cmdstanpy - INFO - Chain [1] done processing\n",
      "11:56:51 - cmdstanpy - INFO - Chain [1] start processing\n",
      "11:56:51 - cmdstanpy - INFO - Chain [1] done processing\n",
      "11:56:52 - cmdstanpy - INFO - Chain [1] start processing\n",
      "11:56:52 - cmdstanpy - INFO - Chain [1] done processing\n",
      "11:56:52 - cmdstanpy - INFO - Chain [1] start processing\n",
      "11:56:52 - cmdstanpy - INFO - Chain [1] done processing\n"
     ]
    },
    {
     "data": {
      "application/vnd.jupyter.widget-view+json": {
       "model_id": "3e0029d11d2e4e6bb8e7f066108896d3",
       "version_major": 2,
       "version_minor": 0
      },
      "text/plain": [
       "  0%|          | 0/4 [00:00<?, ?it/s]"
      ]
     },
     "metadata": {},
     "output_type": "display_data"
    },
    {
     "name": "stderr",
     "output_type": "stream",
     "text": [
      "11:56:52 - cmdstanpy - INFO - Chain [1] start processing\n",
      "11:56:53 - cmdstanpy - INFO - Chain [1] done processing\n",
      "11:56:53 - cmdstanpy - INFO - Chain [1] start processing\n",
      "11:56:53 - cmdstanpy - INFO - Chain [1] done processing\n",
      "11:56:54 - cmdstanpy - INFO - Chain [1] start processing\n",
      "11:56:54 - cmdstanpy - INFO - Chain [1] done processing\n",
      "11:56:55 - cmdstanpy - INFO - Chain [1] start processing\n",
      "11:56:55 - cmdstanpy - INFO - Chain [1] done processing\n",
      "11:56:55 - cmdstanpy - INFO - Chain [1] start processing\n",
      "11:56:56 - cmdstanpy - INFO - Chain [1] done processing\n"
     ]
    },
    {
     "data": {
      "application/vnd.jupyter.widget-view+json": {
       "model_id": "21b817b9c7534cb6861711ca83bb1b97",
       "version_major": 2,
       "version_minor": 0
      },
      "text/plain": [
       "  0%|          | 0/4 [00:00<?, ?it/s]"
      ]
     },
     "metadata": {},
     "output_type": "display_data"
    },
    {
     "name": "stderr",
     "output_type": "stream",
     "text": [
      "11:56:56 - cmdstanpy - INFO - Chain [1] start processing\n",
      "11:56:56 - cmdstanpy - INFO - Chain [1] done processing\n",
      "11:56:57 - cmdstanpy - INFO - Chain [1] start processing\n",
      "11:56:57 - cmdstanpy - INFO - Chain [1] done processing\n",
      "11:56:57 - cmdstanpy - INFO - Chain [1] start processing\n",
      "11:56:57 - cmdstanpy - INFO - Chain [1] done processing\n",
      "11:56:58 - cmdstanpy - INFO - Chain [1] start processing\n",
      "11:56:58 - cmdstanpy - INFO - Chain [1] done processing\n",
      "11:56:59 - cmdstanpy - INFO - Chain [1] start processing\n",
      "11:56:59 - cmdstanpy - INFO - Chain [1] done processing\n"
     ]
    },
    {
     "data": {
      "application/vnd.jupyter.widget-view+json": {
       "model_id": "4018c7bf6f154b748d09ab885c3b888e",
       "version_major": 2,
       "version_minor": 0
      },
      "text/plain": [
       "  0%|          | 0/4 [00:00<?, ?it/s]"
      ]
     },
     "metadata": {},
     "output_type": "display_data"
    },
    {
     "name": "stderr",
     "output_type": "stream",
     "text": [
      "11:56:59 - cmdstanpy - INFO - Chain [1] start processing\n",
      "11:56:59 - cmdstanpy - INFO - Chain [1] done processing\n",
      "11:57:00 - cmdstanpy - INFO - Chain [1] start processing\n",
      "11:57:00 - cmdstanpy - INFO - Chain [1] done processing\n",
      "11:57:00 - cmdstanpy - INFO - Chain [1] start processing\n",
      "11:57:00 - cmdstanpy - INFO - Chain [1] done processing\n",
      "11:57:01 - cmdstanpy - INFO - Chain [1] start processing\n",
      "11:57:01 - cmdstanpy - INFO - Chain [1] done processing\n",
      "11:57:02 - cmdstanpy - INFO - Chain [1] start processing\n",
      "11:57:02 - cmdstanpy - INFO - Chain [1] done processing\n"
     ]
    },
    {
     "data": {
      "application/vnd.jupyter.widget-view+json": {
       "model_id": "5c6ecb660d9444848f96c29d10037a84",
       "version_major": 2,
       "version_minor": 0
      },
      "text/plain": [
       "  0%|          | 0/4 [00:00<?, ?it/s]"
      ]
     },
     "metadata": {},
     "output_type": "display_data"
    },
    {
     "name": "stderr",
     "output_type": "stream",
     "text": [
      "11:57:02 - cmdstanpy - INFO - Chain [1] start processing\n",
      "11:57:02 - cmdstanpy - INFO - Chain [1] done processing\n",
      "11:57:03 - cmdstanpy - INFO - Chain [1] start processing\n",
      "11:57:03 - cmdstanpy - INFO - Chain [1] done processing\n",
      "11:57:04 - cmdstanpy - INFO - Chain [1] start processing\n",
      "11:57:04 - cmdstanpy - INFO - Chain [1] done processing\n",
      "11:57:05 - cmdstanpy - INFO - Chain [1] start processing\n",
      "11:57:05 - cmdstanpy - INFO - Chain [1] done processing\n",
      "11:57:05 - cmdstanpy - INFO - Chain [1] start processing\n",
      "11:57:05 - cmdstanpy - INFO - Chain [1] done processing\n"
     ]
    },
    {
     "data": {
      "application/vnd.jupyter.widget-view+json": {
       "model_id": "14d5380b7a7246c99064a6b82b5fdb61",
       "version_major": 2,
       "version_minor": 0
      },
      "text/plain": [
       "  0%|          | 0/4 [00:00<?, ?it/s]"
      ]
     },
     "metadata": {},
     "output_type": "display_data"
    },
    {
     "name": "stderr",
     "output_type": "stream",
     "text": [
      "11:57:05 - cmdstanpy - INFO - Chain [1] start processing\n",
      "11:57:06 - cmdstanpy - INFO - Chain [1] done processing\n",
      "11:57:06 - cmdstanpy - INFO - Chain [1] start processing\n",
      "11:57:06 - cmdstanpy - INFO - Chain [1] done processing\n",
      "11:57:08 - cmdstanpy - INFO - Chain [1] start processing\n",
      "11:57:08 - cmdstanpy - INFO - Chain [1] done processing\n",
      "11:57:08 - cmdstanpy - INFO - Chain [1] start processing\n",
      "11:57:08 - cmdstanpy - INFO - Chain [1] done processing\n",
      "11:57:09 - cmdstanpy - INFO - Chain [1] start processing\n",
      "11:57:09 - cmdstanpy - INFO - Chain [1] done processing\n"
     ]
    },
    {
     "data": {
      "application/vnd.jupyter.widget-view+json": {
       "model_id": "86dbeed315d044cfb33deb0a8b40a9b0",
       "version_major": 2,
       "version_minor": 0
      },
      "text/plain": [
       "  0%|          | 0/4 [00:00<?, ?it/s]"
      ]
     },
     "metadata": {},
     "output_type": "display_data"
    },
    {
     "name": "stderr",
     "output_type": "stream",
     "text": [
      "11:57:09 - cmdstanpy - INFO - Chain [1] start processing\n",
      "11:57:10 - cmdstanpy - INFO - Chain [1] done processing\n",
      "11:57:10 - cmdstanpy - INFO - Chain [1] start processing\n",
      "11:57:10 - cmdstanpy - INFO - Chain [1] done processing\n",
      "11:57:11 - cmdstanpy - INFO - Chain [1] start processing\n",
      "11:57:11 - cmdstanpy - INFO - Chain [1] done processing\n",
      "11:57:12 - cmdstanpy - INFO - Chain [1] start processing\n",
      "11:57:12 - cmdstanpy - INFO - Chain [1] done processing\n",
      "11:57:12 - cmdstanpy - INFO - Chain [1] start processing\n",
      "11:57:12 - cmdstanpy - INFO - Chain [1] done processing\n"
     ]
    },
    {
     "data": {
      "application/vnd.jupyter.widget-view+json": {
       "model_id": "835b786668a647d7bc7150d2f4d4fccc",
       "version_major": 2,
       "version_minor": 0
      },
      "text/plain": [
       "  0%|          | 0/4 [00:00<?, ?it/s]"
      ]
     },
     "metadata": {},
     "output_type": "display_data"
    },
    {
     "name": "stderr",
     "output_type": "stream",
     "text": [
      "11:57:12 - cmdstanpy - INFO - Chain [1] start processing\n",
      "11:57:13 - cmdstanpy - INFO - Chain [1] done processing\n",
      "11:57:13 - cmdstanpy - INFO - Chain [1] start processing\n",
      "11:57:13 - cmdstanpy - INFO - Chain [1] done processing\n",
      "11:57:14 - cmdstanpy - INFO - Chain [1] start processing\n",
      "11:57:14 - cmdstanpy - INFO - Chain [1] done processing\n",
      "11:57:15 - cmdstanpy - INFO - Chain [1] start processing\n",
      "11:57:15 - cmdstanpy - INFO - Chain [1] done processing\n",
      "11:57:16 - cmdstanpy - INFO - Chain [1] start processing\n",
      "11:57:16 - cmdstanpy - INFO - Chain [1] done processing\n"
     ]
    },
    {
     "data": {
      "application/vnd.jupyter.widget-view+json": {
       "model_id": "c60c3309e56e4243af3cc6306fcdd884",
       "version_major": 2,
       "version_minor": 0
      },
      "text/plain": [
       "  0%|          | 0/4 [00:00<?, ?it/s]"
      ]
     },
     "metadata": {},
     "output_type": "display_data"
    },
    {
     "name": "stderr",
     "output_type": "stream",
     "text": [
      "11:57:16 - cmdstanpy - INFO - Chain [1] start processing\n",
      "11:57:16 - cmdstanpy - INFO - Chain [1] done processing\n",
      "11:57:17 - cmdstanpy - INFO - Chain [1] start processing\n",
      "11:57:17 - cmdstanpy - INFO - Chain [1] done processing\n",
      "11:57:17 - cmdstanpy - INFO - Chain [1] start processing\n",
      "11:57:18 - cmdstanpy - INFO - Chain [1] done processing\n",
      "11:57:18 - cmdstanpy - INFO - Chain [1] start processing\n",
      "11:57:18 - cmdstanpy - INFO - Chain [1] done processing\n",
      "11:57:19 - cmdstanpy - INFO - Chain [1] start processing\n",
      "11:57:19 - cmdstanpy - INFO - Chain [1] done processing\n"
     ]
    },
    {
     "data": {
      "application/vnd.jupyter.widget-view+json": {
       "model_id": "7eac38b5ceeb4fb7b13d4000a8232430",
       "version_major": 2,
       "version_minor": 0
      },
      "text/plain": [
       "  0%|          | 0/4 [00:00<?, ?it/s]"
      ]
     },
     "metadata": {},
     "output_type": "display_data"
    },
    {
     "name": "stderr",
     "output_type": "stream",
     "text": [
      "11:57:19 - cmdstanpy - INFO - Chain [1] start processing\n",
      "11:57:19 - cmdstanpy - INFO - Chain [1] done processing\n",
      "11:57:20 - cmdstanpy - INFO - Chain [1] start processing\n",
      "11:57:20 - cmdstanpy - INFO - Chain [1] done processing\n",
      "11:57:21 - cmdstanpy - INFO - Chain [1] start processing\n",
      "11:57:21 - cmdstanpy - INFO - Chain [1] done processing\n",
      "11:57:21 - cmdstanpy - INFO - Chain [1] start processing\n",
      "11:57:21 - cmdstanpy - INFO - Chain [1] done processing\n",
      "11:57:22 - cmdstanpy - INFO - Chain [1] start processing\n",
      "11:57:22 - cmdstanpy - INFO - Chain [1] done processing\n"
     ]
    },
    {
     "data": {
      "application/vnd.jupyter.widget-view+json": {
       "model_id": "1770dbafa24b4432b785c3a02c1c88b2",
       "version_major": 2,
       "version_minor": 0
      },
      "text/plain": [
       "  0%|          | 0/4 [00:00<?, ?it/s]"
      ]
     },
     "metadata": {},
     "output_type": "display_data"
    },
    {
     "name": "stderr",
     "output_type": "stream",
     "text": [
      "11:57:22 - cmdstanpy - INFO - Chain [1] start processing\n",
      "11:57:23 - cmdstanpy - INFO - Chain [1] done processing\n",
      "11:57:23 - cmdstanpy - INFO - Chain [1] start processing\n",
      "11:57:23 - cmdstanpy - INFO - Chain [1] done processing\n",
      "11:57:24 - cmdstanpy - INFO - Chain [1] start processing\n",
      "11:57:24 - cmdstanpy - INFO - Chain [1] done processing\n",
      "11:57:25 - cmdstanpy - INFO - Chain [1] start processing\n",
      "11:57:25 - cmdstanpy - INFO - Chain [1] done processing\n",
      "11:57:26 - cmdstanpy - INFO - Chain [1] start processing\n",
      "11:57:26 - cmdstanpy - INFO - Chain [1] done processing\n"
     ]
    },
    {
     "data": {
      "application/vnd.jupyter.widget-view+json": {
       "model_id": "6523b14225084825a61e4a2b1fa25b83",
       "version_major": 2,
       "version_minor": 0
      },
      "text/plain": [
       "  0%|          | 0/4 [00:00<?, ?it/s]"
      ]
     },
     "metadata": {},
     "output_type": "display_data"
    },
    {
     "name": "stderr",
     "output_type": "stream",
     "text": [
      "11:57:26 - cmdstanpy - INFO - Chain [1] start processing\n",
      "11:57:26 - cmdstanpy - INFO - Chain [1] done processing\n",
      "11:57:27 - cmdstanpy - INFO - Chain [1] start processing\n",
      "11:57:27 - cmdstanpy - INFO - Chain [1] done processing\n",
      "11:57:27 - cmdstanpy - INFO - Chain [1] start processing\n",
      "11:57:27 - cmdstanpy - INFO - Chain [1] done processing\n",
      "11:57:29 - cmdstanpy - INFO - Chain [1] start processing\n",
      "11:57:29 - cmdstanpy - INFO - Chain [1] done processing\n",
      "11:57:29 - cmdstanpy - INFO - Chain [1] start processing\n",
      "11:57:29 - cmdstanpy - INFO - Chain [1] done processing\n"
     ]
    },
    {
     "data": {
      "application/vnd.jupyter.widget-view+json": {
       "model_id": "28c198b8fb6944b195f700c30d9dc7be",
       "version_major": 2,
       "version_minor": 0
      },
      "text/plain": [
       "  0%|          | 0/4 [00:00<?, ?it/s]"
      ]
     },
     "metadata": {},
     "output_type": "display_data"
    },
    {
     "name": "stderr",
     "output_type": "stream",
     "text": [
      "11:57:29 - cmdstanpy - INFO - Chain [1] start processing\n",
      "11:57:30 - cmdstanpy - INFO - Chain [1] done processing\n",
      "11:57:30 - cmdstanpy - INFO - Chain [1] start processing\n",
      "11:57:31 - cmdstanpy - INFO - Chain [1] done processing\n",
      "11:57:31 - cmdstanpy - INFO - Chain [1] start processing\n",
      "11:57:31 - cmdstanpy - INFO - Chain [1] done processing\n",
      "11:57:32 - cmdstanpy - INFO - Chain [1] start processing\n",
      "11:57:32 - cmdstanpy - INFO - Chain [1] done processing\n",
      "11:57:33 - cmdstanpy - INFO - Chain [1] start processing\n",
      "11:57:33 - cmdstanpy - INFO - Chain [1] done processing\n"
     ]
    },
    {
     "data": {
      "application/vnd.jupyter.widget-view+json": {
       "model_id": "555a2aa602814b6c8631e94ee41634ac",
       "version_major": 2,
       "version_minor": 0
      },
      "text/plain": [
       "  0%|          | 0/4 [00:00<?, ?it/s]"
      ]
     },
     "metadata": {},
     "output_type": "display_data"
    },
    {
     "name": "stderr",
     "output_type": "stream",
     "text": [
      "11:57:33 - cmdstanpy - INFO - Chain [1] start processing\n",
      "11:57:33 - cmdstanpy - INFO - Chain [1] done processing\n",
      "11:57:34 - cmdstanpy - INFO - Chain [1] start processing\n",
      "11:57:34 - cmdstanpy - INFO - Chain [1] done processing\n",
      "11:57:34 - cmdstanpy - INFO - Chain [1] start processing\n",
      "11:57:34 - cmdstanpy - INFO - Chain [1] done processing\n",
      "11:57:35 - cmdstanpy - INFO - Chain [1] start processing\n",
      "11:57:35 - cmdstanpy - INFO - Chain [1] done processing\n",
      "11:57:36 - cmdstanpy - INFO - Chain [1] start processing\n",
      "11:57:36 - cmdstanpy - INFO - Chain [1] done processing\n"
     ]
    },
    {
     "data": {
      "application/vnd.jupyter.widget-view+json": {
       "model_id": "bacffe348d8a450e8b621490b9dc0f99",
       "version_major": 2,
       "version_minor": 0
      },
      "text/plain": [
       "  0%|          | 0/4 [00:00<?, ?it/s]"
      ]
     },
     "metadata": {},
     "output_type": "display_data"
    },
    {
     "name": "stderr",
     "output_type": "stream",
     "text": [
      "11:57:36 - cmdstanpy - INFO - Chain [1] start processing\n",
      "11:57:36 - cmdstanpy - INFO - Chain [1] done processing\n",
      "11:57:37 - cmdstanpy - INFO - Chain [1] start processing\n",
      "11:57:37 - cmdstanpy - INFO - Chain [1] done processing\n",
      "11:57:38 - cmdstanpy - INFO - Chain [1] start processing\n",
      "11:57:38 - cmdstanpy - INFO - Chain [1] done processing\n",
      "11:57:38 - cmdstanpy - INFO - Chain [1] start processing\n",
      "11:57:38 - cmdstanpy - INFO - Chain [1] done processing\n",
      "11:57:39 - cmdstanpy - INFO - Chain [1] start processing\n",
      "11:57:39 - cmdstanpy - INFO - Chain [1] done processing\n"
     ]
    },
    {
     "data": {
      "application/vnd.jupyter.widget-view+json": {
       "model_id": "fe0d66cce02a41c2abe78b103693d4dd",
       "version_major": 2,
       "version_minor": 0
      },
      "text/plain": [
       "  0%|          | 0/4 [00:00<?, ?it/s]"
      ]
     },
     "metadata": {},
     "output_type": "display_data"
    },
    {
     "name": "stderr",
     "output_type": "stream",
     "text": [
      "11:57:39 - cmdstanpy - INFO - Chain [1] start processing\n",
      "11:57:40 - cmdstanpy - INFO - Chain [1] done processing\n",
      "11:57:41 - cmdstanpy - INFO - Chain [1] start processing\n",
      "11:57:41 - cmdstanpy - INFO - Chain [1] done processing\n",
      "11:57:41 - cmdstanpy - INFO - Chain [1] start processing\n",
      "11:57:41 - cmdstanpy - INFO - Chain [1] done processing\n",
      "11:57:42 - cmdstanpy - INFO - Chain [1] start processing\n",
      "11:57:42 - cmdstanpy - INFO - Chain [1] done processing\n",
      "11:57:43 - cmdstanpy - INFO - Chain [1] start processing\n",
      "11:57:43 - cmdstanpy - INFO - Chain [1] done processing\n"
     ]
    },
    {
     "data": {
      "application/vnd.jupyter.widget-view+json": {
       "model_id": "5e4cf0d787874a2391bc255e556e1d4d",
       "version_major": 2,
       "version_minor": 0
      },
      "text/plain": [
       "  0%|          | 0/4 [00:00<?, ?it/s]"
      ]
     },
     "metadata": {},
     "output_type": "display_data"
    },
    {
     "name": "stderr",
     "output_type": "stream",
     "text": [
      "11:57:43 - cmdstanpy - INFO - Chain [1] start processing\n",
      "11:57:43 - cmdstanpy - INFO - Chain [1] done processing\n",
      "11:57:44 - cmdstanpy - INFO - Chain [1] start processing\n",
      "11:57:44 - cmdstanpy - INFO - Chain [1] done processing\n",
      "11:57:45 - cmdstanpy - INFO - Chain [1] start processing\n",
      "11:57:45 - cmdstanpy - INFO - Chain [1] done processing\n",
      "11:57:45 - cmdstanpy - INFO - Chain [1] start processing\n",
      "11:57:46 - cmdstanpy - INFO - Chain [1] done processing\n",
      "11:57:46 - cmdstanpy - INFO - Chain [1] start processing\n",
      "11:57:46 - cmdstanpy - INFO - Chain [1] done processing\n"
     ]
    },
    {
     "data": {
      "application/vnd.jupyter.widget-view+json": {
       "model_id": "2d1c6b0e4fa94e8aa55a00604f782fde",
       "version_major": 2,
       "version_minor": 0
      },
      "text/plain": [
       "  0%|          | 0/4 [00:00<?, ?it/s]"
      ]
     },
     "metadata": {},
     "output_type": "display_data"
    },
    {
     "name": "stderr",
     "output_type": "stream",
     "text": [
      "11:57:46 - cmdstanpy - INFO - Chain [1] start processing\n",
      "11:57:47 - cmdstanpy - INFO - Chain [1] done processing\n",
      "11:57:47 - cmdstanpy - INFO - Chain [1] start processing\n",
      "11:57:48 - cmdstanpy - INFO - Chain [1] done processing\n",
      "11:57:48 - cmdstanpy - INFO - Chain [1] start processing\n",
      "11:57:48 - cmdstanpy - INFO - Chain [1] done processing\n",
      "11:57:49 - cmdstanpy - INFO - Chain [1] start processing\n",
      "11:57:49 - cmdstanpy - INFO - Chain [1] done processing\n",
      "11:57:50 - cmdstanpy - INFO - Chain [1] start processing\n",
      "11:57:50 - cmdstanpy - INFO - Chain [1] done processing\n"
     ]
    },
    {
     "data": {
      "application/vnd.jupyter.widget-view+json": {
       "model_id": "dfc63ce8942341d0b3ee352310bfeec4",
       "version_major": 2,
       "version_minor": 0
      },
      "text/plain": [
       "  0%|          | 0/4 [00:00<?, ?it/s]"
      ]
     },
     "metadata": {},
     "output_type": "display_data"
    },
    {
     "name": "stderr",
     "output_type": "stream",
     "text": [
      "11:57:50 - cmdstanpy - INFO - Chain [1] start processing\n",
      "11:57:50 - cmdstanpy - INFO - Chain [1] done processing\n",
      "11:57:51 - cmdstanpy - INFO - Chain [1] start processing\n",
      "11:57:51 - cmdstanpy - INFO - Chain [1] done processing\n",
      "11:57:51 - cmdstanpy - INFO - Chain [1] start processing\n",
      "11:57:52 - cmdstanpy - INFO - Chain [1] done processing\n",
      "11:57:52 - cmdstanpy - INFO - Chain [1] start processing\n",
      "11:57:52 - cmdstanpy - INFO - Chain [1] done processing\n",
      "11:57:53 - cmdstanpy - INFO - Chain [1] start processing\n",
      "11:57:53 - cmdstanpy - INFO - Chain [1] done processing\n"
     ]
    },
    {
     "data": {
      "application/vnd.jupyter.widget-view+json": {
       "model_id": "879ff6e198344f218d5fa0ce9cbd10b0",
       "version_major": 2,
       "version_minor": 0
      },
      "text/plain": [
       "  0%|          | 0/4 [00:00<?, ?it/s]"
      ]
     },
     "metadata": {},
     "output_type": "display_data"
    },
    {
     "name": "stderr",
     "output_type": "stream",
     "text": [
      "11:57:53 - cmdstanpy - INFO - Chain [1] start processing\n",
      "11:57:54 - cmdstanpy - INFO - Chain [1] done processing\n",
      "11:57:54 - cmdstanpy - INFO - Chain [1] start processing\n",
      "11:57:54 - cmdstanpy - INFO - Chain [1] done processing\n",
      "11:57:55 - cmdstanpy - INFO - Chain [1] start processing\n",
      "11:57:55 - cmdstanpy - INFO - Chain [1] done processing\n",
      "11:57:56 - cmdstanpy - INFO - Chain [1] start processing\n",
      "11:57:56 - cmdstanpy - INFO - Chain [1] done processing\n",
      "11:57:56 - cmdstanpy - INFO - Chain [1] start processing\n",
      "11:57:56 - cmdstanpy - INFO - Chain [1] done processing\n"
     ]
    },
    {
     "data": {
      "application/vnd.jupyter.widget-view+json": {
       "model_id": "d82e5740e6e14973b1a229b49967890e",
       "version_major": 2,
       "version_minor": 0
      },
      "text/plain": [
       "  0%|          | 0/4 [00:00<?, ?it/s]"
      ]
     },
     "metadata": {},
     "output_type": "display_data"
    },
    {
     "name": "stderr",
     "output_type": "stream",
     "text": [
      "11:57:56 - cmdstanpy - INFO - Chain [1] start processing\n",
      "11:57:57 - cmdstanpy - INFO - Chain [1] done processing\n",
      "11:57:58 - cmdstanpy - INFO - Chain [1] start processing\n",
      "11:57:58 - cmdstanpy - INFO - Chain [1] done processing\n",
      "11:57:58 - cmdstanpy - INFO - Chain [1] start processing\n",
      "11:57:58 - cmdstanpy - INFO - Chain [1] done processing\n",
      "11:57:59 - cmdstanpy - INFO - Chain [1] start processing\n",
      "11:57:59 - cmdstanpy - INFO - Chain [1] done processing\n",
      "11:58:00 - cmdstanpy - INFO - Chain [1] start processing\n",
      "11:58:00 - cmdstanpy - INFO - Chain [1] done processing\n"
     ]
    },
    {
     "data": {
      "application/vnd.jupyter.widget-view+json": {
       "model_id": "ac6031fdf0aa4a00b8883a56dfb20848",
       "version_major": 2,
       "version_minor": 0
      },
      "text/plain": [
       "  0%|          | 0/4 [00:00<?, ?it/s]"
      ]
     },
     "metadata": {},
     "output_type": "display_data"
    },
    {
     "name": "stderr",
     "output_type": "stream",
     "text": [
      "11:58:00 - cmdstanpy - INFO - Chain [1] start processing\n",
      "11:58:00 - cmdstanpy - INFO - Chain [1] done processing\n",
      "11:58:01 - cmdstanpy - INFO - Chain [1] start processing\n",
      "11:58:01 - cmdstanpy - INFO - Chain [1] done processing\n",
      "11:58:02 - cmdstanpy - INFO - Chain [1] start processing\n",
      "11:58:02 - cmdstanpy - INFO - Chain [1] done processing\n",
      "11:58:03 - cmdstanpy - INFO - Chain [1] start processing\n",
      "11:58:03 - cmdstanpy - INFO - Chain [1] done processing\n",
      "11:58:03 - cmdstanpy - INFO - Chain [1] start processing\n",
      "11:58:04 - cmdstanpy - INFO - Chain [1] done processing\n"
     ]
    },
    {
     "data": {
      "application/vnd.jupyter.widget-view+json": {
       "model_id": "8e9b7b740a9c401b9327ec1147a86b43",
       "version_major": 2,
       "version_minor": 0
      },
      "text/plain": [
       "  0%|          | 0/4 [00:00<?, ?it/s]"
      ]
     },
     "metadata": {},
     "output_type": "display_data"
    },
    {
     "name": "stderr",
     "output_type": "stream",
     "text": [
      "11:58:04 - cmdstanpy - INFO - Chain [1] start processing\n",
      "11:58:04 - cmdstanpy - INFO - Chain [1] done processing\n",
      "11:58:05 - cmdstanpy - INFO - Chain [1] start processing\n",
      "11:58:05 - cmdstanpy - INFO - Chain [1] done processing\n",
      "11:58:05 - cmdstanpy - INFO - Chain [1] start processing\n",
      "11:58:05 - cmdstanpy - INFO - Chain [1] done processing\n",
      "11:58:06 - cmdstanpy - INFO - Chain [1] start processing\n",
      "11:58:06 - cmdstanpy - INFO - Chain [1] done processing\n",
      "11:58:07 - cmdstanpy - INFO - Chain [1] start processing\n",
      "11:58:07 - cmdstanpy - INFO - Chain [1] done processing\n"
     ]
    },
    {
     "data": {
      "application/vnd.jupyter.widget-view+json": {
       "model_id": "9e43e5359f4541918d7961d1a70e8109",
       "version_major": 2,
       "version_minor": 0
      },
      "text/plain": [
       "  0%|          | 0/4 [00:00<?, ?it/s]"
      ]
     },
     "metadata": {},
     "output_type": "display_data"
    },
    {
     "name": "stderr",
     "output_type": "stream",
     "text": [
      "11:58:07 - cmdstanpy - INFO - Chain [1] start processing\n",
      "11:58:08 - cmdstanpy - INFO - Chain [1] done processing\n",
      "11:58:09 - cmdstanpy - INFO - Chain [1] start processing\n",
      "11:58:09 - cmdstanpy - INFO - Chain [1] done processing\n",
      "11:58:09 - cmdstanpy - INFO - Chain [1] start processing\n",
      "11:58:09 - cmdstanpy - INFO - Chain [1] done processing\n",
      "11:58:10 - cmdstanpy - INFO - Chain [1] start processing\n",
      "11:58:10 - cmdstanpy - INFO - Chain [1] done processing\n",
      "11:58:11 - cmdstanpy - INFO - Chain [1] start processing\n",
      "11:58:11 - cmdstanpy - INFO - Chain [1] done processing\n"
     ]
    },
    {
     "data": {
      "application/vnd.jupyter.widget-view+json": {
       "model_id": "9427b30ae1a342388044900dcea746f8",
       "version_major": 2,
       "version_minor": 0
      },
      "text/plain": [
       "  0%|          | 0/4 [00:00<?, ?it/s]"
      ]
     },
     "metadata": {},
     "output_type": "display_data"
    },
    {
     "name": "stderr",
     "output_type": "stream",
     "text": [
      "11:58:11 - cmdstanpy - INFO - Chain [1] start processing\n",
      "11:58:12 - cmdstanpy - INFO - Chain [1] done processing\n",
      "11:58:12 - cmdstanpy - INFO - Chain [1] start processing\n",
      "11:58:12 - cmdstanpy - INFO - Chain [1] done processing\n",
      "11:58:13 - cmdstanpy - INFO - Chain [1] start processing\n",
      "11:58:13 - cmdstanpy - INFO - Chain [1] done processing\n",
      "11:58:14 - cmdstanpy - INFO - Chain [1] start processing\n",
      "11:58:14 - cmdstanpy - INFO - Chain [1] done processing\n",
      "11:58:14 - cmdstanpy - INFO - Chain [1] start processing\n",
      "11:58:14 - cmdstanpy - INFO - Chain [1] done processing\n"
     ]
    },
    {
     "data": {
      "application/vnd.jupyter.widget-view+json": {
       "model_id": "887864810a124934b5860b79350bc0fa",
       "version_major": 2,
       "version_minor": 0
      },
      "text/plain": [
       "  0%|          | 0/4 [00:00<?, ?it/s]"
      ]
     },
     "metadata": {},
     "output_type": "display_data"
    },
    {
     "name": "stderr",
     "output_type": "stream",
     "text": [
      "11:58:15 - cmdstanpy - INFO - Chain [1] start processing\n",
      "11:58:15 - cmdstanpy - INFO - Chain [1] done processing\n",
      "11:58:16 - cmdstanpy - INFO - Chain [1] start processing\n",
      "11:58:16 - cmdstanpy - INFO - Chain [1] done processing\n",
      "11:58:17 - cmdstanpy - INFO - Chain [1] start processing\n",
      "11:58:17 - cmdstanpy - INFO - Chain [1] done processing\n",
      "11:58:17 - cmdstanpy - INFO - Chain [1] start processing\n",
      "11:58:18 - cmdstanpy - INFO - Chain [1] done processing\n",
      "11:58:18 - cmdstanpy - INFO - Chain [1] start processing\n",
      "11:58:18 - cmdstanpy - INFO - Chain [1] done processing\n"
     ]
    },
    {
     "data": {
      "application/vnd.jupyter.widget-view+json": {
       "model_id": "9d2d3360613c4dec8a9e8be08918b68a",
       "version_major": 2,
       "version_minor": 0
      },
      "text/plain": [
       "  0%|          | 0/4 [00:00<?, ?it/s]"
      ]
     },
     "metadata": {},
     "output_type": "display_data"
    },
    {
     "name": "stderr",
     "output_type": "stream",
     "text": [
      "11:58:18 - cmdstanpy - INFO - Chain [1] start processing\n",
      "11:58:19 - cmdstanpy - INFO - Chain [1] done processing\n",
      "11:58:20 - cmdstanpy - INFO - Chain [1] start processing\n",
      "11:58:20 - cmdstanpy - INFO - Chain [1] done processing\n",
      "11:58:20 - cmdstanpy - INFO - Chain [1] start processing\n",
      "11:58:20 - cmdstanpy - INFO - Chain [1] done processing\n",
      "11:58:21 - cmdstanpy - INFO - Chain [1] start processing\n",
      "11:58:21 - cmdstanpy - INFO - Chain [1] done processing\n",
      "11:58:22 - cmdstanpy - INFO - Chain [1] start processing\n",
      "11:58:22 - cmdstanpy - INFO - Chain [1] done processing\n"
     ]
    },
    {
     "data": {
      "application/vnd.jupyter.widget-view+json": {
       "model_id": "686f74c1a0d34b35b3c088fcb0faa6a1",
       "version_major": 2,
       "version_minor": 0
      },
      "text/plain": [
       "  0%|          | 0/4 [00:00<?, ?it/s]"
      ]
     },
     "metadata": {},
     "output_type": "display_data"
    },
    {
     "name": "stderr",
     "output_type": "stream",
     "text": [
      "11:58:22 - cmdstanpy - INFO - Chain [1] start processing\n",
      "11:58:23 - cmdstanpy - INFO - Chain [1] done processing\n",
      "11:58:23 - cmdstanpy - INFO - Chain [1] start processing\n",
      "11:58:23 - cmdstanpy - INFO - Chain [1] done processing\n",
      "11:58:24 - cmdstanpy - INFO - Chain [1] start processing\n",
      "11:58:24 - cmdstanpy - INFO - Chain [1] done processing\n",
      "11:58:25 - cmdstanpy - INFO - Chain [1] start processing\n",
      "11:58:25 - cmdstanpy - INFO - Chain [1] done processing\n",
      "11:58:25 - cmdstanpy - INFO - Chain [1] start processing\n",
      "11:58:25 - cmdstanpy - INFO - Chain [1] done processing\n"
     ]
    },
    {
     "data": {
      "application/vnd.jupyter.widget-view+json": {
       "model_id": "83121f3744f7447a90b1fee4375cfe7b",
       "version_major": 2,
       "version_minor": 0
      },
      "text/plain": [
       "  0%|          | 0/4 [00:00<?, ?it/s]"
      ]
     },
     "metadata": {},
     "output_type": "display_data"
    },
    {
     "name": "stderr",
     "output_type": "stream",
     "text": [
      "11:58:26 - cmdstanpy - INFO - Chain [1] start processing\n",
      "11:58:26 - cmdstanpy - INFO - Chain [1] done processing\n",
      "11:58:27 - cmdstanpy - INFO - Chain [1] start processing\n",
      "11:58:27 - cmdstanpy - INFO - Chain [1] done processing\n",
      "11:58:28 - cmdstanpy - INFO - Chain [1] start processing\n",
      "11:58:28 - cmdstanpy - INFO - Chain [1] done processing\n",
      "11:58:28 - cmdstanpy - INFO - Chain [1] start processing\n",
      "11:58:28 - cmdstanpy - INFO - Chain [1] done processing\n",
      "11:58:29 - cmdstanpy - INFO - Chain [1] start processing\n",
      "11:58:29 - cmdstanpy - INFO - Chain [1] done processing\n"
     ]
    },
    {
     "data": {
      "application/vnd.jupyter.widget-view+json": {
       "model_id": "fcdc781318134b30a93c570712ca2cad",
       "version_major": 2,
       "version_minor": 0
      },
      "text/plain": [
       "  0%|          | 0/4 [00:00<?, ?it/s]"
      ]
     },
     "metadata": {},
     "output_type": "display_data"
    },
    {
     "name": "stderr",
     "output_type": "stream",
     "text": [
      "11:58:29 - cmdstanpy - INFO - Chain [1] start processing\n",
      "11:58:30 - cmdstanpy - INFO - Chain [1] done processing\n",
      "11:58:30 - cmdstanpy - INFO - Chain [1] start processing\n",
      "11:58:30 - cmdstanpy - INFO - Chain [1] done processing\n",
      "11:58:31 - cmdstanpy - INFO - Chain [1] start processing\n",
      "11:58:31 - cmdstanpy - INFO - Chain [1] done processing\n",
      "11:58:32 - cmdstanpy - INFO - Chain [1] start processing\n",
      "11:58:32 - cmdstanpy - INFO - Chain [1] done processing\n",
      "11:58:32 - cmdstanpy - INFO - Chain [1] start processing\n",
      "11:58:32 - cmdstanpy - INFO - Chain [1] done processing\n"
     ]
    },
    {
     "data": {
      "application/vnd.jupyter.widget-view+json": {
       "model_id": "859dab367b294756923bd00a57e934c1",
       "version_major": 2,
       "version_minor": 0
      },
      "text/plain": [
       "  0%|          | 0/4 [00:00<?, ?it/s]"
      ]
     },
     "metadata": {},
     "output_type": "display_data"
    },
    {
     "name": "stderr",
     "output_type": "stream",
     "text": [
      "11:58:32 - cmdstanpy - INFO - Chain [1] start processing\n",
      "11:58:33 - cmdstanpy - INFO - Chain [1] done processing\n",
      "11:58:34 - cmdstanpy - INFO - Chain [1] start processing\n",
      "11:58:34 - cmdstanpy - INFO - Chain [1] done processing\n",
      "11:58:34 - cmdstanpy - INFO - Chain [1] start processing\n",
      "11:58:34 - cmdstanpy - INFO - Chain [1] done processing\n",
      "11:58:35 - cmdstanpy - INFO - Chain [1] start processing\n",
      "11:58:35 - cmdstanpy - INFO - Chain [1] done processing\n",
      "11:58:36 - cmdstanpy - INFO - Chain [1] start processing\n",
      "11:58:36 - cmdstanpy - INFO - Chain [1] done processing\n"
     ]
    },
    {
     "data": {
      "application/vnd.jupyter.widget-view+json": {
       "model_id": "920abde01e6f42d4af9c032b3786fcd6",
       "version_major": 2,
       "version_minor": 0
      },
      "text/plain": [
       "  0%|          | 0/4 [00:00<?, ?it/s]"
      ]
     },
     "metadata": {},
     "output_type": "display_data"
    },
    {
     "name": "stderr",
     "output_type": "stream",
     "text": [
      "11:58:36 - cmdstanpy - INFO - Chain [1] start processing\n",
      "11:58:37 - cmdstanpy - INFO - Chain [1] done processing\n",
      "11:58:38 - cmdstanpy - INFO - Chain [1] start processing\n",
      "11:58:38 - cmdstanpy - INFO - Chain [1] done processing\n",
      "11:58:39 - cmdstanpy - INFO - Chain [1] start processing\n",
      "11:58:39 - cmdstanpy - INFO - Chain [1] done processing\n",
      "11:58:39 - cmdstanpy - INFO - Chain [1] start processing\n",
      "11:58:39 - cmdstanpy - INFO - Chain [1] done processing\n",
      "11:58:40 - cmdstanpy - INFO - Chain [1] start processing\n",
      "11:58:40 - cmdstanpy - INFO - Chain [1] done processing\n"
     ]
    },
    {
     "data": {
      "application/vnd.jupyter.widget-view+json": {
       "model_id": "7eef759acbe74545a6b71f7363dfac7b",
       "version_major": 2,
       "version_minor": 0
      },
      "text/plain": [
       "  0%|          | 0/4 [00:00<?, ?it/s]"
      ]
     },
     "metadata": {},
     "output_type": "display_data"
    },
    {
     "name": "stderr",
     "output_type": "stream",
     "text": [
      "11:58:40 - cmdstanpy - INFO - Chain [1] start processing\n",
      "11:58:41 - cmdstanpy - INFO - Chain [1] done processing\n",
      "11:58:41 - cmdstanpy - INFO - Chain [1] start processing\n",
      "11:58:41 - cmdstanpy - INFO - Chain [1] done processing\n",
      "11:58:42 - cmdstanpy - INFO - Chain [1] start processing\n",
      "11:58:42 - cmdstanpy - INFO - Chain [1] done processing\n",
      "11:58:43 - cmdstanpy - INFO - Chain [1] start processing\n",
      "11:58:43 - cmdstanpy - INFO - Chain [1] done processing\n",
      "11:58:43 - cmdstanpy - INFO - Chain [1] start processing\n",
      "11:58:44 - cmdstanpy - INFO - Chain [1] done processing\n"
     ]
    },
    {
     "data": {
      "application/vnd.jupyter.widget-view+json": {
       "model_id": "a252df8fc7a1430aab277ddc8de6efa7",
       "version_major": 2,
       "version_minor": 0
      },
      "text/plain": [
       "  0%|          | 0/4 [00:00<?, ?it/s]"
      ]
     },
     "metadata": {},
     "output_type": "display_data"
    },
    {
     "name": "stderr",
     "output_type": "stream",
     "text": [
      "11:58:44 - cmdstanpy - INFO - Chain [1] start processing\n",
      "11:58:44 - cmdstanpy - INFO - Chain [1] done processing\n",
      "11:58:45 - cmdstanpy - INFO - Chain [1] start processing\n",
      "11:58:45 - cmdstanpy - INFO - Chain [1] done processing\n",
      "11:58:45 - cmdstanpy - INFO - Chain [1] start processing\n",
      "11:58:45 - cmdstanpy - INFO - Chain [1] done processing\n",
      "11:58:46 - cmdstanpy - INFO - Chain [1] start processing\n",
      "11:58:46 - cmdstanpy - INFO - Chain [1] done processing\n",
      "11:58:47 - cmdstanpy - INFO - Chain [1] start processing\n",
      "11:58:47 - cmdstanpy - INFO - Chain [1] done processing\n"
     ]
    },
    {
     "data": {
      "application/vnd.jupyter.widget-view+json": {
       "model_id": "a1b6ff89cb9a45bab72d5edfa6073ee6",
       "version_major": 2,
       "version_minor": 0
      },
      "text/plain": [
       "  0%|          | 0/4 [00:00<?, ?it/s]"
      ]
     },
     "metadata": {},
     "output_type": "display_data"
    },
    {
     "name": "stderr",
     "output_type": "stream",
     "text": [
      "11:58:47 - cmdstanpy - INFO - Chain [1] start processing\n",
      "11:58:47 - cmdstanpy - INFO - Chain [1] done processing\n",
      "11:58:48 - cmdstanpy - INFO - Chain [1] start processing\n",
      "11:58:48 - cmdstanpy - INFO - Chain [1] done processing\n",
      "11:58:49 - cmdstanpy - INFO - Chain [1] start processing\n",
      "11:58:49 - cmdstanpy - INFO - Chain [1] done processing\n",
      "11:58:49 - cmdstanpy - INFO - Chain [1] start processing\n",
      "11:58:50 - cmdstanpy - INFO - Chain [1] done processing\n",
      "11:58:50 - cmdstanpy - INFO - Chain [1] start processing\n",
      "11:58:50 - cmdstanpy - INFO - Chain [1] done processing\n"
     ]
    },
    {
     "data": {
      "application/vnd.jupyter.widget-view+json": {
       "model_id": "55e933ca605246ec8e462022e3dc5d0e",
       "version_major": 2,
       "version_minor": 0
      },
      "text/plain": [
       "  0%|          | 0/4 [00:00<?, ?it/s]"
      ]
     },
     "metadata": {},
     "output_type": "display_data"
    },
    {
     "name": "stderr",
     "output_type": "stream",
     "text": [
      "11:58:50 - cmdstanpy - INFO - Chain [1] start processing\n",
      "11:58:51 - cmdstanpy - INFO - Chain [1] done processing\n",
      "11:58:51 - cmdstanpy - INFO - Chain [1] start processing\n",
      "11:58:51 - cmdstanpy - INFO - Chain [1] done processing\n",
      "11:58:52 - cmdstanpy - INFO - Chain [1] start processing\n",
      "11:58:52 - cmdstanpy - INFO - Chain [1] done processing\n",
      "11:58:53 - cmdstanpy - INFO - Chain [1] start processing\n",
      "11:58:53 - cmdstanpy - INFO - Chain [1] done processing\n",
      "11:58:53 - cmdstanpy - INFO - Chain [1] start processing\n",
      "11:58:53 - cmdstanpy - INFO - Chain [1] done processing\n"
     ]
    },
    {
     "data": {
      "application/vnd.jupyter.widget-view+json": {
       "model_id": "d59424dd5b924283bf1abc0b9e41ef7e",
       "version_major": 2,
       "version_minor": 0
      },
      "text/plain": [
       "  0%|          | 0/4 [00:00<?, ?it/s]"
      ]
     },
     "metadata": {},
     "output_type": "display_data"
    },
    {
     "name": "stderr",
     "output_type": "stream",
     "text": [
      "11:58:53 - cmdstanpy - INFO - Chain [1] start processing\n",
      "11:58:54 - cmdstanpy - INFO - Chain [1] done processing\n",
      "11:58:55 - cmdstanpy - INFO - Chain [1] start processing\n",
      "11:58:55 - cmdstanpy - INFO - Chain [1] done processing\n",
      "11:58:56 - cmdstanpy - INFO - Chain [1] start processing\n",
      "11:58:56 - cmdstanpy - INFO - Chain [1] done processing\n",
      "11:58:56 - cmdstanpy - INFO - Chain [1] start processing\n",
      "11:58:56 - cmdstanpy - INFO - Chain [1] done processing\n",
      "11:58:57 - cmdstanpy - INFO - Chain [1] start processing\n",
      "11:58:57 - cmdstanpy - INFO - Chain [1] done processing\n"
     ]
    },
    {
     "data": {
      "application/vnd.jupyter.widget-view+json": {
       "model_id": "bf5a92aaf96040e3bc4987219d2d8a8d",
       "version_major": 2,
       "version_minor": 0
      },
      "text/plain": [
       "  0%|          | 0/4 [00:00<?, ?it/s]"
      ]
     },
     "metadata": {},
     "output_type": "display_data"
    },
    {
     "name": "stderr",
     "output_type": "stream",
     "text": [
      "11:58:57 - cmdstanpy - INFO - Chain [1] start processing\n",
      "11:58:58 - cmdstanpy - INFO - Chain [1] done processing\n",
      "11:58:59 - cmdstanpy - INFO - Chain [1] start processing\n",
      "11:58:59 - cmdstanpy - INFO - Chain [1] done processing\n",
      "11:58:59 - cmdstanpy - INFO - Chain [1] start processing\n",
      "11:58:59 - cmdstanpy - INFO - Chain [1] done processing\n",
      "11:59:00 - cmdstanpy - INFO - Chain [1] start processing\n",
      "11:59:00 - cmdstanpy - INFO - Chain [1] done processing\n",
      "11:59:01 - cmdstanpy - INFO - Chain [1] start processing\n",
      "11:59:01 - cmdstanpy - INFO - Chain [1] done processing\n"
     ]
    },
    {
     "data": {
      "application/vnd.jupyter.widget-view+json": {
       "model_id": "3004cf7509b24609ba26b4959c623e6f",
       "version_major": 2,
       "version_minor": 0
      },
      "text/plain": [
       "  0%|          | 0/4 [00:00<?, ?it/s]"
      ]
     },
     "metadata": {},
     "output_type": "display_data"
    },
    {
     "name": "stderr",
     "output_type": "stream",
     "text": [
      "11:59:01 - cmdstanpy - INFO - Chain [1] start processing\n",
      "11:59:02 - cmdstanpy - INFO - Chain [1] done processing\n",
      "11:59:02 - cmdstanpy - INFO - Chain [1] start processing\n",
      "11:59:02 - cmdstanpy - INFO - Chain [1] done processing\n",
      "11:59:03 - cmdstanpy - INFO - Chain [1] start processing\n",
      "11:59:03 - cmdstanpy - INFO - Chain [1] done processing\n",
      "11:59:04 - cmdstanpy - INFO - Chain [1] start processing\n",
      "11:59:04 - cmdstanpy - INFO - Chain [1] done processing\n",
      "11:59:05 - cmdstanpy - INFO - Chain [1] start processing\n",
      "11:59:05 - cmdstanpy - INFO - Chain [1] done processing\n"
     ]
    },
    {
     "data": {
      "application/vnd.jupyter.widget-view+json": {
       "model_id": "4dfd9ecd42d1407d8e5f9034e9ed23b0",
       "version_major": 2,
       "version_minor": 0
      },
      "text/plain": [
       "  0%|          | 0/4 [00:00<?, ?it/s]"
      ]
     },
     "metadata": {},
     "output_type": "display_data"
    },
    {
     "name": "stderr",
     "output_type": "stream",
     "text": [
      "11:59:05 - cmdstanpy - INFO - Chain [1] start processing\n",
      "11:59:05 - cmdstanpy - INFO - Chain [1] done processing\n",
      "11:59:06 - cmdstanpy - INFO - Chain [1] start processing\n",
      "11:59:06 - cmdstanpy - INFO - Chain [1] done processing\n",
      "11:59:07 - cmdstanpy - INFO - Chain [1] start processing\n",
      "11:59:07 - cmdstanpy - INFO - Chain [1] done processing\n",
      "11:59:08 - cmdstanpy - INFO - Chain [1] start processing\n",
      "11:59:08 - cmdstanpy - INFO - Chain [1] done processing\n",
      "11:59:08 - cmdstanpy - INFO - Chain [1] start processing\n",
      "11:59:09 - cmdstanpy - INFO - Chain [1] done processing\n"
     ]
    },
    {
     "data": {
      "application/vnd.jupyter.widget-view+json": {
       "model_id": "ee6b52112f68473eab5072e5d0e0157b",
       "version_major": 2,
       "version_minor": 0
      },
      "text/plain": [
       "  0%|          | 0/4 [00:00<?, ?it/s]"
      ]
     },
     "metadata": {},
     "output_type": "display_data"
    },
    {
     "name": "stderr",
     "output_type": "stream",
     "text": [
      "11:59:09 - cmdstanpy - INFO - Chain [1] start processing\n",
      "11:59:09 - cmdstanpy - INFO - Chain [1] done processing\n",
      "11:59:10 - cmdstanpy - INFO - Chain [1] start processing\n",
      "11:59:10 - cmdstanpy - INFO - Chain [1] done processing\n",
      "11:59:11 - cmdstanpy - INFO - Chain [1] start processing\n",
      "11:59:11 - cmdstanpy - INFO - Chain [1] done processing\n",
      "11:59:11 - cmdstanpy - INFO - Chain [1] start processing\n",
      "11:59:12 - cmdstanpy - INFO - Chain [1] done processing\n",
      "11:59:12 - cmdstanpy - INFO - Chain [1] start processing\n",
      "11:59:12 - cmdstanpy - INFO - Chain [1] done processing\n"
     ]
    },
    {
     "data": {
      "application/vnd.jupyter.widget-view+json": {
       "model_id": "5249e7501194419299fb23e8d7be2823",
       "version_major": 2,
       "version_minor": 0
      },
      "text/plain": [
       "  0%|          | 0/4 [00:00<?, ?it/s]"
      ]
     },
     "metadata": {},
     "output_type": "display_data"
    },
    {
     "name": "stderr",
     "output_type": "stream",
     "text": [
      "11:59:12 - cmdstanpy - INFO - Chain [1] start processing\n",
      "11:59:13 - cmdstanpy - INFO - Chain [1] done processing\n",
      "11:59:13 - cmdstanpy - INFO - Chain [1] start processing\n",
      "11:59:13 - cmdstanpy - INFO - Chain [1] done processing\n",
      "11:59:14 - cmdstanpy - INFO - Chain [1] start processing\n",
      "11:59:14 - cmdstanpy - INFO - Chain [1] done processing\n",
      "11:59:15 - cmdstanpy - INFO - Chain [1] start processing\n",
      "11:59:15 - cmdstanpy - INFO - Chain [1] done processing\n",
      "11:59:16 - cmdstanpy - INFO - Chain [1] start processing\n",
      "11:59:16 - cmdstanpy - INFO - Chain [1] done processing\n"
     ]
    },
    {
     "data": {
      "application/vnd.jupyter.widget-view+json": {
       "model_id": "4a8eeefd9ffe4baa920b1b0725ddde50",
       "version_major": 2,
       "version_minor": 0
      },
      "text/plain": [
       "  0%|          | 0/4 [00:00<?, ?it/s]"
      ]
     },
     "metadata": {},
     "output_type": "display_data"
    },
    {
     "name": "stderr",
     "output_type": "stream",
     "text": [
      "11:59:16 - cmdstanpy - INFO - Chain [1] start processing\n",
      "11:59:17 - cmdstanpy - INFO - Chain [1] done processing\n",
      "11:59:17 - cmdstanpy - INFO - Chain [1] start processing\n",
      "11:59:17 - cmdstanpy - INFO - Chain [1] done processing\n",
      "11:59:18 - cmdstanpy - INFO - Chain [1] start processing\n",
      "11:59:18 - cmdstanpy - INFO - Chain [1] done processing\n",
      "11:59:19 - cmdstanpy - INFO - Chain [1] start processing\n",
      "11:59:19 - cmdstanpy - INFO - Chain [1] done processing\n",
      "11:59:19 - cmdstanpy - INFO - Chain [1] start processing\n",
      "11:59:20 - cmdstanpy - INFO - Chain [1] done processing\n"
     ]
    },
    {
     "data": {
      "application/vnd.jupyter.widget-view+json": {
       "model_id": "29a61f8e872249acb15778e3ae626cd8",
       "version_major": 2,
       "version_minor": 0
      },
      "text/plain": [
       "  0%|          | 0/4 [00:00<?, ?it/s]"
      ]
     },
     "metadata": {},
     "output_type": "display_data"
    },
    {
     "name": "stderr",
     "output_type": "stream",
     "text": [
      "11:59:20 - cmdstanpy - INFO - Chain [1] start processing\n",
      "11:59:20 - cmdstanpy - INFO - Chain [1] done processing\n",
      "11:59:21 - cmdstanpy - INFO - Chain [1] start processing\n",
      "11:59:21 - cmdstanpy - INFO - Chain [1] done processing\n",
      "11:59:21 - cmdstanpy - INFO - Chain [1] start processing\n",
      "11:59:21 - cmdstanpy - INFO - Chain [1] done processing\n",
      "11:59:22 - cmdstanpy - INFO - Chain [1] start processing\n",
      "11:59:22 - cmdstanpy - INFO - Chain [1] done processing\n",
      "11:59:23 - cmdstanpy - INFO - Chain [1] start processing\n",
      "11:59:23 - cmdstanpy - INFO - Chain [1] done processing\n"
     ]
    },
    {
     "data": {
      "application/vnd.jupyter.widget-view+json": {
       "model_id": "c88ef5ba0556493696c08913f6708e06",
       "version_major": 2,
       "version_minor": 0
      },
      "text/plain": [
       "  0%|          | 0/4 [00:00<?, ?it/s]"
      ]
     },
     "metadata": {},
     "output_type": "display_data"
    },
    {
     "name": "stderr",
     "output_type": "stream",
     "text": [
      "11:59:23 - cmdstanpy - INFO - Chain [1] start processing\n",
      "11:59:23 - cmdstanpy - INFO - Chain [1] done processing\n",
      "11:59:24 - cmdstanpy - INFO - Chain [1] start processing\n",
      "11:59:24 - cmdstanpy - INFO - Chain [1] done processing\n",
      "11:59:25 - cmdstanpy - INFO - Chain [1] start processing\n",
      "11:59:25 - cmdstanpy - INFO - Chain [1] done processing\n",
      "11:59:25 - cmdstanpy - INFO - Chain [1] start processing\n",
      "11:59:25 - cmdstanpy - INFO - Chain [1] done processing\n",
      "11:59:26 - cmdstanpy - INFO - Chain [1] start processing\n",
      "11:59:26 - cmdstanpy - INFO - Chain [1] done processing\n"
     ]
    },
    {
     "data": {
      "application/vnd.jupyter.widget-view+json": {
       "model_id": "8dc23a19234a44879eee6ba964ef6b80",
       "version_major": 2,
       "version_minor": 0
      },
      "text/plain": [
       "  0%|          | 0/4 [00:00<?, ?it/s]"
      ]
     },
     "metadata": {},
     "output_type": "display_data"
    },
    {
     "name": "stderr",
     "output_type": "stream",
     "text": [
      "11:59:26 - cmdstanpy - INFO - Chain [1] start processing\n",
      "11:59:26 - cmdstanpy - INFO - Chain [1] done processing\n",
      "11:59:27 - cmdstanpy - INFO - Chain [1] start processing\n",
      "11:59:27 - cmdstanpy - INFO - Chain [1] done processing\n",
      "11:59:28 - cmdstanpy - INFO - Chain [1] start processing\n",
      "11:59:28 - cmdstanpy - INFO - Chain [1] done processing\n",
      "11:59:28 - cmdstanpy - INFO - Chain [1] start processing\n",
      "11:59:29 - cmdstanpy - INFO - Chain [1] done processing\n",
      "11:59:29 - cmdstanpy - INFO - Chain [1] start processing\n",
      "11:59:29 - cmdstanpy - INFO - Chain [1] done processing\n"
     ]
    },
    {
     "data": {
      "application/vnd.jupyter.widget-view+json": {
       "model_id": "5bb50dc298044413bdc5313bb1eea4c9",
       "version_major": 2,
       "version_minor": 0
      },
      "text/plain": [
       "  0%|          | 0/4 [00:00<?, ?it/s]"
      ]
     },
     "metadata": {},
     "output_type": "display_data"
    },
    {
     "name": "stderr",
     "output_type": "stream",
     "text": [
      "11:59:29 - cmdstanpy - INFO - Chain [1] start processing\n",
      "11:59:30 - cmdstanpy - INFO - Chain [1] done processing\n",
      "11:59:30 - cmdstanpy - INFO - Chain [1] start processing\n",
      "11:59:30 - cmdstanpy - INFO - Chain [1] done processing\n",
      "11:59:31 - cmdstanpy - INFO - Chain [1] start processing\n",
      "11:59:31 - cmdstanpy - INFO - Chain [1] done processing\n",
      "11:59:32 - cmdstanpy - INFO - Chain [1] start processing\n",
      "11:59:32 - cmdstanpy - INFO - Chain [1] done processing\n",
      "11:59:32 - cmdstanpy - INFO - Chain [1] start processing\n",
      "11:59:32 - cmdstanpy - INFO - Chain [1] done processing\n"
     ]
    },
    {
     "data": {
      "application/vnd.jupyter.widget-view+json": {
       "model_id": "29060c8a770b42b7837e5cbae7f6b99c",
       "version_major": 2,
       "version_minor": 0
      },
      "text/plain": [
       "  0%|          | 0/4 [00:00<?, ?it/s]"
      ]
     },
     "metadata": {},
     "output_type": "display_data"
    },
    {
     "name": "stderr",
     "output_type": "stream",
     "text": [
      "11:59:32 - cmdstanpy - INFO - Chain [1] start processing\n",
      "11:59:33 - cmdstanpy - INFO - Chain [1] done processing\n",
      "11:59:34 - cmdstanpy - INFO - Chain [1] start processing\n",
      "11:59:34 - cmdstanpy - INFO - Chain [1] done processing\n",
      "11:59:34 - cmdstanpy - INFO - Chain [1] start processing\n",
      "11:59:34 - cmdstanpy - INFO - Chain [1] done processing\n",
      "11:59:35 - cmdstanpy - INFO - Chain [1] start processing\n",
      "11:59:35 - cmdstanpy - INFO - Chain [1] done processing\n",
      "11:59:36 - cmdstanpy - INFO - Chain [1] start processing\n",
      "11:59:36 - cmdstanpy - INFO - Chain [1] done processing\n"
     ]
    },
    {
     "data": {
      "application/vnd.jupyter.widget-view+json": {
       "model_id": "5d0d933724a246a0a954d72c3b8d8592",
       "version_major": 2,
       "version_minor": 0
      },
      "text/plain": [
       "  0%|          | 0/4 [00:00<?, ?it/s]"
      ]
     },
     "metadata": {},
     "output_type": "display_data"
    },
    {
     "name": "stderr",
     "output_type": "stream",
     "text": [
      "11:59:36 - cmdstanpy - INFO - Chain [1] start processing\n",
      "11:59:36 - cmdstanpy - INFO - Chain [1] done processing\n",
      "11:59:37 - cmdstanpy - INFO - Chain [1] start processing\n",
      "11:59:37 - cmdstanpy - INFO - Chain [1] done processing\n",
      "11:59:38 - cmdstanpy - INFO - Chain [1] start processing\n",
      "11:59:39 - cmdstanpy - INFO - Chain [1] done processing\n",
      "11:59:39 - cmdstanpy - INFO - Chain [1] start processing\n",
      "11:59:39 - cmdstanpy - INFO - Chain [1] done processing\n",
      "11:59:40 - cmdstanpy - INFO - Chain [1] start processing\n",
      "11:59:40 - cmdstanpy - INFO - Chain [1] done processing\n"
     ]
    },
    {
     "data": {
      "application/vnd.jupyter.widget-view+json": {
       "model_id": "6086bbe6f9ac411590403e7be366a684",
       "version_major": 2,
       "version_minor": 0
      },
      "text/plain": [
       "  0%|          | 0/4 [00:00<?, ?it/s]"
      ]
     },
     "metadata": {},
     "output_type": "display_data"
    },
    {
     "name": "stderr",
     "output_type": "stream",
     "text": [
      "11:59:40 - cmdstanpy - INFO - Chain [1] start processing\n",
      "11:59:41 - cmdstanpy - INFO - Chain [1] done processing\n",
      "11:59:42 - cmdstanpy - INFO - Chain [1] start processing\n",
      "11:59:42 - cmdstanpy - INFO - Chain [1] done processing\n",
      "11:59:42 - cmdstanpy - INFO - Chain [1] start processing\n",
      "11:59:42 - cmdstanpy - INFO - Chain [1] done processing\n",
      "11:59:43 - cmdstanpy - INFO - Chain [1] start processing\n",
      "11:59:43 - cmdstanpy - INFO - Chain [1] done processing\n",
      "11:59:45 - cmdstanpy - INFO - Chain [1] start processing\n",
      "11:59:45 - cmdstanpy - INFO - Chain [1] done processing\n"
     ]
    },
    {
     "data": {
      "application/vnd.jupyter.widget-view+json": {
       "model_id": "386acff0d46143f19f529e72f78d718a",
       "version_major": 2,
       "version_minor": 0
      },
      "text/plain": [
       "  0%|          | 0/4 [00:00<?, ?it/s]"
      ]
     },
     "metadata": {},
     "output_type": "display_data"
    },
    {
     "name": "stderr",
     "output_type": "stream",
     "text": [
      "11:59:45 - cmdstanpy - INFO - Chain [1] start processing\n",
      "11:59:45 - cmdstanpy - INFO - Chain [1] done processing\n",
      "11:59:46 - cmdstanpy - INFO - Chain [1] start processing\n",
      "11:59:46 - cmdstanpy - INFO - Chain [1] done processing\n",
      "11:59:47 - cmdstanpy - INFO - Chain [1] start processing\n",
      "11:59:47 - cmdstanpy - INFO - Chain [1] done processing\n",
      "11:59:48 - cmdstanpy - INFO - Chain [1] start processing\n",
      "11:59:48 - cmdstanpy - INFO - Chain [1] done processing\n",
      "11:59:49 - cmdstanpy - INFO - Chain [1] start processing\n",
      "11:59:49 - cmdstanpy - INFO - Chain [1] done processing\n"
     ]
    },
    {
     "data": {
      "application/vnd.jupyter.widget-view+json": {
       "model_id": "e2fd0af21ee84455b6afc069b11eb3ae",
       "version_major": 2,
       "version_minor": 0
      },
      "text/plain": [
       "  0%|          | 0/4 [00:00<?, ?it/s]"
      ]
     },
     "metadata": {},
     "output_type": "display_data"
    },
    {
     "name": "stderr",
     "output_type": "stream",
     "text": [
      "11:59:49 - cmdstanpy - INFO - Chain [1] start processing\n",
      "11:59:50 - cmdstanpy - INFO - Chain [1] done processing\n",
      "11:59:51 - cmdstanpy - INFO - Chain [1] start processing\n",
      "11:59:51 - cmdstanpy - INFO - Chain [1] done processing\n",
      "11:59:52 - cmdstanpy - INFO - Chain [1] start processing\n",
      "11:59:52 - cmdstanpy - INFO - Chain [1] done processing\n",
      "11:59:53 - cmdstanpy - INFO - Chain [1] start processing\n",
      "11:59:53 - cmdstanpy - INFO - Chain [1] done processing\n",
      "11:59:54 - cmdstanpy - INFO - Chain [1] start processing\n",
      "11:59:54 - cmdstanpy - INFO - Chain [1] done processing\n"
     ]
    },
    {
     "data": {
      "application/vnd.jupyter.widget-view+json": {
       "model_id": "8ed34e89a0a94461b3f9cc6c3f711138",
       "version_major": 2,
       "version_minor": 0
      },
      "text/plain": [
       "  0%|          | 0/4 [00:00<?, ?it/s]"
      ]
     },
     "metadata": {},
     "output_type": "display_data"
    },
    {
     "name": "stderr",
     "output_type": "stream",
     "text": [
      "11:59:54 - cmdstanpy - INFO - Chain [1] start processing\n",
      "11:59:54 - cmdstanpy - INFO - Chain [1] done processing\n",
      "11:59:55 - cmdstanpy - INFO - Chain [1] start processing\n",
      "11:59:55 - cmdstanpy - INFO - Chain [1] done processing\n",
      "11:59:56 - cmdstanpy - INFO - Chain [1] start processing\n",
      "11:59:56 - cmdstanpy - INFO - Chain [1] done processing\n",
      "11:59:57 - cmdstanpy - INFO - Chain [1] start processing\n",
      "11:59:57 - cmdstanpy - INFO - Chain [1] done processing\n",
      "11:59:58 - cmdstanpy - INFO - Chain [1] start processing\n",
      "11:59:58 - cmdstanpy - INFO - Chain [1] done processing\n"
     ]
    },
    {
     "data": {
      "application/vnd.jupyter.widget-view+json": {
       "model_id": "11c65ca94bfb42979977eff8fd001697",
       "version_major": 2,
       "version_minor": 0
      },
      "text/plain": [
       "  0%|          | 0/4 [00:00<?, ?it/s]"
      ]
     },
     "metadata": {},
     "output_type": "display_data"
    },
    {
     "name": "stderr",
     "output_type": "stream",
     "text": [
      "11:59:58 - cmdstanpy - INFO - Chain [1] start processing\n",
      "11:59:59 - cmdstanpy - INFO - Chain [1] done processing\n",
      "12:00:00 - cmdstanpy - INFO - Chain [1] start processing\n",
      "12:00:00 - cmdstanpy - INFO - Chain [1] done processing\n",
      "12:00:00 - cmdstanpy - INFO - Chain [1] start processing\n",
      "12:00:00 - cmdstanpy - INFO - Chain [1] done processing\n",
      "12:00:01 - cmdstanpy - INFO - Chain [1] start processing\n",
      "12:00:01 - cmdstanpy - INFO - Chain [1] done processing\n",
      "12:00:02 - cmdstanpy - INFO - Chain [1] start processing\n",
      "12:00:02 - cmdstanpy - INFO - Chain [1] done processing\n"
     ]
    },
    {
     "data": {
      "application/vnd.jupyter.widget-view+json": {
       "model_id": "1f65ae9f9118428c87660d4a39c285bb",
       "version_major": 2,
       "version_minor": 0
      },
      "text/plain": [
       "  0%|          | 0/4 [00:00<?, ?it/s]"
      ]
     },
     "metadata": {},
     "output_type": "display_data"
    },
    {
     "name": "stderr",
     "output_type": "stream",
     "text": [
      "12:00:02 - cmdstanpy - INFO - Chain [1] start processing\n",
      "12:00:02 - cmdstanpy - INFO - Chain [1] done processing\n",
      "12:00:03 - cmdstanpy - INFO - Chain [1] start processing\n",
      "12:00:03 - cmdstanpy - INFO - Chain [1] done processing\n",
      "12:00:04 - cmdstanpy - INFO - Chain [1] start processing\n",
      "12:00:04 - cmdstanpy - INFO - Chain [1] done processing\n",
      "12:00:05 - cmdstanpy - INFO - Chain [1] start processing\n",
      "12:00:05 - cmdstanpy - INFO - Chain [1] done processing\n",
      "12:00:06 - cmdstanpy - INFO - Chain [1] start processing\n",
      "12:00:06 - cmdstanpy - INFO - Chain [1] done processing\n"
     ]
    },
    {
     "data": {
      "application/vnd.jupyter.widget-view+json": {
       "model_id": "f1b79c13317a4077ae69260a6c1c5701",
       "version_major": 2,
       "version_minor": 0
      },
      "text/plain": [
       "  0%|          | 0/4 [00:00<?, ?it/s]"
      ]
     },
     "metadata": {},
     "output_type": "display_data"
    },
    {
     "name": "stderr",
     "output_type": "stream",
     "text": [
      "12:00:06 - cmdstanpy - INFO - Chain [1] start processing\n",
      "12:00:06 - cmdstanpy - INFO - Chain [1] done processing\n",
      "12:00:07 - cmdstanpy - INFO - Chain [1] start processing\n",
      "12:00:07 - cmdstanpy - INFO - Chain [1] done processing\n",
      "12:00:08 - cmdstanpy - INFO - Chain [1] start processing\n",
      "12:00:08 - cmdstanpy - INFO - Chain [1] done processing\n",
      "12:00:09 - cmdstanpy - INFO - Chain [1] start processing\n",
      "12:00:09 - cmdstanpy - INFO - Chain [1] done processing\n",
      "12:00:10 - cmdstanpy - INFO - Chain [1] start processing\n",
      "12:00:10 - cmdstanpy - INFO - Chain [1] done processing\n"
     ]
    },
    {
     "data": {
      "application/vnd.jupyter.widget-view+json": {
       "model_id": "242a1d0094ea4ec5a827be84792d4686",
       "version_major": 2,
       "version_minor": 0
      },
      "text/plain": [
       "  0%|          | 0/4 [00:00<?, ?it/s]"
      ]
     },
     "metadata": {},
     "output_type": "display_data"
    },
    {
     "name": "stderr",
     "output_type": "stream",
     "text": [
      "12:00:10 - cmdstanpy - INFO - Chain [1] start processing\n",
      "12:00:10 - cmdstanpy - INFO - Chain [1] done processing\n",
      "12:00:11 - cmdstanpy - INFO - Chain [1] start processing\n",
      "12:00:11 - cmdstanpy - INFO - Chain [1] done processing\n",
      "12:00:12 - cmdstanpy - INFO - Chain [1] start processing\n",
      "12:00:12 - cmdstanpy - INFO - Chain [1] done processing\n",
      "12:00:12 - cmdstanpy - INFO - Chain [1] start processing\n",
      "12:00:12 - cmdstanpy - INFO - Chain [1] done processing\n",
      "12:00:13 - cmdstanpy - INFO - Chain [1] start processing\n",
      "12:00:13 - cmdstanpy - INFO - Chain [1] done processing\n"
     ]
    },
    {
     "data": {
      "application/vnd.jupyter.widget-view+json": {
       "model_id": "c7a62fd462c643e2985a70f5593ab6b2",
       "version_major": 2,
       "version_minor": 0
      },
      "text/plain": [
       "  0%|          | 0/4 [00:00<?, ?it/s]"
      ]
     },
     "metadata": {},
     "output_type": "display_data"
    },
    {
     "name": "stderr",
     "output_type": "stream",
     "text": [
      "12:00:13 - cmdstanpy - INFO - Chain [1] start processing\n",
      "12:00:14 - cmdstanpy - INFO - Chain [1] done processing\n",
      "12:00:15 - cmdstanpy - INFO - Chain [1] start processing\n",
      "12:00:15 - cmdstanpy - INFO - Chain [1] done processing\n",
      "12:00:15 - cmdstanpy - INFO - Chain [1] start processing\n",
      "12:00:16 - cmdstanpy - INFO - Chain [1] done processing\n",
      "12:00:16 - cmdstanpy - INFO - Chain [1] start processing\n",
      "12:00:16 - cmdstanpy - INFO - Chain [1] done processing\n",
      "12:00:17 - cmdstanpy - INFO - Chain [1] start processing\n",
      "12:00:17 - cmdstanpy - INFO - Chain [1] done processing\n"
     ]
    },
    {
     "data": {
      "application/vnd.jupyter.widget-view+json": {
       "model_id": "be0c3bc7068340489dcb2cf554fb2ff9",
       "version_major": 2,
       "version_minor": 0
      },
      "text/plain": [
       "  0%|          | 0/4 [00:00<?, ?it/s]"
      ]
     },
     "metadata": {},
     "output_type": "display_data"
    },
    {
     "name": "stderr",
     "output_type": "stream",
     "text": [
      "12:00:17 - cmdstanpy - INFO - Chain [1] start processing\n",
      "12:00:18 - cmdstanpy - INFO - Chain [1] done processing\n",
      "12:00:19 - cmdstanpy - INFO - Chain [1] start processing\n",
      "12:00:19 - cmdstanpy - INFO - Chain [1] done processing\n",
      "12:00:20 - cmdstanpy - INFO - Chain [1] start processing\n",
      "12:00:20 - cmdstanpy - INFO - Chain [1] done processing\n",
      "12:00:21 - cmdstanpy - INFO - Chain [1] start processing\n",
      "12:00:21 - cmdstanpy - INFO - Chain [1] done processing\n",
      "12:00:22 - cmdstanpy - INFO - Chain [1] start processing\n",
      "12:00:22 - cmdstanpy - INFO - Chain [1] done processing\n"
     ]
    },
    {
     "data": {
      "application/vnd.jupyter.widget-view+json": {
       "model_id": "9d13cf05899d4d17b7f747afc2c87ec7",
       "version_major": 2,
       "version_minor": 0
      },
      "text/plain": [
       "  0%|          | 0/4 [00:00<?, ?it/s]"
      ]
     },
     "metadata": {},
     "output_type": "display_data"
    },
    {
     "name": "stderr",
     "output_type": "stream",
     "text": [
      "12:00:22 - cmdstanpy - INFO - Chain [1] start processing\n",
      "12:00:22 - cmdstanpy - INFO - Chain [1] done processing\n",
      "12:00:23 - cmdstanpy - INFO - Chain [1] start processing\n",
      "12:00:23 - cmdstanpy - INFO - Chain [1] done processing\n",
      "12:00:24 - cmdstanpy - INFO - Chain [1] start processing\n",
      "12:00:24 - cmdstanpy - INFO - Chain [1] done processing\n",
      "12:00:25 - cmdstanpy - INFO - Chain [1] start processing\n",
      "12:00:25 - cmdstanpy - INFO - Chain [1] done processing\n",
      "12:00:26 - cmdstanpy - INFO - Chain [1] start processing\n",
      "12:00:26 - cmdstanpy - INFO - Chain [1] done processing\n"
     ]
    },
    {
     "data": {
      "application/vnd.jupyter.widget-view+json": {
       "model_id": "2ab5120116454c399fb2489a3173b451",
       "version_major": 2,
       "version_minor": 0
      },
      "text/plain": [
       "  0%|          | 0/4 [00:00<?, ?it/s]"
      ]
     },
     "metadata": {},
     "output_type": "display_data"
    },
    {
     "name": "stderr",
     "output_type": "stream",
     "text": [
      "12:00:26 - cmdstanpy - INFO - Chain [1] start processing\n",
      "12:00:26 - cmdstanpy - INFO - Chain [1] done processing\n",
      "12:00:27 - cmdstanpy - INFO - Chain [1] start processing\n",
      "12:00:27 - cmdstanpy - INFO - Chain [1] done processing\n",
      "12:00:28 - cmdstanpy - INFO - Chain [1] start processing\n",
      "12:00:28 - cmdstanpy - INFO - Chain [1] done processing\n",
      "12:00:29 - cmdstanpy - INFO - Chain [1] start processing\n",
      "12:00:29 - cmdstanpy - INFO - Chain [1] done processing\n"
     ]
    },
    {
     "name": "stdout",
     "output_type": "stream",
     "text": [
      "     changepoint_prior_scale  seasonality_prior_scale  holidays_prior_scale  \\\n",
      "0                       0.05                      2.0                 0.005   \n",
      "1                       0.05                      2.0                 0.008   \n",
      "2                       0.05                      2.0                 0.010   \n",
      "3                       0.05                      2.0                 0.015   \n",
      "4                       0.05                      2.0                 0.020   \n",
      "..                       ...                      ...                   ...   \n",
      "120                     0.20                     13.0                 0.005   \n",
      "121                     0.20                     13.0                 0.008   \n",
      "122                     0.20                     13.0                 0.010   \n",
      "123                     0.20                     13.0                 0.015   \n",
      "124                     0.20                     13.0                 0.020   \n",
      "\n",
      "           rmse           mse         mae  \n",
      "0     74.003059   5476.452754   55.303092  \n",
      "1     74.003059   5476.452754   55.303092  \n",
      "2     74.003059   5476.452754   55.303092  \n",
      "3     74.003059   5476.452754   55.303092  \n",
      "4     74.003059   5476.452754   55.303092  \n",
      "..          ...           ...         ...  \n",
      "120  159.540140  25453.056136  128.409927  \n",
      "121  159.540140  25453.056136  128.409927  \n",
      "122  159.540140  25453.056136  128.409927  \n",
      "123  159.540140  25453.056136  128.409927  \n",
      "124  159.540140  25453.056136  128.409927  \n",
      "\n",
      "[125 rows x 6 columns]\n"
     ]
    }
   ],
   "source": [
    "from prophet import Prophet\n",
    "import itertools\n",
    "import numpy as np\n",
    "import pandas as pd\n",
    "from prophet.diagnostics import cross_validation\n",
    "from prophet.diagnostics import performance_metrics\n",
    "\n",
    "\n",
    "#changepoint_prior_scale        0.100000\n",
    "#seasonality_prior_scale       10.000000\n",
    "#holidays_prior_scale           0.010000\n",
    "#rmse                         123.334693\n",
    "#mse                        15211.446514\n",
    "#mae                           93.143057\n",
    "\n",
    "\n",
    "\n",
    "data = pd.read_csv('data.csv')\n",
    "\n",
    "\n",
    "param_grid = {  \n",
    "    'changepoint_prior_scale': [0.05, 0.8 , 0.1, 0.15, 0.2,],\n",
    "    'seasonality_prior_scale': [2.0, 5.0, 8.0, 10.0, 13.0],\n",
    "    'holidays_prior_scale': [0.005, 0.008, 0.01, 0.015, 0.02],\n",
    "}\n",
    "\n",
    "# Generate all combinations of parameters\n",
    "all_params = [dict(zip(param_grid.keys(), v)) for v in itertools.product(*param_grid.values())]\n",
    "rmses = []  # Store the RMSEs for each params here\n",
    "mse = []\n",
    "mae = []\n",
    "\n",
    "# Use cross validation to evaluate all parameters\n",
    "for params in all_params:\n",
    "    m = Prophet(**params, interval_width=0.9, daily_seasonality=True).fit(data)  # Fit model with given params\n",
    "    df_cv = cross_validation(m, initial='100 days', period='60 days', horizon = '30 days')\n",
    "    df_p = performance_metrics(df_cv, rolling_window=1)\n",
    "    rmses.append(df_p['rmse'].values[0])\n",
    "    mse.append(df_p[\"mse\"].values[0])\n",
    "    mae.append(df_p[\"mae\"].values[0])\n",
    "\n",
    "# Find the best parameters\n",
    "tuning_results = pd.DataFrame(all_params)\n",
    "tuning_results['rmse'] = rmses\n",
    "tuning_results['mse'] = mse\n",
    "tuning_results['mae'] = mae\n",
    "print(tuning_results)\n",
    "\n"
   ]
  },
  {
   "cell_type": "code",
   "execution_count": 2,
   "id": "8d68eb81",
   "metadata": {},
   "outputs": [
    {
     "name": "stdout",
     "output_type": "stream",
     "text": [
      "{'changepoint_prior_scale': 0.05, 'seasonality_prior_scale': 2.0, 'holidays_prior_scale': 0.005}\n"
     ]
    }
   ],
   "source": [
    "best_params = all_params[np.argmin(rmses)]\n",
    "print(best_params)"
   ]
  },
  {
   "cell_type": "code",
   "execution_count": 3,
   "id": "d233438b",
   "metadata": {},
   "outputs": [
    {
     "name": "stdout",
     "output_type": "stream",
     "text": [
      "     changepoint_prior_scale  seasonality_prior_scale  holidays_prior_scale  \\\n",
      "0                       0.05                      2.0                 0.005   \n",
      "1                       0.05                      2.0                 0.008   \n",
      "2                       0.05                      2.0                 0.010   \n",
      "3                       0.05                      2.0                 0.015   \n",
      "4                       0.05                      2.0                 0.020   \n",
      "..                       ...                      ...                   ...   \n",
      "120                     0.20                     13.0                 0.005   \n",
      "121                     0.20                     13.0                 0.008   \n",
      "122                     0.20                     13.0                 0.010   \n",
      "123                     0.20                     13.0                 0.015   \n",
      "124                     0.20                     13.0                 0.020   \n",
      "\n",
      "           rmse           mse         mae  \n",
      "0     74.003059   5476.452754   55.303092  \n",
      "1     74.003059   5476.452754   55.303092  \n",
      "2     74.003059   5476.452754   55.303092  \n",
      "3     74.003059   5476.452754   55.303092  \n",
      "4     74.003059   5476.452754   55.303092  \n",
      "..          ...           ...         ...  \n",
      "120  159.540140  25453.056136  128.409927  \n",
      "121  159.540140  25453.056136  128.409927  \n",
      "122  159.540140  25453.056136  128.409927  \n",
      "123  159.540140  25453.056136  128.409927  \n",
      "124  159.540140  25453.056136  128.409927  \n",
      "\n",
      "[125 rows x 6 columns]\n"
     ]
    },
    {
     "ename": "TypeError",
     "evalue": "'NoneType' object is not subscriptable",
     "output_type": "error",
     "traceback": [
      "\u001b[0;31m---------------------------------------------------------------------------\u001b[0m",
      "\u001b[0;31mTypeError\u001b[0m                                 Traceback (most recent call last)",
      "Input \u001b[0;32mIn [3]\u001b[0m, in \u001b[0;36m<cell line: 1>\u001b[0;34m()\u001b[0m\n\u001b[0;32m----> 1\u001b[0m \u001b[38;5;28;43mprint\u001b[39;49m\u001b[43m(\u001b[49m\u001b[43mtuning_results\u001b[49m\u001b[43m)\u001b[49m\u001b[43m[\u001b[49m\u001b[38;5;124;43m'\u001b[39;49m\u001b[38;5;124;43mrmse\u001b[39;49m\u001b[38;5;124;43m'\u001b[39;49m\u001b[43m]\u001b[49m\u001b[38;5;241m.\u001b[39mmin()\n",
      "\u001b[0;31mTypeError\u001b[0m: 'NoneType' object is not subscriptable"
     ]
    }
   ],
   "source": [
    "print(tuning_results)['rmse'].min()"
   ]
  },
  {
   "cell_type": "code",
   "execution_count": 4,
   "id": "80a34dd6",
   "metadata": {},
   "outputs": [
    {
     "name": "stdout",
     "output_type": "stream",
     "text": [
      "[{'changepoint_prior_scale': 0.05, 'seasonality_prior_scale': 2.0, 'holidays_prior_scale': 0.005}, {'changepoint_prior_scale': 0.05, 'seasonality_prior_scale': 2.0, 'holidays_prior_scale': 0.008}, {'changepoint_prior_scale': 0.05, 'seasonality_prior_scale': 2.0, 'holidays_prior_scale': 0.01}, {'changepoint_prior_scale': 0.05, 'seasonality_prior_scale': 2.0, 'holidays_prior_scale': 0.015}, {'changepoint_prior_scale': 0.05, 'seasonality_prior_scale': 2.0, 'holidays_prior_scale': 0.02}, {'changepoint_prior_scale': 0.05, 'seasonality_prior_scale': 5.0, 'holidays_prior_scale': 0.005}, {'changepoint_prior_scale': 0.05, 'seasonality_prior_scale': 5.0, 'holidays_prior_scale': 0.008}, {'changepoint_prior_scale': 0.05, 'seasonality_prior_scale': 5.0, 'holidays_prior_scale': 0.01}, {'changepoint_prior_scale': 0.05, 'seasonality_prior_scale': 5.0, 'holidays_prior_scale': 0.015}, {'changepoint_prior_scale': 0.05, 'seasonality_prior_scale': 5.0, 'holidays_prior_scale': 0.02}, {'changepoint_prior_scale': 0.05, 'seasonality_prior_scale': 8.0, 'holidays_prior_scale': 0.005}, {'changepoint_prior_scale': 0.05, 'seasonality_prior_scale': 8.0, 'holidays_prior_scale': 0.008}, {'changepoint_prior_scale': 0.05, 'seasonality_prior_scale': 8.0, 'holidays_prior_scale': 0.01}, {'changepoint_prior_scale': 0.05, 'seasonality_prior_scale': 8.0, 'holidays_prior_scale': 0.015}, {'changepoint_prior_scale': 0.05, 'seasonality_prior_scale': 8.0, 'holidays_prior_scale': 0.02}, {'changepoint_prior_scale': 0.05, 'seasonality_prior_scale': 10.0, 'holidays_prior_scale': 0.005}, {'changepoint_prior_scale': 0.05, 'seasonality_prior_scale': 10.0, 'holidays_prior_scale': 0.008}, {'changepoint_prior_scale': 0.05, 'seasonality_prior_scale': 10.0, 'holidays_prior_scale': 0.01}, {'changepoint_prior_scale': 0.05, 'seasonality_prior_scale': 10.0, 'holidays_prior_scale': 0.015}, {'changepoint_prior_scale': 0.05, 'seasonality_prior_scale': 10.0, 'holidays_prior_scale': 0.02}, {'changepoint_prior_scale': 0.05, 'seasonality_prior_scale': 13.0, 'holidays_prior_scale': 0.005}, {'changepoint_prior_scale': 0.05, 'seasonality_prior_scale': 13.0, 'holidays_prior_scale': 0.008}, {'changepoint_prior_scale': 0.05, 'seasonality_prior_scale': 13.0, 'holidays_prior_scale': 0.01}, {'changepoint_prior_scale': 0.05, 'seasonality_prior_scale': 13.0, 'holidays_prior_scale': 0.015}, {'changepoint_prior_scale': 0.05, 'seasonality_prior_scale': 13.0, 'holidays_prior_scale': 0.02}, {'changepoint_prior_scale': 0.8, 'seasonality_prior_scale': 2.0, 'holidays_prior_scale': 0.005}, {'changepoint_prior_scale': 0.8, 'seasonality_prior_scale': 2.0, 'holidays_prior_scale': 0.008}, {'changepoint_prior_scale': 0.8, 'seasonality_prior_scale': 2.0, 'holidays_prior_scale': 0.01}, {'changepoint_prior_scale': 0.8, 'seasonality_prior_scale': 2.0, 'holidays_prior_scale': 0.015}, {'changepoint_prior_scale': 0.8, 'seasonality_prior_scale': 2.0, 'holidays_prior_scale': 0.02}, {'changepoint_prior_scale': 0.8, 'seasonality_prior_scale': 5.0, 'holidays_prior_scale': 0.005}, {'changepoint_prior_scale': 0.8, 'seasonality_prior_scale': 5.0, 'holidays_prior_scale': 0.008}, {'changepoint_prior_scale': 0.8, 'seasonality_prior_scale': 5.0, 'holidays_prior_scale': 0.01}, {'changepoint_prior_scale': 0.8, 'seasonality_prior_scale': 5.0, 'holidays_prior_scale': 0.015}, {'changepoint_prior_scale': 0.8, 'seasonality_prior_scale': 5.0, 'holidays_prior_scale': 0.02}, {'changepoint_prior_scale': 0.8, 'seasonality_prior_scale': 8.0, 'holidays_prior_scale': 0.005}, {'changepoint_prior_scale': 0.8, 'seasonality_prior_scale': 8.0, 'holidays_prior_scale': 0.008}, {'changepoint_prior_scale': 0.8, 'seasonality_prior_scale': 8.0, 'holidays_prior_scale': 0.01}, {'changepoint_prior_scale': 0.8, 'seasonality_prior_scale': 8.0, 'holidays_prior_scale': 0.015}, {'changepoint_prior_scale': 0.8, 'seasonality_prior_scale': 8.0, 'holidays_prior_scale': 0.02}, {'changepoint_prior_scale': 0.8, 'seasonality_prior_scale': 10.0, 'holidays_prior_scale': 0.005}, {'changepoint_prior_scale': 0.8, 'seasonality_prior_scale': 10.0, 'holidays_prior_scale': 0.008}, {'changepoint_prior_scale': 0.8, 'seasonality_prior_scale': 10.0, 'holidays_prior_scale': 0.01}, {'changepoint_prior_scale': 0.8, 'seasonality_prior_scale': 10.0, 'holidays_prior_scale': 0.015}, {'changepoint_prior_scale': 0.8, 'seasonality_prior_scale': 10.0, 'holidays_prior_scale': 0.02}, {'changepoint_prior_scale': 0.8, 'seasonality_prior_scale': 13.0, 'holidays_prior_scale': 0.005}, {'changepoint_prior_scale': 0.8, 'seasonality_prior_scale': 13.0, 'holidays_prior_scale': 0.008}, {'changepoint_prior_scale': 0.8, 'seasonality_prior_scale': 13.0, 'holidays_prior_scale': 0.01}, {'changepoint_prior_scale': 0.8, 'seasonality_prior_scale': 13.0, 'holidays_prior_scale': 0.015}, {'changepoint_prior_scale': 0.8, 'seasonality_prior_scale': 13.0, 'holidays_prior_scale': 0.02}, {'changepoint_prior_scale': 0.1, 'seasonality_prior_scale': 2.0, 'holidays_prior_scale': 0.005}, {'changepoint_prior_scale': 0.1, 'seasonality_prior_scale': 2.0, 'holidays_prior_scale': 0.008}, {'changepoint_prior_scale': 0.1, 'seasonality_prior_scale': 2.0, 'holidays_prior_scale': 0.01}, {'changepoint_prior_scale': 0.1, 'seasonality_prior_scale': 2.0, 'holidays_prior_scale': 0.015}, {'changepoint_prior_scale': 0.1, 'seasonality_prior_scale': 2.0, 'holidays_prior_scale': 0.02}, {'changepoint_prior_scale': 0.1, 'seasonality_prior_scale': 5.0, 'holidays_prior_scale': 0.005}, {'changepoint_prior_scale': 0.1, 'seasonality_prior_scale': 5.0, 'holidays_prior_scale': 0.008}, {'changepoint_prior_scale': 0.1, 'seasonality_prior_scale': 5.0, 'holidays_prior_scale': 0.01}, {'changepoint_prior_scale': 0.1, 'seasonality_prior_scale': 5.0, 'holidays_prior_scale': 0.015}, {'changepoint_prior_scale': 0.1, 'seasonality_prior_scale': 5.0, 'holidays_prior_scale': 0.02}, {'changepoint_prior_scale': 0.1, 'seasonality_prior_scale': 8.0, 'holidays_prior_scale': 0.005}, {'changepoint_prior_scale': 0.1, 'seasonality_prior_scale': 8.0, 'holidays_prior_scale': 0.008}, {'changepoint_prior_scale': 0.1, 'seasonality_prior_scale': 8.0, 'holidays_prior_scale': 0.01}, {'changepoint_prior_scale': 0.1, 'seasonality_prior_scale': 8.0, 'holidays_prior_scale': 0.015}, {'changepoint_prior_scale': 0.1, 'seasonality_prior_scale': 8.0, 'holidays_prior_scale': 0.02}, {'changepoint_prior_scale': 0.1, 'seasonality_prior_scale': 10.0, 'holidays_prior_scale': 0.005}, {'changepoint_prior_scale': 0.1, 'seasonality_prior_scale': 10.0, 'holidays_prior_scale': 0.008}, {'changepoint_prior_scale': 0.1, 'seasonality_prior_scale': 10.0, 'holidays_prior_scale': 0.01}, {'changepoint_prior_scale': 0.1, 'seasonality_prior_scale': 10.0, 'holidays_prior_scale': 0.015}, {'changepoint_prior_scale': 0.1, 'seasonality_prior_scale': 10.0, 'holidays_prior_scale': 0.02}, {'changepoint_prior_scale': 0.1, 'seasonality_prior_scale': 13.0, 'holidays_prior_scale': 0.005}, {'changepoint_prior_scale': 0.1, 'seasonality_prior_scale': 13.0, 'holidays_prior_scale': 0.008}, {'changepoint_prior_scale': 0.1, 'seasonality_prior_scale': 13.0, 'holidays_prior_scale': 0.01}, {'changepoint_prior_scale': 0.1, 'seasonality_prior_scale': 13.0, 'holidays_prior_scale': 0.015}, {'changepoint_prior_scale': 0.1, 'seasonality_prior_scale': 13.0, 'holidays_prior_scale': 0.02}, {'changepoint_prior_scale': 0.15, 'seasonality_prior_scale': 2.0, 'holidays_prior_scale': 0.005}, {'changepoint_prior_scale': 0.15, 'seasonality_prior_scale': 2.0, 'holidays_prior_scale': 0.008}, {'changepoint_prior_scale': 0.15, 'seasonality_prior_scale': 2.0, 'holidays_prior_scale': 0.01}, {'changepoint_prior_scale': 0.15, 'seasonality_prior_scale': 2.0, 'holidays_prior_scale': 0.015}, {'changepoint_prior_scale': 0.15, 'seasonality_prior_scale': 2.0, 'holidays_prior_scale': 0.02}, {'changepoint_prior_scale': 0.15, 'seasonality_prior_scale': 5.0, 'holidays_prior_scale': 0.005}, {'changepoint_prior_scale': 0.15, 'seasonality_prior_scale': 5.0, 'holidays_prior_scale': 0.008}, {'changepoint_prior_scale': 0.15, 'seasonality_prior_scale': 5.0, 'holidays_prior_scale': 0.01}, {'changepoint_prior_scale': 0.15, 'seasonality_prior_scale': 5.0, 'holidays_prior_scale': 0.015}, {'changepoint_prior_scale': 0.15, 'seasonality_prior_scale': 5.0, 'holidays_prior_scale': 0.02}, {'changepoint_prior_scale': 0.15, 'seasonality_prior_scale': 8.0, 'holidays_prior_scale': 0.005}, {'changepoint_prior_scale': 0.15, 'seasonality_prior_scale': 8.0, 'holidays_prior_scale': 0.008}, {'changepoint_prior_scale': 0.15, 'seasonality_prior_scale': 8.0, 'holidays_prior_scale': 0.01}, {'changepoint_prior_scale': 0.15, 'seasonality_prior_scale': 8.0, 'holidays_prior_scale': 0.015}, {'changepoint_prior_scale': 0.15, 'seasonality_prior_scale': 8.0, 'holidays_prior_scale': 0.02}, {'changepoint_prior_scale': 0.15, 'seasonality_prior_scale': 10.0, 'holidays_prior_scale': 0.005}, {'changepoint_prior_scale': 0.15, 'seasonality_prior_scale': 10.0, 'holidays_prior_scale': 0.008}, {'changepoint_prior_scale': 0.15, 'seasonality_prior_scale': 10.0, 'holidays_prior_scale': 0.01}, {'changepoint_prior_scale': 0.15, 'seasonality_prior_scale': 10.0, 'holidays_prior_scale': 0.015}, {'changepoint_prior_scale': 0.15, 'seasonality_prior_scale': 10.0, 'holidays_prior_scale': 0.02}, {'changepoint_prior_scale': 0.15, 'seasonality_prior_scale': 13.0, 'holidays_prior_scale': 0.005}, {'changepoint_prior_scale': 0.15, 'seasonality_prior_scale': 13.0, 'holidays_prior_scale': 0.008}, {'changepoint_prior_scale': 0.15, 'seasonality_prior_scale': 13.0, 'holidays_prior_scale': 0.01}, {'changepoint_prior_scale': 0.15, 'seasonality_prior_scale': 13.0, 'holidays_prior_scale': 0.015}, {'changepoint_prior_scale': 0.15, 'seasonality_prior_scale': 13.0, 'holidays_prior_scale': 0.02}, {'changepoint_prior_scale': 0.2, 'seasonality_prior_scale': 2.0, 'holidays_prior_scale': 0.005}, {'changepoint_prior_scale': 0.2, 'seasonality_prior_scale': 2.0, 'holidays_prior_scale': 0.008}, {'changepoint_prior_scale': 0.2, 'seasonality_prior_scale': 2.0, 'holidays_prior_scale': 0.01}, {'changepoint_prior_scale': 0.2, 'seasonality_prior_scale': 2.0, 'holidays_prior_scale': 0.015}, {'changepoint_prior_scale': 0.2, 'seasonality_prior_scale': 2.0, 'holidays_prior_scale': 0.02}, {'changepoint_prior_scale': 0.2, 'seasonality_prior_scale': 5.0, 'holidays_prior_scale': 0.005}, {'changepoint_prior_scale': 0.2, 'seasonality_prior_scale': 5.0, 'holidays_prior_scale': 0.008}, {'changepoint_prior_scale': 0.2, 'seasonality_prior_scale': 5.0, 'holidays_prior_scale': 0.01}, {'changepoint_prior_scale': 0.2, 'seasonality_prior_scale': 5.0, 'holidays_prior_scale': 0.015}, {'changepoint_prior_scale': 0.2, 'seasonality_prior_scale': 5.0, 'holidays_prior_scale': 0.02}, {'changepoint_prior_scale': 0.2, 'seasonality_prior_scale': 8.0, 'holidays_prior_scale': 0.005}, {'changepoint_prior_scale': 0.2, 'seasonality_prior_scale': 8.0, 'holidays_prior_scale': 0.008}, {'changepoint_prior_scale': 0.2, 'seasonality_prior_scale': 8.0, 'holidays_prior_scale': 0.01}, {'changepoint_prior_scale': 0.2, 'seasonality_prior_scale': 8.0, 'holidays_prior_scale': 0.015}, {'changepoint_prior_scale': 0.2, 'seasonality_prior_scale': 8.0, 'holidays_prior_scale': 0.02}, {'changepoint_prior_scale': 0.2, 'seasonality_prior_scale': 10.0, 'holidays_prior_scale': 0.005}, {'changepoint_prior_scale': 0.2, 'seasonality_prior_scale': 10.0, 'holidays_prior_scale': 0.008}, {'changepoint_prior_scale': 0.2, 'seasonality_prior_scale': 10.0, 'holidays_prior_scale': 0.01}, {'changepoint_prior_scale': 0.2, 'seasonality_prior_scale': 10.0, 'holidays_prior_scale': 0.015}, {'changepoint_prior_scale': 0.2, 'seasonality_prior_scale': 10.0, 'holidays_prior_scale': 0.02}, {'changepoint_prior_scale': 0.2, 'seasonality_prior_scale': 13.0, 'holidays_prior_scale': 0.005}, {'changepoint_prior_scale': 0.2, 'seasonality_prior_scale': 13.0, 'holidays_prior_scale': 0.008}, {'changepoint_prior_scale': 0.2, 'seasonality_prior_scale': 13.0, 'holidays_prior_scale': 0.01}, {'changepoint_prior_scale': 0.2, 'seasonality_prior_scale': 13.0, 'holidays_prior_scale': 0.015}, {'changepoint_prior_scale': 0.2, 'seasonality_prior_scale': 13.0, 'holidays_prior_scale': 0.02}]\n"
     ]
    }
   ],
   "source": [
    "print(all_params)"
   ]
  },
  {
   "cell_type": "code",
   "execution_count": 5,
   "id": "b221b7cf",
   "metadata": {},
   "outputs": [
    {
     "name": "stdout",
     "output_type": "stream",
     "text": [
      "55.3030920949823\n"
     ]
    }
   ],
   "source": [
    "print(tuning_results[['rmse','mse','mae']].min().min())"
   ]
  },
  {
   "cell_type": "code",
   "execution_count": 6,
   "id": "aa1c06bf",
   "metadata": {},
   "outputs": [],
   "source": [
    "combined_row_value = []\n",
    "\n",
    "for ind in tuning_results.index:\n",
    "    sum_val = tuning_results['rmse'][ind] + tuning_results['mse'][ind] + tuning_results['mae'][ind]\n",
    "    combined_row_value.append(dict(index=ind, sum_val=sum_val))"
   ]
  },
  {
   "cell_type": "code",
   "execution_count": 7,
   "id": "676d9e1d",
   "metadata": {},
   "outputs": [
    {
     "name": "stdout",
     "output_type": "stream",
     "text": [
      "[{'index': 0, 'sum_val': 5605.758904827288}, {'index': 1, 'sum_val': 5605.758904827288}, {'index': 2, 'sum_val': 5605.758904827288}, {'index': 3, 'sum_val': 5605.758904827288}, {'index': 4, 'sum_val': 5605.758904827288}, {'index': 5, 'sum_val': 5707.287301229776}, {'index': 6, 'sum_val': 5707.287301229776}, {'index': 7, 'sum_val': 5707.287301229776}, {'index': 8, 'sum_val': 5707.287301229776}, {'index': 9, 'sum_val': 5707.287301229776}, {'index': 10, 'sum_val': 5631.107258726708}, {'index': 11, 'sum_val': 5631.107258726708}, {'index': 12, 'sum_val': 5631.107258726708}, {'index': 13, 'sum_val': 5631.107258726708}, {'index': 14, 'sum_val': 5631.107258726708}, {'index': 15, 'sum_val': 5672.206803119127}, {'index': 16, 'sum_val': 5672.206803119127}, {'index': 17, 'sum_val': 5672.206803119127}, {'index': 18, 'sum_val': 5672.206803119127}, {'index': 19, 'sum_val': 5672.206803119127}, {'index': 20, 'sum_val': 5924.160453682061}, {'index': 21, 'sum_val': 5924.160453682061}, {'index': 22, 'sum_val': 5924.160453682061}, {'index': 23, 'sum_val': 5924.160453682061}, {'index': 24, 'sum_val': 5924.160453682061}, {'index': 25, 'sum_val': 29787.32096989875}, {'index': 26, 'sum_val': 29787.32096989875}, {'index': 27, 'sum_val': 29787.32096989875}, {'index': 28, 'sum_val': 29787.32096989875}, {'index': 29, 'sum_val': 29787.32096989875}, {'index': 30, 'sum_val': 29877.022370920662}, {'index': 31, 'sum_val': 29877.022370920662}, {'index': 32, 'sum_val': 29877.022370920662}, {'index': 33, 'sum_val': 29877.022370920662}, {'index': 34, 'sum_val': 29877.022370920662}, {'index': 35, 'sum_val': 29853.08756872724}, {'index': 36, 'sum_val': 29853.08756872724}, {'index': 37, 'sum_val': 29853.08756872724}, {'index': 38, 'sum_val': 29853.08756872724}, {'index': 39, 'sum_val': 29853.08756872724}, {'index': 40, 'sum_val': 29919.738423139257}, {'index': 41, 'sum_val': 29919.738423139257}, {'index': 42, 'sum_val': 29919.738423139257}, {'index': 43, 'sum_val': 29919.738423139257}, {'index': 44, 'sum_val': 29919.738423139257}, {'index': 45, 'sum_val': 29735.93904950958}, {'index': 46, 'sum_val': 29735.93904950958}, {'index': 47, 'sum_val': 29735.93904950958}, {'index': 48, 'sum_val': 29735.93904950958}, {'index': 49, 'sum_val': 29735.93904950958}, {'index': 50, 'sum_val': 16103.38449888304}, {'index': 51, 'sum_val': 16103.38449888304}, {'index': 52, 'sum_val': 16103.38449888304}, {'index': 53, 'sum_val': 16103.38449888304}, {'index': 54, 'sum_val': 16103.38449888304}, {'index': 55, 'sum_val': 15800.196365537246}, {'index': 56, 'sum_val': 15800.196365537246}, {'index': 57, 'sum_val': 15800.196365537246}, {'index': 58, 'sum_val': 15800.196365537246}, {'index': 59, 'sum_val': 15800.196365537246}, {'index': 60, 'sum_val': 16305.927068110288}, {'index': 61, 'sum_val': 16305.927068110288}, {'index': 62, 'sum_val': 16305.927068110288}, {'index': 63, 'sum_val': 16305.927068110288}, {'index': 64, 'sum_val': 16305.927068110288}, {'index': 65, 'sum_val': 15427.92426446381}, {'index': 66, 'sum_val': 15427.92426446381}, {'index': 67, 'sum_val': 15427.92426446381}, {'index': 68, 'sum_val': 15427.92426446381}, {'index': 69, 'sum_val': 15427.92426446381}, {'index': 70, 'sum_val': 15662.701348811901}, {'index': 71, 'sum_val': 15662.701348811901}, {'index': 72, 'sum_val': 15662.701348811901}, {'index': 73, 'sum_val': 15662.701348811901}, {'index': 74, 'sum_val': 15662.701348811901}, {'index': 75, 'sum_val': 21981.68716763384}, {'index': 76, 'sum_val': 21981.68716763384}, {'index': 77, 'sum_val': 21981.68716763384}, {'index': 78, 'sum_val': 21981.68716763384}, {'index': 79, 'sum_val': 21981.68716763384}, {'index': 80, 'sum_val': 22473.89485399495}, {'index': 81, 'sum_val': 22473.89485399495}, {'index': 82, 'sum_val': 22473.89485399495}, {'index': 83, 'sum_val': 22473.89485399495}, {'index': 84, 'sum_val': 22473.89485399495}, {'index': 85, 'sum_val': 22688.699013622}, {'index': 86, 'sum_val': 22688.699013622}, {'index': 87, 'sum_val': 22688.699013622}, {'index': 88, 'sum_val': 22688.699013622}, {'index': 89, 'sum_val': 22688.699013622}, {'index': 90, 'sum_val': 21662.26180874201}, {'index': 91, 'sum_val': 21662.26180874201}, {'index': 92, 'sum_val': 21662.26180874201}, {'index': 93, 'sum_val': 21662.26180874201}, {'index': 94, 'sum_val': 21662.26180874201}, {'index': 95, 'sum_val': 21454.47726919586}, {'index': 96, 'sum_val': 21454.47726919586}, {'index': 97, 'sum_val': 21454.47726919586}, {'index': 98, 'sum_val': 21454.47726919586}, {'index': 99, 'sum_val': 21454.47726919586}, {'index': 100, 'sum_val': 25565.348979106922}, {'index': 101, 'sum_val': 25565.348979106922}, {'index': 102, 'sum_val': 25565.348979106922}, {'index': 103, 'sum_val': 25565.348979106922}, {'index': 104, 'sum_val': 25565.348979106922}, {'index': 105, 'sum_val': 25395.046050098423}, {'index': 106, 'sum_val': 25395.046050098423}, {'index': 107, 'sum_val': 25395.046050098423}, {'index': 108, 'sum_val': 25395.046050098423}, {'index': 109, 'sum_val': 25395.046050098423}, {'index': 110, 'sum_val': 25079.77684065334}, {'index': 111, 'sum_val': 25079.77684065334}, {'index': 112, 'sum_val': 25079.77684065334}, {'index': 113, 'sum_val': 25079.77684065334}, {'index': 114, 'sum_val': 25079.77684065334}, {'index': 115, 'sum_val': 25200.815143958087}, {'index': 116, 'sum_val': 25200.815143958087}, {'index': 117, 'sum_val': 25200.815143958087}, {'index': 118, 'sum_val': 25200.815143958087}, {'index': 119, 'sum_val': 25200.815143958087}, {'index': 120, 'sum_val': 25741.006202705878}, {'index': 121, 'sum_val': 25741.006202705878}, {'index': 122, 'sum_val': 25741.006202705878}, {'index': 123, 'sum_val': 25741.006202705878}, {'index': 124, 'sum_val': 25741.006202705878}]\n"
     ]
    }
   ],
   "source": [
    "print(combined_row_value)"
   ]
  },
  {
   "cell_type": "code",
   "execution_count": 8,
   "id": "a031ac53",
   "metadata": {},
   "outputs": [
    {
     "name": "stdout",
     "output_type": "stream",
     "text": [
      "{'index': 0, 'sum_val': 5605.758904827288}\n"
     ]
    }
   ],
   "source": [
    "print(min(combined_row_value, key=lambda x:x['sum_val']))\n"
   ]
  },
  {
   "cell_type": "code",
   "execution_count": 9,
   "id": "e1cd58b9",
   "metadata": {},
   "outputs": [
    {
     "name": "stdout",
     "output_type": "stream",
     "text": [
      "changepoint_prior_scale       0.050000\n",
      "seasonality_prior_scale       2.000000\n",
      "holidays_prior_scale          0.005000\n",
      "rmse                         74.003059\n",
      "mse                        5476.452754\n",
      "mae                          55.303092\n",
      "Name: 0, dtype: float64\n"
     ]
    }
   ],
   "source": [
    "print(tuning_results.loc[0])"
   ]
  },
  {
   "cell_type": "code",
   "execution_count": null,
   "id": "bf2b1a4d",
   "metadata": {},
   "outputs": [],
   "source": []
  },
  {
   "cell_type": "code",
   "execution_count": null,
   "id": "cbc5280a",
   "metadata": {},
   "outputs": [],
   "source": []
  }
 ],
 "metadata": {
  "kernelspec": {
   "display_name": "Python 3 (ipykernel)",
   "language": "python",
   "name": "python3"
  },
  "language_info": {
   "codemirror_mode": {
    "name": "ipython",
    "version": 3
   },
   "file_extension": ".py",
   "mimetype": "text/x-python",
   "name": "python",
   "nbconvert_exporter": "python",
   "pygments_lexer": "ipython3",
   "version": "3.9.12"
  }
 },
 "nbformat": 4,
 "nbformat_minor": 5
}
